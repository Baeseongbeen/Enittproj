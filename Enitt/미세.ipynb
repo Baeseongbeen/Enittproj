{
 "metadata": {
  "language_info": {
   "codemirror_mode": {
    "name": "ipython",
    "version": 3
   },
   "file_extension": ".py",
   "mimetype": "text/x-python",
   "name": "python",
   "nbconvert_exporter": "python",
   "pygments_lexer": "ipython3",
   "version": "3.7.6-final"
  },
  "orig_nbformat": 2,
  "kernelspec": {
   "name": "python3",
   "display_name": "Python 3"
  }
 },
 "nbformat": 4,
 "nbformat_minor": 2,
 "cells": [
  {
   "cell_type": "code",
   "execution_count": 2,
   "metadata": {},
   "outputs": [],
   "source": [
    "import pandas as pd \n",
    "import numpy as np "
   ]
  },
  {
   "cell_type": "code",
   "execution_count": 2,
   "metadata": {},
   "outputs": [
    {
     "output_type": "execute_result",
     "data": {
      "text/plain": [
       "array(['서울 중구', '서울 용산구', '서울 종로구', '서울 광진구', '서울 성동구', '서울 중랑구',\n",
       "       '서울 동대문구', '서울 성북구', '서울 도봉구', '서울 은평구', '서울 서대문구', '서울 마포구',\n",
       "       '서울 강서구', '서울 구로구', '서울 영등포구', '서울 동작구', '서울 관악구', '서울 강남구',\n",
       "       '서울 서초구', '서울 송파구', '서울 강동구', '서울 금천구', '서울 강북구', '서울 양천구',\n",
       "       '서울 노원구', '경기 수원시', '경기 성남시', '경기 의정부시', '경기 안양시', '경기 광명시',\n",
       "       '경기 안산시', '경기 과천시', '경기 구리시', '경기 의왕시', '경기 시흥시', '경기 남양주시',\n",
       "       '경기 평택시', '경기 파주시', '경기 고양시', '경기 광주시', '경기 용인시', '경기 이천시',\n",
       "       '경기 포천시', '경기 김포시', '경기 군포시', '경기 오산시', '경기 하남시', '경기 화성시',\n",
       "       '경기 양주시', '경기 동두천시', '경기 안성시', '경기 여주시', '경기 연천군', '경기 가평군',\n",
       "       '경기 양평군', '강원 춘천시', '강원 양구군', '부산 중구', '부산 동구', '부산 영도구',\n",
       "       '부산 부산진구', '부산 동래구', '부산 남구', '부산 사상구', '부산 북구', '부산 금정구',\n",
       "       '부산 해운대구', '부산 사하구', '부산 강서구', '부산 연제구', '부산 기장군', '부산 수영구',\n",
       "       '부산 서구', '경남 창원시', '울산 동구', '울산 중구', '울산 남구', '울산 울주군', '울산 북구',\n",
       "       '경남 진주시', '경남 하동군', '경남 김해시', '경남 거제시', '경남 사천시', '경남 양산시',\n",
       "       '경남 밀양시', '경남 통영시', '경남 고성군', '경남 거창군', '경남 함안군', '경남 함양군',\n",
       "       '경남 남해군', '광주 동구', '광주 서구', '광주 북구', '광주 광산구', '광주 남구', '전북 전주시',\n",
       "       '전남 목포시', '전남 여수시', '전남 순천시', '전남 나주시', '전남 담양군', '전남 장성군',\n",
       "       '전남 광양시', '전남 해남군', '전남 영암군', '전남 화순군', '전남 영광군', '전남 장흥군',\n",
       "       '전남 진도군', '전남 완도군', '전남 함평군', '제주 제주시', '제주 서귀포시', '대구 중구',\n",
       "       '대구 수성구', '대구 동구', '대구 서구', '대구 남구', '대구 북구', '대구 달서구', '대구 달성군',\n",
       "       '경북 포항시', '경북 경주시', '경북 김천시', '경북 안동시', '경북 구미시', '경북 영주시',\n",
       "       '경북 경산시', '경북 상주시', '경북 칠곡군', '경북 영덕군', '경북 영천시', '경북 의성군',\n",
       "       '경북 울릉군', '대전 대덕구', '대전 중구', '대전 유성구', '대전 동구', '대전 서구', '충북 청주시',\n",
       "       '충남 천안시', '충남 공주시', '충남 부여군', '충남 서산시', '충남 당진시', '충남 아산시',\n",
       "       '충남 논산시', '충남 태안군', '충남 예산군', '충남 보령시', '충남 홍성군', '충남 금산군',\n",
       "       '충남 청양군', '충남 계룡시', '세종 세종시', '강원 원주시', '강원 강릉시', '강원 동해시',\n",
       "       '강원 삼척시', '강원 평창군', '강원 정선군', '강원 고성군', '강원 횡성군', '강원 양양군',\n",
       "       '강원 철원군', '충북 충주시', '충북 제천시', '충북 단양군', '충북 괴산군', '충북 진천군',\n",
       "       '충북 음성군', '충북 영동군', '충북 증평군', '충북 보은군', '충북 옥천군', '전북 군산시',\n",
       "       '전북 익산시', '전북 정읍시', '전북 남원시', '전북 고창군', '전북 부안군', '전북 김제시',\n",
       "       '전북 완주군', '전북 진안군', '전북 임실군', '전북 무주군', '전북 순창군', '전북 장수군',\n",
       "       '충남 서천군', '인천 중구', '인천 동구', '인천 남동구', '인천 미추홀구', '인천 부평구', '인천 서구',\n",
       "       '인천 계양구', '인천 강화군', '인천 연수구', '경기 부천시', '인천 옹진군'], dtype=object)"
      ]
     },
     "metadata": {},
     "execution_count": 2
    }
   ],
   "source": [
    "data1 = pd.read_excel(\"./미세먼지/2018년 4분기.xlsx\")\n",
    "data1[\"지역\"].unique()"
   ]
  },
  {
   "cell_type": "code",
   "execution_count": 31,
   "metadata": {},
   "outputs": [
    {
     "output_type": "execute_result",
     "data": {
      "text/plain": [
       "array(['서울 서초구', '서울 노원구', '경기 시흥시', '울산 북구', '경남 거제시', '경남 밀양시',\n",
       "       '경남 거창군', '충북 청주시', '강원 강릉시', '충북 충주시', '전북 부안군'], dtype=object)"
      ]
     },
     "metadata": {},
     "execution_count": 31
    }
   ],
   "source": [
    "data_select = data1[\n",
    "    (data1[\"지역\"] == \"서울 서초구\") |   \n",
    "    (data1[\"지역\"] == \"전북 부안군\") | \n",
    "    (data1[\"지역\"] == \"경남 밀양시\") | \n",
    "    (data1[\"지역\"] == \"서울 노원구\") | \n",
    "    (data1[\"지역\"] == \"경기 시흥시\") | \n",
    "    (data1[\"지역\"] == \"경남 거창군\") | \n",
    "    (data1[\"지역\"] == \"충북 충주시\") | \n",
    "    (data1[\"지역\"] == \"울산 북구\") | \n",
    "    (data1[\"지역\"] == \"경남 거제시\") | \n",
    "    (data1[\"지역\"] == \"강원 강릉시\") | \n",
    "    (data1[\"지역\"] == \"충북 청주시\")\n",
    "    ]\n",
    "\n",
    "data_select[\"지역\"].unique()"
   ]
  },
  {
   "cell_type": "code",
   "execution_count": 3,
   "metadata": {
    "tags": []
   },
   "outputs": [],
   "source": [
    "def make_dummy_date(df):\n",
    "    dummy_date = []\n",
    "    for i in df[\"측정일시\"]:\n",
    "        to_str = str(i)\n",
    "        to_int = int(to_str[:8])\n",
    "\n",
    "        dummy_date.append(to_int)\n",
    "\n",
    "    df[\"dummy_date\"] = dummy_date\n",
    "\n",
    "    return df"
   ]
  },
  {
   "cell_type": "code",
   "execution_count": 33,
   "metadata": {},
   "outputs": [
    {
     "output_type": "execute_result",
     "data": {
      "text/plain": [
       "                 PM10\n",
       "dummy_date           \n",
       "20181001    20.507018\n",
       "20181002    28.618962\n",
       "20181003    35.919580\n",
       "20181004    30.614815\n",
       "20181005    13.415789"
      ],
      "text/html": "<div>\n<style scoped>\n    .dataframe tbody tr th:only-of-type {\n        vertical-align: middle;\n    }\n\n    .dataframe tbody tr th {\n        vertical-align: top;\n    }\n\n    .dataframe thead th {\n        text-align: right;\n    }\n</style>\n<table border=\"1\" class=\"dataframe\">\n  <thead>\n    <tr style=\"text-align: right;\">\n      <th></th>\n      <th>PM10</th>\n    </tr>\n    <tr>\n      <th>dummy_date</th>\n      <th></th>\n    </tr>\n  </thead>\n  <tbody>\n    <tr>\n      <th>20181001</th>\n      <td>20.507018</td>\n    </tr>\n    <tr>\n      <th>20181002</th>\n      <td>28.618962</td>\n    </tr>\n    <tr>\n      <th>20181003</th>\n      <td>35.919580</td>\n    </tr>\n    <tr>\n      <th>20181004</th>\n      <td>30.614815</td>\n    </tr>\n    <tr>\n      <th>20181005</th>\n      <td>13.415789</td>\n    </tr>\n  </tbody>\n</table>\n</div>"
     },
     "metadata": {},
     "execution_count": 33
    }
   ],
   "source": [
    "\n",
    "data1_select = make_dummy_date(data_select)\n",
    "\n",
    "data1_select_mean = data1_select.groupby(\"dummy_date\").mean()\n",
    "data1_select_mean_need = data1_select_mean[[\"PM10\"]]\n",
    "\n",
    "data1_select_mean_need.head(5)"
   ]
  },
  {
   "cell_type": "code",
   "execution_count": 34,
   "metadata": {},
   "outputs": [
    {
     "output_type": "execute_result",
     "data": {
      "text/plain": [
       "            지역       망   측정소코드 측정소명        측정일시     SO2   CO     O3     NO2  \\\n",
       "0        서울 중구    도시대기  111121   중구  2019010101  0.0030  0.7  0.003  0.0540   \n",
       "1        서울 중구    도시대기  111121   중구  2019010102  0.0030  0.8  0.002  0.0560   \n",
       "2        서울 중구    도시대기  111121   중구  2019010103  0.0030  0.9  0.002  0.0570   \n",
       "3        서울 중구    도시대기  111121   중구  2019010104  0.0030  0.8  0.002  0.0540   \n",
       "4        서울 중구    도시대기  111121   중구  2019010105  0.0030  0.8  0.002  0.0480   \n",
       "...        ...     ...     ...  ...         ...     ...  ...    ...     ...   \n",
       "315971  인천 옹진군  국가배경농도  831492  백령도  2019013120  0.0022  0.3  0.036  0.0016   \n",
       "315972  인천 옹진군  국가배경농도  831492  백령도  2019013121  0.0024  0.3  0.035  0.0018   \n",
       "315973  인천 옹진군  국가배경농도  831492  백령도  2019013122  0.0024  0.2  0.035  0.0016   \n",
       "315974  인천 옹진군  국가배경농도  831492  백령도  2019013123  0.0024  0.2  0.034  0.0018   \n",
       "315975  인천 옹진군  국가배경농도  831492  백령도  2019013124  0.0025  0.2  0.034  0.0018   \n",
       "\n",
       "        PM10  PM25              주소  \n",
       "0       39.0  24.0   서울 중구 덕수궁길 15  \n",
       "1       38.0  27.0   서울 중구 덕수궁길 15  \n",
       "2       42.0  28.0   서울 중구 덕수궁길 15  \n",
       "3       42.0  31.0   서울 중구 덕수궁길 15  \n",
       "4       49.0  33.0   서울 중구 덕수궁길 15  \n",
       "...      ...   ...             ...  \n",
       "315971  31.0   8.0  인천 옹진군 백령면 연화리  \n",
       "315972  25.0   7.0  인천 옹진군 백령면 연화리  \n",
       "315973  20.0   6.0  인천 옹진군 백령면 연화리  \n",
       "315974  21.0   4.0  인천 옹진군 백령면 연화리  \n",
       "315975  17.0   5.0  인천 옹진군 백령면 연화리  \n",
       "\n",
       "[315976 rows x 12 columns]"
      ],
      "text/html": "<div>\n<style scoped>\n    .dataframe tbody tr th:only-of-type {\n        vertical-align: middle;\n    }\n\n    .dataframe tbody tr th {\n        vertical-align: top;\n    }\n\n    .dataframe thead th {\n        text-align: right;\n    }\n</style>\n<table border=\"1\" class=\"dataframe\">\n  <thead>\n    <tr style=\"text-align: right;\">\n      <th></th>\n      <th>지역</th>\n      <th>망</th>\n      <th>측정소코드</th>\n      <th>측정소명</th>\n      <th>측정일시</th>\n      <th>SO2</th>\n      <th>CO</th>\n      <th>O3</th>\n      <th>NO2</th>\n      <th>PM10</th>\n      <th>PM25</th>\n      <th>주소</th>\n    </tr>\n  </thead>\n  <tbody>\n    <tr>\n      <th>0</th>\n      <td>서울 중구</td>\n      <td>도시대기</td>\n      <td>111121</td>\n      <td>중구</td>\n      <td>2019010101</td>\n      <td>0.0030</td>\n      <td>0.7</td>\n      <td>0.003</td>\n      <td>0.0540</td>\n      <td>39.0</td>\n      <td>24.0</td>\n      <td>서울 중구 덕수궁길 15</td>\n    </tr>\n    <tr>\n      <th>1</th>\n      <td>서울 중구</td>\n      <td>도시대기</td>\n      <td>111121</td>\n      <td>중구</td>\n      <td>2019010102</td>\n      <td>0.0030</td>\n      <td>0.8</td>\n      <td>0.002</td>\n      <td>0.0560</td>\n      <td>38.0</td>\n      <td>27.0</td>\n      <td>서울 중구 덕수궁길 15</td>\n    </tr>\n    <tr>\n      <th>2</th>\n      <td>서울 중구</td>\n      <td>도시대기</td>\n      <td>111121</td>\n      <td>중구</td>\n      <td>2019010103</td>\n      <td>0.0030</td>\n      <td>0.9</td>\n      <td>0.002</td>\n      <td>0.0570</td>\n      <td>42.0</td>\n      <td>28.0</td>\n      <td>서울 중구 덕수궁길 15</td>\n    </tr>\n    <tr>\n      <th>3</th>\n      <td>서울 중구</td>\n      <td>도시대기</td>\n      <td>111121</td>\n      <td>중구</td>\n      <td>2019010104</td>\n      <td>0.0030</td>\n      <td>0.8</td>\n      <td>0.002</td>\n      <td>0.0540</td>\n      <td>42.0</td>\n      <td>31.0</td>\n      <td>서울 중구 덕수궁길 15</td>\n    </tr>\n    <tr>\n      <th>4</th>\n      <td>서울 중구</td>\n      <td>도시대기</td>\n      <td>111121</td>\n      <td>중구</td>\n      <td>2019010105</td>\n      <td>0.0030</td>\n      <td>0.8</td>\n      <td>0.002</td>\n      <td>0.0480</td>\n      <td>49.0</td>\n      <td>33.0</td>\n      <td>서울 중구 덕수궁길 15</td>\n    </tr>\n    <tr>\n      <th>...</th>\n      <td>...</td>\n      <td>...</td>\n      <td>...</td>\n      <td>...</td>\n      <td>...</td>\n      <td>...</td>\n      <td>...</td>\n      <td>...</td>\n      <td>...</td>\n      <td>...</td>\n      <td>...</td>\n      <td>...</td>\n    </tr>\n    <tr>\n      <th>315971</th>\n      <td>인천 옹진군</td>\n      <td>국가배경농도</td>\n      <td>831492</td>\n      <td>백령도</td>\n      <td>2019013120</td>\n      <td>0.0022</td>\n      <td>0.3</td>\n      <td>0.036</td>\n      <td>0.0016</td>\n      <td>31.0</td>\n      <td>8.0</td>\n      <td>인천 옹진군 백령면 연화리</td>\n    </tr>\n    <tr>\n      <th>315972</th>\n      <td>인천 옹진군</td>\n      <td>국가배경농도</td>\n      <td>831492</td>\n      <td>백령도</td>\n      <td>2019013121</td>\n      <td>0.0024</td>\n      <td>0.3</td>\n      <td>0.035</td>\n      <td>0.0018</td>\n      <td>25.0</td>\n      <td>7.0</td>\n      <td>인천 옹진군 백령면 연화리</td>\n    </tr>\n    <tr>\n      <th>315973</th>\n      <td>인천 옹진군</td>\n      <td>국가배경농도</td>\n      <td>831492</td>\n      <td>백령도</td>\n      <td>2019013122</td>\n      <td>0.0024</td>\n      <td>0.2</td>\n      <td>0.035</td>\n      <td>0.0016</td>\n      <td>20.0</td>\n      <td>6.0</td>\n      <td>인천 옹진군 백령면 연화리</td>\n    </tr>\n    <tr>\n      <th>315974</th>\n      <td>인천 옹진군</td>\n      <td>국가배경농도</td>\n      <td>831492</td>\n      <td>백령도</td>\n      <td>2019013123</td>\n      <td>0.0024</td>\n      <td>0.2</td>\n      <td>0.034</td>\n      <td>0.0018</td>\n      <td>21.0</td>\n      <td>4.0</td>\n      <td>인천 옹진군 백령면 연화리</td>\n    </tr>\n    <tr>\n      <th>315975</th>\n      <td>인천 옹진군</td>\n      <td>국가배경농도</td>\n      <td>831492</td>\n      <td>백령도</td>\n      <td>2019013124</td>\n      <td>0.0025</td>\n      <td>0.2</td>\n      <td>0.034</td>\n      <td>0.0018</td>\n      <td>17.0</td>\n      <td>5.0</td>\n      <td>인천 옹진군 백령면 연화리</td>\n    </tr>\n  </tbody>\n</table>\n<p>315976 rows × 12 columns</p>\n</div>"
     },
     "metadata": {},
     "execution_count": 34
    }
   ],
   "source": [
    "data2 = pd.read_excel(\"./미세먼지/2019년 1월.xlsx\")\n",
    "data2"
   ]
  },
  {
   "cell_type": "code",
   "execution_count": 4,
   "metadata": {},
   "outputs": [],
   "source": [
    "def need_data_select(data1):\n",
    "    df = data1[\n",
    "    (data1[\"지역\"] == \"서울 서초구\") |   \n",
    "    (data1[\"지역\"] == \"전북 부안군\") | \n",
    "    (data1[\"지역\"] == \"경남 밀양시\") | \n",
    "    (data1[\"지역\"] == \"서울 노원구\") | \n",
    "    (data1[\"지역\"] == \"경기 시흥시\") | \n",
    "    (data1[\"지역\"] == \"경남 거창군\") | \n",
    "    (data1[\"지역\"] == \"충북 충주시\") | \n",
    "    (data1[\"지역\"] == \"울산 북구\") | \n",
    "    (data1[\"지역\"] == \"경남 거제시\") | \n",
    "    (data1[\"지역\"] == \"강원 강릉시\") | \n",
    "    (data1[\"지역\"] == \"충북 청주시\")\n",
    "    ]\n",
    "\n",
    "    return df\n",
    "\n"
   ]
  },
  {
   "cell_type": "code",
   "execution_count": 5,
   "metadata": {},
   "outputs": [],
   "source": [
    "def mean_need(df):\n",
    "\n",
    "    df = make_dummy_date(need_data_select(df))\n",
    "    df = df.groupby([\"dummy_date\", \"지역\"]).mean().reset_index()\n",
    "    df = df[[\"dummy_date\",\"지역\",\"PM10\"]]\n",
    "\n",
    "    return df\n",
    "\n",
    "\n"
   ]
  },
  {
   "cell_type": "code",
   "execution_count": 37,
   "metadata": {},
   "outputs": [
    {
     "output_type": "execute_result",
     "data": {
      "text/plain": [
       "                 PM10\n",
       "dummy_date           \n",
       "20181001    20.507018\n",
       "20181002    28.618962\n",
       "20181003    35.919580\n",
       "20181004    30.614815\n",
       "20181005    13.415789\n",
       "...               ...\n",
       "20181227    26.463100\n",
       "20181228    34.875465\n",
       "20181229    39.023593\n",
       "20181230    31.437158\n",
       "20181231    46.968577\n",
       "\n",
       "[92 rows x 1 columns]"
      ],
      "text/html": "<div>\n<style scoped>\n    .dataframe tbody tr th:only-of-type {\n        vertical-align: middle;\n    }\n\n    .dataframe tbody tr th {\n        vertical-align: top;\n    }\n\n    .dataframe thead th {\n        text-align: right;\n    }\n</style>\n<table border=\"1\" class=\"dataframe\">\n  <thead>\n    <tr style=\"text-align: right;\">\n      <th></th>\n      <th>PM10</th>\n    </tr>\n    <tr>\n      <th>dummy_date</th>\n      <th></th>\n    </tr>\n  </thead>\n  <tbody>\n    <tr>\n      <th>20181001</th>\n      <td>20.507018</td>\n    </tr>\n    <tr>\n      <th>20181002</th>\n      <td>28.618962</td>\n    </tr>\n    <tr>\n      <th>20181003</th>\n      <td>35.919580</td>\n    </tr>\n    <tr>\n      <th>20181004</th>\n      <td>30.614815</td>\n    </tr>\n    <tr>\n      <th>20181005</th>\n      <td>13.415789</td>\n    </tr>\n    <tr>\n      <th>...</th>\n      <td>...</td>\n    </tr>\n    <tr>\n      <th>20181227</th>\n      <td>26.463100</td>\n    </tr>\n    <tr>\n      <th>20181228</th>\n      <td>34.875465</td>\n    </tr>\n    <tr>\n      <th>20181229</th>\n      <td>39.023593</td>\n    </tr>\n    <tr>\n      <th>20181230</th>\n      <td>31.437158</td>\n    </tr>\n    <tr>\n      <th>20181231</th>\n      <td>46.968577</td>\n    </tr>\n  </tbody>\n</table>\n<p>92 rows × 1 columns</p>\n</div>"
     },
     "metadata": {},
     "execution_count": 37
    }
   ],
   "source": [
    "data1_select_mean_need"
   ]
  },
  {
   "cell_type": "code",
   "execution_count": 38,
   "metadata": {},
   "outputs": [],
   "source": [
    "data3 = pd.read_excel(\"./미세먼지/2019년 2월.xlsx\")\n",
    "\n",
    "# data2_select = need_data_select(data2)\n",
    "# data2_select = make_dummy_date(need_data_select(data3))\n",
    "# data3_select_mean = make_dummy_date(need_data_select(data3)).groupby(\"dummy_date\").mean()\n",
    "# data3_select_mean_need = data3_select_mean[[\"PM10\"]]\n",
    "\n",
    "# data3_select_mean_need.head(5)"
   ]
  },
  {
   "cell_type": "code",
   "execution_count": 10,
   "metadata": {},
   "outputs": [
    {
     "output_type": "execute_result",
     "data": {
      "text/plain": [
       "array(['강원 강릉시', '경기 시흥시', '경남 거제시', '경남 거창군', '경남 밀양시', '서울 노원구',\n",
       "       '서울 서초구', '울산 북구', '전북 부안군', '충북 청주시', '충북 충주시'], dtype=object)"
      ]
     },
     "metadata": {},
     "execution_count": 10
    }
   ],
   "source": [
    "# data4 = pd.read_excel(\"./미세먼지/2019년 3월.xlsx\")\n",
    "\n",
    "# data2_select = need_data_select(data2)\n",
    "# data2_select = make_dummy_date(need_data_select(data3))\n",
    "data4_select_mean = mean_need(need_data_select(data4))\n",
    "data4_select_mean_need = data4_select_mean[[\"PM10\"]]\n",
    "\n",
    "# data4_select_mean_need[\"지역\"].unique()\n",
    "data4_select_mean[\"지역\"].unique()"
   ]
  },
  {
   "cell_type": "code",
   "execution_count": null,
   "metadata": {},
   "outputs": [],
   "source": [
    "data5 = pd.read_excel(\"./미세먼지/2019년 4월.xlsx\")\n",
    "\n",
    "# data2_select = need_data_select(data2)\n",
    "# data2_select = make_dummy_date(need_data_select(data3))\n",
    "data5_select_mean = make_dummy_date(need_data_select(data5)).groupby(\"dummy_date\").mean()\n",
    "data5_select_mean_need = data5_select_mean[[\"PM10\"]]\n",
    "\n",
    "data5_select_mean_need[\"지역\"].unique()"
   ]
  },
  {
   "cell_type": "code",
   "execution_count": null,
   "metadata": {},
   "outputs": [],
   "source": [
    "data6 = pd.read_excel(\"./미세먼지/2019년 5월.xlsx\")\n",
    "\n",
    "# data2_select = need_data_select(data2)\n",
    "# data2_select = make_dummy_date(need_data_select(data3))\n",
    "data6_select_mean = make_dummy_date(need_data_select(data6)).groupby(\"dummy_date\").mean()\n",
    "data6_select_mean_need = data6_select_mean[[\"PM10\"]]\n",
    "\n",
    "data6_select_mean_need[\"지역\"].unique()"
   ]
  },
  {
   "cell_type": "code",
   "execution_count": null,
   "metadata": {},
   "outputs": [],
   "source": [
    "data7 = pd.read_excel(\"./미세먼지/2019년 6월.xlsx\")\n",
    "\n",
    "# data2_select = need_data_select(data2)\n",
    "# data2_select = make_dummy_date(need_data_select(data3))\n",
    "data7_select_mean = make_dummy_date(need_data_select(data7)).groupby(\"dummy_date\").mean()\n",
    "data7_select_mean_need = data7_select_mean[[\"PM10\"]]\n",
    "\n",
    "data7_select_mean_need[\"지역\"].unique()"
   ]
  },
  {
   "cell_type": "code",
   "execution_count": null,
   "metadata": {},
   "outputs": [],
   "source": [
    "data8 = pd.read_excel(\"./미세먼지/2019년 7월.xlsx\")\n",
    "\n",
    "# data2_select = need_data_select(data2)\n",
    "# data2_select = make_dummy_date(need_data_select(data3))\n",
    "data8_select_mean = make_dummy_date(need_data_select(data8)).groupby(\"dummy_date\").mean()\n",
    "data8_select_mean_need = data8_select_mean[[\"PM10\"]]\n",
    "\n",
    "data8_select_mean_need[\"지역\"].unique()"
   ]
  },
  {
   "cell_type": "code",
   "execution_count": null,
   "metadata": {},
   "outputs": [],
   "source": [
    "data9 = pd.read_excel(\"./미세먼지/2019년 8월.xlsx\")\n",
    "\n",
    "# data2_select = need_data_select(data2)\n",
    "# data2_select = make_dummy_date(need_data_select(data3))\n",
    "# data8_select_mean = make_dummy_date(need_data_select(data8)).groupby(\"dummy_date\").mean()\n",
    "data9_select_mean_need = make_dummy_date(need_data_select(data9)).groupby(\"dummy_date\").mean()[[\"PM10\"]]\n",
    "\n",
    "data9_select_mean_need[\"지역\"].unique()"
   ]
  },
  {
   "cell_type": "code",
   "execution_count": null,
   "metadata": {},
   "outputs": [],
   "source": [
    "data10 = pd.read_excel(\"./미세먼지/2019년 9월.xlsx\")\n",
    "\n",
    "# data2_select = need_data_select(data2)\n",
    "# data2_select = make_dummy_date(need_data_select(data3))\n",
    "# data8_select_mean = make_dummy_date(need_data_select(data8)).groupby(\"dummy_date\").mean()\n",
    "data10_select_mean_need = make_dummy_date(need_data_select(data10)).groupby(\"dummy_date\").mean()[[\"PM10\"]]\n",
    "\n",
    "data10_select_mean_need[\"지역\"].unique()"
   ]
  },
  {
   "cell_type": "code",
   "execution_count": null,
   "metadata": {},
   "outputs": [],
   "source": [
    "data11 = pd.read_excel(\"./미세먼지/2019년 10월.xlsx\")\n",
    "\n",
    "# data2_select = need_data_select(data2)\n",
    "# data2_select = make_dummy_date(need_data_select(data3))\n",
    "# data8_select_mean = make_dummy_date(need_data_select(data8)).groupby(\"dummy_date\").mean()\n",
    "data11_select_mean_need = make_dummy_date(need_data_select(data11)).groupby(\"dummy_date\").mean()[[\"PM10\"]]\n",
    "\n",
    "data11_select_mean_need[\"지역\"].unique()"
   ]
  },
  {
   "cell_type": "code",
   "execution_count": null,
   "metadata": {},
   "outputs": [],
   "source": [
    "data12 = pd.read_excel(\"./미세먼지/2019년 11월.xlsx\")\n",
    "\n",
    "# data2_select = need_data_select(data2)\n",
    "# data2_select = make_dummy_date(need_data_select(data3))\n",
    "# data8_select_mean = make_dummy_date(need_data_select(data8)).groupby(\"dummy_date\").mean()\n",
    "data12_select_mean_need = make_dummy_date(need_data_select(data12)).groupby(\"dummy_date\").mean()[[\"PM10\"]]\n",
    "\n",
    "data12_select_mean_need[\"지역\"].unique()"
   ]
  },
  {
   "cell_type": "code",
   "execution_count": null,
   "metadata": {},
   "outputs": [],
   "source": [
    "data13 = pd.read_excel(\"./미세먼지/2019년 12월.xlsx\")\n",
    "\n",
    "# data2_select = need_data_select(data2)\n",
    "# data2_select = make_dummy_date(need_data_select(data3))\n",
    "# data8_select_mean = make_dummy_date(need_data_select(data8)).groupby(\"dummy_date\").mean()\n",
    "data13_select_mean_need = make_dummy_date(need_data_select(data13)).groupby(\"dummy_date\").mean()[[\"PM10\"]]\n",
    "\n",
    "data13_select_mean_need[\"지역\"].unique()"
   ]
  },
  {
   "cell_type": "code",
   "execution_count": null,
   "metadata": {},
   "outputs": [],
   "source": [
    "data14 = pd.read_excel(\"./미세먼지/2020년 1월.xlsx\")\n",
    "data14"
   ]
  },
  {
   "cell_type": "code",
   "execution_count": null,
   "metadata": {},
   "outputs": [],
   "source": [
    "data14_select_mean_need = make_dummy_date(need_data_select(data14)).groupby(\"dummy_date\").mean()[[\"PM10\"]]\n",
    "data14_select_mean_need[\"지역\"].unique()"
   ]
  },
  {
   "cell_type": "code",
   "execution_count": null,
   "metadata": {},
   "outputs": [],
   "source": [
    "data15 = pd.read_excel(\"./미세먼지/2020년 2월.xlsx\")\n",
    "data15_select_mean_need = make_dummy_date(need_data_select(data15)).groupby(\"dummy_date\").mean()[[\"PM10\"]]\n",
    "data15_select_mean_need[\"지역\"].unique()"
   ]
  },
  {
   "cell_type": "code",
   "execution_count": null,
   "metadata": {},
   "outputs": [],
   "source": [
    "data16 = pd.read_excel(\"./미세먼지/2020년 3월.xlsx\")\n",
    "data16_select_mean_need = make_dummy_date(need_data_select(data16)).groupby(\"dummy_date\").mean()[[\"PM10\"]]\n",
    "data16_select_mean_need[\"지역\"].unique()"
   ]
  },
  {
   "cell_type": "code",
   "execution_count": null,
   "metadata": {},
   "outputs": [],
   "source": [
    "data17 = pd.read_excel(\"./미세먼지/2020년 4월.xlsx\")\n",
    "data17_select_mean_need = make_dummy_date(need_data_select(data17)).groupby(\"dummy_date\").mean()[[\"PM10\"]]\n",
    "data17_select_mean_need[\"지역\"].unique()"
   ]
  },
  {
   "cell_type": "code",
   "execution_count": null,
   "metadata": {},
   "outputs": [],
   "source": [
    "data18 = pd.read_excel(\"./미세먼지/2020년 5월.xlsx\")\n",
    "data18_select_mean_need = make_dummy_date(need_data_select(data18)).groupby(\"dummy_date\").mean()[[\"PM10\"]]\n",
    "data18_select_mean_need[\"지역\"].unique()"
   ]
  },
  {
   "cell_type": "code",
   "execution_count": null,
   "metadata": {},
   "outputs": [],
   "source": [
    "data19 = pd.read_excel(\"./미세먼지/2020년 6월.xlsx\")\n",
    "data19_select_mean_need = make_dummy_date(need_data_select(data19)).groupby(\"dummy_date\").mean()[[\"PM10\"]]\n",
    "data19_select_mean_need[\"지역\"].unique()"
   ]
  },
  {
   "cell_type": "code",
   "execution_count": null,
   "metadata": {},
   "outputs": [],
   "source": [
    "all_dust = pd.concat([\n",
    "    data1_select_mean_need,\n",
    "    data2_select_mean_need,\n",
    "    data3_select_mean_need,\n",
    "    data4_select_mean_need,\n",
    "    data5_select_mean_need,\n",
    "    data6_select_mean_need,\n",
    "    data7_select_mean_need,\n",
    "    data8_select_mean_need,\n",
    "    data9_select_mean_need,\n",
    "    data10_select_mean_need,\n",
    "    data11_select_mean_need,\n",
    "    data12_select_mean_need,\n",
    "    data13_select_mean_need,\n",
    "    data14_select_mean_need,\n",
    "    data15_select_mean_need,\n",
    "    data16_select_mean_need,\n",
    "    data17_select_mean_need,\n",
    "    data18_select_mean_need,\n",
    "    data19_select_mean_need\n",
    "    ])"
   ]
  },
  {
   "cell_type": "code",
   "execution_count": null,
   "metadata": {},
   "outputs": [],
   "source": [
    "all_dust.to_csv(\"dust_csv.csv\", encoding=\"utf-8\")"
   ]
  },
  {
   "cell_type": "code",
   "execution_count": null,
   "metadata": {},
   "outputs": [],
   "source": [
    "solar_data = pd.read_csv(\"./마지막데이터/total_enitt_data2.csv\", encoding=\"utf-8\")\n"
   ]
  },
  {
   "cell_type": "code",
   "execution_count": null,
   "metadata": {},
   "outputs": [],
   "source": []
  },
  {
   "cell_type": "code",
   "execution_count": null,
   "metadata": {},
   "outputs": [],
   "source": []
  },
  {
   "cell_type": "code",
   "execution_count": null,
   "metadata": {},
   "outputs": [],
   "source": []
  },
  {
   "cell_type": "code",
   "execution_count": null,
   "metadata": {},
   "outputs": [],
   "source": []
  },
  {
   "cell_type": "code",
   "execution_count": null,
   "metadata": {},
   "outputs": [],
   "source": []
  }
 ]
}