{
 "metadata": {
  "language_info": {
   "codemirror_mode": {
    "name": "ipython",
    "version": 3
   },
   "file_extension": ".py",
   "mimetype": "text/x-python",
   "name": "python",
   "nbconvert_exporter": "python",
   "pygments_lexer": "ipython3",
   "version": "3.7.6-final"
  },
  "orig_nbformat": 2,
  "kernelspec": {
   "name": "python3",
   "display_name": "Python 3"
  }
 },
 "nbformat": 4,
 "nbformat_minor": 2,
 "cells": [
  {
   "cell_type": "code",
   "execution_count": 1,
   "metadata": {},
   "outputs": [
    {
     "output_type": "execute_result",
     "data": {
      "text/plain": [
       "'c:\\\\Users\\\\seong\\\\Desktop\\\\Enittproj\\\\Enitt'"
      ]
     },
     "metadata": {},
     "execution_count": 1
    }
   ],
   "source": [
    "import pandas as pd \n",
    "import numpy as np \n",
    "import matplotlib.pyplot as plt\n",
    "import plotly\n",
    "import plotly.graph_objs as go # 그래프 객체 생성\n",
    "from plotly.subplots import make_subplots\n",
    "import datetime\n",
    "import seaborn as sns \n",
    "import scipy.stats\n",
    "import plotly.express as px\n",
    "import os \n",
    "from scipy import stats\n",
    "from sklearn import metrics\n",
    "import statsmodels.formula.api as smf\n",
    "import scipy.stats as st\n",
    "import pylab\n",
    "import csv\n",
    "\n",
    "os.getcwd()"
   ]
  },
  {
   "cell_type": "code",
   "execution_count": 3,
   "metadata": {},
   "outputs": [
    {
     "output_type": "execute_result",
     "data": {
      "text/plain": [
       "        pow_index  pow_id    pow_date  pow_time  pow_cap  pow_dcv     pow_dca  \\\n",
       "0               1       1  2018-12-28  09:26:56      160      374    9.200000   \n",
       "1               2       1  2018-12-28  09:27:50      160      395    8.800000   \n",
       "2               3       1  2018-12-28  09:28:44      160      379   10.400000   \n",
       "3               4       1  2018-12-28  09:29:38      160      370   10.400000   \n",
       "4               5       1  2018-12-28  09:30:32      160      363    9.200000   \n",
       "...           ...     ...         ...       ...      ...      ...         ...   \n",
       "822011     411004       1  2020-05-27  20:41:09       12      451  147.055588   \n",
       "822012     411005       1  2020-05-27  20:41:48       12      451  147.055588   \n",
       "822013     411006       1  2020-05-27  20:42:24       12      451  147.055588   \n",
       "822014     411007       1  2020-05-27  20:49:03       12      451  147.055588   \n",
       "822015     411008       1  2020-05-27  20:50:45       12      451  147.055588   \n",
       "\n",
       "             pow_dcp  pow_acvr  pow_acvs  pow_acvt  pow_acar  pow_acas  \\\n",
       "0        3440.000000       378       378       373    4.9000    5.0000   \n",
       "1        3480.000000       378       378       374    5.1000    5.1000   \n",
       "2        4020.000000       376       376       373    5.8000    5.8000   \n",
       "3        3920.000000       378       378       374    5.7000    5.7000   \n",
       "4        3340.000000       378       377       374    4.9000    4.9000   \n",
       "...              ...       ...       ...       ...       ...       ...   \n",
       "822011  66355.835938       408       406       407   94.9829   98.0549   \n",
       "822012  66355.835938       408       406       407   94.9829   98.0549   \n",
       "822013  66355.835938       408       406       407   94.9829   98.0549   \n",
       "822014  66355.835938       408       406       407   94.9829   98.0549   \n",
       "822015  66355.835938       408       406       407   94.9829   98.0549   \n",
       "\n",
       "        pow_acat       pow_acp  pow_pf  pow_totpower  pow_freq  \n",
       "0         4.7000   3170.000000     0.9            30   60.0000  \n",
       "1         4.8000   3262.000000     0.9            80   59.9000  \n",
       "2         5.6000   3725.000000     0.9           130   60.0000  \n",
       "3         5.4000   3653.000000     0.9           190   59.9000  \n",
       "4         4.6000   3127.000000     0.9           230   59.9000  \n",
       "...          ...           ...     ...           ...       ...  \n",
       "822011   94.2161  63701.597656     0.9     523857000   59.9717  \n",
       "822012   94.2161  63701.597656     0.9     523857000   59.9717  \n",
       "822013   94.2161  63701.597656     0.9     523857000   59.9717  \n",
       "822014   94.2161  63701.597656     0.9     523857000   59.9717  \n",
       "822015   94.2161  63701.597656     0.9     523857000   59.9717  \n",
       "\n",
       "[822016 rows x 18 columns]"
      ],
      "text/html": "<div>\n<style scoped>\n    .dataframe tbody tr th:only-of-type {\n        vertical-align: middle;\n    }\n\n    .dataframe tbody tr th {\n        vertical-align: top;\n    }\n\n    .dataframe thead th {\n        text-align: right;\n    }\n</style>\n<table border=\"1\" class=\"dataframe\">\n  <thead>\n    <tr style=\"text-align: right;\">\n      <th></th>\n      <th>pow_index</th>\n      <th>pow_id</th>\n      <th>pow_date</th>\n      <th>pow_time</th>\n      <th>pow_cap</th>\n      <th>pow_dcv</th>\n      <th>pow_dca</th>\n      <th>pow_dcp</th>\n      <th>pow_acvr</th>\n      <th>pow_acvs</th>\n      <th>pow_acvt</th>\n      <th>pow_acar</th>\n      <th>pow_acas</th>\n      <th>pow_acat</th>\n      <th>pow_acp</th>\n      <th>pow_pf</th>\n      <th>pow_totpower</th>\n      <th>pow_freq</th>\n    </tr>\n  </thead>\n  <tbody>\n    <tr>\n      <th>0</th>\n      <td>1</td>\n      <td>1</td>\n      <td>2018-12-28</td>\n      <td>09:26:56</td>\n      <td>160</td>\n      <td>374</td>\n      <td>9.200000</td>\n      <td>3440.000000</td>\n      <td>378</td>\n      <td>378</td>\n      <td>373</td>\n      <td>4.9000</td>\n      <td>5.0000</td>\n      <td>4.7000</td>\n      <td>3170.000000</td>\n      <td>0.9</td>\n      <td>30</td>\n      <td>60.0000</td>\n    </tr>\n    <tr>\n      <th>1</th>\n      <td>2</td>\n      <td>1</td>\n      <td>2018-12-28</td>\n      <td>09:27:50</td>\n      <td>160</td>\n      <td>395</td>\n      <td>8.800000</td>\n      <td>3480.000000</td>\n      <td>378</td>\n      <td>378</td>\n      <td>374</td>\n      <td>5.1000</td>\n      <td>5.1000</td>\n      <td>4.8000</td>\n      <td>3262.000000</td>\n      <td>0.9</td>\n      <td>80</td>\n      <td>59.9000</td>\n    </tr>\n    <tr>\n      <th>2</th>\n      <td>3</td>\n      <td>1</td>\n      <td>2018-12-28</td>\n      <td>09:28:44</td>\n      <td>160</td>\n      <td>379</td>\n      <td>10.400000</td>\n      <td>4020.000000</td>\n      <td>376</td>\n      <td>376</td>\n      <td>373</td>\n      <td>5.8000</td>\n      <td>5.8000</td>\n      <td>5.6000</td>\n      <td>3725.000000</td>\n      <td>0.9</td>\n      <td>130</td>\n      <td>60.0000</td>\n    </tr>\n    <tr>\n      <th>3</th>\n      <td>4</td>\n      <td>1</td>\n      <td>2018-12-28</td>\n      <td>09:29:38</td>\n      <td>160</td>\n      <td>370</td>\n      <td>10.400000</td>\n      <td>3920.000000</td>\n      <td>378</td>\n      <td>378</td>\n      <td>374</td>\n      <td>5.7000</td>\n      <td>5.7000</td>\n      <td>5.4000</td>\n      <td>3653.000000</td>\n      <td>0.9</td>\n      <td>190</td>\n      <td>59.9000</td>\n    </tr>\n    <tr>\n      <th>4</th>\n      <td>5</td>\n      <td>1</td>\n      <td>2018-12-28</td>\n      <td>09:30:32</td>\n      <td>160</td>\n      <td>363</td>\n      <td>9.200000</td>\n      <td>3340.000000</td>\n      <td>378</td>\n      <td>377</td>\n      <td>374</td>\n      <td>4.9000</td>\n      <td>4.9000</td>\n      <td>4.6000</td>\n      <td>3127.000000</td>\n      <td>0.9</td>\n      <td>230</td>\n      <td>59.9000</td>\n    </tr>\n    <tr>\n      <th>...</th>\n      <td>...</td>\n      <td>...</td>\n      <td>...</td>\n      <td>...</td>\n      <td>...</td>\n      <td>...</td>\n      <td>...</td>\n      <td>...</td>\n      <td>...</td>\n      <td>...</td>\n      <td>...</td>\n      <td>...</td>\n      <td>...</td>\n      <td>...</td>\n      <td>...</td>\n      <td>...</td>\n      <td>...</td>\n      <td>...</td>\n    </tr>\n    <tr>\n      <th>822011</th>\n      <td>411004</td>\n      <td>1</td>\n      <td>2020-05-27</td>\n      <td>20:41:09</td>\n      <td>12</td>\n      <td>451</td>\n      <td>147.055588</td>\n      <td>66355.835938</td>\n      <td>408</td>\n      <td>406</td>\n      <td>407</td>\n      <td>94.9829</td>\n      <td>98.0549</td>\n      <td>94.2161</td>\n      <td>63701.597656</td>\n      <td>0.9</td>\n      <td>523857000</td>\n      <td>59.9717</td>\n    </tr>\n    <tr>\n      <th>822012</th>\n      <td>411005</td>\n      <td>1</td>\n      <td>2020-05-27</td>\n      <td>20:41:48</td>\n      <td>12</td>\n      <td>451</td>\n      <td>147.055588</td>\n      <td>66355.835938</td>\n      <td>408</td>\n      <td>406</td>\n      <td>407</td>\n      <td>94.9829</td>\n      <td>98.0549</td>\n      <td>94.2161</td>\n      <td>63701.597656</td>\n      <td>0.9</td>\n      <td>523857000</td>\n      <td>59.9717</td>\n    </tr>\n    <tr>\n      <th>822013</th>\n      <td>411006</td>\n      <td>1</td>\n      <td>2020-05-27</td>\n      <td>20:42:24</td>\n      <td>12</td>\n      <td>451</td>\n      <td>147.055588</td>\n      <td>66355.835938</td>\n      <td>408</td>\n      <td>406</td>\n      <td>407</td>\n      <td>94.9829</td>\n      <td>98.0549</td>\n      <td>94.2161</td>\n      <td>63701.597656</td>\n      <td>0.9</td>\n      <td>523857000</td>\n      <td>59.9717</td>\n    </tr>\n    <tr>\n      <th>822014</th>\n      <td>411007</td>\n      <td>1</td>\n      <td>2020-05-27</td>\n      <td>20:49:03</td>\n      <td>12</td>\n      <td>451</td>\n      <td>147.055588</td>\n      <td>66355.835938</td>\n      <td>408</td>\n      <td>406</td>\n      <td>407</td>\n      <td>94.9829</td>\n      <td>98.0549</td>\n      <td>94.2161</td>\n      <td>63701.597656</td>\n      <td>0.9</td>\n      <td>523857000</td>\n      <td>59.9717</td>\n    </tr>\n    <tr>\n      <th>822015</th>\n      <td>411008</td>\n      <td>1</td>\n      <td>2020-05-27</td>\n      <td>20:50:45</td>\n      <td>12</td>\n      <td>451</td>\n      <td>147.055588</td>\n      <td>66355.835938</td>\n      <td>408</td>\n      <td>406</td>\n      <td>407</td>\n      <td>94.9829</td>\n      <td>98.0549</td>\n      <td>94.2161</td>\n      <td>63701.597656</td>\n      <td>0.9</td>\n      <td>523857000</td>\n      <td>59.9717</td>\n    </tr>\n  </tbody>\n</table>\n<p>822016 rows × 18 columns</p>\n</div>"
     },
     "metadata": {},
     "execution_count": 3
    }
   ],
   "source": [
    "import pandas as pd \n",
    "import numpy as np \n",
    "import matplotlib.pyplot as plt\n",
    "import plotly\n",
    "import plotly.graph_objs as go # 그래프 객체 생성\n",
    "from plotly.subplots import make_subplots\n",
    "import datetime\n",
    "import seaborn as sns \n",
    "import scipy.stats\n",
    "import plotly.express as px\n",
    "import os \n",
    "from scipy import stats\n",
    "from sklearn import metrics\n",
    "import statsmodels.formula.api as smf\n",
    "import scipy.stats as st\n",
    "import pylab\n",
    "import csv\n",
    "\n",
    "os.getcwd()\n",
    "\n",
    "## merge 1, 2 데이터\n",
    "data1 = pd.read_csv(\"./ENITT_SOLAR_DATA/ENITT_SOLAR_DATA/A569. LH서울공릉 행복주택 발전량.csv\", encoding=\"ms949\")\n",
    "data2 = pd.read_csv(\"./ENITT_SOLAR_DATA/ENITT_SOLAR_DATA/569. LH서울공릉 행복주택 발전량.csv\", encoding=\"ms949\")\n",
    "data3 = pd.read_csv(\"./ENITT_SOLAR_DATA/ENITT_SOLAR_DATA/A569. LH서울공릉 행복주택 환경정보.csv\", encoding=\"ms949\")\n",
    "data4 = pd.read_csv(\"./ENITT_SOLAR_DATA/ENITT_SOLAR_DATA/569. LH서울공릉 행복주택 환경정보.csv\", encoding=\"ms949\")\n",
    "\n",
    "\n",
    "\n",
    "data_12 = pd.concat([data2, data1])\n",
    "data_34 = pd.concat([data4, data3])\n",
    "ent_data_solar = data_12.reset_index().drop('index', axis=1)\n",
    "ent_data_solar\n",
    "\n",
    "ent_data_weather = data_34.reset_index().drop('index', axis=1)\n",
    "\n",
    "\n",
    "## 외부데이터 불러오기 \n",
    "def other_loadfile(a, b, c): ## 임의로 수정 필요 \n",
    "    other_data_dummy1 = pd.read_csv(a, encoding=\"ms949\")\n",
    "    other_data_dummy2 = pd.read_csv(b, encoding=\"ms949\")\n",
    "    other_data_dummy3 = pd.read_csv(c, encoding=\"ms949\")\n",
    "\n",
    "    return other_data_dummy1, other_data_dummy2, other_data_dummy3\n",
    "\n",
    "other_data_dummy1, other_data_dummy2, other_data_dummy3 = other_loadfile(\n",
    "    \"./ENITT_SOLAR_DATA/re_allweather/allweather2018.csv\",\n",
    "    \"./ENITT_SOLAR_DATA/re_allweather/allweather2019.csv\",\n",
    "    \"./ENITT_SOLAR_DATA/re_allweather/allweather2020.csv\")\n",
    "\n",
    "\n",
    "other_data_dummyall = other_data_dummy1.merge(other_data_dummy2, how=\"outer\").merge(other_data_dummy3, how=\"outer\")\n",
    "other_data_weather = other_data_dummyall[other_data_dummyall[\"지점명\"] == \"서울\"]\n",
    "other_data_weather[\"지점명\"].unique()\n",
    "\n",
    "\n",
    "\n",
    "# print()\n",
    "ent_data_solar1 = ent_data_solar[ent_data_solar[\"pow_id\"] == 1]\n",
    "# ent_data_weather\n",
    "\n",
    "ent_data_solar1\n",
    "\n"
   ]
  },
  {
   "cell_type": "code",
   "execution_count": 4,
   "metadata": {},
   "outputs": [
    {
     "output_type": "execute_result",
     "data": {
      "text/plain": [
       "                    env_date dummy_time  env_slopesolar  env_levelsolar  \\\n",
       "2018-12-28 09:00  2018-12-28         09      422.370968      210.080645   \n",
       "2018-12-28 10:00  2018-12-28         10      605.970149      374.358209   \n",
       "2018-12-28 11:00  2018-12-28         11      728.636364      521.166667   \n",
       "2018-12-28 12:00  2018-12-28         12      689.194030      558.432836   \n",
       "2018-12-28 13:00  2018-12-28         13      564.597015      518.223881   \n",
       "...                      ...        ...             ...             ...   \n",
       "2020-03-02 10:00  2020-03-02         10      820.712121      779.727273   \n",
       "2020-03-02 11:00  2020-03-02         11      843.709677      823.709677   \n",
       "2020-03-02 12:00  2020-03-02         12      837.016129      839.516129   \n",
       "2020-03-02 13:00  2020-03-02         13      706.757576      728.121212   \n",
       "2020-03-02 14:00  2020-03-02         14      622.000000      655.545455   \n",
       "\n",
       "                  env_modtemp  env_airtemp     pow_dcv    pow_dca         watt  \n",
       "2018-12-28 09:00    -8.680645   -12.767742  340.216216  13.332432  4435.075604  \n",
       "2018-12-28 10:00    -2.974627   -11.698507  351.373134  17.359701  5971.423762  \n",
       "2018-12-28 11:00     0.350000   -10.403030  366.378788  22.296969  8167.528705  \n",
       "2018-12-28 12:00     0.820896    -9.255224  365.970149  21.653731  7923.755094  \n",
       "2018-12-28 13:00    -0.474627    -8.553731  368.716418  18.256716  6733.737181  \n",
       "...                       ...          ...         ...        ...          ...  \n",
       "2020-03-02 10:00    12.589394     3.089394  342.016393  25.577049  8746.358785  \n",
       "2020-03-02 11:00    14.227419     4.011290  341.915254  26.430508  9035.228574  \n",
       "2020-03-02 12:00    20.279032     5.987097  334.200000  28.843333  9641.843123  \n",
       "2020-03-02 13:00    19.951515     7.166667  334.296875  24.954687  8346.565433  \n",
       "2020-03-02 14:00    17.150000     7.145455  341.206349  18.911111  6447.807831  \n",
       "\n",
       "[2351 rows x 9 columns]"
      ],
      "text/html": "<div>\n<style scoped>\n    .dataframe tbody tr th:only-of-type {\n        vertical-align: middle;\n    }\n\n    .dataframe tbody tr th {\n        vertical-align: top;\n    }\n\n    .dataframe thead th {\n        text-align: right;\n    }\n</style>\n<table border=\"1\" class=\"dataframe\">\n  <thead>\n    <tr style=\"text-align: right;\">\n      <th></th>\n      <th>env_date</th>\n      <th>dummy_time</th>\n      <th>env_slopesolar</th>\n      <th>env_levelsolar</th>\n      <th>env_modtemp</th>\n      <th>env_airtemp</th>\n      <th>pow_dcv</th>\n      <th>pow_dca</th>\n      <th>watt</th>\n    </tr>\n  </thead>\n  <tbody>\n    <tr>\n      <th>2018-12-28 09:00</th>\n      <td>2018-12-28</td>\n      <td>09</td>\n      <td>422.370968</td>\n      <td>210.080645</td>\n      <td>-8.680645</td>\n      <td>-12.767742</td>\n      <td>340.216216</td>\n      <td>13.332432</td>\n      <td>4435.075604</td>\n    </tr>\n    <tr>\n      <th>2018-12-28 10:00</th>\n      <td>2018-12-28</td>\n      <td>10</td>\n      <td>605.970149</td>\n      <td>374.358209</td>\n      <td>-2.974627</td>\n      <td>-11.698507</td>\n      <td>351.373134</td>\n      <td>17.359701</td>\n      <td>5971.423762</td>\n    </tr>\n    <tr>\n      <th>2018-12-28 11:00</th>\n      <td>2018-12-28</td>\n      <td>11</td>\n      <td>728.636364</td>\n      <td>521.166667</td>\n      <td>0.350000</td>\n      <td>-10.403030</td>\n      <td>366.378788</td>\n      <td>22.296969</td>\n      <td>8167.528705</td>\n    </tr>\n    <tr>\n      <th>2018-12-28 12:00</th>\n      <td>2018-12-28</td>\n      <td>12</td>\n      <td>689.194030</td>\n      <td>558.432836</td>\n      <td>0.820896</td>\n      <td>-9.255224</td>\n      <td>365.970149</td>\n      <td>21.653731</td>\n      <td>7923.755094</td>\n    </tr>\n    <tr>\n      <th>2018-12-28 13:00</th>\n      <td>2018-12-28</td>\n      <td>13</td>\n      <td>564.597015</td>\n      <td>518.223881</td>\n      <td>-0.474627</td>\n      <td>-8.553731</td>\n      <td>368.716418</td>\n      <td>18.256716</td>\n      <td>6733.737181</td>\n    </tr>\n    <tr>\n      <th>...</th>\n      <td>...</td>\n      <td>...</td>\n      <td>...</td>\n      <td>...</td>\n      <td>...</td>\n      <td>...</td>\n      <td>...</td>\n      <td>...</td>\n      <td>...</td>\n    </tr>\n    <tr>\n      <th>2020-03-02 10:00</th>\n      <td>2020-03-02</td>\n      <td>10</td>\n      <td>820.712121</td>\n      <td>779.727273</td>\n      <td>12.589394</td>\n      <td>3.089394</td>\n      <td>342.016393</td>\n      <td>25.577049</td>\n      <td>8746.358785</td>\n    </tr>\n    <tr>\n      <th>2020-03-02 11:00</th>\n      <td>2020-03-02</td>\n      <td>11</td>\n      <td>843.709677</td>\n      <td>823.709677</td>\n      <td>14.227419</td>\n      <td>4.011290</td>\n      <td>341.915254</td>\n      <td>26.430508</td>\n      <td>9035.228574</td>\n    </tr>\n    <tr>\n      <th>2020-03-02 12:00</th>\n      <td>2020-03-02</td>\n      <td>12</td>\n      <td>837.016129</td>\n      <td>839.516129</td>\n      <td>20.279032</td>\n      <td>5.987097</td>\n      <td>334.200000</td>\n      <td>28.843333</td>\n      <td>9641.843123</td>\n    </tr>\n    <tr>\n      <th>2020-03-02 13:00</th>\n      <td>2020-03-02</td>\n      <td>13</td>\n      <td>706.757576</td>\n      <td>728.121212</td>\n      <td>19.951515</td>\n      <td>7.166667</td>\n      <td>334.296875</td>\n      <td>24.954687</td>\n      <td>8346.565433</td>\n    </tr>\n    <tr>\n      <th>2020-03-02 14:00</th>\n      <td>2020-03-02</td>\n      <td>14</td>\n      <td>622.000000</td>\n      <td>655.545455</td>\n      <td>17.150000</td>\n      <td>7.145455</td>\n      <td>341.206349</td>\n      <td>18.911111</td>\n      <td>6447.807831</td>\n    </tr>\n  </tbody>\n</table>\n<p>2351 rows × 9 columns</p>\n</div>"
     },
     "metadata": {},
     "execution_count": 4
    }
   ],
   "source": [
    "## DELETE COLUMN AND EDIT COLUMN\n",
    "\n",
    "## '지점', '지점명', '일시', '기온(°C)', '강수량(mm)', '풍속(m/s)', '풍향(16방위)', '습도(%)','일조(hr)', '일사(MJ/m2)', '적설(cm)', '전운량(10분위)', '10cm 지중온도(°C)'\n",
    "#=>\n",
    "\n",
    "## '기온', '강수량', '풍속', '풍향', '습도', '일조', '일사', '전운량', '지면온도'\n",
    "reset_other_weather = other_data_weather.set_index(\"일시\")\n",
    "reset_other_weather_need = reset_other_weather[['기온(°C)', '강수량(mm)', '풍속(m/s)', '풍향(16방위)', '습도(%)','일조(hr)', '일사(MJ/m2)', '적설(cm)', '전운량(10분위)', '10cm 지중온도(°C)']]\n",
    "reset_other_weather_need.columns = ['기온', '강수량', '풍속', '풍향', '습도', '일조', '일사', '적설', '전운량', '지중온도']\n",
    "reset_other_weather_need.fillna(0, inplace=True)\n",
    "reset_other_weather_need\n",
    "\n",
    "\n",
    "## 기업 solar weather EDA -> 필요\n",
    "ent_data_weather.columns \n",
    "\n",
    "ent_data_weather[\"env_levelsolar\"].describe()\n",
    "ent_data_weather[\"env_slopesolar\"].describe()\n",
    "\n",
    "\n",
    "## 기업 날씨 데이터 1시간 별로 groupby , ( slopesolar, levelsolar => sum) , ( modtemp, airtemp => mean )\n",
    "def groupby_weather():\n",
    "    ## time 구분\n",
    "    dummy_time_list = []\n",
    "    for i in ent_data_weather[\"env_time\"]:\n",
    "        dummy_time_list.append(i[:2])\n",
    "\n",
    "    ent_data_weather[\"dummy_time\"] = dummy_time_list\n",
    "    dummy_groupbyall = ent_data_weather.groupby([\"env_date\", \"dummy_time\"]).mean()\n",
    "    ent_data_weather_groupby = dummy_groupbyall.reset_index() ## 그룹화된 인덱스 풀기 \n",
    "\n",
    "    ### 발전량이 거의 없는 데이터 삭제 ( 9~ 19 까지만 살린다)\n",
    "    drop_data = ent_data_weather_groupby.isin({\"dummy_time\" : [\"00\", \"01\", \"02\", \"03\", \"04\", \"05\", \"06\", \"07\",\"08\", \"19\", \"20\", \"21\", \"22\", \"23\"]})\n",
    "    ent_data_weather_sort = ent_data_weather_groupby[~drop_data].dropna()\n",
    "    # print(ent_data_weather_sort)\n",
    "    ent_data_weather_sort.drop(\"env_index\", axis=1, inplace=True)\n",
    "\n",
    "    return ent_data_weather_sort\n",
    "\n",
    "\n",
    "\n",
    "\n",
    "def groupby_solar_reset():\n",
    "    ## 필요한 컬럼만 가져오기\n",
    "    ent_data_need = ent_data_solar1[[\"pow_date\", \"pow_time\", \"pow_dcv\", \"pow_dca\"]]\n",
    "\n",
    "    ## time 구분\n",
    "    dummy_time_list = []\n",
    "    for i in ent_data_need[\"pow_time\"]:\n",
    "        dummy_time_list.append(i[:2])\n",
    "    ent_data_need[\"dummy_time\"] = dummy_time_list\n",
    "\n",
    "    ent_data_need[\"watt\"] = ent_data_need[\"pow_dcv\"] * ent_data_need[\"pow_dca\"]\n",
    "\n",
    "    ## RESET 발전량 :: 직류 전압 X 직류 전류 : 발전량 ,, GROUPBY해서 직류X전류 의 평균량으로 구한다\n",
    "    ent_data_perhour = ent_data_need.groupby([\"pow_date\", \"dummy_time\"]).mean()\n",
    "    ent_data_perhour = ent_data_perhour.reset_index()\n",
    "\n",
    "\n",
    "    drop_data = ent_data_perhour.isin({\"dummy_time\" : [\"00\", \"01\", \"02\", \"03\", \"04\", \"05\", \"06\", \"07\",\"08\", \"19\", \"20\", \"21\", \"22\", \"23\"]})\n",
    "    ent_data_perhour_sort = ent_data_perhour[~drop_data].dropna()\n",
    "\n",
    "    return ent_data_perhour_sort\n",
    "\n",
    "### weather, solar join\n",
    "def join_weather_solar(a, b):\n",
    "    sub_index1 = a[\"env_date\"] + \" \" + a[\"dummy_time\"] + \":00\"\n",
    "    a.index = sub_index1\n",
    "\n",
    "    sub_index2 = b[\"pow_date\"] + \" \" + b[\"dummy_time\"] + \":00\"\n",
    "    b.index = sub_index2\n",
    "\n",
    "    joinset = a.join(b[[\"pow_dcv\", \"pow_dca\", \"watt\" ]])\n",
    "    ent_data_solar_weather = joinset.dropna()\n",
    "\n",
    "\n",
    "    return ent_data_solar_weather\n",
    "\n",
    "ent_data_weather_sort = groupby_weather()\n",
    "ent_data_perhour_sort = groupby_solar_reset()\n",
    "ent_data_solar_weather = join_weather_solar(ent_data_weather_sort, ent_data_perhour_sort)\n",
    "ent_data_solar_weather\n",
    "\n"
   ]
  },
  {
   "cell_type": "code",
   "execution_count": 5,
   "metadata": {},
   "outputs": [],
   "source": [
    "## 기업, 공공 join\n",
    "\n",
    "join_ent_other = ent_data_solar_weather.join(reset_other_weather_need)\n",
    "join_ent_other[\"일사\"].fillna(0, inplace=True)\n",
    "# join_ent_other\n",
    "join_ent_other[\"match_solar\"] = join_ent_other[\"일사\"] * 1000000 / 3600\n",
    "join_ent_other_set = join_ent_other.drop([\"env_date\", \"dummy_time\"], axis=1)\n",
    "\n",
    "\n",
    "\n"
   ]
  },
  {
   "cell_type": "code",
   "execution_count": 16,
   "metadata": {},
   "outputs": [
    {
     "output_type": "stream",
     "name": "stdout",
     "text": [
      "2.5003935051179087\n-1.2091912383448948\n"
     ]
    },
    {
     "output_type": "display_data",
     "data": {
      "text/plain": "<Figure size 432x288 with 1 Axes>",
      "image/svg+xml": "<?xml version=\"1.0\" encoding=\"utf-8\" standalone=\"no\"?>\r\n<!DOCTYPE svg PUBLIC \"-//W3C//DTD SVG 1.1//EN\"\r\n  \"http://www.w3.org/Graphics/SVG/1.1/DTD/svg11.dtd\">\r\n<!-- Created with matplotlib (https://matplotlib.org/) -->\r\n<svg height=\"248.518125pt\" version=\"1.1\" viewBox=\"0 0 388.0125 248.518125\" width=\"388.0125pt\" xmlns=\"http://www.w3.org/2000/svg\" xmlns:xlink=\"http://www.w3.org/1999/xlink\">\r\n <defs>\r\n  <style type=\"text/css\">\r\n*{stroke-linecap:butt;stroke-linejoin:round;}\r\n  </style>\r\n </defs>\r\n <g id=\"figure_1\">\r\n  <g id=\"patch_1\">\r\n   <path d=\"M 0 248.518125 \r\nL 388.0125 248.518125 \r\nL 388.0125 0 \r\nL 0 0 \r\nz\r\n\" style=\"fill:none;\"/>\r\n  </g>\r\n  <g id=\"axes_1\">\r\n   <g id=\"patch_2\">\r\n    <path d=\"M 46.0125 224.64 \r\nL 380.8125 224.64 \r\nL 380.8125 7.2 \r\nL 46.0125 7.2 \r\nz\r\n\" style=\"fill:#ffffff;\"/>\r\n   </g>\r\n   <g id=\"patch_3\">\r\n    <path clip-path=\"url(#pf501d433c9)\" d=\"M 79.4925 201.80365 \r\nL 347.3325 201.80365 \r\nL 347.3325 103.67251 \r\nL 79.4925 103.67251 \r\nL 79.4925 201.80365 \r\nz\r\n\" style=\"fill:#3274a1;stroke:#3f3f3f;stroke-linejoin:miter;stroke-width:1.5;\"/>\r\n   </g>\r\n   <g id=\"matplotlib.axis_1\">\r\n    <g id=\"xtick_1\">\r\n     <g id=\"line2d_1\">\r\n      <defs>\r\n       <path d=\"M 0 0 \r\nL 0 3.5 \r\n\" id=\"m5fa1c33cf6\" style=\"stroke:#000000;stroke-width:0.8;\"/>\r\n      </defs>\r\n      <g>\r\n       <use style=\"stroke:#000000;stroke-width:0.8;\" x=\"213.4125\" xlink:href=\"#m5fa1c33cf6\" y=\"224.64\"/>\r\n      </g>\r\n     </g>\r\n     <g id=\"text_1\">\r\n      <!-- 0 -->\r\n      <defs>\r\n       <path d=\"M 31.78125 66.40625 \r\nQ 24.171875 66.40625 20.328125 58.90625 \r\nQ 16.5 51.421875 16.5 36.375 \r\nQ 16.5 21.390625 20.328125 13.890625 \r\nQ 24.171875 6.390625 31.78125 6.390625 \r\nQ 39.453125 6.390625 43.28125 13.890625 \r\nQ 47.125 21.390625 47.125 36.375 \r\nQ 47.125 51.421875 43.28125 58.90625 \r\nQ 39.453125 66.40625 31.78125 66.40625 \r\nz\r\nM 31.78125 74.21875 \r\nQ 44.046875 74.21875 50.515625 64.515625 \r\nQ 56.984375 54.828125 56.984375 36.375 \r\nQ 56.984375 17.96875 50.515625 8.265625 \r\nQ 44.046875 -1.421875 31.78125 -1.421875 \r\nQ 19.53125 -1.421875 13.0625 8.265625 \r\nQ 6.59375 17.96875 6.59375 36.375 \r\nQ 6.59375 54.828125 13.0625 64.515625 \r\nQ 19.53125 74.21875 31.78125 74.21875 \r\nz\r\n\" id=\"DejaVuSans-48\"/>\r\n      </defs>\r\n      <g transform=\"translate(210.23125 239.238437)scale(0.1 -0.1)\">\r\n       <use xlink:href=\"#DejaVuSans-48\"/>\r\n      </g>\r\n     </g>\r\n    </g>\r\n   </g>\r\n   <g id=\"matplotlib.axis_2\">\r\n    <g id=\"ytick_1\">\r\n     <g id=\"line2d_2\">\r\n      <defs>\r\n       <path d=\"M 0 0 \r\nL -3.5 0 \r\n\" id=\"m5f74210aa3\" style=\"stroke:#000000;stroke-width:0.8;\"/>\r\n      </defs>\r\n      <g>\r\n       <use style=\"stroke:#000000;stroke-width:0.8;\" x=\"46.0125\" xlink:href=\"#m5f74210aa3\" y=\"214.756364\"/>\r\n      </g>\r\n     </g>\r\n     <g id=\"text_2\">\r\n      <!-- 0 -->\r\n      <g transform=\"translate(32.65 218.555582)scale(0.1 -0.1)\">\r\n       <use xlink:href=\"#DejaVuSans-48\"/>\r\n      </g>\r\n     </g>\r\n    </g>\r\n    <g id=\"ytick_2\">\r\n     <g id=\"line2d_3\">\r\n      <g>\r\n       <use style=\"stroke:#000000;stroke-width:0.8;\" x=\"46.0125\" xlink:href=\"#m5f74210aa3\" y=\"180.885821\"/>\r\n      </g>\r\n     </g>\r\n     <g id=\"text_3\">\r\n      <!-- 2000 -->\r\n      <defs>\r\n       <path d=\"M 19.1875 8.296875 \r\nL 53.609375 8.296875 \r\nL 53.609375 0 \r\nL 7.328125 0 \r\nL 7.328125 8.296875 \r\nQ 12.9375 14.109375 22.625 23.890625 \r\nQ 32.328125 33.6875 34.8125 36.53125 \r\nQ 39.546875 41.84375 41.421875 45.53125 \r\nQ 43.3125 49.21875 43.3125 52.78125 \r\nQ 43.3125 58.59375 39.234375 62.25 \r\nQ 35.15625 65.921875 28.609375 65.921875 \r\nQ 23.96875 65.921875 18.8125 64.3125 \r\nQ 13.671875 62.703125 7.8125 59.421875 \r\nL 7.8125 69.390625 \r\nQ 13.765625 71.78125 18.9375 73 \r\nQ 24.125 74.21875 28.421875 74.21875 \r\nQ 39.75 74.21875 46.484375 68.546875 \r\nQ 53.21875 62.890625 53.21875 53.421875 \r\nQ 53.21875 48.921875 51.53125 44.890625 \r\nQ 49.859375 40.875 45.40625 35.40625 \r\nQ 44.1875 33.984375 37.640625 27.21875 \r\nQ 31.109375 20.453125 19.1875 8.296875 \r\nz\r\n\" id=\"DejaVuSans-50\"/>\r\n      </defs>\r\n      <g transform=\"translate(13.5625 184.68504)scale(0.1 -0.1)\">\r\n       <use xlink:href=\"#DejaVuSans-50\"/>\r\n       <use x=\"63.623047\" xlink:href=\"#DejaVuSans-48\"/>\r\n       <use x=\"127.246094\" xlink:href=\"#DejaVuSans-48\"/>\r\n       <use x=\"190.869141\" xlink:href=\"#DejaVuSans-48\"/>\r\n      </g>\r\n     </g>\r\n    </g>\r\n    <g id=\"ytick_3\">\r\n     <g id=\"line2d_4\">\r\n      <g>\r\n       <use style=\"stroke:#000000;stroke-width:0.8;\" x=\"46.0125\" xlink:href=\"#m5f74210aa3\" y=\"147.015279\"/>\r\n      </g>\r\n     </g>\r\n     <g id=\"text_4\">\r\n      <!-- 4000 -->\r\n      <defs>\r\n       <path d=\"M 37.796875 64.3125 \r\nL 12.890625 25.390625 \r\nL 37.796875 25.390625 \r\nz\r\nM 35.203125 72.90625 \r\nL 47.609375 72.90625 \r\nL 47.609375 25.390625 \r\nL 58.015625 25.390625 \r\nL 58.015625 17.1875 \r\nL 47.609375 17.1875 \r\nL 47.609375 0 \r\nL 37.796875 0 \r\nL 37.796875 17.1875 \r\nL 4.890625 17.1875 \r\nL 4.890625 26.703125 \r\nz\r\n\" id=\"DejaVuSans-52\"/>\r\n      </defs>\r\n      <g transform=\"translate(13.5625 150.814498)scale(0.1 -0.1)\">\r\n       <use xlink:href=\"#DejaVuSans-52\"/>\r\n       <use x=\"63.623047\" xlink:href=\"#DejaVuSans-48\"/>\r\n       <use x=\"127.246094\" xlink:href=\"#DejaVuSans-48\"/>\r\n       <use x=\"190.869141\" xlink:href=\"#DejaVuSans-48\"/>\r\n      </g>\r\n     </g>\r\n    </g>\r\n    <g id=\"ytick_4\">\r\n     <g id=\"line2d_5\">\r\n      <g>\r\n       <use style=\"stroke:#000000;stroke-width:0.8;\" x=\"46.0125\" xlink:href=\"#m5f74210aa3\" y=\"113.144736\"/>\r\n      </g>\r\n     </g>\r\n     <g id=\"text_5\">\r\n      <!-- 6000 -->\r\n      <defs>\r\n       <path d=\"M 33.015625 40.375 \r\nQ 26.375 40.375 22.484375 35.828125 \r\nQ 18.609375 31.296875 18.609375 23.390625 \r\nQ 18.609375 15.53125 22.484375 10.953125 \r\nQ 26.375 6.390625 33.015625 6.390625 \r\nQ 39.65625 6.390625 43.53125 10.953125 \r\nQ 47.40625 15.53125 47.40625 23.390625 \r\nQ 47.40625 31.296875 43.53125 35.828125 \r\nQ 39.65625 40.375 33.015625 40.375 \r\nz\r\nM 52.59375 71.296875 \r\nL 52.59375 62.3125 \r\nQ 48.875 64.0625 45.09375 64.984375 \r\nQ 41.3125 65.921875 37.59375 65.921875 \r\nQ 27.828125 65.921875 22.671875 59.328125 \r\nQ 17.53125 52.734375 16.796875 39.40625 \r\nQ 19.671875 43.65625 24.015625 45.921875 \r\nQ 28.375 48.1875 33.59375 48.1875 \r\nQ 44.578125 48.1875 50.953125 41.515625 \r\nQ 57.328125 34.859375 57.328125 23.390625 \r\nQ 57.328125 12.15625 50.6875 5.359375 \r\nQ 44.046875 -1.421875 33.015625 -1.421875 \r\nQ 20.359375 -1.421875 13.671875 8.265625 \r\nQ 6.984375 17.96875 6.984375 36.375 \r\nQ 6.984375 53.65625 15.1875 63.9375 \r\nQ 23.390625 74.21875 37.203125 74.21875 \r\nQ 40.921875 74.21875 44.703125 73.484375 \r\nQ 48.484375 72.75 52.59375 71.296875 \r\nz\r\n\" id=\"DejaVuSans-54\"/>\r\n      </defs>\r\n      <g transform=\"translate(13.5625 116.943955)scale(0.1 -0.1)\">\r\n       <use xlink:href=\"#DejaVuSans-54\"/>\r\n       <use x=\"63.623047\" xlink:href=\"#DejaVuSans-48\"/>\r\n       <use x=\"127.246094\" xlink:href=\"#DejaVuSans-48\"/>\r\n       <use x=\"190.869141\" xlink:href=\"#DejaVuSans-48\"/>\r\n      </g>\r\n     </g>\r\n    </g>\r\n    <g id=\"ytick_5\">\r\n     <g id=\"line2d_6\">\r\n      <g>\r\n       <use style=\"stroke:#000000;stroke-width:0.8;\" x=\"46.0125\" xlink:href=\"#m5f74210aa3\" y=\"79.274194\"/>\r\n      </g>\r\n     </g>\r\n     <g id=\"text_6\">\r\n      <!-- 8000 -->\r\n      <defs>\r\n       <path d=\"M 31.78125 34.625 \r\nQ 24.75 34.625 20.71875 30.859375 \r\nQ 16.703125 27.09375 16.703125 20.515625 \r\nQ 16.703125 13.921875 20.71875 10.15625 \r\nQ 24.75 6.390625 31.78125 6.390625 \r\nQ 38.8125 6.390625 42.859375 10.171875 \r\nQ 46.921875 13.96875 46.921875 20.515625 \r\nQ 46.921875 27.09375 42.890625 30.859375 \r\nQ 38.875 34.625 31.78125 34.625 \r\nz\r\nM 21.921875 38.8125 \r\nQ 15.578125 40.375 12.03125 44.71875 \r\nQ 8.5 49.078125 8.5 55.328125 \r\nQ 8.5 64.0625 14.71875 69.140625 \r\nQ 20.953125 74.21875 31.78125 74.21875 \r\nQ 42.671875 74.21875 48.875 69.140625 \r\nQ 55.078125 64.0625 55.078125 55.328125 \r\nQ 55.078125 49.078125 51.53125 44.71875 \r\nQ 48 40.375 41.703125 38.8125 \r\nQ 48.828125 37.15625 52.796875 32.3125 \r\nQ 56.78125 27.484375 56.78125 20.515625 \r\nQ 56.78125 9.90625 50.3125 4.234375 \r\nQ 43.84375 -1.421875 31.78125 -1.421875 \r\nQ 19.734375 -1.421875 13.25 4.234375 \r\nQ 6.78125 9.90625 6.78125 20.515625 \r\nQ 6.78125 27.484375 10.78125 32.3125 \r\nQ 14.796875 37.15625 21.921875 38.8125 \r\nz\r\nM 18.3125 54.390625 \r\nQ 18.3125 48.734375 21.84375 45.5625 \r\nQ 25.390625 42.390625 31.78125 42.390625 \r\nQ 38.140625 42.390625 41.71875 45.5625 \r\nQ 45.3125 48.734375 45.3125 54.390625 \r\nQ 45.3125 60.0625 41.71875 63.234375 \r\nQ 38.140625 66.40625 31.78125 66.40625 \r\nQ 25.390625 66.40625 21.84375 63.234375 \r\nQ 18.3125 60.0625 18.3125 54.390625 \r\nz\r\n\" id=\"DejaVuSans-56\"/>\r\n      </defs>\r\n      <g transform=\"translate(13.5625 83.073413)scale(0.1 -0.1)\">\r\n       <use xlink:href=\"#DejaVuSans-56\"/>\r\n       <use x=\"63.623047\" xlink:href=\"#DejaVuSans-48\"/>\r\n       <use x=\"127.246094\" xlink:href=\"#DejaVuSans-48\"/>\r\n       <use x=\"190.869141\" xlink:href=\"#DejaVuSans-48\"/>\r\n      </g>\r\n     </g>\r\n    </g>\r\n    <g id=\"ytick_6\">\r\n     <g id=\"line2d_7\">\r\n      <g>\r\n       <use style=\"stroke:#000000;stroke-width:0.8;\" x=\"46.0125\" xlink:href=\"#m5f74210aa3\" y=\"45.403652\"/>\r\n      </g>\r\n     </g>\r\n     <g id=\"text_7\">\r\n      <!-- 10000 -->\r\n      <defs>\r\n       <path d=\"M 12.40625 8.296875 \r\nL 28.515625 8.296875 \r\nL 28.515625 63.921875 \r\nL 10.984375 60.40625 \r\nL 10.984375 69.390625 \r\nL 28.421875 72.90625 \r\nL 38.28125 72.90625 \r\nL 38.28125 8.296875 \r\nL 54.390625 8.296875 \r\nL 54.390625 0 \r\nL 12.40625 0 \r\nz\r\n\" id=\"DejaVuSans-49\"/>\r\n      </defs>\r\n      <g transform=\"translate(7.2 49.20287)scale(0.1 -0.1)\">\r\n       <use xlink:href=\"#DejaVuSans-49\"/>\r\n       <use x=\"63.623047\" xlink:href=\"#DejaVuSans-48\"/>\r\n       <use x=\"127.246094\" xlink:href=\"#DejaVuSans-48\"/>\r\n       <use x=\"190.869141\" xlink:href=\"#DejaVuSans-48\"/>\r\n       <use x=\"254.492188\" xlink:href=\"#DejaVuSans-48\"/>\r\n      </g>\r\n     </g>\r\n    </g>\r\n    <g id=\"ytick_7\">\r\n     <g id=\"line2d_8\">\r\n      <g>\r\n       <use style=\"stroke:#000000;stroke-width:0.8;\" x=\"46.0125\" xlink:href=\"#m5f74210aa3\" y=\"11.533109\"/>\r\n      </g>\r\n     </g>\r\n     <g id=\"text_8\">\r\n      <!-- 12000 -->\r\n      <g transform=\"translate(7.2 15.332328)scale(0.1 -0.1)\">\r\n       <use xlink:href=\"#DejaVuSans-49\"/>\r\n       <use x=\"63.623047\" xlink:href=\"#DejaVuSans-50\"/>\r\n       <use x=\"127.246094\" xlink:href=\"#DejaVuSans-48\"/>\r\n       <use x=\"190.869141\" xlink:href=\"#DejaVuSans-48\"/>\r\n       <use x=\"254.492188\" xlink:href=\"#DejaVuSans-48\"/>\r\n      </g>\r\n     </g>\r\n    </g>\r\n   </g>\r\n   <g id=\"line2d_9\">\r\n    <path clip-path=\"url(#pf501d433c9)\" d=\"M 213.4125 201.80365 \r\nL 213.4125 214.756364 \r\n\" style=\"fill:none;stroke:#3f3f3f;stroke-linecap:square;stroke-width:1.5;\"/>\r\n   </g>\r\n   <g id=\"line2d_10\">\r\n    <path clip-path=\"url(#pf501d433c9)\" d=\"M 213.4125 103.67251 \r\nL 213.4125 17.083636 \r\n\" style=\"fill:none;stroke:#3f3f3f;stroke-linecap:square;stroke-width:1.5;\"/>\r\n   </g>\r\n   <g id=\"line2d_11\">\r\n    <path clip-path=\"url(#pf501d433c9)\" d=\"M 146.4525 214.756364 \r\nL 280.3725 214.756364 \r\n\" style=\"fill:none;stroke:#3f3f3f;stroke-linecap:square;stroke-width:1.5;\"/>\r\n   </g>\r\n   <g id=\"line2d_12\">\r\n    <path clip-path=\"url(#pf501d433c9)\" d=\"M 146.4525 17.083636 \r\nL 280.3725 17.083636 \r\n\" style=\"fill:none;stroke:#3f3f3f;stroke-linecap:square;stroke-width:1.5;\"/>\r\n   </g>\r\n   <g id=\"line2d_13\"/>\r\n   <g id=\"line2d_14\">\r\n    <path clip-path=\"url(#pf501d433c9)\" d=\"M 79.4925 157.892677 \r\nL 347.3325 157.892677 \r\n\" style=\"fill:none;stroke:#3f3f3f;stroke-linecap:square;stroke-width:1.5;\"/>\r\n   </g>\r\n   <g id=\"patch_4\">\r\n    <path d=\"M 46.0125 224.64 \r\nL 46.0125 7.2 \r\n\" style=\"fill:none;stroke:#000000;stroke-linecap:square;stroke-linejoin:miter;stroke-width:0.8;\"/>\r\n   </g>\r\n   <g id=\"patch_5\">\r\n    <path d=\"M 380.8125 224.64 \r\nL 380.8125 7.2 \r\n\" style=\"fill:none;stroke:#000000;stroke-linecap:square;stroke-linejoin:miter;stroke-width:0.8;\"/>\r\n   </g>\r\n   <g id=\"patch_6\">\r\n    <path d=\"M 46.0125 224.64 \r\nL 380.8125 224.64 \r\n\" style=\"fill:none;stroke:#000000;stroke-linecap:square;stroke-linejoin:miter;stroke-width:0.8;\"/>\r\n   </g>\r\n   <g id=\"patch_7\">\r\n    <path d=\"M 46.0125 7.2 \r\nL 380.8125 7.2 \r\n\" style=\"fill:none;stroke:#000000;stroke-linecap:square;stroke-linejoin:miter;stroke-width:0.8;\"/>\r\n   </g>\r\n  </g>\r\n </g>\r\n <defs>\r\n  <clipPath id=\"pf501d433c9\">\r\n   <rect height=\"217.44\" width=\"334.8\" x=\"46.0125\" y=\"7.2\"/>\r\n  </clipPath>\r\n </defs>\r\n</svg>\r\n",
      "image/png": "[encoded data removed]"
     },
     "metadata": {
      "needs_background": "light"
     }
    }
   ],
   "source": [
    "## 이상치 제거\n",
    "\n",
    "# sns.boxplot(data = join_ent_other_set[\"watt\"])\n",
    "\n",
    "\n",
    "import pandas as pd\n",
    "from scipy import stats\n",
    "\n",
    "# deleteoutlier = stats.zscore(join_ent_other_set[\"watt\"])\n",
    "# deleteoutlier\n",
    "deleteoutlier = stats.zscore(join_ent_other_set[\"watt\"])\n",
    "join_ent_other_set[\"z_score\"] = deleteoutlier\n",
    "\n",
    "join_ent_other_del = join_ent_other_set.loc[join_ent_other_set['z_score'].abs()<=3]\n",
    "join_ent_other_del.describe()\n",
    "sns.boxplot(data = join_ent_other_del[\"watt\"])\n",
    "# df.loc[df['z_score'].abs()<=3]\n",
    "print(join_ent_other_del['z_score'].max())\n",
    "print(join_ent_other_del['z_score'].min())\n",
    "## csv 저장\n",
    "join_ent_other_del.to_csv('LH1_join.csv', encoding='utf-8')"
   ]
  },
  {
   "cell_type": "code",
   "execution_count": 11,
   "metadata": {},
   "outputs": [
    {
     "output_type": "execute_result",
     "data": {
      "text/plain": [
       "       env_slopesolar  env_levelsolar  env_modtemp  env_airtemp      pow_dcv  \\\n",
       "count     2351.000000     2351.000000  2351.000000  2351.000000  2351.000000   \n",
       "mean       360.720745      356.706477    17.729939    12.774815   319.046535   \n",
       "std        306.498822      292.807263    13.700176    11.300176    66.761122   \n",
       "min          0.000000        0.000000   -10.054386   -12.767742     1.032787   \n",
       "25%         75.292663       87.232323     6.484848     3.423683   318.309211   \n",
       "50%        293.166667      308.225806    15.770769    10.496970   336.322581   \n",
       "75%        623.386137      581.234848    26.870455    23.660606   348.857359   \n",
       "max       1094.015385     1092.830769    56.770769    38.718182   392.456140   \n",
       "\n",
       "           pow_dca          watt           기온          강수량           풍속  \\\n",
       "count  2351.000000   2351.000000  2351.000000  2351.000000  2351.000000   \n",
       "mean     11.530496   3804.733948    12.204509     0.124755     2.382050   \n",
       "std       9.785674   3147.180743    11.063239     0.956647     1.108114   \n",
       "min       0.000000      0.000000   -13.900000     0.000000     0.000000   \n",
       "25%       2.389350    764.836488     3.200000     0.000000     1.500000   \n",
       "50%       9.745000   3357.707499     9.900000     0.000000     2.300000   \n",
       "75%      19.303257   6559.319454    23.000000     0.000000     3.100000   \n",
       "max      35.636064  11672.250475    36.700000    20.400000     9.100000   \n",
       "\n",
       "                풍향           습도           일조           일사           적설  \\\n",
       "count  2351.000000  2351.000000  2351.000000  2351.000000  2351.000000   \n",
       "mean    218.779243    47.270098     0.629519     1.219919     0.033688   \n",
       "std     102.965800    20.140501     0.437143     0.853645     0.305225   \n",
       "min       0.000000    10.000000     0.000000     0.000000     0.000000   \n",
       "25%     110.000000    32.000000     0.000000     0.475000     0.000000   \n",
       "50%     270.000000    44.000000     1.000000     1.130000     0.000000   \n",
       "75%     290.000000    59.000000     1.000000     1.840000     0.000000   \n",
       "max     360.000000    97.000000     1.000000     3.440000     4.900000   \n",
       "\n",
       "               전운량         지중온도  match_solar       z_score  \n",
       "count  2351.000000  2351.000000  2351.000000  2.351000e+03  \n",
       "mean      4.958316    11.320119   338.866440  2.819239e-17  \n",
       "std       3.976843    10.523598   237.123562  1.000213e+00  \n",
       "min       0.000000    -3.100000     0.000000 -1.209191e+00  \n",
       "25%       0.000000     1.300000   131.944444 -9.661168e-01  \n",
       "50%       6.000000     8.000000   313.888889 -1.420705e-01  \n",
       "75%       9.000000    22.200000   511.111111  8.754411e-01  \n",
       "max      10.000000    33.200000   955.555556  2.500394e+00  "
      ],
      "text/html": "<div>\n<style scoped>\n    .dataframe tbody tr th:only-of-type {\n        vertical-align: middle;\n    }\n\n    .dataframe tbody tr th {\n        vertical-align: top;\n    }\n\n    .dataframe thead th {\n        text-align: right;\n    }\n</style>\n<table border=\"1\" class=\"dataframe\">\n  <thead>\n    <tr style=\"text-align: right;\">\n      <th></th>\n      <th>env_slopesolar</th>\n      <th>env_levelsolar</th>\n      <th>env_modtemp</th>\n      <th>env_airtemp</th>\n      <th>pow_dcv</th>\n      <th>pow_dca</th>\n      <th>watt</th>\n      <th>기온</th>\n      <th>강수량</th>\n      <th>풍속</th>\n      <th>풍향</th>\n      <th>습도</th>\n      <th>일조</th>\n      <th>일사</th>\n      <th>적설</th>\n      <th>전운량</th>\n      <th>지중온도</th>\n      <th>match_solar</th>\n      <th>z_score</th>\n    </tr>\n  </thead>\n  <tbody>\n    <tr>\n      <th>count</th>\n      <td>2351.000000</td>\n      <td>2351.000000</td>\n      <td>2351.000000</td>\n      <td>2351.000000</td>\n      <td>2351.000000</td>\n      <td>2351.000000</td>\n      <td>2351.000000</td>\n      <td>2351.000000</td>\n      <td>2351.000000</td>\n      <td>2351.000000</td>\n      <td>2351.000000</td>\n      <td>2351.000000</td>\n      <td>2351.000000</td>\n      <td>2351.000000</td>\n      <td>2351.000000</td>\n      <td>2351.000000</td>\n      <td>2351.000000</td>\n      <td>2351.000000</td>\n      <td>2.351000e+03</td>\n    </tr>\n    <tr>\n      <th>mean</th>\n      <td>360.720745</td>\n      <td>356.706477</td>\n      <td>17.729939</td>\n      <td>12.774815</td>\n      <td>319.046535</td>\n      <td>11.530496</td>\n      <td>3804.733948</td>\n      <td>12.204509</td>\n      <td>0.124755</td>\n      <td>2.382050</td>\n      <td>218.779243</td>\n      <td>47.270098</td>\n      <td>0.629519</td>\n      <td>1.219919</td>\n      <td>0.033688</td>\n      <td>4.958316</td>\n      <td>11.320119</td>\n      <td>338.866440</td>\n      <td>2.819239e-17</td>\n    </tr>\n    <tr>\n      <th>std</th>\n      <td>306.498822</td>\n      <td>292.807263</td>\n      <td>13.700176</td>\n      <td>11.300176</td>\n      <td>66.761122</td>\n      <td>9.785674</td>\n      <td>3147.180743</td>\n      <td>11.063239</td>\n      <td>0.956647</td>\n      <td>1.108114</td>\n      <td>102.965800</td>\n      <td>20.140501</td>\n      <td>0.437143</td>\n      <td>0.853645</td>\n      <td>0.305225</td>\n      <td>3.976843</td>\n      <td>10.523598</td>\n      <td>237.123562</td>\n      <td>1.000213e+00</td>\n    </tr>\n    <tr>\n      <th>min</th>\n      <td>0.000000</td>\n      <td>0.000000</td>\n      <td>-10.054386</td>\n      <td>-12.767742</td>\n      <td>1.032787</td>\n      <td>0.000000</td>\n      <td>0.000000</td>\n      <td>-13.900000</td>\n      <td>0.000000</td>\n      <td>0.000000</td>\n      <td>0.000000</td>\n      <td>10.000000</td>\n      <td>0.000000</td>\n      <td>0.000000</td>\n      <td>0.000000</td>\n      <td>0.000000</td>\n      <td>-3.100000</td>\n      <td>0.000000</td>\n      <td>-1.209191e+00</td>\n    </tr>\n    <tr>\n      <th>25%</th>\n      <td>75.292663</td>\n      <td>87.232323</td>\n      <td>6.484848</td>\n      <td>3.423683</td>\n      <td>318.309211</td>\n      <td>2.389350</td>\n      <td>764.836488</td>\n      <td>3.200000</td>\n      <td>0.000000</td>\n      <td>1.500000</td>\n      <td>110.000000</td>\n      <td>32.000000</td>\n      <td>0.000000</td>\n      <td>0.475000</td>\n      <td>0.000000</td>\n      <td>0.000000</td>\n      <td>1.300000</td>\n      <td>131.944444</td>\n      <td>-9.661168e-01</td>\n    </tr>\n    <tr>\n      <th>50%</th>\n      <td>293.166667</td>\n      <td>308.225806</td>\n      <td>15.770769</td>\n      <td>10.496970</td>\n      <td>336.322581</td>\n      <td>9.745000</td>\n      <td>3357.707499</td>\n      <td>9.900000</td>\n      <td>0.000000</td>\n      <td>2.300000</td>\n      <td>270.000000</td>\n      <td>44.000000</td>\n      <td>1.000000</td>\n      <td>1.130000</td>\n      <td>0.000000</td>\n      <td>6.000000</td>\n      <td>8.000000</td>\n      <td>313.888889</td>\n      <td>-1.420705e-01</td>\n    </tr>\n    <tr>\n      <th>75%</th>\n      <td>623.386137</td>\n      <td>581.234848</td>\n      <td>26.870455</td>\n      <td>23.660606</td>\n      <td>348.857359</td>\n      <td>19.303257</td>\n      <td>6559.319454</td>\n      <td>23.000000</td>\n      <td>0.000000</td>\n      <td>3.100000</td>\n      <td>290.000000</td>\n      <td>59.000000</td>\n      <td>1.000000</td>\n      <td>1.840000</td>\n      <td>0.000000</td>\n      <td>9.000000</td>\n      <td>22.200000</td>\n      <td>511.111111</td>\n      <td>8.754411e-01</td>\n    </tr>\n    <tr>\n      <th>max</th>\n      <td>1094.015385</td>\n      <td>1092.830769</td>\n      <td>56.770769</td>\n      <td>38.718182</td>\n      <td>392.456140</td>\n      <td>35.636064</td>\n      <td>11672.250475</td>\n      <td>36.700000</td>\n      <td>20.400000</td>\n      <td>9.100000</td>\n      <td>360.000000</td>\n      <td>97.000000</td>\n      <td>1.000000</td>\n      <td>3.440000</td>\n      <td>4.900000</td>\n      <td>10.000000</td>\n      <td>33.200000</td>\n      <td>955.555556</td>\n      <td>2.500394e+00</td>\n    </tr>\n  </tbody>\n</table>\n</div>"
     },
     "metadata": {},
     "execution_count": 11
    }
   ],
   "source": [
    "join_ent_other_del.describe()"
   ]
  },
  {
   "cell_type": "code",
   "execution_count": 12,
   "metadata": {},
   "outputs": [
    {
     "output_type": "execute_result",
     "data": {
      "text/plain": [
       "                env_slopesolar  env_levelsolar  env_modtemp  env_airtemp  \\\n",
       "env_slopesolar        1.000000        0.979420     0.553806     0.177391   \n",
       "env_levelsolar        0.979420        1.000000     0.604234     0.251273   \n",
       "env_modtemp           0.553806        0.604234     1.000000     0.905907   \n",
       "env_airtemp           0.177391        0.251273     0.905907     1.000000   \n",
       "pow_dcv               0.216463        0.213942     0.059641    -0.042350   \n",
       "pow_dca               0.991296        0.989386     0.597074     0.235142   \n",
       "watt                  0.991404        0.983435     0.545048     0.175047   \n",
       "기온                    0.098966        0.178367     0.861650     0.993045   \n",
       "강수량                  -0.127037       -0.129898    -0.003176     0.056388   \n",
       "풍속                   -0.075219       -0.036068    -0.181725    -0.103220   \n",
       "풍향                    0.022776        0.040029    -0.118281    -0.103847   \n",
       "습도                   -0.264416       -0.288275     0.050960     0.155695   \n",
       "일조                    0.542361        0.559656     0.228163     0.028502   \n",
       "일사                    0.722319        0.797222     0.586102     0.373636   \n",
       "적설                   -0.030902       -0.032641    -0.143017    -0.156278   \n",
       "전운량                  -0.430954       -0.422212    -0.021114     0.156985   \n",
       "지중온도                  0.060558        0.129374     0.805942     0.949776   \n",
       "match_solar           0.722319        0.797222     0.586102     0.373636   \n",
       "z_score               0.991404        0.983435     0.545048     0.175047   \n",
       "\n",
       "                 pow_dcv   pow_dca      watt        기온       강수량        풍속  \\\n",
       "env_slopesolar  0.216463  0.991296  0.991404  0.098966 -0.127037 -0.075219   \n",
       "env_levelsolar  0.213942  0.989386  0.983435  0.178367 -0.129898 -0.036068   \n",
       "env_modtemp     0.059641  0.597074  0.545048  0.861650 -0.003176 -0.181725   \n",
       "env_airtemp    -0.042350  0.235142  0.175047  0.993045  0.056388 -0.103220   \n",
       "pow_dcv         1.000000  0.203844  0.230808 -0.055980  0.001629  0.023277   \n",
       "pow_dca         0.203844  1.000000  0.995441  0.159624 -0.127066 -0.059232   \n",
       "watt            0.230808  0.995441  1.000000  0.100178 -0.130687 -0.044221   \n",
       "기온             -0.055980  0.159624  0.100178  1.000000  0.073226 -0.070655   \n",
       "강수량             0.001629 -0.127066 -0.130687  0.073226  1.000000 -0.044861   \n",
       "풍속              0.023277 -0.059232 -0.044221 -0.070655 -0.044861  1.000000   \n",
       "풍향             -0.028152  0.024722  0.037739 -0.094644 -0.039524  0.316244   \n",
       "습도             -0.046207 -0.267200 -0.283705  0.158384  0.300570 -0.176147   \n",
       "일조              0.222148  0.540007  0.547812  0.001337 -0.183615  0.167036   \n",
       "일사              0.239931  0.768833  0.760850  0.344302 -0.158238  0.147440   \n",
       "적설              0.052109 -0.035981 -0.028230 -0.157476 -0.004621  0.135830   \n",
       "전운량             0.016854 -0.409461 -0.420664  0.182804  0.162792 -0.144193   \n",
       "지중온도           -0.065797  0.115967  0.059078  0.957064  0.111365 -0.033636   \n",
       "match_solar     0.239931  0.768833  0.760850  0.344302 -0.158238  0.147440   \n",
       "z_score         0.230808  0.995441  1.000000  0.100178 -0.130687 -0.044221   \n",
       "\n",
       "                      풍향        습도        일조        일사        적설       전운량  \\\n",
       "env_slopesolar  0.022776 -0.264416  0.542361  0.722319 -0.030902 -0.430954   \n",
       "env_levelsolar  0.040029 -0.288275  0.559656  0.797222 -0.032641 -0.422212   \n",
       "env_modtemp    -0.118281  0.050960  0.228163  0.586102 -0.143017 -0.021114   \n",
       "env_airtemp    -0.103847  0.155695  0.028502  0.373636 -0.156278  0.156985   \n",
       "pow_dcv        -0.028152 -0.046207  0.222148  0.239931  0.052109  0.016854   \n",
       "pow_dca         0.024722 -0.267200  0.540007  0.768833 -0.035981 -0.409461   \n",
       "watt            0.037739 -0.283705  0.547812  0.760850 -0.028230 -0.420664   \n",
       "기온             -0.094644  0.158384  0.001337  0.344302 -0.157476  0.182804   \n",
       "강수량            -0.039524  0.300570 -0.183615 -0.158238 -0.004621  0.162792   \n",
       "풍속              0.316244 -0.176147  0.167036  0.147440  0.135830 -0.144193   \n",
       "풍향              1.000000 -0.196349  0.231034  0.153582  0.078690 -0.242269   \n",
       "습도             -0.196349  1.000000 -0.600653 -0.492664  0.114396  0.550361   \n",
       "일조              0.231034 -0.600653  1.000000  0.701259 -0.084987 -0.740206   \n",
       "일사              0.153582 -0.492664  0.701259  1.000000 -0.068570 -0.455223   \n",
       "적설              0.078690  0.114396 -0.084987 -0.068570  1.000000  0.074672   \n",
       "전운량            -0.242269  0.550361 -0.740206 -0.455223  0.074672  1.000000   \n",
       "지중온도           -0.052388  0.238535 -0.040842  0.261213 -0.089876  0.191331   \n",
       "match_solar     0.153582 -0.492664  0.701259  1.000000 -0.068570 -0.455223   \n",
       "z_score         0.037739 -0.283705  0.547812  0.760850 -0.028230 -0.420664   \n",
       "\n",
       "                    지중온도  match_solar   z_score  \n",
       "env_slopesolar  0.060558     0.722319  0.991404  \n",
       "env_levelsolar  0.129374     0.797222  0.983435  \n",
       "env_modtemp     0.805942     0.586102  0.545048  \n",
       "env_airtemp     0.949776     0.373636  0.175047  \n",
       "pow_dcv        -0.065797     0.239931  0.230808  \n",
       "pow_dca         0.115967     0.768833  0.995441  \n",
       "watt            0.059078     0.760850  1.000000  \n",
       "기온              0.957064     0.344302  0.100178  \n",
       "강수량             0.111365    -0.158238 -0.130687  \n",
       "풍속             -0.033636     0.147440 -0.044221  \n",
       "풍향             -0.052388     0.153582  0.037739  \n",
       "습도              0.238535    -0.492664 -0.283705  \n",
       "일조             -0.040842     0.701259  0.547812  \n",
       "일사              0.261213     1.000000  0.760850  \n",
       "적설             -0.089876    -0.068570 -0.028230  \n",
       "전운량             0.191331    -0.455223 -0.420664  \n",
       "지중온도            1.000000     0.261213  0.059078  \n",
       "match_solar     0.261213     1.000000  0.760850  \n",
       "z_score         0.059078     0.760850  1.000000  "
      ],
      "text/html": "<div>\n<style scoped>\n    .dataframe tbody tr th:only-of-type {\n        vertical-align: middle;\n    }\n\n    .dataframe tbody tr th {\n        vertical-align: top;\n    }\n\n    .dataframe thead th {\n        text-align: right;\n    }\n</style>\n<table border=\"1\" class=\"dataframe\">\n  <thead>\n    <tr style=\"text-align: right;\">\n      <th></th>\n      <th>env_slopesolar</th>\n      <th>env_levelsolar</th>\n      <th>env_modtemp</th>\n      <th>env_airtemp</th>\n      <th>pow_dcv</th>\n      <th>pow_dca</th>\n      <th>watt</th>\n      <th>기온</th>\n      <th>강수량</th>\n      <th>풍속</th>\n      <th>풍향</th>\n      <th>습도</th>\n      <th>일조</th>\n      <th>일사</th>\n      <th>적설</th>\n      <th>전운량</th>\n      <th>지중온도</th>\n      <th>match_solar</th>\n      <th>z_score</th>\n    </tr>\n  </thead>\n  <tbody>\n    <tr>\n      <th>env_slopesolar</th>\n      <td>1.000000</td>\n      <td>0.979420</td>\n      <td>0.553806</td>\n      <td>0.177391</td>\n      <td>0.216463</td>\n      <td>0.991296</td>\n      <td>0.991404</td>\n      <td>0.098966</td>\n      <td>-0.127037</td>\n      <td>-0.075219</td>\n      <td>0.022776</td>\n      <td>-0.264416</td>\n      <td>0.542361</td>\n      <td>0.722319</td>\n      <td>-0.030902</td>\n      <td>-0.430954</td>\n      <td>0.060558</td>\n      <td>0.722319</td>\n      <td>0.991404</td>\n    </tr>\n    <tr>\n      <th>env_levelsolar</th>\n      <td>0.979420</td>\n      <td>1.000000</td>\n      <td>0.604234</td>\n      <td>0.251273</td>\n      <td>0.213942</td>\n      <td>0.989386</td>\n      <td>0.983435</td>\n      <td>0.178367</td>\n      <td>-0.129898</td>\n      <td>-0.036068</td>\n      <td>0.040029</td>\n      <td>-0.288275</td>\n      <td>0.559656</td>\n      <td>0.797222</td>\n      <td>-0.032641</td>\n      <td>-0.422212</td>\n      <td>0.129374</td>\n      <td>0.797222</td>\n      <td>0.983435</td>\n    </tr>\n    <tr>\n      <th>env_modtemp</th>\n      <td>0.553806</td>\n      <td>0.604234</td>\n      <td>1.000000</td>\n      <td>0.905907</td>\n      <td>0.059641</td>\n      <td>0.597074</td>\n      <td>0.545048</td>\n      <td>0.861650</td>\n      <td>-0.003176</td>\n      <td>-0.181725</td>\n      <td>-0.118281</td>\n      <td>0.050960</td>\n      <td>0.228163</td>\n      <td>0.586102</td>\n      <td>-0.143017</td>\n      <td>-0.021114</td>\n      <td>0.805942</td>\n      <td>0.586102</td>\n      <td>0.545048</td>\n    </tr>\n    <tr>\n      <th>env_airtemp</th>\n      <td>0.177391</td>\n      <td>0.251273</td>\n      <td>0.905907</td>\n      <td>1.000000</td>\n      <td>-0.042350</td>\n      <td>0.235142</td>\n      <td>0.175047</td>\n      <td>0.993045</td>\n      <td>0.056388</td>\n      <td>-0.103220</td>\n      <td>-0.103847</td>\n      <td>0.155695</td>\n      <td>0.028502</td>\n      <td>0.373636</td>\n      <td>-0.156278</td>\n      <td>0.156985</td>\n      <td>0.949776</td>\n      <td>0.373636</td>\n      <td>0.175047</td>\n    </tr>\n    <tr>\n      <th>pow_dcv</th>\n      <td>0.216463</td>\n      <td>0.213942</td>\n      <td>0.059641</td>\n      <td>-0.042350</td>\n      <td>1.000000</td>\n      <td>0.203844</td>\n      <td>0.230808</td>\n      <td>-0.055980</td>\n      <td>0.001629</td>\n      <td>0.023277</td>\n      <td>-0.028152</td>\n      <td>-0.046207</td>\n      <td>0.222148</td>\n      <td>0.239931</td>\n      <td>0.052109</td>\n      <td>0.016854</td>\n      <td>-0.065797</td>\n      <td>0.239931</td>\n      <td>0.230808</td>\n    </tr>\n    <tr>\n      <th>pow_dca</th>\n      <td>0.991296</td>\n      <td>0.989386</td>\n      <td>0.597074</td>\n      <td>0.235142</td>\n      <td>0.203844</td>\n      <td>1.000000</td>\n      <td>0.995441</td>\n      <td>0.159624</td>\n      <td>-0.127066</td>\n      <td>-0.059232</td>\n      <td>0.024722</td>\n      <td>-0.267200</td>\n      <td>0.540007</td>\n      <td>0.768833</td>\n      <td>-0.035981</td>\n      <td>-0.409461</td>\n      <td>0.115967</td>\n      <td>0.768833</td>\n      <td>0.995441</td>\n    </tr>\n    <tr>\n      <th>watt</th>\n      <td>0.991404</td>\n      <td>0.983435</td>\n      <td>0.545048</td>\n      <td>0.175047</td>\n      <td>0.230808</td>\n      <td>0.995441</td>\n      <td>1.000000</td>\n      <td>0.100178</td>\n      <td>-0.130687</td>\n      <td>-0.044221</td>\n      <td>0.037739</td>\n      <td>-0.283705</td>\n      <td>0.547812</td>\n      <td>0.760850</td>\n      <td>-0.028230</td>\n      <td>-0.420664</td>\n      <td>0.059078</td>\n      <td>0.760850</td>\n      <td>1.000000</td>\n    </tr>\n    <tr>\n      <th>기온</th>\n      <td>0.098966</td>\n      <td>0.178367</td>\n      <td>0.861650</td>\n      <td>0.993045</td>\n      <td>-0.055980</td>\n      <td>0.159624</td>\n      <td>0.100178</td>\n      <td>1.000000</td>\n      <td>0.073226</td>\n      <td>-0.070655</td>\n      <td>-0.094644</td>\n      <td>0.158384</td>\n      <td>0.001337</td>\n      <td>0.344302</td>\n      <td>-0.157476</td>\n      <td>0.182804</td>\n      <td>0.957064</td>\n      <td>0.344302</td>\n      <td>0.100178</td>\n    </tr>\n    <tr>\n      <th>강수량</th>\n      <td>-0.127037</td>\n      <td>-0.129898</td>\n      <td>-0.003176</td>\n      <td>0.056388</td>\n      <td>0.001629</td>\n      <td>-0.127066</td>\n      <td>-0.130687</td>\n      <td>0.073226</td>\n      <td>1.000000</td>\n      <td>-0.044861</td>\n      <td>-0.039524</td>\n      <td>0.300570</td>\n      <td>-0.183615</td>\n      <td>-0.158238</td>\n      <td>-0.004621</td>\n      <td>0.162792</td>\n      <td>0.111365</td>\n      <td>-0.158238</td>\n      <td>-0.130687</td>\n    </tr>\n    <tr>\n      <th>풍속</th>\n      <td>-0.075219</td>\n      <td>-0.036068</td>\n      <td>-0.181725</td>\n      <td>-0.103220</td>\n      <td>0.023277</td>\n      <td>-0.059232</td>\n      <td>-0.044221</td>\n      <td>-0.070655</td>\n      <td>-0.044861</td>\n      <td>1.000000</td>\n      <td>0.316244</td>\n      <td>-0.176147</td>\n      <td>0.167036</td>\n      <td>0.147440</td>\n      <td>0.135830</td>\n      <td>-0.144193</td>\n      <td>-0.033636</td>\n      <td>0.147440</td>\n      <td>-0.044221</td>\n    </tr>\n    <tr>\n      <th>풍향</th>\n      <td>0.022776</td>\n      <td>0.040029</td>\n      <td>-0.118281</td>\n      <td>-0.103847</td>\n      <td>-0.028152</td>\n      <td>0.024722</td>\n      <td>0.037739</td>\n      <td>-0.094644</td>\n      <td>-0.039524</td>\n      <td>0.316244</td>\n      <td>1.000000</td>\n      <td>-0.196349</td>\n      <td>0.231034</td>\n      <td>0.153582</td>\n      <td>0.078690</td>\n      <td>-0.242269</td>\n      <td>-0.052388</td>\n      <td>0.153582</td>\n      <td>0.037739</td>\n    </tr>\n    <tr>\n      <th>습도</th>\n      <td>-0.264416</td>\n      <td>-0.288275</td>\n      <td>0.050960</td>\n      <td>0.155695</td>\n      <td>-0.046207</td>\n      <td>-0.267200</td>\n      <td>-0.283705</td>\n      <td>0.158384</td>\n      <td>0.300570</td>\n      <td>-0.176147</td>\n      <td>-0.196349</td>\n      <td>1.000000</td>\n      <td>-0.600653</td>\n      <td>-0.492664</td>\n      <td>0.114396</td>\n      <td>0.550361</td>\n      <td>0.238535</td>\n      <td>-0.492664</td>\n      <td>-0.283705</td>\n    </tr>\n    <tr>\n      <th>일조</th>\n      <td>0.542361</td>\n      <td>0.559656</td>\n      <td>0.228163</td>\n      <td>0.028502</td>\n      <td>0.222148</td>\n      <td>0.540007</td>\n      <td>0.547812</td>\n      <td>0.001337</td>\n      <td>-0.183615</td>\n      <td>0.167036</td>\n      <td>0.231034</td>\n      <td>-0.600653</td>\n      <td>1.000000</td>\n      <td>0.701259</td>\n      <td>-0.084987</td>\n      <td>-0.740206</td>\n      <td>-0.040842</td>\n      <td>0.701259</td>\n      <td>0.547812</td>\n    </tr>\n    <tr>\n      <th>일사</th>\n      <td>0.722319</td>\n      <td>0.797222</td>\n      <td>0.586102</td>\n      <td>0.373636</td>\n      <td>0.239931</td>\n      <td>0.768833</td>\n      <td>0.760850</td>\n      <td>0.344302</td>\n      <td>-0.158238</td>\n      <td>0.147440</td>\n      <td>0.153582</td>\n      <td>-0.492664</td>\n      <td>0.701259</td>\n      <td>1.000000</td>\n      <td>-0.068570</td>\n      <td>-0.455223</td>\n      <td>0.261213</td>\n      <td>1.000000</td>\n      <td>0.760850</td>\n    </tr>\n    <tr>\n      <th>적설</th>\n      <td>-0.030902</td>\n      <td>-0.032641</td>\n      <td>-0.143017</td>\n      <td>-0.156278</td>\n      <td>0.052109</td>\n      <td>-0.035981</td>\n      <td>-0.028230</td>\n      <td>-0.157476</td>\n      <td>-0.004621</td>\n      <td>0.135830</td>\n      <td>0.078690</td>\n      <td>0.114396</td>\n      <td>-0.084987</td>\n      <td>-0.068570</td>\n      <td>1.000000</td>\n      <td>0.074672</td>\n      <td>-0.089876</td>\n      <td>-0.068570</td>\n      <td>-0.028230</td>\n    </tr>\n    <tr>\n      <th>전운량</th>\n      <td>-0.430954</td>\n      <td>-0.422212</td>\n      <td>-0.021114</td>\n      <td>0.156985</td>\n      <td>0.016854</td>\n      <td>-0.409461</td>\n      <td>-0.420664</td>\n      <td>0.182804</td>\n      <td>0.162792</td>\n      <td>-0.144193</td>\n      <td>-0.242269</td>\n      <td>0.550361</td>\n      <td>-0.740206</td>\n      <td>-0.455223</td>\n      <td>0.074672</td>\n      <td>1.000000</td>\n      <td>0.191331</td>\n      <td>-0.455223</td>\n      <td>-0.420664</td>\n    </tr>\n    <tr>\n      <th>지중온도</th>\n      <td>0.060558</td>\n      <td>0.129374</td>\n      <td>0.805942</td>\n      <td>0.949776</td>\n      <td>-0.065797</td>\n      <td>0.115967</td>\n      <td>0.059078</td>\n      <td>0.957064</td>\n      <td>0.111365</td>\n      <td>-0.033636</td>\n      <td>-0.052388</td>\n      <td>0.238535</td>\n      <td>-0.040842</td>\n      <td>0.261213</td>\n      <td>-0.089876</td>\n      <td>0.191331</td>\n      <td>1.000000</td>\n      <td>0.261213</td>\n      <td>0.059078</td>\n    </tr>\n    <tr>\n      <th>match_solar</th>\n      <td>0.722319</td>\n      <td>0.797222</td>\n      <td>0.586102</td>\n      <td>0.373636</td>\n      <td>0.239931</td>\n      <td>0.768833</td>\n      <td>0.760850</td>\n      <td>0.344302</td>\n      <td>-0.158238</td>\n      <td>0.147440</td>\n      <td>0.153582</td>\n      <td>-0.492664</td>\n      <td>0.701259</td>\n      <td>1.000000</td>\n      <td>-0.068570</td>\n      <td>-0.455223</td>\n      <td>0.261213</td>\n      <td>1.000000</td>\n      <td>0.760850</td>\n    </tr>\n    <tr>\n      <th>z_score</th>\n      <td>0.991404</td>\n      <td>0.983435</td>\n      <td>0.545048</td>\n      <td>0.175047</td>\n      <td>0.230808</td>\n      <td>0.995441</td>\n      <td>1.000000</td>\n      <td>0.100178</td>\n      <td>-0.130687</td>\n      <td>-0.044221</td>\n      <td>0.037739</td>\n      <td>-0.283705</td>\n      <td>0.547812</td>\n      <td>0.760850</td>\n      <td>-0.028230</td>\n      <td>-0.420664</td>\n      <td>0.059078</td>\n      <td>0.760850</td>\n      <td>1.000000</td>\n    </tr>\n  </tbody>\n</table>\n</div>"
     },
     "metadata": {},
     "execution_count": 12
    }
   ],
   "source": [
    "join_ent_other_del.corr()"
   ]
  },
  {
   "cell_type": "code",
   "execution_count": 13,
   "metadata": {},
   "outputs": [
    {
     "output_type": "execute_result",
     "data": {
      "text/plain": [
       "<matplotlib.axes._subplots.AxesSubplot at 0x21b2d5bcf08>"
      ]
     },
     "metadata": {},
     "execution_count": 13
    },
    {
     "output_type": "display_data",
     "data": {
      "text/plain": "<Figure size 432x288 with 1 Axes>",
      "image/svg+xml": "<?xml version=\"1.0\" encoding=\"utf-8\" standalone=\"no\"?>\r\n<!DOCTYPE svg PUBLIC \"-//W3C//DTD SVG 1.1//EN\"\r\n  \"http://www.w3.org/Graphics/SVG/1.1/DTD/svg11.dtd\">\r\n<!-- Created with matplotlib (https://matplotlib.org/) -->\r\n<svg height=\"248.79625pt\" version=\"1.1\" viewBox=\"0 0 381.65 248.79625\" width=\"381.65pt\" xmlns=\"http://www.w3.org/2000/svg\" xmlns:xlink=\"http://www.w3.org/1999/xlink\">\r\n <defs>\r\n  <style type=\"text/css\">\r\n*{stroke-linecap:butt;stroke-linejoin:round;}\r\n  </style>\r\n </defs>\r\n <g id=\"figure_1\">\r\n  <g id=\"patch_1\">\r\n   <path d=\"M -0 248.79625 \r\nL 381.65 248.79625 \r\nL 381.65 0 \r\nL -0 0 \r\nz\r\n\" style=\"fill:none;\"/>\r\n  </g>\r\n  <g id=\"axes_1\">\r\n   <g id=\"patch_2\">\r\n    <path d=\"M 39.65 224.64 \r\nL 374.45 224.64 \r\nL 374.45 7.2 \r\nL 39.65 7.2 \r\nz\r\n\" style=\"fill:#ffffff;\"/>\r\n   </g>\r\n   <g id=\"patch_3\">\r\n    <path clip-path=\"url(#p967271c4a7)\" d=\"M 50.81 201.15207 \r\nL 140.09 201.15207 \r\nL 140.09 102.119522 \r\nL 50.81 102.119522 \r\nL 50.81 201.15207 \r\nz\r\n\" style=\"fill:#3274a1;stroke:#3d3d3d;stroke-linejoin:miter;stroke-width:1.5;\"/>\r\n   </g>\r\n   <g id=\"patch_4\">\r\n    <path clip-path=\"url(#p967271c4a7)\" d=\"M 162.41 198.994747 \r\nL 251.69 198.994747 \r\nL 251.69 109.735649 \r\nL 162.41 109.735649 \r\nL 162.41 198.994747 \r\nz\r\n\" style=\"fill:#e1812c;stroke:#3d3d3d;stroke-linejoin:miter;stroke-width:1.5;\"/>\r\n   </g>\r\n   <g id=\"patch_5\">\r\n    <path clip-path=\"url(#p967271c4a7)\" d=\"M 274.01 190.915914 \r\nL 363.29 190.915914 \r\nL 363.29 122.405992 \r\nL 274.01 122.405992 \r\nL 274.01 190.915914 \r\nz\r\n\" style=\"fill:#3a923a;stroke:#3d3d3d;stroke-linejoin:miter;stroke-width:1.5;\"/>\r\n   </g>\r\n   <g id=\"matplotlib.axis_1\">\r\n    <g id=\"xtick_1\">\r\n     <g id=\"line2d_1\">\r\n      <defs>\r\n       <path d=\"M 0 0 \r\nL 0 3.5 \r\n\" id=\"m895c223a67\" style=\"stroke:#000000;stroke-width:0.8;\"/>\r\n      </defs>\r\n      <g>\r\n       <use style=\"stroke:#000000;stroke-width:0.8;\" x=\"95.45\" xlink:href=\"#m895c223a67\" y=\"224.64\"/>\r\n      </g>\r\n     </g>\r\n     <g id=\"text_1\">\r\n      <!-- env_slopesolar -->\r\n      <defs>\r\n       <path d=\"M 56.203125 29.59375 \r\nL 56.203125 25.203125 \r\nL 14.890625 25.203125 \r\nQ 15.484375 15.921875 20.484375 11.0625 \r\nQ 25.484375 6.203125 34.421875 6.203125 \r\nQ 39.59375 6.203125 44.453125 7.46875 \r\nQ 49.3125 8.734375 54.109375 11.28125 \r\nL 54.109375 2.78125 \r\nQ 49.265625 0.734375 44.1875 -0.34375 \r\nQ 39.109375 -1.421875 33.890625 -1.421875 \r\nQ 20.796875 -1.421875 13.15625 6.1875 \r\nQ 5.515625 13.8125 5.515625 26.8125 \r\nQ 5.515625 40.234375 12.765625 48.109375 \r\nQ 20.015625 56 32.328125 56 \r\nQ 43.359375 56 49.78125 48.890625 \r\nQ 56.203125 41.796875 56.203125 29.59375 \r\nz\r\nM 47.21875 32.234375 \r\nQ 47.125 39.59375 43.09375 43.984375 \r\nQ 39.0625 48.390625 32.421875 48.390625 \r\nQ 24.90625 48.390625 20.390625 44.140625 \r\nQ 15.875 39.890625 15.1875 32.171875 \r\nz\r\n\" id=\"DejaVuSans-101\"/>\r\n       <path d=\"M 54.890625 33.015625 \r\nL 54.890625 0 \r\nL 45.90625 0 \r\nL 45.90625 32.71875 \r\nQ 45.90625 40.484375 42.875 44.328125 \r\nQ 39.84375 48.1875 33.796875 48.1875 \r\nQ 26.515625 48.1875 22.3125 43.546875 \r\nQ 18.109375 38.921875 18.109375 30.90625 \r\nL 18.109375 0 \r\nL 9.078125 0 \r\nL 9.078125 54.6875 \r\nL 18.109375 54.6875 \r\nL 18.109375 46.1875 \r\nQ 21.34375 51.125 25.703125 53.5625 \r\nQ 30.078125 56 35.796875 56 \r\nQ 45.21875 56 50.046875 50.171875 \r\nQ 54.890625 44.34375 54.890625 33.015625 \r\nz\r\n\" id=\"DejaVuSans-110\"/>\r\n       <path d=\"M 2.984375 54.6875 \r\nL 12.5 54.6875 \r\nL 29.59375 8.796875 \r\nL 46.6875 54.6875 \r\nL 56.203125 54.6875 \r\nL 35.6875 0 \r\nL 23.484375 0 \r\nz\r\n\" id=\"DejaVuSans-118\"/>\r\n       <path d=\"M 50.984375 -16.609375 \r\nL 50.984375 -23.578125 \r\nL -0.984375 -23.578125 \r\nL -0.984375 -16.609375 \r\nz\r\n\" id=\"DejaVuSans-95\"/>\r\n       <path d=\"M 44.28125 53.078125 \r\nL 44.28125 44.578125 \r\nQ 40.484375 46.53125 36.375 47.5 \r\nQ 32.28125 48.484375 27.875 48.484375 \r\nQ 21.1875 48.484375 17.84375 46.4375 \r\nQ 14.5 44.390625 14.5 40.28125 \r\nQ 14.5 37.15625 16.890625 35.375 \r\nQ 19.28125 33.59375 26.515625 31.984375 \r\nL 29.59375 31.296875 \r\nQ 39.15625 29.25 43.1875 25.515625 \r\nQ 47.21875 21.78125 47.21875 15.09375 \r\nQ 47.21875 7.46875 41.1875 3.015625 \r\nQ 35.15625 -1.421875 24.609375 -1.421875 \r\nQ 20.21875 -1.421875 15.453125 -0.5625 \r\nQ 10.6875 0.296875 5.421875 2 \r\nL 5.421875 11.28125 \r\nQ 10.40625 8.6875 15.234375 7.390625 \r\nQ 20.0625 6.109375 24.8125 6.109375 \r\nQ 31.15625 6.109375 34.5625 8.28125 \r\nQ 37.984375 10.453125 37.984375 14.40625 \r\nQ 37.984375 18.0625 35.515625 20.015625 \r\nQ 33.0625 21.96875 24.703125 23.78125 \r\nL 21.578125 24.515625 \r\nQ 13.234375 26.265625 9.515625 29.90625 \r\nQ 5.8125 33.546875 5.8125 39.890625 \r\nQ 5.8125 47.609375 11.28125 51.796875 \r\nQ 16.75 56 26.8125 56 \r\nQ 31.78125 56 36.171875 55.265625 \r\nQ 40.578125 54.546875 44.28125 53.078125 \r\nz\r\n\" id=\"DejaVuSans-115\"/>\r\n       <path d=\"M 9.421875 75.984375 \r\nL 18.40625 75.984375 \r\nL 18.40625 0 \r\nL 9.421875 0 \r\nz\r\n\" id=\"DejaVuSans-108\"/>\r\n       <path d=\"M 30.609375 48.390625 \r\nQ 23.390625 48.390625 19.1875 42.75 \r\nQ 14.984375 37.109375 14.984375 27.296875 \r\nQ 14.984375 17.484375 19.15625 11.84375 \r\nQ 23.34375 6.203125 30.609375 6.203125 \r\nQ 37.796875 6.203125 41.984375 11.859375 \r\nQ 46.1875 17.53125 46.1875 27.296875 \r\nQ 46.1875 37.015625 41.984375 42.703125 \r\nQ 37.796875 48.390625 30.609375 48.390625 \r\nz\r\nM 30.609375 56 \r\nQ 42.328125 56 49.015625 48.375 \r\nQ 55.71875 40.765625 55.71875 27.296875 \r\nQ 55.71875 13.875 49.015625 6.21875 \r\nQ 42.328125 -1.421875 30.609375 -1.421875 \r\nQ 18.84375 -1.421875 12.171875 6.21875 \r\nQ 5.515625 13.875 5.515625 27.296875 \r\nQ 5.515625 40.765625 12.171875 48.375 \r\nQ 18.84375 56 30.609375 56 \r\nz\r\n\" id=\"DejaVuSans-111\"/>\r\n       <path d=\"M 18.109375 8.203125 \r\nL 18.109375 -20.796875 \r\nL 9.078125 -20.796875 \r\nL 9.078125 54.6875 \r\nL 18.109375 54.6875 \r\nL 18.109375 46.390625 \r\nQ 20.953125 51.265625 25.265625 53.625 \r\nQ 29.59375 56 35.59375 56 \r\nQ 45.5625 56 51.78125 48.09375 \r\nQ 58.015625 40.1875 58.015625 27.296875 \r\nQ 58.015625 14.40625 51.78125 6.484375 \r\nQ 45.5625 -1.421875 35.59375 -1.421875 \r\nQ 29.59375 -1.421875 25.265625 0.953125 \r\nQ 20.953125 3.328125 18.109375 8.203125 \r\nz\r\nM 48.6875 27.296875 \r\nQ 48.6875 37.203125 44.609375 42.84375 \r\nQ 40.53125 48.484375 33.40625 48.484375 \r\nQ 26.265625 48.484375 22.1875 42.84375 \r\nQ 18.109375 37.203125 18.109375 27.296875 \r\nQ 18.109375 17.390625 22.1875 11.75 \r\nQ 26.265625 6.109375 33.40625 6.109375 \r\nQ 40.53125 6.109375 44.609375 11.75 \r\nQ 48.6875 17.390625 48.6875 27.296875 \r\nz\r\n\" id=\"DejaVuSans-112\"/>\r\n       <path d=\"M 34.28125 27.484375 \r\nQ 23.390625 27.484375 19.1875 25 \r\nQ 14.984375 22.515625 14.984375 16.5 \r\nQ 14.984375 11.71875 18.140625 8.90625 \r\nQ 21.296875 6.109375 26.703125 6.109375 \r\nQ 34.1875 6.109375 38.703125 11.40625 \r\nQ 43.21875 16.703125 43.21875 25.484375 \r\nL 43.21875 27.484375 \r\nz\r\nM 52.203125 31.203125 \r\nL 52.203125 0 \r\nL 43.21875 0 \r\nL 43.21875 8.296875 \r\nQ 40.140625 3.328125 35.546875 0.953125 \r\nQ 30.953125 -1.421875 24.3125 -1.421875 \r\nQ 15.921875 -1.421875 10.953125 3.296875 \r\nQ 6 8.015625 6 15.921875 \r\nQ 6 25.140625 12.171875 29.828125 \r\nQ 18.359375 34.515625 30.609375 34.515625 \r\nL 43.21875 34.515625 \r\nL 43.21875 35.40625 \r\nQ 43.21875 41.609375 39.140625 45 \r\nQ 35.0625 48.390625 27.6875 48.390625 \r\nQ 23 48.390625 18.546875 47.265625 \r\nQ 14.109375 46.140625 10.015625 43.890625 \r\nL 10.015625 52.203125 \r\nQ 14.9375 54.109375 19.578125 55.046875 \r\nQ 24.21875 56 28.609375 56 \r\nQ 40.484375 56 46.34375 49.84375 \r\nQ 52.203125 43.703125 52.203125 31.203125 \r\nz\r\n\" id=\"DejaVuSans-97\"/>\r\n       <path d=\"M 41.109375 46.296875 \r\nQ 39.59375 47.171875 37.8125 47.578125 \r\nQ 36.03125 48 33.890625 48 \r\nQ 26.265625 48 22.1875 43.046875 \r\nQ 18.109375 38.09375 18.109375 28.8125 \r\nL 18.109375 0 \r\nL 9.078125 0 \r\nL 9.078125 54.6875 \r\nL 18.109375 54.6875 \r\nL 18.109375 46.1875 \r\nQ 20.953125 51.171875 25.484375 53.578125 \r\nQ 30.03125 56 36.53125 56 \r\nQ 37.453125 56 38.578125 55.875 \r\nQ 39.703125 55.765625 41.0625 55.515625 \r\nz\r\n\" id=\"DejaVuSans-114\"/>\r\n      </defs>\r\n      <g transform=\"translate(58.26875 239.238437)scale(0.1 -0.1)\">\r\n       <use xlink:href=\"#DejaVuSans-101\"/>\r\n       <use x=\"61.523438\" xlink:href=\"#DejaVuSans-110\"/>\r\n       <use x=\"124.902344\" xlink:href=\"#DejaVuSans-118\"/>\r\n       <use x=\"184.082031\" xlink:href=\"#DejaVuSans-95\"/>\r\n       <use x=\"234.082031\" xlink:href=\"#DejaVuSans-115\"/>\r\n       <use x=\"286.181641\" xlink:href=\"#DejaVuSans-108\"/>\r\n       <use x=\"313.964844\" xlink:href=\"#DejaVuSans-111\"/>\r\n       <use x=\"375.146484\" xlink:href=\"#DejaVuSans-112\"/>\r\n       <use x=\"438.623047\" xlink:href=\"#DejaVuSans-101\"/>\r\n       <use x=\"500.146484\" xlink:href=\"#DejaVuSans-115\"/>\r\n       <use x=\"552.246094\" xlink:href=\"#DejaVuSans-111\"/>\r\n       <use x=\"613.427734\" xlink:href=\"#DejaVuSans-108\"/>\r\n       <use x=\"641.210938\" xlink:href=\"#DejaVuSans-97\"/>\r\n       <use x=\"702.490234\" xlink:href=\"#DejaVuSans-114\"/>\r\n      </g>\r\n     </g>\r\n    </g>\r\n    <g id=\"xtick_2\">\r\n     <g id=\"line2d_2\">\r\n      <g>\r\n       <use style=\"stroke:#000000;stroke-width:0.8;\" x=\"207.05\" xlink:href=\"#m895c223a67\" y=\"224.64\"/>\r\n      </g>\r\n     </g>\r\n     <g id=\"text_2\">\r\n      <!-- env_levelsolar -->\r\n      <g transform=\"translate(171.282031 239.238437)scale(0.1 -0.1)\">\r\n       <use xlink:href=\"#DejaVuSans-101\"/>\r\n       <use x=\"61.523438\" xlink:href=\"#DejaVuSans-110\"/>\r\n       <use x=\"124.902344\" xlink:href=\"#DejaVuSans-118\"/>\r\n       <use x=\"184.082031\" xlink:href=\"#DejaVuSans-95\"/>\r\n       <use x=\"234.082031\" xlink:href=\"#DejaVuSans-108\"/>\r\n       <use x=\"261.865234\" xlink:href=\"#DejaVuSans-101\"/>\r\n       <use x=\"323.388672\" xlink:href=\"#DejaVuSans-118\"/>\r\n       <use x=\"382.568359\" xlink:href=\"#DejaVuSans-101\"/>\r\n       <use x=\"444.091797\" xlink:href=\"#DejaVuSans-108\"/>\r\n       <use x=\"471.875\" xlink:href=\"#DejaVuSans-115\"/>\r\n       <use x=\"523.974609\" xlink:href=\"#DejaVuSans-111\"/>\r\n       <use x=\"585.15625\" xlink:href=\"#DejaVuSans-108\"/>\r\n       <use x=\"612.939453\" xlink:href=\"#DejaVuSans-97\"/>\r\n       <use x=\"674.21875\" xlink:href=\"#DejaVuSans-114\"/>\r\n      </g>\r\n     </g>\r\n    </g>\r\n    <g id=\"xtick_3\">\r\n     <g id=\"line2d_3\">\r\n      <g>\r\n       <use style=\"stroke:#000000;stroke-width:0.8;\" x=\"318.65\" xlink:href=\"#m895c223a67\" y=\"224.64\"/>\r\n      </g>\r\n     </g>\r\n     <g id=\"text_3\">\r\n      <!-- match_solar -->\r\n      <defs>\r\n       <path d=\"M 52 44.1875 \r\nQ 55.375 50.25 60.0625 53.125 \r\nQ 64.75 56 71.09375 56 \r\nQ 79.640625 56 84.28125 50.015625 \r\nQ 88.921875 44.046875 88.921875 33.015625 \r\nL 88.921875 0 \r\nL 79.890625 0 \r\nL 79.890625 32.71875 \r\nQ 79.890625 40.578125 77.09375 44.375 \r\nQ 74.3125 48.1875 68.609375 48.1875 \r\nQ 61.625 48.1875 57.5625 43.546875 \r\nQ 53.515625 38.921875 53.515625 30.90625 \r\nL 53.515625 0 \r\nL 44.484375 0 \r\nL 44.484375 32.71875 \r\nQ 44.484375 40.625 41.703125 44.40625 \r\nQ 38.921875 48.1875 33.109375 48.1875 \r\nQ 26.21875 48.1875 22.15625 43.53125 \r\nQ 18.109375 38.875 18.109375 30.90625 \r\nL 18.109375 0 \r\nL 9.078125 0 \r\nL 9.078125 54.6875 \r\nL 18.109375 54.6875 \r\nL 18.109375 46.1875 \r\nQ 21.1875 51.21875 25.484375 53.609375 \r\nQ 29.78125 56 35.6875 56 \r\nQ 41.65625 56 45.828125 52.96875 \r\nQ 50 49.953125 52 44.1875 \r\nz\r\n\" id=\"DejaVuSans-109\"/>\r\n       <path d=\"M 18.3125 70.21875 \r\nL 18.3125 54.6875 \r\nL 36.8125 54.6875 \r\nL 36.8125 47.703125 \r\nL 18.3125 47.703125 \r\nL 18.3125 18.015625 \r\nQ 18.3125 11.328125 20.140625 9.421875 \r\nQ 21.96875 7.515625 27.59375 7.515625 \r\nL 36.8125 7.515625 \r\nL 36.8125 0 \r\nL 27.59375 0 \r\nQ 17.1875 0 13.234375 3.875 \r\nQ 9.28125 7.765625 9.28125 18.015625 \r\nL 9.28125 47.703125 \r\nL 2.6875 47.703125 \r\nL 2.6875 54.6875 \r\nL 9.28125 54.6875 \r\nL 9.28125 70.21875 \r\nz\r\n\" id=\"DejaVuSans-116\"/>\r\n       <path d=\"M 48.78125 52.59375 \r\nL 48.78125 44.1875 \r\nQ 44.96875 46.296875 41.140625 47.34375 \r\nQ 37.3125 48.390625 33.40625 48.390625 \r\nQ 24.65625 48.390625 19.8125 42.84375 \r\nQ 14.984375 37.3125 14.984375 27.296875 \r\nQ 14.984375 17.28125 19.8125 11.734375 \r\nQ 24.65625 6.203125 33.40625 6.203125 \r\nQ 37.3125 6.203125 41.140625 7.25 \r\nQ 44.96875 8.296875 48.78125 10.40625 \r\nL 48.78125 2.09375 \r\nQ 45.015625 0.34375 40.984375 -0.53125 \r\nQ 36.96875 -1.421875 32.421875 -1.421875 \r\nQ 20.0625 -1.421875 12.78125 6.34375 \r\nQ 5.515625 14.109375 5.515625 27.296875 \r\nQ 5.515625 40.671875 12.859375 48.328125 \r\nQ 20.21875 56 33.015625 56 \r\nQ 37.15625 56 41.109375 55.140625 \r\nQ 45.0625 54.296875 48.78125 52.59375 \r\nz\r\n\" id=\"DejaVuSans-99\"/>\r\n       <path d=\"M 54.890625 33.015625 \r\nL 54.890625 0 \r\nL 45.90625 0 \r\nL 45.90625 32.71875 \r\nQ 45.90625 40.484375 42.875 44.328125 \r\nQ 39.84375 48.1875 33.796875 48.1875 \r\nQ 26.515625 48.1875 22.3125 43.546875 \r\nQ 18.109375 38.921875 18.109375 30.90625 \r\nL 18.109375 0 \r\nL 9.078125 0 \r\nL 9.078125 75.984375 \r\nL 18.109375 75.984375 \r\nL 18.109375 46.1875 \r\nQ 21.34375 51.125 25.703125 53.5625 \r\nQ 30.078125 56 35.796875 56 \r\nQ 45.21875 56 50.046875 50.171875 \r\nQ 54.890625 44.34375 54.890625 33.015625 \r\nz\r\n\" id=\"DejaVuSans-104\"/>\r\n      </defs>\r\n      <g transform=\"translate(288.164844 239.238437)scale(0.1 -0.1)\">\r\n       <use xlink:href=\"#DejaVuSans-109\"/>\r\n       <use x=\"97.412109\" xlink:href=\"#DejaVuSans-97\"/>\r\n       <use x=\"158.691406\" xlink:href=\"#DejaVuSans-116\"/>\r\n       <use x=\"197.900391\" xlink:href=\"#DejaVuSans-99\"/>\r\n       <use x=\"252.880859\" xlink:href=\"#DejaVuSans-104\"/>\r\n       <use x=\"316.259766\" xlink:href=\"#DejaVuSans-95\"/>\r\n       <use x=\"366.259766\" xlink:href=\"#DejaVuSans-115\"/>\r\n       <use x=\"418.359375\" xlink:href=\"#DejaVuSans-111\"/>\r\n       <use x=\"479.541016\" xlink:href=\"#DejaVuSans-108\"/>\r\n       <use x=\"507.324219\" xlink:href=\"#DejaVuSans-97\"/>\r\n       <use x=\"568.603516\" xlink:href=\"#DejaVuSans-114\"/>\r\n      </g>\r\n     </g>\r\n    </g>\r\n   </g>\r\n   <g id=\"matplotlib.axis_2\">\r\n    <g id=\"ytick_1\">\r\n     <g id=\"line2d_4\">\r\n      <defs>\r\n       <path d=\"M 0 0 \r\nL -3.5 0 \r\n\" id=\"m387b36bb8b\" style=\"stroke:#000000;stroke-width:0.8;\"/>\r\n      </defs>\r\n      <g>\r\n       <use style=\"stroke:#000000;stroke-width:0.8;\" x=\"39.65\" xlink:href=\"#m387b36bb8b\" y=\"214.756364\"/>\r\n      </g>\r\n     </g>\r\n     <g id=\"text_4\">\r\n      <!-- 0 -->\r\n      <defs>\r\n       <path d=\"M 31.78125 66.40625 \r\nQ 24.171875 66.40625 20.328125 58.90625 \r\nQ 16.5 51.421875 16.5 36.375 \r\nQ 16.5 21.390625 20.328125 13.890625 \r\nQ 24.171875 6.390625 31.78125 6.390625 \r\nQ 39.453125 6.390625 43.28125 13.890625 \r\nQ 47.125 21.390625 47.125 36.375 \r\nQ 47.125 51.421875 43.28125 58.90625 \r\nQ 39.453125 66.40625 31.78125 66.40625 \r\nz\r\nM 31.78125 74.21875 \r\nQ 44.046875 74.21875 50.515625 64.515625 \r\nQ 56.984375 54.828125 56.984375 36.375 \r\nQ 56.984375 17.96875 50.515625 8.265625 \r\nQ 44.046875 -1.421875 31.78125 -1.421875 \r\nQ 19.53125 -1.421875 13.0625 8.265625 \r\nQ 6.59375 17.96875 6.59375 36.375 \r\nQ 6.59375 54.828125 13.0625 64.515625 \r\nQ 19.53125 74.21875 31.78125 74.21875 \r\nz\r\n\" id=\"DejaVuSans-48\"/>\r\n      </defs>\r\n      <g transform=\"translate(26.2875 218.555582)scale(0.1 -0.1)\">\r\n       <use xlink:href=\"#DejaVuSans-48\"/>\r\n      </g>\r\n     </g>\r\n    </g>\r\n    <g id=\"ytick_2\">\r\n     <g id=\"line2d_5\">\r\n      <g>\r\n       <use style=\"stroke:#000000;stroke-width:0.8;\" x=\"39.65\" xlink:href=\"#m387b36bb8b\" y=\"178.619262\"/>\r\n      </g>\r\n     </g>\r\n     <g id=\"text_5\">\r\n      <!-- 200 -->\r\n      <defs>\r\n       <path d=\"M 19.1875 8.296875 \r\nL 53.609375 8.296875 \r\nL 53.609375 0 \r\nL 7.328125 0 \r\nL 7.328125 8.296875 \r\nQ 12.9375 14.109375 22.625 23.890625 \r\nQ 32.328125 33.6875 34.8125 36.53125 \r\nQ 39.546875 41.84375 41.421875 45.53125 \r\nQ 43.3125 49.21875 43.3125 52.78125 \r\nQ 43.3125 58.59375 39.234375 62.25 \r\nQ 35.15625 65.921875 28.609375 65.921875 \r\nQ 23.96875 65.921875 18.8125 64.3125 \r\nQ 13.671875 62.703125 7.8125 59.421875 \r\nL 7.8125 69.390625 \r\nQ 13.765625 71.78125 18.9375 73 \r\nQ 24.125 74.21875 28.421875 74.21875 \r\nQ 39.75 74.21875 46.484375 68.546875 \r\nQ 53.21875 62.890625 53.21875 53.421875 \r\nQ 53.21875 48.921875 51.53125 44.890625 \r\nQ 49.859375 40.875 45.40625 35.40625 \r\nQ 44.1875 33.984375 37.640625 27.21875 \r\nQ 31.109375 20.453125 19.1875 8.296875 \r\nz\r\n\" id=\"DejaVuSans-50\"/>\r\n      </defs>\r\n      <g transform=\"translate(13.5625 182.41848)scale(0.1 -0.1)\">\r\n       <use xlink:href=\"#DejaVuSans-50\"/>\r\n       <use x=\"63.623047\" xlink:href=\"#DejaVuSans-48\"/>\r\n       <use x=\"127.246094\" xlink:href=\"#DejaVuSans-48\"/>\r\n      </g>\r\n     </g>\r\n    </g>\r\n    <g id=\"ytick_3\">\r\n     <g id=\"line2d_6\">\r\n      <g>\r\n       <use style=\"stroke:#000000;stroke-width:0.8;\" x=\"39.65\" xlink:href=\"#m387b36bb8b\" y=\"142.48216\"/>\r\n      </g>\r\n     </g>\r\n     <g id=\"text_6\">\r\n      <!-- 400 -->\r\n      <defs>\r\n       <path d=\"M 37.796875 64.3125 \r\nL 12.890625 25.390625 \r\nL 37.796875 25.390625 \r\nz\r\nM 35.203125 72.90625 \r\nL 47.609375 72.90625 \r\nL 47.609375 25.390625 \r\nL 58.015625 25.390625 \r\nL 58.015625 17.1875 \r\nL 47.609375 17.1875 \r\nL 47.609375 0 \r\nL 37.796875 0 \r\nL 37.796875 17.1875 \r\nL 4.890625 17.1875 \r\nL 4.890625 26.703125 \r\nz\r\n\" id=\"DejaVuSans-52\"/>\r\n      </defs>\r\n      <g transform=\"translate(13.5625 146.281379)scale(0.1 -0.1)\">\r\n       <use xlink:href=\"#DejaVuSans-52\"/>\r\n       <use x=\"63.623047\" xlink:href=\"#DejaVuSans-48\"/>\r\n       <use x=\"127.246094\" xlink:href=\"#DejaVuSans-48\"/>\r\n      </g>\r\n     </g>\r\n    </g>\r\n    <g id=\"ytick_4\">\r\n     <g id=\"line2d_7\">\r\n      <g>\r\n       <use style=\"stroke:#000000;stroke-width:0.8;\" x=\"39.65\" xlink:href=\"#m387b36bb8b\" y=\"106.345058\"/>\r\n      </g>\r\n     </g>\r\n     <g id=\"text_7\">\r\n      <!-- 600 -->\r\n      <defs>\r\n       <path d=\"M 33.015625 40.375 \r\nQ 26.375 40.375 22.484375 35.828125 \r\nQ 18.609375 31.296875 18.609375 23.390625 \r\nQ 18.609375 15.53125 22.484375 10.953125 \r\nQ 26.375 6.390625 33.015625 6.390625 \r\nQ 39.65625 6.390625 43.53125 10.953125 \r\nQ 47.40625 15.53125 47.40625 23.390625 \r\nQ 47.40625 31.296875 43.53125 35.828125 \r\nQ 39.65625 40.375 33.015625 40.375 \r\nz\r\nM 52.59375 71.296875 \r\nL 52.59375 62.3125 \r\nQ 48.875 64.0625 45.09375 64.984375 \r\nQ 41.3125 65.921875 37.59375 65.921875 \r\nQ 27.828125 65.921875 22.671875 59.328125 \r\nQ 17.53125 52.734375 16.796875 39.40625 \r\nQ 19.671875 43.65625 24.015625 45.921875 \r\nQ 28.375 48.1875 33.59375 48.1875 \r\nQ 44.578125 48.1875 50.953125 41.515625 \r\nQ 57.328125 34.859375 57.328125 23.390625 \r\nQ 57.328125 12.15625 50.6875 5.359375 \r\nQ 44.046875 -1.421875 33.015625 -1.421875 \r\nQ 20.359375 -1.421875 13.671875 8.265625 \r\nQ 6.984375 17.96875 6.984375 36.375 \r\nQ 6.984375 53.65625 15.1875 63.9375 \r\nQ 23.390625 74.21875 37.203125 74.21875 \r\nQ 40.921875 74.21875 44.703125 73.484375 \r\nQ 48.484375 72.75 52.59375 71.296875 \r\nz\r\n\" id=\"DejaVuSans-54\"/>\r\n      </defs>\r\n      <g transform=\"translate(13.5625 110.144277)scale(0.1 -0.1)\">\r\n       <use xlink:href=\"#DejaVuSans-54\"/>\r\n       <use x=\"63.623047\" xlink:href=\"#DejaVuSans-48\"/>\r\n       <use x=\"127.246094\" xlink:href=\"#DejaVuSans-48\"/>\r\n      </g>\r\n     </g>\r\n    </g>\r\n    <g id=\"ytick_5\">\r\n     <g id=\"line2d_8\">\r\n      <g>\r\n       <use style=\"stroke:#000000;stroke-width:0.8;\" x=\"39.65\" xlink:href=\"#m387b36bb8b\" y=\"70.207956\"/>\r\n      </g>\r\n     </g>\r\n     <g id=\"text_8\">\r\n      <!-- 800 -->\r\n      <defs>\r\n       <path d=\"M 31.78125 34.625 \r\nQ 24.75 34.625 20.71875 30.859375 \r\nQ 16.703125 27.09375 16.703125 20.515625 \r\nQ 16.703125 13.921875 20.71875 10.15625 \r\nQ 24.75 6.390625 31.78125 6.390625 \r\nQ 38.8125 6.390625 42.859375 10.171875 \r\nQ 46.921875 13.96875 46.921875 20.515625 \r\nQ 46.921875 27.09375 42.890625 30.859375 \r\nQ 38.875 34.625 31.78125 34.625 \r\nz\r\nM 21.921875 38.8125 \r\nQ 15.578125 40.375 12.03125 44.71875 \r\nQ 8.5 49.078125 8.5 55.328125 \r\nQ 8.5 64.0625 14.71875 69.140625 \r\nQ 20.953125 74.21875 31.78125 74.21875 \r\nQ 42.671875 74.21875 48.875 69.140625 \r\nQ 55.078125 64.0625 55.078125 55.328125 \r\nQ 55.078125 49.078125 51.53125 44.71875 \r\nQ 48 40.375 41.703125 38.8125 \r\nQ 48.828125 37.15625 52.796875 32.3125 \r\nQ 56.78125 27.484375 56.78125 20.515625 \r\nQ 56.78125 9.90625 50.3125 4.234375 \r\nQ 43.84375 -1.421875 31.78125 -1.421875 \r\nQ 19.734375 -1.421875 13.25 4.234375 \r\nQ 6.78125 9.90625 6.78125 20.515625 \r\nQ 6.78125 27.484375 10.78125 32.3125 \r\nQ 14.796875 37.15625 21.921875 38.8125 \r\nz\r\nM 18.3125 54.390625 \r\nQ 18.3125 48.734375 21.84375 45.5625 \r\nQ 25.390625 42.390625 31.78125 42.390625 \r\nQ 38.140625 42.390625 41.71875 45.5625 \r\nQ 45.3125 48.734375 45.3125 54.390625 \r\nQ 45.3125 60.0625 41.71875 63.234375 \r\nQ 38.140625 66.40625 31.78125 66.40625 \r\nQ 25.390625 66.40625 21.84375 63.234375 \r\nQ 18.3125 60.0625 18.3125 54.390625 \r\nz\r\n\" id=\"DejaVuSans-56\"/>\r\n      </defs>\r\n      <g transform=\"translate(13.5625 74.007175)scale(0.1 -0.1)\">\r\n       <use xlink:href=\"#DejaVuSans-56\"/>\r\n       <use x=\"63.623047\" xlink:href=\"#DejaVuSans-48\"/>\r\n       <use x=\"127.246094\" xlink:href=\"#DejaVuSans-48\"/>\r\n      </g>\r\n     </g>\r\n    </g>\r\n    <g id=\"ytick_6\">\r\n     <g id=\"line2d_9\">\r\n      <g>\r\n       <use style=\"stroke:#000000;stroke-width:0.8;\" x=\"39.65\" xlink:href=\"#m387b36bb8b\" y=\"34.070854\"/>\r\n      </g>\r\n     </g>\r\n     <g id=\"text_9\">\r\n      <!-- 1000 -->\r\n      <defs>\r\n       <path d=\"M 12.40625 8.296875 \r\nL 28.515625 8.296875 \r\nL 28.515625 63.921875 \r\nL 10.984375 60.40625 \r\nL 10.984375 69.390625 \r\nL 28.421875 72.90625 \r\nL 38.28125 72.90625 \r\nL 38.28125 8.296875 \r\nL 54.390625 8.296875 \r\nL 54.390625 0 \r\nL 12.40625 0 \r\nz\r\n\" id=\"DejaVuSans-49\"/>\r\n      </defs>\r\n      <g transform=\"translate(7.2 37.870073)scale(0.1 -0.1)\">\r\n       <use xlink:href=\"#DejaVuSans-49\"/>\r\n       <use x=\"63.623047\" xlink:href=\"#DejaVuSans-48\"/>\r\n       <use x=\"127.246094\" xlink:href=\"#DejaVuSans-48\"/>\r\n       <use x=\"190.869141\" xlink:href=\"#DejaVuSans-48\"/>\r\n      </g>\r\n     </g>\r\n    </g>\r\n   </g>\r\n   <g id=\"line2d_10\">\r\n    <path clip-path=\"url(#p967271c4a7)\" d=\"M 95.45 201.15207 \r\nL 95.45 214.756364 \r\n\" style=\"fill:none;stroke:#3d3d3d;stroke-linecap:square;stroke-width:1.5;\"/>\r\n   </g>\r\n   <g id=\"line2d_11\">\r\n    <path clip-path=\"url(#p967271c4a7)\" d=\"M 95.45 102.119522 \r\nL 95.45 17.083636 \r\n\" style=\"fill:none;stroke:#3d3d3d;stroke-linecap:square;stroke-width:1.5;\"/>\r\n   </g>\r\n   <g id=\"line2d_12\">\r\n    <path clip-path=\"url(#p967271c4a7)\" d=\"M 73.13 214.756364 \r\nL 117.77 214.756364 \r\n\" style=\"fill:none;stroke:#3d3d3d;stroke-linecap:square;stroke-width:1.5;\"/>\r\n   </g>\r\n   <g id=\"line2d_13\">\r\n    <path clip-path=\"url(#p967271c4a7)\" d=\"M 73.13 17.083636 \r\nL 117.77 17.083636 \r\n\" style=\"fill:none;stroke:#3d3d3d;stroke-linecap:square;stroke-width:1.5;\"/>\r\n   </g>\r\n   <g id=\"line2d_14\"/>\r\n   <g id=\"line2d_15\">\r\n    <path clip-path=\"url(#p967271c4a7)\" d=\"M 207.05 198.994747 \r\nL 207.05 214.756364 \r\n\" style=\"fill:none;stroke:#3d3d3d;stroke-linecap:square;stroke-width:1.5;\"/>\r\n   </g>\r\n   <g id=\"line2d_16\">\r\n    <path clip-path=\"url(#p967271c4a7)\" d=\"M 207.05 109.735649 \r\nL 207.05 17.297679 \r\n\" style=\"fill:none;stroke:#3d3d3d;stroke-linecap:square;stroke-width:1.5;\"/>\r\n   </g>\r\n   <g id=\"line2d_17\">\r\n    <path clip-path=\"url(#p967271c4a7)\" d=\"M 184.73 214.756364 \r\nL 229.37 214.756364 \r\n\" style=\"fill:none;stroke:#3d3d3d;stroke-linecap:square;stroke-width:1.5;\"/>\r\n   </g>\r\n   <g id=\"line2d_18\">\r\n    <path clip-path=\"url(#p967271c4a7)\" d=\"M 184.73 17.297679 \r\nL 229.37 17.297679 \r\n\" style=\"fill:none;stroke:#3d3d3d;stroke-linecap:square;stroke-width:1.5;\"/>\r\n   </g>\r\n   <g id=\"line2d_19\"/>\r\n   <g id=\"line2d_20\">\r\n    <path clip-path=\"url(#p967271c4a7)\" d=\"M 318.65 190.915914 \r\nL 318.65 214.756364 \r\n\" style=\"fill:none;stroke:#3d3d3d;stroke-linecap:square;stroke-width:1.5;\"/>\r\n   </g>\r\n   <g id=\"line2d_21\">\r\n    <path clip-path=\"url(#p967271c4a7)\" d=\"M 318.65 122.405992 \r\nL 318.65 42.101321 \r\n\" style=\"fill:none;stroke:#3d3d3d;stroke-linecap:square;stroke-width:1.5;\"/>\r\n   </g>\r\n   <g id=\"line2d_22\">\r\n    <path clip-path=\"url(#p967271c4a7)\" d=\"M 296.33 214.756364 \r\nL 340.97 214.756364 \r\n\" style=\"fill:none;stroke:#3d3d3d;stroke-linecap:square;stroke-width:1.5;\"/>\r\n   </g>\r\n   <g id=\"line2d_23\">\r\n    <path clip-path=\"url(#p967271c4a7)\" d=\"M 296.33 42.101321 \r\nL 340.97 42.101321 \r\n\" style=\"fill:none;stroke:#3d3d3d;stroke-linecap:square;stroke-width:1.5;\"/>\r\n   </g>\r\n   <g id=\"line2d_24\"/>\r\n   <g id=\"line2d_25\">\r\n    <path clip-path=\"url(#p967271c4a7)\" d=\"M 50.81 161.785395 \r\nL 140.09 161.785395 \r\n\" style=\"fill:none;stroke:#3d3d3d;stroke-linecap:square;stroke-width:1.5;\"/>\r\n   </g>\r\n   <g id=\"line2d_26\">\r\n    <path clip-path=\"url(#p967271c4a7)\" d=\"M 162.41 159.064427 \r\nL 251.69 159.064427 \r\n\" style=\"fill:none;stroke:#3d3d3d;stroke-linecap:square;stroke-width:1.5;\"/>\r\n   </g>\r\n   <g id=\"line2d_27\">\r\n    <path clip-path=\"url(#p967271c4a7)\" d=\"M 274.01 158.04119 \r\nL 363.29 158.04119 \r\n\" style=\"fill:none;stroke:#3d3d3d;stroke-linecap:square;stroke-width:1.5;\"/>\r\n   </g>\r\n   <g id=\"patch_6\">\r\n    <path d=\"M 39.65 224.64 \r\nL 39.65 7.2 \r\n\" style=\"fill:none;stroke:#000000;stroke-linecap:square;stroke-linejoin:miter;stroke-width:0.8;\"/>\r\n   </g>\r\n   <g id=\"patch_7\">\r\n    <path d=\"M 374.45 224.64 \r\nL 374.45 7.2 \r\n\" style=\"fill:none;stroke:#000000;stroke-linecap:square;stroke-linejoin:miter;stroke-width:0.8;\"/>\r\n   </g>\r\n   <g id=\"patch_8\">\r\n    <path d=\"M 39.65 224.64 \r\nL 374.45 224.64 \r\n\" style=\"fill:none;stroke:#000000;stroke-linecap:square;stroke-linejoin:miter;stroke-width:0.8;\"/>\r\n   </g>\r\n   <g id=\"patch_9\">\r\n    <path d=\"M 39.65 7.2 \r\nL 374.45 7.2 \r\n\" style=\"fill:none;stroke:#000000;stroke-linecap:square;stroke-linejoin:miter;stroke-width:0.8;\"/>\r\n   </g>\r\n  </g>\r\n </g>\r\n <defs>\r\n  <clipPath id=\"p967271c4a7\">\r\n   <rect height=\"217.44\" width=\"334.8\" x=\"39.65\" y=\"7.2\"/>\r\n  </clipPath>\r\n </defs>\r\n</svg>\r\n",
      "image/png": "[encoded data removed]"
     },
     "metadata": {
      "needs_background": "light"
     }
    }
   ],
   "source": [
    "sns.boxplot(data = join_ent_other_del[[\"env_slopesolar\", \"env_levelsolar\", \"match_solar\"]])"
   ]
  },
  {
   "cell_type": "code",
   "execution_count": 14,
   "metadata": {},
   "outputs": [
    {
     "output_type": "stream",
     "name": "stdout",
     "text": [
      "(0.7972221656842899, 0.0) (0.7223186768921189, 0.0)\n------------------\n(0.9834351580248637, 0.0) (0.9914036512206326, 0.0) (0.7608503305318344, 0.0)\n"
     ]
    }
   ],
   "source": [
    "import scipy.stats\n",
    "\n",
    "print(\n",
    "    scipy.stats.pearsonr(join_ent_other_del[\"env_levelsolar\"], join_ent_other_del[\"match_solar\"]), \n",
    "    scipy.stats.pearsonr(join_ent_other_del[\"env_slopesolar\"], join_ent_other_del[\"match_solar\"]))\n",
    "print(\"------------------\")\n",
    "print(\n",
    "    scipy.stats.pearsonr(join_ent_other_del[\"env_levelsolar\"], join_ent_other_del[\"watt\"]), \n",
    "    scipy.stats.pearsonr(join_ent_other_del[\"env_slopesolar\"], join_ent_other_del[\"watt\"]), \n",
    "    scipy.stats.pearsonr(join_ent_other_del[\"match_solar\"], join_ent_other_del[\"watt\"]))"
   ]
  },
  {
   "cell_type": "code",
   "execution_count": 15,
   "metadata": {},
   "outputs": [
    {
     "output_type": "stream",
     "name": "stdout",
     "text": [
      "                            OLS Regression Results                            \n==============================================================================\nDep. Variable:                   watt   R-squared:                       0.983\nModel:                            OLS   Adj. R-squared:                  0.983\nMethod:                 Least Squares   F-statistic:                 1.349e+05\nDate:                Mon, 02 Nov 2020   Prob (F-statistic):               0.00\nTime:                        14:41:49   Log-Likelihood:                -17490.\nNo. Observations:                2351   AIC:                         3.498e+04\nDf Residuals:                    2349   BIC:                         3.499e+04\nDf Model:                           1                                         \nCovariance Type:            nonrobust                                         \n==================================================================================\n                     coef    std err          t      P>|t|      [0.025      0.975]\n----------------------------------------------------------------------------------\nconst            132.6339     13.120     10.109      0.000     106.906     158.362\nenv_slopesolar    10.1799      0.028    367.245      0.000      10.126      10.234\n==============================================================================\nOmnibus:                      357.568   Durbin-Watson:                   0.901\nProb(Omnibus):                  0.000   Jarque-Bera (JB):             2324.212\nSkew:                          -0.544   Prob(JB):                         0.00\nKurtosis:                       7.748   Cond. No.                         731.\n==============================================================================\n\nWarnings:\n[1] Standard Errors assume that the covariance matrix of the errors is correctly specified.\n                                 OLS Regression Results                                \n=======================================================================================\nDep. Variable:                   watt   R-squared (uncentered):                   0.827\nModel:                            OLS   Adj. R-squared (uncentered):              0.827\nMethod:                 Least Squares   F-statistic:                          1.123e+04\nDate:                Mon, 02 Nov 2020   Prob (F-statistic):                        0.00\nTime:                        14:41:49   Log-Likelihood:                         -21268.\nNo. Observations:                2351   AIC:                                  4.254e+04\nDf Residuals:                    2350   BIC:                                  4.254e+04\nDf Model:                           1                                                  \nCovariance Type:            nonrobust                                                  \n===============================================================================\n                  coef    std err          t      P>|t|      [0.025      0.975]\n-------------------------------------------------------------------------------\nmatch_solar    10.8566      0.102    105.987      0.000      10.656      11.058\n==============================================================================\nOmnibus:                       43.663   Durbin-Watson:                   0.752\nProb(Omnibus):                  0.000   Jarque-Bera (JB):               31.012\nSkew:                           0.172   Prob(JB):                     1.84e-07\nKurtosis:                       2.555   Cond. No.                         1.00\n==============================================================================\n\nWarnings:\n[1] Standard Errors assume that the covariance matrix of the errors is correctly specified.\n"
     ]
    }
   ],
   "source": [
    "import statsmodels.api as sm\n",
    "\n",
    "Y = join_ent_other_del[\"watt\"]\n",
    "X = join_ent_other_del[\"env_slopesolar\"]\n",
    "X = sm.add_constant(X)\n",
    "model = sm.OLS(Y,X)\n",
    "results = model.fit()\n",
    "# results.summary()\n",
    "\n",
    "X2 = join_ent_other_del[\"match_solar\"]\n",
    "model2 = sm.OLS(Y,X2)\n",
    "results1 = model2.fit()\n",
    "\n",
    "\n",
    "print(results.summary())\n",
    "print(results1.summary())\n"
   ]
  },
  {
   "cell_type": "code",
   "execution_count": null,
   "metadata": {},
   "outputs": [],
   "source": []
  }
 ]
}