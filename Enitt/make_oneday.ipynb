{
 "metadata": {
  "language_info": {
   "codemirror_mode": {
    "name": "ipython",
    "version": 3
   },
   "file_extension": ".py",
   "mimetype": "text/x-python",
   "name": "python",
   "nbconvert_exporter": "python",
   "pygments_lexer": "ipython3",
   "version": "3.7.6-final"
  },
  "orig_nbformat": 2,
  "kernelspec": {
   "name": "python3",
   "display_name": "Python 3"
  }
 },
 "nbformat": 4,
 "nbformat_minor": 2,
 "cells": [
  {
   "cell_type": "code",
   "execution_count": 70,
   "metadata": {},
   "outputs": [],
   "source": [
    "import pandas as pd \n",
    "import numpy as np"
   ]
  },
  {
   "cell_type": "code",
   "execution_count": 71,
   "metadata": {},
   "outputs": [],
   "source": [
    "### 데이터를 로드하세요 \n",
    "\n",
    "banpo1 = pd.read_csv(\"./2차join/banpo1_join.csv\", encoding='utf8')\n",
    "bodeumchild = pd.read_csv('./2차join/bodeumchild.csv', encoding=\"utf8\")\n",
    "cheongju1 = pd.read_csv('./2차join/cheongju1_join.csv', encoding=\"utf8\")\n",
    "geumgang1 = pd.read_csv('./2차join/geumgang1_join.csv', encoding=\"utf8\")\n",
    "geojeoipo = pd.read_csv('./2차join/geojeoipo_join.csv', encoding=\"utf8\")\n",
    "hangook =  pd.read_csv('./2차join/hangook_join.csv', encoding=\"utf8\")\n",
    "LH1 = pd.read_csv('./2차join/LH1_join.csv', encoding=\"utf8\")\n",
    "miribeol = pd.read_csv('./2차join/miribeol_join.csv', encoding=\"utf8\")\n",
    "myosan = pd.read_csv('./2차join/myosan_join.csv', encoding=\"utf8\")\n",
    "NewREC1  = pd.read_csv('./2차join/NewREC1_join.csv', encoding=\"utf8\")\n",
    "ongok =pd.read_csv('./2차join/ongok_join.csv', encoding=\"utf8\")\n",
    "zumun1 = pd.read_csv('./2차join/zumun1_join.csv', encoding=\"utf8\")\n",
    "zumun8ho1 = pd.read_csv('./2차join/zumun8ho1_join.csv', encoding=\"utf8\")\n",
    "yuka = pd.read_csv('./2차join/yuka_join.csv', encoding=\"utf8\")\n",
    "\n",
    "\n",
    "total_weather = pd.read_csv(\"./allweather.csv\", encoding=\"ms949\")\n",
    "# print(total_weather[\"지점명\"].unique())\n",
    "\n",
    "\n",
    "banpo1_weather = total_weather[total_weather['지점명']=='서울']\n",
    "bodeumchild_weather = total_weather[total_weather['지점명']=='서울']\n",
    "cheongju1_weather = total_weather[total_weather['지점명']=='청주']\n",
    "geumgang1_weather = total_weather[total_weather['지점명']=='양산시']\n",
    "hangook_weather = total_weather[total_weather['지점명']=='원주']\n",
    "geojeoipo_weather = total_weather[total_weather['지점명']=='진주']\n",
    "LH1_weather = total_weather[total_weather['지점명']=='서울']\n",
    "miribeol_weather = total_weather[total_weather['지점명']=='창원']\n",
    "myosan_weather = total_weather[total_weather['지점명']=='진주']\n",
    "NewREC1_weather = total_weather[total_weather['지점명']=='전주']\n",
    "ongok_weather = total_weather[total_weather['지점명']=='서울']\n",
    "zumun1_weather = total_weather[total_weather['지점명']=='강릉']\n",
    "zumun8ho1_weather = total_weather[total_weather['지점명']=='강릉']\n",
    "yuka_weather = total_weather[total_weather['지점명']=='원주']\n",
    "\n"
   ]
  },
  {
   "cell_type": "code",
   "execution_count": 72,
   "metadata": {},
   "outputs": [],
   "source": [
    "### 꼭 읽고 하세요 ,,,\n",
    "# 반포1 cap : 20\n",
    "# 반포2 cap : 15\n",
    "# newREC1 cap : 3\n",
    "# newREC2 cap : 3\n",
    "# 미리벌 cap : 99\n",
    "# LH cap : 12\n",
    "# 보듬어린이집 cap : 25\n",
    "# 묘산 cap : 30\n",
    "# 온곡 cap : 32\n",
    "# 한국 cap : 2 \n",
    "def make_oneday(df):\n",
    "    date_list = []\n",
    "    for i in df[\"Unnamed: 0\"]:\n",
    "        date_list.append(i[:10])\n",
    "    \n",
    "    df[\"date\"] = date_list\n",
    "    # print(df)\n",
    "    df_sum = df.groupby(\"date\").sum()\n",
    "    \n",
    "\n",
    "    return df_sum[[\"env_slopesolar\", \"env_levelsolar\",\"match_solar\", \"reset_match\", \"watt\"]]\n",
    "\n",
    "# def make_onday(df):\n",
    "#     def change_datetime():\n",
    "#         df_date = pd.to_datetime(df[\"Unnamed: 0\"]).tolist()\n",
    "#         df.index = df_date\n",
    "#         # print(df_date)\n",
    "#         return df\n",
    "\n",
    "#     def df_resample1(df):\n",
    "#         return df.resample('D').sum()\n",
    "\n",
    "#     def split_data(df):\n",
    "#         # print(sorted(df[[\"env_slopesolar\", \"env_levelsolar\",\"match_solar\", \"reset_match\", \"watt\"]]))\n",
    "#         return df[[\"env_slopesolar\", \"env_levelsolar\",\"match_solar\", \"reset_match\", \"watt\"]]\n",
    "    \n",
    "#     # def to_csv(df, name):\n",
    "#     #     df.to_csv(name, encoding=\"UTF-8\")\n",
    "\n",
    "#     set_df = df_resample1(split_data(change_datetime()))\n",
    "\n",
    "\n",
    "#     return set_df\n",
    "\n"
   ]
  },
  {
   "cell_type": "code",
   "execution_count": 73,
   "metadata": {
    "tags": []
   },
   "outputs": [
    {
     "output_type": "stream",
     "name": "stdout",
     "text": [
      "count       484.000000\nmean      37610.081083\nstd       22048.033862\nmin         725.360164\n25%       18944.484776\n50%       37349.181467\n75%       49848.239744\nmax      112630.145259\nName: watt, dtype: float64\ncount       242.000000\nmean      64310.659445\nstd       37042.308900\nmin          68.162684\n25%       33468.043606\n50%       57963.947122\n75%       87486.909436\nmax      158461.086660\nName: watt, dtype: float64\ncount       123.000000\nmean     300681.783087\nstd      177034.281495\nmin        1622.983333\n25%      150056.763095\n50%      292938.192857\n75%      437540.014286\nmax      621757.611905\nName: watt, dtype: float64\ncount       191.000000\nmean     263792.761819\nstd      160125.672725\nmin           0.000000\n25%      122328.977273\n50%      246478.002909\n75%      409948.106993\nmax      566026.419938\nName: watt, dtype: float64\ncount      169.000000\nmean     33179.639216\nstd      19922.910045\nmin        291.316667\n25%      16787.819231\n50%      32207.560641\n75%      48301.716559\nmax      69908.385533\nName: watt, dtype: float64\ncount      186.000000\nmean      8898.162425\nstd       4922.217528\nmin        643.662234\n25%       4308.757372\n50%       8746.081206\n75%      13014.729597\nmax      18766.187787\nName: watt, dtype: float64\n"
     ]
    }
   ],
   "source": [
    "set_banpo1 = make_oneday(banpo1)\n",
    "set_bodeumchild = make_oneday(bodeumchild)\n",
    "set_cheongju1 = make_oneday(cheongju1)\n",
    "set_geumgang1 = make_oneday(geumgang1)\n",
    "set_geojeoipo = make_oneday(geojeoipo)\n",
    "set_hangook = make_oneday(hangook)\n",
    "set_LH1 = make_oneday(LH1)\n",
    "set_miribeol = make_oneday(miribeol)\n",
    "set_myosan = make_oneday(myosan)\n",
    "set_NewREC1 = make_oneday(NewREC1)\n",
    "set_ongok = make_oneday(ongok)\n",
    "set_zumun1 = make_oneday(zumun1)\n",
    "set_zumun8ho1 = make_oneday(zumun8ho1)\n",
    "set_yuka = make_oneday(yuka)\n",
    "\n",
    "# df1[df1[\"env_slopesolar\"] == 0]\n",
    "# set_df1[set_df1[\"watt\"] == 0]\n",
    "print(set_banpo1[\"watt\"].describe())\n",
    "print(set_bodeumchild[\"watt\"].describe())\n",
    "print(set_cheongju1[\"watt\"].describe())\n",
    "print(set_geumgang1[\"watt\"].describe())\n",
    "print(set_geojeoipo[\"watt\"].describe())\n",
    "print(set_hangook[\"watt\"].describe())\n"
   ]
  },
  {
   "cell_type": "code",
   "execution_count": 74,
   "metadata": {},
   "outputs": [
    {
     "output_type": "execute_result",
     "data": {
      "text/plain": [
       "Index(['env_slopesolar', 'env_levelsolar', 'match_solar', 'reset_match',\n",
       "       'watt'],\n",
       "      dtype='object')"
      ]
     },
     "metadata": {},
     "execution_count": 74
    }
   ],
   "source": [
    "set_banpo1.columns"
   ]
  },
  {
   "cell_type": "code",
   "execution_count": 75,
   "metadata": {},
   "outputs": [],
   "source": [
    "def match_power_weather(power_data, weather_data):\n",
    "    power_weather=[]\n",
    "    for i in power_data.index:\n",
    "        date_time = str(i).split(\" \")\n",
    "        date_time_df = weather_data[weather_data['일시']==date_time[0]]\n",
    "        sub = list(date_time_df.iloc[0,3:])\n",
    "        sub+=list(power_data[power_data.index==date_time[0]].iloc[0,:])\n",
    "        power_weather.append(sub)\n",
    "    return power_weather"
   ]
  },
  {
   "cell_type": "code",
   "execution_count": 76,
   "metadata": {},
   "outputs": [
    {
     "output_type": "execute_result",
     "data": {
      "text/plain": [
       "         최저기온(°C)    최고기온(°C)    일강수량(mm)  평균 풍속(m/s)  평균 상대습도(%)    가조시간(hr)  \\\n",
       "count  484.000000  484.000000  202.000000  484.000000  484.000000  484.000000   \n",
       "mean     9.506818   17.948967   10.222277    2.135950   62.530165   11.824174   \n",
       "std     10.519451   10.206460   19.240418    0.741905   15.469136    1.806319   \n",
       "min    -14.400000   -6.600000    0.000000    0.600000   25.500000    9.600000   \n",
       "25%      0.375000    8.875000    0.000000    1.600000   51.600000   10.000000   \n",
       "50%      9.800000   19.700000    1.350000    2.000000   62.950000   11.400000   \n",
       "75%     19.500000   26.825000   11.375000    2.500000   72.525000   13.500000   \n",
       "max     27.000000   36.500000  103.100000    6.000000   96.300000   14.800000   \n",
       "\n",
       "       합계 일사량(MJ/m2)  평균 전운량(1/10)  env_slopesolar  env_levelsolar  \\\n",
       "count     482.000000    484.000000      484.000000      484.000000   \n",
       "mean       12.517573      5.185537     2466.307920     2814.695607   \n",
       "std         6.674870      3.107381     1486.866512     1777.903103   \n",
       "min         0.650000      0.000000       75.185714       50.171429   \n",
       "25%         7.770000      2.575000     1252.126812     1136.625981   \n",
       "50%        11.125000      5.400000     2427.569074     2707.845843   \n",
       "75%        16.902500      7.900000     3294.991549     4406.954257   \n",
       "max        30.350000     10.000000     7156.856315     6761.228986   \n",
       "\n",
       "       match_solar  reset_match           watt  \n",
       "count   484.000000   484.000000     484.000000  \n",
       "mean   2503.667355  2466.307920   37610.081083  \n",
       "std    1487.106149  1471.868426   22048.033862  \n",
       "min     144.444444    89.034383     725.360164  \n",
       "25%    1270.833333  1227.871126   18944.484776  \n",
       "50%    2444.444444  2445.030038   37349.181467  \n",
       "75%    3310.416667  3253.084820   49848.239744  \n",
       "max    7475.000000  7184.489029  112630.145259  "
      ],
      "text/html": "<div>\n<style scoped>\n    .dataframe tbody tr th:only-of-type {\n        vertical-align: middle;\n    }\n\n    .dataframe tbody tr th {\n        vertical-align: top;\n    }\n\n    .dataframe thead th {\n        text-align: right;\n    }\n</style>\n<table border=\"1\" class=\"dataframe\">\n  <thead>\n    <tr style=\"text-align: right;\">\n      <th></th>\n      <th>최저기온(°C)</th>\n      <th>최고기온(°C)</th>\n      <th>일강수량(mm)</th>\n      <th>평균 풍속(m/s)</th>\n      <th>평균 상대습도(%)</th>\n      <th>가조시간(hr)</th>\n      <th>합계 일사량(MJ/m2)</th>\n      <th>평균 전운량(1/10)</th>\n      <th>env_slopesolar</th>\n      <th>env_levelsolar</th>\n      <th>match_solar</th>\n      <th>reset_match</th>\n      <th>watt</th>\n    </tr>\n  </thead>\n  <tbody>\n    <tr>\n      <th>count</th>\n      <td>484.000000</td>\n      <td>484.000000</td>\n      <td>202.000000</td>\n      <td>484.000000</td>\n      <td>484.000000</td>\n      <td>484.000000</td>\n      <td>482.000000</td>\n      <td>484.000000</td>\n      <td>484.000000</td>\n      <td>484.000000</td>\n      <td>484.000000</td>\n      <td>484.000000</td>\n      <td>484.000000</td>\n    </tr>\n    <tr>\n      <th>mean</th>\n      <td>9.506818</td>\n      <td>17.948967</td>\n      <td>10.222277</td>\n      <td>2.135950</td>\n      <td>62.530165</td>\n      <td>11.824174</td>\n      <td>12.517573</td>\n      <td>5.185537</td>\n      <td>2466.307920</td>\n      <td>2814.695607</td>\n      <td>2503.667355</td>\n      <td>2466.307920</td>\n      <td>37610.081083</td>\n    </tr>\n    <tr>\n      <th>std</th>\n      <td>10.519451</td>\n      <td>10.206460</td>\n      <td>19.240418</td>\n      <td>0.741905</td>\n      <td>15.469136</td>\n      <td>1.806319</td>\n      <td>6.674870</td>\n      <td>3.107381</td>\n      <td>1486.866512</td>\n      <td>1777.903103</td>\n      <td>1487.106149</td>\n      <td>1471.868426</td>\n      <td>22048.033862</td>\n    </tr>\n    <tr>\n      <th>min</th>\n      <td>-14.400000</td>\n      <td>-6.600000</td>\n      <td>0.000000</td>\n      <td>0.600000</td>\n      <td>25.500000</td>\n      <td>9.600000</td>\n      <td>0.650000</td>\n      <td>0.000000</td>\n      <td>75.185714</td>\n      <td>50.171429</td>\n      <td>144.444444</td>\n      <td>89.034383</td>\n      <td>725.360164</td>\n    </tr>\n    <tr>\n      <th>25%</th>\n      <td>0.375000</td>\n      <td>8.875000</td>\n      <td>0.000000</td>\n      <td>1.600000</td>\n      <td>51.600000</td>\n      <td>10.000000</td>\n      <td>7.770000</td>\n      <td>2.575000</td>\n      <td>1252.126812</td>\n      <td>1136.625981</td>\n      <td>1270.833333</td>\n      <td>1227.871126</td>\n      <td>18944.484776</td>\n    </tr>\n    <tr>\n      <th>50%</th>\n      <td>9.800000</td>\n      <td>19.700000</td>\n      <td>1.350000</td>\n      <td>2.000000</td>\n      <td>62.950000</td>\n      <td>11.400000</td>\n      <td>11.125000</td>\n      <td>5.400000</td>\n      <td>2427.569074</td>\n      <td>2707.845843</td>\n      <td>2444.444444</td>\n      <td>2445.030038</td>\n      <td>37349.181467</td>\n    </tr>\n    <tr>\n      <th>75%</th>\n      <td>19.500000</td>\n      <td>26.825000</td>\n      <td>11.375000</td>\n      <td>2.500000</td>\n      <td>72.525000</td>\n      <td>13.500000</td>\n      <td>16.902500</td>\n      <td>7.900000</td>\n      <td>3294.991549</td>\n      <td>4406.954257</td>\n      <td>3310.416667</td>\n      <td>3253.084820</td>\n      <td>49848.239744</td>\n    </tr>\n    <tr>\n      <th>max</th>\n      <td>27.000000</td>\n      <td>36.500000</td>\n      <td>103.100000</td>\n      <td>6.000000</td>\n      <td>96.300000</td>\n      <td>14.800000</td>\n      <td>30.350000</td>\n      <td>10.000000</td>\n      <td>7156.856315</td>\n      <td>6761.228986</td>\n      <td>7475.000000</td>\n      <td>7184.489029</td>\n      <td>112630.145259</td>\n    </tr>\n  </tbody>\n</table>\n</div>"
     },
     "metadata": {},
     "execution_count": 76
    }
   ],
   "source": [
    "banpo1_power_weather = match_power_weather(set_banpo1, banpo1_weather)\n",
    "banpo1_power_weather_df = pd.DataFrame(data = banpo1_power_weather, columns=[ '최저기온(°C)', '최고기온(°C)', '일강수량(mm)', '평균 풍속(m/s)',\n",
    "       '평균 상대습도(%)', '가조시간(hr)', '합계 일사량(MJ/m2)', '평균 전운량(1/10)','env_slopesolar', 'env_levelsolar', 'match_solar', 'reset_match',\n",
    "       'watt'])\n",
    "bodeumchild1_power_weather = match_power_weather(set_bodeumchild, bodeumchild_weather)\n",
    "bodeumchild1_power_weather_df = pd.DataFrame(data = bodeumchild1_power_weather, columns=[ '최저기온(°C)', '최고기온(°C)', '일강수량(mm)', '평균 풍속(m/s)',\n",
    "       '평균 상대습도(%)', '가조시간(hr)', '합계 일사량(MJ/m2)', '평균 전운량(1/10)','env_slopesolar', 'env_levelsolar', 'match_solar', 'reset_match',\n",
    "       'watt'])\n",
    "cheongju1_power_weather = match_power_weather(set_cheongju1, cheongju1_weather)\n",
    "cheongju1_power_weather_df = pd.DataFrame(data = cheongju1_power_weather, columns=[ '최저기온(°C)', '최고기온(°C)', '일강수량(mm)', '평균 풍속(m/s)',\n",
    "       '평균 상대습도(%)', '가조시간(hr)', '합계 일사량(MJ/m2)', '평균 전운량(1/10)','env_slopesolar', 'env_levelsolar', 'match_solar', 'reset_match',\n",
    "       'watt'])\n",
    "geumgang1_power_weather = match_power_weather(set_geumgang1, geumgang1_weather)\n",
    "geumgang1_power_weather_df = pd.DataFrame(data = geumgang1_power_weather, columns=[ '최저기온(°C)', '최고기온(°C)', '일강수량(mm)', '평균 풍속(m/s)',\n",
    "       '평균 상대습도(%)', '가조시간(hr)', '합계 일사량(MJ/m2)', '평균 전운량(1/10)','env_slopesolar', 'env_levelsolar', 'match_solar', 'reset_match',\n",
    "       'watt'])\n",
    "hangook_power_weather = match_power_weather(set_hangook, hangook_weather)\n",
    "hangook_power_weather_df = pd.DataFrame(data = hangook_power_weather, columns=[ '최저기온(°C)', '최고기온(°C)', '일강수량(mm)', '평균 풍속(m/s)',\n",
    "       '평균 상대습도(%)', '가조시간(hr)', '합계 일사량(MJ/m2)', '평균 전운량(1/10)','env_slopesolar', 'env_levelsolar', 'match_solar', 'reset_match',\n",
    "       'watt'])\n",
    "geojeoipo_power_weather = match_power_weather(set_geojeoipo, geojeoipo_weather)\n",
    "geojeoipo_power_weather_df = pd.DataFrame(data = geojeoipo_power_weather, columns=[ '최저기온(°C)', '최고기온(°C)', '일강수량(mm)', '평균 풍속(m/s)',\n",
    "       '평균 상대습도(%)', '가조시간(hr)', '합계 일사량(MJ/m2)', '평균 전운량(1/10)','env_slopesolar', 'env_levelsolar', 'match_solar', 'reset_match',\n",
    "       'watt'])\n",
    "LH1_power_weather = match_power_weather(set_LH1, LH1_weather)\n",
    "LH1_power_weather_df = pd.DataFrame(data = LH1_power_weather, columns=[ '최저기온(°C)', '최고기온(°C)', '일강수량(mm)', '평균 풍속(m/s)',\n",
    "       '평균 상대습도(%)', '가조시간(hr)', '합계 일사량(MJ/m2)', '평균 전운량(1/10)','env_slopesolar', 'env_levelsolar', 'match_solar', 'reset_match',\n",
    "       'watt'])\n",
    "miribeol_power_weather = match_power_weather(set_miribeol, banpo1_weather)\n",
    "miribeol_power_weather_df = pd.DataFrame(data = miribeol_power_weather, columns=[ '최저기온(°C)', '최고기온(°C)', '일강수량(mm)', '평균 풍속(m/s)',\n",
    "       '평균 상대습도(%)', '가조시간(hr)', '합계 일사량(MJ/m2)', '평균 전운량(1/10)','env_slopesolar', 'env_levelsolar', 'match_solar', 'reset_match',\n",
    "       'watt'])\n",
    "myosan_power_weather = match_power_weather(set_myosan, myosan_weather)\n",
    "myosan_power_weather_df = pd.DataFrame(data = myosan_power_weather, columns=[ '최저기온(°C)', '최고기온(°C)', '일강수량(mm)', '평균 풍속(m/s)',\n",
    "       '평균 상대습도(%)', '가조시간(hr)', '합계 일사량(MJ/m2)', '평균 전운량(1/10)','env_slopesolar', 'env_levelsolar', 'match_solar', 'reset_match',\n",
    "       'watt'])\n",
    "NewREC1_power_weather = match_power_weather(set_NewREC1,NewREC1_weather)\n",
    "NewREC1_power_weather_df = pd.DataFrame(data = NewREC1_power_weather, columns=[ '최저기온(°C)', '최고기온(°C)', '일강수량(mm)', '평균 풍속(m/s)',\n",
    "       '평균 상대습도(%)', '가조시간(hr)', '합계 일사량(MJ/m2)', '평균 전운량(1/10)','env_slopesolar', 'env_levelsolar', 'match_solar', 'reset_match',\n",
    "       'watt'])\n",
    "ongok_power_weather = match_power_weather(set_ongok, ongok_weather)\n",
    "ongok_power_weather_df = pd.DataFrame(data = ongok_power_weather, columns=[ '최저기온(°C)', '최고기온(°C)', '일강수량(mm)', '평균 풍속(m/s)',\n",
    "       '평균 상대습도(%)', '가조시간(hr)', '합계 일사량(MJ/m2)', '평균 전운량(1/10)','env_slopesolar', 'env_levelsolar', 'match_solar', 'reset_match',\n",
    "       'watt'])\n",
    "yuka_power_weather = match_power_weather(set_yuka, yuka_weather)\n",
    "yuka_power_weather_df = pd.DataFrame(data = yuka_power_weather, columns=[ '최저기온(°C)', '최고기온(°C)', '일강수량(mm)', '평균 풍속(m/s)',\n",
    "       '평균 상대습도(%)', '가조시간(hr)', '합계 일사량(MJ/m2)', '평균 전운량(1/10)','env_slopesolar', 'env_levelsolar', 'match_solar', 'reset_match',\n",
    "       'watt'])\n",
    "zumun1_power_weather = match_power_weather(set_zumun1, zumun1_weather)\n",
    "zumun1_power_weather_df = pd.DataFrame(data = zumun1_power_weather, columns=[ '최저기온(°C)', '최고기온(°C)', '일강수량(mm)', '평균 풍속(m/s)',\n",
    "       '평균 상대습도(%)', '가조시간(hr)', '합계 일사량(MJ/m2)', '평균 전운량(1/10)','env_slopesolar', 'env_levelsolar', 'match_solar', 'reset_match',\n",
    "       'watt'])\n",
    "zumun8ho1_power_weather = match_power_weather(set_zumun8ho1, zumun8ho1_weather)\n",
    "zumun8ho1_power_weather_df = pd.DataFrame(data =zumun8ho1_power_weather, columns=[ '최저기온(°C)', '최고기온(°C)', '일강수량(mm)', '평균 풍속(m/s)',\n",
    "       '평균 상대습도(%)', '가조시간(hr)', '합계 일사량(MJ/m2)', '평균 전운량(1/10)','env_slopesolar', 'env_levelsolar', 'match_solar', 'reset_match',\n",
    "       'watt'])\n",
    "\n",
    "banpo1_power_weather_df.describe()"
   ]
  },
  {
   "cell_type": "code",
   "execution_count": 77,
   "metadata": {},
   "outputs": [
    {
     "output_type": "stream",
     "name": "stdout",
     "text": [
      "count     484.000000\nmean     1880.504054\nstd      1102.401693\nmin        36.268008\n25%       947.224239\n50%      1867.459073\n75%      2492.411987\nmax      5631.507263\nName: watt, dtype: float64\ncount     242.000000\nmean     2572.426378\nstd      1481.692356\nmin         2.726507\n25%      1338.721744\n50%      2318.557885\n75%      3499.476377\nmax      6338.443466\nName: watt, dtype: float64\ncount     123.000000\nmean     3006.817831\nstd      1770.342815\nmin        16.229833\n25%      1500.567631\n50%      2929.381929\n75%      4375.400143\nmax      6217.576119\nName: watt, dtype: float64\ncount     191.000000\nmean     2651.183536\nstd      1609.303243\nmin         0.000000\n25%      1229.436958\n50%      2477.165858\n75%      4120.081477\nmax      5688.707738\nName: watt, dtype: float64\ncount     169.000000\nmean     2552.279940\nstd      1532.531542\nmin        22.408974\n25%      1291.370710\n50%      2477.504665\n75%      3715.516658\nmax      5377.568118\nName: watt, dtype: float64\ncount     186.000000\nmean     4449.081213\nstd      2461.108764\nmin       321.831117\n25%      2154.378686\n50%      4373.040603\n75%      6507.364799\nmax      9383.093893\nName: watt, dtype: float64\n"
     ]
    }
   ],
   "source": [
    "def scalling_watt(power_data, capacity):\n",
    "    return power_data['watt'] / capacity\n",
    "\n",
    "banpo1_power_weather_df['watt'] = scalling_watt(banpo1_power_weather_df, 20)\n",
    "bodeumchild1_power_weather_df['watt'] = scalling_watt(bodeumchild1_power_weather_df, 25)\n",
    "cheongju1_power_weather_df['watt'] = scalling_watt(cheongju1_power_weather_df, 100)\n",
    "geumgang1_power_weather_df['watt'] = scalling_watt(geumgang1_power_weather_df, 99.5)\n",
    "hangook_power_weather_df['watt'] = scalling_watt(hangook_power_weather_df, 2)\n",
    "geojeoipo_power_weather_df['watt'] = scalling_watt(geojeoipo_power_weather_df, 13)\n",
    "LH1_power_weather_df['watt'] = scalling_watt(LH1_power_weather_df, 12)\n",
    "miribeol_power_weather_df['watt'] = scalling_watt(miribeol_power_weather_df, 99)\n",
    "myosan_power_weather_df['watt'] = scalling_watt(myosan_power_weather_df, 30)\n",
    "NewREC1_power_weather_df['watt'] = scalling_watt(NewREC1_power_weather_df, 3)\n",
    "ongok_power_weather_df['watt'] = scalling_watt(ongok_power_weather_df, 32)\n",
    "zumun1_power_weather_df['watt'] = scalling_watt(zumun1_power_weather_df, 24.6)\n",
    "zumun8ho1_power_weather_df['watt'] = scalling_watt(zumun8ho1_power_weather_df, 100)\n",
    "yuka_power_weather_df['watt'] = scalling_watt(yuka_power_weather_df, 30)\n",
    "\n",
    "print(banpo1_power_weather_df[\"watt\"].describe())\n",
    "print(bodeumchild1_power_weather_df[\"watt\"].describe())\n",
    "print(cheongju1_power_weather_df[\"watt\"].describe())\n",
    "print(geumgang1_power_weather_df[\"watt\"].describe())\n",
    "print(geojeoipo_power_weather_df[\"watt\"].describe())\n",
    "print(hangook_power_weather_df[\"watt\"].describe())"
   ]
  },
  {
   "cell_type": "code",
   "execution_count": 78,
   "metadata": {},
   "outputs": [],
   "source": [
    "banpo1_power_weather_df.to_csv(\"banpo1_power_weather_df.csv\", encoding=\"UTF-8\")\n",
    "bodeumchild1_power_weather_df.to_csv(\"bodeumchild1_power_weather_df.csv\", encoding=\"UTF-8\")\n",
    "cheongju1_power_weather_df.to_csv(\"cheongju1_power_weather_df.csv\", encoding=\"UTF-8\")\n",
    "geumgang1_power_weather_df.to_csv(\"geumgang1_power_weather_df.csv\", encoding=\"UTF-8\")\n",
    "geojeoipo_power_weather_df.to_csv(\"geojeoipo_power_weather_df.csv\", encoding=\"UTF-8\")\n",
    "hangook_power_weather_df.to_csv(\"hangook_power_weather_df.csv\", encoding=\"UTF-8\")\n",
    "LH1_power_weather_df.to_csv(\"LH1_power_weather_df.csv\", encoding=\"UTF-8\")\n",
    "miribeol_power_weather_df.to_csv(\"miribeol_power_weather_df.csv\", encoding=\"UTF-8\")\n",
    "myosan_power_weather_df.to_csv(\"myosan_power_weather_df.csv\", encoding=\"UTF-8\")\n",
    "NewREC1_power_weather_df.to_csv(\"NewREC1_power_weather_df.csv\", encoding=\"UTF-8\")\n",
    "ongok_power_weather_df.to_csv(\"ongok_power_weather_df.csv\", encoding=\"UTF-8\")\n",
    "zumun1_power_weather_df.to_csv(\"zumun1_power_weather_df.csv\", encoding=\"UTF-8\")\n",
    "zumun8ho1_power_weather_df.to_csv(\"zumun8ho1_power_weather_df.csv\", encoding=\"UTF-8\")\n",
    "yuka_power_weather_df.to_csv(\"yuka_power_weather_df.csv\", encoding=\"UTF-8\")"
   ]
  },
  {
   "cell_type": "code",
   "execution_count": 79,
   "metadata": {},
   "outputs": [],
   "source": [
    "total_enitt_data = pd.concat([banpo1_power_weather_df,bodeumchild1_power_weather_df,cheongju1_power_weather_df,\n",
    "                             geumgang1_power_weather_df,hangook_power_weather_df,geojeoipo_power_weather_df,\n",
    "                             LH1_power_weather_df,miribeol_power_weather_df,myosan_power_weather_df,NewREC1_power_weather_df,\n",
    "                              ongok_power_weather_df,zumun1_power_weather_df,zumun8ho1_power_weather_df,yuka_power_weather_df])"
   ]
  },
  {
   "cell_type": "code",
   "execution_count": 80,
   "metadata": {},
   "outputs": [],
   "source": [
    "total_enitt_data.to_csv(\"total_enitt_data2.csv\")"
   ]
  },
  {
   "cell_type": "code",
   "execution_count": null,
   "metadata": {},
   "outputs": [],
   "source": []
  }
 ]
}