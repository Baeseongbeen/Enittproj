{
 "metadata": {
  "language_info": {
   "codemirror_mode": {
    "name": "ipython",
    "version": 3
   },
   "file_extension": ".py",
   "mimetype": "text/x-python",
   "name": "python",
   "nbconvert_exporter": "python",
   "pygments_lexer": "ipython3",
   "version": "3.7.6-final"
  },
  "orig_nbformat": 2,
  "kernelspec": {
   "name": "python3",
   "display_name": "Python 3"
  }
 },
 "nbformat": 4,
 "nbformat_minor": 2,
 "cells": [
  {
   "cell_type": "code",
   "execution_count": 6,
   "metadata": {},
   "outputs": [],
   "source": [
    "import pandas as pd \n",
    "import numpy as np"
   ]
  },
  {
   "cell_type": "code",
   "execution_count": 36,
   "metadata": {},
   "outputs": [
    {
     "output_type": "stream",
     "name": "stdout",
     "text": [
      "['강릉' '서울' '원주' '수원' '청주' '전주' '창원' '목포' '진주' '양산시']\n"
     ]
    },
    {
     "output_type": "execute_result",
     "data": {
      "text/plain": [
       "       지점  지점명          일시  최저기온(°C)  최고기온(°C)  일강수량(mm)  평균 풍속(m/s)  \\\n",
       "8793  257  양산시  2018-03-01       3.7      12.3       NaN         4.5   \n",
       "8794  257  양산시  2018-03-02      -0.7      11.8       NaN         2.0   \n",
       "8795  257  양산시  2018-03-03       0.7      16.4       NaN         1.9   \n",
       "8796  257  양산시  2018-03-04       5.0      17.6      21.0         1.8   \n",
       "8797  257  양산시  2018-03-05       3.9      14.2       4.0         5.8   \n",
       "8798  257  양산시  2018-03-06       3.5      12.6       NaN         3.7   \n",
       "8799  257  양산시  2018-03-07       4.4       9.3       5.5         4.3   \n",
       "8800  257  양산시  2018-03-08       3.4       5.9      24.0         3.0   \n",
       "8801  257  양산시  2018-03-09      -0.2       9.1       NaN         2.2   \n",
       "8802  257  양산시  2018-03-10       0.4      12.5       NaN         2.0   \n",
       "8803  257  양산시  2018-03-11       0.9      17.0       NaN         2.0   \n",
       "8804  257  양산시  2018-03-12       0.4      17.2       NaN         2.4   \n",
       "8805  257  양산시  2018-03-13       4.6      19.4       NaN         3.4   \n",
       "8806  257  양산시  2018-03-14       7.3      21.5       NaN         3.1   \n",
       "8807  257  양산시  2018-03-15      11.4      16.1      46.0         2.1   \n",
       "8808  257  양산시  2018-03-16       2.5      11.2       1.0         5.0   \n",
       "8809  257  양산시  2018-03-17       1.3      14.8       NaN         2.1   \n",
       "8810  257  양산시  2018-03-18       1.0      16.2       5.5         1.3   \n",
       "8811  257  양산시  2018-03-19       5.6      12.8      32.0         4.9   \n",
       "8812  257  양산시  2018-03-20       3.0       9.2       2.0         6.2   \n",
       "8813  257  양산시  2018-03-21       1.0       4.1      24.5         4.7   \n",
       "8814  257  양산시  2018-03-22       2.2      14.2       NaN         1.4   \n",
       "8815  257  양산시  2018-03-23       0.2      15.8       NaN         1.6   \n",
       "8816  257  양산시  2018-03-24       2.6      18.7       NaN         2.3   \n",
       "8817  257  양산시  2018-03-25       6.1      22.0       NaN         2.4   \n",
       "8818  257  양산시  2018-03-26       5.8      22.8       NaN         2.5   \n",
       "8819  257  양산시  2018-03-27       6.1      23.1       NaN         2.3   \n",
       "8820  257  양산시  2018-03-28       6.4      23.0       NaN         2.9   \n",
       "8821  257  양산시  2018-03-29       9.7      24.1       NaN         2.7   \n",
       "8822  257  양산시  2018-03-30      10.8      19.2       NaN         4.1   \n",
       "8823  257  양산시  2018-03-31       6.3      21.0       NaN         2.1   \n",
       "8824  257  양산시  2018-04-01       9.1      22.5       NaN         2.6   \n",
       "8825  257  양산시  2018-04-02      11.4      23.8       NaN         3.0   \n",
       "8826  257  양산시  2018-04-03      12.4      24.1       NaN         3.5   \n",
       "8827  257  양산시  2018-04-04       8.8      17.7       5.5         3.3   \n",
       "8828  257  양산시  2018-04-05       9.1      11.8       1.0         3.3   \n",
       "8829  257  양산시  2018-04-06       7.0      17.6      21.5         2.9   \n",
       "8830  257  양산시  2018-04-07       4.6      11.1       NaN         3.9   \n",
       "8831  257  양산시  2018-04-08       0.6      13.6       NaN         3.7   \n",
       "8832  257  양산시  2018-04-09       7.8      22.3       NaN         2.1   \n",
       "8833  257  양산시  2018-04-10       5.1      20.5       0.1         3.9   \n",
       "8834  257  양산시  2018-04-11      15.1      26.8       2.5         4.0   \n",
       "8835  257  양산시  2018-04-12      10.2      24.3       NaN         2.5   \n",
       "8836  257  양산시  2018-04-13       9.0      19.4       NaN         3.9   \n",
       "8837  257  양산시  2018-04-14      10.2      14.0      26.5         2.6   \n",
       "8838  257  양산시  2018-04-15      10.5      20.3       NaN         2.3   \n",
       "8839  257  양산시  2018-04-16       6.7      19.8       NaN         2.8   \n",
       "8840  257  양산시  2018-04-17       9.7      20.9       NaN         1.9   \n",
       "8841  257  양산시  2018-04-18       8.5      23.3       NaN         2.4   \n",
       "8842  257  양산시  2018-04-19       8.8      23.4       NaN         3.0   \n",
       "\n",
       "      평균 상대습도(%)  가조시간(hr)  합계 일사량(MJ/m2)  평균 전운량(1/10)  \n",
       "8793        45.3      11.4           9.21           NaN  \n",
       "8794        44.6      11.5          10.44           NaN  \n",
       "8795        69.6      11.5           7.65           NaN  \n",
       "8796        85.6      11.5           3.74           NaN  \n",
       "8797        83.5      11.6           1.35           NaN  \n",
       "8798        58.6      11.6          10.24           NaN  \n",
       "8799        71.1      11.6           2.99           NaN  \n",
       "8800        90.4      11.7           1.73           NaN  \n",
       "8801        74.8      11.7           4.61           NaN  \n",
       "8802        73.8      11.8           7.63           NaN  \n",
       "8803        63.3      11.8          10.56           NaN  \n",
       "8804        71.1      11.8          10.51           NaN  \n",
       "8805        75.6      11.9          10.74           NaN  \n",
       "8806        79.3      11.9          10.58           NaN  \n",
       "8807        98.4      11.9           0.86           NaN  \n",
       "8808        62.8      12.0           9.02           NaN  \n",
       "8809        63.6      12.0          11.36           NaN  \n",
       "8810        83.8      12.1           5.75           NaN  \n",
       "8811        90.5      12.1           1.77           NaN  \n",
       "8812        62.9      12.1           7.19           NaN  \n",
       "8813        91.5      12.2           1.92           NaN  \n",
       "8814        64.5      12.2          10.64           NaN  \n",
       "8815        67.1      12.2          11.72           NaN  \n",
       "8816        61.6      12.3          10.42           NaN  \n",
       "8817        58.9      12.3          11.86           NaN  \n",
       "8818        58.8      12.3          11.55           NaN  \n",
       "8819        55.5      12.4          11.65           NaN  \n",
       "8820        63.0      12.4          11.76           NaN  \n",
       "8821        65.4      12.5           9.22           NaN  \n",
       "8822        52.4      12.5          11.64           NaN  \n",
       "8823        54.1      12.5          11.13           NaN  \n",
       "8824        70.5      12.6           8.72           NaN  \n",
       "8825        82.0      12.6          10.93           NaN  \n",
       "8826        81.8      12.6          11.96           NaN  \n",
       "8827        89.9      12.7           1.16           NaN  \n",
       "8828        82.0      12.7           2.34           NaN  \n",
       "8829        66.9      12.8           7.48           NaN  \n",
       "8830        43.1      12.8           7.46           NaN  \n",
       "8831        55.4      12.8          12.43           NaN  \n",
       "8832        60.3      12.9          12.18           NaN  \n",
       "8833        81.1      12.9           9.85           NaN  \n",
       "8834        53.1      12.9          12.52           NaN  \n",
       "8835        32.3      13.0          11.29           NaN  \n",
       "8836        39.0      13.0           7.89           NaN  \n",
       "8837        86.1      13.0           0.74           NaN  \n",
       "8838        50.3      13.1          12.25           NaN  \n",
       "8839        60.6      13.1          10.97           NaN  \n",
       "8840        68.6      13.1          10.42           NaN  \n",
       "8841        65.9      13.2          13.26           NaN  \n",
       "8842        59.5      13.2          13.19           NaN  "
      ],
      "text/html": "<div>\n<style scoped>\n    .dataframe tbody tr th:only-of-type {\n        vertical-align: middle;\n    }\n\n    .dataframe tbody tr th {\n        vertical-align: top;\n    }\n\n    .dataframe thead th {\n        text-align: right;\n    }\n</style>\n<table border=\"1\" class=\"dataframe\">\n  <thead>\n    <tr style=\"text-align: right;\">\n      <th></th>\n      <th>지점</th>\n      <th>지점명</th>\n      <th>일시</th>\n      <th>최저기온(°C)</th>\n      <th>최고기온(°C)</th>\n      <th>일강수량(mm)</th>\n      <th>평균 풍속(m/s)</th>\n      <th>평균 상대습도(%)</th>\n      <th>가조시간(hr)</th>\n      <th>합계 일사량(MJ/m2)</th>\n      <th>평균 전운량(1/10)</th>\n    </tr>\n  </thead>\n  <tbody>\n    <tr>\n      <th>8793</th>\n      <td>257</td>\n      <td>양산시</td>\n      <td>2018-03-01</td>\n      <td>3.7</td>\n      <td>12.3</td>\n      <td>NaN</td>\n      <td>4.5</td>\n      <td>45.3</td>\n      <td>11.4</td>\n      <td>9.21</td>\n      <td>NaN</td>\n    </tr>\n    <tr>\n      <th>8794</th>\n      <td>257</td>\n      <td>양산시</td>\n      <td>2018-03-02</td>\n      <td>-0.7</td>\n      <td>11.8</td>\n      <td>NaN</td>\n      <td>2.0</td>\n      <td>44.6</td>\n      <td>11.5</td>\n      <td>10.44</td>\n      <td>NaN</td>\n    </tr>\n    <tr>\n      <th>8795</th>\n      <td>257</td>\n      <td>양산시</td>\n      <td>2018-03-03</td>\n      <td>0.7</td>\n      <td>16.4</td>\n      <td>NaN</td>\n      <td>1.9</td>\n      <td>69.6</td>\n      <td>11.5</td>\n      <td>7.65</td>\n      <td>NaN</td>\n    </tr>\n    <tr>\n      <th>8796</th>\n      <td>257</td>\n      <td>양산시</td>\n      <td>2018-03-04</td>\n      <td>5.0</td>\n      <td>17.6</td>\n      <td>21.0</td>\n      <td>1.8</td>\n      <td>85.6</td>\n      <td>11.5</td>\n      <td>3.74</td>\n      <td>NaN</td>\n    </tr>\n    <tr>\n      <th>8797</th>\n      <td>257</td>\n      <td>양산시</td>\n      <td>2018-03-05</td>\n      <td>3.9</td>\n      <td>14.2</td>\n      <td>4.0</td>\n      <td>5.8</td>\n      <td>83.5</td>\n      <td>11.6</td>\n      <td>1.35</td>\n      <td>NaN</td>\n    </tr>\n    <tr>\n      <th>8798</th>\n      <td>257</td>\n      <td>양산시</td>\n      <td>2018-03-06</td>\n      <td>3.5</td>\n      <td>12.6</td>\n      <td>NaN</td>\n      <td>3.7</td>\n      <td>58.6</td>\n      <td>11.6</td>\n      <td>10.24</td>\n      <td>NaN</td>\n    </tr>\n    <tr>\n      <th>8799</th>\n      <td>257</td>\n      <td>양산시</td>\n      <td>2018-03-07</td>\n      <td>4.4</td>\n      <td>9.3</td>\n      <td>5.5</td>\n      <td>4.3</td>\n      <td>71.1</td>\n      <td>11.6</td>\n      <td>2.99</td>\n      <td>NaN</td>\n    </tr>\n    <tr>\n      <th>8800</th>\n      <td>257</td>\n      <td>양산시</td>\n      <td>2018-03-08</td>\n      <td>3.4</td>\n      <td>5.9</td>\n      <td>24.0</td>\n      <td>3.0</td>\n      <td>90.4</td>\n      <td>11.7</td>\n      <td>1.73</td>\n      <td>NaN</td>\n    </tr>\n    <tr>\n      <th>8801</th>\n      <td>257</td>\n      <td>양산시</td>\n      <td>2018-03-09</td>\n      <td>-0.2</td>\n      <td>9.1</td>\n      <td>NaN</td>\n      <td>2.2</td>\n      <td>74.8</td>\n      <td>11.7</td>\n      <td>4.61</td>\n      <td>NaN</td>\n    </tr>\n    <tr>\n      <th>8802</th>\n      <td>257</td>\n      <td>양산시</td>\n      <td>2018-03-10</td>\n      <td>0.4</td>\n      <td>12.5</td>\n      <td>NaN</td>\n      <td>2.0</td>\n      <td>73.8</td>\n      <td>11.8</td>\n      <td>7.63</td>\n      <td>NaN</td>\n    </tr>\n    <tr>\n      <th>8803</th>\n      <td>257</td>\n      <td>양산시</td>\n      <td>2018-03-11</td>\n      <td>0.9</td>\n      <td>17.0</td>\n      <td>NaN</td>\n      <td>2.0</td>\n      <td>63.3</td>\n      <td>11.8</td>\n      <td>10.56</td>\n      <td>NaN</td>\n    </tr>\n    <tr>\n      <th>8804</th>\n      <td>257</td>\n      <td>양산시</td>\n      <td>2018-03-12</td>\n      <td>0.4</td>\n      <td>17.2</td>\n      <td>NaN</td>\n      <td>2.4</td>\n      <td>71.1</td>\n      <td>11.8</td>\n      <td>10.51</td>\n      <td>NaN</td>\n    </tr>\n    <tr>\n      <th>8805</th>\n      <td>257</td>\n      <td>양산시</td>\n      <td>2018-03-13</td>\n      <td>4.6</td>\n      <td>19.4</td>\n      <td>NaN</td>\n      <td>3.4</td>\n      <td>75.6</td>\n      <td>11.9</td>\n      <td>10.74</td>\n      <td>NaN</td>\n    </tr>\n    <tr>\n      <th>8806</th>\n      <td>257</td>\n      <td>양산시</td>\n      <td>2018-03-14</td>\n      <td>7.3</td>\n      <td>21.5</td>\n      <td>NaN</td>\n      <td>3.1</td>\n      <td>79.3</td>\n      <td>11.9</td>\n      <td>10.58</td>\n      <td>NaN</td>\n    </tr>\n    <tr>\n      <th>8807</th>\n      <td>257</td>\n      <td>양산시</td>\n      <td>2018-03-15</td>\n      <td>11.4</td>\n      <td>16.1</td>\n      <td>46.0</td>\n      <td>2.1</td>\n      <td>98.4</td>\n      <td>11.9</td>\n      <td>0.86</td>\n      <td>NaN</td>\n    </tr>\n    <tr>\n      <th>8808</th>\n      <td>257</td>\n      <td>양산시</td>\n      <td>2018-03-16</td>\n      <td>2.5</td>\n      <td>11.2</td>\n      <td>1.0</td>\n      <td>5.0</td>\n      <td>62.8</td>\n      <td>12.0</td>\n      <td>9.02</td>\n      <td>NaN</td>\n    </tr>\n    <tr>\n      <th>8809</th>\n      <td>257</td>\n      <td>양산시</td>\n      <td>2018-03-17</td>\n      <td>1.3</td>\n      <td>14.8</td>\n      <td>NaN</td>\n      <td>2.1</td>\n      <td>63.6</td>\n      <td>12.0</td>\n      <td>11.36</td>\n      <td>NaN</td>\n    </tr>\n    <tr>\n      <th>8810</th>\n      <td>257</td>\n      <td>양산시</td>\n      <td>2018-03-18</td>\n      <td>1.0</td>\n      <td>16.2</td>\n      <td>5.5</td>\n      <td>1.3</td>\n      <td>83.8</td>\n      <td>12.1</td>\n      <td>5.75</td>\n      <td>NaN</td>\n    </tr>\n    <tr>\n      <th>8811</th>\n      <td>257</td>\n      <td>양산시</td>\n      <td>2018-03-19</td>\n      <td>5.6</td>\n      <td>12.8</td>\n      <td>32.0</td>\n      <td>4.9</td>\n      <td>90.5</td>\n      <td>12.1</td>\n      <td>1.77</td>\n      <td>NaN</td>\n    </tr>\n    <tr>\n      <th>8812</th>\n      <td>257</td>\n      <td>양산시</td>\n      <td>2018-03-20</td>\n      <td>3.0</td>\n      <td>9.2</td>\n      <td>2.0</td>\n      <td>6.2</td>\n      <td>62.9</td>\n      <td>12.1</td>\n      <td>7.19</td>\n      <td>NaN</td>\n    </tr>\n    <tr>\n      <th>8813</th>\n      <td>257</td>\n      <td>양산시</td>\n      <td>2018-03-21</td>\n      <td>1.0</td>\n      <td>4.1</td>\n      <td>24.5</td>\n      <td>4.7</td>\n      <td>91.5</td>\n      <td>12.2</td>\n      <td>1.92</td>\n      <td>NaN</td>\n    </tr>\n    <tr>\n      <th>8814</th>\n      <td>257</td>\n      <td>양산시</td>\n      <td>2018-03-22</td>\n      <td>2.2</td>\n      <td>14.2</td>\n      <td>NaN</td>\n      <td>1.4</td>\n      <td>64.5</td>\n      <td>12.2</td>\n      <td>10.64</td>\n      <td>NaN</td>\n    </tr>\n    <tr>\n      <th>8815</th>\n      <td>257</td>\n      <td>양산시</td>\n      <td>2018-03-23</td>\n      <td>0.2</td>\n      <td>15.8</td>\n      <td>NaN</td>\n      <td>1.6</td>\n      <td>67.1</td>\n      <td>12.2</td>\n      <td>11.72</td>\n      <td>NaN</td>\n    </tr>\n    <tr>\n      <th>8816</th>\n      <td>257</td>\n      <td>양산시</td>\n      <td>2018-03-24</td>\n      <td>2.6</td>\n      <td>18.7</td>\n      <td>NaN</td>\n      <td>2.3</td>\n      <td>61.6</td>\n      <td>12.3</td>\n      <td>10.42</td>\n      <td>NaN</td>\n    </tr>\n    <tr>\n      <th>8817</th>\n      <td>257</td>\n      <td>양산시</td>\n      <td>2018-03-25</td>\n      <td>6.1</td>\n      <td>22.0</td>\n      <td>NaN</td>\n      <td>2.4</td>\n      <td>58.9</td>\n      <td>12.3</td>\n      <td>11.86</td>\n      <td>NaN</td>\n    </tr>\n    <tr>\n      <th>8818</th>\n      <td>257</td>\n      <td>양산시</td>\n      <td>2018-03-26</td>\n      <td>5.8</td>\n      <td>22.8</td>\n      <td>NaN</td>\n      <td>2.5</td>\n      <td>58.8</td>\n      <td>12.3</td>\n      <td>11.55</td>\n      <td>NaN</td>\n    </tr>\n    <tr>\n      <th>8819</th>\n      <td>257</td>\n      <td>양산시</td>\n      <td>2018-03-27</td>\n      <td>6.1</td>\n      <td>23.1</td>\n      <td>NaN</td>\n      <td>2.3</td>\n      <td>55.5</td>\n      <td>12.4</td>\n      <td>11.65</td>\n      <td>NaN</td>\n    </tr>\n    <tr>\n      <th>8820</th>\n      <td>257</td>\n      <td>양산시</td>\n      <td>2018-03-28</td>\n      <td>6.4</td>\n      <td>23.0</td>\n      <td>NaN</td>\n      <td>2.9</td>\n      <td>63.0</td>\n      <td>12.4</td>\n      <td>11.76</td>\n      <td>NaN</td>\n    </tr>\n    <tr>\n      <th>8821</th>\n      <td>257</td>\n      <td>양산시</td>\n      <td>2018-03-29</td>\n      <td>9.7</td>\n      <td>24.1</td>\n      <td>NaN</td>\n      <td>2.7</td>\n      <td>65.4</td>\n      <td>12.5</td>\n      <td>9.22</td>\n      <td>NaN</td>\n    </tr>\n    <tr>\n      <th>8822</th>\n      <td>257</td>\n      <td>양산시</td>\n      <td>2018-03-30</td>\n      <td>10.8</td>\n      <td>19.2</td>\n      <td>NaN</td>\n      <td>4.1</td>\n      <td>52.4</td>\n      <td>12.5</td>\n      <td>11.64</td>\n      <td>NaN</td>\n    </tr>\n    <tr>\n      <th>8823</th>\n      <td>257</td>\n      <td>양산시</td>\n      <td>2018-03-31</td>\n      <td>6.3</td>\n      <td>21.0</td>\n      <td>NaN</td>\n      <td>2.1</td>\n      <td>54.1</td>\n      <td>12.5</td>\n      <td>11.13</td>\n      <td>NaN</td>\n    </tr>\n    <tr>\n      <th>8824</th>\n      <td>257</td>\n      <td>양산시</td>\n      <td>2018-04-01</td>\n      <td>9.1</td>\n      <td>22.5</td>\n      <td>NaN</td>\n      <td>2.6</td>\n      <td>70.5</td>\n      <td>12.6</td>\n      <td>8.72</td>\n      <td>NaN</td>\n    </tr>\n    <tr>\n      <th>8825</th>\n      <td>257</td>\n      <td>양산시</td>\n      <td>2018-04-02</td>\n      <td>11.4</td>\n      <td>23.8</td>\n      <td>NaN</td>\n      <td>3.0</td>\n      <td>82.0</td>\n      <td>12.6</td>\n      <td>10.93</td>\n      <td>NaN</td>\n    </tr>\n    <tr>\n      <th>8826</th>\n      <td>257</td>\n      <td>양산시</td>\n      <td>2018-04-03</td>\n      <td>12.4</td>\n      <td>24.1</td>\n      <td>NaN</td>\n      <td>3.5</td>\n      <td>81.8</td>\n      <td>12.6</td>\n      <td>11.96</td>\n      <td>NaN</td>\n    </tr>\n    <tr>\n      <th>8827</th>\n      <td>257</td>\n      <td>양산시</td>\n      <td>2018-04-04</td>\n      <td>8.8</td>\n      <td>17.7</td>\n      <td>5.5</td>\n      <td>3.3</td>\n      <td>89.9</td>\n      <td>12.7</td>\n      <td>1.16</td>\n      <td>NaN</td>\n    </tr>\n    <tr>\n      <th>8828</th>\n      <td>257</td>\n      <td>양산시</td>\n      <td>2018-04-05</td>\n      <td>9.1</td>\n      <td>11.8</td>\n      <td>1.0</td>\n      <td>3.3</td>\n      <td>82.0</td>\n      <td>12.7</td>\n      <td>2.34</td>\n      <td>NaN</td>\n    </tr>\n    <tr>\n      <th>8829</th>\n      <td>257</td>\n      <td>양산시</td>\n      <td>2018-04-06</td>\n      <td>7.0</td>\n      <td>17.6</td>\n      <td>21.5</td>\n      <td>2.9</td>\n      <td>66.9</td>\n      <td>12.8</td>\n      <td>7.48</td>\n      <td>NaN</td>\n    </tr>\n    <tr>\n      <th>8830</th>\n      <td>257</td>\n      <td>양산시</td>\n      <td>2018-04-07</td>\n      <td>4.6</td>\n      <td>11.1</td>\n      <td>NaN</td>\n      <td>3.9</td>\n      <td>43.1</td>\n      <td>12.8</td>\n      <td>7.46</td>\n      <td>NaN</td>\n    </tr>\n    <tr>\n      <th>8831</th>\n      <td>257</td>\n      <td>양산시</td>\n      <td>2018-04-08</td>\n      <td>0.6</td>\n      <td>13.6</td>\n      <td>NaN</td>\n      <td>3.7</td>\n      <td>55.4</td>\n      <td>12.8</td>\n      <td>12.43</td>\n      <td>NaN</td>\n    </tr>\n    <tr>\n      <th>8832</th>\n      <td>257</td>\n      <td>양산시</td>\n      <td>2018-04-09</td>\n      <td>7.8</td>\n      <td>22.3</td>\n      <td>NaN</td>\n      <td>2.1</td>\n      <td>60.3</td>\n      <td>12.9</td>\n      <td>12.18</td>\n      <td>NaN</td>\n    </tr>\n    <tr>\n      <th>8833</th>\n      <td>257</td>\n      <td>양산시</td>\n      <td>2018-04-10</td>\n      <td>5.1</td>\n      <td>20.5</td>\n      <td>0.1</td>\n      <td>3.9</td>\n      <td>81.1</td>\n      <td>12.9</td>\n      <td>9.85</td>\n      <td>NaN</td>\n    </tr>\n    <tr>\n      <th>8834</th>\n      <td>257</td>\n      <td>양산시</td>\n      <td>2018-04-11</td>\n      <td>15.1</td>\n      <td>26.8</td>\n      <td>2.5</td>\n      <td>4.0</td>\n      <td>53.1</td>\n      <td>12.9</td>\n      <td>12.52</td>\n      <td>NaN</td>\n    </tr>\n    <tr>\n      <th>8835</th>\n      <td>257</td>\n      <td>양산시</td>\n      <td>2018-04-12</td>\n      <td>10.2</td>\n      <td>24.3</td>\n      <td>NaN</td>\n      <td>2.5</td>\n      <td>32.3</td>\n      <td>13.0</td>\n      <td>11.29</td>\n      <td>NaN</td>\n    </tr>\n    <tr>\n      <th>8836</th>\n      <td>257</td>\n      <td>양산시</td>\n      <td>2018-04-13</td>\n      <td>9.0</td>\n      <td>19.4</td>\n      <td>NaN</td>\n      <td>3.9</td>\n      <td>39.0</td>\n      <td>13.0</td>\n      <td>7.89</td>\n      <td>NaN</td>\n    </tr>\n    <tr>\n      <th>8837</th>\n      <td>257</td>\n      <td>양산시</td>\n      <td>2018-04-14</td>\n      <td>10.2</td>\n      <td>14.0</td>\n      <td>26.5</td>\n      <td>2.6</td>\n      <td>86.1</td>\n      <td>13.0</td>\n      <td>0.74</td>\n      <td>NaN</td>\n    </tr>\n    <tr>\n      <th>8838</th>\n      <td>257</td>\n      <td>양산시</td>\n      <td>2018-04-15</td>\n      <td>10.5</td>\n      <td>20.3</td>\n      <td>NaN</td>\n      <td>2.3</td>\n      <td>50.3</td>\n      <td>13.1</td>\n      <td>12.25</td>\n      <td>NaN</td>\n    </tr>\n    <tr>\n      <th>8839</th>\n      <td>257</td>\n      <td>양산시</td>\n      <td>2018-04-16</td>\n      <td>6.7</td>\n      <td>19.8</td>\n      <td>NaN</td>\n      <td>2.8</td>\n      <td>60.6</td>\n      <td>13.1</td>\n      <td>10.97</td>\n      <td>NaN</td>\n    </tr>\n    <tr>\n      <th>8840</th>\n      <td>257</td>\n      <td>양산시</td>\n      <td>2018-04-17</td>\n      <td>9.7</td>\n      <td>20.9</td>\n      <td>NaN</td>\n      <td>1.9</td>\n      <td>68.6</td>\n      <td>13.1</td>\n      <td>10.42</td>\n      <td>NaN</td>\n    </tr>\n    <tr>\n      <th>8841</th>\n      <td>257</td>\n      <td>양산시</td>\n      <td>2018-04-18</td>\n      <td>8.5</td>\n      <td>23.3</td>\n      <td>NaN</td>\n      <td>2.4</td>\n      <td>65.9</td>\n      <td>13.2</td>\n      <td>13.26</td>\n      <td>NaN</td>\n    </tr>\n    <tr>\n      <th>8842</th>\n      <td>257</td>\n      <td>양산시</td>\n      <td>2018-04-19</td>\n      <td>8.8</td>\n      <td>23.4</td>\n      <td>NaN</td>\n      <td>3.0</td>\n      <td>59.5</td>\n      <td>13.2</td>\n      <td>13.19</td>\n      <td>NaN</td>\n    </tr>\n  </tbody>\n</table>\n</div>"
     },
     "metadata": {},
     "execution_count": 36
    }
   ],
   "source": [
    "### 데이터를 로드하세요 \n",
    "\n",
    "\n",
    "weather = pd.read_csv(\"./allweather.csv\", encoding=\"ms949\")\n",
    "print(weather[\"지점명\"].unique())\n",
    "\n",
    "weather[weather[\"지점명\"] == \"양산시\"][:50]"
   ]
  },
  {
   "cell_type": "code",
   "execution_count": 4,
   "metadata": {},
   "outputs": [],
   "source": [
    "### 꼭 읽고 하세요 ,,,\n",
    "# 반포1 cap : 20\n",
    "# 반포2 cap : 15\n",
    "# newREC1 cap : 3\n",
    "# newREC2 cap : 3\n",
    "# 미리벌 cap : 99\n",
    "# LH cap : 12\n",
    "# 보듬어린이집 cap : 25\n",
    "# 묘산 cap : 30\n",
    "# 온곡 cap : 32\n",
    "# 한국 cap : 2 \n",
    "\n",
    "def make_oneday(df):\n",
    "    def change_datetime():\n",
    "        df_date = pd.to_datetime(df[\"Unnamed: 0\"])\n",
    "        df.index = df_date\n",
    "        return df\n",
    "\n",
    "    def df_resample1(df):\n",
    "        return df.resample('D').sum()\n",
    "\n",
    "    def split_data(df):\n",
    "        return df[[\"env_slopesolar\", \"env_levelsolar\",\"match_solar\", \"watt\"]]\n",
    "    \n",
    "    # def to_csv(df, name):\n",
    "    #     df.to_csv(name, encoding=\"UTF-8\")\n",
    "    set_df = df_resample1(split_data(change_datetime()))\n",
    "    set_df[\"watt\"] = set_df[\"watt\"] / 20 ##\n",
    "\n",
    "    return set_df\n",
    "\n",
    "set_df = make_oneday(df)"
   ]
  },
  {
   "cell_type": "code",
   "execution_count": 5,
   "metadata": {},
   "outputs": [
    {
     "output_type": "execute_result",
     "data": {
      "text/plain": [
       "            env_slopesolar  env_levelsolar  match_solar         watt\n",
       "Unnamed: 0                                                          \n",
       "2018-10-22     1574.781625     1763.402924  2219.444444  1140.171754\n",
       "2018-10-23     2245.413665     2675.848861  2108.333333  1613.629909\n",
       "2018-10-24     2222.015032     2791.374534  2197.222222  1702.858151\n",
       "2018-10-25     4086.135818     5171.638095  3688.888889  3033.538266\n",
       "2018-10-26      783.809317     1007.825259   819.444444   576.622252\n",
       "...                    ...             ...          ...          ...\n",
       "2020-10-18     4362.961538     5491.929487  4294.444444  3216.666853\n",
       "2020-10-19     3954.910256     5040.294872  4130.555556  2947.787558\n",
       "2020-10-20     4074.294872     5287.923993  4238.888889  3050.241019\n",
       "2020-10-21     1286.660256     1100.826923  1272.222222  1051.482048\n",
       "2020-10-22     2733.070513     3505.256410  3005.555556  2042.318462\n",
       "\n",
       "[732 rows x 4 columns]"
      ],
      "text/html": "<div>\n<style scoped>\n    .dataframe tbody tr th:only-of-type {\n        vertical-align: middle;\n    }\n\n    .dataframe tbody tr th {\n        vertical-align: top;\n    }\n\n    .dataframe thead th {\n        text-align: right;\n    }\n</style>\n<table border=\"1\" class=\"dataframe\">\n  <thead>\n    <tr style=\"text-align: right;\">\n      <th></th>\n      <th>env_slopesolar</th>\n      <th>env_levelsolar</th>\n      <th>match_solar</th>\n      <th>watt</th>\n    </tr>\n    <tr>\n      <th>Unnamed: 0</th>\n      <th></th>\n      <th></th>\n      <th></th>\n      <th></th>\n    </tr>\n  </thead>\n  <tbody>\n    <tr>\n      <th>2018-10-22</th>\n      <td>1574.781625</td>\n      <td>1763.402924</td>\n      <td>2219.444444</td>\n      <td>1140.171754</td>\n    </tr>\n    <tr>\n      <th>2018-10-23</th>\n      <td>2245.413665</td>\n      <td>2675.848861</td>\n      <td>2108.333333</td>\n      <td>1613.629909</td>\n    </tr>\n    <tr>\n      <th>2018-10-24</th>\n      <td>2222.015032</td>\n      <td>2791.374534</td>\n      <td>2197.222222</td>\n      <td>1702.858151</td>\n    </tr>\n    <tr>\n      <th>2018-10-25</th>\n      <td>4086.135818</td>\n      <td>5171.638095</td>\n      <td>3688.888889</td>\n      <td>3033.538266</td>\n    </tr>\n    <tr>\n      <th>2018-10-26</th>\n      <td>783.809317</td>\n      <td>1007.825259</td>\n      <td>819.444444</td>\n      <td>576.622252</td>\n    </tr>\n    <tr>\n      <th>...</th>\n      <td>...</td>\n      <td>...</td>\n      <td>...</td>\n      <td>...</td>\n    </tr>\n    <tr>\n      <th>2020-10-18</th>\n      <td>4362.961538</td>\n      <td>5491.929487</td>\n      <td>4294.444444</td>\n      <td>3216.666853</td>\n    </tr>\n    <tr>\n      <th>2020-10-19</th>\n      <td>3954.910256</td>\n      <td>5040.294872</td>\n      <td>4130.555556</td>\n      <td>2947.787558</td>\n    </tr>\n    <tr>\n      <th>2020-10-20</th>\n      <td>4074.294872</td>\n      <td>5287.923993</td>\n      <td>4238.888889</td>\n      <td>3050.241019</td>\n    </tr>\n    <tr>\n      <th>2020-10-21</th>\n      <td>1286.660256</td>\n      <td>1100.826923</td>\n      <td>1272.222222</td>\n      <td>1051.482048</td>\n    </tr>\n    <tr>\n      <th>2020-10-22</th>\n      <td>2733.070513</td>\n      <td>3505.256410</td>\n      <td>3005.555556</td>\n      <td>2042.318462</td>\n    </tr>\n  </tbody>\n</table>\n<p>732 rows × 4 columns</p>\n</div>"
     },
     "metadata": {},
     "execution_count": 5
    }
   ],
   "source": [
    "set_df"
   ]
  },
  {
   "cell_type": "code",
   "execution_count": 12,
   "metadata": {},
   "outputs": [
    {
     "output_type": "execute_result",
     "data": {
      "text/plain": [
       "        지점 지점명          일시  최저기온(°C)  최고기온(°C)  일강수량(mm)  평균 풍속(m/s)  \\\n",
       "0      105  강릉  2018-01-01      -2.1       5.7       NaN         3.7   \n",
       "1      105  강릉  2018-01-02      -0.6       6.9       NaN         2.8   \n",
       "2      105  강릉  2018-01-03      -3.8       4.8       NaN         2.8   \n",
       "3      105  강릉  2018-01-04      -4.5       4.4       NaN         2.6   \n",
       "4      105  강릉  2018-01-05      -0.9       7.6       NaN         3.2   \n",
       "...    ...  ..         ...       ...       ...       ...         ...   \n",
       "10385  294  거제  2020-10-31       9.0      18.5       NaN         0.8   \n",
       "10386  294  거제  2020-11-01       9.9      19.9       0.1         0.8   \n",
       "10387  294  거제  2020-11-02       8.5      16.6       4.2         0.6   \n",
       "10388  294  거제  2020-11-03       5.9      13.4       NaN         2.2   \n",
       "10389  294  거제  2020-11-04       4.4      12.9       NaN         1.6   \n",
       "\n",
       "       평균 상대습도(%)  가조시간(hr)  합계 일사량(MJ/m2)  평균 전운량(1/10)  \n",
       "0            19.8       9.6          11.29           NaN  \n",
       "1            22.4       9.6           9.85           NaN  \n",
       "2            26.1       9.6          11.09           NaN  \n",
       "3            44.6       9.7           8.35           NaN  \n",
       "4            35.6       9.7           9.62           NaN  \n",
       "...           ...       ...            ...           ...  \n",
       "10385        67.1      10.8            NaN           2.3  \n",
       "10386        76.9      10.8            NaN           9.1  \n",
       "10387        80.1      10.7            NaN           7.5  \n",
       "10388        51.4      10.7            NaN           1.1  \n",
       "10389        55.4      10.7            NaN           1.1  \n",
       "\n",
       "[10390 rows x 11 columns]"
      ],
      "text/html": "<div>\n<style scoped>\n    .dataframe tbody tr th:only-of-type {\n        vertical-align: middle;\n    }\n\n    .dataframe tbody tr th {\n        vertical-align: top;\n    }\n\n    .dataframe thead th {\n        text-align: right;\n    }\n</style>\n<table border=\"1\" class=\"dataframe\">\n  <thead>\n    <tr style=\"text-align: right;\">\n      <th></th>\n      <th>지점</th>\n      <th>지점명</th>\n      <th>일시</th>\n      <th>최저기온(°C)</th>\n      <th>최고기온(°C)</th>\n      <th>일강수량(mm)</th>\n      <th>평균 풍속(m/s)</th>\n      <th>평균 상대습도(%)</th>\n      <th>가조시간(hr)</th>\n      <th>합계 일사량(MJ/m2)</th>\n      <th>평균 전운량(1/10)</th>\n    </tr>\n  </thead>\n  <tbody>\n    <tr>\n      <th>0</th>\n      <td>105</td>\n      <td>강릉</td>\n      <td>2018-01-01</td>\n      <td>-2.1</td>\n      <td>5.7</td>\n      <td>NaN</td>\n      <td>3.7</td>\n      <td>19.8</td>\n      <td>9.6</td>\n      <td>11.29</td>\n      <td>NaN</td>\n    </tr>\n    <tr>\n      <th>1</th>\n      <td>105</td>\n      <td>강릉</td>\n      <td>2018-01-02</td>\n      <td>-0.6</td>\n      <td>6.9</td>\n      <td>NaN</td>\n      <td>2.8</td>\n      <td>22.4</td>\n      <td>9.6</td>\n      <td>9.85</td>\n      <td>NaN</td>\n    </tr>\n    <tr>\n      <th>2</th>\n      <td>105</td>\n      <td>강릉</td>\n      <td>2018-01-03</td>\n      <td>-3.8</td>\n      <td>4.8</td>\n      <td>NaN</td>\n      <td>2.8</td>\n      <td>26.1</td>\n      <td>9.6</td>\n      <td>11.09</td>\n      <td>NaN</td>\n    </tr>\n    <tr>\n      <th>3</th>\n      <td>105</td>\n      <td>강릉</td>\n      <td>2018-01-04</td>\n      <td>-4.5</td>\n      <td>4.4</td>\n      <td>NaN</td>\n      <td>2.6</td>\n      <td>44.6</td>\n      <td>9.7</td>\n      <td>8.35</td>\n      <td>NaN</td>\n    </tr>\n    <tr>\n      <th>4</th>\n      <td>105</td>\n      <td>강릉</td>\n      <td>2018-01-05</td>\n      <td>-0.9</td>\n      <td>7.6</td>\n      <td>NaN</td>\n      <td>3.2</td>\n      <td>35.6</td>\n      <td>9.7</td>\n      <td>9.62</td>\n      <td>NaN</td>\n    </tr>\n    <tr>\n      <th>...</th>\n      <td>...</td>\n      <td>...</td>\n      <td>...</td>\n      <td>...</td>\n      <td>...</td>\n      <td>...</td>\n      <td>...</td>\n      <td>...</td>\n      <td>...</td>\n      <td>...</td>\n      <td>...</td>\n    </tr>\n    <tr>\n      <th>10385</th>\n      <td>294</td>\n      <td>거제</td>\n      <td>2020-10-31</td>\n      <td>9.0</td>\n      <td>18.5</td>\n      <td>NaN</td>\n      <td>0.8</td>\n      <td>67.1</td>\n      <td>10.8</td>\n      <td>NaN</td>\n      <td>2.3</td>\n    </tr>\n    <tr>\n      <th>10386</th>\n      <td>294</td>\n      <td>거제</td>\n      <td>2020-11-01</td>\n      <td>9.9</td>\n      <td>19.9</td>\n      <td>0.1</td>\n      <td>0.8</td>\n      <td>76.9</td>\n      <td>10.8</td>\n      <td>NaN</td>\n      <td>9.1</td>\n    </tr>\n    <tr>\n      <th>10387</th>\n      <td>294</td>\n      <td>거제</td>\n      <td>2020-11-02</td>\n      <td>8.5</td>\n      <td>16.6</td>\n      <td>4.2</td>\n      <td>0.6</td>\n      <td>80.1</td>\n      <td>10.7</td>\n      <td>NaN</td>\n      <td>7.5</td>\n    </tr>\n    <tr>\n      <th>10388</th>\n      <td>294</td>\n      <td>거제</td>\n      <td>2020-11-03</td>\n      <td>5.9</td>\n      <td>13.4</td>\n      <td>NaN</td>\n      <td>2.2</td>\n      <td>51.4</td>\n      <td>10.7</td>\n      <td>NaN</td>\n      <td>1.1</td>\n    </tr>\n    <tr>\n      <th>10389</th>\n      <td>294</td>\n      <td>거제</td>\n      <td>2020-11-04</td>\n      <td>4.4</td>\n      <td>12.9</td>\n      <td>NaN</td>\n      <td>1.6</td>\n      <td>55.4</td>\n      <td>10.7</td>\n      <td>NaN</td>\n      <td>1.1</td>\n    </tr>\n  </tbody>\n</table>\n<p>10390 rows × 11 columns</p>\n</div>"
     },
     "metadata": {},
     "execution_count": 12
    }
   ],
   "source": [
    "weather '강릉', '서울', '수원', '충주', '청주', '전주', '울산', '창원', '목포', '거제' 합계 일사량(MJ/m2)"
   ]
  },
  {
   "cell_type": "code",
   "execution_count": 25,
   "metadata": {},
   "outputs": [
    {
     "output_type": "execute_result",
     "data": {
      "text/plain": [
       "0       11.29\n",
       "1        9.85\n",
       "2       11.09\n",
       "3        8.35\n",
       "4        9.62\n",
       "        ...  \n",
       "1034    11.92\n",
       "1035     4.98\n",
       "1036    13.77\n",
       "1037    15.00\n",
       "1038    14.55\n",
       "Name: 합계 일사량(MJ/m2), Length: 1039, dtype: float64"
      ]
     },
     "metadata": {},
     "execution_count": 25
    }
   ],
   "source": [
    "weather[weather[\"지점명\"] == \"서울\"][\"합계 일사량(MJ/m2)\"] ## ㅇ\n",
    "weather[weather[\"지점명\"] == \"수원\"][\"합계 일사량(MJ/m2)\"] ## ㅇ\n",
    "weather[weather[\"지점명\"] == \"충주\"][\"합계 일사량(MJ/m2)\"] ## x\n",
    "weather[weather[\"지점명\"] == \"청주\"][\"합계 일사량(MJ/m2)\"] ## ㅇ\n",
    "weather[weather[\"지점명\"] == \"전주\"][\"합계 일사량(MJ/m2)\"] ## ㅇ\n",
    "weather[weather[\"지점명\"] == \"울산\"][\"합계 일사량(MJ/m2)\"] ## x\n",
    "weather[weather[\"지점명\"] == \"창원\"][\"합계 일사량(MJ/m2)\"] ## ㅇ\n",
    "weather[weather[\"지점명\"] == \"목포\"][\"합계 일사량(MJ/m2)\"] ## ㅇ\n",
    "weather[weather[\"지점명\"] == \"거제\"][\"합계 일사량(MJ/m2)\"] ## x\n",
    "weather[weather[\"지점명\"] == \"강릉\"][\"합계 일사량(MJ/m2)\"] ## ㅇ\n"
   ]
  }
 ]
}