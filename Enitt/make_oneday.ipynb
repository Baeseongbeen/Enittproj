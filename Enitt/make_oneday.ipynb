{
 "metadata": {
  "language_info": {
   "codemirror_mode": {
    "name": "ipython",
    "version": 3
   },
   "file_extension": ".py",
   "mimetype": "text/x-python",
   "name": "python",
   "nbconvert_exporter": "python",
   "pygments_lexer": "ipython3",
   "version": "3.7.6-final"
  },
  "orig_nbformat": 2,
  "kernelspec": {
   "name": "python3",
   "display_name": "Python 3"
  }
 },
 "nbformat": 4,
 "nbformat_minor": 2,
 "cells": [
  {
   "cell_type": "code",
   "execution_count": 2,
   "metadata": {},
   "outputs": [],
   "source": [
    "import pandas as pd \n",
    "import numpy as np"
   ]
  },
  {
   "cell_type": "code",
   "execution_count": 4,
   "metadata": {},
   "outputs": [
    {
     "output_type": "execute_result",
     "data": {
      "text/plain": [
       "         Unnamed: 0  env_slopesolar  env_levelsolar  env_modtemp  env_airtemp  \\\n",
       "0  2018-10-22 12:00      333.375000      321.937500    25.050000    17.881250   \n",
       "1  2018-10-22 13:00      490.514286      563.442857    28.157143    18.405714   \n",
       "2  2018-10-22 14:00      368.214286      426.042857    26.777143    19.221429   \n",
       "3  2018-10-22 15:00      242.214286      294.400000    21.861429    18.455714   \n",
       "4  2018-10-22 16:00      116.159420      132.362319    18.288406    17.346377   \n",
       "\n",
       "      pow_dcv    pow_dca         watt    기온  강수량   풍속     풍향    습도   일조    일사  \\\n",
       "0  480.116279  11.560465  5536.874419  18.2  0.0  1.0   20.0  34.0  1.0  2.03   \n",
       "1  481.428571  14.126531  6808.306122  19.4  0.0  1.2  180.0  35.0  0.8  1.73   \n",
       "2  483.090909  10.850909  5217.690909  20.6  0.0  2.2  180.0  30.0  0.7  1.69   \n",
       "3  483.459016   6.842623  3306.254098  20.2  0.0  1.6  180.0  31.0  1.0  1.25   \n",
       "4  480.047619   3.265079  1589.776190  19.7  0.0  1.6  270.0  34.0  0.7  0.88   \n",
       "\n",
       "    적설  전운량  지중온도  match_solar   z_score  \n",
       "0  0.0  5.0  14.9   563.888889  0.094692  \n",
       "1  0.0  9.0  15.9   480.555556  0.416194  \n",
       "2  0.0  8.0  16.7   469.444444  0.013982  \n",
       "3  0.0  8.0  17.4   347.222222 -0.469355  \n",
       "4  0.0  9.0  17.9   244.444444 -0.903394  "
      ],
      "text/html": "<div>\n<style scoped>\n    .dataframe tbody tr th:only-of-type {\n        vertical-align: middle;\n    }\n\n    .dataframe tbody tr th {\n        vertical-align: top;\n    }\n\n    .dataframe thead th {\n        text-align: right;\n    }\n</style>\n<table border=\"1\" class=\"dataframe\">\n  <thead>\n    <tr style=\"text-align: right;\">\n      <th></th>\n      <th>Unnamed: 0</th>\n      <th>env_slopesolar</th>\n      <th>env_levelsolar</th>\n      <th>env_modtemp</th>\n      <th>env_airtemp</th>\n      <th>pow_dcv</th>\n      <th>pow_dca</th>\n      <th>watt</th>\n      <th>기온</th>\n      <th>강수량</th>\n      <th>풍속</th>\n      <th>풍향</th>\n      <th>습도</th>\n      <th>일조</th>\n      <th>일사</th>\n      <th>적설</th>\n      <th>전운량</th>\n      <th>지중온도</th>\n      <th>match_solar</th>\n      <th>z_score</th>\n    </tr>\n  </thead>\n  <tbody>\n    <tr>\n      <th>0</th>\n      <td>2018-10-22 12:00</td>\n      <td>333.375000</td>\n      <td>321.937500</td>\n      <td>25.050000</td>\n      <td>17.881250</td>\n      <td>480.116279</td>\n      <td>11.560465</td>\n      <td>5536.874419</td>\n      <td>18.2</td>\n      <td>0.0</td>\n      <td>1.0</td>\n      <td>20.0</td>\n      <td>34.0</td>\n      <td>1.0</td>\n      <td>2.03</td>\n      <td>0.0</td>\n      <td>5.0</td>\n      <td>14.9</td>\n      <td>563.888889</td>\n      <td>0.094692</td>\n    </tr>\n    <tr>\n      <th>1</th>\n      <td>2018-10-22 13:00</td>\n      <td>490.514286</td>\n      <td>563.442857</td>\n      <td>28.157143</td>\n      <td>18.405714</td>\n      <td>481.428571</td>\n      <td>14.126531</td>\n      <td>6808.306122</td>\n      <td>19.4</td>\n      <td>0.0</td>\n      <td>1.2</td>\n      <td>180.0</td>\n      <td>35.0</td>\n      <td>0.8</td>\n      <td>1.73</td>\n      <td>0.0</td>\n      <td>9.0</td>\n      <td>15.9</td>\n      <td>480.555556</td>\n      <td>0.416194</td>\n    </tr>\n    <tr>\n      <th>2</th>\n      <td>2018-10-22 14:00</td>\n      <td>368.214286</td>\n      <td>426.042857</td>\n      <td>26.777143</td>\n      <td>19.221429</td>\n      <td>483.090909</td>\n      <td>10.850909</td>\n      <td>5217.690909</td>\n      <td>20.6</td>\n      <td>0.0</td>\n      <td>2.2</td>\n      <td>180.0</td>\n      <td>30.0</td>\n      <td>0.7</td>\n      <td>1.69</td>\n      <td>0.0</td>\n      <td>8.0</td>\n      <td>16.7</td>\n      <td>469.444444</td>\n      <td>0.013982</td>\n    </tr>\n    <tr>\n      <th>3</th>\n      <td>2018-10-22 15:00</td>\n      <td>242.214286</td>\n      <td>294.400000</td>\n      <td>21.861429</td>\n      <td>18.455714</td>\n      <td>483.459016</td>\n      <td>6.842623</td>\n      <td>3306.254098</td>\n      <td>20.2</td>\n      <td>0.0</td>\n      <td>1.6</td>\n      <td>180.0</td>\n      <td>31.0</td>\n      <td>1.0</td>\n      <td>1.25</td>\n      <td>0.0</td>\n      <td>8.0</td>\n      <td>17.4</td>\n      <td>347.222222</td>\n      <td>-0.469355</td>\n    </tr>\n    <tr>\n      <th>4</th>\n      <td>2018-10-22 16:00</td>\n      <td>116.159420</td>\n      <td>132.362319</td>\n      <td>18.288406</td>\n      <td>17.346377</td>\n      <td>480.047619</td>\n      <td>3.265079</td>\n      <td>1589.776190</td>\n      <td>19.7</td>\n      <td>0.0</td>\n      <td>1.6</td>\n      <td>270.0</td>\n      <td>34.0</td>\n      <td>0.7</td>\n      <td>0.88</td>\n      <td>0.0</td>\n      <td>9.0</td>\n      <td>17.9</td>\n      <td>244.444444</td>\n      <td>-0.903394</td>\n    </tr>\n  </tbody>\n</table>\n</div>"
     },
     "metadata": {},
     "execution_count": 4
    }
   ],
   "source": [
    "df = pd.read_csv(\"./banpo1_join.csv\")\n",
    "df.head(5)"
   ]
  },
  {
   "cell_type": "code",
   "execution_count": 7,
   "metadata": {},
   "outputs": [
    {
     "output_type": "execute_result",
     "data": {
      "text/plain": [
       "            env_slopesolar  env_levelsolar  match_solar          watt\n",
       "Unnamed: 0                                                           \n",
       "2018-10-22     1574.781625     1763.402924  2219.444444  22803.435072\n",
       "2018-10-23     2245.413665     2675.848861  2125.000000  32272.598184\n",
       "2018-10-24     2222.015032     2791.374534  2197.222222  34057.163024\n",
       "2018-10-25     4086.135818     5171.638095  3688.888889  60670.765327\n",
       "2018-10-26      783.809317     1007.825259   833.333333  11532.445049\n",
       "...                    ...             ...          ...           ...\n",
       "2020-10-18     4362.961538     5491.929487  4336.111111  64333.337063\n",
       "2020-10-19     3954.910256     5040.294872  4130.555556  58955.751166\n",
       "2020-10-20     4074.294872     5287.923993  4238.888889  61004.820385\n",
       "2020-10-21     1286.660256     1100.826923  1291.666667  21029.640967\n",
       "2020-10-22     2733.070513     3505.256410  3038.888889  40846.369231\n",
       "\n",
       "[732 rows x 4 columns]"
      ],
      "text/html": "<div>\n<style scoped>\n    .dataframe tbody tr th:only-of-type {\n        vertical-align: middle;\n    }\n\n    .dataframe tbody tr th {\n        vertical-align: top;\n    }\n\n    .dataframe thead th {\n        text-align: right;\n    }\n</style>\n<table border=\"1\" class=\"dataframe\">\n  <thead>\n    <tr style=\"text-align: right;\">\n      <th></th>\n      <th>env_slopesolar</th>\n      <th>env_levelsolar</th>\n      <th>match_solar</th>\n      <th>watt</th>\n    </tr>\n    <tr>\n      <th>Unnamed: 0</th>\n      <th></th>\n      <th></th>\n      <th></th>\n      <th></th>\n    </tr>\n  </thead>\n  <tbody>\n    <tr>\n      <th>2018-10-22</th>\n      <td>1574.781625</td>\n      <td>1763.402924</td>\n      <td>2219.444444</td>\n      <td>22803.435072</td>\n    </tr>\n    <tr>\n      <th>2018-10-23</th>\n      <td>2245.413665</td>\n      <td>2675.848861</td>\n      <td>2125.000000</td>\n      <td>32272.598184</td>\n    </tr>\n    <tr>\n      <th>2018-10-24</th>\n      <td>2222.015032</td>\n      <td>2791.374534</td>\n      <td>2197.222222</td>\n      <td>34057.163024</td>\n    </tr>\n    <tr>\n      <th>2018-10-25</th>\n      <td>4086.135818</td>\n      <td>5171.638095</td>\n      <td>3688.888889</td>\n      <td>60670.765327</td>\n    </tr>\n    <tr>\n      <th>2018-10-26</th>\n      <td>783.809317</td>\n      <td>1007.825259</td>\n      <td>833.333333</td>\n      <td>11532.445049</td>\n    </tr>\n    <tr>\n      <th>...</th>\n      <td>...</td>\n      <td>...</td>\n      <td>...</td>\n      <td>...</td>\n    </tr>\n    <tr>\n      <th>2020-10-18</th>\n      <td>4362.961538</td>\n      <td>5491.929487</td>\n      <td>4336.111111</td>\n      <td>64333.337063</td>\n    </tr>\n    <tr>\n      <th>2020-10-19</th>\n      <td>3954.910256</td>\n      <td>5040.294872</td>\n      <td>4130.555556</td>\n      <td>58955.751166</td>\n    </tr>\n    <tr>\n      <th>2020-10-20</th>\n      <td>4074.294872</td>\n      <td>5287.923993</td>\n      <td>4238.888889</td>\n      <td>61004.820385</td>\n    </tr>\n    <tr>\n      <th>2020-10-21</th>\n      <td>1286.660256</td>\n      <td>1100.826923</td>\n      <td>1291.666667</td>\n      <td>21029.640967</td>\n    </tr>\n    <tr>\n      <th>2020-10-22</th>\n      <td>2733.070513</td>\n      <td>3505.256410</td>\n      <td>3038.888889</td>\n      <td>40846.369231</td>\n    </tr>\n  </tbody>\n</table>\n<p>732 rows × 4 columns</p>\n</div>"
     },
     "metadata": {},
     "execution_count": 7
    }
   ],
   "source": [
    "def make_oneday(df):\n",
    "    def change_datetime():\n",
    "        df_date = pd.to_datetime(df[\"Unnamed: 0\"])\n",
    "        df.index = df_date\n",
    "        return df\n",
    "\n",
    "    def df_resample1(df):\n",
    "        return df.resample('D').sum()\n",
    "\n",
    "    def split_data(df):\n",
    "        return df[[\"env_slopesolar\", \"env_levelsolar\",\"match_solar\", \"watt\"]]\n",
    "    \n",
    "    # def to_csv(df, name):\n",
    "    #     df.to_csv(name, encoding=\"UTF-8\")\n",
    "\n",
    "    return df_resample1(split_data(change_datetime()))\n",
    "\n"
   ]
  }
 ]
}