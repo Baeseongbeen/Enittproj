{
 "metadata": {
  "language_info": {
   "codemirror_mode": {
    "name": "ipython",
    "version": 3
   },
   "file_extension": ".py",
   "mimetype": "text/x-python",
   "name": "python",
   "nbconvert_exporter": "python",
   "pygments_lexer": "ipython3",
   "version": "3.7.6-final"
  },
  "orig_nbformat": 2,
  "kernelspec": {
   "name": "python3",
   "display_name": "Python 3"
  }
 },
 "nbformat": 4,
 "nbformat_minor": 2,
 "cells": [
  {
   "cell_type": "code",
   "execution_count": 2,
   "metadata": {},
   "outputs": [],
   "source": [
    "import pandas as pd \n",
    "import numpy as np"
   ]
  },
  {
   "cell_type": "code",
   "execution_count": 17,
   "metadata": {},
   "outputs": [],
   "source": [
    "### 데이터를 로드하세요 \n",
    "\n",
    "df = pd.read_csv(\"./banpo1_join.csv\")\n",
    "df.head(5)\n",
    "weather = pd.read_csv(\"./allweather.csv\", encoding=\"ms949\")"
   ]
  },
  {
   "cell_type": "code",
   "execution_count": 7,
   "metadata": {},
   "outputs": [],
   "source": [
    "### 꼭 읽고 하세요 ,,,\n",
    "# 반포1 cap : 20\n",
    "# 반포2 cap : 15\n",
    "# newREC1 cap : 3\n",
    "# newREC2 cap : 3\n",
    "# 미리벌 cap : 99\n",
    "# LH cap : 12\n",
    "# 보듬어린이집 cap : 25\n",
    "# 묘산 cap : 30\n",
    "# 온곡 cap : 32\n",
    "# 한국 cap : 2 \n",
    "\n",
    "def make_oneday(df):\n",
    "    def change_datetime():\n",
    "        df_date = pd.to_datetime(df[\"Unnamed: 0\"])\n",
    "        df.index = df_date\n",
    "        return df\n",
    "\n",
    "    def df_resample1(df):\n",
    "        return df.resample('D').sum()\n",
    "\n",
    "    def split_data(df):\n",
    "        return df[[\"env_slopesolar\", \"env_levelsolar\",\"match_solar\", \"watt\"]]\n",
    "    \n",
    "    # def to_csv(df, name):\n",
    "    #     df.to_csv(name, encoding=\"UTF-8\")\n",
    "    set_df = df_resample1(split_data(change_datetime()))\n",
    "    set_df[\"watt\"] = set_df[\"watt\"] / 20 ##\n",
    "\n",
    "    return set_df\n",
    "\n",
    "set_df = make_oneday(df)"
   ]
  },
  {
   "cell_type": "code",
   "execution_count": 9,
   "metadata": {},
   "outputs": [
    {
     "output_type": "execute_result",
     "data": {
      "text/plain": [
       "            env_slopesolar  env_levelsolar  match_solar         watt\n",
       "Unnamed: 0                                                          \n",
       "2018-10-22     1574.781625     1763.402924  2219.444444  1140.171754\n",
       "2018-10-23     2245.413665     2675.848861  2125.000000  1613.629909\n",
       "2018-10-24     2222.015032     2791.374534  2197.222222  1702.858151\n",
       "2018-10-25     4086.135818     5171.638095  3688.888889  3033.538266\n",
       "2018-10-26      783.809317     1007.825259   833.333333   576.622252\n",
       "...                    ...             ...          ...          ...\n",
       "2020-10-18     4362.961538     5491.929487  4336.111111  3216.666853\n",
       "2020-10-19     3954.910256     5040.294872  4130.555556  2947.787558\n",
       "2020-10-20     4074.294872     5287.923993  4238.888889  3050.241019\n",
       "2020-10-21     1286.660256     1100.826923  1291.666667  1051.482048\n",
       "2020-10-22     2733.070513     3505.256410  3038.888889  2042.318462\n",
       "\n",
       "[732 rows x 4 columns]"
      ],
      "text/html": "<div>\n<style scoped>\n    .dataframe tbody tr th:only-of-type {\n        vertical-align: middle;\n    }\n\n    .dataframe tbody tr th {\n        vertical-align: top;\n    }\n\n    .dataframe thead th {\n        text-align: right;\n    }\n</style>\n<table border=\"1\" class=\"dataframe\">\n  <thead>\n    <tr style=\"text-align: right;\">\n      <th></th>\n      <th>env_slopesolar</th>\n      <th>env_levelsolar</th>\n      <th>match_solar</th>\n      <th>watt</th>\n    </tr>\n    <tr>\n      <th>Unnamed: 0</th>\n      <th></th>\n      <th></th>\n      <th></th>\n      <th></th>\n    </tr>\n  </thead>\n  <tbody>\n    <tr>\n      <th>2018-10-22</th>\n      <td>1574.781625</td>\n      <td>1763.402924</td>\n      <td>2219.444444</td>\n      <td>1140.171754</td>\n    </tr>\n    <tr>\n      <th>2018-10-23</th>\n      <td>2245.413665</td>\n      <td>2675.848861</td>\n      <td>2125.000000</td>\n      <td>1613.629909</td>\n    </tr>\n    <tr>\n      <th>2018-10-24</th>\n      <td>2222.015032</td>\n      <td>2791.374534</td>\n      <td>2197.222222</td>\n      <td>1702.858151</td>\n    </tr>\n    <tr>\n      <th>2018-10-25</th>\n      <td>4086.135818</td>\n      <td>5171.638095</td>\n      <td>3688.888889</td>\n      <td>3033.538266</td>\n    </tr>\n    <tr>\n      <th>2018-10-26</th>\n      <td>783.809317</td>\n      <td>1007.825259</td>\n      <td>833.333333</td>\n      <td>576.622252</td>\n    </tr>\n    <tr>\n      <th>...</th>\n      <td>...</td>\n      <td>...</td>\n      <td>...</td>\n      <td>...</td>\n    </tr>\n    <tr>\n      <th>2020-10-18</th>\n      <td>4362.961538</td>\n      <td>5491.929487</td>\n      <td>4336.111111</td>\n      <td>3216.666853</td>\n    </tr>\n    <tr>\n      <th>2020-10-19</th>\n      <td>3954.910256</td>\n      <td>5040.294872</td>\n      <td>4130.555556</td>\n      <td>2947.787558</td>\n    </tr>\n    <tr>\n      <th>2020-10-20</th>\n      <td>4074.294872</td>\n      <td>5287.923993</td>\n      <td>4238.888889</td>\n      <td>3050.241019</td>\n    </tr>\n    <tr>\n      <th>2020-10-21</th>\n      <td>1286.660256</td>\n      <td>1100.826923</td>\n      <td>1291.666667</td>\n      <td>1051.482048</td>\n    </tr>\n    <tr>\n      <th>2020-10-22</th>\n      <td>2733.070513</td>\n      <td>3505.256410</td>\n      <td>3038.888889</td>\n      <td>2042.318462</td>\n    </tr>\n  </tbody>\n</table>\n<p>732 rows × 4 columns</p>\n</div>"
     },
     "metadata": {},
     "execution_count": 9
    }
   ],
   "source": [
    "set_df"
   ]
  },
  {
   "cell_type": "code",
   "execution_count": 18,
   "metadata": {},
   "outputs": [
    {
     "output_type": "execute_result",
     "data": {
      "text/plain": [
       "        지점 지점명          일시  최저기온(°C)  최고기온(°C)  일강수량(mm)  평균 풍속(m/s)  \\\n",
       "0      105  강릉  2018-01-01      -2.1       5.7       NaN         3.7   \n",
       "1      105  강릉  2018-01-02      -0.6       6.9       NaN         2.8   \n",
       "2      105  강릉  2018-01-03      -3.8       4.8       NaN         2.8   \n",
       "3      105  강릉  2018-01-04      -4.5       4.4       NaN         2.6   \n",
       "4      105  강릉  2018-01-05      -0.9       7.6       NaN         3.2   \n",
       "...    ...  ..         ...       ...       ...       ...         ...   \n",
       "10385  294  거제  2020-10-31       9.0      18.5       NaN         0.8   \n",
       "10386  294  거제  2020-11-01       9.9      19.9       0.1         0.8   \n",
       "10387  294  거제  2020-11-02       8.5      16.6       4.2         0.6   \n",
       "10388  294  거제  2020-11-03       5.9      13.4       NaN         2.2   \n",
       "10389  294  거제  2020-11-04       4.4      12.9       NaN         1.6   \n",
       "\n",
       "       평균 상대습도(%)  가조시간(hr)  합계 일사량(MJ/m2)  평균 전운량(1/10)  \n",
       "0            19.8       9.6          11.29           NaN  \n",
       "1            22.4       9.6           9.85           NaN  \n",
       "2            26.1       9.6          11.09           NaN  \n",
       "3            44.6       9.7           8.35           NaN  \n",
       "4            35.6       9.7           9.62           NaN  \n",
       "...           ...       ...            ...           ...  \n",
       "10385        67.1      10.8            NaN           2.3  \n",
       "10386        76.9      10.8            NaN           9.1  \n",
       "10387        80.1      10.7            NaN           7.5  \n",
       "10388        51.4      10.7            NaN           1.1  \n",
       "10389        55.4      10.7            NaN           1.1  \n",
       "\n",
       "[10390 rows x 11 columns]"
      ],
      "text/html": "<div>\n<style scoped>\n    .dataframe tbody tr th:only-of-type {\n        vertical-align: middle;\n    }\n\n    .dataframe tbody tr th {\n        vertical-align: top;\n    }\n\n    .dataframe thead th {\n        text-align: right;\n    }\n</style>\n<table border=\"1\" class=\"dataframe\">\n  <thead>\n    <tr style=\"text-align: right;\">\n      <th></th>\n      <th>지점</th>\n      <th>지점명</th>\n      <th>일시</th>\n      <th>최저기온(°C)</th>\n      <th>최고기온(°C)</th>\n      <th>일강수량(mm)</th>\n      <th>평균 풍속(m/s)</th>\n      <th>평균 상대습도(%)</th>\n      <th>가조시간(hr)</th>\n      <th>합계 일사량(MJ/m2)</th>\n      <th>평균 전운량(1/10)</th>\n    </tr>\n  </thead>\n  <tbody>\n    <tr>\n      <th>0</th>\n      <td>105</td>\n      <td>강릉</td>\n      <td>2018-01-01</td>\n      <td>-2.1</td>\n      <td>5.7</td>\n      <td>NaN</td>\n      <td>3.7</td>\n      <td>19.8</td>\n      <td>9.6</td>\n      <td>11.29</td>\n      <td>NaN</td>\n    </tr>\n    <tr>\n      <th>1</th>\n      <td>105</td>\n      <td>강릉</td>\n      <td>2018-01-02</td>\n      <td>-0.6</td>\n      <td>6.9</td>\n      <td>NaN</td>\n      <td>2.8</td>\n      <td>22.4</td>\n      <td>9.6</td>\n      <td>9.85</td>\n      <td>NaN</td>\n    </tr>\n    <tr>\n      <th>2</th>\n      <td>105</td>\n      <td>강릉</td>\n      <td>2018-01-03</td>\n      <td>-3.8</td>\n      <td>4.8</td>\n      <td>NaN</td>\n      <td>2.8</td>\n      <td>26.1</td>\n      <td>9.6</td>\n      <td>11.09</td>\n      <td>NaN</td>\n    </tr>\n    <tr>\n      <th>3</th>\n      <td>105</td>\n      <td>강릉</td>\n      <td>2018-01-04</td>\n      <td>-4.5</td>\n      <td>4.4</td>\n      <td>NaN</td>\n      <td>2.6</td>\n      <td>44.6</td>\n      <td>9.7</td>\n      <td>8.35</td>\n      <td>NaN</td>\n    </tr>\n    <tr>\n      <th>4</th>\n      <td>105</td>\n      <td>강릉</td>\n      <td>2018-01-05</td>\n      <td>-0.9</td>\n      <td>7.6</td>\n      <td>NaN</td>\n      <td>3.2</td>\n      <td>35.6</td>\n      <td>9.7</td>\n      <td>9.62</td>\n      <td>NaN</td>\n    </tr>\n    <tr>\n      <th>...</th>\n      <td>...</td>\n      <td>...</td>\n      <td>...</td>\n      <td>...</td>\n      <td>...</td>\n      <td>...</td>\n      <td>...</td>\n      <td>...</td>\n      <td>...</td>\n      <td>...</td>\n      <td>...</td>\n    </tr>\n    <tr>\n      <th>10385</th>\n      <td>294</td>\n      <td>거제</td>\n      <td>2020-10-31</td>\n      <td>9.0</td>\n      <td>18.5</td>\n      <td>NaN</td>\n      <td>0.8</td>\n      <td>67.1</td>\n      <td>10.8</td>\n      <td>NaN</td>\n      <td>2.3</td>\n    </tr>\n    <tr>\n      <th>10386</th>\n      <td>294</td>\n      <td>거제</td>\n      <td>2020-11-01</td>\n      <td>9.9</td>\n      <td>19.9</td>\n      <td>0.1</td>\n      <td>0.8</td>\n      <td>76.9</td>\n      <td>10.8</td>\n      <td>NaN</td>\n      <td>9.1</td>\n    </tr>\n    <tr>\n      <th>10387</th>\n      <td>294</td>\n      <td>거제</td>\n      <td>2020-11-02</td>\n      <td>8.5</td>\n      <td>16.6</td>\n      <td>4.2</td>\n      <td>0.6</td>\n      <td>80.1</td>\n      <td>10.7</td>\n      <td>NaN</td>\n      <td>7.5</td>\n    </tr>\n    <tr>\n      <th>10388</th>\n      <td>294</td>\n      <td>거제</td>\n      <td>2020-11-03</td>\n      <td>5.9</td>\n      <td>13.4</td>\n      <td>NaN</td>\n      <td>2.2</td>\n      <td>51.4</td>\n      <td>10.7</td>\n      <td>NaN</td>\n      <td>1.1</td>\n    </tr>\n    <tr>\n      <th>10389</th>\n      <td>294</td>\n      <td>거제</td>\n      <td>2020-11-04</td>\n      <td>4.4</td>\n      <td>12.9</td>\n      <td>NaN</td>\n      <td>1.6</td>\n      <td>55.4</td>\n      <td>10.7</td>\n      <td>NaN</td>\n      <td>1.1</td>\n    </tr>\n  </tbody>\n</table>\n<p>10390 rows × 11 columns</p>\n</div>"
     },
     "metadata": {},
     "execution_count": 18
    }
   ],
   "source": [
    "# def match_power_weather(power_data, weather_data):\n",
    "#     power_weather=[]\n",
    "#     for i, j in zip(power_data['일시'],weather_data['일시']):\n",
    "#         if i==j:\n",
    "#             df = weather_data[weather_data['일시']==j]\n",
    "#             power_weather.append(list(df.iloc[0,3:]))\n",
    "#     return power_weather\n",
    "\n",
    "weather"
   ]
  }
 ]
}