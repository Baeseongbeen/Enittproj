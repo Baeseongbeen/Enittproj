{
 "metadata": {
  "language_info": {
   "codemirror_mode": {
    "name": "ipython",
    "version": 3
   },
   "file_extension": ".py",
   "mimetype": "text/x-python",
   "name": "python",
   "nbconvert_exporter": "python",
   "pygments_lexer": "ipython3",
   "version": "3.7.6-final"
  },
  "orig_nbformat": 2,
  "kernelspec": {
   "name": "python3",
   "display_name": "Python 3"
  }
 },
 "nbformat": 4,
 "nbformat_minor": 2,
 "cells": [
  {
   "cell_type": "code",
   "execution_count": 31,
   "metadata": {},
   "outputs": [
    {
     "output_type": "execute_result",
     "data": {
      "text/plain": [
       "'c:\\\\Users\\\\seong\\\\Desktop\\\\Enittproj\\\\Enitt'"
      ]
     },
     "metadata": {},
     "execution_count": 31
    }
   ],
   "source": [
    "import pandas as pd \n",
    "import numpy as np \n",
    "import seaborn as sns\n",
    "import matplotlib.pyplot as plt\n",
    "import plotly\n",
    "import plotly.graph_objs as go # 그래프 객체 생성\n",
    "from plotly.subplots import make_subplots\n",
    "import os\n",
    "\n",
    "os.getcwd()"
   ]
  },
  {
   "cell_type": "code",
   "execution_count": 39,
   "metadata": {},
   "outputs": [
    {
     "output_type": "execute_result",
     "data": {
      "text/plain": [
       "     Unnamed: 0  최저기온(°C)  최고기온(°C)  일강수량(mm)  평균 풍속(m/s)  평균 상대습도(%)  \\\n",
       "0             0       8.8      20.6       0.0         1.0        50.0   \n",
       "1             1       9.8      16.9       5.0         1.1        75.1   \n",
       "2             2       7.6      18.7       0.0         1.3        66.0   \n",
       "3             3       7.0      21.2       0.0         0.9        55.5   \n",
       "4             4       9.9      14.7      11.0         1.6        74.1   \n",
       "..          ...       ...       ...       ...         ...         ...   \n",
       "727         727       7.2      20.2       0.0         2.0        65.5   \n",
       "728         728       9.8      21.3       0.0         1.7        74.4   \n",
       "729         729       9.9      21.7       0.0         1.6        67.1   \n",
       "730         730      11.8      17.3       0.0         1.9        69.4   \n",
       "731         731       8.4      18.2       0.0         2.8        66.0   \n",
       "\n",
       "     가조시간(hr)  합계 일사량(MJ/m2)  평균 전운량(1/10)  env_slopesolar  env_levelsolar  \\\n",
       "0        11.0          12.13           5.3     1574.781625     1763.402924   \n",
       "1        11.0           7.68           5.4     2245.413665     2675.848861   \n",
       "2        10.9          13.64           0.5     2222.015032     2791.374534   \n",
       "3        10.9          13.56           4.0     4086.135818     5171.638095   \n",
       "4        10.8           3.00           7.5      783.809317     1007.825259   \n",
       "..        ...            ...           ...             ...             ...   \n",
       "727      11.1          15.96           0.5     4362.961538     5491.929487   \n",
       "728      11.1          15.27           0.0     3954.910256     5040.294872   \n",
       "729      11.1          15.67           0.4     4074.294872     5287.923993   \n",
       "730      11.0           4.72           7.3     1286.660256     1100.826923   \n",
       "731      11.0          11.01           4.6     2733.070513     3505.256410   \n",
       "\n",
       "     match_solar          watt  \n",
       "0    2219.444444  6.795953e-29  \n",
       "1    2108.333333  9.617984e-29  \n",
       "2    2197.222222  1.014983e-28  \n",
       "3    3688.888889  1.808130e-28  \n",
       "4     819.444444  3.436936e-29  \n",
       "..           ...           ...  \n",
       "727  4294.444444  1.917283e-28  \n",
       "728  4130.555556  1.757018e-28  \n",
       "729  4238.888889  1.818085e-28  \n",
       "730  1272.222222  6.267321e-29  \n",
       "731  3005.555556  1.217317e-28  \n",
       "\n",
       "[732 rows x 13 columns]"
      ],
      "text/html": "<div>\n<style scoped>\n    .dataframe tbody tr th:only-of-type {\n        vertical-align: middle;\n    }\n\n    .dataframe tbody tr th {\n        vertical-align: top;\n    }\n\n    .dataframe thead th {\n        text-align: right;\n    }\n</style>\n<table border=\"1\" class=\"dataframe\">\n  <thead>\n    <tr style=\"text-align: right;\">\n      <th></th>\n      <th>Unnamed: 0</th>\n      <th>최저기온(°C)</th>\n      <th>최고기온(°C)</th>\n      <th>일강수량(mm)</th>\n      <th>평균 풍속(m/s)</th>\n      <th>평균 상대습도(%)</th>\n      <th>가조시간(hr)</th>\n      <th>합계 일사량(MJ/m2)</th>\n      <th>평균 전운량(1/10)</th>\n      <th>env_slopesolar</th>\n      <th>env_levelsolar</th>\n      <th>match_solar</th>\n      <th>watt</th>\n    </tr>\n  </thead>\n  <tbody>\n    <tr>\n      <th>0</th>\n      <td>0</td>\n      <td>8.8</td>\n      <td>20.6</td>\n      <td>0.0</td>\n      <td>1.0</td>\n      <td>50.0</td>\n      <td>11.0</td>\n      <td>12.13</td>\n      <td>5.3</td>\n      <td>1574.781625</td>\n      <td>1763.402924</td>\n      <td>2219.444444</td>\n      <td>6.795953e-29</td>\n    </tr>\n    <tr>\n      <th>1</th>\n      <td>1</td>\n      <td>9.8</td>\n      <td>16.9</td>\n      <td>5.0</td>\n      <td>1.1</td>\n      <td>75.1</td>\n      <td>11.0</td>\n      <td>7.68</td>\n      <td>5.4</td>\n      <td>2245.413665</td>\n      <td>2675.848861</td>\n      <td>2108.333333</td>\n      <td>9.617984e-29</td>\n    </tr>\n    <tr>\n      <th>2</th>\n      <td>2</td>\n      <td>7.6</td>\n      <td>18.7</td>\n      <td>0.0</td>\n      <td>1.3</td>\n      <td>66.0</td>\n      <td>10.9</td>\n      <td>13.64</td>\n      <td>0.5</td>\n      <td>2222.015032</td>\n      <td>2791.374534</td>\n      <td>2197.222222</td>\n      <td>1.014983e-28</td>\n    </tr>\n    <tr>\n      <th>3</th>\n      <td>3</td>\n      <td>7.0</td>\n      <td>21.2</td>\n      <td>0.0</td>\n      <td>0.9</td>\n      <td>55.5</td>\n      <td>10.9</td>\n      <td>13.56</td>\n      <td>4.0</td>\n      <td>4086.135818</td>\n      <td>5171.638095</td>\n      <td>3688.888889</td>\n      <td>1.808130e-28</td>\n    </tr>\n    <tr>\n      <th>4</th>\n      <td>4</td>\n      <td>9.9</td>\n      <td>14.7</td>\n      <td>11.0</td>\n      <td>1.6</td>\n      <td>74.1</td>\n      <td>10.8</td>\n      <td>3.00</td>\n      <td>7.5</td>\n      <td>783.809317</td>\n      <td>1007.825259</td>\n      <td>819.444444</td>\n      <td>3.436936e-29</td>\n    </tr>\n    <tr>\n      <th>...</th>\n      <td>...</td>\n      <td>...</td>\n      <td>...</td>\n      <td>...</td>\n      <td>...</td>\n      <td>...</td>\n      <td>...</td>\n      <td>...</td>\n      <td>...</td>\n      <td>...</td>\n      <td>...</td>\n      <td>...</td>\n      <td>...</td>\n    </tr>\n    <tr>\n      <th>727</th>\n      <td>727</td>\n      <td>7.2</td>\n      <td>20.2</td>\n      <td>0.0</td>\n      <td>2.0</td>\n      <td>65.5</td>\n      <td>11.1</td>\n      <td>15.96</td>\n      <td>0.5</td>\n      <td>4362.961538</td>\n      <td>5491.929487</td>\n      <td>4294.444444</td>\n      <td>1.917283e-28</td>\n    </tr>\n    <tr>\n      <th>728</th>\n      <td>728</td>\n      <td>9.8</td>\n      <td>21.3</td>\n      <td>0.0</td>\n      <td>1.7</td>\n      <td>74.4</td>\n      <td>11.1</td>\n      <td>15.27</td>\n      <td>0.0</td>\n      <td>3954.910256</td>\n      <td>5040.294872</td>\n      <td>4130.555556</td>\n      <td>1.757018e-28</td>\n    </tr>\n    <tr>\n      <th>729</th>\n      <td>729</td>\n      <td>9.9</td>\n      <td>21.7</td>\n      <td>0.0</td>\n      <td>1.6</td>\n      <td>67.1</td>\n      <td>11.1</td>\n      <td>15.67</td>\n      <td>0.4</td>\n      <td>4074.294872</td>\n      <td>5287.923993</td>\n      <td>4238.888889</td>\n      <td>1.818085e-28</td>\n    </tr>\n    <tr>\n      <th>730</th>\n      <td>730</td>\n      <td>11.8</td>\n      <td>17.3</td>\n      <td>0.0</td>\n      <td>1.9</td>\n      <td>69.4</td>\n      <td>11.0</td>\n      <td>4.72</td>\n      <td>7.3</td>\n      <td>1286.660256</td>\n      <td>1100.826923</td>\n      <td>1272.222222</td>\n      <td>6.267321e-29</td>\n    </tr>\n    <tr>\n      <th>731</th>\n      <td>731</td>\n      <td>8.4</td>\n      <td>18.2</td>\n      <td>0.0</td>\n      <td>2.8</td>\n      <td>66.0</td>\n      <td>11.0</td>\n      <td>11.01</td>\n      <td>4.6</td>\n      <td>2733.070513</td>\n      <td>3505.256410</td>\n      <td>3005.555556</td>\n      <td>1.217317e-28</td>\n    </tr>\n  </tbody>\n</table>\n<p>732 rows × 13 columns</p>\n</div>"
     },
     "metadata": {},
     "execution_count": 39
    }
   ],
   "source": [
    "data_list = os.listdir(\"./최종데이터\")\n",
    "\n",
    "data1 = pd.read_csv('./최종데이터/banpo_conbined.csv', encoding=\"utf-8\")\n",
    "data1\n",
    "# for i in data_list:\n",
    "\n",
    "    \n",
    "    #  = pd.read_csv(f'./최종데이터/{i}', encoding=\"utf-8\")\n",
    "\n",
    "\n"
   ]
  },
  {
   "cell_type": "code",
   "execution_count": 43,
   "metadata": {},
   "outputs": [
    {
     "output_type": "stream",
     "name": "stdout",
     "text": [
      "nan nan nan nan\n"
     ]
    }
   ],
   "source": [
    "## mape 별 계산하기 \n",
    "\n",
    "def mape_min(df):\n",
    "    ## make function\n",
    "    def delete_zero():\n",
    "        pass\n",
    "\n",
    "    def mean_absolute_percentage_error2(a, b, df):\n",
    "\n",
    "        a_set, b_set = np.array(df[a]), np.array(df[b])\n",
    "\n",
    "        return np.abs((a_set - b_set) / a_set)\n",
    "\n",
    "    def quantile_3_min(df):\n",
    "\n",
    "        a = np.mean(df[df[\"diff1\"] < np.quantile(df[\"diff1\"], 0.9)][\"diff1\"]) * 100\n",
    "        b = np.mean(df[df[\"diff2\"] < np.quantile(df[\"diff2\"], 0.9)][\"diff2\"]) * 100\n",
    "        c = np.mean(df[df[\"diff3\"] < np.quantile(df[\"diff3\"], 0.9)][\"diff3\"]) * 100\n",
    "        d = np.mean(df[df[\"diff4\"] < np.quantile(df[\"diff4\"], 0.9)][\"diff4\"]) * 100\n",
    "\n",
    "        print(a, b, c, d)\n",
    "        if min(a, b, c, d) == a:\n",
    "            \n",
    "            return df[[\"env_slopesolar\", \"match_solar\"]]\n",
    "        \n",
    "        elif min(a, b, c, d) == b:\n",
    "            return df[[\"env_levelsolar\", \"match_solar\"]]\n",
    "        \n",
    "        elif min(a, b, c, d) == c:\n",
    "            return df[[\"env_slopesolar\", \"reset_match_slope\"]]\n",
    "\n",
    "        elif min(a, b, c, d) == d:\n",
    "            return df[[\"env_levelsolar\", \"reset_match_slope\"]]\n",
    "        \n",
    "\n",
    "    ## set init \n",
    "    init_df = df[[\"env_slopesolar\", \"env_levelsolar\", \"match_solar\"]]\n",
    "    ## make reset_match \n",
    "    init_df[\"reset_match_slope\"] = init_df[\"match_solar\"] * init_df[\"env_slopesolar\"].mean() / init_df[\"match_solar\"].mean()\n",
    "    init_df[\"reset_match_level\"] = init_df[\"match_solar\"] * init_df[\"env_levelsolar\"].mean() / init_df[\"match_solar\"].mean()\n",
    "    \n",
    "    ## set solar and delete outlier \n",
    "    init_df[\"diff1\"] = mean_absolute_percentage_error2(\"env_slopesolar\", \"match_solar\", init_df)\n",
    "    init_df[\"diff2\"] = mean_absolute_percentage_error2(\"env_levelsolar\", \"match_solar\", init_df)\n",
    "    init_df[\"diff3\"] = mean_absolute_percentage_error2(\"env_slopesolar\", \"reset_match_slope\", init_df)\n",
    "    init_df[\"diff4\"] = mean_absolute_percentage_error2(\"env_levelsolar\", \"reset_match_slope\", init_df)\n",
    "\n",
    "    # init_weight = quantile_3_min(init_df).iloc[:, 0].mean() / quantile_3_min(init_df).iloc[:, 1].mean()\n",
    "\n",
    "    return quantile_3_min(init_df)\n",
    "\n",
    "mape_min(data1)"
   ]
  },
  {
   "cell_type": "code",
   "execution_count": null,
   "metadata": {},
   "outputs": [],
   "source": []
  }
 ]
}