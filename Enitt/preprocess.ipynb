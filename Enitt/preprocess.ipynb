{
 "metadata": {
  "language_info": {
   "codemirror_mode": {
    "name": "ipython",
    "version": 3
   },
   "file_extension": ".py",
   "mimetype": "text/x-python",
   "name": "python",
   "nbconvert_exporter": "python",
   "pygments_lexer": "ipython3",
   "version": "3.7.6-final"
  },
  "orig_nbformat": 2,
  "kernelspec": {
   "name": "python3",
   "display_name": "Python 3"
  }
 },
 "nbformat": 4,
 "nbformat_minor": 2,
 "cells": [
  {
   "cell_type": "code",
   "execution_count": 2,
   "metadata": {},
   "outputs": [],
   "source": [
    "import pandas as pd \n",
    "import numpy as np \n",
    "import seaborn as sns\n",
    "import matplotlib.pyplot as plt\n",
    "import plotly\n",
    "import plotly.graph_objs as go # 그래프 객체 생성\n",
    "from plotly.subplots import make_subplots"
   ]
  },
  {
   "cell_type": "code",
   "execution_count": 8,
   "metadata": {},
   "outputs": [],
   "source": [
    "df = pd.read_csv(\"./banpo1_join.csv\")"
   ]
  },
  {
   "cell_type": "code",
   "execution_count": 10,
   "metadata": {},
   "outputs": [
    {
     "output_type": "stream",
     "name": "stdout",
     "text": [
      "26.46991865780101 30.708878371078107 26.42208557777271 30.661661113476\n      env_slopesolar  reset_match_slope\n0         333.375000         544.310242\n1         490.514286         463.870305\n2         368.214286         453.144980\n3         242.214286         335.166405\n4         116.159420         235.957149\n...              ...                ...\n4596      491.916667         544.310242\n4597      385.500000         455.826311\n4598      154.000000         353.935724\n4599       11.166667         168.923868\n4600        0.000000          32.175975\n\n[4601 rows x 2 columns]\n"
     ]
    }
   ],
   "source": [
    "## mape 별 계산하기 \n",
    "\n",
    "def mape_min(df):\n",
    "    ## make function\n",
    "\n",
    "    def mean_absolute_percentage_error2(a, b, df):\n",
    "\n",
    "        a_set, b_set = np.array(df[a]), np.array(df[b])\n",
    "\n",
    "        return np.abs((a_set - b_set) / a_set)\n",
    "\n",
    "    def quantile_3_min(df):\n",
    "\n",
    "        a = np.mean(df[df[\"diff1\"] < np.quantile(df[\"diff1\"], 0.75)][\"diff1\"]) * 100\n",
    "        b = np.mean(df[df[\"diff2\"] < np.quantile(df[\"diff2\"], 0.75)][\"diff2\"]) * 100\n",
    "        c = np.mean(df[df[\"diff3\"] < np.quantile(df[\"diff3\"], 0.75)][\"diff3\"]) * 100\n",
    "        d = np.mean(df[df[\"diff4\"] < np.quantile(df[\"diff4\"], 0.75)][\"diff4\"]) * 100\n",
    "\n",
    "        print(a, b, c, d)\n",
    "        if min(a, b, c, d) == a:\n",
    "            return df[[\"env_slopesolar\", \"match_solar\"]]\n",
    "        \n",
    "        elif min(a, b, c, d) == b:\n",
    "            return df[[\"env_levelsolar\", \"match_solar\"]]\n",
    "        \n",
    "        elif min(a, b, c, d) == c:\n",
    "            return df[[\"env_slopesolar\", \"reset_match_slope\"]]\n",
    "\n",
    "        elif min(a, b, c, d) == d:\n",
    "            return df[[\"env_levelsolar\", \"reset_match_slope\"]]\n",
    "        \n",
    "\n",
    "    ## set init \n",
    "    init_df = df[[\"env_slopesolar\", \"env_levelsolar\", \"match_solar\"]]\n",
    "    ## make reset_match \n",
    "    init_df[\"reset_match_slope\"] = init_df[\"match_solar\"] * init_df[\"env_slopesolar\"].mean() / init_df[\"match_solar\"].mean()\n",
    "    init_df[\"reset_match_level\"] = init_df[\"match_solar\"] * init_df[\"env_levelsolar\"].mean() / init_df[\"match_solar\"].mean()\n",
    "    \n",
    "    ## set solar and delete outlier \n",
    "    init_df[\"diff1\"] = mean_absolute_percentage_error2(\"env_slopesolar\", \"match_solar\", init_df)\n",
    "    init_df[\"diff2\"] = mean_absolute_percentage_error2(\"env_levelsolar\", \"match_solar\", init_df)\n",
    "    init_df[\"diff3\"] = mean_absolute_percentage_error2(\"env_slopesolar\", \"reset_match_slope\", init_df)\n",
    "    init_df[\"diff4\"] = mean_absolute_percentage_error2(\"env_levelsolar\", \"reset_match_slope\", init_df)\n",
    "\n",
    "    return quantile_3_min(init_df)\n",
    "\n",
    "\n",
    "print(mape_min(df))\n"
   ]
  },
  {
   "cell_type": "code",
   "execution_count": null,
   "metadata": {},
   "outputs": [],
   "source": []
  }
 ]
}