{
 "metadata": {
  "language_info": {
   "codemirror_mode": {
    "name": "ipython",
    "version": 3
   },
   "file_extension": ".py",
   "mimetype": "text/x-python",
   "name": "python",
   "nbconvert_exporter": "python",
   "pygments_lexer": "ipython3",
   "version": "3.7.6-final"
  },
  "orig_nbformat": 2,
  "kernelspec": {
   "name": "python3",
   "display_name": "Python 3"
  }
 },
 "nbformat": 4,
 "nbformat_minor": 2,
 "cells": [
  {
   "cell_type": "code",
   "execution_count": 121,
   "metadata": {},
   "outputs": [
    {
     "output_type": "execute_result",
     "data": {
      "text/plain": [
       "      pow_index  pow_id    pow_date  pow_time  pow_cap  pow_dcv  pow_dca  \\\n",
       "0        520128       1  2020-10-23   6:58:21       20      521      0.0   \n",
       "1        520129       1  2020-10-23   7:03:15       20      403      0.0   \n",
       "3        520131       1  2020-10-23   7:08:07       20      360      0.2   \n",
       "5        520133       1  2020-10-23   7:12:59       20      364      0.3   \n",
       "7        520135       1  2020-10-23   7:17:50       20      446      0.2   \n",
       "...         ...     ...         ...       ...      ...      ...      ...   \n",
       "4595     524723       1  2020-11-09  17:03:07       20      384      0.0   \n",
       "4597     524725       1  2020-11-09  17:12:52       20      457      0.0   \n",
       "4598     524726       1  2020-11-09  17:17:46       20      435      0.0   \n",
       "4599     524727       1  2020-11-09  17:22:42       20      423      0.0   \n",
       "4600     524728       1  2020-11-09  17:27:36       20      402      0.0   \n",
       "\n",
       "      pow_dcp  pow_acvr  pow_acvs  pow_acvt  pow_acar  pow_acas  pow_acat  \\\n",
       "0           0       377       375       377       1.8       1.8       1.8   \n",
       "1           0       378       376       376       2.0       1.9       1.9   \n",
       "3           0       377       375       375       1.8       1.9       1.9   \n",
       "5           0       374       373       373       1.7       1.9       1.8   \n",
       "7           0       377       376       377       1.8       1.8       2.0   \n",
       "...       ...       ...       ...       ...       ...       ...       ...   \n",
       "4595        0       378       376       377       1.5       1.7       1.6   \n",
       "4597        0       380       377       378       1.6       1.7       1.8   \n",
       "4598        0       378       376       377       1.7       1.8       1.7   \n",
       "4599        0       378       377       378       1.7       1.7       1.8   \n",
       "4600        0       379       378       378       1.7       1.6       1.7   \n",
       "\n",
       "      pow_acp  pow_pf  pow_totpower  pow_freq  \n",
       "0           0     0.0      43886000      59.9  \n",
       "1         100     0.0      43886000      60.0  \n",
       "3         200     0.0      43886000      59.9  \n",
       "5         200     0.0      43886000      60.0  \n",
       "7         300     0.0      43886000      60.0  \n",
       "...       ...     ...           ...       ...  \n",
       "4595        0     0.0      44758000      60.0  \n",
       "4597        0     0.0      44758000      60.0  \n",
       "4598        0     0.0      44758000      60.0  \n",
       "4599        0     0.0      44758000      60.0  \n",
       "4600        0     0.0      44758000      59.9  \n",
       "\n",
       "[2319 rows x 18 columns]"
      ],
      "text/html": "<div>\n<style scoped>\n    .dataframe tbody tr th:only-of-type {\n        vertical-align: middle;\n    }\n\n    .dataframe tbody tr th {\n        vertical-align: top;\n    }\n\n    .dataframe thead th {\n        text-align: right;\n    }\n</style>\n<table border=\"1\" class=\"dataframe\">\n  <thead>\n    <tr style=\"text-align: right;\">\n      <th></th>\n      <th>pow_index</th>\n      <th>pow_id</th>\n      <th>pow_date</th>\n      <th>pow_time</th>\n      <th>pow_cap</th>\n      <th>pow_dcv</th>\n      <th>pow_dca</th>\n      <th>pow_dcp</th>\n      <th>pow_acvr</th>\n      <th>pow_acvs</th>\n      <th>pow_acvt</th>\n      <th>pow_acar</th>\n      <th>pow_acas</th>\n      <th>pow_acat</th>\n      <th>pow_acp</th>\n      <th>pow_pf</th>\n      <th>pow_totpower</th>\n      <th>pow_freq</th>\n    </tr>\n  </thead>\n  <tbody>\n    <tr>\n      <th>0</th>\n      <td>520128</td>\n      <td>1</td>\n      <td>2020-10-23</td>\n      <td>6:58:21</td>\n      <td>20</td>\n      <td>521</td>\n      <td>0.0</td>\n      <td>0</td>\n      <td>377</td>\n      <td>375</td>\n      <td>377</td>\n      <td>1.8</td>\n      <td>1.8</td>\n      <td>1.8</td>\n      <td>0</td>\n      <td>0.0</td>\n      <td>43886000</td>\n      <td>59.9</td>\n    </tr>\n    <tr>\n      <th>1</th>\n      <td>520129</td>\n      <td>1</td>\n      <td>2020-10-23</td>\n      <td>7:03:15</td>\n      <td>20</td>\n      <td>403</td>\n      <td>0.0</td>\n      <td>0</td>\n      <td>378</td>\n      <td>376</td>\n      <td>376</td>\n      <td>2.0</td>\n      <td>1.9</td>\n      <td>1.9</td>\n      <td>100</td>\n      <td>0.0</td>\n      <td>43886000</td>\n      <td>60.0</td>\n    </tr>\n    <tr>\n      <th>3</th>\n      <td>520131</td>\n      <td>1</td>\n      <td>2020-10-23</td>\n      <td>7:08:07</td>\n      <td>20</td>\n      <td>360</td>\n      <td>0.2</td>\n      <td>0</td>\n      <td>377</td>\n      <td>375</td>\n      <td>375</td>\n      <td>1.8</td>\n      <td>1.9</td>\n      <td>1.9</td>\n      <td>200</td>\n      <td>0.0</td>\n      <td>43886000</td>\n      <td>59.9</td>\n    </tr>\n    <tr>\n      <th>5</th>\n      <td>520133</td>\n      <td>1</td>\n      <td>2020-10-23</td>\n      <td>7:12:59</td>\n      <td>20</td>\n      <td>364</td>\n      <td>0.3</td>\n      <td>0</td>\n      <td>374</td>\n      <td>373</td>\n      <td>373</td>\n      <td>1.7</td>\n      <td>1.9</td>\n      <td>1.8</td>\n      <td>200</td>\n      <td>0.0</td>\n      <td>43886000</td>\n      <td>60.0</td>\n    </tr>\n    <tr>\n      <th>7</th>\n      <td>520135</td>\n      <td>1</td>\n      <td>2020-10-23</td>\n      <td>7:17:50</td>\n      <td>20</td>\n      <td>446</td>\n      <td>0.2</td>\n      <td>0</td>\n      <td>377</td>\n      <td>376</td>\n      <td>377</td>\n      <td>1.8</td>\n      <td>1.8</td>\n      <td>2.0</td>\n      <td>300</td>\n      <td>0.0</td>\n      <td>43886000</td>\n      <td>60.0</td>\n    </tr>\n    <tr>\n      <th>...</th>\n      <td>...</td>\n      <td>...</td>\n      <td>...</td>\n      <td>...</td>\n      <td>...</td>\n      <td>...</td>\n      <td>...</td>\n      <td>...</td>\n      <td>...</td>\n      <td>...</td>\n      <td>...</td>\n      <td>...</td>\n      <td>...</td>\n      <td>...</td>\n      <td>...</td>\n      <td>...</td>\n      <td>...</td>\n      <td>...</td>\n    </tr>\n    <tr>\n      <th>4595</th>\n      <td>524723</td>\n      <td>1</td>\n      <td>2020-11-09</td>\n      <td>17:03:07</td>\n      <td>20</td>\n      <td>384</td>\n      <td>0.0</td>\n      <td>0</td>\n      <td>378</td>\n      <td>376</td>\n      <td>377</td>\n      <td>1.5</td>\n      <td>1.7</td>\n      <td>1.6</td>\n      <td>0</td>\n      <td>0.0</td>\n      <td>44758000</td>\n      <td>60.0</td>\n    </tr>\n    <tr>\n      <th>4597</th>\n      <td>524725</td>\n      <td>1</td>\n      <td>2020-11-09</td>\n      <td>17:12:52</td>\n      <td>20</td>\n      <td>457</td>\n      <td>0.0</td>\n      <td>0</td>\n      <td>380</td>\n      <td>377</td>\n      <td>378</td>\n      <td>1.6</td>\n      <td>1.7</td>\n      <td>1.8</td>\n      <td>0</td>\n      <td>0.0</td>\n      <td>44758000</td>\n      <td>60.0</td>\n    </tr>\n    <tr>\n      <th>4598</th>\n      <td>524726</td>\n      <td>1</td>\n      <td>2020-11-09</td>\n      <td>17:17:46</td>\n      <td>20</td>\n      <td>435</td>\n      <td>0.0</td>\n      <td>0</td>\n      <td>378</td>\n      <td>376</td>\n      <td>377</td>\n      <td>1.7</td>\n      <td>1.8</td>\n      <td>1.7</td>\n      <td>0</td>\n      <td>0.0</td>\n      <td>44758000</td>\n      <td>60.0</td>\n    </tr>\n    <tr>\n      <th>4599</th>\n      <td>524727</td>\n      <td>1</td>\n      <td>2020-11-09</td>\n      <td>17:22:42</td>\n      <td>20</td>\n      <td>423</td>\n      <td>0.0</td>\n      <td>0</td>\n      <td>378</td>\n      <td>377</td>\n      <td>378</td>\n      <td>1.7</td>\n      <td>1.7</td>\n      <td>1.8</td>\n      <td>0</td>\n      <td>0.0</td>\n      <td>44758000</td>\n      <td>60.0</td>\n    </tr>\n    <tr>\n      <th>4600</th>\n      <td>524728</td>\n      <td>1</td>\n      <td>2020-11-09</td>\n      <td>17:27:36</td>\n      <td>20</td>\n      <td>402</td>\n      <td>0.0</td>\n      <td>0</td>\n      <td>379</td>\n      <td>378</td>\n      <td>378</td>\n      <td>1.7</td>\n      <td>1.6</td>\n      <td>1.7</td>\n      <td>0</td>\n      <td>0.0</td>\n      <td>44758000</td>\n      <td>59.9</td>\n    </tr>\n  </tbody>\n</table>\n<p>2319 rows × 18 columns</p>\n</div>"
     },
     "metadata": {},
     "execution_count": 121
    }
   ],
   "source": [
    "import pandas as pd\n",
    "import numpy as np\n",
    "banpo_power = pd.read_csv(\"./ENITT_SOLAR_DATA/ENITT_SOLAR_DATA/validation_data/A365. 반포써밋2 발전량.csv\", encoding=\"ms949\")\n",
    "# banpo_weather = pd.read_csv(\"./A365. 반포써밋2 환경센서.csv\", encoding=\"ms949\")\n",
    "LH_power = pd.read_csv(\"./ENITT_SOLAR_DATA/ENITT_SOLAR_DATA/validation_data/A569. LH서울공릉 행복주택 발전량.csv\", encoding=\"ms949\")\n",
    "# LH_weather = pd.read_csv(\"./A569. LH서울공릉 행복주택 환경센서.csv\", encoding=\"ms949\")\n",
    "ongok_power = pd.read_csv(\"./ENITT_SOLAR_DATA/ENITT_SOLAR_DATA/validation_data/A643. 온곡중 체육관 발전량.csv\", encoding=\"ms949\")\n",
    "# ongok_weather = pd.read_csv(\"./A643. 온곡중 체육관 환경센서.csv\", encoding=\"ms949\")\n",
    "jumonjin_power = pd.read_csv(\"./ENITT_SOLAR_DATA/ENITT_SOLAR_DATA/validation_data/B115. 주문진해안주차타워 발전량.csv\", encoding=\"ms949\")\n",
    "\n",
    "banpo_power = banpo_power[banpo_power[\"pow_cap\"] == 20 ]\n",
    "banpo_power\n",
    "# jumonjin_weather = pd.read_csv(\"./B115. 주문진해안주차타워 환경센서.csv\", encoding=\"ms949\")"
   ]
  },
  {
   "cell_type": "code",
   "execution_count": 122,
   "metadata": {},
   "outputs": [],
   "source": [
    "def groupby_solar_reset(ent_data_solar):\n",
    "    ## 필요한 컬럼만 가져오기\n",
    "    ent_data_need = ent_data_solar[[\"pow_date\", \"pow_time\", \"pow_dcv\", \"pow_dca\"]]\n",
    "\n",
    "    ## time 구분\n",
    "    dummy_time_list = []\n",
    "    for i in ent_data_need[\"pow_time\"]:\n",
    "        x =i.split(\":\")\n",
    "        dummy_time_list.append(x[0])\n",
    "    ent_data_need[\"dummy_time\"] = dummy_time_list\n",
    "\n",
    "    ent_data_need[\"watt\"] = ent_data_need[\"pow_dcv\"] * ent_data_need[\"pow_dca\"]\n",
    "\n",
    "    ## RESET 발전량 :: 직류 전압 X 직류 전류 : 발전량 ,, GROUPBY해서 직류X전류 의 평균량으로 구한다\n",
    "    ent_data_perhour = ent_data_need.groupby([\"pow_date\", \"dummy_time\"]).mean()\n",
    "    ent_data_perhour = ent_data_perhour.reset_index()\n",
    "\n",
    "\n",
    "    drop_data = ent_data_perhour.isin({\"dummy_time\" : [\"0\", \"1\", \"2\", \"3\", \"4\", \"5\", \"6\", \"7\",\"8\",\"18\", \"19\", \"20\", \"21\", \"22\", \"23\"]})\n",
    "    ent_data_perhour_sort = ent_data_perhour[~drop_data].dropna()\n",
    "\n",
    "    return ent_data_perhour_sort"
   ]
  },
  {
   "cell_type": "code",
   "execution_count": 125,
   "metadata": {},
   "outputs": [
    {
     "output_type": "execute_result",
     "data": {
      "text/plain": [
       "                pow_dcv     pow_dca         watt\n",
       "pow_date                                        \n",
       "2020-10-23  4498.151282  127.750769  3292.047859\n",
       "2020-10-24  4478.993590  125.929359  3233.336974\n",
       "2020-10-25  4385.019231  102.048718  2526.178269\n",
       "2020-10-26  4379.711538  105.090385  2605.827067\n",
       "2020-10-27  4383.737179   95.133974  2363.735769\n",
       "2020-10-28  4313.927350  116.071154  2865.826111\n",
       "2020-10-29  3896.525641   86.689103  2158.214231\n",
       "2020-10-30  4362.160256  109.091667  2723.250128\n",
       "2020-10-31  4394.474359   78.852198  1961.101703\n",
       "2020-11-01  4184.124786   14.428675   353.169628\n",
       "2020-11-02  4539.685897  102.207372  2656.934824\n",
       "2020-11-03  4460.196970  100.262354  2521.406777\n",
       "2020-11-04  4658.262821  101.924615  2719.769500\n",
       "2020-11-05  4290.211538   93.705000  2296.495705\n",
       "2020-11-06  4389.102564   42.208333  1054.632404\n",
       "2020-11-07  4472.116300   77.586905  1972.655545\n",
       "2020-11-08  4610.807692   94.549359  2527.000256"
      ],
      "text/html": "<div>\n<style scoped>\n    .dataframe tbody tr th:only-of-type {\n        vertical-align: middle;\n    }\n\n    .dataframe tbody tr th {\n        vertical-align: top;\n    }\n\n    .dataframe thead th {\n        text-align: right;\n    }\n</style>\n<table border=\"1\" class=\"dataframe\">\n  <thead>\n    <tr style=\"text-align: right;\">\n      <th></th>\n      <th>pow_dcv</th>\n      <th>pow_dca</th>\n      <th>watt</th>\n    </tr>\n    <tr>\n      <th>pow_date</th>\n      <th></th>\n      <th></th>\n      <th></th>\n    </tr>\n  </thead>\n  <tbody>\n    <tr>\n      <th>2020-10-23</th>\n      <td>4498.151282</td>\n      <td>127.750769</td>\n      <td>3292.047859</td>\n    </tr>\n    <tr>\n      <th>2020-10-24</th>\n      <td>4478.993590</td>\n      <td>125.929359</td>\n      <td>3233.336974</td>\n    </tr>\n    <tr>\n      <th>2020-10-25</th>\n      <td>4385.019231</td>\n      <td>102.048718</td>\n      <td>2526.178269</td>\n    </tr>\n    <tr>\n      <th>2020-10-26</th>\n      <td>4379.711538</td>\n      <td>105.090385</td>\n      <td>2605.827067</td>\n    </tr>\n    <tr>\n      <th>2020-10-27</th>\n      <td>4383.737179</td>\n      <td>95.133974</td>\n      <td>2363.735769</td>\n    </tr>\n    <tr>\n      <th>2020-10-28</th>\n      <td>4313.927350</td>\n      <td>116.071154</td>\n      <td>2865.826111</td>\n    </tr>\n    <tr>\n      <th>2020-10-29</th>\n      <td>3896.525641</td>\n      <td>86.689103</td>\n      <td>2158.214231</td>\n    </tr>\n    <tr>\n      <th>2020-10-30</th>\n      <td>4362.160256</td>\n      <td>109.091667</td>\n      <td>2723.250128</td>\n    </tr>\n    <tr>\n      <th>2020-10-31</th>\n      <td>4394.474359</td>\n      <td>78.852198</td>\n      <td>1961.101703</td>\n    </tr>\n    <tr>\n      <th>2020-11-01</th>\n      <td>4184.124786</td>\n      <td>14.428675</td>\n      <td>353.169628</td>\n    </tr>\n    <tr>\n      <th>2020-11-02</th>\n      <td>4539.685897</td>\n      <td>102.207372</td>\n      <td>2656.934824</td>\n    </tr>\n    <tr>\n      <th>2020-11-03</th>\n      <td>4460.196970</td>\n      <td>100.262354</td>\n      <td>2521.406777</td>\n    </tr>\n    <tr>\n      <th>2020-11-04</th>\n      <td>4658.262821</td>\n      <td>101.924615</td>\n      <td>2719.769500</td>\n    </tr>\n    <tr>\n      <th>2020-11-05</th>\n      <td>4290.211538</td>\n      <td>93.705000</td>\n      <td>2296.495705</td>\n    </tr>\n    <tr>\n      <th>2020-11-06</th>\n      <td>4389.102564</td>\n      <td>42.208333</td>\n      <td>1054.632404</td>\n    </tr>\n    <tr>\n      <th>2020-11-07</th>\n      <td>4472.116300</td>\n      <td>77.586905</td>\n      <td>1972.655545</td>\n    </tr>\n    <tr>\n      <th>2020-11-08</th>\n      <td>4610.807692</td>\n      <td>94.549359</td>\n      <td>2527.000256</td>\n    </tr>\n  </tbody>\n</table>\n</div>"
     },
     "metadata": {},
     "execution_count": 125
    }
   ],
   "source": [
    "banpo_power_need = groupby_solar_reset(banpo_power)\n",
    "banpo_power_need_day = banpo_power_need.groupby(\"pow_date\").sum()[:-1]\n",
    "banpo_power_need_day[\"watt\"] = banpo_power_need_day[\"watt\"] / 20\n",
    "banpo_power_need_day\n",
    "# banpo_power_need_day[\"watt\"] = "
   ]
  },
  {
   "cell_type": "code",
   "execution_count": 80,
   "metadata": {},
   "outputs": [],
   "source": [
    "def split_datetime(df):\n",
    "    a = df[df[\"dummy_time\"] == \"09\"]\n",
    "    b = df[df[\"dummy_time\"] == \"10\"]\n",
    "    c = df[df[\"dummy_time\"] == \"11\"]\n",
    "    d = df[df[\"dummy_time\"] == \"12\"]\n",
    "    e = df[df[\"dummy_time\"] == \"13\"]\n",
    "    f = df[df[\"dummy_time\"] == \"14\"]\n",
    "    g = df[df[\"dummy_time\"] == \"15\"]\n",
    "    h = df[df[\"dummy_time\"] == \"16\"]\n",
    "    i = df[df[\"dummy_time\"] == \"17\"]\n",
    "\n",
    "    return a, b, c, d, e, f, g, h, i \n",
    "\n"
   ]
  },
  {
   "cell_type": "code",
   "execution_count": 24,
   "metadata": {},
   "outputs": [
    {
     "output_type": "execute_result",
     "data": {
      "text/plain": [
       "      pow_date dummy_time     pow_dcv   pow_dca         watt\n",
       "11  2020-10-23          9  527.333333  7.037500  3707.008333\n",
       "22  2020-10-24          9  525.666667  6.729167  3533.504167\n",
       "33  2020-10-25          9  513.875000  6.620833  3400.191667\n",
       "45  2020-10-26          9  515.346154  5.665385  2905.923077\n",
       "56  2020-10-27          9  512.923077  5.046154  2577.200000\n",
       "67  2020-10-28          9  512.208333  6.158333  3155.220833\n",
       "77  2020-10-29          9  512.583333  6.100000  3134.837500\n",
       "88  2020-10-30          9  517.666667  5.641667  2935.720833\n",
       "99  2020-10-31          9  507.208333  3.195833  1620.237500"
      ],
      "text/html": "<div>\n<style scoped>\n    .dataframe tbody tr th:only-of-type {\n        vertical-align: middle;\n    }\n\n    .dataframe tbody tr th {\n        vertical-align: top;\n    }\n\n    .dataframe thead th {\n        text-align: right;\n    }\n</style>\n<table border=\"1\" class=\"dataframe\">\n  <thead>\n    <tr style=\"text-align: right;\">\n      <th></th>\n      <th>pow_date</th>\n      <th>dummy_time</th>\n      <th>pow_dcv</th>\n      <th>pow_dca</th>\n      <th>watt</th>\n    </tr>\n  </thead>\n  <tbody>\n    <tr>\n      <th>11</th>\n      <td>2020-10-23</td>\n      <td>9</td>\n      <td>527.333333</td>\n      <td>7.037500</td>\n      <td>3707.008333</td>\n    </tr>\n    <tr>\n      <th>22</th>\n      <td>2020-10-24</td>\n      <td>9</td>\n      <td>525.666667</td>\n      <td>6.729167</td>\n      <td>3533.504167</td>\n    </tr>\n    <tr>\n      <th>33</th>\n      <td>2020-10-25</td>\n      <td>9</td>\n      <td>513.875000</td>\n      <td>6.620833</td>\n      <td>3400.191667</td>\n    </tr>\n    <tr>\n      <th>45</th>\n      <td>2020-10-26</td>\n      <td>9</td>\n      <td>515.346154</td>\n      <td>5.665385</td>\n      <td>2905.923077</td>\n    </tr>\n    <tr>\n      <th>56</th>\n      <td>2020-10-27</td>\n      <td>9</td>\n      <td>512.923077</td>\n      <td>5.046154</td>\n      <td>2577.200000</td>\n    </tr>\n    <tr>\n      <th>67</th>\n      <td>2020-10-28</td>\n      <td>9</td>\n      <td>512.208333</td>\n      <td>6.158333</td>\n      <td>3155.220833</td>\n    </tr>\n    <tr>\n      <th>77</th>\n      <td>2020-10-29</td>\n      <td>9</td>\n      <td>512.583333</td>\n      <td>6.100000</td>\n      <td>3134.837500</td>\n    </tr>\n    <tr>\n      <th>88</th>\n      <td>2020-10-30</td>\n      <td>9</td>\n      <td>517.666667</td>\n      <td>5.641667</td>\n      <td>2935.720833</td>\n    </tr>\n    <tr>\n      <th>99</th>\n      <td>2020-10-31</td>\n      <td>9</td>\n      <td>507.208333</td>\n      <td>3.195833</td>\n      <td>1620.237500</td>\n    </tr>\n  </tbody>\n</table>\n</div>"
     },
     "metadata": {},
     "execution_count": 24
    }
   ],
   "source": []
  },
  {
   "cell_type": "code",
   "execution_count": 74,
   "metadata": {},
   "outputs": [
    {
     "output_type": "execute_result",
     "data": {
      "text/plain": [
       "      지점 지점명                일시  일사(MJ/m2)  match_solar dummy_time\n",
       "206  108  서울  2020-10-23 09:00       1.01   280.555556         09\n",
       "207  108  서울  2020-10-23 10:00       1.68   466.666667         10\n",
       "208  108  서울  2020-10-23 11:00       2.20   611.111111         11\n",
       "209  108  서울  2020-10-23 12:00       2.48   688.888889         12\n",
       "210  108  서울  2020-10-23 13:00       2.57   713.888889         13\n",
       "..   ...  ..               ...        ...          ...        ...\n",
       "397  108  서울  2020-11-08 13:00       2.36   655.555556         13\n",
       "398  108  서울  2020-11-08 14:00       2.20   611.111111         14\n",
       "399  108  서울  2020-11-08 15:00       1.80   500.000000         15\n",
       "400  108  서울  2020-11-08 16:00       1.23   341.666667         16\n",
       "401  108  서울  2020-11-08 17:00       0.54   150.000000         17\n",
       "\n",
       "[153 rows x 6 columns]"
      ],
      "text/html": "<div>\n<style scoped>\n    .dataframe tbody tr th:only-of-type {\n        vertical-align: middle;\n    }\n\n    .dataframe tbody tr th {\n        vertical-align: top;\n    }\n\n    .dataframe thead th {\n        text-align: right;\n    }\n</style>\n<table border=\"1\" class=\"dataframe\">\n  <thead>\n    <tr style=\"text-align: right;\">\n      <th></th>\n      <th>지점</th>\n      <th>지점명</th>\n      <th>일시</th>\n      <th>일사(MJ/m2)</th>\n      <th>match_solar</th>\n      <th>dummy_time</th>\n    </tr>\n  </thead>\n  <tbody>\n    <tr>\n      <th>206</th>\n      <td>108</td>\n      <td>서울</td>\n      <td>2020-10-23 09:00</td>\n      <td>1.01</td>\n      <td>280.555556</td>\n      <td>09</td>\n    </tr>\n    <tr>\n      <th>207</th>\n      <td>108</td>\n      <td>서울</td>\n      <td>2020-10-23 10:00</td>\n      <td>1.68</td>\n      <td>466.666667</td>\n      <td>10</td>\n    </tr>\n    <tr>\n      <th>208</th>\n      <td>108</td>\n      <td>서울</td>\n      <td>2020-10-23 11:00</td>\n      <td>2.20</td>\n      <td>611.111111</td>\n      <td>11</td>\n    </tr>\n    <tr>\n      <th>209</th>\n      <td>108</td>\n      <td>서울</td>\n      <td>2020-10-23 12:00</td>\n      <td>2.48</td>\n      <td>688.888889</td>\n      <td>12</td>\n    </tr>\n    <tr>\n      <th>210</th>\n      <td>108</td>\n      <td>서울</td>\n      <td>2020-10-23 13:00</td>\n      <td>2.57</td>\n      <td>713.888889</td>\n      <td>13</td>\n    </tr>\n    <tr>\n      <th>...</th>\n      <td>...</td>\n      <td>...</td>\n      <td>...</td>\n      <td>...</td>\n      <td>...</td>\n      <td>...</td>\n    </tr>\n    <tr>\n      <th>397</th>\n      <td>108</td>\n      <td>서울</td>\n      <td>2020-11-08 13:00</td>\n      <td>2.36</td>\n      <td>655.555556</td>\n      <td>13</td>\n    </tr>\n    <tr>\n      <th>398</th>\n      <td>108</td>\n      <td>서울</td>\n      <td>2020-11-08 14:00</td>\n      <td>2.20</td>\n      <td>611.111111</td>\n      <td>14</td>\n    </tr>\n    <tr>\n      <th>399</th>\n      <td>108</td>\n      <td>서울</td>\n      <td>2020-11-08 15:00</td>\n      <td>1.80</td>\n      <td>500.000000</td>\n      <td>15</td>\n    </tr>\n    <tr>\n      <th>400</th>\n      <td>108</td>\n      <td>서울</td>\n      <td>2020-11-08 16:00</td>\n      <td>1.23</td>\n      <td>341.666667</td>\n      <td>16</td>\n    </tr>\n    <tr>\n      <th>401</th>\n      <td>108</td>\n      <td>서울</td>\n      <td>2020-11-08 17:00</td>\n      <td>0.54</td>\n      <td>150.000000</td>\n      <td>17</td>\n    </tr>\n  </tbody>\n</table>\n<p>153 rows × 6 columns</p>\n</div>"
     },
     "metadata": {},
     "execution_count": 74
    }
   ],
   "source": [
    "new_weather_data = pd.read_csv(\"./ENITT_SOLAR_DATA/ENITT_SOLAR_DATA/validation_data/test_weather.csv\", encoding=\"ms949\")\n",
    "new_weather_data_seoul = new_weather_data[new_weather_data[\"지점명\"] == \"서울\"] \n",
    "new_weather_data_gang = new_weather_data[new_weather_data[\"지점명\"] == \"강릉\"]\n",
    "new_weather_data_seoul[\"match_solar\"] = new_weather_data_seoul[\"일사(MJ/m2)\"] * 1000000 / 3600\n",
    "new_weather_data_gang[\"match_solar\"] = new_weather_data_seoul[\"일사(MJ/m2)\"] * 1000000 / 3600\n",
    "\n",
    "new_weather_data_seoul\n",
    "\n",
    "dummy_date = []\n",
    "for i in new_weather_data_seoul[\"일시\"]:\n",
    "    dummy_date.append(i[11:13])\n",
    "\n",
    "gang_dummy = []\n",
    "for i in new_weather_data_gang[\"일시\"]:\n",
    "    # print(type(i))\n",
    "    gang_dummy.append(i[10:13])\n",
    "new_weather_data_seoul[\"dummy_time\"] = dummy_date\n",
    "new_weather_data_gang[\"dummy_time\"] = gang_dummy\n",
    "new_weather_data_seoul.reset_index()\n",
    "new_weather_data_gang.reset_index()\n",
    "\n",
    "drop_data = new_weather_data_seoul.isin({\"dummy_time\" : [\"00\", \"01\", \"02\", \"03\", \"04\", \"05\", \"06\", \"07\",\"08\",\"18\", \"19\", \"20\", \"21\", \"22\", \"23\"]})\n",
    "drop_data_gang = new_weather_data_gang.isin({\"dummy_time\" : [\"00\", \"01\", \"02\", \"03\", \"04\", \"05\", \"06\", \"07\",\"08\",\"18\", \"19\", \"20\", \"21\", \"22\", \"23\"]})\n",
    "\n",
    "\n",
    "new_select_seoul = new_weather_data_seoul[~drop_data].dropna()\n",
    "new_select_gang = new_weather_data_gang[~drop_data_gang].dropna()\n",
    "\n",
    "new_select_seoul\n"
   ]
  },
  {
   "cell_type": "code",
   "execution_count": 82,
   "metadata": {},
   "outputs": [],
   "source": [
    "a, b, c, d, e, f, g, h, i  = split_datetime(new_select_seoul)\n",
    "a[\"reset_match\"] = a[\"match_solar\"] *1.4700\n",
    "b[\"reset_match\"] = b[\"match_solar\"] *1.2674\n",
    "c[\"reset_match\"] = c[\"match_solar\"] *1.1316\n",
    "d[\"reset_match\"] = d[\"match_solar\"] *1.0937\n",
    "e[\"reset_match\"] = e[\"match_solar\"] *1.0188\n",
    "f[\"reset_match\"] = f[\"match_solar\"] *0.9105\n",
    "g[\"reset_match\"] = g[\"match_solar\"] *0.8180\n",
    "h[\"reset_match\"] = h[\"match_solar\"] *0.5019\n",
    "i[\"reset_match\"] = i[\"match_solar\"] *0.1751\n"
   ]
  },
  {
   "cell_type": "code",
   "execution_count": 111,
   "metadata": {},
   "outputs": [
    {
     "output_type": "execute_result",
     "data": {
      "text/plain": [
       "             지점  일사(MJ/m2)  match_solar  reset_match\n",
       "date                                                \n",
       "2020-10-23  972      16.57  4602.777778  4490.702778\n",
       "2020-10-24  972      16.25  4513.888889  4400.063611\n",
       "2020-10-25  972      13.48  3744.444444  3782.352222\n",
       "2020-10-26  972      13.43  3730.555556  3638.942222\n",
       "2020-10-27  972      12.01  3336.111111  3338.226667\n",
       "2020-10-28  972      15.00  4166.666667  4061.744444\n",
       "2020-10-29  972      13.45  3736.111111  3787.304167\n",
       "2020-10-30  972      14.35  3986.111111  3907.699722\n",
       "2020-10-31  972      10.81  3002.777778  3013.494167\n",
       "2020-11-01  972       1.59   441.666667   422.661389\n",
       "2020-11-02  972      14.36  3988.888889  3942.536111\n",
       "2020-11-03  972      14.97  4158.333333  4104.189167\n",
       "2020-11-04  972      15.12  4200.000000  4122.876389\n",
       "2020-11-05  972      12.58  3494.444444  3467.815556\n",
       "2020-11-06  972       5.56  1544.444444  1499.701667\n",
       "2020-11-07  972      10.90  3027.777778  2892.107778\n",
       "2020-11-08  972      14.48  4022.222222  3921.860278"
      ],
      "text/html": "<div>\n<style scoped>\n    .dataframe tbody tr th:only-of-type {\n        vertical-align: middle;\n    }\n\n    .dataframe tbody tr th {\n        vertical-align: top;\n    }\n\n    .dataframe thead th {\n        text-align: right;\n    }\n</style>\n<table border=\"1\" class=\"dataframe\">\n  <thead>\n    <tr style=\"text-align: right;\">\n      <th></th>\n      <th>지점</th>\n      <th>일사(MJ/m2)</th>\n      <th>match_solar</th>\n      <th>reset_match</th>\n    </tr>\n    <tr>\n      <th>date</th>\n      <th></th>\n      <th></th>\n      <th></th>\n      <th></th>\n    </tr>\n  </thead>\n  <tbody>\n    <tr>\n      <th>2020-10-23</th>\n      <td>972</td>\n      <td>16.57</td>\n      <td>4602.777778</td>\n      <td>4490.702778</td>\n    </tr>\n    <tr>\n      <th>2020-10-24</th>\n      <td>972</td>\n      <td>16.25</td>\n      <td>4513.888889</td>\n      <td>4400.063611</td>\n    </tr>\n    <tr>\n      <th>2020-10-25</th>\n      <td>972</td>\n      <td>13.48</td>\n      <td>3744.444444</td>\n      <td>3782.352222</td>\n    </tr>\n    <tr>\n      <th>2020-10-26</th>\n      <td>972</td>\n      <td>13.43</td>\n      <td>3730.555556</td>\n      <td>3638.942222</td>\n    </tr>\n    <tr>\n      <th>2020-10-27</th>\n      <td>972</td>\n      <td>12.01</td>\n      <td>3336.111111</td>\n      <td>3338.226667</td>\n    </tr>\n    <tr>\n      <th>2020-10-28</th>\n      <td>972</td>\n      <td>15.00</td>\n      <td>4166.666667</td>\n      <td>4061.744444</td>\n    </tr>\n    <tr>\n      <th>2020-10-29</th>\n      <td>972</td>\n      <td>13.45</td>\n      <td>3736.111111</td>\n      <td>3787.304167</td>\n    </tr>\n    <tr>\n      <th>2020-10-30</th>\n      <td>972</td>\n      <td>14.35</td>\n      <td>3986.111111</td>\n      <td>3907.699722</td>\n    </tr>\n    <tr>\n      <th>2020-10-31</th>\n      <td>972</td>\n      <td>10.81</td>\n      <td>3002.777778</td>\n      <td>3013.494167</td>\n    </tr>\n    <tr>\n      <th>2020-11-01</th>\n      <td>972</td>\n      <td>1.59</td>\n      <td>441.666667</td>\n      <td>422.661389</td>\n    </tr>\n    <tr>\n      <th>2020-11-02</th>\n      <td>972</td>\n      <td>14.36</td>\n      <td>3988.888889</td>\n      <td>3942.536111</td>\n    </tr>\n    <tr>\n      <th>2020-11-03</th>\n      <td>972</td>\n      <td>14.97</td>\n      <td>4158.333333</td>\n      <td>4104.189167</td>\n    </tr>\n    <tr>\n      <th>2020-11-04</th>\n      <td>972</td>\n      <td>15.12</td>\n      <td>4200.000000</td>\n      <td>4122.876389</td>\n    </tr>\n    <tr>\n      <th>2020-11-05</th>\n      <td>972</td>\n      <td>12.58</td>\n      <td>3494.444444</td>\n      <td>3467.815556</td>\n    </tr>\n    <tr>\n      <th>2020-11-06</th>\n      <td>972</td>\n      <td>5.56</td>\n      <td>1544.444444</td>\n      <td>1499.701667</td>\n    </tr>\n    <tr>\n      <th>2020-11-07</th>\n      <td>972</td>\n      <td>10.90</td>\n      <td>3027.777778</td>\n      <td>2892.107778</td>\n    </tr>\n    <tr>\n      <th>2020-11-08</th>\n      <td>972</td>\n      <td>14.48</td>\n      <td>4022.222222</td>\n      <td>3921.860278</td>\n    </tr>\n  </tbody>\n</table>\n</div>"
     },
     "metadata": {},
     "execution_count": 111
    }
   ],
   "source": [
    "# test_banpo_reset_match = pd.concat([a, b, c, d, e, f, g, h, i])\n",
    "test_banpo_reset_match\n",
    "\n",
    "date_list = []\n",
    "for i in test_banpo_reset_match[\"일시\"]:\n",
    "    date_list.append(i[:10])\n",
    "\n",
    "test_banpo_reset_match[\"date\"] = date_list\n",
    "test_banpo_reset_match_perday = test_banpo_reset_match.groupby(\"date\").sum()\n",
    "test_banpo_reset_match_perday"
   ]
  },
  {
   "cell_type": "code",
   "execution_count": 135,
   "metadata": {},
   "outputs": [],
   "source": [
    "test_weather = pd.read_csv(\"./ENITT_SOLAR_DATA/ENITT_SOLAR_DATA/validation_data/weather_test_data.csv\", encoding=\"ms949\")\n",
    "test_weather_seoul = test_weather[test_weather[\"지점명\"] == \"서울\"]\n",
    "test_weather_gang = test_weather[test_weather[\"일시\"] == \"강릉\"]\n",
    "\n",
    "# test_weather_seoul\n",
    "\n",
    "\n",
    "test_weather_seoul_need = test_weather_seoul.drop([\"지점\", \"지점명\"], axis=1)\n",
    "test_weather_seoul_need.index = test_weather_seoul_need[\"일시\"]\n",
    "# test_weather_seoul_need\n",
    "# all_test_weather_banpo\n",
    "all_test_weather_banpo = test_weather_seoul_need.join(test_banpo_reset_match_perday)\n",
    "all_test_weather_banpo = all_test_weather_banpo[:-1]\n",
    "# all_test_weather_banpo.to_csv(\"new_banpo_test.csv\", encoding=\"ms949\")\n",
    "all_test_weather_solar_banpo = all_test_weather_banpo.join(banpo_power_need_day)\n",
    "all_test_weather_solar_banpo_need = all_test_weather_solar_banpo[[\"최저기온(°C)\", \"최고기온(°C)\", \"일강수량(mm)\", \"평균 풍속(m/s)\", \"평균 상대습도(%)\", \"가조시간(hr)\",\"평균 전운량(1/10)\", \"reset_match\", \"watt\"]]\n",
    "all_test_weather_solar_banpo_need.columns = [\"최저기온\", \"최고기온\", \"일강수량\", \"평균풍속\", \"평균상대습도\", \"가조시간\", \"평균전운량\", \"reset_match\", \"watt\"]\n",
    "\n",
    "all_test_weather_solar_banpo_need.fillna(0, inplace=True)\n",
    "\n",
    "all_test_weather_solar_banpo_need.to_csv(\"test_data_banpo.csv\", encoding=\"utf-8\")"
   ]
  }
 ]
}