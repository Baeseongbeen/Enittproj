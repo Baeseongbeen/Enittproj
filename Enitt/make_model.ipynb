{
 "metadata": {
  "language_info": {
   "codemirror_mode": {
    "name": "ipython",
    "version": 3
   },
   "file_extension": ".py",
   "mimetype": "text/x-python",
   "name": "python",
   "nbconvert_exporter": "python",
   "pygments_lexer": "ipython3",
   "version": "3.7.6-final"
  },
  "orig_nbformat": 2,
  "kernelspec": {
   "name": "python3",
   "display_name": "Python 3"
  }
 },
 "nbformat": 4,
 "nbformat_minor": 2,
 "cells": [
  {
   "cell_type": "code",
   "execution_count": null,
   "metadata": {},
   "outputs": [],
   "source": [
    "print(\"일사량 => \", SOLAR)"
   ]
  },
  {
   "source": [
    "### 모델링\n",
    "\n",
    "##### LinearRegression, SVM(SVC, SVR), Gradientboosting, Decisiontree, Randomforest"
   ],
   "cell_type": "markdown",
   "metadata": {}
  },
  {
   "source": [
    "### 모듈 불러오기\n",
    "\n",
    "#### 규칙 \n",
    "    훈련, 정확도\n",
    "    1) 기업데이터의 일사량으로 만 훈련, 스코어\n",
    "    2) 기업데이터의 일사량, 기상청의 환경데이터 포함 훈련, 스코어\n",
    "    -> 더 높은 스코어를 가진 규칙 채택\n",
    "\n",
    "    예측,\n",
    "    1-1) 훈련모델 예측 -> 기상청의 일사량으로 예측\n",
    "    1-2) 훈련모델 예측 -> 기상청의 일사량을 보정 후 예측\n",
    "\n",
    "    2-1) 훈련모델 예측 -> 기상청의 일사량, 기상청의 환경데이터로 예측\n",
    "    2-2) 훈련모델 예측 -> 기상청의 일사량을 보정 후, 기상청의 환경데이터로 예측\n",
    "\n",
    "\n",
    "        ### 결과 :: \n",
    "            1) 이 높다 -> 환경데이터를 사용하는 것이 무의미 \n",
    "            2) 가 높다 -> 환경데이터를 사용하는 것 의미 있다.\n",
    "\n",
    "            최상의 결과 : 2-2가 가장 정확한 것\n"
   ],
   "cell_type": "markdown",
   "metadata": {}
  },
  {
   "cell_type": "code",
   "execution_count": 17,
   "metadata": {},
   "outputs": [
    {
     "output_type": "execute_result",
     "data": {
      "text/plain": [
       "'c:\\\\Users\\\\seong\\\\Desktop\\\\Enittproj\\\\Enitt'"
      ]
     },
     "metadata": {},
     "execution_count": 17
    }
   ],
   "source": [
    "import numpy as np \n",
    "import pandas as pd \n",
    "from sklearn.model_selection import train_test_split\n",
    "import os \n",
    "import seaborn as sns\n",
    "\n",
    "os.getcwd()"
   ]
  },
  {
   "source": [
    "### load_dataset"
   ],
   "cell_type": "markdown",
   "metadata": {}
  },
  {
   "cell_type": "code",
   "execution_count": 3,
   "metadata": {},
   "outputs": [],
   "source": [
    "# df = pd.read_csv(\"./마지막데이터/total_enitt_data2.csv\", encoding=\"utf-8\")\n",
    "# # df = pd.read_csv(\"./마지막데이터/banpo1_power_weather_df.csv\", encoding=\"utf-8\")\n",
    "# df = df[~(df[\"합계 일사량(MJ/m2)\"].isna() == True)]\n",
    "\n",
    "\n",
    "# df_need_1 = df[[\"env_slopesolar\", \"watt\", \"reset_match\", \"match_solar\"]]\n",
    "# df_need_2 = df[[\"env_slopesolar\", \"최저기온(°C)\", \"최고기온(°C)\", \"일강수량(mm)\", \"평균 풍속(m/s)\",\"평균 상대습도(%)\", \"가조시간(hr)\",\"평균 전운량(1/10)\",  \"watt\", \"reset_match\",\"match_solar\"]]\n",
    "# df_need_2.columns = [\"env_slopesolar\", \"최저기온\", \"최고기온\", \"일강수량\", \"평균풍속\", \"평균상대습도\", \"가조시간\", \"평균전운량\", \"watt\", \"reset_match\", \"match_solar\"]\n",
    "\n",
    "# df_need_1\n",
    "# df_need_2 = df_need_2.fillna(0)\n",
    "\n"
   ]
  },
  {
   "source": [
    "### train_test_split"
   ],
   "cell_type": "markdown",
   "metadata": {}
  },
  {
   "cell_type": "code",
   "execution_count": 4,
   "metadata": {},
   "outputs": [],
   "source": [
    "from sklearn.model_selection import train_test_split\n",
    "\n",
    "def split_set(df):\n",
    "    x_train, x_test, y_train, y_test = train_test_split(df.iloc[:, :-1], df.iloc[:, -1:], test_size=0.2, shuffle=True , random_state = 42)\n",
    "\n",
    "    return x_train, x_test, y_train, y_test\n",
    " "
   ]
  },
  {
   "source": [
    "    1) LinearRegression"
   ],
   "cell_type": "markdown",
   "metadata": {}
  },
  {
   "cell_type": "code",
   "execution_count": 37,
   "metadata": {},
   "outputs": [
    {
     "output_type": "stream",
     "name": "stdout",
     "text": [
      "                            OLS Regression Results                            \n==============================================================================\nDep. Variable:                   watt   R-squared:                       0.075\nModel:                            OLS   Adj. R-squared:                  0.075\nMethod:                 Least Squares   F-statistic:                     282.2\nDate:                Sat, 07 Nov 2020   Prob (F-statistic):           6.05e-61\nTime:                        15:50:29   Log-Likelihood:                -25098.\nNo. Observations:                3477   AIC:                         5.020e+04\nDf Residuals:                    3475   BIC:                         5.021e+04\nDf Model:                           1                                         \nCovariance Type:            nonrobust                                         \n==================================================================================\n                     coef    std err          t      P>|t|      [0.025      0.975]\n----------------------------------------------------------------------------------\nIntercept         64.6341     10.535      6.135      0.000      43.978      85.290\nenv_slopesolar     0.0508      0.003     16.798      0.000       0.045       0.057\n==============================================================================\nOmnibus:                     2607.719   Durbin-Watson:                   0.325\nProb(Omnibus):                  0.000   Jarque-Bera (JB):            43733.342\nSkew:                           3.517   Prob(JB):                         0.00\nKurtosis:                      18.887   Cond. No.                     6.56e+03\n==============================================================================\n\nWarnings:\n[1] Standard Errors assume that the covariance matrix of the errors is correctly specified.\n[2] The condition number is large, 6.56e+03. This might indicate that there are\nstrong multicollinearity or other numerical problems.\n                            OLS Regression Results                            \n==============================================================================\nDep. Variable:                   watt   R-squared:                       0.234\nModel:                            OLS   Adj. R-squared:                  0.233\nMethod:                 Least Squares   F-statistic:                     132.7\nDate:                Sat, 07 Nov 2020   Prob (F-statistic):          9.01e-195\nTime:                        15:50:29   Log-Likelihood:                -24770.\nNo. Observations:                3477   AIC:                         4.956e+04\nDf Residuals:                    3468   BIC:                         4.961e+04\nDf Model:                           8                                         \nCovariance Type:            nonrobust                                         \n==================================================================================\n                     coef    std err          t      P>|t|      [0.025      0.975]\n----------------------------------------------------------------------------------\nIntercept       -427.5681     70.383     -6.075      0.000    -565.565    -289.572\nenv_slopesolar     0.0285      0.004      7.175      0.000       0.021       0.036\n최저기온             -40.1977      2.387    -16.843      0.000     -44.877     -35.518\n최고기온              36.7158      2.299     15.967      0.000      32.207      41.224\n일강수량              -0.4177      0.360     -1.161      0.246      -1.123       0.288\n평균풍속             -65.7521      6.871     -9.569      0.000     -79.224     -52.280\n평균상대습도             6.8858      0.495     13.911      0.000       5.915       7.856\n가조시간              -0.6379      5.117     -0.125      0.901     -10.670       9.395\n평균전운량             -9.2021      2.598     -3.541      0.000     -14.297      -4.107\n==============================================================================\nOmnibus:                     2252.040   Durbin-Watson:                   0.529\nProb(Omnibus):                  0.000   Jarque-Bera (JB):            31072.281\nSkew:                           2.912   Prob(JB):                         0.00\nKurtosis:                      16.437   Cond. No.                     4.82e+04\n==============================================================================\n\nWarnings:\n[1] Standard Errors assume that the covariance matrix of the errors is correctly specified.\n[2] The condition number is large, 4.82e+04. This might indicate that there are\nstrong multicollinearity or other numerical problems.\n"
     ]
    }
   ],
   "source": [
    "\n",
    "\n",
    "# import statsmodels.formula.api as smf\n",
    "\n",
    "# print(\"----------ols----------\")\n",
    "\n",
    "# lr_model = smf.ols(formula = \"watt~env_slopesolar\", data=df_need_1)\n",
    "# lr_model = lr_model.fit()\n",
    "# print(lr_model.summary())\n",
    "\n",
    "# lr_model2 = smf.ols(formula = \"watt~env_slopesolar + 최저기온 + 최고기온 + 일강수량 + 평균풍속 + 평균상대습도 + 가조시간 + 평균전운량\", data=df_need_2)\n",
    "# lr_model2 = lr_model2.fit()\n",
    "# print(lr_model2.summary())\n",
    "\n",
    "\n"
   ]
  },
  {
   "cell_type": "code",
   "execution_count": 36,
   "metadata": {},
   "outputs": [
    {
     "output_type": "stream",
     "name": "stdout",
     "text": [
      "훈련정확도 :  0.07483573553409206\n예측정확도 :  -0.3276137661307086\n훈련정확도2 :  0.24699281252229677\n예측정확도2 :  -0.44488657691522215\n"
     ]
    }
   ],
   "source": [
    "\n",
    "from sklearn.linear_model import LinearRegression\n",
    "print(\"----------LinearRegression----------\")\n",
    "\n",
    "\n",
    "rd_df_x = df_need_2[[SOLAR]]\n",
    "rd_df_y = df_need_2[[\"watt\"]]\n",
    "\n",
    "rd_df_x_train, rd_df_x_test, rd_df_y_train, rd_df_y_test = train_test_split(rd_df_x, rd_df_y, test_size=0.2, shuffle=True, random_state = 42)\n",
    "\n",
    "model = LinearRegression()\n",
    "model.fit(rd_df_x_train, rd_df_y_train)\n",
    "train_score1 = model.score(rd_df_x_train, rd_df_y_train)\n",
    "test_score1 = model.score(rd_df_x_test, rd_df_y_test)\n",
    "pred1 = model.predict(rd_df_x_test)\n",
    "# acc_score1 = accuracy_score(rd_df_y_test, pred1)\n",
    "\n",
    "print(\"훈련정확도 : \", train_score1)\n",
    "print(\"예측정확도 : \", test_score1)\n",
    "# print(\"acc_score : \", acc_score1)\n",
    "\n",
    "\n",
    "rd_df_x = df_need_2[[SOLAR, \"최저기온\", \"최고기온\", \"일강수량\", \"평균풍속\", \"평균상대습도\", \"가조시간\", \"평균전운량\"]]\n",
    "rd_df_y = df_need_2[[\"watt\"]]\n",
    "\n",
    "rd_df_x_train, rd_df_x_test, rd_df_y_train, rd_df_y_test = train_test_split(rd_df_x, rd_df_y, test_size=0.2, shuffle=True, random_state = 42)\n",
    "\n",
    "model = LinearRegression()\n",
    "model.fit(rd_df_x_train, rd_df_y_train)\n",
    "train_score2 = model.score(rd_df_x_train, rd_df_y_train)\n",
    "test_score2 = model.score(rd_df_x_test, rd_df_y_test)\n",
    "pred2 = model.predict(rd_df_x_test)\n",
    "# acc_score2 = accuracy_score(rd_df_y_test, pred2)\n",
    "\n",
    "print(\"훈련정확도2 : \", train_score2)\n",
    "print(\"예측정확도2 : \", test_score2)\n",
    "# print(\"acc_score2 : \", acc_score1)\n",
    "\n",
    "\n",
    "\n"
   ]
  },
  {
   "source": [
    "    2) SVM - SVC, SVR"
   ],
   "cell_type": "markdown",
   "metadata": {}
  },
  {
   "cell_type": "code",
   "execution_count": 38,
   "metadata": {},
   "outputs": [
    {
     "output_type": "stream",
     "name": "stdout",
     "text": [
      "훈련정확도 :  -0.03227869049846244\n",
      "예측정확도 :  -0.026298997744096386\n",
      "훈련정확도2 :  -0.03296967056172617\n",
      "예측정확도2 :  -0.00811784929420778\n"
     ]
    }
   ],
   "source": [
    "from sklearn.svm import SVR\n",
    "from sklearn.svm import SVC\n",
    "\n",
    "print(\"----------SVR----------\")\n",
    "\n",
    "rd_df_x = df_need_2[[SOLAR]]\n",
    "rd_df_y = df_need_2[[\"watt\"]]\n",
    "\n",
    "rd_df_x_train, rd_df_x_test, rd_df_y_train, rd_df_y_test = train_test_split(rd_df_x, rd_df_y, test_size=0.2, shuffle=True, random_state = 42)\n",
    "\n",
    "model = SVR()\n",
    "model.fit(rd_df_x_train, rd_df_y_train)\n",
    "train_score1 = model.score(rd_df_x_train, rd_df_y_train)\n",
    "test_score1 = model.score(rd_df_x_test, rd_df_y_test)\n",
    "pred1 = model.predict(rd_df_x_test)\n",
    "# acc_score1 = accuracy_score(rd_df_y_test, pred1)\n",
    "\n",
    "print(\"훈련정확도 : \", train_score1)\n",
    "print(\"예측정확도 : \", test_score1)\n",
    "# print(\"acc_score : \", acc_score1)\n",
    "\n",
    "\n",
    "rd_df_x = df_need_2[[SOLAR, \"최저기온\", \"최고기온\", \"일강수량\", \"평균풍속\", \"평균상대습도\", \"가조시간\", \"평균전운량\"]]\n",
    "rd_df_y = df_need_2[[\"watt\"]]\n",
    "\n",
    "rd_df_x_train, rd_df_x_test, rd_df_y_train, rd_df_y_test = train_test_split(rd_df_x, rd_df_y, test_size=0.2, shuffle=True, random_state = 42)\n",
    "\n",
    "model = SVR()\n",
    "model.fit(rd_df_x_train, rd_df_y_train)\n",
    "train_score2 = model.score(rd_df_x_train, rd_df_y_train)\n",
    "test_score2 = model.score(rd_df_x_test, rd_df_y_test)\n",
    "pred2 = model.predict(rd_df_x_test)\n",
    "# acc_score2 = accuracy_score(rd_df_y_test, pred2)\n",
    "\n",
    "print(\"훈련정확도2 : \", train_score2)\n",
    "print(\"예측정확도2 : \", test_score2)\n",
    "# print(\"acc_score2 : \", acc_score1)\n",
    "\n",
    "\n"
   ]
  },
  {
   "source": [
    "    3) GradientBoosting"
   ],
   "cell_type": "markdown",
   "metadata": {}
  },
  {
   "cell_type": "code",
   "execution_count": 39,
   "metadata": {},
   "outputs": [
    {
     "output_type": "stream",
     "name": "stdout",
     "text": [
      "훈련정확도 :  0.3855494162240163\n",
      "예측정확도 :  -0.912349008787928\n",
      "훈련정확도2 :  0.7423093129755702\n",
      "예측정확도2 :  -0.9096091684977601\n"
     ]
    }
   ],
   "source": [
    "from sklearn.ensemble import GradientBoostingRegressor\n",
    "from sklearn.ensemble import GradientBoostingClassifier\n",
    "\n",
    "print(\"----------GradientBoosting----------\")\n",
    "\n",
    "rd_df_x = df_need_2[[SOLAR]]\n",
    "rd_df_y = df_need_2[[\"watt\"]]\n",
    "\n",
    "rd_df_x_train, rd_df_x_test, rd_df_y_train, rd_df_y_test = train_test_split(rd_df_x, rd_df_y, test_size=0.2, shuffle=True, random_state = 42)\n",
    "\n",
    "model = GradientBoostingRegressor()\n",
    "model.fit(rd_df_x_train, rd_df_y_train)\n",
    "train_score1 = model.score(rd_df_x_train, rd_df_y_train)\n",
    "test_score1 = model.score(rd_df_x_test, rd_df_y_test)\n",
    "pred1 = model.predict(rd_df_x_test)\n",
    "# acc_score1 = accuracy_score(rd_df_y_test, pred1)\n",
    "\n",
    "print(\"훈련정확도 : \", train_score1)\n",
    "print(\"예측정확도 : \", test_score1)\n",
    "# print(\"acc_score : \", acc_score1)0\n",
    "\n",
    "\n",
    "rd_df_x = df_need_2[[SOLAR, \"최저기온\", \"최고기온\", \"일강수량\", \"평균풍속\", \"평균상대습도\", \"가조시간\", \"평균전운량\"]]\n",
    "rd_df_y = df_need_2[[\"watt\"]]\n",
    "\n",
    "rd_df_x_train, rd_df_x_test, rd_df_y_train, rd_df_y_test = train_test_split(rd_df_x, rd_df_y, test_size=0.2, shuffle=True, random_state = 42)\n",
    "\n",
    "model = GradientBoostingRegressor()\n",
    "model.fit(rd_df_x_train, rd_df_y_train)\n",
    "train_score2 = model.score(rd_df_x_train, rd_df_y_train)\n",
    "test_score2 = model.score(rd_df_x_test, rd_df_y_test)\n",
    "pred2 = model.predict(rd_df_x_test)\n",
    "# acc_score2 = accuracy_score(rd_df_y_test, pred2)\n",
    "\n",
    "print(\"훈련정확도2 : \", train_score2)\n",
    "print(\"예측정확도2 : \", test_score2)\n",
    "# print(\"acc_score2 : \", acc_score1)\n",
    "\n",
    "\n"
   ]
  },
  {
   "source": [
    "    4) Decisiontree"
   ],
   "cell_type": "markdown",
   "metadata": {}
  },
  {
   "cell_type": "code",
   "execution_count": 43,
   "metadata": {},
   "outputs": [
    {
     "output_type": "stream",
     "name": "stdout",
     "text": [
      "----------DecisionTree----------\n훈련정확도 :  0.9961816110857967\n예측정확도 :  -5.181940232612832\n훈련정확도2 :  1.0\n예측정확도2 :  -2.6735653623834983\n"
     ]
    }
   ],
   "source": [
    "from sklearn.tree import DecisionTreeClassifier\n",
    "from sklearn.tree import DecisionTreeRegressor\n",
    "\n",
    "print(\"----------DecisionTree----------\")\n",
    "\n",
    "rd_df_x = df_need_2[[SOLAR]]\n",
    "rd_df_y = df_need_2[[\"watt\"]]\n",
    "\n",
    "rd_df_x_train, rd_df_x_test, rd_df_y_train, rd_df_y_test = train_test_split(rd_df_x, rd_df_y, test_size=0.2, shuffle=True, random_state = 42)\n",
    "\n",
    "model = DecisionTreeRegressor()\n",
    "model.fit(rd_df_x_train, rd_df_y_train)\n",
    "train_score1 = model.score(rd_df_x_train, rd_df_y_train)\n",
    "test_score1 = model.score(rd_df_x_test, rd_df_y_test)\n",
    "pred1 = model.predict(rd_df_x_test)\n",
    "# acc_score1 = accuracy_score(rd_df_y_test, pred1)\n",
    "\n",
    "print(\"훈련정확도 : \", train_score1)\n",
    "print(\"예측정확도 : \", test_score1)\n",
    "# print(\"acc_score : \", acc_score1)\n",
    "\n",
    "\n",
    "rd_df_x = df_need_2[[SOLAR, \"최저기온\", \"최고기온\", \"일강수량\", \"평균풍속\", \"평균상대습도\", \"가조시간\", \"평균전운량\"]]\n",
    "rd_df_y = df_need_2[[\"watt\"]]\n",
    "\n",
    "rd_df_x_train, rd_df_x_test, rd_df_y_train, rd_df_y_test = train_test_split(rd_df_x, rd_df_y, test_size=0.2, shuffle=True, random_state = 42)\n",
    "\n",
    "model = DecisionTreeRegressor()\n",
    "model.fit(rd_df_x_train, rd_df_y_train)\n",
    "train_score2 = model.score(rd_df_x_train, rd_df_y_train)\n",
    "test_score2 = model.score(rd_df_x_test, rd_df_y_test)\n",
    "pred2 = model.predict(rd_df_x_test)\n",
    "# acc_score2 = accuracy_score(rd_df_y_test, pred2)\n",
    "\n",
    "print(\"훈련정확도2 : \", train_score2)\n",
    "print(\"예측정확도2 : \", test_score2)\n",
    "# print(\"acc_score2 : \", acc_score1)\n",
    "\n",
    "\n"
   ]
  },
  {
   "source": [
    "    5) Randomforest"
   ],
   "cell_type": "markdown",
   "metadata": {}
  },
  {
   "cell_type": "code",
   "execution_count": 44,
   "metadata": {},
   "outputs": [
    {
     "output_type": "stream",
     "name": "stdout",
     "text": [
      "----------RandomForest----------\n",
      "훈련정확도 :  0.818820407433686\n",
      "예측정확도 :  -2.798001673939334\n",
      "훈련정확도2 :  0.9033166046299543\n",
      "예측정확도2 :  -1.093163194911075\n",
      "중요도 일사량, 기온, 기온, 강수량, 풍속, 습도, 가조시간, 전운량 [0.319825   0.0909016  0.07939655 0.01384985 0.17326921 0.11511188\n",
      " 0.09551457 0.11213133]\n"
     ]
    }
   ],
   "source": [
    "from sklearn.ensemble import RandomForestClassifier\n",
    "from sklearn.ensemble import RandomForestRegressor\n",
    "from sklearn.metrics import accuracy_score\n",
    "\n",
    "print(\"----------RandomForest----------\")\n",
    "\n",
    "rd_df_x = df_need_2[[SOLAR]]\n",
    "rd_df_y = df_need_2[[\"watt\"]]\n",
    "\n",
    "rd_df_x_train, rd_df_x_test, rd_df_y_train, rd_df_y_test = train_test_split(rd_df_x, rd_df_y, test_size=0.2, shuffle=True, random_state = 42)\n",
    "\n",
    "model = RandomForestRegressor()\n",
    "model.fit(rd_df_x_train, rd_df_y_train)\n",
    "train_score1 = model.score(rd_df_x_train, rd_df_y_train)\n",
    "test_score1 = model.score(rd_df_x_test, rd_df_y_test)\n",
    "pred1 = model.predict(rd_df_x_test)\n",
    "# acc_score1 = accuracy_score(rd_df_y_test, pred1)\n",
    "\n",
    "print(\"훈련정확도 : \", train_score1)\n",
    "print(\"예측정확도 : \", test_score1)\n",
    "# print(\"acc_score : \", acc_score1)\n",
    "\n",
    "\n",
    "rd_df_x = df_need_2[[SOLAR, \"최저기온\", \"최고기온\", \"일강수량\", \"평균풍속\", \"평균상대습도\", \"가조시간\", \"평균전운량\"]]\n",
    "rd_df_y = df_need_2[[\"watt\"]]\n",
    "\n",
    "rd_df_x_train, rd_df_x_test, rd_df_y_train, rd_df_y_test = train_test_split(rd_df_x, rd_df_y, test_size=0.2, shuffle=True, random_state = 42)\n",
    "\n",
    "model = RandomForestRegressor()\n",
    "model.fit(rd_df_x_train, rd_df_y_train)\n",
    "train_score2 = model.score(rd_df_x_train, rd_df_y_train)\n",
    "test_score2 = model.score(rd_df_x_test, rd_df_y_test)\n",
    "pred2 = model.predict(rd_df_x_test)\n",
    "# acc_score2 = accuracy_score(rd_df_y_test, pred2)\n",
    "\n",
    "print(\"훈련정확도2 : \", train_score2)\n",
    "print(\"예측정확도2 : \", test_score2)\n",
    "# print(\"acc_score2 : \", acc_score1)\n",
    "print(\"중요도 일사량, 기온, 기온, 강수량, 풍속, 습도, 가조시간, 전운량\", model.feature_importances_)\n"
   ]
  },
  {
   "cell_type": "code",
   "execution_count": null,
   "metadata": {},
   "outputs": [],
   "source": []
  }
 ]
}