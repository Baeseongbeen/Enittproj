{
 "metadata": {
  "language_info": {
   "codemirror_mode": {
    "name": "ipython",
    "version": 3
   },
   "file_extension": ".py",
   "mimetype": "text/x-python",
   "name": "python",
   "nbconvert_exporter": "python",
   "pygments_lexer": "ipython3",
   "version": "3.7.6-final"
  },
  "orig_nbformat": 2,
  "kernelspec": {
   "name": "python3",
   "display_name": "Python 3"
  }
 },
 "nbformat": 4,
 "nbformat_minor": 2,
 "cells": [
  {
   "cell_type": "code",
   "execution_count": null,
   "metadata": {},
   "outputs": [],
   "source": [
    "print(\"일사량 => \", SOLAR)"
   ]
  },
  {
   "source": [
    "### 모델링\n",
    "\n",
    "##### LinearRegression, SVM(SVC, SVR), Gradientboosting, Decisiontree, Randomforest"
   ],
   "cell_type": "markdown",
   "metadata": {}
  },
  {
   "source": [
    "### 모듈 불러오기\n",
    "\n",
    "#### 규칙 \n",
    "    훈련, 정확도\n",
    "    1) 기업데이터의 일사량으로 만 훈련, 스코어\n",
    "    2) 기업데이터의 일사량, 기상청의 환경데이터 포함 훈련, 스코어\n",
    "    -> 더 높은 스코어를 가진 규칙 채택\n",
    "\n",
    "    예측,\n",
    "    1-1) 훈련모델 예측 -> 기상청의 일사량으로 예측\n",
    "    1-2) 훈련모델 예측 -> 기상청의 일사량을 보정 후 예측\n",
    "\n",
    "    2-1) 훈련모델 예측 -> 기상청의 일사량, 기상청의 환경데이터로 예측\n",
    "    2-2) 훈련모델 예측 -> 기상청의 일사량을 보정 후, 기상청의 환경데이터로 예측\n",
    "\n",
    "\n",
    "        ### 결과 :: \n",
    "            1) 이 높다 -> 환경데이터를 사용하는 것이 무의미 \n",
    "            2) 가 높다 -> 환경데이터를 사용하는 것 의미 있다.\n",
    "\n",
    "            최상의 결과 : 2-2가 가장 정확한 것\n"
   ],
   "cell_type": "markdown",
   "metadata": {}
  },
  {
   "cell_type": "code",
   "execution_count": 1,
   "metadata": {},
   "outputs": [
    {
     "output_type": "execute_result",
     "data": {
      "text/plain": [
       "'c:\\\\Users\\\\seong\\\\Desktop\\\\Enittproj\\\\Enitt'"
      ]
     },
     "metadata": {},
     "execution_count": 1
    }
   ],
   "source": [
    "import numpy as np \n",
    "import pandas as pd \n",
    "from sklearn.model_selection import train_test_split\n",
    "import os \n",
    "import seaborn as sns\n",
    "import matplotlib.pyplot as plt\n",
    "import plotly\n",
    "import plotly.graph_objs as go # 그래프 객체 생성\n",
    "from plotly.subplots import make_subplots\n",
    "\n",
    "os.getcwd()"
   ]
  },
  {
   "cell_type": "code",
   "execution_count": 7,
   "metadata": {},
   "outputs": [],
   "source": [
    "def mean_absolute_percentage_error(a, b):\n",
    "    \n",
    "    a_set, b_set = np.array(a), np.array(b)\n",
    "    \n",
    "    a_list= []\n",
    "    b_list = []\n",
    "    for i, j in zip(a_set, b_set):\n",
    "        for z in i:\n",
    "            a_list.append(z)\n",
    "        b_list.append(j)\n",
    "    # print(a_list)\n",
    "    df1 = pd.Series(a_list)\n",
    "    df2 = pd.Series(b_list)\n",
    "\n",
    "    fig = make_subplots(specs=[[{\"secondary_y\": True}]])\n",
    "\n",
    "    fig.add_trace(go.Scatter(x=df1.index, y=df1,  mode='lines', name=\"true\", line=dict(color='blue')), secondary_y = False)\n",
    "    fig.add_trace(go.Scatter(x=df2.index, y=df2, mode='lines', name=\"pred\", line=dict(color='red')), secondary_y = False)\n",
    "    fig.update_layout(width=1000, height=500,)\n",
    "    fig.show()\n",
    "\n",
    "    return np.mean(np.abs((a_set - b_set) / a_set)) * 100"
   ]
  },
  {
   "source": [
    "### load_dataset"
   ],
   "cell_type": "markdown",
   "metadata": {}
  },
  {
   "cell_type": "code",
   "execution_count": 8,
   "metadata": {},
   "outputs": [],
   "source": [
    "# df = pd.read_csv(\"./마지막데이터/total_enitt_data2.csv\", encoding=\"utf-8\")\n",
    "# # df = pd.read_csv(\"./마지막데이터/banpo1_power_weather_df.csv\", encoding=\"utf-8\")\n",
    "# df = df[~(df[\"합계 일사량(MJ/m2)\"].isna() == True)]\n",
    "\n",
    "\n",
    "# df_need_1 = df[[\"env_slopesolar\", \"watt\", \"reset_match\", \"match_solar\"]]\n",
    "# df_need_2 = df[[\"env_slopesolar\", \"최저기온(°C)\", \"최고기온(°C)\", \"일강수량(mm)\", \"평균 풍속(m/s)\",\"평균 상대습도(%)\", \"가조시간(hr)\",\"평균 전운량(1/10)\",  \"watt\", \"reset_match\",\"match_solar\"]]\n",
    "# df_need_2.columns = [\"env_slopesolar\", \"최저기온\", \"최고기온\", \"일강수량\", \"평균풍속\", \"평균상대습도\", \"가조시간\", \"평균전운량\", \"watt\", \"reset_match\", \"match_solar\"]\n",
    "\n",
    "# df_need_1\n",
    "# df_need_2 = df_need_2.fillna(0)\n",
    "\n"
   ]
  },
  {
   "source": [
    "### train_test_split"
   ],
   "cell_type": "markdown",
   "metadata": {}
  },
  {
   "cell_type": "code",
   "execution_count": 9,
   "metadata": {},
   "outputs": [],
   "source": [
    "from sklearn.model_selection import train_test_split\n",
    "\n",
    "def split_set(df):\n",
    "    x_train, x_test, y_train, y_test = train_test_split(df.iloc[:, :-1], df.iloc[:, -1:], test_size=0.2, shuffle=True , random_state = 42)\n",
    "\n",
    "    return x_train, x_test, y_train, y_test\n",
    " "
   ]
  },
  {
   "source": [
    "    1) LinearRegression"
   ],
   "cell_type": "markdown",
   "metadata": {}
  },
  {
   "cell_type": "code",
   "execution_count": 10,
   "metadata": {},
   "outputs": [],
   "source": [
    "\n",
    "\n",
    "# import statsmodels.formula.api as smf\n",
    "\n",
    "# print(\"----------ols----------\")\n",
    "\n",
    "# lr_model = smf.ols(formula = \"watt~env_slopesolar\", data=df_need_1)\n",
    "# lr_model = lr_model.fit()\n",
    "# print(lr_model.summary())\n",
    "\n",
    "# lr_model2 = smf.ols(formula = \"watt~env_slopesolar + 최저기온 + 최고기온 + 일강수량 + 평균풍속 + 평균상대습도 + 가조시간 + 평균전운량\", data=df_need_2)\n",
    "# lr_model2 = lr_model2.fit()\n",
    "# print(lr_model2.summary())\n",
    "\n",
    "\n"
   ]
  },
  {
   "cell_type": "code",
   "execution_count": 11,
   "metadata": {},
   "outputs": [
    {
     "output_type": "stream",
     "name": "stdout",
     "text": [
      "----------LinearRegression----------\n"
     ]
    },
    {
     "output_type": "error",
     "ename": "NameError",
     "evalue": "name 'df_need_2' is not defined",
     "traceback": [
      "\u001b[1;31m---------------------------------------------------------------------------\u001b[0m",
      "\u001b[1;31mNameError\u001b[0m                                 Traceback (most recent call last)",
      "\u001b[1;32m<ipython-input-11-c8de4d232f1c>\u001b[0m in \u001b[0;36m<module>\u001b[1;34m\u001b[0m\n\u001b[0;32m      3\u001b[0m \u001b[1;33m\u001b[0m\u001b[0m\n\u001b[0;32m      4\u001b[0m \u001b[1;33m\u001b[0m\u001b[0m\n\u001b[1;32m----> 5\u001b[1;33m \u001b[0mrd_df_x\u001b[0m \u001b[1;33m=\u001b[0m \u001b[0mdf_need_2\u001b[0m\u001b[1;33m[\u001b[0m\u001b[1;33m[\u001b[0m\u001b[0mSOLAR\u001b[0m\u001b[1;33m]\u001b[0m\u001b[1;33m]\u001b[0m\u001b[1;33m\u001b[0m\u001b[1;33m\u001b[0m\u001b[0m\n\u001b[0m\u001b[0;32m      6\u001b[0m \u001b[0mrd_df_y\u001b[0m \u001b[1;33m=\u001b[0m \u001b[0mdf_need_2\u001b[0m\u001b[1;33m[\u001b[0m\u001b[1;33m[\u001b[0m\u001b[1;34m\"watt\"\u001b[0m\u001b[1;33m]\u001b[0m\u001b[1;33m]\u001b[0m\u001b[1;33m\u001b[0m\u001b[1;33m\u001b[0m\u001b[0m\n\u001b[0;32m      7\u001b[0m \u001b[1;33m\u001b[0m\u001b[0m\n",
      "\u001b[1;31mNameError\u001b[0m: name 'df_need_2' is not defined"
     ]
    }
   ],
   "source": [
    "\n",
    "from sklearn.linear_model import LinearRegression\n",
    "print(\"----------LinearRegression----------\")\n",
    "\n",
    "\n",
    "rd_df_x = df_need_2[[SOLAR]]\n",
    "rd_df_y = df_need_2[[\"watt\"]]\n",
    "\n",
    "rd_df_x_train, rd_df_x_test, rd_df_y_train, rd_df_y_test = train_test_split(rd_df_x, rd_df_y, test_size=0.2, shuffle=True, random_state = 42)\n",
    "\n",
    "model = LinearRegression()\n",
    "model.fit(rd_df_x_train, rd_df_y_train)\n",
    "train_score1 = model.score(rd_df_x_train, rd_df_y_train)\n",
    "test_score1 = model.score(rd_df_x_test, rd_df_y_test)\n",
    "pred1 = model.predict(rd_df_x_test)\n",
    "# acc_score1 = accuracy_score(rd_df_y_test, pred1)\n",
    "\n",
    "print(\"훈련정확도 : \", train_score1)\n",
    "print(\"예측정확도 : \", test_score1)\n",
    "# print(\"acc_score : \", acc_score1)\n",
    "\n",
    "\n",
    "rd_df_x = df_need_2[[SOLAR, \"최저기온\", \"최고기온\", \"일강수량\", \"평균풍속\", \"평균상대습도\", \"가조시간\", \"평균전운량\"]]\n",
    "rd_df_y = df_need_2[[\"watt\"]]\n",
    "\n",
    "rd_df_x_train, rd_df_x_test, rd_df_y_train, rd_df_y_test = train_test_split(rd_df_x, rd_df_y, test_size=0.2, shuffle=True, random_state = 42)\n",
    "\n",
    "model = LinearRegression()\n",
    "model.fit(rd_df_x_train, rd_df_y_train)\n",
    "train_score2 = model.score(rd_df_x_train, rd_df_y_train)\n",
    "test_score2 = model.score(rd_df_x_test, rd_df_y_test)\n",
    "pred2 = model.predict(rd_df_x_test)\n",
    "# acc_score2 = accuracy_score(rd_df_y_test, pred2)\n",
    "\n",
    "print(\"훈련정확도2 : \", train_score2)\n",
    "print(\"예측정확도2 : \", test_score2)\n",
    "# print(\"acc_score2 : \", acc_score1)\n",
    "\n",
    "\n",
    "\n"
   ]
  },
  {
   "source": [
    "    2) SVM - SVC, SVR"
   ],
   "cell_type": "markdown",
   "metadata": {}
  },
  {
   "cell_type": "code",
   "execution_count": 38,
   "metadata": {},
   "outputs": [
    {
     "output_type": "stream",
     "name": "stdout",
     "text": [
      "훈련정확도 :  -0.03227869049846244\n",
      "예측정확도 :  -0.026298997744096386\n",
      "훈련정확도2 :  -0.03296967056172617\n",
      "예측정확도2 :  -0.00811784929420778\n"
     ]
    }
   ],
   "source": [
    "from sklearn.svm import SVR\n",
    "from sklearn.svm import SVC\n",
    "\n",
    "print(\"----------SVR----------\")\n",
    "\n",
    "rd_df_x = df_need_2[[SOLAR]]\n",
    "rd_df_y = df_need_2[[\"watt\"]]\n",
    "\n",
    "rd_df_x_train, rd_df_x_test, rd_df_y_train, rd_df_y_test = train_test_split(rd_df_x, rd_df_y, test_size=0.2, shuffle=True, random_state = 42)\n",
    "\n",
    "model = SVR()\n",
    "model.fit(rd_df_x_train, rd_df_y_train)\n",
    "train_score1 = model.score(rd_df_x_train, rd_df_y_train)\n",
    "test_score1 = model.score(rd_df_x_test, rd_df_y_test)\n",
    "pred1 = model.predict(rd_df_x_test)\n",
    "# acc_score1 = accuracy_score(rd_df_y_test, pred1)\n",
    "\n",
    "print(\"훈련정확도 : \", train_score1)\n",
    "print(\"예측정확도 : \", test_score1)\n",
    "# print(\"acc_score : \", acc_score1)\n",
    "\n",
    "\n",
    "rd_df_x = df_need_2[[SOLAR, \"최저기온\", \"최고기온\", \"일강수량\", \"평균풍속\", \"평균상대습도\", \"가조시간\", \"평균전운량\"]]\n",
    "rd_df_y = df_need_2[[\"watt\"]]\n",
    "\n",
    "rd_df_x_train, rd_df_x_test, rd_df_y_train, rd_df_y_test = train_test_split(rd_df_x, rd_df_y, test_size=0.2, shuffle=True, random_state = 42)\n",
    "\n",
    "model = SVR()\n",
    "model.fit(rd_df_x_train, rd_df_y_train)\n",
    "train_score2 = model.score(rd_df_x_train, rd_df_y_train)\n",
    "test_score2 = model.score(rd_df_x_test, rd_df_y_test)\n",
    "pred2 = model.predict(rd_df_x_test)\n",
    "# acc_score2 = accuracy_score(rd_df_y_test, pred2)\n",
    "\n",
    "print(\"훈련정확도2 : \", train_score2)\n",
    "print(\"예측정확도2 : \", test_score2)\n",
    "# print(\"acc_score2 : \", acc_score1)\n",
    "\n",
    "\n"
   ]
  },
  {
   "source": [
    "    3) GradientBoosting"
   ],
   "cell_type": "markdown",
   "metadata": {}
  },
  {
   "cell_type": "code",
   "execution_count": 39,
   "metadata": {},
   "outputs": [
    {
     "output_type": "stream",
     "name": "stdout",
     "text": [
      "훈련정확도 :  0.3855494162240163\n",
      "예측정확도 :  -0.912349008787928\n",
      "훈련정확도2 :  0.7423093129755702\n",
      "예측정확도2 :  -0.9096091684977601\n"
     ]
    }
   ],
   "source": [
    "from sklearn.ensemble import GradientBoostingRegressor\n",
    "from sklearn.ensemble import GradientBoostingClassifier\n",
    "\n",
    "print(\"----------GradientBoosting----------\")\n",
    "\n",
    "rd_df_x = df_need_2[[SOLAR]]\n",
    "rd_df_y = df_need_2[[\"watt\"]]\n",
    "\n",
    "rd_df_x_train, rd_df_x_test, rd_df_y_train, rd_df_y_test = train_test_split(rd_df_x, rd_df_y, test_size=0.2, shuffle=True, random_state = 42)\n",
    "\n",
    "model = GradientBoostingRegressor()\n",
    "model.fit(rd_df_x_train, rd_df_y_train)\n",
    "train_score1 = model.score(rd_df_x_train, rd_df_y_train)\n",
    "test_score1 = model.score(rd_df_x_test, rd_df_y_test)\n",
    "pred1 = model.predict(rd_df_x_test)\n",
    "# acc_score1 = accuracy_score(rd_df_y_test, pred1)\n",
    "\n",
    "print(\"훈련정확도 : \", train_score1)\n",
    "print(\"예측정확도 : \", test_score1)\n",
    "# print(\"acc_score : \", acc_score1)0\n",
    "\n",
    "\n",
    "rd_df_x = df_need_2[[SOLAR, \"최저기온\", \"최고기온\", \"일강수량\", \"평균풍속\", \"평균상대습도\", \"가조시간\", \"평균전운량\"]]\n",
    "rd_df_y = df_need_2[[\"watt\"]]\n",
    "\n",
    "rd_df_x_train, rd_df_x_test, rd_df_y_train, rd_df_y_test = train_test_split(rd_df_x, rd_df_y, test_size=0.2, shuffle=True, random_state = 42)\n",
    "\n",
    "model = GradientBoostingRegressor()\n",
    "model.fit(rd_df_x_train, rd_df_y_train)\n",
    "train_score2 = model.score(rd_df_x_train, rd_df_y_train)\n",
    "test_score2 = model.score(rd_df_x_test, rd_df_y_test)\n",
    "pred2 = model.predict(rd_df_x_test)\n",
    "# acc_score2 = accuracy_score(rd_df_y_test, pred2)\n",
    "\n",
    "print(\"훈련정확도2 : \", train_score2)\n",
    "print(\"예측정확도2 : \", test_score2)\n",
    "# print(\"acc_score2 : \", acc_score1)\n",
    "\n",
    "\n"
   ]
  },
  {
   "source": [
    "    4) Decisiontree"
   ],
   "cell_type": "markdown",
   "metadata": {}
  },
  {
   "cell_type": "code",
   "execution_count": 43,
   "metadata": {},
   "outputs": [
    {
     "output_type": "stream",
     "name": "stdout",
     "text": [
      "----------DecisionTree----------\n훈련정확도 :  0.9961816110857967\n예측정확도 :  -5.181940232612832\n훈련정확도2 :  1.0\n예측정확도2 :  -2.6735653623834983\n"
     ]
    }
   ],
   "source": [
    "from sklearn.tree import DecisionTreeClassifier\n",
    "from sklearn.tree import DecisionTreeRegressor\n",
    "\n",
    "print(\"----------DecisionTree----------\")\n",
    "\n",
    "rd_df_x = df_need_2[[SOLAR]]\n",
    "rd_df_y = df_need_2[[\"watt\"]]\n",
    "\n",
    "rd_df_x_train, rd_df_x_test, rd_df_y_train, rd_df_y_test = train_test_split(rd_df_x, rd_df_y, test_size=0.2, shuffle=True, random_state = 42)\n",
    "\n",
    "model = DecisionTreeRegressor()\n",
    "model.fit(rd_df_x_train, rd_df_y_train)\n",
    "train_score1 = model.score(rd_df_x_train, rd_df_y_train)\n",
    "test_score1 = model.score(rd_df_x_test, rd_df_y_test)\n",
    "pred1 = model.predict(rd_df_x_test)\n",
    "# acc_score1 = accuracy_score(rd_df_y_test, pred1)\n",
    "\n",
    "print(\"훈련정확도 : \", train_score1)\n",
    "print(\"예측정확도 : \", test_score1)\n",
    "# print(\"acc_score : \", acc_score1)\n",
    "\n",
    "\n",
    "rd_df_x = df_need_2[[SOLAR, \"최저기온\", \"최고기온\", \"일강수량\", \"평균풍속\", \"평균상대습도\", \"가조시간\", \"평균전운량\"]]\n",
    "rd_df_y = df_need_2[[\"watt\"]]\n",
    "\n",
    "rd_df_x_train, rd_df_x_test, rd_df_y_train, rd_df_y_test = train_test_split(rd_df_x, rd_df_y, test_size=0.2, shuffle=True, random_state = 42)\n",
    "\n",
    "model = DecisionTreeRegressor()\n",
    "model.fit(rd_df_x_train, rd_df_y_train)\n",
    "train_score2 = model.score(rd_df_x_train, rd_df_y_train)\n",
    "test_score2 = model.score(rd_df_x_test, rd_df_y_test)\n",
    "pred2 = model.predict(rd_df_x_test)\n",
    "# acc_score2 = accuracy_score(rd_df_y_test, pred2)\n",
    "\n",
    "print(\"훈련정확도2 : \", train_score2)\n",
    "print(\"예측정확도2 : \", test_score2)\n",
    "# print(\"acc_score2 : \", acc_score1)\n",
    "\n",
    "\n"
   ]
  },
  {
   "source": [
    "    5) Randomforest"
   ],
   "cell_type": "markdown",
   "metadata": {}
  },
  {
   "cell_type": "code",
   "execution_count": 44,
   "metadata": {},
   "outputs": [
    {
     "output_type": "stream",
     "name": "stdout",
     "text": [
      "----------RandomForest----------\n",
      "훈련정확도 :  0.818820407433686\n",
      "예측정확도 :  -2.798001673939334\n",
      "훈련정확도2 :  0.9033166046299543\n",
      "예측정확도2 :  -1.093163194911075\n",
      "중요도 일사량, 기온, 기온, 강수량, 풍속, 습도, 가조시간, 전운량 [0.319825   0.0909016  0.07939655 0.01384985 0.17326921 0.11511188\n",
      " 0.09551457 0.11213133]\n"
     ]
    }
   ],
   "source": [
    "from sklearn.ensemble import RandomForestClassifier\n",
    "from sklearn.ensemble import RandomForestRegressor\n",
    "from sklearn.metrics import accuracy_score\n",
    "\n",
    "print(\"----------RandomForest----------\")\n",
    "\n",
    "rd_df_x = df_need_2[[SOLAR]]\n",
    "rd_df_y = df_need_2[[\"watt\"]]\n",
    "\n",
    "rd_df_x_train, rd_df_x_test, rd_df_y_train, rd_df_y_test = train_test_split(rd_df_x, rd_df_y, test_size=0.2, shuffle=True, random_state = 42)\n",
    "\n",
    "model = RandomForestRegressor()\n",
    "model.fit(rd_df_x_train, rd_df_y_train)\n",
    "train_score1 = model.score(rd_df_x_train, rd_df_y_train)\n",
    "test_score1 = model.score(rd_df_x_test, rd_df_y_test)\n",
    "pred1 = model.predict(rd_df_x_test)\n",
    "# acc_score1 = accuracy_score(rd_df_y_test, pred1)\n",
    "\n",
    "print(\"훈련정확도 : \", train_score1)\n",
    "print(\"예측정확도 : \", test_score1)\n",
    "# print(\"acc_score : \", acc_score1)\n",
    "\n",
    "\n",
    "rd_df_x = df_need_2[[SOLAR, \"최저기온\", \"최고기온\", \"일강수량\", \"평균풍속\", \"평균상대습도\", \"가조시간\", \"평균전운량\"]]\n",
    "rd_df_y = df_need_2[[\"watt\"]]\n",
    "\n",
    "rd_df_x_train, rd_df_x_test, rd_df_y_train, rd_df_y_test = train_test_split(rd_df_x, rd_df_y, test_size=0.2, shuffle=True, random_state = 42)\n",
    "\n",
    "model = RandomForestRegressor()\n",
    "model.fit(rd_df_x_train, rd_df_y_train)\n",
    "train_score2 = model.score(rd_df_x_train, rd_df_y_train)\n",
    "test_score2 = model.score(rd_df_x_test, rd_df_y_test)\n",
    "pred2 = model.predict(rd_df_x_test)\n",
    "# acc_score2 = accuracy_score(rd_df_y_test, pred2)\n",
    "\n",
    "print(\"훈련정확도2 : \", train_score2)\n",
    "print(\"예측정확도2 : \", test_score2)\n",
    "# print(\"acc_score2 : \", acc_score1)\n",
    "print(\"MAPE : \", mean_absolute_percentage_error(rd_df_y_test, pred2))\n",
    "print(\"중요도 일사량, 기온, 기온, 강수량, 풍속, 습도, 가조시간, 전운량\", model.feature_importances_)\n"
   ]
  },
  {
   "cell_type": "code",
   "execution_count": null,
   "metadata": {},
   "outputs": [],
   "source": []
  }
 ]
}