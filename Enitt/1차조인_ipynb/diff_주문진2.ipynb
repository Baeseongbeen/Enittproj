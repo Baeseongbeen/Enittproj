{
 "metadata": {
  "language_info": {
   "codemirror_mode": {
    "name": "ipython",
    "version": 3
   },
   "file_extension": ".py",
   "mimetype": "text/x-python",
   "name": "python",
   "nbconvert_exporter": "python",
   "pygments_lexer": "ipython3",
   "version": "3.7.6-final"
  },
  "orig_nbformat": 2,
  "kernelspec": {
   "name": "python3",
   "display_name": "Python 3"
  }
 },
 "nbformat": 4,
 "nbformat_minor": 2,
 "cells": [
  {
   "cell_type": "code",
   "execution_count": 2,
   "metadata": {},
   "outputs": [
    {
     "output_type": "execute_result",
     "data": {
      "text/plain": [
       "array([1, 2], dtype=int64)"
      ]
     },
     "metadata": {},
     "execution_count": 2
    }
   ],
   "source": [
    "import pandas as pd \n",
    "import numpy as np \n",
    "import matplotlib.pyplot as plt\n",
    "import plotly\n",
    "import plotly.graph_objs as go # 그래프 객체 생성\n",
    "from plotly.subplots import make_subplots\n",
    "import datetime\n",
    "import seaborn as sns \n",
    "import scipy.stats\n",
    "import plotly.express as px\n",
    "import os \n",
    "from scipy import stats\n",
    "from sklearn import metrics\n",
    "import statsmodels.formula.api as smf\n",
    "import scipy.stats as st\n",
    "import pylab\n",
    "import csv\n",
    "\n",
    "os.getcwd()\n",
    "\n",
    "data1 = pd.read_csv(\"./ENITT_SOLAR_DATA/ENITT_SOLAR_DATA/B115. 주문진해안주차타워 발전량.csv\", encoding=\"ms949\")\n",
    "data2 = pd.read_csv(\"./ENITT_SOLAR_DATA/ENITT_SOLAR_DATA/B115. 주문진해안주차타워 환경센서.csv\", encoding=\"ms949\")\n",
    "\n",
    "\n",
    "\n",
    "ent_data_solar = data1.reset_index().drop('index', axis=1)\n",
    "ent_data_solar\n",
    "\n",
    "ent_data_weather = data2.reset_index().drop('index', axis=1)\n",
    "\n",
    "\n",
    "## 외부데이터 불러오기 \n",
    "def other_loadfile(a, b, c): ## 임의로 수정 필요 \n",
    "    other_data_dummy1 = pd.read_csv(a, encoding=\"ms949\")\n",
    "    other_data_dummy2 = pd.read_csv(b, encoding=\"ms949\")\n",
    "    other_data_dummy3 = pd.read_csv(c, encoding=\"ms949\")\n",
    "\n",
    "    return other_data_dummy1, other_data_dummy2, other_data_dummy3\n",
    "\n",
    "other_data_dummy1, other_data_dummy2, other_data_dummy3 = other_loadfile(\n",
    "    \"./ENITT_SOLAR_DATA/re_allweather/allweather2018.csv\",\n",
    "    \"./ENITT_SOLAR_DATA/re_allweather/allweather2019.csv\",\n",
    "    \"./ENITT_SOLAR_DATA/re_allweather/allweather2020.csv\")\n",
    "\n",
    "\n",
    "other_data_dummyall = other_data_dummy1.merge(other_data_dummy2, how=\"outer\").merge(other_data_dummy3, how=\"outer\")\n",
    "other_data_weather = other_data_dummyall[other_data_dummyall[\"지점명\"] == \"강릉\"]\n",
    "other_data_weather[\"지점명\"].unique()\n",
    "\n",
    "\n",
    "\n",
    "# print()\n",
    "ent_data_solar1 = ent_data_solar[ent_data_solar[\"pow_id\"] == 2]\n",
    "# ent_data_weather\n",
    "\n",
    "ent_data_solar[\"pow_id\"].unique()\n",
    "\n"
   ]
  },
  {
   "cell_type": "code",
   "execution_count": 4,
   "metadata": {},
   "outputs": [
    {
     "output_type": "execute_result",
     "data": {
      "text/plain": [
       "                    env_date dummy_time  env_slopesolar  env_levelsolar  \\\n",
       "2020-04-08 09:00  2020-04-08         09      154.614286      152.600000   \n",
       "2020-04-08 10:00  2020-04-08         10      561.043478      393.550725   \n",
       "2020-04-08 11:00  2020-04-08         11      812.328571      879.871429   \n",
       "2020-04-08 12:00  2020-04-08         12      474.897059      515.264706   \n",
       "2020-04-08 13:00  2020-04-08         13      842.657143      937.414286   \n",
       "...                      ...        ...             ...             ...   \n",
       "2020-08-07 15:00  2020-08-07         15      101.916667       91.000000   \n",
       "2020-08-07 16:00  2020-08-07         16       54.153846       48.923077   \n",
       "2020-08-07 17:00  2020-08-07         17       23.083333       21.833333   \n",
       "2020-08-08 09:00  2020-08-08         09       77.416667       70.333333   \n",
       "2020-08-08 10:00  2020-08-08         10       95.307692       87.384615   \n",
       "\n",
       "                  env_modtemp  env_airtemp     pow_dcv    pow_dca  \\\n",
       "2020-04-08 09:00     8.548571     8.002857  624.742857   7.142857   \n",
       "2020-04-08 10:00    18.626087    10.144928  623.202899  26.131884   \n",
       "2020-04-08 11:00    25.018571    11.657143  612.228571  37.734286   \n",
       "2020-04-08 12:00    19.039706    11.083824  615.558824  23.694118   \n",
       "2020-04-08 13:00    24.085714    12.055714  616.157143  38.805714   \n",
       "...                       ...          ...         ...        ...   \n",
       "2020-08-07 15:00    28.516667    25.991667  577.500000   4.425000   \n",
       "2020-08-07 16:00    26.861538    25.484615  567.000000   2.584615   \n",
       "2020-08-07 17:00    24.808333    24.533333  550.583333   1.333333   \n",
       "2020-08-08 09:00    23.216667    22.208333  583.083333   3.633333   \n",
       "2020-08-08 10:00    23.515385    21.246154  588.769231   4.684615   \n",
       "\n",
       "                          watt  \n",
       "2020-04-08 09:00   4509.298571  \n",
       "2020-04-08 10:00  16189.469565  \n",
       "2020-04-08 11:00  23106.265714  \n",
       "2020-04-08 12:00  14507.720588  \n",
       "2020-04-08 13:00  23915.254286  \n",
       "...                        ...  \n",
       "2020-08-07 15:00   2559.000000  \n",
       "2020-08-07 16:00   1468.815385  \n",
       "2020-08-07 17:00    734.991667  \n",
       "2020-08-08 09:00   2131.866667  \n",
       "2020-08-08 10:00   2765.369231  \n",
       "\n",
       "[1100 rows x 9 columns]"
      ],
      "text/html": "<div>\n<style scoped>\n    .dataframe tbody tr th:only-of-type {\n        vertical-align: middle;\n    }\n\n    .dataframe tbody tr th {\n        vertical-align: top;\n    }\n\n    .dataframe thead th {\n        text-align: right;\n    }\n</style>\n<table border=\"1\" class=\"dataframe\">\n  <thead>\n    <tr style=\"text-align: right;\">\n      <th></th>\n      <th>env_date</th>\n      <th>dummy_time</th>\n      <th>env_slopesolar</th>\n      <th>env_levelsolar</th>\n      <th>env_modtemp</th>\n      <th>env_airtemp</th>\n      <th>pow_dcv</th>\n      <th>pow_dca</th>\n      <th>watt</th>\n    </tr>\n  </thead>\n  <tbody>\n    <tr>\n      <th>2020-04-08 09:00</th>\n      <td>2020-04-08</td>\n      <td>09</td>\n      <td>154.614286</td>\n      <td>152.600000</td>\n      <td>8.548571</td>\n      <td>8.002857</td>\n      <td>624.742857</td>\n      <td>7.142857</td>\n      <td>4509.298571</td>\n    </tr>\n    <tr>\n      <th>2020-04-08 10:00</th>\n      <td>2020-04-08</td>\n      <td>10</td>\n      <td>561.043478</td>\n      <td>393.550725</td>\n      <td>18.626087</td>\n      <td>10.144928</td>\n      <td>623.202899</td>\n      <td>26.131884</td>\n      <td>16189.469565</td>\n    </tr>\n    <tr>\n      <th>2020-04-08 11:00</th>\n      <td>2020-04-08</td>\n      <td>11</td>\n      <td>812.328571</td>\n      <td>879.871429</td>\n      <td>25.018571</td>\n      <td>11.657143</td>\n      <td>612.228571</td>\n      <td>37.734286</td>\n      <td>23106.265714</td>\n    </tr>\n    <tr>\n      <th>2020-04-08 12:00</th>\n      <td>2020-04-08</td>\n      <td>12</td>\n      <td>474.897059</td>\n      <td>515.264706</td>\n      <td>19.039706</td>\n      <td>11.083824</td>\n      <td>615.558824</td>\n      <td>23.694118</td>\n      <td>14507.720588</td>\n    </tr>\n    <tr>\n      <th>2020-04-08 13:00</th>\n      <td>2020-04-08</td>\n      <td>13</td>\n      <td>842.657143</td>\n      <td>937.414286</td>\n      <td>24.085714</td>\n      <td>12.055714</td>\n      <td>616.157143</td>\n      <td>38.805714</td>\n      <td>23915.254286</td>\n    </tr>\n    <tr>\n      <th>...</th>\n      <td>...</td>\n      <td>...</td>\n      <td>...</td>\n      <td>...</td>\n      <td>...</td>\n      <td>...</td>\n      <td>...</td>\n      <td>...</td>\n      <td>...</td>\n    </tr>\n    <tr>\n      <th>2020-08-07 15:00</th>\n      <td>2020-08-07</td>\n      <td>15</td>\n      <td>101.916667</td>\n      <td>91.000000</td>\n      <td>28.516667</td>\n      <td>25.991667</td>\n      <td>577.500000</td>\n      <td>4.425000</td>\n      <td>2559.000000</td>\n    </tr>\n    <tr>\n      <th>2020-08-07 16:00</th>\n      <td>2020-08-07</td>\n      <td>16</td>\n      <td>54.153846</td>\n      <td>48.923077</td>\n      <td>26.861538</td>\n      <td>25.484615</td>\n      <td>567.000000</td>\n      <td>2.584615</td>\n      <td>1468.815385</td>\n    </tr>\n    <tr>\n      <th>2020-08-07 17:00</th>\n      <td>2020-08-07</td>\n      <td>17</td>\n      <td>23.083333</td>\n      <td>21.833333</td>\n      <td>24.808333</td>\n      <td>24.533333</td>\n      <td>550.583333</td>\n      <td>1.333333</td>\n      <td>734.991667</td>\n    </tr>\n    <tr>\n      <th>2020-08-08 09:00</th>\n      <td>2020-08-08</td>\n      <td>09</td>\n      <td>77.416667</td>\n      <td>70.333333</td>\n      <td>23.216667</td>\n      <td>22.208333</td>\n      <td>583.083333</td>\n      <td>3.633333</td>\n      <td>2131.866667</td>\n    </tr>\n    <tr>\n      <th>2020-08-08 10:00</th>\n      <td>2020-08-08</td>\n      <td>10</td>\n      <td>95.307692</td>\n      <td>87.384615</td>\n      <td>23.515385</td>\n      <td>21.246154</td>\n      <td>588.769231</td>\n      <td>4.684615</td>\n      <td>2765.369231</td>\n    </tr>\n  </tbody>\n</table>\n<p>1100 rows × 9 columns</p>\n</div>"
     },
     "metadata": {},
     "execution_count": 4
    }
   ],
   "source": [
    "## DELETE COLUMN AND EDIT COLUMN\n",
    "\n",
    "## '지점', '지점명', '일시', '기온(°C)', '강수량(mm)', '풍속(m/s)', '풍향(16방위)', '습도(%)','일조(hr)', '일사(MJ/m2)', '적설(cm)', '전운량(10분위)', '10cm 지중온도(°C)'\n",
    "#=>\n",
    "\n",
    "## '기온', '강수량', '풍속', '풍향', '습도', '일조', '일사', '전운량', '지면온도'\n",
    "reset_other_weather = other_data_weather.set_index(\"일시\")\n",
    "reset_other_weather_need = reset_other_weather[['기온(°C)', '강수량(mm)', '풍속(m/s)', '풍향(16방위)', '습도(%)','일조(hr)', '일사(MJ/m2)', '적설(cm)', '전운량(10분위)', '10cm 지중온도(°C)']]\n",
    "reset_other_weather_need.columns = ['기온', '강수량', '풍속', '풍향', '습도', '일조', '일사', '적설', '전운량', '지중온도']\n",
    "reset_other_weather_need.fillna(0, inplace=True)\n",
    "reset_other_weather_need\n",
    "\n",
    "\n",
    "## 기업 solar weather EDA -> 필요\n",
    "ent_data_weather.columns \n",
    "\n",
    "ent_data_weather[\"env_levelsolar\"].describe()\n",
    "ent_data_weather[\"env_slopesolar\"].describe()\n",
    "\n",
    "\n",
    "## 기업 날씨 데이터 1시간 별로 groupby , ( slopesolar, levelsolar => sum) , ( modtemp, airtemp => mean )\n",
    "def groupby_weather():\n",
    "    ## time 구분\n",
    "    dummy_time_list = []\n",
    "    for i in ent_data_weather[\"env_time\"]:\n",
    "        dummy_time_list.append(i[:2])\n",
    "\n",
    "    ent_data_weather[\"dummy_time\"] = dummy_time_list\n",
    "    dummy_groupbyall = ent_data_weather.groupby([\"env_date\", \"dummy_time\"]).mean()\n",
    "    ent_data_weather_groupby = dummy_groupbyall.reset_index() ## 그룹화된 인덱스 풀기 \n",
    "\n",
    "    ### 발전량이 거의 없는 데이터 삭제 ( 9~ 19 까지만 살린다)\n",
    "    drop_data = ent_data_weather_groupby.isin({\"dummy_time\" : [\"00\", \"01\", \"02\", \"03\", \"04\", \"05\", \"06\", \"07\",\"08\",\"18\", \"19\", \"20\", \"21\", \"22\", \"23\"]})\n",
    "    ent_data_weather_sort = ent_data_weather_groupby[~drop_data].dropna()\n",
    "    # print(ent_data_weather_sort)\n",
    "    ent_data_weather_sort.drop(\"env_index\", axis=1, inplace=True)\n",
    "\n",
    "    return ent_data_weather_sort\n",
    "\n",
    "\n",
    "\n",
    "\n",
    "def groupby_solar_reset():\n",
    "    ## 필요한 컬럼만 가져오기\n",
    "    ent_data_need = ent_data_solar1[[\"pow_date\", \"pow_time\", \"pow_dcv\", \"pow_dca\"]]\n",
    "\n",
    "    ## time 구분\n",
    "    dummy_time_list = []\n",
    "    for i in ent_data_need[\"pow_time\"]:\n",
    "        dummy_time_list.append(i[:2])\n",
    "    ent_data_need[\"dummy_time\"] = dummy_time_list\n",
    "\n",
    "    ent_data_need[\"watt\"] = ent_data_need[\"pow_dcv\"] * ent_data_need[\"pow_dca\"]\n",
    "\n",
    "    ## RESET 발전량 :: 직류 전압 X 직류 전류 : 발전량 ,, GROUPBY해서 직류X전류 의 평균량으로 구한다\n",
    "    ent_data_perhour = ent_data_need.groupby([\"pow_date\", \"dummy_time\"]).mean()\n",
    "    ent_data_perhour = ent_data_perhour.reset_index()\n",
    "\n",
    "\n",
    "    drop_data = ent_data_perhour.isin({\"dummy_time\" : [\"00\", \"01\", \"02\", \"03\", \"04\", \"05\", \"06\", \"07\",\"08\",\"18\", \"19\", \"20\", \"21\", \"22\", \"23\"]})\n",
    "    ent_data_perhour_sort = ent_data_perhour[~drop_data].dropna()\n",
    "\n",
    "    return ent_data_perhour_sort\n",
    "\n",
    "### weather, solar join\n",
    "def join_weather_solar(a, b):\n",
    "    sub_index1 = a[\"env_date\"] + \" \" + a[\"dummy_time\"] + \":00\"\n",
    "    a.index = sub_index1\n",
    "\n",
    "    sub_index2 = b[\"pow_date\"] + \" \" + b[\"dummy_time\"] + \":00\"\n",
    "    b.index = sub_index2\n",
    "\n",
    "    joinset = a.join(b[[\"pow_dcv\", \"pow_dca\", \"watt\" ]])\n",
    "    ent_data_solar_weather = joinset.dropna()\n",
    "\n",
    "\n",
    "    return ent_data_solar_weather\n",
    "\n",
    "ent_data_weather_sort = groupby_weather()\n",
    "ent_data_perhour_sort = groupby_solar_reset()\n",
    "ent_data_solar_weather = join_weather_solar(ent_data_weather_sort, ent_data_perhour_sort)\n",
    "ent_data_solar_weather\n",
    "\n",
    "# ent_data_solar_weather[ent_data_solar_weather[\"env_date\"]]\n",
    "atype = ent_data_solar_weather.iloc[:1100]\n",
    "btype = ent_data_solar_weather.iloc[1800:]\n",
    "\n",
    "ent_data_solar_weather = pd.concat([atype, btype])\n",
    "# print(type(a[1]))\n",
    "ent_data_solar_weather\n"
   ]
  },
  {
   "cell_type": "code",
   "execution_count": 5,
   "metadata": {},
   "outputs": [],
   "source": [
    "## 기업, 공공 join\n",
    "\n",
    "join_ent_other = ent_data_solar_weather.join(reset_other_weather_need)\n",
    "join_ent_other[\"일사\"].fillna(0, inplace=True)\n",
    "# join_ent_other\n",
    "join_ent_other[\"match_solar\"] = join_ent_other[\"일사\"] * 1000000 / 3600\n",
    "join_ent_other_set = join_ent_other.drop([\"env_date\", \"dummy_time\"], axis=1)\n",
    "\n",
    "\n",
    "\n"
   ]
  },
  {
   "cell_type": "code",
   "execution_count": 7,
   "metadata": {},
   "outputs": [
    {
     "output_type": "stream",
     "name": "stdout",
     "text": [
      "1.8366039419824702\n-1.5427916068279546\n"
     ]
    },
    {
     "output_type": "display_data",
     "data": {
      "text/plain": "<Figure size 432x288 with 1 Axes>",
      "image/svg+xml": "<?xml version=\"1.0\" encoding=\"utf-8\" standalone=\"no\"?>\r\n<!DOCTYPE svg PUBLIC \"-//W3C//DTD SVG 1.1//EN\"\r\n  \"http://www.w3.org/Graphics/SVG/1.1/DTD/svg11.dtd\">\r\n<!-- Created with matplotlib (https://matplotlib.org/) -->\r\n<svg height=\"248.518125pt\" version=\"1.1\" viewBox=\"0 0 388.0125 248.518125\" width=\"388.0125pt\" xmlns=\"http://www.w3.org/2000/svg\" xmlns:xlink=\"http://www.w3.org/1999/xlink\">\r\n <defs>\r\n  <style type=\"text/css\">\r\n*{stroke-linecap:butt;stroke-linejoin:round;}\r\n  </style>\r\n </defs>\r\n <g id=\"figure_1\">\r\n  <g id=\"patch_1\">\r\n   <path d=\"M 0 248.518125 \r\nL 388.0125 248.518125 \r\nL 388.0125 0 \r\nL 0 0 \r\nz\r\n\" style=\"fill:none;\"/>\r\n  </g>\r\n  <g id=\"axes_1\">\r\n   <g id=\"patch_2\">\r\n    <path d=\"M 46.0125 224.64 \r\nL 380.8125 224.64 \r\nL 380.8125 7.2 \r\nL 46.0125 7.2 \r\nz\r\n\" style=\"fill:#ffffff;\"/>\r\n   </g>\r\n   <g id=\"patch_3\">\r\n    <path clip-path=\"url(#pc96396f5a2)\" d=\"M 79.4925 180.11155 \r\nL 347.3325 180.11155 \r\nL 347.3325 70.6332 \r\nL 79.4925 70.6332 \r\nL 79.4925 180.11155 \r\nz\r\n\" style=\"fill:#3274a1;stroke:#3f3f3f;stroke-linejoin:miter;stroke-width:1.5;\"/>\r\n   </g>\r\n   <g id=\"matplotlib.axis_1\">\r\n    <g id=\"xtick_1\">\r\n     <g id=\"line2d_1\">\r\n      <defs>\r\n       <path d=\"M 0 0 \r\nL 0 3.5 \r\n\" id=\"mca0bfe29a3\" style=\"stroke:#000000;stroke-width:0.8;\"/>\r\n      </defs>\r\n      <g>\r\n       <use style=\"stroke:#000000;stroke-width:0.8;\" x=\"213.4125\" xlink:href=\"#mca0bfe29a3\" y=\"224.64\"/>\r\n      </g>\r\n     </g>\r\n     <g id=\"text_1\">\r\n      <!-- 0 -->\r\n      <defs>\r\n       <path d=\"M 31.78125 66.40625 \r\nQ 24.171875 66.40625 20.328125 58.90625 \r\nQ 16.5 51.421875 16.5 36.375 \r\nQ 16.5 21.390625 20.328125 13.890625 \r\nQ 24.171875 6.390625 31.78125 6.390625 \r\nQ 39.453125 6.390625 43.28125 13.890625 \r\nQ 47.125 21.390625 47.125 36.375 \r\nQ 47.125 51.421875 43.28125 58.90625 \r\nQ 39.453125 66.40625 31.78125 66.40625 \r\nz\r\nM 31.78125 74.21875 \r\nQ 44.046875 74.21875 50.515625 64.515625 \r\nQ 56.984375 54.828125 56.984375 36.375 \r\nQ 56.984375 17.96875 50.515625 8.265625 \r\nQ 44.046875 -1.421875 31.78125 -1.421875 \r\nQ 19.53125 -1.421875 13.0625 8.265625 \r\nQ 6.59375 17.96875 6.59375 36.375 \r\nQ 6.59375 54.828125 13.0625 64.515625 \r\nQ 19.53125 74.21875 31.78125 74.21875 \r\nz\r\n\" id=\"DejaVuSans-48\"/>\r\n      </defs>\r\n      <g transform=\"translate(210.23125 239.238437)scale(0.1 -0.1)\">\r\n       <use xlink:href=\"#DejaVuSans-48\"/>\r\n      </g>\r\n     </g>\r\n    </g>\r\n   </g>\r\n   <g id=\"matplotlib.axis_2\">\r\n    <g id=\"ytick_1\">\r\n     <g id=\"line2d_2\">\r\n      <defs>\r\n       <path d=\"M 0 0 \r\nL -3.5 0 \r\n\" id=\"m52ab618299\" style=\"stroke:#000000;stroke-width:0.8;\"/>\r\n      </defs>\r\n      <g>\r\n       <use style=\"stroke:#000000;stroke-width:0.8;\" x=\"46.0125\" xlink:href=\"#m52ab618299\" y=\"216.860308\"/>\r\n      </g>\r\n     </g>\r\n     <g id=\"text_2\">\r\n      <!-- 0 -->\r\n      <g transform=\"translate(32.65 220.659527)scale(0.1 -0.1)\">\r\n       <use xlink:href=\"#DejaVuSans-48\"/>\r\n      </g>\r\n     </g>\r\n    </g>\r\n    <g id=\"ytick_2\">\r\n     <g id=\"line2d_3\">\r\n      <g>\r\n       <use style=\"stroke:#000000;stroke-width:0.8;\" x=\"46.0125\" xlink:href=\"#m52ab618299\" y=\"177.529341\"/>\r\n      </g>\r\n     </g>\r\n     <g id=\"text_3\">\r\n      <!-- 5000 -->\r\n      <defs>\r\n       <path d=\"M 10.796875 72.90625 \r\nL 49.515625 72.90625 \r\nL 49.515625 64.59375 \r\nL 19.828125 64.59375 \r\nL 19.828125 46.734375 \r\nQ 21.96875 47.46875 24.109375 47.828125 \r\nQ 26.265625 48.1875 28.421875 48.1875 \r\nQ 40.625 48.1875 47.75 41.5 \r\nQ 54.890625 34.8125 54.890625 23.390625 \r\nQ 54.890625 11.625 47.5625 5.09375 \r\nQ 40.234375 -1.421875 26.90625 -1.421875 \r\nQ 22.3125 -1.421875 17.546875 -0.640625 \r\nQ 12.796875 0.140625 7.71875 1.703125 \r\nL 7.71875 11.625 \r\nQ 12.109375 9.234375 16.796875 8.0625 \r\nQ 21.484375 6.890625 26.703125 6.890625 \r\nQ 35.15625 6.890625 40.078125 11.328125 \r\nQ 45.015625 15.765625 45.015625 23.390625 \r\nQ 45.015625 31 40.078125 35.4375 \r\nQ 35.15625 39.890625 26.703125 39.890625 \r\nQ 22.75 39.890625 18.8125 39.015625 \r\nQ 14.890625 38.140625 10.796875 36.28125 \r\nz\r\n\" id=\"DejaVuSans-53\"/>\r\n      </defs>\r\n      <g transform=\"translate(13.5625 181.328559)scale(0.1 -0.1)\">\r\n       <use xlink:href=\"#DejaVuSans-53\"/>\r\n       <use x=\"63.623047\" xlink:href=\"#DejaVuSans-48\"/>\r\n       <use x=\"127.246094\" xlink:href=\"#DejaVuSans-48\"/>\r\n       <use x=\"190.869141\" xlink:href=\"#DejaVuSans-48\"/>\r\n      </g>\r\n     </g>\r\n    </g>\r\n    <g id=\"ytick_3\">\r\n     <g id=\"line2d_4\">\r\n      <g>\r\n       <use style=\"stroke:#000000;stroke-width:0.8;\" x=\"46.0125\" xlink:href=\"#m52ab618299\" y=\"138.198373\"/>\r\n      </g>\r\n     </g>\r\n     <g id=\"text_4\">\r\n      <!-- 10000 -->\r\n      <defs>\r\n       <path d=\"M 12.40625 8.296875 \r\nL 28.515625 8.296875 \r\nL 28.515625 63.921875 \r\nL 10.984375 60.40625 \r\nL 10.984375 69.390625 \r\nL 28.421875 72.90625 \r\nL 38.28125 72.90625 \r\nL 38.28125 8.296875 \r\nL 54.390625 8.296875 \r\nL 54.390625 0 \r\nL 12.40625 0 \r\nz\r\n\" id=\"DejaVuSans-49\"/>\r\n      </defs>\r\n      <g transform=\"translate(7.2 141.997592)scale(0.1 -0.1)\">\r\n       <use xlink:href=\"#DejaVuSans-49\"/>\r\n       <use x=\"63.623047\" xlink:href=\"#DejaVuSans-48\"/>\r\n       <use x=\"127.246094\" xlink:href=\"#DejaVuSans-48\"/>\r\n       <use x=\"190.869141\" xlink:href=\"#DejaVuSans-48\"/>\r\n       <use x=\"254.492188\" xlink:href=\"#DejaVuSans-48\"/>\r\n      </g>\r\n     </g>\r\n    </g>\r\n    <g id=\"ytick_4\">\r\n     <g id=\"line2d_5\">\r\n      <g>\r\n       <use style=\"stroke:#000000;stroke-width:0.8;\" x=\"46.0125\" xlink:href=\"#m52ab618299\" y=\"98.867405\"/>\r\n      </g>\r\n     </g>\r\n     <g id=\"text_5\">\r\n      <!-- 15000 -->\r\n      <g transform=\"translate(7.2 102.666624)scale(0.1 -0.1)\">\r\n       <use xlink:href=\"#DejaVuSans-49\"/>\r\n       <use x=\"63.623047\" xlink:href=\"#DejaVuSans-53\"/>\r\n       <use x=\"127.246094\" xlink:href=\"#DejaVuSans-48\"/>\r\n       <use x=\"190.869141\" xlink:href=\"#DejaVuSans-48\"/>\r\n       <use x=\"254.492188\" xlink:href=\"#DejaVuSans-48\"/>\r\n      </g>\r\n     </g>\r\n    </g>\r\n    <g id=\"ytick_5\">\r\n     <g id=\"line2d_6\">\r\n      <g>\r\n       <use style=\"stroke:#000000;stroke-width:0.8;\" x=\"46.0125\" xlink:href=\"#m52ab618299\" y=\"59.536438\"/>\r\n      </g>\r\n     </g>\r\n     <g id=\"text_6\">\r\n      <!-- 20000 -->\r\n      <defs>\r\n       <path d=\"M 19.1875 8.296875 \r\nL 53.609375 8.296875 \r\nL 53.609375 0 \r\nL 7.328125 0 \r\nL 7.328125 8.296875 \r\nQ 12.9375 14.109375 22.625 23.890625 \r\nQ 32.328125 33.6875 34.8125 36.53125 \r\nQ 39.546875 41.84375 41.421875 45.53125 \r\nQ 43.3125 49.21875 43.3125 52.78125 \r\nQ 43.3125 58.59375 39.234375 62.25 \r\nQ 35.15625 65.921875 28.609375 65.921875 \r\nQ 23.96875 65.921875 18.8125 64.3125 \r\nQ 13.671875 62.703125 7.8125 59.421875 \r\nL 7.8125 69.390625 \r\nQ 13.765625 71.78125 18.9375 73 \r\nQ 24.125 74.21875 28.421875 74.21875 \r\nQ 39.75 74.21875 46.484375 68.546875 \r\nQ 53.21875 62.890625 53.21875 53.421875 \r\nQ 53.21875 48.921875 51.53125 44.890625 \r\nQ 49.859375 40.875 45.40625 35.40625 \r\nQ 44.1875 33.984375 37.640625 27.21875 \r\nQ 31.109375 20.453125 19.1875 8.296875 \r\nz\r\n\" id=\"DejaVuSans-50\"/>\r\n      </defs>\r\n      <g transform=\"translate(7.2 63.335656)scale(0.1 -0.1)\">\r\n       <use xlink:href=\"#DejaVuSans-50\"/>\r\n       <use x=\"63.623047\" xlink:href=\"#DejaVuSans-48\"/>\r\n       <use x=\"127.246094\" xlink:href=\"#DejaVuSans-48\"/>\r\n       <use x=\"190.869141\" xlink:href=\"#DejaVuSans-48\"/>\r\n       <use x=\"254.492188\" xlink:href=\"#DejaVuSans-48\"/>\r\n      </g>\r\n     </g>\r\n    </g>\r\n    <g id=\"ytick_6\">\r\n     <g id=\"line2d_7\">\r\n      <g>\r\n       <use style=\"stroke:#000000;stroke-width:0.8;\" x=\"46.0125\" xlink:href=\"#m52ab618299\" y=\"20.20547\"/>\r\n      </g>\r\n     </g>\r\n     <g id=\"text_7\">\r\n      <!-- 25000 -->\r\n      <g transform=\"translate(7.2 24.004689)scale(0.1 -0.1)\">\r\n       <use xlink:href=\"#DejaVuSans-50\"/>\r\n       <use x=\"63.623047\" xlink:href=\"#DejaVuSans-53\"/>\r\n       <use x=\"127.246094\" xlink:href=\"#DejaVuSans-48\"/>\r\n       <use x=\"190.869141\" xlink:href=\"#DejaVuSans-48\"/>\r\n       <use x=\"254.492188\" xlink:href=\"#DejaVuSans-48\"/>\r\n      </g>\r\n     </g>\r\n    </g>\r\n   </g>\r\n   <g id=\"line2d_8\">\r\n    <path clip-path=\"url(#pc96396f5a2)\" d=\"M 213.4125 180.11155 \r\nL 213.4125 214.756364 \r\n\" style=\"fill:none;stroke:#3f3f3f;stroke-linecap:square;stroke-width:1.5;\"/>\r\n   </g>\r\n   <g id=\"line2d_9\">\r\n    <path clip-path=\"url(#pc96396f5a2)\" d=\"M 213.4125 70.6332 \r\nL 213.4125 17.083636 \r\n\" style=\"fill:none;stroke:#3f3f3f;stroke-linecap:square;stroke-width:1.5;\"/>\r\n   </g>\r\n   <g id=\"line2d_10\">\r\n    <path clip-path=\"url(#pc96396f5a2)\" d=\"M 146.4525 214.756364 \r\nL 280.3725 214.756364 \r\n\" style=\"fill:none;stroke:#3f3f3f;stroke-linecap:square;stroke-width:1.5;\"/>\r\n   </g>\r\n   <g id=\"line2d_11\">\r\n    <path clip-path=\"url(#pc96396f5a2)\" d=\"M 146.4525 17.083636 \r\nL 280.3725 17.083636 \r\n\" style=\"fill:none;stroke:#3f3f3f;stroke-linecap:square;stroke-width:1.5;\"/>\r\n   </g>\r\n   <g id=\"line2d_12\"/>\r\n   <g id=\"line2d_13\">\r\n    <path clip-path=\"url(#pc96396f5a2)\" d=\"M 79.4925 126.391358 \r\nL 347.3325 126.391358 \r\n\" style=\"fill:none;stroke:#3f3f3f;stroke-linecap:square;stroke-width:1.5;\"/>\r\n   </g>\r\n   <g id=\"patch_4\">\r\n    <path d=\"M 46.0125 224.64 \r\nL 46.0125 7.2 \r\n\" style=\"fill:none;stroke:#000000;stroke-linecap:square;stroke-linejoin:miter;stroke-width:0.8;\"/>\r\n   </g>\r\n   <g id=\"patch_5\">\r\n    <path d=\"M 380.8125 224.64 \r\nL 380.8125 7.2 \r\n\" style=\"fill:none;stroke:#000000;stroke-linecap:square;stroke-linejoin:miter;stroke-width:0.8;\"/>\r\n   </g>\r\n   <g id=\"patch_6\">\r\n    <path d=\"M 46.0125 224.64 \r\nL 380.8125 224.64 \r\n\" style=\"fill:none;stroke:#000000;stroke-linecap:square;stroke-linejoin:miter;stroke-width:0.8;\"/>\r\n   </g>\r\n   <g id=\"patch_7\">\r\n    <path d=\"M 46.0125 7.2 \r\nL 380.8125 7.2 \r\n\" style=\"fill:none;stroke:#000000;stroke-linecap:square;stroke-linejoin:miter;stroke-width:0.8;\"/>\r\n   </g>\r\n  </g>\r\n </g>\r\n <defs>\r\n  <clipPath id=\"pc96396f5a2\">\r\n   <rect height=\"217.44\" width=\"334.8\" x=\"46.0125\" y=\"7.2\"/>\r\n  </clipPath>\r\n </defs>\r\n</svg>\r\n",
      "image/png": "[encoded data removed]"
     },
     "metadata": {
      "needs_background": "light"
     }
    }
   ],
   "source": [
    "## 이상치 제거\n",
    "\n",
    "# sns.boxplot(data = join_ent_other_set[\"watt\"])\n",
    "\n",
    "\n",
    "import pandas as pd\n",
    "from scipy import stats\n",
    "\n",
    "# deleteoutlier = stats.zscore(join_ent_other_set[\"watt\"])\n",
    "# deleteoutlier\n",
    "deleteoutlier = stats.zscore(join_ent_other_set[\"watt\"])\n",
    "join_ent_other_set[\"z_score\"] = deleteoutlier\n",
    "\n",
    "join_ent_other_del = join_ent_other_set.loc[join_ent_other_set['z_score'].abs()<=3]\n",
    "join_ent_other_del.describe()\n",
    "sns.boxplot(data = join_ent_other_del[\"watt\"])\n",
    "# df.loc[df['z_score'].abs()<=3]\n",
    "print(join_ent_other_del['z_score'].max())\n",
    "print(join_ent_other_del['z_score'].min())\n",
    "## csv 저장\n",
    "join_ent_other_del.to_csv('zumun2_join.csv', encoding='utf-8')"
   ]
  },
  {
   "cell_type": "code",
   "execution_count": 8,
   "metadata": {},
   "outputs": [
    {
     "output_type": "execute_result",
     "data": {
      "text/plain": [
       "<matplotlib.axes._subplots.AxesSubplot at 0x217e1bc78c8>"
      ]
     },
     "metadata": {},
     "execution_count": 8
    },
    {
     "output_type": "display_data",
     "data": {
      "text/plain": "<Figure size 432x288 with 1 Axes>",
      "image/svg+xml": "<?xml version=\"1.0\" encoding=\"utf-8\" standalone=\"no\"?>\r\n<!DOCTYPE svg PUBLIC \"-//W3C//DTD SVG 1.1//EN\"\r\n  \"http://www.w3.org/Graphics/SVG/1.1/DTD/svg11.dtd\">\r\n<!-- Created with matplotlib (https://matplotlib.org/) -->\r\n<svg height=\"248.79625pt\" version=\"1.1\" viewBox=\"0 0 381.65 248.79625\" width=\"381.65pt\" xmlns=\"http://www.w3.org/2000/svg\" xmlns:xlink=\"http://www.w3.org/1999/xlink\">\r\n <defs>\r\n  <style type=\"text/css\">\r\n*{stroke-linecap:butt;stroke-linejoin:round;}\r\n  </style>\r\n </defs>\r\n <g id=\"figure_1\">\r\n  <g id=\"patch_1\">\r\n   <path d=\"M -0 248.79625 \r\nL 381.65 248.79625 \r\nL 381.65 0 \r\nL -0 0 \r\nz\r\n\" style=\"fill:none;\"/>\r\n  </g>\r\n  <g id=\"axes_1\">\r\n   <g id=\"patch_2\">\r\n    <path d=\"M 39.65 224.64 \r\nL 374.45 224.64 \r\nL 374.45 7.2 \r\nL 39.65 7.2 \r\nz\r\n\" style=\"fill:#ffffff;\"/>\r\n   </g>\r\n   <g id=\"patch_3\">\r\n    <path clip-path=\"url(#p48d2d8a7b6)\" d=\"M 50.81 180.775413 \r\nL 140.09 180.775413 \r\nL 140.09 74.236376 \r\nL 50.81 74.236376 \r\nL 50.81 180.775413 \r\nz\r\n\" style=\"fill:#3274a1;stroke:#3d3d3d;stroke-linejoin:miter;stroke-width:1.5;\"/>\r\n   </g>\r\n   <g id=\"patch_4\">\r\n    <path clip-path=\"url(#p48d2d8a7b6)\" d=\"M 162.41 183.209272 \r\nL 251.69 183.209272 \r\nL 251.69 73.835054 \r\nL 162.41 73.835054 \r\nL 162.41 183.209272 \r\nz\r\n\" style=\"fill:#e1812c;stroke:#3d3d3d;stroke-linejoin:miter;stroke-width:1.5;\"/>\r\n   </g>\r\n   <g id=\"patch_5\">\r\n    <path clip-path=\"url(#p48d2d8a7b6)\" d=\"M 274.01 175.731362 \r\nL 363.29 175.731362 \r\nL 363.29 72.230271 \r\nL 274.01 72.230271 \r\nL 274.01 175.731362 \r\nz\r\n\" style=\"fill:#3a923a;stroke:#3d3d3d;stroke-linejoin:miter;stroke-width:1.5;\"/>\r\n   </g>\r\n   <g id=\"matplotlib.axis_1\">\r\n    <g id=\"xtick_1\">\r\n     <g id=\"line2d_1\">\r\n      <defs>\r\n       <path d=\"M 0 0 \r\nL 0 3.5 \r\n\" id=\"m5e37d20ab7\" style=\"stroke:#000000;stroke-width:0.8;\"/>\r\n      </defs>\r\n      <g>\r\n       <use style=\"stroke:#000000;stroke-width:0.8;\" x=\"95.45\" xlink:href=\"#m5e37d20ab7\" y=\"224.64\"/>\r\n      </g>\r\n     </g>\r\n     <g id=\"text_1\">\r\n      <!-- env_slopesolar -->\r\n      <defs>\r\n       <path d=\"M 56.203125 29.59375 \r\nL 56.203125 25.203125 \r\nL 14.890625 25.203125 \r\nQ 15.484375 15.921875 20.484375 11.0625 \r\nQ 25.484375 6.203125 34.421875 6.203125 \r\nQ 39.59375 6.203125 44.453125 7.46875 \r\nQ 49.3125 8.734375 54.109375 11.28125 \r\nL 54.109375 2.78125 \r\nQ 49.265625 0.734375 44.1875 -0.34375 \r\nQ 39.109375 -1.421875 33.890625 -1.421875 \r\nQ 20.796875 -1.421875 13.15625 6.1875 \r\nQ 5.515625 13.8125 5.515625 26.8125 \r\nQ 5.515625 40.234375 12.765625 48.109375 \r\nQ 20.015625 56 32.328125 56 \r\nQ 43.359375 56 49.78125 48.890625 \r\nQ 56.203125 41.796875 56.203125 29.59375 \r\nz\r\nM 47.21875 32.234375 \r\nQ 47.125 39.59375 43.09375 43.984375 \r\nQ 39.0625 48.390625 32.421875 48.390625 \r\nQ 24.90625 48.390625 20.390625 44.140625 \r\nQ 15.875 39.890625 15.1875 32.171875 \r\nz\r\n\" id=\"DejaVuSans-101\"/>\r\n       <path d=\"M 54.890625 33.015625 \r\nL 54.890625 0 \r\nL 45.90625 0 \r\nL 45.90625 32.71875 \r\nQ 45.90625 40.484375 42.875 44.328125 \r\nQ 39.84375 48.1875 33.796875 48.1875 \r\nQ 26.515625 48.1875 22.3125 43.546875 \r\nQ 18.109375 38.921875 18.109375 30.90625 \r\nL 18.109375 0 \r\nL 9.078125 0 \r\nL 9.078125 54.6875 \r\nL 18.109375 54.6875 \r\nL 18.109375 46.1875 \r\nQ 21.34375 51.125 25.703125 53.5625 \r\nQ 30.078125 56 35.796875 56 \r\nQ 45.21875 56 50.046875 50.171875 \r\nQ 54.890625 44.34375 54.890625 33.015625 \r\nz\r\n\" id=\"DejaVuSans-110\"/>\r\n       <path d=\"M 2.984375 54.6875 \r\nL 12.5 54.6875 \r\nL 29.59375 8.796875 \r\nL 46.6875 54.6875 \r\nL 56.203125 54.6875 \r\nL 35.6875 0 \r\nL 23.484375 0 \r\nz\r\n\" id=\"DejaVuSans-118\"/>\r\n       <path d=\"M 50.984375 -16.609375 \r\nL 50.984375 -23.578125 \r\nL -0.984375 -23.578125 \r\nL -0.984375 -16.609375 \r\nz\r\n\" id=\"DejaVuSans-95\"/>\r\n       <path d=\"M 44.28125 53.078125 \r\nL 44.28125 44.578125 \r\nQ 40.484375 46.53125 36.375 47.5 \r\nQ 32.28125 48.484375 27.875 48.484375 \r\nQ 21.1875 48.484375 17.84375 46.4375 \r\nQ 14.5 44.390625 14.5 40.28125 \r\nQ 14.5 37.15625 16.890625 35.375 \r\nQ 19.28125 33.59375 26.515625 31.984375 \r\nL 29.59375 31.296875 \r\nQ 39.15625 29.25 43.1875 25.515625 \r\nQ 47.21875 21.78125 47.21875 15.09375 \r\nQ 47.21875 7.46875 41.1875 3.015625 \r\nQ 35.15625 -1.421875 24.609375 -1.421875 \r\nQ 20.21875 -1.421875 15.453125 -0.5625 \r\nQ 10.6875 0.296875 5.421875 2 \r\nL 5.421875 11.28125 \r\nQ 10.40625 8.6875 15.234375 7.390625 \r\nQ 20.0625 6.109375 24.8125 6.109375 \r\nQ 31.15625 6.109375 34.5625 8.28125 \r\nQ 37.984375 10.453125 37.984375 14.40625 \r\nQ 37.984375 18.0625 35.515625 20.015625 \r\nQ 33.0625 21.96875 24.703125 23.78125 \r\nL 21.578125 24.515625 \r\nQ 13.234375 26.265625 9.515625 29.90625 \r\nQ 5.8125 33.546875 5.8125 39.890625 \r\nQ 5.8125 47.609375 11.28125 51.796875 \r\nQ 16.75 56 26.8125 56 \r\nQ 31.78125 56 36.171875 55.265625 \r\nQ 40.578125 54.546875 44.28125 53.078125 \r\nz\r\n\" id=\"DejaVuSans-115\"/>\r\n       <path d=\"M 9.421875 75.984375 \r\nL 18.40625 75.984375 \r\nL 18.40625 0 \r\nL 9.421875 0 \r\nz\r\n\" id=\"DejaVuSans-108\"/>\r\n       <path d=\"M 30.609375 48.390625 \r\nQ 23.390625 48.390625 19.1875 42.75 \r\nQ 14.984375 37.109375 14.984375 27.296875 \r\nQ 14.984375 17.484375 19.15625 11.84375 \r\nQ 23.34375 6.203125 30.609375 6.203125 \r\nQ 37.796875 6.203125 41.984375 11.859375 \r\nQ 46.1875 17.53125 46.1875 27.296875 \r\nQ 46.1875 37.015625 41.984375 42.703125 \r\nQ 37.796875 48.390625 30.609375 48.390625 \r\nz\r\nM 30.609375 56 \r\nQ 42.328125 56 49.015625 48.375 \r\nQ 55.71875 40.765625 55.71875 27.296875 \r\nQ 55.71875 13.875 49.015625 6.21875 \r\nQ 42.328125 -1.421875 30.609375 -1.421875 \r\nQ 18.84375 -1.421875 12.171875 6.21875 \r\nQ 5.515625 13.875 5.515625 27.296875 \r\nQ 5.515625 40.765625 12.171875 48.375 \r\nQ 18.84375 56 30.609375 56 \r\nz\r\n\" id=\"DejaVuSans-111\"/>\r\n       <path d=\"M 18.109375 8.203125 \r\nL 18.109375 -20.796875 \r\nL 9.078125 -20.796875 \r\nL 9.078125 54.6875 \r\nL 18.109375 54.6875 \r\nL 18.109375 46.390625 \r\nQ 20.953125 51.265625 25.265625 53.625 \r\nQ 29.59375 56 35.59375 56 \r\nQ 45.5625 56 51.78125 48.09375 \r\nQ 58.015625 40.1875 58.015625 27.296875 \r\nQ 58.015625 14.40625 51.78125 6.484375 \r\nQ 45.5625 -1.421875 35.59375 -1.421875 \r\nQ 29.59375 -1.421875 25.265625 0.953125 \r\nQ 20.953125 3.328125 18.109375 8.203125 \r\nz\r\nM 48.6875 27.296875 \r\nQ 48.6875 37.203125 44.609375 42.84375 \r\nQ 40.53125 48.484375 33.40625 48.484375 \r\nQ 26.265625 48.484375 22.1875 42.84375 \r\nQ 18.109375 37.203125 18.109375 27.296875 \r\nQ 18.109375 17.390625 22.1875 11.75 \r\nQ 26.265625 6.109375 33.40625 6.109375 \r\nQ 40.53125 6.109375 44.609375 11.75 \r\nQ 48.6875 17.390625 48.6875 27.296875 \r\nz\r\n\" id=\"DejaVuSans-112\"/>\r\n       <path d=\"M 34.28125 27.484375 \r\nQ 23.390625 27.484375 19.1875 25 \r\nQ 14.984375 22.515625 14.984375 16.5 \r\nQ 14.984375 11.71875 18.140625 8.90625 \r\nQ 21.296875 6.109375 26.703125 6.109375 \r\nQ 34.1875 6.109375 38.703125 11.40625 \r\nQ 43.21875 16.703125 43.21875 25.484375 \r\nL 43.21875 27.484375 \r\nz\r\nM 52.203125 31.203125 \r\nL 52.203125 0 \r\nL 43.21875 0 \r\nL 43.21875 8.296875 \r\nQ 40.140625 3.328125 35.546875 0.953125 \r\nQ 30.953125 -1.421875 24.3125 -1.421875 \r\nQ 15.921875 -1.421875 10.953125 3.296875 \r\nQ 6 8.015625 6 15.921875 \r\nQ 6 25.140625 12.171875 29.828125 \r\nQ 18.359375 34.515625 30.609375 34.515625 \r\nL 43.21875 34.515625 \r\nL 43.21875 35.40625 \r\nQ 43.21875 41.609375 39.140625 45 \r\nQ 35.0625 48.390625 27.6875 48.390625 \r\nQ 23 48.390625 18.546875 47.265625 \r\nQ 14.109375 46.140625 10.015625 43.890625 \r\nL 10.015625 52.203125 \r\nQ 14.9375 54.109375 19.578125 55.046875 \r\nQ 24.21875 56 28.609375 56 \r\nQ 40.484375 56 46.34375 49.84375 \r\nQ 52.203125 43.703125 52.203125 31.203125 \r\nz\r\n\" id=\"DejaVuSans-97\"/>\r\n       <path d=\"M 41.109375 46.296875 \r\nQ 39.59375 47.171875 37.8125 47.578125 \r\nQ 36.03125 48 33.890625 48 \r\nQ 26.265625 48 22.1875 43.046875 \r\nQ 18.109375 38.09375 18.109375 28.8125 \r\nL 18.109375 0 \r\nL 9.078125 0 \r\nL 9.078125 54.6875 \r\nL 18.109375 54.6875 \r\nL 18.109375 46.1875 \r\nQ 20.953125 51.171875 25.484375 53.578125 \r\nQ 30.03125 56 36.53125 56 \r\nQ 37.453125 56 38.578125 55.875 \r\nQ 39.703125 55.765625 41.0625 55.515625 \r\nz\r\n\" id=\"DejaVuSans-114\"/>\r\n      </defs>\r\n      <g transform=\"translate(58.26875 239.238437)scale(0.1 -0.1)\">\r\n       <use xlink:href=\"#DejaVuSans-101\"/>\r\n       <use x=\"61.523438\" xlink:href=\"#DejaVuSans-110\"/>\r\n       <use x=\"124.902344\" xlink:href=\"#DejaVuSans-118\"/>\r\n       <use x=\"184.082031\" xlink:href=\"#DejaVuSans-95\"/>\r\n       <use x=\"234.082031\" xlink:href=\"#DejaVuSans-115\"/>\r\n       <use x=\"286.181641\" xlink:href=\"#DejaVuSans-108\"/>\r\n       <use x=\"313.964844\" xlink:href=\"#DejaVuSans-111\"/>\r\n       <use x=\"375.146484\" xlink:href=\"#DejaVuSans-112\"/>\r\n       <use x=\"438.623047\" xlink:href=\"#DejaVuSans-101\"/>\r\n       <use x=\"500.146484\" xlink:href=\"#DejaVuSans-115\"/>\r\n       <use x=\"552.246094\" xlink:href=\"#DejaVuSans-111\"/>\r\n       <use x=\"613.427734\" xlink:href=\"#DejaVuSans-108\"/>\r\n       <use x=\"641.210938\" xlink:href=\"#DejaVuSans-97\"/>\r\n       <use x=\"702.490234\" xlink:href=\"#DejaVuSans-114\"/>\r\n      </g>\r\n     </g>\r\n    </g>\r\n    <g id=\"xtick_2\">\r\n     <g id=\"line2d_2\">\r\n      <g>\r\n       <use style=\"stroke:#000000;stroke-width:0.8;\" x=\"207.05\" xlink:href=\"#m5e37d20ab7\" y=\"224.64\"/>\r\n      </g>\r\n     </g>\r\n     <g id=\"text_2\">\r\n      <!-- env_levelsolar -->\r\n      <g transform=\"translate(171.282031 239.238437)scale(0.1 -0.1)\">\r\n       <use xlink:href=\"#DejaVuSans-101\"/>\r\n       <use x=\"61.523438\" xlink:href=\"#DejaVuSans-110\"/>\r\n       <use x=\"124.902344\" xlink:href=\"#DejaVuSans-118\"/>\r\n       <use x=\"184.082031\" xlink:href=\"#DejaVuSans-95\"/>\r\n       <use x=\"234.082031\" xlink:href=\"#DejaVuSans-108\"/>\r\n       <use x=\"261.865234\" xlink:href=\"#DejaVuSans-101\"/>\r\n       <use x=\"323.388672\" xlink:href=\"#DejaVuSans-118\"/>\r\n       <use x=\"382.568359\" xlink:href=\"#DejaVuSans-101\"/>\r\n       <use x=\"444.091797\" xlink:href=\"#DejaVuSans-108\"/>\r\n       <use x=\"471.875\" xlink:href=\"#DejaVuSans-115\"/>\r\n       <use x=\"523.974609\" xlink:href=\"#DejaVuSans-111\"/>\r\n       <use x=\"585.15625\" xlink:href=\"#DejaVuSans-108\"/>\r\n       <use x=\"612.939453\" xlink:href=\"#DejaVuSans-97\"/>\r\n       <use x=\"674.21875\" xlink:href=\"#DejaVuSans-114\"/>\r\n      </g>\r\n     </g>\r\n    </g>\r\n    <g id=\"xtick_3\">\r\n     <g id=\"line2d_3\">\r\n      <g>\r\n       <use style=\"stroke:#000000;stroke-width:0.8;\" x=\"318.65\" xlink:href=\"#m5e37d20ab7\" y=\"224.64\"/>\r\n      </g>\r\n     </g>\r\n     <g id=\"text_3\">\r\n      <!-- match_solar -->\r\n      <defs>\r\n       <path d=\"M 52 44.1875 \r\nQ 55.375 50.25 60.0625 53.125 \r\nQ 64.75 56 71.09375 56 \r\nQ 79.640625 56 84.28125 50.015625 \r\nQ 88.921875 44.046875 88.921875 33.015625 \r\nL 88.921875 0 \r\nL 79.890625 0 \r\nL 79.890625 32.71875 \r\nQ 79.890625 40.578125 77.09375 44.375 \r\nQ 74.3125 48.1875 68.609375 48.1875 \r\nQ 61.625 48.1875 57.5625 43.546875 \r\nQ 53.515625 38.921875 53.515625 30.90625 \r\nL 53.515625 0 \r\nL 44.484375 0 \r\nL 44.484375 32.71875 \r\nQ 44.484375 40.625 41.703125 44.40625 \r\nQ 38.921875 48.1875 33.109375 48.1875 \r\nQ 26.21875 48.1875 22.15625 43.53125 \r\nQ 18.109375 38.875 18.109375 30.90625 \r\nL 18.109375 0 \r\nL 9.078125 0 \r\nL 9.078125 54.6875 \r\nL 18.109375 54.6875 \r\nL 18.109375 46.1875 \r\nQ 21.1875 51.21875 25.484375 53.609375 \r\nQ 29.78125 56 35.6875 56 \r\nQ 41.65625 56 45.828125 52.96875 \r\nQ 50 49.953125 52 44.1875 \r\nz\r\n\" id=\"DejaVuSans-109\"/>\r\n       <path d=\"M 18.3125 70.21875 \r\nL 18.3125 54.6875 \r\nL 36.8125 54.6875 \r\nL 36.8125 47.703125 \r\nL 18.3125 47.703125 \r\nL 18.3125 18.015625 \r\nQ 18.3125 11.328125 20.140625 9.421875 \r\nQ 21.96875 7.515625 27.59375 7.515625 \r\nL 36.8125 7.515625 \r\nL 36.8125 0 \r\nL 27.59375 0 \r\nQ 17.1875 0 13.234375 3.875 \r\nQ 9.28125 7.765625 9.28125 18.015625 \r\nL 9.28125 47.703125 \r\nL 2.6875 47.703125 \r\nL 2.6875 54.6875 \r\nL 9.28125 54.6875 \r\nL 9.28125 70.21875 \r\nz\r\n\" id=\"DejaVuSans-116\"/>\r\n       <path d=\"M 48.78125 52.59375 \r\nL 48.78125 44.1875 \r\nQ 44.96875 46.296875 41.140625 47.34375 \r\nQ 37.3125 48.390625 33.40625 48.390625 \r\nQ 24.65625 48.390625 19.8125 42.84375 \r\nQ 14.984375 37.3125 14.984375 27.296875 \r\nQ 14.984375 17.28125 19.8125 11.734375 \r\nQ 24.65625 6.203125 33.40625 6.203125 \r\nQ 37.3125 6.203125 41.140625 7.25 \r\nQ 44.96875 8.296875 48.78125 10.40625 \r\nL 48.78125 2.09375 \r\nQ 45.015625 0.34375 40.984375 -0.53125 \r\nQ 36.96875 -1.421875 32.421875 -1.421875 \r\nQ 20.0625 -1.421875 12.78125 6.34375 \r\nQ 5.515625 14.109375 5.515625 27.296875 \r\nQ 5.515625 40.671875 12.859375 48.328125 \r\nQ 20.21875 56 33.015625 56 \r\nQ 37.15625 56 41.109375 55.140625 \r\nQ 45.0625 54.296875 48.78125 52.59375 \r\nz\r\n\" id=\"DejaVuSans-99\"/>\r\n       <path d=\"M 54.890625 33.015625 \r\nL 54.890625 0 \r\nL 45.90625 0 \r\nL 45.90625 32.71875 \r\nQ 45.90625 40.484375 42.875 44.328125 \r\nQ 39.84375 48.1875 33.796875 48.1875 \r\nQ 26.515625 48.1875 22.3125 43.546875 \r\nQ 18.109375 38.921875 18.109375 30.90625 \r\nL 18.109375 0 \r\nL 9.078125 0 \r\nL 9.078125 75.984375 \r\nL 18.109375 75.984375 \r\nL 18.109375 46.1875 \r\nQ 21.34375 51.125 25.703125 53.5625 \r\nQ 30.078125 56 35.796875 56 \r\nQ 45.21875 56 50.046875 50.171875 \r\nQ 54.890625 44.34375 54.890625 33.015625 \r\nz\r\n\" id=\"DejaVuSans-104\"/>\r\n      </defs>\r\n      <g transform=\"translate(288.164844 239.238437)scale(0.1 -0.1)\">\r\n       <use xlink:href=\"#DejaVuSans-109\"/>\r\n       <use x=\"97.412109\" xlink:href=\"#DejaVuSans-97\"/>\r\n       <use x=\"158.691406\" xlink:href=\"#DejaVuSans-116\"/>\r\n       <use x=\"197.900391\" xlink:href=\"#DejaVuSans-99\"/>\r\n       <use x=\"252.880859\" xlink:href=\"#DejaVuSans-104\"/>\r\n       <use x=\"316.259766\" xlink:href=\"#DejaVuSans-95\"/>\r\n       <use x=\"366.259766\" xlink:href=\"#DejaVuSans-115\"/>\r\n       <use x=\"418.359375\" xlink:href=\"#DejaVuSans-111\"/>\r\n       <use x=\"479.541016\" xlink:href=\"#DejaVuSans-108\"/>\r\n       <use x=\"507.324219\" xlink:href=\"#DejaVuSans-97\"/>\r\n       <use x=\"568.603516\" xlink:href=\"#DejaVuSans-114\"/>\r\n      </g>\r\n     </g>\r\n    </g>\r\n   </g>\r\n   <g id=\"matplotlib.axis_2\">\r\n    <g id=\"ytick_1\">\r\n     <g id=\"line2d_4\">\r\n      <defs>\r\n       <path d=\"M 0 0 \r\nL -3.5 0 \r\n\" id=\"meb85ecd9a9\" style=\"stroke:#000000;stroke-width:0.8;\"/>\r\n      </defs>\r\n      <g>\r\n       <use style=\"stroke:#000000;stroke-width:0.8;\" x=\"39.65\" xlink:href=\"#meb85ecd9a9\" y=\"214.756364\"/>\r\n      </g>\r\n     </g>\r\n     <g id=\"text_4\">\r\n      <!-- 0 -->\r\n      <defs>\r\n       <path d=\"M 31.78125 66.40625 \r\nQ 24.171875 66.40625 20.328125 58.90625 \r\nQ 16.5 51.421875 16.5 36.375 \r\nQ 16.5 21.390625 20.328125 13.890625 \r\nQ 24.171875 6.390625 31.78125 6.390625 \r\nQ 39.453125 6.390625 43.28125 13.890625 \r\nQ 47.125 21.390625 47.125 36.375 \r\nQ 47.125 51.421875 43.28125 58.90625 \r\nQ 39.453125 66.40625 31.78125 66.40625 \r\nz\r\nM 31.78125 74.21875 \r\nQ 44.046875 74.21875 50.515625 64.515625 \r\nQ 56.984375 54.828125 56.984375 36.375 \r\nQ 56.984375 17.96875 50.515625 8.265625 \r\nQ 44.046875 -1.421875 31.78125 -1.421875 \r\nQ 19.53125 -1.421875 13.0625 8.265625 \r\nQ 6.59375 17.96875 6.59375 36.375 \r\nQ 6.59375 54.828125 13.0625 64.515625 \r\nQ 19.53125 74.21875 31.78125 74.21875 \r\nz\r\n\" id=\"DejaVuSans-48\"/>\r\n      </defs>\r\n      <g transform=\"translate(26.2875 218.555582)scale(0.1 -0.1)\">\r\n       <use xlink:href=\"#DejaVuSans-48\"/>\r\n      </g>\r\n     </g>\r\n    </g>\r\n    <g id=\"ytick_2\">\r\n     <g id=\"line2d_5\">\r\n      <g>\r\n       <use style=\"stroke:#000000;stroke-width:0.8;\" x=\"39.65\" xlink:href=\"#meb85ecd9a9\" y=\"177.167064\"/>\r\n      </g>\r\n     </g>\r\n     <g id=\"text_5\">\r\n      <!-- 200 -->\r\n      <defs>\r\n       <path d=\"M 19.1875 8.296875 \r\nL 53.609375 8.296875 \r\nL 53.609375 0 \r\nL 7.328125 0 \r\nL 7.328125 8.296875 \r\nQ 12.9375 14.109375 22.625 23.890625 \r\nQ 32.328125 33.6875 34.8125 36.53125 \r\nQ 39.546875 41.84375 41.421875 45.53125 \r\nQ 43.3125 49.21875 43.3125 52.78125 \r\nQ 43.3125 58.59375 39.234375 62.25 \r\nQ 35.15625 65.921875 28.609375 65.921875 \r\nQ 23.96875 65.921875 18.8125 64.3125 \r\nQ 13.671875 62.703125 7.8125 59.421875 \r\nL 7.8125 69.390625 \r\nQ 13.765625 71.78125 18.9375 73 \r\nQ 24.125 74.21875 28.421875 74.21875 \r\nQ 39.75 74.21875 46.484375 68.546875 \r\nQ 53.21875 62.890625 53.21875 53.421875 \r\nQ 53.21875 48.921875 51.53125 44.890625 \r\nQ 49.859375 40.875 45.40625 35.40625 \r\nQ 44.1875 33.984375 37.640625 27.21875 \r\nQ 31.109375 20.453125 19.1875 8.296875 \r\nz\r\n\" id=\"DejaVuSans-50\"/>\r\n      </defs>\r\n      <g transform=\"translate(13.5625 180.966283)scale(0.1 -0.1)\">\r\n       <use xlink:href=\"#DejaVuSans-50\"/>\r\n       <use x=\"63.623047\" xlink:href=\"#DejaVuSans-48\"/>\r\n       <use x=\"127.246094\" xlink:href=\"#DejaVuSans-48\"/>\r\n      </g>\r\n     </g>\r\n    </g>\r\n    <g id=\"ytick_3\">\r\n     <g id=\"line2d_6\">\r\n      <g>\r\n       <use style=\"stroke:#000000;stroke-width:0.8;\" x=\"39.65\" xlink:href=\"#meb85ecd9a9\" y=\"139.577765\"/>\r\n      </g>\r\n     </g>\r\n     <g id=\"text_6\">\r\n      <!-- 400 -->\r\n      <defs>\r\n       <path d=\"M 37.796875 64.3125 \r\nL 12.890625 25.390625 \r\nL 37.796875 25.390625 \r\nz\r\nM 35.203125 72.90625 \r\nL 47.609375 72.90625 \r\nL 47.609375 25.390625 \r\nL 58.015625 25.390625 \r\nL 58.015625 17.1875 \r\nL 47.609375 17.1875 \r\nL 47.609375 0 \r\nL 37.796875 0 \r\nL 37.796875 17.1875 \r\nL 4.890625 17.1875 \r\nL 4.890625 26.703125 \r\nz\r\n\" id=\"DejaVuSans-52\"/>\r\n      </defs>\r\n      <g transform=\"translate(13.5625 143.376984)scale(0.1 -0.1)\">\r\n       <use xlink:href=\"#DejaVuSans-52\"/>\r\n       <use x=\"63.623047\" xlink:href=\"#DejaVuSans-48\"/>\r\n       <use x=\"127.246094\" xlink:href=\"#DejaVuSans-48\"/>\r\n      </g>\r\n     </g>\r\n    </g>\r\n    <g id=\"ytick_4\">\r\n     <g id=\"line2d_7\">\r\n      <g>\r\n       <use style=\"stroke:#000000;stroke-width:0.8;\" x=\"39.65\" xlink:href=\"#meb85ecd9a9\" y=\"101.988466\"/>\r\n      </g>\r\n     </g>\r\n     <g id=\"text_7\">\r\n      <!-- 600 -->\r\n      <defs>\r\n       <path d=\"M 33.015625 40.375 \r\nQ 26.375 40.375 22.484375 35.828125 \r\nQ 18.609375 31.296875 18.609375 23.390625 \r\nQ 18.609375 15.53125 22.484375 10.953125 \r\nQ 26.375 6.390625 33.015625 6.390625 \r\nQ 39.65625 6.390625 43.53125 10.953125 \r\nQ 47.40625 15.53125 47.40625 23.390625 \r\nQ 47.40625 31.296875 43.53125 35.828125 \r\nQ 39.65625 40.375 33.015625 40.375 \r\nz\r\nM 52.59375 71.296875 \r\nL 52.59375 62.3125 \r\nQ 48.875 64.0625 45.09375 64.984375 \r\nQ 41.3125 65.921875 37.59375 65.921875 \r\nQ 27.828125 65.921875 22.671875 59.328125 \r\nQ 17.53125 52.734375 16.796875 39.40625 \r\nQ 19.671875 43.65625 24.015625 45.921875 \r\nQ 28.375 48.1875 33.59375 48.1875 \r\nQ 44.578125 48.1875 50.953125 41.515625 \r\nQ 57.328125 34.859375 57.328125 23.390625 \r\nQ 57.328125 12.15625 50.6875 5.359375 \r\nQ 44.046875 -1.421875 33.015625 -1.421875 \r\nQ 20.359375 -1.421875 13.671875 8.265625 \r\nQ 6.984375 17.96875 6.984375 36.375 \r\nQ 6.984375 53.65625 15.1875 63.9375 \r\nQ 23.390625 74.21875 37.203125 74.21875 \r\nQ 40.921875 74.21875 44.703125 73.484375 \r\nQ 48.484375 72.75 52.59375 71.296875 \r\nz\r\n\" id=\"DejaVuSans-54\"/>\r\n      </defs>\r\n      <g transform=\"translate(13.5625 105.787685)scale(0.1 -0.1)\">\r\n       <use xlink:href=\"#DejaVuSans-54\"/>\r\n       <use x=\"63.623047\" xlink:href=\"#DejaVuSans-48\"/>\r\n       <use x=\"127.246094\" xlink:href=\"#DejaVuSans-48\"/>\r\n      </g>\r\n     </g>\r\n    </g>\r\n    <g id=\"ytick_5\">\r\n     <g id=\"line2d_8\">\r\n      <g>\r\n       <use style=\"stroke:#000000;stroke-width:0.8;\" x=\"39.65\" xlink:href=\"#meb85ecd9a9\" y=\"64.399167\"/>\r\n      </g>\r\n     </g>\r\n     <g id=\"text_8\">\r\n      <!-- 800 -->\r\n      <defs>\r\n       <path d=\"M 31.78125 34.625 \r\nQ 24.75 34.625 20.71875 30.859375 \r\nQ 16.703125 27.09375 16.703125 20.515625 \r\nQ 16.703125 13.921875 20.71875 10.15625 \r\nQ 24.75 6.390625 31.78125 6.390625 \r\nQ 38.8125 6.390625 42.859375 10.171875 \r\nQ 46.921875 13.96875 46.921875 20.515625 \r\nQ 46.921875 27.09375 42.890625 30.859375 \r\nQ 38.875 34.625 31.78125 34.625 \r\nz\r\nM 21.921875 38.8125 \r\nQ 15.578125 40.375 12.03125 44.71875 \r\nQ 8.5 49.078125 8.5 55.328125 \r\nQ 8.5 64.0625 14.71875 69.140625 \r\nQ 20.953125 74.21875 31.78125 74.21875 \r\nQ 42.671875 74.21875 48.875 69.140625 \r\nQ 55.078125 64.0625 55.078125 55.328125 \r\nQ 55.078125 49.078125 51.53125 44.71875 \r\nQ 48 40.375 41.703125 38.8125 \r\nQ 48.828125 37.15625 52.796875 32.3125 \r\nQ 56.78125 27.484375 56.78125 20.515625 \r\nQ 56.78125 9.90625 50.3125 4.234375 \r\nQ 43.84375 -1.421875 31.78125 -1.421875 \r\nQ 19.734375 -1.421875 13.25 4.234375 \r\nQ 6.78125 9.90625 6.78125 20.515625 \r\nQ 6.78125 27.484375 10.78125 32.3125 \r\nQ 14.796875 37.15625 21.921875 38.8125 \r\nz\r\nM 18.3125 54.390625 \r\nQ 18.3125 48.734375 21.84375 45.5625 \r\nQ 25.390625 42.390625 31.78125 42.390625 \r\nQ 38.140625 42.390625 41.71875 45.5625 \r\nQ 45.3125 48.734375 45.3125 54.390625 \r\nQ 45.3125 60.0625 41.71875 63.234375 \r\nQ 38.140625 66.40625 31.78125 66.40625 \r\nQ 25.390625 66.40625 21.84375 63.234375 \r\nQ 18.3125 60.0625 18.3125 54.390625 \r\nz\r\n\" id=\"DejaVuSans-56\"/>\r\n      </defs>\r\n      <g transform=\"translate(13.5625 68.198386)scale(0.1 -0.1)\">\r\n       <use xlink:href=\"#DejaVuSans-56\"/>\r\n       <use x=\"63.623047\" xlink:href=\"#DejaVuSans-48\"/>\r\n       <use x=\"127.246094\" xlink:href=\"#DejaVuSans-48\"/>\r\n      </g>\r\n     </g>\r\n    </g>\r\n    <g id=\"ytick_6\">\r\n     <g id=\"line2d_9\">\r\n      <g>\r\n       <use style=\"stroke:#000000;stroke-width:0.8;\" x=\"39.65\" xlink:href=\"#meb85ecd9a9\" y=\"26.809868\"/>\r\n      </g>\r\n     </g>\r\n     <g id=\"text_9\">\r\n      <!-- 1000 -->\r\n      <defs>\r\n       <path d=\"M 12.40625 8.296875 \r\nL 28.515625 8.296875 \r\nL 28.515625 63.921875 \r\nL 10.984375 60.40625 \r\nL 10.984375 69.390625 \r\nL 28.421875 72.90625 \r\nL 38.28125 72.90625 \r\nL 38.28125 8.296875 \r\nL 54.390625 8.296875 \r\nL 54.390625 0 \r\nL 12.40625 0 \r\nz\r\n\" id=\"DejaVuSans-49\"/>\r\n      </defs>\r\n      <g transform=\"translate(7.2 30.609086)scale(0.1 -0.1)\">\r\n       <use xlink:href=\"#DejaVuSans-49\"/>\r\n       <use x=\"63.623047\" xlink:href=\"#DejaVuSans-48\"/>\r\n       <use x=\"127.246094\" xlink:href=\"#DejaVuSans-48\"/>\r\n       <use x=\"190.869141\" xlink:href=\"#DejaVuSans-48\"/>\r\n      </g>\r\n     </g>\r\n    </g>\r\n   </g>\r\n   <g id=\"line2d_10\">\r\n    <path clip-path=\"url(#p48d2d8a7b6)\" d=\"M 95.45 180.775413 \r\nL 95.45 214.458782 \r\n\" style=\"fill:none;stroke:#3d3d3d;stroke-linecap:square;stroke-width:1.5;\"/>\r\n   </g>\r\n   <g id=\"line2d_11\">\r\n    <path clip-path=\"url(#p48d2d8a7b6)\" d=\"M 95.45 74.236376 \r\nL 95.45 19.996807 \r\n\" style=\"fill:none;stroke:#3d3d3d;stroke-linecap:square;stroke-width:1.5;\"/>\r\n   </g>\r\n   <g id=\"line2d_12\">\r\n    <path clip-path=\"url(#p48d2d8a7b6)\" d=\"M 73.13 214.458782 \r\nL 117.77 214.458782 \r\n\" style=\"fill:none;stroke:#3d3d3d;stroke-linecap:square;stroke-width:1.5;\"/>\r\n   </g>\r\n   <g id=\"line2d_13\">\r\n    <path clip-path=\"url(#p48d2d8a7b6)\" d=\"M 73.13 19.996807 \r\nL 117.77 19.996807 \r\n\" style=\"fill:none;stroke:#3d3d3d;stroke-linecap:square;stroke-width:1.5;\"/>\r\n   </g>\r\n   <g id=\"line2d_14\"/>\r\n   <g id=\"line2d_15\">\r\n    <path clip-path=\"url(#p48d2d8a7b6)\" d=\"M 207.05 183.209272 \r\nL 207.05 214.521431 \r\n\" style=\"fill:none;stroke:#3d3d3d;stroke-linecap:square;stroke-width:1.5;\"/>\r\n   </g>\r\n   <g id=\"line2d_16\">\r\n    <path clip-path=\"url(#p48d2d8a7b6)\" d=\"M 207.05 73.835054 \r\nL 207.05 17.083636 \r\n\" style=\"fill:none;stroke:#3d3d3d;stroke-linecap:square;stroke-width:1.5;\"/>\r\n   </g>\r\n   <g id=\"line2d_17\">\r\n    <path clip-path=\"url(#p48d2d8a7b6)\" d=\"M 184.73 214.521431 \r\nL 229.37 214.521431 \r\n\" style=\"fill:none;stroke:#3d3d3d;stroke-linecap:square;stroke-width:1.5;\"/>\r\n   </g>\r\n   <g id=\"line2d_18\">\r\n    <path clip-path=\"url(#p48d2d8a7b6)\" d=\"M 184.73 17.083636 \r\nL 229.37 17.083636 \r\n\" style=\"fill:none;stroke:#3d3d3d;stroke-linecap:square;stroke-width:1.5;\"/>\r\n   </g>\r\n   <g id=\"line2d_19\"/>\r\n   <g id=\"line2d_20\">\r\n    <path clip-path=\"url(#p48d2d8a7b6)\" d=\"M 318.65 175.731362 \r\nL 318.65 214.756364 \r\n\" style=\"fill:none;stroke:#3d3d3d;stroke-linecap:square;stroke-width:1.5;\"/>\r\n   </g>\r\n   <g id=\"line2d_21\">\r\n    <path clip-path=\"url(#p48d2d8a7b6)\" d=\"M 318.65 72.230271 \r\nL 318.65 21.067058 \r\n\" style=\"fill:none;stroke:#3d3d3d;stroke-linecap:square;stroke-width:1.5;\"/>\r\n   </g>\r\n   <g id=\"line2d_22\">\r\n    <path clip-path=\"url(#p48d2d8a7b6)\" d=\"M 296.33 214.756364 \r\nL 340.97 214.756364 \r\n\" style=\"fill:none;stroke:#3d3d3d;stroke-linecap:square;stroke-width:1.5;\"/>\r\n   </g>\r\n   <g id=\"line2d_23\">\r\n    <path clip-path=\"url(#p48d2d8a7b6)\" d=\"M 296.33 21.067058 \r\nL 340.97 21.067058 \r\n\" style=\"fill:none;stroke:#3d3d3d;stroke-linecap:square;stroke-width:1.5;\"/>\r\n   </g>\r\n   <g id=\"line2d_24\"/>\r\n   <g id=\"line2d_25\">\r\n    <path clip-path=\"url(#p48d2d8a7b6)\" d=\"M 50.81 130.064316 \r\nL 140.09 130.064316 \r\n\" style=\"fill:none;stroke:#3d3d3d;stroke-linecap:square;stroke-width:1.5;\"/>\r\n   </g>\r\n   <g id=\"line2d_26\">\r\n    <path clip-path=\"url(#p48d2d8a7b6)\" d=\"M 162.41 131.915541 \r\nL 251.69 131.915541 \r\n\" style=\"fill:none;stroke:#3d3d3d;stroke-linecap:square;stroke-width:1.5;\"/>\r\n   </g>\r\n   <g id=\"line2d_27\">\r\n    <path clip-path=\"url(#p48d2d8a7b6)\" d=\"M 274.01 124.437631 \r\nL 363.29 124.437631 \r\n\" style=\"fill:none;stroke:#3d3d3d;stroke-linecap:square;stroke-width:1.5;\"/>\r\n   </g>\r\n   <g id=\"patch_6\">\r\n    <path d=\"M 39.65 224.64 \r\nL 39.65 7.2 \r\n\" style=\"fill:none;stroke:#000000;stroke-linecap:square;stroke-linejoin:miter;stroke-width:0.8;\"/>\r\n   </g>\r\n   <g id=\"patch_7\">\r\n    <path d=\"M 374.45 224.64 \r\nL 374.45 7.2 \r\n\" style=\"fill:none;stroke:#000000;stroke-linecap:square;stroke-linejoin:miter;stroke-width:0.8;\"/>\r\n   </g>\r\n   <g id=\"patch_8\">\r\n    <path d=\"M 39.65 224.64 \r\nL 374.45 224.64 \r\n\" style=\"fill:none;stroke:#000000;stroke-linecap:square;stroke-linejoin:miter;stroke-width:0.8;\"/>\r\n   </g>\r\n   <g id=\"patch_9\">\r\n    <path d=\"M 39.65 7.2 \r\nL 374.45 7.2 \r\n\" style=\"fill:none;stroke:#000000;stroke-linecap:square;stroke-linejoin:miter;stroke-width:0.8;\"/>\r\n   </g>\r\n  </g>\r\n </g>\r\n <defs>\r\n  <clipPath id=\"p48d2d8a7b6\">\r\n   <rect height=\"217.44\" width=\"334.8\" x=\"39.65\" y=\"7.2\"/>\r\n  </clipPath>\r\n </defs>\r\n</svg>\r\n",
      "image/png": "[encoded data removed]"
     },
     "metadata": {
      "needs_background": "light"
     }
    }
   ],
   "source": [
    "sns.boxplot(data = join_ent_other_del[[\"env_slopesolar\", \"env_levelsolar\", \"match_solar\"]])"
   ]
  },
  {
   "cell_type": "code",
   "execution_count": null,
   "metadata": {},
   "outputs": [],
   "source": []
  }
 ]
}