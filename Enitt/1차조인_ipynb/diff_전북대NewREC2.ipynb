{
 "metadata": {
  "language_info": {
   "codemirror_mode": {
    "name": "ipython",
    "version": 3
   },
   "file_extension": ".py",
   "mimetype": "text/x-python",
   "name": "python",
   "nbconvert_exporter": "python",
   "pygments_lexer": "ipython3",
   "version": "3.7.6-final"
  },
  "orig_nbformat": 2,
  "kernelspec": {
   "name": "python3",
   "display_name": "Python 3"
  }
 },
 "nbformat": 4,
 "nbformat_minor": 2,
 "cells": [
  {
   "cell_type": "code",
   "execution_count": 1,
   "metadata": {},
   "outputs": [
    {
     "output_type": "execute_result",
     "data": {
      "text/plain": [
       "'c:\\\\Users\\\\seong\\\\Desktop\\\\Enittproj\\\\Enitt'"
      ]
     },
     "metadata": {},
     "execution_count": 1
    }
   ],
   "source": [
    "import pandas as pd \n",
    "import numpy as np \n",
    "import matplotlib.pyplot as plt\n",
    "import plotly\n",
    "import plotly.graph_objs as go # 그래프 객체 생성\n",
    "from plotly.subplots import make_subplots\n",
    "import datetime\n",
    "import seaborn as sns \n",
    "import scipy.stats\n",
    "import plotly.express as px\n",
    "import os \n",
    "from scipy import stats\n",
    "from sklearn import metrics\n",
    "import statsmodels.formula.api as smf\n",
    "import scipy.stats as st\n",
    "import pylab\n",
    "import csv\n",
    "\n",
    "os.getcwd()"
   ]
  },
  {
   "cell_type": "code",
   "execution_count": 2,
   "metadata": {},
   "outputs": [
    {
     "output_type": "execute_result",
     "data": {
      "text/plain": [
       "        env_index    env_date  env_time  env_slopesolar  env_levelsolar  \\\n",
       "0               1  2018-11-19  15:13:12             289             443   \n",
       "1               2  2018-11-19  15:14:04             288             441   \n",
       "2               3  2018-11-19  15:14:56             284             436   \n",
       "3               4  2018-11-19  15:15:48             282             432   \n",
       "4               5  2018-11-19  15:16:40             281             431   \n",
       "...           ...         ...       ...             ...             ...   \n",
       "723073     723074  2020-10-22  23:33:48               0               0   \n",
       "723074     723075  2020-10-22  23:34:46               0               0   \n",
       "723075     723076  2020-10-22  23:35:43               0               0   \n",
       "723076     723077  2020-10-22  23:36:41               0               0   \n",
       "723077     723078  2020-10-22  23:37:39               0               0   \n",
       "\n",
       "        env_modtemp  env_airtemp  \n",
       "0              21.2         14.6  \n",
       "1              21.2         14.8  \n",
       "2              21.2         14.8  \n",
       "3              21.2         14.9  \n",
       "4              20.8         14.9  \n",
       "...             ...          ...  \n",
       "723073         10.3         11.3  \n",
       "723074         10.3         11.4  \n",
       "723075         10.3         11.4  \n",
       "723076         10.4         11.4  \n",
       "723077         10.4         11.4  \n",
       "\n",
       "[723078 rows x 7 columns]"
      ],
      "text/html": "<div>\n<style scoped>\n    .dataframe tbody tr th:only-of-type {\n        vertical-align: middle;\n    }\n\n    .dataframe tbody tr th {\n        vertical-align: top;\n    }\n\n    .dataframe thead th {\n        text-align: right;\n    }\n</style>\n<table border=\"1\" class=\"dataframe\">\n  <thead>\n    <tr style=\"text-align: right;\">\n      <th></th>\n      <th>env_index</th>\n      <th>env_date</th>\n      <th>env_time</th>\n      <th>env_slopesolar</th>\n      <th>env_levelsolar</th>\n      <th>env_modtemp</th>\n      <th>env_airtemp</th>\n    </tr>\n  </thead>\n  <tbody>\n    <tr>\n      <th>0</th>\n      <td>1</td>\n      <td>2018-11-19</td>\n      <td>15:13:12</td>\n      <td>289</td>\n      <td>443</td>\n      <td>21.2</td>\n      <td>14.6</td>\n    </tr>\n    <tr>\n      <th>1</th>\n      <td>2</td>\n      <td>2018-11-19</td>\n      <td>15:14:04</td>\n      <td>288</td>\n      <td>441</td>\n      <td>21.2</td>\n      <td>14.8</td>\n    </tr>\n    <tr>\n      <th>2</th>\n      <td>3</td>\n      <td>2018-11-19</td>\n      <td>15:14:56</td>\n      <td>284</td>\n      <td>436</td>\n      <td>21.2</td>\n      <td>14.8</td>\n    </tr>\n    <tr>\n      <th>3</th>\n      <td>4</td>\n      <td>2018-11-19</td>\n      <td>15:15:48</td>\n      <td>282</td>\n      <td>432</td>\n      <td>21.2</td>\n      <td>14.9</td>\n    </tr>\n    <tr>\n      <th>4</th>\n      <td>5</td>\n      <td>2018-11-19</td>\n      <td>15:16:40</td>\n      <td>281</td>\n      <td>431</td>\n      <td>20.8</td>\n      <td>14.9</td>\n    </tr>\n    <tr>\n      <th>...</th>\n      <td>...</td>\n      <td>...</td>\n      <td>...</td>\n      <td>...</td>\n      <td>...</td>\n      <td>...</td>\n      <td>...</td>\n    </tr>\n    <tr>\n      <th>723073</th>\n      <td>723074</td>\n      <td>2020-10-22</td>\n      <td>23:33:48</td>\n      <td>0</td>\n      <td>0</td>\n      <td>10.3</td>\n      <td>11.3</td>\n    </tr>\n    <tr>\n      <th>723074</th>\n      <td>723075</td>\n      <td>2020-10-22</td>\n      <td>23:34:46</td>\n      <td>0</td>\n      <td>0</td>\n      <td>10.3</td>\n      <td>11.4</td>\n    </tr>\n    <tr>\n      <th>723075</th>\n      <td>723076</td>\n      <td>2020-10-22</td>\n      <td>23:35:43</td>\n      <td>0</td>\n      <td>0</td>\n      <td>10.3</td>\n      <td>11.4</td>\n    </tr>\n    <tr>\n      <th>723076</th>\n      <td>723077</td>\n      <td>2020-10-22</td>\n      <td>23:36:41</td>\n      <td>0</td>\n      <td>0</td>\n      <td>10.4</td>\n      <td>11.4</td>\n    </tr>\n    <tr>\n      <th>723077</th>\n      <td>723078</td>\n      <td>2020-10-22</td>\n      <td>23:37:39</td>\n      <td>0</td>\n      <td>0</td>\n      <td>10.4</td>\n      <td>11.4</td>\n    </tr>\n  </tbody>\n</table>\n<p>723078 rows × 7 columns</p>\n</div>"
     },
     "metadata": {},
     "execution_count": 2
    }
   ],
   "source": [
    "## merge 1, 2 데이터\n",
    "data1 = pd.read_csv(\"./ENITT_SOLAR_DATA/ENITT_SOLAR_DATA/A463. 전북대 New REC 발전량.csv\", encoding=\"ms949\")\n",
    "data2 = pd.read_csv(\"./ENITT_SOLAR_DATA/ENITT_SOLAR_DATA/463. 전북대NewREC 발전량.csv\", encoding=\"ms949\")\n",
    "data3 = pd.read_csv(\"./ENITT_SOLAR_DATA/ENITT_SOLAR_DATA/A463. 전북대 New REC 환경센서.csv\", encoding=\"ms949\")\n",
    "data4 = pd.read_csv(\"./ENITT_SOLAR_DATA/ENITT_SOLAR_DATA/463. 전북대NewREC 환경정보.csv\", encoding=\"ms949\")\n",
    "\n",
    "\n",
    "\n",
    "data_12 = pd.concat([data2, data1])\n",
    "data_34 = pd.concat([data4, data3])\n",
    "ent_data_solar = data_12.reset_index().drop('index', axis=1)\n",
    "ent_data_solar\n",
    "\n",
    "ent_data_weather = data_34.reset_index().drop('index', axis=1)\n",
    "ent_data_weather"
   ]
  },
  {
   "cell_type": "code",
   "execution_count": 3,
   "metadata": {},
   "outputs": [
    {
     "output_type": "execute_result",
     "data": {
      "text/plain": [
       "        env_index    env_date  env_time  env_slopesolar  env_levelsolar  \\\n",
       "0               1  2018-11-19  15:13:12             289             443   \n",
       "1               2  2018-11-19  15:14:04             288             441   \n",
       "2               3  2018-11-19  15:14:56             284             436   \n",
       "3               4  2018-11-19  15:15:48             282             432   \n",
       "4               5  2018-11-19  15:16:40             281             431   \n",
       "...           ...         ...       ...             ...             ...   \n",
       "723073     723074  2020-10-22  23:33:48               0               0   \n",
       "723074     723075  2020-10-22  23:34:46               0               0   \n",
       "723075     723076  2020-10-22  23:35:43               0               0   \n",
       "723076     723077  2020-10-22  23:36:41               0               0   \n",
       "723077     723078  2020-10-22  23:37:39               0               0   \n",
       "\n",
       "        env_modtemp  env_airtemp  \n",
       "0              21.2         14.6  \n",
       "1              21.2         14.8  \n",
       "2              21.2         14.8  \n",
       "3              21.2         14.9  \n",
       "4              20.8         14.9  \n",
       "...             ...          ...  \n",
       "723073         10.3         11.3  \n",
       "723074         10.3         11.4  \n",
       "723075         10.3         11.4  \n",
       "723076         10.4         11.4  \n",
       "723077         10.4         11.4  \n",
       "\n",
       "[723078 rows x 7 columns]"
      ],
      "text/html": "<div>\n<style scoped>\n    .dataframe tbody tr th:only-of-type {\n        vertical-align: middle;\n    }\n\n    .dataframe tbody tr th {\n        vertical-align: top;\n    }\n\n    .dataframe thead th {\n        text-align: right;\n    }\n</style>\n<table border=\"1\" class=\"dataframe\">\n  <thead>\n    <tr style=\"text-align: right;\">\n      <th></th>\n      <th>env_index</th>\n      <th>env_date</th>\n      <th>env_time</th>\n      <th>env_slopesolar</th>\n      <th>env_levelsolar</th>\n      <th>env_modtemp</th>\n      <th>env_airtemp</th>\n    </tr>\n  </thead>\n  <tbody>\n    <tr>\n      <th>0</th>\n      <td>1</td>\n      <td>2018-11-19</td>\n      <td>15:13:12</td>\n      <td>289</td>\n      <td>443</td>\n      <td>21.2</td>\n      <td>14.6</td>\n    </tr>\n    <tr>\n      <th>1</th>\n      <td>2</td>\n      <td>2018-11-19</td>\n      <td>15:14:04</td>\n      <td>288</td>\n      <td>441</td>\n      <td>21.2</td>\n      <td>14.8</td>\n    </tr>\n    <tr>\n      <th>2</th>\n      <td>3</td>\n      <td>2018-11-19</td>\n      <td>15:14:56</td>\n      <td>284</td>\n      <td>436</td>\n      <td>21.2</td>\n      <td>14.8</td>\n    </tr>\n    <tr>\n      <th>3</th>\n      <td>4</td>\n      <td>2018-11-19</td>\n      <td>15:15:48</td>\n      <td>282</td>\n      <td>432</td>\n      <td>21.2</td>\n      <td>14.9</td>\n    </tr>\n    <tr>\n      <th>4</th>\n      <td>5</td>\n      <td>2018-11-19</td>\n      <td>15:16:40</td>\n      <td>281</td>\n      <td>431</td>\n      <td>20.8</td>\n      <td>14.9</td>\n    </tr>\n    <tr>\n      <th>...</th>\n      <td>...</td>\n      <td>...</td>\n      <td>...</td>\n      <td>...</td>\n      <td>...</td>\n      <td>...</td>\n      <td>...</td>\n    </tr>\n    <tr>\n      <th>723073</th>\n      <td>723074</td>\n      <td>2020-10-22</td>\n      <td>23:33:48</td>\n      <td>0</td>\n      <td>0</td>\n      <td>10.3</td>\n      <td>11.3</td>\n    </tr>\n    <tr>\n      <th>723074</th>\n      <td>723075</td>\n      <td>2020-10-22</td>\n      <td>23:34:46</td>\n      <td>0</td>\n      <td>0</td>\n      <td>10.3</td>\n      <td>11.4</td>\n    </tr>\n    <tr>\n      <th>723075</th>\n      <td>723076</td>\n      <td>2020-10-22</td>\n      <td>23:35:43</td>\n      <td>0</td>\n      <td>0</td>\n      <td>10.3</td>\n      <td>11.4</td>\n    </tr>\n    <tr>\n      <th>723076</th>\n      <td>723077</td>\n      <td>2020-10-22</td>\n      <td>23:36:41</td>\n      <td>0</td>\n      <td>0</td>\n      <td>10.4</td>\n      <td>11.4</td>\n    </tr>\n    <tr>\n      <th>723077</th>\n      <td>723078</td>\n      <td>2020-10-22</td>\n      <td>23:37:39</td>\n      <td>0</td>\n      <td>0</td>\n      <td>10.4</td>\n      <td>11.4</td>\n    </tr>\n  </tbody>\n</table>\n<p>723078 rows × 7 columns</p>\n</div>"
     },
     "metadata": {},
     "execution_count": 3
    }
   ],
   "source": [
    "## 파일불러오기 ( 추가데이터 포함되어 있는 것은 제외 )\n",
    "# def ent_loadfile(solar_path, weather_path):\n",
    "#     ent_data_solar = pd.read_csv(solar_path)\n",
    "#     ent_data_weather = pd.read_csv(weather_path)\n",
    "\n",
    "#     return ent_data_solar, ent_data_weather\n",
    "\n",
    "\n",
    "# ent_data_solar, ent_data_weather = ent_loadfile(\n",
    "#     \"./ENITT_SOLAR_DATA/ENITT_SOLAR_DATA/A365. 반포써밋2블럭 발전량.csv\", \n",
    "#     \"./ENITT_SOLAR_DATA/ENITT_SOLAR_DATA/A365. 반포써밋2블럭 환경센서.csv\")\n",
    "\n",
    "# ent_data_solar[\"pow_date\"].unique() ## 약 2018-11-26~ 2020-03-02 \n",
    "# ent_data_weather[\"env_date\"].unique() ## 약 2018-11-26 ~ 2020-03-03  \n",
    "\n",
    "# -> low data인 환경정보로 정리 필요 // \n",
    "\n",
    "## 외부데이터 불러오기 \n",
    "def other_loadfile(a, b, c): ## 임의로 수정 필요 \n",
    "    other_data_dummy1 = pd.read_csv(a, encoding=\"ms949\")\n",
    "    other_data_dummy2 = pd.read_csv(b, encoding=\"ms949\")\n",
    "    other_data_dummy3 = pd.read_csv(c, encoding=\"ms949\")\n",
    "\n",
    "    return other_data_dummy1, other_data_dummy2, other_data_dummy3\n",
    "\n",
    "other_data_dummy1, other_data_dummy2, other_data_dummy3 = other_loadfile(\n",
    "    \"./ENITT_SOLAR_DATA/re_allweather/allweather2018.csv\",\n",
    "    \"./ENITT_SOLAR_DATA/re_allweather/allweather2019.csv\",\n",
    "    \"./ENITT_SOLAR_DATA/re_allweather/allweather2020.csv\")\n",
    "\n",
    "\n",
    "other_data_dummyall = other_data_dummy1.merge(other_data_dummy2, how=\"outer\").merge(other_data_dummy3, how=\"outer\")\n",
    "other_data_weather = other_data_dummyall[other_data_dummyall[\"지점명\"] == \"목포\"]\n",
    "other_data_weather[\"지점명\"].unique()\n",
    "\n",
    "other_data_dummy1 = pd.read_csv(\"./ENITT_SOLAR_DATA/otherdata/otherdata.csv\", encoding=\"ms949\")\n",
    "other_data_solar = other_data_dummy1[other_data_dummy1[\"발전기명\"] == \"안산연성정수장태양광\"]\n",
    "other_data_solar[\"발전기명\"].unique()\n",
    "# 2019-06-16 13:00\n",
    "# ent_data_weather.loc[ent_data_weather[\"env_date\"] == \"2019-06-16\"]\n",
    "\n",
    "# print()\n",
    "ent_data_solar1 = ent_data_solar[ent_data_solar[\"pow_id\"] == 2]\n",
    "ent_data_weather\n"
   ]
  },
  {
   "cell_type": "code",
   "execution_count": 4,
   "metadata": {},
   "outputs": [
    {
     "output_type": "execute_result",
     "data": {
      "text/plain": [
       "                    기온  강수량   풍속     풍향    습도   일조   일사   적설   전운량  지중온도\n",
       "일시                                                                      \n",
       "2018-01-01 00:00   2.3  0.0  1.7  340.0  84.0  0.0  0.0  0.0   8.0   5.2\n",
       "2018-01-01 01:00   2.3  0.0  2.4   20.0  89.0  0.0  0.0  0.0   0.0   5.1\n",
       "2018-01-01 02:00   1.9  0.0  1.8   20.0  79.0  0.0  0.0  0.0   0.0   5.0\n",
       "2018-01-01 03:00   1.6  0.0  2.1   20.0  82.0  0.0  0.0  0.0   5.0   4.9\n",
       "2018-01-01 04:00   1.4  0.0  1.9   20.0  78.0  0.0  0.0  0.0   7.0   4.8\n",
       "...                ...  ...  ...    ...   ...  ...  ...  ...   ...   ...\n",
       "2020-10-31 19:00  15.9  0.0  2.7  180.0  60.0  0.0  0.0  0.0  10.0  16.3\n",
       "2020-10-31 20:00  14.8  0.0  2.4  160.0  64.0  0.0  0.0  0.0   4.0  16.1\n",
       "2020-10-31 21:00  14.0  0.0  3.3  140.0  66.0  0.0  0.0  0.0   6.0  15.8\n",
       "2020-10-31 22:00  14.0  0.0  3.0  160.0  63.0  0.0  0.0  0.0   9.0  15.6\n",
       "2020-10-31 23:00  13.6  0.0  3.3  140.0  64.0  0.0  0.0  0.0   9.0  15.5\n",
       "\n",
       "[24838 rows x 10 columns]"
      ],
      "text/html": "<div>\n<style scoped>\n    .dataframe tbody tr th:only-of-type {\n        vertical-align: middle;\n    }\n\n    .dataframe tbody tr th {\n        vertical-align: top;\n    }\n\n    .dataframe thead th {\n        text-align: right;\n    }\n</style>\n<table border=\"1\" class=\"dataframe\">\n  <thead>\n    <tr style=\"text-align: right;\">\n      <th></th>\n      <th>기온</th>\n      <th>강수량</th>\n      <th>풍속</th>\n      <th>풍향</th>\n      <th>습도</th>\n      <th>일조</th>\n      <th>일사</th>\n      <th>적설</th>\n      <th>전운량</th>\n      <th>지중온도</th>\n    </tr>\n    <tr>\n      <th>일시</th>\n      <th></th>\n      <th></th>\n      <th></th>\n      <th></th>\n      <th></th>\n      <th></th>\n      <th></th>\n      <th></th>\n      <th></th>\n      <th></th>\n    </tr>\n  </thead>\n  <tbody>\n    <tr>\n      <th>2018-01-01 00:00</th>\n      <td>2.3</td>\n      <td>0.0</td>\n      <td>1.7</td>\n      <td>340.0</td>\n      <td>84.0</td>\n      <td>0.0</td>\n      <td>0.0</td>\n      <td>0.0</td>\n      <td>8.0</td>\n      <td>5.2</td>\n    </tr>\n    <tr>\n      <th>2018-01-01 01:00</th>\n      <td>2.3</td>\n      <td>0.0</td>\n      <td>2.4</td>\n      <td>20.0</td>\n      <td>89.0</td>\n      <td>0.0</td>\n      <td>0.0</td>\n      <td>0.0</td>\n      <td>0.0</td>\n      <td>5.1</td>\n    </tr>\n    <tr>\n      <th>2018-01-01 02:00</th>\n      <td>1.9</td>\n      <td>0.0</td>\n      <td>1.8</td>\n      <td>20.0</td>\n      <td>79.0</td>\n      <td>0.0</td>\n      <td>0.0</td>\n      <td>0.0</td>\n      <td>0.0</td>\n      <td>5.0</td>\n    </tr>\n    <tr>\n      <th>2018-01-01 03:00</th>\n      <td>1.6</td>\n      <td>0.0</td>\n      <td>2.1</td>\n      <td>20.0</td>\n      <td>82.0</td>\n      <td>0.0</td>\n      <td>0.0</td>\n      <td>0.0</td>\n      <td>5.0</td>\n      <td>4.9</td>\n    </tr>\n    <tr>\n      <th>2018-01-01 04:00</th>\n      <td>1.4</td>\n      <td>0.0</td>\n      <td>1.9</td>\n      <td>20.0</td>\n      <td>78.0</td>\n      <td>0.0</td>\n      <td>0.0</td>\n      <td>0.0</td>\n      <td>7.0</td>\n      <td>4.8</td>\n    </tr>\n    <tr>\n      <th>...</th>\n      <td>...</td>\n      <td>...</td>\n      <td>...</td>\n      <td>...</td>\n      <td>...</td>\n      <td>...</td>\n      <td>...</td>\n      <td>...</td>\n      <td>...</td>\n      <td>...</td>\n    </tr>\n    <tr>\n      <th>2020-10-31 19:00</th>\n      <td>15.9</td>\n      <td>0.0</td>\n      <td>2.7</td>\n      <td>180.0</td>\n      <td>60.0</td>\n      <td>0.0</td>\n      <td>0.0</td>\n      <td>0.0</td>\n      <td>10.0</td>\n      <td>16.3</td>\n    </tr>\n    <tr>\n      <th>2020-10-31 20:00</th>\n      <td>14.8</td>\n      <td>0.0</td>\n      <td>2.4</td>\n      <td>160.0</td>\n      <td>64.0</td>\n      <td>0.0</td>\n      <td>0.0</td>\n      <td>0.0</td>\n      <td>4.0</td>\n      <td>16.1</td>\n    </tr>\n    <tr>\n      <th>2020-10-31 21:00</th>\n      <td>14.0</td>\n      <td>0.0</td>\n      <td>3.3</td>\n      <td>140.0</td>\n      <td>66.0</td>\n      <td>0.0</td>\n      <td>0.0</td>\n      <td>0.0</td>\n      <td>6.0</td>\n      <td>15.8</td>\n    </tr>\n    <tr>\n      <th>2020-10-31 22:00</th>\n      <td>14.0</td>\n      <td>0.0</td>\n      <td>3.0</td>\n      <td>160.0</td>\n      <td>63.0</td>\n      <td>0.0</td>\n      <td>0.0</td>\n      <td>0.0</td>\n      <td>9.0</td>\n      <td>15.6</td>\n    </tr>\n    <tr>\n      <th>2020-10-31 23:00</th>\n      <td>13.6</td>\n      <td>0.0</td>\n      <td>3.3</td>\n      <td>140.0</td>\n      <td>64.0</td>\n      <td>0.0</td>\n      <td>0.0</td>\n      <td>0.0</td>\n      <td>9.0</td>\n      <td>15.5</td>\n    </tr>\n  </tbody>\n</table>\n<p>24838 rows × 10 columns</p>\n</div>"
     },
     "metadata": {},
     "execution_count": 4
    }
   ],
   "source": [
    "## DELETE COLUMN AND EDIT COLUMN\n",
    "\n",
    "## '지점', '지점명', '일시', '기온(°C)', '강수량(mm)', '풍속(m/s)', '풍향(16방위)', '습도(%)','일조(hr)', '일사(MJ/m2)', '적설(cm)', '전운량(10분위)', '10cm 지중온도(°C)'\n",
    "#=>\n",
    "\n",
    "## '기온', '강수량', '풍속', '풍향', '습도', '일조', '일사', '전운량', '지면온도'\n",
    "reset_other_weather = other_data_weather.set_index(\"일시\")\n",
    "reset_other_weather_need = reset_other_weather[['기온(°C)', '강수량(mm)', '풍속(m/s)', '풍향(16방위)', '습도(%)','일조(hr)', '일사(MJ/m2)', '적설(cm)', '전운량(10분위)', '10cm 지중온도(°C)']]\n",
    "reset_other_weather_need.columns = ['기온', '강수량', '풍속', '풍향', '습도', '일조', '일사', '적설', '전운량', '지중온도']\n",
    "reset_other_weather_need.fillna(0, inplace=True)\n",
    "reset_other_weather_need\n",
    "\n"
   ]
  },
  {
   "cell_type": "code",
   "execution_count": 5,
   "metadata": {},
   "outputs": [
    {
     "output_type": "execute_result",
     "data": {
      "text/plain": [
       "                    env_date dummy_time  env_slopesolar  env_levelsolar  \\\n",
       "2018-11-19 15:00  2018-11-19         15      217.800000      342.600000   \n",
       "2018-11-19 16:00  2018-11-19         16       72.434783      114.275362   \n",
       "2018-11-19 17:00  2018-11-19         17        2.000000        2.560606   \n",
       "2018-11-20 09:00  2018-11-20         09      343.594203      521.086957   \n",
       "2018-11-20 10:00  2018-11-20         10      482.628571      700.400000   \n",
       "...                      ...        ...             ...             ...   \n",
       "2019-07-09 15:00  2019-07-09         15      228.029412      249.426471   \n",
       "2019-07-09 16:00  2019-07-09         16      328.477612      351.940299   \n",
       "2019-07-09 17:00  2019-07-09         17      287.544118      334.558824   \n",
       "2019-07-10 09:00  2019-07-10         09      117.088235      126.044118   \n",
       "2019-07-10 10:00  2019-07-10         10       72.690476       78.952381   \n",
       "\n",
       "                  env_modtemp  env_airtemp     pow_dcv   pow_dca         watt  \n",
       "2018-11-19 15:00    18.356000    13.632000  159.400000  6.220000   991.140000  \n",
       "2018-11-19 16:00    11.605797    10.982609  150.292308  1.793846   281.600000  \n",
       "2018-11-19 17:00     6.257576     7.593939  117.342857  0.125714    15.017143  \n",
       "2018-11-20 09:00    14.363768     8.773913  163.304348  8.839130  1442.645652  \n",
       "2018-11-20 10:00    19.031429    10.270000  166.391304  9.286957  1486.908696  \n",
       "...                       ...          ...         ...       ...          ...  \n",
       "2019-07-09 15:00    29.663235    25.710294  150.117647  3.945588   582.639706  \n",
       "2019-07-09 16:00    32.782090    26.310448  157.348485  2.913636   431.663636  \n",
       "2019-07-09 17:00    31.414706    25.722059  159.287879  2.516667   369.843939  \n",
       "2019-07-10 09:00    20.438235    18.377941  148.705882  2.348529   350.195588  \n",
       "2019-07-10 10:00    20.100000    18.471429  146.809524  1.533333   224.961905  \n",
       "\n",
       "[1807 rows x 9 columns]"
      ],
      "text/html": "<div>\n<style scoped>\n    .dataframe tbody tr th:only-of-type {\n        vertical-align: middle;\n    }\n\n    .dataframe tbody tr th {\n        vertical-align: top;\n    }\n\n    .dataframe thead th {\n        text-align: right;\n    }\n</style>\n<table border=\"1\" class=\"dataframe\">\n  <thead>\n    <tr style=\"text-align: right;\">\n      <th></th>\n      <th>env_date</th>\n      <th>dummy_time</th>\n      <th>env_slopesolar</th>\n      <th>env_levelsolar</th>\n      <th>env_modtemp</th>\n      <th>env_airtemp</th>\n      <th>pow_dcv</th>\n      <th>pow_dca</th>\n      <th>watt</th>\n    </tr>\n  </thead>\n  <tbody>\n    <tr>\n      <th>2018-11-19 15:00</th>\n      <td>2018-11-19</td>\n      <td>15</td>\n      <td>217.800000</td>\n      <td>342.600000</td>\n      <td>18.356000</td>\n      <td>13.632000</td>\n      <td>159.400000</td>\n      <td>6.220000</td>\n      <td>991.140000</td>\n    </tr>\n    <tr>\n      <th>2018-11-19 16:00</th>\n      <td>2018-11-19</td>\n      <td>16</td>\n      <td>72.434783</td>\n      <td>114.275362</td>\n      <td>11.605797</td>\n      <td>10.982609</td>\n      <td>150.292308</td>\n      <td>1.793846</td>\n      <td>281.600000</td>\n    </tr>\n    <tr>\n      <th>2018-11-19 17:00</th>\n      <td>2018-11-19</td>\n      <td>17</td>\n      <td>2.000000</td>\n      <td>2.560606</td>\n      <td>6.257576</td>\n      <td>7.593939</td>\n      <td>117.342857</td>\n      <td>0.125714</td>\n      <td>15.017143</td>\n    </tr>\n    <tr>\n      <th>2018-11-20 09:00</th>\n      <td>2018-11-20</td>\n      <td>09</td>\n      <td>343.594203</td>\n      <td>521.086957</td>\n      <td>14.363768</td>\n      <td>8.773913</td>\n      <td>163.304348</td>\n      <td>8.839130</td>\n      <td>1442.645652</td>\n    </tr>\n    <tr>\n      <th>2018-11-20 10:00</th>\n      <td>2018-11-20</td>\n      <td>10</td>\n      <td>482.628571</td>\n      <td>700.400000</td>\n      <td>19.031429</td>\n      <td>10.270000</td>\n      <td>166.391304</td>\n      <td>9.286957</td>\n      <td>1486.908696</td>\n    </tr>\n    <tr>\n      <th>...</th>\n      <td>...</td>\n      <td>...</td>\n      <td>...</td>\n      <td>...</td>\n      <td>...</td>\n      <td>...</td>\n      <td>...</td>\n      <td>...</td>\n      <td>...</td>\n    </tr>\n    <tr>\n      <th>2019-07-09 15:00</th>\n      <td>2019-07-09</td>\n      <td>15</td>\n      <td>228.029412</td>\n      <td>249.426471</td>\n      <td>29.663235</td>\n      <td>25.710294</td>\n      <td>150.117647</td>\n      <td>3.945588</td>\n      <td>582.639706</td>\n    </tr>\n    <tr>\n      <th>2019-07-09 16:00</th>\n      <td>2019-07-09</td>\n      <td>16</td>\n      <td>328.477612</td>\n      <td>351.940299</td>\n      <td>32.782090</td>\n      <td>26.310448</td>\n      <td>157.348485</td>\n      <td>2.913636</td>\n      <td>431.663636</td>\n    </tr>\n    <tr>\n      <th>2019-07-09 17:00</th>\n      <td>2019-07-09</td>\n      <td>17</td>\n      <td>287.544118</td>\n      <td>334.558824</td>\n      <td>31.414706</td>\n      <td>25.722059</td>\n      <td>159.287879</td>\n      <td>2.516667</td>\n      <td>369.843939</td>\n    </tr>\n    <tr>\n      <th>2019-07-10 09:00</th>\n      <td>2019-07-10</td>\n      <td>09</td>\n      <td>117.088235</td>\n      <td>126.044118</td>\n      <td>20.438235</td>\n      <td>18.377941</td>\n      <td>148.705882</td>\n      <td>2.348529</td>\n      <td>350.195588</td>\n    </tr>\n    <tr>\n      <th>2019-07-10 10:00</th>\n      <td>2019-07-10</td>\n      <td>10</td>\n      <td>72.690476</td>\n      <td>78.952381</td>\n      <td>20.100000</td>\n      <td>18.471429</td>\n      <td>146.809524</td>\n      <td>1.533333</td>\n      <td>224.961905</td>\n    </tr>\n  </tbody>\n</table>\n<p>1807 rows × 9 columns</p>\n</div>"
     },
     "metadata": {},
     "execution_count": 5
    }
   ],
   "source": [
    "## 기업 solar weather EDA -> 필요\n",
    "ent_data_weather.columns \n",
    "\n",
    "# ent_data_weather[\"env_levelsolar\"].describe()\n",
    "# ent_data_weather[\"env_slopesolar\"].describe()\n",
    "\n",
    "\n",
    "## 기업 날씨 데이터 1시간 별로 groupby , ( slopesolar, levelsolar => sum) , ( modtemp, airtemp => mean )\n",
    "def groupby_weather():\n",
    "    ## time 구분\n",
    "    dummy_time_list = []\n",
    "    for i in ent_data_weather[\"env_time\"]:\n",
    "        dummy_time_list.append(i[:2])\n",
    "\n",
    "    ent_data_weather[\"dummy_time\"] = dummy_time_list\n",
    "    dummy_groupbyall = ent_data_weather.groupby([\"env_date\", \"dummy_time\"]).mean()\n",
    "    ent_data_weather_groupby = dummy_groupbyall.reset_index() ## 그룹화된 인덱스 풀기 \n",
    "\n",
    "    ### 발전량이 거의 없는 데이터 삭제 ( 9~ 19 까지만 살린다)\n",
    "    drop_data = ent_data_weather_groupby.isin({\"dummy_time\" : [\"00\", \"01\", \"02\", \"03\", \"04\", \"05\", \"06\", \"07\",\"08\",\"18\", \"19\", \"20\", \"21\", \"22\", \"23\"]})\n",
    "    ent_data_weather_sort = ent_data_weather_groupby[~drop_data].dropna()\n",
    "    # print(ent_data_weather_sort)\n",
    "    ent_data_weather_sort.drop(\"env_index\", axis=1, inplace=True)\n",
    "\n",
    "    return ent_data_weather_sort\n",
    "\n",
    "\n",
    "\n",
    "\n",
    "## 기업 발전량 데이터 groupby\n",
    "def groupby_solar():\n",
    "    ## 필요한 컬럼만 가져오기\n",
    "    ent_data_need = ent_data_solar1[[\"pow_date\", \"pow_time\", \"pow_totpower\"]]\n",
    "\n",
    "    ## time 구분\n",
    "    dummy_time_list = []\n",
    "    for i in ent_data_need[\"pow_time\"]:\n",
    "        dummy_time_list.append(i[:2])\n",
    "    ent_data_need[\"dummy_time\"] = dummy_time_list\n",
    "\n",
    "    dummy_groupby1 = ent_data_need.groupby([\"pow_date\", \"dummy_time\"]).min()\n",
    "    dummy_groupby2 = ent_data_need.groupby([\"pow_date\", \"dummy_time\"]).max()\n",
    "\n",
    "    ## 최대값과 최솟값 차 = 1시간동안 발전한 총용량\n",
    "    ## 최대값과 최솟값이 같을 경우 = 발전량 0 or 그 시간대 총발전량이 1개밖에 없어 비교 불가능한 경우\n",
    "    ent_data_perhour = dummy_groupby2[\"pow_totpower\"] - dummy_groupby1[\"pow_totpower\"]\n",
    "    ent_data_perhour = ent_data_perhour.reset_index()\n",
    "\n",
    "    ### 발전량이 거의 없는 데이터 삭제 ( 8~ 19 까지만 살린다)\n",
    "    drop_data = ent_data_perhour.isin({\"dummy_time\" : [\"00\", \"01\", \"02\", \"03\", \"04\", \"05\", \"06\", \"07\",\"08\",\"18\", \"19\", \"20\", \"21\", \"22\", \"23\"]})\n",
    "    ent_data_perhour_sort = ent_data_perhour[~drop_data].dropna()\n",
    "\n",
    "    return ent_data_perhour_sort\n",
    "    # print(ent_data_perhour_sort[\"dummy_time\"].unique())\n",
    "\n",
    "def groupby_solar_reset():\n",
    "    ## 필요한 컬럼만 가져오기\n",
    "    ent_data_need = ent_data_solar1[[\"pow_date\", \"pow_time\", \"pow_dcv\", \"pow_dca\"]]\n",
    "\n",
    "    ## time 구분\n",
    "    dummy_time_list = []\n",
    "    for i in ent_data_need[\"pow_time\"]:\n",
    "        dummy_time_list.append(i[:2])\n",
    "    ent_data_need[\"dummy_time\"] = dummy_time_list\n",
    "\n",
    "    ent_data_need[\"watt\"] = ent_data_need[\"pow_dcv\"] * ent_data_need[\"pow_dca\"]\n",
    "\n",
    "    ## RESET 발전량 :: 직류 전압 X 직류 전류 : 발전량 ,, GROUPBY해서 직류X전류 의 평균량으로 구한다\n",
    "    ent_data_perhour = ent_data_need.groupby([\"pow_date\", \"dummy_time\"]).mean()\n",
    "    ent_data_perhour = ent_data_perhour.reset_index()\n",
    "\n",
    "\n",
    "    drop_data = ent_data_perhour.isin({\"dummy_time\" : [\"00\", \"01\", \"02\", \"03\", \"04\", \"05\", \"06\", \"07\",\"08\",\"18\", \"19\", \"20\", \"21\", \"22\", \"23\"]})\n",
    "    ent_data_perhour_sort = ent_data_perhour[~drop_data].dropna()\n",
    "\n",
    "    return ent_data_perhour_sort\n",
    "\n",
    "\n",
    "\n",
    "### weather, solar join\n",
    "def join_weather_solar(a, b):\n",
    "    sub_index1 = a[\"env_date\"] + \" \" + a[\"dummy_time\"] + \":00\"\n",
    "    a.index = sub_index1\n",
    "\n",
    "    sub_index2 = b[\"pow_date\"] + \" \" + b[\"dummy_time\"] + \":00\"\n",
    "    b.index = sub_index2\n",
    "\n",
    "    joinset = a.join(b[[\"pow_dcv\", \"pow_dca\", \"watt\" ]])\n",
    "    ent_data_solar_weather = joinset.dropna()\n",
    "\n",
    "\n",
    "    return ent_data_solar_weather\n",
    "\n",
    "ent_data_weather_sort = groupby_weather()\n",
    "ent_data_perhour_sort = groupby_solar_reset()\n",
    "ent_data_solar_weather = join_weather_solar(ent_data_weather_sort, ent_data_perhour_sort)\n",
    "ent_data_solar_weather\n",
    "# pow_perhour \n",
    "# sns.boxplot(ent_data_weather_sort[\"env_slopesolar\"])\n",
    "# sns.boxplot(ent_data_weather_sort[\"env_levelsolar\"])\n",
    "# sns.boxplot(data = ent_data_weather_sort[[\"env_slopesolar\", \"env_levelsolar\"]])\n",
    "# ent_data_weather_sort[[\"env_slopesolar\", \"env_levelsolar\"]]\n",
    "\n",
    "# print(len(joinset) - 2504)\n"
   ]
  },
  {
   "cell_type": "code",
   "execution_count": 6,
   "metadata": {},
   "outputs": [],
   "source": [
    "## 기업, 공공 join\n",
    "\n",
    "join_ent_other = ent_data_solar_weather.join(reset_other_weather_need)\n",
    "join_ent_other[\"일사\"].fillna(0, inplace=True)\n",
    "# join_ent_other\n",
    "join_ent_other[\"match_solar\"] = join_ent_other[\"일사\"] * 1000000 / 3600\n",
    "join_ent_other_set = join_ent_other.drop([\"env_date\", \"dummy_time\"], axis=1)\n",
    "\n",
    "## csv로 저장\n",
    "join_ent_other_set.to_csv('NewREC2_join.csv', encoding='utf-8')\n"
   ]
  },
  {
   "cell_type": "code",
   "execution_count": 7,
   "metadata": {},
   "outputs": [
    {
     "output_type": "stream",
     "name": "stdout",
     "text": [
      "2.4867152443253024\n-1.2363624507431186\n"
     ]
    },
    {
     "output_type": "display_data",
     "data": {
      "text/plain": "<Figure size 432x288 with 1 Axes>",
      "image/svg+xml": "<?xml version=\"1.0\" encoding=\"utf-8\" standalone=\"no\"?>\r\n<!DOCTYPE svg PUBLIC \"-//W3C//DTD SVG 1.1//EN\"\r\n  \"http://www.w3.org/Graphics/SVG/1.1/DTD/svg11.dtd\">\r\n<!-- Created with matplotlib (https://matplotlib.org/) -->\r\n<svg height=\"251.483097pt\" version=\"1.1\" viewBox=\"0 0 381.65 251.483097\" width=\"381.65pt\" xmlns=\"http://www.w3.org/2000/svg\" xmlns:xlink=\"http://www.w3.org/1999/xlink\">\r\n <defs>\r\n  <style type=\"text/css\">\r\n*{stroke-linecap:butt;stroke-linejoin:round;}\r\n  </style>\r\n </defs>\r\n <g id=\"figure_1\">\r\n  <g id=\"patch_1\">\r\n   <path d=\"M -0 251.483097 \r\nL 381.65 251.483097 \r\nL 381.65 0 \r\nL -0 0 \r\nz\r\n\" style=\"fill:none;\"/>\r\n  </g>\r\n  <g id=\"axes_1\">\r\n   <g id=\"patch_2\">\r\n    <path d=\"M 39.65 227.604972 \r\nL 374.45 227.604972 \r\nL 374.45 10.164972 \r\nL 39.65 10.164972 \r\nz\r\n\" style=\"fill:#ffffff;\"/>\r\n   </g>\r\n   <g id=\"patch_3\">\r\n    <path clip-path=\"url(#p6e0f2ea197)\" d=\"M 73.13 192.962145 \r\nL 340.97 192.962145 \r\nL 340.97 120.748916 \r\nL 73.13 120.748916 \r\nL 73.13 192.962145 \r\nz\r\n\" style=\"fill:#3274a1;stroke:#3f3f3f;stroke-linejoin:miter;stroke-width:1.5;\"/>\r\n   </g>\r\n   <g id=\"patch_4\">\r\n    <path clip-path=\"url(#p6e0f2ea197)\" d=\"M 73.13 192.962145 \r\nL 340.97 192.962145 \r\nL 340.97 120.748916 \r\nL 73.13 120.748916 \r\nL 73.13 192.962145 \r\nz\r\n\" style=\"fill:#3274a1;stroke:#3f3f3f;stroke-linejoin:miter;stroke-width:1.5;\"/>\r\n   </g>\r\n   <g id=\"matplotlib.axis_1\">\r\n    <g id=\"xtick_1\">\r\n     <g id=\"line2d_1\">\r\n      <defs>\r\n       <path d=\"M 0 0 \r\nL 0 3.5 \r\n\" id=\"m60b538a969\" style=\"stroke:#000000;stroke-width:0.8;\"/>\r\n      </defs>\r\n      <g>\r\n       <use style=\"stroke:#000000;stroke-width:0.8;\" x=\"207.05\" xlink:href=\"#m60b538a969\" y=\"227.604972\"/>\r\n      </g>\r\n     </g>\r\n     <g id=\"text_1\">\r\n      <!-- 0 -->\r\n      <defs>\r\n       <path d=\"M 31.78125 66.40625 \r\nQ 24.171875 66.40625 20.328125 58.90625 \r\nQ 16.5 51.421875 16.5 36.375 \r\nQ 16.5 21.390625 20.328125 13.890625 \r\nQ 24.171875 6.390625 31.78125 6.390625 \r\nQ 39.453125 6.390625 43.28125 13.890625 \r\nQ 47.125 21.390625 47.125 36.375 \r\nQ 47.125 51.421875 43.28125 58.90625 \r\nQ 39.453125 66.40625 31.78125 66.40625 \r\nz\r\nM 31.78125 74.21875 \r\nQ 44.046875 74.21875 50.515625 64.515625 \r\nQ 56.984375 54.828125 56.984375 36.375 \r\nQ 56.984375 17.96875 50.515625 8.265625 \r\nQ 44.046875 -1.421875 31.78125 -1.421875 \r\nQ 19.53125 -1.421875 13.0625 8.265625 \r\nQ 6.59375 17.96875 6.59375 36.375 \r\nQ 6.59375 54.828125 13.0625 64.515625 \r\nQ 19.53125 74.21875 31.78125 74.21875 \r\nz\r\n\" id=\"DejaVuSans-48\"/>\r\n      </defs>\r\n      <g transform=\"translate(203.86875 242.203409)scale(0.1 -0.1)\">\r\n       <use xlink:href=\"#DejaVuSans-48\"/>\r\n      </g>\r\n     </g>\r\n    </g>\r\n   </g>\r\n   <g id=\"matplotlib.axis_2\">\r\n    <g id=\"ytick_1\">\r\n     <g id=\"line2d_2\">\r\n      <defs>\r\n       <path d=\"M 0 0 \r\nL -3.5 0 \r\n\" id=\"m13a380f63f\" style=\"stroke:#000000;stroke-width:0.8;\"/>\r\n      </defs>\r\n      <g>\r\n       <use style=\"stroke:#000000;stroke-width:0.8;\" x=\"39.65\" xlink:href=\"#m13a380f63f\" y=\"217.721335\"/>\r\n      </g>\r\n     </g>\r\n     <g id=\"text_2\">\r\n      <!-- 0 -->\r\n      <g transform=\"translate(26.2875 221.520554)scale(0.1 -0.1)\">\r\n       <use xlink:href=\"#DejaVuSans-48\"/>\r\n      </g>\r\n     </g>\r\n    </g>\r\n    <g id=\"ytick_2\">\r\n     <g id=\"line2d_3\">\r\n      <g>\r\n       <use style=\"stroke:#000000;stroke-width:0.8;\" x=\"39.65\" xlink:href=\"#m13a380f63f\" y=\"183.267649\"/>\r\n      </g>\r\n     </g>\r\n     <g id=\"text_3\">\r\n      <!-- 500 -->\r\n      <defs>\r\n       <path d=\"M 10.796875 72.90625 \r\nL 49.515625 72.90625 \r\nL 49.515625 64.59375 \r\nL 19.828125 64.59375 \r\nL 19.828125 46.734375 \r\nQ 21.96875 47.46875 24.109375 47.828125 \r\nQ 26.265625 48.1875 28.421875 48.1875 \r\nQ 40.625 48.1875 47.75 41.5 \r\nQ 54.890625 34.8125 54.890625 23.390625 \r\nQ 54.890625 11.625 47.5625 5.09375 \r\nQ 40.234375 -1.421875 26.90625 -1.421875 \r\nQ 22.3125 -1.421875 17.546875 -0.640625 \r\nQ 12.796875 0.140625 7.71875 1.703125 \r\nL 7.71875 11.625 \r\nQ 12.109375 9.234375 16.796875 8.0625 \r\nQ 21.484375 6.890625 26.703125 6.890625 \r\nQ 35.15625 6.890625 40.078125 11.328125 \r\nQ 45.015625 15.765625 45.015625 23.390625 \r\nQ 45.015625 31 40.078125 35.4375 \r\nQ 35.15625 39.890625 26.703125 39.890625 \r\nQ 22.75 39.890625 18.8125 39.015625 \r\nQ 14.890625 38.140625 10.796875 36.28125 \r\nz\r\n\" id=\"DejaVuSans-53\"/>\r\n      </defs>\r\n      <g transform=\"translate(13.5625 187.066868)scale(0.1 -0.1)\">\r\n       <use xlink:href=\"#DejaVuSans-53\"/>\r\n       <use x=\"63.623047\" xlink:href=\"#DejaVuSans-48\"/>\r\n       <use x=\"127.246094\" xlink:href=\"#DejaVuSans-48\"/>\r\n      </g>\r\n     </g>\r\n    </g>\r\n    <g id=\"ytick_3\">\r\n     <g id=\"line2d_4\">\r\n      <g>\r\n       <use style=\"stroke:#000000;stroke-width:0.8;\" x=\"39.65\" xlink:href=\"#m13a380f63f\" y=\"148.813963\"/>\r\n      </g>\r\n     </g>\r\n     <g id=\"text_4\">\r\n      <!-- 1000 -->\r\n      <defs>\r\n       <path d=\"M 12.40625 8.296875 \r\nL 28.515625 8.296875 \r\nL 28.515625 63.921875 \r\nL 10.984375 60.40625 \r\nL 10.984375 69.390625 \r\nL 28.421875 72.90625 \r\nL 38.28125 72.90625 \r\nL 38.28125 8.296875 \r\nL 54.390625 8.296875 \r\nL 54.390625 0 \r\nL 12.40625 0 \r\nz\r\n\" id=\"DejaVuSans-49\"/>\r\n      </defs>\r\n      <g transform=\"translate(7.2 152.613182)scale(0.1 -0.1)\">\r\n       <use xlink:href=\"#DejaVuSans-49\"/>\r\n       <use x=\"63.623047\" xlink:href=\"#DejaVuSans-48\"/>\r\n       <use x=\"127.246094\" xlink:href=\"#DejaVuSans-48\"/>\r\n       <use x=\"190.869141\" xlink:href=\"#DejaVuSans-48\"/>\r\n      </g>\r\n     </g>\r\n    </g>\r\n    <g id=\"ytick_4\">\r\n     <g id=\"line2d_5\">\r\n      <g>\r\n       <use style=\"stroke:#000000;stroke-width:0.8;\" x=\"39.65\" xlink:href=\"#m13a380f63f\" y=\"114.360277\"/>\r\n      </g>\r\n     </g>\r\n     <g id=\"text_5\">\r\n      <!-- 1500 -->\r\n      <g transform=\"translate(7.2 118.159496)scale(0.1 -0.1)\">\r\n       <use xlink:href=\"#DejaVuSans-49\"/>\r\n       <use x=\"63.623047\" xlink:href=\"#DejaVuSans-53\"/>\r\n       <use x=\"127.246094\" xlink:href=\"#DejaVuSans-48\"/>\r\n       <use x=\"190.869141\" xlink:href=\"#DejaVuSans-48\"/>\r\n      </g>\r\n     </g>\r\n    </g>\r\n    <g id=\"ytick_5\">\r\n     <g id=\"line2d_6\">\r\n      <g>\r\n       <use style=\"stroke:#000000;stroke-width:0.8;\" x=\"39.65\" xlink:href=\"#m13a380f63f\" y=\"79.906591\"/>\r\n      </g>\r\n     </g>\r\n     <g id=\"text_6\">\r\n      <!-- 2000 -->\r\n      <defs>\r\n       <path d=\"M 19.1875 8.296875 \r\nL 53.609375 8.296875 \r\nL 53.609375 0 \r\nL 7.328125 0 \r\nL 7.328125 8.296875 \r\nQ 12.9375 14.109375 22.625 23.890625 \r\nQ 32.328125 33.6875 34.8125 36.53125 \r\nQ 39.546875 41.84375 41.421875 45.53125 \r\nQ 43.3125 49.21875 43.3125 52.78125 \r\nQ 43.3125 58.59375 39.234375 62.25 \r\nQ 35.15625 65.921875 28.609375 65.921875 \r\nQ 23.96875 65.921875 18.8125 64.3125 \r\nQ 13.671875 62.703125 7.8125 59.421875 \r\nL 7.8125 69.390625 \r\nQ 13.765625 71.78125 18.9375 73 \r\nQ 24.125 74.21875 28.421875 74.21875 \r\nQ 39.75 74.21875 46.484375 68.546875 \r\nQ 53.21875 62.890625 53.21875 53.421875 \r\nQ 53.21875 48.921875 51.53125 44.890625 \r\nQ 49.859375 40.875 45.40625 35.40625 \r\nQ 44.1875 33.984375 37.640625 27.21875 \r\nQ 31.109375 20.453125 19.1875 8.296875 \r\nz\r\n\" id=\"DejaVuSans-50\"/>\r\n      </defs>\r\n      <g transform=\"translate(7.2 83.70581)scale(0.1 -0.1)\">\r\n       <use xlink:href=\"#DejaVuSans-50\"/>\r\n       <use x=\"63.623047\" xlink:href=\"#DejaVuSans-48\"/>\r\n       <use x=\"127.246094\" xlink:href=\"#DejaVuSans-48\"/>\r\n       <use x=\"190.869141\" xlink:href=\"#DejaVuSans-48\"/>\r\n      </g>\r\n     </g>\r\n    </g>\r\n    <g id=\"ytick_6\">\r\n     <g id=\"line2d_7\">\r\n      <g>\r\n       <use style=\"stroke:#000000;stroke-width:0.8;\" x=\"39.65\" xlink:href=\"#m13a380f63f\" y=\"45.452905\"/>\r\n      </g>\r\n     </g>\r\n     <g id=\"text_7\">\r\n      <!-- 2500 -->\r\n      <g transform=\"translate(7.2 49.252124)scale(0.1 -0.1)\">\r\n       <use xlink:href=\"#DejaVuSans-50\"/>\r\n       <use x=\"63.623047\" xlink:href=\"#DejaVuSans-53\"/>\r\n       <use x=\"127.246094\" xlink:href=\"#DejaVuSans-48\"/>\r\n       <use x=\"190.869141\" xlink:href=\"#DejaVuSans-48\"/>\r\n      </g>\r\n     </g>\r\n    </g>\r\n    <g id=\"ytick_7\">\r\n     <g id=\"line2d_8\">\r\n      <g>\r\n       <use style=\"stroke:#000000;stroke-width:0.8;\" x=\"39.65\" xlink:href=\"#m13a380f63f\" y=\"10.999219\"/>\r\n      </g>\r\n     </g>\r\n     <g id=\"text_8\">\r\n      <!-- 3000 -->\r\n      <defs>\r\n       <path d=\"M 40.578125 39.3125 \r\nQ 47.65625 37.796875 51.625 33 \r\nQ 55.609375 28.21875 55.609375 21.1875 \r\nQ 55.609375 10.40625 48.1875 4.484375 \r\nQ 40.765625 -1.421875 27.09375 -1.421875 \r\nQ 22.515625 -1.421875 17.65625 -0.515625 \r\nQ 12.796875 0.390625 7.625 2.203125 \r\nL 7.625 11.71875 \r\nQ 11.71875 9.328125 16.59375 8.109375 \r\nQ 21.484375 6.890625 26.8125 6.890625 \r\nQ 36.078125 6.890625 40.9375 10.546875 \r\nQ 45.796875 14.203125 45.796875 21.1875 \r\nQ 45.796875 27.640625 41.28125 31.265625 \r\nQ 36.765625 34.90625 28.71875 34.90625 \r\nL 20.21875 34.90625 \r\nL 20.21875 43.015625 \r\nL 29.109375 43.015625 \r\nQ 36.375 43.015625 40.234375 45.921875 \r\nQ 44.09375 48.828125 44.09375 54.296875 \r\nQ 44.09375 59.90625 40.109375 62.90625 \r\nQ 36.140625 65.921875 28.71875 65.921875 \r\nQ 24.65625 65.921875 20.015625 65.03125 \r\nQ 15.375 64.15625 9.8125 62.3125 \r\nL 9.8125 71.09375 \r\nQ 15.4375 72.65625 20.34375 73.4375 \r\nQ 25.25 74.21875 29.59375 74.21875 \r\nQ 40.828125 74.21875 47.359375 69.109375 \r\nQ 53.90625 64.015625 53.90625 55.328125 \r\nQ 53.90625 49.265625 50.4375 45.09375 \r\nQ 46.96875 40.921875 40.578125 39.3125 \r\nz\r\n\" id=\"DejaVuSans-51\"/>\r\n      </defs>\r\n      <g transform=\"translate(7.2 14.798437)scale(0.1 -0.1)\">\r\n       <use xlink:href=\"#DejaVuSans-51\"/>\r\n       <use x=\"63.623047\" xlink:href=\"#DejaVuSans-48\"/>\r\n       <use x=\"127.246094\" xlink:href=\"#DejaVuSans-48\"/>\r\n       <use x=\"190.869141\" xlink:href=\"#DejaVuSans-48\"/>\r\n      </g>\r\n     </g>\r\n    </g>\r\n   </g>\r\n   <g id=\"line2d_9\">\r\n    <path clip-path=\"url(#p6e0f2ea197)\" d=\"M 207.05 192.962145 \r\nL 207.05 217.721335 \r\n\" style=\"fill:none;stroke:#3f3f3f;stroke-linecap:square;stroke-width:1.5;\"/>\r\n   </g>\r\n   <g id=\"line2d_10\">\r\n    <path clip-path=\"url(#p6e0f2ea197)\" d=\"M 207.05 120.748916 \r\nL 207.05 20.048608 \r\n\" style=\"fill:none;stroke:#3f3f3f;stroke-linecap:square;stroke-width:1.5;\"/>\r\n   </g>\r\n   <g id=\"line2d_11\">\r\n    <path clip-path=\"url(#p6e0f2ea197)\" d=\"M 140.09 217.721335 \r\nL 274.01 217.721335 \r\n\" style=\"fill:none;stroke:#3f3f3f;stroke-linecap:square;stroke-width:1.5;\"/>\r\n   </g>\r\n   <g id=\"line2d_12\">\r\n    <path clip-path=\"url(#p6e0f2ea197)\" d=\"M 140.09 20.048608 \r\nL 274.01 20.048608 \r\n\" style=\"fill:none;stroke:#3f3f3f;stroke-linecap:square;stroke-width:1.5;\"/>\r\n   </g>\r\n   <g id=\"line2d_13\"/>\r\n   <g id=\"line2d_14\">\r\n    <path clip-path=\"url(#p6e0f2ea197)\" d=\"M 207.05 192.962145 \r\nL 207.05 217.721335 \r\n\" style=\"fill:none;stroke:#3f3f3f;stroke-linecap:square;stroke-width:1.5;\"/>\r\n   </g>\r\n   <g id=\"line2d_15\">\r\n    <path clip-path=\"url(#p6e0f2ea197)\" d=\"M 207.05 120.748916 \r\nL 207.05 20.048608 \r\n\" style=\"fill:none;stroke:#3f3f3f;stroke-linecap:square;stroke-width:1.5;\"/>\r\n   </g>\r\n   <g id=\"line2d_16\">\r\n    <path clip-path=\"url(#p6e0f2ea197)\" d=\"M 140.09 217.721335 \r\nL 274.01 217.721335 \r\n\" style=\"fill:none;stroke:#3f3f3f;stroke-linecap:square;stroke-width:1.5;\"/>\r\n   </g>\r\n   <g id=\"line2d_17\">\r\n    <path clip-path=\"url(#p6e0f2ea197)\" d=\"M 140.09 20.048608 \r\nL 274.01 20.048608 \r\n\" style=\"fill:none;stroke:#3f3f3f;stroke-linecap:square;stroke-width:1.5;\"/>\r\n   </g>\r\n   <g id=\"line2d_18\"/>\r\n   <g id=\"line2d_19\">\r\n    <path clip-path=\"url(#p6e0f2ea197)\" d=\"M 73.13 170.067993 \r\nL 340.97 170.067993 \r\n\" style=\"fill:none;stroke:#3f3f3f;stroke-linecap:square;stroke-width:1.5;\"/>\r\n   </g>\r\n   <g id=\"line2d_20\">\r\n    <path clip-path=\"url(#p6e0f2ea197)\" d=\"M 73.13 170.067993 \r\nL 340.97 170.067993 \r\n\" style=\"fill:none;stroke:#3f3f3f;stroke-linecap:square;stroke-width:1.5;\"/>\r\n   </g>\r\n   <g id=\"patch_5\">\r\n    <path d=\"M 39.65 227.604972 \r\nL 39.65 10.164972 \r\n\" style=\"fill:none;stroke:#000000;stroke-linecap:square;stroke-linejoin:miter;stroke-width:0.8;\"/>\r\n   </g>\r\n   <g id=\"patch_6\">\r\n    <path d=\"M 374.45 227.604972 \r\nL 374.45 10.164972 \r\n\" style=\"fill:none;stroke:#000000;stroke-linecap:square;stroke-linejoin:miter;stroke-width:0.8;\"/>\r\n   </g>\r\n   <g id=\"patch_7\">\r\n    <path d=\"M 39.65 227.604972 \r\nL 374.45 227.604972 \r\n\" style=\"fill:none;stroke:#000000;stroke-linecap:square;stroke-linejoin:miter;stroke-width:0.8;\"/>\r\n   </g>\r\n   <g id=\"patch_8\">\r\n    <path d=\"M 39.65 10.164972 \r\nL 374.45 10.164972 \r\n\" style=\"fill:none;stroke:#000000;stroke-linecap:square;stroke-linejoin:miter;stroke-width:0.8;\"/>\r\n   </g>\r\n  </g>\r\n </g>\r\n <defs>\r\n  <clipPath id=\"p6e0f2ea197\">\r\n   <rect height=\"217.44\" width=\"334.8\" x=\"39.65\" y=\"10.164972\"/>\r\n  </clipPath>\r\n </defs>\r\n</svg>\r\n",
      "image/png": "[encoded data removed]"
     },
     "metadata": {
      "needs_background": "light"
     }
    }
   ],
   "source": [
    "## 이상치 제거\n",
    "\n",
    "sns.boxplot(data = join_ent_other_set[\"watt\"])\n",
    "\n",
    "\n",
    "import pandas as pd\n",
    "from scipy import stats\n",
    "\n",
    "# deleteoutlier = stats.zscore(join_ent_other_set[\"watt\"])\n",
    "# deleteoutlier\n",
    "deleteoutlier = stats.zscore(join_ent_other_set[\"watt\"])\n",
    "join_ent_other_set[\"z_score\"] = deleteoutlier\n",
    "\n",
    "join_ent_other_del = join_ent_other_set.loc[join_ent_other_set['z_score'].abs()<=3]\n",
    "sns.boxplot(data = join_ent_other_del[\"watt\"])\n",
    "print(join_ent_other_del['z_score'].max())\n",
    "print(join_ent_other_del['z_score'].min())\n",
    "\n",
    "## 다시저장\n",
    "join_ent_other_del.to_csv('NewREC2_join.csv', encoding='utf-8')\n"
   ]
  },
  {
   "cell_type": "code",
   "execution_count": 8,
   "metadata": {},
   "outputs": [
    {
     "output_type": "execute_result",
     "data": {
      "text/plain": [
       "       env_slopesolar  env_levelsolar  env_modtemp  env_airtemp      pow_dcv  \\\n",
       "count     1952.000000     1952.000000  1952.000000  1952.000000  1952.000000   \n",
       "mean       427.202267      406.168222    20.922530    13.927629   155.918999   \n",
       "std        301.974264      289.459601    13.978955     9.725810    14.229137   \n",
       "min          0.000000        0.000000    -7.466667    -6.160294   103.000000   \n",
       "25%        151.552952      147.414179     9.516204     5.789338   147.363971   \n",
       "50%        405.976343      375.714514    19.835028    12.981581   157.911106   \n",
       "75%        676.536765      638.314496    31.823162    22.378309   164.326462   \n",
       "max       1051.529412     1027.088235    53.908824    35.026471   192.170213   \n",
       "\n",
       "           pow_dca         watt           기온          강수량           풍속  \\\n",
       "count  1952.000000  1952.000000  1952.000000  1952.000000  1952.000000   \n",
       "mean      5.872495   890.045567    12.854559     0.082018     4.226281   \n",
       "std       5.252231   774.191569     8.498158     0.938673     2.315396   \n",
       "min       0.000000     0.000000    -5.300000     0.000000     0.000000   \n",
       "25%       1.764447   271.134979     5.600000     0.000000     2.600000   \n",
       "50%       4.032722   629.101624    11.650000     0.000000     3.800000   \n",
       "75%       8.463495  1325.916220    20.900000     0.000000     5.500000   \n",
       "max      17.882353  2868.673134    31.100000    33.200000    14.000000   \n",
       "\n",
       "                풍향           습도           일조           일사           적설  \\\n",
       "count  1952.000000  1952.000000  1952.000000  1952.000000  1952.000000   \n",
       "mean    209.948770    59.160348     0.655789     1.529401     0.052203   \n",
       "std     139.365544    16.240548     0.420791     0.959810     0.419679   \n",
       "min       0.000000    17.000000     0.000000     0.010000     0.000000   \n",
       "25%      20.000000    47.000000     0.200000     0.690000     0.000000   \n",
       "50%     270.000000    59.000000     1.000000     1.440000     0.000000   \n",
       "75%     340.000000    69.000000     1.000000     2.250000     0.000000   \n",
       "max     360.000000   100.000000     1.000000     3.670000     5.200000   \n",
       "\n",
       "               전운량         지중온도  match_solar       z_score  \n",
       "count  1952.000000  1952.000000  1952.000000  1.952000e+03  \n",
       "mean      5.010246    12.733555   424.833504 -1.148330e-16  \n",
       "std       3.709864     7.607307   266.613833  1.000256e+00  \n",
       "min       0.000000     2.100000     2.777778 -1.149940e+00  \n",
       "25%       1.000000     5.800000   191.666667 -7.996331e-01  \n",
       "50%       6.000000    10.650000   400.000000 -3.371398e-01  \n",
       "75%       8.000000    19.900000   625.000000  5.631453e-01  \n",
       "max      10.000000    29.200000  1019.444444  2.556389e+00  "
      ],
      "text/html": "<div>\n<style scoped>\n    .dataframe tbody tr th:only-of-type {\n        vertical-align: middle;\n    }\n\n    .dataframe tbody tr th {\n        vertical-align: top;\n    }\n\n    .dataframe thead th {\n        text-align: right;\n    }\n</style>\n<table border=\"1\" class=\"dataframe\">\n  <thead>\n    <tr style=\"text-align: right;\">\n      <th></th>\n      <th>env_slopesolar</th>\n      <th>env_levelsolar</th>\n      <th>env_modtemp</th>\n      <th>env_airtemp</th>\n      <th>pow_dcv</th>\n      <th>pow_dca</th>\n      <th>watt</th>\n      <th>기온</th>\n      <th>강수량</th>\n      <th>풍속</th>\n      <th>풍향</th>\n      <th>습도</th>\n      <th>일조</th>\n      <th>일사</th>\n      <th>적설</th>\n      <th>전운량</th>\n      <th>지중온도</th>\n      <th>match_solar</th>\n      <th>z_score</th>\n    </tr>\n  </thead>\n  <tbody>\n    <tr>\n      <th>count</th>\n      <td>1952.000000</td>\n      <td>1952.000000</td>\n      <td>1952.000000</td>\n      <td>1952.000000</td>\n      <td>1952.000000</td>\n      <td>1952.000000</td>\n      <td>1952.000000</td>\n      <td>1952.000000</td>\n      <td>1952.000000</td>\n      <td>1952.000000</td>\n      <td>1952.000000</td>\n      <td>1952.000000</td>\n      <td>1952.000000</td>\n      <td>1952.000000</td>\n      <td>1952.000000</td>\n      <td>1952.000000</td>\n      <td>1952.000000</td>\n      <td>1952.000000</td>\n      <td>1.952000e+03</td>\n    </tr>\n    <tr>\n      <th>mean</th>\n      <td>427.202267</td>\n      <td>406.168222</td>\n      <td>20.922530</td>\n      <td>13.927629</td>\n      <td>155.918999</td>\n      <td>5.872495</td>\n      <td>890.045567</td>\n      <td>12.854559</td>\n      <td>0.082018</td>\n      <td>4.226281</td>\n      <td>209.948770</td>\n      <td>59.160348</td>\n      <td>0.655789</td>\n      <td>1.529401</td>\n      <td>0.052203</td>\n      <td>5.010246</td>\n      <td>12.733555</td>\n      <td>424.833504</td>\n      <td>-1.148330e-16</td>\n    </tr>\n    <tr>\n      <th>std</th>\n      <td>301.974264</td>\n      <td>289.459601</td>\n      <td>13.978955</td>\n      <td>9.725810</td>\n      <td>14.229137</td>\n      <td>5.252231</td>\n      <td>774.191569</td>\n      <td>8.498158</td>\n      <td>0.938673</td>\n      <td>2.315396</td>\n      <td>139.365544</td>\n      <td>16.240548</td>\n      <td>0.420791</td>\n      <td>0.959810</td>\n      <td>0.419679</td>\n      <td>3.709864</td>\n      <td>7.607307</td>\n      <td>266.613833</td>\n      <td>1.000256e+00</td>\n    </tr>\n    <tr>\n      <th>min</th>\n      <td>0.000000</td>\n      <td>0.000000</td>\n      <td>-7.466667</td>\n      <td>-6.160294</td>\n      <td>103.000000</td>\n      <td>0.000000</td>\n      <td>0.000000</td>\n      <td>-5.300000</td>\n      <td>0.000000</td>\n      <td>0.000000</td>\n      <td>0.000000</td>\n      <td>17.000000</td>\n      <td>0.000000</td>\n      <td>0.010000</td>\n      <td>0.000000</td>\n      <td>0.000000</td>\n      <td>2.100000</td>\n      <td>2.777778</td>\n      <td>-1.149940e+00</td>\n    </tr>\n    <tr>\n      <th>25%</th>\n      <td>151.552952</td>\n      <td>147.414179</td>\n      <td>9.516204</td>\n      <td>5.789338</td>\n      <td>147.363971</td>\n      <td>1.764447</td>\n      <td>271.134979</td>\n      <td>5.600000</td>\n      <td>0.000000</td>\n      <td>2.600000</td>\n      <td>20.000000</td>\n      <td>47.000000</td>\n      <td>0.200000</td>\n      <td>0.690000</td>\n      <td>0.000000</td>\n      <td>1.000000</td>\n      <td>5.800000</td>\n      <td>191.666667</td>\n      <td>-7.996331e-01</td>\n    </tr>\n    <tr>\n      <th>50%</th>\n      <td>405.976343</td>\n      <td>375.714514</td>\n      <td>19.835028</td>\n      <td>12.981581</td>\n      <td>157.911106</td>\n      <td>4.032722</td>\n      <td>629.101624</td>\n      <td>11.650000</td>\n      <td>0.000000</td>\n      <td>3.800000</td>\n      <td>270.000000</td>\n      <td>59.000000</td>\n      <td>1.000000</td>\n      <td>1.440000</td>\n      <td>0.000000</td>\n      <td>6.000000</td>\n      <td>10.650000</td>\n      <td>400.000000</td>\n      <td>-3.371398e-01</td>\n    </tr>\n    <tr>\n      <th>75%</th>\n      <td>676.536765</td>\n      <td>638.314496</td>\n      <td>31.823162</td>\n      <td>22.378309</td>\n      <td>164.326462</td>\n      <td>8.463495</td>\n      <td>1325.916220</td>\n      <td>20.900000</td>\n      <td>0.000000</td>\n      <td>5.500000</td>\n      <td>340.000000</td>\n      <td>69.000000</td>\n      <td>1.000000</td>\n      <td>2.250000</td>\n      <td>0.000000</td>\n      <td>8.000000</td>\n      <td>19.900000</td>\n      <td>625.000000</td>\n      <td>5.631453e-01</td>\n    </tr>\n    <tr>\n      <th>max</th>\n      <td>1051.529412</td>\n      <td>1027.088235</td>\n      <td>53.908824</td>\n      <td>35.026471</td>\n      <td>192.170213</td>\n      <td>17.882353</td>\n      <td>2868.673134</td>\n      <td>31.100000</td>\n      <td>33.200000</td>\n      <td>14.000000</td>\n      <td>360.000000</td>\n      <td>100.000000</td>\n      <td>1.000000</td>\n      <td>3.670000</td>\n      <td>5.200000</td>\n      <td>10.000000</td>\n      <td>29.200000</td>\n      <td>1019.444444</td>\n      <td>2.556389e+00</td>\n    </tr>\n  </tbody>\n</table>\n</div>"
     },
     "metadata": {},
     "execution_count": 8
    }
   ],
   "source": [
    "join_ent_other_del.describe()"
   ]
  },
  {
   "cell_type": "code",
   "execution_count": 9,
   "metadata": {},
   "outputs": [
    {
     "output_type": "execute_result",
     "data": {
      "text/plain": [
       "                env_slopesolar  env_levelsolar  env_modtemp  env_airtemp  \\\n",
       "env_slopesolar        1.000000        0.968970     0.772937     0.524659   \n",
       "env_levelsolar        0.968970        1.000000     0.842542     0.632830   \n",
       "env_modtemp           0.772937        0.842542     1.000000     0.936343   \n",
       "env_airtemp           0.524659        0.632830     0.936343     1.000000   \n",
       "pow_dcv               0.294058        0.240392     0.024819    -0.112359   \n",
       "pow_dca               0.790685        0.784365     0.663986     0.470527   \n",
       "watt                  0.783853        0.768177     0.627295     0.424218   \n",
       "기온                    0.255199        0.387439     0.779082     0.934734   \n",
       "강수량                  -0.096378       -0.092329    -0.029082     0.008264   \n",
       "풍속                   -0.056202       -0.117137    -0.279754    -0.331027   \n",
       "풍향                    0.055157        0.081563     0.195006     0.234664   \n",
       "습도                   -0.355360       -0.356208    -0.234923    -0.135246   \n",
       "일조                    0.493842        0.481861     0.352569     0.229798   \n",
       "일사                    0.803664        0.827458     0.762943     0.609500   \n",
       "적설                   -0.074931       -0.086934    -0.190998    -0.208793   \n",
       "전운량                  -0.388072       -0.361971    -0.211199    -0.091489   \n",
       "지중온도                  0.165858        0.303124     0.697967     0.874087   \n",
       "match_solar           0.803664        0.827458     0.762943     0.609500   \n",
       "z_score               0.783853        0.768177     0.627295     0.424218   \n",
       "\n",
       "                 pow_dcv   pow_dca      watt        기온       강수량        풍속  \\\n",
       "env_slopesolar  0.294058  0.790685  0.783853  0.255199 -0.096378 -0.056202   \n",
       "env_levelsolar  0.240392  0.784365  0.768177  0.387439 -0.092329 -0.117137   \n",
       "env_modtemp     0.024819  0.663986  0.627295  0.779082 -0.029082 -0.279754   \n",
       "env_airtemp    -0.112359  0.470527  0.424218  0.934734  0.008264 -0.331027   \n",
       "pow_dcv         1.000000 -0.107509 -0.073429 -0.237306 -0.070726  0.074400   \n",
       "pow_dca        -0.107509  1.000000  0.996969  0.267682 -0.068629 -0.059473   \n",
       "watt           -0.073429  0.996969  1.000000  0.218764 -0.070573 -0.037682   \n",
       "기온             -0.237306  0.267682  0.218764  1.000000  0.038353 -0.301496   \n",
       "강수량            -0.070726 -0.068629 -0.070573  0.038353  1.000000 -0.033620   \n",
       "풍속              0.074400 -0.059473 -0.037682 -0.301496 -0.033620  1.000000   \n",
       "풍향             -0.084241  0.068030  0.055810  0.259795 -0.033264  0.022965   \n",
       "습도             -0.101577 -0.304936 -0.306173 -0.102466  0.181975 -0.103790   \n",
       "일조              0.201961  0.364857  0.365138  0.148079 -0.128250  0.111002   \n",
       "일사              0.193148  0.641953  0.624788  0.469887 -0.116161  0.041863   \n",
       "적설             -0.093571 -0.110436 -0.111817 -0.212616  0.022525  0.073636   \n",
       "전운량            -0.141215 -0.294417 -0.300156 -0.011824  0.115374 -0.076750   \n",
       "지중온도           -0.271731  0.195376  0.147840  0.957245  0.058358 -0.218296   \n",
       "match_solar     0.193148  0.641953  0.624788  0.469887 -0.116161  0.041863   \n",
       "z_score        -0.073429  0.996969  1.000000  0.218764 -0.070573 -0.037682   \n",
       "\n",
       "                      풍향        습도        일조        일사        적설       전운량  \\\n",
       "env_slopesolar  0.055157 -0.355360  0.493842  0.803664 -0.074931 -0.388072   \n",
       "env_levelsolar  0.081563 -0.356208  0.481861  0.827458 -0.086934 -0.361971   \n",
       "env_modtemp     0.195006 -0.234923  0.352569  0.762943 -0.190998 -0.211199   \n",
       "env_airtemp     0.234664 -0.135246  0.229798  0.609500 -0.208793 -0.091489   \n",
       "pow_dcv        -0.084241 -0.101577  0.201961  0.193148 -0.093571 -0.141215   \n",
       "pow_dca         0.068030 -0.304936  0.364857  0.641953 -0.110436 -0.294417   \n",
       "watt            0.055810 -0.306173  0.365138  0.624788 -0.111817 -0.300156   \n",
       "기온              0.259795 -0.102466  0.148079  0.469887 -0.212616 -0.011824   \n",
       "강수량            -0.033264  0.181975 -0.128250 -0.116161  0.022525  0.115374   \n",
       "풍속              0.022965 -0.103790  0.111002  0.041863  0.073636 -0.076750   \n",
       "풍향              1.000000 -0.107238  0.083998  0.187844 -0.078772 -0.034687   \n",
       "습도             -0.107238  1.000000 -0.521331 -0.518228  0.143857  0.439673   \n",
       "일조              0.083998 -0.521331  1.000000  0.695606 -0.066886 -0.778062   \n",
       "일사              0.187844 -0.518228  0.695606  1.000000 -0.105132 -0.501361   \n",
       "적설             -0.078772  0.143857 -0.066886 -0.105132  1.000000  0.074188   \n",
       "전운량            -0.034687  0.439673 -0.778062 -0.501361  0.074188  1.000000   \n",
       "지중온도            0.234880  0.011998  0.074282  0.373993 -0.143892  0.051821   \n",
       "match_solar     0.187844 -0.518228  0.695606  1.000000 -0.105132 -0.501361   \n",
       "z_score         0.055810 -0.306173  0.365138  0.624788 -0.111817 -0.300156   \n",
       "\n",
       "                    지중온도  match_solar   z_score  \n",
       "env_slopesolar  0.165858     0.803664  0.783853  \n",
       "env_levelsolar  0.303124     0.827458  0.768177  \n",
       "env_modtemp     0.697967     0.762943  0.627295  \n",
       "env_airtemp     0.874087     0.609500  0.424218  \n",
       "pow_dcv        -0.271731     0.193148 -0.073429  \n",
       "pow_dca         0.195376     0.641953  0.996969  \n",
       "watt            0.147840     0.624788  1.000000  \n",
       "기온              0.957245     0.469887  0.218764  \n",
       "강수량             0.058358    -0.116161 -0.070573  \n",
       "풍속             -0.218296     0.041863 -0.037682  \n",
       "풍향              0.234880     0.187844  0.055810  \n",
       "습도              0.011998    -0.518228 -0.306173  \n",
       "일조              0.074282     0.695606  0.365138  \n",
       "일사              0.373993     1.000000  0.624788  \n",
       "적설             -0.143892    -0.105132 -0.111817  \n",
       "전운량             0.051821    -0.501361 -0.300156  \n",
       "지중온도            1.000000     0.373993  0.147840  \n",
       "match_solar     0.373993     1.000000  0.624788  \n",
       "z_score         0.147840     0.624788  1.000000  "
      ],
      "text/html": "<div>\n<style scoped>\n    .dataframe tbody tr th:only-of-type {\n        vertical-align: middle;\n    }\n\n    .dataframe tbody tr th {\n        vertical-align: top;\n    }\n\n    .dataframe thead th {\n        text-align: right;\n    }\n</style>\n<table border=\"1\" class=\"dataframe\">\n  <thead>\n    <tr style=\"text-align: right;\">\n      <th></th>\n      <th>env_slopesolar</th>\n      <th>env_levelsolar</th>\n      <th>env_modtemp</th>\n      <th>env_airtemp</th>\n      <th>pow_dcv</th>\n      <th>pow_dca</th>\n      <th>watt</th>\n      <th>기온</th>\n      <th>강수량</th>\n      <th>풍속</th>\n      <th>풍향</th>\n      <th>습도</th>\n      <th>일조</th>\n      <th>일사</th>\n      <th>적설</th>\n      <th>전운량</th>\n      <th>지중온도</th>\n      <th>match_solar</th>\n      <th>z_score</th>\n    </tr>\n  </thead>\n  <tbody>\n    <tr>\n      <th>env_slopesolar</th>\n      <td>1.000000</td>\n      <td>0.968970</td>\n      <td>0.772937</td>\n      <td>0.524659</td>\n      <td>0.294058</td>\n      <td>0.790685</td>\n      <td>0.783853</td>\n      <td>0.255199</td>\n      <td>-0.096378</td>\n      <td>-0.056202</td>\n      <td>0.055157</td>\n      <td>-0.355360</td>\n      <td>0.493842</td>\n      <td>0.803664</td>\n      <td>-0.074931</td>\n      <td>-0.388072</td>\n      <td>0.165858</td>\n      <td>0.803664</td>\n      <td>0.783853</td>\n    </tr>\n    <tr>\n      <th>env_levelsolar</th>\n      <td>0.968970</td>\n      <td>1.000000</td>\n      <td>0.842542</td>\n      <td>0.632830</td>\n      <td>0.240392</td>\n      <td>0.784365</td>\n      <td>0.768177</td>\n      <td>0.387439</td>\n      <td>-0.092329</td>\n      <td>-0.117137</td>\n      <td>0.081563</td>\n      <td>-0.356208</td>\n      <td>0.481861</td>\n      <td>0.827458</td>\n      <td>-0.086934</td>\n      <td>-0.361971</td>\n      <td>0.303124</td>\n      <td>0.827458</td>\n      <td>0.768177</td>\n    </tr>\n    <tr>\n      <th>env_modtemp</th>\n      <td>0.772937</td>\n      <td>0.842542</td>\n      <td>1.000000</td>\n      <td>0.936343</td>\n      <td>0.024819</td>\n      <td>0.663986</td>\n      <td>0.627295</td>\n      <td>0.779082</td>\n      <td>-0.029082</td>\n      <td>-0.279754</td>\n      <td>0.195006</td>\n      <td>-0.234923</td>\n      <td>0.352569</td>\n      <td>0.762943</td>\n      <td>-0.190998</td>\n      <td>-0.211199</td>\n      <td>0.697967</td>\n      <td>0.762943</td>\n      <td>0.627295</td>\n    </tr>\n    <tr>\n      <th>env_airtemp</th>\n      <td>0.524659</td>\n      <td>0.632830</td>\n      <td>0.936343</td>\n      <td>1.000000</td>\n      <td>-0.112359</td>\n      <td>0.470527</td>\n      <td>0.424218</td>\n      <td>0.934734</td>\n      <td>0.008264</td>\n      <td>-0.331027</td>\n      <td>0.234664</td>\n      <td>-0.135246</td>\n      <td>0.229798</td>\n      <td>0.609500</td>\n      <td>-0.208793</td>\n      <td>-0.091489</td>\n      <td>0.874087</td>\n      <td>0.609500</td>\n      <td>0.424218</td>\n    </tr>\n    <tr>\n      <th>pow_dcv</th>\n      <td>0.294058</td>\n      <td>0.240392</td>\n      <td>0.024819</td>\n      <td>-0.112359</td>\n      <td>1.000000</td>\n      <td>-0.107509</td>\n      <td>-0.073429</td>\n      <td>-0.237306</td>\n      <td>-0.070726</td>\n      <td>0.074400</td>\n      <td>-0.084241</td>\n      <td>-0.101577</td>\n      <td>0.201961</td>\n      <td>0.193148</td>\n      <td>-0.093571</td>\n      <td>-0.141215</td>\n      <td>-0.271731</td>\n      <td>0.193148</td>\n      <td>-0.073429</td>\n    </tr>\n    <tr>\n      <th>pow_dca</th>\n      <td>0.790685</td>\n      <td>0.784365</td>\n      <td>0.663986</td>\n      <td>0.470527</td>\n      <td>-0.107509</td>\n      <td>1.000000</td>\n      <td>0.996969</td>\n      <td>0.267682</td>\n      <td>-0.068629</td>\n      <td>-0.059473</td>\n      <td>0.068030</td>\n      <td>-0.304936</td>\n      <td>0.364857</td>\n      <td>0.641953</td>\n      <td>-0.110436</td>\n      <td>-0.294417</td>\n      <td>0.195376</td>\n      <td>0.641953</td>\n      <td>0.996969</td>\n    </tr>\n    <tr>\n      <th>watt</th>\n      <td>0.783853</td>\n      <td>0.768177</td>\n      <td>0.627295</td>\n      <td>0.424218</td>\n      <td>-0.073429</td>\n      <td>0.996969</td>\n      <td>1.000000</td>\n      <td>0.218764</td>\n      <td>-0.070573</td>\n      <td>-0.037682</td>\n      <td>0.055810</td>\n      <td>-0.306173</td>\n      <td>0.365138</td>\n      <td>0.624788</td>\n      <td>-0.111817</td>\n      <td>-0.300156</td>\n      <td>0.147840</td>\n      <td>0.624788</td>\n      <td>1.000000</td>\n    </tr>\n    <tr>\n      <th>기온</th>\n      <td>0.255199</td>\n      <td>0.387439</td>\n      <td>0.779082</td>\n      <td>0.934734</td>\n      <td>-0.237306</td>\n      <td>0.267682</td>\n      <td>0.218764</td>\n      <td>1.000000</td>\n      <td>0.038353</td>\n      <td>-0.301496</td>\n      <td>0.259795</td>\n      <td>-0.102466</td>\n      <td>0.148079</td>\n      <td>0.469887</td>\n      <td>-0.212616</td>\n      <td>-0.011824</td>\n      <td>0.957245</td>\n      <td>0.469887</td>\n      <td>0.218764</td>\n    </tr>\n    <tr>\n      <th>강수량</th>\n      <td>-0.096378</td>\n      <td>-0.092329</td>\n      <td>-0.029082</td>\n      <td>0.008264</td>\n      <td>-0.070726</td>\n      <td>-0.068629</td>\n      <td>-0.070573</td>\n      <td>0.038353</td>\n      <td>1.000000</td>\n      <td>-0.033620</td>\n      <td>-0.033264</td>\n      <td>0.181975</td>\n      <td>-0.128250</td>\n      <td>-0.116161</td>\n      <td>0.022525</td>\n      <td>0.115374</td>\n      <td>0.058358</td>\n      <td>-0.116161</td>\n      <td>-0.070573</td>\n    </tr>\n    <tr>\n      <th>풍속</th>\n      <td>-0.056202</td>\n      <td>-0.117137</td>\n      <td>-0.279754</td>\n      <td>-0.331027</td>\n      <td>0.074400</td>\n      <td>-0.059473</td>\n      <td>-0.037682</td>\n      <td>-0.301496</td>\n      <td>-0.033620</td>\n      <td>1.000000</td>\n      <td>0.022965</td>\n      <td>-0.103790</td>\n      <td>0.111002</td>\n      <td>0.041863</td>\n      <td>0.073636</td>\n      <td>-0.076750</td>\n      <td>-0.218296</td>\n      <td>0.041863</td>\n      <td>-0.037682</td>\n    </tr>\n    <tr>\n      <th>풍향</th>\n      <td>0.055157</td>\n      <td>0.081563</td>\n      <td>0.195006</td>\n      <td>0.234664</td>\n      <td>-0.084241</td>\n      <td>0.068030</td>\n      <td>0.055810</td>\n      <td>0.259795</td>\n      <td>-0.033264</td>\n      <td>0.022965</td>\n      <td>1.000000</td>\n      <td>-0.107238</td>\n      <td>0.083998</td>\n      <td>0.187844</td>\n      <td>-0.078772</td>\n      <td>-0.034687</td>\n      <td>0.234880</td>\n      <td>0.187844</td>\n      <td>0.055810</td>\n    </tr>\n    <tr>\n      <th>습도</th>\n      <td>-0.355360</td>\n      <td>-0.356208</td>\n      <td>-0.234923</td>\n      <td>-0.135246</td>\n      <td>-0.101577</td>\n      <td>-0.304936</td>\n      <td>-0.306173</td>\n      <td>-0.102466</td>\n      <td>0.181975</td>\n      <td>-0.103790</td>\n      <td>-0.107238</td>\n      <td>1.000000</td>\n      <td>-0.521331</td>\n      <td>-0.518228</td>\n      <td>0.143857</td>\n      <td>0.439673</td>\n      <td>0.011998</td>\n      <td>-0.518228</td>\n      <td>-0.306173</td>\n    </tr>\n    <tr>\n      <th>일조</th>\n      <td>0.493842</td>\n      <td>0.481861</td>\n      <td>0.352569</td>\n      <td>0.229798</td>\n      <td>0.201961</td>\n      <td>0.364857</td>\n      <td>0.365138</td>\n      <td>0.148079</td>\n      <td>-0.128250</td>\n      <td>0.111002</td>\n      <td>0.083998</td>\n      <td>-0.521331</td>\n      <td>1.000000</td>\n      <td>0.695606</td>\n      <td>-0.066886</td>\n      <td>-0.778062</td>\n      <td>0.074282</td>\n      <td>0.695606</td>\n      <td>0.365138</td>\n    </tr>\n    <tr>\n      <th>일사</th>\n      <td>0.803664</td>\n      <td>0.827458</td>\n      <td>0.762943</td>\n      <td>0.609500</td>\n      <td>0.193148</td>\n      <td>0.641953</td>\n      <td>0.624788</td>\n      <td>0.469887</td>\n      <td>-0.116161</td>\n      <td>0.041863</td>\n      <td>0.187844</td>\n      <td>-0.518228</td>\n      <td>0.695606</td>\n      <td>1.000000</td>\n      <td>-0.105132</td>\n      <td>-0.501361</td>\n      <td>0.373993</td>\n      <td>1.000000</td>\n      <td>0.624788</td>\n    </tr>\n    <tr>\n      <th>적설</th>\n      <td>-0.074931</td>\n      <td>-0.086934</td>\n      <td>-0.190998</td>\n      <td>-0.208793</td>\n      <td>-0.093571</td>\n      <td>-0.110436</td>\n      <td>-0.111817</td>\n      <td>-0.212616</td>\n      <td>0.022525</td>\n      <td>0.073636</td>\n      <td>-0.078772</td>\n      <td>0.143857</td>\n      <td>-0.066886</td>\n      <td>-0.105132</td>\n      <td>1.000000</td>\n      <td>0.074188</td>\n      <td>-0.143892</td>\n      <td>-0.105132</td>\n      <td>-0.111817</td>\n    </tr>\n    <tr>\n      <th>전운량</th>\n      <td>-0.388072</td>\n      <td>-0.361971</td>\n      <td>-0.211199</td>\n      <td>-0.091489</td>\n      <td>-0.141215</td>\n      <td>-0.294417</td>\n      <td>-0.300156</td>\n      <td>-0.011824</td>\n      <td>0.115374</td>\n      <td>-0.076750</td>\n      <td>-0.034687</td>\n      <td>0.439673</td>\n      <td>-0.778062</td>\n      <td>-0.501361</td>\n      <td>0.074188</td>\n      <td>1.000000</td>\n      <td>0.051821</td>\n      <td>-0.501361</td>\n      <td>-0.300156</td>\n    </tr>\n    <tr>\n      <th>지중온도</th>\n      <td>0.165858</td>\n      <td>0.303124</td>\n      <td>0.697967</td>\n      <td>0.874087</td>\n      <td>-0.271731</td>\n      <td>0.195376</td>\n      <td>0.147840</td>\n      <td>0.957245</td>\n      <td>0.058358</td>\n      <td>-0.218296</td>\n      <td>0.234880</td>\n      <td>0.011998</td>\n      <td>0.074282</td>\n      <td>0.373993</td>\n      <td>-0.143892</td>\n      <td>0.051821</td>\n      <td>1.000000</td>\n      <td>0.373993</td>\n      <td>0.147840</td>\n    </tr>\n    <tr>\n      <th>match_solar</th>\n      <td>0.803664</td>\n      <td>0.827458</td>\n      <td>0.762943</td>\n      <td>0.609500</td>\n      <td>0.193148</td>\n      <td>0.641953</td>\n      <td>0.624788</td>\n      <td>0.469887</td>\n      <td>-0.116161</td>\n      <td>0.041863</td>\n      <td>0.187844</td>\n      <td>-0.518228</td>\n      <td>0.695606</td>\n      <td>1.000000</td>\n      <td>-0.105132</td>\n      <td>-0.501361</td>\n      <td>0.373993</td>\n      <td>1.000000</td>\n      <td>0.624788</td>\n    </tr>\n    <tr>\n      <th>z_score</th>\n      <td>0.783853</td>\n      <td>0.768177</td>\n      <td>0.627295</td>\n      <td>0.424218</td>\n      <td>-0.073429</td>\n      <td>0.996969</td>\n      <td>1.000000</td>\n      <td>0.218764</td>\n      <td>-0.070573</td>\n      <td>-0.037682</td>\n      <td>0.055810</td>\n      <td>-0.306173</td>\n      <td>0.365138</td>\n      <td>0.624788</td>\n      <td>-0.111817</td>\n      <td>-0.300156</td>\n      <td>0.147840</td>\n      <td>0.624788</td>\n      <td>1.000000</td>\n    </tr>\n  </tbody>\n</table>\n</div>"
     },
     "metadata": {},
     "execution_count": 9
    }
   ],
   "source": [
    "join_ent_other_del.corr()"
   ]
  },
  {
   "cell_type": "code",
   "execution_count": 10,
   "metadata": {},
   "outputs": [
    {
     "output_type": "execute_result",
     "data": {
      "text/plain": [
       "<matplotlib.axes._subplots.AxesSubplot at 0x25687712788>"
      ]
     },
     "metadata": {},
     "execution_count": 10
    },
    {
     "output_type": "display_data",
     "data": {
      "text/plain": "<Figure size 432x288 with 1 Axes>",
      "image/svg+xml": "<?xml version=\"1.0\" encoding=\"utf-8\" standalone=\"no\"?>\r\n<!DOCTYPE svg PUBLIC \"-//W3C//DTD SVG 1.1//EN\"\r\n  \"http://www.w3.org/Graphics/SVG/1.1/DTD/svg11.dtd\">\r\n<!-- Created with matplotlib (https://matplotlib.org/) -->\r\n<svg height=\"248.79625pt\" version=\"1.1\" viewBox=\"0 0 381.65 248.79625\" width=\"381.65pt\" xmlns=\"http://www.w3.org/2000/svg\" xmlns:xlink=\"http://www.w3.org/1999/xlink\">\r\n <defs>\r\n  <style type=\"text/css\">\r\n*{stroke-linecap:butt;stroke-linejoin:round;}\r\n  </style>\r\n </defs>\r\n <g id=\"figure_1\">\r\n  <g id=\"patch_1\">\r\n   <path d=\"M -0 248.79625 \r\nL 381.65 248.79625 \r\nL 381.65 0 \r\nL -0 0 \r\nz\r\n\" style=\"fill:none;\"/>\r\n  </g>\r\n  <g id=\"axes_1\">\r\n   <g id=\"patch_2\">\r\n    <path d=\"M 39.65 224.64 \r\nL 374.45 224.64 \r\nL 374.45 7.2 \r\nL 39.65 7.2 \r\nz\r\n\" style=\"fill:#ffffff;\"/>\r\n   </g>\r\n   <g id=\"patch_3\">\r\n    <path clip-path=\"url(#pb3e2711fa0)\" d=\"M 50.81 186.266542 \r\nL 140.09 186.266542 \r\nL 140.09 87.576975 \r\nL 50.81 87.576975 \r\nL 50.81 186.266542 \r\nz\r\n\" style=\"fill:#3274a1;stroke:#3d3d3d;stroke-linejoin:miter;stroke-width:1.5;\"/>\r\n   </g>\r\n   <g id=\"patch_4\">\r\n    <path clip-path=\"url(#pb3e2711fa0)\" d=\"M 162.41 187.044573 \r\nL 251.69 187.044573 \r\nL 251.69 94.762224 \r\nL 162.41 94.762224 \r\nL 162.41 187.044573 \r\nz\r\n\" style=\"fill:#e1812c;stroke:#3d3d3d;stroke-linejoin:miter;stroke-width:1.5;\"/>\r\n   </g>\r\n   <g id=\"patch_5\">\r\n    <path clip-path=\"url(#pb3e2711fa0)\" d=\"M 274.01 178.725728 \r\nL 363.29 178.725728 \r\nL 363.29 97.265162 \r\nL 274.01 97.265162 \r\nL 274.01 178.725728 \r\nz\r\n\" style=\"fill:#3a923a;stroke:#3d3d3d;stroke-linejoin:miter;stroke-width:1.5;\"/>\r\n   </g>\r\n   <g id=\"matplotlib.axis_1\">\r\n    <g id=\"xtick_1\">\r\n     <g id=\"line2d_1\">\r\n      <defs>\r\n       <path d=\"M 0 0 \r\nL 0 3.5 \r\n\" id=\"mc4814ad5b5\" style=\"stroke:#000000;stroke-width:0.8;\"/>\r\n      </defs>\r\n      <g>\r\n       <use style=\"stroke:#000000;stroke-width:0.8;\" x=\"95.45\" xlink:href=\"#mc4814ad5b5\" y=\"224.64\"/>\r\n      </g>\r\n     </g>\r\n     <g id=\"text_1\">\r\n      <!-- env_slopesolar -->\r\n      <defs>\r\n       <path d=\"M 56.203125 29.59375 \r\nL 56.203125 25.203125 \r\nL 14.890625 25.203125 \r\nQ 15.484375 15.921875 20.484375 11.0625 \r\nQ 25.484375 6.203125 34.421875 6.203125 \r\nQ 39.59375 6.203125 44.453125 7.46875 \r\nQ 49.3125 8.734375 54.109375 11.28125 \r\nL 54.109375 2.78125 \r\nQ 49.265625 0.734375 44.1875 -0.34375 \r\nQ 39.109375 -1.421875 33.890625 -1.421875 \r\nQ 20.796875 -1.421875 13.15625 6.1875 \r\nQ 5.515625 13.8125 5.515625 26.8125 \r\nQ 5.515625 40.234375 12.765625 48.109375 \r\nQ 20.015625 56 32.328125 56 \r\nQ 43.359375 56 49.78125 48.890625 \r\nQ 56.203125 41.796875 56.203125 29.59375 \r\nz\r\nM 47.21875 32.234375 \r\nQ 47.125 39.59375 43.09375 43.984375 \r\nQ 39.0625 48.390625 32.421875 48.390625 \r\nQ 24.90625 48.390625 20.390625 44.140625 \r\nQ 15.875 39.890625 15.1875 32.171875 \r\nz\r\n\" id=\"DejaVuSans-101\"/>\r\n       <path d=\"M 54.890625 33.015625 \r\nL 54.890625 0 \r\nL 45.90625 0 \r\nL 45.90625 32.71875 \r\nQ 45.90625 40.484375 42.875 44.328125 \r\nQ 39.84375 48.1875 33.796875 48.1875 \r\nQ 26.515625 48.1875 22.3125 43.546875 \r\nQ 18.109375 38.921875 18.109375 30.90625 \r\nL 18.109375 0 \r\nL 9.078125 0 \r\nL 9.078125 54.6875 \r\nL 18.109375 54.6875 \r\nL 18.109375 46.1875 \r\nQ 21.34375 51.125 25.703125 53.5625 \r\nQ 30.078125 56 35.796875 56 \r\nQ 45.21875 56 50.046875 50.171875 \r\nQ 54.890625 44.34375 54.890625 33.015625 \r\nz\r\n\" id=\"DejaVuSans-110\"/>\r\n       <path d=\"M 2.984375 54.6875 \r\nL 12.5 54.6875 \r\nL 29.59375 8.796875 \r\nL 46.6875 54.6875 \r\nL 56.203125 54.6875 \r\nL 35.6875 0 \r\nL 23.484375 0 \r\nz\r\n\" id=\"DejaVuSans-118\"/>\r\n       <path d=\"M 50.984375 -16.609375 \r\nL 50.984375 -23.578125 \r\nL -0.984375 -23.578125 \r\nL -0.984375 -16.609375 \r\nz\r\n\" id=\"DejaVuSans-95\"/>\r\n       <path d=\"M 44.28125 53.078125 \r\nL 44.28125 44.578125 \r\nQ 40.484375 46.53125 36.375 47.5 \r\nQ 32.28125 48.484375 27.875 48.484375 \r\nQ 21.1875 48.484375 17.84375 46.4375 \r\nQ 14.5 44.390625 14.5 40.28125 \r\nQ 14.5 37.15625 16.890625 35.375 \r\nQ 19.28125 33.59375 26.515625 31.984375 \r\nL 29.59375 31.296875 \r\nQ 39.15625 29.25 43.1875 25.515625 \r\nQ 47.21875 21.78125 47.21875 15.09375 \r\nQ 47.21875 7.46875 41.1875 3.015625 \r\nQ 35.15625 -1.421875 24.609375 -1.421875 \r\nQ 20.21875 -1.421875 15.453125 -0.5625 \r\nQ 10.6875 0.296875 5.421875 2 \r\nL 5.421875 11.28125 \r\nQ 10.40625 8.6875 15.234375 7.390625 \r\nQ 20.0625 6.109375 24.8125 6.109375 \r\nQ 31.15625 6.109375 34.5625 8.28125 \r\nQ 37.984375 10.453125 37.984375 14.40625 \r\nQ 37.984375 18.0625 35.515625 20.015625 \r\nQ 33.0625 21.96875 24.703125 23.78125 \r\nL 21.578125 24.515625 \r\nQ 13.234375 26.265625 9.515625 29.90625 \r\nQ 5.8125 33.546875 5.8125 39.890625 \r\nQ 5.8125 47.609375 11.28125 51.796875 \r\nQ 16.75 56 26.8125 56 \r\nQ 31.78125 56 36.171875 55.265625 \r\nQ 40.578125 54.546875 44.28125 53.078125 \r\nz\r\n\" id=\"DejaVuSans-115\"/>\r\n       <path d=\"M 9.421875 75.984375 \r\nL 18.40625 75.984375 \r\nL 18.40625 0 \r\nL 9.421875 0 \r\nz\r\n\" id=\"DejaVuSans-108\"/>\r\n       <path d=\"M 30.609375 48.390625 \r\nQ 23.390625 48.390625 19.1875 42.75 \r\nQ 14.984375 37.109375 14.984375 27.296875 \r\nQ 14.984375 17.484375 19.15625 11.84375 \r\nQ 23.34375 6.203125 30.609375 6.203125 \r\nQ 37.796875 6.203125 41.984375 11.859375 \r\nQ 46.1875 17.53125 46.1875 27.296875 \r\nQ 46.1875 37.015625 41.984375 42.703125 \r\nQ 37.796875 48.390625 30.609375 48.390625 \r\nz\r\nM 30.609375 56 \r\nQ 42.328125 56 49.015625 48.375 \r\nQ 55.71875 40.765625 55.71875 27.296875 \r\nQ 55.71875 13.875 49.015625 6.21875 \r\nQ 42.328125 -1.421875 30.609375 -1.421875 \r\nQ 18.84375 -1.421875 12.171875 6.21875 \r\nQ 5.515625 13.875 5.515625 27.296875 \r\nQ 5.515625 40.765625 12.171875 48.375 \r\nQ 18.84375 56 30.609375 56 \r\nz\r\n\" id=\"DejaVuSans-111\"/>\r\n       <path d=\"M 18.109375 8.203125 \r\nL 18.109375 -20.796875 \r\nL 9.078125 -20.796875 \r\nL 9.078125 54.6875 \r\nL 18.109375 54.6875 \r\nL 18.109375 46.390625 \r\nQ 20.953125 51.265625 25.265625 53.625 \r\nQ 29.59375 56 35.59375 56 \r\nQ 45.5625 56 51.78125 48.09375 \r\nQ 58.015625 40.1875 58.015625 27.296875 \r\nQ 58.015625 14.40625 51.78125 6.484375 \r\nQ 45.5625 -1.421875 35.59375 -1.421875 \r\nQ 29.59375 -1.421875 25.265625 0.953125 \r\nQ 20.953125 3.328125 18.109375 8.203125 \r\nz\r\nM 48.6875 27.296875 \r\nQ 48.6875 37.203125 44.609375 42.84375 \r\nQ 40.53125 48.484375 33.40625 48.484375 \r\nQ 26.265625 48.484375 22.1875 42.84375 \r\nQ 18.109375 37.203125 18.109375 27.296875 \r\nQ 18.109375 17.390625 22.1875 11.75 \r\nQ 26.265625 6.109375 33.40625 6.109375 \r\nQ 40.53125 6.109375 44.609375 11.75 \r\nQ 48.6875 17.390625 48.6875 27.296875 \r\nz\r\n\" id=\"DejaVuSans-112\"/>\r\n       <path d=\"M 34.28125 27.484375 \r\nQ 23.390625 27.484375 19.1875 25 \r\nQ 14.984375 22.515625 14.984375 16.5 \r\nQ 14.984375 11.71875 18.140625 8.90625 \r\nQ 21.296875 6.109375 26.703125 6.109375 \r\nQ 34.1875 6.109375 38.703125 11.40625 \r\nQ 43.21875 16.703125 43.21875 25.484375 \r\nL 43.21875 27.484375 \r\nz\r\nM 52.203125 31.203125 \r\nL 52.203125 0 \r\nL 43.21875 0 \r\nL 43.21875 8.296875 \r\nQ 40.140625 3.328125 35.546875 0.953125 \r\nQ 30.953125 -1.421875 24.3125 -1.421875 \r\nQ 15.921875 -1.421875 10.953125 3.296875 \r\nQ 6 8.015625 6 15.921875 \r\nQ 6 25.140625 12.171875 29.828125 \r\nQ 18.359375 34.515625 30.609375 34.515625 \r\nL 43.21875 34.515625 \r\nL 43.21875 35.40625 \r\nQ 43.21875 41.609375 39.140625 45 \r\nQ 35.0625 48.390625 27.6875 48.390625 \r\nQ 23 48.390625 18.546875 47.265625 \r\nQ 14.109375 46.140625 10.015625 43.890625 \r\nL 10.015625 52.203125 \r\nQ 14.9375 54.109375 19.578125 55.046875 \r\nQ 24.21875 56 28.609375 56 \r\nQ 40.484375 56 46.34375 49.84375 \r\nQ 52.203125 43.703125 52.203125 31.203125 \r\nz\r\n\" id=\"DejaVuSans-97\"/>\r\n       <path d=\"M 41.109375 46.296875 \r\nQ 39.59375 47.171875 37.8125 47.578125 \r\nQ 36.03125 48 33.890625 48 \r\nQ 26.265625 48 22.1875 43.046875 \r\nQ 18.109375 38.09375 18.109375 28.8125 \r\nL 18.109375 0 \r\nL 9.078125 0 \r\nL 9.078125 54.6875 \r\nL 18.109375 54.6875 \r\nL 18.109375 46.1875 \r\nQ 20.953125 51.171875 25.484375 53.578125 \r\nQ 30.03125 56 36.53125 56 \r\nQ 37.453125 56 38.578125 55.875 \r\nQ 39.703125 55.765625 41.0625 55.515625 \r\nz\r\n\" id=\"DejaVuSans-114\"/>\r\n      </defs>\r\n      <g transform=\"translate(58.26875 239.238438)scale(0.1 -0.1)\">\r\n       <use xlink:href=\"#DejaVuSans-101\"/>\r\n       <use x=\"61.523438\" xlink:href=\"#DejaVuSans-110\"/>\r\n       <use x=\"124.902344\" xlink:href=\"#DejaVuSans-118\"/>\r\n       <use x=\"184.082031\" xlink:href=\"#DejaVuSans-95\"/>\r\n       <use x=\"234.082031\" xlink:href=\"#DejaVuSans-115\"/>\r\n       <use x=\"286.181641\" xlink:href=\"#DejaVuSans-108\"/>\r\n       <use x=\"313.964844\" xlink:href=\"#DejaVuSans-111\"/>\r\n       <use x=\"375.146484\" xlink:href=\"#DejaVuSans-112\"/>\r\n       <use x=\"438.623047\" xlink:href=\"#DejaVuSans-101\"/>\r\n       <use x=\"500.146484\" xlink:href=\"#DejaVuSans-115\"/>\r\n       <use x=\"552.246094\" xlink:href=\"#DejaVuSans-111\"/>\r\n       <use x=\"613.427734\" xlink:href=\"#DejaVuSans-108\"/>\r\n       <use x=\"641.210938\" xlink:href=\"#DejaVuSans-97\"/>\r\n       <use x=\"702.490234\" xlink:href=\"#DejaVuSans-114\"/>\r\n      </g>\r\n     </g>\r\n    </g>\r\n    <g id=\"xtick_2\">\r\n     <g id=\"line2d_2\">\r\n      <g>\r\n       <use style=\"stroke:#000000;stroke-width:0.8;\" x=\"207.05\" xlink:href=\"#mc4814ad5b5\" y=\"224.64\"/>\r\n      </g>\r\n     </g>\r\n     <g id=\"text_2\">\r\n      <!-- env_levelsolar -->\r\n      <g transform=\"translate(171.282031 239.238438)scale(0.1 -0.1)\">\r\n       <use xlink:href=\"#DejaVuSans-101\"/>\r\n       <use x=\"61.523438\" xlink:href=\"#DejaVuSans-110\"/>\r\n       <use x=\"124.902344\" xlink:href=\"#DejaVuSans-118\"/>\r\n       <use x=\"184.082031\" xlink:href=\"#DejaVuSans-95\"/>\r\n       <use x=\"234.082031\" xlink:href=\"#DejaVuSans-108\"/>\r\n       <use x=\"261.865234\" xlink:href=\"#DejaVuSans-101\"/>\r\n       <use x=\"323.388672\" xlink:href=\"#DejaVuSans-118\"/>\r\n       <use x=\"382.568359\" xlink:href=\"#DejaVuSans-101\"/>\r\n       <use x=\"444.091797\" xlink:href=\"#DejaVuSans-108\"/>\r\n       <use x=\"471.875\" xlink:href=\"#DejaVuSans-115\"/>\r\n       <use x=\"523.974609\" xlink:href=\"#DejaVuSans-111\"/>\r\n       <use x=\"585.15625\" xlink:href=\"#DejaVuSans-108\"/>\r\n       <use x=\"612.939453\" xlink:href=\"#DejaVuSans-97\"/>\r\n       <use x=\"674.21875\" xlink:href=\"#DejaVuSans-114\"/>\r\n      </g>\r\n     </g>\r\n    </g>\r\n    <g id=\"xtick_3\">\r\n     <g id=\"line2d_3\">\r\n      <g>\r\n       <use style=\"stroke:#000000;stroke-width:0.8;\" x=\"318.65\" xlink:href=\"#mc4814ad5b5\" y=\"224.64\"/>\r\n      </g>\r\n     </g>\r\n     <g id=\"text_3\">\r\n      <!-- match_solar -->\r\n      <defs>\r\n       <path d=\"M 52 44.1875 \r\nQ 55.375 50.25 60.0625 53.125 \r\nQ 64.75 56 71.09375 56 \r\nQ 79.640625 56 84.28125 50.015625 \r\nQ 88.921875 44.046875 88.921875 33.015625 \r\nL 88.921875 0 \r\nL 79.890625 0 \r\nL 79.890625 32.71875 \r\nQ 79.890625 40.578125 77.09375 44.375 \r\nQ 74.3125 48.1875 68.609375 48.1875 \r\nQ 61.625 48.1875 57.5625 43.546875 \r\nQ 53.515625 38.921875 53.515625 30.90625 \r\nL 53.515625 0 \r\nL 44.484375 0 \r\nL 44.484375 32.71875 \r\nQ 44.484375 40.625 41.703125 44.40625 \r\nQ 38.921875 48.1875 33.109375 48.1875 \r\nQ 26.21875 48.1875 22.15625 43.53125 \r\nQ 18.109375 38.875 18.109375 30.90625 \r\nL 18.109375 0 \r\nL 9.078125 0 \r\nL 9.078125 54.6875 \r\nL 18.109375 54.6875 \r\nL 18.109375 46.1875 \r\nQ 21.1875 51.21875 25.484375 53.609375 \r\nQ 29.78125 56 35.6875 56 \r\nQ 41.65625 56 45.828125 52.96875 \r\nQ 50 49.953125 52 44.1875 \r\nz\r\n\" id=\"DejaVuSans-109\"/>\r\n       <path d=\"M 18.3125 70.21875 \r\nL 18.3125 54.6875 \r\nL 36.8125 54.6875 \r\nL 36.8125 47.703125 \r\nL 18.3125 47.703125 \r\nL 18.3125 18.015625 \r\nQ 18.3125 11.328125 20.140625 9.421875 \r\nQ 21.96875 7.515625 27.59375 7.515625 \r\nL 36.8125 7.515625 \r\nL 36.8125 0 \r\nL 27.59375 0 \r\nQ 17.1875 0 13.234375 3.875 \r\nQ 9.28125 7.765625 9.28125 18.015625 \r\nL 9.28125 47.703125 \r\nL 2.6875 47.703125 \r\nL 2.6875 54.6875 \r\nL 9.28125 54.6875 \r\nL 9.28125 70.21875 \r\nz\r\n\" id=\"DejaVuSans-116\"/>\r\n       <path d=\"M 48.78125 52.59375 \r\nL 48.78125 44.1875 \r\nQ 44.96875 46.296875 41.140625 47.34375 \r\nQ 37.3125 48.390625 33.40625 48.390625 \r\nQ 24.65625 48.390625 19.8125 42.84375 \r\nQ 14.984375 37.3125 14.984375 27.296875 \r\nQ 14.984375 17.28125 19.8125 11.734375 \r\nQ 24.65625 6.203125 33.40625 6.203125 \r\nQ 37.3125 6.203125 41.140625 7.25 \r\nQ 44.96875 8.296875 48.78125 10.40625 \r\nL 48.78125 2.09375 \r\nQ 45.015625 0.34375 40.984375 -0.53125 \r\nQ 36.96875 -1.421875 32.421875 -1.421875 \r\nQ 20.0625 -1.421875 12.78125 6.34375 \r\nQ 5.515625 14.109375 5.515625 27.296875 \r\nQ 5.515625 40.671875 12.859375 48.328125 \r\nQ 20.21875 56 33.015625 56 \r\nQ 37.15625 56 41.109375 55.140625 \r\nQ 45.0625 54.296875 48.78125 52.59375 \r\nz\r\n\" id=\"DejaVuSans-99\"/>\r\n       <path d=\"M 54.890625 33.015625 \r\nL 54.890625 0 \r\nL 45.90625 0 \r\nL 45.90625 32.71875 \r\nQ 45.90625 40.484375 42.875 44.328125 \r\nQ 39.84375 48.1875 33.796875 48.1875 \r\nQ 26.515625 48.1875 22.3125 43.546875 \r\nQ 18.109375 38.921875 18.109375 30.90625 \r\nL 18.109375 0 \r\nL 9.078125 0 \r\nL 9.078125 75.984375 \r\nL 18.109375 75.984375 \r\nL 18.109375 46.1875 \r\nQ 21.34375 51.125 25.703125 53.5625 \r\nQ 30.078125 56 35.796875 56 \r\nQ 45.21875 56 50.046875 50.171875 \r\nQ 54.890625 44.34375 54.890625 33.015625 \r\nz\r\n\" id=\"DejaVuSans-104\"/>\r\n      </defs>\r\n      <g transform=\"translate(288.164844 239.238438)scale(0.1 -0.1)\">\r\n       <use xlink:href=\"#DejaVuSans-109\"/>\r\n       <use x=\"97.412109\" xlink:href=\"#DejaVuSans-97\"/>\r\n       <use x=\"158.691406\" xlink:href=\"#DejaVuSans-116\"/>\r\n       <use x=\"197.900391\" xlink:href=\"#DejaVuSans-99\"/>\r\n       <use x=\"252.880859\" xlink:href=\"#DejaVuSans-104\"/>\r\n       <use x=\"316.259766\" xlink:href=\"#DejaVuSans-95\"/>\r\n       <use x=\"366.259766\" xlink:href=\"#DejaVuSans-115\"/>\r\n       <use x=\"418.359375\" xlink:href=\"#DejaVuSans-111\"/>\r\n       <use x=\"479.541016\" xlink:href=\"#DejaVuSans-108\"/>\r\n       <use x=\"507.324219\" xlink:href=\"#DejaVuSans-97\"/>\r\n       <use x=\"568.603516\" xlink:href=\"#DejaVuSans-114\"/>\r\n      </g>\r\n     </g>\r\n    </g>\r\n   </g>\r\n   <g id=\"matplotlib.axis_2\">\r\n    <g id=\"ytick_1\">\r\n     <g id=\"line2d_4\">\r\n      <defs>\r\n       <path d=\"M 0 0 \r\nL -3.5 0 \r\n\" id=\"mcb5ac9aad4\" style=\"stroke:#000000;stroke-width:0.8;\"/>\r\n      </defs>\r\n      <g>\r\n       <use style=\"stroke:#000000;stroke-width:0.8;\" x=\"39.65\" xlink:href=\"#mcb5ac9aad4\" y=\"214.756364\"/>\r\n      </g>\r\n     </g>\r\n     <g id=\"text_4\">\r\n      <!-- 0 -->\r\n      <defs>\r\n       <path d=\"M 31.78125 66.40625 \r\nQ 24.171875 66.40625 20.328125 58.90625 \r\nQ 16.5 51.421875 16.5 36.375 \r\nQ 16.5 21.390625 20.328125 13.890625 \r\nQ 24.171875 6.390625 31.78125 6.390625 \r\nQ 39.453125 6.390625 43.28125 13.890625 \r\nQ 47.125 21.390625 47.125 36.375 \r\nQ 47.125 51.421875 43.28125 58.90625 \r\nQ 39.453125 66.40625 31.78125 66.40625 \r\nz\r\nM 31.78125 74.21875 \r\nQ 44.046875 74.21875 50.515625 64.515625 \r\nQ 56.984375 54.828125 56.984375 36.375 \r\nQ 56.984375 17.96875 50.515625 8.265625 \r\nQ 44.046875 -1.421875 31.78125 -1.421875 \r\nQ 19.53125 -1.421875 13.0625 8.265625 \r\nQ 6.59375 17.96875 6.59375 36.375 \r\nQ 6.59375 54.828125 13.0625 64.515625 \r\nQ 19.53125 74.21875 31.78125 74.21875 \r\nz\r\n\" id=\"DejaVuSans-48\"/>\r\n      </defs>\r\n      <g transform=\"translate(26.2875 218.555582)scale(0.1 -0.1)\">\r\n       <use xlink:href=\"#DejaVuSans-48\"/>\r\n      </g>\r\n     </g>\r\n    </g>\r\n    <g id=\"ytick_2\">\r\n     <g id=\"line2d_5\">\r\n      <g>\r\n       <use style=\"stroke:#000000;stroke-width:0.8;\" x=\"39.65\" xlink:href=\"#mcb5ac9aad4\" y=\"177.159179\"/>\r\n      </g>\r\n     </g>\r\n     <g id=\"text_5\">\r\n      <!-- 200 -->\r\n      <defs>\r\n       <path d=\"M 19.1875 8.296875 \r\nL 53.609375 8.296875 \r\nL 53.609375 0 \r\nL 7.328125 0 \r\nL 7.328125 8.296875 \r\nQ 12.9375 14.109375 22.625 23.890625 \r\nQ 32.328125 33.6875 34.8125 36.53125 \r\nQ 39.546875 41.84375 41.421875 45.53125 \r\nQ 43.3125 49.21875 43.3125 52.78125 \r\nQ 43.3125 58.59375 39.234375 62.25 \r\nQ 35.15625 65.921875 28.609375 65.921875 \r\nQ 23.96875 65.921875 18.8125 64.3125 \r\nQ 13.671875 62.703125 7.8125 59.421875 \r\nL 7.8125 69.390625 \r\nQ 13.765625 71.78125 18.9375 73 \r\nQ 24.125 74.21875 28.421875 74.21875 \r\nQ 39.75 74.21875 46.484375 68.546875 \r\nQ 53.21875 62.890625 53.21875 53.421875 \r\nQ 53.21875 48.921875 51.53125 44.890625 \r\nQ 49.859375 40.875 45.40625 35.40625 \r\nQ 44.1875 33.984375 37.640625 27.21875 \r\nQ 31.109375 20.453125 19.1875 8.296875 \r\nz\r\n\" id=\"DejaVuSans-50\"/>\r\n      </defs>\r\n      <g transform=\"translate(13.5625 180.958398)scale(0.1 -0.1)\">\r\n       <use xlink:href=\"#DejaVuSans-50\"/>\r\n       <use x=\"63.623047\" xlink:href=\"#DejaVuSans-48\"/>\r\n       <use x=\"127.246094\" xlink:href=\"#DejaVuSans-48\"/>\r\n      </g>\r\n     </g>\r\n    </g>\r\n    <g id=\"ytick_3\">\r\n     <g id=\"line2d_6\">\r\n      <g>\r\n       <use style=\"stroke:#000000;stroke-width:0.8;\" x=\"39.65\" xlink:href=\"#mcb5ac9aad4\" y=\"139.561994\"/>\r\n      </g>\r\n     </g>\r\n     <g id=\"text_6\">\r\n      <!-- 400 -->\r\n      <defs>\r\n       <path d=\"M 37.796875 64.3125 \r\nL 12.890625 25.390625 \r\nL 37.796875 25.390625 \r\nz\r\nM 35.203125 72.90625 \r\nL 47.609375 72.90625 \r\nL 47.609375 25.390625 \r\nL 58.015625 25.390625 \r\nL 58.015625 17.1875 \r\nL 47.609375 17.1875 \r\nL 47.609375 0 \r\nL 37.796875 0 \r\nL 37.796875 17.1875 \r\nL 4.890625 17.1875 \r\nL 4.890625 26.703125 \r\nz\r\n\" id=\"DejaVuSans-52\"/>\r\n      </defs>\r\n      <g transform=\"translate(13.5625 143.361213)scale(0.1 -0.1)\">\r\n       <use xlink:href=\"#DejaVuSans-52\"/>\r\n       <use x=\"63.623047\" xlink:href=\"#DejaVuSans-48\"/>\r\n       <use x=\"127.246094\" xlink:href=\"#DejaVuSans-48\"/>\r\n      </g>\r\n     </g>\r\n    </g>\r\n    <g id=\"ytick_4\">\r\n     <g id=\"line2d_7\">\r\n      <g>\r\n       <use style=\"stroke:#000000;stroke-width:0.8;\" x=\"39.65\" xlink:href=\"#mcb5ac9aad4\" y=\"101.96481\"/>\r\n      </g>\r\n     </g>\r\n     <g id=\"text_7\">\r\n      <!-- 600 -->\r\n      <defs>\r\n       <path d=\"M 33.015625 40.375 \r\nQ 26.375 40.375 22.484375 35.828125 \r\nQ 18.609375 31.296875 18.609375 23.390625 \r\nQ 18.609375 15.53125 22.484375 10.953125 \r\nQ 26.375 6.390625 33.015625 6.390625 \r\nQ 39.65625 6.390625 43.53125 10.953125 \r\nQ 47.40625 15.53125 47.40625 23.390625 \r\nQ 47.40625 31.296875 43.53125 35.828125 \r\nQ 39.65625 40.375 33.015625 40.375 \r\nz\r\nM 52.59375 71.296875 \r\nL 52.59375 62.3125 \r\nQ 48.875 64.0625 45.09375 64.984375 \r\nQ 41.3125 65.921875 37.59375 65.921875 \r\nQ 27.828125 65.921875 22.671875 59.328125 \r\nQ 17.53125 52.734375 16.796875 39.40625 \r\nQ 19.671875 43.65625 24.015625 45.921875 \r\nQ 28.375 48.1875 33.59375 48.1875 \r\nQ 44.578125 48.1875 50.953125 41.515625 \r\nQ 57.328125 34.859375 57.328125 23.390625 \r\nQ 57.328125 12.15625 50.6875 5.359375 \r\nQ 44.046875 -1.421875 33.015625 -1.421875 \r\nQ 20.359375 -1.421875 13.671875 8.265625 \r\nQ 6.984375 17.96875 6.984375 36.375 \r\nQ 6.984375 53.65625 15.1875 63.9375 \r\nQ 23.390625 74.21875 37.203125 74.21875 \r\nQ 40.921875 74.21875 44.703125 73.484375 \r\nQ 48.484375 72.75 52.59375 71.296875 \r\nz\r\n\" id=\"DejaVuSans-54\"/>\r\n      </defs>\r\n      <g transform=\"translate(13.5625 105.764028)scale(0.1 -0.1)\">\r\n       <use xlink:href=\"#DejaVuSans-54\"/>\r\n       <use x=\"63.623047\" xlink:href=\"#DejaVuSans-48\"/>\r\n       <use x=\"127.246094\" xlink:href=\"#DejaVuSans-48\"/>\r\n      </g>\r\n     </g>\r\n    </g>\r\n    <g id=\"ytick_5\">\r\n     <g id=\"line2d_8\">\r\n      <g>\r\n       <use style=\"stroke:#000000;stroke-width:0.8;\" x=\"39.65\" xlink:href=\"#mcb5ac9aad4\" y=\"64.367625\"/>\r\n      </g>\r\n     </g>\r\n     <g id=\"text_8\">\r\n      <!-- 800 -->\r\n      <defs>\r\n       <path d=\"M 31.78125 34.625 \r\nQ 24.75 34.625 20.71875 30.859375 \r\nQ 16.703125 27.09375 16.703125 20.515625 \r\nQ 16.703125 13.921875 20.71875 10.15625 \r\nQ 24.75 6.390625 31.78125 6.390625 \r\nQ 38.8125 6.390625 42.859375 10.171875 \r\nQ 46.921875 13.96875 46.921875 20.515625 \r\nQ 46.921875 27.09375 42.890625 30.859375 \r\nQ 38.875 34.625 31.78125 34.625 \r\nz\r\nM 21.921875 38.8125 \r\nQ 15.578125 40.375 12.03125 44.71875 \r\nQ 8.5 49.078125 8.5 55.328125 \r\nQ 8.5 64.0625 14.71875 69.140625 \r\nQ 20.953125 74.21875 31.78125 74.21875 \r\nQ 42.671875 74.21875 48.875 69.140625 \r\nQ 55.078125 64.0625 55.078125 55.328125 \r\nQ 55.078125 49.078125 51.53125 44.71875 \r\nQ 48 40.375 41.703125 38.8125 \r\nQ 48.828125 37.15625 52.796875 32.3125 \r\nQ 56.78125 27.484375 56.78125 20.515625 \r\nQ 56.78125 9.90625 50.3125 4.234375 \r\nQ 43.84375 -1.421875 31.78125 -1.421875 \r\nQ 19.734375 -1.421875 13.25 4.234375 \r\nQ 6.78125 9.90625 6.78125 20.515625 \r\nQ 6.78125 27.484375 10.78125 32.3125 \r\nQ 14.796875 37.15625 21.921875 38.8125 \r\nz\r\nM 18.3125 54.390625 \r\nQ 18.3125 48.734375 21.84375 45.5625 \r\nQ 25.390625 42.390625 31.78125 42.390625 \r\nQ 38.140625 42.390625 41.71875 45.5625 \r\nQ 45.3125 48.734375 45.3125 54.390625 \r\nQ 45.3125 60.0625 41.71875 63.234375 \r\nQ 38.140625 66.40625 31.78125 66.40625 \r\nQ 25.390625 66.40625 21.84375 63.234375 \r\nQ 18.3125 60.0625 18.3125 54.390625 \r\nz\r\n\" id=\"DejaVuSans-56\"/>\r\n      </defs>\r\n      <g transform=\"translate(13.5625 68.166844)scale(0.1 -0.1)\">\r\n       <use xlink:href=\"#DejaVuSans-56\"/>\r\n       <use x=\"63.623047\" xlink:href=\"#DejaVuSans-48\"/>\r\n       <use x=\"127.246094\" xlink:href=\"#DejaVuSans-48\"/>\r\n      </g>\r\n     </g>\r\n    </g>\r\n    <g id=\"ytick_6\">\r\n     <g id=\"line2d_9\">\r\n      <g>\r\n       <use style=\"stroke:#000000;stroke-width:0.8;\" x=\"39.65\" xlink:href=\"#mcb5ac9aad4\" y=\"26.77044\"/>\r\n      </g>\r\n     </g>\r\n     <g id=\"text_9\">\r\n      <!-- 1000 -->\r\n      <defs>\r\n       <path d=\"M 12.40625 8.296875 \r\nL 28.515625 8.296875 \r\nL 28.515625 63.921875 \r\nL 10.984375 60.40625 \r\nL 10.984375 69.390625 \r\nL 28.421875 72.90625 \r\nL 38.28125 72.90625 \r\nL 38.28125 8.296875 \r\nL 54.390625 8.296875 \r\nL 54.390625 0 \r\nL 12.40625 0 \r\nz\r\n\" id=\"DejaVuSans-49\"/>\r\n      </defs>\r\n      <g transform=\"translate(7.2 30.569659)scale(0.1 -0.1)\">\r\n       <use xlink:href=\"#DejaVuSans-49\"/>\r\n       <use x=\"63.623047\" xlink:href=\"#DejaVuSans-48\"/>\r\n       <use x=\"127.246094\" xlink:href=\"#DejaVuSans-48\"/>\r\n       <use x=\"190.869141\" xlink:href=\"#DejaVuSans-48\"/>\r\n      </g>\r\n     </g>\r\n    </g>\r\n   </g>\r\n   <g id=\"line2d_10\">\r\n    <path clip-path=\"url(#pb3e2711fa0)\" d=\"M 95.45 186.266542 \r\nL 95.45 214.756364 \r\n\" style=\"fill:none;stroke:#3d3d3d;stroke-linecap:square;stroke-width:1.5;\"/>\r\n   </g>\r\n   <g id=\"line2d_11\">\r\n    <path clip-path=\"url(#pb3e2711fa0)\" d=\"M 95.45 87.576975 \r\nL 95.45 17.083636 \r\n\" style=\"fill:none;stroke:#3d3d3d;stroke-linecap:square;stroke-width:1.5;\"/>\r\n   </g>\r\n   <g id=\"line2d_12\">\r\n    <path clip-path=\"url(#pb3e2711fa0)\" d=\"M 73.13 214.756364 \r\nL 117.77 214.756364 \r\n\" style=\"fill:none;stroke:#3d3d3d;stroke-linecap:square;stroke-width:1.5;\"/>\r\n   </g>\r\n   <g id=\"line2d_13\">\r\n    <path clip-path=\"url(#pb3e2711fa0)\" d=\"M 73.13 17.083636 \r\nL 117.77 17.083636 \r\n\" style=\"fill:none;stroke:#3d3d3d;stroke-linecap:square;stroke-width:1.5;\"/>\r\n   </g>\r\n   <g id=\"line2d_14\"/>\r\n   <g id=\"line2d_15\">\r\n    <path clip-path=\"url(#pb3e2711fa0)\" d=\"M 207.05 187.044573 \r\nL 207.05 214.756364 \r\n\" style=\"fill:none;stroke:#3d3d3d;stroke-linecap:square;stroke-width:1.5;\"/>\r\n   </g>\r\n   <g id=\"line2d_16\">\r\n    <path clip-path=\"url(#pb3e2711fa0)\" d=\"M 207.05 94.762224 \r\nL 207.05 21.678233 \r\n\" style=\"fill:none;stroke:#3d3d3d;stroke-linecap:square;stroke-width:1.5;\"/>\r\n   </g>\r\n   <g id=\"line2d_17\">\r\n    <path clip-path=\"url(#pb3e2711fa0)\" d=\"M 184.73 214.756364 \r\nL 229.37 214.756364 \r\n\" style=\"fill:none;stroke:#3d3d3d;stroke-linecap:square;stroke-width:1.5;\"/>\r\n   </g>\r\n   <g id=\"line2d_18\">\r\n    <path clip-path=\"url(#pb3e2711fa0)\" d=\"M 184.73 21.678233 \r\nL 229.37 21.678233 \r\n\" style=\"fill:none;stroke:#3d3d3d;stroke-linecap:square;stroke-width:1.5;\"/>\r\n   </g>\r\n   <g id=\"line2d_19\"/>\r\n   <g id=\"line2d_20\">\r\n    <path clip-path=\"url(#pb3e2711fa0)\" d=\"M 318.65 178.725728 \r\nL 318.65 214.234181 \r\n\" style=\"fill:none;stroke:#3d3d3d;stroke-linecap:square;stroke-width:1.5;\"/>\r\n   </g>\r\n   <g id=\"line2d_21\">\r\n    <path clip-path=\"url(#pb3e2711fa0)\" d=\"M 318.65 97.265162 \r\nL 318.65 23.115159 \r\n\" style=\"fill:none;stroke:#3d3d3d;stroke-linecap:square;stroke-width:1.5;\"/>\r\n   </g>\r\n   <g id=\"line2d_22\">\r\n    <path clip-path=\"url(#pb3e2711fa0)\" d=\"M 296.33 214.234181 \r\nL 340.97 214.234181 \r\n\" style=\"fill:none;stroke:#3d3d3d;stroke-linecap:square;stroke-width:1.5;\"/>\r\n   </g>\r\n   <g id=\"line2d_23\">\r\n    <path clip-path=\"url(#pb3e2711fa0)\" d=\"M 296.33 23.115159 \r\nL 340.97 23.115159 \r\n\" style=\"fill:none;stroke:#3d3d3d;stroke-linecap:square;stroke-width:1.5;\"/>\r\n   </g>\r\n   <g id=\"line2d_24\"/>\r\n   <g id=\"line2d_25\">\r\n    <path clip-path=\"url(#pb3e2711fa0)\" d=\"M 50.81 138.438526 \r\nL 140.09 138.438526 \r\n\" style=\"fill:none;stroke:#3d3d3d;stroke-linecap:square;stroke-width:1.5;\"/>\r\n   </g>\r\n   <g id=\"line2d_26\">\r\n    <path clip-path=\"url(#pb3e2711fa0)\" d=\"M 162.41 144.127324 \r\nL 251.69 144.127324 \r\n\" style=\"fill:none;stroke:#3d3d3d;stroke-linecap:square;stroke-width:1.5;\"/>\r\n   </g>\r\n   <g id=\"line2d_27\">\r\n    <path clip-path=\"url(#pb3e2711fa0)\" d=\"M 274.01 139.561994 \r\nL 363.29 139.561994 \r\n\" style=\"fill:none;stroke:#3d3d3d;stroke-linecap:square;stroke-width:1.5;\"/>\r\n   </g>\r\n   <g id=\"patch_6\">\r\n    <path d=\"M 39.65 224.64 \r\nL 39.65 7.2 \r\n\" style=\"fill:none;stroke:#000000;stroke-linecap:square;stroke-linejoin:miter;stroke-width:0.8;\"/>\r\n   </g>\r\n   <g id=\"patch_7\">\r\n    <path d=\"M 374.45 224.64 \r\nL 374.45 7.2 \r\n\" style=\"fill:none;stroke:#000000;stroke-linecap:square;stroke-linejoin:miter;stroke-width:0.8;\"/>\r\n   </g>\r\n   <g id=\"patch_8\">\r\n    <path d=\"M 39.65 224.64 \r\nL 374.45 224.64 \r\n\" style=\"fill:none;stroke:#000000;stroke-linecap:square;stroke-linejoin:miter;stroke-width:0.8;\"/>\r\n   </g>\r\n   <g id=\"patch_9\">\r\n    <path d=\"M 39.65 7.2 \r\nL 374.45 7.2 \r\n\" style=\"fill:none;stroke:#000000;stroke-linecap:square;stroke-linejoin:miter;stroke-width:0.8;\"/>\r\n   </g>\r\n  </g>\r\n </g>\r\n <defs>\r\n  <clipPath id=\"pb3e2711fa0\">\r\n   <rect height=\"217.44\" width=\"334.8\" x=\"39.65\" y=\"7.2\"/>\r\n  </clipPath>\r\n </defs>\r\n</svg>\r\n",
      "image/png": "[encoded data removed]"
     },
     "metadata": {
      "needs_background": "light"
     }
    }
   ],
   "source": [
    "sns.boxplot(data = join_ent_other_del[[\"env_slopesolar\", \"env_levelsolar\", \"match_solar\"]])"
   ]
  },
  {
   "cell_type": "code",
   "execution_count": 11,
   "metadata": {},
   "outputs": [
    {
     "output_type": "stream",
     "name": "stdout",
     "text": [
      "(0.8274579795299426, 0.0) (0.803663806939773, 0.0)\n------------------\n(0.7681767724133067, 0.0) (0.7838534389325632, 0.0) (0.6247881309706232, 8.077197330280797e-212)\n"
     ]
    }
   ],
   "source": [
    "import scipy.stats\n",
    "\n",
    "print(\n",
    "    scipy.stats.pearsonr(join_ent_other_del[\"env_levelsolar\"], join_ent_other_del[\"match_solar\"]), \n",
    "    scipy.stats.pearsonr(join_ent_other_del[\"env_slopesolar\"], join_ent_other_del[\"match_solar\"]))\n",
    "print(\"------------------\")\n",
    "print(\n",
    "    scipy.stats.pearsonr(join_ent_other_del[\"env_levelsolar\"], join_ent_other_del[\"watt\"]), \n",
    "    scipy.stats.pearsonr(join_ent_other_del[\"env_slopesolar\"], join_ent_other_del[\"watt\"]), \n",
    "    scipy.stats.pearsonr(join_ent_other_del[\"match_solar\"], join_ent_other_del[\"watt\"]))"
   ]
  },
  {
   "cell_type": "code",
   "execution_count": 12,
   "metadata": {},
   "outputs": [
    {
     "output_type": "stream",
     "name": "stdout",
     "text": [
      "                            OLS Regression Results                            \n==============================================================================\nDep. Variable:                   watt   R-squared:                       0.614\nModel:                            OLS   Adj. R-squared:                  0.614\nMethod:                 Least Squares   F-statistic:                     3107.\nDate:                Wed, 04 Nov 2020   Prob (F-statistic):               0.00\nTime:                        01:06:47   Log-Likelihood:                -14823.\nNo. Observations:                1952   AIC:                         2.965e+04\nDf Residuals:                    1950   BIC:                         2.966e+04\nDf Model:                           1                                         \nCovariance Type:            nonrobust                                         \n==================================================================================\n                     coef    std err          t      P>|t|      [0.025      0.975]\n----------------------------------------------------------------------------------\nconst             31.5325     18.859      1.672      0.095      -5.452      68.517\nenv_slopesolar     2.0096      0.036     55.744      0.000       1.939       2.080\n==============================================================================\nOmnibus:                      304.416   Durbin-Watson:                   1.136\nProb(Omnibus):                  0.000   Jarque-Bera (JB):              465.720\nSkew:                          -1.096   Prob(JB):                    7.42e-102\nKurtosis:                       3.960   Cond. No.                         906.\n==============================================================================\n\nWarnings:\n[1] Standard Errors assume that the covariance matrix of the errors is correctly specified.\n                                 OLS Regression Results                                \n=======================================================================================\nDep. Variable:                   watt   R-squared (uncentered):                   0.735\nModel:                            OLS   Adj. R-squared (uncentered):              0.734\nMethod:                 Least Squares   F-statistic:                              5400.\nDate:                Wed, 04 Nov 2020   Prob (F-statistic):                        0.00\nTime:                        01:06:47   Log-Likelihood:                         -15281.\nNo. Observations:                1952   AIC:                                  3.056e+04\nDf Residuals:                    1951   BIC:                                  3.057e+04\nDf Model:                           1                                                  \nCovariance Type:            nonrobust                                                  \n===============================================================================\n                  coef    std err          t      P>|t|      [0.025      0.975]\n-------------------------------------------------------------------------------\nmatch_solar     2.0157      0.027     73.486      0.000       1.962       2.070\n==============================================================================\nOmnibus:                        5.600   Durbin-Watson:                   1.008\nProb(Omnibus):                  0.061   Jarque-Bera (JB):                4.679\nSkew:                          -0.029   Prob(JB):                       0.0964\nKurtosis:                       2.767   Cond. No.                         1.00\n==============================================================================\n\nWarnings:\n[1] Standard Errors assume that the covariance matrix of the errors is correctly specified.\n"
     ]
    }
   ],
   "source": [
    "import statsmodels.api as sm\n",
    "\n",
    "Y = join_ent_other_del[\"watt\"]\n",
    "X = join_ent_other_del[\"env_slopesolar\"]\n",
    "X = sm.add_constant(X)\n",
    "model = sm.OLS(Y,X)\n",
    "results = model.fit()\n",
    "# results.summary()\n",
    "\n",
    "X2 = join_ent_other_del[\"match_solar\"]\n",
    "model2 = sm.OLS(Y,X2)\n",
    "results1 = model2.fit()\n",
    "\n",
    "\n",
    "print(results.summary())\n",
    "print(results1.summary())"
   ]
  },
  {
   "cell_type": "code",
   "execution_count": null,
   "metadata": {},
   "outputs": [],
   "source": []
  },
  {
   "cell_type": "code",
   "execution_count": null,
   "metadata": {},
   "outputs": [],
   "source": []
  }
 ]
}