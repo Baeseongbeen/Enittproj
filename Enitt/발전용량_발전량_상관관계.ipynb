{
 "metadata": {
  "language_info": {
   "codemirror_mode": {
    "name": "ipython",
    "version": 3
   },
   "file_extension": ".py",
   "mimetype": "text/x-python",
   "name": "python",
   "nbconvert_exporter": "python",
   "pygments_lexer": "ipython3",
   "version": "3.7.6-final"
  },
  "orig_nbformat": 2,
  "kernelspec": {
   "name": "python3",
   "display_name": "Python 3"
  }
 },
 "nbformat": 4,
 "nbformat_minor": 2,
 "cells": [
  {
   "cell_type": "code",
   "execution_count": 2,
   "metadata": {},
   "outputs": [
    {
     "output_type": "execute_result",
     "data": {
      "text/plain": [
       "'c:\\\\Users\\\\seong\\\\Desktop\\\\enittproj\\\\enitt'"
      ]
     },
     "metadata": {},
     "execution_count": 2
    }
   ],
   "source": [
    "import pandas as pd \n",
    "import numpy as np \n",
    "import matplotlib.pyplot as plt\n",
    "import plotly\n",
    "import plotly.graph_objs as go # 그래프 객체 생성\n",
    "from plotly.subplots import make_subplots\n",
    "import datetime\n",
    "import seaborn as sns \n",
    "import scipy.stats\n",
    "import plotly.express as px\n",
    "import os \n",
    "from scipy import stats\n",
    "from sklearn import metrics\n",
    "import statsmodels.formula.api as smf\n",
    "import scipy.stats as st\n",
    "import pylab\n",
    "import csv\n",
    "\n",
    "os.getcwd()"
   ]
  },
  {
   "cell_type": "code",
   "execution_count": 10,
   "metadata": {},
   "outputs": [
    {
     "output_type": "execute_result",
     "data": {
      "text/plain": [
       "        env_index    env_date  env_time  env_slopesolar  env_levelsolar  \\\n",
       "0               1  2018-10-22  12:44:29             322             316   \n",
       "1               2  2018-10-22  12:45:21             320             314   \n",
       "2               3  2018-10-22  12:46:12             320             312   \n",
       "3               4  2018-10-22  12:47:04             326             319   \n",
       "4               5  2018-10-22  12:47:56             335             329   \n",
       "...           ...         ...       ...             ...             ...   \n",
       "615430     683664  2020-10-22  23:19:00               0               0   \n",
       "615431     683665  2020-10-22  23:23:57               0               0   \n",
       "615432     683666  2020-10-22  23:28:53               0               0   \n",
       "615433     683667  2020-10-22  23:33:49               0               0   \n",
       "615434     683668  2020-10-22  23:38:46               0               0   \n",
       "\n",
       "        env_modtemp  env_airtemp  \n",
       "0              24.8         17.6  \n",
       "1              25.0         17.7  \n",
       "2              25.1         17.9  \n",
       "3              24.9         18.1  \n",
       "4              24.9         18.0  \n",
       "...             ...          ...  \n",
       "615430          6.7          8.1  \n",
       "615431          6.7          8.0  \n",
       "615432          6.7          8.0  \n",
       "615433          6.7          8.0  \n",
       "615434          6.7          8.0  \n",
       "\n",
       "[615435 rows x 7 columns]"
      ],
      "text/html": "<div>\n<style scoped>\n    .dataframe tbody tr th:only-of-type {\n        vertical-align: middle;\n    }\n\n    .dataframe tbody tr th {\n        vertical-align: top;\n    }\n\n    .dataframe thead th {\n        text-align: right;\n    }\n</style>\n<table border=\"1\" class=\"dataframe\">\n  <thead>\n    <tr style=\"text-align: right;\">\n      <th></th>\n      <th>env_index</th>\n      <th>env_date</th>\n      <th>env_time</th>\n      <th>env_slopesolar</th>\n      <th>env_levelsolar</th>\n      <th>env_modtemp</th>\n      <th>env_airtemp</th>\n    </tr>\n  </thead>\n  <tbody>\n    <tr>\n      <th>0</th>\n      <td>1</td>\n      <td>2018-10-22</td>\n      <td>12:44:29</td>\n      <td>322</td>\n      <td>316</td>\n      <td>24.8</td>\n      <td>17.6</td>\n    </tr>\n    <tr>\n      <th>1</th>\n      <td>2</td>\n      <td>2018-10-22</td>\n      <td>12:45:21</td>\n      <td>320</td>\n      <td>314</td>\n      <td>25.0</td>\n      <td>17.7</td>\n    </tr>\n    <tr>\n      <th>2</th>\n      <td>3</td>\n      <td>2018-10-22</td>\n      <td>12:46:12</td>\n      <td>320</td>\n      <td>312</td>\n      <td>25.1</td>\n      <td>17.9</td>\n    </tr>\n    <tr>\n      <th>3</th>\n      <td>4</td>\n      <td>2018-10-22</td>\n      <td>12:47:04</td>\n      <td>326</td>\n      <td>319</td>\n      <td>24.9</td>\n      <td>18.1</td>\n    </tr>\n    <tr>\n      <th>4</th>\n      <td>5</td>\n      <td>2018-10-22</td>\n      <td>12:47:56</td>\n      <td>335</td>\n      <td>329</td>\n      <td>24.9</td>\n      <td>18.0</td>\n    </tr>\n    <tr>\n      <th>...</th>\n      <td>...</td>\n      <td>...</td>\n      <td>...</td>\n      <td>...</td>\n      <td>...</td>\n      <td>...</td>\n      <td>...</td>\n    </tr>\n    <tr>\n      <th>615430</th>\n      <td>683664</td>\n      <td>2020-10-22</td>\n      <td>23:19:00</td>\n      <td>0</td>\n      <td>0</td>\n      <td>6.7</td>\n      <td>8.1</td>\n    </tr>\n    <tr>\n      <th>615431</th>\n      <td>683665</td>\n      <td>2020-10-22</td>\n      <td>23:23:57</td>\n      <td>0</td>\n      <td>0</td>\n      <td>6.7</td>\n      <td>8.0</td>\n    </tr>\n    <tr>\n      <th>615432</th>\n      <td>683666</td>\n      <td>2020-10-22</td>\n      <td>23:28:53</td>\n      <td>0</td>\n      <td>0</td>\n      <td>6.7</td>\n      <td>8.0</td>\n    </tr>\n    <tr>\n      <th>615433</th>\n      <td>683667</td>\n      <td>2020-10-22</td>\n      <td>23:33:49</td>\n      <td>0</td>\n      <td>0</td>\n      <td>6.7</td>\n      <td>8.0</td>\n    </tr>\n    <tr>\n      <th>615434</th>\n      <td>683668</td>\n      <td>2020-10-22</td>\n      <td>23:38:46</td>\n      <td>0</td>\n      <td>0</td>\n      <td>6.7</td>\n      <td>8.0</td>\n    </tr>\n  </tbody>\n</table>\n<p>615435 rows × 7 columns</p>\n</div>"
     },
     "metadata": {},
     "execution_count": 10
    }
   ],
   "source": [
    "## merge 1, 2 데이터\n",
    "data1 = pd.read_csv(\"./ENITT_SOLAR_DATA/ENITT_SOLAR_DATA/A365. 반포써밋2블럭 발전량.csv\", encoding=\"ms949\")\n",
    "data2 = pd.read_csv(\"./ENITT_SOLAR_DATA/ENITT_SOLAR_DATA/365. 반포써밋2블럭 발전량.csv\", encoding=\"ms949\")\n",
    "data3 = pd.read_csv(\"./ENITT_SOLAR_DATA/ENITT_SOLAR_DATA/A365. 반포써밋2블럭 환경센서.csv\", encoding=\"ms949\")\n",
    "data4 = pd.read_csv(\"./ENITT_SOLAR_DATA/ENITT_SOLAR_DATA/365. 반포써밋2블럭 환경정보.csv\", encoding=\"ms949\")\n",
    "\n",
    "otherdata = pd.read_csv(\"./ENITT_SOLAR_DATA/ENITT_SOLAR_DATA/B142. 청주 발전량.csv\", encoding=\"ms949\")\n",
    "\n",
    "\n",
    "\n",
    "data_12 = pd.concat([data2, data1])\n",
    "data_34 = pd.concat([data4, data3])\n",
    "ent_data_solar = data_12.reset_index().drop('index', axis=1)\n",
    "ent_data_solar\n",
    "\n",
    "ent_data_weather = data_34.reset_index().drop('index', axis=1)\n",
    "ent_data_weather"
   ]
  },
  {
   "cell_type": "code",
   "execution_count": 8,
   "metadata": {},
   "outputs": [
    {
     "output_type": "execute_result",
     "data": {
      "text/plain": [
       "           pow_index         pow_id        pow_cap        pow_dcv  \\\n",
       "count  490389.000000  490389.000000  490389.000000  490389.000000   \n",
       "mean   250924.085489       1.404385      17.978026     468.231477   \n",
       "std    149819.623414       0.490773       2.454205      45.550162   \n",
       "min         1.000000       1.000000       0.200000       0.000000   \n",
       "25%    122598.000000       1.000000      15.000000     444.000000   \n",
       "50%    245195.000000       1.000000      20.000000     474.000000   \n",
       "75%    367792.000000       2.000000      20.000000     499.000000   \n",
       "max    520127.000000       2.000000      34.000000     605.000000   \n",
       "\n",
       "             pow_dca        pow_dcp       pow_acvr       pow_acvs  \\\n",
       "count  490389.000000  490389.000000  490389.000000  490389.000000   \n",
       "mean        7.146042    3347.863950     374.484246     372.514379   \n",
       "std         8.107717    3853.761342       3.176232       3.299033   \n",
       "min         0.000000       0.000000       0.000000       0.000000   \n",
       "25%         1.100000     400.000000     373.000000     371.000000   \n",
       "50%         4.500000    2100.000000     374.000000     372.000000   \n",
       "75%        10.500000    5000.000000     376.000000     374.000000   \n",
       "max       147.055588   66355.835938     408.000000     406.000000   \n",
       "\n",
       "            pow_acvt       pow_acar       pow_acas       pow_acat  \\\n",
       "count  490389.000000  490389.000000  490389.000000  490389.000000   \n",
       "mean      374.266497       5.962031       6.215007       6.140365   \n",
       "std         3.474000       5.461329       5.555018       5.471587   \n",
       "min         0.000000       0.000000       0.000000       0.000000   \n",
       "25%       372.000000       1.900000       2.000000       2.100000   \n",
       "50%       374.000000       4.000000       4.300000       4.200000   \n",
       "75%       376.000000       8.200000       8.500000       8.400000   \n",
       "max       407.000000      94.982900      98.054900      94.216100   \n",
       "\n",
       "             pow_acp         pow_pf  pow_totpower       pow_freq  \n",
       "count  490389.000000  490389.000000  4.903890e+05  490389.000000  \n",
       "mean     3381.024141       0.967726  1.697774e+07      59.949611  \n",
       "std      3712.481481       0.613741  1.502917e+07       0.309154  \n",
       "min         0.000000       0.000000  9.000000e+03       0.000000  \n",
       "25%       600.000000       0.900000  6.984000e+06      59.900000  \n",
       "50%      2200.000000       1.000000  1.033100e+07      60.000000  \n",
       "75%      4900.000000       1.000000  2.597100e+07      60.000000  \n",
       "max     63701.597656       8.000000  5.238570e+08      60.400000  "
      ],
      "text/html": "<div>\n<style scoped>\n    .dataframe tbody tr th:only-of-type {\n        vertical-align: middle;\n    }\n\n    .dataframe tbody tr th {\n        vertical-align: top;\n    }\n\n    .dataframe thead th {\n        text-align: right;\n    }\n</style>\n<table border=\"1\" class=\"dataframe\">\n  <thead>\n    <tr style=\"text-align: right;\">\n      <th></th>\n      <th>pow_index</th>\n      <th>pow_id</th>\n      <th>pow_cap</th>\n      <th>pow_dcv</th>\n      <th>pow_dca</th>\n      <th>pow_dcp</th>\n      <th>pow_acvr</th>\n      <th>pow_acvs</th>\n      <th>pow_acvt</th>\n      <th>pow_acar</th>\n      <th>pow_acas</th>\n      <th>pow_acat</th>\n      <th>pow_acp</th>\n      <th>pow_pf</th>\n      <th>pow_totpower</th>\n      <th>pow_freq</th>\n    </tr>\n  </thead>\n  <tbody>\n    <tr>\n      <th>count</th>\n      <td>490389.000000</td>\n      <td>490389.000000</td>\n      <td>490389.000000</td>\n      <td>490389.000000</td>\n      <td>490389.000000</td>\n      <td>490389.000000</td>\n      <td>490389.000000</td>\n      <td>490389.000000</td>\n      <td>490389.000000</td>\n      <td>490389.000000</td>\n      <td>490389.000000</td>\n      <td>490389.000000</td>\n      <td>490389.000000</td>\n      <td>490389.000000</td>\n      <td>4.903890e+05</td>\n      <td>490389.000000</td>\n    </tr>\n    <tr>\n      <th>mean</th>\n      <td>250924.085489</td>\n      <td>1.404385</td>\n      <td>17.978026</td>\n      <td>468.231477</td>\n      <td>7.146042</td>\n      <td>3347.863950</td>\n      <td>374.484246</td>\n      <td>372.514379</td>\n      <td>374.266497</td>\n      <td>5.962031</td>\n      <td>6.215007</td>\n      <td>6.140365</td>\n      <td>3381.024141</td>\n      <td>0.967726</td>\n      <td>1.697774e+07</td>\n      <td>59.949611</td>\n    </tr>\n    <tr>\n      <th>std</th>\n      <td>149819.623414</td>\n      <td>0.490773</td>\n      <td>2.454205</td>\n      <td>45.550162</td>\n      <td>8.107717</td>\n      <td>3853.761342</td>\n      <td>3.176232</td>\n      <td>3.299033</td>\n      <td>3.474000</td>\n      <td>5.461329</td>\n      <td>5.555018</td>\n      <td>5.471587</td>\n      <td>3712.481481</td>\n      <td>0.613741</td>\n      <td>1.502917e+07</td>\n      <td>0.309154</td>\n    </tr>\n    <tr>\n      <th>min</th>\n      <td>1.000000</td>\n      <td>1.000000</td>\n      <td>0.200000</td>\n      <td>0.000000</td>\n      <td>0.000000</td>\n      <td>0.000000</td>\n      <td>0.000000</td>\n      <td>0.000000</td>\n      <td>0.000000</td>\n      <td>0.000000</td>\n      <td>0.000000</td>\n      <td>0.000000</td>\n      <td>0.000000</td>\n      <td>0.000000</td>\n      <td>9.000000e+03</td>\n      <td>0.000000</td>\n    </tr>\n    <tr>\n      <th>25%</th>\n      <td>122598.000000</td>\n      <td>1.000000</td>\n      <td>15.000000</td>\n      <td>444.000000</td>\n      <td>1.100000</td>\n      <td>400.000000</td>\n      <td>373.000000</td>\n      <td>371.000000</td>\n      <td>372.000000</td>\n      <td>1.900000</td>\n      <td>2.000000</td>\n      <td>2.100000</td>\n      <td>600.000000</td>\n      <td>0.900000</td>\n      <td>6.984000e+06</td>\n      <td>59.900000</td>\n    </tr>\n    <tr>\n      <th>50%</th>\n      <td>245195.000000</td>\n      <td>1.000000</td>\n      <td>20.000000</td>\n      <td>474.000000</td>\n      <td>4.500000</td>\n      <td>2100.000000</td>\n      <td>374.000000</td>\n      <td>372.000000</td>\n      <td>374.000000</td>\n      <td>4.000000</td>\n      <td>4.300000</td>\n      <td>4.200000</td>\n      <td>2200.000000</td>\n      <td>1.000000</td>\n      <td>1.033100e+07</td>\n      <td>60.000000</td>\n    </tr>\n    <tr>\n      <th>75%</th>\n      <td>367792.000000</td>\n      <td>2.000000</td>\n      <td>20.000000</td>\n      <td>499.000000</td>\n      <td>10.500000</td>\n      <td>5000.000000</td>\n      <td>376.000000</td>\n      <td>374.000000</td>\n      <td>376.000000</td>\n      <td>8.200000</td>\n      <td>8.500000</td>\n      <td>8.400000</td>\n      <td>4900.000000</td>\n      <td>1.000000</td>\n      <td>2.597100e+07</td>\n      <td>60.000000</td>\n    </tr>\n    <tr>\n      <th>max</th>\n      <td>520127.000000</td>\n      <td>2.000000</td>\n      <td>34.000000</td>\n      <td>605.000000</td>\n      <td>147.055588</td>\n      <td>66355.835938</td>\n      <td>408.000000</td>\n      <td>406.000000</td>\n      <td>407.000000</td>\n      <td>94.982900</td>\n      <td>98.054900</td>\n      <td>94.216100</td>\n      <td>63701.597656</td>\n      <td>8.000000</td>\n      <td>5.238570e+08</td>\n      <td>60.400000</td>\n    </tr>\n  </tbody>\n</table>\n</div>"
     },
     "metadata": {},
     "execution_count": 8
    }
   ],
   "source": [
    "ent_data_solar.describe()"
   ]
  },
  {
   "cell_type": "code",
   "execution_count": 11,
   "metadata": {},
   "outputs": [
    {
     "output_type": "execute_result",
     "data": {
      "text/plain": [
       "           pow_index         pow_id   pow_cap        pow_dcv        pow_dca  \\\n",
       "count  163826.000000  163826.000000  163826.0  163826.000000  163826.000000   \n",
       "mean   185121.500000       7.101876     105.0     656.706359      45.853261   \n",
       "std     47292.636937       4.908354       0.0      34.959675      43.700028   \n",
       "min    103209.000000       1.000000     105.0       0.000000       0.000000   \n",
       "25%    144165.250000       3.000000     105.0     635.000000       8.600000   \n",
       "50%    185121.500000       6.000000     105.0     656.000000      30.400000   \n",
       "75%    226077.750000      13.000000     105.0     680.000000      76.100000   \n",
       "max    267034.000000      15.000000     105.0     818.000000     178.800000   \n",
       "\n",
       "             pow_dcp       pow_acvr       pow_acvs       pow_acvt  \\\n",
       "count  163826.000000  163826.000000  163826.000000  163826.000000   \n",
       "mean    30171.975755     375.298610     373.609342     377.432428   \n",
       "std     28384.312377       6.077345       5.779361       6.131687   \n",
       "min         0.000000       0.000000       0.000000       0.000000   \n",
       "25%      5500.000000     371.000000     370.000000     373.000000   \n",
       "50%     20600.000000     375.000000     374.000000     377.000000   \n",
       "75%     50800.000000     379.000000     378.000000     382.000000   \n",
       "max    113100.000000     393.000000     392.000000     398.000000   \n",
       "\n",
       "            pow_acar       pow_acas       pow_acat        pow_acp  \\\n",
       "count  163826.000000  163826.000000  163826.000000  163826.000000   \n",
       "mean       46.493114      48.407833      47.551645   29996.396787   \n",
       "std        41.524972      42.007087      41.452581   27888.836015   \n",
       "min         0.000000       0.000000       0.000000       0.000000   \n",
       "25%        10.400000      11.500000      11.700000    5800.000000   \n",
       "50%        31.500000      34.100000      32.900000   20600.000000   \n",
       "75%        76.500000      79.100000      77.700000   50300.000000   \n",
       "max       164.500000     166.700000     165.300000  111400.000000   \n",
       "\n",
       "              pow_pf  pow_totpower       pow_freq  \n",
       "count  163826.000000  1.638260e+05  163826.000000  \n",
       "mean        1.007270  1.037461e+08      59.952138  \n",
       "std         0.640744  2.216206e+07       0.215347  \n",
       "min         0.000000  5.908800e+07       0.000000  \n",
       "25%         0.900000  8.518350e+07      59.900000  \n",
       "50%         0.900000  1.063560e+08      60.000000  \n",
       "75%         1.000000  1.212780e+08      60.000000  \n",
       "max         9.000000  1.442980e+08      60.100000  "
      ],
      "text/html": "<div>\n<style scoped>\n    .dataframe tbody tr th:only-of-type {\n        vertical-align: middle;\n    }\n\n    .dataframe tbody tr th {\n        vertical-align: top;\n    }\n\n    .dataframe thead th {\n        text-align: right;\n    }\n</style>\n<table border=\"1\" class=\"dataframe\">\n  <thead>\n    <tr style=\"text-align: right;\">\n      <th></th>\n      <th>pow_index</th>\n      <th>pow_id</th>\n      <th>pow_cap</th>\n      <th>pow_dcv</th>\n      <th>pow_dca</th>\n      <th>pow_dcp</th>\n      <th>pow_acvr</th>\n      <th>pow_acvs</th>\n      <th>pow_acvt</th>\n      <th>pow_acar</th>\n      <th>pow_acas</th>\n      <th>pow_acat</th>\n      <th>pow_acp</th>\n      <th>pow_pf</th>\n      <th>pow_totpower</th>\n      <th>pow_freq</th>\n    </tr>\n  </thead>\n  <tbody>\n    <tr>\n      <th>count</th>\n      <td>163826.000000</td>\n      <td>163826.000000</td>\n      <td>163826.0</td>\n      <td>163826.000000</td>\n      <td>163826.000000</td>\n      <td>163826.000000</td>\n      <td>163826.000000</td>\n      <td>163826.000000</td>\n      <td>163826.000000</td>\n      <td>163826.000000</td>\n      <td>163826.000000</td>\n      <td>163826.000000</td>\n      <td>163826.000000</td>\n      <td>163826.000000</td>\n      <td>1.638260e+05</td>\n      <td>163826.000000</td>\n    </tr>\n    <tr>\n      <th>mean</th>\n      <td>185121.500000</td>\n      <td>7.101876</td>\n      <td>105.0</td>\n      <td>656.706359</td>\n      <td>45.853261</td>\n      <td>30171.975755</td>\n      <td>375.298610</td>\n      <td>373.609342</td>\n      <td>377.432428</td>\n      <td>46.493114</td>\n      <td>48.407833</td>\n      <td>47.551645</td>\n      <td>29996.396787</td>\n      <td>1.007270</td>\n      <td>1.037461e+08</td>\n      <td>59.952138</td>\n    </tr>\n    <tr>\n      <th>std</th>\n      <td>47292.636937</td>\n      <td>4.908354</td>\n      <td>0.0</td>\n      <td>34.959675</td>\n      <td>43.700028</td>\n      <td>28384.312377</td>\n      <td>6.077345</td>\n      <td>5.779361</td>\n      <td>6.131687</td>\n      <td>41.524972</td>\n      <td>42.007087</td>\n      <td>41.452581</td>\n      <td>27888.836015</td>\n      <td>0.640744</td>\n      <td>2.216206e+07</td>\n      <td>0.215347</td>\n    </tr>\n    <tr>\n      <th>min</th>\n      <td>103209.000000</td>\n      <td>1.000000</td>\n      <td>105.0</td>\n      <td>0.000000</td>\n      <td>0.000000</td>\n      <td>0.000000</td>\n      <td>0.000000</td>\n      <td>0.000000</td>\n      <td>0.000000</td>\n      <td>0.000000</td>\n      <td>0.000000</td>\n      <td>0.000000</td>\n      <td>0.000000</td>\n      <td>0.000000</td>\n      <td>5.908800e+07</td>\n      <td>0.000000</td>\n    </tr>\n    <tr>\n      <th>25%</th>\n      <td>144165.250000</td>\n      <td>3.000000</td>\n      <td>105.0</td>\n      <td>635.000000</td>\n      <td>8.600000</td>\n      <td>5500.000000</td>\n      <td>371.000000</td>\n      <td>370.000000</td>\n      <td>373.000000</td>\n      <td>10.400000</td>\n      <td>11.500000</td>\n      <td>11.700000</td>\n      <td>5800.000000</td>\n      <td>0.900000</td>\n      <td>8.518350e+07</td>\n      <td>59.900000</td>\n    </tr>\n    <tr>\n      <th>50%</th>\n      <td>185121.500000</td>\n      <td>6.000000</td>\n      <td>105.0</td>\n      <td>656.000000</td>\n      <td>30.400000</td>\n      <td>20600.000000</td>\n      <td>375.000000</td>\n      <td>374.000000</td>\n      <td>377.000000</td>\n      <td>31.500000</td>\n      <td>34.100000</td>\n      <td>32.900000</td>\n      <td>20600.000000</td>\n      <td>0.900000</td>\n      <td>1.063560e+08</td>\n      <td>60.000000</td>\n    </tr>\n    <tr>\n      <th>75%</th>\n      <td>226077.750000</td>\n      <td>13.000000</td>\n      <td>105.0</td>\n      <td>680.000000</td>\n      <td>76.100000</td>\n      <td>50800.000000</td>\n      <td>379.000000</td>\n      <td>378.000000</td>\n      <td>382.000000</td>\n      <td>76.500000</td>\n      <td>79.100000</td>\n      <td>77.700000</td>\n      <td>50300.000000</td>\n      <td>1.000000</td>\n      <td>1.212780e+08</td>\n      <td>60.000000</td>\n    </tr>\n    <tr>\n      <th>max</th>\n      <td>267034.000000</td>\n      <td>15.000000</td>\n      <td>105.0</td>\n      <td>818.000000</td>\n      <td>178.800000</td>\n      <td>113100.000000</td>\n      <td>393.000000</td>\n      <td>392.000000</td>\n      <td>398.000000</td>\n      <td>164.500000</td>\n      <td>166.700000</td>\n      <td>165.300000</td>\n      <td>111400.000000</td>\n      <td>9.000000</td>\n      <td>1.442980e+08</td>\n      <td>60.100000</td>\n    </tr>\n  </tbody>\n</table>\n</div>"
     },
     "metadata": {},
     "execution_count": 11
    }
   ],
   "source": [
    "otherdata.describe()"
   ]
  },
  {
   "cell_type": "code",
   "execution_count": 13,
   "metadata": {},
   "outputs": [
    {
     "output_type": "execute_result",
     "data": {
      "text/plain": [
       "7.847447657142856"
      ]
     },
     "metadata": {},
     "execution_count": 13
    }
   ],
   "source": [
    "17.97 / 105 * 45.8532"
   ]
  }
 ]
}