{
 "metadata": {
  "language_info": {
   "codemirror_mode": {
    "name": "ipython",
    "version": 3
   },
   "file_extension": ".py",
   "mimetype": "text/x-python",
   "name": "python",
   "nbconvert_exporter": "python",
   "pygments_lexer": "ipython3",
   "version": "3.7.6-final"
  },
  "orig_nbformat": 2,
  "kernelspec": {
   "name": "Python 3.7.6 64-bit ('base': conda)",
   "display_name": "Python 3.7.6 64-bit ('base': conda)",
   "metadata": {
    "interpreter": {
     "hash": "493cd42db442db0cfc165fda2389af5e1c06357cc8d5f08ceefd588b2346646b"
    }
   }
  }
 },
 "nbformat": 4,
 "nbformat_minor": 2,
 "cells": [
  {
   "cell_type": "code",
   "execution_count": 1,
   "metadata": {},
   "outputs": [],
   "source": [
    "import numpy as np\n",
    "import pandas as pd\n",
    "import warnings\n",
    "warnings.filterwarnings(action='ignore')\n",
    "from IPython.core.interactiveshell import InteractiveShell\n",
    "InteractiveShell.ast_node_interactivity = \"all\"\n",
    "import os\n",
    "import glob"
   ]
  },
  {
   "cell_type": "code",
   "execution_count": 6,
   "metadata": {},
   "outputs": [
    {
     "output_type": "execute_result",
     "data": {
      "text/plain": [
       "          env_date  env_time  env_slopesolar  env_levelsolar\n",
       "0       2018-10-22  12:44:29             322             316\n",
       "1       2018-10-22  12:45:21             320             314\n",
       "2       2018-10-22  12:46:12             320             312\n",
       "3       2018-10-22  12:47:04             326             319\n",
       "4       2018-10-22  12:47:56             335             329\n",
       "...            ...       ...             ...             ...\n",
       "460970  2020-05-05  01:19:45               0               0\n",
       "460971  2020-05-05  01:20:42               0               0\n",
       "460972  2020-05-05  01:21:39               0               0\n",
       "460973  2020-05-05  01:22:36               0               0\n",
       "460974  2020-05-05  01:23:35               0               0\n",
       "\n",
       "[460975 rows x 4 columns]"
      ],
      "text/html": "<div>\n<style scoped>\n    .dataframe tbody tr th:only-of-type {\n        vertical-align: middle;\n    }\n\n    .dataframe tbody tr th {\n        vertical-align: top;\n    }\n\n    .dataframe thead th {\n        text-align: right;\n    }\n</style>\n<table border=\"1\" class=\"dataframe\">\n  <thead>\n    <tr style=\"text-align: right;\">\n      <th></th>\n      <th>env_date</th>\n      <th>env_time</th>\n      <th>env_slopesolar</th>\n      <th>env_levelsolar</th>\n    </tr>\n  </thead>\n  <tbody>\n    <tr>\n      <th>0</th>\n      <td>2018-10-22</td>\n      <td>12:44:29</td>\n      <td>322</td>\n      <td>316</td>\n    </tr>\n    <tr>\n      <th>1</th>\n      <td>2018-10-22</td>\n      <td>12:45:21</td>\n      <td>320</td>\n      <td>314</td>\n    </tr>\n    <tr>\n      <th>2</th>\n      <td>2018-10-22</td>\n      <td>12:46:12</td>\n      <td>320</td>\n      <td>312</td>\n    </tr>\n    <tr>\n      <th>3</th>\n      <td>2018-10-22</td>\n      <td>12:47:04</td>\n      <td>326</td>\n      <td>319</td>\n    </tr>\n    <tr>\n      <th>4</th>\n      <td>2018-10-22</td>\n      <td>12:47:56</td>\n      <td>335</td>\n      <td>329</td>\n    </tr>\n    <tr>\n      <th>...</th>\n      <td>...</td>\n      <td>...</td>\n      <td>...</td>\n      <td>...</td>\n    </tr>\n    <tr>\n      <th>460970</th>\n      <td>2020-05-05</td>\n      <td>01:19:45</td>\n      <td>0</td>\n      <td>0</td>\n    </tr>\n    <tr>\n      <th>460971</th>\n      <td>2020-05-05</td>\n      <td>01:20:42</td>\n      <td>0</td>\n      <td>0</td>\n    </tr>\n    <tr>\n      <th>460972</th>\n      <td>2020-05-05</td>\n      <td>01:21:39</td>\n      <td>0</td>\n      <td>0</td>\n    </tr>\n    <tr>\n      <th>460973</th>\n      <td>2020-05-05</td>\n      <td>01:22:36</td>\n      <td>0</td>\n      <td>0</td>\n    </tr>\n    <tr>\n      <th>460974</th>\n      <td>2020-05-05</td>\n      <td>01:23:35</td>\n      <td>0</td>\n      <td>0</td>\n    </tr>\n  </tbody>\n</table>\n<p>460975 rows × 4 columns</p>\n</div>"
     },
     "metadata": {},
     "execution_count": 6
    },
    {
     "output_type": "execute_result",
     "data": {
      "text/plain": [
       "          env_date  env_time  env_modtemp  env_airtemp\n",
       "0       2018-10-22  12:44:29         24.8         17.6\n",
       "1       2018-10-22  12:45:21         25.0         17.7\n",
       "2       2018-10-22  12:46:12         25.1         17.9\n",
       "3       2018-10-22  12:47:04         24.9         18.1\n",
       "4       2018-10-22  12:47:56         24.9         18.0\n",
       "...            ...       ...          ...          ...\n",
       "460970  2020-05-05  01:19:45         10.9         13.0\n",
       "460971  2020-05-05  01:20:42         10.9         13.1\n",
       "460972  2020-05-05  01:21:39         11.2         13.1\n",
       "460973  2020-05-05  01:22:36         11.3         13.1\n",
       "460974  2020-05-05  01:23:35         11.2         13.1\n",
       "\n",
       "[460975 rows x 4 columns]"
      ],
      "text/html": "<div>\n<style scoped>\n    .dataframe tbody tr th:only-of-type {\n        vertical-align: middle;\n    }\n\n    .dataframe tbody tr th {\n        vertical-align: top;\n    }\n\n    .dataframe thead th {\n        text-align: right;\n    }\n</style>\n<table border=\"1\" class=\"dataframe\">\n  <thead>\n    <tr style=\"text-align: right;\">\n      <th></th>\n      <th>env_date</th>\n      <th>env_time</th>\n      <th>env_modtemp</th>\n      <th>env_airtemp</th>\n    </tr>\n  </thead>\n  <tbody>\n    <tr>\n      <th>0</th>\n      <td>2018-10-22</td>\n      <td>12:44:29</td>\n      <td>24.8</td>\n      <td>17.6</td>\n    </tr>\n    <tr>\n      <th>1</th>\n      <td>2018-10-22</td>\n      <td>12:45:21</td>\n      <td>25.0</td>\n      <td>17.7</td>\n    </tr>\n    <tr>\n      <th>2</th>\n      <td>2018-10-22</td>\n      <td>12:46:12</td>\n      <td>25.1</td>\n      <td>17.9</td>\n    </tr>\n    <tr>\n      <th>3</th>\n      <td>2018-10-22</td>\n      <td>12:47:04</td>\n      <td>24.9</td>\n      <td>18.1</td>\n    </tr>\n    <tr>\n      <th>4</th>\n      <td>2018-10-22</td>\n      <td>12:47:56</td>\n      <td>24.9</td>\n      <td>18.0</td>\n    </tr>\n    <tr>\n      <th>...</th>\n      <td>...</td>\n      <td>...</td>\n      <td>...</td>\n      <td>...</td>\n    </tr>\n    <tr>\n      <th>460970</th>\n      <td>2020-05-05</td>\n      <td>01:19:45</td>\n      <td>10.9</td>\n      <td>13.0</td>\n    </tr>\n    <tr>\n      <th>460971</th>\n      <td>2020-05-05</td>\n      <td>01:20:42</td>\n      <td>10.9</td>\n      <td>13.1</td>\n    </tr>\n    <tr>\n      <th>460972</th>\n      <td>2020-05-05</td>\n      <td>01:21:39</td>\n      <td>11.2</td>\n      <td>13.1</td>\n    </tr>\n    <tr>\n      <th>460973</th>\n      <td>2020-05-05</td>\n      <td>01:22:36</td>\n      <td>11.3</td>\n      <td>13.1</td>\n    </tr>\n    <tr>\n      <th>460974</th>\n      <td>2020-05-05</td>\n      <td>01:23:35</td>\n      <td>11.2</td>\n      <td>13.1</td>\n    </tr>\n  </tbody>\n</table>\n<p>460975 rows × 4 columns</p>\n</div>"
     },
     "metadata": {},
     "execution_count": 6
    }
   ],
   "source": [
    "df = pd.read_csv(\"365. 반포써밋2블럭 환경정보.csv\", encoding='euc-kr')\n",
    "df_1_sum = df[[\"env_date\",\"env_time\", \"env_slopesolar\", \"env_levelsolar\"]]\n",
    "df_2_mean = df[[\"env_date\",\"env_time\", \"env_modtemp\", \"env_airtemp\"]]"
   ]
  },
  {
   "cell_type": "code",
   "execution_count": 27,
   "metadata": {
    "tags": []
   },
   "outputs": [
    {
     "output_type": "execute_result",
     "data": {
      "text/plain": [
       "env_slopesolar        5334\n",
       "env_levelsolar        5151\n",
       "env_slopesolar_sum       0\n",
       "env_levelsolar_sum       0\n",
       "Name: (2018-10-22, 12), dtype: int64"
      ]
     },
     "metadata": {},
     "execution_count": 27
    }
   ],
   "source": [
    "df_1_sum['env_slopesolar_sum'] = 0\n",
    "df_1_sum['env_levelsolar_sum'] = 0\n",
    "\n",
    "# df_1_sum[\"set_time\"] = \n",
    "\n",
    "\n",
    "df_2_mean['env_modtemp_mean'] = 0\n",
    "df_2_mean['env_airtemp_mean'] = 0\n",
    "\n",
    "set_times = df_1_sum[\"env_time\"].tolist()\n",
    "\n",
    "settings = []\n",
    "\n",
    "for i in range(len(set_times)):\n",
    "    settings.append(set_times[i][:-6])\n",
    "\n",
    "\n",
    "\n",
    "df_1_sum[\"settings\"] = settings\n",
    "# df_1_sum\n",
    "\n",
    "group_sum_test = df_1_sum.groupby([\"env_date\", \"settings\"]).sum()\n",
    "group_sum_test.iloc[0]\n",
    "# group_sum_test = df_1_sum.groupby([\"env_date\", ])"
   ]
  },
  {
   "cell_type": "code",
   "execution_count": null,
   "metadata": {},
   "outputs": [],
   "source": [
    "# 시간 변경&발전량 계산. 겁나오래걸림\n",
    "sum_slopesolar = []\n",
    "sum_levelsolar = []\n",
    "for i in range (df_1_sum.shape[0]):\n",
    "    df_1_sum['env_time'][i] = df_1_sum['env_time'][i][:-6]\n",
    "\n",
    "    if i != (df.shape[0]-1):\n",
    "        df['power'][i] = df['pow_totpower'][i+1] - df['pow_totpower'][i]\n",
    "    if(i%1000 == 0):\n",
    "        print(i)"
   ]
  }
 ]
}