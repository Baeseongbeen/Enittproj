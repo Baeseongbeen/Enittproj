{
 "metadata": {
  "language_info": {
   "codemirror_mode": {
    "name": "ipython",
    "version": 3
   },
   "file_extension": ".py",
   "mimetype": "text/x-python",
   "name": "python",
   "nbconvert_exporter": "python",
   "pygments_lexer": "ipython3",
   "version": "3.7.6-final"
  },
  "orig_nbformat": 2,
  "kernelspec": {
   "name": "python3",
   "display_name": "Python 3"
  }
 },
 "nbformat": 4,
 "nbformat_minor": 2,
 "cells": [
  {
   "cell_type": "code",
   "execution_count": 171,
   "metadata": {},
   "outputs": [],
   "source": [
    "def mean_absolute_percentage_error(y_true, y_pred, df):\n",
    "    df = df[(df[\"env_slopesolar\"] != 0 ) & ( df[\"env_levelsolar\"] != 0 ) & ( df[\"match_solar\"] != 0 )]\n",
    "\n",
    "    a_set, b_set = np.array(df[y_true]), np.array(df[y_pred])\n",
    "\n",
    "    print(y_true, \", \", y_pred, \" MAPE : \", np.mean(np.abs((a_set - b_set) / a_set)) * 100)\n",
    "\n",
    "\n",
    "def make_graph(a, b, df):\n",
    "    df = df[df[a] != 0]\n",
    "    df = df[df[b] != 0]\n",
    "\n",
    "    fig = make_subplots(specs=[[{\"secondary_y\": True}]])\n",
    "\n",
    "    fig.add_trace(go.Scatter(x=df.index, y=df[a], mode='lines', name=\"기업 일사량\", line=dict(color='blue')), secondary_y = False)\n",
    "    fig.add_trace(go.Scatter(x=df.index, y=df[b], mode='lines', name=\"기상청 일사량\", line=dict(color='red')), secondary_y = False)\n",
    "    fig.update_layout(width=800, height=300,)\n",
    "    fig.show()\n",
    "\n",
    "\n",
    "def group_reset(df):\n",
    "    df_group = df.groupby(\"datemonth\").mean().reset_index()\n",
    "    mean_list = []\n",
    "    month_list = []\n",
    "\n",
    "    for i in range(len(df_group)):\n",
    "        mean_set = df_group[\"env_slopesolar\"][i] / df_group[\"match_solar\"][i] \n",
    "        mean_list.append(mean_set)\n",
    "        month_list.append(df_group[\"datemonth\"][i])\n",
    "\n",
    "    df[\"reset_match\"] = 0.000\n",
    "    for i in range(len(df)):\n",
    "        for j, k in zip(mean_list, month_list):\n",
    "            if df[\"datemonth\"][i] == k:\n",
    "                df[\"reset_match\"][i] = df[\"match_solar\"][i] * j\n",
    "            else:\n",
    "                pass\n",
    "    \n",
    "    return df\n",
    "\n",
    "def split_month(df):\n",
    "    datemonth_list = []\n",
    "\n",
    "    for i in df.env_date:\n",
    "        datemonth_list.append(i[5:7])\n",
    "    \n",
    "    df[\"datemonth\"] = datemonth_list\n",
    "\n",
    "    return df\n",
    "\n",
    "def diff_12(df):\n",
    "    df[\"diff\"] = df[\"env_slopesolar\"] - df[\"match_solar\"]\n",
    "\n",
    "    \n",
    "    # print(np.quantile(df[\"diff1\"], 0.9))\n",
    "\n",
    "    return df[(df[\"diff\"] < np.quantile(df[\"diff\"], 0.9)) & (df[\"diff\"] > np.quantile(df[\"diff\"], 0.1))]\n",
    "\n",
    "def split_datetime(df):\n",
    "    a = df[df[\"dummy_time\"] == \"09\"]\n",
    "    b = df[df[\"dummy_time\"] == \"10\"]\n",
    "    c = df[df[\"dummy_time\"] == \"11\"]\n",
    "    d = df[df[\"dummy_time\"] == \"12\"]\n",
    "    e = df[df[\"dummy_time\"] == \"13\"]\n",
    "    f = df[df[\"dummy_time\"] == \"14\"]\n",
    "    g = df[df[\"dummy_time\"] == \"15\"]\n",
    "    h = df[df[\"dummy_time\"] == \"16\"]\n",
    "    i = df[df[\"dummy_time\"] == \"17\"]\n",
    "\n",
    "    return a, b, c, d, e, f, g, h, i \n",
    "\n",
    "def diff1_plotly():\n",
    "    fig = make_subplots(specs=[[{\"secondary_y\": True}]])\n",
    "\n",
    "    fig.add_trace(go.Scatter(x=a.index, y=a[\"diff\"], mode='lines', name=\"09시\", line=dict(color='aqua')), secondary_y = False)\n",
    "    # fig.add_trace(go.Scatter(x=a.index, y=b[\"diff1\"], mode='lines', name=\"b\", line=dict(color='black')), secondary_y = False)\n",
    "    # fig.add_trace(go.Scatter(x=a.index, y=c[\"diff1\"], mode='lines', name=\"c\", line=dict(color='brown')), secondary_y = False)\n",
    "    # fig.add_trace(go.Scatter(x=a.index, y=d[\"diff1\"], mode='lines', name=\"d\", line=dict(color='blue')), secondary_y = False)\n",
    "    fig.add_trace(go.Scatter(x=a.index, y=e[\"diff\"], mode='lines', name=\"13시\", line=dict(color='coral')), secondary_y = False)\n",
    "    # fig.add_trace(go.Scatter(x=a.index, y=f[\"diff1\"], mode='lines', name=\"f\", line=dict(color='gold')), secondary_y = False)\n",
    "    # fig.add_trace(go.Scatter(x=a.index, y=g[\"diff1\"], mode='lines', name=\"g\", line=dict(color='red')), secondary_y = False)\n",
    "    # fig.add_trace(go.Scatter(x=a.index, y=h[\"diff1\"], mode='lines', name=\"h\", line=dict(color='orange')), secondary_y = False)\n",
    "    fig.add_trace(go.Scatter(x=a.index, y=i[\"diff\"], mode='lines', name=\"17시\", line=dict(color='green')), secondary_y = False)\n",
    "    # fig.add_trace(go.Scatter(x=to_day_sum.index, y=to_day_sum[\"match_solar\"], mode='lines', name=\"기상청\", line=dict(color='red')), secondary_y = True)\n",
    "    fig.update_layout(width=500, height=300,)\n",
    "    fig.show()\n",
    "    print(\"경사면일사량 - 기상청일사량\")\n",
    "    print(\"09시 : \", np.round(a[\"diff\"].mean(), 2), \" - 13시 : \", np.round(e[\"diff\"].mean(), 2), \" - 17시 : \", np.round(i[\"diff\"].mean(), 2))\n",
    "\n",
    "def boxplot():\n",
    "    fd, axes = plt.subplots(3, 3, figsize=(12, 5))\n",
    "    \n",
    "    sns.boxplot(data = a[[\"env_slopesolar\", \"match_solar\"]], ax=axes[0][0])\n",
    "    sns.boxplot(data = b[[\"env_slopesolar\", \"match_solar\"]], ax=axes[0][1])\n",
    "    sns.boxplot(data = c[[\"env_slopesolar\", \"match_solar\"]], ax=axes[0][2])\n",
    "    sns.boxplot(data = d[[\"env_slopesolar\", \"match_solar\"]], ax=axes[1][0])\n",
    "    sns.boxplot(data = e[[\"env_slopesolar\", \"match_solar\"]], ax=axes[1][1])\n",
    "    sns.boxplot(data = f[[\"env_slopesolar\", \"match_solar\"]], ax=axes[1][2])\n",
    "    sns.boxplot(data = g[[\"env_slopesolar\", \"match_solar\"]], ax=axes[2][0])\n",
    "    sns.boxplot(data = h[[\"env_slopesolar\", \"match_solar\"]], ax=axes[2][1])\n",
    "    sns.boxplot(data = i[[\"env_slopesolar\", \"match_solar\"]], ax=axes[2][2])\n",
    "\n",
    "def boxplot1():\n",
    "    fd, axes = plt.subplots(3, 3, figsize=(12, 5))\n",
    "    \n",
    "    sns.boxplot(data = a[[\"env_slopesolar\", \"match_solar\", \"reset_match\"]], ax=axes[0][0])\n",
    "    sns.boxplot(data = b[[\"env_slopesolar\", \"match_solar\", \"reset_match\"]], ax=axes[0][1])\n",
    "    sns.boxplot(data = c[[\"env_slopesolar\", \"match_solar\", \"reset_match\"]], ax=axes[0][2])\n",
    "    sns.boxplot(data = d[[\"env_slopesolar\", \"match_solar\", \"reset_match\"]], ax=axes[1][0])\n",
    "    sns.boxplot(data = e[[\"env_slopesolar\", \"match_solar\", \"reset_match\"]], ax=axes[1][1])\n",
    "    sns.boxplot(data = f[[\"env_slopesolar\", \"match_solar\", \"reset_match\"]], ax=axes[1][2])\n",
    "    sns.boxplot(data = g[[\"env_slopesolar\", \"match_solar\", \"reset_match\"]], ax=axes[2][0])\n",
    "    sns.boxplot(data = h[[\"env_slopesolar\", \"match_solar\", \"reset_match\"]], ax=axes[2][1])\n",
    "    sns.boxplot(data = i[[\"env_slopesolar\", \"match_solar\", \"reset_match\"]], ax=axes[2][2])\n",
    "\n",
    "def match_power_weather(power_data, weather_data):\n",
    "    power_weather=[]\n",
    "    for i in power_data.index:\n",
    "        date_time = str(i).split(\" \")\n",
    "        date_time_df = weather_data[weather_data['일시']==date_time[0]]\n",
    "        sub = list(date_time_df.iloc[0,3:])\n",
    "        sub+=list(power_data[power_data.index==date_time[0]].iloc[0,:])\n",
    "        power_weather.append(sub)\n",
    "    \n",
    "    return power_weather"
   ]
  },
  {
   "source": [
    "# Enitt Proj\n",
    "## 기상청 일기예보 정보를 통한 발전소별 발전량 예측\n",
    "\n",
    "    \n",
    "    1. Project intro\n",
    "    2. Enterprise data set\n",
    "    3. data preprocessing \n",
    "    4. Exploratory data analysis\n",
    "    5. data crawling\n",
    "    6. data preprocessing, make data set \n",
    "    7. modeling and training\n",
    "    8. validation, evaluation\n",
    "    "
   ],
   "cell_type": "markdown",
   "metadata": {}
  },
  {
   "source": [
    "### 0. load module"
   ],
   "cell_type": "markdown",
   "metadata": {}
  },
  {
   "cell_type": "code",
   "execution_count": 126,
   "metadata": {},
   "outputs": [],
   "source": [
    "import pandas as pd \n",
    "import numpy as np \n",
    "import matplotlib.pyplot as plt\n",
    "import plotly\n",
    "import plotly.graph_objs as go\n",
    "from plotly.subplots import make_subplots\n",
    "import datetime\n",
    "import seaborn as sns \n",
    "import scipy.stats\n",
    "import plotly.express as px\n",
    "from scipy import stats"
   ]
  },
  {
   "source": [
    "### 1. Project intro\n",
    "\n",
    "##### 기상청 일기예보 정보를 통한 발전소별 태양광 발전량을 예측한다.\n",
    "##### 현재 https://bd.kma.go.kr/kma2020/fs/energySelect1.do?pageNum=5&menuCd=F050701000 처럼\n",
    "##### 각 지역에 맞는 일사량에 따른 발전량 예측사이트가 있지만, \n",
    "##### 태양광 발전량은 주변 지역 환경과 설비용량, 각 인버터 스펙에 따른 민감도가 존재한다. 즉 대략적인 발전량 예측은 가능하지만 설비용량과 출력스펙을 고려한 발전량은 예측이 불가능하다.\n",
    "##### 이 프로젝트에서는 Enitt 발전소별 일사량 보정값과 가장 인접해 있는 지역의 환경데이터를 통하여 \n",
    "##### 각 발전소별 모델링을 구축하여 발전소 맞춤형 태양광 발전량 예측 모델을 설계한다."
   ],
   "cell_type": "markdown",
   "metadata": {}
  },
  {
   "source": [
    "### 2. Enterprise data set\n"
   ],
   "cell_type": "markdown",
   "metadata": {}
  },
  {
   "source": [
    "##### 각 지역별 발전량 정보 및 환경센서 정보\n"
   ],
   "cell_type": "markdown",
   "metadata": {}
  },
  {
   "cell_type": "code",
   "execution_count": 127,
   "metadata": {},
   "outputs": [
    {
     "output_type": "execute_result",
     "data": {
      "text/plain": [
       "     pow_index  pow_id    pow_date  pow_time  pow_cap  pow_dcv  pow_dca  \\\n",
       "10          11       1  2018-10-18  14:44:17     20.0      507     19.7   \n",
       "175        176       1  2018-10-18  17:43:13     20.0      418      0.0   \n",
       "176        177       1  2018-10-18  17:44:06     20.0      442      0.0   \n",
       "177        178       1  2018-10-18  17:49:34     20.0      442      0.0   \n",
       "178        179       1  2018-10-18  17:50:27     20.0      425      0.0   \n",
       "\n",
       "     pow_dcp  pow_acvr  pow_acvs  pow_acvt  pow_acar  pow_acas  pow_acat  \\\n",
       "10    9900.0       378       375       377      14.9      15.9      15.6   \n",
       "175      0.0       377       376       377       1.5       1.6       1.7   \n",
       "176      0.0       377       376       376       1.4       1.5       1.5   \n",
       "177      0.0       378       376       377       1.5       1.6       1.6   \n",
       "178      0.0       377       375       377       1.6       1.6       1.6   \n",
       "\n",
       "     pow_acp  pow_pf  pow_totpower  pow_freq  \n",
       "10    9500.0     0.9       2936000      60.0  \n",
       "175      0.0     0.0       2944000      59.9  \n",
       "176      0.0     0.0       2944000      60.0  \n",
       "177      0.0     0.0       2944000      60.0  \n",
       "178      0.0     0.0       2944000      59.9  "
      ],
      "text/html": "<div>\n<style scoped>\n    .dataframe tbody tr th:only-of-type {\n        vertical-align: middle;\n    }\n\n    .dataframe tbody tr th {\n        vertical-align: top;\n    }\n\n    .dataframe thead th {\n        text-align: right;\n    }\n</style>\n<table border=\"1\" class=\"dataframe\">\n  <thead>\n    <tr style=\"text-align: right;\">\n      <th></th>\n      <th>pow_index</th>\n      <th>pow_id</th>\n      <th>pow_date</th>\n      <th>pow_time</th>\n      <th>pow_cap</th>\n      <th>pow_dcv</th>\n      <th>pow_dca</th>\n      <th>pow_dcp</th>\n      <th>pow_acvr</th>\n      <th>pow_acvs</th>\n      <th>pow_acvt</th>\n      <th>pow_acar</th>\n      <th>pow_acas</th>\n      <th>pow_acat</th>\n      <th>pow_acp</th>\n      <th>pow_pf</th>\n      <th>pow_totpower</th>\n      <th>pow_freq</th>\n    </tr>\n  </thead>\n  <tbody>\n    <tr>\n      <th>10</th>\n      <td>11</td>\n      <td>1</td>\n      <td>2018-10-18</td>\n      <td>14:44:17</td>\n      <td>20.0</td>\n      <td>507</td>\n      <td>19.7</td>\n      <td>9900.0</td>\n      <td>378</td>\n      <td>375</td>\n      <td>377</td>\n      <td>14.9</td>\n      <td>15.9</td>\n      <td>15.6</td>\n      <td>9500.0</td>\n      <td>0.9</td>\n      <td>2936000</td>\n      <td>60.0</td>\n    </tr>\n    <tr>\n      <th>175</th>\n      <td>176</td>\n      <td>1</td>\n      <td>2018-10-18</td>\n      <td>17:43:13</td>\n      <td>20.0</td>\n      <td>418</td>\n      <td>0.0</td>\n      <td>0.0</td>\n      <td>377</td>\n      <td>376</td>\n      <td>377</td>\n      <td>1.5</td>\n      <td>1.6</td>\n      <td>1.7</td>\n      <td>0.0</td>\n      <td>0.0</td>\n      <td>2944000</td>\n      <td>59.9</td>\n    </tr>\n    <tr>\n      <th>176</th>\n      <td>177</td>\n      <td>1</td>\n      <td>2018-10-18</td>\n      <td>17:44:06</td>\n      <td>20.0</td>\n      <td>442</td>\n      <td>0.0</td>\n      <td>0.0</td>\n      <td>377</td>\n      <td>376</td>\n      <td>376</td>\n      <td>1.4</td>\n      <td>1.5</td>\n      <td>1.5</td>\n      <td>0.0</td>\n      <td>0.0</td>\n      <td>2944000</td>\n      <td>60.0</td>\n    </tr>\n    <tr>\n      <th>177</th>\n      <td>178</td>\n      <td>1</td>\n      <td>2018-10-18</td>\n      <td>17:49:34</td>\n      <td>20.0</td>\n      <td>442</td>\n      <td>0.0</td>\n      <td>0.0</td>\n      <td>378</td>\n      <td>376</td>\n      <td>377</td>\n      <td>1.5</td>\n      <td>1.6</td>\n      <td>1.6</td>\n      <td>0.0</td>\n      <td>0.0</td>\n      <td>2944000</td>\n      <td>60.0</td>\n    </tr>\n    <tr>\n      <th>178</th>\n      <td>179</td>\n      <td>1</td>\n      <td>2018-10-18</td>\n      <td>17:50:27</td>\n      <td>20.0</td>\n      <td>425</td>\n      <td>0.0</td>\n      <td>0.0</td>\n      <td>377</td>\n      <td>375</td>\n      <td>377</td>\n      <td>1.6</td>\n      <td>1.6</td>\n      <td>1.6</td>\n      <td>0.0</td>\n      <td>0.0</td>\n      <td>2944000</td>\n      <td>59.9</td>\n    </tr>\n  </tbody>\n</table>\n</div>"
     },
     "metadata": {},
     "execution_count": 127
    }
   ],
   "source": [
    "ent_data_solar_반포 = pd.read_csv(\"./ENITT_SOLAR_DATA/ENITT_SOLAR_DATA/365. 반포써밋2블럭 발전량.csv\", encoding=\"ms949\")\n",
    "ent_data_solar_반포2 = pd.read_csv(\"./ENITT_SOLAR_DATA/ENITT_SOLAR_DATA/A365. 반포써밋2블럭 발전량.csv\", encoding=\"ms949\")\n",
    "\n",
    "ent_data_solar_전북대= pd.read_csv(\"./ENITT_SOLAR_DATA/ENITT_SOLAR_DATA/463. 전북대NewREC 발전량.csv\", encoding=\"ms949\")\n",
    "ent_data_weather1 = pd.read_csv(\"./ENITT_SOLAR_DATA/ENITT_SOLAR_DATA/365. 반포써밋2블럭 환경정보.csv\", encoding=\"ms949\")\n",
    "ent_data_weather2 = pd.read_csv(\"./ENITT_SOLAR_DATA/ENITT_SOLAR_DATA/A365. 반포써밋2블럭 환경센서.csv\", encoding=\"ms949\")\n",
    "\n",
    "ent_data_solar_반포 = pd.concat([ent_data_solar_반포, ent_data_solar_반포2])\n",
    "ent_data_weather1 = pd.concat([ent_data_weather1, ent_data_weather2])\n",
    "ent_data_solar1 = ent_data_solar_반포[ent_data_solar_반포[\"pow_id\"]==1]\n",
    "\n",
    "watt_1 = ent_data_solar1\n",
    "watt_2 = ent_data_solar_전북대\n",
    "\n",
    "POW_CAP = 20.0\n",
    "\n",
    "ent_data_solar1.head(5)\n"
   ]
  },
  {
   "cell_type": "code",
   "execution_count": 128,
   "metadata": {},
   "outputs": [
    {
     "output_type": "execute_result",
     "data": {
      "text/plain": [
       "     pow_index  pow_id    pow_date  pow_time  pow_cap  pow_dcv  pow_dca  \\\n",
       "10          11       1  2018-10-18  14:44:17     20.0      507     19.7   \n",
       "175        176       1  2018-10-18  17:43:13     20.0      418      0.0   \n",
       "176        177       1  2018-10-18  17:44:06     20.0      442      0.0   \n",
       "177        178       1  2018-10-18  17:49:34     20.0      442      0.0   \n",
       "178        179       1  2018-10-18  17:50:27     20.0      425      0.0   \n",
       "\n",
       "     pow_dcp  pow_acvr  pow_acvs  pow_acvt  pow_acar  pow_acas  pow_acat  \\\n",
       "10    9900.0       378       375       377      14.9      15.9      15.6   \n",
       "175      0.0       377       376       377       1.5       1.6       1.7   \n",
       "176      0.0       377       376       376       1.4       1.5       1.5   \n",
       "177      0.0       378       376       377       1.5       1.6       1.6   \n",
       "178      0.0       377       375       377       1.6       1.6       1.6   \n",
       "\n",
       "     pow_acp  pow_pf  pow_totpower  pow_freq  \n",
       "10    9500.0     0.9       2936000      60.0  \n",
       "175      0.0     0.0       2944000      59.9  \n",
       "176      0.0     0.0       2944000      60.0  \n",
       "177      0.0     0.0       2944000      60.0  \n",
       "178      0.0     0.0       2944000      59.9  "
      ],
      "text/html": "<div>\n<style scoped>\n    .dataframe tbody tr th:only-of-type {\n        vertical-align: middle;\n    }\n\n    .dataframe tbody tr th {\n        vertical-align: top;\n    }\n\n    .dataframe thead th {\n        text-align: right;\n    }\n</style>\n<table border=\"1\" class=\"dataframe\">\n  <thead>\n    <tr style=\"text-align: right;\">\n      <th></th>\n      <th>pow_index</th>\n      <th>pow_id</th>\n      <th>pow_date</th>\n      <th>pow_time</th>\n      <th>pow_cap</th>\n      <th>pow_dcv</th>\n      <th>pow_dca</th>\n      <th>pow_dcp</th>\n      <th>pow_acvr</th>\n      <th>pow_acvs</th>\n      <th>pow_acvt</th>\n      <th>pow_acar</th>\n      <th>pow_acas</th>\n      <th>pow_acat</th>\n      <th>pow_acp</th>\n      <th>pow_pf</th>\n      <th>pow_totpower</th>\n      <th>pow_freq</th>\n    </tr>\n  </thead>\n  <tbody>\n    <tr>\n      <th>10</th>\n      <td>11</td>\n      <td>1</td>\n      <td>2018-10-18</td>\n      <td>14:44:17</td>\n      <td>20.0</td>\n      <td>507</td>\n      <td>19.7</td>\n      <td>9900.0</td>\n      <td>378</td>\n      <td>375</td>\n      <td>377</td>\n      <td>14.9</td>\n      <td>15.9</td>\n      <td>15.6</td>\n      <td>9500.0</td>\n      <td>0.9</td>\n      <td>2936000</td>\n      <td>60.0</td>\n    </tr>\n    <tr>\n      <th>175</th>\n      <td>176</td>\n      <td>1</td>\n      <td>2018-10-18</td>\n      <td>17:43:13</td>\n      <td>20.0</td>\n      <td>418</td>\n      <td>0.0</td>\n      <td>0.0</td>\n      <td>377</td>\n      <td>376</td>\n      <td>377</td>\n      <td>1.5</td>\n      <td>1.6</td>\n      <td>1.7</td>\n      <td>0.0</td>\n      <td>0.0</td>\n      <td>2944000</td>\n      <td>59.9</td>\n    </tr>\n    <tr>\n      <th>176</th>\n      <td>177</td>\n      <td>1</td>\n      <td>2018-10-18</td>\n      <td>17:44:06</td>\n      <td>20.0</td>\n      <td>442</td>\n      <td>0.0</td>\n      <td>0.0</td>\n      <td>377</td>\n      <td>376</td>\n      <td>376</td>\n      <td>1.4</td>\n      <td>1.5</td>\n      <td>1.5</td>\n      <td>0.0</td>\n      <td>0.0</td>\n      <td>2944000</td>\n      <td>60.0</td>\n    </tr>\n    <tr>\n      <th>177</th>\n      <td>178</td>\n      <td>1</td>\n      <td>2018-10-18</td>\n      <td>17:49:34</td>\n      <td>20.0</td>\n      <td>442</td>\n      <td>0.0</td>\n      <td>0.0</td>\n      <td>378</td>\n      <td>376</td>\n      <td>377</td>\n      <td>1.5</td>\n      <td>1.6</td>\n      <td>1.6</td>\n      <td>0.0</td>\n      <td>0.0</td>\n      <td>2944000</td>\n      <td>60.0</td>\n    </tr>\n    <tr>\n      <th>178</th>\n      <td>179</td>\n      <td>1</td>\n      <td>2018-10-18</td>\n      <td>17:50:27</td>\n      <td>20.0</td>\n      <td>425</td>\n      <td>0.0</td>\n      <td>0.0</td>\n      <td>377</td>\n      <td>375</td>\n      <td>377</td>\n      <td>1.6</td>\n      <td>1.6</td>\n      <td>1.6</td>\n      <td>0.0</td>\n      <td>0.0</td>\n      <td>2944000</td>\n      <td>59.9</td>\n    </tr>\n  </tbody>\n</table>\n</div>"
     },
     "metadata": {},
     "execution_count": 128
    }
   ],
   "source": [
    "ent_data_solar1.head(5)"
   ]
  },
  {
   "cell_type": "code",
   "execution_count": 129,
   "metadata": {},
   "outputs": [
    {
     "output_type": "execute_result",
     "data": {
      "text/plain": [
       "   env_index    env_date  env_time  env_slopesolar  env_levelsolar  \\\n",
       "0          1  2018-10-22  12:44:29             322             316   \n",
       "1          2  2018-10-22  12:45:21             320             314   \n",
       "2          3  2018-10-22  12:46:12             320             312   \n",
       "3          4  2018-10-22  12:47:04             326             319   \n",
       "4          5  2018-10-22  12:47:56             335             329   \n",
       "\n",
       "   env_modtemp  env_airtemp  \n",
       "0         24.8         17.6  \n",
       "1         25.0         17.7  \n",
       "2         25.1         17.9  \n",
       "3         24.9         18.1  \n",
       "4         24.9         18.0  "
      ],
      "text/html": "<div>\n<style scoped>\n    .dataframe tbody tr th:only-of-type {\n        vertical-align: middle;\n    }\n\n    .dataframe tbody tr th {\n        vertical-align: top;\n    }\n\n    .dataframe thead th {\n        text-align: right;\n    }\n</style>\n<table border=\"1\" class=\"dataframe\">\n  <thead>\n    <tr style=\"text-align: right;\">\n      <th></th>\n      <th>env_index</th>\n      <th>env_date</th>\n      <th>env_time</th>\n      <th>env_slopesolar</th>\n      <th>env_levelsolar</th>\n      <th>env_modtemp</th>\n      <th>env_airtemp</th>\n    </tr>\n  </thead>\n  <tbody>\n    <tr>\n      <th>0</th>\n      <td>1</td>\n      <td>2018-10-22</td>\n      <td>12:44:29</td>\n      <td>322</td>\n      <td>316</td>\n      <td>24.8</td>\n      <td>17.6</td>\n    </tr>\n    <tr>\n      <th>1</th>\n      <td>2</td>\n      <td>2018-10-22</td>\n      <td>12:45:21</td>\n      <td>320</td>\n      <td>314</td>\n      <td>25.0</td>\n      <td>17.7</td>\n    </tr>\n    <tr>\n      <th>2</th>\n      <td>3</td>\n      <td>2018-10-22</td>\n      <td>12:46:12</td>\n      <td>320</td>\n      <td>312</td>\n      <td>25.1</td>\n      <td>17.9</td>\n    </tr>\n    <tr>\n      <th>3</th>\n      <td>4</td>\n      <td>2018-10-22</td>\n      <td>12:47:04</td>\n      <td>326</td>\n      <td>319</td>\n      <td>24.9</td>\n      <td>18.1</td>\n    </tr>\n    <tr>\n      <th>4</th>\n      <td>5</td>\n      <td>2018-10-22</td>\n      <td>12:47:56</td>\n      <td>335</td>\n      <td>329</td>\n      <td>24.9</td>\n      <td>18.0</td>\n    </tr>\n  </tbody>\n</table>\n</div>"
     },
     "metadata": {},
     "execution_count": 129
    }
   ],
   "source": [
    "ent_data_weather1.head(5)"
   ]
  },
  {
   "source": [
    "### 3. data preprocessing\n",
    "    1) 필요 파라미터 선별\n",
    "    2) 비정상데이터 처리 ( 보듬이나눔이 )\n",
    "    3) 초단위 -> 시간단위\n",
    "    4) 발전량 + 환경센서(일사량)  \n",
    "    5) 예측 시간 설정\n",
    "    6) watt(발전량) / pow_cap(설비용량) => 1kW 설비용량일 때의 발전량\n"
   ],
   "cell_type": "markdown",
   "metadata": {}
  },
  {
   "source": [
    "    1) 필요 파라미터 선별 : 발전량 데이터에서 시간, 누적발전량\n"
   ],
   "cell_type": "markdown",
   "metadata": {}
  },
  {
   "source": [
    "ent_data_solar1_need = ent_data_solar1[[\"pow_date\", \"pow_time\",\"pow_cap\", \"pow_totpower\"]]\n",
    "ent_data_weather1_need = ent_data_weather1[[\"env_date\", \"env_time\", \"env_slopesolar\", \"env_levelsolar\"]]"
   ],
   "cell_type": "code",
   "metadata": {},
   "execution_count": 130,
   "outputs": []
  },
  {
   "source": [
    "    2) 비정상데이터 처리 : 보듬이나눔이 환경센서 일사량 데이터가 다른 발전소의 일사량에 비해 비 정상적으로 낮어 사용 x\n"
   ],
   "cell_type": "markdown",
   "metadata": {}
  },
  {
   "source": [
    "    3) 초 단위 -> 시간 단위 : 사용할 기상청 환경데이터의 최소단위가 1시간이라 1시간 단위로 설정\n",
    "    => pow_totpower : 시간으로 묶고 처음과 끝을 빼서 계산\n",
    "    => env_slopesolar, env_levelsolar : 시간으로 묶고 평균으로 계산"
   ],
   "cell_type": "markdown",
   "metadata": {}
  },
  {
   "cell_type": "code",
   "execution_count": 132,
   "metadata": {},
   "outputs": [],
   "source": [
    "# def make_date(df):\n",
    "def solar_make_dummy_time(df):\n",
    "    time_list = []\n",
    "    for i in df[\"pow_time\"]:\n",
    "        time_list.append(i[:2])\n",
    "    df[\"dummy_time\"] = time_list\n",
    "\n",
    "    return df\n",
    "\n",
    "def weather_make_dummy_time(df):\n",
    "    time_list = []\n",
    "    for i in df[\"env_time\"]:\n",
    "        time_list.append(i[:2])\n",
    "    df[\"dummy_time\"] = time_list\n",
    "\n",
    "    return df\n",
    "\n",
    "def groupby_min(df):\n",
    "    return df.groupby([\"pow_date\", \"dummy_time\"]).min()\n",
    "\n",
    "def groupby_max(df):\n",
    "    return df.groupby([\"pow_date\", \"dummy_time\"]).max()\n",
    "\n",
    "def groupby_mean0(df):\n",
    "    return df.groupby([\"env_date\", \"dummy_time\"]).mean()\n",
    "\n",
    "def groupby_mean(df):\n",
    "    return df.groupby([\"pow_date\", \"dummy_time\"]).mean()\n",
    "\n",
    "def sub(df1, df2):\n",
    "    dummy = df1[\"pow_totpower\"] - df2[\"pow_totpower\"]\n",
    "    df1[\"hour_power\"] = dummy\n",
    "    return df1[[\"hour_power\"]]\n",
    "# groupby_min(make_dummy_time(ent_data_solar1_need))\n",
    "# groupby_max(make_dummy_time(ent_data_solar1_need))"
   ]
  },
  {
   "cell_type": "code",
   "execution_count": 133,
   "metadata": {},
   "outputs": [
    {
     "output_type": "execute_result",
     "data": {
      "text/plain": [
       "     env_date dummy_time  env_slopesolar  env_levelsolar\n",
       "0  2018-10-22         12      333.375000      321.937500\n",
       "1  2018-10-22         13      490.514286      563.442857\n",
       "2  2018-10-22         14      368.214286      426.042857\n",
       "3  2018-10-22         15      242.214286      294.400000\n",
       "4  2018-10-22         16      116.159420      132.362319"
      ],
      "text/html": "<div>\n<style scoped>\n    .dataframe tbody tr th:only-of-type {\n        vertical-align: middle;\n    }\n\n    .dataframe tbody tr th {\n        vertical-align: top;\n    }\n\n    .dataframe thead th {\n        text-align: right;\n    }\n</style>\n<table border=\"1\" class=\"dataframe\">\n  <thead>\n    <tr style=\"text-align: right;\">\n      <th></th>\n      <th>env_date</th>\n      <th>dummy_time</th>\n      <th>env_slopesolar</th>\n      <th>env_levelsolar</th>\n    </tr>\n  </thead>\n  <tbody>\n    <tr>\n      <th>0</th>\n      <td>2018-10-22</td>\n      <td>12</td>\n      <td>333.375000</td>\n      <td>321.937500</td>\n    </tr>\n    <tr>\n      <th>1</th>\n      <td>2018-10-22</td>\n      <td>13</td>\n      <td>490.514286</td>\n      <td>563.442857</td>\n    </tr>\n    <tr>\n      <th>2</th>\n      <td>2018-10-22</td>\n      <td>14</td>\n      <td>368.214286</td>\n      <td>426.042857</td>\n    </tr>\n    <tr>\n      <th>3</th>\n      <td>2018-10-22</td>\n      <td>15</td>\n      <td>242.214286</td>\n      <td>294.400000</td>\n    </tr>\n    <tr>\n      <th>4</th>\n      <td>2018-10-22</td>\n      <td>16</td>\n      <td>116.159420</td>\n      <td>132.362319</td>\n    </tr>\n  </tbody>\n</table>\n</div>"
     },
     "metadata": {},
     "execution_count": 133
    }
   ],
   "source": [
    "ent_data_solar1_hour = sub(\n",
    "        groupby_max(solar_make_dummy_time(ent_data_solar1_need)), \n",
    "        groupby_min(solar_make_dummy_time(ent_data_solar1_need))\n",
    "        ).reset_index()\n",
    "\n",
    "ent_data_weather1_hour = groupby_mean0(weather_make_dummy_time(ent_data_weather1_need)).reset_index()\n",
    "ent_data_weather1_hour.head(5)"
   ]
  },
  {
   "cell_type": "code",
   "execution_count": 134,
   "metadata": {},
   "outputs": [
    {
     "output_type": "execute_result",
     "data": {
      "text/plain": [
       "     pow_date dummy_time  hour_power\n",
       "0  2018-10-18         14           0\n",
       "1  2018-10-18         17           0\n",
       "2  2018-10-18         18           0\n",
       "3  2018-10-19         06           0\n",
       "4  2018-10-19         07           0\n",
       "5  2018-10-19         08           0\n",
       "6  2018-10-19         10        4000\n",
       "7  2018-10-19         11        9000\n",
       "8  2018-10-19         12        9000\n",
       "9  2018-10-19         13       10000"
      ],
      "text/html": "<div>\n<style scoped>\n    .dataframe tbody tr th:only-of-type {\n        vertical-align: middle;\n    }\n\n    .dataframe tbody tr th {\n        vertical-align: top;\n    }\n\n    .dataframe thead th {\n        text-align: right;\n    }\n</style>\n<table border=\"1\" class=\"dataframe\">\n  <thead>\n    <tr style=\"text-align: right;\">\n      <th></th>\n      <th>pow_date</th>\n      <th>dummy_time</th>\n      <th>hour_power</th>\n    </tr>\n  </thead>\n  <tbody>\n    <tr>\n      <th>0</th>\n      <td>2018-10-18</td>\n      <td>14</td>\n      <td>0</td>\n    </tr>\n    <tr>\n      <th>1</th>\n      <td>2018-10-18</td>\n      <td>17</td>\n      <td>0</td>\n    </tr>\n    <tr>\n      <th>2</th>\n      <td>2018-10-18</td>\n      <td>18</td>\n      <td>0</td>\n    </tr>\n    <tr>\n      <th>3</th>\n      <td>2018-10-19</td>\n      <td>06</td>\n      <td>0</td>\n    </tr>\n    <tr>\n      <th>4</th>\n      <td>2018-10-19</td>\n      <td>07</td>\n      <td>0</td>\n    </tr>\n    <tr>\n      <th>5</th>\n      <td>2018-10-19</td>\n      <td>08</td>\n      <td>0</td>\n    </tr>\n    <tr>\n      <th>6</th>\n      <td>2018-10-19</td>\n      <td>10</td>\n      <td>4000</td>\n    </tr>\n    <tr>\n      <th>7</th>\n      <td>2018-10-19</td>\n      <td>11</td>\n      <td>9000</td>\n    </tr>\n    <tr>\n      <th>8</th>\n      <td>2018-10-19</td>\n      <td>12</td>\n      <td>9000</td>\n    </tr>\n    <tr>\n      <th>9</th>\n      <td>2018-10-19</td>\n      <td>13</td>\n      <td>10000</td>\n    </tr>\n  </tbody>\n</table>\n</div>"
     },
     "metadata": {},
     "execution_count": 134
    }
   ],
   "source": [
    "ent_data_solar1_hour.head(10)"
   ]
  },
  {
   "source": [
    "\n",
    "    pow_totpower 로 시간을 나누었더니 결과값이 이상하게 나옴\n",
    "\n",
    "    -> pow_totpower의 최소측정단위가 1000W여서 발전량이 있더라도 1000W를 넘기지 못하면 모두 0 으로 표시가 되는 현상때문"
   ],
   "cell_type": "markdown",
   "metadata": {}
  },
  {
   "source": [
    "      EDA. 발전량(energy generation)\n",
    "       : 전류 x 전압 = 에너지 \n",
    "       \n",
    "       * 발전량 정보 데이터의 pow_dcp, pow_totpower 컬럼이 에너지를 나타내는 부분이나, 센서의 민감도나 측정단위 문제로 정확한 측정이 안된다.\n",
    "         pow_dcp의 측정 최소 단위는 100W이고 pow_totpower의 측정 최소단위는 1000W이고 \n",
    "         pow_dcp는 149W까지는 측정이 불가하고 150W부터 반내림한 100W로 측정을 하게 된다 (pow_totpower 이와 동일)\n",
    "\n",
    "         하여 정확한 발전량 측정을 하기 위하여 직류전류(pow_dcv) X 직류전압(pow_dca) 를 발전량 칼럼인 Watt로 생성하였다.\n",
    "         "
   ],
   "cell_type": "markdown",
   "metadata": {}
  },
  {
   "cell_type": "code",
   "execution_count": 135,
   "metadata": {},
   "outputs": [
    {
     "output_type": "stream",
     "name": "stdout",
     "text": [
      "전력 [9900.    0.  100.  200.  500.]\n누적발전량 [2936000 2944000 2958000 2959000 2960000]\n전력, 누적발전량의 측정최소단위가 정해져 있다. -> 전류 x 전압으로 발전량 watt 설정\n"
     ]
    }
   ],
   "source": [
    "ent_data_solar1_need = ent_data_solar1[[\"pow_date\",\"pow_time\",\"pow_cap\", \"pow_dcv\", \"pow_dca\"]]\n",
    "\n",
    "\n",
    "\n",
    "print(\"전력\", ent_data_solar1[\"pow_dcp\"].unique()[:5])\n",
    "print(\"누적발전량\", ent_data_solar1[\"pow_totpower\"].unique()[:5])\n",
    "print(\"전력, 누적발전량의 측정최소단위가 정해져 있다. -> 전류 * 전압으로 발전량 watt 설정\")\n",
    "\n",
    "def make_generation(df):\n",
    "    df[\"watt\"] = df[\"pow_dcv\"] * df[\"pow_dca\"]\n",
    "\n",
    "    return df\n",
    "\n",
    "ent_data_solar1_watt = make_generation(ent_data_solar1_need)\n",
    "ent_data_solar1_hour =  groupby_mean(solar_make_dummy_time(ent_data_solar1_watt)).reset_index()\n"
   ]
  },
  {
   "source": [
    "    4) 발전량 + 환경센서"
   ],
   "cell_type": "markdown",
   "metadata": {}
  },
  {
   "cell_type": "code",
   "execution_count": 136,
   "metadata": {},
   "outputs": [
    {
     "output_type": "execute_result",
     "data": {
      "text/plain": [
       "                    env_date dummy_time  env_slopesolar  env_levelsolar  \\\n",
       "2018-10-22 12:00  2018-10-22         12      333.375000      321.937500   \n",
       "2018-10-22 13:00  2018-10-22         13      490.514286      563.442857   \n",
       "2018-10-22 14:00  2018-10-22         14      368.214286      426.042857   \n",
       "2018-10-22 15:00  2018-10-22         15      242.214286      294.400000   \n",
       "2018-10-22 16:00  2018-10-22         16      116.159420      132.362319   \n",
       "\n",
       "                         watt  \n",
       "2018-10-22 12:00  5536.874419  \n",
       "2018-10-22 13:00  6808.306122  \n",
       "2018-10-22 14:00  5217.690909  \n",
       "2018-10-22 15:00  3306.254098  \n",
       "2018-10-22 16:00  1589.776190  "
      ],
      "text/html": "<div>\n<style scoped>\n    .dataframe tbody tr th:only-of-type {\n        vertical-align: middle;\n    }\n\n    .dataframe tbody tr th {\n        vertical-align: top;\n    }\n\n    .dataframe thead th {\n        text-align: right;\n    }\n</style>\n<table border=\"1\" class=\"dataframe\">\n  <thead>\n    <tr style=\"text-align: right;\">\n      <th></th>\n      <th>env_date</th>\n      <th>dummy_time</th>\n      <th>env_slopesolar</th>\n      <th>env_levelsolar</th>\n      <th>watt</th>\n    </tr>\n  </thead>\n  <tbody>\n    <tr>\n      <th>2018-10-22 12:00</th>\n      <td>2018-10-22</td>\n      <td>12</td>\n      <td>333.375000</td>\n      <td>321.937500</td>\n      <td>5536.874419</td>\n    </tr>\n    <tr>\n      <th>2018-10-22 13:00</th>\n      <td>2018-10-22</td>\n      <td>13</td>\n      <td>490.514286</td>\n      <td>563.442857</td>\n      <td>6808.306122</td>\n    </tr>\n    <tr>\n      <th>2018-10-22 14:00</th>\n      <td>2018-10-22</td>\n      <td>14</td>\n      <td>368.214286</td>\n      <td>426.042857</td>\n      <td>5217.690909</td>\n    </tr>\n    <tr>\n      <th>2018-10-22 15:00</th>\n      <td>2018-10-22</td>\n      <td>15</td>\n      <td>242.214286</td>\n      <td>294.400000</td>\n      <td>3306.254098</td>\n    </tr>\n    <tr>\n      <th>2018-10-22 16:00</th>\n      <td>2018-10-22</td>\n      <td>16</td>\n      <td>116.159420</td>\n      <td>132.362319</td>\n      <td>1589.776190</td>\n    </tr>\n  </tbody>\n</table>\n</div>"
     },
     "metadata": {},
     "execution_count": 136
    }
   ],
   "source": [
    "def join_weather_solar(a, b):\n",
    "    sub_index1 = a[\"env_date\"] + \" \" + a[\"dummy_time\"] + \":00\"\n",
    "    a.index = sub_index1\n",
    "\n",
    "    sub_index2 = b[\"pow_date\"] + \" \" + b[\"dummy_time\"] + \":00\"\n",
    "    b.index = sub_index2\n",
    "\n",
    "    joinset = a.join(b[[\"watt\"]])\n",
    "    ent_data_solar_weather = joinset.dropna()\n",
    "\n",
    "\n",
    "    return ent_data_solar_weather\n",
    "\n",
    "ent_data_solar_weather = join_weather_solar(ent_data_weather1_hour, ent_data_solar1_hour)\n",
    "ent_data_solar_weather.head(5)\n",
    "\n",
    "\n",
    "\n"
   ]
  },
  {
   "cell_type": "code",
   "execution_count": 137,
   "metadata": {},
   "outputs": [
    {
     "output_type": "execute_result",
     "data": {
      "text/plain": [
       "array(['12', '13', '14', '15', '16', '17', '09', '10', '11'], dtype=object)"
      ]
     },
     "metadata": {},
     "execution_count": 137
    }
   ],
   "source": [
    "drop_data = ent_data_solar_weather.isin({\"dummy_time\" : [\"00\", \"01\", \"02\", \"03\", \"04\", \"05\", \"06\", \"07\",\"08\",\"18\", \"19\", \"20\", \"21\", \"22\", \"23\"]})\n",
    "ent_data_perhour_sort = ent_data_solar_weather[~drop_data].dropna()\n",
    "ent_data_perhour_sort.dummy_time.unique()"
   ]
  },
  {
   "source": [
    "    실질적으로 발전되는 09~17시의 발전량 데이터를 가져옴 "
   ],
   "cell_type": "markdown",
   "metadata": {}
  },
  {
   "source": [
    "    6) watt / pow_cap : 설비용량에 따라 발전량이 다르기 때문에 설비용량을 1kW 초기셋팅 한다.\n",
    "\n",
    "     설비용량(pow_cap)\n",
    "       : 설비용량에 따라 에너지 생산량이 변함. ( 태양광 발전기 크기와 비슷하게 이해해도 무방함 )\n",
    "         에너지생산량은 설비용량에 비례한다. "
   ],
   "cell_type": "markdown",
   "metadata": {}
  },
  {
   "cell_type": "code",
   "execution_count": 139,
   "metadata": {},
   "outputs": [
    {
     "output_type": "stream",
     "name": "stdout",
     "text": [
      "설비용량 20kW :  4604.847189810905 --------- 설비용량 3kW :  777.4127843916241\n"
     ]
    }
   ],
   "source": [
    "watt_1[\"watt\"] = watt_1[\"pow_dcv\"] * watt_1[\"pow_dca\"]\n",
    "watt_2[\"watt\"] = watt_2[\"pow_dcv\"] * watt_2[\"pow_dca\"]\n",
    "print(\n",
    "    \"설비용량 20kW : \", \n",
    "    watt_1[watt_1[\"pow_cap\"] == 20.0].describe()[\"watt\"][1], \n",
    "    \"---------\",\n",
    "    \"설비용량 3kW : \",\n",
    "    watt_2[watt_2[\"pow_cap\"] == 3.0].describe()[\"watt\"][1])"
   ]
  },
  {
   "cell_type": "code",
   "execution_count": 140,
   "metadata": {},
   "outputs": [],
   "source": [
    "ent_data_perhour_sort['watt'] = ent_data_perhour_sort['watt'] / POW_CAP"
   ]
  },
  {
   "source": [
    "### 4. Exploratory Data Analysis (EDA)"
   ],
   "cell_type": "markdown",
   "metadata": {}
  },
  {
   "source": [
    "    1) 기업데이터의 발전량과 기업의 환경센서 상관관계"
   ],
   "cell_type": "markdown",
   "metadata": {}
  },
  {
   "cell_type": "code",
   "execution_count": 141,
   "metadata": {},
   "outputs": [
    {
     "output_type": "execute_result",
     "data": {
      "text/plain": [
       "                env_slopesolar  env_levelsolar      watt\n",
       "env_slopesolar        1.000000        0.915188  0.980203\n",
       "env_levelsolar        0.915188        1.000000  0.865496\n",
       "watt                  0.980203        0.865496  1.000000"
      ],
      "text/html": "<div>\n<style scoped>\n    .dataframe tbody tr th:only-of-type {\n        vertical-align: middle;\n    }\n\n    .dataframe tbody tr th {\n        vertical-align: top;\n    }\n\n    .dataframe thead th {\n        text-align: right;\n    }\n</style>\n<table border=\"1\" class=\"dataframe\">\n  <thead>\n    <tr style=\"text-align: right;\">\n      <th></th>\n      <th>env_slopesolar</th>\n      <th>env_levelsolar</th>\n      <th>watt</th>\n    </tr>\n  </thead>\n  <tbody>\n    <tr>\n      <th>env_slopesolar</th>\n      <td>1.000000</td>\n      <td>0.915188</td>\n      <td>0.980203</td>\n    </tr>\n    <tr>\n      <th>env_levelsolar</th>\n      <td>0.915188</td>\n      <td>1.000000</td>\n      <td>0.865496</td>\n    </tr>\n    <tr>\n      <th>watt</th>\n      <td>0.980203</td>\n      <td>0.865496</td>\n      <td>1.000000</td>\n    </tr>\n  </tbody>\n</table>\n</div>"
     },
     "metadata": {},
     "execution_count": 141
    }
   ],
   "source": [
    "ent_data_perhour_sort.corr()"
   ]
  },
  {
   "source": [
    "    => 일사량과 0.98, 0.86 큰 상관관계가 있음, 경사면 일사량과 수평면 일사량 중 상관관계가 더 큰 경사면 일사량을 사용\n",
    "    "
   ],
   "cell_type": "markdown",
   "metadata": {}
  },
  {
   "source": [
    "    2) 기업데이터 일사량과 기상청 일사량의 Mean_absolute_percentage_error\n",
    "    \n",
    "     : 일사량은 발전량과 가장 큰 상관관계를 보인다. \n",
    "     : 기상청의 일사량 + 환경데이터 를 통해 발전량을 예측하기 위해선 \"기상청의 환경데이터\" 와 \"기업데이터의 환경데이터\" 가 유사하다는 가정이 있어야 한다.\n",
    "     : 발전량과 가장 큰 상관관계를 보이는 일사량의 유사도를 확인하기 위해 MAPE를 구하고 낮춰가는 방향으로 EDA 진행\n",
    "     : MAPE가 낮으면 기업의 일사량을 기상청의 일사량으로 대체하여 결과를 예측가능하다.\n",
    "     \n",
    "    "
   ],
   "cell_type": "markdown",
   "metadata": {}
  },
  {
   "source": [
    "    비교하기 위한 DataFrame 생성 ( 기업데이터 + 환경데이터 데이터프레임 생성 )"
   ],
   "cell_type": "markdown",
   "metadata": {}
  },
  {
   "cell_type": "code",
   "execution_count": 142,
   "metadata": {},
   "outputs": [
    {
     "output_type": "stream",
     "name": "stdout",
     "text": [
      "env_slopesolar ,  match_solar  MAPE :  300.88748861029495\n"
     ]
    },
    {
     "output_type": "display_data",
     "data": {
      "text/plain": "<Figure size 432x288 with 1 Axes>",
      "image/svg+xml": "<?xml version=\"1.0\" encoding=\"utf-8\" standalone=\"no\"?>\r\n<!DOCTYPE svg PUBLIC \"-//W3C//DTD SVG 1.1//EN\"\r\n  \"http://www.w3.org/Graphics/SVG/1.1/DTD/svg11.dtd\">\r\n<!-- Created with matplotlib (https://matplotlib.org/) -->\r\n<svg height=\"248.79625pt\" version=\"1.1\" viewBox=\"0 0 381.65 248.79625\" width=\"381.65pt\" xmlns=\"http://www.w3.org/2000/svg\" xmlns:xlink=\"http://www.w3.org/1999/xlink\">\r\n <defs>\r\n  <style type=\"text/css\">\r\n*{stroke-linecap:butt;stroke-linejoin:round;}\r\n  </style>\r\n </defs>\r\n <g id=\"figure_1\">\r\n  <g id=\"patch_1\">\r\n   <path d=\"M -0 248.79625 \r\nL 381.65 248.79625 \r\nL 381.65 0 \r\nL -0 0 \r\nz\r\n\" style=\"fill:none;\"/>\r\n  </g>\r\n  <g id=\"axes_1\">\r\n   <g id=\"patch_2\">\r\n    <path d=\"M 39.65 224.64 \r\nL 374.45 224.64 \r\nL 374.45 7.2 \r\nL 39.65 7.2 \r\nz\r\n\" style=\"fill:#ffffff;\"/>\r\n   </g>\r\n   <g id=\"patch_3\">\r\n    <path clip-path=\"url(#pfb5b56decc)\" d=\"M 56.39 189.529558 \r\nL 190.31 189.529558 \r\nL 190.31 113.477262 \r\nL 56.39 113.477262 \r\nL 56.39 189.529558 \r\nz\r\n\" style=\"fill:#3274a1;stroke:#3f3f3f;stroke-linejoin:miter;stroke-width:1.5;\"/>\r\n   </g>\r\n   <g id=\"patch_4\">\r\n    <path clip-path=\"url(#pfb5b56decc)\" d=\"M 223.79 186.517403 \r\nL 357.71 186.517403 \r\nL 357.71 115.92 \r\nL 223.79 115.92 \r\nL 223.79 186.517403 \r\nz\r\n\" style=\"fill:#e1812c;stroke:#3f3f3f;stroke-linejoin:miter;stroke-width:1.5;\"/>\r\n   </g>\r\n   <g id=\"matplotlib.axis_1\">\r\n    <g id=\"xtick_1\">\r\n     <g id=\"line2d_1\">\r\n      <defs>\r\n       <path d=\"M 0 0 \r\nL 0 3.5 \r\n\" id=\"m5a56a2d1b5\" style=\"stroke:#000000;stroke-width:0.8;\"/>\r\n      </defs>\r\n      <g>\r\n       <use style=\"stroke:#000000;stroke-width:0.8;\" x=\"123.35\" xlink:href=\"#m5a56a2d1b5\" y=\"224.64\"/>\r\n      </g>\r\n     </g>\r\n     <g id=\"text_1\">\r\n      <!-- env_slopesolar -->\r\n      <defs>\r\n       <path d=\"M 56.203125 29.59375 \r\nL 56.203125 25.203125 \r\nL 14.890625 25.203125 \r\nQ 15.484375 15.921875 20.484375 11.0625 \r\nQ 25.484375 6.203125 34.421875 6.203125 \r\nQ 39.59375 6.203125 44.453125 7.46875 \r\nQ 49.3125 8.734375 54.109375 11.28125 \r\nL 54.109375 2.78125 \r\nQ 49.265625 0.734375 44.1875 -0.34375 \r\nQ 39.109375 -1.421875 33.890625 -1.421875 \r\nQ 20.796875 -1.421875 13.15625 6.1875 \r\nQ 5.515625 13.8125 5.515625 26.8125 \r\nQ 5.515625 40.234375 12.765625 48.109375 \r\nQ 20.015625 56 32.328125 56 \r\nQ 43.359375 56 49.78125 48.890625 \r\nQ 56.203125 41.796875 56.203125 29.59375 \r\nz\r\nM 47.21875 32.234375 \r\nQ 47.125 39.59375 43.09375 43.984375 \r\nQ 39.0625 48.390625 32.421875 48.390625 \r\nQ 24.90625 48.390625 20.390625 44.140625 \r\nQ 15.875 39.890625 15.1875 32.171875 \r\nz\r\n\" id=\"DejaVuSans-101\"/>\r\n       <path d=\"M 54.890625 33.015625 \r\nL 54.890625 0 \r\nL 45.90625 0 \r\nL 45.90625 32.71875 \r\nQ 45.90625 40.484375 42.875 44.328125 \r\nQ 39.84375 48.1875 33.796875 48.1875 \r\nQ 26.515625 48.1875 22.3125 43.546875 \r\nQ 18.109375 38.921875 18.109375 30.90625 \r\nL 18.109375 0 \r\nL 9.078125 0 \r\nL 9.078125 54.6875 \r\nL 18.109375 54.6875 \r\nL 18.109375 46.1875 \r\nQ 21.34375 51.125 25.703125 53.5625 \r\nQ 30.078125 56 35.796875 56 \r\nQ 45.21875 56 50.046875 50.171875 \r\nQ 54.890625 44.34375 54.890625 33.015625 \r\nz\r\n\" id=\"DejaVuSans-110\"/>\r\n       <path d=\"M 2.984375 54.6875 \r\nL 12.5 54.6875 \r\nL 29.59375 8.796875 \r\nL 46.6875 54.6875 \r\nL 56.203125 54.6875 \r\nL 35.6875 0 \r\nL 23.484375 0 \r\nz\r\n\" id=\"DejaVuSans-118\"/>\r\n       <path d=\"M 50.984375 -16.609375 \r\nL 50.984375 -23.578125 \r\nL -0.984375 -23.578125 \r\nL -0.984375 -16.609375 \r\nz\r\n\" id=\"DejaVuSans-95\"/>\r\n       <path d=\"M 44.28125 53.078125 \r\nL 44.28125 44.578125 \r\nQ 40.484375 46.53125 36.375 47.5 \r\nQ 32.28125 48.484375 27.875 48.484375 \r\nQ 21.1875 48.484375 17.84375 46.4375 \r\nQ 14.5 44.390625 14.5 40.28125 \r\nQ 14.5 37.15625 16.890625 35.375 \r\nQ 19.28125 33.59375 26.515625 31.984375 \r\nL 29.59375 31.296875 \r\nQ 39.15625 29.25 43.1875 25.515625 \r\nQ 47.21875 21.78125 47.21875 15.09375 \r\nQ 47.21875 7.46875 41.1875 3.015625 \r\nQ 35.15625 -1.421875 24.609375 -1.421875 \r\nQ 20.21875 -1.421875 15.453125 -0.5625 \r\nQ 10.6875 0.296875 5.421875 2 \r\nL 5.421875 11.28125 \r\nQ 10.40625 8.6875 15.234375 7.390625 \r\nQ 20.0625 6.109375 24.8125 6.109375 \r\nQ 31.15625 6.109375 34.5625 8.28125 \r\nQ 37.984375 10.453125 37.984375 14.40625 \r\nQ 37.984375 18.0625 35.515625 20.015625 \r\nQ 33.0625 21.96875 24.703125 23.78125 \r\nL 21.578125 24.515625 \r\nQ 13.234375 26.265625 9.515625 29.90625 \r\nQ 5.8125 33.546875 5.8125 39.890625 \r\nQ 5.8125 47.609375 11.28125 51.796875 \r\nQ 16.75 56 26.8125 56 \r\nQ 31.78125 56 36.171875 55.265625 \r\nQ 40.578125 54.546875 44.28125 53.078125 \r\nz\r\n\" id=\"DejaVuSans-115\"/>\r\n       <path d=\"M 9.421875 75.984375 \r\nL 18.40625 75.984375 \r\nL 18.40625 0 \r\nL 9.421875 0 \r\nz\r\n\" id=\"DejaVuSans-108\"/>\r\n       <path d=\"M 30.609375 48.390625 \r\nQ 23.390625 48.390625 19.1875 42.75 \r\nQ 14.984375 37.109375 14.984375 27.296875 \r\nQ 14.984375 17.484375 19.15625 11.84375 \r\nQ 23.34375 6.203125 30.609375 6.203125 \r\nQ 37.796875 6.203125 41.984375 11.859375 \r\nQ 46.1875 17.53125 46.1875 27.296875 \r\nQ 46.1875 37.015625 41.984375 42.703125 \r\nQ 37.796875 48.390625 30.609375 48.390625 \r\nz\r\nM 30.609375 56 \r\nQ 42.328125 56 49.015625 48.375 \r\nQ 55.71875 40.765625 55.71875 27.296875 \r\nQ 55.71875 13.875 49.015625 6.21875 \r\nQ 42.328125 -1.421875 30.609375 -1.421875 \r\nQ 18.84375 -1.421875 12.171875 6.21875 \r\nQ 5.515625 13.875 5.515625 27.296875 \r\nQ 5.515625 40.765625 12.171875 48.375 \r\nQ 18.84375 56 30.609375 56 \r\nz\r\n\" id=\"DejaVuSans-111\"/>\r\n       <path d=\"M 18.109375 8.203125 \r\nL 18.109375 -20.796875 \r\nL 9.078125 -20.796875 \r\nL 9.078125 54.6875 \r\nL 18.109375 54.6875 \r\nL 18.109375 46.390625 \r\nQ 20.953125 51.265625 25.265625 53.625 \r\nQ 29.59375 56 35.59375 56 \r\nQ 45.5625 56 51.78125 48.09375 \r\nQ 58.015625 40.1875 58.015625 27.296875 \r\nQ 58.015625 14.40625 51.78125 6.484375 \r\nQ 45.5625 -1.421875 35.59375 -1.421875 \r\nQ 29.59375 -1.421875 25.265625 0.953125 \r\nQ 20.953125 3.328125 18.109375 8.203125 \r\nz\r\nM 48.6875 27.296875 \r\nQ 48.6875 37.203125 44.609375 42.84375 \r\nQ 40.53125 48.484375 33.40625 48.484375 \r\nQ 26.265625 48.484375 22.1875 42.84375 \r\nQ 18.109375 37.203125 18.109375 27.296875 \r\nQ 18.109375 17.390625 22.1875 11.75 \r\nQ 26.265625 6.109375 33.40625 6.109375 \r\nQ 40.53125 6.109375 44.609375 11.75 \r\nQ 48.6875 17.390625 48.6875 27.296875 \r\nz\r\n\" id=\"DejaVuSans-112\"/>\r\n       <path d=\"M 34.28125 27.484375 \r\nQ 23.390625 27.484375 19.1875 25 \r\nQ 14.984375 22.515625 14.984375 16.5 \r\nQ 14.984375 11.71875 18.140625 8.90625 \r\nQ 21.296875 6.109375 26.703125 6.109375 \r\nQ 34.1875 6.109375 38.703125 11.40625 \r\nQ 43.21875 16.703125 43.21875 25.484375 \r\nL 43.21875 27.484375 \r\nz\r\nM 52.203125 31.203125 \r\nL 52.203125 0 \r\nL 43.21875 0 \r\nL 43.21875 8.296875 \r\nQ 40.140625 3.328125 35.546875 0.953125 \r\nQ 30.953125 -1.421875 24.3125 -1.421875 \r\nQ 15.921875 -1.421875 10.953125 3.296875 \r\nQ 6 8.015625 6 15.921875 \r\nQ 6 25.140625 12.171875 29.828125 \r\nQ 18.359375 34.515625 30.609375 34.515625 \r\nL 43.21875 34.515625 \r\nL 43.21875 35.40625 \r\nQ 43.21875 41.609375 39.140625 45 \r\nQ 35.0625 48.390625 27.6875 48.390625 \r\nQ 23 48.390625 18.546875 47.265625 \r\nQ 14.109375 46.140625 10.015625 43.890625 \r\nL 10.015625 52.203125 \r\nQ 14.9375 54.109375 19.578125 55.046875 \r\nQ 24.21875 56 28.609375 56 \r\nQ 40.484375 56 46.34375 49.84375 \r\nQ 52.203125 43.703125 52.203125 31.203125 \r\nz\r\n\" id=\"DejaVuSans-97\"/>\r\n       <path d=\"M 41.109375 46.296875 \r\nQ 39.59375 47.171875 37.8125 47.578125 \r\nQ 36.03125 48 33.890625 48 \r\nQ 26.265625 48 22.1875 43.046875 \r\nQ 18.109375 38.09375 18.109375 28.8125 \r\nL 18.109375 0 \r\nL 9.078125 0 \r\nL 9.078125 54.6875 \r\nL 18.109375 54.6875 \r\nL 18.109375 46.1875 \r\nQ 20.953125 51.171875 25.484375 53.578125 \r\nQ 30.03125 56 36.53125 56 \r\nQ 37.453125 56 38.578125 55.875 \r\nQ 39.703125 55.765625 41.0625 55.515625 \r\nz\r\n\" id=\"DejaVuSans-114\"/>\r\n      </defs>\r\n      <g transform=\"translate(86.16875 239.238437)scale(0.1 -0.1)\">\r\n       <use xlink:href=\"#DejaVuSans-101\"/>\r\n       <use x=\"61.523438\" xlink:href=\"#DejaVuSans-110\"/>\r\n       <use x=\"124.902344\" xlink:href=\"#DejaVuSans-118\"/>\r\n       <use x=\"184.082031\" xlink:href=\"#DejaVuSans-95\"/>\r\n       <use x=\"234.082031\" xlink:href=\"#DejaVuSans-115\"/>\r\n       <use x=\"286.181641\" xlink:href=\"#DejaVuSans-108\"/>\r\n       <use x=\"313.964844\" xlink:href=\"#DejaVuSans-111\"/>\r\n       <use x=\"375.146484\" xlink:href=\"#DejaVuSans-112\"/>\r\n       <use x=\"438.623047\" xlink:href=\"#DejaVuSans-101\"/>\r\n       <use x=\"500.146484\" xlink:href=\"#DejaVuSans-115\"/>\r\n       <use x=\"552.246094\" xlink:href=\"#DejaVuSans-111\"/>\r\n       <use x=\"613.427734\" xlink:href=\"#DejaVuSans-108\"/>\r\n       <use x=\"641.210938\" xlink:href=\"#DejaVuSans-97\"/>\r\n       <use x=\"702.490234\" xlink:href=\"#DejaVuSans-114\"/>\r\n      </g>\r\n     </g>\r\n    </g>\r\n    <g id=\"xtick_2\">\r\n     <g id=\"line2d_2\">\r\n      <g>\r\n       <use style=\"stroke:#000000;stroke-width:0.8;\" x=\"290.75\" xlink:href=\"#m5a56a2d1b5\" y=\"224.64\"/>\r\n      </g>\r\n     </g>\r\n     <g id=\"text_2\">\r\n      <!-- match_solar -->\r\n      <defs>\r\n       <path d=\"M 52 44.1875 \r\nQ 55.375 50.25 60.0625 53.125 \r\nQ 64.75 56 71.09375 56 \r\nQ 79.640625 56 84.28125 50.015625 \r\nQ 88.921875 44.046875 88.921875 33.015625 \r\nL 88.921875 0 \r\nL 79.890625 0 \r\nL 79.890625 32.71875 \r\nQ 79.890625 40.578125 77.09375 44.375 \r\nQ 74.3125 48.1875 68.609375 48.1875 \r\nQ 61.625 48.1875 57.5625 43.546875 \r\nQ 53.515625 38.921875 53.515625 30.90625 \r\nL 53.515625 0 \r\nL 44.484375 0 \r\nL 44.484375 32.71875 \r\nQ 44.484375 40.625 41.703125 44.40625 \r\nQ 38.921875 48.1875 33.109375 48.1875 \r\nQ 26.21875 48.1875 22.15625 43.53125 \r\nQ 18.109375 38.875 18.109375 30.90625 \r\nL 18.109375 0 \r\nL 9.078125 0 \r\nL 9.078125 54.6875 \r\nL 18.109375 54.6875 \r\nL 18.109375 46.1875 \r\nQ 21.1875 51.21875 25.484375 53.609375 \r\nQ 29.78125 56 35.6875 56 \r\nQ 41.65625 56 45.828125 52.96875 \r\nQ 50 49.953125 52 44.1875 \r\nz\r\n\" id=\"DejaVuSans-109\"/>\r\n       <path d=\"M 18.3125 70.21875 \r\nL 18.3125 54.6875 \r\nL 36.8125 54.6875 \r\nL 36.8125 47.703125 \r\nL 18.3125 47.703125 \r\nL 18.3125 18.015625 \r\nQ 18.3125 11.328125 20.140625 9.421875 \r\nQ 21.96875 7.515625 27.59375 7.515625 \r\nL 36.8125 7.515625 \r\nL 36.8125 0 \r\nL 27.59375 0 \r\nQ 17.1875 0 13.234375 3.875 \r\nQ 9.28125 7.765625 9.28125 18.015625 \r\nL 9.28125 47.703125 \r\nL 2.6875 47.703125 \r\nL 2.6875 54.6875 \r\nL 9.28125 54.6875 \r\nL 9.28125 70.21875 \r\nz\r\n\" id=\"DejaVuSans-116\"/>\r\n       <path d=\"M 48.78125 52.59375 \r\nL 48.78125 44.1875 \r\nQ 44.96875 46.296875 41.140625 47.34375 \r\nQ 37.3125 48.390625 33.40625 48.390625 \r\nQ 24.65625 48.390625 19.8125 42.84375 \r\nQ 14.984375 37.3125 14.984375 27.296875 \r\nQ 14.984375 17.28125 19.8125 11.734375 \r\nQ 24.65625 6.203125 33.40625 6.203125 \r\nQ 37.3125 6.203125 41.140625 7.25 \r\nQ 44.96875 8.296875 48.78125 10.40625 \r\nL 48.78125 2.09375 \r\nQ 45.015625 0.34375 40.984375 -0.53125 \r\nQ 36.96875 -1.421875 32.421875 -1.421875 \r\nQ 20.0625 -1.421875 12.78125 6.34375 \r\nQ 5.515625 14.109375 5.515625 27.296875 \r\nQ 5.515625 40.671875 12.859375 48.328125 \r\nQ 20.21875 56 33.015625 56 \r\nQ 37.15625 56 41.109375 55.140625 \r\nQ 45.0625 54.296875 48.78125 52.59375 \r\nz\r\n\" id=\"DejaVuSans-99\"/>\r\n       <path d=\"M 54.890625 33.015625 \r\nL 54.890625 0 \r\nL 45.90625 0 \r\nL 45.90625 32.71875 \r\nQ 45.90625 40.484375 42.875 44.328125 \r\nQ 39.84375 48.1875 33.796875 48.1875 \r\nQ 26.515625 48.1875 22.3125 43.546875 \r\nQ 18.109375 38.921875 18.109375 30.90625 \r\nL 18.109375 0 \r\nL 9.078125 0 \r\nL 9.078125 75.984375 \r\nL 18.109375 75.984375 \r\nL 18.109375 46.1875 \r\nQ 21.34375 51.125 25.703125 53.5625 \r\nQ 30.078125 56 35.796875 56 \r\nQ 45.21875 56 50.046875 50.171875 \r\nQ 54.890625 44.34375 54.890625 33.015625 \r\nz\r\n\" id=\"DejaVuSans-104\"/>\r\n      </defs>\r\n      <g transform=\"translate(260.264844 239.238437)scale(0.1 -0.1)\">\r\n       <use xlink:href=\"#DejaVuSans-109\"/>\r\n       <use x=\"97.412109\" xlink:href=\"#DejaVuSans-97\"/>\r\n       <use x=\"158.691406\" xlink:href=\"#DejaVuSans-116\"/>\r\n       <use x=\"197.900391\" xlink:href=\"#DejaVuSans-99\"/>\r\n       <use x=\"252.880859\" xlink:href=\"#DejaVuSans-104\"/>\r\n       <use x=\"316.259766\" xlink:href=\"#DejaVuSans-95\"/>\r\n       <use x=\"366.259766\" xlink:href=\"#DejaVuSans-115\"/>\r\n       <use x=\"418.359375\" xlink:href=\"#DejaVuSans-111\"/>\r\n       <use x=\"479.541016\" xlink:href=\"#DejaVuSans-108\"/>\r\n       <use x=\"507.324219\" xlink:href=\"#DejaVuSans-97\"/>\r\n       <use x=\"568.603516\" xlink:href=\"#DejaVuSans-114\"/>\r\n      </g>\r\n     </g>\r\n    </g>\r\n   </g>\r\n   <g id=\"matplotlib.axis_2\">\r\n    <g id=\"ytick_1\">\r\n     <g id=\"line2d_3\">\r\n      <defs>\r\n       <path d=\"M 0 0 \r\nL -3.5 0 \r\n\" id=\"m2ce2b88d84\" style=\"stroke:#000000;stroke-width:0.8;\"/>\r\n      </defs>\r\n      <g>\r\n       <use style=\"stroke:#000000;stroke-width:0.8;\" x=\"39.65\" xlink:href=\"#m2ce2b88d84\" y=\"214.756364\"/>\r\n      </g>\r\n     </g>\r\n     <g id=\"text_3\">\r\n      <!-- 0 -->\r\n      <defs>\r\n       <path d=\"M 31.78125 66.40625 \r\nQ 24.171875 66.40625 20.328125 58.90625 \r\nQ 16.5 51.421875 16.5 36.375 \r\nQ 16.5 21.390625 20.328125 13.890625 \r\nQ 24.171875 6.390625 31.78125 6.390625 \r\nQ 39.453125 6.390625 43.28125 13.890625 \r\nQ 47.125 21.390625 47.125 36.375 \r\nQ 47.125 51.421875 43.28125 58.90625 \r\nQ 39.453125 66.40625 31.78125 66.40625 \r\nz\r\nM 31.78125 74.21875 \r\nQ 44.046875 74.21875 50.515625 64.515625 \r\nQ 56.984375 54.828125 56.984375 36.375 \r\nQ 56.984375 17.96875 50.515625 8.265625 \r\nQ 44.046875 -1.421875 31.78125 -1.421875 \r\nQ 19.53125 -1.421875 13.0625 8.265625 \r\nQ 6.59375 17.96875 6.59375 36.375 \r\nQ 6.59375 54.828125 13.0625 64.515625 \r\nQ 19.53125 74.21875 31.78125 74.21875 \r\nz\r\n\" id=\"DejaVuSans-48\"/>\r\n      </defs>\r\n      <g transform=\"translate(26.2875 218.555582)scale(0.1 -0.1)\">\r\n       <use xlink:href=\"#DejaVuSans-48\"/>\r\n      </g>\r\n     </g>\r\n    </g>\r\n    <g id=\"ytick_2\">\r\n     <g id=\"line2d_4\">\r\n      <g>\r\n       <use style=\"stroke:#000000;stroke-width:0.8;\" x=\"39.65\" xlink:href=\"#m2ce2b88d84\" y=\"177.104416\"/>\r\n      </g>\r\n     </g>\r\n     <g id=\"text_4\">\r\n      <!-- 200 -->\r\n      <defs>\r\n       <path d=\"M 19.1875 8.296875 \r\nL 53.609375 8.296875 \r\nL 53.609375 0 \r\nL 7.328125 0 \r\nL 7.328125 8.296875 \r\nQ 12.9375 14.109375 22.625 23.890625 \r\nQ 32.328125 33.6875 34.8125 36.53125 \r\nQ 39.546875 41.84375 41.421875 45.53125 \r\nQ 43.3125 49.21875 43.3125 52.78125 \r\nQ 43.3125 58.59375 39.234375 62.25 \r\nQ 35.15625 65.921875 28.609375 65.921875 \r\nQ 23.96875 65.921875 18.8125 64.3125 \r\nQ 13.671875 62.703125 7.8125 59.421875 \r\nL 7.8125 69.390625 \r\nQ 13.765625 71.78125 18.9375 73 \r\nQ 24.125 74.21875 28.421875 74.21875 \r\nQ 39.75 74.21875 46.484375 68.546875 \r\nQ 53.21875 62.890625 53.21875 53.421875 \r\nQ 53.21875 48.921875 51.53125 44.890625 \r\nQ 49.859375 40.875 45.40625 35.40625 \r\nQ 44.1875 33.984375 37.640625 27.21875 \r\nQ 31.109375 20.453125 19.1875 8.296875 \r\nz\r\n\" id=\"DejaVuSans-50\"/>\r\n      </defs>\r\n      <g transform=\"translate(13.5625 180.903634)scale(0.1 -0.1)\">\r\n       <use xlink:href=\"#DejaVuSans-50\"/>\r\n       <use x=\"63.623047\" xlink:href=\"#DejaVuSans-48\"/>\r\n       <use x=\"127.246094\" xlink:href=\"#DejaVuSans-48\"/>\r\n      </g>\r\n     </g>\r\n    </g>\r\n    <g id=\"ytick_3\">\r\n     <g id=\"line2d_5\">\r\n      <g>\r\n       <use style=\"stroke:#000000;stroke-width:0.8;\" x=\"39.65\" xlink:href=\"#m2ce2b88d84\" y=\"139.452468\"/>\r\n      </g>\r\n     </g>\r\n     <g id=\"text_5\">\r\n      <!-- 400 -->\r\n      <defs>\r\n       <path d=\"M 37.796875 64.3125 \r\nL 12.890625 25.390625 \r\nL 37.796875 25.390625 \r\nz\r\nM 35.203125 72.90625 \r\nL 47.609375 72.90625 \r\nL 47.609375 25.390625 \r\nL 58.015625 25.390625 \r\nL 58.015625 17.1875 \r\nL 47.609375 17.1875 \r\nL 47.609375 0 \r\nL 37.796875 0 \r\nL 37.796875 17.1875 \r\nL 4.890625 17.1875 \r\nL 4.890625 26.703125 \r\nz\r\n\" id=\"DejaVuSans-52\"/>\r\n      </defs>\r\n      <g transform=\"translate(13.5625 143.251686)scale(0.1 -0.1)\">\r\n       <use xlink:href=\"#DejaVuSans-52\"/>\r\n       <use x=\"63.623047\" xlink:href=\"#DejaVuSans-48\"/>\r\n       <use x=\"127.246094\" xlink:href=\"#DejaVuSans-48\"/>\r\n      </g>\r\n     </g>\r\n    </g>\r\n    <g id=\"ytick_4\">\r\n     <g id=\"line2d_6\">\r\n      <g>\r\n       <use style=\"stroke:#000000;stroke-width:0.8;\" x=\"39.65\" xlink:href=\"#m2ce2b88d84\" y=\"101.800519\"/>\r\n      </g>\r\n     </g>\r\n     <g id=\"text_6\">\r\n      <!-- 600 -->\r\n      <defs>\r\n       <path d=\"M 33.015625 40.375 \r\nQ 26.375 40.375 22.484375 35.828125 \r\nQ 18.609375 31.296875 18.609375 23.390625 \r\nQ 18.609375 15.53125 22.484375 10.953125 \r\nQ 26.375 6.390625 33.015625 6.390625 \r\nQ 39.65625 6.390625 43.53125 10.953125 \r\nQ 47.40625 15.53125 47.40625 23.390625 \r\nQ 47.40625 31.296875 43.53125 35.828125 \r\nQ 39.65625 40.375 33.015625 40.375 \r\nz\r\nM 52.59375 71.296875 \r\nL 52.59375 62.3125 \r\nQ 48.875 64.0625 45.09375 64.984375 \r\nQ 41.3125 65.921875 37.59375 65.921875 \r\nQ 27.828125 65.921875 22.671875 59.328125 \r\nQ 17.53125 52.734375 16.796875 39.40625 \r\nQ 19.671875 43.65625 24.015625 45.921875 \r\nQ 28.375 48.1875 33.59375 48.1875 \r\nQ 44.578125 48.1875 50.953125 41.515625 \r\nQ 57.328125 34.859375 57.328125 23.390625 \r\nQ 57.328125 12.15625 50.6875 5.359375 \r\nQ 44.046875 -1.421875 33.015625 -1.421875 \r\nQ 20.359375 -1.421875 13.671875 8.265625 \r\nQ 6.984375 17.96875 6.984375 36.375 \r\nQ 6.984375 53.65625 15.1875 63.9375 \r\nQ 23.390625 74.21875 37.203125 74.21875 \r\nQ 40.921875 74.21875 44.703125 73.484375 \r\nQ 48.484375 72.75 52.59375 71.296875 \r\nz\r\n\" id=\"DejaVuSans-54\"/>\r\n      </defs>\r\n      <g transform=\"translate(13.5625 105.599738)scale(0.1 -0.1)\">\r\n       <use xlink:href=\"#DejaVuSans-54\"/>\r\n       <use x=\"63.623047\" xlink:href=\"#DejaVuSans-48\"/>\r\n       <use x=\"127.246094\" xlink:href=\"#DejaVuSans-48\"/>\r\n      </g>\r\n     </g>\r\n    </g>\r\n    <g id=\"ytick_5\">\r\n     <g id=\"line2d_7\">\r\n      <g>\r\n       <use style=\"stroke:#000000;stroke-width:0.8;\" x=\"39.65\" xlink:href=\"#m2ce2b88d84\" y=\"64.148571\"/>\r\n      </g>\r\n     </g>\r\n     <g id=\"text_7\">\r\n      <!-- 800 -->\r\n      <defs>\r\n       <path d=\"M 31.78125 34.625 \r\nQ 24.75 34.625 20.71875 30.859375 \r\nQ 16.703125 27.09375 16.703125 20.515625 \r\nQ 16.703125 13.921875 20.71875 10.15625 \r\nQ 24.75 6.390625 31.78125 6.390625 \r\nQ 38.8125 6.390625 42.859375 10.171875 \r\nQ 46.921875 13.96875 46.921875 20.515625 \r\nQ 46.921875 27.09375 42.890625 30.859375 \r\nQ 38.875 34.625 31.78125 34.625 \r\nz\r\nM 21.921875 38.8125 \r\nQ 15.578125 40.375 12.03125 44.71875 \r\nQ 8.5 49.078125 8.5 55.328125 \r\nQ 8.5 64.0625 14.71875 69.140625 \r\nQ 20.953125 74.21875 31.78125 74.21875 \r\nQ 42.671875 74.21875 48.875 69.140625 \r\nQ 55.078125 64.0625 55.078125 55.328125 \r\nQ 55.078125 49.078125 51.53125 44.71875 \r\nQ 48 40.375 41.703125 38.8125 \r\nQ 48.828125 37.15625 52.796875 32.3125 \r\nQ 56.78125 27.484375 56.78125 20.515625 \r\nQ 56.78125 9.90625 50.3125 4.234375 \r\nQ 43.84375 -1.421875 31.78125 -1.421875 \r\nQ 19.734375 -1.421875 13.25 4.234375 \r\nQ 6.78125 9.90625 6.78125 20.515625 \r\nQ 6.78125 27.484375 10.78125 32.3125 \r\nQ 14.796875 37.15625 21.921875 38.8125 \r\nz\r\nM 18.3125 54.390625 \r\nQ 18.3125 48.734375 21.84375 45.5625 \r\nQ 25.390625 42.390625 31.78125 42.390625 \r\nQ 38.140625 42.390625 41.71875 45.5625 \r\nQ 45.3125 48.734375 45.3125 54.390625 \r\nQ 45.3125 60.0625 41.71875 63.234375 \r\nQ 38.140625 66.40625 31.78125 66.40625 \r\nQ 25.390625 66.40625 21.84375 63.234375 \r\nQ 18.3125 60.0625 18.3125 54.390625 \r\nz\r\n\" id=\"DejaVuSans-56\"/>\r\n      </defs>\r\n      <g transform=\"translate(13.5625 67.94779)scale(0.1 -0.1)\">\r\n       <use xlink:href=\"#DejaVuSans-56\"/>\r\n       <use x=\"63.623047\" xlink:href=\"#DejaVuSans-48\"/>\r\n       <use x=\"127.246094\" xlink:href=\"#DejaVuSans-48\"/>\r\n      </g>\r\n     </g>\r\n    </g>\r\n    <g id=\"ytick_6\">\r\n     <g id=\"line2d_8\">\r\n      <g>\r\n       <use style=\"stroke:#000000;stroke-width:0.8;\" x=\"39.65\" xlink:href=\"#m2ce2b88d84\" y=\"26.496623\"/>\r\n      </g>\r\n     </g>\r\n     <g id=\"text_8\">\r\n      <!-- 1000 -->\r\n      <defs>\r\n       <path d=\"M 12.40625 8.296875 \r\nL 28.515625 8.296875 \r\nL 28.515625 63.921875 \r\nL 10.984375 60.40625 \r\nL 10.984375 69.390625 \r\nL 28.421875 72.90625 \r\nL 38.28125 72.90625 \r\nL 38.28125 8.296875 \r\nL 54.390625 8.296875 \r\nL 54.390625 0 \r\nL 12.40625 0 \r\nz\r\n\" id=\"DejaVuSans-49\"/>\r\n      </defs>\r\n      <g transform=\"translate(7.2 30.295842)scale(0.1 -0.1)\">\r\n       <use xlink:href=\"#DejaVuSans-49\"/>\r\n       <use x=\"63.623047\" xlink:href=\"#DejaVuSans-48\"/>\r\n       <use x=\"127.246094\" xlink:href=\"#DejaVuSans-48\"/>\r\n       <use x=\"190.869141\" xlink:href=\"#DejaVuSans-48\"/>\r\n      </g>\r\n     </g>\r\n    </g>\r\n   </g>\r\n   <g id=\"line2d_9\">\r\n    <path clip-path=\"url(#pfb5b56decc)\" d=\"M 123.35 189.529558 \r\nL 123.35 214.756364 \r\n\" style=\"fill:none;stroke:#3f3f3f;stroke-linecap:square;stroke-width:1.5;\"/>\r\n   </g>\r\n   <g id=\"line2d_10\">\r\n    <path clip-path=\"url(#pfb5b56decc)\" d=\"M 123.35 113.477262 \r\nL 123.35 21.052779 \r\n\" style=\"fill:none;stroke:#3f3f3f;stroke-linecap:square;stroke-width:1.5;\"/>\r\n   </g>\r\n   <g id=\"line2d_11\">\r\n    <path clip-path=\"url(#pfb5b56decc)\" d=\"M 89.87 214.756364 \r\nL 156.83 214.756364 \r\n\" style=\"fill:none;stroke:#3f3f3f;stroke-linecap:square;stroke-width:1.5;\"/>\r\n   </g>\r\n   <g id=\"line2d_12\">\r\n    <path clip-path=\"url(#pfb5b56decc)\" d=\"M 89.87 21.052779 \r\nL 156.83 21.052779 \r\n\" style=\"fill:none;stroke:#3f3f3f;stroke-linecap:square;stroke-width:1.5;\"/>\r\n   </g>\r\n   <g id=\"line2d_13\"/>\r\n   <g id=\"line2d_14\">\r\n    <path clip-path=\"url(#pfb5b56decc)\" d=\"M 290.75 186.517403 \r\nL 290.75 214.756364 \r\n\" style=\"fill:none;stroke:#3f3f3f;stroke-linecap:square;stroke-width:1.5;\"/>\r\n   </g>\r\n   <g id=\"line2d_15\">\r\n    <path clip-path=\"url(#pfb5b56decc)\" d=\"M 290.75 115.92 \r\nL 290.75 17.083636 \r\n\" style=\"fill:none;stroke:#3f3f3f;stroke-linecap:square;stroke-width:1.5;\"/>\r\n   </g>\r\n   <g id=\"line2d_16\">\r\n    <path clip-path=\"url(#pfb5b56decc)\" d=\"M 257.27 214.756364 \r\nL 324.23 214.756364 \r\n\" style=\"fill:none;stroke:#3f3f3f;stroke-linecap:square;stroke-width:1.5;\"/>\r\n   </g>\r\n   <g id=\"line2d_17\">\r\n    <path clip-path=\"url(#pfb5b56decc)\" d=\"M 257.27 17.083636 \r\nL 324.23 17.083636 \r\n\" style=\"fill:none;stroke:#3f3f3f;stroke-linecap:square;stroke-width:1.5;\"/>\r\n   </g>\r\n   <g id=\"line2d_18\"/>\r\n   <g id=\"line2d_19\">\r\n    <path clip-path=\"url(#pfb5b56decc)\" d=\"M 56.39 153.476276 \r\nL 190.31 153.476276 \r\n\" style=\"fill:none;stroke:#3f3f3f;stroke-linecap:square;stroke-width:1.5;\"/>\r\n   </g>\r\n   <g id=\"line2d_20\">\r\n    <path clip-path=\"url(#pfb5b56decc)\" d=\"M 223.79 151.480173 \r\nL 357.71 151.480173 \r\n\" style=\"fill:none;stroke:#3f3f3f;stroke-linecap:square;stroke-width:1.5;\"/>\r\n   </g>\r\n   <g id=\"patch_5\">\r\n    <path d=\"M 39.65 224.64 \r\nL 39.65 7.2 \r\n\" style=\"fill:none;stroke:#000000;stroke-linecap:square;stroke-linejoin:miter;stroke-width:0.8;\"/>\r\n   </g>\r\n   <g id=\"patch_6\">\r\n    <path d=\"M 374.45 224.64 \r\nL 374.45 7.2 \r\n\" style=\"fill:none;stroke:#000000;stroke-linecap:square;stroke-linejoin:miter;stroke-width:0.8;\"/>\r\n   </g>\r\n   <g id=\"patch_7\">\r\n    <path d=\"M 39.65 224.64 \r\nL 374.45 224.64 \r\n\" style=\"fill:none;stroke:#000000;stroke-linecap:square;stroke-linejoin:miter;stroke-width:0.8;\"/>\r\n   </g>\r\n   <g id=\"patch_8\">\r\n    <path d=\"M 39.65 7.2 \r\nL 374.45 7.2 \r\n\" style=\"fill:none;stroke:#000000;stroke-linecap:square;stroke-linejoin:miter;stroke-width:0.8;\"/>\r\n   </g>\r\n  </g>\r\n </g>\r\n <defs>\r\n  <clipPath id=\"pfb5b56decc\">\r\n   <rect height=\"217.44\" width=\"334.8\" x=\"39.65\" y=\"7.2\"/>\r\n  </clipPath>\r\n </defs>\r\n</svg>\r\n",
      "image/png": "[encoded data removed]"
     },
     "metadata": {
      "needs_background": "light"
     }
    }
   ],
   "source": [
    "other_weather_dummy1 = pd.read_csv(\"./ENITT_SOLAR_DATA/re_allweather/allweather2018.csv\", encoding=\"ms949\")\n",
    "other_weather_dummy2 = pd.read_csv(\"./ENITT_SOLAR_DATA/re_allweather/allweather2019.csv\", encoding=\"ms949\")\n",
    "other_weather_dummy3 = pd.read_csv(\"./ENITT_SOLAR_DATA/re_allweather/allweather2020.csv\", encoding=\"ms949\")\n",
    "\n",
    "other_data_weather =  other_weather_dummy1.merge(other_weather_dummy2, how=\"outer\").merge(other_weather_dummy3, how=\"outer\")\n",
    "other_data_weather = other_data_weather[other_data_weather[\"지점명\"] == \"서울\"][[\"일시\", \"일사(MJ/m2)\"]].fillna(0)\n",
    "other_data_weather = other_data_weather.set_index(\"일시\")\n",
    "\n",
    "ent_other_joinset = ent_data_perhour_sort.join(other_data_weather[\"일사(MJ/m2)\"])\n",
    "ent_other_joinset\n",
    "\n",
    "## MJ/m2 -> W/m2 으로 단위 변환 ( 일사 -> match_solar )\n",
    "ent_other_joinset[\"match_solar\"] = ent_other_joinset[\"일사(MJ/m2)\"] * 1000000 / 3600\n",
    "ent_other_joinset\n",
    "\n",
    "sns.boxplot(data = ent_other_joinset[[\"env_slopesolar\", \"match_solar\"]])\n",
    "\n",
    "mean_absolute_percentage_error(\"env_slopesolar\", \"match_solar\", ent_other_joinset)"
   ]
  },
  {
   "cell_type": "code",
   "execution_count": 165,
   "metadata": {},
   "outputs": [
    {
     "output_type": "stream",
     "name": "stdout",
     "text": [
      "env_slopesolar    0.854033\nName: match_solar, dtype: float64\n"
     ]
    },
    {
     "output_type": "display_data",
     "data": {
      "application/vnd.plotly.v1+json": {
       "config": {
        "plotlyServerURL": "https://plot.ly"
       },
       "data": [
        {
         "line": {
          "color": "blue"
         },
         "mode": "lines",
         "name": "기업 일사량",
         "type": "scatter",
         "x": [
          "2018-12-17 15:00",
          "2018-12-17 16:00",
          "2018-12-17 17:00",
          "2018-12-18 09:00",
          "2018-12-18 10:00",
          "2018-12-18 11:00",
          "2018-12-18 12:00",
          "2018-12-18 13:00",
          "2018-12-18 14:00",
          "2018-12-18 15:00",
          "2018-12-18 16:00",
          "2018-12-18 17:00",
          "2018-12-19 09:00",
          "2018-12-19 10:00",
          "2018-12-19 11:00",
          "2018-12-19 12:00",
          "2018-12-19 13:00",
          "2018-12-19 14:00",
          "2018-12-19 15:00",
          "2018-12-19 16:00",
          "2018-12-19 17:00",
          "2018-12-20 09:00",
          "2018-12-20 10:00",
          "2018-12-20 11:00",
          "2018-12-20 12:00",
          "2018-12-20 13:00",
          "2018-12-20 14:00",
          "2018-12-20 15:00",
          "2018-12-20 16:00",
          "2018-12-20 17:00",
          "2018-12-21 09:00",
          "2018-12-21 10:00",
          "2018-12-21 11:00",
          "2018-12-21 12:00",
          "2018-12-21 13:00",
          "2018-12-21 14:00",
          "2018-12-21 15:00",
          "2018-12-21 16:00",
          "2018-12-21 17:00",
          "2018-12-22 09:00",
          "2018-12-22 10:00",
          "2018-12-22 11:00",
          "2018-12-22 12:00",
          "2018-12-22 13:00",
          "2018-12-22 14:00",
          "2018-12-22 15:00",
          "2018-12-22 16:00",
          "2018-12-22 17:00",
          "2018-12-23 09:00",
          "2018-12-23 10:00",
          "2018-12-23 11:00",
          "2018-12-23 12:00",
          "2018-12-23 13:00",
          "2018-12-23 14:00",
          "2018-12-23 15:00",
          "2018-12-23 16:00",
          "2018-12-23 17:00",
          "2018-12-24 09:00",
          "2018-12-24 10:00",
          "2018-12-24 11:00",
          "2018-12-24 12:00",
          "2018-12-24 13:00",
          "2018-12-24 14:00",
          "2018-12-24 15:00",
          "2018-12-24 16:00",
          "2018-12-24 17:00",
          "2018-12-25 09:00",
          "2018-12-25 10:00",
          "2018-12-25 11:00",
          "2018-12-25 12:00",
          "2018-12-25 13:00",
          "2018-12-25 14:00",
          "2018-12-25 15:00",
          "2018-12-25 16:00",
          "2018-12-25 17:00",
          "2018-12-26 09:00",
          "2018-12-26 10:00",
          "2018-12-26 11:00",
          "2018-12-26 12:00",
          "2018-12-26 13:00",
          "2018-12-26 14:00",
          "2018-12-26 15:00",
          "2018-12-26 16:00",
          "2018-12-26 17:00",
          "2018-12-27 09:00",
          "2018-12-27 10:00",
          "2018-12-27 11:00",
          "2018-12-27 12:00",
          "2018-12-27 13:00",
          "2018-12-27 14:00",
          "2018-12-27 15:00",
          "2018-12-27 16:00",
          "2018-12-27 17:00",
          "2018-12-28 09:00",
          "2018-12-28 10:00",
          "2018-12-28 11:00",
          "2018-12-28 12:00",
          "2018-12-28 13:00",
          "2018-12-28 14:00",
          "2018-12-28 15:00"
         ],
         "xaxis": "x",
         "y": [
          268.92857142857144,
          55.51428571428571,
          0.7692307692307693,
          203.3,
          366.12857142857143,
          378.25714285714287,
          346.84057971014494,
          431.51428571428573,
          318.65714285714284,
          252.65714285714284,
          56.869565217391305,
          0.6060606060606061,
          173.05714285714285,
          328.0144927536232,
          457.92857142857144,
          519.5857142857143,
          502.37142857142857,
          418.6811594202899,
          189.47142857142856,
          59.72857142857143,
          1.208955223880597,
          138.7826086956522,
          313.7,
          415.85714285714283,
          536.4347826086956,
          521.8571428571429,
          428.24285714285713,
          288.87142857142857,
          62.710144927536234,
          1.2238805970149254,
          166.15714285714284,
          299.69565217391306,
          492.5285714285714,
          328.9,
          153.8840579710145,
          107.68571428571428,
          80.94202898550725,
          19.757142857142856,
          0.09230769230769231,
          166.4142857142857,
          311.6376811594203,
          444.9,
          504.62857142857143,
          480.62857142857143,
          380.4492753623188,
          188.27142857142857,
          64.21428571428571,
          0.4393939393939394,
          182.57142857142858,
          339.463768115942,
          458.62857142857143,
          513.9428571428572,
          498.7536231884058,
          424.3142857142857,
          278.65714285714284,
          68.21428571428571,
          1.4545454545454546,
          203.31428571428572,
          374.9714285714286,
          500.7391304347826,
          567.0142857142857,
          559.4857142857143,
          477.84057971014494,
          316.5,
          68.02857142857142,
          0.5303030303030303,
          107.48571428571428,
          162.17142857142858,
          299.8550724637681,
          362.51428571428573,
          282.4714285714286,
          193.42857142857142,
          33.2463768115942,
          25.97142857142857,
          0.9552238805970149,
          158.20289855072463,
          334.1857142857143,
          462.98571428571427,
          475.7142857142857,
          508.3333333333333,
          424.9714285714286,
          311.0571428571429,
          79.27536231884058,
          1.2835820895522387,
          191.94202898550725,
          360.3,
          480.3142857142857,
          543.4927536231884,
          536.2285714285714,
          455.7857142857143,
          314.40579710144925,
          79.17142857142858,
          1.0746268656716418,
          131.77142857142857,
          353.6811594202899,
          484.3285714285714,
          542.0857142857143,
          537.8571428571429,
          465,
          323
         ],
         "yaxis": "y"
        },
        {
         "line": {
          "color": "red"
         },
         "mode": "lines",
         "name": "기상청 일사량",
         "type": "scatter",
         "x": [
          "2018-12-17 15:00",
          "2018-12-17 16:00",
          "2018-12-17 17:00",
          "2018-12-18 09:00",
          "2018-12-18 10:00",
          "2018-12-18 11:00",
          "2018-12-18 12:00",
          "2018-12-18 13:00",
          "2018-12-18 14:00",
          "2018-12-18 15:00",
          "2018-12-18 16:00",
          "2018-12-18 17:00",
          "2018-12-19 09:00",
          "2018-12-19 10:00",
          "2018-12-19 11:00",
          "2018-12-19 12:00",
          "2018-12-19 13:00",
          "2018-12-19 14:00",
          "2018-12-19 15:00",
          "2018-12-19 16:00",
          "2018-12-19 17:00",
          "2018-12-20 09:00",
          "2018-12-20 10:00",
          "2018-12-20 11:00",
          "2018-12-20 12:00",
          "2018-12-20 13:00",
          "2018-12-20 14:00",
          "2018-12-20 15:00",
          "2018-12-20 16:00",
          "2018-12-20 17:00",
          "2018-12-21 09:00",
          "2018-12-21 10:00",
          "2018-12-21 11:00",
          "2018-12-21 12:00",
          "2018-12-21 13:00",
          "2018-12-21 14:00",
          "2018-12-21 15:00",
          "2018-12-21 16:00",
          "2018-12-21 17:00",
          "2018-12-22 09:00",
          "2018-12-22 10:00",
          "2018-12-22 11:00",
          "2018-12-22 12:00",
          "2018-12-22 13:00",
          "2018-12-22 14:00",
          "2018-12-22 15:00",
          "2018-12-22 16:00",
          "2018-12-22 17:00",
          "2018-12-23 09:00",
          "2018-12-23 10:00",
          "2018-12-23 11:00",
          "2018-12-23 12:00",
          "2018-12-23 13:00",
          "2018-12-23 14:00",
          "2018-12-23 15:00",
          "2018-12-23 16:00",
          "2018-12-23 17:00",
          "2018-12-24 09:00",
          "2018-12-24 10:00",
          "2018-12-24 11:00",
          "2018-12-24 12:00",
          "2018-12-24 13:00",
          "2018-12-24 14:00",
          "2018-12-24 15:00",
          "2018-12-24 16:00",
          "2018-12-24 17:00",
          "2018-12-25 09:00",
          "2018-12-25 10:00",
          "2018-12-25 11:00",
          "2018-12-25 12:00",
          "2018-12-25 13:00",
          "2018-12-25 14:00",
          "2018-12-25 15:00",
          "2018-12-25 16:00",
          "2018-12-25 17:00",
          "2018-12-26 09:00",
          "2018-12-26 10:00",
          "2018-12-26 11:00",
          "2018-12-26 12:00",
          "2018-12-26 13:00",
          "2018-12-26 14:00",
          "2018-12-26 15:00",
          "2018-12-26 16:00",
          "2018-12-26 17:00",
          "2018-12-27 09:00",
          "2018-12-27 10:00",
          "2018-12-27 11:00",
          "2018-12-27 12:00",
          "2018-12-27 13:00",
          "2018-12-27 14:00",
          "2018-12-27 15:00",
          "2018-12-27 16:00",
          "2018-12-27 17:00",
          "2018-12-28 09:00",
          "2018-12-28 10:00",
          "2018-12-28 11:00",
          "2018-12-28 12:00",
          "2018-12-28 13:00",
          "2018-12-28 14:00",
          "2018-12-28 15:00"
         ],
         "xaxis": "x",
         "y": [
          313.8888888888889,
          180.55555555555554,
          66.66666666666667,
          75,
          241.66666666666666,
          366.6666666666667,
          433.3333333333333,
          380.55555555555554,
          255.55555555555554,
          197.22222222222223,
          111.11111111111111,
          69.44444444444444,
          72.22222222222223,
          219.44444444444446,
          358.3333333333333,
          444.44444444444446,
          472.22222222222223,
          441.6666666666667,
          358.3333333333333,
          155.55555555555554,
          55.55555555555556,
          55.55555555555556,
          177.77777777777777,
          316.6666666666667,
          386.1111111111111,
          469.44444444444446,
          427.77777777777777,
          333.3333333333333,
          208.33333333333334,
          63.888888888888886,
          50,
          180.55555555555554,
          338.8888888888889,
          447.22222222222223,
          225,
          127.77777777777777,
          122.22222222222223,
          97.22222222222223,
          25,
          63.888888888888886,
          211.11111111111111,
          350,
          425,
          444.44444444444446,
          419.44444444444446,
          336.1111111111111,
          177.77777777777777,
          52.77777777777778,
          69.44444444444444,
          227.77777777777777,
          355.55555555555554,
          447.22222222222223,
          463.8888888888889,
          436.1111111111111,
          358.3333333333333,
          227.77777777777777,
          75,
          80.55555555555556,
          255.55555555555554,
          397.22222222222223,
          483.3333333333333,
          508.3333333333333,
          477.77777777777777,
          388.8888888888889,
          247.22222222222223,
          75,
          33.333333333333336,
          111.11111111111111,
          163.88888888888889,
          286.1111111111111,
          383.3333333333333,
          330.55555555555554,
          194.44444444444446,
          58.333333333333336,
          13.88888888888889,
          61.111111111111114,
          222.22222222222223,
          372.22222222222223,
          458.3333333333333,
          494.44444444444446,
          455.55555555555554,
          375,
          244.44444444444446,
          86.11111111111111,
          75,
          247.22222222222223,
          388.8888888888889,
          472.22222222222223,
          502.77777777777777,
          477.77777777777777,
          386.1111111111111,
          255.55555555555554,
          94.44444444444444,
          58.333333333333336,
          213.88888888888889,
          377.77777777777777,
          483.3333333333333,
          508.3333333333333,
          480.55555555555554,
          394.44444444444446
         ],
         "yaxis": "y"
        }
       ],
       "layout": {
        "height": 300,
        "template": {
         "data": {
          "bar": [
           {
            "error_x": {
             "color": "#2a3f5f"
            },
            "error_y": {
             "color": "#2a3f5f"
            },
            "marker": {
             "line": {
              "color": "#E5ECF6",
              "width": 0.5
             }
            },
            "type": "bar"
           }
          ],
          "barpolar": [
           {
            "marker": {
             "line": {
              "color": "#E5ECF6",
              "width": 0.5
             }
            },
            "type": "barpolar"
           }
          ],
          "carpet": [
           {
            "aaxis": {
             "endlinecolor": "#2a3f5f",
             "gridcolor": "white",
             "linecolor": "white",
             "minorgridcolor": "white",
             "startlinecolor": "#2a3f5f"
            },
            "baxis": {
             "endlinecolor": "#2a3f5f",
             "gridcolor": "white",
             "linecolor": "white",
             "minorgridcolor": "white",
             "startlinecolor": "#2a3f5f"
            },
            "type": "carpet"
           }
          ],
          "choropleth": [
           {
            "colorbar": {
             "outlinewidth": 0,
             "ticks": ""
            },
            "type": "choropleth"
           }
          ],
          "contour": [
           {
            "colorbar": {
             "outlinewidth": 0,
             "ticks": ""
            },
            "colorscale": [
             [
              0,
              "#0d0887"
             ],
             [
              0.1111111111111111,
              "#46039f"
             ],
             [
              0.2222222222222222,
              "#7201a8"
             ],
             [
              0.3333333333333333,
              "#9c179e"
             ],
             [
              0.4444444444444444,
              "#bd3786"
             ],
             [
              0.5555555555555556,
              "#d8576b"
             ],
             [
              0.6666666666666666,
              "#ed7953"
             ],
             [
              0.7777777777777778,
              "#fb9f3a"
             ],
             [
              0.8888888888888888,
              "#fdca26"
             ],
             [
              1,
              "#f0f921"
             ]
            ],
            "type": "contour"
           }
          ],
          "contourcarpet": [
           {
            "colorbar": {
             "outlinewidth": 0,
             "ticks": ""
            },
            "type": "contourcarpet"
           }
          ],
          "heatmap": [
           {
            "colorbar": {
             "outlinewidth": 0,
             "ticks": ""
            },
            "colorscale": [
             [
              0,
              "#0d0887"
             ],
             [
              0.1111111111111111,
              "#46039f"
             ],
             [
              0.2222222222222222,
              "#7201a8"
             ],
             [
              0.3333333333333333,
              "#9c179e"
             ],
             [
              0.4444444444444444,
              "#bd3786"
             ],
             [
              0.5555555555555556,
              "#d8576b"
             ],
             [
              0.6666666666666666,
              "#ed7953"
             ],
             [
              0.7777777777777778,
              "#fb9f3a"
             ],
             [
              0.8888888888888888,
              "#fdca26"
             ],
             [
              1,
              "#f0f921"
             ]
            ],
            "type": "heatmap"
           }
          ],
          "heatmapgl": [
           {
            "colorbar": {
             "outlinewidth": 0,
             "ticks": ""
            },
            "colorscale": [
             [
              0,
              "#0d0887"
             ],
             [
              0.1111111111111111,
              "#46039f"
             ],
             [
              0.2222222222222222,
              "#7201a8"
             ],
             [
              0.3333333333333333,
              "#9c179e"
             ],
             [
              0.4444444444444444,
              "#bd3786"
             ],
             [
              0.5555555555555556,
              "#d8576b"
             ],
             [
              0.6666666666666666,
              "#ed7953"
             ],
             [
              0.7777777777777778,
              "#fb9f3a"
             ],
             [
              0.8888888888888888,
              "#fdca26"
             ],
             [
              1,
              "#f0f921"
             ]
            ],
            "type": "heatmapgl"
           }
          ],
          "histogram": [
           {
            "marker": {
             "colorbar": {
              "outlinewidth": 0,
              "ticks": ""
             }
            },
            "type": "histogram"
           }
          ],
          "histogram2d": [
           {
            "colorbar": {
             "outlinewidth": 0,
             "ticks": ""
            },
            "colorscale": [
             [
              0,
              "#0d0887"
             ],
             [
              0.1111111111111111,
              "#46039f"
             ],
             [
              0.2222222222222222,
              "#7201a8"
             ],
             [
              0.3333333333333333,
              "#9c179e"
             ],
             [
              0.4444444444444444,
              "#bd3786"
             ],
             [
              0.5555555555555556,
              "#d8576b"
             ],
             [
              0.6666666666666666,
              "#ed7953"
             ],
             [
              0.7777777777777778,
              "#fb9f3a"
             ],
             [
              0.8888888888888888,
              "#fdca26"
             ],
             [
              1,
              "#f0f921"
             ]
            ],
            "type": "histogram2d"
           }
          ],
          "histogram2dcontour": [
           {
            "colorbar": {
             "outlinewidth": 0,
             "ticks": ""
            },
            "colorscale": [
             [
              0,
              "#0d0887"
             ],
             [
              0.1111111111111111,
              "#46039f"
             ],
             [
              0.2222222222222222,
              "#7201a8"
             ],
             [
              0.3333333333333333,
              "#9c179e"
             ],
             [
              0.4444444444444444,
              "#bd3786"
             ],
             [
              0.5555555555555556,
              "#d8576b"
             ],
             [
              0.6666666666666666,
              "#ed7953"
             ],
             [
              0.7777777777777778,
              "#fb9f3a"
             ],
             [
              0.8888888888888888,
              "#fdca26"
             ],
             [
              1,
              "#f0f921"
             ]
            ],
            "type": "histogram2dcontour"
           }
          ],
          "mesh3d": [
           {
            "colorbar": {
             "outlinewidth": 0,
             "ticks": ""
            },
            "type": "mesh3d"
           }
          ],
          "parcoords": [
           {
            "line": {
             "colorbar": {
              "outlinewidth": 0,
              "ticks": ""
             }
            },
            "type": "parcoords"
           }
          ],
          "pie": [
           {
            "automargin": true,
            "type": "pie"
           }
          ],
          "scatter": [
           {
            "marker": {
             "colorbar": {
              "outlinewidth": 0,
              "ticks": ""
             }
            },
            "type": "scatter"
           }
          ],
          "scatter3d": [
           {
            "line": {
             "colorbar": {
              "outlinewidth": 0,
              "ticks": ""
             }
            },
            "marker": {
             "colorbar": {
              "outlinewidth": 0,
              "ticks": ""
             }
            },
            "type": "scatter3d"
           }
          ],
          "scattercarpet": [
           {
            "marker": {
             "colorbar": {
              "outlinewidth": 0,
              "ticks": ""
             }
            },
            "type": "scattercarpet"
           }
          ],
          "scattergeo": [
           {
            "marker": {
             "colorbar": {
              "outlinewidth": 0,
              "ticks": ""
             }
            },
            "type": "scattergeo"
           }
          ],
          "scattergl": [
           {
            "marker": {
             "colorbar": {
              "outlinewidth": 0,
              "ticks": ""
             }
            },
            "type": "scattergl"
           }
          ],
          "scattermapbox": [
           {
            "marker": {
             "colorbar": {
              "outlinewidth": 0,
              "ticks": ""
             }
            },
            "type": "scattermapbox"
           }
          ],
          "scatterpolar": [
           {
            "marker": {
             "colorbar": {
              "outlinewidth": 0,
              "ticks": ""
             }
            },
            "type": "scatterpolar"
           }
          ],
          "scatterpolargl": [
           {
            "marker": {
             "colorbar": {
              "outlinewidth": 0,
              "ticks": ""
             }
            },
            "type": "scatterpolargl"
           }
          ],
          "scatterternary": [
           {
            "marker": {
             "colorbar": {
              "outlinewidth": 0,
              "ticks": ""
             }
            },
            "type": "scatterternary"
           }
          ],
          "surface": [
           {
            "colorbar": {
             "outlinewidth": 0,
             "ticks": ""
            },
            "colorscale": [
             [
              0,
              "#0d0887"
             ],
             [
              0.1111111111111111,
              "#46039f"
             ],
             [
              0.2222222222222222,
              "#7201a8"
             ],
             [
              0.3333333333333333,
              "#9c179e"
             ],
             [
              0.4444444444444444,
              "#bd3786"
             ],
             [
              0.5555555555555556,
              "#d8576b"
             ],
             [
              0.6666666666666666,
              "#ed7953"
             ],
             [
              0.7777777777777778,
              "#fb9f3a"
             ],
             [
              0.8888888888888888,
              "#fdca26"
             ],
             [
              1,
              "#f0f921"
             ]
            ],
            "type": "surface"
           }
          ],
          "table": [
           {
            "cells": {
             "fill": {
              "color": "#EBF0F8"
             },
             "line": {
              "color": "white"
             }
            },
            "header": {
             "fill": {
              "color": "#C8D4E3"
             },
             "line": {
              "color": "white"
             }
            },
            "type": "table"
           }
          ]
         },
         "layout": {
          "annotationdefaults": {
           "arrowcolor": "#2a3f5f",
           "arrowhead": 0,
           "arrowwidth": 1
          },
          "coloraxis": {
           "colorbar": {
            "outlinewidth": 0,
            "ticks": ""
           }
          },
          "colorscale": {
           "diverging": [
            [
             0,
             "#8e0152"
            ],
            [
             0.1,
             "#c51b7d"
            ],
            [
             0.2,
             "#de77ae"
            ],
            [
             0.3,
             "#f1b6da"
            ],
            [
             0.4,
             "#fde0ef"
            ],
            [
             0.5,
             "#f7f7f7"
            ],
            [
             0.6,
             "#e6f5d0"
            ],
            [
             0.7,
             "#b8e186"
            ],
            [
             0.8,
             "#7fbc41"
            ],
            [
             0.9,
             "#4d9221"
            ],
            [
             1,
             "#276419"
            ]
           ],
           "sequential": [
            [
             0,
             "#0d0887"
            ],
            [
             0.1111111111111111,
             "#46039f"
            ],
            [
             0.2222222222222222,
             "#7201a8"
            ],
            [
             0.3333333333333333,
             "#9c179e"
            ],
            [
             0.4444444444444444,
             "#bd3786"
            ],
            [
             0.5555555555555556,
             "#d8576b"
            ],
            [
             0.6666666666666666,
             "#ed7953"
            ],
            [
             0.7777777777777778,
             "#fb9f3a"
            ],
            [
             0.8888888888888888,
             "#fdca26"
            ],
            [
             1,
             "#f0f921"
            ]
           ],
           "sequentialminus": [
            [
             0,
             "#0d0887"
            ],
            [
             0.1111111111111111,
             "#46039f"
            ],
            [
             0.2222222222222222,
             "#7201a8"
            ],
            [
             0.3333333333333333,
             "#9c179e"
            ],
            [
             0.4444444444444444,
             "#bd3786"
            ],
            [
             0.5555555555555556,
             "#d8576b"
            ],
            [
             0.6666666666666666,
             "#ed7953"
            ],
            [
             0.7777777777777778,
             "#fb9f3a"
            ],
            [
             0.8888888888888888,
             "#fdca26"
            ],
            [
             1,
             "#f0f921"
            ]
           ]
          },
          "colorway": [
           "#636efa",
           "#EF553B",
           "#00cc96",
           "#ab63fa",
           "#FFA15A",
           "#19d3f3",
           "#FF6692",
           "#B6E880",
           "#FF97FF",
           "#FECB52"
          ],
          "font": {
           "color": "#2a3f5f"
          },
          "geo": {
           "bgcolor": "white",
           "lakecolor": "white",
           "landcolor": "#E5ECF6",
           "showlakes": true,
           "showland": true,
           "subunitcolor": "white"
          },
          "hoverlabel": {
           "align": "left"
          },
          "hovermode": "closest",
          "mapbox": {
           "style": "light"
          },
          "paper_bgcolor": "white",
          "plot_bgcolor": "#E5ECF6",
          "polar": {
           "angularaxis": {
            "gridcolor": "white",
            "linecolor": "white",
            "ticks": ""
           },
           "bgcolor": "#E5ECF6",
           "radialaxis": {
            "gridcolor": "white",
            "linecolor": "white",
            "ticks": ""
           }
          },
          "scene": {
           "xaxis": {
            "backgroundcolor": "#E5ECF6",
            "gridcolor": "white",
            "gridwidth": 2,
            "linecolor": "white",
            "showbackground": true,
            "ticks": "",
            "zerolinecolor": "white"
           },
           "yaxis": {
            "backgroundcolor": "#E5ECF6",
            "gridcolor": "white",
            "gridwidth": 2,
            "linecolor": "white",
            "showbackground": true,
            "ticks": "",
            "zerolinecolor": "white"
           },
           "zaxis": {
            "backgroundcolor": "#E5ECF6",
            "gridcolor": "white",
            "gridwidth": 2,
            "linecolor": "white",
            "showbackground": true,
            "ticks": "",
            "zerolinecolor": "white"
           }
          },
          "shapedefaults": {
           "line": {
            "color": "#2a3f5f"
           }
          },
          "ternary": {
           "aaxis": {
            "gridcolor": "white",
            "linecolor": "white",
            "ticks": ""
           },
           "baxis": {
            "gridcolor": "white",
            "linecolor": "white",
            "ticks": ""
           },
           "bgcolor": "#E5ECF6",
           "caxis": {
            "gridcolor": "white",
            "linecolor": "white",
            "ticks": ""
           }
          },
          "title": {
           "x": 0.05
          },
          "xaxis": {
           "automargin": true,
           "gridcolor": "white",
           "linecolor": "white",
           "ticks": "",
           "title": {
            "standoff": 15
           },
           "zerolinecolor": "white",
           "zerolinewidth": 2
          },
          "yaxis": {
           "automargin": true,
           "gridcolor": "white",
           "linecolor": "white",
           "ticks": "",
           "title": {
            "standoff": 15
           },
           "zerolinecolor": "white",
           "zerolinewidth": 2
          }
         }
        },
        "width": 800,
        "xaxis": {
         "anchor": "y",
         "domain": [
          0,
          0.94
         ]
        },
        "yaxis": {
         "anchor": "x",
         "domain": [
          0,
          1
         ]
        },
        "yaxis2": {
         "anchor": "x",
         "overlaying": "y",
         "side": "right"
        }
       }
      }
     },
     "metadata": {}
    }
   ],
   "source": [
    "print(ent_other_joinset.corr()[:1][\"match_solar\"])\n",
    "make_graph(\"env_slopesolar\", \"match_solar\", ent_other_joinset[500:600])"
   ]
  },
  {
   "source": [
    "    : 기업 일사량과 기상청 일사량 같은 단위로 변환\n",
    "    : 같은 시간 대 기업의 일사량과 기상청의 일사량이 평균적으로 차이가 있어서 상관관계는 0.85로 높게 나오지만 MAPE 또한 높게 나옴\n",
    "    => 기업 일사량과 기상청 일사량이 비슷한 range 안에 있지만 MAPE가 매우 높다. \n",
    "\n",
    "    MAPE가 높은 원인 \n",
    "\n",
    "    1) 센서의 민감도 : 기상청에서 사용한 센서와 기업에서 사용한 센서의 민감도 차이에 의한 일사량 차이 추측\n",
    "    / 일사량이 높을 때와 낮을 때 차이 비교\n",
    "    2) 경사각과 해의 위치 : 시간에 따른 해 위치에 따라 기업과 기상청에서 측정한 일사량 간 차이가 생길 것이라 추측\n",
    "    / 시간 별 일사량의 차이를 확인 비교\n",
    "    3) outlier\n",
    "\n",
    "\n",
    "\n",
    "    해결방안 \n",
    "    \n",
    "    1) 일사량을 하루단위로 묶어 계산.\n",
    "    2) 기상청 일사량을 각 발전소의 시간별 조정값을 두어 조정된 값을 사용한다. \n",
    "    3) outlier 제거\n",
    "    "
   ],
   "cell_type": "markdown",
   "metadata": {}
  },
  {
   "source": [
    "    => MAPE를 줄이기 위해 시간단위가 아닌 먼저 일 단위로 묶어서 계산"
   ],
   "cell_type": "markdown",
   "metadata": {}
  },
  {
   "cell_type": "code",
   "execution_count": 144,
   "metadata": {},
   "outputs": [
    {
     "output_type": "stream",
     "name": "stdout",
     "text": [
      "env_slopesolar ,  match_solar  MAPE :  8.996206896186404\n"
     ]
    },
    {
     "output_type": "display_data",
     "data": {
      "text/plain": "<Figure size 432x288 with 1 Axes>",
      "image/svg+xml": "<?xml version=\"1.0\" encoding=\"utf-8\" standalone=\"no\"?>\r\n<!DOCTYPE svg PUBLIC \"-//W3C//DTD SVG 1.1//EN\"\r\n  \"http://www.w3.org/Graphics/SVG/1.1/DTD/svg11.dtd\">\r\n<!-- Created with matplotlib (https://matplotlib.org/) -->\r\n<svg height=\"248.79625pt\" version=\"1.1\" viewBox=\"0 0 381.65 248.79625\" width=\"381.65pt\" xmlns=\"http://www.w3.org/2000/svg\" xmlns:xlink=\"http://www.w3.org/1999/xlink\">\r\n <defs>\r\n  <style type=\"text/css\">\r\n*{stroke-linecap:butt;stroke-linejoin:round;}\r\n  </style>\r\n </defs>\r\n <g id=\"figure_1\">\r\n  <g id=\"patch_1\">\r\n   <path d=\"M -0 248.79625 \r\nL 381.65 248.79625 \r\nL 381.65 0 \r\nL -0 0 \r\nz\r\n\" style=\"fill:none;\"/>\r\n  </g>\r\n  <g id=\"axes_1\">\r\n   <g id=\"patch_2\">\r\n    <path d=\"M 39.65 224.64 \r\nL 374.45 224.64 \r\nL 374.45 7.2 \r\nL 39.65 7.2 \r\nz\r\n\" style=\"fill:#ffffff;\"/>\r\n   </g>\r\n   <g id=\"patch_3\">\r\n    <path clip-path=\"url(#p99d8cba9a5)\" d=\"M 56.39 214.756364 \r\nL 190.31 214.756364 \r\nL 190.31 132.388311 \r\nL 56.39 132.388311 \r\nL 56.39 214.756364 \r\nz\r\n\" style=\"fill:#3274a1;stroke:#3f3f3f;stroke-linejoin:miter;stroke-width:1.5;\"/>\r\n   </g>\r\n   <g id=\"patch_4\">\r\n    <path clip-path=\"url(#p99d8cba9a5)\" d=\"M 223.79 214.756364 \r\nL 357.71 214.756364 \r\nL 357.71 133.989749 \r\nL 223.79 133.989749 \r\nL 223.79 214.756364 \r\nz\r\n\" style=\"fill:#e1812c;stroke:#3f3f3f;stroke-linejoin:miter;stroke-width:1.5;\"/>\r\n   </g>\r\n   <g id=\"matplotlib.axis_1\">\r\n    <g id=\"xtick_1\">\r\n     <g id=\"line2d_1\">\r\n      <defs>\r\n       <path d=\"M 0 0 \r\nL 0 3.5 \r\n\" id=\"m044ea6f710\" style=\"stroke:#000000;stroke-width:0.8;\"/>\r\n      </defs>\r\n      <g>\r\n       <use style=\"stroke:#000000;stroke-width:0.8;\" x=\"123.35\" xlink:href=\"#m044ea6f710\" y=\"224.64\"/>\r\n      </g>\r\n     </g>\r\n     <g id=\"text_1\">\r\n      <!-- env_slopesolar -->\r\n      <defs>\r\n       <path d=\"M 56.203125 29.59375 \r\nL 56.203125 25.203125 \r\nL 14.890625 25.203125 \r\nQ 15.484375 15.921875 20.484375 11.0625 \r\nQ 25.484375 6.203125 34.421875 6.203125 \r\nQ 39.59375 6.203125 44.453125 7.46875 \r\nQ 49.3125 8.734375 54.109375 11.28125 \r\nL 54.109375 2.78125 \r\nQ 49.265625 0.734375 44.1875 -0.34375 \r\nQ 39.109375 -1.421875 33.890625 -1.421875 \r\nQ 20.796875 -1.421875 13.15625 6.1875 \r\nQ 5.515625 13.8125 5.515625 26.8125 \r\nQ 5.515625 40.234375 12.765625 48.109375 \r\nQ 20.015625 56 32.328125 56 \r\nQ 43.359375 56 49.78125 48.890625 \r\nQ 56.203125 41.796875 56.203125 29.59375 \r\nz\r\nM 47.21875 32.234375 \r\nQ 47.125 39.59375 43.09375 43.984375 \r\nQ 39.0625 48.390625 32.421875 48.390625 \r\nQ 24.90625 48.390625 20.390625 44.140625 \r\nQ 15.875 39.890625 15.1875 32.171875 \r\nz\r\n\" id=\"DejaVuSans-101\"/>\r\n       <path d=\"M 54.890625 33.015625 \r\nL 54.890625 0 \r\nL 45.90625 0 \r\nL 45.90625 32.71875 \r\nQ 45.90625 40.484375 42.875 44.328125 \r\nQ 39.84375 48.1875 33.796875 48.1875 \r\nQ 26.515625 48.1875 22.3125 43.546875 \r\nQ 18.109375 38.921875 18.109375 30.90625 \r\nL 18.109375 0 \r\nL 9.078125 0 \r\nL 9.078125 54.6875 \r\nL 18.109375 54.6875 \r\nL 18.109375 46.1875 \r\nQ 21.34375 51.125 25.703125 53.5625 \r\nQ 30.078125 56 35.796875 56 \r\nQ 45.21875 56 50.046875 50.171875 \r\nQ 54.890625 44.34375 54.890625 33.015625 \r\nz\r\n\" id=\"DejaVuSans-110\"/>\r\n       <path d=\"M 2.984375 54.6875 \r\nL 12.5 54.6875 \r\nL 29.59375 8.796875 \r\nL 46.6875 54.6875 \r\nL 56.203125 54.6875 \r\nL 35.6875 0 \r\nL 23.484375 0 \r\nz\r\n\" id=\"DejaVuSans-118\"/>\r\n       <path d=\"M 50.984375 -16.609375 \r\nL 50.984375 -23.578125 \r\nL -0.984375 -23.578125 \r\nL -0.984375 -16.609375 \r\nz\r\n\" id=\"DejaVuSans-95\"/>\r\n       <path d=\"M 44.28125 53.078125 \r\nL 44.28125 44.578125 \r\nQ 40.484375 46.53125 36.375 47.5 \r\nQ 32.28125 48.484375 27.875 48.484375 \r\nQ 21.1875 48.484375 17.84375 46.4375 \r\nQ 14.5 44.390625 14.5 40.28125 \r\nQ 14.5 37.15625 16.890625 35.375 \r\nQ 19.28125 33.59375 26.515625 31.984375 \r\nL 29.59375 31.296875 \r\nQ 39.15625 29.25 43.1875 25.515625 \r\nQ 47.21875 21.78125 47.21875 15.09375 \r\nQ 47.21875 7.46875 41.1875 3.015625 \r\nQ 35.15625 -1.421875 24.609375 -1.421875 \r\nQ 20.21875 -1.421875 15.453125 -0.5625 \r\nQ 10.6875 0.296875 5.421875 2 \r\nL 5.421875 11.28125 \r\nQ 10.40625 8.6875 15.234375 7.390625 \r\nQ 20.0625 6.109375 24.8125 6.109375 \r\nQ 31.15625 6.109375 34.5625 8.28125 \r\nQ 37.984375 10.453125 37.984375 14.40625 \r\nQ 37.984375 18.0625 35.515625 20.015625 \r\nQ 33.0625 21.96875 24.703125 23.78125 \r\nL 21.578125 24.515625 \r\nQ 13.234375 26.265625 9.515625 29.90625 \r\nQ 5.8125 33.546875 5.8125 39.890625 \r\nQ 5.8125 47.609375 11.28125 51.796875 \r\nQ 16.75 56 26.8125 56 \r\nQ 31.78125 56 36.171875 55.265625 \r\nQ 40.578125 54.546875 44.28125 53.078125 \r\nz\r\n\" id=\"DejaVuSans-115\"/>\r\n       <path d=\"M 9.421875 75.984375 \r\nL 18.40625 75.984375 \r\nL 18.40625 0 \r\nL 9.421875 0 \r\nz\r\n\" id=\"DejaVuSans-108\"/>\r\n       <path d=\"M 30.609375 48.390625 \r\nQ 23.390625 48.390625 19.1875 42.75 \r\nQ 14.984375 37.109375 14.984375 27.296875 \r\nQ 14.984375 17.484375 19.15625 11.84375 \r\nQ 23.34375 6.203125 30.609375 6.203125 \r\nQ 37.796875 6.203125 41.984375 11.859375 \r\nQ 46.1875 17.53125 46.1875 27.296875 \r\nQ 46.1875 37.015625 41.984375 42.703125 \r\nQ 37.796875 48.390625 30.609375 48.390625 \r\nz\r\nM 30.609375 56 \r\nQ 42.328125 56 49.015625 48.375 \r\nQ 55.71875 40.765625 55.71875 27.296875 \r\nQ 55.71875 13.875 49.015625 6.21875 \r\nQ 42.328125 -1.421875 30.609375 -1.421875 \r\nQ 18.84375 -1.421875 12.171875 6.21875 \r\nQ 5.515625 13.875 5.515625 27.296875 \r\nQ 5.515625 40.765625 12.171875 48.375 \r\nQ 18.84375 56 30.609375 56 \r\nz\r\n\" id=\"DejaVuSans-111\"/>\r\n       <path d=\"M 18.109375 8.203125 \r\nL 18.109375 -20.796875 \r\nL 9.078125 -20.796875 \r\nL 9.078125 54.6875 \r\nL 18.109375 54.6875 \r\nL 18.109375 46.390625 \r\nQ 20.953125 51.265625 25.265625 53.625 \r\nQ 29.59375 56 35.59375 56 \r\nQ 45.5625 56 51.78125 48.09375 \r\nQ 58.015625 40.1875 58.015625 27.296875 \r\nQ 58.015625 14.40625 51.78125 6.484375 \r\nQ 45.5625 -1.421875 35.59375 -1.421875 \r\nQ 29.59375 -1.421875 25.265625 0.953125 \r\nQ 20.953125 3.328125 18.109375 8.203125 \r\nz\r\nM 48.6875 27.296875 \r\nQ 48.6875 37.203125 44.609375 42.84375 \r\nQ 40.53125 48.484375 33.40625 48.484375 \r\nQ 26.265625 48.484375 22.1875 42.84375 \r\nQ 18.109375 37.203125 18.109375 27.296875 \r\nQ 18.109375 17.390625 22.1875 11.75 \r\nQ 26.265625 6.109375 33.40625 6.109375 \r\nQ 40.53125 6.109375 44.609375 11.75 \r\nQ 48.6875 17.390625 48.6875 27.296875 \r\nz\r\n\" id=\"DejaVuSans-112\"/>\r\n       <path d=\"M 34.28125 27.484375 \r\nQ 23.390625 27.484375 19.1875 25 \r\nQ 14.984375 22.515625 14.984375 16.5 \r\nQ 14.984375 11.71875 18.140625 8.90625 \r\nQ 21.296875 6.109375 26.703125 6.109375 \r\nQ 34.1875 6.109375 38.703125 11.40625 \r\nQ 43.21875 16.703125 43.21875 25.484375 \r\nL 43.21875 27.484375 \r\nz\r\nM 52.203125 31.203125 \r\nL 52.203125 0 \r\nL 43.21875 0 \r\nL 43.21875 8.296875 \r\nQ 40.140625 3.328125 35.546875 0.953125 \r\nQ 30.953125 -1.421875 24.3125 -1.421875 \r\nQ 15.921875 -1.421875 10.953125 3.296875 \r\nQ 6 8.015625 6 15.921875 \r\nQ 6 25.140625 12.171875 29.828125 \r\nQ 18.359375 34.515625 30.609375 34.515625 \r\nL 43.21875 34.515625 \r\nL 43.21875 35.40625 \r\nQ 43.21875 41.609375 39.140625 45 \r\nQ 35.0625 48.390625 27.6875 48.390625 \r\nQ 23 48.390625 18.546875 47.265625 \r\nQ 14.109375 46.140625 10.015625 43.890625 \r\nL 10.015625 52.203125 \r\nQ 14.9375 54.109375 19.578125 55.046875 \r\nQ 24.21875 56 28.609375 56 \r\nQ 40.484375 56 46.34375 49.84375 \r\nQ 52.203125 43.703125 52.203125 31.203125 \r\nz\r\n\" id=\"DejaVuSans-97\"/>\r\n       <path d=\"M 41.109375 46.296875 \r\nQ 39.59375 47.171875 37.8125 47.578125 \r\nQ 36.03125 48 33.890625 48 \r\nQ 26.265625 48 22.1875 43.046875 \r\nQ 18.109375 38.09375 18.109375 28.8125 \r\nL 18.109375 0 \r\nL 9.078125 0 \r\nL 9.078125 54.6875 \r\nL 18.109375 54.6875 \r\nL 18.109375 46.1875 \r\nQ 20.953125 51.171875 25.484375 53.578125 \r\nQ 30.03125 56 36.53125 56 \r\nQ 37.453125 56 38.578125 55.875 \r\nQ 39.703125 55.765625 41.0625 55.515625 \r\nz\r\n\" id=\"DejaVuSans-114\"/>\r\n      </defs>\r\n      <g transform=\"translate(86.16875 239.238437)scale(0.1 -0.1)\">\r\n       <use xlink:href=\"#DejaVuSans-101\"/>\r\n       <use x=\"61.523438\" xlink:href=\"#DejaVuSans-110\"/>\r\n       <use x=\"124.902344\" xlink:href=\"#DejaVuSans-118\"/>\r\n       <use x=\"184.082031\" xlink:href=\"#DejaVuSans-95\"/>\r\n       <use x=\"234.082031\" xlink:href=\"#DejaVuSans-115\"/>\r\n       <use x=\"286.181641\" xlink:href=\"#DejaVuSans-108\"/>\r\n       <use x=\"313.964844\" xlink:href=\"#DejaVuSans-111\"/>\r\n       <use x=\"375.146484\" xlink:href=\"#DejaVuSans-112\"/>\r\n       <use x=\"438.623047\" xlink:href=\"#DejaVuSans-101\"/>\r\n       <use x=\"500.146484\" xlink:href=\"#DejaVuSans-115\"/>\r\n       <use x=\"552.246094\" xlink:href=\"#DejaVuSans-111\"/>\r\n       <use x=\"613.427734\" xlink:href=\"#DejaVuSans-108\"/>\r\n       <use x=\"641.210938\" xlink:href=\"#DejaVuSans-97\"/>\r\n       <use x=\"702.490234\" xlink:href=\"#DejaVuSans-114\"/>\r\n      </g>\r\n     </g>\r\n    </g>\r\n    <g id=\"xtick_2\">\r\n     <g id=\"line2d_2\">\r\n      <g>\r\n       <use style=\"stroke:#000000;stroke-width:0.8;\" x=\"290.75\" xlink:href=\"#m044ea6f710\" y=\"224.64\"/>\r\n      </g>\r\n     </g>\r\n     <g id=\"text_2\">\r\n      <!-- match_solar -->\r\n      <defs>\r\n       <path d=\"M 52 44.1875 \r\nQ 55.375 50.25 60.0625 53.125 \r\nQ 64.75 56 71.09375 56 \r\nQ 79.640625 56 84.28125 50.015625 \r\nQ 88.921875 44.046875 88.921875 33.015625 \r\nL 88.921875 0 \r\nL 79.890625 0 \r\nL 79.890625 32.71875 \r\nQ 79.890625 40.578125 77.09375 44.375 \r\nQ 74.3125 48.1875 68.609375 48.1875 \r\nQ 61.625 48.1875 57.5625 43.546875 \r\nQ 53.515625 38.921875 53.515625 30.90625 \r\nL 53.515625 0 \r\nL 44.484375 0 \r\nL 44.484375 32.71875 \r\nQ 44.484375 40.625 41.703125 44.40625 \r\nQ 38.921875 48.1875 33.109375 48.1875 \r\nQ 26.21875 48.1875 22.15625 43.53125 \r\nQ 18.109375 38.875 18.109375 30.90625 \r\nL 18.109375 0 \r\nL 9.078125 0 \r\nL 9.078125 54.6875 \r\nL 18.109375 54.6875 \r\nL 18.109375 46.1875 \r\nQ 21.1875 51.21875 25.484375 53.609375 \r\nQ 29.78125 56 35.6875 56 \r\nQ 41.65625 56 45.828125 52.96875 \r\nQ 50 49.953125 52 44.1875 \r\nz\r\n\" id=\"DejaVuSans-109\"/>\r\n       <path d=\"M 18.3125 70.21875 \r\nL 18.3125 54.6875 \r\nL 36.8125 54.6875 \r\nL 36.8125 47.703125 \r\nL 18.3125 47.703125 \r\nL 18.3125 18.015625 \r\nQ 18.3125 11.328125 20.140625 9.421875 \r\nQ 21.96875 7.515625 27.59375 7.515625 \r\nL 36.8125 7.515625 \r\nL 36.8125 0 \r\nL 27.59375 0 \r\nQ 17.1875 0 13.234375 3.875 \r\nQ 9.28125 7.765625 9.28125 18.015625 \r\nL 9.28125 47.703125 \r\nL 2.6875 47.703125 \r\nL 2.6875 54.6875 \r\nL 9.28125 54.6875 \r\nL 9.28125 70.21875 \r\nz\r\n\" id=\"DejaVuSans-116\"/>\r\n       <path d=\"M 48.78125 52.59375 \r\nL 48.78125 44.1875 \r\nQ 44.96875 46.296875 41.140625 47.34375 \r\nQ 37.3125 48.390625 33.40625 48.390625 \r\nQ 24.65625 48.390625 19.8125 42.84375 \r\nQ 14.984375 37.3125 14.984375 27.296875 \r\nQ 14.984375 17.28125 19.8125 11.734375 \r\nQ 24.65625 6.203125 33.40625 6.203125 \r\nQ 37.3125 6.203125 41.140625 7.25 \r\nQ 44.96875 8.296875 48.78125 10.40625 \r\nL 48.78125 2.09375 \r\nQ 45.015625 0.34375 40.984375 -0.53125 \r\nQ 36.96875 -1.421875 32.421875 -1.421875 \r\nQ 20.0625 -1.421875 12.78125 6.34375 \r\nQ 5.515625 14.109375 5.515625 27.296875 \r\nQ 5.515625 40.671875 12.859375 48.328125 \r\nQ 20.21875 56 33.015625 56 \r\nQ 37.15625 56 41.109375 55.140625 \r\nQ 45.0625 54.296875 48.78125 52.59375 \r\nz\r\n\" id=\"DejaVuSans-99\"/>\r\n       <path d=\"M 54.890625 33.015625 \r\nL 54.890625 0 \r\nL 45.90625 0 \r\nL 45.90625 32.71875 \r\nQ 45.90625 40.484375 42.875 44.328125 \r\nQ 39.84375 48.1875 33.796875 48.1875 \r\nQ 26.515625 48.1875 22.3125 43.546875 \r\nQ 18.109375 38.921875 18.109375 30.90625 \r\nL 18.109375 0 \r\nL 9.078125 0 \r\nL 9.078125 75.984375 \r\nL 18.109375 75.984375 \r\nL 18.109375 46.1875 \r\nQ 21.34375 51.125 25.703125 53.5625 \r\nQ 30.078125 56 35.796875 56 \r\nQ 45.21875 56 50.046875 50.171875 \r\nQ 54.890625 44.34375 54.890625 33.015625 \r\nz\r\n\" id=\"DejaVuSans-104\"/>\r\n      </defs>\r\n      <g transform=\"translate(260.264844 239.238437)scale(0.1 -0.1)\">\r\n       <use xlink:href=\"#DejaVuSans-109\"/>\r\n       <use x=\"97.412109\" xlink:href=\"#DejaVuSans-97\"/>\r\n       <use x=\"158.691406\" xlink:href=\"#DejaVuSans-116\"/>\r\n       <use x=\"197.900391\" xlink:href=\"#DejaVuSans-99\"/>\r\n       <use x=\"252.880859\" xlink:href=\"#DejaVuSans-104\"/>\r\n       <use x=\"316.259766\" xlink:href=\"#DejaVuSans-95\"/>\r\n       <use x=\"366.259766\" xlink:href=\"#DejaVuSans-115\"/>\r\n       <use x=\"418.359375\" xlink:href=\"#DejaVuSans-111\"/>\r\n       <use x=\"479.541016\" xlink:href=\"#DejaVuSans-108\"/>\r\n       <use x=\"507.324219\" xlink:href=\"#DejaVuSans-97\"/>\r\n       <use x=\"568.603516\" xlink:href=\"#DejaVuSans-114\"/>\r\n      </g>\r\n     </g>\r\n    </g>\r\n   </g>\r\n   <g id=\"matplotlib.axis_2\">\r\n    <g id=\"ytick_1\">\r\n     <g id=\"line2d_3\">\r\n      <defs>\r\n       <path d=\"M 0 0 \r\nL -3.5 0 \r\n\" id=\"m8c4e364b2d\" style=\"stroke:#000000;stroke-width:0.8;\"/>\r\n      </defs>\r\n      <g>\r\n       <use style=\"stroke:#000000;stroke-width:0.8;\" x=\"39.65\" xlink:href=\"#m8c4e364b2d\" y=\"214.756364\"/>\r\n      </g>\r\n     </g>\r\n     <g id=\"text_3\">\r\n      <!-- 0 -->\r\n      <defs>\r\n       <path d=\"M 31.78125 66.40625 \r\nQ 24.171875 66.40625 20.328125 58.90625 \r\nQ 16.5 51.421875 16.5 36.375 \r\nQ 16.5 21.390625 20.328125 13.890625 \r\nQ 24.171875 6.390625 31.78125 6.390625 \r\nQ 39.453125 6.390625 43.28125 13.890625 \r\nQ 47.125 21.390625 47.125 36.375 \r\nQ 47.125 51.421875 43.28125 58.90625 \r\nQ 39.453125 66.40625 31.78125 66.40625 \r\nz\r\nM 31.78125 74.21875 \r\nQ 44.046875 74.21875 50.515625 64.515625 \r\nQ 56.984375 54.828125 56.984375 36.375 \r\nQ 56.984375 17.96875 50.515625 8.265625 \r\nQ 44.046875 -1.421875 31.78125 -1.421875 \r\nQ 19.53125 -1.421875 13.0625 8.265625 \r\nQ 6.59375 17.96875 6.59375 36.375 \r\nQ 6.59375 54.828125 13.0625 64.515625 \r\nQ 19.53125 74.21875 31.78125 74.21875 \r\nz\r\n\" id=\"DejaVuSans-48\"/>\r\n      </defs>\r\n      <g transform=\"translate(26.2875 218.555582)scale(0.1 -0.1)\">\r\n       <use xlink:href=\"#DejaVuSans-48\"/>\r\n      </g>\r\n     </g>\r\n    </g>\r\n    <g id=\"ytick_2\">\r\n     <g id=\"line2d_4\">\r\n      <g>\r\n       <use style=\"stroke:#000000;stroke-width:0.8;\" x=\"39.65\" xlink:href=\"#m8c4e364b2d\" y=\"185.01872\"/>\r\n      </g>\r\n     </g>\r\n     <g id=\"text_4\">\r\n      <!-- 1000 -->\r\n      <defs>\r\n       <path d=\"M 12.40625 8.296875 \r\nL 28.515625 8.296875 \r\nL 28.515625 63.921875 \r\nL 10.984375 60.40625 \r\nL 10.984375 69.390625 \r\nL 28.421875 72.90625 \r\nL 38.28125 72.90625 \r\nL 38.28125 8.296875 \r\nL 54.390625 8.296875 \r\nL 54.390625 0 \r\nL 12.40625 0 \r\nz\r\n\" id=\"DejaVuSans-49\"/>\r\n      </defs>\r\n      <g transform=\"translate(7.2 188.817939)scale(0.1 -0.1)\">\r\n       <use xlink:href=\"#DejaVuSans-49\"/>\r\n       <use x=\"63.623047\" xlink:href=\"#DejaVuSans-48\"/>\r\n       <use x=\"127.246094\" xlink:href=\"#DejaVuSans-48\"/>\r\n       <use x=\"190.869141\" xlink:href=\"#DejaVuSans-48\"/>\r\n      </g>\r\n     </g>\r\n    </g>\r\n    <g id=\"ytick_3\">\r\n     <g id=\"line2d_5\">\r\n      <g>\r\n       <use style=\"stroke:#000000;stroke-width:0.8;\" x=\"39.65\" xlink:href=\"#m8c4e364b2d\" y=\"155.281076\"/>\r\n      </g>\r\n     </g>\r\n     <g id=\"text_5\">\r\n      <!-- 2000 -->\r\n      <defs>\r\n       <path d=\"M 19.1875 8.296875 \r\nL 53.609375 8.296875 \r\nL 53.609375 0 \r\nL 7.328125 0 \r\nL 7.328125 8.296875 \r\nQ 12.9375 14.109375 22.625 23.890625 \r\nQ 32.328125 33.6875 34.8125 36.53125 \r\nQ 39.546875 41.84375 41.421875 45.53125 \r\nQ 43.3125 49.21875 43.3125 52.78125 \r\nQ 43.3125 58.59375 39.234375 62.25 \r\nQ 35.15625 65.921875 28.609375 65.921875 \r\nQ 23.96875 65.921875 18.8125 64.3125 \r\nQ 13.671875 62.703125 7.8125 59.421875 \r\nL 7.8125 69.390625 \r\nQ 13.765625 71.78125 18.9375 73 \r\nQ 24.125 74.21875 28.421875 74.21875 \r\nQ 39.75 74.21875 46.484375 68.546875 \r\nQ 53.21875 62.890625 53.21875 53.421875 \r\nQ 53.21875 48.921875 51.53125 44.890625 \r\nQ 49.859375 40.875 45.40625 35.40625 \r\nQ 44.1875 33.984375 37.640625 27.21875 \r\nQ 31.109375 20.453125 19.1875 8.296875 \r\nz\r\n\" id=\"DejaVuSans-50\"/>\r\n      </defs>\r\n      <g transform=\"translate(7.2 159.080295)scale(0.1 -0.1)\">\r\n       <use xlink:href=\"#DejaVuSans-50\"/>\r\n       <use x=\"63.623047\" xlink:href=\"#DejaVuSans-48\"/>\r\n       <use x=\"127.246094\" xlink:href=\"#DejaVuSans-48\"/>\r\n       <use x=\"190.869141\" xlink:href=\"#DejaVuSans-48\"/>\r\n      </g>\r\n     </g>\r\n    </g>\r\n    <g id=\"ytick_4\">\r\n     <g id=\"line2d_6\">\r\n      <g>\r\n       <use style=\"stroke:#000000;stroke-width:0.8;\" x=\"39.65\" xlink:href=\"#m8c4e364b2d\" y=\"125.543432\"/>\r\n      </g>\r\n     </g>\r\n     <g id=\"text_6\">\r\n      <!-- 3000 -->\r\n      <defs>\r\n       <path d=\"M 40.578125 39.3125 \r\nQ 47.65625 37.796875 51.625 33 \r\nQ 55.609375 28.21875 55.609375 21.1875 \r\nQ 55.609375 10.40625 48.1875 4.484375 \r\nQ 40.765625 -1.421875 27.09375 -1.421875 \r\nQ 22.515625 -1.421875 17.65625 -0.515625 \r\nQ 12.796875 0.390625 7.625 2.203125 \r\nL 7.625 11.71875 \r\nQ 11.71875 9.328125 16.59375 8.109375 \r\nQ 21.484375 6.890625 26.8125 6.890625 \r\nQ 36.078125 6.890625 40.9375 10.546875 \r\nQ 45.796875 14.203125 45.796875 21.1875 \r\nQ 45.796875 27.640625 41.28125 31.265625 \r\nQ 36.765625 34.90625 28.71875 34.90625 \r\nL 20.21875 34.90625 \r\nL 20.21875 43.015625 \r\nL 29.109375 43.015625 \r\nQ 36.375 43.015625 40.234375 45.921875 \r\nQ 44.09375 48.828125 44.09375 54.296875 \r\nQ 44.09375 59.90625 40.109375 62.90625 \r\nQ 36.140625 65.921875 28.71875 65.921875 \r\nQ 24.65625 65.921875 20.015625 65.03125 \r\nQ 15.375 64.15625 9.8125 62.3125 \r\nL 9.8125 71.09375 \r\nQ 15.4375 72.65625 20.34375 73.4375 \r\nQ 25.25 74.21875 29.59375 74.21875 \r\nQ 40.828125 74.21875 47.359375 69.109375 \r\nQ 53.90625 64.015625 53.90625 55.328125 \r\nQ 53.90625 49.265625 50.4375 45.09375 \r\nQ 46.96875 40.921875 40.578125 39.3125 \r\nz\r\n\" id=\"DejaVuSans-51\"/>\r\n      </defs>\r\n      <g transform=\"translate(7.2 129.342651)scale(0.1 -0.1)\">\r\n       <use xlink:href=\"#DejaVuSans-51\"/>\r\n       <use x=\"63.623047\" xlink:href=\"#DejaVuSans-48\"/>\r\n       <use x=\"127.246094\" xlink:href=\"#DejaVuSans-48\"/>\r\n       <use x=\"190.869141\" xlink:href=\"#DejaVuSans-48\"/>\r\n      </g>\r\n     </g>\r\n    </g>\r\n    <g id=\"ytick_5\">\r\n     <g id=\"line2d_7\">\r\n      <g>\r\n       <use style=\"stroke:#000000;stroke-width:0.8;\" x=\"39.65\" xlink:href=\"#m8c4e364b2d\" y=\"95.805788\"/>\r\n      </g>\r\n     </g>\r\n     <g id=\"text_7\">\r\n      <!-- 4000 -->\r\n      <defs>\r\n       <path d=\"M 37.796875 64.3125 \r\nL 12.890625 25.390625 \r\nL 37.796875 25.390625 \r\nz\r\nM 35.203125 72.90625 \r\nL 47.609375 72.90625 \r\nL 47.609375 25.390625 \r\nL 58.015625 25.390625 \r\nL 58.015625 17.1875 \r\nL 47.609375 17.1875 \r\nL 47.609375 0 \r\nL 37.796875 0 \r\nL 37.796875 17.1875 \r\nL 4.890625 17.1875 \r\nL 4.890625 26.703125 \r\nz\r\n\" id=\"DejaVuSans-52\"/>\r\n      </defs>\r\n      <g transform=\"translate(7.2 99.605007)scale(0.1 -0.1)\">\r\n       <use xlink:href=\"#DejaVuSans-52\"/>\r\n       <use x=\"63.623047\" xlink:href=\"#DejaVuSans-48\"/>\r\n       <use x=\"127.246094\" xlink:href=\"#DejaVuSans-48\"/>\r\n       <use x=\"190.869141\" xlink:href=\"#DejaVuSans-48\"/>\r\n      </g>\r\n     </g>\r\n    </g>\r\n    <g id=\"ytick_6\">\r\n     <g id=\"line2d_8\">\r\n      <g>\r\n       <use style=\"stroke:#000000;stroke-width:0.8;\" x=\"39.65\" xlink:href=\"#m8c4e364b2d\" y=\"66.068144\"/>\r\n      </g>\r\n     </g>\r\n     <g id=\"text_8\">\r\n      <!-- 5000 -->\r\n      <defs>\r\n       <path d=\"M 10.796875 72.90625 \r\nL 49.515625 72.90625 \r\nL 49.515625 64.59375 \r\nL 19.828125 64.59375 \r\nL 19.828125 46.734375 \r\nQ 21.96875 47.46875 24.109375 47.828125 \r\nQ 26.265625 48.1875 28.421875 48.1875 \r\nQ 40.625 48.1875 47.75 41.5 \r\nQ 54.890625 34.8125 54.890625 23.390625 \r\nQ 54.890625 11.625 47.5625 5.09375 \r\nQ 40.234375 -1.421875 26.90625 -1.421875 \r\nQ 22.3125 -1.421875 17.546875 -0.640625 \r\nQ 12.796875 0.140625 7.71875 1.703125 \r\nL 7.71875 11.625 \r\nQ 12.109375 9.234375 16.796875 8.0625 \r\nQ 21.484375 6.890625 26.703125 6.890625 \r\nQ 35.15625 6.890625 40.078125 11.328125 \r\nQ 45.015625 15.765625 45.015625 23.390625 \r\nQ 45.015625 31 40.078125 35.4375 \r\nQ 35.15625 39.890625 26.703125 39.890625 \r\nQ 22.75 39.890625 18.8125 39.015625 \r\nQ 14.890625 38.140625 10.796875 36.28125 \r\nz\r\n\" id=\"DejaVuSans-53\"/>\r\n      </defs>\r\n      <g transform=\"translate(7.2 69.867363)scale(0.1 -0.1)\">\r\n       <use xlink:href=\"#DejaVuSans-53\"/>\r\n       <use x=\"63.623047\" xlink:href=\"#DejaVuSans-48\"/>\r\n       <use x=\"127.246094\" xlink:href=\"#DejaVuSans-48\"/>\r\n       <use x=\"190.869141\" xlink:href=\"#DejaVuSans-48\"/>\r\n      </g>\r\n     </g>\r\n    </g>\r\n    <g id=\"ytick_7\">\r\n     <g id=\"line2d_9\">\r\n      <g>\r\n       <use style=\"stroke:#000000;stroke-width:0.8;\" x=\"39.65\" xlink:href=\"#m8c4e364b2d\" y=\"36.3305\"/>\r\n      </g>\r\n     </g>\r\n     <g id=\"text_9\">\r\n      <!-- 6000 -->\r\n      <defs>\r\n       <path d=\"M 33.015625 40.375 \r\nQ 26.375 40.375 22.484375 35.828125 \r\nQ 18.609375 31.296875 18.609375 23.390625 \r\nQ 18.609375 15.53125 22.484375 10.953125 \r\nQ 26.375 6.390625 33.015625 6.390625 \r\nQ 39.65625 6.390625 43.53125 10.953125 \r\nQ 47.40625 15.53125 47.40625 23.390625 \r\nQ 47.40625 31.296875 43.53125 35.828125 \r\nQ 39.65625 40.375 33.015625 40.375 \r\nz\r\nM 52.59375 71.296875 \r\nL 52.59375 62.3125 \r\nQ 48.875 64.0625 45.09375 64.984375 \r\nQ 41.3125 65.921875 37.59375 65.921875 \r\nQ 27.828125 65.921875 22.671875 59.328125 \r\nQ 17.53125 52.734375 16.796875 39.40625 \r\nQ 19.671875 43.65625 24.015625 45.921875 \r\nQ 28.375 48.1875 33.59375 48.1875 \r\nQ 44.578125 48.1875 50.953125 41.515625 \r\nQ 57.328125 34.859375 57.328125 23.390625 \r\nQ 57.328125 12.15625 50.6875 5.359375 \r\nQ 44.046875 -1.421875 33.015625 -1.421875 \r\nQ 20.359375 -1.421875 13.671875 8.265625 \r\nQ 6.984375 17.96875 6.984375 36.375 \r\nQ 6.984375 53.65625 15.1875 63.9375 \r\nQ 23.390625 74.21875 37.203125 74.21875 \r\nQ 40.921875 74.21875 44.703125 73.484375 \r\nQ 48.484375 72.75 52.59375 71.296875 \r\nz\r\n\" id=\"DejaVuSans-54\"/>\r\n      </defs>\r\n      <g transform=\"translate(7.2 40.129719)scale(0.1 -0.1)\">\r\n       <use xlink:href=\"#DejaVuSans-54\"/>\r\n       <use x=\"63.623047\" xlink:href=\"#DejaVuSans-48\"/>\r\n       <use x=\"127.246094\" xlink:href=\"#DejaVuSans-48\"/>\r\n       <use x=\"190.869141\" xlink:href=\"#DejaVuSans-48\"/>\r\n      </g>\r\n     </g>\r\n    </g>\r\n   </g>\r\n   <g id=\"line2d_10\">\r\n    <path clip-path=\"url(#p99d8cba9a5)\" d=\"M 123.35 214.756364 \r\nL 123.35 214.756364 \r\n\" style=\"fill:none;stroke:#3f3f3f;stroke-linecap:square;stroke-width:1.5;\"/>\r\n   </g>\r\n   <g id=\"line2d_11\">\r\n    <path clip-path=\"url(#p99d8cba9a5)\" d=\"M 123.35 132.388311 \r\nL 123.35 21.594543 \r\n\" style=\"fill:none;stroke:#3f3f3f;stroke-linecap:square;stroke-width:1.5;\"/>\r\n   </g>\r\n   <g id=\"line2d_12\">\r\n    <path clip-path=\"url(#p99d8cba9a5)\" d=\"M 89.87 214.756364 \r\nL 156.83 214.756364 \r\n\" style=\"fill:none;stroke:#3f3f3f;stroke-linecap:square;stroke-width:1.5;\"/>\r\n   </g>\r\n   <g id=\"line2d_13\">\r\n    <path clip-path=\"url(#p99d8cba9a5)\" d=\"M 89.87 21.594543 \r\nL 156.83 21.594543 \r\n\" style=\"fill:none;stroke:#3f3f3f;stroke-linecap:square;stroke-width:1.5;\"/>\r\n   </g>\r\n   <g id=\"line2d_14\"/>\r\n   <g id=\"line2d_15\">\r\n    <path clip-path=\"url(#p99d8cba9a5)\" d=\"M 290.75 214.756364 \r\nL 290.75 214.756364 \r\n\" style=\"fill:none;stroke:#3f3f3f;stroke-linecap:square;stroke-width:1.5;\"/>\r\n   </g>\r\n   <g id=\"line2d_16\">\r\n    <path clip-path=\"url(#p99d8cba9a5)\" d=\"M 290.75 133.989749 \r\nL 290.75 17.083636 \r\n\" style=\"fill:none;stroke:#3f3f3f;stroke-linecap:square;stroke-width:1.5;\"/>\r\n   </g>\r\n   <g id=\"line2d_17\">\r\n    <path clip-path=\"url(#p99d8cba9a5)\" d=\"M 257.27 214.756364 \r\nL 324.23 214.756364 \r\n\" style=\"fill:none;stroke:#3f3f3f;stroke-linecap:square;stroke-width:1.5;\"/>\r\n   </g>\r\n   <g id=\"line2d_18\">\r\n    <path clip-path=\"url(#p99d8cba9a5)\" d=\"M 257.27 17.083636 \r\nL 324.23 17.083636 \r\n\" style=\"fill:none;stroke:#3f3f3f;stroke-linecap:square;stroke-width:1.5;\"/>\r\n   </g>\r\n   <g id=\"line2d_19\"/>\r\n   <g id=\"line2d_20\">\r\n    <path clip-path=\"url(#p99d8cba9a5)\" d=\"M 56.39 176.754556 \r\nL 190.31 176.754556 \r\n\" style=\"fill:none;stroke:#3f3f3f;stroke-linecap:square;stroke-width:1.5;\"/>\r\n   </g>\r\n   <g id=\"line2d_21\">\r\n    <path clip-path=\"url(#p99d8cba9a5)\" d=\"M 223.79 173.412778 \r\nL 357.71 173.412778 \r\n\" style=\"fill:none;stroke:#3f3f3f;stroke-linecap:square;stroke-width:1.5;\"/>\r\n   </g>\r\n   <g id=\"patch_5\">\r\n    <path d=\"M 39.65 224.64 \r\nL 39.65 7.2 \r\n\" style=\"fill:none;stroke:#000000;stroke-linecap:square;stroke-linejoin:miter;stroke-width:0.8;\"/>\r\n   </g>\r\n   <g id=\"patch_6\">\r\n    <path d=\"M 374.45 224.64 \r\nL 374.45 7.2 \r\n\" style=\"fill:none;stroke:#000000;stroke-linecap:square;stroke-linejoin:miter;stroke-width:0.8;\"/>\r\n   </g>\r\n   <g id=\"patch_7\">\r\n    <path d=\"M 39.65 224.64 \r\nL 374.45 224.64 \r\n\" style=\"fill:none;stroke:#000000;stroke-linecap:square;stroke-linejoin:miter;stroke-width:0.8;\"/>\r\n   </g>\r\n   <g id=\"patch_8\">\r\n    <path d=\"M 39.65 7.2 \r\nL 374.45 7.2 \r\n\" style=\"fill:none;stroke:#000000;stroke-linecap:square;stroke-linejoin:miter;stroke-width:0.8;\"/>\r\n   </g>\r\n  </g>\r\n </g>\r\n <defs>\r\n  <clipPath id=\"p99d8cba9a5\">\r\n   <rect height=\"217.44\" width=\"334.8\" x=\"39.65\" y=\"7.2\"/>\r\n  </clipPath>\r\n </defs>\r\n</svg>\r\n",
      "image/png": "[encoded data removed]"
     },
     "metadata": {
      "needs_background": "light"
     }
    }
   ],
   "source": [
    "# to_day_need = ent_other_joinset[[\"env_slopesolar\", \"match_solar\", \"watt\"]].resample('D').sum()\n",
    "# to_day_sum = to_day_need.resample('D').sum()\n",
    "date_list = pd.to_datetime(ent_other_joinset.index)\n",
    "to_day_need = ent_other_joinset[[\"env_slopesolar\", \"match_solar\",\"env_levelsolar\", \"watt\"]]\n",
    "to_day_need.index = date_list\n",
    "to_day_need = diff_12(to_day_need) # outlier 제거\n",
    "to_day_need = to_day_need.resample('D').sum()\n",
    "\n",
    "sns.boxplot(data = to_day_need[[\"env_slopesolar\", \"match_solar\"]])\n",
    "mean_absolute_percentage_error(\"env_slopesolar\", \"match_solar\", to_day_need)\n",
    "\n"
   ]
  },
  {
   "cell_type": "code",
   "execution_count": 164,
   "metadata": {},
   "outputs": [
    {
     "output_type": "stream",
     "name": "stdout",
     "text": [
      "env_slopesolar    0.995936\nName: match_solar, dtype: float64\n"
     ]
    },
    {
     "output_type": "display_data",
     "data": {
      "application/vnd.plotly.v1+json": {
       "config": {
        "plotlyServerURL": "https://plot.ly"
       },
       "data": [
        {
         "line": {
          "color": "blue"
         },
         "mode": "lines",
         "name": "기업 일사량",
         "type": "scatter",
         "x": [
          "2018-10-22T00:00:00",
          "2018-10-23T00:00:00",
          "2018-10-24T00:00:00",
          "2018-10-25T00:00:00",
          "2018-10-26T00:00:00",
          "2018-10-27T00:00:00",
          "2018-10-28T00:00:00",
          "2018-10-29T00:00:00",
          "2018-10-30T00:00:00",
          "2018-10-31T00:00:00",
          "2018-11-01T00:00:00",
          "2018-11-02T00:00:00",
          "2018-11-03T00:00:00",
          "2018-11-04T00:00:00",
          "2018-11-05T00:00:00",
          "2018-11-06T00:00:00",
          "2018-11-07T00:00:00",
          "2018-11-08T00:00:00",
          "2018-11-09T00:00:00",
          "2018-11-10T00:00:00",
          "2018-11-11T00:00:00",
          "2018-11-12T00:00:00",
          "2018-11-13T00:00:00",
          "2018-11-14T00:00:00",
          "2018-11-15T00:00:00",
          "2018-11-16T00:00:00",
          "2018-11-17T00:00:00",
          "2018-11-18T00:00:00",
          "2018-11-19T00:00:00",
          "2018-11-20T00:00:00",
          "2018-11-21T00:00:00",
          "2018-11-22T00:00:00",
          "2018-11-23T00:00:00",
          "2018-11-24T00:00:00",
          "2018-11-25T00:00:00",
          "2018-11-26T00:00:00",
          "2018-11-27T00:00:00",
          "2018-11-28T00:00:00",
          "2018-11-29T00:00:00",
          "2018-11-30T00:00:00",
          "2018-12-01T00:00:00",
          "2018-12-02T00:00:00",
          "2018-12-03T00:00:00",
          "2018-12-04T00:00:00",
          "2018-12-05T00:00:00",
          "2018-12-06T00:00:00",
          "2018-12-07T00:00:00",
          "2018-12-08T00:00:00",
          "2018-12-09T00:00:00",
          "2018-12-10T00:00:00",
          "2018-12-11T00:00:00",
          "2018-12-12T00:00:00",
          "2018-12-13T00:00:00",
          "2018-12-14T00:00:00",
          "2018-12-15T00:00:00",
          "2018-12-16T00:00:00",
          "2018-12-17T00:00:00",
          "2018-12-18T00:00:00",
          "2018-12-19T00:00:00",
          "2018-12-20T00:00:00",
          "2018-12-21T00:00:00",
          "2018-12-22T00:00:00",
          "2018-12-23T00:00:00",
          "2018-12-24T00:00:00",
          "2018-12-25T00:00:00",
          "2018-12-26T00:00:00",
          "2018-12-27T00:00:00",
          "2018-12-28T00:00:00",
          "2018-12-29T00:00:00",
          "2018-12-30T00:00:00",
          "2018-12-31T00:00:00",
          "2019-01-01T00:00:00",
          "2019-01-02T00:00:00",
          "2019-01-03T00:00:00",
          "2019-01-04T00:00:00",
          "2019-01-05T00:00:00",
          "2019-01-06T00:00:00",
          "2019-01-07T00:00:00",
          "2019-01-08T00:00:00",
          "2019-01-09T00:00:00",
          "2019-01-10T00:00:00",
          "2019-01-11T00:00:00",
          "2019-01-12T00:00:00",
          "2019-01-13T00:00:00",
          "2019-01-14T00:00:00",
          "2019-01-15T00:00:00",
          "2019-01-16T00:00:00"
         ],
         "xaxis": "x",
         "y": [
          1241.4066252587993,
          1675.5422360248447,
          342.0364086249558,
          2373.428985507246,
          418.0664596273292,
          1205.8718304713188,
          651.2906588722446,
          1317.5893009377667,
          2445.2568688344904,
          2412.1805383022775,
          2385.37338326635,
          2350.4839483619535,
          2353.279545731336,
          2288.84283887468,
          2580.9399159663863,
          1379.5590427475338,
          1256.0694378085682,
          224.982626963829,
          1652.6552177003184,
          3051.6323599394336,
          833.4006399397703,
          2154.6626902935086,
          2018.6847427934383,
          2532.853123858239,
          2428.481949934124,
          1571.0713807931202,
          1497.179586539353,
          1381.2608130999436,
          1966.70248447205,
          2207.546188594015,
          777.588883580188,
          2862.3761716544323,
          2139.641949354993,
          808.2458039403053,
          1825.2401656314698,
          2537.9712027103333,
          1060.1306418219463,
          2339.925672877847,
          845.5405797101448,
          3073.7027965761254,
          2380.392433653303,
          1180.8408385093167,
          137.14105468274266,
          931.9835005574138,
          962.1389233954451,
          1980.3175890732673,
          2869.2827838827834,
          2823.8426501035196,
          2932.01132345915,
          2081.26055104316,
          936.5290098648154,
          3048.309410878976,
          1099.6609127267484,
          2997.161754187842,
          2575.1813852813857,
          628.8316958403915,
          2660.2158146201627,
          2354.8304912478825,
          2650.047464540651,
          2171.2452056487746,
          1157.1140468227425,
          2541.583493318276,
          2766.0005081874647,
          3000.3957274609447,
          1468.0995302988165,
          2756.009462006736,
          2883.543778004388,
          2486.3264392324095,
          3012.1135893092414,
          3046.8644664874387,
          2575.5761716544325,
          1689.6908338038772,
          2928.553077357425,
          2983.24211550941,
          1295.503482025221,
          2682.203037606996,
          1933.5676153394518,
          2426.656197274497,
          2864.2186057291187,
          2359.90769699184,
          1301.1091473743647,
          2408.976604554865,
          1524.860881925775,
          2788.795700889051,
          1625.881193411823,
          1749.0118134210204,
          1365.5953761214632
         ],
         "yaxis": "y"
        },
        {
         "line": {
          "color": "red"
         },
         "mode": "lines",
         "name": "기상청 일사량",
         "type": "scatter",
         "x": [
          "2018-10-22T00:00:00",
          "2018-10-23T00:00:00",
          "2018-10-24T00:00:00",
          "2018-10-25T00:00:00",
          "2018-10-26T00:00:00",
          "2018-10-27T00:00:00",
          "2018-10-28T00:00:00",
          "2018-10-29T00:00:00",
          "2018-10-30T00:00:00",
          "2018-10-31T00:00:00",
          "2018-11-01T00:00:00",
          "2018-11-02T00:00:00",
          "2018-11-03T00:00:00",
          "2018-11-04T00:00:00",
          "2018-11-05T00:00:00",
          "2018-11-06T00:00:00",
          "2018-11-07T00:00:00",
          "2018-11-08T00:00:00",
          "2018-11-09T00:00:00",
          "2018-11-10T00:00:00",
          "2018-11-11T00:00:00",
          "2018-11-12T00:00:00",
          "2018-11-13T00:00:00",
          "2018-11-14T00:00:00",
          "2018-11-15T00:00:00",
          "2018-11-16T00:00:00",
          "2018-11-17T00:00:00",
          "2018-11-18T00:00:00",
          "2018-11-19T00:00:00",
          "2018-11-20T00:00:00",
          "2018-11-21T00:00:00",
          "2018-11-22T00:00:00",
          "2018-11-23T00:00:00",
          "2018-11-24T00:00:00",
          "2018-11-25T00:00:00",
          "2018-11-26T00:00:00",
          "2018-11-27T00:00:00",
          "2018-11-28T00:00:00",
          "2018-11-29T00:00:00",
          "2018-11-30T00:00:00",
          "2018-12-01T00:00:00",
          "2018-12-02T00:00:00",
          "2018-12-03T00:00:00",
          "2018-12-04T00:00:00",
          "2018-12-05T00:00:00",
          "2018-12-06T00:00:00",
          "2018-12-07T00:00:00",
          "2018-12-08T00:00:00",
          "2018-12-09T00:00:00",
          "2018-12-10T00:00:00",
          "2018-12-11T00:00:00",
          "2018-12-12T00:00:00",
          "2018-12-13T00:00:00",
          "2018-12-14T00:00:00",
          "2018-12-15T00:00:00",
          "2018-12-16T00:00:00",
          "2018-12-17T00:00:00",
          "2018-12-18T00:00:00",
          "2018-12-19T00:00:00",
          "2018-12-20T00:00:00",
          "2018-12-21T00:00:00",
          "2018-12-22T00:00:00",
          "2018-12-23T00:00:00",
          "2018-12-24T00:00:00",
          "2018-12-25T00:00:00",
          "2018-12-26T00:00:00",
          "2018-12-27T00:00:00",
          "2018-12-28T00:00:00",
          "2018-12-29T00:00:00",
          "2018-12-30T00:00:00",
          "2018-12-31T00:00:00",
          "2019-01-01T00:00:00",
          "2019-01-02T00:00:00",
          "2019-01-03T00:00:00",
          "2019-01-04T00:00:00",
          "2019-01-05T00:00:00",
          "2019-01-06T00:00:00",
          "2019-01-07T00:00:00",
          "2019-01-08T00:00:00",
          "2019-01-09T00:00:00",
          "2019-01-10T00:00:00",
          "2019-01-11T00:00:00",
          "2019-01-12T00:00:00",
          "2019-01-13T00:00:00",
          "2019-01-14T00:00:00",
          "2019-01-15T00:00:00",
          "2019-01-16T00:00:00"
         ],
         "xaxis": "x",
         "y": [
          1655.5555555555554,
          2022.2222222222224,
          638.8888888888889,
          2466.6666666666665,
          630.5555555555555,
          1472.2222222222222,
          838.8888888888889,
          1233.3333333333333,
          2452.777777777778,
          2447.222222222222,
          2394.4444444444443,
          2294.4444444444443,
          2316.6666666666665,
          2294.4444444444443,
          2699.9999999999995,
          1511.111111111111,
          1122.2222222222224,
          358.3333333333333,
          2172.2222222222217,
          2811.1111111111113,
          1002.7777777777778,
          2097.222222222222,
          2052.777777777778,
          2480.5555555555557,
          2408.333333333333,
          1680.5555555555554,
          1505.5555555555554,
          1561.1111111111113,
          1877.7777777777776,
          2086.111111111111,
          811.1111111111111,
          2663.888888888889,
          2233.3333333333335,
          938.8888888888889,
          2069.4444444444443,
          2525.0000000000005,
          1277.7777777777778,
          2411.111111111111,
          772.2222222222224,
          2833.333333333333,
          2441.666666666667,
          1405.5555555555554,
          180.5555555555556,
          925.0000000000001,
          813.8888888888888,
          2011.111111111111,
          2677.777777777778,
          2638.8888888888887,
          2583.3333333333335,
          2116.6666666666665,
          997.2222222222222,
          2658.3333333333335,
          1308.3333333333335,
          2647.222222222222,
          2450,
          841.6666666666667,
          2477.777777777778,
          2130.5555555555557,
          2577.777777777778,
          2052.7777777777774,
          1275,
          2480.5555555555557,
          2661.1111111111113,
          2666.666666666666,
          1575,
          2769.444444444445,
          2644.4444444444443,
          2399.9999999999995,
          2933.333333333333,
          2911.111111111111,
          2538.8888888888887,
          1933.3333333333333,
          2647.222222222222,
          2852.777777777778,
          1502.777777777778,
          2513.8888888888887,
          1966.6666666666667,
          2416.666666666667,
          2633.3333333333335,
          2347.222222222222,
          1502.7777777777776,
          2363.8888888888887,
          1558.3333333333335,
          2758.3333333333335,
          1669.4444444444446,
          1916.6666666666667,
          1133.3333333333335
         ],
         "yaxis": "y"
        }
       ],
       "layout": {
        "height": 300,
        "template": {
         "data": {
          "bar": [
           {
            "error_x": {
             "color": "#2a3f5f"
            },
            "error_y": {
             "color": "#2a3f5f"
            },
            "marker": {
             "line": {
              "color": "#E5ECF6",
              "width": 0.5
             }
            },
            "type": "bar"
           }
          ],
          "barpolar": [
           {
            "marker": {
             "line": {
              "color": "#E5ECF6",
              "width": 0.5
             }
            },
            "type": "barpolar"
           }
          ],
          "carpet": [
           {
            "aaxis": {
             "endlinecolor": "#2a3f5f",
             "gridcolor": "white",
             "linecolor": "white",
             "minorgridcolor": "white",
             "startlinecolor": "#2a3f5f"
            },
            "baxis": {
             "endlinecolor": "#2a3f5f",
             "gridcolor": "white",
             "linecolor": "white",
             "minorgridcolor": "white",
             "startlinecolor": "#2a3f5f"
            },
            "type": "carpet"
           }
          ],
          "choropleth": [
           {
            "colorbar": {
             "outlinewidth": 0,
             "ticks": ""
            },
            "type": "choropleth"
           }
          ],
          "contour": [
           {
            "colorbar": {
             "outlinewidth": 0,
             "ticks": ""
            },
            "colorscale": [
             [
              0,
              "#0d0887"
             ],
             [
              0.1111111111111111,
              "#46039f"
             ],
             [
              0.2222222222222222,
              "#7201a8"
             ],
             [
              0.3333333333333333,
              "#9c179e"
             ],
             [
              0.4444444444444444,
              "#bd3786"
             ],
             [
              0.5555555555555556,
              "#d8576b"
             ],
             [
              0.6666666666666666,
              "#ed7953"
             ],
             [
              0.7777777777777778,
              "#fb9f3a"
             ],
             [
              0.8888888888888888,
              "#fdca26"
             ],
             [
              1,
              "#f0f921"
             ]
            ],
            "type": "contour"
           }
          ],
          "contourcarpet": [
           {
            "colorbar": {
             "outlinewidth": 0,
             "ticks": ""
            },
            "type": "contourcarpet"
           }
          ],
          "heatmap": [
           {
            "colorbar": {
             "outlinewidth": 0,
             "ticks": ""
            },
            "colorscale": [
             [
              0,
              "#0d0887"
             ],
             [
              0.1111111111111111,
              "#46039f"
             ],
             [
              0.2222222222222222,
              "#7201a8"
             ],
             [
              0.3333333333333333,
              "#9c179e"
             ],
             [
              0.4444444444444444,
              "#bd3786"
             ],
             [
              0.5555555555555556,
              "#d8576b"
             ],
             [
              0.6666666666666666,
              "#ed7953"
             ],
             [
              0.7777777777777778,
              "#fb9f3a"
             ],
             [
              0.8888888888888888,
              "#fdca26"
             ],
             [
              1,
              "#f0f921"
             ]
            ],
            "type": "heatmap"
           }
          ],
          "heatmapgl": [
           {
            "colorbar": {
             "outlinewidth": 0,
             "ticks": ""
            },
            "colorscale": [
             [
              0,
              "#0d0887"
             ],
             [
              0.1111111111111111,
              "#46039f"
             ],
             [
              0.2222222222222222,
              "#7201a8"
             ],
             [
              0.3333333333333333,
              "#9c179e"
             ],
             [
              0.4444444444444444,
              "#bd3786"
             ],
             [
              0.5555555555555556,
              "#d8576b"
             ],
             [
              0.6666666666666666,
              "#ed7953"
             ],
             [
              0.7777777777777778,
              "#fb9f3a"
             ],
             [
              0.8888888888888888,
              "#fdca26"
             ],
             [
              1,
              "#f0f921"
             ]
            ],
            "type": "heatmapgl"
           }
          ],
          "histogram": [
           {
            "marker": {
             "colorbar": {
              "outlinewidth": 0,
              "ticks": ""
             }
            },
            "type": "histogram"
           }
          ],
          "histogram2d": [
           {
            "colorbar": {
             "outlinewidth": 0,
             "ticks": ""
            },
            "colorscale": [
             [
              0,
              "#0d0887"
             ],
             [
              0.1111111111111111,
              "#46039f"
             ],
             [
              0.2222222222222222,
              "#7201a8"
             ],
             [
              0.3333333333333333,
              "#9c179e"
             ],
             [
              0.4444444444444444,
              "#bd3786"
             ],
             [
              0.5555555555555556,
              "#d8576b"
             ],
             [
              0.6666666666666666,
              "#ed7953"
             ],
             [
              0.7777777777777778,
              "#fb9f3a"
             ],
             [
              0.8888888888888888,
              "#fdca26"
             ],
             [
              1,
              "#f0f921"
             ]
            ],
            "type": "histogram2d"
           }
          ],
          "histogram2dcontour": [
           {
            "colorbar": {
             "outlinewidth": 0,
             "ticks": ""
            },
            "colorscale": [
             [
              0,
              "#0d0887"
             ],
             [
              0.1111111111111111,
              "#46039f"
             ],
             [
              0.2222222222222222,
              "#7201a8"
             ],
             [
              0.3333333333333333,
              "#9c179e"
             ],
             [
              0.4444444444444444,
              "#bd3786"
             ],
             [
              0.5555555555555556,
              "#d8576b"
             ],
             [
              0.6666666666666666,
              "#ed7953"
             ],
             [
              0.7777777777777778,
              "#fb9f3a"
             ],
             [
              0.8888888888888888,
              "#fdca26"
             ],
             [
              1,
              "#f0f921"
             ]
            ],
            "type": "histogram2dcontour"
           }
          ],
          "mesh3d": [
           {
            "colorbar": {
             "outlinewidth": 0,
             "ticks": ""
            },
            "type": "mesh3d"
           }
          ],
          "parcoords": [
           {
            "line": {
             "colorbar": {
              "outlinewidth": 0,
              "ticks": ""
             }
            },
            "type": "parcoords"
           }
          ],
          "pie": [
           {
            "automargin": true,
            "type": "pie"
           }
          ],
          "scatter": [
           {
            "marker": {
             "colorbar": {
              "outlinewidth": 0,
              "ticks": ""
             }
            },
            "type": "scatter"
           }
          ],
          "scatter3d": [
           {
            "line": {
             "colorbar": {
              "outlinewidth": 0,
              "ticks": ""
             }
            },
            "marker": {
             "colorbar": {
              "outlinewidth": 0,
              "ticks": ""
             }
            },
            "type": "scatter3d"
           }
          ],
          "scattercarpet": [
           {
            "marker": {
             "colorbar": {
              "outlinewidth": 0,
              "ticks": ""
             }
            },
            "type": "scattercarpet"
           }
          ],
          "scattergeo": [
           {
            "marker": {
             "colorbar": {
              "outlinewidth": 0,
              "ticks": ""
             }
            },
            "type": "scattergeo"
           }
          ],
          "scattergl": [
           {
            "marker": {
             "colorbar": {
              "outlinewidth": 0,
              "ticks": ""
             }
            },
            "type": "scattergl"
           }
          ],
          "scattermapbox": [
           {
            "marker": {
             "colorbar": {
              "outlinewidth": 0,
              "ticks": ""
             }
            },
            "type": "scattermapbox"
           }
          ],
          "scatterpolar": [
           {
            "marker": {
             "colorbar": {
              "outlinewidth": 0,
              "ticks": ""
             }
            },
            "type": "scatterpolar"
           }
          ],
          "scatterpolargl": [
           {
            "marker": {
             "colorbar": {
              "outlinewidth": 0,
              "ticks": ""
             }
            },
            "type": "scatterpolargl"
           }
          ],
          "scatterternary": [
           {
            "marker": {
             "colorbar": {
              "outlinewidth": 0,
              "ticks": ""
             }
            },
            "type": "scatterternary"
           }
          ],
          "surface": [
           {
            "colorbar": {
             "outlinewidth": 0,
             "ticks": ""
            },
            "colorscale": [
             [
              0,
              "#0d0887"
             ],
             [
              0.1111111111111111,
              "#46039f"
             ],
             [
              0.2222222222222222,
              "#7201a8"
             ],
             [
              0.3333333333333333,
              "#9c179e"
             ],
             [
              0.4444444444444444,
              "#bd3786"
             ],
             [
              0.5555555555555556,
              "#d8576b"
             ],
             [
              0.6666666666666666,
              "#ed7953"
             ],
             [
              0.7777777777777778,
              "#fb9f3a"
             ],
             [
              0.8888888888888888,
              "#fdca26"
             ],
             [
              1,
              "#f0f921"
             ]
            ],
            "type": "surface"
           }
          ],
          "table": [
           {
            "cells": {
             "fill": {
              "color": "#EBF0F8"
             },
             "line": {
              "color": "white"
             }
            },
            "header": {
             "fill": {
              "color": "#C8D4E3"
             },
             "line": {
              "color": "white"
             }
            },
            "type": "table"
           }
          ]
         },
         "layout": {
          "annotationdefaults": {
           "arrowcolor": "#2a3f5f",
           "arrowhead": 0,
           "arrowwidth": 1
          },
          "coloraxis": {
           "colorbar": {
            "outlinewidth": 0,
            "ticks": ""
           }
          },
          "colorscale": {
           "diverging": [
            [
             0,
             "#8e0152"
            ],
            [
             0.1,
             "#c51b7d"
            ],
            [
             0.2,
             "#de77ae"
            ],
            [
             0.3,
             "#f1b6da"
            ],
            [
             0.4,
             "#fde0ef"
            ],
            [
             0.5,
             "#f7f7f7"
            ],
            [
             0.6,
             "#e6f5d0"
            ],
            [
             0.7,
             "#b8e186"
            ],
            [
             0.8,
             "#7fbc41"
            ],
            [
             0.9,
             "#4d9221"
            ],
            [
             1,
             "#276419"
            ]
           ],
           "sequential": [
            [
             0,
             "#0d0887"
            ],
            [
             0.1111111111111111,
             "#46039f"
            ],
            [
             0.2222222222222222,
             "#7201a8"
            ],
            [
             0.3333333333333333,
             "#9c179e"
            ],
            [
             0.4444444444444444,
             "#bd3786"
            ],
            [
             0.5555555555555556,
             "#d8576b"
            ],
            [
             0.6666666666666666,
             "#ed7953"
            ],
            [
             0.7777777777777778,
             "#fb9f3a"
            ],
            [
             0.8888888888888888,
             "#fdca26"
            ],
            [
             1,
             "#f0f921"
            ]
           ],
           "sequentialminus": [
            [
             0,
             "#0d0887"
            ],
            [
             0.1111111111111111,
             "#46039f"
            ],
            [
             0.2222222222222222,
             "#7201a8"
            ],
            [
             0.3333333333333333,
             "#9c179e"
            ],
            [
             0.4444444444444444,
             "#bd3786"
            ],
            [
             0.5555555555555556,
             "#d8576b"
            ],
            [
             0.6666666666666666,
             "#ed7953"
            ],
            [
             0.7777777777777778,
             "#fb9f3a"
            ],
            [
             0.8888888888888888,
             "#fdca26"
            ],
            [
             1,
             "#f0f921"
            ]
           ]
          },
          "colorway": [
           "#636efa",
           "#EF553B",
           "#00cc96",
           "#ab63fa",
           "#FFA15A",
           "#19d3f3",
           "#FF6692",
           "#B6E880",
           "#FF97FF",
           "#FECB52"
          ],
          "font": {
           "color": "#2a3f5f"
          },
          "geo": {
           "bgcolor": "white",
           "lakecolor": "white",
           "landcolor": "#E5ECF6",
           "showlakes": true,
           "showland": true,
           "subunitcolor": "white"
          },
          "hoverlabel": {
           "align": "left"
          },
          "hovermode": "closest",
          "mapbox": {
           "style": "light"
          },
          "paper_bgcolor": "white",
          "plot_bgcolor": "#E5ECF6",
          "polar": {
           "angularaxis": {
            "gridcolor": "white",
            "linecolor": "white",
            "ticks": ""
           },
           "bgcolor": "#E5ECF6",
           "radialaxis": {
            "gridcolor": "white",
            "linecolor": "white",
            "ticks": ""
           }
          },
          "scene": {
           "xaxis": {
            "backgroundcolor": "#E5ECF6",
            "gridcolor": "white",
            "gridwidth": 2,
            "linecolor": "white",
            "showbackground": true,
            "ticks": "",
            "zerolinecolor": "white"
           },
           "yaxis": {
            "backgroundcolor": "#E5ECF6",
            "gridcolor": "white",
            "gridwidth": 2,
            "linecolor": "white",
            "showbackground": true,
            "ticks": "",
            "zerolinecolor": "white"
           },
           "zaxis": {
            "backgroundcolor": "#E5ECF6",
            "gridcolor": "white",
            "gridwidth": 2,
            "linecolor": "white",
            "showbackground": true,
            "ticks": "",
            "zerolinecolor": "white"
           }
          },
          "shapedefaults": {
           "line": {
            "color": "#2a3f5f"
           }
          },
          "ternary": {
           "aaxis": {
            "gridcolor": "white",
            "linecolor": "white",
            "ticks": ""
           },
           "baxis": {
            "gridcolor": "white",
            "linecolor": "white",
            "ticks": ""
           },
           "bgcolor": "#E5ECF6",
           "caxis": {
            "gridcolor": "white",
            "linecolor": "white",
            "ticks": ""
           }
          },
          "title": {
           "x": 0.05
          },
          "xaxis": {
           "automargin": true,
           "gridcolor": "white",
           "linecolor": "white",
           "ticks": "",
           "title": {
            "standoff": 15
           },
           "zerolinecolor": "white",
           "zerolinewidth": 2
          },
          "yaxis": {
           "automargin": true,
           "gridcolor": "white",
           "linecolor": "white",
           "ticks": "",
           "title": {
            "standoff": 15
           },
           "zerolinecolor": "white",
           "zerolinewidth": 2
          }
         }
        },
        "width": 800,
        "xaxis": {
         "anchor": "y",
         "domain": [
          0,
          0.94
         ]
        },
        "yaxis": {
         "anchor": "x",
         "domain": [
          0,
          1
         ]
        },
        "yaxis2": {
         "anchor": "x",
         "overlaying": "y",
         "side": "right"
        }
       }
      }
     },
     "metadata": {}
    }
   ],
   "source": [
    "print(to_day_need.corr()[:1][\"match_solar\"])\n",
    "make_graph(\"env_slopesolar\", \"match_solar\", to_day_need[:100])"
   ]
  },
  {
   "source": [
    "    일 단위로 묶었을 경우 MAPE가 300에서 8.99으로 확연히 감소하는 걸 볼 수 있다. \n",
    "    \n",
    "    => 각 시간별 일사량의 차이를 통해 또 다른 개선점을 찾아본다."
   ],
   "cell_type": "markdown",
   "metadata": {}
  },
  {
   "cell_type": "code",
   "execution_count": 146,
   "metadata": {},
   "outputs": [],
   "source": [
    "ent_other_joinset[\"diff\"] = ent_other_joinset[\"env_slopesolar\"] - ent_other_joinset[\"match_solar\"]"
   ]
  },
  {
   "cell_type": "code",
   "execution_count": 167,
   "metadata": {},
   "outputs": [
    {
     "output_type": "display_data",
     "data": {
      "application/vnd.plotly.v1+json": {
       "config": {
        "plotlyServerURL": "https://plot.ly"
       },
       "data": [
        {
         "line": {
          "color": "blue"
         },
         "mode": "lines",
         "name": "diff",
         "type": "scatter",
         "x": [
          "2018-10-22 12:00",
          "2018-10-22 13:00",
          "2018-10-22 14:00",
          "2018-10-22 15:00",
          "2018-10-22 16:00",
          "2018-10-22 17:00",
          "2018-10-23 09:00",
          "2018-10-23 10:00",
          "2018-10-23 11:00",
          "2018-10-23 12:00",
          "2018-10-23 13:00",
          "2018-10-23 14:00",
          "2018-10-23 15:00",
          "2018-10-23 16:00",
          "2018-10-23 17:00",
          "2018-10-24 09:00",
          "2018-10-24 10:00",
          "2018-10-24 11:00",
          "2018-10-24 15:00",
          "2018-10-24 16:00",
          "2018-10-24 17:00",
          "2018-10-25 09:00",
          "2018-10-25 10:00",
          "2018-10-25 11:00",
          "2018-10-25 12:00",
          "2018-10-25 13:00",
          "2018-10-25 14:00",
          "2018-10-25 15:00",
          "2018-10-25 16:00",
          "2018-10-25 17:00",
          "2018-10-26 09:00",
          "2018-10-26 10:00",
          "2018-10-26 11:00",
          "2018-10-26 12:00",
          "2018-10-26 13:00",
          "2018-10-26 14:00",
          "2018-10-26 15:00",
          "2018-10-26 16:00",
          "2018-10-26 17:00",
          "2018-10-27 09:00",
          "2018-10-27 10:00",
          "2018-10-27 11:00",
          "2018-10-27 12:00",
          "2018-10-27 13:00",
          "2018-10-27 14:00",
          "2018-10-27 15:00",
          "2018-10-27 16:00",
          "2018-10-27 17:00",
          "2018-10-28 09:00",
          "2018-10-28 10:00",
          "2018-10-28 11:00",
          "2018-10-28 12:00",
          "2018-10-28 13:00",
          "2018-10-28 14:00",
          "2018-10-28 15:00",
          "2018-10-28 16:00",
          "2018-10-28 17:00",
          "2018-10-29 09:00",
          "2018-10-29 10:00",
          "2018-10-29 11:00",
          "2018-10-29 12:00",
          "2018-10-29 13:00",
          "2018-10-29 14:00",
          "2018-10-29 15:00",
          "2018-10-29 16:00",
          "2018-10-29 17:00",
          "2018-10-30 09:00",
          "2018-10-30 10:00",
          "2018-10-30 11:00",
          "2018-10-30 12:00",
          "2018-10-30 13:00",
          "2018-10-30 14:00",
          "2018-10-30 15:00",
          "2018-10-30 16:00",
          "2018-10-30 17:00",
          "2018-10-31 09:00",
          "2018-10-31 10:00",
          "2018-10-31 11:00",
          "2018-10-31 12:00",
          "2018-10-31 13:00",
          "2018-10-31 14:00",
          "2018-10-31 15:00",
          "2018-10-31 16:00",
          "2018-10-31 17:00",
          "2018-11-01 09:00",
          "2018-11-01 10:00",
          "2018-11-01 11:00",
          "2018-11-01 12:00",
          "2018-11-01 13:00",
          "2018-11-01 14:00",
          "2018-11-01 15:00",
          "2018-11-01 16:00",
          "2018-11-01 17:00",
          "2018-11-02 09:00",
          "2018-11-02 10:00",
          "2018-11-02 11:00",
          "2018-11-02 12:00",
          "2018-11-02 13:00",
          "2018-11-02 14:00",
          "2018-11-02 15:00",
          "2018-11-02 16:00",
          "2018-11-02 17:00",
          "2018-11-03 09:00",
          "2018-11-03 10:00",
          "2018-11-03 11:00",
          "2018-11-03 12:00",
          "2018-11-03 13:00",
          "2018-11-03 14:00",
          "2018-11-03 15:00",
          "2018-11-03 16:00",
          "2018-11-03 17:00",
          "2018-11-04 09:00",
          "2018-11-04 10:00",
          "2018-11-04 11:00",
          "2018-11-04 12:00",
          "2018-11-04 13:00",
          "2018-11-04 14:00",
          "2018-11-04 15:00",
          "2018-11-04 16:00",
          "2018-11-04 17:00",
          "2018-11-05 09:00",
          "2018-11-05 10:00",
          "2018-11-05 11:00",
          "2018-11-05 12:00",
          "2018-11-05 13:00",
          "2018-11-05 14:00",
          "2018-11-05 15:00",
          "2018-11-05 16:00",
          "2018-11-05 17:00",
          "2018-11-06 09:00",
          "2018-11-06 10:00",
          "2018-11-06 11:00",
          "2018-11-06 12:00",
          "2018-11-06 13:00",
          "2018-11-06 14:00",
          "2018-11-06 15:00",
          "2018-11-06 16:00",
          "2018-11-06 17:00",
          "2018-11-07 09:00",
          "2018-11-07 10:00",
          "2018-11-07 11:00",
          "2018-11-07 12:00",
          "2018-11-07 13:00",
          "2018-11-07 14:00",
          "2018-11-07 15:00",
          "2018-11-07 16:00",
          "2018-11-07 17:00",
          "2018-11-08 09:00",
          "2018-11-08 10:00",
          "2018-11-08 11:00",
          "2018-11-08 12:00",
          "2018-11-08 13:00",
          "2018-11-08 14:00",
          "2018-11-08 15:00",
          "2018-11-08 16:00",
          "2018-11-09 09:00",
          "2018-11-09 10:00",
          "2018-11-09 11:00",
          "2018-11-09 12:00",
          "2018-11-09 13:00",
          "2018-11-09 14:00",
          "2018-11-09 15:00",
          "2018-11-09 16:00",
          "2018-11-09 17:00",
          "2018-11-10 09:00",
          "2018-11-10 10:00",
          "2018-11-10 11:00",
          "2018-11-10 12:00",
          "2018-11-10 13:00",
          "2018-11-10 14:00",
          "2018-11-10 15:00",
          "2018-11-10 16:00",
          "2018-11-10 17:00",
          "2018-11-11 09:00",
          "2018-11-11 10:00",
          "2018-11-11 11:00",
          "2018-11-11 12:00",
          "2018-11-11 13:00",
          "2018-11-11 14:00",
          "2018-11-11 15:00",
          "2018-11-11 16:00",
          "2018-11-11 17:00",
          "2018-11-12 09:00",
          "2018-11-12 10:00",
          "2018-11-12 11:00",
          "2018-11-12 12:00",
          "2018-11-12 13:00",
          "2018-11-12 14:00",
          "2018-11-12 15:00",
          "2018-11-12 16:00",
          "2018-11-12 17:00",
          "2018-11-13 09:00",
          "2018-11-13 10:00",
          "2018-11-13 11:00",
          "2018-11-13 12:00",
          "2018-11-13 13:00",
          "2018-11-13 14:00",
          "2018-11-13 15:00",
          "2018-11-13 16:00",
          "2018-11-13 17:00",
          "2018-11-14 09:00",
          "2018-11-14 10:00",
          "2018-11-14 11:00",
          "2018-11-14 12:00",
          "2018-11-14 13:00",
          "2018-11-14 14:00",
          "2018-11-14 15:00",
          "2018-11-14 16:00",
          "2018-11-14 17:00",
          "2018-11-15 09:00",
          "2018-11-15 10:00",
          "2018-11-15 11:00",
          "2018-11-15 12:00",
          "2018-11-15 13:00",
          "2018-11-15 14:00",
          "2018-11-15 15:00",
          "2018-11-15 16:00",
          "2018-11-15 17:00",
          "2018-11-16 09:00",
          "2018-11-16 10:00",
          "2018-11-16 11:00",
          "2018-11-16 12:00",
          "2018-11-16 13:00",
          "2018-11-16 14:00",
          "2018-11-16 15:00",
          "2018-11-16 16:00",
          "2018-11-16 17:00",
          "2018-11-17 09:00",
          "2018-11-17 10:00",
          "2018-11-17 11:00",
          "2018-11-17 12:00",
          "2018-11-17 13:00",
          "2018-11-17 14:00",
          "2018-11-17 15:00",
          "2018-11-17 16:00",
          "2018-11-17 17:00",
          "2018-11-18 09:00",
          "2018-11-18 10:00",
          "2018-11-18 11:00",
          "2018-11-18 12:00",
          "2018-11-18 13:00",
          "2018-11-18 14:00",
          "2018-11-18 15:00",
          "2018-11-18 16:00",
          "2018-11-18 17:00",
          "2018-11-19 09:00",
          "2018-11-19 10:00",
          "2018-11-19 11:00",
          "2018-11-19 12:00",
          "2018-11-19 13:00",
          "2018-11-19 14:00",
          "2018-11-19 15:00",
          "2018-11-19 16:00",
          "2018-11-19 17:00",
          "2018-11-20 09:00",
          "2018-11-20 10:00",
          "2018-11-20 11:00",
          "2018-11-20 12:00",
          "2018-11-20 13:00",
          "2018-11-20 14:00",
          "2018-11-20 15:00",
          "2018-11-20 16:00",
          "2018-11-20 17:00",
          "2018-11-21 09:00",
          "2018-11-21 10:00",
          "2018-11-21 11:00",
          "2018-11-21 12:00",
          "2018-11-21 13:00",
          "2018-11-21 14:00",
          "2018-11-21 15:00",
          "2018-11-21 16:00",
          "2018-11-21 17:00",
          "2018-11-22 09:00",
          "2018-11-22 10:00",
          "2018-11-22 11:00",
          "2018-11-22 12:00",
          "2018-11-22 13:00",
          "2018-11-22 14:00",
          "2018-11-22 15:00",
          "2018-11-22 16:00",
          "2018-11-22 17:00",
          "2018-11-23 09:00",
          "2018-11-23 10:00",
          "2018-11-23 11:00",
          "2018-11-23 12:00",
          "2018-11-23 13:00",
          "2018-11-23 14:00",
          "2018-11-23 15:00",
          "2018-11-23 16:00",
          "2018-11-23 17:00",
          "2018-11-24 10:00",
          "2018-11-24 11:00",
          "2018-11-24 12:00",
          "2018-11-24 13:00",
          "2018-11-24 14:00",
          "2018-11-24 15:00",
          "2018-11-24 16:00",
          "2018-11-24 17:00",
          "2018-11-25 09:00",
          "2018-11-25 10:00",
          "2018-11-25 11:00",
          "2018-11-25 12:00",
          "2018-11-25 13:00",
          "2018-11-25 14:00",
          "2018-11-25 15:00",
          "2018-11-25 16:00",
          "2018-11-25 17:00",
          "2018-11-26 09:00",
          "2018-11-26 10:00",
          "2018-11-26 11:00",
          "2018-11-26 12:00",
          "2018-11-26 13:00",
          "2018-11-26 14:00",
          "2018-11-26 15:00",
          "2018-11-26 16:00",
          "2018-11-26 17:00",
          "2018-11-27 09:00",
          "2018-11-27 10:00",
          "2018-11-27 11:00",
          "2018-11-27 12:00",
          "2018-11-27 13:00",
          "2018-11-27 14:00",
          "2018-11-27 15:00",
          "2018-11-27 16:00",
          "2018-11-27 17:00",
          "2018-11-28 09:00",
          "2018-11-28 10:00",
          "2018-11-28 11:00",
          "2018-11-28 12:00",
          "2018-11-28 13:00",
          "2018-11-28 14:00",
          "2018-11-28 15:00",
          "2018-11-28 16:00",
          "2018-11-28 17:00",
          "2018-11-29 09:00",
          "2018-11-29 10:00",
          "2018-11-29 11:00",
          "2018-11-29 12:00",
          "2018-11-29 13:00",
          "2018-11-29 14:00",
          "2018-11-29 15:00",
          "2018-11-29 16:00",
          "2018-11-30 09:00",
          "2018-11-30 10:00",
          "2018-11-30 11:00",
          "2018-11-30 12:00",
          "2018-11-30 13:00",
          "2018-11-30 14:00",
          "2018-11-30 15:00",
          "2018-11-30 16:00",
          "2018-11-30 17:00",
          "2018-12-01 09:00",
          "2018-12-01 10:00",
          "2018-12-01 11:00",
          "2018-12-01 12:00",
          "2018-12-01 13:00",
          "2018-12-01 14:00",
          "2018-12-01 15:00",
          "2018-12-01 16:00",
          "2018-12-01 17:00",
          "2018-12-02 09:00",
          "2018-12-02 10:00",
          "2018-12-02 11:00",
          "2018-12-02 12:00",
          "2018-12-02 13:00",
          "2018-12-02 14:00",
          "2018-12-02 15:00",
          "2018-12-02 16:00",
          "2018-12-02 17:00",
          "2018-12-03 09:00",
          "2018-12-03 10:00",
          "2018-12-03 11:00",
          "2018-12-03 12:00",
          "2018-12-03 13:00",
          "2018-12-03 14:00",
          "2018-12-03 15:00",
          "2018-12-03 16:00",
          "2018-12-04 09:00",
          "2018-12-04 10:00",
          "2018-12-04 11:00",
          "2018-12-04 12:00",
          "2018-12-04 13:00",
          "2018-12-04 14:00",
          "2018-12-04 15:00",
          "2018-12-04 16:00",
          "2018-12-04 17:00",
          "2018-12-05 09:00",
          "2018-12-05 10:00",
          "2018-12-05 11:00",
          "2018-12-05 12:00",
          "2018-12-05 13:00",
          "2018-12-05 14:00",
          "2018-12-05 15:00",
          "2018-12-05 16:00",
          "2018-12-05 17:00",
          "2018-12-06 09:00",
          "2018-12-06 10:00",
          "2018-12-06 11:00",
          "2018-12-06 12:00",
          "2018-12-06 13:00",
          "2018-12-06 14:00",
          "2018-12-06 15:00",
          "2018-12-06 16:00",
          "2018-12-06 17:00",
          "2018-12-07 09:00",
          "2018-12-07 10:00",
          "2018-12-07 11:00",
          "2018-12-07 12:00",
          "2018-12-07 13:00",
          "2018-12-07 14:00",
          "2018-12-07 15:00",
          "2018-12-07 16:00",
          "2018-12-07 17:00",
          "2018-12-08 09:00",
          "2018-12-08 10:00",
          "2018-12-08 11:00",
          "2018-12-08 12:00",
          "2018-12-08 13:00",
          "2018-12-08 14:00",
          "2018-12-08 15:00",
          "2018-12-08 16:00",
          "2018-12-08 17:00",
          "2018-12-09 09:00",
          "2018-12-09 10:00",
          "2018-12-09 11:00",
          "2018-12-09 12:00",
          "2018-12-09 13:00",
          "2018-12-09 14:00",
          "2018-12-09 15:00",
          "2018-12-09 16:00",
          "2018-12-09 17:00",
          "2018-12-10 09:00",
          "2018-12-10 10:00",
          "2018-12-10 11:00",
          "2018-12-10 12:00",
          "2018-12-10 13:00",
          "2018-12-10 14:00",
          "2018-12-10 15:00",
          "2018-12-10 16:00",
          "2018-12-10 17:00",
          "2018-12-11 09:00",
          "2018-12-11 10:00",
          "2018-12-11 11:00",
          "2018-12-11 12:00",
          "2018-12-11 13:00",
          "2018-12-11 14:00",
          "2018-12-11 15:00",
          "2018-12-11 16:00",
          "2018-12-11 17:00",
          "2018-12-12 09:00",
          "2018-12-12 10:00",
          "2018-12-12 11:00",
          "2018-12-12 12:00",
          "2018-12-12 13:00",
          "2018-12-12 14:00",
          "2018-12-12 15:00",
          "2018-12-12 16:00",
          "2018-12-12 17:00",
          "2018-12-13 09:00",
          "2018-12-13 10:00",
          "2018-12-13 11:00",
          "2018-12-13 12:00",
          "2018-12-13 13:00",
          "2018-12-13 14:00",
          "2018-12-13 15:00",
          "2018-12-13 16:00",
          "2018-12-13 17:00",
          "2018-12-14 09:00",
          "2018-12-14 10:00",
          "2018-12-14 11:00",
          "2018-12-14 12:00",
          "2018-12-14 13:00",
          "2018-12-14 14:00",
          "2018-12-14 15:00",
          "2018-12-14 16:00",
          "2018-12-14 17:00",
          "2018-12-15 09:00",
          "2018-12-15 10:00",
          "2018-12-15 11:00",
          "2018-12-15 12:00",
          "2018-12-15 13:00",
          "2018-12-15 14:00",
          "2018-12-15 15:00",
          "2018-12-15 16:00",
          "2018-12-15 17:00",
          "2018-12-16 09:00",
          "2018-12-16 10:00",
          "2018-12-16 11:00",
          "2018-12-16 12:00",
          "2018-12-16 13:00",
          "2018-12-16 14:00",
          "2018-12-16 15:00",
          "2018-12-16 16:00",
          "2018-12-16 17:00",
          "2018-12-17 09:00",
          "2018-12-17 10:00",
          "2018-12-17 11:00",
          "2018-12-17 12:00",
          "2018-12-17 13:00",
          "2018-12-17 14:00",
          "2018-12-17 15:00",
          "2018-12-17 16:00",
          "2018-12-17 17:00",
          "2018-12-18 09:00",
          "2018-12-18 10:00",
          "2018-12-18 11:00",
          "2018-12-18 12:00",
          "2018-12-18 13:00",
          "2018-12-18 14:00",
          "2018-12-18 15:00",
          "2018-12-18 16:00",
          "2018-12-18 17:00",
          "2018-12-19 09:00",
          "2018-12-19 10:00",
          "2018-12-19 11:00",
          "2018-12-19 12:00",
          "2018-12-19 13:00",
          "2018-12-19 14:00",
          "2018-12-19 15:00",
          "2018-12-19 16:00",
          "2018-12-19 17:00",
          "2018-12-20 09:00",
          "2018-12-20 10:00",
          "2018-12-20 11:00",
          "2018-12-20 12:00",
          "2018-12-20 13:00",
          "2018-12-20 14:00",
          "2018-12-20 15:00",
          "2018-12-20 16:00",
          "2018-12-20 17:00",
          "2018-12-21 09:00",
          "2018-12-21 10:00",
          "2018-12-21 11:00",
          "2018-12-21 12:00",
          "2018-12-21 13:00",
          "2018-12-21 14:00",
          "2018-12-21 15:00",
          "2018-12-21 16:00",
          "2018-12-21 17:00",
          "2018-12-22 09:00",
          "2018-12-22 10:00",
          "2018-12-22 11:00",
          "2018-12-22 12:00",
          "2018-12-22 13:00",
          "2018-12-22 14:00",
          "2018-12-22 15:00",
          "2018-12-22 16:00",
          "2018-12-22 17:00",
          "2018-12-23 09:00",
          "2018-12-23 10:00",
          "2018-12-23 11:00",
          "2018-12-23 12:00",
          "2018-12-23 13:00",
          "2018-12-23 14:00",
          "2018-12-23 15:00",
          "2018-12-23 16:00",
          "2018-12-23 17:00",
          "2018-12-24 09:00",
          "2018-12-24 10:00",
          "2018-12-24 11:00",
          "2018-12-24 12:00",
          "2018-12-24 13:00",
          "2018-12-24 14:00",
          "2018-12-24 15:00",
          "2018-12-24 16:00",
          "2018-12-24 17:00",
          "2018-12-25 09:00",
          "2018-12-25 10:00",
          "2018-12-25 11:00",
          "2018-12-25 12:00",
          "2018-12-25 13:00",
          "2018-12-25 14:00",
          "2018-12-25 15:00",
          "2018-12-25 16:00",
          "2018-12-25 17:00",
          "2018-12-26 09:00",
          "2018-12-26 10:00",
          "2018-12-26 11:00",
          "2018-12-26 12:00",
          "2018-12-26 13:00",
          "2018-12-26 14:00",
          "2018-12-26 15:00",
          "2018-12-26 16:00",
          "2018-12-26 17:00",
          "2018-12-27 09:00",
          "2018-12-27 10:00",
          "2018-12-27 11:00",
          "2018-12-27 12:00",
          "2018-12-27 13:00",
          "2018-12-27 14:00",
          "2018-12-27 15:00",
          "2018-12-27 16:00",
          "2018-12-27 17:00",
          "2018-12-28 09:00",
          "2018-12-28 10:00",
          "2018-12-28 11:00",
          "2018-12-28 12:00",
          "2018-12-28 13:00",
          "2018-12-28 14:00",
          "2018-12-28 15:00",
          "2018-12-28 16:00",
          "2018-12-28 17:00",
          "2018-12-29 09:00",
          "2018-12-29 10:00",
          "2018-12-29 11:00",
          "2018-12-29 12:00",
          "2018-12-29 13:00",
          "2018-12-29 14:00",
          "2018-12-29 15:00",
          "2018-12-29 16:00",
          "2018-12-29 17:00",
          "2018-12-30 09:00",
          "2018-12-30 10:00",
          "2018-12-30 11:00",
          "2018-12-30 12:00",
          "2018-12-30 13:00",
          "2018-12-30 14:00",
          "2018-12-30 15:00",
          "2018-12-30 16:00",
          "2018-12-30 17:00",
          "2018-12-31 09:00",
          "2018-12-31 10:00",
          "2018-12-31 11:00",
          "2018-12-31 12:00",
          "2018-12-31 13:00",
          "2018-12-31 14:00",
          "2018-12-31 15:00",
          "2018-12-31 16:00",
          "2018-12-31 17:00",
          "2019-01-01 09:00",
          "2019-01-01 10:00",
          "2019-01-01 11:00",
          "2019-01-01 12:00",
          "2019-01-01 13:00",
          "2019-01-01 14:00",
          "2019-01-01 15:00",
          "2019-01-01 16:00",
          "2019-01-01 17:00",
          "2019-01-02 09:00",
          "2019-01-02 10:00",
          "2019-01-02 11:00",
          "2019-01-02 12:00",
          "2019-01-02 13:00",
          "2019-01-02 14:00",
          "2019-01-02 15:00",
          "2019-01-02 16:00",
          "2019-01-02 17:00",
          "2019-01-03 09:00",
          "2019-01-03 10:00",
          "2019-01-03 11:00",
          "2019-01-03 12:00",
          "2019-01-03 13:00",
          "2019-01-03 14:00",
          "2019-01-03 15:00",
          "2019-01-03 16:00",
          "2019-01-03 17:00",
          "2019-01-04 09:00",
          "2019-01-04 10:00",
          "2019-01-04 11:00",
          "2019-01-04 12:00",
          "2019-01-04 13:00",
          "2019-01-04 14:00",
          "2019-01-04 15:00",
          "2019-01-04 16:00",
          "2019-01-04 17:00",
          "2019-01-05 09:00",
          "2019-01-05 10:00",
          "2019-01-05 11:00",
          "2019-01-05 12:00",
          "2019-01-05 13:00",
          "2019-01-05 14:00",
          "2019-01-05 15:00",
          "2019-01-05 16:00",
          "2019-01-05 17:00",
          "2019-01-06 09:00",
          "2019-01-06 10:00",
          "2019-01-06 11:00",
          "2019-01-06 12:00",
          "2019-01-06 13:00",
          "2019-01-06 14:00",
          "2019-01-06 15:00",
          "2019-01-06 16:00",
          "2019-01-06 17:00",
          "2019-01-07 09:00",
          "2019-01-07 10:00",
          "2019-01-07 11:00",
          "2019-01-07 12:00",
          "2019-01-07 13:00",
          "2019-01-07 14:00",
          "2019-01-07 15:00",
          "2019-01-07 16:00",
          "2019-01-07 17:00",
          "2019-01-08 09:00",
          "2019-01-08 10:00",
          "2019-01-08 11:00",
          "2019-01-08 12:00",
          "2019-01-08 13:00",
          "2019-01-08 14:00",
          "2019-01-08 15:00",
          "2019-01-08 16:00"
         ],
         "xaxis": "x",
         "y": [
          -230.5138888888888,
          9.95873015873019,
          -101.23015873015873,
          -105.0079365079365,
          -128.2850241545894,
          -89.58454106280193,
          154.3984126984127,
          -3.1301587301587688,
          -117.94685990338164,
          329.3619047619047,
          36.584126984126954,
          15.014492753623188,
          -111.36984126984123,
          -76.75555555555553,
          -89.07619047619048,
          155.65714285714284,
          175.08695652173907,
          166.84722222222217,
          -144.7317073170732,
          -175.94603174603176,
          -152.1207729468599,
          157.10793650793653,
          165.34285714285716,
          168.0338164251208,
          134.71428571428567,
          2.7904761904762836,
          -3.122222222222206,
          -34.80193236714979,
          -98.20476190476191,
          -94.61352657004831,
          36.8984126984127,
          -43.94285714285714,
          -25.362318840579718,
          2.8650793650793673,
          -2.75396825396826,
          89.51428571428572,
          176.85396825396825,
          -141.31884057971013,
          -128.38888888888889,
          159.56038647342996,
          150.19682539682537,
          -47.476190476190425,
          183.3555555555555,
          7.309178743961354,
          343.73809523809524,
          -113.15396825396823,
          -201.57619047619045,
          -113.02941176470588,
          106.75238095238095,
          103.10144927536233,
          260.80952380952385,
          -292.98253968253965,
          213.27142857142854,
          -137.43015873015875,
          -111.85990338164251,
          -130.15873015873018,
          -18.003267973856207,
          111.90158730158731,
          101.35748792270533,
          -223.06507936507933,
          -312.6777777777778,
          178.5857142857143,
          -191.8920634920635,
          107.34782608695653,
          -118.06825396825394,
          -118.2826797385621,
          151.32063492063492,
          157.88412698412696,
          143.8571428571429,
          127.58937198067633,
          75.11111111111109,
          16.725396825396842,
          -102.7294685990338,
          -204.66507936507935,
          -124.21732026143789,
          149.33492063492065,
          155.16425120772942,
          142.96984126984125,
          125.01746031746029,
          75.67936507936508,
          6.7487922705313395,
          -100.9920634920635,
          -281.34722222222223,
          -141.49523809523808,
          150.49365079365077,
          168.70952380952377,
          156.0772946859904,
          125.71269841269839,
          77.49047619047622,
          16.42063492063494,
          -98.30434782608694,
          -211.63174603174605,
          -130.390522875817,
          145.58412698412695,
          151.25603864734296,
          145.64603174603178,
          134.13492063492072,
          99.51690821256034,
          24.58571428571429,
          -76.8777777777778,
          -205.9063492063492,
          -125.32026143790848,
          146.12063492063493,
          154.2111111111111,
          144.9227053140096,
          114.56984126984128,
          91.1936507936507,
          18.60634920634925,
          -74.41545893719808,
          -204.4793650793651,
          -113.34150326797385,
          147.15555555555557,
          163.3623188405797,
          159.2666666666667,
          115.24761904761908,
          57.522222222222126,
          28.97584541062804,
          -91.35873015873017,
          -199.25238095238097,
          -115.98856209150327,
          120.36190476190475,
          137.99047619047616,
          41.33333333333337,
          14.961904761904748,
          58.14285714285711,
          -90.07619047619045,
          -82.44444444444443,
          -114.51428571428572,
          -66.82516339869282,
          92.6047619047619,
          158.99682539682541,
          107.6231884057971,
          -103.22857142857143,
          -37.86349206349206,
          -216.512077294686,
          -5.739682539682548,
          -124.64761904761906,
          -60.30065359477124,
          51.66666666666667,
          58.50158730158731,
          68.92698412698412,
          82.60386473429952,
          113.79523809523809,
          -100.73015873015873,
          -27.91904761904763,
          -102.256038647343,
          -10.741880341880341,
          25.576190476190472,
          -20.88405797101449,
          43.995238095238086,
          -64.19365079365079,
          -79.94603174603174,
          -15.642512077294688,
          -16.744444444444444,
          -5.511437908496732,
          60.48888888888888,
          210.84920634920633,
          251.1492063492064,
          -38.50241545893721,
          -100.83809523809526,
          -87.44285714285712,
          -116.73968253968252,
          -151.92753623188406,
          -84.60530679933665,
          122.84057971014494,
          37.144444444444446,
          123.46190476190475,
          71.05873015873021,
          81.83091787439616,
          -10.746031746031747,
          -92.56349206349205,
          -181.8396825396825,
          -92.50580431177447,
          81.84285714285716,
          -145.4873015873016,
          -58.87142857142857,
          16.73429951690821,
          36.31904761904761,
          -16.230158730158735,
          -60.55555555555556,
          -15.053140096618359,
          -8.075757575757576,
          143.07729468599032,
          157.67619047619047,
          157.08888888888896,
          125.2460317460318,
          91.81642512077292,
          23.031746031746025,
          -91.1063492063492,
          -198.06763285024152,
          -91.54738562091504,
          141.2047619047619,
          145.82063492063492,
          152.3091787439614,
          118.8301587301587,
          57.40952380952376,
          0.29951690821258126,
          -121.98095238095237,
          -190.56349206349205,
          -88.65128205128205,
          141.26666666666668,
          142.20634920634922,
          131.90634920634915,
          100.92753623188412,
          -23.333333333333258,
          -6.199999999999989,
          -66.68599033816423,
          -190.73809523809524,
          -84.31699346405229,
          83.02415458937199,
          221.83968253968257,
          107.63174603174605,
          59.820634920634916,
          -58.333333333333314,
          45.96825396825392,
          -25.88730158730158,
          -115.67149758454106,
          -76.4040404040404,
          69.8920634920635,
          202.38164251207726,
          130.69682539682537,
          10.04444444444448,
          -175.57142857142856,
          -110.91787439613529,
          -98.36825396825395,
          -78.03650793650795,
          -32.794871794871796,
          139.99516908212559,
          137.69682539682537,
          115.852380952381,
          84.00476190476195,
          -249.64251207729473,
          -68.35079365079366,
          -38.43015873015874,
          -67.90821256038646,
          -33.543946932006634,
          125.8174603174603,
          201.85396825396825,
          213.79227053140102,
          8.815873015873024,
          5.690476190476147,
          -123.63015873015874,
          -39.42995169082124,
          -107.34126984126982,
          -49.77272727272727,
          124.93650793650795,
          75.7874396135266,
          61.05555555555554,
          67.8857142857143,
          232.98730158730154,
          0.38647342995170675,
          -132.27619047619046,
          -39.8063492063492,
          -69.04444444444444,
          131.8269841269841,
          145.08730158730162,
          137.12560386473433,
          106.45873015873019,
          56.19841269841265,
          -11.787301587301613,
          -82.46376811594206,
          -175.86349206349206,
          -78.7979797979798,
          52.70952380952381,
          31.64285714285714,
          2.7492063492063465,
          -16.995169082125614,
          12.825396825396837,
          -41.75238095238096,
          -15.082125603864739,
          -40.39047619047619,
          -19.22905982905983,
          131.13809523809525,
          138.0079365079365,
          123.09178743961348,
          12.96349206349214,
          67.66031746031751,
          -10.951690821256022,
          15.431746031746059,
          -72.97777777777777,
          -67.86868686868686,
          125.5952380952381,
          141.50241545893715,
          137.69523809523815,
          116.41111111111104,
          41.58253968253962,
          -139.10628019323673,
          -18.298412698412676,
          -145.9063492063492,
          -73.96923076923076,
          46.95384615384615,
          106.86437908496733,
          42.331746031746036,
          -122.89855072463769,
          42.25079365079367,
          -108.88571428571429,
          -83.38095238095238,
          -53.87863247863248,
          138.02539682539683,
          125.76666666666671,
          0.13015873015876878,
          -15.72946859903385,
          -71.7793650793651,
          -75.31269841269841,
          -62.458937198067645,
          -117.04285714285714,
          -27.77777777777778,
          123.65700483091788,
          141.33809523809526,
          118.8047619047619,
          87.04830917874392,
          33.6238095238096,
          -25.395238095238142,
          -91.98571428571427,
          -167.024154589372,
          -65.75757575757576,
          71.55238095238096,
          103.75079365079367,
          19.6761904761905,
          -83.66183574879227,
          -76.89682539682539,
          -27.91428571428571,
          -127.19323671497584,
          -63.62698412698413,
          -33.333333333333336,
          85.36666666666666,
          25.469841269841254,
          264.61835748792265,
          98.63650793650794,
          53.633333333333326,
          -8.425120772946855,
          -93.97619047619048,
          -163.24603174603175,
          -68.64444444444445,
          80.07460317460317,
          97.40317460317459,
          -47.56038647342996,
          -28.987301587301587,
          43.32380952380952,
          26.17874396135265,
          -75.56507936507937,
          -21.54920634920635,
          121.78260869565219,
          111.35873015873017,
          133.7666666666667,
          96.03492063492064,
          51.98550724637681,
          -5.23174603174607,
          -48.696825396825375,
          -157.15942028985506,
          -63.47097844112769,
          140.75396825396825,
          149.67460317460316,
          115.58937198067633,
          95.66507936507941,
          30.90952380952382,
          3.7190476190476147,
          -79.60386473429952,
          -169.34126984126982,
          -58.21212121212121,
          108.0048309178744,
          167.36349206349206,
          -9.211111111111109,
          -34.60317460317464,
          -164.6183574879227,
          8.40952380952379,
          14.838095238095235,
          -92.35396825396825,
          -55.18055555555556,
          2.4539682539682524,
          11.826086956521738,
          -2.37936507936508,
          -5.134920634920636,
          -6.106349206349208,
          -23.468599033816425,
          8.803174603174604,
          -29.408496732026144,
          29.911111111111108,
          42.24637681159421,
          18.765079365079373,
          21.188888888888883,
          46.057142857142864,
          33.07729468599035,
          9.987301587301602,
          -136.53174603174602,
          -57.71794871794872,
          118.30793650793652,
          126.72463768115944,
          152.2888888888889,
          240.15238095238095,
          250.12560386473433,
          50.43015873015872,
          -68.15714285714286,
          -59.611111111111114,
          -19.444444444444443,
          64.43961352657004,
          235.20634920634922,
          -24.50746268656718,
          115.4396135265701,
          48.30158730158729,
          -31.54603174603176,
          -34.217460317460336,
          -130.0144927536232,
          -38.68888888888888,
          137.21256038647343,
          130.84603174603177,
          110.90634920634915,
          85.50724637681157,
          29.514285714285734,
          -20.92063492063494,
          -69.84057971014494,
          -189.61111111111111,
          -74.50769230769231,
          137.8301587301587,
          128.6873015873016,
          111.48309178743966,
          77.74126984126985,
          50.468253968253975,
          -35.31746031746036,
          -73.94202898550725,
          -186.3047619047619,
          -74.16666666666667,
          139.1174603174603,
          131.57460317460323,
          115.65700483091791,
          93.82698412698414,
          50.884126984126965,
          -29.884126984126965,
          36.434782608695684,
          -188.1174603174603,
          -49.815384615384616,
          100.1304347826087,
          208.3126984126984,
          146.03968253968253,
          101.15555555555557,
          54.38164251207729,
          6.2777777777777715,
          -59.00634920634923,
          -172.20158730158732,
          -66.14358974358974,
          28.053140096618357,
          49.98571428571428,
          76.85079365079366,
          -53.35265700483092,
          -6.088888888888874,
          -42.66507936507938,
          -29.91428571428571,
          -53.565217391304344,
          -29.996732026143793,
          131.8984126984127,
          128.56190476190477,
          116.41545893719803,
          99.47777777777782,
          50.80158730158735,
          0.21904761904761472,
          -60.574879227053145,
          -180.10476190476192,
          -76.82323232323232,
          -7.882352941176471,
          -10.515151515151516,
          0.02155887230514253,
          268.34299516908214,
          81.41269841269838,
          -151.8985507246377,
          -42.61746031746037,
          -185.37460317460318,
          -77.19316239316238,
          117.79047619047618,
          123.96618357487921,
          112.05714285714282,
          84.25873015873015,
          51.37681159420288,
          -1.8746031746031804,
          -63.40793650793654,
          -183.87460317460318,
          -74.22727272727273,
          126.56666666666668,
          129.95555555555552,
          107.12857142857143,
          12.584541062801918,
          5.86349206349206,
          -39.28888888888889,
          -73.4126984126984,
          -91.69565217391305,
          -52.52020202020202,
          36.289855072463766,
          143.45555555555558,
          -5.028571428571439,
          -50.025396825396825,
          0.014492753623187582,
          19.355555555555554,
          -50.86031746031746,
          -110.56038647342996,
          -52.02020202020202,
          105.4936507936508,
          105.59420289855075,
          123.25238095238097,
          93.0206349206349,
          27.444444444444457,
          -36.46825396825392,
          -44.96031746031747,
          -125.04126984126984,
          -65.8974358974359,
          128.3,
          124.46190476190478,
          11.590476190476181,
          -86.49275362318838,
          50.95873015873019,
          63.1015873015873,
          55.434920634920616,
          -54.24154589371981,
          -68.83838383838383,
          100.83492063492062,
          108.57004830917873,
          99.59523809523813,
          75.14126984126983,
          30.149206349206338,
          -22.985507246376812,
          -168.86190476190475,
          -95.82698412698412,
          -54.34660033167496,
          83.22705314009663,
          135.92222222222222,
          99.19047619047615,
          150.32367149758454,
          52.41269841269843,
          0.46507936507936165,
          -44.46190476190475,
          -145.62318840579712,
          -62.66500829187396,
          116.15714285714284,
          119.14009661835752,
          153.6396825396825,
          -118.32222222222225,
          -71.1159420289855,
          -20.092063492063488,
          -41.28019323671498,
          -77.46507936507938,
          -24.907692307692308,
          102.52539682539683,
          100.5265700483092,
          94.89999999999998,
          79.62857142857143,
          36.184126984126976,
          -38.99516908212564,
          -147.8396825396825,
          -113.56349206349206,
          -52.33838383838384,
          113.12698412698414,
          111.68599033816423,
          103.07301587301589,
          66.72063492063495,
          34.8647342995169,
          -11.796825396825398,
          -79.67619047619047,
          -159.56349206349205,
          -73.54545454545455,
          122.75873015873016,
          119.41587301587305,
          103.5169082125604,
          83.68095238095242,
          51.15238095238095,
          0.06280193236716514,
          -72.38888888888891,
          -179.19365079365082,
          -74.46969696969697,
          74.15238095238095,
          51.060317460317464,
          135.96618357487924,
          76.40317460317465,
          -100.86190476190473,
          -137.12698412698413,
          -161.19806763285027,
          -32.36190476190477,
          -12.933665008291875,
          97.09178743961351,
          111.96349206349208,
          90.76349206349204,
          17.380952380952408,
          13.888888888888857,
          -30.584126984126954,
          -63.94285714285712,
          -165.1690821256039,
          -84.82752902155887,
          116.94202898550725,
          113.07777777777778,
          91.42539682539677,
          71.27053140096615,
          33.45079365079363,
          -21.992063492063494,
          -71.70531400966183,
          -176.38412698412696,
          -93.3698175787728,
          73.43809523809523,
          139.792270531401,
          106.55079365079365,
          58.752380952380975,
          29.523809523809575,
          -15.555555555555543,
          -71.44444444444446,
          -175.54761904761904,
          -94.93864013266999,
          110.45714285714286,
          111.25714285714287,
          99.40579710144925,
          71.58730158730157,
          34.61746031746031,
          -15.390476190476193,
          -68.66666666666669,
          -169.73492063492063,
          -94.75252525252526,
          112.07142857142858,
          116.20289855072463,
          105.0253968253968,
          88.43492063492062,
          48.473015873015925,
          -3.1545893719806486,
          -64.28095238095239,
          -173.46984126984125,
          -93.54892205638474,
          111.84126984126983,
          121.44927536231884,
          112.7031746031746,
          76.76349206349204,
          -100.64251207729467,
          5.684126984126976,
          -107.23968253968252,
          -106.94761904761906,
          -76.92424242424242,
          90.12063492063493,
          119.80476190476193,
          10.90821256038646,
          -125.79523809523812,
          -59.90158730158731,
          -125.21428571428572,
          -78.34782608695653,
          -177.49523809523808,
          -75.21717171717171,
          103.43492063492062,
          112.38164251207729,
          113.72222222222223,
          86.51269841269846,
          45.99033816425123,
          -5.784126984126999,
          -75.17936507936508,
          -180.45396825396824,
          -99.74747474747474,
          102.6126984126984,
          114.61835748792274,
          106.62857142857143,
          83.66190476190474,
          45.14009661835752,
          -0.6873015873015902,
          -53.22698412698412,
          -171.68599033816423,
          -96.59701492537313,
          83.41746031746032,
          -2.642857142857139,
          -11.66183574879227,
          31.1079365079365,
          143.94126984126984,
          11.410628019323667,
          -157.4809523809524,
          -111.9095238095238,
          -49.515151515151516,
          94.23333333333333,
          75.18840579710144,
          7.02222222222224,
          122.54920634920632,
          54.68412698412692,
          -15.700483091787476,
          -60.3857142857143,
          -182.9714285714286,
          -109.27694859038142,
          59.77619047619047,
          183.96984126984125,
          142.4009661835749,
          79.87142857142862,
          33.03492063492064,
          -23.765079365079373,
          -73.72463768115944,
          -177.0809523809524,
          -108.29187396351576,
          91.77460317460316,
          113.66183574879227,
          116.21904761904761,
          47.565079365079384,
          15.26190476190476,
          -14.111111111111086,
          -168.02222222222224,
          -118.59841269841269,
          -73.76119402985074,
          91.97101449275361,
          113.44444444444446,
          105.07777777777778,
          81.01269841269846,
          39.67632850241546,
          -16.776190476190436,
          -78.66507936507935,
          -178.71980676328502
         ],
         "yaxis": "y"
        }
       ],
       "layout": {
        "height": 400,
        "template": {
         "data": {
          "bar": [
           {
            "error_x": {
             "color": "#2a3f5f"
            },
            "error_y": {
             "color": "#2a3f5f"
            },
            "marker": {
             "line": {
              "color": "#E5ECF6",
              "width": 0.5
             }
            },
            "type": "bar"
           }
          ],
          "barpolar": [
           {
            "marker": {
             "line": {
              "color": "#E5ECF6",
              "width": 0.5
             }
            },
            "type": "barpolar"
           }
          ],
          "carpet": [
           {
            "aaxis": {
             "endlinecolor": "#2a3f5f",
             "gridcolor": "white",
             "linecolor": "white",
             "minorgridcolor": "white",
             "startlinecolor": "#2a3f5f"
            },
            "baxis": {
             "endlinecolor": "#2a3f5f",
             "gridcolor": "white",
             "linecolor": "white",
             "minorgridcolor": "white",
             "startlinecolor": "#2a3f5f"
            },
            "type": "carpet"
           }
          ],
          "choropleth": [
           {
            "colorbar": {
             "outlinewidth": 0,
             "ticks": ""
            },
            "type": "choropleth"
           }
          ],
          "contour": [
           {
            "colorbar": {
             "outlinewidth": 0,
             "ticks": ""
            },
            "colorscale": [
             [
              0,
              "#0d0887"
             ],
             [
              0.1111111111111111,
              "#46039f"
             ],
             [
              0.2222222222222222,
              "#7201a8"
             ],
             [
              0.3333333333333333,
              "#9c179e"
             ],
             [
              0.4444444444444444,
              "#bd3786"
             ],
             [
              0.5555555555555556,
              "#d8576b"
             ],
             [
              0.6666666666666666,
              "#ed7953"
             ],
             [
              0.7777777777777778,
              "#fb9f3a"
             ],
             [
              0.8888888888888888,
              "#fdca26"
             ],
             [
              1,
              "#f0f921"
             ]
            ],
            "type": "contour"
           }
          ],
          "contourcarpet": [
           {
            "colorbar": {
             "outlinewidth": 0,
             "ticks": ""
            },
            "type": "contourcarpet"
           }
          ],
          "heatmap": [
           {
            "colorbar": {
             "outlinewidth": 0,
             "ticks": ""
            },
            "colorscale": [
             [
              0,
              "#0d0887"
             ],
             [
              0.1111111111111111,
              "#46039f"
             ],
             [
              0.2222222222222222,
              "#7201a8"
             ],
             [
              0.3333333333333333,
              "#9c179e"
             ],
             [
              0.4444444444444444,
              "#bd3786"
             ],
             [
              0.5555555555555556,
              "#d8576b"
             ],
             [
              0.6666666666666666,
              "#ed7953"
             ],
             [
              0.7777777777777778,
              "#fb9f3a"
             ],
             [
              0.8888888888888888,
              "#fdca26"
             ],
             [
              1,
              "#f0f921"
             ]
            ],
            "type": "heatmap"
           }
          ],
          "heatmapgl": [
           {
            "colorbar": {
             "outlinewidth": 0,
             "ticks": ""
            },
            "colorscale": [
             [
              0,
              "#0d0887"
             ],
             [
              0.1111111111111111,
              "#46039f"
             ],
             [
              0.2222222222222222,
              "#7201a8"
             ],
             [
              0.3333333333333333,
              "#9c179e"
             ],
             [
              0.4444444444444444,
              "#bd3786"
             ],
             [
              0.5555555555555556,
              "#d8576b"
             ],
             [
              0.6666666666666666,
              "#ed7953"
             ],
             [
              0.7777777777777778,
              "#fb9f3a"
             ],
             [
              0.8888888888888888,
              "#fdca26"
             ],
             [
              1,
              "#f0f921"
             ]
            ],
            "type": "heatmapgl"
           }
          ],
          "histogram": [
           {
            "marker": {
             "colorbar": {
              "outlinewidth": 0,
              "ticks": ""
             }
            },
            "type": "histogram"
           }
          ],
          "histogram2d": [
           {
            "colorbar": {
             "outlinewidth": 0,
             "ticks": ""
            },
            "colorscale": [
             [
              0,
              "#0d0887"
             ],
             [
              0.1111111111111111,
              "#46039f"
             ],
             [
              0.2222222222222222,
              "#7201a8"
             ],
             [
              0.3333333333333333,
              "#9c179e"
             ],
             [
              0.4444444444444444,
              "#bd3786"
             ],
             [
              0.5555555555555556,
              "#d8576b"
             ],
             [
              0.6666666666666666,
              "#ed7953"
             ],
             [
              0.7777777777777778,
              "#fb9f3a"
             ],
             [
              0.8888888888888888,
              "#fdca26"
             ],
             [
              1,
              "#f0f921"
             ]
            ],
            "type": "histogram2d"
           }
          ],
          "histogram2dcontour": [
           {
            "colorbar": {
             "outlinewidth": 0,
             "ticks": ""
            },
            "colorscale": [
             [
              0,
              "#0d0887"
             ],
             [
              0.1111111111111111,
              "#46039f"
             ],
             [
              0.2222222222222222,
              "#7201a8"
             ],
             [
              0.3333333333333333,
              "#9c179e"
             ],
             [
              0.4444444444444444,
              "#bd3786"
             ],
             [
              0.5555555555555556,
              "#d8576b"
             ],
             [
              0.6666666666666666,
              "#ed7953"
             ],
             [
              0.7777777777777778,
              "#fb9f3a"
             ],
             [
              0.8888888888888888,
              "#fdca26"
             ],
             [
              1,
              "#f0f921"
             ]
            ],
            "type": "histogram2dcontour"
           }
          ],
          "mesh3d": [
           {
            "colorbar": {
             "outlinewidth": 0,
             "ticks": ""
            },
            "type": "mesh3d"
           }
          ],
          "parcoords": [
           {
            "line": {
             "colorbar": {
              "outlinewidth": 0,
              "ticks": ""
             }
            },
            "type": "parcoords"
           }
          ],
          "pie": [
           {
            "automargin": true,
            "type": "pie"
           }
          ],
          "scatter": [
           {
            "marker": {
             "colorbar": {
              "outlinewidth": 0,
              "ticks": ""
             }
            },
            "type": "scatter"
           }
          ],
          "scatter3d": [
           {
            "line": {
             "colorbar": {
              "outlinewidth": 0,
              "ticks": ""
             }
            },
            "marker": {
             "colorbar": {
              "outlinewidth": 0,
              "ticks": ""
             }
            },
            "type": "scatter3d"
           }
          ],
          "scattercarpet": [
           {
            "marker": {
             "colorbar": {
              "outlinewidth": 0,
              "ticks": ""
             }
            },
            "type": "scattercarpet"
           }
          ],
          "scattergeo": [
           {
            "marker": {
             "colorbar": {
              "outlinewidth": 0,
              "ticks": ""
             }
            },
            "type": "scattergeo"
           }
          ],
          "scattergl": [
           {
            "marker": {
             "colorbar": {
              "outlinewidth": 0,
              "ticks": ""
             }
            },
            "type": "scattergl"
           }
          ],
          "scattermapbox": [
           {
            "marker": {
             "colorbar": {
              "outlinewidth": 0,
              "ticks": ""
             }
            },
            "type": "scattermapbox"
           }
          ],
          "scatterpolar": [
           {
            "marker": {
             "colorbar": {
              "outlinewidth": 0,
              "ticks": ""
             }
            },
            "type": "scatterpolar"
           }
          ],
          "scatterpolargl": [
           {
            "marker": {
             "colorbar": {
              "outlinewidth": 0,
              "ticks": ""
             }
            },
            "type": "scatterpolargl"
           }
          ],
          "scatterternary": [
           {
            "marker": {
             "colorbar": {
              "outlinewidth": 0,
              "ticks": ""
             }
            },
            "type": "scatterternary"
           }
          ],
          "surface": [
           {
            "colorbar": {
             "outlinewidth": 0,
             "ticks": ""
            },
            "colorscale": [
             [
              0,
              "#0d0887"
             ],
             [
              0.1111111111111111,
              "#46039f"
             ],
             [
              0.2222222222222222,
              "#7201a8"
             ],
             [
              0.3333333333333333,
              "#9c179e"
             ],
             [
              0.4444444444444444,
              "#bd3786"
             ],
             [
              0.5555555555555556,
              "#d8576b"
             ],
             [
              0.6666666666666666,
              "#ed7953"
             ],
             [
              0.7777777777777778,
              "#fb9f3a"
             ],
             [
              0.8888888888888888,
              "#fdca26"
             ],
             [
              1,
              "#f0f921"
             ]
            ],
            "type": "surface"
           }
          ],
          "table": [
           {
            "cells": {
             "fill": {
              "color": "#EBF0F8"
             },
             "line": {
              "color": "white"
             }
            },
            "header": {
             "fill": {
              "color": "#C8D4E3"
             },
             "line": {
              "color": "white"
             }
            },
            "type": "table"
           }
          ]
         },
         "layout": {
          "annotationdefaults": {
           "arrowcolor": "#2a3f5f",
           "arrowhead": 0,
           "arrowwidth": 1
          },
          "coloraxis": {
           "colorbar": {
            "outlinewidth": 0,
            "ticks": ""
           }
          },
          "colorscale": {
           "diverging": [
            [
             0,
             "#8e0152"
            ],
            [
             0.1,
             "#c51b7d"
            ],
            [
             0.2,
             "#de77ae"
            ],
            [
             0.3,
             "#f1b6da"
            ],
            [
             0.4,
             "#fde0ef"
            ],
            [
             0.5,
             "#f7f7f7"
            ],
            [
             0.6,
             "#e6f5d0"
            ],
            [
             0.7,
             "#b8e186"
            ],
            [
             0.8,
             "#7fbc41"
            ],
            [
             0.9,
             "#4d9221"
            ],
            [
             1,
             "#276419"
            ]
           ],
           "sequential": [
            [
             0,
             "#0d0887"
            ],
            [
             0.1111111111111111,
             "#46039f"
            ],
            [
             0.2222222222222222,
             "#7201a8"
            ],
            [
             0.3333333333333333,
             "#9c179e"
            ],
            [
             0.4444444444444444,
             "#bd3786"
            ],
            [
             0.5555555555555556,
             "#d8576b"
            ],
            [
             0.6666666666666666,
             "#ed7953"
            ],
            [
             0.7777777777777778,
             "#fb9f3a"
            ],
            [
             0.8888888888888888,
             "#fdca26"
            ],
            [
             1,
             "#f0f921"
            ]
           ],
           "sequentialminus": [
            [
             0,
             "#0d0887"
            ],
            [
             0.1111111111111111,
             "#46039f"
            ],
            [
             0.2222222222222222,
             "#7201a8"
            ],
            [
             0.3333333333333333,
             "#9c179e"
            ],
            [
             0.4444444444444444,
             "#bd3786"
            ],
            [
             0.5555555555555556,
             "#d8576b"
            ],
            [
             0.6666666666666666,
             "#ed7953"
            ],
            [
             0.7777777777777778,
             "#fb9f3a"
            ],
            [
             0.8888888888888888,
             "#fdca26"
            ],
            [
             1,
             "#f0f921"
            ]
           ]
          },
          "colorway": [
           "#636efa",
           "#EF553B",
           "#00cc96",
           "#ab63fa",
           "#FFA15A",
           "#19d3f3",
           "#FF6692",
           "#B6E880",
           "#FF97FF",
           "#FECB52"
          ],
          "font": {
           "color": "#2a3f5f"
          },
          "geo": {
           "bgcolor": "white",
           "lakecolor": "white",
           "landcolor": "#E5ECF6",
           "showlakes": true,
           "showland": true,
           "subunitcolor": "white"
          },
          "hoverlabel": {
           "align": "left"
          },
          "hovermode": "closest",
          "mapbox": {
           "style": "light"
          },
          "paper_bgcolor": "white",
          "plot_bgcolor": "#E5ECF6",
          "polar": {
           "angularaxis": {
            "gridcolor": "white",
            "linecolor": "white",
            "ticks": ""
           },
           "bgcolor": "#E5ECF6",
           "radialaxis": {
            "gridcolor": "white",
            "linecolor": "white",
            "ticks": ""
           }
          },
          "scene": {
           "xaxis": {
            "backgroundcolor": "#E5ECF6",
            "gridcolor": "white",
            "gridwidth": 2,
            "linecolor": "white",
            "showbackground": true,
            "ticks": "",
            "zerolinecolor": "white"
           },
           "yaxis": {
            "backgroundcolor": "#E5ECF6",
            "gridcolor": "white",
            "gridwidth": 2,
            "linecolor": "white",
            "showbackground": true,
            "ticks": "",
            "zerolinecolor": "white"
           },
           "zaxis": {
            "backgroundcolor": "#E5ECF6",
            "gridcolor": "white",
            "gridwidth": 2,
            "linecolor": "white",
            "showbackground": true,
            "ticks": "",
            "zerolinecolor": "white"
           }
          },
          "shapedefaults": {
           "line": {
            "color": "#2a3f5f"
           }
          },
          "ternary": {
           "aaxis": {
            "gridcolor": "white",
            "linecolor": "white",
            "ticks": ""
           },
           "baxis": {
            "gridcolor": "white",
            "linecolor": "white",
            "ticks": ""
           },
           "bgcolor": "#E5ECF6",
           "caxis": {
            "gridcolor": "white",
            "linecolor": "white",
            "ticks": ""
           }
          },
          "title": {
           "x": 0.05
          },
          "xaxis": {
           "automargin": true,
           "gridcolor": "white",
           "linecolor": "white",
           "ticks": "",
           "title": {
            "standoff": 15
           },
           "zerolinecolor": "white",
           "zerolinewidth": 2
          },
          "yaxis": {
           "automargin": true,
           "gridcolor": "white",
           "linecolor": "white",
           "ticks": "",
           "title": {
            "standoff": 15
           },
           "zerolinecolor": "white",
           "zerolinewidth": 2
          }
         }
        },
        "width": 800,
        "xaxis": {
         "anchor": "y",
         "domain": [
          0,
          0.94
         ]
        },
        "yaxis": {
         "anchor": "x",
         "domain": [
          0,
          1
         ]
        },
        "yaxis2": {
         "anchor": "x",
         "overlaying": "y",
         "side": "right"
        }
       }
      }
     },
     "metadata": {}
    }
   ],
   "source": [
    "test_diff = ent_other_joinset[:700]\n",
    "\n",
    "fig = make_subplots(specs=[[{\"secondary_y\": True}]])\n",
    "\n",
    "fig.add_trace(go.Scatter(x=test_diff.index, y=test_diff[\"diff\"], mode='lines', name=\"diff\", line=dict(color='blue')), secondary_y = False)\n",
    "fig.update_layout(width=800, height=400,)\n",
    "fig.show()\n"
   ]
  },
  {
   "source": [
    "        시간 단위로 나누어 기업의 일사량과 기상청의 일사량의 차이를 시각화 해보니 일정한 패턴이 있다.\n",
    "        \n",
    "        => 기업의 일사량은 시간 즉 해의 위치에 민감하게 반응을 하는데 비해 기상청의 일사량은 그렇지 않다\n",
    "           여기서 나오는 차이로 인하여 전체 MAPE가 높아진다.\n",
    "\n",
    "        => 해의 위치(시간)와 계절(=월 별)(계절에 따라 일출 일몰 시간이 달라짐)에 따라 보정값을 준다.(match_solar -> reset_match)"
   ],
   "cell_type": "markdown",
   "metadata": {}
  },
  {
   "cell_type": "code",
   "execution_count": 148,
   "metadata": {},
   "outputs": [
    {
     "output_type": "display_data",
     "data": {
      "text/plain": "<Figure size 864x360 with 9 Axes>",
      "image/svg+xml": "<?xml version=\"1.0\" encoding=\"utf-8\" standalone=\"no\"?>\r\n<!DOCTYPE svg PUBLIC \"-//W3C//DTD SVG 1.1//EN\"\r\n  \"http://www.w3.org/Graphics/SVG/1.1/DTD/svg11.dtd\">\r\n<!-- Created with matplotlib (https://matplotlib.org/) -->\r\n<svg height=\"306.358407pt\" version=\"1.1\" viewBox=\"0 0 716.45 306.358407\" width=\"716.45pt\" xmlns=\"http://www.w3.org/2000/svg\" xmlns:xlink=\"http://www.w3.org/1999/xlink\">\r\n <defs>\r\n  <style type=\"text/css\">\r\n*{stroke-linecap:butt;stroke-linejoin:round;}\r\n  </style>\r\n </defs>\r\n <g id=\"figure_1\">\r\n  <g id=\"patch_1\">\r\n   <path d=\"M 0 306.358407 \r\nL 716.45 306.358407 \r\nL 716.45 0 \r\nL 0 0 \r\nz\r\n\" style=\"fill:none;\"/>\r\n  </g>\r\n  <g id=\"axes_1\">\r\n   <g id=\"patch_2\">\r\n    <path d=\"M 39.65 90.343334 \r\nL 236.591176 90.343334 \r\nL 236.591176 10.402157 \r\nL 39.65 10.402157 \r\nz\r\n\" style=\"fill:#ffffff;\"/>\r\n   </g>\r\n   <g id=\"patch_3\">\r\n    <path clip-path=\"url(#p5608054c4b)\" d=\"M 49.497059 70.170347 \r\nL 128.273529 70.170347 \r\nL 128.273529 43.53536 \r\nL 49.497059 43.53536 \r\nL 49.497059 70.170347 \r\nz\r\n\" style=\"fill:#3274a1;stroke:#3f3f3f;stroke-linejoin:miter;stroke-width:1.5;\"/>\r\n   </g>\r\n   <g id=\"patch_4\">\r\n    <path clip-path=\"url(#p5608054c4b)\" d=\"M 147.967647 79.47476 \r\nL 226.744118 79.47476 \r\nL 226.744118 56.983707 \r\nL 147.967647 56.983707 \r\nL 147.967647 79.47476 \r\nz\r\n\" style=\"fill:#e1812c;stroke:#3f3f3f;stroke-linejoin:miter;stroke-width:1.5;\"/>\r\n   </g>\r\n   <g id=\"matplotlib.axis_1\">\r\n    <g id=\"xtick_1\">\r\n     <g id=\"line2d_1\">\r\n      <defs>\r\n       <path d=\"M 0 0 \r\nL 0 3.5 \r\n\" id=\"me9a0fe6619\" style=\"stroke:#000000;stroke-width:0.8;\"/>\r\n      </defs>\r\n      <g>\r\n       <use style=\"stroke:#000000;stroke-width:0.8;\" x=\"88.885294\" xlink:href=\"#me9a0fe6619\" y=\"90.343334\"/>\r\n      </g>\r\n     </g>\r\n     <g id=\"text_1\">\r\n      <!-- env_slopesolar -->\r\n      <defs>\r\n       <path d=\"M 56.203125 29.59375 \r\nL 56.203125 25.203125 \r\nL 14.890625 25.203125 \r\nQ 15.484375 15.921875 20.484375 11.0625 \r\nQ 25.484375 6.203125 34.421875 6.203125 \r\nQ 39.59375 6.203125 44.453125 7.46875 \r\nQ 49.3125 8.734375 54.109375 11.28125 \r\nL 54.109375 2.78125 \r\nQ 49.265625 0.734375 44.1875 -0.34375 \r\nQ 39.109375 -1.421875 33.890625 -1.421875 \r\nQ 20.796875 -1.421875 13.15625 6.1875 \r\nQ 5.515625 13.8125 5.515625 26.8125 \r\nQ 5.515625 40.234375 12.765625 48.109375 \r\nQ 20.015625 56 32.328125 56 \r\nQ 43.359375 56 49.78125 48.890625 \r\nQ 56.203125 41.796875 56.203125 29.59375 \r\nz\r\nM 47.21875 32.234375 \r\nQ 47.125 39.59375 43.09375 43.984375 \r\nQ 39.0625 48.390625 32.421875 48.390625 \r\nQ 24.90625 48.390625 20.390625 44.140625 \r\nQ 15.875 39.890625 15.1875 32.171875 \r\nz\r\n\" id=\"DejaVuSans-101\"/>\r\n       <path d=\"M 54.890625 33.015625 \r\nL 54.890625 0 \r\nL 45.90625 0 \r\nL 45.90625 32.71875 \r\nQ 45.90625 40.484375 42.875 44.328125 \r\nQ 39.84375 48.1875 33.796875 48.1875 \r\nQ 26.515625 48.1875 22.3125 43.546875 \r\nQ 18.109375 38.921875 18.109375 30.90625 \r\nL 18.109375 0 \r\nL 9.078125 0 \r\nL 9.078125 54.6875 \r\nL 18.109375 54.6875 \r\nL 18.109375 46.1875 \r\nQ 21.34375 51.125 25.703125 53.5625 \r\nQ 30.078125 56 35.796875 56 \r\nQ 45.21875 56 50.046875 50.171875 \r\nQ 54.890625 44.34375 54.890625 33.015625 \r\nz\r\n\" id=\"DejaVuSans-110\"/>\r\n       <path d=\"M 2.984375 54.6875 \r\nL 12.5 54.6875 \r\nL 29.59375 8.796875 \r\nL 46.6875 54.6875 \r\nL 56.203125 54.6875 \r\nL 35.6875 0 \r\nL 23.484375 0 \r\nz\r\n\" id=\"DejaVuSans-118\"/>\r\n       <path d=\"M 50.984375 -16.609375 \r\nL 50.984375 -23.578125 \r\nL -0.984375 -23.578125 \r\nL -0.984375 -16.609375 \r\nz\r\n\" id=\"DejaVuSans-95\"/>\r\n       <path d=\"M 44.28125 53.078125 \r\nL 44.28125 44.578125 \r\nQ 40.484375 46.53125 36.375 47.5 \r\nQ 32.28125 48.484375 27.875 48.484375 \r\nQ 21.1875 48.484375 17.84375 46.4375 \r\nQ 14.5 44.390625 14.5 40.28125 \r\nQ 14.5 37.15625 16.890625 35.375 \r\nQ 19.28125 33.59375 26.515625 31.984375 \r\nL 29.59375 31.296875 \r\nQ 39.15625 29.25 43.1875 25.515625 \r\nQ 47.21875 21.78125 47.21875 15.09375 \r\nQ 47.21875 7.46875 41.1875 3.015625 \r\nQ 35.15625 -1.421875 24.609375 -1.421875 \r\nQ 20.21875 -1.421875 15.453125 -0.5625 \r\nQ 10.6875 0.296875 5.421875 2 \r\nL 5.421875 11.28125 \r\nQ 10.40625 8.6875 15.234375 7.390625 \r\nQ 20.0625 6.109375 24.8125 6.109375 \r\nQ 31.15625 6.109375 34.5625 8.28125 \r\nQ 37.984375 10.453125 37.984375 14.40625 \r\nQ 37.984375 18.0625 35.515625 20.015625 \r\nQ 33.0625 21.96875 24.703125 23.78125 \r\nL 21.578125 24.515625 \r\nQ 13.234375 26.265625 9.515625 29.90625 \r\nQ 5.8125 33.546875 5.8125 39.890625 \r\nQ 5.8125 47.609375 11.28125 51.796875 \r\nQ 16.75 56 26.8125 56 \r\nQ 31.78125 56 36.171875 55.265625 \r\nQ 40.578125 54.546875 44.28125 53.078125 \r\nz\r\n\" id=\"DejaVuSans-115\"/>\r\n       <path d=\"M 9.421875 75.984375 \r\nL 18.40625 75.984375 \r\nL 18.40625 0 \r\nL 9.421875 0 \r\nz\r\n\" id=\"DejaVuSans-108\"/>\r\n       <path d=\"M 30.609375 48.390625 \r\nQ 23.390625 48.390625 19.1875 42.75 \r\nQ 14.984375 37.109375 14.984375 27.296875 \r\nQ 14.984375 17.484375 19.15625 11.84375 \r\nQ 23.34375 6.203125 30.609375 6.203125 \r\nQ 37.796875 6.203125 41.984375 11.859375 \r\nQ 46.1875 17.53125 46.1875 27.296875 \r\nQ 46.1875 37.015625 41.984375 42.703125 \r\nQ 37.796875 48.390625 30.609375 48.390625 \r\nz\r\nM 30.609375 56 \r\nQ 42.328125 56 49.015625 48.375 \r\nQ 55.71875 40.765625 55.71875 27.296875 \r\nQ 55.71875 13.875 49.015625 6.21875 \r\nQ 42.328125 -1.421875 30.609375 -1.421875 \r\nQ 18.84375 -1.421875 12.171875 6.21875 \r\nQ 5.515625 13.875 5.515625 27.296875 \r\nQ 5.515625 40.765625 12.171875 48.375 \r\nQ 18.84375 56 30.609375 56 \r\nz\r\n\" id=\"DejaVuSans-111\"/>\r\n       <path d=\"M 18.109375 8.203125 \r\nL 18.109375 -20.796875 \r\nL 9.078125 -20.796875 \r\nL 9.078125 54.6875 \r\nL 18.109375 54.6875 \r\nL 18.109375 46.390625 \r\nQ 20.953125 51.265625 25.265625 53.625 \r\nQ 29.59375 56 35.59375 56 \r\nQ 45.5625 56 51.78125 48.09375 \r\nQ 58.015625 40.1875 58.015625 27.296875 \r\nQ 58.015625 14.40625 51.78125 6.484375 \r\nQ 45.5625 -1.421875 35.59375 -1.421875 \r\nQ 29.59375 -1.421875 25.265625 0.953125 \r\nQ 20.953125 3.328125 18.109375 8.203125 \r\nz\r\nM 48.6875 27.296875 \r\nQ 48.6875 37.203125 44.609375 42.84375 \r\nQ 40.53125 48.484375 33.40625 48.484375 \r\nQ 26.265625 48.484375 22.1875 42.84375 \r\nQ 18.109375 37.203125 18.109375 27.296875 \r\nQ 18.109375 17.390625 22.1875 11.75 \r\nQ 26.265625 6.109375 33.40625 6.109375 \r\nQ 40.53125 6.109375 44.609375 11.75 \r\nQ 48.6875 17.390625 48.6875 27.296875 \r\nz\r\n\" id=\"DejaVuSans-112\"/>\r\n       <path d=\"M 34.28125 27.484375 \r\nQ 23.390625 27.484375 19.1875 25 \r\nQ 14.984375 22.515625 14.984375 16.5 \r\nQ 14.984375 11.71875 18.140625 8.90625 \r\nQ 21.296875 6.109375 26.703125 6.109375 \r\nQ 34.1875 6.109375 38.703125 11.40625 \r\nQ 43.21875 16.703125 43.21875 25.484375 \r\nL 43.21875 27.484375 \r\nz\r\nM 52.203125 31.203125 \r\nL 52.203125 0 \r\nL 43.21875 0 \r\nL 43.21875 8.296875 \r\nQ 40.140625 3.328125 35.546875 0.953125 \r\nQ 30.953125 -1.421875 24.3125 -1.421875 \r\nQ 15.921875 -1.421875 10.953125 3.296875 \r\nQ 6 8.015625 6 15.921875 \r\nQ 6 25.140625 12.171875 29.828125 \r\nQ 18.359375 34.515625 30.609375 34.515625 \r\nL 43.21875 34.515625 \r\nL 43.21875 35.40625 \r\nQ 43.21875 41.609375 39.140625 45 \r\nQ 35.0625 48.390625 27.6875 48.390625 \r\nQ 23 48.390625 18.546875 47.265625 \r\nQ 14.109375 46.140625 10.015625 43.890625 \r\nL 10.015625 52.203125 \r\nQ 14.9375 54.109375 19.578125 55.046875 \r\nQ 24.21875 56 28.609375 56 \r\nQ 40.484375 56 46.34375 49.84375 \r\nQ 52.203125 43.703125 52.203125 31.203125 \r\nz\r\n\" id=\"DejaVuSans-97\"/>\r\n       <path d=\"M 41.109375 46.296875 \r\nQ 39.59375 47.171875 37.8125 47.578125 \r\nQ 36.03125 48 33.890625 48 \r\nQ 26.265625 48 22.1875 43.046875 \r\nQ 18.109375 38.09375 18.109375 28.8125 \r\nL 18.109375 0 \r\nL 9.078125 0 \r\nL 9.078125 54.6875 \r\nL 18.109375 54.6875 \r\nL 18.109375 46.1875 \r\nQ 20.953125 51.171875 25.484375 53.578125 \r\nQ 30.03125 56 36.53125 56 \r\nQ 37.453125 56 38.578125 55.875 \r\nQ 39.703125 55.765625 41.0625 55.515625 \r\nz\r\n\" id=\"DejaVuSans-114\"/>\r\n      </defs>\r\n      <g transform=\"translate(51.704044 104.941771)scale(0.1 -0.1)\">\r\n       <use xlink:href=\"#DejaVuSans-101\"/>\r\n       <use x=\"61.523438\" xlink:href=\"#DejaVuSans-110\"/>\r\n       <use x=\"124.902344\" xlink:href=\"#DejaVuSans-118\"/>\r\n       <use x=\"184.082031\" xlink:href=\"#DejaVuSans-95\"/>\r\n       <use x=\"234.082031\" xlink:href=\"#DejaVuSans-115\"/>\r\n       <use x=\"286.181641\" xlink:href=\"#DejaVuSans-108\"/>\r\n       <use x=\"313.964844\" xlink:href=\"#DejaVuSans-111\"/>\r\n       <use x=\"375.146484\" xlink:href=\"#DejaVuSans-112\"/>\r\n       <use x=\"438.623047\" xlink:href=\"#DejaVuSans-101\"/>\r\n       <use x=\"500.146484\" xlink:href=\"#DejaVuSans-115\"/>\r\n       <use x=\"552.246094\" xlink:href=\"#DejaVuSans-111\"/>\r\n       <use x=\"613.427734\" xlink:href=\"#DejaVuSans-108\"/>\r\n       <use x=\"641.210938\" xlink:href=\"#DejaVuSans-97\"/>\r\n       <use x=\"702.490234\" xlink:href=\"#DejaVuSans-114\"/>\r\n      </g>\r\n     </g>\r\n    </g>\r\n    <g id=\"xtick_2\">\r\n     <g id=\"line2d_2\">\r\n      <g>\r\n       <use style=\"stroke:#000000;stroke-width:0.8;\" x=\"187.355882\" xlink:href=\"#me9a0fe6619\" y=\"90.343334\"/>\r\n      </g>\r\n     </g>\r\n     <g id=\"text_2\">\r\n      <!-- match_solar -->\r\n      <defs>\r\n       <path d=\"M 52 44.1875 \r\nQ 55.375 50.25 60.0625 53.125 \r\nQ 64.75 56 71.09375 56 \r\nQ 79.640625 56 84.28125 50.015625 \r\nQ 88.921875 44.046875 88.921875 33.015625 \r\nL 88.921875 0 \r\nL 79.890625 0 \r\nL 79.890625 32.71875 \r\nQ 79.890625 40.578125 77.09375 44.375 \r\nQ 74.3125 48.1875 68.609375 48.1875 \r\nQ 61.625 48.1875 57.5625 43.546875 \r\nQ 53.515625 38.921875 53.515625 30.90625 \r\nL 53.515625 0 \r\nL 44.484375 0 \r\nL 44.484375 32.71875 \r\nQ 44.484375 40.625 41.703125 44.40625 \r\nQ 38.921875 48.1875 33.109375 48.1875 \r\nQ 26.21875 48.1875 22.15625 43.53125 \r\nQ 18.109375 38.875 18.109375 30.90625 \r\nL 18.109375 0 \r\nL 9.078125 0 \r\nL 9.078125 54.6875 \r\nL 18.109375 54.6875 \r\nL 18.109375 46.1875 \r\nQ 21.1875 51.21875 25.484375 53.609375 \r\nQ 29.78125 56 35.6875 56 \r\nQ 41.65625 56 45.828125 52.96875 \r\nQ 50 49.953125 52 44.1875 \r\nz\r\n\" id=\"DejaVuSans-109\"/>\r\n       <path d=\"M 18.3125 70.21875 \r\nL 18.3125 54.6875 \r\nL 36.8125 54.6875 \r\nL 36.8125 47.703125 \r\nL 18.3125 47.703125 \r\nL 18.3125 18.015625 \r\nQ 18.3125 11.328125 20.140625 9.421875 \r\nQ 21.96875 7.515625 27.59375 7.515625 \r\nL 36.8125 7.515625 \r\nL 36.8125 0 \r\nL 27.59375 0 \r\nQ 17.1875 0 13.234375 3.875 \r\nQ 9.28125 7.765625 9.28125 18.015625 \r\nL 9.28125 47.703125 \r\nL 2.6875 47.703125 \r\nL 2.6875 54.6875 \r\nL 9.28125 54.6875 \r\nL 9.28125 70.21875 \r\nz\r\n\" id=\"DejaVuSans-116\"/>\r\n       <path d=\"M 48.78125 52.59375 \r\nL 48.78125 44.1875 \r\nQ 44.96875 46.296875 41.140625 47.34375 \r\nQ 37.3125 48.390625 33.40625 48.390625 \r\nQ 24.65625 48.390625 19.8125 42.84375 \r\nQ 14.984375 37.3125 14.984375 27.296875 \r\nQ 14.984375 17.28125 19.8125 11.734375 \r\nQ 24.65625 6.203125 33.40625 6.203125 \r\nQ 37.3125 6.203125 41.140625 7.25 \r\nQ 44.96875 8.296875 48.78125 10.40625 \r\nL 48.78125 2.09375 \r\nQ 45.015625 0.34375 40.984375 -0.53125 \r\nQ 36.96875 -1.421875 32.421875 -1.421875 \r\nQ 20.0625 -1.421875 12.78125 6.34375 \r\nQ 5.515625 14.109375 5.515625 27.296875 \r\nQ 5.515625 40.671875 12.859375 48.328125 \r\nQ 20.21875 56 33.015625 56 \r\nQ 37.15625 56 41.109375 55.140625 \r\nQ 45.0625 54.296875 48.78125 52.59375 \r\nz\r\n\" id=\"DejaVuSans-99\"/>\r\n       <path d=\"M 54.890625 33.015625 \r\nL 54.890625 0 \r\nL 45.90625 0 \r\nL 45.90625 32.71875 \r\nQ 45.90625 40.484375 42.875 44.328125 \r\nQ 39.84375 48.1875 33.796875 48.1875 \r\nQ 26.515625 48.1875 22.3125 43.546875 \r\nQ 18.109375 38.921875 18.109375 30.90625 \r\nL 18.109375 0 \r\nL 9.078125 0 \r\nL 9.078125 75.984375 \r\nL 18.109375 75.984375 \r\nL 18.109375 46.1875 \r\nQ 21.34375 51.125 25.703125 53.5625 \r\nQ 30.078125 56 35.796875 56 \r\nQ 45.21875 56 50.046875 50.171875 \r\nQ 54.890625 44.34375 54.890625 33.015625 \r\nz\r\n\" id=\"DejaVuSans-104\"/>\r\n      </defs>\r\n      <g transform=\"translate(156.870726 104.941771)scale(0.1 -0.1)\">\r\n       <use xlink:href=\"#DejaVuSans-109\"/>\r\n       <use x=\"97.412109\" xlink:href=\"#DejaVuSans-97\"/>\r\n       <use x=\"158.691406\" xlink:href=\"#DejaVuSans-116\"/>\r\n       <use x=\"197.900391\" xlink:href=\"#DejaVuSans-99\"/>\r\n       <use x=\"252.880859\" xlink:href=\"#DejaVuSans-104\"/>\r\n       <use x=\"316.259766\" xlink:href=\"#DejaVuSans-95\"/>\r\n       <use x=\"366.259766\" xlink:href=\"#DejaVuSans-115\"/>\r\n       <use x=\"418.359375\" xlink:href=\"#DejaVuSans-111\"/>\r\n       <use x=\"479.541016\" xlink:href=\"#DejaVuSans-108\"/>\r\n       <use x=\"507.324219\" xlink:href=\"#DejaVuSans-97\"/>\r\n       <use x=\"568.603516\" xlink:href=\"#DejaVuSans-114\"/>\r\n      </g>\r\n     </g>\r\n    </g>\r\n   </g>\r\n   <g id=\"matplotlib.axis_2\">\r\n    <g id=\"ytick_1\">\r\n     <g id=\"line2d_3\">\r\n      <defs>\r\n       <path d=\"M 0 0 \r\nL -3.5 0 \r\n\" id=\"m4f382049cf\" style=\"stroke:#000000;stroke-width:0.8;\"/>\r\n      </defs>\r\n      <g>\r\n       <use style=\"stroke:#000000;stroke-width:0.8;\" x=\"39.65\" xlink:href=\"#m4f382049cf\" y=\"87.024204\"/>\r\n      </g>\r\n     </g>\r\n     <g id=\"text_3\">\r\n      <!-- 0 -->\r\n      <defs>\r\n       <path d=\"M 31.78125 66.40625 \r\nQ 24.171875 66.40625 20.328125 58.90625 \r\nQ 16.5 51.421875 16.5 36.375 \r\nQ 16.5 21.390625 20.328125 13.890625 \r\nQ 24.171875 6.390625 31.78125 6.390625 \r\nQ 39.453125 6.390625 43.28125 13.890625 \r\nQ 47.125 21.390625 47.125 36.375 \r\nQ 47.125 51.421875 43.28125 58.90625 \r\nQ 39.453125 66.40625 31.78125 66.40625 \r\nz\r\nM 31.78125 74.21875 \r\nQ 44.046875 74.21875 50.515625 64.515625 \r\nQ 56.984375 54.828125 56.984375 36.375 \r\nQ 56.984375 17.96875 50.515625 8.265625 \r\nQ 44.046875 -1.421875 31.78125 -1.421875 \r\nQ 19.53125 -1.421875 13.0625 8.265625 \r\nQ 6.59375 17.96875 6.59375 36.375 \r\nQ 6.59375 54.828125 13.0625 64.515625 \r\nQ 19.53125 74.21875 31.78125 74.21875 \r\nz\r\n\" id=\"DejaVuSans-48\"/>\r\n      </defs>\r\n      <g transform=\"translate(26.2875 90.823423)scale(0.1 -0.1)\">\r\n       <use xlink:href=\"#DejaVuSans-48\"/>\r\n      </g>\r\n     </g>\r\n    </g>\r\n    <g id=\"ytick_2\">\r\n     <g id=\"line2d_4\">\r\n      <g>\r\n       <use style=\"stroke:#000000;stroke-width:0.8;\" x=\"39.65\" xlink:href=\"#m4f382049cf\" y=\"58.713788\"/>\r\n      </g>\r\n     </g>\r\n     <g id=\"text_4\">\r\n      <!-- 250 -->\r\n      <defs>\r\n       <path d=\"M 19.1875 8.296875 \r\nL 53.609375 8.296875 \r\nL 53.609375 0 \r\nL 7.328125 0 \r\nL 7.328125 8.296875 \r\nQ 12.9375 14.109375 22.625 23.890625 \r\nQ 32.328125 33.6875 34.8125 36.53125 \r\nQ 39.546875 41.84375 41.421875 45.53125 \r\nQ 43.3125 49.21875 43.3125 52.78125 \r\nQ 43.3125 58.59375 39.234375 62.25 \r\nQ 35.15625 65.921875 28.609375 65.921875 \r\nQ 23.96875 65.921875 18.8125 64.3125 \r\nQ 13.671875 62.703125 7.8125 59.421875 \r\nL 7.8125 69.390625 \r\nQ 13.765625 71.78125 18.9375 73 \r\nQ 24.125 74.21875 28.421875 74.21875 \r\nQ 39.75 74.21875 46.484375 68.546875 \r\nQ 53.21875 62.890625 53.21875 53.421875 \r\nQ 53.21875 48.921875 51.53125 44.890625 \r\nQ 49.859375 40.875 45.40625 35.40625 \r\nQ 44.1875 33.984375 37.640625 27.21875 \r\nQ 31.109375 20.453125 19.1875 8.296875 \r\nz\r\n\" id=\"DejaVuSans-50\"/>\r\n       <path d=\"M 10.796875 72.90625 \r\nL 49.515625 72.90625 \r\nL 49.515625 64.59375 \r\nL 19.828125 64.59375 \r\nL 19.828125 46.734375 \r\nQ 21.96875 47.46875 24.109375 47.828125 \r\nQ 26.265625 48.1875 28.421875 48.1875 \r\nQ 40.625 48.1875 47.75 41.5 \r\nQ 54.890625 34.8125 54.890625 23.390625 \r\nQ 54.890625 11.625 47.5625 5.09375 \r\nQ 40.234375 -1.421875 26.90625 -1.421875 \r\nQ 22.3125 -1.421875 17.546875 -0.640625 \r\nQ 12.796875 0.140625 7.71875 1.703125 \r\nL 7.71875 11.625 \r\nQ 12.109375 9.234375 16.796875 8.0625 \r\nQ 21.484375 6.890625 26.703125 6.890625 \r\nQ 35.15625 6.890625 40.078125 11.328125 \r\nQ 45.015625 15.765625 45.015625 23.390625 \r\nQ 45.015625 31 40.078125 35.4375 \r\nQ 35.15625 39.890625 26.703125 39.890625 \r\nQ 22.75 39.890625 18.8125 39.015625 \r\nQ 14.890625 38.140625 10.796875 36.28125 \r\nz\r\n\" id=\"DejaVuSans-53\"/>\r\n      </defs>\r\n      <g transform=\"translate(13.5625 62.513006)scale(0.1 -0.1)\">\r\n       <use xlink:href=\"#DejaVuSans-50\"/>\r\n       <use x=\"63.623047\" xlink:href=\"#DejaVuSans-53\"/>\r\n       <use x=\"127.246094\" xlink:href=\"#DejaVuSans-48\"/>\r\n      </g>\r\n     </g>\r\n    </g>\r\n    <g id=\"ytick_3\">\r\n     <g id=\"line2d_5\">\r\n      <g>\r\n       <use style=\"stroke:#000000;stroke-width:0.8;\" x=\"39.65\" xlink:href=\"#m4f382049cf\" y=\"30.403371\"/>\r\n      </g>\r\n     </g>\r\n     <g id=\"text_5\">\r\n      <!-- 500 -->\r\n      <g transform=\"translate(13.5625 34.20259)scale(0.1 -0.1)\">\r\n       <use xlink:href=\"#DejaVuSans-53\"/>\r\n       <use x=\"63.623047\" xlink:href=\"#DejaVuSans-48\"/>\r\n       <use x=\"127.246094\" xlink:href=\"#DejaVuSans-48\"/>\r\n      </g>\r\n     </g>\r\n    </g>\r\n   </g>\r\n   <g id=\"line2d_6\">\r\n    <path clip-path=\"url(#p5608054c4b)\" d=\"M 88.885294 70.170347 \r\nL 88.885294 85.006885 \r\n\" style=\"fill:none;stroke:#3f3f3f;stroke-linecap:square;stroke-width:1.5;\"/>\r\n   </g>\r\n   <g id=\"line2d_7\">\r\n    <path clip-path=\"url(#p5608054c4b)\" d=\"M 88.885294 43.53536 \r\nL 88.885294 14.035847 \r\n\" style=\"fill:none;stroke:#3f3f3f;stroke-linecap:square;stroke-width:1.5;\"/>\r\n   </g>\r\n   <g id=\"line2d_8\">\r\n    <path clip-path=\"url(#p5608054c4b)\" d=\"M 69.191176 85.006885 \r\nL 108.579412 85.006885 \r\n\" style=\"fill:none;stroke:#3f3f3f;stroke-linecap:square;stroke-width:1.5;\"/>\r\n   </g>\r\n   <g id=\"line2d_9\">\r\n    <path clip-path=\"url(#p5608054c4b)\" d=\"M 69.191176 14.035847 \r\nL 108.579412 14.035847 \r\n\" style=\"fill:none;stroke:#3f3f3f;stroke-linecap:square;stroke-width:1.5;\"/>\r\n   </g>\r\n   <g id=\"line2d_10\"/>\r\n   <g id=\"line2d_11\">\r\n    <path clip-path=\"url(#p5608054c4b)\" d=\"M 187.355882 79.47476 \r\nL 187.355882 86.709644 \r\n\" style=\"fill:none;stroke:#3f3f3f;stroke-linecap:square;stroke-width:1.5;\"/>\r\n   </g>\r\n   <g id=\"line2d_12\">\r\n    <path clip-path=\"url(#p5608054c4b)\" d=\"M 187.355882 56.983707 \r\nL 187.355882 24.426727 \r\n\" style=\"fill:none;stroke:#3f3f3f;stroke-linecap:square;stroke-width:1.5;\"/>\r\n   </g>\r\n   <g id=\"line2d_13\">\r\n    <path clip-path=\"url(#p5608054c4b)\" d=\"M 167.661765 86.709644 \r\nL 207.05 86.709644 \r\n\" style=\"fill:none;stroke:#3f3f3f;stroke-linecap:square;stroke-width:1.5;\"/>\r\n   </g>\r\n   <g id=\"line2d_14\">\r\n    <path clip-path=\"url(#p5608054c4b)\" d=\"M 167.661765 24.426727 \r\nL 207.05 24.426727 \r\n\" style=\"fill:none;stroke:#3f3f3f;stroke-linecap:square;stroke-width:1.5;\"/>\r\n   </g>\r\n   <g id=\"line2d_15\">\r\n    <defs>\r\n     <path d=\"M 0 3.535534 \r\nL 2.12132 0 \r\nL 0 -3.535534 \r\nL -2.12132 0 \r\nz\r\n\" id=\"m52550ee77b\" style=\"stroke:#3f3f3f;stroke-linejoin:miter;\"/>\r\n    </defs>\r\n    <g clip-path=\"url(#p5608054c4b)\">\r\n     <use style=\"fill:#3f3f3f;stroke:#3f3f3f;stroke-linejoin:miter;\" x=\"187.355882\" xlink:href=\"#m52550ee77b\" y=\"21.910246\"/>\r\n    </g>\r\n   </g>\r\n   <g id=\"line2d_16\">\r\n    <path clip-path=\"url(#p5608054c4b)\" d=\"M 49.497059 62.034817 \r\nL 128.273529 62.034817 \r\n\" style=\"fill:none;stroke:#3f3f3f;stroke-linecap:square;stroke-width:1.5;\"/>\r\n   </g>\r\n   <g id=\"line2d_17\">\r\n    <path clip-path=\"url(#p5608054c4b)\" d=\"M 147.967647 72.868996 \r\nL 226.744118 72.868996 \r\n\" style=\"fill:none;stroke:#3f3f3f;stroke-linecap:square;stroke-width:1.5;\"/>\r\n   </g>\r\n   <g id=\"patch_5\">\r\n    <path d=\"M 39.65 90.343334 \r\nL 39.65 10.402157 \r\n\" style=\"fill:none;stroke:#000000;stroke-linecap:square;stroke-linejoin:miter;stroke-width:0.8;\"/>\r\n   </g>\r\n   <g id=\"patch_6\">\r\n    <path d=\"M 236.591176 90.343334 \r\nL 236.591176 10.402157 \r\n\" style=\"fill:none;stroke:#000000;stroke-linecap:square;stroke-linejoin:miter;stroke-width:0.8;\"/>\r\n   </g>\r\n   <g id=\"patch_7\">\r\n    <path d=\"M 39.65 90.343334 \r\nL 236.591176 90.343334 \r\n\" style=\"fill:none;stroke:#000000;stroke-linecap:square;stroke-linejoin:miter;stroke-width:0.8;\"/>\r\n   </g>\r\n   <g id=\"patch_8\">\r\n    <path d=\"M 39.65 10.402157 \r\nL 236.591176 10.402157 \r\n\" style=\"fill:none;stroke:#000000;stroke-linecap:square;stroke-linejoin:miter;stroke-width:0.8;\"/>\r\n   </g>\r\n  </g>\r\n  <g id=\"axes_2\">\r\n   <g id=\"patch_9\">\r\n    <path d=\"M 275.979412 90.343334 \r\nL 472.920588 90.343334 \r\nL 472.920588 10.402157 \r\nL 275.979412 10.402157 \r\nz\r\n\" style=\"fill:#ffffff;\"/>\r\n   </g>\r\n   <g id=\"patch_10\">\r\n    <path clip-path=\"url(#pfce54ef6fe)\" d=\"M 285.826471 65.462468 \r\nL 364.602941 65.462468 \r\nL 364.602941 38.57437 \r\nL 285.826471 38.57437 \r\nL 285.826471 65.462468 \r\nz\r\n\" style=\"fill:#3274a1;stroke:#3f3f3f;stroke-linejoin:miter;stroke-width:1.5;\"/>\r\n   </g>\r\n   <g id=\"patch_11\">\r\n    <path clip-path=\"url(#pfce54ef6fe)\" d=\"M 384.297059 73.323246 \r\nL 463.073529 73.323246 \r\nL 463.073529 49.060401 \r\nL 384.297059 49.060401 \r\nL 384.297059 73.323246 \r\nz\r\n\" style=\"fill:#e1812c;stroke:#3f3f3f;stroke-linejoin:miter;stroke-width:1.5;\"/>\r\n   </g>\r\n   <g id=\"matplotlib.axis_3\">\r\n    <g id=\"xtick_3\">\r\n     <g id=\"line2d_18\">\r\n      <g>\r\n       <use style=\"stroke:#000000;stroke-width:0.8;\" x=\"325.214706\" xlink:href=\"#me9a0fe6619\" y=\"90.343334\"/>\r\n      </g>\r\n     </g>\r\n     <g id=\"text_6\">\r\n      <!-- env_slopesolar -->\r\n      <g transform=\"translate(288.033456 104.941771)scale(0.1 -0.1)\">\r\n       <use xlink:href=\"#DejaVuSans-101\"/>\r\n       <use x=\"61.523438\" xlink:href=\"#DejaVuSans-110\"/>\r\n       <use x=\"124.902344\" xlink:href=\"#DejaVuSans-118\"/>\r\n       <use x=\"184.082031\" xlink:href=\"#DejaVuSans-95\"/>\r\n       <use x=\"234.082031\" xlink:href=\"#DejaVuSans-115\"/>\r\n       <use x=\"286.181641\" xlink:href=\"#DejaVuSans-108\"/>\r\n       <use x=\"313.964844\" xlink:href=\"#DejaVuSans-111\"/>\r\n       <use x=\"375.146484\" xlink:href=\"#DejaVuSans-112\"/>\r\n       <use x=\"438.623047\" xlink:href=\"#DejaVuSans-101\"/>\r\n       <use x=\"500.146484\" xlink:href=\"#DejaVuSans-115\"/>\r\n       <use x=\"552.246094\" xlink:href=\"#DejaVuSans-111\"/>\r\n       <use x=\"613.427734\" xlink:href=\"#DejaVuSans-108\"/>\r\n       <use x=\"641.210938\" xlink:href=\"#DejaVuSans-97\"/>\r\n       <use x=\"702.490234\" xlink:href=\"#DejaVuSans-114\"/>\r\n      </g>\r\n     </g>\r\n    </g>\r\n    <g id=\"xtick_4\">\r\n     <g id=\"line2d_19\">\r\n      <g>\r\n       <use style=\"stroke:#000000;stroke-width:0.8;\" x=\"423.685294\" xlink:href=\"#me9a0fe6619\" y=\"90.343334\"/>\r\n      </g>\r\n     </g>\r\n     <g id=\"text_7\">\r\n      <!-- match_solar -->\r\n      <g transform=\"translate(393.200138 104.941771)scale(0.1 -0.1)\">\r\n       <use xlink:href=\"#DejaVuSans-109\"/>\r\n       <use x=\"97.412109\" xlink:href=\"#DejaVuSans-97\"/>\r\n       <use x=\"158.691406\" xlink:href=\"#DejaVuSans-116\"/>\r\n       <use x=\"197.900391\" xlink:href=\"#DejaVuSans-99\"/>\r\n       <use x=\"252.880859\" xlink:href=\"#DejaVuSans-104\"/>\r\n       <use x=\"316.259766\" xlink:href=\"#DejaVuSans-95\"/>\r\n       <use x=\"366.259766\" xlink:href=\"#DejaVuSans-115\"/>\r\n       <use x=\"418.359375\" xlink:href=\"#DejaVuSans-111\"/>\r\n       <use x=\"479.541016\" xlink:href=\"#DejaVuSans-108\"/>\r\n       <use x=\"507.324219\" xlink:href=\"#DejaVuSans-97\"/>\r\n       <use x=\"568.603516\" xlink:href=\"#DejaVuSans-114\"/>\r\n      </g>\r\n     </g>\r\n    </g>\r\n   </g>\r\n   <g id=\"matplotlib.axis_4\">\r\n    <g id=\"ytick_4\">\r\n     <g id=\"line2d_20\">\r\n      <g>\r\n       <use style=\"stroke:#000000;stroke-width:0.8;\" x=\"275.979412\" xlink:href=\"#m4f382049cf\" y=\"86.709644\"/>\r\n      </g>\r\n     </g>\r\n     <g id=\"text_8\">\r\n      <!-- 0 -->\r\n      <g transform=\"translate(262.616912 90.508863)scale(0.1 -0.1)\">\r\n       <use xlink:href=\"#DejaVuSans-48\"/>\r\n      </g>\r\n     </g>\r\n    </g>\r\n    <g id=\"ytick_5\">\r\n     <g id=\"line2d_21\">\r\n      <g>\r\n       <use style=\"stroke:#000000;stroke-width:0.8;\" x=\"275.979412\" xlink:href=\"#m4f382049cf\" y=\"43.681937\"/>\r\n      </g>\r\n     </g>\r\n     <g id=\"text_9\">\r\n      <!-- 500 -->\r\n      <g transform=\"translate(249.891912 47.481156)scale(0.1 -0.1)\">\r\n       <use xlink:href=\"#DejaVuSans-53\"/>\r\n       <use x=\"63.623047\" xlink:href=\"#DejaVuSans-48\"/>\r\n       <use x=\"127.246094\" xlink:href=\"#DejaVuSans-48\"/>\r\n      </g>\r\n     </g>\r\n    </g>\r\n   </g>\r\n   <g id=\"line2d_22\">\r\n    <path clip-path=\"url(#pfce54ef6fe)\" d=\"M 325.214706 65.462468 \r\nL 325.214706 85.463144 \r\n\" style=\"fill:none;stroke:#3f3f3f;stroke-linecap:square;stroke-width:1.5;\"/>\r\n   </g>\r\n   <g id=\"line2d_23\">\r\n    <path clip-path=\"url(#pfce54ef6fe)\" d=\"M 325.214706 38.57437 \r\nL 325.214706 14.035847 \r\n\" style=\"fill:none;stroke:#3f3f3f;stroke-linecap:square;stroke-width:1.5;\"/>\r\n   </g>\r\n   <g id=\"line2d_24\">\r\n    <path clip-path=\"url(#pfce54ef6fe)\" d=\"M 305.520588 85.463144 \r\nL 344.908824 85.463144 \r\n\" style=\"fill:none;stroke:#3f3f3f;stroke-linecap:square;stroke-width:1.5;\"/>\r\n   </g>\r\n   <g id=\"line2d_25\">\r\n    <path clip-path=\"url(#pfce54ef6fe)\" d=\"M 305.520588 14.035847 \r\nL 344.908824 14.035847 \r\n\" style=\"fill:none;stroke:#3f3f3f;stroke-linecap:square;stroke-width:1.5;\"/>\r\n   </g>\r\n   <g id=\"line2d_26\"/>\r\n   <g id=\"line2d_27\">\r\n    <path clip-path=\"url(#pfce54ef6fe)\" d=\"M 423.685294 73.323246 \r\nL 423.685294 86.709644 \r\n\" style=\"fill:none;stroke:#3f3f3f;stroke-linecap:square;stroke-width:1.5;\"/>\r\n   </g>\r\n   <g id=\"line2d_28\">\r\n    <path clip-path=\"url(#pfce54ef6fe)\" d=\"M 423.685294 49.060401 \r\nL 423.685294 22.646169 \r\n\" style=\"fill:none;stroke:#3f3f3f;stroke-linecap:square;stroke-width:1.5;\"/>\r\n   </g>\r\n   <g id=\"line2d_29\">\r\n    <path clip-path=\"url(#pfce54ef6fe)\" d=\"M 403.991176 86.709644 \r\nL 443.379412 86.709644 \r\n\" style=\"fill:none;stroke:#3f3f3f;stroke-linecap:square;stroke-width:1.5;\"/>\r\n   </g>\r\n   <g id=\"line2d_30\">\r\n    <path clip-path=\"url(#pfce54ef6fe)\" d=\"M 403.991176 22.646169 \r\nL 443.379412 22.646169 \r\n\" style=\"fill:none;stroke:#3f3f3f;stroke-linecap:square;stroke-width:1.5;\"/>\r\n   </g>\r\n   <g id=\"line2d_31\"/>\r\n   <g id=\"line2d_32\">\r\n    <path clip-path=\"url(#pfce54ef6fe)\" d=\"M 285.826471 54.62081 \r\nL 364.602941 54.62081 \r\n\" style=\"fill:none;stroke:#3f3f3f;stroke-linecap:square;stroke-width:1.5;\"/>\r\n   </g>\r\n   <g id=\"line2d_33\">\r\n    <path clip-path=\"url(#pfce54ef6fe)\" d=\"M 384.297059 63.761534 \r\nL 463.073529 63.761534 \r\n\" style=\"fill:none;stroke:#3f3f3f;stroke-linecap:square;stroke-width:1.5;\"/>\r\n   </g>\r\n   <g id=\"patch_12\">\r\n    <path d=\"M 275.979412 90.343334 \r\nL 275.979412 10.402157 \r\n\" style=\"fill:none;stroke:#000000;stroke-linecap:square;stroke-linejoin:miter;stroke-width:0.8;\"/>\r\n   </g>\r\n   <g id=\"patch_13\">\r\n    <path d=\"M 472.920588 90.343334 \r\nL 472.920588 10.402157 \r\n\" style=\"fill:none;stroke:#000000;stroke-linecap:square;stroke-linejoin:miter;stroke-width:0.8;\"/>\r\n   </g>\r\n   <g id=\"patch_14\">\r\n    <path d=\"M 275.979412 90.343334 \r\nL 472.920588 90.343334 \r\n\" style=\"fill:none;stroke:#000000;stroke-linecap:square;stroke-linejoin:miter;stroke-width:0.8;\"/>\r\n   </g>\r\n   <g id=\"patch_15\">\r\n    <path d=\"M 275.979412 10.402157 \r\nL 472.920588 10.402157 \r\n\" style=\"fill:none;stroke:#000000;stroke-linecap:square;stroke-linejoin:miter;stroke-width:0.8;\"/>\r\n   </g>\r\n  </g>\r\n  <g id=\"axes_3\">\r\n   <g id=\"patch_16\">\r\n    <path d=\"M 512.308824 90.343334 \r\nL 709.25 90.343334 \r\nL 709.25 10.402157 \r\nL 512.308824 10.402157 \r\nz\r\n\" style=\"fill:#ffffff;\"/>\r\n   </g>\r\n   <g id=\"patch_17\">\r\n    <path clip-path=\"url(#pc5e6420b31)\" d=\"M 522.155882 66.230862 \r\nL 600.932353 66.230862 \r\nL 600.932353 38.039903 \r\nL 522.155882 38.039903 \r\nL 522.155882 66.230862 \r\nz\r\n\" style=\"fill:#3274a1;stroke:#3f3f3f;stroke-linejoin:miter;stroke-width:1.5;\"/>\r\n   </g>\r\n   <g id=\"patch_18\">\r\n    <path clip-path=\"url(#pc5e6420b31)\" d=\"M 620.626471 69.390616 \r\nL 699.402941 69.390616 \r\nL 699.402941 43.814219 \r\nL 620.626471 43.814219 \r\nL 620.626471 69.390616 \r\nz\r\n\" style=\"fill:#e1812c;stroke:#3f3f3f;stroke-linejoin:miter;stroke-width:1.5;\"/>\r\n   </g>\r\n   <g id=\"matplotlib.axis_5\">\r\n    <g id=\"xtick_5\">\r\n     <g id=\"line2d_34\">\r\n      <g>\r\n       <use style=\"stroke:#000000;stroke-width:0.8;\" x=\"561.544118\" xlink:href=\"#me9a0fe6619\" y=\"90.343334\"/>\r\n      </g>\r\n     </g>\r\n     <g id=\"text_10\">\r\n      <!-- env_slopesolar -->\r\n      <g transform=\"translate(524.362868 104.941771)scale(0.1 -0.1)\">\r\n       <use xlink:href=\"#DejaVuSans-101\"/>\r\n       <use x=\"61.523438\" xlink:href=\"#DejaVuSans-110\"/>\r\n       <use x=\"124.902344\" xlink:href=\"#DejaVuSans-118\"/>\r\n       <use x=\"184.082031\" xlink:href=\"#DejaVuSans-95\"/>\r\n       <use x=\"234.082031\" xlink:href=\"#DejaVuSans-115\"/>\r\n       <use x=\"286.181641\" xlink:href=\"#DejaVuSans-108\"/>\r\n       <use x=\"313.964844\" xlink:href=\"#DejaVuSans-111\"/>\r\n       <use x=\"375.146484\" xlink:href=\"#DejaVuSans-112\"/>\r\n       <use x=\"438.623047\" xlink:href=\"#DejaVuSans-101\"/>\r\n       <use x=\"500.146484\" xlink:href=\"#DejaVuSans-115\"/>\r\n       <use x=\"552.246094\" xlink:href=\"#DejaVuSans-111\"/>\r\n       <use x=\"613.427734\" xlink:href=\"#DejaVuSans-108\"/>\r\n       <use x=\"641.210938\" xlink:href=\"#DejaVuSans-97\"/>\r\n       <use x=\"702.490234\" xlink:href=\"#DejaVuSans-114\"/>\r\n      </g>\r\n     </g>\r\n    </g>\r\n    <g id=\"xtick_6\">\r\n     <g id=\"line2d_35\">\r\n      <g>\r\n       <use style=\"stroke:#000000;stroke-width:0.8;\" x=\"660.014706\" xlink:href=\"#me9a0fe6619\" y=\"90.343334\"/>\r\n      </g>\r\n     </g>\r\n     <g id=\"text_11\">\r\n      <!-- match_solar -->\r\n      <g transform=\"translate(629.52955 104.941771)scale(0.1 -0.1)\">\r\n       <use xlink:href=\"#DejaVuSans-109\"/>\r\n       <use x=\"97.412109\" xlink:href=\"#DejaVuSans-97\"/>\r\n       <use x=\"158.691406\" xlink:href=\"#DejaVuSans-116\"/>\r\n       <use x=\"197.900391\" xlink:href=\"#DejaVuSans-99\"/>\r\n       <use x=\"252.880859\" xlink:href=\"#DejaVuSans-104\"/>\r\n       <use x=\"316.259766\" xlink:href=\"#DejaVuSans-95\"/>\r\n       <use x=\"366.259766\" xlink:href=\"#DejaVuSans-115\"/>\r\n       <use x=\"418.359375\" xlink:href=\"#DejaVuSans-111\"/>\r\n       <use x=\"479.541016\" xlink:href=\"#DejaVuSans-108\"/>\r\n       <use x=\"507.324219\" xlink:href=\"#DejaVuSans-97\"/>\r\n       <use x=\"568.603516\" xlink:href=\"#DejaVuSans-114\"/>\r\n      </g>\r\n     </g>\r\n    </g>\r\n   </g>\r\n   <g id=\"matplotlib.axis_6\">\r\n    <g id=\"ytick_6\">\r\n     <g id=\"line2d_36\">\r\n      <g>\r\n       <use style=\"stroke:#000000;stroke-width:0.8;\" x=\"512.308824\" xlink:href=\"#m4f382049cf\" y=\"88.210984\"/>\r\n      </g>\r\n     </g>\r\n     <g id=\"text_12\">\r\n      <!-- 0 -->\r\n      <g transform=\"translate(498.946324 92.010203)scale(0.1 -0.1)\">\r\n       <use xlink:href=\"#DejaVuSans-48\"/>\r\n      </g>\r\n     </g>\r\n    </g>\r\n    <g id=\"ytick_7\">\r\n     <g id=\"line2d_37\">\r\n      <g>\r\n       <use style=\"stroke:#000000;stroke-width:0.8;\" x=\"512.308824\" xlink:href=\"#m4f382049cf\" y=\"49.605101\"/>\r\n      </g>\r\n     </g>\r\n     <g id=\"text_13\">\r\n      <!-- 500 -->\r\n      <g transform=\"translate(486.221324 53.40432)scale(0.1 -0.1)\">\r\n       <use xlink:href=\"#DejaVuSans-53\"/>\r\n       <use x=\"63.623047\" xlink:href=\"#DejaVuSans-48\"/>\r\n       <use x=\"127.246094\" xlink:href=\"#DejaVuSans-48\"/>\r\n      </g>\r\n     </g>\r\n    </g>\r\n    <g id=\"ytick_8\">\r\n     <g id=\"line2d_38\">\r\n      <g>\r\n       <use style=\"stroke:#000000;stroke-width:0.8;\" x=\"512.308824\" xlink:href=\"#m4f382049cf\" y=\"10.999219\"/>\r\n      </g>\r\n     </g>\r\n     <g id=\"text_14\">\r\n      <!-- 1000 -->\r\n      <defs>\r\n       <path d=\"M 12.40625 8.296875 \r\nL 28.515625 8.296875 \r\nL 28.515625 63.921875 \r\nL 10.984375 60.40625 \r\nL 10.984375 69.390625 \r\nL 28.421875 72.90625 \r\nL 38.28125 72.90625 \r\nL 38.28125 8.296875 \r\nL 54.390625 8.296875 \r\nL 54.390625 0 \r\nL 12.40625 0 \r\nz\r\n\" id=\"DejaVuSans-49\"/>\r\n      </defs>\r\n      <g transform=\"translate(479.858824 14.798438)scale(0.1 -0.1)\">\r\n       <use xlink:href=\"#DejaVuSans-49\"/>\r\n       <use x=\"63.623047\" xlink:href=\"#DejaVuSans-48\"/>\r\n       <use x=\"127.246094\" xlink:href=\"#DejaVuSans-48\"/>\r\n       <use x=\"190.869141\" xlink:href=\"#DejaVuSans-48\"/>\r\n      </g>\r\n     </g>\r\n    </g>\r\n   </g>\r\n   <g id=\"line2d_39\">\r\n    <path clip-path=\"url(#pc5e6420b31)\" d=\"M 561.544118 66.230862 \r\nL 561.544118 86.678882 \r\n\" style=\"fill:none;stroke:#3f3f3f;stroke-linecap:square;stroke-width:1.5;\"/>\r\n   </g>\r\n   <g id=\"line2d_40\">\r\n    <path clip-path=\"url(#pc5e6420b31)\" d=\"M 561.544118 38.039903 \r\nL 561.544118 14.035847 \r\n\" style=\"fill:none;stroke:#3f3f3f;stroke-linecap:square;stroke-width:1.5;\"/>\r\n   </g>\r\n   <g id=\"line2d_41\">\r\n    <path clip-path=\"url(#pc5e6420b31)\" d=\"M 541.85 86.678882 \r\nL 581.238235 86.678882 \r\n\" style=\"fill:none;stroke:#3f3f3f;stroke-linecap:square;stroke-width:1.5;\"/>\r\n   </g>\r\n   <g id=\"line2d_42\">\r\n    <path clip-path=\"url(#pc5e6420b31)\" d=\"M 541.85 14.035847 \r\nL 581.238235 14.035847 \r\n\" style=\"fill:none;stroke:#3f3f3f;stroke-linecap:square;stroke-width:1.5;\"/>\r\n   </g>\r\n   <g id=\"line2d_43\"/>\r\n   <g id=\"line2d_44\">\r\n    <path clip-path=\"url(#pc5e6420b31)\" d=\"M 660.014706 69.390616 \r\nL 660.014706 86.709644 \r\n\" style=\"fill:none;stroke:#3f3f3f;stroke-linecap:square;stroke-width:1.5;\"/>\r\n   </g>\r\n   <g id=\"line2d_45\">\r\n    <path clip-path=\"url(#pc5e6420b31)\" d=\"M 660.014706 43.814219 \r\nL 660.014706 17.64801 \r\n\" style=\"fill:none;stroke:#3f3f3f;stroke-linecap:square;stroke-width:1.5;\"/>\r\n   </g>\r\n   <g id=\"line2d_46\">\r\n    <path clip-path=\"url(#pc5e6420b31)\" d=\"M 640.320588 86.709644 \r\nL 679.708824 86.709644 \r\n\" style=\"fill:none;stroke:#3f3f3f;stroke-linecap:square;stroke-width:1.5;\"/>\r\n   </g>\r\n   <g id=\"line2d_47\">\r\n    <path clip-path=\"url(#pc5e6420b31)\" d=\"M 640.320588 17.64801 \r\nL 679.708824 17.64801 \r\n\" style=\"fill:none;stroke:#3f3f3f;stroke-linecap:square;stroke-width:1.5;\"/>\r\n   </g>\r\n   <g id=\"line2d_48\"/>\r\n   <g id=\"line2d_49\">\r\n    <path clip-path=\"url(#pc5e6420b31)\" d=\"M 522.155882 50.506984 \r\nL 600.932353 50.506984 \r\n\" style=\"fill:none;stroke:#3f3f3f;stroke-linecap:square;stroke-width:1.5;\"/>\r\n   </g>\r\n   <g id=\"line2d_50\">\r\n    <path clip-path=\"url(#pc5e6420b31)\" d=\"M 620.626471 57.540755 \r\nL 699.402941 57.540755 \r\n\" style=\"fill:none;stroke:#3f3f3f;stroke-linecap:square;stroke-width:1.5;\"/>\r\n   </g>\r\n   <g id=\"patch_19\">\r\n    <path d=\"M 512.308824 90.343334 \r\nL 512.308824 10.402157 \r\n\" style=\"fill:none;stroke:#000000;stroke-linecap:square;stroke-linejoin:miter;stroke-width:0.8;\"/>\r\n   </g>\r\n   <g id=\"patch_20\">\r\n    <path d=\"M 709.25 90.343334 \r\nL 709.25 10.402157 \r\n\" style=\"fill:none;stroke:#000000;stroke-linecap:square;stroke-linejoin:miter;stroke-width:0.8;\"/>\r\n   </g>\r\n   <g id=\"patch_21\">\r\n    <path d=\"M 512.308824 90.343334 \r\nL 709.25 90.343334 \r\n\" style=\"fill:none;stroke:#000000;stroke-linecap:square;stroke-linejoin:miter;stroke-width:0.8;\"/>\r\n   </g>\r\n   <g id=\"patch_22\">\r\n    <path d=\"M 512.308824 10.402157 \r\nL 709.25 10.402157 \r\n\" style=\"fill:none;stroke:#000000;stroke-linecap:square;stroke-linejoin:miter;stroke-width:0.8;\"/>\r\n   </g>\r\n  </g>\r\n  <g id=\"axes_4\">\r\n   <g id=\"patch_23\">\r\n    <path d=\"M 39.65 186.272746 \r\nL 236.591176 186.272746 \r\nL 236.591176 106.331569 \r\nL 39.65 106.331569 \r\nz\r\n\" style=\"fill:#ffffff;\"/>\r\n   </g>\r\n   <g id=\"patch_24\">\r\n    <path clip-path=\"url(#p7152c75531)\" d=\"M 49.497059 162.079656 \r\nL 128.273529 162.079656 \r\nL 128.273529 132.533526 \r\nL 49.497059 132.533526 \r\nL 49.497059 162.079656 \r\nz\r\n\" style=\"fill:#3274a1;stroke:#3f3f3f;stroke-linejoin:miter;stroke-width:1.5;\"/>\r\n   </g>\r\n   <g id=\"patch_25\">\r\n    <path clip-path=\"url(#p7152c75531)\" d=\"M 147.967647 163.234469 \r\nL 226.744118 163.234469 \r\nL 226.744118 136.355194 \r\nL 147.967647 136.355194 \r\nL 147.967647 163.234469 \r\nz\r\n\" style=\"fill:#e1812c;stroke:#3f3f3f;stroke-linejoin:miter;stroke-width:1.5;\"/>\r\n   </g>\r\n   <g id=\"matplotlib.axis_7\">\r\n    <g id=\"xtick_7\">\r\n     <g id=\"line2d_51\">\r\n      <g>\r\n       <use style=\"stroke:#000000;stroke-width:0.8;\" x=\"88.885294\" xlink:href=\"#me9a0fe6619\" y=\"186.272746\"/>\r\n      </g>\r\n     </g>\r\n     <g id=\"text_15\">\r\n      <!-- env_slopesolar -->\r\n      <g transform=\"translate(51.704044 200.871183)scale(0.1 -0.1)\">\r\n       <use xlink:href=\"#DejaVuSans-101\"/>\r\n       <use x=\"61.523438\" xlink:href=\"#DejaVuSans-110\"/>\r\n       <use x=\"124.902344\" xlink:href=\"#DejaVuSans-118\"/>\r\n       <use x=\"184.082031\" xlink:href=\"#DejaVuSans-95\"/>\r\n       <use x=\"234.082031\" xlink:href=\"#DejaVuSans-115\"/>\r\n       <use x=\"286.181641\" xlink:href=\"#DejaVuSans-108\"/>\r\n       <use x=\"313.964844\" xlink:href=\"#DejaVuSans-111\"/>\r\n       <use x=\"375.146484\" xlink:href=\"#DejaVuSans-112\"/>\r\n       <use x=\"438.623047\" xlink:href=\"#DejaVuSans-101\"/>\r\n       <use x=\"500.146484\" xlink:href=\"#DejaVuSans-115\"/>\r\n       <use x=\"552.246094\" xlink:href=\"#DejaVuSans-111\"/>\r\n       <use x=\"613.427734\" xlink:href=\"#DejaVuSans-108\"/>\r\n       <use x=\"641.210938\" xlink:href=\"#DejaVuSans-97\"/>\r\n       <use x=\"702.490234\" xlink:href=\"#DejaVuSans-114\"/>\r\n      </g>\r\n     </g>\r\n    </g>\r\n    <g id=\"xtick_8\">\r\n     <g id=\"line2d_52\">\r\n      <g>\r\n       <use style=\"stroke:#000000;stroke-width:0.8;\" x=\"187.355882\" xlink:href=\"#me9a0fe6619\" y=\"186.272746\"/>\r\n      </g>\r\n     </g>\r\n     <g id=\"text_16\">\r\n      <!-- match_solar -->\r\n      <g transform=\"translate(156.870726 200.871183)scale(0.1 -0.1)\">\r\n       <use xlink:href=\"#DejaVuSans-109\"/>\r\n       <use x=\"97.412109\" xlink:href=\"#DejaVuSans-97\"/>\r\n       <use x=\"158.691406\" xlink:href=\"#DejaVuSans-116\"/>\r\n       <use x=\"197.900391\" xlink:href=\"#DejaVuSans-99\"/>\r\n       <use x=\"252.880859\" xlink:href=\"#DejaVuSans-104\"/>\r\n       <use x=\"316.259766\" xlink:href=\"#DejaVuSans-95\"/>\r\n       <use x=\"366.259766\" xlink:href=\"#DejaVuSans-115\"/>\r\n       <use x=\"418.359375\" xlink:href=\"#DejaVuSans-111\"/>\r\n       <use x=\"479.541016\" xlink:href=\"#DejaVuSans-108\"/>\r\n       <use x=\"507.324219\" xlink:href=\"#DejaVuSans-97\"/>\r\n       <use x=\"568.603516\" xlink:href=\"#DejaVuSans-114\"/>\r\n      </g>\r\n     </g>\r\n    </g>\r\n   </g>\r\n   <g id=\"matplotlib.axis_8\">\r\n    <g id=\"ytick_9\">\r\n     <g id=\"line2d_53\">\r\n      <g>\r\n       <use style=\"stroke:#000000;stroke-width:0.8;\" x=\"39.65\" xlink:href=\"#m4f382049cf\" y=\"184.129301\"/>\r\n      </g>\r\n     </g>\r\n     <g id=\"text_17\">\r\n      <!-- 0 -->\r\n      <g transform=\"translate(26.2875 187.92852)scale(0.1 -0.1)\">\r\n       <use xlink:href=\"#DejaVuSans-48\"/>\r\n      </g>\r\n     </g>\r\n    </g>\r\n    <g id=\"ytick_10\">\r\n     <g id=\"line2d_54\">\r\n      <g>\r\n       <use style=\"stroke:#000000;stroke-width:0.8;\" x=\"39.65\" xlink:href=\"#m4f382049cf\" y=\"147.61406\"/>\r\n      </g>\r\n     </g>\r\n     <g id=\"text_18\">\r\n      <!-- 500 -->\r\n      <g transform=\"translate(13.5625 151.413279)scale(0.1 -0.1)\">\r\n       <use xlink:href=\"#DejaVuSans-53\"/>\r\n       <use x=\"63.623047\" xlink:href=\"#DejaVuSans-48\"/>\r\n       <use x=\"127.246094\" xlink:href=\"#DejaVuSans-48\"/>\r\n      </g>\r\n     </g>\r\n    </g>\r\n    <g id=\"ytick_11\">\r\n     <g id=\"line2d_55\">\r\n      <g>\r\n       <use style=\"stroke:#000000;stroke-width:0.8;\" x=\"39.65\" xlink:href=\"#m4f382049cf\" y=\"111.098819\"/>\r\n      </g>\r\n     </g>\r\n     <g id=\"text_19\">\r\n      <!-- 1000 -->\r\n      <g transform=\"translate(7.2 114.898038)scale(0.1 -0.1)\">\r\n       <use xlink:href=\"#DejaVuSans-49\"/>\r\n       <use x=\"63.623047\" xlink:href=\"#DejaVuSans-48\"/>\r\n       <use x=\"127.246094\" xlink:href=\"#DejaVuSans-48\"/>\r\n       <use x=\"190.869141\" xlink:href=\"#DejaVuSans-48\"/>\r\n      </g>\r\n     </g>\r\n    </g>\r\n   </g>\r\n   <g id=\"line2d_56\">\r\n    <path clip-path=\"url(#p7152c75531)\" d=\"M 88.885294 162.079656 \r\nL 88.885294 182.639056 \r\n\" style=\"fill:none;stroke:#3f3f3f;stroke-linecap:square;stroke-width:1.5;\"/>\r\n   </g>\r\n   <g id=\"line2d_57\">\r\n    <path clip-path=\"url(#p7152c75531)\" d=\"M 88.885294 132.533526 \r\nL 88.885294 109.965259 \r\n\" style=\"fill:none;stroke:#3f3f3f;stroke-linecap:square;stroke-width:1.5;\"/>\r\n   </g>\r\n   <g id=\"line2d_58\">\r\n    <path clip-path=\"url(#p7152c75531)\" d=\"M 69.191176 182.639056 \r\nL 108.579412 182.639056 \r\n\" style=\"fill:none;stroke:#3f3f3f;stroke-linecap:square;stroke-width:1.5;\"/>\r\n   </g>\r\n   <g id=\"line2d_59\">\r\n    <path clip-path=\"url(#p7152c75531)\" d=\"M 69.191176 109.965259 \r\nL 108.579412 109.965259 \r\n\" style=\"fill:none;stroke:#3f3f3f;stroke-linecap:square;stroke-width:1.5;\"/>\r\n   </g>\r\n   <g id=\"line2d_60\"/>\r\n   <g id=\"line2d_61\">\r\n    <path clip-path=\"url(#p7152c75531)\" d=\"M 187.355882 163.234469 \r\nL 187.355882 182.100676 \r\n\" style=\"fill:none;stroke:#3f3f3f;stroke-linecap:square;stroke-width:1.5;\"/>\r\n   </g>\r\n   <g id=\"line2d_62\">\r\n    <path clip-path=\"url(#p7152c75531)\" d=\"M 187.355882 136.355194 \r\nL 187.355882 111.098819 \r\n\" style=\"fill:none;stroke:#3f3f3f;stroke-linecap:square;stroke-width:1.5;\"/>\r\n   </g>\r\n   <g id=\"line2d_63\">\r\n    <path clip-path=\"url(#p7152c75531)\" d=\"M 167.661765 182.100676 \r\nL 207.05 182.100676 \r\n\" style=\"fill:none;stroke:#3f3f3f;stroke-linecap:square;stroke-width:1.5;\"/>\r\n   </g>\r\n   <g id=\"line2d_64\">\r\n    <path clip-path=\"url(#p7152c75531)\" d=\"M 167.661765 111.098819 \r\nL 207.05 111.098819 \r\n\" style=\"fill:none;stroke:#3f3f3f;stroke-linecap:square;stroke-width:1.5;\"/>\r\n   </g>\r\n   <g id=\"line2d_65\"/>\r\n   <g id=\"line2d_66\">\r\n    <path clip-path=\"url(#p7152c75531)\" d=\"M 49.497059 144.011206 \r\nL 128.273529 144.011206 \r\n\" style=\"fill:none;stroke:#3f3f3f;stroke-linecap:square;stroke-width:1.5;\"/>\r\n   </g>\r\n   <g id=\"line2d_67\">\r\n    <path clip-path=\"url(#p7152c75531)\" d=\"M 147.967647 149.135528 \r\nL 226.744118 149.135528 \r\n\" style=\"fill:none;stroke:#3f3f3f;stroke-linecap:square;stroke-width:1.5;\"/>\r\n   </g>\r\n   <g id=\"patch_26\">\r\n    <path d=\"M 39.65 186.272746 \r\nL 39.65 106.331569 \r\n\" style=\"fill:none;stroke:#000000;stroke-linecap:square;stroke-linejoin:miter;stroke-width:0.8;\"/>\r\n   </g>\r\n   <g id=\"patch_27\">\r\n    <path d=\"M 236.591176 186.272746 \r\nL 236.591176 106.331569 \r\n\" style=\"fill:none;stroke:#000000;stroke-linecap:square;stroke-linejoin:miter;stroke-width:0.8;\"/>\r\n   </g>\r\n   <g id=\"patch_28\">\r\n    <path d=\"M 39.65 186.272746 \r\nL 236.591176 186.272746 \r\n\" style=\"fill:none;stroke:#000000;stroke-linecap:square;stroke-linejoin:miter;stroke-width:0.8;\"/>\r\n   </g>\r\n   <g id=\"patch_29\">\r\n    <path d=\"M 39.65 106.331569 \r\nL 236.591176 106.331569 \r\n\" style=\"fill:none;stroke:#000000;stroke-linecap:square;stroke-linejoin:miter;stroke-width:0.8;\"/>\r\n   </g>\r\n  </g>\r\n  <g id=\"axes_5\">\r\n   <g id=\"patch_30\">\r\n    <path d=\"M 275.979412 186.272746 \r\nL 472.920588 186.272746 \r\nL 472.920588 106.331569 \r\nL 275.979412 106.331569 \r\nz\r\n\" style=\"fill:#ffffff;\"/>\r\n   </g>\r\n   <g id=\"patch_31\">\r\n    <path clip-path=\"url(#pa16880bd2a)\" d=\"M 285.826471 163.696489 \r\nL 364.602941 163.696489 \r\nL 364.602941 135.530984 \r\nL 285.826471 135.530984 \r\nL 285.826471 163.696489 \r\nz\r\n\" style=\"fill:#3274a1;stroke:#3f3f3f;stroke-linejoin:miter;stroke-width:1.5;\"/>\r\n   </g>\r\n   <g id=\"patch_32\">\r\n    <path clip-path=\"url(#pa16880bd2a)\" d=\"M 384.297059 162.563416 \r\nL 463.073529 162.563416 \r\nL 463.073529 137.20965 \r\nL 384.297059 137.20965 \r\nL 384.297059 162.563416 \r\nz\r\n\" style=\"fill:#e1812c;stroke:#3f3f3f;stroke-linejoin:miter;stroke-width:1.5;\"/>\r\n   </g>\r\n   <g id=\"matplotlib.axis_9\">\r\n    <g id=\"xtick_9\">\r\n     <g id=\"line2d_68\">\r\n      <g>\r\n       <use style=\"stroke:#000000;stroke-width:0.8;\" x=\"325.214706\" xlink:href=\"#me9a0fe6619\" y=\"186.272746\"/>\r\n      </g>\r\n     </g>\r\n     <g id=\"text_20\">\r\n      <!-- env_slopesolar -->\r\n      <g transform=\"translate(288.033456 200.871183)scale(0.1 -0.1)\">\r\n       <use xlink:href=\"#DejaVuSans-101\"/>\r\n       <use x=\"61.523438\" xlink:href=\"#DejaVuSans-110\"/>\r\n       <use x=\"124.902344\" xlink:href=\"#DejaVuSans-118\"/>\r\n       <use x=\"184.082031\" xlink:href=\"#DejaVuSans-95\"/>\r\n       <use x=\"234.082031\" xlink:href=\"#DejaVuSans-115\"/>\r\n       <use x=\"286.181641\" xlink:href=\"#DejaVuSans-108\"/>\r\n       <use x=\"313.964844\" xlink:href=\"#DejaVuSans-111\"/>\r\n       <use x=\"375.146484\" xlink:href=\"#DejaVuSans-112\"/>\r\n       <use x=\"438.623047\" xlink:href=\"#DejaVuSans-101\"/>\r\n       <use x=\"500.146484\" xlink:href=\"#DejaVuSans-115\"/>\r\n       <use x=\"552.246094\" xlink:href=\"#DejaVuSans-111\"/>\r\n       <use x=\"613.427734\" xlink:href=\"#DejaVuSans-108\"/>\r\n       <use x=\"641.210938\" xlink:href=\"#DejaVuSans-97\"/>\r\n       <use x=\"702.490234\" xlink:href=\"#DejaVuSans-114\"/>\r\n      </g>\r\n     </g>\r\n    </g>\r\n    <g id=\"xtick_10\">\r\n     <g id=\"line2d_69\">\r\n      <g>\r\n       <use style=\"stroke:#000000;stroke-width:0.8;\" x=\"423.685294\" xlink:href=\"#me9a0fe6619\" y=\"186.272746\"/>\r\n      </g>\r\n     </g>\r\n     <g id=\"text_21\">\r\n      <!-- match_solar -->\r\n      <g transform=\"translate(393.200138 200.871183)scale(0.1 -0.1)\">\r\n       <use xlink:href=\"#DejaVuSans-109\"/>\r\n       <use x=\"97.412109\" xlink:href=\"#DejaVuSans-97\"/>\r\n       <use x=\"158.691406\" xlink:href=\"#DejaVuSans-116\"/>\r\n       <use x=\"197.900391\" xlink:href=\"#DejaVuSans-99\"/>\r\n       <use x=\"252.880859\" xlink:href=\"#DejaVuSans-104\"/>\r\n       <use x=\"316.259766\" xlink:href=\"#DejaVuSans-95\"/>\r\n       <use x=\"366.259766\" xlink:href=\"#DejaVuSans-115\"/>\r\n       <use x=\"418.359375\" xlink:href=\"#DejaVuSans-111\"/>\r\n       <use x=\"479.541016\" xlink:href=\"#DejaVuSans-108\"/>\r\n       <use x=\"507.324219\" xlink:href=\"#DejaVuSans-97\"/>\r\n       <use x=\"568.603516\" xlink:href=\"#DejaVuSans-114\"/>\r\n      </g>\r\n     </g>\r\n    </g>\r\n   </g>\r\n   <g id=\"matplotlib.axis_10\">\r\n    <g id=\"ytick_12\">\r\n     <g id=\"line2d_70\">\r\n      <g>\r\n       <use style=\"stroke:#000000;stroke-width:0.8;\" x=\"275.979412\" xlink:href=\"#m4f382049cf\" y=\"183.263336\"/>\r\n      </g>\r\n     </g>\r\n     <g id=\"text_22\">\r\n      <!-- 0 -->\r\n      <g transform=\"translate(262.616912 187.062555)scale(0.1 -0.1)\">\r\n       <use xlink:href=\"#DejaVuSans-48\"/>\r\n      </g>\r\n     </g>\r\n    </g>\r\n    <g id=\"ytick_13\">\r\n     <g id=\"line2d_71\">\r\n      <g>\r\n       <use style=\"stroke:#000000;stroke-width:0.8;\" x=\"275.979412\" xlink:href=\"#m4f382049cf\" y=\"148.35949\"/>\r\n      </g>\r\n     </g>\r\n     <g id=\"text_23\">\r\n      <!-- 500 -->\r\n      <g transform=\"translate(249.891912 152.158708)scale(0.1 -0.1)\">\r\n       <use xlink:href=\"#DejaVuSans-53\"/>\r\n       <use x=\"63.623047\" xlink:href=\"#DejaVuSans-48\"/>\r\n       <use x=\"127.246094\" xlink:href=\"#DejaVuSans-48\"/>\r\n      </g>\r\n     </g>\r\n    </g>\r\n    <g id=\"ytick_14\">\r\n     <g id=\"line2d_72\">\r\n      <g>\r\n       <use style=\"stroke:#000000;stroke-width:0.8;\" x=\"275.979412\" xlink:href=\"#m4f382049cf\" y=\"113.455644\"/>\r\n      </g>\r\n     </g>\r\n     <g id=\"text_24\">\r\n      <!-- 1000 -->\r\n      <g transform=\"translate(243.529412 117.254862)scale(0.1 -0.1)\">\r\n       <use xlink:href=\"#DejaVuSans-49\"/>\r\n       <use x=\"63.623047\" xlink:href=\"#DejaVuSans-48\"/>\r\n       <use x=\"127.246094\" xlink:href=\"#DejaVuSans-48\"/>\r\n       <use x=\"190.869141\" xlink:href=\"#DejaVuSans-48\"/>\r\n      </g>\r\n     </g>\r\n    </g>\r\n   </g>\r\n   <g id=\"line2d_73\">\r\n    <path clip-path=\"url(#pa16880bd2a)\" d=\"M 325.214706 163.696489 \r\nL 325.214706 182.639056 \r\n\" style=\"fill:none;stroke:#3f3f3f;stroke-linecap:square;stroke-width:1.5;\"/>\r\n   </g>\r\n   <g id=\"line2d_74\">\r\n    <path clip-path=\"url(#pa16880bd2a)\" d=\"M 325.214706 135.530984 \r\nL 325.214706 112.976095 \r\n\" style=\"fill:none;stroke:#3f3f3f;stroke-linecap:square;stroke-width:1.5;\"/>\r\n   </g>\r\n   <g id=\"line2d_75\">\r\n    <path clip-path=\"url(#pa16880bd2a)\" d=\"M 305.520588 182.639056 \r\nL 344.908824 182.639056 \r\n\" style=\"fill:none;stroke:#3f3f3f;stroke-linecap:square;stroke-width:1.5;\"/>\r\n   </g>\r\n   <g id=\"line2d_76\">\r\n    <path clip-path=\"url(#pa16880bd2a)\" d=\"M 305.520588 112.976095 \r\nL 344.908824 112.976095 \r\n\" style=\"fill:none;stroke:#3f3f3f;stroke-linecap:square;stroke-width:1.5;\"/>\r\n   </g>\r\n   <g id=\"line2d_77\"/>\r\n   <g id=\"line2d_78\">\r\n    <path clip-path=\"url(#pa16880bd2a)\" d=\"M 423.685294 162.563416 \r\nL 423.685294 181.324233 \r\n\" style=\"fill:none;stroke:#3f3f3f;stroke-linecap:square;stroke-width:1.5;\"/>\r\n   </g>\r\n   <g id=\"line2d_79\">\r\n    <path clip-path=\"url(#pa16880bd2a)\" d=\"M 423.685294 137.20965 \r\nL 423.685294 109.965259 \r\n\" style=\"fill:none;stroke:#3f3f3f;stroke-linecap:square;stroke-width:1.5;\"/>\r\n   </g>\r\n   <g id=\"line2d_80\">\r\n    <path clip-path=\"url(#pa16880bd2a)\" d=\"M 403.991176 181.324233 \r\nL 443.379412 181.324233 \r\n\" style=\"fill:none;stroke:#3f3f3f;stroke-linecap:square;stroke-width:1.5;\"/>\r\n   </g>\r\n   <g id=\"line2d_81\">\r\n    <path clip-path=\"url(#pa16880bd2a)\" d=\"M 403.991176 109.965259 \r\nL 443.379412 109.965259 \r\n\" style=\"fill:none;stroke:#3f3f3f;stroke-linecap:square;stroke-width:1.5;\"/>\r\n   </g>\r\n   <g id=\"line2d_82\"/>\r\n   <g id=\"line2d_83\">\r\n    <path clip-path=\"url(#pa16880bd2a)\" d=\"M 285.826471 146.670824 \r\nL 364.602941 146.670824 \r\n\" style=\"fill:none;stroke:#3f3f3f;stroke-linecap:square;stroke-width:1.5;\"/>\r\n   </g>\r\n   <g id=\"line2d_84\">\r\n    <path clip-path=\"url(#pa16880bd2a)\" d=\"M 384.297059 147.777759 \r\nL 463.073529 147.777759 \r\n\" style=\"fill:none;stroke:#3f3f3f;stroke-linecap:square;stroke-width:1.5;\"/>\r\n   </g>\r\n   <g id=\"patch_33\">\r\n    <path d=\"M 275.979412 186.272746 \r\nL 275.979412 106.331569 \r\n\" style=\"fill:none;stroke:#000000;stroke-linecap:square;stroke-linejoin:miter;stroke-width:0.8;\"/>\r\n   </g>\r\n   <g id=\"patch_34\">\r\n    <path d=\"M 472.920588 186.272746 \r\nL 472.920588 106.331569 \r\n\" style=\"fill:none;stroke:#000000;stroke-linecap:square;stroke-linejoin:miter;stroke-width:0.8;\"/>\r\n   </g>\r\n   <g id=\"patch_35\">\r\n    <path d=\"M 275.979412 186.272746 \r\nL 472.920588 186.272746 \r\n\" style=\"fill:none;stroke:#000000;stroke-linecap:square;stroke-linejoin:miter;stroke-width:0.8;\"/>\r\n   </g>\r\n   <g id=\"patch_36\">\r\n    <path d=\"M 275.979412 106.331569 \r\nL 472.920588 106.331569 \r\n\" style=\"fill:none;stroke:#000000;stroke-linecap:square;stroke-linejoin:miter;stroke-width:0.8;\"/>\r\n   </g>\r\n  </g>\r\n  <g id=\"axes_6\">\r\n   <g id=\"patch_37\">\r\n    <path d=\"M 512.308824 186.272746 \r\nL 709.25 186.272746 \r\nL 709.25 106.331569 \r\nL 512.308824 106.331569 \r\nz\r\n\" style=\"fill:#ffffff;\"/>\r\n   </g>\r\n   <g id=\"patch_38\">\r\n    <path clip-path=\"url(#pd2553629bb)\" d=\"M 522.155882 168.500495 \r\nL 600.932353 168.500495 \r\nL 600.932353 142.364243 \r\nL 522.155882 142.364243 \r\nL 522.155882 168.500495 \r\nz\r\n\" style=\"fill:#3274a1;stroke:#3f3f3f;stroke-linejoin:miter;stroke-width:1.5;\"/>\r\n   </g>\r\n   <g id=\"patch_39\">\r\n    <path clip-path=\"url(#pd2553629bb)\" d=\"M 620.626471 164.453401 \r\nL 699.402941 164.453401 \r\nL 699.402941 139.695103 \r\nL 620.626471 139.695103 \r\nL 620.626471 164.453401 \r\nz\r\n\" style=\"fill:#e1812c;stroke:#3f3f3f;stroke-linejoin:miter;stroke-width:1.5;\"/>\r\n   </g>\r\n   <g id=\"matplotlib.axis_11\">\r\n    <g id=\"xtick_11\">\r\n     <g id=\"line2d_85\">\r\n      <g>\r\n       <use style=\"stroke:#000000;stroke-width:0.8;\" x=\"561.544118\" xlink:href=\"#me9a0fe6619\" y=\"186.272746\"/>\r\n      </g>\r\n     </g>\r\n     <g id=\"text_25\">\r\n      <!-- env_slopesolar -->\r\n      <g transform=\"translate(524.362868 200.871183)scale(0.1 -0.1)\">\r\n       <use xlink:href=\"#DejaVuSans-101\"/>\r\n       <use x=\"61.523438\" xlink:href=\"#DejaVuSans-110\"/>\r\n       <use x=\"124.902344\" xlink:href=\"#DejaVuSans-118\"/>\r\n       <use x=\"184.082031\" xlink:href=\"#DejaVuSans-95\"/>\r\n       <use x=\"234.082031\" xlink:href=\"#DejaVuSans-115\"/>\r\n       <use x=\"286.181641\" xlink:href=\"#DejaVuSans-108\"/>\r\n       <use x=\"313.964844\" xlink:href=\"#DejaVuSans-111\"/>\r\n       <use x=\"375.146484\" xlink:href=\"#DejaVuSans-112\"/>\r\n       <use x=\"438.623047\" xlink:href=\"#DejaVuSans-101\"/>\r\n       <use x=\"500.146484\" xlink:href=\"#DejaVuSans-115\"/>\r\n       <use x=\"552.246094\" xlink:href=\"#DejaVuSans-111\"/>\r\n       <use x=\"613.427734\" xlink:href=\"#DejaVuSans-108\"/>\r\n       <use x=\"641.210938\" xlink:href=\"#DejaVuSans-97\"/>\r\n       <use x=\"702.490234\" xlink:href=\"#DejaVuSans-114\"/>\r\n      </g>\r\n     </g>\r\n    </g>\r\n    <g id=\"xtick_12\">\r\n     <g id=\"line2d_86\">\r\n      <g>\r\n       <use style=\"stroke:#000000;stroke-width:0.8;\" x=\"660.014706\" xlink:href=\"#me9a0fe6619\" y=\"186.272746\"/>\r\n      </g>\r\n     </g>\r\n     <g id=\"text_26\">\r\n      <!-- match_solar -->\r\n      <g transform=\"translate(629.52955 200.871183)scale(0.1 -0.1)\">\r\n       <use xlink:href=\"#DejaVuSans-109\"/>\r\n       <use x=\"97.412109\" xlink:href=\"#DejaVuSans-97\"/>\r\n       <use x=\"158.691406\" xlink:href=\"#DejaVuSans-116\"/>\r\n       <use x=\"197.900391\" xlink:href=\"#DejaVuSans-99\"/>\r\n       <use x=\"252.880859\" xlink:href=\"#DejaVuSans-104\"/>\r\n       <use x=\"316.259766\" xlink:href=\"#DejaVuSans-95\"/>\r\n       <use x=\"366.259766\" xlink:href=\"#DejaVuSans-115\"/>\r\n       <use x=\"418.359375\" xlink:href=\"#DejaVuSans-111\"/>\r\n       <use x=\"479.541016\" xlink:href=\"#DejaVuSans-108\"/>\r\n       <use x=\"507.324219\" xlink:href=\"#DejaVuSans-97\"/>\r\n       <use x=\"568.603516\" xlink:href=\"#DejaVuSans-114\"/>\r\n      </g>\r\n     </g>\r\n    </g>\r\n   </g>\r\n   <g id=\"matplotlib.axis_12\">\r\n    <g id=\"ytick_15\">\r\n     <g id=\"line2d_87\">\r\n      <g>\r\n       <use style=\"stroke:#000000;stroke-width:0.8;\" x=\"512.308824\" xlink:href=\"#m4f382049cf\" y=\"183.146413\"/>\r\n      </g>\r\n     </g>\r\n     <g id=\"text_27\">\r\n      <!-- 0 -->\r\n      <g transform=\"translate(498.946324 186.945632)scale(0.1 -0.1)\">\r\n       <use xlink:href=\"#DejaVuSans-48\"/>\r\n      </g>\r\n     </g>\r\n    </g>\r\n    <g id=\"ytick_16\">\r\n     <g id=\"line2d_88\">\r\n      <g>\r\n       <use style=\"stroke:#000000;stroke-width:0.8;\" x=\"512.308824\" xlink:href=\"#m4f382049cf\" y=\"147.351283\"/>\r\n      </g>\r\n     </g>\r\n     <g id=\"text_28\">\r\n      <!-- 500 -->\r\n      <g transform=\"translate(486.221324 151.150502)scale(0.1 -0.1)\">\r\n       <use xlink:href=\"#DejaVuSans-53\"/>\r\n       <use x=\"63.623047\" xlink:href=\"#DejaVuSans-48\"/>\r\n       <use x=\"127.246094\" xlink:href=\"#DejaVuSans-48\"/>\r\n      </g>\r\n     </g>\r\n    </g>\r\n    <g id=\"ytick_17\">\r\n     <g id=\"line2d_89\">\r\n      <g>\r\n       <use style=\"stroke:#000000;stroke-width:0.8;\" x=\"512.308824\" xlink:href=\"#m4f382049cf\" y=\"111.556154\"/>\r\n      </g>\r\n     </g>\r\n     <g id=\"text_29\">\r\n      <!-- 1000 -->\r\n      <g transform=\"translate(479.858824 115.355372)scale(0.1 -0.1)\">\r\n       <use xlink:href=\"#DejaVuSans-49\"/>\r\n       <use x=\"63.623047\" xlink:href=\"#DejaVuSans-48\"/>\r\n       <use x=\"127.246094\" xlink:href=\"#DejaVuSans-48\"/>\r\n       <use x=\"190.869141\" xlink:href=\"#DejaVuSans-48\"/>\r\n      </g>\r\n     </g>\r\n    </g>\r\n   </g>\r\n   <g id=\"line2d_90\">\r\n    <path clip-path=\"url(#pd2553629bb)\" d=\"M 561.544118 168.500495 \r\nL 561.544118 182.639056 \r\n\" style=\"fill:none;stroke:#3f3f3f;stroke-linecap:square;stroke-width:1.5;\"/>\r\n   </g>\r\n   <g id=\"line2d_91\">\r\n    <path clip-path=\"url(#pd2553629bb)\" d=\"M 561.544118 142.364243 \r\nL 561.544118 114.401866 \r\n\" style=\"fill:none;stroke:#3f3f3f;stroke-linecap:square;stroke-width:1.5;\"/>\r\n   </g>\r\n   <g id=\"line2d_92\">\r\n    <path clip-path=\"url(#pd2553629bb)\" d=\"M 541.85 182.639056 \r\nL 581.238235 182.639056 \r\n\" style=\"fill:none;stroke:#3f3f3f;stroke-linecap:square;stroke-width:1.5;\"/>\r\n   </g>\r\n   <g id=\"line2d_93\">\r\n    <path clip-path=\"url(#pd2553629bb)\" d=\"M 541.85 114.401866 \r\nL 581.238235 114.401866 \r\n\" style=\"fill:none;stroke:#3f3f3f;stroke-linecap:square;stroke-width:1.5;\"/>\r\n   </g>\r\n   <g id=\"line2d_94\"/>\r\n   <g id=\"line2d_95\">\r\n    <path clip-path=\"url(#pd2553629bb)\" d=\"M 660.014706 164.453401 \r\nL 660.014706 182.152104 \r\n\" style=\"fill:none;stroke:#3f3f3f;stroke-linecap:square;stroke-width:1.5;\"/>\r\n   </g>\r\n   <g id=\"line2d_96\">\r\n    <path clip-path=\"url(#pd2553629bb)\" d=\"M 660.014706 139.695103 \r\nL 660.014706 109.965259 \r\n\" style=\"fill:none;stroke:#3f3f3f;stroke-linecap:square;stroke-width:1.5;\"/>\r\n   </g>\r\n   <g id=\"line2d_97\">\r\n    <path clip-path=\"url(#pd2553629bb)\" d=\"M 640.320588 182.152104 \r\nL 679.708824 182.152104 \r\n\" style=\"fill:none;stroke:#3f3f3f;stroke-linecap:square;stroke-width:1.5;\"/>\r\n   </g>\r\n   <g id=\"line2d_98\">\r\n    <path clip-path=\"url(#pd2553629bb)\" d=\"M 640.320588 109.965259 \r\nL 679.708824 109.965259 \r\n\" style=\"fill:none;stroke:#3f3f3f;stroke-linecap:square;stroke-width:1.5;\"/>\r\n   </g>\r\n   <g id=\"line2d_99\"/>\r\n   <g id=\"line2d_100\">\r\n    <path clip-path=\"url(#pd2553629bb)\" d=\"M 522.155882 152.626524 \r\nL 600.932353 152.626524 \r\n\" style=\"fill:none;stroke:#3f3f3f;stroke-linecap:square;stroke-width:1.5;\"/>\r\n   </g>\r\n   <g id=\"line2d_101\">\r\n    <path clip-path=\"url(#pd2553629bb)\" d=\"M 620.626471 149.538763 \r\nL 699.402941 149.538763 \r\n\" style=\"fill:none;stroke:#3f3f3f;stroke-linecap:square;stroke-width:1.5;\"/>\r\n   </g>\r\n   <g id=\"patch_40\">\r\n    <path d=\"M 512.308824 186.272746 \r\nL 512.308824 106.331569 \r\n\" style=\"fill:none;stroke:#000000;stroke-linecap:square;stroke-linejoin:miter;stroke-width:0.8;\"/>\r\n   </g>\r\n   <g id=\"patch_41\">\r\n    <path d=\"M 709.25 186.272746 \r\nL 709.25 106.331569 \r\n\" style=\"fill:none;stroke:#000000;stroke-linecap:square;stroke-linejoin:miter;stroke-width:0.8;\"/>\r\n   </g>\r\n   <g id=\"patch_42\">\r\n    <path d=\"M 512.308824 186.272746 \r\nL 709.25 186.272746 \r\n\" style=\"fill:none;stroke:#000000;stroke-linecap:square;stroke-linejoin:miter;stroke-width:0.8;\"/>\r\n   </g>\r\n   <g id=\"patch_43\">\r\n    <path d=\"M 512.308824 106.331569 \r\nL 709.25 106.331569 \r\n\" style=\"fill:none;stroke:#000000;stroke-linecap:square;stroke-linejoin:miter;stroke-width:0.8;\"/>\r\n   </g>\r\n  </g>\r\n  <g id=\"axes_7\">\r\n   <g id=\"patch_44\">\r\n    <path d=\"M 39.65 282.202157 \r\nL 236.591176 282.202157 \r\nL 236.591176 202.260981 \r\nL 39.65 202.260981 \r\nz\r\n\" style=\"fill:#ffffff;\"/>\r\n   </g>\r\n   <g id=\"patch_45\">\r\n    <path clip-path=\"url(#pbf7dcc30bc)\" d=\"M 49.497059 266.008026 \r\nL 128.273529 266.008026 \r\nL 128.273529 246.594336 \r\nL 49.497059 246.594336 \r\nL 49.497059 266.008026 \r\nz\r\n\" style=\"fill:#3274a1;stroke:#3f3f3f;stroke-linejoin:miter;stroke-width:1.5;\"/>\r\n   </g>\r\n   <g id=\"patch_46\">\r\n    <path clip-path=\"url(#pbf7dcc30bc)\" d=\"M 147.967647 260.666237 \r\nL 226.744118 260.666237 \r\nL 226.744118 239.924342 \r\nL 147.967647 239.924342 \r\nL 147.967647 260.666237 \r\nz\r\n\" style=\"fill:#e1812c;stroke:#3f3f3f;stroke-linejoin:miter;stroke-width:1.5;\"/>\r\n   </g>\r\n   <g id=\"matplotlib.axis_13\">\r\n    <g id=\"xtick_13\">\r\n     <g id=\"line2d_102\">\r\n      <g>\r\n       <use style=\"stroke:#000000;stroke-width:0.8;\" x=\"88.885294\" xlink:href=\"#me9a0fe6619\" y=\"282.202157\"/>\r\n      </g>\r\n     </g>\r\n     <g id=\"text_30\">\r\n      <!-- env_slopesolar -->\r\n      <g transform=\"translate(51.704044 296.800595)scale(0.1 -0.1)\">\r\n       <use xlink:href=\"#DejaVuSans-101\"/>\r\n       <use x=\"61.523438\" xlink:href=\"#DejaVuSans-110\"/>\r\n       <use x=\"124.902344\" xlink:href=\"#DejaVuSans-118\"/>\r\n       <use x=\"184.082031\" xlink:href=\"#DejaVuSans-95\"/>\r\n       <use x=\"234.082031\" xlink:href=\"#DejaVuSans-115\"/>\r\n       <use x=\"286.181641\" xlink:href=\"#DejaVuSans-108\"/>\r\n       <use x=\"313.964844\" xlink:href=\"#DejaVuSans-111\"/>\r\n       <use x=\"375.146484\" xlink:href=\"#DejaVuSans-112\"/>\r\n       <use x=\"438.623047\" xlink:href=\"#DejaVuSans-101\"/>\r\n       <use x=\"500.146484\" xlink:href=\"#DejaVuSans-115\"/>\r\n       <use x=\"552.246094\" xlink:href=\"#DejaVuSans-111\"/>\r\n       <use x=\"613.427734\" xlink:href=\"#DejaVuSans-108\"/>\r\n       <use x=\"641.210938\" xlink:href=\"#DejaVuSans-97\"/>\r\n       <use x=\"702.490234\" xlink:href=\"#DejaVuSans-114\"/>\r\n      </g>\r\n     </g>\r\n    </g>\r\n    <g id=\"xtick_14\">\r\n     <g id=\"line2d_103\">\r\n      <g>\r\n       <use style=\"stroke:#000000;stroke-width:0.8;\" x=\"187.355882\" xlink:href=\"#me9a0fe6619\" y=\"282.202157\"/>\r\n      </g>\r\n     </g>\r\n     <g id=\"text_31\">\r\n      <!-- match_solar -->\r\n      <g transform=\"translate(156.870726 296.800595)scale(0.1 -0.1)\">\r\n       <use xlink:href=\"#DejaVuSans-109\"/>\r\n       <use x=\"97.412109\" xlink:href=\"#DejaVuSans-97\"/>\r\n       <use x=\"158.691406\" xlink:href=\"#DejaVuSans-116\"/>\r\n       <use x=\"197.900391\" xlink:href=\"#DejaVuSans-99\"/>\r\n       <use x=\"252.880859\" xlink:href=\"#DejaVuSans-104\"/>\r\n       <use x=\"316.259766\" xlink:href=\"#DejaVuSans-95\"/>\r\n       <use x=\"366.259766\" xlink:href=\"#DejaVuSans-115\"/>\r\n       <use x=\"418.359375\" xlink:href=\"#DejaVuSans-111\"/>\r\n       <use x=\"479.541016\" xlink:href=\"#DejaVuSans-108\"/>\r\n       <use x=\"507.324219\" xlink:href=\"#DejaVuSans-97\"/>\r\n       <use x=\"568.603516\" xlink:href=\"#DejaVuSans-114\"/>\r\n      </g>\r\n     </g>\r\n    </g>\r\n   </g>\r\n   <g id=\"matplotlib.axis_14\">\r\n    <g id=\"ytick_18\">\r\n     <g id=\"line2d_104\">\r\n      <g>\r\n       <use style=\"stroke:#000000;stroke-width:0.8;\" x=\"39.65\" xlink:href=\"#m4f382049cf\" y=\"278.707364\"/>\r\n      </g>\r\n     </g>\r\n     <g id=\"text_32\">\r\n      <!-- 0 -->\r\n      <g transform=\"translate(26.2875 282.506583)scale(0.1 -0.1)\">\r\n       <use xlink:href=\"#DejaVuSans-48\"/>\r\n      </g>\r\n     </g>\r\n    </g>\r\n    <g id=\"ytick_19\">\r\n     <g id=\"line2d_105\">\r\n      <g>\r\n       <use style=\"stroke:#000000;stroke-width:0.8;\" x=\"39.65\" xlink:href=\"#m4f382049cf\" y=\"239.816311\"/>\r\n      </g>\r\n     </g>\r\n     <g id=\"text_33\">\r\n      <!-- 500 -->\r\n      <g transform=\"translate(13.5625 243.61553)scale(0.1 -0.1)\">\r\n       <use xlink:href=\"#DejaVuSans-53\"/>\r\n       <use x=\"63.623047\" xlink:href=\"#DejaVuSans-48\"/>\r\n       <use x=\"127.246094\" xlink:href=\"#DejaVuSans-48\"/>\r\n      </g>\r\n     </g>\r\n    </g>\r\n   </g>\r\n   <g id=\"line2d_106\">\r\n    <path clip-path=\"url(#pbf7dcc30bc)\" d=\"M 88.885294 266.008026 \r\nL 88.885294 278.568467 \r\n\" style=\"fill:none;stroke:#3f3f3f;stroke-linecap:square;stroke-width:1.5;\"/>\r\n   </g>\r\n   <g id=\"line2d_107\">\r\n    <path clip-path=\"url(#pbf7dcc30bc)\" d=\"M 88.885294 246.594336 \r\nL 88.885294 217.785085 \r\n\" style=\"fill:none;stroke:#3f3f3f;stroke-linecap:square;stroke-width:1.5;\"/>\r\n   </g>\r\n   <g id=\"line2d_108\">\r\n    <path clip-path=\"url(#pbf7dcc30bc)\" d=\"M 69.191176 278.568467 \r\nL 108.579412 278.568467 \r\n\" style=\"fill:none;stroke:#3f3f3f;stroke-linecap:square;stroke-width:1.5;\"/>\r\n   </g>\r\n   <g id=\"line2d_109\">\r\n    <path clip-path=\"url(#pbf7dcc30bc)\" d=\"M 69.191176 217.785085 \r\nL 108.579412 217.785085 \r\n\" style=\"fill:none;stroke:#3f3f3f;stroke-linecap:square;stroke-width:1.5;\"/>\r\n   </g>\r\n   <g id=\"line2d_110\">\r\n    <g clip-path=\"url(#pbf7dcc30bc)\">\r\n     <use style=\"fill:#3f3f3f;stroke:#3f3f3f;stroke-linejoin:miter;\" x=\"88.885294\" xlink:href=\"#m52550ee77b\" y=\"214.413972\"/>\r\n    </g>\r\n   </g>\r\n   <g id=\"line2d_111\">\r\n    <path clip-path=\"url(#pbf7dcc30bc)\" d=\"M 187.355882 260.666237 \r\nL 187.355882 277.843118 \r\n\" style=\"fill:none;stroke:#3f3f3f;stroke-linecap:square;stroke-width:1.5;\"/>\r\n   </g>\r\n   <g id=\"line2d_112\">\r\n    <path clip-path=\"url(#pbf7dcc30bc)\" d=\"M 187.355882 239.924342 \r\nL 187.355882 209.351653 \r\n\" style=\"fill:none;stroke:#3f3f3f;stroke-linecap:square;stroke-width:1.5;\"/>\r\n   </g>\r\n   <g id=\"line2d_113\">\r\n    <path clip-path=\"url(#pbf7dcc30bc)\" d=\"M 167.661765 277.843118 \r\nL 207.05 277.843118 \r\n\" style=\"fill:none;stroke:#3f3f3f;stroke-linecap:square;stroke-width:1.5;\"/>\r\n   </g>\r\n   <g id=\"line2d_114\">\r\n    <path clip-path=\"url(#pbf7dcc30bc)\" d=\"M 167.661765 209.351653 \r\nL 207.05 209.351653 \r\n\" style=\"fill:none;stroke:#3f3f3f;stroke-linecap:square;stroke-width:1.5;\"/>\r\n   </g>\r\n   <g id=\"line2d_115\">\r\n    <g clip-path=\"url(#pbf7dcc30bc)\">\r\n     <use style=\"fill:#3f3f3f;stroke:#3f3f3f;stroke-linejoin:miter;\" x=\"187.355882\" xlink:href=\"#m52550ee77b\" y=\"207.407101\"/>\r\n     <use style=\"fill:#3f3f3f;stroke:#3f3f3f;stroke-linejoin:miter;\" x=\"187.355882\" xlink:href=\"#m52550ee77b\" y=\"208.055285\"/>\r\n     <use style=\"fill:#3f3f3f;stroke:#3f3f3f;stroke-linejoin:miter;\" x=\"187.355882\" xlink:href=\"#m52550ee77b\" y=\"205.894671\"/>\r\n    </g>\r\n   </g>\r\n   <g id=\"line2d_116\">\r\n    <path clip-path=\"url(#pbf7dcc30bc)\" d=\"M 49.497059 255.157688 \r\nL 128.273529 255.157688 \r\n\" style=\"fill:none;stroke:#3f3f3f;stroke-linecap:square;stroke-width:1.5;\"/>\r\n   </g>\r\n   <g id=\"line2d_117\">\r\n    <path clip-path=\"url(#pbf7dcc30bc)\" d=\"M 147.967647 249.755136 \r\nL 226.744118 249.755136 \r\n\" style=\"fill:none;stroke:#3f3f3f;stroke-linecap:square;stroke-width:1.5;\"/>\r\n   </g>\r\n   <g id=\"patch_47\">\r\n    <path d=\"M 39.65 282.202157 \r\nL 39.65 202.260981 \r\n\" style=\"fill:none;stroke:#000000;stroke-linecap:square;stroke-linejoin:miter;stroke-width:0.8;\"/>\r\n   </g>\r\n   <g id=\"patch_48\">\r\n    <path d=\"M 236.591176 282.202157 \r\nL 236.591176 202.260981 \r\n\" style=\"fill:none;stroke:#000000;stroke-linecap:square;stroke-linejoin:miter;stroke-width:0.8;\"/>\r\n   </g>\r\n   <g id=\"patch_49\">\r\n    <path d=\"M 39.65 282.202157 \r\nL 236.591176 282.202157 \r\n\" style=\"fill:none;stroke:#000000;stroke-linecap:square;stroke-linejoin:miter;stroke-width:0.8;\"/>\r\n   </g>\r\n   <g id=\"patch_50\">\r\n    <path d=\"M 39.65 202.260981 \r\nL 236.591176 202.260981 \r\n\" style=\"fill:none;stroke:#000000;stroke-linecap:square;stroke-linejoin:miter;stroke-width:0.8;\"/>\r\n   </g>\r\n  </g>\r\n  <g id=\"axes_8\">\r\n   <g id=\"patch_51\">\r\n    <path d=\"M 275.979412 282.202157 \r\nL 472.920588 282.202157 \r\nL 472.920588 202.260981 \r\nL 275.979412 202.260981 \r\nz\r\n\" style=\"fill:#ffffff;\"/>\r\n   </g>\r\n   <g id=\"patch_52\">\r\n    <path clip-path=\"url(#p4e2237838f)\" d=\"M 285.826471 273.833439 \r\nL 364.602941 273.833439 \r\nL 364.602941 257.356831 \r\nL 285.826471 257.356831 \r\nL 285.826471 273.833439 \r\nz\r\n\" style=\"fill:#3274a1;stroke:#3f3f3f;stroke-linejoin:miter;stroke-width:1.5;\"/>\r\n   </g>\r\n   <g id=\"patch_53\">\r\n    <path clip-path=\"url(#p4e2237838f)\" d=\"M 384.297059 264.486348 \r\nL 463.073529 264.486348 \r\nL 463.073529 245.123433 \r\nL 384.297059 245.123433 \r\nL 384.297059 264.486348 \r\nz\r\n\" style=\"fill:#e1812c;stroke:#3f3f3f;stroke-linejoin:miter;stroke-width:1.5;\"/>\r\n   </g>\r\n   <g id=\"matplotlib.axis_15\">\r\n    <g id=\"xtick_15\">\r\n     <g id=\"line2d_118\">\r\n      <g>\r\n       <use style=\"stroke:#000000;stroke-width:0.8;\" x=\"325.214706\" xlink:href=\"#me9a0fe6619\" y=\"282.202157\"/>\r\n      </g>\r\n     </g>\r\n     <g id=\"text_34\">\r\n      <!-- env_slopesolar -->\r\n      <g transform=\"translate(288.033456 296.800595)scale(0.1 -0.1)\">\r\n       <use xlink:href=\"#DejaVuSans-101\"/>\r\n       <use x=\"61.523438\" xlink:href=\"#DejaVuSans-110\"/>\r\n       <use x=\"124.902344\" xlink:href=\"#DejaVuSans-118\"/>\r\n       <use x=\"184.082031\" xlink:href=\"#DejaVuSans-95\"/>\r\n       <use x=\"234.082031\" xlink:href=\"#DejaVuSans-115\"/>\r\n       <use x=\"286.181641\" xlink:href=\"#DejaVuSans-108\"/>\r\n       <use x=\"313.964844\" xlink:href=\"#DejaVuSans-111\"/>\r\n       <use x=\"375.146484\" xlink:href=\"#DejaVuSans-112\"/>\r\n       <use x=\"438.623047\" xlink:href=\"#DejaVuSans-101\"/>\r\n       <use x=\"500.146484\" xlink:href=\"#DejaVuSans-115\"/>\r\n       <use x=\"552.246094\" xlink:href=\"#DejaVuSans-111\"/>\r\n       <use x=\"613.427734\" xlink:href=\"#DejaVuSans-108\"/>\r\n       <use x=\"641.210938\" xlink:href=\"#DejaVuSans-97\"/>\r\n       <use x=\"702.490234\" xlink:href=\"#DejaVuSans-114\"/>\r\n      </g>\r\n     </g>\r\n    </g>\r\n    <g id=\"xtick_16\">\r\n     <g id=\"line2d_119\">\r\n      <g>\r\n       <use style=\"stroke:#000000;stroke-width:0.8;\" x=\"423.685294\" xlink:href=\"#me9a0fe6619\" y=\"282.202157\"/>\r\n      </g>\r\n     </g>\r\n     <g id=\"text_35\">\r\n      <!-- match_solar -->\r\n      <g transform=\"translate(393.200138 296.800595)scale(0.1 -0.1)\">\r\n       <use xlink:href=\"#DejaVuSans-109\"/>\r\n       <use x=\"97.412109\" xlink:href=\"#DejaVuSans-97\"/>\r\n       <use x=\"158.691406\" xlink:href=\"#DejaVuSans-116\"/>\r\n       <use x=\"197.900391\" xlink:href=\"#DejaVuSans-99\"/>\r\n       <use x=\"252.880859\" xlink:href=\"#DejaVuSans-104\"/>\r\n       <use x=\"316.259766\" xlink:href=\"#DejaVuSans-95\"/>\r\n       <use x=\"366.259766\" xlink:href=\"#DejaVuSans-115\"/>\r\n       <use x=\"418.359375\" xlink:href=\"#DejaVuSans-111\"/>\r\n       <use x=\"479.541016\" xlink:href=\"#DejaVuSans-108\"/>\r\n       <use x=\"507.324219\" xlink:href=\"#DejaVuSans-97\"/>\r\n       <use x=\"568.603516\" xlink:href=\"#DejaVuSans-114\"/>\r\n      </g>\r\n     </g>\r\n    </g>\r\n   </g>\r\n   <g id=\"matplotlib.axis_16\">\r\n    <g id=\"ytick_20\">\r\n     <g id=\"line2d_120\">\r\n      <g>\r\n       <use style=\"stroke:#000000;stroke-width:0.8;\" x=\"275.979412\" xlink:href=\"#m4f382049cf\" y=\"278.568467\"/>\r\n      </g>\r\n     </g>\r\n     <g id=\"text_36\">\r\n      <!-- 0 -->\r\n      <g transform=\"translate(262.616912 282.367686)scale(0.1 -0.1)\">\r\n       <use xlink:href=\"#DejaVuSans-48\"/>\r\n      </g>\r\n     </g>\r\n    </g>\r\n    <g id=\"ytick_21\">\r\n     <g id=\"line2d_121\">\r\n      <g>\r\n       <use style=\"stroke:#000000;stroke-width:0.8;\" x=\"275.979412\" xlink:href=\"#m4f382049cf\" y=\"233.304511\"/>\r\n      </g>\r\n     </g>\r\n     <g id=\"text_37\">\r\n      <!-- 500 -->\r\n      <g transform=\"translate(249.891912 237.10373)scale(0.1 -0.1)\">\r\n       <use xlink:href=\"#DejaVuSans-53\"/>\r\n       <use x=\"63.623047\" xlink:href=\"#DejaVuSans-48\"/>\r\n       <use x=\"127.246094\" xlink:href=\"#DejaVuSans-48\"/>\r\n      </g>\r\n     </g>\r\n    </g>\r\n   </g>\r\n   <g id=\"line2d_122\">\r\n    <path clip-path=\"url(#p4e2237838f)\" d=\"M 325.214706 273.833439 \r\nL 325.214706 278.568467 \r\n\" style=\"fill:none;stroke:#3f3f3f;stroke-linecap:square;stroke-width:1.5;\"/>\r\n   </g>\r\n   <g id=\"line2d_123\">\r\n    <path clip-path=\"url(#p4e2237838f)\" d=\"M 325.214706 257.356831 \r\nL 325.214706 233.197171 \r\n\" style=\"fill:none;stroke:#3f3f3f;stroke-linecap:square;stroke-width:1.5;\"/>\r\n   </g>\r\n   <g id=\"line2d_124\">\r\n    <path clip-path=\"url(#p4e2237838f)\" d=\"M 305.520588 278.568467 \r\nL 344.908824 278.568467 \r\n\" style=\"fill:none;stroke:#3f3f3f;stroke-linecap:square;stroke-width:1.5;\"/>\r\n   </g>\r\n   <g id=\"line2d_125\">\r\n    <path clip-path=\"url(#p4e2237838f)\" d=\"M 305.520588 233.197171 \r\nL 344.908824 233.197171 \r\n\" style=\"fill:none;stroke:#3f3f3f;stroke-linecap:square;stroke-width:1.5;\"/>\r\n   </g>\r\n   <g id=\"line2d_126\">\r\n    <g clip-path=\"url(#p4e2237838f)\">\r\n     <use style=\"fill:#3f3f3f;stroke:#3f3f3f;stroke-linejoin:miter;\" x=\"325.214706\" xlink:href=\"#m52550ee77b\" y=\"232.074625\"/>\r\n     <use style=\"fill:#3f3f3f;stroke:#3f3f3f;stroke-linejoin:miter;\" x=\"325.214706\" xlink:href=\"#m52550ee77b\" y=\"231.931073\"/>\r\n     <use style=\"fill:#3f3f3f;stroke:#3f3f3f;stroke-linejoin:miter;\" x=\"325.214706\" xlink:href=\"#m52550ee77b\" y=\"231.876756\"/>\r\n     <use style=\"fill:#3f3f3f;stroke:#3f3f3f;stroke-linejoin:miter;\" x=\"325.214706\" xlink:href=\"#m52550ee77b\" y=\"231.010275\"/>\r\n     <use style=\"fill:#3f3f3f;stroke:#3f3f3f;stroke-linejoin:miter;\" x=\"325.214706\" xlink:href=\"#m52550ee77b\" y=\"232.272493\"/>\r\n     <use style=\"fill:#3f3f3f;stroke:#3f3f3f;stroke-linejoin:miter;\" x=\"325.214706\" xlink:href=\"#m52550ee77b\" y=\"230.795969\"/>\r\n     <use style=\"fill:#3f3f3f;stroke:#3f3f3f;stroke-linejoin:miter;\" x=\"325.214706\" xlink:href=\"#m52550ee77b\" y=\"231.002516\"/>\r\n     <use style=\"fill:#3f3f3f;stroke:#3f3f3f;stroke-linejoin:miter;\" x=\"325.214706\" xlink:href=\"#m52550ee77b\" y=\"230.876233\"/>\r\n     <use style=\"fill:#3f3f3f;stroke:#3f3f3f;stroke-linejoin:miter;\" x=\"325.214706\" xlink:href=\"#m52550ee77b\" y=\"227.338722\"/>\r\n     <use style=\"fill:#3f3f3f;stroke:#3f3f3f;stroke-linejoin:miter;\" x=\"325.214706\" xlink:href=\"#m52550ee77b\" y=\"227.484485\"/>\r\n     <use style=\"fill:#3f3f3f;stroke:#3f3f3f;stroke-linejoin:miter;\" x=\"325.214706\" xlink:href=\"#m52550ee77b\" y=\"229.548896\"/>\r\n     <use style=\"fill:#3f3f3f;stroke:#3f3f3f;stroke-linejoin:miter;\" x=\"325.214706\" xlink:href=\"#m52550ee77b\" y=\"223.664582\"/>\r\n     <use style=\"fill:#3f3f3f;stroke:#3f3f3f;stroke-linejoin:miter;\" x=\"325.214706\" xlink:href=\"#m52550ee77b\" y=\"231.096417\"/>\r\n     <use style=\"fill:#3f3f3f;stroke:#3f3f3f;stroke-linejoin:miter;\" x=\"325.214706\" xlink:href=\"#m52550ee77b\" y=\"229.135054\"/>\r\n     <use style=\"fill:#3f3f3f;stroke:#3f3f3f;stroke-linejoin:miter;\" x=\"325.214706\" xlink:href=\"#m52550ee77b\" y=\"229.484233\"/>\r\n     <use style=\"fill:#3f3f3f;stroke:#3f3f3f;stroke-linejoin:miter;\" x=\"325.214706\" xlink:href=\"#m52550ee77b\" y=\"223.468007\"/>\r\n     <use style=\"fill:#3f3f3f;stroke:#3f3f3f;stroke-linejoin:miter;\" x=\"325.214706\" xlink:href=\"#m52550ee77b\" y=\"228.437989\"/>\r\n     <use style=\"fill:#3f3f3f;stroke:#3f3f3f;stroke-linejoin:miter;\" x=\"325.214706\" xlink:href=\"#m52550ee77b\" y=\"228.997969\"/>\r\n     <use style=\"fill:#3f3f3f;stroke:#3f3f3f;stroke-linejoin:miter;\" x=\"325.214706\" xlink:href=\"#m52550ee77b\" y=\"230.383046\"/>\r\n     <use style=\"fill:#3f3f3f;stroke:#3f3f3f;stroke-linejoin:miter;\" x=\"325.214706\" xlink:href=\"#m52550ee77b\" y=\"230.164486\"/>\r\n     <use style=\"fill:#3f3f3f;stroke:#3f3f3f;stroke-linejoin:miter;\" x=\"325.214706\" xlink:href=\"#m52550ee77b\" y=\"231.871152\"/>\r\n     <use style=\"fill:#3f3f3f;stroke:#3f3f3f;stroke-linejoin:miter;\" x=\"325.214706\" xlink:href=\"#m52550ee77b\" y=\"225.637493\"/>\r\n     <use style=\"fill:#3f3f3f;stroke:#3f3f3f;stroke-linejoin:miter;\" x=\"325.214706\" xlink:href=\"#m52550ee77b\" y=\"222.315815\"/>\r\n     <use style=\"fill:#3f3f3f;stroke:#3f3f3f;stroke-linejoin:miter;\" x=\"325.214706\" xlink:href=\"#m52550ee77b\" y=\"220.310274\"/>\r\n     <use style=\"fill:#3f3f3f;stroke:#3f3f3f;stroke-linejoin:miter;\" x=\"325.214706\" xlink:href=\"#m52550ee77b\" y=\"231.048857\"/>\r\n     <use style=\"fill:#3f3f3f;stroke:#3f3f3f;stroke-linejoin:miter;\" x=\"325.214706\" xlink:href=\"#m52550ee77b\" y=\"230.890433\"/>\r\n     <use style=\"fill:#3f3f3f;stroke:#3f3f3f;stroke-linejoin:miter;\" x=\"325.214706\" xlink:href=\"#m52550ee77b\" y=\"230.611306\"/>\r\n    </g>\r\n   </g>\r\n   <g id=\"line2d_127\">\r\n    <path clip-path=\"url(#p4e2237838f)\" d=\"M 423.685294 264.486348 \r\nL 423.685294 277.562602 \r\n\" style=\"fill:none;stroke:#3f3f3f;stroke-linecap:square;stroke-width:1.5;\"/>\r\n   </g>\r\n   <g id=\"line2d_128\">\r\n    <path clip-path=\"url(#p4e2237838f)\" d=\"M 423.685294 245.123433 \r\nL 423.685294 216.204794 \r\n\" style=\"fill:none;stroke:#3f3f3f;stroke-linecap:square;stroke-width:1.5;\"/>\r\n   </g>\r\n   <g id=\"line2d_129\">\r\n    <path clip-path=\"url(#p4e2237838f)\" d=\"M 403.991176 277.562602 \r\nL 443.379412 277.562602 \r\n\" style=\"fill:none;stroke:#3f3f3f;stroke-linecap:square;stroke-width:1.5;\"/>\r\n   </g>\r\n   <g id=\"line2d_130\">\r\n    <path clip-path=\"url(#p4e2237838f)\" d=\"M 403.991176 216.204794 \r\nL 443.379412 216.204794 \r\n\" style=\"fill:none;stroke:#3f3f3f;stroke-linecap:square;stroke-width:1.5;\"/>\r\n   </g>\r\n   <g id=\"line2d_131\">\r\n    <g clip-path=\"url(#p4e2237838f)\">\r\n     <use style=\"fill:#3f3f3f;stroke:#3f3f3f;stroke-linejoin:miter;\" x=\"423.685294\" xlink:href=\"#m52550ee77b\" y=\"214.695996\"/>\r\n     <use style=\"fill:#3f3f3f;stroke:#3f3f3f;stroke-linejoin:miter;\" x=\"423.685294\" xlink:href=\"#m52550ee77b\" y=\"215.953328\"/>\r\n     <use style=\"fill:#3f3f3f;stroke:#3f3f3f;stroke-linejoin:miter;\" x=\"423.685294\" xlink:href=\"#m52550ee77b\" y=\"214.695996\"/>\r\n     <use style=\"fill:#3f3f3f;stroke:#3f3f3f;stroke-linejoin:miter;\" x=\"423.685294\" xlink:href=\"#m52550ee77b\" y=\"212.684264\"/>\r\n     <use style=\"fill:#3f3f3f;stroke:#3f3f3f;stroke-linejoin:miter;\" x=\"423.685294\" xlink:href=\"#m52550ee77b\" y=\"214.947462\"/>\r\n     <use style=\"fill:#3f3f3f;stroke:#3f3f3f;stroke-linejoin:miter;\" x=\"423.685294\" xlink:href=\"#m52550ee77b\" y=\"211.929865\"/>\r\n     <use style=\"fill:#3f3f3f;stroke:#3f3f3f;stroke-linejoin:miter;\" x=\"423.685294\" xlink:href=\"#m52550ee77b\" y=\"211.175466\"/>\r\n     <use style=\"fill:#3f3f3f;stroke:#3f3f3f;stroke-linejoin:miter;\" x=\"423.685294\" xlink:href=\"#m52550ee77b\" y=\"213.187197\"/>\r\n     <use style=\"fill:#3f3f3f;stroke:#3f3f3f;stroke-linejoin:miter;\" x=\"423.685294\" xlink:href=\"#m52550ee77b\" y=\"213.438663\"/>\r\n     <use style=\"fill:#3f3f3f;stroke:#3f3f3f;stroke-linejoin:miter;\" x=\"423.685294\" xlink:href=\"#m52550ee77b\" y=\"208.660801\"/>\r\n     <use style=\"fill:#3f3f3f;stroke:#3f3f3f;stroke-linejoin:miter;\" x=\"423.685294\" xlink:href=\"#m52550ee77b\" y=\"212.432798\"/>\r\n     <use style=\"fill:#3f3f3f;stroke:#3f3f3f;stroke-linejoin:miter;\" x=\"423.685294\" xlink:href=\"#m52550ee77b\" y=\"213.941596\"/>\r\n     <use style=\"fill:#3f3f3f;stroke:#3f3f3f;stroke-linejoin:miter;\" x=\"423.685294\" xlink:href=\"#m52550ee77b\" y=\"213.438663\"/>\r\n     <use style=\"fill:#3f3f3f;stroke:#3f3f3f;stroke-linejoin:miter;\" x=\"423.685294\" xlink:href=\"#m52550ee77b\" y=\"209.918133\"/>\r\n     <use style=\"fill:#3f3f3f;stroke:#3f3f3f;stroke-linejoin:miter;\" x=\"423.685294\" xlink:href=\"#m52550ee77b\" y=\"212.935731\"/>\r\n     <use style=\"fill:#3f3f3f;stroke:#3f3f3f;stroke-linejoin:miter;\" x=\"423.685294\" xlink:href=\"#m52550ee77b\" y=\"214.695996\"/>\r\n     <use style=\"fill:#3f3f3f;stroke:#3f3f3f;stroke-linejoin:miter;\" x=\"423.685294\" xlink:href=\"#m52550ee77b\" y=\"215.198928\"/>\r\n     <use style=\"fill:#3f3f3f;stroke:#3f3f3f;stroke-linejoin:miter;\" x=\"423.685294\" xlink:href=\"#m52550ee77b\" y=\"211.426932\"/>\r\n     <use style=\"fill:#3f3f3f;stroke:#3f3f3f;stroke-linejoin:miter;\" x=\"423.685294\" xlink:href=\"#m52550ee77b\" y=\"209.415201\"/>\r\n     <use style=\"fill:#3f3f3f;stroke:#3f3f3f;stroke-linejoin:miter;\" x=\"423.685294\" xlink:href=\"#m52550ee77b\" y=\"215.198928\"/>\r\n     <use style=\"fill:#3f3f3f;stroke:#3f3f3f;stroke-linejoin:miter;\" x=\"423.685294\" xlink:href=\"#m52550ee77b\" y=\"209.163734\"/>\r\n     <use style=\"fill:#3f3f3f;stroke:#3f3f3f;stroke-linejoin:miter;\" x=\"423.685294\" xlink:href=\"#m52550ee77b\" y=\"205.894671\"/>\r\n    </g>\r\n   </g>\r\n   <g id=\"line2d_132\">\r\n    <path clip-path=\"url(#p4e2237838f)\" d=\"M 285.826471 269.821288 \r\nL 364.602941 269.821288 \r\n\" style=\"fill:none;stroke:#3f3f3f;stroke-linecap:square;stroke-width:1.5;\"/>\r\n   </g>\r\n   <g id=\"line2d_133\">\r\n    <path clip-path=\"url(#p4e2237838f)\" d=\"M 384.297059 256.062222 \r\nL 463.073529 256.062222 \r\n\" style=\"fill:none;stroke:#3f3f3f;stroke-linecap:square;stroke-width:1.5;\"/>\r\n   </g>\r\n   <g id=\"patch_54\">\r\n    <path d=\"M 275.979412 282.202157 \r\nL 275.979412 202.260981 \r\n\" style=\"fill:none;stroke:#000000;stroke-linecap:square;stroke-linejoin:miter;stroke-width:0.8;\"/>\r\n   </g>\r\n   <g id=\"patch_55\">\r\n    <path d=\"M 472.920588 282.202157 \r\nL 472.920588 202.260981 \r\n\" style=\"fill:none;stroke:#000000;stroke-linecap:square;stroke-linejoin:miter;stroke-width:0.8;\"/>\r\n   </g>\r\n   <g id=\"patch_56\">\r\n    <path d=\"M 275.979412 282.202157 \r\nL 472.920588 282.202157 \r\n\" style=\"fill:none;stroke:#000000;stroke-linecap:square;stroke-linejoin:miter;stroke-width:0.8;\"/>\r\n   </g>\r\n   <g id=\"patch_57\">\r\n    <path d=\"M 275.979412 202.260981 \r\nL 472.920588 202.260981 \r\n\" style=\"fill:none;stroke:#000000;stroke-linecap:square;stroke-linejoin:miter;stroke-width:0.8;\"/>\r\n   </g>\r\n  </g>\r\n  <g id=\"axes_9\">\r\n   <g id=\"patch_58\">\r\n    <path d=\"M 512.308824 282.202157 \r\nL 709.25 282.202157 \r\nL 709.25 202.260981 \r\nL 512.308824 202.260981 \r\nz\r\n\" style=\"fill:#ffffff;\"/>\r\n   </g>\r\n   <g id=\"patch_59\">\r\n    <path clip-path=\"url(#pef3795d96e)\" d=\"M 522.155882 278.265143 \r\nL 600.932353 278.265143 \r\nL 600.932353 269.716108 \r\nL 522.155882 269.716108 \r\nL 522.155882 278.265143 \r\nz\r\n\" style=\"fill:#3274a1;stroke:#3f3f3f;stroke-linejoin:miter;stroke-width:1.5;\"/>\r\n   </g>\r\n   <g id=\"patch_60\">\r\n    <path clip-path=\"url(#pef3795d96e)\" d=\"M 620.626471 269.808679 \r\nL 699.402941 269.808679 \r\nL 699.402941 252.694649 \r\nL 620.626471 252.694649 \r\nL 620.626471 269.808679 \r\nz\r\n\" style=\"fill:#e1812c;stroke:#3f3f3f;stroke-linejoin:miter;stroke-width:1.5;\"/>\r\n   </g>\r\n   <g id=\"matplotlib.axis_17\">\r\n    <g id=\"xtick_17\">\r\n     <g id=\"line2d_134\">\r\n      <g>\r\n       <use style=\"stroke:#000000;stroke-width:0.8;\" x=\"561.544118\" xlink:href=\"#me9a0fe6619\" y=\"282.202157\"/>\r\n      </g>\r\n     </g>\r\n     <g id=\"text_38\">\r\n      <!-- env_slopesolar -->\r\n      <g transform=\"translate(524.362868 296.800595)scale(0.1 -0.1)\">\r\n       <use xlink:href=\"#DejaVuSans-101\"/>\r\n       <use x=\"61.523438\" xlink:href=\"#DejaVuSans-110\"/>\r\n       <use x=\"124.902344\" xlink:href=\"#DejaVuSans-118\"/>\r\n       <use x=\"184.082031\" xlink:href=\"#DejaVuSans-95\"/>\r\n       <use x=\"234.082031\" xlink:href=\"#DejaVuSans-115\"/>\r\n       <use x=\"286.181641\" xlink:href=\"#DejaVuSans-108\"/>\r\n       <use x=\"313.964844\" xlink:href=\"#DejaVuSans-111\"/>\r\n       <use x=\"375.146484\" xlink:href=\"#DejaVuSans-112\"/>\r\n       <use x=\"438.623047\" xlink:href=\"#DejaVuSans-101\"/>\r\n       <use x=\"500.146484\" xlink:href=\"#DejaVuSans-115\"/>\r\n       <use x=\"552.246094\" xlink:href=\"#DejaVuSans-111\"/>\r\n       <use x=\"613.427734\" xlink:href=\"#DejaVuSans-108\"/>\r\n       <use x=\"641.210938\" xlink:href=\"#DejaVuSans-97\"/>\r\n       <use x=\"702.490234\" xlink:href=\"#DejaVuSans-114\"/>\r\n      </g>\r\n     </g>\r\n    </g>\r\n    <g id=\"xtick_18\">\r\n     <g id=\"line2d_135\">\r\n      <g>\r\n       <use style=\"stroke:#000000;stroke-width:0.8;\" x=\"660.014706\" xlink:href=\"#me9a0fe6619\" y=\"282.202157\"/>\r\n      </g>\r\n     </g>\r\n     <g id=\"text_39\">\r\n      <!-- match_solar -->\r\n      <g transform=\"translate(629.52955 296.800595)scale(0.1 -0.1)\">\r\n       <use xlink:href=\"#DejaVuSans-109\"/>\r\n       <use x=\"97.412109\" xlink:href=\"#DejaVuSans-97\"/>\r\n       <use x=\"158.691406\" xlink:href=\"#DejaVuSans-116\"/>\r\n       <use x=\"197.900391\" xlink:href=\"#DejaVuSans-99\"/>\r\n       <use x=\"252.880859\" xlink:href=\"#DejaVuSans-104\"/>\r\n       <use x=\"316.259766\" xlink:href=\"#DejaVuSans-95\"/>\r\n       <use x=\"366.259766\" xlink:href=\"#DejaVuSans-115\"/>\r\n       <use x=\"418.359375\" xlink:href=\"#DejaVuSans-111\"/>\r\n       <use x=\"479.541016\" xlink:href=\"#DejaVuSans-108\"/>\r\n       <use x=\"507.324219\" xlink:href=\"#DejaVuSans-97\"/>\r\n       <use x=\"568.603516\" xlink:href=\"#DejaVuSans-114\"/>\r\n      </g>\r\n     </g>\r\n    </g>\r\n   </g>\r\n   <g id=\"matplotlib.axis_18\">\r\n    <g id=\"ytick_22\">\r\n     <g id=\"line2d_136\">\r\n      <g>\r\n       <use style=\"stroke:#000000;stroke-width:0.8;\" x=\"512.308824\" xlink:href=\"#m4f382049cf\" y=\"278.568467\"/>\r\n      </g>\r\n     </g>\r\n     <g id=\"text_40\">\r\n      <!-- 0 -->\r\n      <g transform=\"translate(498.946324 282.367686)scale(0.1 -0.1)\">\r\n       <use xlink:href=\"#DejaVuSans-48\"/>\r\n      </g>\r\n     </g>\r\n    </g>\r\n    <g id=\"ytick_23\">\r\n     <g id=\"line2d_137\">\r\n      <g>\r\n       <use style=\"stroke:#000000;stroke-width:0.8;\" x=\"512.308824\" xlink:href=\"#m4f382049cf\" y=\"249.369174\"/>\r\n      </g>\r\n     </g>\r\n     <g id=\"text_41\">\r\n      <!-- 250 -->\r\n      <g transform=\"translate(486.221324 253.168393)scale(0.1 -0.1)\">\r\n       <use xlink:href=\"#DejaVuSans-50\"/>\r\n       <use x=\"63.623047\" xlink:href=\"#DejaVuSans-53\"/>\r\n       <use x=\"127.246094\" xlink:href=\"#DejaVuSans-48\"/>\r\n      </g>\r\n     </g>\r\n    </g>\r\n    <g id=\"ytick_24\">\r\n     <g id=\"line2d_138\">\r\n      <g>\r\n       <use style=\"stroke:#000000;stroke-width:0.8;\" x=\"512.308824\" xlink:href=\"#m4f382049cf\" y=\"220.169881\"/>\r\n      </g>\r\n     </g>\r\n     <g id=\"text_42\">\r\n      <!-- 500 -->\r\n      <g transform=\"translate(486.221324 223.9691)scale(0.1 -0.1)\">\r\n       <use xlink:href=\"#DejaVuSans-53\"/>\r\n       <use x=\"63.623047\" xlink:href=\"#DejaVuSans-48\"/>\r\n       <use x=\"127.246094\" xlink:href=\"#DejaVuSans-48\"/>\r\n      </g>\r\n     </g>\r\n    </g>\r\n   </g>\r\n   <g id=\"line2d_139\">\r\n    <path clip-path=\"url(#pef3795d96e)\" d=\"M 561.544118 278.265143 \r\nL 561.544118 278.568467 \r\n\" style=\"fill:none;stroke:#3f3f3f;stroke-linecap:square;stroke-width:1.5;\"/>\r\n   </g>\r\n   <g id=\"line2d_140\">\r\n    <path clip-path=\"url(#pef3795d96e)\" d=\"M 561.544118 269.716108 \r\nL 561.544118 257.142111 \r\n\" style=\"fill:none;stroke:#3f3f3f;stroke-linecap:square;stroke-width:1.5;\"/>\r\n   </g>\r\n   <g id=\"line2d_141\">\r\n    <path clip-path=\"url(#pef3795d96e)\" d=\"M 541.85 278.568467 \r\nL 581.238235 278.568467 \r\n\" style=\"fill:none;stroke:#3f3f3f;stroke-linecap:square;stroke-width:1.5;\"/>\r\n   </g>\r\n   <g id=\"line2d_142\">\r\n    <path clip-path=\"url(#pef3795d96e)\" d=\"M 541.85 257.142111 \r\nL 581.238235 257.142111 \r\n\" style=\"fill:none;stroke:#3f3f3f;stroke-linecap:square;stroke-width:1.5;\"/>\r\n   </g>\r\n   <g id=\"line2d_143\">\r\n    <g clip-path=\"url(#pef3795d96e)\">\r\n     <use style=\"fill:#3f3f3f;stroke:#3f3f3f;stroke-linejoin:miter;\" x=\"561.544118\" xlink:href=\"#m52550ee77b\" y=\"246.946902\"/>\r\n     <use style=\"fill:#3f3f3f;stroke:#3f3f3f;stroke-linejoin:miter;\" x=\"561.544118\" xlink:href=\"#m52550ee77b\" y=\"245.661698\"/>\r\n     <use style=\"fill:#3f3f3f;stroke:#3f3f3f;stroke-linejoin:miter;\" x=\"561.544118\" xlink:href=\"#m52550ee77b\" y=\"246.20888\"/>\r\n     <use style=\"fill:#3f3f3f;stroke:#3f3f3f;stroke-linejoin:miter;\" x=\"561.544118\" xlink:href=\"#m52550ee77b\" y=\"246.711204\"/>\r\n     <use style=\"fill:#3f3f3f;stroke:#3f3f3f;stroke-linejoin:miter;\" x=\"561.544118\" xlink:href=\"#m52550ee77b\" y=\"242.423079\"/>\r\n     <use style=\"fill:#3f3f3f;stroke:#3f3f3f;stroke-linejoin:miter;\" x=\"561.544118\" xlink:href=\"#m52550ee77b\" y=\"249.822821\"/>\r\n     <use style=\"fill:#3f3f3f;stroke:#3f3f3f;stroke-linejoin:miter;\" x=\"561.544118\" xlink:href=\"#m52550ee77b\" y=\"254.057988\"/>\r\n     <use style=\"fill:#3f3f3f;stroke:#3f3f3f;stroke-linejoin:miter;\" x=\"561.544118\" xlink:href=\"#m52550ee77b\" y=\"254.767235\"/>\r\n     <use style=\"fill:#3f3f3f;stroke:#3f3f3f;stroke-linejoin:miter;\" x=\"561.544118\" xlink:href=\"#m52550ee77b\" y=\"253.730714\"/>\r\n     <use style=\"fill:#3f3f3f;stroke:#3f3f3f;stroke-linejoin:miter;\" x=\"561.544118\" xlink:href=\"#m52550ee77b\" y=\"253.168419\"/>\r\n     <use style=\"fill:#3f3f3f;stroke:#3f3f3f;stroke-linejoin:miter;\" x=\"561.544118\" xlink:href=\"#m52550ee77b\" y=\"255.572773\"/>\r\n     <use style=\"fill:#3f3f3f;stroke:#3f3f3f;stroke-linejoin:miter;\" x=\"561.544118\" xlink:href=\"#m52550ee77b\" y=\"256.817497\"/>\r\n     <use style=\"fill:#3f3f3f;stroke:#3f3f3f;stroke-linejoin:miter;\" x=\"561.544118\" xlink:href=\"#m52550ee77b\" y=\"254.813591\"/>\r\n     <use style=\"fill:#3f3f3f;stroke:#3f3f3f;stroke-linejoin:miter;\" x=\"561.544118\" xlink:href=\"#m52550ee77b\" y=\"248.793531\"/>\r\n     <use style=\"fill:#3f3f3f;stroke:#3f3f3f;stroke-linejoin:miter;\" x=\"561.544118\" xlink:href=\"#m52550ee77b\" y=\"251.967077\"/>\r\n     <use style=\"fill:#3f3f3f;stroke:#3f3f3f;stroke-linejoin:miter;\" x=\"561.544118\" xlink:href=\"#m52550ee77b\" y=\"253.458744\"/>\r\n     <use style=\"fill:#3f3f3f;stroke:#3f3f3f;stroke-linejoin:miter;\" x=\"561.544118\" xlink:href=\"#m52550ee77b\" y=\"237.894686\"/>\r\n     <use style=\"fill:#3f3f3f;stroke:#3f3f3f;stroke-linejoin:miter;\" x=\"561.544118\" xlink:href=\"#m52550ee77b\" y=\"244.970926\"/>\r\n     <use style=\"fill:#3f3f3f;stroke:#3f3f3f;stroke-linejoin:miter;\" x=\"561.544118\" xlink:href=\"#m52550ee77b\" y=\"236.042617\"/>\r\n     <use style=\"fill:#3f3f3f;stroke:#3f3f3f;stroke-linejoin:miter;\" x=\"561.544118\" xlink:href=\"#m52550ee77b\" y=\"238.569667\"/>\r\n     <use style=\"fill:#3f3f3f;stroke:#3f3f3f;stroke-linejoin:miter;\" x=\"561.544118\" xlink:href=\"#m52550ee77b\" y=\"237.506644\"/>\r\n     <use style=\"fill:#3f3f3f;stroke:#3f3f3f;stroke-linejoin:miter;\" x=\"561.544118\" xlink:href=\"#m52550ee77b\" y=\"247.140017\"/>\r\n     <use style=\"fill:#3f3f3f;stroke:#3f3f3f;stroke-linejoin:miter;\" x=\"561.544118\" xlink:href=\"#m52550ee77b\" y=\"231.384102\"/>\r\n     <use style=\"fill:#3f3f3f;stroke:#3f3f3f;stroke-linejoin:miter;\" x=\"561.544118\" xlink:href=\"#m52550ee77b\" y=\"239.071001\"/>\r\n     <use style=\"fill:#3f3f3f;stroke:#3f3f3f;stroke-linejoin:miter;\" x=\"561.544118\" xlink:href=\"#m52550ee77b\" y=\"253.934275\"/>\r\n     <use style=\"fill:#3f3f3f;stroke:#3f3f3f;stroke-linejoin:miter;\" x=\"561.544118\" xlink:href=\"#m52550ee77b\" y=\"243.622753\"/>\r\n     <use style=\"fill:#3f3f3f;stroke:#3f3f3f;stroke-linejoin:miter;\" x=\"561.544118\" xlink:href=\"#m52550ee77b\" y=\"248.969694\"/>\r\n     <use style=\"fill:#3f3f3f;stroke:#3f3f3f;stroke-linejoin:miter;\" x=\"561.544118\" xlink:href=\"#m52550ee77b\" y=\"243.119679\"/>\r\n     <use style=\"fill:#3f3f3f;stroke:#3f3f3f;stroke-linejoin:miter;\" x=\"561.544118\" xlink:href=\"#m52550ee77b\" y=\"237.652217\"/>\r\n     <use style=\"fill:#3f3f3f;stroke:#3f3f3f;stroke-linejoin:miter;\" x=\"561.544118\" xlink:href=\"#m52550ee77b\" y=\"248.292972\"/>\r\n     <use style=\"fill:#3f3f3f;stroke:#3f3f3f;stroke-linejoin:miter;\" x=\"561.544118\" xlink:href=\"#m52550ee77b\" y=\"241.103658\"/>\r\n     <use style=\"fill:#3f3f3f;stroke:#3f3f3f;stroke-linejoin:miter;\" x=\"561.544118\" xlink:href=\"#m52550ee77b\" y=\"236.116032\"/>\r\n     <use style=\"fill:#3f3f3f;stroke:#3f3f3f;stroke-linejoin:miter;\" x=\"561.544118\" xlink:href=\"#m52550ee77b\" y=\"250.897694\"/>\r\n     <use style=\"fill:#3f3f3f;stroke:#3f3f3f;stroke-linejoin:miter;\" x=\"561.544118\" xlink:href=\"#m52550ee77b\" y=\"237.662373\"/>\r\n     <use style=\"fill:#3f3f3f;stroke:#3f3f3f;stroke-linejoin:miter;\" x=\"561.544118\" xlink:href=\"#m52550ee77b\" y=\"240.088291\"/>\r\n     <use style=\"fill:#3f3f3f;stroke:#3f3f3f;stroke-linejoin:miter;\" x=\"561.544118\" xlink:href=\"#m52550ee77b\" y=\"249.427573\"/>\r\n     <use style=\"fill:#3f3f3f;stroke:#3f3f3f;stroke-linejoin:miter;\" x=\"561.544118\" xlink:href=\"#m52550ee77b\" y=\"236.326823\"/>\r\n     <use style=\"fill:#3f3f3f;stroke:#3f3f3f;stroke-linejoin:miter;\" x=\"561.544118\" xlink:href=\"#m52550ee77b\" y=\"228.822605\"/>\r\n     <use style=\"fill:#3f3f3f;stroke:#3f3f3f;stroke-linejoin:miter;\" x=\"561.544118\" xlink:href=\"#m52550ee77b\" y=\"249.281576\"/>\r\n     <use style=\"fill:#3f3f3f;stroke:#3f3f3f;stroke-linejoin:miter;\" x=\"561.544118\" xlink:href=\"#m52550ee77b\" y=\"255.510759\"/>\r\n     <use style=\"fill:#3f3f3f;stroke:#3f3f3f;stroke-linejoin:miter;\" x=\"561.544118\" xlink:href=\"#m52550ee77b\" y=\"254.382468\"/>\r\n     <use style=\"fill:#3f3f3f;stroke:#3f3f3f;stroke-linejoin:miter;\" x=\"561.544118\" xlink:href=\"#m52550ee77b\" y=\"241.076575\"/>\r\n     <use style=\"fill:#3f3f3f;stroke:#3f3f3f;stroke-linejoin:miter;\" x=\"561.544118\" xlink:href=\"#m52550ee77b\" y=\"255.083251\"/>\r\n     <use style=\"fill:#3f3f3f;stroke:#3f3f3f;stroke-linejoin:miter;\" x=\"561.544118\" xlink:href=\"#m52550ee77b\" y=\"254.683446\"/>\r\n     <use style=\"fill:#3f3f3f;stroke:#3f3f3f;stroke-linejoin:miter;\" x=\"561.544118\" xlink:href=\"#m52550ee77b\" y=\"247.069168\"/>\r\n     <use style=\"fill:#3f3f3f;stroke:#3f3f3f;stroke-linejoin:miter;\" x=\"561.544118\" xlink:href=\"#m52550ee77b\" y=\"253.206796\"/>\r\n     <use style=\"fill:#3f3f3f;stroke:#3f3f3f;stroke-linejoin:miter;\" x=\"561.544118\" xlink:href=\"#m52550ee77b\" y=\"251.987377\"/>\r\n     <use style=\"fill:#3f3f3f;stroke:#3f3f3f;stroke-linejoin:miter;\" x=\"561.544118\" xlink:href=\"#m52550ee77b\" y=\"254.600019\"/>\r\n     <use style=\"fill:#3f3f3f;stroke:#3f3f3f;stroke-linejoin:miter;\" x=\"561.544118\" xlink:href=\"#m52550ee77b\" y=\"256.457864\"/>\r\n    </g>\r\n   </g>\r\n   <g id=\"line2d_144\">\r\n    <path clip-path=\"url(#pef3795d96e)\" d=\"M 660.014706 269.808679 \r\nL 660.014706 276.297411 \r\n\" style=\"fill:none;stroke:#3f3f3f;stroke-linecap:square;stroke-width:1.5;\"/>\r\n   </g>\r\n   <g id=\"line2d_145\">\r\n    <path clip-path=\"url(#pef3795d96e)\" d=\"M 660.014706 252.694649 \r\nL 660.014706 227.956359 \r\n\" style=\"fill:none;stroke:#3f3f3f;stroke-linecap:square;stroke-width:1.5;\"/>\r\n   </g>\r\n   <g id=\"line2d_146\">\r\n    <path clip-path=\"url(#pef3795d96e)\" d=\"M 640.320588 276.297411 \r\nL 679.708824 276.297411 \r\n\" style=\"fill:none;stroke:#3f3f3f;stroke-linecap:square;stroke-width:1.5;\"/>\r\n   </g>\r\n   <g id=\"line2d_147\">\r\n    <path clip-path=\"url(#pef3795d96e)\" d=\"M 640.320588 227.956359 \r\nL 679.708824 227.956359 \r\n\" style=\"fill:none;stroke:#3f3f3f;stroke-linecap:square;stroke-width:1.5;\"/>\r\n   </g>\r\n   <g id=\"line2d_148\">\r\n    <g clip-path=\"url(#pef3795d96e)\">\r\n     <use style=\"fill:#3f3f3f;stroke:#3f3f3f;stroke-linejoin:miter;\" x=\"660.014706\" xlink:href=\"#m52550ee77b\" y=\"222.1165\"/>\r\n     <use style=\"fill:#3f3f3f;stroke:#3f3f3f;stroke-linejoin:miter;\" x=\"660.014706\" xlink:href=\"#m52550ee77b\" y=\"226.009739\"/>\r\n     <use style=\"fill:#3f3f3f;stroke:#3f3f3f;stroke-linejoin:miter;\" x=\"660.014706\" xlink:href=\"#m52550ee77b\" y=\"214.330022\"/>\r\n     <use style=\"fill:#3f3f3f;stroke:#3f3f3f;stroke-linejoin:miter;\" x=\"660.014706\" xlink:href=\"#m52550ee77b\" y=\"212.058966\"/>\r\n     <use style=\"fill:#3f3f3f;stroke:#3f3f3f;stroke-linejoin:miter;\" x=\"660.014706\" xlink:href=\"#m52550ee77b\" y=\"222.440937\"/>\r\n     <use style=\"fill:#3f3f3f;stroke:#3f3f3f;stroke-linejoin:miter;\" x=\"660.014706\" xlink:href=\"#m52550ee77b\" y=\"213.681149\"/>\r\n     <use style=\"fill:#3f3f3f;stroke:#3f3f3f;stroke-linejoin:miter;\" x=\"660.014706\" xlink:href=\"#m52550ee77b\" y=\"208.8146\"/>\r\n     <use style=\"fill:#3f3f3f;stroke:#3f3f3f;stroke-linejoin:miter;\" x=\"660.014706\" xlink:href=\"#m52550ee77b\" y=\"217.249951\"/>\r\n     <use style=\"fill:#3f3f3f;stroke:#3f3f3f;stroke-linejoin:miter;\" x=\"660.014706\" xlink:href=\"#m52550ee77b\" y=\"225.03643\"/>\r\n     <use style=\"fill:#3f3f3f;stroke:#3f3f3f;stroke-linejoin:miter;\" x=\"660.014706\" xlink:href=\"#m52550ee77b\" y=\"220.818754\"/>\r\n     <use style=\"fill:#3f3f3f;stroke:#3f3f3f;stroke-linejoin:miter;\" x=\"660.014706\" xlink:href=\"#m52550ee77b\" y=\"213.681149\"/>\r\n     <use style=\"fill:#3f3f3f;stroke:#3f3f3f;stroke-linejoin:miter;\" x=\"660.014706\" xlink:href=\"#m52550ee77b\" y=\"226.658613\"/>\r\n     <use style=\"fill:#3f3f3f;stroke:#3f3f3f;stroke-linejoin:miter;\" x=\"660.014706\" xlink:href=\"#m52550ee77b\" y=\"216.276642\"/>\r\n     <use style=\"fill:#3f3f3f;stroke:#3f3f3f;stroke-linejoin:miter;\" x=\"660.014706\" xlink:href=\"#m52550ee77b\" y=\"213.681149\"/>\r\n     <use style=\"fill:#3f3f3f;stroke:#3f3f3f;stroke-linejoin:miter;\" x=\"660.014706\" xlink:href=\"#m52550ee77b\" y=\"213.032276\"/>\r\n     <use style=\"fill:#3f3f3f;stroke:#3f3f3f;stroke-linejoin:miter;\" x=\"660.014706\" xlink:href=\"#m52550ee77b\" y=\"216.601078\"/>\r\n     <use style=\"fill:#3f3f3f;stroke:#3f3f3f;stroke-linejoin:miter;\" x=\"660.014706\" xlink:href=\"#m52550ee77b\" y=\"213.356712\"/>\r\n     <use style=\"fill:#3f3f3f;stroke:#3f3f3f;stroke-linejoin:miter;\" x=\"660.014706\" xlink:href=\"#m52550ee77b\" y=\"205.894671\"/>\r\n     <use style=\"fill:#3f3f3f;stroke:#3f3f3f;stroke-linejoin:miter;\" x=\"660.014706\" xlink:href=\"#m52550ee77b\" y=\"220.169881\"/>\r\n     <use style=\"fill:#3f3f3f;stroke:#3f3f3f;stroke-linejoin:miter;\" x=\"660.014706\" xlink:href=\"#m52550ee77b\" y=\"224.711993\"/>\r\n    </g>\r\n   </g>\r\n   <g id=\"line2d_149\">\r\n    <path clip-path=\"url(#pef3795d96e)\" d=\"M 522.155882 276.535233 \r\nL 600.932353 276.535233 \r\n\" style=\"fill:none;stroke:#3f3f3f;stroke-linecap:square;stroke-width:1.5;\"/>\r\n   </g>\r\n   <g id=\"line2d_150\">\r\n    <path clip-path=\"url(#pef3795d96e)\" d=\"M 620.626471 264.455476 \r\nL 699.402941 264.455476 \r\n\" style=\"fill:none;stroke:#3f3f3f;stroke-linecap:square;stroke-width:1.5;\"/>\r\n   </g>\r\n   <g id=\"patch_61\">\r\n    <path d=\"M 512.308824 282.202157 \r\nL 512.308824 202.260981 \r\n\" style=\"fill:none;stroke:#000000;stroke-linecap:square;stroke-linejoin:miter;stroke-width:0.8;\"/>\r\n   </g>\r\n   <g id=\"patch_62\">\r\n    <path d=\"M 709.25 282.202157 \r\nL 709.25 202.260981 \r\n\" style=\"fill:none;stroke:#000000;stroke-linecap:square;stroke-linejoin:miter;stroke-width:0.8;\"/>\r\n   </g>\r\n   <g id=\"patch_63\">\r\n    <path d=\"M 512.308824 282.202157 \r\nL 709.25 282.202157 \r\n\" style=\"fill:none;stroke:#000000;stroke-linecap:square;stroke-linejoin:miter;stroke-width:0.8;\"/>\r\n   </g>\r\n   <g id=\"patch_64\">\r\n    <path d=\"M 512.308824 202.260981 \r\nL 709.25 202.260981 \r\n\" style=\"fill:none;stroke:#000000;stroke-linecap:square;stroke-linejoin:miter;stroke-width:0.8;\"/>\r\n   </g>\r\n  </g>\r\n </g>\r\n <defs>\r\n  <clipPath id=\"p5608054c4b\">\r\n   <rect height=\"79.941176\" width=\"196.941176\" x=\"39.65\" y=\"10.402157\"/>\r\n  </clipPath>\r\n  <clipPath id=\"pfce54ef6fe\">\r\n   <rect height=\"79.941176\" width=\"196.941176\" x=\"275.979412\" y=\"10.402157\"/>\r\n  </clipPath>\r\n  <clipPath id=\"pc5e6420b31\">\r\n   <rect height=\"79.941176\" width=\"196.941176\" x=\"512.308824\" y=\"10.402157\"/>\r\n  </clipPath>\r\n  <clipPath id=\"p7152c75531\">\r\n   <rect height=\"79.941176\" width=\"196.941176\" x=\"39.65\" y=\"106.331569\"/>\r\n  </clipPath>\r\n  <clipPath id=\"pa16880bd2a\">\r\n   <rect height=\"79.941176\" width=\"196.941176\" x=\"275.979412\" y=\"106.331569\"/>\r\n  </clipPath>\r\n  <clipPath id=\"pd2553629bb\">\r\n   <rect height=\"79.941176\" width=\"196.941176\" x=\"512.308824\" y=\"106.331569\"/>\r\n  </clipPath>\r\n  <clipPath id=\"pbf7dcc30bc\">\r\n   <rect height=\"79.941176\" width=\"196.941176\" x=\"39.65\" y=\"202.260981\"/>\r\n  </clipPath>\r\n  <clipPath id=\"p4e2237838f\">\r\n   <rect height=\"79.941176\" width=\"196.941176\" x=\"275.979412\" y=\"202.260981\"/>\r\n  </clipPath>\r\n  <clipPath id=\"pef3795d96e\">\r\n   <rect height=\"79.941176\" width=\"196.941176\" x=\"512.308824\" y=\"202.260981\"/>\r\n  </clipPath>\r\n </defs>\r\n</svg>\r\n",
      "image/png": "[encoded data removed]"
     },
     "metadata": {
      "needs_background": "light"
     }
    }
   ],
   "source": [
    "ent_other_joinset\n",
    "\n",
    "ent_other_joinset_month = split_month(ent_other_joinset) ## 월 별 칼럼 추가\n",
    "ent_other_joinset_reset = group_reset(ent_other_joinset_month)\n",
    "a, b, c, d, e, f, g, h, i = split_datetime(ent_other_joinset_reset) ## 시간 별 나눔\n",
    "ent_other_joinset\n",
    "\n",
    "ent_other_joinset_month = split_month(ent_other_joinset) ## 월 별 칼럼 추가\n",
    "ent_other_joinset_reset = group_reset(ent_other_joinset_month)\n",
    "a, b, c, d, e, f, g, h, i = split_datetime(ent_other_joinset_reset) ## 시간 별 나눔\n",
    "a, b, c, d, e, f, g, h, i = diff_12(a), diff_12(b), diff_12(c), diff_12(d), diff_12(e), diff_12(f), diff_12(g), diff_12(h), diff_12(i) ## outlier 제거\n",
    "\n",
    "\n",
    "boxplot()"
   ]
  },
  {
   "cell_type": "code",
   "execution_count": 149,
   "metadata": {},
   "outputs": [
    {
     "output_type": "display_data",
     "data": {
      "application/vnd.plotly.v1+json": {
       "config": {
        "plotlyServerURL": "https://plot.ly"
       },
       "data": [
        {
         "line": {
          "color": "aqua"
         },
         "mode": "lines",
         "name": "09시",
         "type": "scatter",
         "x": [
          "2018-10-23 09:00",
          "2018-10-26 09:00",
          "2018-10-28 09:00",
          "2018-10-29 09:00",
          "2018-10-30 09:00",
          "2018-10-31 09:00",
          "2018-11-01 09:00",
          "2018-11-02 09:00",
          "2018-11-03 09:00",
          "2018-11-04 09:00",
          "2018-11-05 09:00",
          "2018-11-06 09:00",
          "2018-11-07 09:00",
          "2018-11-08 09:00",
          "2018-11-09 09:00",
          "2018-11-10 09:00",
          "2018-11-11 09:00",
          "2018-11-12 09:00",
          "2018-11-13 09:00",
          "2018-11-14 09:00",
          "2018-11-15 09:00",
          "2018-11-16 09:00",
          "2018-11-17 09:00",
          "2018-11-18 09:00",
          "2018-11-19 09:00",
          "2018-11-20 09:00",
          "2018-11-21 09:00",
          "2018-11-22 09:00",
          "2018-11-23 09:00",
          "2018-11-25 09:00",
          "2018-11-26 09:00",
          "2018-11-27 09:00",
          "2018-11-28 09:00",
          "2018-11-29 09:00",
          "2018-11-30 09:00",
          "2018-12-01 09:00",
          "2018-12-02 09:00",
          "2018-12-04 09:00",
          "2018-12-05 09:00",
          "2018-12-06 09:00",
          "2018-12-07 09:00",
          "2018-12-08 09:00",
          "2018-12-09 09:00",
          "2018-12-10 09:00",
          "2018-12-11 09:00",
          "2018-12-12 09:00",
          "2018-12-14 09:00",
          "2018-12-15 09:00",
          "2018-12-16 09:00",
          "2018-12-17 09:00",
          "2018-12-18 09:00",
          "2018-12-19 09:00",
          "2018-12-20 09:00",
          "2018-12-21 09:00",
          "2018-12-22 09:00",
          "2018-12-23 09:00",
          "2018-12-24 09:00",
          "2018-12-25 09:00",
          "2018-12-26 09:00",
          "2018-12-27 09:00",
          "2018-12-28 09:00",
          "2018-12-29 09:00",
          "2018-12-30 09:00",
          "2018-12-31 09:00",
          "2019-01-01 09:00",
          "2019-01-02 09:00",
          "2019-01-03 09:00",
          "2019-01-04 09:00",
          "2019-01-05 09:00",
          "2019-01-06 09:00",
          "2019-01-07 09:00",
          "2019-01-08 09:00",
          "2019-01-09 09:00",
          "2019-01-10 09:00",
          "2019-01-11 09:00",
          "2019-01-12 09:00",
          "2019-01-13 09:00",
          "2019-01-14 09:00",
          "2019-01-15 09:00",
          "2019-01-16 09:00",
          "2019-08-10 09:00",
          "2019-08-11 09:00",
          "2019-08-12 09:00",
          "2019-08-14 09:00",
          "2019-08-15 09:00",
          "2019-08-16 09:00",
          "2019-08-17 09:00",
          "2019-08-19 09:00",
          "2019-08-20 09:00",
          "2019-08-21 09:00",
          "2019-08-22 09:00",
          "2019-08-24 09:00",
          "2019-08-29 09:00",
          "2019-08-30 09:00",
          "2019-09-01 09:00",
          "2019-09-02 09:00",
          "2019-09-03 09:00",
          "2019-09-04 09:00",
          "2019-09-06 09:00",
          "2019-09-07 09:00",
          "2019-09-08 09:00",
          "2019-09-09 09:00",
          "2019-09-10 09:00",
          "2019-09-12 09:00",
          "2019-09-13 09:00",
          "2019-09-14 09:00",
          "2019-09-17 09:00",
          "2019-09-18 09:00",
          "2019-09-19 09:00",
          "2019-09-20 09:00",
          "2019-09-21 09:00",
          "2019-09-22 09:00",
          "2019-09-23 09:00",
          "2019-09-24 09:00",
          "2019-09-25 09:00",
          "2019-09-27 09:00",
          "2019-09-28 09:00",
          "2019-09-29 09:00",
          "2019-09-30 09:00",
          "2019-10-01 09:00",
          "2019-10-02 09:00",
          "2019-10-03 09:00",
          "2019-10-04 09:00",
          "2019-10-05 09:00",
          "2019-10-06 09:00",
          "2019-10-08 09:00",
          "2019-10-09 09:00",
          "2019-10-10 09:00",
          "2019-10-11 09:00",
          "2019-10-12 09:00",
          "2019-10-13 09:00",
          "2019-10-15 09:00",
          "2019-10-16 09:00",
          "2019-10-17 09:00",
          "2019-10-19 09:00",
          "2019-10-21 09:00",
          "2019-10-22 09:00",
          "2019-10-23 09:00",
          "2019-10-24 09:00",
          "2019-10-25 09:00",
          "2019-10-27 09:00",
          "2019-10-28 09:00",
          "2019-10-29 09:00",
          "2019-10-30 09:00",
          "2019-10-31 09:00",
          "2019-11-01 09:00",
          "2019-11-02 09:00",
          "2019-11-03 09:00",
          "2019-11-04 09:00",
          "2019-11-06 09:00",
          "2019-11-07 09:00",
          "2019-11-08 09:00",
          "2019-11-09 09:00",
          "2019-11-10 09:00",
          "2019-11-11 09:00",
          "2019-11-12 09:00",
          "2019-11-13 09:00",
          "2019-11-16 09:00",
          "2019-11-18 09:00",
          "2019-11-21 09:00",
          "2019-11-23 09:00",
          "2019-11-25 09:00",
          "2019-11-27 09:00",
          "2019-11-28 09:00",
          "2019-11-29 09:00",
          "2019-11-30 09:00",
          "2019-12-01 09:00",
          "2019-12-02 09:00",
          "2019-12-04 09:00",
          "2019-12-05 09:00",
          "2019-12-06 09:00",
          "2019-12-07 09:00",
          "2019-12-08 09:00",
          "2019-12-09 09:00",
          "2019-12-10 09:00",
          "2019-12-12 09:00",
          "2019-12-13 09:00",
          "2019-12-14 09:00",
          "2019-12-15 09:00",
          "2019-12-16 09:00",
          "2019-12-18 09:00",
          "2019-12-19 09:00",
          "2019-12-20 09:00",
          "2019-12-21 09:00",
          "2019-12-22 09:00",
          "2019-12-23 09:00",
          "2019-12-24 09:00",
          "2019-12-25 09:00",
          "2019-12-26 09:00",
          "2019-12-27 09:00",
          "2019-12-28 09:00",
          "2019-12-29 09:00",
          "2019-12-30 09:00",
          "2019-12-31 09:00",
          "2020-01-01 09:00",
          "2020-01-02 09:00",
          "2020-01-03 09:00",
          "2020-01-04 09:00",
          "2020-01-05 09:00",
          "2020-01-06 09:00",
          "2020-01-08 09:00",
          "2020-01-09 09:00",
          "2020-01-10 09:00",
          "2020-01-11 09:00",
          "2020-01-12 09:00",
          "2020-01-13 09:00",
          "2020-01-14 09:00",
          "2020-01-15 09:00",
          "2020-01-16 09:00",
          "2020-01-17 09:00",
          "2020-01-18 09:00",
          "2020-01-19 09:00",
          "2020-01-20 09:00",
          "2020-01-21 09:00",
          "2020-01-22 09:00",
          "2020-01-23 09:00",
          "2020-01-24 09:00",
          "2020-01-25 09:00",
          "2020-01-26 09:00",
          "2020-01-27 09:00",
          "2020-01-28 09:00",
          "2020-01-29 09:00",
          "2020-01-30 09:00",
          "2020-01-31 09:00",
          "2020-02-01 09:00",
          "2020-02-02 09:00",
          "2020-02-03 09:00",
          "2020-02-04 09:00",
          "2020-02-05 09:00",
          "2020-02-06 09:00",
          "2020-02-07 09:00",
          "2020-02-08 09:00",
          "2020-02-09 09:00",
          "2020-02-10 09:00",
          "2020-02-11 09:00",
          "2020-02-12 09:00",
          "2020-02-13 09:00",
          "2020-02-14 09:00",
          "2020-02-15 09:00",
          "2020-02-16 09:00",
          "2020-02-17 09:00",
          "2020-02-18 09:00",
          "2020-02-19 09:00",
          "2020-02-20 09:00",
          "2020-02-21 09:00",
          "2020-02-23 09:00",
          "2020-02-24 09:00",
          "2020-02-25 09:00",
          "2020-02-26 09:00",
          "2020-02-27 09:00",
          "2020-02-28 09:00",
          "2020-02-29 09:00",
          "2020-03-01 09:00",
          "2020-04-08 09:00",
          "2020-04-09 09:00",
          "2020-04-11 09:00",
          "2020-04-12 09:00",
          "2020-04-13 09:00",
          "2020-04-14 09:00",
          "2020-04-15 09:00",
          "2020-04-16 09:00",
          "2020-04-18 09:00",
          "2020-04-20 09:00",
          "2020-04-21 09:00",
          "2020-04-22 09:00",
          "2020-04-23 09:00",
          "2020-04-24 09:00",
          "2020-04-26 09:00",
          "2020-05-05 09:00",
          "2020-05-06 09:00",
          "2020-05-07 09:00",
          "2020-05-10 09:00",
          "2020-05-11 09:00",
          "2020-05-12 09:00",
          "2020-05-13 09:00",
          "2020-05-14 09:00",
          "2020-05-21 09:00",
          "2020-05-22 09:00",
          "2020-05-23 09:00",
          "2020-05-24 09:00",
          "2020-05-26 09:00",
          "2020-05-27 09:00",
          "2020-05-28 09:00",
          "2020-05-29 09:00",
          "2020-05-30 09:00",
          "2020-05-31 09:00",
          "2020-06-01 09:00",
          "2020-06-02 09:00",
          "2020-06-04 09:00",
          "2020-06-06 09:00",
          "2020-06-09 09:00",
          "2020-06-13 09:00",
          "2020-06-15 09:00",
          "2020-06-18 09:00",
          "2020-06-20 09:00",
          "2020-06-21 09:00",
          "2020-06-22 09:00",
          "2020-06-23 09:00",
          "2020-06-25 09:00",
          "2020-06-26 09:00",
          "2020-06-27 09:00",
          "2020-06-28 09:00",
          "2020-06-30 09:00",
          "2020-07-02 09:00",
          "2020-07-03 09:00",
          "2020-07-04 09:00",
          "2020-07-05 09:00",
          "2020-07-10 09:00",
          "2020-07-11 09:00",
          "2020-07-12 09:00",
          "2020-07-13 09:00",
          "2020-07-14 09:00",
          "2020-07-16 09:00",
          "2020-07-17 09:00",
          "2020-07-20 09:00",
          "2020-07-22 09:00",
          "2020-07-23 09:00",
          "2020-07-24 09:00",
          "2020-07-25 09:00",
          "2020-07-28 09:00",
          "2020-08-01 09:00",
          "2020-08-02 09:00",
          "2020-08-04 09:00",
          "2020-08-05 09:00",
          "2020-08-06 09:00",
          "2020-08-07 09:00",
          "2020-08-11 09:00",
          "2020-08-12 09:00",
          "2020-08-13 09:00",
          "2020-08-14 09:00",
          "2020-08-15 09:00",
          "2020-08-16 09:00",
          "2020-08-17 09:00",
          "2020-08-18 09:00",
          "2020-08-23 09:00",
          "2020-08-24 09:00",
          "2020-08-25 09:00",
          "2020-08-26 09:00",
          "2020-08-27 09:00",
          "2020-08-28 09:00",
          "2020-08-29 09:00",
          "2020-08-31 09:00",
          "2020-09-01 09:00",
          "2020-09-02 09:00",
          "2020-09-03 09:00",
          "2020-09-04 09:00",
          "2020-09-05 09:00",
          "2020-09-06 09:00",
          "2020-09-07 09:00",
          "2020-09-10 09:00",
          "2020-09-11 09:00",
          "2020-09-12 09:00",
          "2020-09-13 09:00",
          "2020-09-14 09:00",
          "2020-09-15 09:00",
          "2020-09-16 09:00",
          "2020-09-17 09:00",
          "2020-09-19 09:00",
          "2020-09-20 09:00",
          "2020-09-22 09:00",
          "2020-09-24 09:00",
          "2020-09-25 09:00",
          "2020-09-26 09:00",
          "2020-09-27 09:00",
          "2020-09-28 09:00",
          "2020-09-30 09:00",
          "2020-10-01 09:00",
          "2020-10-02 09:00",
          "2020-10-03 09:00",
          "2020-10-05 09:00",
          "2020-10-06 09:00",
          "2020-10-08 09:00",
          "2020-10-10 09:00",
          "2020-10-13 09:00",
          "2020-10-14 09:00",
          "2020-10-15 09:00",
          "2020-10-16 09:00",
          "2020-10-17 09:00",
          "2020-10-18 09:00",
          "2020-10-19 09:00",
          "2020-10-20 09:00",
          "2020-10-21 09:00",
          "2020-10-22 09:00"
         ],
         "xaxis": "x",
         "y": [
          154.3984126984127,
          36.8984126984127,
          106.75238095238095,
          111.90158730158731,
          151.32063492063492,
          149.33492063492065,
          150.49365079365077,
          145.58412698412695,
          146.12063492063493,
          147.15555555555557,
          120.36190476190475,
          92.6047619047619,
          51.66666666666667,
          25.576190476190472,
          60.48888888888888,
          122.84057971014494,
          81.84285714285716,
          143.07729468599032,
          141.2047619047619,
          141.26666666666668,
          83.02415458937199,
          69.8920634920635,
          139.99516908212559,
          125.8174603174603,
          124.93650793650795,
          131.8269841269841,
          52.70952380952381,
          131.13809523809525,
          125.5952380952381,
          138.02539682539683,
          123.65700483091788,
          71.55238095238096,
          85.36666666666666,
          80.07460317460317,
          121.78260869565219,
          140.75396825396825,
          108.0048309178744,
          29.911111111111108,
          118.30793650793652,
          64.43961352657004,
          137.21256038647343,
          137.8301587301587,
          139.1174603174603,
          100.1304347826087,
          28.053140096618357,
          131.8984126984127,
          117.79047619047618,
          126.56666666666668,
          36.289855072463766,
          105.4936507936508,
          128.3,
          100.83492063492062,
          83.22705314009663,
          116.15714285714284,
          102.52539682539683,
          113.12698412698414,
          122.75873015873016,
          74.15238095238095,
          97.09178743961351,
          116.94202898550725,
          73.43809523809523,
          110.45714285714286,
          112.07142857142858,
          111.84126984126983,
          90.12063492063493,
          103.43492063492062,
          102.6126984126984,
          83.41746031746032,
          94.23333333333333,
          59.77619047619047,
          91.77460317460316,
          91.97101449275361,
          67.80793650793652,
          65.05714285714286,
          81.6079365079365,
          65.26349206349207,
          77.67149758454107,
          28.69206349206349,
          15.898412698412699,
          61.347619047619034,
          128.0634920634921,
          60.27936507936505,
          51.336507936507935,
          124.22063492063495,
          67.86956521739131,
          92.57777777777778,
          121.84057971014497,
          107.80000000000001,
          140.984126984127,
          54.76031746031748,
          110.97142857142859,
          21.613526570048307,
          115.83968253968257,
          137.584126984127,
          123.67632850241546,
          111.85990338164254,
          129.44761904761904,
          88.83968253968254,
          95.51207729468598,
          26.27777777777777,
          79.54444444444448,
          28.644444444444446,
          48.44444444444444,
          47.658730158730165,
          86.91587301587299,
          40.45873015873016,
          54.46825396825392,
          89.52657004830917,
          100.7793650793651,
          67.04761904761907,
          63.25555555555556,
          51.21256038647343,
          94.91787439613529,
          97.51428571428573,
          94.77460317460321,
          119.92380952380952,
          95.96190476190475,
          98.42698412698411,
          96.81159420289856,
          68.1884057971015,
          29.483091787439605,
          98.55238095238094,
          55.138095238095275,
          110.24603174603175,
          31.961352657004852,
          21.220634920634893,
          113.85079365079366,
          63.40579710144927,
          108.06825396825394,
          106.42857142857144,
          126.94202898550725,
          97.03864734299515,
          105.61111111111109,
          63.74396135265701,
          98.45410628019323,
          98.9190476190476,
          130.8936507936508,
          79.31884057971016,
          38.78260869565217,
          108.47342995169083,
          120.68253968253964,
          128.28985507246378,
          113.93236714975842,
          120.1545893719807,
          93.60317460317461,
          110.68253968253967,
          93.6328502415459,
          124.54589371980674,
          115.6328502415459,
          124.13526570048307,
          115.22705314009664,
          110.24046434494193,
          112.81642512077298,
          44.06280193236714,
          70.15656565656565,
          65.27287581699349,
          21.17874396135265,
          39.38164251207729,
          114.77777777777779,
          142.7487922705314,
          123.48856209150327,
          77.6038647342995,
          90.52657004830917,
          143.51307189542484,
          122.06699346405227,
          111.41666666666666,
          32.15079365079365,
          121.4106280193237,
          115.38164251207729,
          118.96135265700482,
          116.86473429951693,
          17.516908212560388,
          90.96135265700484,
          46.11601307189543,
          71.02698412698413,
          110.78260869565217,
          107.88888888888889,
          100.5265700483092,
          107.62063492063493,
          77.24183006535948,
          102.36714975845412,
          94.50241545893718,
          105.09640522875819,
          94.512077294686,
          48.78888888888889,
          69.66666666666667,
          83.82608695652172,
          48.54589371980676,
          42.19323671497584,
          100.58454106280192,
          98.75714285714287,
          35.28888888888889,
          63.85990338164252,
          110.49346405228758,
          36.888888888888886,
          62.512077294685994,
          73.24019607843137,
          121.487922705314,
          94.32367149758454,
          12.07638888888889,
          21.492753623188403,
          104.26570048309179,
          82.43954248366012,
          92.39130434782608,
          63.83091787439615,
          139.71078431372547,
          97.17744610281923,
          66.93627450980391,
          79.12908496732025,
          87.97712418300654,
          67.95915032679737,
          26.8984126984127,
          81.56550580431178,
          58.57070707070706,
          47.38647342995169,
          76.85024154589371,
          73.49758454106279,
          123.43650793650795,
          116.90476190476193,
          64.17874396135265,
          70.1352657004831,
          106.93939393939394,
          82.35157545605307,
          95.02487562189054,
          47.15522875816994,
          104.06045751633988,
          80.97435897435899,
          75.86324786324788,
          63.81770833333334,
          58.920138888888886,
          125.82564102564102,
          32.93464052287581,
          50.81094527363186,
          58.55381944444446,
          42.85714285714286,
          42.61525704809287,
          91.21709401709403,
          97.19854280510019,
          55.52380952380952,
          57.13266998341625,
          29.97996357012751,
          36.060263653483986,
          123.6177024482109,
          89.56989247311827,
          145.67307692307693,
          62.74396135265701,
          126.22380952380954,
          12.258730158730158,
          136.80793650793652,
          129.84603174603174,
          13.895238095238092,
          135.42028985507247,
          94.21746031746031,
          93.3730158730159,
          106.96984126984125,
          127.7968253968254,
          82.1063492063492,
          47.946031746031736,
          91.84920634920633,
          110.17391304347831,
          96.94285714285712,
          93.03650793650792,
          40.51111111111112,
          35.48888888888894,
          122.67619047619047,
          89.65396825396817,
          42.00634920634923,
          90.20772946859904,
          32.66666666666666,
          75.77460317460316,
          45.39898989898995,
          149.9661835748792,
          88.81111111111113,
          40.74396135265698,
          89.89682539682542,
          75.68571428571431,
          68.93650793650784,
          61.49275362318838,
          64.81642512077292,
          54.182539682539684,
          149.1884057971015,
          69.53623188405811,
          145.15942028985506,
          93.44761904761913,
          96.1159420289855,
          136.28253968253966,
          153.01428571428573,
          24.57142857142857,
          110.96507936507936,
          100.44285714285718,
          98.3936507936508,
          103.77777777777783,
          136.1174603174603,
          75.83574879227052,
          88.1884057971015,
          76.35396825396822,
          81.6952380952381,
          93.15714285714284,
          100.72222222222223,
          82.22222222222221,
          109.66666666666666,
          92.58333333333337,
          32.991452991453,
          146.25,
          143.8888888888889,
          94.30769230769226,
          95.16666666666669,
          106.63888888888889,
          155.33333333333331,
          40.69230769230768,
          41.861111111111114,
          59.97222222222223,
          22.9444444444444,
          136.94871794871796,
          37.52777777777777,
          37.25,
          61.820512820512825,
          106.80555555555557,
          129.36752136752136,
          70.30769230769232,
          91.19444444444446,
          23.638888888888886,
          143.08333333333334,
          27.52777777777778,
          52.388888888888886,
          38.47222222222223,
          34.059829059829056,
          88.33333333333334,
          83.66666666666669,
          86.97222222222221,
          50.08333333333333,
          58.527777777777786,
          40.416666666666686,
          110.12820512820511,
          74.25,
          110.66666666666663,
          105,
          101.03174603174608,
          111.36507936507937,
          17.41666666666667,
          21,
          40.730158730158735,
          113.6904761904762,
          56.06837606837606,
          84,
          81.63888888888891,
          31.706349206349216,
          31.4957264957265,
          30.478632478632477,
          121.61538461538464,
          142.44444444444446,
          27.55555555555557,
          136.61111111111114,
          44.81196581196582,
          28.27777777777777,
          94.22222222222223,
          58.80952380952381,
          44.82539682539681,
          151.5634920634921,
          145.53174603174608,
          130.56410256410254,
          115.07936507936506,
          23.41025641025641,
          137.73015873015873,
          141.84126984126982,
          129.3650793650794,
          120.73504273504275,
          140.2380952380952,
          70.07142857142858,
          139.1388888888889,
          140.35042735042737,
          146.80555555555554,
          150.74358974358978,
          62.94444444444443,
          44.416666666666686,
          149.74358974358975,
          81.27777777777777,
          148.43589743589746,
          141,
          131.69444444444443,
          139.05555555555554,
          34.37606837606839,
          58.16666666666666
         ],
         "yaxis": "y"
        },
        {
         "line": {
          "color": "coral"
         },
         "mode": "lines",
         "name": "13시",
         "type": "scatter",
         "x": [
          "2018-10-23 09:00",
          "2018-10-26 09:00",
          "2018-10-28 09:00",
          "2018-10-29 09:00",
          "2018-10-30 09:00",
          "2018-10-31 09:00",
          "2018-11-01 09:00",
          "2018-11-02 09:00",
          "2018-11-03 09:00",
          "2018-11-04 09:00",
          "2018-11-05 09:00",
          "2018-11-06 09:00",
          "2018-11-07 09:00",
          "2018-11-08 09:00",
          "2018-11-09 09:00",
          "2018-11-10 09:00",
          "2018-11-11 09:00",
          "2018-11-12 09:00",
          "2018-11-13 09:00",
          "2018-11-14 09:00",
          "2018-11-15 09:00",
          "2018-11-16 09:00",
          "2018-11-17 09:00",
          "2018-11-18 09:00",
          "2018-11-19 09:00",
          "2018-11-20 09:00",
          "2018-11-21 09:00",
          "2018-11-22 09:00",
          "2018-11-23 09:00",
          "2018-11-25 09:00",
          "2018-11-26 09:00",
          "2018-11-27 09:00",
          "2018-11-28 09:00",
          "2018-11-29 09:00",
          "2018-11-30 09:00",
          "2018-12-01 09:00",
          "2018-12-02 09:00",
          "2018-12-04 09:00",
          "2018-12-05 09:00",
          "2018-12-06 09:00",
          "2018-12-07 09:00",
          "2018-12-08 09:00",
          "2018-12-09 09:00",
          "2018-12-10 09:00",
          "2018-12-11 09:00",
          "2018-12-12 09:00",
          "2018-12-14 09:00",
          "2018-12-15 09:00",
          "2018-12-16 09:00",
          "2018-12-17 09:00",
          "2018-12-18 09:00",
          "2018-12-19 09:00",
          "2018-12-20 09:00",
          "2018-12-21 09:00",
          "2018-12-22 09:00",
          "2018-12-23 09:00",
          "2018-12-24 09:00",
          "2018-12-25 09:00",
          "2018-12-26 09:00",
          "2018-12-27 09:00",
          "2018-12-28 09:00",
          "2018-12-29 09:00",
          "2018-12-30 09:00",
          "2018-12-31 09:00",
          "2019-01-01 09:00",
          "2019-01-02 09:00",
          "2019-01-03 09:00",
          "2019-01-04 09:00",
          "2019-01-05 09:00",
          "2019-01-06 09:00",
          "2019-01-07 09:00",
          "2019-01-08 09:00",
          "2019-01-09 09:00",
          "2019-01-10 09:00",
          "2019-01-11 09:00",
          "2019-01-12 09:00",
          "2019-01-13 09:00",
          "2019-01-14 09:00",
          "2019-01-15 09:00",
          "2019-01-16 09:00",
          "2019-08-10 09:00",
          "2019-08-11 09:00",
          "2019-08-12 09:00",
          "2019-08-14 09:00",
          "2019-08-15 09:00",
          "2019-08-16 09:00",
          "2019-08-17 09:00",
          "2019-08-19 09:00",
          "2019-08-20 09:00",
          "2019-08-21 09:00",
          "2019-08-22 09:00",
          "2019-08-24 09:00",
          "2019-08-29 09:00",
          "2019-08-30 09:00",
          "2019-09-01 09:00",
          "2019-09-02 09:00",
          "2019-09-03 09:00",
          "2019-09-04 09:00",
          "2019-09-06 09:00",
          "2019-09-07 09:00",
          "2019-09-08 09:00",
          "2019-09-09 09:00",
          "2019-09-10 09:00",
          "2019-09-12 09:00",
          "2019-09-13 09:00",
          "2019-09-14 09:00",
          "2019-09-17 09:00",
          "2019-09-18 09:00",
          "2019-09-19 09:00",
          "2019-09-20 09:00",
          "2019-09-21 09:00",
          "2019-09-22 09:00",
          "2019-09-23 09:00",
          "2019-09-24 09:00",
          "2019-09-25 09:00",
          "2019-09-27 09:00",
          "2019-09-28 09:00",
          "2019-09-29 09:00",
          "2019-09-30 09:00",
          "2019-10-01 09:00",
          "2019-10-02 09:00",
          "2019-10-03 09:00",
          "2019-10-04 09:00",
          "2019-10-05 09:00",
          "2019-10-06 09:00",
          "2019-10-08 09:00",
          "2019-10-09 09:00",
          "2019-10-10 09:00",
          "2019-10-11 09:00",
          "2019-10-12 09:00",
          "2019-10-13 09:00",
          "2019-10-15 09:00",
          "2019-10-16 09:00",
          "2019-10-17 09:00",
          "2019-10-19 09:00",
          "2019-10-21 09:00",
          "2019-10-22 09:00",
          "2019-10-23 09:00",
          "2019-10-24 09:00",
          "2019-10-25 09:00",
          "2019-10-27 09:00",
          "2019-10-28 09:00",
          "2019-10-29 09:00",
          "2019-10-30 09:00",
          "2019-10-31 09:00",
          "2019-11-01 09:00",
          "2019-11-02 09:00",
          "2019-11-03 09:00",
          "2019-11-04 09:00",
          "2019-11-06 09:00",
          "2019-11-07 09:00",
          "2019-11-08 09:00",
          "2019-11-09 09:00",
          "2019-11-10 09:00",
          "2019-11-11 09:00",
          "2019-11-12 09:00",
          "2019-11-13 09:00",
          "2019-11-16 09:00",
          "2019-11-18 09:00",
          "2019-11-21 09:00",
          "2019-11-23 09:00",
          "2019-11-25 09:00",
          "2019-11-27 09:00",
          "2019-11-28 09:00",
          "2019-11-29 09:00",
          "2019-11-30 09:00",
          "2019-12-01 09:00",
          "2019-12-02 09:00",
          "2019-12-04 09:00",
          "2019-12-05 09:00",
          "2019-12-06 09:00",
          "2019-12-07 09:00",
          "2019-12-08 09:00",
          "2019-12-09 09:00",
          "2019-12-10 09:00",
          "2019-12-12 09:00",
          "2019-12-13 09:00",
          "2019-12-14 09:00",
          "2019-12-15 09:00",
          "2019-12-16 09:00",
          "2019-12-18 09:00",
          "2019-12-19 09:00",
          "2019-12-20 09:00",
          "2019-12-21 09:00",
          "2019-12-22 09:00",
          "2019-12-23 09:00",
          "2019-12-24 09:00",
          "2019-12-25 09:00",
          "2019-12-26 09:00",
          "2019-12-27 09:00",
          "2019-12-28 09:00",
          "2019-12-29 09:00",
          "2019-12-30 09:00",
          "2019-12-31 09:00",
          "2020-01-01 09:00",
          "2020-01-02 09:00",
          "2020-01-03 09:00",
          "2020-01-04 09:00",
          "2020-01-05 09:00",
          "2020-01-06 09:00",
          "2020-01-08 09:00",
          "2020-01-09 09:00",
          "2020-01-10 09:00",
          "2020-01-11 09:00",
          "2020-01-12 09:00",
          "2020-01-13 09:00",
          "2020-01-14 09:00",
          "2020-01-15 09:00",
          "2020-01-16 09:00",
          "2020-01-17 09:00",
          "2020-01-18 09:00",
          "2020-01-19 09:00",
          "2020-01-20 09:00",
          "2020-01-21 09:00",
          "2020-01-22 09:00",
          "2020-01-23 09:00",
          "2020-01-24 09:00",
          "2020-01-25 09:00",
          "2020-01-26 09:00",
          "2020-01-27 09:00",
          "2020-01-28 09:00",
          "2020-01-29 09:00",
          "2020-01-30 09:00",
          "2020-01-31 09:00",
          "2020-02-01 09:00",
          "2020-02-02 09:00",
          "2020-02-03 09:00",
          "2020-02-04 09:00",
          "2020-02-05 09:00",
          "2020-02-06 09:00",
          "2020-02-07 09:00",
          "2020-02-08 09:00",
          "2020-02-09 09:00",
          "2020-02-10 09:00",
          "2020-02-11 09:00",
          "2020-02-12 09:00",
          "2020-02-13 09:00",
          "2020-02-14 09:00",
          "2020-02-15 09:00",
          "2020-02-16 09:00",
          "2020-02-17 09:00",
          "2020-02-18 09:00",
          "2020-02-19 09:00",
          "2020-02-20 09:00",
          "2020-02-21 09:00",
          "2020-02-23 09:00",
          "2020-02-24 09:00",
          "2020-02-25 09:00",
          "2020-02-26 09:00",
          "2020-02-27 09:00",
          "2020-02-28 09:00",
          "2020-02-29 09:00",
          "2020-03-01 09:00",
          "2020-04-08 09:00",
          "2020-04-09 09:00",
          "2020-04-11 09:00",
          "2020-04-12 09:00",
          "2020-04-13 09:00",
          "2020-04-14 09:00",
          "2020-04-15 09:00",
          "2020-04-16 09:00",
          "2020-04-18 09:00",
          "2020-04-20 09:00",
          "2020-04-21 09:00",
          "2020-04-22 09:00",
          "2020-04-23 09:00",
          "2020-04-24 09:00",
          "2020-04-26 09:00",
          "2020-05-05 09:00",
          "2020-05-06 09:00",
          "2020-05-07 09:00",
          "2020-05-10 09:00",
          "2020-05-11 09:00",
          "2020-05-12 09:00",
          "2020-05-13 09:00",
          "2020-05-14 09:00",
          "2020-05-21 09:00",
          "2020-05-22 09:00",
          "2020-05-23 09:00",
          "2020-05-24 09:00",
          "2020-05-26 09:00",
          "2020-05-27 09:00",
          "2020-05-28 09:00",
          "2020-05-29 09:00",
          "2020-05-30 09:00",
          "2020-05-31 09:00",
          "2020-06-01 09:00",
          "2020-06-02 09:00",
          "2020-06-04 09:00",
          "2020-06-06 09:00",
          "2020-06-09 09:00",
          "2020-06-13 09:00",
          "2020-06-15 09:00",
          "2020-06-18 09:00",
          "2020-06-20 09:00",
          "2020-06-21 09:00",
          "2020-06-22 09:00",
          "2020-06-23 09:00",
          "2020-06-25 09:00",
          "2020-06-26 09:00",
          "2020-06-27 09:00",
          "2020-06-28 09:00",
          "2020-06-30 09:00",
          "2020-07-02 09:00",
          "2020-07-03 09:00",
          "2020-07-04 09:00",
          "2020-07-05 09:00",
          "2020-07-10 09:00",
          "2020-07-11 09:00",
          "2020-07-12 09:00",
          "2020-07-13 09:00",
          "2020-07-14 09:00",
          "2020-07-16 09:00",
          "2020-07-17 09:00",
          "2020-07-20 09:00",
          "2020-07-22 09:00",
          "2020-07-23 09:00",
          "2020-07-24 09:00",
          "2020-07-25 09:00",
          "2020-07-28 09:00",
          "2020-08-01 09:00",
          "2020-08-02 09:00",
          "2020-08-04 09:00",
          "2020-08-05 09:00",
          "2020-08-06 09:00",
          "2020-08-07 09:00",
          "2020-08-11 09:00",
          "2020-08-12 09:00",
          "2020-08-13 09:00",
          "2020-08-14 09:00",
          "2020-08-15 09:00",
          "2020-08-16 09:00",
          "2020-08-17 09:00",
          "2020-08-18 09:00",
          "2020-08-23 09:00",
          "2020-08-24 09:00",
          "2020-08-25 09:00",
          "2020-08-26 09:00",
          "2020-08-27 09:00",
          "2020-08-28 09:00",
          "2020-08-29 09:00",
          "2020-08-31 09:00",
          "2020-09-01 09:00",
          "2020-09-02 09:00",
          "2020-09-03 09:00",
          "2020-09-04 09:00",
          "2020-09-05 09:00",
          "2020-09-06 09:00",
          "2020-09-07 09:00",
          "2020-09-10 09:00",
          "2020-09-11 09:00",
          "2020-09-12 09:00",
          "2020-09-13 09:00",
          "2020-09-14 09:00",
          "2020-09-15 09:00",
          "2020-09-16 09:00",
          "2020-09-17 09:00",
          "2020-09-19 09:00",
          "2020-09-20 09:00",
          "2020-09-22 09:00",
          "2020-09-24 09:00",
          "2020-09-25 09:00",
          "2020-09-26 09:00",
          "2020-09-27 09:00",
          "2020-09-28 09:00",
          "2020-09-30 09:00",
          "2020-10-01 09:00",
          "2020-10-02 09:00",
          "2020-10-03 09:00",
          "2020-10-05 09:00",
          "2020-10-06 09:00",
          "2020-10-08 09:00",
          "2020-10-10 09:00",
          "2020-10-13 09:00",
          "2020-10-14 09:00",
          "2020-10-15 09:00",
          "2020-10-16 09:00",
          "2020-10-17 09:00",
          "2020-10-18 09:00",
          "2020-10-19 09:00",
          "2020-10-20 09:00",
          "2020-10-21 09:00",
          "2020-10-22 09:00"
         ],
         "xaxis": "x",
         "y": [
          9.95873015873019,
          36.584126984126954,
          2.7904761904762836,
          -2.75396825396826,
          7.309178743961354,
          75.11111111111109,
          75.67936507936508,
          77.49047619047622,
          99.51690821256034,
          91.1936507936507,
          57.522222222222126,
          58.14285714285711,
          -37.86349206349206,
          113.79523809523809,
          -79.94603174603174,
          -100.83809523809526,
          81.83091787439616,
          36.31904761904761,
          91.81642512077292,
          57.40952380952376,
          -23.333333333333258,
          -58.333333333333314,
          5.690476190476147,
          56.19841269841265,
          12.825396825396837,
          67.66031746031751,
          41.58253968253962,
          -122.89855072463769,
          -71.7793650793651,
          33.6238095238096,
          -76.89682539682539,
          53.633333333333326,
          43.32380952380952,
          51.98550724637681,
          30.90952380952382,
          -6.106349206349208,
          46.057142857142864,
          48.30158730158729,
          29.514285714285734,
          50.468253968253975,
          50.884126984126965,
          54.38164251207729,
          -6.088888888888874,
          50.80158730158735,
          81.41269841269838,
          51.37681159420288,
          5.86349206349206,
          0.014492753623187582,
          27.444444444444457,
          50.95873015873019,
          30.149206349206338,
          52.41269841269843,
          -71.1159420289855,
          36.184126984126976,
          34.8647342995169,
          51.15238095238095,
          -100.86190476190473,
          13.888888888888857,
          33.45079365079363,
          29.523809523809575,
          34.61746031746031,
          48.473015873015925,
          -100.64251207729467,
          -59.90158730158731,
          45.99033816425123,
          45.14009661835752,
          54.68412698412692,
          33.03492063492064,
          15.26190476190476,
          39.67632850241546,
          105.87922705314008,
          -154.4396825396825,
          -27.126984126984098,
          4.0761904761904475,
          41.9033816425121,
          -20.673015873015913,
          62.85238095238097,
          56,
          21.363492063492117,
          -146.74285714285713,
          -17.912698412698404,
          22.236714975845416,
          26.39613526570048,
          111.80952380952385,
          61.56507936507933,
          99.70048309178742,
          33.3555555555555,
          -5.917874396135261,
          46.204761904761995,
          65.38253968253969,
          -26.17460317460325,
          -60.66183574879227,
          -14.192063492063482,
          0.13526570048308884,
          19.001587301587307,
          -138.40579710144928,
          2.3079365079365175,
          -7.461904761904762,
          -139.97936507936504,
          64.13526570048316,
          -1.4174603174603817,
          62.49523809523805,
          45.803174603174625,
          -93.31400966183577,
          -9.676328502415458,
          57.270531400966206,
          38.26984126984121,
          -8.406349206349205,
          -52.269841269841265,
          45.08095238095234,
          4.563492063492163,
          -2.560317460317492,
          -26.282539682539692,
          24.06763285024158,
          -1.4057971014492523,
          -4.082125603864725,
          54.63285024154595,
          -10.512698412698455,
          113.91746031746038,
          55.15873015873012,
          -12.969841269841254,
          42.303174603174625,
          92.9613526570048,
          -26.31428571428569,
          27.823809523809587,
          111.67460317460325,
          95.78888888888889,
          35.88571428571424,
          -32.85079365079355,
          22.468599033816474,
          20.141414141414202,
          -76.93968253968251,
          -30.109523809523807,
          16.579710144927617,
          -152.07729468599035,
          -75.68115942028976,
          -77.231884057971,
          43.34920634920633,
          25.973015873015925,
          -32.62318840579712,
          2.2608695652173765,
          25.246376811594246,
          50.68115942028987,
          -89.40579710144925,
          20.980676328502454,
          13.377777777777851,
          22.872549019607845,
          73.35265700483092,
          115.93015873015872,
          -39.251207729468604,
          19.053140096618357,
          20.376811594202877,
          -29.323671497584535,
          18.392156862745082,
          4.7873015873015845,
          1.7492063492063608,
          14.487922705314077,
          22.502415458937207,
          25.18627450980398,
          99.28985507246381,
          -53.02415458937198,
          -65.8647342995169,
          -80.5797101449275,
          21.95169082125608,
          17.959150326797385,
          -45.22698412698413,
          -12.801932367149789,
          57.47826086956522,
          9.932367149758534,
          13.826086956521749,
          10.15942028985512,
          38.46078431372548,
          20.961352657004852,
          44.17391304347825,
          -121.52173913043481,
          55.97619047619048,
          24.19323671497591,
          -113.14869281045753,
          8.54063018242124,
          -142.73913043478262,
          3.1835748792270238,
          -31.333333333333336,
          2.202898550724626,
          24.91787439613529,
          19.797101449275374,
          -41.8743961352657,
          31.82380952380953,
          -12.835748792270522,
          34.352380952381,
          15.062801932367165,
          -10.45410628019323,
          33.946859903381664,
          4.795751633986924,
          -10.60386473429952,
          0.1739130434782581,
          15.415458937198082,
          -49.47826086956519,
          -86.18357487922705,
          47.80193236714979,
          33.68627450980392,
          -25.79227053140096,
          -2.4057971014492665,
          -15.28985507246377,
          2.795238095238105,
          10.33816425120773,
          39.980676328502454,
          11.590381426202384,
          20.857843137254974,
          38.43478260869563,
          9.379084967320239,
          34.272875816993405,
          29.188405797101495,
          34.297385620915065,
          21.99145299145289,
          6.069651741293455,
          55.23529411764707,
          -62.09841269841269,
          24.475490196078397,
          -39.516908212560395,
          -48.47429519071312,
          16.212560386473456,
          -46.56666666666666,
          52.09178743961354,
          5.011437908496703,
          -30.19568822553896,
          10.510779436152575,
          17.87179487179492,
          22.60683760683753,
          42.27863247863252,
          15.358422939068191,
          16.68656716417911,
          17.11623931623933,
          35.43931623931633,
          -25.681592039801004,
          -0.8256410256410334,
          33.51919191919194,
          -69.99305555555554,
          24.16475095785438,
          -0.7673611111110858,
          25.48090277777783,
          27.29951690821258,
          -97.63968253968255,
          90.85873015873015,
          -136.23671497584542,
          -20.743961352656996,
          -19.85024154589371,
          9.049206349206429,
          24.06280193236705,
          -9.797101449275374,
          39.64126984126983,
          32.05714285714282,
          -97.55238095238087,
          -35.135265700483046,
          -51.51904761904768,
          -56.57971014492762,
          47.51207729468598,
          56.869565217391255,
          41.961352657004824,
          4.125603864734302,
          79.54589371980671,
          -33.16425120772942,
          -33.71980676328508,
          -41.81111111111113,
          -79.4820512820512,
          -24.40317460317459,
          -22.480952380952317,
          82.10153256704973,
          -78.35265700483092,
          -103.32222222222222,
          -121.52657004830917,
          -26.342995169082087,
          112.54106280193241,
          -21.52124183006535,
          47.223015873015896,
          70.01587301587301,
          101.14126984126983,
          -10.480952380952317,
          -37.60386473429952,
          -74.36231884057975,
          -65.4251207729468,
          -145.03535353535358,
          -83.26666666666665,
          -118.51690821256045,
          -119.4589371980677,
          -46.231884057971,
          -24.593650793650795,
          46.21739130434787,
          -76.74761904761908,
          -18.342857142857156,
          -1.439682539682508,
          55.2031746031746,
          -99.73174603174607,
          -40.41904761904755,
          -120.6714975845411,
          -30.439682539682508,
          2.1492063492064517,
          -15.381642512077292,
          100.33333333333337,
          -7.503174603174671,
          45.679365079365084,
          -31.729468599033794,
          -15.214285714285666,
          -19.10317460317458,
          -150.65079365079367,
          -2.816425120772948,
          1.9444444444444429,
          -4.017094017093996,
          3.25,
          3.0277777777777715,
          42.361111111111114,
          -0.6837606837606245,
          -140.91666666666663,
          -61.80555555555554,
          -144.41666666666669,
          -40.5,
          111.00000000000006,
          100.11111111111111,
          -44.71794871794873,
          -98.08333333333334,
          39.19444444444446,
          60.77777777777777,
          -2.4017094017093825,
          -35.861111111111114,
          -8.388888888888886,
          -8.965811965812009,
          57.77777777777777,
          32.888888888888886,
          117.0683760683761,
          58.888888888888886,
          96.16666666666663,
          -119.19444444444443,
          66.30555555555556,
          29.500000000000007,
          -54.27777777777777,
          34.55555555555554,
          -148.5470085470086,
          119.53846153846155,
          117.4102564102564,
          -18.888888888888893,
          118.94444444444446,
          -3.6666666666666714,
          62.94444444444446,
          -82.55555555555554,
          102.1965811965812,
          -132.47619047619054,
          120.46031746031747,
          60.111111111111086,
          46.230158730158735,
          41.66666666666674,
          90.00854700854711,
          -64.5634920634921,
          117.65873015873018,
          91.22222222222223,
          -0.41666666666662877,
          56.24786324786322,
          83.53968253968253,
          -151.5793650793651,
          -61.04761904761904,
          34.40000000000009,
          24.504273504273556,
          12.28205128205127,
          -126.42857142857144,
          23.700854700854734,
          13.299145299145266,
          -53.95238095238096,
          38.66666666666663,
          56.10317460317464,
          -92.76190476190477,
          -21.587301587301567,
          0.7350427350427253,
          12.153846153846189,
          8.28205128205127,
          6.743589743589723,
          5.492063492063494,
          -34.65079365079362,
          -7.222222222222172,
          110.94444444444446,
          16.5,
          50.83760683760684,
          9.361111111111086,
          26.743589743589723,
          19.47222222222217,
          -85.66666666666667,
          32.66666666666674
         ],
         "yaxis": "y"
        },
        {
         "line": {
          "color": "green"
         },
         "mode": "lines",
         "name": "17시",
         "type": "scatter",
         "x": [
          "2018-10-23 09:00",
          "2018-10-26 09:00",
          "2018-10-28 09:00",
          "2018-10-29 09:00",
          "2018-10-30 09:00",
          "2018-10-31 09:00",
          "2018-11-01 09:00",
          "2018-11-02 09:00",
          "2018-11-03 09:00",
          "2018-11-04 09:00",
          "2018-11-05 09:00",
          "2018-11-06 09:00",
          "2018-11-07 09:00",
          "2018-11-08 09:00",
          "2018-11-09 09:00",
          "2018-11-10 09:00",
          "2018-11-11 09:00",
          "2018-11-12 09:00",
          "2018-11-13 09:00",
          "2018-11-14 09:00",
          "2018-11-15 09:00",
          "2018-11-16 09:00",
          "2018-11-17 09:00",
          "2018-11-18 09:00",
          "2018-11-19 09:00",
          "2018-11-20 09:00",
          "2018-11-21 09:00",
          "2018-11-22 09:00",
          "2018-11-23 09:00",
          "2018-11-25 09:00",
          "2018-11-26 09:00",
          "2018-11-27 09:00",
          "2018-11-28 09:00",
          "2018-11-29 09:00",
          "2018-11-30 09:00",
          "2018-12-01 09:00",
          "2018-12-02 09:00",
          "2018-12-04 09:00",
          "2018-12-05 09:00",
          "2018-12-06 09:00",
          "2018-12-07 09:00",
          "2018-12-08 09:00",
          "2018-12-09 09:00",
          "2018-12-10 09:00",
          "2018-12-11 09:00",
          "2018-12-12 09:00",
          "2018-12-14 09:00",
          "2018-12-15 09:00",
          "2018-12-16 09:00",
          "2018-12-17 09:00",
          "2018-12-18 09:00",
          "2018-12-19 09:00",
          "2018-12-20 09:00",
          "2018-12-21 09:00",
          "2018-12-22 09:00",
          "2018-12-23 09:00",
          "2018-12-24 09:00",
          "2018-12-25 09:00",
          "2018-12-26 09:00",
          "2018-12-27 09:00",
          "2018-12-28 09:00",
          "2018-12-29 09:00",
          "2018-12-30 09:00",
          "2018-12-31 09:00",
          "2019-01-01 09:00",
          "2019-01-02 09:00",
          "2019-01-03 09:00",
          "2019-01-04 09:00",
          "2019-01-05 09:00",
          "2019-01-06 09:00",
          "2019-01-07 09:00",
          "2019-01-08 09:00",
          "2019-01-09 09:00",
          "2019-01-10 09:00",
          "2019-01-11 09:00",
          "2019-01-12 09:00",
          "2019-01-13 09:00",
          "2019-01-14 09:00",
          "2019-01-15 09:00",
          "2019-01-16 09:00",
          "2019-08-10 09:00",
          "2019-08-11 09:00",
          "2019-08-12 09:00",
          "2019-08-14 09:00",
          "2019-08-15 09:00",
          "2019-08-16 09:00",
          "2019-08-17 09:00",
          "2019-08-19 09:00",
          "2019-08-20 09:00",
          "2019-08-21 09:00",
          "2019-08-22 09:00",
          "2019-08-24 09:00",
          "2019-08-29 09:00",
          "2019-08-30 09:00",
          "2019-09-01 09:00",
          "2019-09-02 09:00",
          "2019-09-03 09:00",
          "2019-09-04 09:00",
          "2019-09-06 09:00",
          "2019-09-07 09:00",
          "2019-09-08 09:00",
          "2019-09-09 09:00",
          "2019-09-10 09:00",
          "2019-09-12 09:00",
          "2019-09-13 09:00",
          "2019-09-14 09:00",
          "2019-09-17 09:00",
          "2019-09-18 09:00",
          "2019-09-19 09:00",
          "2019-09-20 09:00",
          "2019-09-21 09:00",
          "2019-09-22 09:00",
          "2019-09-23 09:00",
          "2019-09-24 09:00",
          "2019-09-25 09:00",
          "2019-09-27 09:00",
          "2019-09-28 09:00",
          "2019-09-29 09:00",
          "2019-09-30 09:00",
          "2019-10-01 09:00",
          "2019-10-02 09:00",
          "2019-10-03 09:00",
          "2019-10-04 09:00",
          "2019-10-05 09:00",
          "2019-10-06 09:00",
          "2019-10-08 09:00",
          "2019-10-09 09:00",
          "2019-10-10 09:00",
          "2019-10-11 09:00",
          "2019-10-12 09:00",
          "2019-10-13 09:00",
          "2019-10-15 09:00",
          "2019-10-16 09:00",
          "2019-10-17 09:00",
          "2019-10-19 09:00",
          "2019-10-21 09:00",
          "2019-10-22 09:00",
          "2019-10-23 09:00",
          "2019-10-24 09:00",
          "2019-10-25 09:00",
          "2019-10-27 09:00",
          "2019-10-28 09:00",
          "2019-10-29 09:00",
          "2019-10-30 09:00",
          "2019-10-31 09:00",
          "2019-11-01 09:00",
          "2019-11-02 09:00",
          "2019-11-03 09:00",
          "2019-11-04 09:00",
          "2019-11-06 09:00",
          "2019-11-07 09:00",
          "2019-11-08 09:00",
          "2019-11-09 09:00",
          "2019-11-10 09:00",
          "2019-11-11 09:00",
          "2019-11-12 09:00",
          "2019-11-13 09:00",
          "2019-11-16 09:00",
          "2019-11-18 09:00",
          "2019-11-21 09:00",
          "2019-11-23 09:00",
          "2019-11-25 09:00",
          "2019-11-27 09:00",
          "2019-11-28 09:00",
          "2019-11-29 09:00",
          "2019-11-30 09:00",
          "2019-12-01 09:00",
          "2019-12-02 09:00",
          "2019-12-04 09:00",
          "2019-12-05 09:00",
          "2019-12-06 09:00",
          "2019-12-07 09:00",
          "2019-12-08 09:00",
          "2019-12-09 09:00",
          "2019-12-10 09:00",
          "2019-12-12 09:00",
          "2019-12-13 09:00",
          "2019-12-14 09:00",
          "2019-12-15 09:00",
          "2019-12-16 09:00",
          "2019-12-18 09:00",
          "2019-12-19 09:00",
          "2019-12-20 09:00",
          "2019-12-21 09:00",
          "2019-12-22 09:00",
          "2019-12-23 09:00",
          "2019-12-24 09:00",
          "2019-12-25 09:00",
          "2019-12-26 09:00",
          "2019-12-27 09:00",
          "2019-12-28 09:00",
          "2019-12-29 09:00",
          "2019-12-30 09:00",
          "2019-12-31 09:00",
          "2020-01-01 09:00",
          "2020-01-02 09:00",
          "2020-01-03 09:00",
          "2020-01-04 09:00",
          "2020-01-05 09:00",
          "2020-01-06 09:00",
          "2020-01-08 09:00",
          "2020-01-09 09:00",
          "2020-01-10 09:00",
          "2020-01-11 09:00",
          "2020-01-12 09:00",
          "2020-01-13 09:00",
          "2020-01-14 09:00",
          "2020-01-15 09:00",
          "2020-01-16 09:00",
          "2020-01-17 09:00",
          "2020-01-18 09:00",
          "2020-01-19 09:00",
          "2020-01-20 09:00",
          "2020-01-21 09:00",
          "2020-01-22 09:00",
          "2020-01-23 09:00",
          "2020-01-24 09:00",
          "2020-01-25 09:00",
          "2020-01-26 09:00",
          "2020-01-27 09:00",
          "2020-01-28 09:00",
          "2020-01-29 09:00",
          "2020-01-30 09:00",
          "2020-01-31 09:00",
          "2020-02-01 09:00",
          "2020-02-02 09:00",
          "2020-02-03 09:00",
          "2020-02-04 09:00",
          "2020-02-05 09:00",
          "2020-02-06 09:00",
          "2020-02-07 09:00",
          "2020-02-08 09:00",
          "2020-02-09 09:00",
          "2020-02-10 09:00",
          "2020-02-11 09:00",
          "2020-02-12 09:00",
          "2020-02-13 09:00",
          "2020-02-14 09:00",
          "2020-02-15 09:00",
          "2020-02-16 09:00",
          "2020-02-17 09:00",
          "2020-02-18 09:00",
          "2020-02-19 09:00",
          "2020-02-20 09:00",
          "2020-02-21 09:00",
          "2020-02-23 09:00",
          "2020-02-24 09:00",
          "2020-02-25 09:00",
          "2020-02-26 09:00",
          "2020-02-27 09:00",
          "2020-02-28 09:00",
          "2020-02-29 09:00",
          "2020-03-01 09:00",
          "2020-04-08 09:00",
          "2020-04-09 09:00",
          "2020-04-11 09:00",
          "2020-04-12 09:00",
          "2020-04-13 09:00",
          "2020-04-14 09:00",
          "2020-04-15 09:00",
          "2020-04-16 09:00",
          "2020-04-18 09:00",
          "2020-04-20 09:00",
          "2020-04-21 09:00",
          "2020-04-22 09:00",
          "2020-04-23 09:00",
          "2020-04-24 09:00",
          "2020-04-26 09:00",
          "2020-05-05 09:00",
          "2020-05-06 09:00",
          "2020-05-07 09:00",
          "2020-05-10 09:00",
          "2020-05-11 09:00",
          "2020-05-12 09:00",
          "2020-05-13 09:00",
          "2020-05-14 09:00",
          "2020-05-21 09:00",
          "2020-05-22 09:00",
          "2020-05-23 09:00",
          "2020-05-24 09:00",
          "2020-05-26 09:00",
          "2020-05-27 09:00",
          "2020-05-28 09:00",
          "2020-05-29 09:00",
          "2020-05-30 09:00",
          "2020-05-31 09:00",
          "2020-06-01 09:00",
          "2020-06-02 09:00",
          "2020-06-04 09:00",
          "2020-06-06 09:00",
          "2020-06-09 09:00",
          "2020-06-13 09:00",
          "2020-06-15 09:00",
          "2020-06-18 09:00",
          "2020-06-20 09:00",
          "2020-06-21 09:00",
          "2020-06-22 09:00",
          "2020-06-23 09:00",
          "2020-06-25 09:00",
          "2020-06-26 09:00",
          "2020-06-27 09:00",
          "2020-06-28 09:00",
          "2020-06-30 09:00",
          "2020-07-02 09:00",
          "2020-07-03 09:00",
          "2020-07-04 09:00",
          "2020-07-05 09:00",
          "2020-07-10 09:00",
          "2020-07-11 09:00",
          "2020-07-12 09:00",
          "2020-07-13 09:00",
          "2020-07-14 09:00",
          "2020-07-16 09:00",
          "2020-07-17 09:00",
          "2020-07-20 09:00",
          "2020-07-22 09:00",
          "2020-07-23 09:00",
          "2020-07-24 09:00",
          "2020-07-25 09:00",
          "2020-07-28 09:00",
          "2020-08-01 09:00",
          "2020-08-02 09:00",
          "2020-08-04 09:00",
          "2020-08-05 09:00",
          "2020-08-06 09:00",
          "2020-08-07 09:00",
          "2020-08-11 09:00",
          "2020-08-12 09:00",
          "2020-08-13 09:00",
          "2020-08-14 09:00",
          "2020-08-15 09:00",
          "2020-08-16 09:00",
          "2020-08-17 09:00",
          "2020-08-18 09:00",
          "2020-08-23 09:00",
          "2020-08-24 09:00",
          "2020-08-25 09:00",
          "2020-08-26 09:00",
          "2020-08-27 09:00",
          "2020-08-28 09:00",
          "2020-08-29 09:00",
          "2020-08-31 09:00",
          "2020-09-01 09:00",
          "2020-09-02 09:00",
          "2020-09-03 09:00",
          "2020-09-04 09:00",
          "2020-09-05 09:00",
          "2020-09-06 09:00",
          "2020-09-07 09:00",
          "2020-09-10 09:00",
          "2020-09-11 09:00",
          "2020-09-12 09:00",
          "2020-09-13 09:00",
          "2020-09-14 09:00",
          "2020-09-15 09:00",
          "2020-09-16 09:00",
          "2020-09-17 09:00",
          "2020-09-19 09:00",
          "2020-09-20 09:00",
          "2020-09-22 09:00",
          "2020-09-24 09:00",
          "2020-09-25 09:00",
          "2020-09-26 09:00",
          "2020-09-27 09:00",
          "2020-09-28 09:00",
          "2020-09-30 09:00",
          "2020-10-01 09:00",
          "2020-10-02 09:00",
          "2020-10-03 09:00",
          "2020-10-05 09:00",
          "2020-10-06 09:00",
          "2020-10-08 09:00",
          "2020-10-10 09:00",
          "2020-10-13 09:00",
          "2020-10-14 09:00",
          "2020-10-15 09:00",
          "2020-10-16 09:00",
          "2020-10-17 09:00",
          "2020-10-18 09:00",
          "2020-10-19 09:00",
          "2020-10-20 09:00",
          "2020-10-21 09:00",
          "2020-10-22 09:00"
         ],
         "xaxis": "x",
         "y": [
          -89.58454106280193,
          -89.07619047619048,
          -152.1207729468599,
          -94.61352657004831,
          -128.38888888888889,
          -113.02941176470588,
          -118.2826797385621,
          -124.21732026143789,
          -141.49523809523808,
          -130.390522875817,
          -125.32026143790848,
          -113.34150326797385,
          -115.98856209150327,
          -66.82516339869282,
          -60.30065359477124,
          -84.60530679933665,
          -92.50580431177447,
          -91.54738562091504,
          -88.65128205128205,
          -84.31699346405229,
          -76.4040404040404,
          -32.794871794871796,
          -33.543946932006634,
          -49.77272727272727,
          -69.04444444444444,
          -78.7979797979798,
          -19.22905982905983,
          -67.86868686868686,
          -73.96923076923076,
          -53.87863247863248,
          -27.77777777777778,
          -65.75757575757576,
          -33.333333333333336,
          -68.64444444444445,
          -63.47097844112769,
          -58.21212121212121,
          -55.18055555555556,
          -57.71794871794872,
          -19.444444444444443,
          -38.68888888888888,
          -74.50769230769231,
          -74.16666666666667,
          -49.815384615384616,
          -66.14358974358974,
          -29.996732026143793,
          -76.82323232323232,
          -77.19316239316238,
          -74.22727272727273,
          -52.52020202020202,
          -52.02020202020202,
          -65.8974358974359,
          -68.83838383838383,
          -54.34660033167496,
          -62.66500829187396,
          -24.907692307692308,
          -52.33838383838384,
          -73.54545454545455,
          -74.46969696969697,
          -84.82752902155887,
          -93.3698175787728,
          -94.93864013266999,
          -94.75252525252526,
          -93.54892205638474,
          -76.92424242424242,
          -75.21717171717171,
          -99.74747474747474,
          -96.59701492537313,
          -49.515151515151516,
          -109.27694859038142,
          -108.29187396351576,
          -73.76119402985074,
          -104.85572139303483,
          -102.24509803921568,
          -54.484848484848484,
          -57.44444444444445,
          -72.43449419568822,
          -101.7156862745098,
          -69.02819237147597,
          -121.24836601307189,
          -212.5942028985507,
          -101,
          -168.25714285714287,
          -82.32380952380952,
          -24.25238095238096,
          -72.94202898550725,
          -35.57619047619045,
          -76.6396825396825,
          -70.55072463768118,
          -40.1063492063492,
          -101.25603864734296,
          -179.55072463768113,
          -204.00952380952384,
          -199.19523809523812,
          -46.73174603174604,
          -24.81269841269841,
          -112.0144927536232,
          -203.4142857142857,
          -95.14603174603175,
          -47.75714285714286,
          -97.31111111111112,
          -78.11428571428573,
          -21.369841269841274,
          -144.32698412698412,
          -31.088888888888885,
          -206.76349206349207,
          -152.20289855072465,
          -129.3253968253968,
          -127.16984126984127,
          -186.2753623188406,
          -35.72380952380953,
          -45.47619047619048,
          -165.67936507936508,
          -113.07142857142858,
          -89.79227053140096,
          -71.14009661835749,
          -34.25603864734299,
          -132.2238095238095,
          -121.0190476190476,
          -134.77142857142857,
          -120.5269841269841,
          -21.392063492063492,
          -165.28253968253966,
          -104.36666666666666,
          -31.806763285024157,
          -93.75873015873016,
          -23.90634920634921,
          -169.85990338164248,
          -138,
          -71.54589371980677,
          -141.04761904761907,
          -150.6174603174603,
          -144.9855072463768,
          -170.50952380952378,
          -83.69565217391303,
          -94.29468599033817,
          -153.43809523809523,
          -126.46376811594203,
          -133.45714285714286,
          -126.88405797101449,
          -110.80676328502415,
          -108.23671497584542,
          -63.06763285024154,
          -123.85353535353536,
          -84.45915032679738,
          -121.3665008291874,
          -162.26470588235293,
          -49.80928689883914,
          -125.22875816993465,
          -106.80065359477123,
          -76.5273631840796,
          -115.2826797385621,
          -42.632850241545896,
          -67.3731343283582,
          -114.65339966832504,
          -105.58169934640523,
          -55.303030303030305,
          -114.74295190713102,
          -118.14646464646465,
          -103.4090909090909,
          -91.37878787878789,
          -49.974747474747474,
          -55.37878787878788,
          -100.22553897180762,
          -83.68034188034189,
          -82.01515151515152,
          -77.6919191919192,
          -89.75897435897437,
          -24.907692307692308,
          -81.94871794871794,
          -46.883760683760684,
          -51.8989898989899,
          -60.38803418803419,
          -58.01025641025641,
          -76.22393162393162,
          -82.0102564102564,
          -24.84375,
          -65.06666666666668,
          -25,
          -41.27272727272727,
          -82.34895833333333,
          -79.47863247863248,
          -60.17460317460318,
          -71.19145299145299,
          -27.77777777777778,
          -32.9948717948718,
          -71.42222222222223,
          -76.8080808080808,
          -52.22393162393163,
          -54.85243055555556,
          -30.21709401709402,
          -44.44444444444444,
          -82.57575757575758,
          -57.60606060606061,
          -73.43076923076923,
          -37.827350427350424,
          -22.22222222222222,
          -67.6832504145937,
          -48.18181818181818,
          -48.323076923076925,
          -89.60606060606061,
          -38.79797979797979,
          -35.94188034188034,
          -43.7020202020202,
          -105.54545454545455,
          -24.575757575757574,
          -27.454700854700857,
          -93.66161616161617,
          -93.54529914529915,
          -58.42454394693201,
          -91.49087893864014,
          -109.29797979797979,
          -99.37373737373737,
          -120.45588235294117,
          -124.0375816993464,
          -122.07960199004977,
          -130.33830845771143,
          -131.04040404040404,
          -79.05472636815921,
          -133.3150912106136,
          -89.73202614379085,
          -124.98692810457517,
          -135.48366013071896,
          -120.6135265700483,
          -100.44934640522877,
          -112.09661835748791,
          -86.8923076923077,
          -108.01932367149759,
          -21.028192371475953,
          -42.10130718954248,
          -94.12560386473429,
          -36.29951690821256,
          -131.9095238095238,
          -121.0033167495854,
          -79.05718954248366,
          -160.53030303030303,
          -39.83747927031509,
          -184.36601307189542,
          -163.36764705882354,
          -108.90878938640134,
          -177.75757575757575,
          -139.54084967320262,
          -190.22388059701493,
          -181.28758169934642,
          -51.23366013071895,
          -89.05718954248366,
          -161.890625,
          -101.75726495726497,
          -82.13636363636363,
          -180.44941956882255,
          -165.22222222222223,
          -151.58454106280192,
          -134.4079365079365,
          -142.28095238095239,
          -205.2173913043478,
          -50.29951690821256,
          -172.84920634920636,
          -187.95169082125605,
          -72.24285714285713,
          -123.90317460317462,
          -102.73333333333335,
          -169.92222222222222,
          -74.5359477124183,
          -78.1982905982906,
          -51.18095238095236,
          -201.75714285714287,
          -65.71904761904763,
          -40.4015873015873,
          -69.25873015873017,
          -202.94285714285715,
          -126.95169082125605,
          -174.97101449275362,
          -70.67619047619047,
          -205.34444444444432,
          -138.09178743961354,
          -203.99033816425117,
          -64.24761904761903,
          -54.93650793650794,
          -193.23671497584536,
          -22.84285714285714,
          -186.82857142857142,
          -77.9746031746032,
          -159.13333333333333,
          -43.80193236714976,
          -190.93719806763283,
          -205.23671497584542,
          -103.85990338164251,
          -54.99523809523808,
          -185.23015873015873,
          -212.56521739130437,
          -137.24603174603178,
          -111.27142857142857,
          -85.99516908212561,
          -192.08412698412695,
          -196.42028985507244,
          -210.87922705314008,
          -50.953968253968256,
          -36.28019323671498,
          -201.0940170940171,
          -29.5,
          -28.08333333333333,
          -112.2820512820513,
          -156.05555555555554,
          -196.66666666666657,
          -87.66666666666669,
          -52.55555555555556,
          -63.965811965811966,
          -106.78632478632477,
          -196.3055555555555,
          -107.58333333333331,
          -101.80341880341881,
          -22.638888888888893,
          -149.80555555555557,
          -25.916666666666657,
          -95.91666666666667,
          -53.94444444444445,
          -154.03418803418802,
          -151.72222222222223,
          -87.77777777777777,
          -39.051282051282044,
          -120.30769230769232,
          -80.17094017094016,
          -98.7777777777778,
          -32.25,
          -27.47222222222222,
          -123.18803418803415,
          -179,
          -152.05982905982907,
          -148.32478632478632,
          -122.2905982905983,
          -85.03418803418802,
          -87.4126984126984,
          -140,
          -127.41880341880342,
          -117.72222222222223,
          -40.53846153846154,
          -35.88034188034188,
          -146.44444444444446,
          -191.4188034188034,
          -170.04273504273507,
          -69.58119658119658,
          -166.19047619047618,
          -182.6825396825397,
          -194.63888888888889,
          -19.642857142857142,
          -58.38888888888889,
          -36.452380952380935,
          -115.73809523809523,
          -98.4126984126984,
          -187.5396825396825,
          -180.13675213675214,
          -76.76923076923077,
          -133.27777777777777,
          -171.59523809523813,
          -181.68376068376068,
          -197.3760683760684,
          -21.76923076923077,
          -77.5042735042735,
          -45.17094017094017,
          -109.30158730158732,
          -71.45238095238096,
          -179.44444444444446,
          -199.79487179487177,
          -172.76068376068378,
          -209.44444444444446,
          -188.5793650793651,
          -96.69841269841268,
          -44.05128205128206,
          -161.5079365079365,
          -128.03968253968253,
          -169.80158730158732,
          -123.33333333333333,
          -73.97222222222223,
          -208.13675213675214,
          -183.25,
          -120.08333333333334,
          -168.27777777777777,
          -59.61111111111111,
          -163.83333333333334
         ],
         "yaxis": "y"
        }
       ],
       "layout": {
        "height": 300,
        "template": {
         "data": {
          "bar": [
           {
            "error_x": {
             "color": "#2a3f5f"
            },
            "error_y": {
             "color": "#2a3f5f"
            },
            "marker": {
             "line": {
              "color": "#E5ECF6",
              "width": 0.5
             }
            },
            "type": "bar"
           }
          ],
          "barpolar": [
           {
            "marker": {
             "line": {
              "color": "#E5ECF6",
              "width": 0.5
             }
            },
            "type": "barpolar"
           }
          ],
          "carpet": [
           {
            "aaxis": {
             "endlinecolor": "#2a3f5f",
             "gridcolor": "white",
             "linecolor": "white",
             "minorgridcolor": "white",
             "startlinecolor": "#2a3f5f"
            },
            "baxis": {
             "endlinecolor": "#2a3f5f",
             "gridcolor": "white",
             "linecolor": "white",
             "minorgridcolor": "white",
             "startlinecolor": "#2a3f5f"
            },
            "type": "carpet"
           }
          ],
          "choropleth": [
           {
            "colorbar": {
             "outlinewidth": 0,
             "ticks": ""
            },
            "type": "choropleth"
           }
          ],
          "contour": [
           {
            "colorbar": {
             "outlinewidth": 0,
             "ticks": ""
            },
            "colorscale": [
             [
              0,
              "#0d0887"
             ],
             [
              0.1111111111111111,
              "#46039f"
             ],
             [
              0.2222222222222222,
              "#7201a8"
             ],
             [
              0.3333333333333333,
              "#9c179e"
             ],
             [
              0.4444444444444444,
              "#bd3786"
             ],
             [
              0.5555555555555556,
              "#d8576b"
             ],
             [
              0.6666666666666666,
              "#ed7953"
             ],
             [
              0.7777777777777778,
              "#fb9f3a"
             ],
             [
              0.8888888888888888,
              "#fdca26"
             ],
             [
              1,
              "#f0f921"
             ]
            ],
            "type": "contour"
           }
          ],
          "contourcarpet": [
           {
            "colorbar": {
             "outlinewidth": 0,
             "ticks": ""
            },
            "type": "contourcarpet"
           }
          ],
          "heatmap": [
           {
            "colorbar": {
             "outlinewidth": 0,
             "ticks": ""
            },
            "colorscale": [
             [
              0,
              "#0d0887"
             ],
             [
              0.1111111111111111,
              "#46039f"
             ],
             [
              0.2222222222222222,
              "#7201a8"
             ],
             [
              0.3333333333333333,
              "#9c179e"
             ],
             [
              0.4444444444444444,
              "#bd3786"
             ],
             [
              0.5555555555555556,
              "#d8576b"
             ],
             [
              0.6666666666666666,
              "#ed7953"
             ],
             [
              0.7777777777777778,
              "#fb9f3a"
             ],
             [
              0.8888888888888888,
              "#fdca26"
             ],
             [
              1,
              "#f0f921"
             ]
            ],
            "type": "heatmap"
           }
          ],
          "heatmapgl": [
           {
            "colorbar": {
             "outlinewidth": 0,
             "ticks": ""
            },
            "colorscale": [
             [
              0,
              "#0d0887"
             ],
             [
              0.1111111111111111,
              "#46039f"
             ],
             [
              0.2222222222222222,
              "#7201a8"
             ],
             [
              0.3333333333333333,
              "#9c179e"
             ],
             [
              0.4444444444444444,
              "#bd3786"
             ],
             [
              0.5555555555555556,
              "#d8576b"
             ],
             [
              0.6666666666666666,
              "#ed7953"
             ],
             [
              0.7777777777777778,
              "#fb9f3a"
             ],
             [
              0.8888888888888888,
              "#fdca26"
             ],
             [
              1,
              "#f0f921"
             ]
            ],
            "type": "heatmapgl"
           }
          ],
          "histogram": [
           {
            "marker": {
             "colorbar": {
              "outlinewidth": 0,
              "ticks": ""
             }
            },
            "type": "histogram"
           }
          ],
          "histogram2d": [
           {
            "colorbar": {
             "outlinewidth": 0,
             "ticks": ""
            },
            "colorscale": [
             [
              0,
              "#0d0887"
             ],
             [
              0.1111111111111111,
              "#46039f"
             ],
             [
              0.2222222222222222,
              "#7201a8"
             ],
             [
              0.3333333333333333,
              "#9c179e"
             ],
             [
              0.4444444444444444,
              "#bd3786"
             ],
             [
              0.5555555555555556,
              "#d8576b"
             ],
             [
              0.6666666666666666,
              "#ed7953"
             ],
             [
              0.7777777777777778,
              "#fb9f3a"
             ],
             [
              0.8888888888888888,
              "#fdca26"
             ],
             [
              1,
              "#f0f921"
             ]
            ],
            "type": "histogram2d"
           }
          ],
          "histogram2dcontour": [
           {
            "colorbar": {
             "outlinewidth": 0,
             "ticks": ""
            },
            "colorscale": [
             [
              0,
              "#0d0887"
             ],
             [
              0.1111111111111111,
              "#46039f"
             ],
             [
              0.2222222222222222,
              "#7201a8"
             ],
             [
              0.3333333333333333,
              "#9c179e"
             ],
             [
              0.4444444444444444,
              "#bd3786"
             ],
             [
              0.5555555555555556,
              "#d8576b"
             ],
             [
              0.6666666666666666,
              "#ed7953"
             ],
             [
              0.7777777777777778,
              "#fb9f3a"
             ],
             [
              0.8888888888888888,
              "#fdca26"
             ],
             [
              1,
              "#f0f921"
             ]
            ],
            "type": "histogram2dcontour"
           }
          ],
          "mesh3d": [
           {
            "colorbar": {
             "outlinewidth": 0,
             "ticks": ""
            },
            "type": "mesh3d"
           }
          ],
          "parcoords": [
           {
            "line": {
             "colorbar": {
              "outlinewidth": 0,
              "ticks": ""
             }
            },
            "type": "parcoords"
           }
          ],
          "pie": [
           {
            "automargin": true,
            "type": "pie"
           }
          ],
          "scatter": [
           {
            "marker": {
             "colorbar": {
              "outlinewidth": 0,
              "ticks": ""
             }
            },
            "type": "scatter"
           }
          ],
          "scatter3d": [
           {
            "line": {
             "colorbar": {
              "outlinewidth": 0,
              "ticks": ""
             }
            },
            "marker": {
             "colorbar": {
              "outlinewidth": 0,
              "ticks": ""
             }
            },
            "type": "scatter3d"
           }
          ],
          "scattercarpet": [
           {
            "marker": {
             "colorbar": {
              "outlinewidth": 0,
              "ticks": ""
             }
            },
            "type": "scattercarpet"
           }
          ],
          "scattergeo": [
           {
            "marker": {
             "colorbar": {
              "outlinewidth": 0,
              "ticks": ""
             }
            },
            "type": "scattergeo"
           }
          ],
          "scattergl": [
           {
            "marker": {
             "colorbar": {
              "outlinewidth": 0,
              "ticks": ""
             }
            },
            "type": "scattergl"
           }
          ],
          "scattermapbox": [
           {
            "marker": {
             "colorbar": {
              "outlinewidth": 0,
              "ticks": ""
             }
            },
            "type": "scattermapbox"
           }
          ],
          "scatterpolar": [
           {
            "marker": {
             "colorbar": {
              "outlinewidth": 0,
              "ticks": ""
             }
            },
            "type": "scatterpolar"
           }
          ],
          "scatterpolargl": [
           {
            "marker": {
             "colorbar": {
              "outlinewidth": 0,
              "ticks": ""
             }
            },
            "type": "scatterpolargl"
           }
          ],
          "scatterternary": [
           {
            "marker": {
             "colorbar": {
              "outlinewidth": 0,
              "ticks": ""
             }
            },
            "type": "scatterternary"
           }
          ],
          "surface": [
           {
            "colorbar": {
             "outlinewidth": 0,
             "ticks": ""
            },
            "colorscale": [
             [
              0,
              "#0d0887"
             ],
             [
              0.1111111111111111,
              "#46039f"
             ],
             [
              0.2222222222222222,
              "#7201a8"
             ],
             [
              0.3333333333333333,
              "#9c179e"
             ],
             [
              0.4444444444444444,
              "#bd3786"
             ],
             [
              0.5555555555555556,
              "#d8576b"
             ],
             [
              0.6666666666666666,
              "#ed7953"
             ],
             [
              0.7777777777777778,
              "#fb9f3a"
             ],
             [
              0.8888888888888888,
              "#fdca26"
             ],
             [
              1,
              "#f0f921"
             ]
            ],
            "type": "surface"
           }
          ],
          "table": [
           {
            "cells": {
             "fill": {
              "color": "#EBF0F8"
             },
             "line": {
              "color": "white"
             }
            },
            "header": {
             "fill": {
              "color": "#C8D4E3"
             },
             "line": {
              "color": "white"
             }
            },
            "type": "table"
           }
          ]
         },
         "layout": {
          "annotationdefaults": {
           "arrowcolor": "#2a3f5f",
           "arrowhead": 0,
           "arrowwidth": 1
          },
          "coloraxis": {
           "colorbar": {
            "outlinewidth": 0,
            "ticks": ""
           }
          },
          "colorscale": {
           "diverging": [
            [
             0,
             "#8e0152"
            ],
            [
             0.1,
             "#c51b7d"
            ],
            [
             0.2,
             "#de77ae"
            ],
            [
             0.3,
             "#f1b6da"
            ],
            [
             0.4,
             "#fde0ef"
            ],
            [
             0.5,
             "#f7f7f7"
            ],
            [
             0.6,
             "#e6f5d0"
            ],
            [
             0.7,
             "#b8e186"
            ],
            [
             0.8,
             "#7fbc41"
            ],
            [
             0.9,
             "#4d9221"
            ],
            [
             1,
             "#276419"
            ]
           ],
           "sequential": [
            [
             0,
             "#0d0887"
            ],
            [
             0.1111111111111111,
             "#46039f"
            ],
            [
             0.2222222222222222,
             "#7201a8"
            ],
            [
             0.3333333333333333,
             "#9c179e"
            ],
            [
             0.4444444444444444,
             "#bd3786"
            ],
            [
             0.5555555555555556,
             "#d8576b"
            ],
            [
             0.6666666666666666,
             "#ed7953"
            ],
            [
             0.7777777777777778,
             "#fb9f3a"
            ],
            [
             0.8888888888888888,
             "#fdca26"
            ],
            [
             1,
             "#f0f921"
            ]
           ],
           "sequentialminus": [
            [
             0,
             "#0d0887"
            ],
            [
             0.1111111111111111,
             "#46039f"
            ],
            [
             0.2222222222222222,
             "#7201a8"
            ],
            [
             0.3333333333333333,
             "#9c179e"
            ],
            [
             0.4444444444444444,
             "#bd3786"
            ],
            [
             0.5555555555555556,
             "#d8576b"
            ],
            [
             0.6666666666666666,
             "#ed7953"
            ],
            [
             0.7777777777777778,
             "#fb9f3a"
            ],
            [
             0.8888888888888888,
             "#fdca26"
            ],
            [
             1,
             "#f0f921"
            ]
           ]
          },
          "colorway": [
           "#636efa",
           "#EF553B",
           "#00cc96",
           "#ab63fa",
           "#FFA15A",
           "#19d3f3",
           "#FF6692",
           "#B6E880",
           "#FF97FF",
           "#FECB52"
          ],
          "font": {
           "color": "#2a3f5f"
          },
          "geo": {
           "bgcolor": "white",
           "lakecolor": "white",
           "landcolor": "#E5ECF6",
           "showlakes": true,
           "showland": true,
           "subunitcolor": "white"
          },
          "hoverlabel": {
           "align": "left"
          },
          "hovermode": "closest",
          "mapbox": {
           "style": "light"
          },
          "paper_bgcolor": "white",
          "plot_bgcolor": "#E5ECF6",
          "polar": {
           "angularaxis": {
            "gridcolor": "white",
            "linecolor": "white",
            "ticks": ""
           },
           "bgcolor": "#E5ECF6",
           "radialaxis": {
            "gridcolor": "white",
            "linecolor": "white",
            "ticks": ""
           }
          },
          "scene": {
           "xaxis": {
            "backgroundcolor": "#E5ECF6",
            "gridcolor": "white",
            "gridwidth": 2,
            "linecolor": "white",
            "showbackground": true,
            "ticks": "",
            "zerolinecolor": "white"
           },
           "yaxis": {
            "backgroundcolor": "#E5ECF6",
            "gridcolor": "white",
            "gridwidth": 2,
            "linecolor": "white",
            "showbackground": true,
            "ticks": "",
            "zerolinecolor": "white"
           },
           "zaxis": {
            "backgroundcolor": "#E5ECF6",
            "gridcolor": "white",
            "gridwidth": 2,
            "linecolor": "white",
            "showbackground": true,
            "ticks": "",
            "zerolinecolor": "white"
           }
          },
          "shapedefaults": {
           "line": {
            "color": "#2a3f5f"
           }
          },
          "ternary": {
           "aaxis": {
            "gridcolor": "white",
            "linecolor": "white",
            "ticks": ""
           },
           "baxis": {
            "gridcolor": "white",
            "linecolor": "white",
            "ticks": ""
           },
           "bgcolor": "#E5ECF6",
           "caxis": {
            "gridcolor": "white",
            "linecolor": "white",
            "ticks": ""
           }
          },
          "title": {
           "x": 0.05
          },
          "xaxis": {
           "automargin": true,
           "gridcolor": "white",
           "linecolor": "white",
           "ticks": "",
           "title": {
            "standoff": 15
           },
           "zerolinecolor": "white",
           "zerolinewidth": 2
          },
          "yaxis": {
           "automargin": true,
           "gridcolor": "white",
           "linecolor": "white",
           "ticks": "",
           "title": {
            "standoff": 15
           },
           "zerolinecolor": "white",
           "zerolinewidth": 2
          }
         }
        },
        "width": 500,
        "xaxis": {
         "anchor": "y",
         "domain": [
          0,
          0.94
         ]
        },
        "yaxis": {
         "anchor": "x",
         "domain": [
          0,
          1
         ]
        },
        "yaxis2": {
         "anchor": "x",
         "overlaying": "y",
         "side": "right"
        }
       }
      }
     },
     "metadata": {}
    },
    {
     "output_type": "stream",
     "name": "stdout",
     "text": [
      "경사면일사량 - 기상청일사량\n09시 :  88.97  - 13시 :  4.65  - 17시 :  -99.86\n"
     ]
    }
   ],
   "source": [
    "diff1_plotly() ## 밝은 날만 가져와서,,"
   ]
  },
  {
   "source": [
    "        대부분 시간대에서 09시에는 기업 일사량이 높아지고 , 17시에는 기상청 일사량이 높아지는 것을 확인할 수 있다."
   ],
   "cell_type": "markdown",
   "metadata": {}
  },
  {
   "cell_type": "code",
   "execution_count": 172,
   "metadata": {},
   "outputs": [
    {
     "output_type": "display_data",
     "data": {
      "text/plain": "<Figure size 864x360 with 9 Axes>",
      "image/svg+xml": "<?xml version=\"1.0\" encoding=\"utf-8\" standalone=\"no\"?>\r\n<!DOCTYPE svg PUBLIC \"-//W3C//DTD SVG 1.1//EN\"\r\n  \"http://www.w3.org/Graphics/SVG/1.1/DTD/svg11.dtd\">\r\n<!-- Created with matplotlib (https://matplotlib.org/) -->\r\n<svg height=\"304.492806pt\" version=\"1.1\" viewBox=\"0 0 716.45 304.492806\" width=\"716.45pt\" xmlns=\"http://www.w3.org/2000/svg\" xmlns:xlink=\"http://www.w3.org/1999/xlink\">\r\n <defs>\r\n  <style type=\"text/css\">\r\n*{stroke-linecap:butt;stroke-linejoin:round;}\r\n  </style>\r\n </defs>\r\n <g id=\"figure_1\">\r\n  <g id=\"patch_1\">\r\n   <path d=\"M 0 304.492806 \r\nL 716.45 304.492806 \r\nL 716.45 0 \r\nL 0 0 \r\nz\r\n\" style=\"fill:none;\"/>\r\n  </g>\r\n  <g id=\"axes_1\">\r\n   <g id=\"patch_2\">\r\n    <path d=\"M 39.65 88.477733 \r\nL 236.591176 88.477733 \r\nL 236.591176 8.536556 \r\nL 39.65 8.536556 \r\nz\r\n\" style=\"fill:#ffffff;\"/>\r\n   </g>\r\n   <g id=\"patch_3\">\r\n    <path clip-path=\"url(#p4bbf6a1f69)\" d=\"M 46.214706 70.914364 \r\nL 98.732353 70.914364 \r\nL 98.732353 48.481924 \r\nL 46.214706 48.481924 \r\nL 46.214706 70.914364 \r\nz\r\n\" style=\"fill:#3274a1;stroke:#3d3d3d;stroke-linejoin:miter;stroke-width:1.5;\"/>\r\n   </g>\r\n   <g id=\"patch_4\">\r\n    <path clip-path=\"url(#p4bbf6a1f69)\" d=\"M 111.861765 78.7507 \r\nL 164.379412 78.7507 \r\nL 164.379412 59.808351 \r\nL 111.861765 59.808351 \r\nL 111.861765 78.7507 \r\nz\r\n\" style=\"fill:#e1812c;stroke:#3d3d3d;stroke-linejoin:miter;stroke-width:1.5;\"/>\r\n   </g>\r\n   <g id=\"patch_5\">\r\n    <path clip-path=\"url(#p4bbf6a1f69)\" d=\"M 177.508824 73.03508 \r\nL 230.026471 73.03508 \r\nL 230.026471 47.761999 \r\nL 177.508824 47.761999 \r\nL 177.508824 73.03508 \r\nz\r\n\" style=\"fill:#3a923a;stroke:#3d3d3d;stroke-linejoin:miter;stroke-width:1.5;\"/>\r\n   </g>\r\n   <g id=\"matplotlib.axis_1\">\r\n    <g id=\"xtick_1\">\r\n     <g id=\"line2d_1\">\r\n      <defs>\r\n       <path d=\"M 0 0 \r\nL 0 3.5 \r\n\" id=\"me00672731d\" style=\"stroke:#000000;stroke-width:0.8;\"/>\r\n      </defs>\r\n      <g>\r\n       <use style=\"stroke:#000000;stroke-width:0.8;\" x=\"72.473529\" xlink:href=\"#me00672731d\" y=\"88.477733\"/>\r\n      </g>\r\n     </g>\r\n     <g id=\"text_1\">\r\n      <!-- env_slopesolar -->\r\n      <defs>\r\n       <path d=\"M 56.203125 29.59375 \r\nL 56.203125 25.203125 \r\nL 14.890625 25.203125 \r\nQ 15.484375 15.921875 20.484375 11.0625 \r\nQ 25.484375 6.203125 34.421875 6.203125 \r\nQ 39.59375 6.203125 44.453125 7.46875 \r\nQ 49.3125 8.734375 54.109375 11.28125 \r\nL 54.109375 2.78125 \r\nQ 49.265625 0.734375 44.1875 -0.34375 \r\nQ 39.109375 -1.421875 33.890625 -1.421875 \r\nQ 20.796875 -1.421875 13.15625 6.1875 \r\nQ 5.515625 13.8125 5.515625 26.8125 \r\nQ 5.515625 40.234375 12.765625 48.109375 \r\nQ 20.015625 56 32.328125 56 \r\nQ 43.359375 56 49.78125 48.890625 \r\nQ 56.203125 41.796875 56.203125 29.59375 \r\nz\r\nM 47.21875 32.234375 \r\nQ 47.125 39.59375 43.09375 43.984375 \r\nQ 39.0625 48.390625 32.421875 48.390625 \r\nQ 24.90625 48.390625 20.390625 44.140625 \r\nQ 15.875 39.890625 15.1875 32.171875 \r\nz\r\n\" id=\"DejaVuSans-101\"/>\r\n       <path d=\"M 54.890625 33.015625 \r\nL 54.890625 0 \r\nL 45.90625 0 \r\nL 45.90625 32.71875 \r\nQ 45.90625 40.484375 42.875 44.328125 \r\nQ 39.84375 48.1875 33.796875 48.1875 \r\nQ 26.515625 48.1875 22.3125 43.546875 \r\nQ 18.109375 38.921875 18.109375 30.90625 \r\nL 18.109375 0 \r\nL 9.078125 0 \r\nL 9.078125 54.6875 \r\nL 18.109375 54.6875 \r\nL 18.109375 46.1875 \r\nQ 21.34375 51.125 25.703125 53.5625 \r\nQ 30.078125 56 35.796875 56 \r\nQ 45.21875 56 50.046875 50.171875 \r\nQ 54.890625 44.34375 54.890625 33.015625 \r\nz\r\n\" id=\"DejaVuSans-110\"/>\r\n       <path d=\"M 2.984375 54.6875 \r\nL 12.5 54.6875 \r\nL 29.59375 8.796875 \r\nL 46.6875 54.6875 \r\nL 56.203125 54.6875 \r\nL 35.6875 0 \r\nL 23.484375 0 \r\nz\r\n\" id=\"DejaVuSans-118\"/>\r\n       <path d=\"M 50.984375 -16.609375 \r\nL 50.984375 -23.578125 \r\nL -0.984375 -23.578125 \r\nL -0.984375 -16.609375 \r\nz\r\n\" id=\"DejaVuSans-95\"/>\r\n       <path d=\"M 44.28125 53.078125 \r\nL 44.28125 44.578125 \r\nQ 40.484375 46.53125 36.375 47.5 \r\nQ 32.28125 48.484375 27.875 48.484375 \r\nQ 21.1875 48.484375 17.84375 46.4375 \r\nQ 14.5 44.390625 14.5 40.28125 \r\nQ 14.5 37.15625 16.890625 35.375 \r\nQ 19.28125 33.59375 26.515625 31.984375 \r\nL 29.59375 31.296875 \r\nQ 39.15625 29.25 43.1875 25.515625 \r\nQ 47.21875 21.78125 47.21875 15.09375 \r\nQ 47.21875 7.46875 41.1875 3.015625 \r\nQ 35.15625 -1.421875 24.609375 -1.421875 \r\nQ 20.21875 -1.421875 15.453125 -0.5625 \r\nQ 10.6875 0.296875 5.421875 2 \r\nL 5.421875 11.28125 \r\nQ 10.40625 8.6875 15.234375 7.390625 \r\nQ 20.0625 6.109375 24.8125 6.109375 \r\nQ 31.15625 6.109375 34.5625 8.28125 \r\nQ 37.984375 10.453125 37.984375 14.40625 \r\nQ 37.984375 18.0625 35.515625 20.015625 \r\nQ 33.0625 21.96875 24.703125 23.78125 \r\nL 21.578125 24.515625 \r\nQ 13.234375 26.265625 9.515625 29.90625 \r\nQ 5.8125 33.546875 5.8125 39.890625 \r\nQ 5.8125 47.609375 11.28125 51.796875 \r\nQ 16.75 56 26.8125 56 \r\nQ 31.78125 56 36.171875 55.265625 \r\nQ 40.578125 54.546875 44.28125 53.078125 \r\nz\r\n\" id=\"DejaVuSans-115\"/>\r\n       <path d=\"M 9.421875 75.984375 \r\nL 18.40625 75.984375 \r\nL 18.40625 0 \r\nL 9.421875 0 \r\nz\r\n\" id=\"DejaVuSans-108\"/>\r\n       <path d=\"M 30.609375 48.390625 \r\nQ 23.390625 48.390625 19.1875 42.75 \r\nQ 14.984375 37.109375 14.984375 27.296875 \r\nQ 14.984375 17.484375 19.15625 11.84375 \r\nQ 23.34375 6.203125 30.609375 6.203125 \r\nQ 37.796875 6.203125 41.984375 11.859375 \r\nQ 46.1875 17.53125 46.1875 27.296875 \r\nQ 46.1875 37.015625 41.984375 42.703125 \r\nQ 37.796875 48.390625 30.609375 48.390625 \r\nz\r\nM 30.609375 56 \r\nQ 42.328125 56 49.015625 48.375 \r\nQ 55.71875 40.765625 55.71875 27.296875 \r\nQ 55.71875 13.875 49.015625 6.21875 \r\nQ 42.328125 -1.421875 30.609375 -1.421875 \r\nQ 18.84375 -1.421875 12.171875 6.21875 \r\nQ 5.515625 13.875 5.515625 27.296875 \r\nQ 5.515625 40.765625 12.171875 48.375 \r\nQ 18.84375 56 30.609375 56 \r\nz\r\n\" id=\"DejaVuSans-111\"/>\r\n       <path d=\"M 18.109375 8.203125 \r\nL 18.109375 -20.796875 \r\nL 9.078125 -20.796875 \r\nL 9.078125 54.6875 \r\nL 18.109375 54.6875 \r\nL 18.109375 46.390625 \r\nQ 20.953125 51.265625 25.265625 53.625 \r\nQ 29.59375 56 35.59375 56 \r\nQ 45.5625 56 51.78125 48.09375 \r\nQ 58.015625 40.1875 58.015625 27.296875 \r\nQ 58.015625 14.40625 51.78125 6.484375 \r\nQ 45.5625 -1.421875 35.59375 -1.421875 \r\nQ 29.59375 -1.421875 25.265625 0.953125 \r\nQ 20.953125 3.328125 18.109375 8.203125 \r\nz\r\nM 48.6875 27.296875 \r\nQ 48.6875 37.203125 44.609375 42.84375 \r\nQ 40.53125 48.484375 33.40625 48.484375 \r\nQ 26.265625 48.484375 22.1875 42.84375 \r\nQ 18.109375 37.203125 18.109375 27.296875 \r\nQ 18.109375 17.390625 22.1875 11.75 \r\nQ 26.265625 6.109375 33.40625 6.109375 \r\nQ 40.53125 6.109375 44.609375 11.75 \r\nQ 48.6875 17.390625 48.6875 27.296875 \r\nz\r\n\" id=\"DejaVuSans-112\"/>\r\n       <path d=\"M 34.28125 27.484375 \r\nQ 23.390625 27.484375 19.1875 25 \r\nQ 14.984375 22.515625 14.984375 16.5 \r\nQ 14.984375 11.71875 18.140625 8.90625 \r\nQ 21.296875 6.109375 26.703125 6.109375 \r\nQ 34.1875 6.109375 38.703125 11.40625 \r\nQ 43.21875 16.703125 43.21875 25.484375 \r\nL 43.21875 27.484375 \r\nz\r\nM 52.203125 31.203125 \r\nL 52.203125 0 \r\nL 43.21875 0 \r\nL 43.21875 8.296875 \r\nQ 40.140625 3.328125 35.546875 0.953125 \r\nQ 30.953125 -1.421875 24.3125 -1.421875 \r\nQ 15.921875 -1.421875 10.953125 3.296875 \r\nQ 6 8.015625 6 15.921875 \r\nQ 6 25.140625 12.171875 29.828125 \r\nQ 18.359375 34.515625 30.609375 34.515625 \r\nL 43.21875 34.515625 \r\nL 43.21875 35.40625 \r\nQ 43.21875 41.609375 39.140625 45 \r\nQ 35.0625 48.390625 27.6875 48.390625 \r\nQ 23 48.390625 18.546875 47.265625 \r\nQ 14.109375 46.140625 10.015625 43.890625 \r\nL 10.015625 52.203125 \r\nQ 14.9375 54.109375 19.578125 55.046875 \r\nQ 24.21875 56 28.609375 56 \r\nQ 40.484375 56 46.34375 49.84375 \r\nQ 52.203125 43.703125 52.203125 31.203125 \r\nz\r\n\" id=\"DejaVuSans-97\"/>\r\n       <path d=\"M 41.109375 46.296875 \r\nQ 39.59375 47.171875 37.8125 47.578125 \r\nQ 36.03125 48 33.890625 48 \r\nQ 26.265625 48 22.1875 43.046875 \r\nQ 18.109375 38.09375 18.109375 28.8125 \r\nL 18.109375 0 \r\nL 9.078125 0 \r\nL 9.078125 54.6875 \r\nL 18.109375 54.6875 \r\nL 18.109375 46.1875 \r\nQ 20.953125 51.171875 25.484375 53.578125 \r\nQ 30.03125 56 36.53125 56 \r\nQ 37.453125 56 38.578125 55.875 \r\nQ 39.703125 55.765625 41.0625 55.515625 \r\nz\r\n\" id=\"DejaVuSans-114\"/>\r\n      </defs>\r\n      <g transform=\"translate(35.292279 103.07617)scale(0.1 -0.1)\">\r\n       <use xlink:href=\"#DejaVuSans-101\"/>\r\n       <use x=\"61.523438\" xlink:href=\"#DejaVuSans-110\"/>\r\n       <use x=\"124.902344\" xlink:href=\"#DejaVuSans-118\"/>\r\n       <use x=\"184.082031\" xlink:href=\"#DejaVuSans-95\"/>\r\n       <use x=\"234.082031\" xlink:href=\"#DejaVuSans-115\"/>\r\n       <use x=\"286.181641\" xlink:href=\"#DejaVuSans-108\"/>\r\n       <use x=\"313.964844\" xlink:href=\"#DejaVuSans-111\"/>\r\n       <use x=\"375.146484\" xlink:href=\"#DejaVuSans-112\"/>\r\n       <use x=\"438.623047\" xlink:href=\"#DejaVuSans-101\"/>\r\n       <use x=\"500.146484\" xlink:href=\"#DejaVuSans-115\"/>\r\n       <use x=\"552.246094\" xlink:href=\"#DejaVuSans-111\"/>\r\n       <use x=\"613.427734\" xlink:href=\"#DejaVuSans-108\"/>\r\n       <use x=\"641.210938\" xlink:href=\"#DejaVuSans-97\"/>\r\n       <use x=\"702.490234\" xlink:href=\"#DejaVuSans-114\"/>\r\n      </g>\r\n     </g>\r\n    </g>\r\n    <g id=\"xtick_2\">\r\n     <g id=\"line2d_2\">\r\n      <g>\r\n       <use style=\"stroke:#000000;stroke-width:0.8;\" x=\"138.120588\" xlink:href=\"#me00672731d\" y=\"88.477733\"/>\r\n      </g>\r\n     </g>\r\n     <g id=\"text_2\">\r\n      <!-- match_solar -->\r\n      <defs>\r\n       <path d=\"M 52 44.1875 \r\nQ 55.375 50.25 60.0625 53.125 \r\nQ 64.75 56 71.09375 56 \r\nQ 79.640625 56 84.28125 50.015625 \r\nQ 88.921875 44.046875 88.921875 33.015625 \r\nL 88.921875 0 \r\nL 79.890625 0 \r\nL 79.890625 32.71875 \r\nQ 79.890625 40.578125 77.09375 44.375 \r\nQ 74.3125 48.1875 68.609375 48.1875 \r\nQ 61.625 48.1875 57.5625 43.546875 \r\nQ 53.515625 38.921875 53.515625 30.90625 \r\nL 53.515625 0 \r\nL 44.484375 0 \r\nL 44.484375 32.71875 \r\nQ 44.484375 40.625 41.703125 44.40625 \r\nQ 38.921875 48.1875 33.109375 48.1875 \r\nQ 26.21875 48.1875 22.15625 43.53125 \r\nQ 18.109375 38.875 18.109375 30.90625 \r\nL 18.109375 0 \r\nL 9.078125 0 \r\nL 9.078125 54.6875 \r\nL 18.109375 54.6875 \r\nL 18.109375 46.1875 \r\nQ 21.1875 51.21875 25.484375 53.609375 \r\nQ 29.78125 56 35.6875 56 \r\nQ 41.65625 56 45.828125 52.96875 \r\nQ 50 49.953125 52 44.1875 \r\nz\r\n\" id=\"DejaVuSans-109\"/>\r\n       <path d=\"M 18.3125 70.21875 \r\nL 18.3125 54.6875 \r\nL 36.8125 54.6875 \r\nL 36.8125 47.703125 \r\nL 18.3125 47.703125 \r\nL 18.3125 18.015625 \r\nQ 18.3125 11.328125 20.140625 9.421875 \r\nQ 21.96875 7.515625 27.59375 7.515625 \r\nL 36.8125 7.515625 \r\nL 36.8125 0 \r\nL 27.59375 0 \r\nQ 17.1875 0 13.234375 3.875 \r\nQ 9.28125 7.765625 9.28125 18.015625 \r\nL 9.28125 47.703125 \r\nL 2.6875 47.703125 \r\nL 2.6875 54.6875 \r\nL 9.28125 54.6875 \r\nL 9.28125 70.21875 \r\nz\r\n\" id=\"DejaVuSans-116\"/>\r\n       <path d=\"M 48.78125 52.59375 \r\nL 48.78125 44.1875 \r\nQ 44.96875 46.296875 41.140625 47.34375 \r\nQ 37.3125 48.390625 33.40625 48.390625 \r\nQ 24.65625 48.390625 19.8125 42.84375 \r\nQ 14.984375 37.3125 14.984375 27.296875 \r\nQ 14.984375 17.28125 19.8125 11.734375 \r\nQ 24.65625 6.203125 33.40625 6.203125 \r\nQ 37.3125 6.203125 41.140625 7.25 \r\nQ 44.96875 8.296875 48.78125 10.40625 \r\nL 48.78125 2.09375 \r\nQ 45.015625 0.34375 40.984375 -0.53125 \r\nQ 36.96875 -1.421875 32.421875 -1.421875 \r\nQ 20.0625 -1.421875 12.78125 6.34375 \r\nQ 5.515625 14.109375 5.515625 27.296875 \r\nQ 5.515625 40.671875 12.859375 48.328125 \r\nQ 20.21875 56 33.015625 56 \r\nQ 37.15625 56 41.109375 55.140625 \r\nQ 45.0625 54.296875 48.78125 52.59375 \r\nz\r\n\" id=\"DejaVuSans-99\"/>\r\n       <path d=\"M 54.890625 33.015625 \r\nL 54.890625 0 \r\nL 45.90625 0 \r\nL 45.90625 32.71875 \r\nQ 45.90625 40.484375 42.875 44.328125 \r\nQ 39.84375 48.1875 33.796875 48.1875 \r\nQ 26.515625 48.1875 22.3125 43.546875 \r\nQ 18.109375 38.921875 18.109375 30.90625 \r\nL 18.109375 0 \r\nL 9.078125 0 \r\nL 9.078125 75.984375 \r\nL 18.109375 75.984375 \r\nL 18.109375 46.1875 \r\nQ 21.34375 51.125 25.703125 53.5625 \r\nQ 30.078125 56 35.796875 56 \r\nQ 45.21875 56 50.046875 50.171875 \r\nQ 54.890625 44.34375 54.890625 33.015625 \r\nz\r\n\" id=\"DejaVuSans-104\"/>\r\n      </defs>\r\n      <g transform=\"translate(107.635432 103.07617)scale(0.1 -0.1)\">\r\n       <use xlink:href=\"#DejaVuSans-109\"/>\r\n       <use x=\"97.412109\" xlink:href=\"#DejaVuSans-97\"/>\r\n       <use x=\"158.691406\" xlink:href=\"#DejaVuSans-116\"/>\r\n       <use x=\"197.900391\" xlink:href=\"#DejaVuSans-99\"/>\r\n       <use x=\"252.880859\" xlink:href=\"#DejaVuSans-104\"/>\r\n       <use x=\"316.259766\" xlink:href=\"#DejaVuSans-95\"/>\r\n       <use x=\"366.259766\" xlink:href=\"#DejaVuSans-115\"/>\r\n       <use x=\"418.359375\" xlink:href=\"#DejaVuSans-111\"/>\r\n       <use x=\"479.541016\" xlink:href=\"#DejaVuSans-108\"/>\r\n       <use x=\"507.324219\" xlink:href=\"#DejaVuSans-97\"/>\r\n       <use x=\"568.603516\" xlink:href=\"#DejaVuSans-114\"/>\r\n      </g>\r\n     </g>\r\n    </g>\r\n    <g id=\"xtick_3\">\r\n     <g id=\"line2d_3\">\r\n      <g>\r\n       <use style=\"stroke:#000000;stroke-width:0.8;\" x=\"203.767647\" xlink:href=\"#me00672731d\" y=\"88.477733\"/>\r\n      </g>\r\n     </g>\r\n     <g id=\"text_3\">\r\n      <!-- reset_match -->\r\n      <g transform=\"translate(172.683272 103.07617)scale(0.1 -0.1)\">\r\n       <use xlink:href=\"#DejaVuSans-114\"/>\r\n       <use x=\"41.082031\" xlink:href=\"#DejaVuSans-101\"/>\r\n       <use x=\"102.605469\" xlink:href=\"#DejaVuSans-115\"/>\r\n       <use x=\"154.705078\" xlink:href=\"#DejaVuSans-101\"/>\r\n       <use x=\"216.228516\" xlink:href=\"#DejaVuSans-116\"/>\r\n       <use x=\"255.4375\" xlink:href=\"#DejaVuSans-95\"/>\r\n       <use x=\"305.4375\" xlink:href=\"#DejaVuSans-109\"/>\r\n       <use x=\"402.849609\" xlink:href=\"#DejaVuSans-97\"/>\r\n       <use x=\"464.128906\" xlink:href=\"#DejaVuSans-116\"/>\r\n       <use x=\"503.337891\" xlink:href=\"#DejaVuSans-99\"/>\r\n       <use x=\"558.318359\" xlink:href=\"#DejaVuSans-104\"/>\r\n      </g>\r\n     </g>\r\n    </g>\r\n   </g>\r\n   <g id=\"matplotlib.axis_2\">\r\n    <g id=\"ytick_1\">\r\n     <g id=\"line2d_4\">\r\n      <defs>\r\n       <path d=\"M 0 0 \r\nL -3.5 0 \r\n\" id=\"m1519f4db37\" style=\"stroke:#000000;stroke-width:0.8;\"/>\r\n      </defs>\r\n      <g>\r\n       <use style=\"stroke:#000000;stroke-width:0.8;\" x=\"39.65\" xlink:href=\"#m1519f4db37\" y=\"85.108971\"/>\r\n      </g>\r\n     </g>\r\n     <g id=\"text_4\">\r\n      <!-- 0 -->\r\n      <defs>\r\n       <path d=\"M 31.78125 66.40625 \r\nQ 24.171875 66.40625 20.328125 58.90625 \r\nQ 16.5 51.421875 16.5 36.375 \r\nQ 16.5 21.390625 20.328125 13.890625 \r\nQ 24.171875 6.390625 31.78125 6.390625 \r\nQ 39.453125 6.390625 43.28125 13.890625 \r\nQ 47.125 21.390625 47.125 36.375 \r\nQ 47.125 51.421875 43.28125 58.90625 \r\nQ 39.453125 66.40625 31.78125 66.40625 \r\nz\r\nM 31.78125 74.21875 \r\nQ 44.046875 74.21875 50.515625 64.515625 \r\nQ 56.984375 54.828125 56.984375 36.375 \r\nQ 56.984375 17.96875 50.515625 8.265625 \r\nQ 44.046875 -1.421875 31.78125 -1.421875 \r\nQ 19.53125 -1.421875 13.0625 8.265625 \r\nQ 6.59375 17.96875 6.59375 36.375 \r\nQ 6.59375 54.828125 13.0625 64.515625 \r\nQ 19.53125 74.21875 31.78125 74.21875 \r\nz\r\n\" id=\"DejaVuSans-48\"/>\r\n      </defs>\r\n      <g transform=\"translate(26.2875 88.908189)scale(0.1 -0.1)\">\r\n       <use xlink:href=\"#DejaVuSans-48\"/>\r\n      </g>\r\n     </g>\r\n    </g>\r\n    <g id=\"ytick_2\">\r\n     <g id=\"line2d_5\">\r\n      <g>\r\n       <use style=\"stroke:#000000;stroke-width:0.8;\" x=\"39.65\" xlink:href=\"#m1519f4db37\" y=\"37.421938\"/>\r\n      </g>\r\n     </g>\r\n     <g id=\"text_5\">\r\n      <!-- 500 -->\r\n      <defs>\r\n       <path d=\"M 10.796875 72.90625 \r\nL 49.515625 72.90625 \r\nL 49.515625 64.59375 \r\nL 19.828125 64.59375 \r\nL 19.828125 46.734375 \r\nQ 21.96875 47.46875 24.109375 47.828125 \r\nQ 26.265625 48.1875 28.421875 48.1875 \r\nQ 40.625 48.1875 47.75 41.5 \r\nQ 54.890625 34.8125 54.890625 23.390625 \r\nQ 54.890625 11.625 47.5625 5.09375 \r\nQ 40.234375 -1.421875 26.90625 -1.421875 \r\nQ 22.3125 -1.421875 17.546875 -0.640625 \r\nQ 12.796875 0.140625 7.71875 1.703125 \r\nL 7.71875 11.625 \r\nQ 12.109375 9.234375 16.796875 8.0625 \r\nQ 21.484375 6.890625 26.703125 6.890625 \r\nQ 35.15625 6.890625 40.078125 11.328125 \r\nQ 45.015625 15.765625 45.015625 23.390625 \r\nQ 45.015625 31 40.078125 35.4375 \r\nQ 35.15625 39.890625 26.703125 39.890625 \r\nQ 22.75 39.890625 18.8125 39.015625 \r\nQ 14.890625 38.140625 10.796875 36.28125 \r\nz\r\n\" id=\"DejaVuSans-53\"/>\r\n      </defs>\r\n      <g transform=\"translate(13.5625 41.221157)scale(0.1 -0.1)\">\r\n       <use xlink:href=\"#DejaVuSans-53\"/>\r\n       <use x=\"63.623047\" xlink:href=\"#DejaVuSans-48\"/>\r\n       <use x=\"127.246094\" xlink:href=\"#DejaVuSans-48\"/>\r\n      </g>\r\n     </g>\r\n    </g>\r\n   </g>\r\n   <g id=\"line2d_6\">\r\n    <path clip-path=\"url(#p4bbf6a1f69)\" d=\"M 72.473529 70.914364 \r\nL 72.473529 83.40995 \r\n\" style=\"fill:none;stroke:#3d3d3d;stroke-linecap:square;stroke-width:1.5;\"/>\r\n   </g>\r\n   <g id=\"line2d_7\">\r\n    <path clip-path=\"url(#p4bbf6a1f69)\" d=\"M 72.473529 48.481924 \r\nL 72.473529 23.63693 \r\n\" style=\"fill:none;stroke:#3d3d3d;stroke-linecap:square;stroke-width:1.5;\"/>\r\n   </g>\r\n   <g id=\"line2d_8\">\r\n    <path clip-path=\"url(#p4bbf6a1f69)\" d=\"M 59.344118 83.40995 \r\nL 85.602941 83.40995 \r\n\" style=\"fill:none;stroke:#3d3d3d;stroke-linecap:square;stroke-width:1.5;\"/>\r\n   </g>\r\n   <g id=\"line2d_9\">\r\n    <path clip-path=\"url(#p4bbf6a1f69)\" d=\"M 59.344118 23.63693 \r\nL 85.602941 23.63693 \r\n\" style=\"fill:none;stroke:#3d3d3d;stroke-linecap:square;stroke-width:1.5;\"/>\r\n   </g>\r\n   <g id=\"line2d_10\"/>\r\n   <g id=\"line2d_11\">\r\n    <path clip-path=\"url(#p4bbf6a1f69)\" d=\"M 138.120588 78.7507 \r\nL 138.120588 84.844043 \r\n\" style=\"fill:none;stroke:#3d3d3d;stroke-linecap:square;stroke-width:1.5;\"/>\r\n   </g>\r\n   <g id=\"line2d_12\">\r\n    <path clip-path=\"url(#p4bbf6a1f69)\" d=\"M 138.120588 59.808351 \r\nL 138.120588 32.388307 \r\n\" style=\"fill:none;stroke:#3d3d3d;stroke-linecap:square;stroke-width:1.5;\"/>\r\n   </g>\r\n   <g id=\"line2d_13\">\r\n    <path clip-path=\"url(#p4bbf6a1f69)\" d=\"M 124.991176 84.844043 \r\nL 151.25 84.844043 \r\n\" style=\"fill:none;stroke:#3d3d3d;stroke-linecap:square;stroke-width:1.5;\"/>\r\n   </g>\r\n   <g id=\"line2d_14\">\r\n    <path clip-path=\"url(#p4bbf6a1f69)\" d=\"M 124.991176 32.388307 \r\nL 151.25 32.388307 \r\n\" style=\"fill:none;stroke:#3d3d3d;stroke-linecap:square;stroke-width:1.5;\"/>\r\n   </g>\r\n   <g id=\"line2d_15\">\r\n    <defs>\r\n     <path d=\"M 0 3.535534 \r\nL 2.12132 0 \r\nL 0 -3.535534 \r\nL -2.12132 0 \r\nz\r\n\" id=\"m427981758f\" style=\"stroke:#3d3d3d;stroke-linejoin:miter;\"/>\r\n    </defs>\r\n    <g clip-path=\"url(#p4bbf6a1f69)\">\r\n     <use style=\"fill:#3d3d3d;stroke:#3d3d3d;stroke-linejoin:miter;\" x=\"138.120588\" xlink:href=\"#m427981758f\" y=\"30.268883\"/>\r\n    </g>\r\n   </g>\r\n   <g id=\"line2d_16\">\r\n    <path clip-path=\"url(#p4bbf6a1f69)\" d=\"M 203.767647 73.03508 \r\nL 203.767647 84.651889 \r\n\" style=\"fill:none;stroke:#3d3d3d;stroke-linecap:square;stroke-width:1.5;\"/>\r\n   </g>\r\n   <g id=\"line2d_17\">\r\n    <path clip-path=\"url(#p4bbf6a1f69)\" d=\"M 203.767647 47.761999 \r\nL 203.767647 12.170246 \r\n\" style=\"fill:none;stroke:#3d3d3d;stroke-linecap:square;stroke-width:1.5;\"/>\r\n   </g>\r\n   <g id=\"line2d_18\">\r\n    <path clip-path=\"url(#p4bbf6a1f69)\" d=\"M 190.638235 84.651889 \r\nL 216.897059 84.651889 \r\n\" style=\"fill:none;stroke:#3d3d3d;stroke-linecap:square;stroke-width:1.5;\"/>\r\n   </g>\r\n   <g id=\"line2d_19\">\r\n    <path clip-path=\"url(#p4bbf6a1f69)\" d=\"M 190.638235 12.170246 \r\nL 216.897059 12.170246 \r\n\" style=\"fill:none;stroke:#3d3d3d;stroke-linecap:square;stroke-width:1.5;\"/>\r\n   </g>\r\n   <g id=\"line2d_20\"/>\r\n   <g id=\"line2d_21\">\r\n    <path clip-path=\"url(#p4bbf6a1f69)\" d=\"M 46.214706 64.062482 \r\nL 98.732353 64.062482 \r\n\" style=\"fill:none;stroke:#3d3d3d;stroke-linecap:square;stroke-width:1.5;\"/>\r\n   </g>\r\n   <g id=\"line2d_22\">\r\n    <path clip-path=\"url(#p4bbf6a1f69)\" d=\"M 111.861765 73.187213 \r\nL 164.379412 73.187213 \r\n\" style=\"fill:none;stroke:#3d3d3d;stroke-linecap:square;stroke-width:1.5;\"/>\r\n   </g>\r\n   <g id=\"line2d_23\">\r\n    <path clip-path=\"url(#p4bbf6a1f69)\" d=\"M 177.508824 64.138528 \r\nL 230.026471 64.138528 \r\n\" style=\"fill:none;stroke:#3d3d3d;stroke-linecap:square;stroke-width:1.5;\"/>\r\n   </g>\r\n   <g id=\"patch_6\">\r\n    <path d=\"M 39.65 88.477733 \r\nL 39.65 8.536556 \r\n\" style=\"fill:none;stroke:#000000;stroke-linecap:square;stroke-linejoin:miter;stroke-width:0.8;\"/>\r\n   </g>\r\n   <g id=\"patch_7\">\r\n    <path d=\"M 236.591176 88.477733 \r\nL 236.591176 8.536556 \r\n\" style=\"fill:none;stroke:#000000;stroke-linecap:square;stroke-linejoin:miter;stroke-width:0.8;\"/>\r\n   </g>\r\n   <g id=\"patch_8\">\r\n    <path d=\"M 39.65 88.477733 \r\nL 236.591176 88.477733 \r\n\" style=\"fill:none;stroke:#000000;stroke-linecap:square;stroke-linejoin:miter;stroke-width:0.8;\"/>\r\n   </g>\r\n   <g id=\"patch_9\">\r\n    <path d=\"M 39.65 8.536556 \r\nL 236.591176 8.536556 \r\n\" style=\"fill:none;stroke:#000000;stroke-linecap:square;stroke-linejoin:miter;stroke-width:0.8;\"/>\r\n   </g>\r\n  </g>\r\n  <g id=\"axes_2\">\r\n   <g id=\"patch_10\">\r\n    <path d=\"M 275.979412 88.477733 \r\nL 472.920588 88.477733 \r\nL 472.920588 8.536556 \r\nL 275.979412 8.536556 \r\nz\r\n\" style=\"fill:#ffffff;\"/>\r\n   </g>\r\n   <g id=\"patch_11\">\r\n    <path clip-path=\"url(#p76cd1ec482)\" d=\"M 282.544118 65.086402 \r\nL 335.061765 65.086402 \r\nL 335.061765 40.083297 \r\nL 282.544118 40.083297 \r\nL 282.544118 65.086402 \r\nz\r\n\" style=\"fill:#3274a1;stroke:#3d3d3d;stroke-linejoin:miter;stroke-width:1.5;\"/>\r\n   </g>\r\n   <g id=\"patch_12\">\r\n    <path clip-path=\"url(#p76cd1ec482)\" d=\"M 348.191176 72.3961 \r\nL 400.708824 72.3961 \r\nL 400.708824 49.834203 \r\nL 348.191176 49.834203 \r\nL 348.191176 72.3961 \r\nz\r\n\" style=\"fill:#e1812c;stroke:#3d3d3d;stroke-linejoin:miter;stroke-width:1.5;\"/>\r\n   </g>\r\n   <g id=\"patch_13\">\r\n    <path clip-path=\"url(#p76cd1ec482)\" d=\"M 413.838235 67.975552 \r\nL 466.355882 67.975552 \r\nL 466.355882 40.891127 \r\nL 413.838235 40.891127 \r\nL 413.838235 67.975552 \r\nz\r\n\" style=\"fill:#3a923a;stroke:#3d3d3d;stroke-linejoin:miter;stroke-width:1.5;\"/>\r\n   </g>\r\n   <g id=\"matplotlib.axis_3\">\r\n    <g id=\"xtick_4\">\r\n     <g id=\"line2d_24\">\r\n      <g>\r\n       <use style=\"stroke:#000000;stroke-width:0.8;\" x=\"308.802941\" xlink:href=\"#me00672731d\" y=\"88.477733\"/>\r\n      </g>\r\n     </g>\r\n     <g id=\"text_6\">\r\n      <!-- env_slopesolar -->\r\n      <g transform=\"translate(271.621691 103.07617)scale(0.1 -0.1)\">\r\n       <use xlink:href=\"#DejaVuSans-101\"/>\r\n       <use x=\"61.523438\" xlink:href=\"#DejaVuSans-110\"/>\r\n       <use x=\"124.902344\" xlink:href=\"#DejaVuSans-118\"/>\r\n       <use x=\"184.082031\" xlink:href=\"#DejaVuSans-95\"/>\r\n       <use x=\"234.082031\" xlink:href=\"#DejaVuSans-115\"/>\r\n       <use x=\"286.181641\" xlink:href=\"#DejaVuSans-108\"/>\r\n       <use x=\"313.964844\" xlink:href=\"#DejaVuSans-111\"/>\r\n       <use x=\"375.146484\" xlink:href=\"#DejaVuSans-112\"/>\r\n       <use x=\"438.623047\" xlink:href=\"#DejaVuSans-101\"/>\r\n       <use x=\"500.146484\" xlink:href=\"#DejaVuSans-115\"/>\r\n       <use x=\"552.246094\" xlink:href=\"#DejaVuSans-111\"/>\r\n       <use x=\"613.427734\" xlink:href=\"#DejaVuSans-108\"/>\r\n       <use x=\"641.210938\" xlink:href=\"#DejaVuSans-97\"/>\r\n       <use x=\"702.490234\" xlink:href=\"#DejaVuSans-114\"/>\r\n      </g>\r\n     </g>\r\n    </g>\r\n    <g id=\"xtick_5\">\r\n     <g id=\"line2d_25\">\r\n      <g>\r\n       <use style=\"stroke:#000000;stroke-width:0.8;\" x=\"374.45\" xlink:href=\"#me00672731d\" y=\"88.477733\"/>\r\n      </g>\r\n     </g>\r\n     <g id=\"text_7\">\r\n      <!-- match_solar -->\r\n      <g transform=\"translate(343.964844 103.07617)scale(0.1 -0.1)\">\r\n       <use xlink:href=\"#DejaVuSans-109\"/>\r\n       <use x=\"97.412109\" xlink:href=\"#DejaVuSans-97\"/>\r\n       <use x=\"158.691406\" xlink:href=\"#DejaVuSans-116\"/>\r\n       <use x=\"197.900391\" xlink:href=\"#DejaVuSans-99\"/>\r\n       <use x=\"252.880859\" xlink:href=\"#DejaVuSans-104\"/>\r\n       <use x=\"316.259766\" xlink:href=\"#DejaVuSans-95\"/>\r\n       <use x=\"366.259766\" xlink:href=\"#DejaVuSans-115\"/>\r\n       <use x=\"418.359375\" xlink:href=\"#DejaVuSans-111\"/>\r\n       <use x=\"479.541016\" xlink:href=\"#DejaVuSans-108\"/>\r\n       <use x=\"507.324219\" xlink:href=\"#DejaVuSans-97\"/>\r\n       <use x=\"568.603516\" xlink:href=\"#DejaVuSans-114\"/>\r\n      </g>\r\n     </g>\r\n    </g>\r\n    <g id=\"xtick_6\">\r\n     <g id=\"line2d_26\">\r\n      <g>\r\n       <use style=\"stroke:#000000;stroke-width:0.8;\" x=\"440.097059\" xlink:href=\"#me00672731d\" y=\"88.477733\"/>\r\n      </g>\r\n     </g>\r\n     <g id=\"text_8\">\r\n      <!-- reset_match -->\r\n      <g transform=\"translate(409.012684 103.07617)scale(0.1 -0.1)\">\r\n       <use xlink:href=\"#DejaVuSans-114\"/>\r\n       <use x=\"41.082031\" xlink:href=\"#DejaVuSans-101\"/>\r\n       <use x=\"102.605469\" xlink:href=\"#DejaVuSans-115\"/>\r\n       <use x=\"154.705078\" xlink:href=\"#DejaVuSans-101\"/>\r\n       <use x=\"216.228516\" xlink:href=\"#DejaVuSans-116\"/>\r\n       <use x=\"255.4375\" xlink:href=\"#DejaVuSans-95\"/>\r\n       <use x=\"305.4375\" xlink:href=\"#DejaVuSans-109\"/>\r\n       <use x=\"402.849609\" xlink:href=\"#DejaVuSans-97\"/>\r\n       <use x=\"464.128906\" xlink:href=\"#DejaVuSans-116\"/>\r\n       <use x=\"503.337891\" xlink:href=\"#DejaVuSans-99\"/>\r\n       <use x=\"558.318359\" xlink:href=\"#DejaVuSans-104\"/>\r\n      </g>\r\n     </g>\r\n    </g>\r\n   </g>\r\n   <g id=\"matplotlib.axis_4\">\r\n    <g id=\"ytick_3\">\r\n     <g id=\"line2d_27\">\r\n      <g>\r\n       <use style=\"stroke:#000000;stroke-width:0.8;\" x=\"275.979412\" xlink:href=\"#m1519f4db37\" y=\"84.844043\"/>\r\n      </g>\r\n     </g>\r\n     <g id=\"text_9\">\r\n      <!-- 0 -->\r\n      <g transform=\"translate(262.616912 88.643261)scale(0.1 -0.1)\">\r\n       <use xlink:href=\"#DejaVuSans-48\"/>\r\n      </g>\r\n     </g>\r\n    </g>\r\n    <g id=\"ytick_4\">\r\n     <g id=\"line2d_28\">\r\n      <g>\r\n       <use style=\"stroke:#000000;stroke-width:0.8;\" x=\"275.979412\" xlink:href=\"#m1519f4db37\" y=\"44.832798\"/>\r\n      </g>\r\n     </g>\r\n     <g id=\"text_10\">\r\n      <!-- 500 -->\r\n      <g transform=\"translate(249.891912 48.632017)scale(0.1 -0.1)\">\r\n       <use xlink:href=\"#DejaVuSans-53\"/>\r\n       <use x=\"63.623047\" xlink:href=\"#DejaVuSans-48\"/>\r\n       <use x=\"127.246094\" xlink:href=\"#DejaVuSans-48\"/>\r\n      </g>\r\n     </g>\r\n    </g>\r\n   </g>\r\n   <g id=\"line2d_29\">\r\n    <path clip-path=\"url(#p76cd1ec482)\" d=\"M 308.802941 65.086402 \r\nL 308.802941 83.684929 \r\n\" style=\"fill:none;stroke:#3d3d3d;stroke-linecap:square;stroke-width:1.5;\"/>\r\n   </g>\r\n   <g id=\"line2d_30\">\r\n    <path clip-path=\"url(#p76cd1ec482)\" d=\"M 308.802941 40.083297 \r\nL 308.802941 17.26505 \r\n\" style=\"fill:none;stroke:#3d3d3d;stroke-linecap:square;stroke-width:1.5;\"/>\r\n   </g>\r\n   <g id=\"line2d_31\">\r\n    <path clip-path=\"url(#p76cd1ec482)\" d=\"M 295.673529 83.684929 \r\nL 321.932353 83.684929 \r\n\" style=\"fill:none;stroke:#3d3d3d;stroke-linecap:square;stroke-width:1.5;\"/>\r\n   </g>\r\n   <g id=\"line2d_32\">\r\n    <path clip-path=\"url(#p76cd1ec482)\" d=\"M 295.673529 17.26505 \r\nL 321.932353 17.26505 \r\n\" style=\"fill:none;stroke:#3d3d3d;stroke-linecap:square;stroke-width:1.5;\"/>\r\n   </g>\r\n   <g id=\"line2d_33\"/>\r\n   <g id=\"line2d_34\">\r\n    <path clip-path=\"url(#p76cd1ec482)\" d=\"M 374.45 72.3961 \r\nL 374.45 84.844043 \r\n\" style=\"fill:none;stroke:#3d3d3d;stroke-linecap:square;stroke-width:1.5;\"/>\r\n   </g>\r\n   <g id=\"line2d_35\">\r\n    <path clip-path=\"url(#p76cd1ec482)\" d=\"M 374.45 49.834203 \r\nL 374.45 25.271745 \r\n\" style=\"fill:none;stroke:#3d3d3d;stroke-linecap:square;stroke-width:1.5;\"/>\r\n   </g>\r\n   <g id=\"line2d_36\">\r\n    <path clip-path=\"url(#p76cd1ec482)\" d=\"M 361.320588 84.844043 \r\nL 387.579412 84.844043 \r\n\" style=\"fill:none;stroke:#3d3d3d;stroke-linecap:square;stroke-width:1.5;\"/>\r\n   </g>\r\n   <g id=\"line2d_37\">\r\n    <path clip-path=\"url(#p76cd1ec482)\" d=\"M 361.320588 25.271745 \r\nL 387.579412 25.271745 \r\n\" style=\"fill:none;stroke:#3d3d3d;stroke-linecap:square;stroke-width:1.5;\"/>\r\n   </g>\r\n   <g id=\"line2d_38\"/>\r\n   <g id=\"line2d_39\">\r\n    <path clip-path=\"url(#p76cd1ec482)\" d=\"M 440.097059 67.975552 \r\nL 440.097059 84.844043 \r\n\" style=\"fill:none;stroke:#3d3d3d;stroke-linecap:square;stroke-width:1.5;\"/>\r\n   </g>\r\n   <g id=\"line2d_40\">\r\n    <path clip-path=\"url(#p76cd1ec482)\" d=\"M 440.097059 40.891127 \r\nL 440.097059 12.170246 \r\n\" style=\"fill:none;stroke:#3d3d3d;stroke-linecap:square;stroke-width:1.5;\"/>\r\n   </g>\r\n   <g id=\"line2d_41\">\r\n    <path clip-path=\"url(#p76cd1ec482)\" d=\"M 426.967647 84.844043 \r\nL 453.226471 84.844043 \r\n\" style=\"fill:none;stroke:#3d3d3d;stroke-linecap:square;stroke-width:1.5;\"/>\r\n   </g>\r\n   <g id=\"line2d_42\">\r\n    <path clip-path=\"url(#p76cd1ec482)\" d=\"M 426.967647 12.170246 \r\nL 453.226471 12.170246 \r\n\" style=\"fill:none;stroke:#3d3d3d;stroke-linecap:square;stroke-width:1.5;\"/>\r\n   </g>\r\n   <g id=\"line2d_43\"/>\r\n   <g id=\"line2d_44\">\r\n    <path clip-path=\"url(#p76cd1ec482)\" d=\"M 282.544118 55.004799 \r\nL 335.061765 55.004799 \r\n\" style=\"fill:none;stroke:#3d3d3d;stroke-linecap:square;stroke-width:1.5;\"/>\r\n   </g>\r\n   <g id=\"line2d_45\">\r\n    <path clip-path=\"url(#p76cd1ec482)\" d=\"M 348.191176 63.504712 \r\nL 400.708824 63.504712 \r\n\" style=\"fill:none;stroke:#3d3d3d;stroke-linecap:square;stroke-width:1.5;\"/>\r\n   </g>\r\n   <g id=\"line2d_46\">\r\n    <path clip-path=\"url(#p76cd1ec482)\" d=\"M 413.838235 54.301218 \r\nL 466.355882 54.301218 \r\n\" style=\"fill:none;stroke:#3d3d3d;stroke-linecap:square;stroke-width:1.5;\"/>\r\n   </g>\r\n   <g id=\"patch_14\">\r\n    <path d=\"M 275.979412 88.477733 \r\nL 275.979412 8.536556 \r\n\" style=\"fill:none;stroke:#000000;stroke-linecap:square;stroke-linejoin:miter;stroke-width:0.8;\"/>\r\n   </g>\r\n   <g id=\"patch_15\">\r\n    <path d=\"M 472.920588 88.477733 \r\nL 472.920588 8.536556 \r\n\" style=\"fill:none;stroke:#000000;stroke-linecap:square;stroke-linejoin:miter;stroke-width:0.8;\"/>\r\n   </g>\r\n   <g id=\"patch_16\">\r\n    <path d=\"M 275.979412 88.477733 \r\nL 472.920588 88.477733 \r\n\" style=\"fill:none;stroke:#000000;stroke-linecap:square;stroke-linejoin:miter;stroke-width:0.8;\"/>\r\n   </g>\r\n   <g id=\"patch_17\">\r\n    <path d=\"M 275.979412 8.536556 \r\nL 472.920588 8.536556 \r\n\" style=\"fill:none;stroke:#000000;stroke-linecap:square;stroke-linejoin:miter;stroke-width:0.8;\"/>\r\n   </g>\r\n  </g>\r\n  <g id=\"axes_3\">\r\n   <g id=\"patch_18\">\r\n    <path d=\"M 512.308824 88.477733 \r\nL 709.25 88.477733 \r\nL 709.25 8.536556 \r\nL 512.308824 8.536556 \r\nz\r\n\" style=\"fill:#ffffff;\"/>\r\n   </g>\r\n   <g id=\"patch_19\">\r\n    <path clip-path=\"url(#pa9b0e02a2b)\" d=\"M 518.873529 64.869884 \r\nL 571.391176 64.869884 \r\nL 571.391176 37.373586 \r\nL 518.873529 37.373586 \r\nL 518.873529 64.869884 \r\nz\r\n\" style=\"fill:#3274a1;stroke:#3d3d3d;stroke-linejoin:miter;stroke-width:1.5;\"/>\r\n   </g>\r\n   <g id=\"patch_20\">\r\n    <path clip-path=\"url(#pa9b0e02a2b)\" d=\"M 584.520588 67.951778 \r\nL 637.038235 67.951778 \r\nL 637.038235 43.005616 \r\nL 584.520588 43.005616 \r\nL 584.520588 67.951778 \r\nz\r\n\" style=\"fill:#e1812c;stroke:#3d3d3d;stroke-linejoin:miter;stroke-width:1.5;\"/>\r\n   </g>\r\n   <g id=\"patch_21\">\r\n    <path clip-path=\"url(#pa9b0e02a2b)\" d=\"M 650.167647 64.701087 \r\nL 702.685294 64.701087 \r\nL 702.685294 37.726614 \r\nL 650.167647 37.726614 \r\nL 650.167647 64.701087 \r\nz\r\n\" style=\"fill:#3a923a;stroke:#3d3d3d;stroke-linejoin:miter;stroke-width:1.5;\"/>\r\n   </g>\r\n   <g id=\"matplotlib.axis_5\">\r\n    <g id=\"xtick_7\">\r\n     <g id=\"line2d_47\">\r\n      <g>\r\n       <use style=\"stroke:#000000;stroke-width:0.8;\" x=\"545.132353\" xlink:href=\"#me00672731d\" y=\"88.477733\"/>\r\n      </g>\r\n     </g>\r\n     <g id=\"text_11\">\r\n      <!-- env_slopesolar -->\r\n      <g transform=\"translate(507.951103 103.07617)scale(0.1 -0.1)\">\r\n       <use xlink:href=\"#DejaVuSans-101\"/>\r\n       <use x=\"61.523438\" xlink:href=\"#DejaVuSans-110\"/>\r\n       <use x=\"124.902344\" xlink:href=\"#DejaVuSans-118\"/>\r\n       <use x=\"184.082031\" xlink:href=\"#DejaVuSans-95\"/>\r\n       <use x=\"234.082031\" xlink:href=\"#DejaVuSans-115\"/>\r\n       <use x=\"286.181641\" xlink:href=\"#DejaVuSans-108\"/>\r\n       <use x=\"313.964844\" xlink:href=\"#DejaVuSans-111\"/>\r\n       <use x=\"375.146484\" xlink:href=\"#DejaVuSans-112\"/>\r\n       <use x=\"438.623047\" xlink:href=\"#DejaVuSans-101\"/>\r\n       <use x=\"500.146484\" xlink:href=\"#DejaVuSans-115\"/>\r\n       <use x=\"552.246094\" xlink:href=\"#DejaVuSans-111\"/>\r\n       <use x=\"613.427734\" xlink:href=\"#DejaVuSans-108\"/>\r\n       <use x=\"641.210938\" xlink:href=\"#DejaVuSans-97\"/>\r\n       <use x=\"702.490234\" xlink:href=\"#DejaVuSans-114\"/>\r\n      </g>\r\n     </g>\r\n    </g>\r\n    <g id=\"xtick_8\">\r\n     <g id=\"line2d_48\">\r\n      <g>\r\n       <use style=\"stroke:#000000;stroke-width:0.8;\" x=\"610.779412\" xlink:href=\"#me00672731d\" y=\"88.477733\"/>\r\n      </g>\r\n     </g>\r\n     <g id=\"text_12\">\r\n      <!-- match_solar -->\r\n      <g transform=\"translate(580.294256 103.07617)scale(0.1 -0.1)\">\r\n       <use xlink:href=\"#DejaVuSans-109\"/>\r\n       <use x=\"97.412109\" xlink:href=\"#DejaVuSans-97\"/>\r\n       <use x=\"158.691406\" xlink:href=\"#DejaVuSans-116\"/>\r\n       <use x=\"197.900391\" xlink:href=\"#DejaVuSans-99\"/>\r\n       <use x=\"252.880859\" xlink:href=\"#DejaVuSans-104\"/>\r\n       <use x=\"316.259766\" xlink:href=\"#DejaVuSans-95\"/>\r\n       <use x=\"366.259766\" xlink:href=\"#DejaVuSans-115\"/>\r\n       <use x=\"418.359375\" xlink:href=\"#DejaVuSans-111\"/>\r\n       <use x=\"479.541016\" xlink:href=\"#DejaVuSans-108\"/>\r\n       <use x=\"507.324219\" xlink:href=\"#DejaVuSans-97\"/>\r\n       <use x=\"568.603516\" xlink:href=\"#DejaVuSans-114\"/>\r\n      </g>\r\n     </g>\r\n    </g>\r\n    <g id=\"xtick_9\">\r\n     <g id=\"line2d_49\">\r\n      <g>\r\n       <use style=\"stroke:#000000;stroke-width:0.8;\" x=\"676.426471\" xlink:href=\"#me00672731d\" y=\"88.477733\"/>\r\n      </g>\r\n     </g>\r\n     <g id=\"text_13\">\r\n      <!-- reset_match -->\r\n      <g transform=\"translate(645.342096 103.07617)scale(0.1 -0.1)\">\r\n       <use xlink:href=\"#DejaVuSans-114\"/>\r\n       <use x=\"41.082031\" xlink:href=\"#DejaVuSans-101\"/>\r\n       <use x=\"102.605469\" xlink:href=\"#DejaVuSans-115\"/>\r\n       <use x=\"154.705078\" xlink:href=\"#DejaVuSans-101\"/>\r\n       <use x=\"216.228516\" xlink:href=\"#DejaVuSans-116\"/>\r\n       <use x=\"255.4375\" xlink:href=\"#DejaVuSans-95\"/>\r\n       <use x=\"305.4375\" xlink:href=\"#DejaVuSans-109\"/>\r\n       <use x=\"402.849609\" xlink:href=\"#DejaVuSans-97\"/>\r\n       <use x=\"464.128906\" xlink:href=\"#DejaVuSans-116\"/>\r\n       <use x=\"503.337891\" xlink:href=\"#DejaVuSans-99\"/>\r\n       <use x=\"558.318359\" xlink:href=\"#DejaVuSans-104\"/>\r\n      </g>\r\n     </g>\r\n    </g>\r\n   </g>\r\n   <g id=\"matplotlib.axis_6\">\r\n    <g id=\"ytick_5\">\r\n     <g id=\"line2d_50\">\r\n      <g>\r\n       <use style=\"stroke:#000000;stroke-width:0.8;\" x=\"512.308824\" xlink:href=\"#m1519f4db37\" y=\"86.308388\"/>\r\n      </g>\r\n     </g>\r\n     <g id=\"text_14\">\r\n      <!-- 0 -->\r\n      <g transform=\"translate(498.946324 90.107606)scale(0.1 -0.1)\">\r\n       <use xlink:href=\"#DejaVuSans-48\"/>\r\n      </g>\r\n     </g>\r\n    </g>\r\n    <g id=\"ytick_6\">\r\n     <g id=\"line2d_51\">\r\n      <g>\r\n       <use style=\"stroke:#000000;stroke-width:0.8;\" x=\"512.308824\" xlink:href=\"#m1519f4db37\" y=\"48.653803\"/>\r\n      </g>\r\n     </g>\r\n     <g id=\"text_15\">\r\n      <!-- 500 -->\r\n      <g transform=\"translate(486.221324 52.453022)scale(0.1 -0.1)\">\r\n       <use xlink:href=\"#DejaVuSans-53\"/>\r\n       <use x=\"63.623047\" xlink:href=\"#DejaVuSans-48\"/>\r\n       <use x=\"127.246094\" xlink:href=\"#DejaVuSans-48\"/>\r\n      </g>\r\n     </g>\r\n    </g>\r\n    <g id=\"ytick_7\">\r\n     <g id=\"line2d_52\">\r\n      <g>\r\n       <use style=\"stroke:#000000;stroke-width:0.8;\" x=\"512.308824\" xlink:href=\"#m1519f4db37\" y=\"10.999219\"/>\r\n      </g>\r\n     </g>\r\n     <g id=\"text_16\">\r\n      <!-- 1000 -->\r\n      <defs>\r\n       <path d=\"M 12.40625 8.296875 \r\nL 28.515625 8.296875 \r\nL 28.515625 63.921875 \r\nL 10.984375 60.40625 \r\nL 10.984375 69.390625 \r\nL 28.421875 72.90625 \r\nL 38.28125 72.90625 \r\nL 38.28125 8.296875 \r\nL 54.390625 8.296875 \r\nL 54.390625 0 \r\nL 12.40625 0 \r\nz\r\n\" id=\"DejaVuSans-49\"/>\r\n      </defs>\r\n      <g transform=\"translate(479.858824 14.798438)scale(0.1 -0.1)\">\r\n       <use xlink:href=\"#DejaVuSans-49\"/>\r\n       <use x=\"63.623047\" xlink:href=\"#DejaVuSans-48\"/>\r\n       <use x=\"127.246094\" xlink:href=\"#DejaVuSans-48\"/>\r\n       <use x=\"190.869141\" xlink:href=\"#DejaVuSans-48\"/>\r\n      </g>\r\n     </g>\r\n    </g>\r\n   </g>\r\n   <g id=\"line2d_53\">\r\n    <path clip-path=\"url(#pa9b0e02a2b)\" d=\"M 545.132353 64.869884 \r\nL 545.132353 84.814039 \r\n\" style=\"fill:none;stroke:#3d3d3d;stroke-linecap:square;stroke-width:1.5;\"/>\r\n   </g>\r\n   <g id=\"line2d_54\">\r\n    <path clip-path=\"url(#pa9b0e02a2b)\" d=\"M 545.132353 37.373586 \r\nL 545.132353 13.961021 \r\n\" style=\"fill:none;stroke:#3d3d3d;stroke-linecap:square;stroke-width:1.5;\"/>\r\n   </g>\r\n   <g id=\"line2d_55\">\r\n    <path clip-path=\"url(#pa9b0e02a2b)\" d=\"M 532.002941 84.814039 \r\nL 558.261765 84.814039 \r\n\" style=\"fill:none;stroke:#3d3d3d;stroke-linecap:square;stroke-width:1.5;\"/>\r\n   </g>\r\n   <g id=\"line2d_56\">\r\n    <path clip-path=\"url(#pa9b0e02a2b)\" d=\"M 532.002941 13.961021 \r\nL 558.261765 13.961021 \r\n\" style=\"fill:none;stroke:#3d3d3d;stroke-linecap:square;stroke-width:1.5;\"/>\r\n   </g>\r\n   <g id=\"line2d_57\"/>\r\n   <g id=\"line2d_58\">\r\n    <path clip-path=\"url(#pa9b0e02a2b)\" d=\"M 610.779412 67.951778 \r\nL 610.779412 84.844043 \r\n\" style=\"fill:none;stroke:#3d3d3d;stroke-linecap:square;stroke-width:1.5;\"/>\r\n   </g>\r\n   <g id=\"line2d_59\">\r\n    <path clip-path=\"url(#pa9b0e02a2b)\" d=\"M 610.779412 43.005616 \r\nL 610.779412 17.484175 \r\n\" style=\"fill:none;stroke:#3d3d3d;stroke-linecap:square;stroke-width:1.5;\"/>\r\n   </g>\r\n   <g id=\"line2d_60\">\r\n    <path clip-path=\"url(#pa9b0e02a2b)\" d=\"M 597.65 84.844043 \r\nL 623.908824 84.844043 \r\n\" style=\"fill:none;stroke:#3d3d3d;stroke-linecap:square;stroke-width:1.5;\"/>\r\n   </g>\r\n   <g id=\"line2d_61\">\r\n    <path clip-path=\"url(#pa9b0e02a2b)\" d=\"M 597.65 17.484175 \r\nL 623.908824 17.484175 \r\n\" style=\"fill:none;stroke:#3d3d3d;stroke-linecap:square;stroke-width:1.5;\"/>\r\n   </g>\r\n   <g id=\"line2d_62\"/>\r\n   <g id=\"line2d_63\">\r\n    <path clip-path=\"url(#pa9b0e02a2b)\" d=\"M 676.426471 64.701087 \r\nL 676.426471 84.543131 \r\n\" style=\"fill:none;stroke:#3d3d3d;stroke-linecap:square;stroke-width:1.5;\"/>\r\n   </g>\r\n   <g id=\"line2d_64\">\r\n    <path clip-path=\"url(#pa9b0e02a2b)\" d=\"M 676.426471 37.726614 \r\nL 676.426471 12.170246 \r\n\" style=\"fill:none;stroke:#3d3d3d;stroke-linecap:square;stroke-width:1.5;\"/>\r\n   </g>\r\n   <g id=\"line2d_65\">\r\n    <path clip-path=\"url(#pa9b0e02a2b)\" d=\"M 663.297059 84.543131 \r\nL 689.555882 84.543131 \r\n\" style=\"fill:none;stroke:#3d3d3d;stroke-linecap:square;stroke-width:1.5;\"/>\r\n   </g>\r\n   <g id=\"line2d_66\">\r\n    <path clip-path=\"url(#pa9b0e02a2b)\" d=\"M 663.297059 12.170246 \r\nL 689.555882 12.170246 \r\n\" style=\"fill:none;stroke:#3d3d3d;stroke-linecap:square;stroke-width:1.5;\"/>\r\n   </g>\r\n   <g id=\"line2d_67\"/>\r\n   <g id=\"line2d_68\">\r\n    <path clip-path=\"url(#pa9b0e02a2b)\" d=\"M 518.873529 49.533463 \r\nL 571.391176 49.533463 \r\n\" style=\"fill:none;stroke:#3d3d3d;stroke-linecap:square;stroke-width:1.5;\"/>\r\n   </g>\r\n   <g id=\"line2d_69\">\r\n    <path clip-path=\"url(#pa9b0e02a2b)\" d=\"M 584.520588 56.393912 \r\nL 637.038235 56.393912 \r\n\" style=\"fill:none;stroke:#3d3d3d;stroke-linecap:square;stroke-width:1.5;\"/>\r\n   </g>\r\n   <g id=\"line2d_70\">\r\n    <path clip-path=\"url(#pa9b0e02a2b)\" d=\"M 650.167647 49.304108 \r\nL 702.685294 49.304108 \r\n\" style=\"fill:none;stroke:#3d3d3d;stroke-linecap:square;stroke-width:1.5;\"/>\r\n   </g>\r\n   <g id=\"patch_22\">\r\n    <path d=\"M 512.308824 88.477733 \r\nL 512.308824 8.536556 \r\n\" style=\"fill:none;stroke:#000000;stroke-linecap:square;stroke-linejoin:miter;stroke-width:0.8;\"/>\r\n   </g>\r\n   <g id=\"patch_23\">\r\n    <path d=\"M 709.25 88.477733 \r\nL 709.25 8.536556 \r\n\" style=\"fill:none;stroke:#000000;stroke-linecap:square;stroke-linejoin:miter;stroke-width:0.8;\"/>\r\n   </g>\r\n   <g id=\"patch_24\">\r\n    <path d=\"M 512.308824 88.477733 \r\nL 709.25 88.477733 \r\n\" style=\"fill:none;stroke:#000000;stroke-linecap:square;stroke-linejoin:miter;stroke-width:0.8;\"/>\r\n   </g>\r\n   <g id=\"patch_25\">\r\n    <path d=\"M 512.308824 8.536556 \r\nL 709.25 8.536556 \r\n\" style=\"fill:none;stroke:#000000;stroke-linecap:square;stroke-linejoin:miter;stroke-width:0.8;\"/>\r\n   </g>\r\n  </g>\r\n  <g id=\"axes_4\">\r\n   <g id=\"patch_26\">\r\n    <path d=\"M 39.65 184.407144 \r\nL 236.591176 184.407144 \r\nL 236.591176 104.465968 \r\nL 39.65 104.465968 \r\nz\r\n\" style=\"fill:#ffffff;\"/>\r\n   </g>\r\n   <g id=\"patch_27\">\r\n    <path clip-path=\"url(#p8e955a31bc)\" d=\"M 46.214706 161.272782 \r\nL 98.732353 161.272782 \r\nL 98.732353 133.248159 \r\nL 46.214706 133.248159 \r\nL 46.214706 161.272782 \r\nz\r\n\" style=\"fill:#3274a1;stroke:#3d3d3d;stroke-linejoin:miter;stroke-width:1.5;\"/>\r\n   </g>\r\n   <g id=\"patch_28\">\r\n    <path clip-path=\"url(#p8e955a31bc)\" d=\"M 111.861765 162.368126 \r\nL 164.379412 162.368126 \r\nL 164.379412 136.873026 \r\nL 111.861765 136.873026 \r\nL 111.861765 162.368126 \r\nz\r\n\" style=\"fill:#e1812c;stroke:#3d3d3d;stroke-linejoin:miter;stroke-width:1.5;\"/>\r\n   </g>\r\n   <g id=\"patch_29\">\r\n    <path clip-path=\"url(#p8e955a31bc)\" d=\"M 177.508824 160.306969 \r\nL 230.026471 160.306969 \r\nL 230.026471 133.446629 \r\nL 177.508824 133.446629 \r\nL 177.508824 160.306969 \r\nz\r\n\" style=\"fill:#3a923a;stroke:#3d3d3d;stroke-linejoin:miter;stroke-width:1.5;\"/>\r\n   </g>\r\n   <g id=\"matplotlib.axis_7\">\r\n    <g id=\"xtick_10\">\r\n     <g id=\"line2d_71\">\r\n      <g>\r\n       <use style=\"stroke:#000000;stroke-width:0.8;\" x=\"72.473529\" xlink:href=\"#me00672731d\" y=\"184.407144\"/>\r\n      </g>\r\n     </g>\r\n     <g id=\"text_17\">\r\n      <!-- env_slopesolar -->\r\n      <g transform=\"translate(35.292279 199.005582)scale(0.1 -0.1)\">\r\n       <use xlink:href=\"#DejaVuSans-101\"/>\r\n       <use x=\"61.523438\" xlink:href=\"#DejaVuSans-110\"/>\r\n       <use x=\"124.902344\" xlink:href=\"#DejaVuSans-118\"/>\r\n       <use x=\"184.082031\" xlink:href=\"#DejaVuSans-95\"/>\r\n       <use x=\"234.082031\" xlink:href=\"#DejaVuSans-115\"/>\r\n       <use x=\"286.181641\" xlink:href=\"#DejaVuSans-108\"/>\r\n       <use x=\"313.964844\" xlink:href=\"#DejaVuSans-111\"/>\r\n       <use x=\"375.146484\" xlink:href=\"#DejaVuSans-112\"/>\r\n       <use x=\"438.623047\" xlink:href=\"#DejaVuSans-101\"/>\r\n       <use x=\"500.146484\" xlink:href=\"#DejaVuSans-115\"/>\r\n       <use x=\"552.246094\" xlink:href=\"#DejaVuSans-111\"/>\r\n       <use x=\"613.427734\" xlink:href=\"#DejaVuSans-108\"/>\r\n       <use x=\"641.210938\" xlink:href=\"#DejaVuSans-97\"/>\r\n       <use x=\"702.490234\" xlink:href=\"#DejaVuSans-114\"/>\r\n      </g>\r\n     </g>\r\n    </g>\r\n    <g id=\"xtick_11\">\r\n     <g id=\"line2d_72\">\r\n      <g>\r\n       <use style=\"stroke:#000000;stroke-width:0.8;\" x=\"138.120588\" xlink:href=\"#me00672731d\" y=\"184.407144\"/>\r\n      </g>\r\n     </g>\r\n     <g id=\"text_18\">\r\n      <!-- match_solar -->\r\n      <g transform=\"translate(107.635432 199.005582)scale(0.1 -0.1)\">\r\n       <use xlink:href=\"#DejaVuSans-109\"/>\r\n       <use x=\"97.412109\" xlink:href=\"#DejaVuSans-97\"/>\r\n       <use x=\"158.691406\" xlink:href=\"#DejaVuSans-116\"/>\r\n       <use x=\"197.900391\" xlink:href=\"#DejaVuSans-99\"/>\r\n       <use x=\"252.880859\" xlink:href=\"#DejaVuSans-104\"/>\r\n       <use x=\"316.259766\" xlink:href=\"#DejaVuSans-95\"/>\r\n       <use x=\"366.259766\" xlink:href=\"#DejaVuSans-115\"/>\r\n       <use x=\"418.359375\" xlink:href=\"#DejaVuSans-111\"/>\r\n       <use x=\"479.541016\" xlink:href=\"#DejaVuSans-108\"/>\r\n       <use x=\"507.324219\" xlink:href=\"#DejaVuSans-97\"/>\r\n       <use x=\"568.603516\" xlink:href=\"#DejaVuSans-114\"/>\r\n      </g>\r\n     </g>\r\n    </g>\r\n    <g id=\"xtick_12\">\r\n     <g id=\"line2d_73\">\r\n      <g>\r\n       <use style=\"stroke:#000000;stroke-width:0.8;\" x=\"203.767647\" xlink:href=\"#me00672731d\" y=\"184.407144\"/>\r\n      </g>\r\n     </g>\r\n     <g id=\"text_19\">\r\n      <!-- reset_match -->\r\n      <g transform=\"translate(172.683272 199.005582)scale(0.1 -0.1)\">\r\n       <use xlink:href=\"#DejaVuSans-114\"/>\r\n       <use x=\"41.082031\" xlink:href=\"#DejaVuSans-101\"/>\r\n       <use x=\"102.605469\" xlink:href=\"#DejaVuSans-115\"/>\r\n       <use x=\"154.705078\" xlink:href=\"#DejaVuSans-101\"/>\r\n       <use x=\"216.228516\" xlink:href=\"#DejaVuSans-116\"/>\r\n       <use x=\"255.4375\" xlink:href=\"#DejaVuSans-95\"/>\r\n       <use x=\"305.4375\" xlink:href=\"#DejaVuSans-109\"/>\r\n       <use x=\"402.849609\" xlink:href=\"#DejaVuSans-97\"/>\r\n       <use x=\"464.128906\" xlink:href=\"#DejaVuSans-116\"/>\r\n       <use x=\"503.337891\" xlink:href=\"#DejaVuSans-99\"/>\r\n       <use x=\"558.318359\" xlink:href=\"#DejaVuSans-104\"/>\r\n      </g>\r\n     </g>\r\n    </g>\r\n   </g>\r\n   <g id=\"matplotlib.axis_8\">\r\n    <g id=\"ytick_8\">\r\n     <g id=\"line2d_74\">\r\n      <g>\r\n       <use style=\"stroke:#000000;stroke-width:0.8;\" x=\"39.65\" xlink:href=\"#m1519f4db37\" y=\"182.186958\"/>\r\n      </g>\r\n     </g>\r\n     <g id=\"text_20\">\r\n      <!-- 0 -->\r\n      <g transform=\"translate(26.2875 185.986177)scale(0.1 -0.1)\">\r\n       <use xlink:href=\"#DejaVuSans-48\"/>\r\n      </g>\r\n     </g>\r\n    </g>\r\n    <g id=\"ytick_9\">\r\n     <g id=\"line2d_75\">\r\n      <g>\r\n       <use style=\"stroke:#000000;stroke-width:0.8;\" x=\"39.65\" xlink:href=\"#m1519f4db37\" y=\"147.552105\"/>\r\n      </g>\r\n     </g>\r\n     <g id=\"text_21\">\r\n      <!-- 500 -->\r\n      <g transform=\"translate(13.5625 151.351324)scale(0.1 -0.1)\">\r\n       <use xlink:href=\"#DejaVuSans-53\"/>\r\n       <use x=\"63.623047\" xlink:href=\"#DejaVuSans-48\"/>\r\n       <use x=\"127.246094\" xlink:href=\"#DejaVuSans-48\"/>\r\n      </g>\r\n     </g>\r\n    </g>\r\n    <g id=\"ytick_10\">\r\n     <g id=\"line2d_76\">\r\n      <g>\r\n       <use style=\"stroke:#000000;stroke-width:0.8;\" x=\"39.65\" xlink:href=\"#m1519f4db37\" y=\"112.917253\"/>\r\n      </g>\r\n     </g>\r\n     <g id=\"text_22\">\r\n      <!-- 1000 -->\r\n      <g transform=\"translate(7.2 116.716472)scale(0.1 -0.1)\">\r\n       <use xlink:href=\"#DejaVuSans-49\"/>\r\n       <use x=\"63.623047\" xlink:href=\"#DejaVuSans-48\"/>\r\n       <use x=\"127.246094\" xlink:href=\"#DejaVuSans-48\"/>\r\n       <use x=\"190.869141\" xlink:href=\"#DejaVuSans-48\"/>\r\n      </g>\r\n     </g>\r\n    </g>\r\n   </g>\r\n   <g id=\"line2d_77\">\r\n    <path clip-path=\"url(#p8e955a31bc)\" d=\"M 72.473529 161.272782 \r\nL 72.473529 180.773454 \r\n\" style=\"fill:none;stroke:#3d3d3d;stroke-linecap:square;stroke-width:1.5;\"/>\r\n   </g>\r\n   <g id=\"line2d_78\">\r\n    <path clip-path=\"url(#p8e955a31bc)\" d=\"M 72.473529 133.248159 \r\nL 72.473529 111.842067 \r\n\" style=\"fill:none;stroke:#3d3d3d;stroke-linecap:square;stroke-width:1.5;\"/>\r\n   </g>\r\n   <g id=\"line2d_79\">\r\n    <path clip-path=\"url(#p8e955a31bc)\" d=\"M 59.344118 180.773454 \r\nL 85.602941 180.773454 \r\n\" style=\"fill:none;stroke:#3d3d3d;stroke-linecap:square;stroke-width:1.5;\"/>\r\n   </g>\r\n   <g id=\"line2d_80\">\r\n    <path clip-path=\"url(#p8e955a31bc)\" d=\"M 59.344118 111.842067 \r\nL 85.602941 111.842067 \r\n\" style=\"fill:none;stroke:#3d3d3d;stroke-linecap:square;stroke-width:1.5;\"/>\r\n   </g>\r\n   <g id=\"line2d_81\"/>\r\n   <g id=\"line2d_82\">\r\n    <path clip-path=\"url(#p8e955a31bc)\" d=\"M 138.120588 162.368126 \r\nL 138.120588 180.2628 \r\n\" style=\"fill:none;stroke:#3d3d3d;stroke-linecap:square;stroke-width:1.5;\"/>\r\n   </g>\r\n   <g id=\"line2d_83\">\r\n    <path clip-path=\"url(#p8e955a31bc)\" d=\"M 138.120588 136.873026 \r\nL 138.120588 112.917253 \r\n\" style=\"fill:none;stroke:#3d3d3d;stroke-linecap:square;stroke-width:1.5;\"/>\r\n   </g>\r\n   <g id=\"line2d_84\">\r\n    <path clip-path=\"url(#p8e955a31bc)\" d=\"M 124.991176 180.2628 \r\nL 151.25 180.2628 \r\n\" style=\"fill:none;stroke:#3d3d3d;stroke-linecap:square;stroke-width:1.5;\"/>\r\n   </g>\r\n   <g id=\"line2d_85\">\r\n    <path clip-path=\"url(#p8e955a31bc)\" d=\"M 124.991176 112.917253 \r\nL 151.25 112.917253 \r\n\" style=\"fill:none;stroke:#3d3d3d;stroke-linecap:square;stroke-width:1.5;\"/>\r\n   </g>\r\n   <g id=\"line2d_86\"/>\r\n   <g id=\"line2d_87\">\r\n    <path clip-path=\"url(#p8e955a31bc)\" d=\"M 203.767647 160.306969 \r\nL 203.767647 180.027414 \r\n\" style=\"fill:none;stroke:#3d3d3d;stroke-linecap:square;stroke-width:1.5;\"/>\r\n   </g>\r\n   <g id=\"line2d_88\">\r\n    <path clip-path=\"url(#p8e955a31bc)\" d=\"M 203.767647 133.446629 \r\nL 203.767647 108.099658 \r\n\" style=\"fill:none;stroke:#3d3d3d;stroke-linecap:square;stroke-width:1.5;\"/>\r\n   </g>\r\n   <g id=\"line2d_89\">\r\n    <path clip-path=\"url(#p8e955a31bc)\" d=\"M 190.638235 180.027414 \r\nL 216.897059 180.027414 \r\n\" style=\"fill:none;stroke:#3d3d3d;stroke-linecap:square;stroke-width:1.5;\"/>\r\n   </g>\r\n   <g id=\"line2d_90\">\r\n    <path clip-path=\"url(#p8e955a31bc)\" d=\"M 190.638235 108.099658 \r\nL 216.897059 108.099658 \r\n\" style=\"fill:none;stroke:#3d3d3d;stroke-linecap:square;stroke-width:1.5;\"/>\r\n   </g>\r\n   <g id=\"line2d_91\"/>\r\n   <g id=\"line2d_92\">\r\n    <path clip-path=\"url(#p8e955a31bc)\" d=\"M 46.214706 144.134784 \r\nL 98.732353 144.134784 \r\n\" style=\"fill:none;stroke:#3d3d3d;stroke-linecap:square;stroke-width:1.5;\"/>\r\n   </g>\r\n   <g id=\"line2d_93\">\r\n    <path clip-path=\"url(#p8e955a31bc)\" d=\"M 111.861765 148.995224 \r\nL 164.379412 148.995224 \r\n\" style=\"fill:none;stroke:#3d3d3d;stroke-linecap:square;stroke-width:1.5;\"/>\r\n   </g>\r\n   <g id=\"line2d_94\">\r\n    <path clip-path=\"url(#p8e955a31bc)\" d=\"M 177.508824 145.20236 \r\nL 230.026471 145.20236 \r\n\" style=\"fill:none;stroke:#3d3d3d;stroke-linecap:square;stroke-width:1.5;\"/>\r\n   </g>\r\n   <g id=\"patch_30\">\r\n    <path d=\"M 39.65 184.407144 \r\nL 39.65 104.465968 \r\n\" style=\"fill:none;stroke:#000000;stroke-linecap:square;stroke-linejoin:miter;stroke-width:0.8;\"/>\r\n   </g>\r\n   <g id=\"patch_31\">\r\n    <path d=\"M 236.591176 184.407144 \r\nL 236.591176 104.465968 \r\n\" style=\"fill:none;stroke:#000000;stroke-linecap:square;stroke-linejoin:miter;stroke-width:0.8;\"/>\r\n   </g>\r\n   <g id=\"patch_32\">\r\n    <path d=\"M 39.65 184.407144 \r\nL 236.591176 184.407144 \r\n\" style=\"fill:none;stroke:#000000;stroke-linecap:square;stroke-linejoin:miter;stroke-width:0.8;\"/>\r\n   </g>\r\n   <g id=\"patch_33\">\r\n    <path d=\"M 39.65 104.465968 \r\nL 236.591176 104.465968 \r\n\" style=\"fill:none;stroke:#000000;stroke-linecap:square;stroke-linejoin:miter;stroke-width:0.8;\"/>\r\n   </g>\r\n  </g>\r\n  <g id=\"axes_5\">\r\n   <g id=\"patch_34\">\r\n    <path d=\"M 275.979412 184.407144 \r\nL 472.920588 184.407144 \r\nL 472.920588 104.465968 \r\nL 275.979412 104.465968 \r\nz\r\n\" style=\"fill:#ffffff;\"/>\r\n   </g>\r\n   <g id=\"patch_35\">\r\n    <path clip-path=\"url(#p09dcedb431)\" d=\"M 282.544118 161.830888 \r\nL 335.061765 161.830888 \r\nL 335.061765 133.665383 \r\nL 282.544118 133.665383 \r\nL 282.544118 161.830888 \r\nz\r\n\" style=\"fill:#3274a1;stroke:#3d3d3d;stroke-linejoin:miter;stroke-width:1.5;\"/>\r\n   </g>\r\n   <g id=\"patch_36\">\r\n    <path clip-path=\"url(#p09dcedb431)\" d=\"M 348.191176 160.697815 \r\nL 400.708824 160.697815 \r\nL 400.708824 135.344049 \r\nL 348.191176 135.344049 \r\nL 348.191176 160.697815 \r\nz\r\n\" style=\"fill:#e1812c;stroke:#3d3d3d;stroke-linejoin:miter;stroke-width:1.5;\"/>\r\n   </g>\r\n   <g id=\"patch_37\">\r\n    <path clip-path=\"url(#p09dcedb431)\" d=\"M 413.838235 160.265223 \r\nL 466.355882 160.265223 \r\nL 466.355882 135.364712 \r\nL 413.838235 135.364712 \r\nL 413.838235 160.265223 \r\nz\r\n\" style=\"fill:#3a923a;stroke:#3d3d3d;stroke-linejoin:miter;stroke-width:1.5;\"/>\r\n   </g>\r\n   <g id=\"matplotlib.axis_9\">\r\n    <g id=\"xtick_13\">\r\n     <g id=\"line2d_95\">\r\n      <g>\r\n       <use style=\"stroke:#000000;stroke-width:0.8;\" x=\"308.802941\" xlink:href=\"#me00672731d\" y=\"184.407144\"/>\r\n      </g>\r\n     </g>\r\n     <g id=\"text_23\">\r\n      <!-- env_slopesolar -->\r\n      <g transform=\"translate(271.621691 199.005582)scale(0.1 -0.1)\">\r\n       <use xlink:href=\"#DejaVuSans-101\"/>\r\n       <use x=\"61.523438\" xlink:href=\"#DejaVuSans-110\"/>\r\n       <use x=\"124.902344\" xlink:href=\"#DejaVuSans-118\"/>\r\n       <use x=\"184.082031\" xlink:href=\"#DejaVuSans-95\"/>\r\n       <use x=\"234.082031\" xlink:href=\"#DejaVuSans-115\"/>\r\n       <use x=\"286.181641\" xlink:href=\"#DejaVuSans-108\"/>\r\n       <use x=\"313.964844\" xlink:href=\"#DejaVuSans-111\"/>\r\n       <use x=\"375.146484\" xlink:href=\"#DejaVuSans-112\"/>\r\n       <use x=\"438.623047\" xlink:href=\"#DejaVuSans-101\"/>\r\n       <use x=\"500.146484\" xlink:href=\"#DejaVuSans-115\"/>\r\n       <use x=\"552.246094\" xlink:href=\"#DejaVuSans-111\"/>\r\n       <use x=\"613.427734\" xlink:href=\"#DejaVuSans-108\"/>\r\n       <use x=\"641.210938\" xlink:href=\"#DejaVuSans-97\"/>\r\n       <use x=\"702.490234\" xlink:href=\"#DejaVuSans-114\"/>\r\n      </g>\r\n     </g>\r\n    </g>\r\n    <g id=\"xtick_14\">\r\n     <g id=\"line2d_96\">\r\n      <g>\r\n       <use style=\"stroke:#000000;stroke-width:0.8;\" x=\"374.45\" xlink:href=\"#me00672731d\" y=\"184.407144\"/>\r\n      </g>\r\n     </g>\r\n     <g id=\"text_24\">\r\n      <!-- match_solar -->\r\n      <g transform=\"translate(343.964844 199.005582)scale(0.1 -0.1)\">\r\n       <use xlink:href=\"#DejaVuSans-109\"/>\r\n       <use x=\"97.412109\" xlink:href=\"#DejaVuSans-97\"/>\r\n       <use x=\"158.691406\" xlink:href=\"#DejaVuSans-116\"/>\r\n       <use x=\"197.900391\" xlink:href=\"#DejaVuSans-99\"/>\r\n       <use x=\"252.880859\" xlink:href=\"#DejaVuSans-104\"/>\r\n       <use x=\"316.259766\" xlink:href=\"#DejaVuSans-95\"/>\r\n       <use x=\"366.259766\" xlink:href=\"#DejaVuSans-115\"/>\r\n       <use x=\"418.359375\" xlink:href=\"#DejaVuSans-111\"/>\r\n       <use x=\"479.541016\" xlink:href=\"#DejaVuSans-108\"/>\r\n       <use x=\"507.324219\" xlink:href=\"#DejaVuSans-97\"/>\r\n       <use x=\"568.603516\" xlink:href=\"#DejaVuSans-114\"/>\r\n      </g>\r\n     </g>\r\n    </g>\r\n    <g id=\"xtick_15\">\r\n     <g id=\"line2d_97\">\r\n      <g>\r\n       <use style=\"stroke:#000000;stroke-width:0.8;\" x=\"440.097059\" xlink:href=\"#me00672731d\" y=\"184.407144\"/>\r\n      </g>\r\n     </g>\r\n     <g id=\"text_25\">\r\n      <!-- reset_match -->\r\n      <g transform=\"translate(409.012684 199.005582)scale(0.1 -0.1)\">\r\n       <use xlink:href=\"#DejaVuSans-114\"/>\r\n       <use x=\"41.082031\" xlink:href=\"#DejaVuSans-101\"/>\r\n       <use x=\"102.605469\" xlink:href=\"#DejaVuSans-115\"/>\r\n       <use x=\"154.705078\" xlink:href=\"#DejaVuSans-101\"/>\r\n       <use x=\"216.228516\" xlink:href=\"#DejaVuSans-116\"/>\r\n       <use x=\"255.4375\" xlink:href=\"#DejaVuSans-95\"/>\r\n       <use x=\"305.4375\" xlink:href=\"#DejaVuSans-109\"/>\r\n       <use x=\"402.849609\" xlink:href=\"#DejaVuSans-97\"/>\r\n       <use x=\"464.128906\" xlink:href=\"#DejaVuSans-116\"/>\r\n       <use x=\"503.337891\" xlink:href=\"#DejaVuSans-99\"/>\r\n       <use x=\"558.318359\" xlink:href=\"#DejaVuSans-104\"/>\r\n      </g>\r\n     </g>\r\n    </g>\r\n   </g>\r\n   <g id=\"matplotlib.axis_10\">\r\n    <g id=\"ytick_11\">\r\n     <g id=\"line2d_98\">\r\n      <g>\r\n       <use style=\"stroke:#000000;stroke-width:0.8;\" x=\"275.979412\" xlink:href=\"#m1519f4db37\" y=\"181.397735\"/>\r\n      </g>\r\n     </g>\r\n     <g id=\"text_26\">\r\n      <!-- 0 -->\r\n      <g transform=\"translate(262.616912 185.196953)scale(0.1 -0.1)\">\r\n       <use xlink:href=\"#DejaVuSans-48\"/>\r\n      </g>\r\n     </g>\r\n    </g>\r\n    <g id=\"ytick_12\">\r\n     <g id=\"line2d_99\">\r\n      <g>\r\n       <use style=\"stroke:#000000;stroke-width:0.8;\" x=\"275.979412\" xlink:href=\"#m1519f4db37\" y=\"146.493888\"/>\r\n      </g>\r\n     </g>\r\n     <g id=\"text_27\">\r\n      <!-- 500 -->\r\n      <g transform=\"translate(249.891912 150.293107)scale(0.1 -0.1)\">\r\n       <use xlink:href=\"#DejaVuSans-53\"/>\r\n       <use x=\"63.623047\" xlink:href=\"#DejaVuSans-48\"/>\r\n       <use x=\"127.246094\" xlink:href=\"#DejaVuSans-48\"/>\r\n      </g>\r\n     </g>\r\n    </g>\r\n    <g id=\"ytick_13\">\r\n     <g id=\"line2d_100\">\r\n      <g>\r\n       <use style=\"stroke:#000000;stroke-width:0.8;\" x=\"275.979412\" xlink:href=\"#m1519f4db37\" y=\"111.590042\"/>\r\n      </g>\r\n     </g>\r\n     <g id=\"text_28\">\r\n      <!-- 1000 -->\r\n      <g transform=\"translate(243.529412 115.389261)scale(0.1 -0.1)\">\r\n       <use xlink:href=\"#DejaVuSans-49\"/>\r\n       <use x=\"63.623047\" xlink:href=\"#DejaVuSans-48\"/>\r\n       <use x=\"127.246094\" xlink:href=\"#DejaVuSans-48\"/>\r\n       <use x=\"190.869141\" xlink:href=\"#DejaVuSans-48\"/>\r\n      </g>\r\n     </g>\r\n    </g>\r\n   </g>\r\n   <g id=\"line2d_101\">\r\n    <path clip-path=\"url(#p09dcedb431)\" d=\"M 308.802941 161.830888 \r\nL 308.802941 180.773454 \r\n\" style=\"fill:none;stroke:#3d3d3d;stroke-linecap:square;stroke-width:1.5;\"/>\r\n   </g>\r\n   <g id=\"line2d_102\">\r\n    <path clip-path=\"url(#p09dcedb431)\" d=\"M 308.802941 133.665383 \r\nL 308.802941 111.110494 \r\n\" style=\"fill:none;stroke:#3d3d3d;stroke-linecap:square;stroke-width:1.5;\"/>\r\n   </g>\r\n   <g id=\"line2d_103\">\r\n    <path clip-path=\"url(#p09dcedb431)\" d=\"M 295.673529 180.773454 \r\nL 321.932353 180.773454 \r\n\" style=\"fill:none;stroke:#3d3d3d;stroke-linecap:square;stroke-width:1.5;\"/>\r\n   </g>\r\n   <g id=\"line2d_104\">\r\n    <path clip-path=\"url(#p09dcedb431)\" d=\"M 295.673529 111.110494 \r\nL 321.932353 111.110494 \r\n\" style=\"fill:none;stroke:#3d3d3d;stroke-linecap:square;stroke-width:1.5;\"/>\r\n   </g>\r\n   <g id=\"line2d_105\"/>\r\n   <g id=\"line2d_106\">\r\n    <path clip-path=\"url(#p09dcedb431)\" d=\"M 374.45 160.697815 \r\nL 374.45 179.458632 \r\n\" style=\"fill:none;stroke:#3d3d3d;stroke-linecap:square;stroke-width:1.5;\"/>\r\n   </g>\r\n   <g id=\"line2d_107\">\r\n    <path clip-path=\"url(#p09dcedb431)\" d=\"M 374.45 135.344049 \r\nL 374.45 108.099658 \r\n\" style=\"fill:none;stroke:#3d3d3d;stroke-linecap:square;stroke-width:1.5;\"/>\r\n   </g>\r\n   <g id=\"line2d_108\">\r\n    <path clip-path=\"url(#p09dcedb431)\" d=\"M 361.320588 179.458632 \r\nL 387.579412 179.458632 \r\n\" style=\"fill:none;stroke:#3d3d3d;stroke-linecap:square;stroke-width:1.5;\"/>\r\n   </g>\r\n   <g id=\"line2d_109\">\r\n    <path clip-path=\"url(#p09dcedb431)\" d=\"M 361.320588 108.099658 \r\nL 387.579412 108.099658 \r\n\" style=\"fill:none;stroke:#3d3d3d;stroke-linecap:square;stroke-width:1.5;\"/>\r\n   </g>\r\n   <g id=\"line2d_110\"/>\r\n   <g id=\"line2d_111\">\r\n    <path clip-path=\"url(#p09dcedb431)\" d=\"M 440.097059 160.265223 \r\nL 440.097059 179.408911 \r\n\" style=\"fill:none;stroke:#3d3d3d;stroke-linecap:square;stroke-width:1.5;\"/>\r\n   </g>\r\n   <g id=\"line2d_112\">\r\n    <path clip-path=\"url(#p09dcedb431)\" d=\"M 440.097059 135.364712 \r\nL 440.097059 109.890971 \r\n\" style=\"fill:none;stroke:#3d3d3d;stroke-linecap:square;stroke-width:1.5;\"/>\r\n   </g>\r\n   <g id=\"line2d_113\">\r\n    <path clip-path=\"url(#p09dcedb431)\" d=\"M 426.967647 179.408911 \r\nL 453.226471 179.408911 \r\n\" style=\"fill:none;stroke:#3d3d3d;stroke-linecap:square;stroke-width:1.5;\"/>\r\n   </g>\r\n   <g id=\"line2d_114\">\r\n    <path clip-path=\"url(#p09dcedb431)\" d=\"M 426.967647 109.890971 \r\nL 453.226471 109.890971 \r\n\" style=\"fill:none;stroke:#3d3d3d;stroke-linecap:square;stroke-width:1.5;\"/>\r\n   </g>\r\n   <g id=\"line2d_115\"/>\r\n   <g id=\"line2d_116\">\r\n    <path clip-path=\"url(#p09dcedb431)\" d=\"M 282.544118 144.805222 \r\nL 335.061765 144.805222 \r\n\" style=\"fill:none;stroke:#3d3d3d;stroke-linecap:square;stroke-width:1.5;\"/>\r\n   </g>\r\n   <g id=\"line2d_117\">\r\n    <path clip-path=\"url(#p09dcedb431)\" d=\"M 348.191176 145.912158 \r\nL 400.708824 145.912158 \r\n\" style=\"fill:none;stroke:#3d3d3d;stroke-linecap:square;stroke-width:1.5;\"/>\r\n   </g>\r\n   <g id=\"line2d_118\">\r\n    <path clip-path=\"url(#p09dcedb431)\" d=\"M 413.838235 145.170572 \r\nL 466.355882 145.170572 \r\n\" style=\"fill:none;stroke:#3d3d3d;stroke-linecap:square;stroke-width:1.5;\"/>\r\n   </g>\r\n   <g id=\"patch_38\">\r\n    <path d=\"M 275.979412 184.407144 \r\nL 275.979412 104.465968 \r\n\" style=\"fill:none;stroke:#000000;stroke-linecap:square;stroke-linejoin:miter;stroke-width:0.8;\"/>\r\n   </g>\r\n   <g id=\"patch_39\">\r\n    <path d=\"M 472.920588 184.407144 \r\nL 472.920588 104.465968 \r\n\" style=\"fill:none;stroke:#000000;stroke-linecap:square;stroke-linejoin:miter;stroke-width:0.8;\"/>\r\n   </g>\r\n   <g id=\"patch_40\">\r\n    <path d=\"M 275.979412 184.407144 \r\nL 472.920588 184.407144 \r\n\" style=\"fill:none;stroke:#000000;stroke-linecap:square;stroke-linejoin:miter;stroke-width:0.8;\"/>\r\n   </g>\r\n   <g id=\"patch_41\">\r\n    <path d=\"M 275.979412 104.465968 \r\nL 472.920588 104.465968 \r\n\" style=\"fill:none;stroke:#000000;stroke-linecap:square;stroke-linejoin:miter;stroke-width:0.8;\"/>\r\n   </g>\r\n  </g>\r\n  <g id=\"axes_6\">\r\n   <g id=\"patch_42\">\r\n    <path d=\"M 512.308824 184.407144 \r\nL 709.25 184.407144 \r\nL 709.25 104.465968 \r\nL 512.308824 104.465968 \r\nz\r\n\" style=\"fill:#ffffff;\"/>\r\n   </g>\r\n   <g id=\"patch_43\">\r\n    <path clip-path=\"url(#pa488bfb9e9)\" d=\"M 518.873529 166.634893 \r\nL 571.391176 166.634893 \r\nL 571.391176 140.498642 \r\nL 518.873529 140.498642 \r\nL 518.873529 166.634893 \r\nz\r\n\" style=\"fill:#3274a1;stroke:#3d3d3d;stroke-linejoin:miter;stroke-width:1.5;\"/>\r\n   </g>\r\n   <g id=\"patch_44\">\r\n    <path clip-path=\"url(#pa488bfb9e9)\" d=\"M 584.520588 162.587799 \r\nL 637.038235 162.587799 \r\nL 637.038235 137.829501 \r\nL 584.520588 137.829501 \r\nL 584.520588 162.587799 \r\nz\r\n\" style=\"fill:#e1812c;stroke:#3d3d3d;stroke-linejoin:miter;stroke-width:1.5;\"/>\r\n   </g>\r\n   <g id=\"patch_45\">\r\n    <path clip-path=\"url(#pa488bfb9e9)\" d=\"M 650.167647 164.2595 \r\nL 702.685294 164.2595 \r\nL 702.685294 142.0797 \r\nL 650.167647 142.0797 \r\nL 650.167647 164.2595 \r\nz\r\n\" style=\"fill:#3a923a;stroke:#3d3d3d;stroke-linejoin:miter;stroke-width:1.5;\"/>\r\n   </g>\r\n   <g id=\"matplotlib.axis_11\">\r\n    <g id=\"xtick_16\">\r\n     <g id=\"line2d_119\">\r\n      <g>\r\n       <use style=\"stroke:#000000;stroke-width:0.8;\" x=\"545.132353\" xlink:href=\"#me00672731d\" y=\"184.407144\"/>\r\n      </g>\r\n     </g>\r\n     <g id=\"text_29\">\r\n      <!-- env_slopesolar -->\r\n      <g transform=\"translate(507.951103 199.005582)scale(0.1 -0.1)\">\r\n       <use xlink:href=\"#DejaVuSans-101\"/>\r\n       <use x=\"61.523438\" xlink:href=\"#DejaVuSans-110\"/>\r\n       <use x=\"124.902344\" xlink:href=\"#DejaVuSans-118\"/>\r\n       <use x=\"184.082031\" xlink:href=\"#DejaVuSans-95\"/>\r\n       <use x=\"234.082031\" xlink:href=\"#DejaVuSans-115\"/>\r\n       <use x=\"286.181641\" xlink:href=\"#DejaVuSans-108\"/>\r\n       <use x=\"313.964844\" xlink:href=\"#DejaVuSans-111\"/>\r\n       <use x=\"375.146484\" xlink:href=\"#DejaVuSans-112\"/>\r\n       <use x=\"438.623047\" xlink:href=\"#DejaVuSans-101\"/>\r\n       <use x=\"500.146484\" xlink:href=\"#DejaVuSans-115\"/>\r\n       <use x=\"552.246094\" xlink:href=\"#DejaVuSans-111\"/>\r\n       <use x=\"613.427734\" xlink:href=\"#DejaVuSans-108\"/>\r\n       <use x=\"641.210938\" xlink:href=\"#DejaVuSans-97\"/>\r\n       <use x=\"702.490234\" xlink:href=\"#DejaVuSans-114\"/>\r\n      </g>\r\n     </g>\r\n    </g>\r\n    <g id=\"xtick_17\">\r\n     <g id=\"line2d_120\">\r\n      <g>\r\n       <use style=\"stroke:#000000;stroke-width:0.8;\" x=\"610.779412\" xlink:href=\"#me00672731d\" y=\"184.407144\"/>\r\n      </g>\r\n     </g>\r\n     <g id=\"text_30\">\r\n      <!-- match_solar -->\r\n      <g transform=\"translate(580.294256 199.005582)scale(0.1 -0.1)\">\r\n       <use xlink:href=\"#DejaVuSans-109\"/>\r\n       <use x=\"97.412109\" xlink:href=\"#DejaVuSans-97\"/>\r\n       <use x=\"158.691406\" xlink:href=\"#DejaVuSans-116\"/>\r\n       <use x=\"197.900391\" xlink:href=\"#DejaVuSans-99\"/>\r\n       <use x=\"252.880859\" xlink:href=\"#DejaVuSans-104\"/>\r\n       <use x=\"316.259766\" xlink:href=\"#DejaVuSans-95\"/>\r\n       <use x=\"366.259766\" xlink:href=\"#DejaVuSans-115\"/>\r\n       <use x=\"418.359375\" xlink:href=\"#DejaVuSans-111\"/>\r\n       <use x=\"479.541016\" xlink:href=\"#DejaVuSans-108\"/>\r\n       <use x=\"507.324219\" xlink:href=\"#DejaVuSans-97\"/>\r\n       <use x=\"568.603516\" xlink:href=\"#DejaVuSans-114\"/>\r\n      </g>\r\n     </g>\r\n    </g>\r\n    <g id=\"xtick_18\">\r\n     <g id=\"line2d_121\">\r\n      <g>\r\n       <use style=\"stroke:#000000;stroke-width:0.8;\" x=\"676.426471\" xlink:href=\"#me00672731d\" y=\"184.407144\"/>\r\n      </g>\r\n     </g>\r\n     <g id=\"text_31\">\r\n      <!-- reset_match -->\r\n      <g transform=\"translate(645.342096 199.005582)scale(0.1 -0.1)\">\r\n       <use xlink:href=\"#DejaVuSans-114\"/>\r\n       <use x=\"41.082031\" xlink:href=\"#DejaVuSans-101\"/>\r\n       <use x=\"102.605469\" xlink:href=\"#DejaVuSans-115\"/>\r\n       <use x=\"154.705078\" xlink:href=\"#DejaVuSans-101\"/>\r\n       <use x=\"216.228516\" xlink:href=\"#DejaVuSans-116\"/>\r\n       <use x=\"255.4375\" xlink:href=\"#DejaVuSans-95\"/>\r\n       <use x=\"305.4375\" xlink:href=\"#DejaVuSans-109\"/>\r\n       <use x=\"402.849609\" xlink:href=\"#DejaVuSans-97\"/>\r\n       <use x=\"464.128906\" xlink:href=\"#DejaVuSans-116\"/>\r\n       <use x=\"503.337891\" xlink:href=\"#DejaVuSans-99\"/>\r\n       <use x=\"558.318359\" xlink:href=\"#DejaVuSans-104\"/>\r\n      </g>\r\n     </g>\r\n    </g>\r\n   </g>\r\n   <g id=\"matplotlib.axis_12\">\r\n    <g id=\"ytick_14\">\r\n     <g id=\"line2d_122\">\r\n      <g>\r\n       <use style=\"stroke:#000000;stroke-width:0.8;\" x=\"512.308824\" xlink:href=\"#m1519f4db37\" y=\"181.280811\"/>\r\n      </g>\r\n     </g>\r\n     <g id=\"text_32\">\r\n      <!-- 0 -->\r\n      <g transform=\"translate(498.946324 185.08003)scale(0.1 -0.1)\">\r\n       <use xlink:href=\"#DejaVuSans-48\"/>\r\n      </g>\r\n     </g>\r\n    </g>\r\n    <g id=\"ytick_15\">\r\n     <g id=\"line2d_123\">\r\n      <g>\r\n       <use style=\"stroke:#000000;stroke-width:0.8;\" x=\"512.308824\" xlink:href=\"#m1519f4db37\" y=\"145.485682\"/>\r\n      </g>\r\n     </g>\r\n     <g id=\"text_33\">\r\n      <!-- 500 -->\r\n      <g transform=\"translate(486.221324 149.284901)scale(0.1 -0.1)\">\r\n       <use xlink:href=\"#DejaVuSans-53\"/>\r\n       <use x=\"63.623047\" xlink:href=\"#DejaVuSans-48\"/>\r\n       <use x=\"127.246094\" xlink:href=\"#DejaVuSans-48\"/>\r\n      </g>\r\n     </g>\r\n    </g>\r\n    <g id=\"ytick_16\">\r\n     <g id=\"line2d_124\">\r\n      <g>\r\n       <use style=\"stroke:#000000;stroke-width:0.8;\" x=\"512.308824\" xlink:href=\"#m1519f4db37\" y=\"109.690552\"/>\r\n      </g>\r\n     </g>\r\n     <g id=\"text_34\">\r\n      <!-- 1000 -->\r\n      <g transform=\"translate(479.858824 113.489771)scale(0.1 -0.1)\">\r\n       <use xlink:href=\"#DejaVuSans-49\"/>\r\n       <use x=\"63.623047\" xlink:href=\"#DejaVuSans-48\"/>\r\n       <use x=\"127.246094\" xlink:href=\"#DejaVuSans-48\"/>\r\n       <use x=\"190.869141\" xlink:href=\"#DejaVuSans-48\"/>\r\n      </g>\r\n     </g>\r\n    </g>\r\n   </g>\r\n   <g id=\"line2d_125\">\r\n    <path clip-path=\"url(#pa488bfb9e9)\" d=\"M 545.132353 166.634893 \r\nL 545.132353 180.773454 \r\n\" style=\"fill:none;stroke:#3d3d3d;stroke-linecap:square;stroke-width:1.5;\"/>\r\n   </g>\r\n   <g id=\"line2d_126\">\r\n    <path clip-path=\"url(#pa488bfb9e9)\" d=\"M 545.132353 140.498642 \r\nL 545.132353 112.536265 \r\n\" style=\"fill:none;stroke:#3d3d3d;stroke-linecap:square;stroke-width:1.5;\"/>\r\n   </g>\r\n   <g id=\"line2d_127\">\r\n    <path clip-path=\"url(#pa488bfb9e9)\" d=\"M 532.002941 180.773454 \r\nL 558.261765 180.773454 \r\n\" style=\"fill:none;stroke:#3d3d3d;stroke-linecap:square;stroke-width:1.5;\"/>\r\n   </g>\r\n   <g id=\"line2d_128\">\r\n    <path clip-path=\"url(#pa488bfb9e9)\" d=\"M 532.002941 112.536265 \r\nL 558.261765 112.536265 \r\n\" style=\"fill:none;stroke:#3d3d3d;stroke-linecap:square;stroke-width:1.5;\"/>\r\n   </g>\r\n   <g id=\"line2d_129\"/>\r\n   <g id=\"line2d_130\">\r\n    <path clip-path=\"url(#pa488bfb9e9)\" d=\"M 610.779412 162.587799 \r\nL 610.779412 180.286502 \r\n\" style=\"fill:none;stroke:#3d3d3d;stroke-linecap:square;stroke-width:1.5;\"/>\r\n   </g>\r\n   <g id=\"line2d_131\">\r\n    <path clip-path=\"url(#pa488bfb9e9)\" d=\"M 610.779412 137.829501 \r\nL 610.779412 108.099658 \r\n\" style=\"fill:none;stroke:#3d3d3d;stroke-linecap:square;stroke-width:1.5;\"/>\r\n   </g>\r\n   <g id=\"line2d_132\">\r\n    <path clip-path=\"url(#pa488bfb9e9)\" d=\"M 597.65 180.286502 \r\nL 623.908824 180.286502 \r\n\" style=\"fill:none;stroke:#3d3d3d;stroke-linecap:square;stroke-width:1.5;\"/>\r\n   </g>\r\n   <g id=\"line2d_133\">\r\n    <path clip-path=\"url(#pa488bfb9e9)\" d=\"M 597.65 108.099658 \r\nL 623.908824 108.099658 \r\n\" style=\"fill:none;stroke:#3d3d3d;stroke-linecap:square;stroke-width:1.5;\"/>\r\n   </g>\r\n   <g id=\"line2d_134\"/>\r\n   <g id=\"line2d_135\">\r\n    <path clip-path=\"url(#pa488bfb9e9)\" d=\"M 676.426471 164.2595 \r\nL 676.426471 180.360681 \r\n\" style=\"fill:none;stroke:#3d3d3d;stroke-linecap:square;stroke-width:1.5;\"/>\r\n   </g>\r\n   <g id=\"line2d_136\">\r\n    <path clip-path=\"url(#pa488bfb9e9)\" d=\"M 676.426471 142.0797 \r\nL 676.426471 113.962815 \r\n\" style=\"fill:none;stroke:#3d3d3d;stroke-linecap:square;stroke-width:1.5;\"/>\r\n   </g>\r\n   <g id=\"line2d_137\">\r\n    <path clip-path=\"url(#pa488bfb9e9)\" d=\"M 663.297059 180.360681 \r\nL 689.555882 180.360681 \r\n\" style=\"fill:none;stroke:#3d3d3d;stroke-linecap:square;stroke-width:1.5;\"/>\r\n   </g>\r\n   <g id=\"line2d_138\">\r\n    <path clip-path=\"url(#pa488bfb9e9)\" d=\"M 663.297059 113.962815 \r\nL 689.555882 113.962815 \r\n\" style=\"fill:none;stroke:#3d3d3d;stroke-linecap:square;stroke-width:1.5;\"/>\r\n   </g>\r\n   <g id=\"line2d_139\"/>\r\n   <g id=\"line2d_140\">\r\n    <path clip-path=\"url(#pa488bfb9e9)\" d=\"M 518.873529 150.760922 \r\nL 571.391176 150.760922 \r\n\" style=\"fill:none;stroke:#3d3d3d;stroke-linecap:square;stroke-width:1.5;\"/>\r\n   </g>\r\n   <g id=\"line2d_141\">\r\n    <path clip-path=\"url(#pa488bfb9e9)\" d=\"M 584.520588 147.673162 \r\nL 637.038235 147.673162 \r\n\" style=\"fill:none;stroke:#3d3d3d;stroke-linecap:square;stroke-width:1.5;\"/>\r\n   </g>\r\n   <g id=\"line2d_142\">\r\n    <path clip-path=\"url(#pa488bfb9e9)\" d=\"M 650.167647 150.863701 \r\nL 702.685294 150.863701 \r\n\" style=\"fill:none;stroke:#3d3d3d;stroke-linecap:square;stroke-width:1.5;\"/>\r\n   </g>\r\n   <g id=\"patch_46\">\r\n    <path d=\"M 512.308824 184.407144 \r\nL 512.308824 104.465968 \r\n\" style=\"fill:none;stroke:#000000;stroke-linecap:square;stroke-linejoin:miter;stroke-width:0.8;\"/>\r\n   </g>\r\n   <g id=\"patch_47\">\r\n    <path d=\"M 709.25 184.407144 \r\nL 709.25 104.465968 \r\n\" style=\"fill:none;stroke:#000000;stroke-linecap:square;stroke-linejoin:miter;stroke-width:0.8;\"/>\r\n   </g>\r\n   <g id=\"patch_48\">\r\n    <path d=\"M 512.308824 184.407144 \r\nL 709.25 184.407144 \r\n\" style=\"fill:none;stroke:#000000;stroke-linecap:square;stroke-linejoin:miter;stroke-width:0.8;\"/>\r\n   </g>\r\n   <g id=\"patch_49\">\r\n    <path d=\"M 512.308824 104.465968 \r\nL 709.25 104.465968 \r\n\" style=\"fill:none;stroke:#000000;stroke-linecap:square;stroke-linejoin:miter;stroke-width:0.8;\"/>\r\n   </g>\r\n  </g>\r\n  <g id=\"axes_7\">\r\n   <g id=\"patch_50\">\r\n    <path d=\"M 39.65 280.336556 \r\nL 236.591176 280.336556 \r\nL 236.591176 200.39538 \r\nL 39.65 200.39538 \r\nz\r\n\" style=\"fill:#ffffff;\"/>\r\n   </g>\r\n   <g id=\"patch_51\">\r\n    <path clip-path=\"url(#p1c5bb98d66)\" d=\"M 46.214706 264.142425 \r\nL 98.732353 264.142425 \r\nL 98.732353 244.728735 \r\nL 46.214706 244.728735 \r\nL 46.214706 264.142425 \r\nz\r\n\" style=\"fill:#3274a1;stroke:#3d3d3d;stroke-linejoin:miter;stroke-width:1.5;\"/>\r\n   </g>\r\n   <g id=\"patch_52\">\r\n    <path clip-path=\"url(#p1c5bb98d66)\" d=\"M 111.861765 258.800636 \r\nL 164.379412 258.800636 \r\nL 164.379412 238.058741 \r\nL 111.861765 238.058741 \r\nL 111.861765 258.800636 \r\nz\r\n\" style=\"fill:#e1812c;stroke:#3d3d3d;stroke-linejoin:miter;stroke-width:1.5;\"/>\r\n   </g>\r\n   <g id=\"patch_53\">\r\n    <path clip-path=\"url(#p1c5bb98d66)\" d=\"M 177.508824 262.690334 \r\nL 230.026471 262.690334 \r\nL 230.026471 244.786391 \r\nL 177.508824 244.786391 \r\nL 177.508824 262.690334 \r\nz\r\n\" style=\"fill:#3a923a;stroke:#3d3d3d;stroke-linejoin:miter;stroke-width:1.5;\"/>\r\n   </g>\r\n   <g id=\"matplotlib.axis_13\">\r\n    <g id=\"xtick_19\">\r\n     <g id=\"line2d_143\">\r\n      <g>\r\n       <use style=\"stroke:#000000;stroke-width:0.8;\" x=\"72.473529\" xlink:href=\"#me00672731d\" y=\"280.336556\"/>\r\n      </g>\r\n     </g>\r\n     <g id=\"text_35\">\r\n      <!-- env_slopesolar -->\r\n      <g transform=\"translate(35.292279 294.934994)scale(0.1 -0.1)\">\r\n       <use xlink:href=\"#DejaVuSans-101\"/>\r\n       <use x=\"61.523438\" xlink:href=\"#DejaVuSans-110\"/>\r\n       <use x=\"124.902344\" xlink:href=\"#DejaVuSans-118\"/>\r\n       <use x=\"184.082031\" xlink:href=\"#DejaVuSans-95\"/>\r\n       <use x=\"234.082031\" xlink:href=\"#DejaVuSans-115\"/>\r\n       <use x=\"286.181641\" xlink:href=\"#DejaVuSans-108\"/>\r\n       <use x=\"313.964844\" xlink:href=\"#DejaVuSans-111\"/>\r\n       <use x=\"375.146484\" xlink:href=\"#DejaVuSans-112\"/>\r\n       <use x=\"438.623047\" xlink:href=\"#DejaVuSans-101\"/>\r\n       <use x=\"500.146484\" xlink:href=\"#DejaVuSans-115\"/>\r\n       <use x=\"552.246094\" xlink:href=\"#DejaVuSans-111\"/>\r\n       <use x=\"613.427734\" xlink:href=\"#DejaVuSans-108\"/>\r\n       <use x=\"641.210938\" xlink:href=\"#DejaVuSans-97\"/>\r\n       <use x=\"702.490234\" xlink:href=\"#DejaVuSans-114\"/>\r\n      </g>\r\n     </g>\r\n    </g>\r\n    <g id=\"xtick_20\">\r\n     <g id=\"line2d_144\">\r\n      <g>\r\n       <use style=\"stroke:#000000;stroke-width:0.8;\" x=\"138.120588\" xlink:href=\"#me00672731d\" y=\"280.336556\"/>\r\n      </g>\r\n     </g>\r\n     <g id=\"text_36\">\r\n      <!-- match_solar -->\r\n      <g transform=\"translate(107.635432 294.934994)scale(0.1 -0.1)\">\r\n       <use xlink:href=\"#DejaVuSans-109\"/>\r\n       <use x=\"97.412109\" xlink:href=\"#DejaVuSans-97\"/>\r\n       <use x=\"158.691406\" xlink:href=\"#DejaVuSans-116\"/>\r\n       <use x=\"197.900391\" xlink:href=\"#DejaVuSans-99\"/>\r\n       <use x=\"252.880859\" xlink:href=\"#DejaVuSans-104\"/>\r\n       <use x=\"316.259766\" xlink:href=\"#DejaVuSans-95\"/>\r\n       <use x=\"366.259766\" xlink:href=\"#DejaVuSans-115\"/>\r\n       <use x=\"418.359375\" xlink:href=\"#DejaVuSans-111\"/>\r\n       <use x=\"479.541016\" xlink:href=\"#DejaVuSans-108\"/>\r\n       <use x=\"507.324219\" xlink:href=\"#DejaVuSans-97\"/>\r\n       <use x=\"568.603516\" xlink:href=\"#DejaVuSans-114\"/>\r\n      </g>\r\n     </g>\r\n    </g>\r\n    <g id=\"xtick_21\">\r\n     <g id=\"line2d_145\">\r\n      <g>\r\n       <use style=\"stroke:#000000;stroke-width:0.8;\" x=\"203.767647\" xlink:href=\"#me00672731d\" y=\"280.336556\"/>\r\n      </g>\r\n     </g>\r\n     <g id=\"text_37\">\r\n      <!-- reset_match -->\r\n      <g transform=\"translate(172.683272 294.934994)scale(0.1 -0.1)\">\r\n       <use xlink:href=\"#DejaVuSans-114\"/>\r\n       <use x=\"41.082031\" xlink:href=\"#DejaVuSans-101\"/>\r\n       <use x=\"102.605469\" xlink:href=\"#DejaVuSans-115\"/>\r\n       <use x=\"154.705078\" xlink:href=\"#DejaVuSans-101\"/>\r\n       <use x=\"216.228516\" xlink:href=\"#DejaVuSans-116\"/>\r\n       <use x=\"255.4375\" xlink:href=\"#DejaVuSans-95\"/>\r\n       <use x=\"305.4375\" xlink:href=\"#DejaVuSans-109\"/>\r\n       <use x=\"402.849609\" xlink:href=\"#DejaVuSans-97\"/>\r\n       <use x=\"464.128906\" xlink:href=\"#DejaVuSans-116\"/>\r\n       <use x=\"503.337891\" xlink:href=\"#DejaVuSans-99\"/>\r\n       <use x=\"558.318359\" xlink:href=\"#DejaVuSans-104\"/>\r\n      </g>\r\n     </g>\r\n    </g>\r\n   </g>\r\n   <g id=\"matplotlib.axis_14\">\r\n    <g id=\"ytick_17\">\r\n     <g id=\"line2d_146\">\r\n      <g>\r\n       <use style=\"stroke:#000000;stroke-width:0.8;\" x=\"39.65\" xlink:href=\"#m1519f4db37\" y=\"276.841763\"/>\r\n      </g>\r\n     </g>\r\n     <g id=\"text_38\">\r\n      <!-- 0 -->\r\n      <g transform=\"translate(26.2875 280.640982)scale(0.1 -0.1)\">\r\n       <use xlink:href=\"#DejaVuSans-48\"/>\r\n      </g>\r\n     </g>\r\n    </g>\r\n    <g id=\"ytick_18\">\r\n     <g id=\"line2d_147\">\r\n      <g>\r\n       <use style=\"stroke:#000000;stroke-width:0.8;\" x=\"39.65\" xlink:href=\"#m1519f4db37\" y=\"237.95071\"/>\r\n      </g>\r\n     </g>\r\n     <g id=\"text_39\">\r\n      <!-- 500 -->\r\n      <g transform=\"translate(13.5625 241.749929)scale(0.1 -0.1)\">\r\n       <use xlink:href=\"#DejaVuSans-53\"/>\r\n       <use x=\"63.623047\" xlink:href=\"#DejaVuSans-48\"/>\r\n       <use x=\"127.246094\" xlink:href=\"#DejaVuSans-48\"/>\r\n      </g>\r\n     </g>\r\n    </g>\r\n   </g>\r\n   <g id=\"line2d_148\">\r\n    <path clip-path=\"url(#p1c5bb98d66)\" d=\"M 72.473529 264.142425 \r\nL 72.473529 276.702866 \r\n\" style=\"fill:none;stroke:#3d3d3d;stroke-linecap:square;stroke-width:1.5;\"/>\r\n   </g>\r\n   <g id=\"line2d_149\">\r\n    <path clip-path=\"url(#p1c5bb98d66)\" d=\"M 72.473529 244.728735 \r\nL 72.473529 215.919484 \r\n\" style=\"fill:none;stroke:#3d3d3d;stroke-linecap:square;stroke-width:1.5;\"/>\r\n   </g>\r\n   <g id=\"line2d_150\">\r\n    <path clip-path=\"url(#p1c5bb98d66)\" d=\"M 59.344118 276.702866 \r\nL 85.602941 276.702866 \r\n\" style=\"fill:none;stroke:#3d3d3d;stroke-linecap:square;stroke-width:1.5;\"/>\r\n   </g>\r\n   <g id=\"line2d_151\">\r\n    <path clip-path=\"url(#p1c5bb98d66)\" d=\"M 59.344118 215.919484 \r\nL 85.602941 215.919484 \r\n\" style=\"fill:none;stroke:#3d3d3d;stroke-linecap:square;stroke-width:1.5;\"/>\r\n   </g>\r\n   <g id=\"line2d_152\">\r\n    <g clip-path=\"url(#p1c5bb98d66)\">\r\n     <use style=\"fill:#3d3d3d;stroke:#3d3d3d;stroke-linejoin:miter;\" x=\"72.473529\" xlink:href=\"#m427981758f\" y=\"212.548371\"/>\r\n    </g>\r\n   </g>\r\n   <g id=\"line2d_153\">\r\n    <path clip-path=\"url(#p1c5bb98d66)\" d=\"M 138.120588 258.800636 \r\nL 138.120588 275.977517 \r\n\" style=\"fill:none;stroke:#3d3d3d;stroke-linecap:square;stroke-width:1.5;\"/>\r\n   </g>\r\n   <g id=\"line2d_154\">\r\n    <path clip-path=\"url(#p1c5bb98d66)\" d=\"M 138.120588 238.058741 \r\nL 138.120588 207.486052 \r\n\" style=\"fill:none;stroke:#3d3d3d;stroke-linecap:square;stroke-width:1.5;\"/>\r\n   </g>\r\n   <g id=\"line2d_155\">\r\n    <path clip-path=\"url(#p1c5bb98d66)\" d=\"M 124.991176 275.977517 \r\nL 151.25 275.977517 \r\n\" style=\"fill:none;stroke:#3d3d3d;stroke-linecap:square;stroke-width:1.5;\"/>\r\n   </g>\r\n   <g id=\"line2d_156\">\r\n    <path clip-path=\"url(#p1c5bb98d66)\" d=\"M 124.991176 207.486052 \r\nL 151.25 207.486052 \r\n\" style=\"fill:none;stroke:#3d3d3d;stroke-linecap:square;stroke-width:1.5;\"/>\r\n   </g>\r\n   <g id=\"line2d_157\">\r\n    <g clip-path=\"url(#p1c5bb98d66)\">\r\n     <use style=\"fill:#3d3d3d;stroke:#3d3d3d;stroke-linejoin:miter;\" x=\"138.120588\" xlink:href=\"#m427981758f\" y=\"205.541499\"/>\r\n     <use style=\"fill:#3d3d3d;stroke:#3d3d3d;stroke-linejoin:miter;\" x=\"138.120588\" xlink:href=\"#m427981758f\" y=\"206.189683\"/>\r\n     <use style=\"fill:#3d3d3d;stroke:#3d3d3d;stroke-linejoin:miter;\" x=\"138.120588\" xlink:href=\"#m427981758f\" y=\"204.029069\"/>\r\n    </g>\r\n   </g>\r\n   <g id=\"line2d_158\">\r\n    <path clip-path=\"url(#p1c5bb98d66)\" d=\"M 203.767647 262.690334 \r\nL 203.767647 276.181037 \r\n\" style=\"fill:none;stroke:#3d3d3d;stroke-linecap:square;stroke-width:1.5;\"/>\r\n   </g>\r\n   <g id=\"line2d_159\">\r\n    <path clip-path=\"url(#p1c5bb98d66)\" d=\"M 203.767647 244.786391 \r\nL 203.767647 218.828379 \r\n\" style=\"fill:none;stroke:#3d3d3d;stroke-linecap:square;stroke-width:1.5;\"/>\r\n   </g>\r\n   <g id=\"line2d_160\">\r\n    <path clip-path=\"url(#p1c5bb98d66)\" d=\"M 190.638235 276.181037 \r\nL 216.897059 276.181037 \r\n\" style=\"fill:none;stroke:#3d3d3d;stroke-linecap:square;stroke-width:1.5;\"/>\r\n   </g>\r\n   <g id=\"line2d_161\">\r\n    <path clip-path=\"url(#p1c5bb98d66)\" d=\"M 190.638235 218.828379 \r\nL 216.897059 218.828379 \r\n\" style=\"fill:none;stroke:#3d3d3d;stroke-linecap:square;stroke-width:1.5;\"/>\r\n   </g>\r\n   <g id=\"line2d_162\">\r\n    <g clip-path=\"url(#p1c5bb98d66)\">\r\n     <use style=\"fill:#3d3d3d;stroke:#3d3d3d;stroke-linejoin:miter;\" x=\"203.767647\" xlink:href=\"#m427981758f\" y=\"217.209484\"/>\r\n     <use style=\"fill:#3d3d3d;stroke:#3d3d3d;stroke-linejoin:miter;\" x=\"203.767647\" xlink:href=\"#m427981758f\" y=\"215.872284\"/>\r\n     <use style=\"fill:#3d3d3d;stroke:#3d3d3d;stroke-linejoin:miter;\" x=\"203.767647\" xlink:href=\"#m427981758f\" y=\"216.426552\"/>\r\n     <use style=\"fill:#3d3d3d;stroke:#3d3d3d;stroke-linejoin:miter;\" x=\"203.767647\" xlink:href=\"#m427981758f\" y=\"216.688526\"/>\r\n    </g>\r\n   </g>\r\n   <g id=\"line2d_163\">\r\n    <path clip-path=\"url(#p1c5bb98d66)\" d=\"M 46.214706 253.292086 \r\nL 98.732353 253.292086 \r\n\" style=\"fill:none;stroke:#3d3d3d;stroke-linecap:square;stroke-width:1.5;\"/>\r\n   </g>\r\n   <g id=\"line2d_164\">\r\n    <path clip-path=\"url(#p1c5bb98d66)\" d=\"M 111.861765 247.889535 \r\nL 164.379412 247.889535 \r\n\" style=\"fill:none;stroke:#3d3d3d;stroke-linecap:square;stroke-width:1.5;\"/>\r\n   </g>\r\n   <g id=\"line2d_165\">\r\n    <path clip-path=\"url(#p1c5bb98d66)\" d=\"M 177.508824 254.542275 \r\nL 230.026471 254.542275 \r\n\" style=\"fill:none;stroke:#3d3d3d;stroke-linecap:square;stroke-width:1.5;\"/>\r\n   </g>\r\n   <g id=\"patch_54\">\r\n    <path d=\"M 39.65 280.336556 \r\nL 39.65 200.39538 \r\n\" style=\"fill:none;stroke:#000000;stroke-linecap:square;stroke-linejoin:miter;stroke-width:0.8;\"/>\r\n   </g>\r\n   <g id=\"patch_55\">\r\n    <path d=\"M 236.591176 280.336556 \r\nL 236.591176 200.39538 \r\n\" style=\"fill:none;stroke:#000000;stroke-linecap:square;stroke-linejoin:miter;stroke-width:0.8;\"/>\r\n   </g>\r\n   <g id=\"patch_56\">\r\n    <path d=\"M 39.65 280.336556 \r\nL 236.591176 280.336556 \r\n\" style=\"fill:none;stroke:#000000;stroke-linecap:square;stroke-linejoin:miter;stroke-width:0.8;\"/>\r\n   </g>\r\n   <g id=\"patch_57\">\r\n    <path d=\"M 39.65 200.39538 \r\nL 236.591176 200.39538 \r\n\" style=\"fill:none;stroke:#000000;stroke-linecap:square;stroke-linejoin:miter;stroke-width:0.8;\"/>\r\n   </g>\r\n  </g>\r\n  <g id=\"axes_8\">\r\n   <g id=\"patch_58\">\r\n    <path d=\"M 275.979412 280.336556 \r\nL 472.920588 280.336556 \r\nL 472.920588 200.39538 \r\nL 275.979412 200.39538 \r\nz\r\n\" style=\"fill:#ffffff;\"/>\r\n   </g>\r\n   <g id=\"patch_59\">\r\n    <path clip-path=\"url(#pf085621ba3)\" d=\"M 282.544118 271.967838 \r\nL 335.061765 271.967838 \r\nL 335.061765 255.49123 \r\nL 282.544118 255.49123 \r\nL 282.544118 271.967838 \r\nz\r\n\" style=\"fill:#3274a1;stroke:#3d3d3d;stroke-linejoin:miter;stroke-width:1.5;\"/>\r\n   </g>\r\n   <g id=\"patch_60\">\r\n    <path clip-path=\"url(#pf085621ba3)\" d=\"M 348.191176 262.620746 \r\nL 400.708824 262.620746 \r\nL 400.708824 243.257832 \r\nL 348.191176 243.257832 \r\nL 348.191176 262.620746 \r\nz\r\n\" style=\"fill:#e1812c;stroke:#3d3d3d;stroke-linejoin:miter;stroke-width:1.5;\"/>\r\n   </g>\r\n   <g id=\"patch_61\">\r\n    <path clip-path=\"url(#pf085621ba3)\" d=\"M 413.838235 271.378226 \r\nL 466.355882 271.378226 \r\nL 466.355882 255.661197 \r\nL 413.838235 255.661197 \r\nL 413.838235 271.378226 \r\nz\r\n\" style=\"fill:#3a923a;stroke:#3d3d3d;stroke-linejoin:miter;stroke-width:1.5;\"/>\r\n   </g>\r\n   <g id=\"matplotlib.axis_15\">\r\n    <g id=\"xtick_22\">\r\n     <g id=\"line2d_166\">\r\n      <g>\r\n       <use style=\"stroke:#000000;stroke-width:0.8;\" x=\"308.802941\" xlink:href=\"#me00672731d\" y=\"280.336556\"/>\r\n      </g>\r\n     </g>\r\n     <g id=\"text_40\">\r\n      <!-- env_slopesolar -->\r\n      <g transform=\"translate(271.621691 294.934994)scale(0.1 -0.1)\">\r\n       <use xlink:href=\"#DejaVuSans-101\"/>\r\n       <use x=\"61.523438\" xlink:href=\"#DejaVuSans-110\"/>\r\n       <use x=\"124.902344\" xlink:href=\"#DejaVuSans-118\"/>\r\n       <use x=\"184.082031\" xlink:href=\"#DejaVuSans-95\"/>\r\n       <use x=\"234.082031\" xlink:href=\"#DejaVuSans-115\"/>\r\n       <use x=\"286.181641\" xlink:href=\"#DejaVuSans-108\"/>\r\n       <use x=\"313.964844\" xlink:href=\"#DejaVuSans-111\"/>\r\n       <use x=\"375.146484\" xlink:href=\"#DejaVuSans-112\"/>\r\n       <use x=\"438.623047\" xlink:href=\"#DejaVuSans-101\"/>\r\n       <use x=\"500.146484\" xlink:href=\"#DejaVuSans-115\"/>\r\n       <use x=\"552.246094\" xlink:href=\"#DejaVuSans-111\"/>\r\n       <use x=\"613.427734\" xlink:href=\"#DejaVuSans-108\"/>\r\n       <use x=\"641.210938\" xlink:href=\"#DejaVuSans-97\"/>\r\n       <use x=\"702.490234\" xlink:href=\"#DejaVuSans-114\"/>\r\n      </g>\r\n     </g>\r\n    </g>\r\n    <g id=\"xtick_23\">\r\n     <g id=\"line2d_167\">\r\n      <g>\r\n       <use style=\"stroke:#000000;stroke-width:0.8;\" x=\"374.45\" xlink:href=\"#me00672731d\" y=\"280.336556\"/>\r\n      </g>\r\n     </g>\r\n     <g id=\"text_41\">\r\n      <!-- match_solar -->\r\n      <g transform=\"translate(343.964844 294.934994)scale(0.1 -0.1)\">\r\n       <use xlink:href=\"#DejaVuSans-109\"/>\r\n       <use x=\"97.412109\" xlink:href=\"#DejaVuSans-97\"/>\r\n       <use x=\"158.691406\" xlink:href=\"#DejaVuSans-116\"/>\r\n       <use x=\"197.900391\" xlink:href=\"#DejaVuSans-99\"/>\r\n       <use x=\"252.880859\" xlink:href=\"#DejaVuSans-104\"/>\r\n       <use x=\"316.259766\" xlink:href=\"#DejaVuSans-95\"/>\r\n       <use x=\"366.259766\" xlink:href=\"#DejaVuSans-115\"/>\r\n       <use x=\"418.359375\" xlink:href=\"#DejaVuSans-111\"/>\r\n       <use x=\"479.541016\" xlink:href=\"#DejaVuSans-108\"/>\r\n       <use x=\"507.324219\" xlink:href=\"#DejaVuSans-97\"/>\r\n       <use x=\"568.603516\" xlink:href=\"#DejaVuSans-114\"/>\r\n      </g>\r\n     </g>\r\n    </g>\r\n    <g id=\"xtick_24\">\r\n     <g id=\"line2d_168\">\r\n      <g>\r\n       <use style=\"stroke:#000000;stroke-width:0.8;\" x=\"440.097059\" xlink:href=\"#me00672731d\" y=\"280.336556\"/>\r\n      </g>\r\n     </g>\r\n     <g id=\"text_42\">\r\n      <!-- reset_match -->\r\n      <g transform=\"translate(409.012684 294.934994)scale(0.1 -0.1)\">\r\n       <use xlink:href=\"#DejaVuSans-114\"/>\r\n       <use x=\"41.082031\" xlink:href=\"#DejaVuSans-101\"/>\r\n       <use x=\"102.605469\" xlink:href=\"#DejaVuSans-115\"/>\r\n       <use x=\"154.705078\" xlink:href=\"#DejaVuSans-101\"/>\r\n       <use x=\"216.228516\" xlink:href=\"#DejaVuSans-116\"/>\r\n       <use x=\"255.4375\" xlink:href=\"#DejaVuSans-95\"/>\r\n       <use x=\"305.4375\" xlink:href=\"#DejaVuSans-109\"/>\r\n       <use x=\"402.849609\" xlink:href=\"#DejaVuSans-97\"/>\r\n       <use x=\"464.128906\" xlink:href=\"#DejaVuSans-116\"/>\r\n       <use x=\"503.337891\" xlink:href=\"#DejaVuSans-99\"/>\r\n       <use x=\"558.318359\" xlink:href=\"#DejaVuSans-104\"/>\r\n      </g>\r\n     </g>\r\n    </g>\r\n   </g>\r\n   <g id=\"matplotlib.axis_16\">\r\n    <g id=\"ytick_19\">\r\n     <g id=\"line2d_169\">\r\n      <g>\r\n       <use style=\"stroke:#000000;stroke-width:0.8;\" x=\"275.979412\" xlink:href=\"#m1519f4db37\" y=\"276.702866\"/>\r\n      </g>\r\n     </g>\r\n     <g id=\"text_43\">\r\n      <!-- 0 -->\r\n      <g transform=\"translate(262.616912 280.502085)scale(0.1 -0.1)\">\r\n       <use xlink:href=\"#DejaVuSans-48\"/>\r\n      </g>\r\n     </g>\r\n    </g>\r\n    <g id=\"ytick_20\">\r\n     <g id=\"line2d_170\">\r\n      <g>\r\n       <use style=\"stroke:#000000;stroke-width:0.8;\" x=\"275.979412\" xlink:href=\"#m1519f4db37\" y=\"231.43891\"/>\r\n      </g>\r\n     </g>\r\n     <g id=\"text_44\">\r\n      <!-- 500 -->\r\n      <g transform=\"translate(249.891912 235.238128)scale(0.1 -0.1)\">\r\n       <use xlink:href=\"#DejaVuSans-53\"/>\r\n       <use x=\"63.623047\" xlink:href=\"#DejaVuSans-48\"/>\r\n       <use x=\"127.246094\" xlink:href=\"#DejaVuSans-48\"/>\r\n      </g>\r\n     </g>\r\n    </g>\r\n   </g>\r\n   <g id=\"line2d_171\">\r\n    <path clip-path=\"url(#pf085621ba3)\" d=\"M 308.802941 271.967838 \r\nL 308.802941 276.702866 \r\n\" style=\"fill:none;stroke:#3d3d3d;stroke-linecap:square;stroke-width:1.5;\"/>\r\n   </g>\r\n   <g id=\"line2d_172\">\r\n    <path clip-path=\"url(#pf085621ba3)\" d=\"M 308.802941 255.49123 \r\nL 308.802941 231.331569 \r\n\" style=\"fill:none;stroke:#3d3d3d;stroke-linecap:square;stroke-width:1.5;\"/>\r\n   </g>\r\n   <g id=\"line2d_173\">\r\n    <path clip-path=\"url(#pf085621ba3)\" d=\"M 295.673529 276.702866 \r\nL 321.932353 276.702866 \r\n\" style=\"fill:none;stroke:#3d3d3d;stroke-linecap:square;stroke-width:1.5;\"/>\r\n   </g>\r\n   <g id=\"line2d_174\">\r\n    <path clip-path=\"url(#pf085621ba3)\" d=\"M 295.673529 231.331569 \r\nL 321.932353 231.331569 \r\n\" style=\"fill:none;stroke:#3d3d3d;stroke-linecap:square;stroke-width:1.5;\"/>\r\n   </g>\r\n   <g id=\"line2d_175\">\r\n    <g clip-path=\"url(#pf085621ba3)\">\r\n     <use style=\"fill:#3d3d3d;stroke:#3d3d3d;stroke-linejoin:miter;\" x=\"308.802941\" xlink:href=\"#m427981758f\" y=\"230.209023\"/>\r\n     <use style=\"fill:#3d3d3d;stroke:#3d3d3d;stroke-linejoin:miter;\" x=\"308.802941\" xlink:href=\"#m427981758f\" y=\"230.065472\"/>\r\n     <use style=\"fill:#3d3d3d;stroke:#3d3d3d;stroke-linejoin:miter;\" x=\"308.802941\" xlink:href=\"#m427981758f\" y=\"230.011155\"/>\r\n     <use style=\"fill:#3d3d3d;stroke:#3d3d3d;stroke-linejoin:miter;\" x=\"308.802941\" xlink:href=\"#m427981758f\" y=\"229.144674\"/>\r\n     <use style=\"fill:#3d3d3d;stroke:#3d3d3d;stroke-linejoin:miter;\" x=\"308.802941\" xlink:href=\"#m427981758f\" y=\"230.406892\"/>\r\n     <use style=\"fill:#3d3d3d;stroke:#3d3d3d;stroke-linejoin:miter;\" x=\"308.802941\" xlink:href=\"#m427981758f\" y=\"228.930368\"/>\r\n     <use style=\"fill:#3d3d3d;stroke:#3d3d3d;stroke-linejoin:miter;\" x=\"308.802941\" xlink:href=\"#m427981758f\" y=\"229.136914\"/>\r\n     <use style=\"fill:#3d3d3d;stroke:#3d3d3d;stroke-linejoin:miter;\" x=\"308.802941\" xlink:href=\"#m427981758f\" y=\"229.010632\"/>\r\n     <use style=\"fill:#3d3d3d;stroke:#3d3d3d;stroke-linejoin:miter;\" x=\"308.802941\" xlink:href=\"#m427981758f\" y=\"225.47312\"/>\r\n     <use style=\"fill:#3d3d3d;stroke:#3d3d3d;stroke-linejoin:miter;\" x=\"308.802941\" xlink:href=\"#m427981758f\" y=\"225.618883\"/>\r\n     <use style=\"fill:#3d3d3d;stroke:#3d3d3d;stroke-linejoin:miter;\" x=\"308.802941\" xlink:href=\"#m427981758f\" y=\"227.683295\"/>\r\n     <use style=\"fill:#3d3d3d;stroke:#3d3d3d;stroke-linejoin:miter;\" x=\"308.802941\" xlink:href=\"#m427981758f\" y=\"221.79898\"/>\r\n     <use style=\"fill:#3d3d3d;stroke:#3d3d3d;stroke-linejoin:miter;\" x=\"308.802941\" xlink:href=\"#m427981758f\" y=\"229.230816\"/>\r\n     <use style=\"fill:#3d3d3d;stroke:#3d3d3d;stroke-linejoin:miter;\" x=\"308.802941\" xlink:href=\"#m427981758f\" y=\"227.269453\"/>\r\n     <use style=\"fill:#3d3d3d;stroke:#3d3d3d;stroke-linejoin:miter;\" x=\"308.802941\" xlink:href=\"#m427981758f\" y=\"227.618632\"/>\r\n     <use style=\"fill:#3d3d3d;stroke:#3d3d3d;stroke-linejoin:miter;\" x=\"308.802941\" xlink:href=\"#m427981758f\" y=\"221.602405\"/>\r\n     <use style=\"fill:#3d3d3d;stroke:#3d3d3d;stroke-linejoin:miter;\" x=\"308.802941\" xlink:href=\"#m427981758f\" y=\"226.572388\"/>\r\n     <use style=\"fill:#3d3d3d;stroke:#3d3d3d;stroke-linejoin:miter;\" x=\"308.802941\" xlink:href=\"#m427981758f\" y=\"227.132368\"/>\r\n     <use style=\"fill:#3d3d3d;stroke:#3d3d3d;stroke-linejoin:miter;\" x=\"308.802941\" xlink:href=\"#m427981758f\" y=\"228.517445\"/>\r\n     <use style=\"fill:#3d3d3d;stroke:#3d3d3d;stroke-linejoin:miter;\" x=\"308.802941\" xlink:href=\"#m427981758f\" y=\"228.298884\"/>\r\n     <use style=\"fill:#3d3d3d;stroke:#3d3d3d;stroke-linejoin:miter;\" x=\"308.802941\" xlink:href=\"#m427981758f\" y=\"230.005551\"/>\r\n     <use style=\"fill:#3d3d3d;stroke:#3d3d3d;stroke-linejoin:miter;\" x=\"308.802941\" xlink:href=\"#m427981758f\" y=\"223.771892\"/>\r\n     <use style=\"fill:#3d3d3d;stroke:#3d3d3d;stroke-linejoin:miter;\" x=\"308.802941\" xlink:href=\"#m427981758f\" y=\"220.450214\"/>\r\n     <use style=\"fill:#3d3d3d;stroke:#3d3d3d;stroke-linejoin:miter;\" x=\"308.802941\" xlink:href=\"#m427981758f\" y=\"218.444672\"/>\r\n     <use style=\"fill:#3d3d3d;stroke:#3d3d3d;stroke-linejoin:miter;\" x=\"308.802941\" xlink:href=\"#m427981758f\" y=\"229.183256\"/>\r\n     <use style=\"fill:#3d3d3d;stroke:#3d3d3d;stroke-linejoin:miter;\" x=\"308.802941\" xlink:href=\"#m427981758f\" y=\"229.024832\"/>\r\n     <use style=\"fill:#3d3d3d;stroke:#3d3d3d;stroke-linejoin:miter;\" x=\"308.802941\" xlink:href=\"#m427981758f\" y=\"228.745704\"/>\r\n    </g>\r\n   </g>\r\n   <g id=\"line2d_176\">\r\n    <path clip-path=\"url(#pf085621ba3)\" d=\"M 374.45 262.620746 \r\nL 374.45 275.697001 \r\n\" style=\"fill:none;stroke:#3d3d3d;stroke-linecap:square;stroke-width:1.5;\"/>\r\n   </g>\r\n   <g id=\"line2d_177\">\r\n    <path clip-path=\"url(#pf085621ba3)\" d=\"M 374.45 243.257832 \r\nL 374.45 214.339193 \r\n\" style=\"fill:none;stroke:#3d3d3d;stroke-linecap:square;stroke-width:1.5;\"/>\r\n   </g>\r\n   <g id=\"line2d_178\">\r\n    <path clip-path=\"url(#pf085621ba3)\" d=\"M 361.320588 275.697001 \r\nL 387.579412 275.697001 \r\n\" style=\"fill:none;stroke:#3d3d3d;stroke-linecap:square;stroke-width:1.5;\"/>\r\n   </g>\r\n   <g id=\"line2d_179\">\r\n    <path clip-path=\"url(#pf085621ba3)\" d=\"M 361.320588 214.339193 \r\nL 387.579412 214.339193 \r\n\" style=\"fill:none;stroke:#3d3d3d;stroke-linecap:square;stroke-width:1.5;\"/>\r\n   </g>\r\n   <g id=\"line2d_180\">\r\n    <g clip-path=\"url(#pf085621ba3)\">\r\n     <use style=\"fill:#3d3d3d;stroke:#3d3d3d;stroke-linejoin:miter;\" x=\"374.45\" xlink:href=\"#m427981758f\" y=\"212.830394\"/>\r\n     <use style=\"fill:#3d3d3d;stroke:#3d3d3d;stroke-linejoin:miter;\" x=\"374.45\" xlink:href=\"#m427981758f\" y=\"214.087726\"/>\r\n     <use style=\"fill:#3d3d3d;stroke:#3d3d3d;stroke-linejoin:miter;\" x=\"374.45\" xlink:href=\"#m427981758f\" y=\"212.830394\"/>\r\n     <use style=\"fill:#3d3d3d;stroke:#3d3d3d;stroke-linejoin:miter;\" x=\"374.45\" xlink:href=\"#m427981758f\" y=\"210.818663\"/>\r\n     <use style=\"fill:#3d3d3d;stroke:#3d3d3d;stroke-linejoin:miter;\" x=\"374.45\" xlink:href=\"#m427981758f\" y=\"213.081861\"/>\r\n     <use style=\"fill:#3d3d3d;stroke:#3d3d3d;stroke-linejoin:miter;\" x=\"374.45\" xlink:href=\"#m427981758f\" y=\"210.064264\"/>\r\n     <use style=\"fill:#3d3d3d;stroke:#3d3d3d;stroke-linejoin:miter;\" x=\"374.45\" xlink:href=\"#m427981758f\" y=\"209.309864\"/>\r\n     <use style=\"fill:#3d3d3d;stroke:#3d3d3d;stroke-linejoin:miter;\" x=\"374.45\" xlink:href=\"#m427981758f\" y=\"211.321596\"/>\r\n     <use style=\"fill:#3d3d3d;stroke:#3d3d3d;stroke-linejoin:miter;\" x=\"374.45\" xlink:href=\"#m427981758f\" y=\"211.573062\"/>\r\n     <use style=\"fill:#3d3d3d;stroke:#3d3d3d;stroke-linejoin:miter;\" x=\"374.45\" xlink:href=\"#m427981758f\" y=\"206.7952\"/>\r\n     <use style=\"fill:#3d3d3d;stroke:#3d3d3d;stroke-linejoin:miter;\" x=\"374.45\" xlink:href=\"#m427981758f\" y=\"210.567196\"/>\r\n     <use style=\"fill:#3d3d3d;stroke:#3d3d3d;stroke-linejoin:miter;\" x=\"374.45\" xlink:href=\"#m427981758f\" y=\"212.075995\"/>\r\n     <use style=\"fill:#3d3d3d;stroke:#3d3d3d;stroke-linejoin:miter;\" x=\"374.45\" xlink:href=\"#m427981758f\" y=\"211.573062\"/>\r\n     <use style=\"fill:#3d3d3d;stroke:#3d3d3d;stroke-linejoin:miter;\" x=\"374.45\" xlink:href=\"#m427981758f\" y=\"208.052532\"/>\r\n     <use style=\"fill:#3d3d3d;stroke:#3d3d3d;stroke-linejoin:miter;\" x=\"374.45\" xlink:href=\"#m427981758f\" y=\"211.070129\"/>\r\n     <use style=\"fill:#3d3d3d;stroke:#3d3d3d;stroke-linejoin:miter;\" x=\"374.45\" xlink:href=\"#m427981758f\" y=\"212.830394\"/>\r\n     <use style=\"fill:#3d3d3d;stroke:#3d3d3d;stroke-linejoin:miter;\" x=\"374.45\" xlink:href=\"#m427981758f\" y=\"213.333327\"/>\r\n     <use style=\"fill:#3d3d3d;stroke:#3d3d3d;stroke-linejoin:miter;\" x=\"374.45\" xlink:href=\"#m427981758f\" y=\"209.561331\"/>\r\n     <use style=\"fill:#3d3d3d;stroke:#3d3d3d;stroke-linejoin:miter;\" x=\"374.45\" xlink:href=\"#m427981758f\" y=\"207.549599\"/>\r\n     <use style=\"fill:#3d3d3d;stroke:#3d3d3d;stroke-linejoin:miter;\" x=\"374.45\" xlink:href=\"#m427981758f\" y=\"213.333327\"/>\r\n     <use style=\"fill:#3d3d3d;stroke:#3d3d3d;stroke-linejoin:miter;\" x=\"374.45\" xlink:href=\"#m427981758f\" y=\"207.298133\"/>\r\n     <use style=\"fill:#3d3d3d;stroke:#3d3d3d;stroke-linejoin:miter;\" x=\"374.45\" xlink:href=\"#m427981758f\" y=\"204.029069\"/>\r\n    </g>\r\n   </g>\r\n   <g id=\"line2d_181\">\r\n    <path clip-path=\"url(#pf085621ba3)\" d=\"M 440.097059 271.378226 \r\nL 440.097059 276.316377 \r\n\" style=\"fill:none;stroke:#3d3d3d;stroke-linecap:square;stroke-width:1.5;\"/>\r\n   </g>\r\n   <g id=\"line2d_182\">\r\n    <path clip-path=\"url(#pf085621ba3)\" d=\"M 440.097059 255.661197 \r\nL 440.097059 233.045991 \r\n\" style=\"fill:none;stroke:#3d3d3d;stroke-linecap:square;stroke-width:1.5;\"/>\r\n   </g>\r\n   <g id=\"line2d_183\">\r\n    <path clip-path=\"url(#pf085621ba3)\" d=\"M 426.967647 276.316377 \r\nL 453.226471 276.316377 \r\n\" style=\"fill:none;stroke:#3d3d3d;stroke-linecap:square;stroke-width:1.5;\"/>\r\n   </g>\r\n   <g id=\"line2d_184\">\r\n    <path clip-path=\"url(#pf085621ba3)\" d=\"M 426.967647 233.045991 \r\nL 453.226471 233.045991 \r\n\" style=\"fill:none;stroke:#3d3d3d;stroke-linecap:square;stroke-width:1.5;\"/>\r\n   </g>\r\n   <g id=\"line2d_185\">\r\n    <g clip-path=\"url(#pf085621ba3)\">\r\n     <use style=\"fill:#3d3d3d;stroke:#3d3d3d;stroke-linejoin:miter;\" x=\"440.097059\" xlink:href=\"#m427981758f\" y=\"229.238764\"/>\r\n     <use style=\"fill:#3d3d3d;stroke:#3d3d3d;stroke-linejoin:miter;\" x=\"440.097059\" xlink:href=\"#m427981758f\" y=\"231.854895\"/>\r\n     <use style=\"fill:#3d3d3d;stroke:#3d3d3d;stroke-linejoin:miter;\" x=\"440.097059\" xlink:href=\"#m427981758f\" y=\"230.173096\"/>\r\n     <use style=\"fill:#3d3d3d;stroke:#3d3d3d;stroke-linejoin:miter;\" x=\"440.097059\" xlink:href=\"#m427981758f\" y=\"229.238764\"/>\r\n     <use style=\"fill:#3d3d3d;stroke:#3d3d3d;stroke-linejoin:miter;\" x=\"440.097059\" xlink:href=\"#m427981758f\" y=\"227.743831\"/>\r\n     <use style=\"fill:#3d3d3d;stroke:#3d3d3d;stroke-linejoin:miter;\" x=\"440.097059\" xlink:href=\"#m427981758f\" y=\"232.032341\"/>\r\n     <use style=\"fill:#3d3d3d;stroke:#3d3d3d;stroke-linejoin:miter;\" x=\"440.097059\" xlink:href=\"#m427981758f\" y=\"229.913581\"/>\r\n     <use style=\"fill:#3d3d3d;stroke:#3d3d3d;stroke-linejoin:miter;\" x=\"440.097059\" xlink:href=\"#m427981758f\" y=\"229.383891\"/>\r\n     <use style=\"fill:#3d3d3d;stroke:#3d3d3d;stroke-linejoin:miter;\" x=\"440.097059\" xlink:href=\"#m427981758f\" y=\"230.796398\"/>\r\n     <use style=\"fill:#3d3d3d;stroke:#3d3d3d;stroke-linejoin:miter;\" x=\"440.097059\" xlink:href=\"#m427981758f\" y=\"230.972961\"/>\r\n     <use style=\"fill:#3d3d3d;stroke:#3d3d3d;stroke-linejoin:miter;\" x=\"440.097059\" xlink:href=\"#m427981758f\" y=\"225.867673\"/>\r\n     <use style=\"fill:#3d3d3d;stroke:#3d3d3d;stroke-linejoin:miter;\" x=\"440.097059\" xlink:href=\"#m427981758f\" y=\"228.610579\"/>\r\n     <use style=\"fill:#3d3d3d;stroke:#3d3d3d;stroke-linejoin:miter;\" x=\"440.097059\" xlink:href=\"#m427981758f\" y=\"229.707741\"/>\r\n     <use style=\"fill:#3d3d3d;stroke:#3d3d3d;stroke-linejoin:miter;\" x=\"440.097059\" xlink:href=\"#m427981758f\" y=\"229.34202\"/>\r\n     <use style=\"fill:#3d3d3d;stroke:#3d3d3d;stroke-linejoin:miter;\" x=\"440.097059\" xlink:href=\"#m427981758f\" y=\"226.781975\"/>\r\n     <use style=\"fill:#3d3d3d;stroke:#3d3d3d;stroke-linejoin:miter;\" x=\"440.097059\" xlink:href=\"#m427981758f\" y=\"228.976299\"/>\r\n     <use style=\"fill:#3d3d3d;stroke:#3d3d3d;stroke-linejoin:miter;\" x=\"440.097059\" xlink:href=\"#m427981758f\" y=\"230.256322\"/>\r\n     <use style=\"fill:#3d3d3d;stroke:#3d3d3d;stroke-linejoin:miter;\" x=\"440.097059\" xlink:href=\"#m427981758f\" y=\"230.622043\"/>\r\n     <use style=\"fill:#3d3d3d;stroke:#3d3d3d;stroke-linejoin:miter;\" x=\"440.097059\" xlink:href=\"#m427981758f\" y=\"231.353485\"/>\r\n     <use style=\"fill:#3d3d3d;stroke:#3d3d3d;stroke-linejoin:miter;\" x=\"440.097059\" xlink:href=\"#m427981758f\" y=\"227.879137\"/>\r\n     <use style=\"fill:#3d3d3d;stroke:#3d3d3d;stroke-linejoin:miter;\" x=\"440.097059\" xlink:href=\"#m427981758f\" y=\"226.70845\"/>\r\n     <use style=\"fill:#3d3d3d;stroke:#3d3d3d;stroke-linejoin:miter;\" x=\"440.097059\" xlink:href=\"#m427981758f\" y=\"230.889801\"/>\r\n     <use style=\"fill:#3d3d3d;stroke:#3d3d3d;stroke-linejoin:miter;\" x=\"440.097059\" xlink:href=\"#m427981758f\" y=\"226.526652\"/>\r\n     <use style=\"fill:#3d3d3d;stroke:#3d3d3d;stroke-linejoin:miter;\" x=\"440.097059\" xlink:href=\"#m427981758f\" y=\"224.163279\"/>\r\n     <use style=\"fill:#3d3d3d;stroke:#3d3d3d;stroke-linejoin:miter;\" x=\"440.097059\" xlink:href=\"#m427981758f\" y=\"230.807177\"/>\r\n    </g>\r\n   </g>\r\n   <g id=\"line2d_186\">\r\n    <path clip-path=\"url(#pf085621ba3)\" d=\"M 282.544118 267.955686 \r\nL 335.061765 267.955686 \r\n\" style=\"fill:none;stroke:#3d3d3d;stroke-linecap:square;stroke-width:1.5;\"/>\r\n   </g>\r\n   <g id=\"line2d_187\">\r\n    <path clip-path=\"url(#pf085621ba3)\" d=\"M 348.191176 254.196621 \r\nL 400.708824 254.196621 \r\n\" style=\"fill:none;stroke:#3d3d3d;stroke-linecap:square;stroke-width:1.5;\"/>\r\n   </g>\r\n   <g id=\"line2d_188\">\r\n    <path clip-path=\"url(#pf085621ba3)\" d=\"M 413.838235 266.992327 \r\nL 466.355882 266.992327 \r\n\" style=\"fill:none;stroke:#3d3d3d;stroke-linecap:square;stroke-width:1.5;\"/>\r\n   </g>\r\n   <g id=\"patch_62\">\r\n    <path d=\"M 275.979412 280.336556 \r\nL 275.979412 200.39538 \r\n\" style=\"fill:none;stroke:#000000;stroke-linecap:square;stroke-linejoin:miter;stroke-width:0.8;\"/>\r\n   </g>\r\n   <g id=\"patch_63\">\r\n    <path d=\"M 472.920588 280.336556 \r\nL 472.920588 200.39538 \r\n\" style=\"fill:none;stroke:#000000;stroke-linecap:square;stroke-linejoin:miter;stroke-width:0.8;\"/>\r\n   </g>\r\n   <g id=\"patch_64\">\r\n    <path d=\"M 275.979412 280.336556 \r\nL 472.920588 280.336556 \r\n\" style=\"fill:none;stroke:#000000;stroke-linecap:square;stroke-linejoin:miter;stroke-width:0.8;\"/>\r\n   </g>\r\n   <g id=\"patch_65\">\r\n    <path d=\"M 275.979412 200.39538 \r\nL 472.920588 200.39538 \r\n\" style=\"fill:none;stroke:#000000;stroke-linecap:square;stroke-linejoin:miter;stroke-width:0.8;\"/>\r\n   </g>\r\n  </g>\r\n  <g id=\"axes_9\">\r\n   <g id=\"patch_66\">\r\n    <path d=\"M 512.308824 280.336556 \r\nL 709.25 280.336556 \r\nL 709.25 200.39538 \r\nL 512.308824 200.39538 \r\nz\r\n\" style=\"fill:#ffffff;\"/>\r\n   </g>\r\n   <g id=\"patch_67\">\r\n    <path clip-path=\"url(#p2659f9a5a3)\" d=\"M 518.873529 276.399542 \r\nL 571.391176 276.399542 \r\nL 571.391176 267.850507 \r\nL 518.873529 267.850507 \r\nL 518.873529 276.399542 \r\nz\r\n\" style=\"fill:#3274a1;stroke:#3d3d3d;stroke-linejoin:miter;stroke-width:1.5;\"/>\r\n   </g>\r\n   <g id=\"patch_68\">\r\n    <path clip-path=\"url(#p2659f9a5a3)\" d=\"M 584.520588 267.943078 \r\nL 637.038235 267.943078 \r\nL 637.038235 250.829048 \r\nL 584.520588 250.829048 \r\nL 584.520588 267.943078 \r\nz\r\n\" style=\"fill:#e1812c;stroke:#3d3d3d;stroke-linejoin:miter;stroke-width:1.5;\"/>\r\n   </g>\r\n   <g id=\"patch_69\">\r\n    <path clip-path=\"url(#p2659f9a5a3)\" d=\"M 650.167647 276.360639 \r\nL 702.685294 276.360639 \r\nL 702.685294 265.426844 \r\nL 650.167647 265.426844 \r\nL 650.167647 276.360639 \r\nz\r\n\" style=\"fill:#3a923a;stroke:#3d3d3d;stroke-linejoin:miter;stroke-width:1.5;\"/>\r\n   </g>\r\n   <g id=\"matplotlib.axis_17\">\r\n    <g id=\"xtick_25\">\r\n     <g id=\"line2d_189\">\r\n      <g>\r\n       <use style=\"stroke:#000000;stroke-width:0.8;\" x=\"545.132353\" xlink:href=\"#me00672731d\" y=\"280.336556\"/>\r\n      </g>\r\n     </g>\r\n     <g id=\"text_45\">\r\n      <!-- env_slopesolar -->\r\n      <g transform=\"translate(507.951103 294.934994)scale(0.1 -0.1)\">\r\n       <use xlink:href=\"#DejaVuSans-101\"/>\r\n       <use x=\"61.523438\" xlink:href=\"#DejaVuSans-110\"/>\r\n       <use x=\"124.902344\" xlink:href=\"#DejaVuSans-118\"/>\r\n       <use x=\"184.082031\" xlink:href=\"#DejaVuSans-95\"/>\r\n       <use x=\"234.082031\" xlink:href=\"#DejaVuSans-115\"/>\r\n       <use x=\"286.181641\" xlink:href=\"#DejaVuSans-108\"/>\r\n       <use x=\"313.964844\" xlink:href=\"#DejaVuSans-111\"/>\r\n       <use x=\"375.146484\" xlink:href=\"#DejaVuSans-112\"/>\r\n       <use x=\"438.623047\" xlink:href=\"#DejaVuSans-101\"/>\r\n       <use x=\"500.146484\" xlink:href=\"#DejaVuSans-115\"/>\r\n       <use x=\"552.246094\" xlink:href=\"#DejaVuSans-111\"/>\r\n       <use x=\"613.427734\" xlink:href=\"#DejaVuSans-108\"/>\r\n       <use x=\"641.210938\" xlink:href=\"#DejaVuSans-97\"/>\r\n       <use x=\"702.490234\" xlink:href=\"#DejaVuSans-114\"/>\r\n      </g>\r\n     </g>\r\n    </g>\r\n    <g id=\"xtick_26\">\r\n     <g id=\"line2d_190\">\r\n      <g>\r\n       <use style=\"stroke:#000000;stroke-width:0.8;\" x=\"610.779412\" xlink:href=\"#me00672731d\" y=\"280.336556\"/>\r\n      </g>\r\n     </g>\r\n     <g id=\"text_46\">\r\n      <!-- match_solar -->\r\n      <g transform=\"translate(580.294256 294.934994)scale(0.1 -0.1)\">\r\n       <use xlink:href=\"#DejaVuSans-109\"/>\r\n       <use x=\"97.412109\" xlink:href=\"#DejaVuSans-97\"/>\r\n       <use x=\"158.691406\" xlink:href=\"#DejaVuSans-116\"/>\r\n       <use x=\"197.900391\" xlink:href=\"#DejaVuSans-99\"/>\r\n       <use x=\"252.880859\" xlink:href=\"#DejaVuSans-104\"/>\r\n       <use x=\"316.259766\" xlink:href=\"#DejaVuSans-95\"/>\r\n       <use x=\"366.259766\" xlink:href=\"#DejaVuSans-115\"/>\r\n       <use x=\"418.359375\" xlink:href=\"#DejaVuSans-111\"/>\r\n       <use x=\"479.541016\" xlink:href=\"#DejaVuSans-108\"/>\r\n       <use x=\"507.324219\" xlink:href=\"#DejaVuSans-97\"/>\r\n       <use x=\"568.603516\" xlink:href=\"#DejaVuSans-114\"/>\r\n      </g>\r\n     </g>\r\n    </g>\r\n    <g id=\"xtick_27\">\r\n     <g id=\"line2d_191\">\r\n      <g>\r\n       <use style=\"stroke:#000000;stroke-width:0.8;\" x=\"676.426471\" xlink:href=\"#me00672731d\" y=\"280.336556\"/>\r\n      </g>\r\n     </g>\r\n     <g id=\"text_47\">\r\n      <!-- reset_match -->\r\n      <g transform=\"translate(645.342096 294.934994)scale(0.1 -0.1)\">\r\n       <use xlink:href=\"#DejaVuSans-114\"/>\r\n       <use x=\"41.082031\" xlink:href=\"#DejaVuSans-101\"/>\r\n       <use x=\"102.605469\" xlink:href=\"#DejaVuSans-115\"/>\r\n       <use x=\"154.705078\" xlink:href=\"#DejaVuSans-101\"/>\r\n       <use x=\"216.228516\" xlink:href=\"#DejaVuSans-116\"/>\r\n       <use x=\"255.4375\" xlink:href=\"#DejaVuSans-95\"/>\r\n       <use x=\"305.4375\" xlink:href=\"#DejaVuSans-109\"/>\r\n       <use x=\"402.849609\" xlink:href=\"#DejaVuSans-97\"/>\r\n       <use x=\"464.128906\" xlink:href=\"#DejaVuSans-116\"/>\r\n       <use x=\"503.337891\" xlink:href=\"#DejaVuSans-99\"/>\r\n       <use x=\"558.318359\" xlink:href=\"#DejaVuSans-104\"/>\r\n      </g>\r\n     </g>\r\n    </g>\r\n   </g>\r\n   <g id=\"matplotlib.axis_18\">\r\n    <g id=\"ytick_21\">\r\n     <g id=\"line2d_192\">\r\n      <g>\r\n       <use style=\"stroke:#000000;stroke-width:0.8;\" x=\"512.308824\" xlink:href=\"#m1519f4db37\" y=\"276.702866\"/>\r\n      </g>\r\n     </g>\r\n     <g id=\"text_48\">\r\n      <!-- 0 -->\r\n      <g transform=\"translate(498.946324 280.502085)scale(0.1 -0.1)\">\r\n       <use xlink:href=\"#DejaVuSans-48\"/>\r\n      </g>\r\n     </g>\r\n    </g>\r\n    <g id=\"ytick_22\">\r\n     <g id=\"line2d_193\">\r\n      <g>\r\n       <use style=\"stroke:#000000;stroke-width:0.8;\" x=\"512.308824\" xlink:href=\"#m1519f4db37\" y=\"247.503573\"/>\r\n      </g>\r\n     </g>\r\n     <g id=\"text_49\">\r\n      <!-- 250 -->\r\n      <defs>\r\n       <path d=\"M 19.1875 8.296875 \r\nL 53.609375 8.296875 \r\nL 53.609375 0 \r\nL 7.328125 0 \r\nL 7.328125 8.296875 \r\nQ 12.9375 14.109375 22.625 23.890625 \r\nQ 32.328125 33.6875 34.8125 36.53125 \r\nQ 39.546875 41.84375 41.421875 45.53125 \r\nQ 43.3125 49.21875 43.3125 52.78125 \r\nQ 43.3125 58.59375 39.234375 62.25 \r\nQ 35.15625 65.921875 28.609375 65.921875 \r\nQ 23.96875 65.921875 18.8125 64.3125 \r\nQ 13.671875 62.703125 7.8125 59.421875 \r\nL 7.8125 69.390625 \r\nQ 13.765625 71.78125 18.9375 73 \r\nQ 24.125 74.21875 28.421875 74.21875 \r\nQ 39.75 74.21875 46.484375 68.546875 \r\nQ 53.21875 62.890625 53.21875 53.421875 \r\nQ 53.21875 48.921875 51.53125 44.890625 \r\nQ 49.859375 40.875 45.40625 35.40625 \r\nQ 44.1875 33.984375 37.640625 27.21875 \r\nQ 31.109375 20.453125 19.1875 8.296875 \r\nz\r\n\" id=\"DejaVuSans-50\"/>\r\n      </defs>\r\n      <g transform=\"translate(486.221324 251.302792)scale(0.1 -0.1)\">\r\n       <use xlink:href=\"#DejaVuSans-50\"/>\r\n       <use x=\"63.623047\" xlink:href=\"#DejaVuSans-53\"/>\r\n       <use x=\"127.246094\" xlink:href=\"#DejaVuSans-48\"/>\r\n      </g>\r\n     </g>\r\n    </g>\r\n    <g id=\"ytick_23\">\r\n     <g id=\"line2d_194\">\r\n      <g>\r\n       <use style=\"stroke:#000000;stroke-width:0.8;\" x=\"512.308824\" xlink:href=\"#m1519f4db37\" y=\"218.304279\"/>\r\n      </g>\r\n     </g>\r\n     <g id=\"text_50\">\r\n      <!-- 500 -->\r\n      <g transform=\"translate(486.221324 222.103498)scale(0.1 -0.1)\">\r\n       <use xlink:href=\"#DejaVuSans-53\"/>\r\n       <use x=\"63.623047\" xlink:href=\"#DejaVuSans-48\"/>\r\n       <use x=\"127.246094\" xlink:href=\"#DejaVuSans-48\"/>\r\n      </g>\r\n     </g>\r\n    </g>\r\n   </g>\r\n   <g id=\"line2d_195\">\r\n    <path clip-path=\"url(#p2659f9a5a3)\" d=\"M 545.132353 276.399542 \r\nL 545.132353 276.702866 \r\n\" style=\"fill:none;stroke:#3d3d3d;stroke-linecap:square;stroke-width:1.5;\"/>\r\n   </g>\r\n   <g id=\"line2d_196\">\r\n    <path clip-path=\"url(#p2659f9a5a3)\" d=\"M 545.132353 267.850507 \r\nL 545.132353 255.276509 \r\n\" style=\"fill:none;stroke:#3d3d3d;stroke-linecap:square;stroke-width:1.5;\"/>\r\n   </g>\r\n   <g id=\"line2d_197\">\r\n    <path clip-path=\"url(#p2659f9a5a3)\" d=\"M 532.002941 276.702866 \r\nL 558.261765 276.702866 \r\n\" style=\"fill:none;stroke:#3d3d3d;stroke-linecap:square;stroke-width:1.5;\"/>\r\n   </g>\r\n   <g id=\"line2d_198\">\r\n    <path clip-path=\"url(#p2659f9a5a3)\" d=\"M 532.002941 255.276509 \r\nL 558.261765 255.276509 \r\n\" style=\"fill:none;stroke:#3d3d3d;stroke-linecap:square;stroke-width:1.5;\"/>\r\n   </g>\r\n   <g id=\"line2d_199\">\r\n    <g clip-path=\"url(#p2659f9a5a3)\">\r\n     <use style=\"fill:#3d3d3d;stroke:#3d3d3d;stroke-linejoin:miter;\" x=\"545.132353\" xlink:href=\"#m427981758f\" y=\"245.081301\"/>\r\n     <use style=\"fill:#3d3d3d;stroke:#3d3d3d;stroke-linejoin:miter;\" x=\"545.132353\" xlink:href=\"#m427981758f\" y=\"243.796097\"/>\r\n     <use style=\"fill:#3d3d3d;stroke:#3d3d3d;stroke-linejoin:miter;\" x=\"545.132353\" xlink:href=\"#m427981758f\" y=\"244.343278\"/>\r\n     <use style=\"fill:#3d3d3d;stroke:#3d3d3d;stroke-linejoin:miter;\" x=\"545.132353\" xlink:href=\"#m427981758f\" y=\"244.845603\"/>\r\n     <use style=\"fill:#3d3d3d;stroke:#3d3d3d;stroke-linejoin:miter;\" x=\"545.132353\" xlink:href=\"#m427981758f\" y=\"240.557478\"/>\r\n     <use style=\"fill:#3d3d3d;stroke:#3d3d3d;stroke-linejoin:miter;\" x=\"545.132353\" xlink:href=\"#m427981758f\" y=\"247.95722\"/>\r\n     <use style=\"fill:#3d3d3d;stroke:#3d3d3d;stroke-linejoin:miter;\" x=\"545.132353\" xlink:href=\"#m427981758f\" y=\"252.192387\"/>\r\n     <use style=\"fill:#3d3d3d;stroke:#3d3d3d;stroke-linejoin:miter;\" x=\"545.132353\" xlink:href=\"#m427981758f\" y=\"252.901634\"/>\r\n     <use style=\"fill:#3d3d3d;stroke:#3d3d3d;stroke-linejoin:miter;\" x=\"545.132353\" xlink:href=\"#m427981758f\" y=\"251.865113\"/>\r\n     <use style=\"fill:#3d3d3d;stroke:#3d3d3d;stroke-linejoin:miter;\" x=\"545.132353\" xlink:href=\"#m427981758f\" y=\"251.302818\"/>\r\n     <use style=\"fill:#3d3d3d;stroke:#3d3d3d;stroke-linejoin:miter;\" x=\"545.132353\" xlink:href=\"#m427981758f\" y=\"253.707171\"/>\r\n     <use style=\"fill:#3d3d3d;stroke:#3d3d3d;stroke-linejoin:miter;\" x=\"545.132353\" xlink:href=\"#m427981758f\" y=\"254.951895\"/>\r\n     <use style=\"fill:#3d3d3d;stroke:#3d3d3d;stroke-linejoin:miter;\" x=\"545.132353\" xlink:href=\"#m427981758f\" y=\"252.94799\"/>\r\n     <use style=\"fill:#3d3d3d;stroke:#3d3d3d;stroke-linejoin:miter;\" x=\"545.132353\" xlink:href=\"#m427981758f\" y=\"246.92793\"/>\r\n     <use style=\"fill:#3d3d3d;stroke:#3d3d3d;stroke-linejoin:miter;\" x=\"545.132353\" xlink:href=\"#m427981758f\" y=\"250.101476\"/>\r\n     <use style=\"fill:#3d3d3d;stroke:#3d3d3d;stroke-linejoin:miter;\" x=\"545.132353\" xlink:href=\"#m427981758f\" y=\"251.593142\"/>\r\n     <use style=\"fill:#3d3d3d;stroke:#3d3d3d;stroke-linejoin:miter;\" x=\"545.132353\" xlink:href=\"#m427981758f\" y=\"236.029085\"/>\r\n     <use style=\"fill:#3d3d3d;stroke:#3d3d3d;stroke-linejoin:miter;\" x=\"545.132353\" xlink:href=\"#m427981758f\" y=\"243.105325\"/>\r\n     <use style=\"fill:#3d3d3d;stroke:#3d3d3d;stroke-linejoin:miter;\" x=\"545.132353\" xlink:href=\"#m427981758f\" y=\"234.177015\"/>\r\n     <use style=\"fill:#3d3d3d;stroke:#3d3d3d;stroke-linejoin:miter;\" x=\"545.132353\" xlink:href=\"#m427981758f\" y=\"236.704066\"/>\r\n     <use style=\"fill:#3d3d3d;stroke:#3d3d3d;stroke-linejoin:miter;\" x=\"545.132353\" xlink:href=\"#m427981758f\" y=\"235.641043\"/>\r\n     <use style=\"fill:#3d3d3d;stroke:#3d3d3d;stroke-linejoin:miter;\" x=\"545.132353\" xlink:href=\"#m427981758f\" y=\"245.274415\"/>\r\n     <use style=\"fill:#3d3d3d;stroke:#3d3d3d;stroke-linejoin:miter;\" x=\"545.132353\" xlink:href=\"#m427981758f\" y=\"229.518501\"/>\r\n     <use style=\"fill:#3d3d3d;stroke:#3d3d3d;stroke-linejoin:miter;\" x=\"545.132353\" xlink:href=\"#m427981758f\" y=\"237.205399\"/>\r\n     <use style=\"fill:#3d3d3d;stroke:#3d3d3d;stroke-linejoin:miter;\" x=\"545.132353\" xlink:href=\"#m427981758f\" y=\"252.068674\"/>\r\n     <use style=\"fill:#3d3d3d;stroke:#3d3d3d;stroke-linejoin:miter;\" x=\"545.132353\" xlink:href=\"#m427981758f\" y=\"241.757152\"/>\r\n     <use style=\"fill:#3d3d3d;stroke:#3d3d3d;stroke-linejoin:miter;\" x=\"545.132353\" xlink:href=\"#m427981758f\" y=\"247.104093\"/>\r\n     <use style=\"fill:#3d3d3d;stroke:#3d3d3d;stroke-linejoin:miter;\" x=\"545.132353\" xlink:href=\"#m427981758f\" y=\"241.254078\"/>\r\n     <use style=\"fill:#3d3d3d;stroke:#3d3d3d;stroke-linejoin:miter;\" x=\"545.132353\" xlink:href=\"#m427981758f\" y=\"235.786616\"/>\r\n     <use style=\"fill:#3d3d3d;stroke:#3d3d3d;stroke-linejoin:miter;\" x=\"545.132353\" xlink:href=\"#m427981758f\" y=\"246.42737\"/>\r\n     <use style=\"fill:#3d3d3d;stroke:#3d3d3d;stroke-linejoin:miter;\" x=\"545.132353\" xlink:href=\"#m427981758f\" y=\"239.238057\"/>\r\n     <use style=\"fill:#3d3d3d;stroke:#3d3d3d;stroke-linejoin:miter;\" x=\"545.132353\" xlink:href=\"#m427981758f\" y=\"234.250431\"/>\r\n     <use style=\"fill:#3d3d3d;stroke:#3d3d3d;stroke-linejoin:miter;\" x=\"545.132353\" xlink:href=\"#m427981758f\" y=\"249.032092\"/>\r\n     <use style=\"fill:#3d3d3d;stroke:#3d3d3d;stroke-linejoin:miter;\" x=\"545.132353\" xlink:href=\"#m427981758f\" y=\"235.796772\"/>\r\n     <use style=\"fill:#3d3d3d;stroke:#3d3d3d;stroke-linejoin:miter;\" x=\"545.132353\" xlink:href=\"#m427981758f\" y=\"238.22269\"/>\r\n     <use style=\"fill:#3d3d3d;stroke:#3d3d3d;stroke-linejoin:miter;\" x=\"545.132353\" xlink:href=\"#m427981758f\" y=\"247.561971\"/>\r\n     <use style=\"fill:#3d3d3d;stroke:#3d3d3d;stroke-linejoin:miter;\" x=\"545.132353\" xlink:href=\"#m427981758f\" y=\"234.461222\"/>\r\n     <use style=\"fill:#3d3d3d;stroke:#3d3d3d;stroke-linejoin:miter;\" x=\"545.132353\" xlink:href=\"#m427981758f\" y=\"226.957003\"/>\r\n     <use style=\"fill:#3d3d3d;stroke:#3d3d3d;stroke-linejoin:miter;\" x=\"545.132353\" xlink:href=\"#m427981758f\" y=\"247.415975\"/>\r\n     <use style=\"fill:#3d3d3d;stroke:#3d3d3d;stroke-linejoin:miter;\" x=\"545.132353\" xlink:href=\"#m427981758f\" y=\"253.645158\"/>\r\n     <use style=\"fill:#3d3d3d;stroke:#3d3d3d;stroke-linejoin:miter;\" x=\"545.132353\" xlink:href=\"#m427981758f\" y=\"252.516867\"/>\r\n     <use style=\"fill:#3d3d3d;stroke:#3d3d3d;stroke-linejoin:miter;\" x=\"545.132353\" xlink:href=\"#m427981758f\" y=\"239.210974\"/>\r\n     <use style=\"fill:#3d3d3d;stroke:#3d3d3d;stroke-linejoin:miter;\" x=\"545.132353\" xlink:href=\"#m427981758f\" y=\"253.21765\"/>\r\n     <use style=\"fill:#3d3d3d;stroke:#3d3d3d;stroke-linejoin:miter;\" x=\"545.132353\" xlink:href=\"#m427981758f\" y=\"252.817844\"/>\r\n     <use style=\"fill:#3d3d3d;stroke:#3d3d3d;stroke-linejoin:miter;\" x=\"545.132353\" xlink:href=\"#m427981758f\" y=\"245.203567\"/>\r\n     <use style=\"fill:#3d3d3d;stroke:#3d3d3d;stroke-linejoin:miter;\" x=\"545.132353\" xlink:href=\"#m427981758f\" y=\"251.341194\"/>\r\n     <use style=\"fill:#3d3d3d;stroke:#3d3d3d;stroke-linejoin:miter;\" x=\"545.132353\" xlink:href=\"#m427981758f\" y=\"250.121776\"/>\r\n     <use style=\"fill:#3d3d3d;stroke:#3d3d3d;stroke-linejoin:miter;\" x=\"545.132353\" xlink:href=\"#m427981758f\" y=\"252.734418\"/>\r\n     <use style=\"fill:#3d3d3d;stroke:#3d3d3d;stroke-linejoin:miter;\" x=\"545.132353\" xlink:href=\"#m427981758f\" y=\"254.592263\"/>\r\n    </g>\r\n   </g>\r\n   <g id=\"line2d_200\">\r\n    <path clip-path=\"url(#p2659f9a5a3)\" d=\"M 610.779412 267.943078 \r\nL 610.779412 274.43181 \r\n\" style=\"fill:none;stroke:#3d3d3d;stroke-linecap:square;stroke-width:1.5;\"/>\r\n   </g>\r\n   <g id=\"line2d_201\">\r\n    <path clip-path=\"url(#p2659f9a5a3)\" d=\"M 610.779412 250.829048 \r\nL 610.779412 226.090758 \r\n\" style=\"fill:none;stroke:#3d3d3d;stroke-linecap:square;stroke-width:1.5;\"/>\r\n   </g>\r\n   <g id=\"line2d_202\">\r\n    <path clip-path=\"url(#p2659f9a5a3)\" d=\"M 597.65 274.43181 \r\nL 623.908824 274.43181 \r\n\" style=\"fill:none;stroke:#3d3d3d;stroke-linecap:square;stroke-width:1.5;\"/>\r\n   </g>\r\n   <g id=\"line2d_203\">\r\n    <path clip-path=\"url(#p2659f9a5a3)\" d=\"M 597.65 226.090758 \r\nL 623.908824 226.090758 \r\n\" style=\"fill:none;stroke:#3d3d3d;stroke-linecap:square;stroke-width:1.5;\"/>\r\n   </g>\r\n   <g id=\"line2d_204\">\r\n    <g clip-path=\"url(#p2659f9a5a3)\">\r\n     <use style=\"fill:#3d3d3d;stroke:#3d3d3d;stroke-linejoin:miter;\" x=\"610.779412\" xlink:href=\"#m427981758f\" y=\"220.250899\"/>\r\n     <use style=\"fill:#3d3d3d;stroke:#3d3d3d;stroke-linejoin:miter;\" x=\"610.779412\" xlink:href=\"#m427981758f\" y=\"224.144138\"/>\r\n     <use style=\"fill:#3d3d3d;stroke:#3d3d3d;stroke-linejoin:miter;\" x=\"610.779412\" xlink:href=\"#m427981758f\" y=\"212.464421\"/>\r\n     <use style=\"fill:#3d3d3d;stroke:#3d3d3d;stroke-linejoin:miter;\" x=\"610.779412\" xlink:href=\"#m427981758f\" y=\"210.193365\"/>\r\n     <use style=\"fill:#3d3d3d;stroke:#3d3d3d;stroke-linejoin:miter;\" x=\"610.779412\" xlink:href=\"#m427981758f\" y=\"220.575336\"/>\r\n     <use style=\"fill:#3d3d3d;stroke:#3d3d3d;stroke-linejoin:miter;\" x=\"610.779412\" xlink:href=\"#m427981758f\" y=\"211.815548\"/>\r\n     <use style=\"fill:#3d3d3d;stroke:#3d3d3d;stroke-linejoin:miter;\" x=\"610.779412\" xlink:href=\"#m427981758f\" y=\"206.948999\"/>\r\n     <use style=\"fill:#3d3d3d;stroke:#3d3d3d;stroke-linejoin:miter;\" x=\"610.779412\" xlink:href=\"#m427981758f\" y=\"215.38435\"/>\r\n     <use style=\"fill:#3d3d3d;stroke:#3d3d3d;stroke-linejoin:miter;\" x=\"610.779412\" xlink:href=\"#m427981758f\" y=\"223.170828\"/>\r\n     <use style=\"fill:#3d3d3d;stroke:#3d3d3d;stroke-linejoin:miter;\" x=\"610.779412\" xlink:href=\"#m427981758f\" y=\"218.953153\"/>\r\n     <use style=\"fill:#3d3d3d;stroke:#3d3d3d;stroke-linejoin:miter;\" x=\"610.779412\" xlink:href=\"#m427981758f\" y=\"211.815548\"/>\r\n     <use style=\"fill:#3d3d3d;stroke:#3d3d3d;stroke-linejoin:miter;\" x=\"610.779412\" xlink:href=\"#m427981758f\" y=\"224.793011\"/>\r\n     <use style=\"fill:#3d3d3d;stroke:#3d3d3d;stroke-linejoin:miter;\" x=\"610.779412\" xlink:href=\"#m427981758f\" y=\"214.41104\"/>\r\n     <use style=\"fill:#3d3d3d;stroke:#3d3d3d;stroke-linejoin:miter;\" x=\"610.779412\" xlink:href=\"#m427981758f\" y=\"211.815548\"/>\r\n     <use style=\"fill:#3d3d3d;stroke:#3d3d3d;stroke-linejoin:miter;\" x=\"610.779412\" xlink:href=\"#m427981758f\" y=\"211.166674\"/>\r\n     <use style=\"fill:#3d3d3d;stroke:#3d3d3d;stroke-linejoin:miter;\" x=\"610.779412\" xlink:href=\"#m427981758f\" y=\"214.735477\"/>\r\n     <use style=\"fill:#3d3d3d;stroke:#3d3d3d;stroke-linejoin:miter;\" x=\"610.779412\" xlink:href=\"#m427981758f\" y=\"211.491111\"/>\r\n     <use style=\"fill:#3d3d3d;stroke:#3d3d3d;stroke-linejoin:miter;\" x=\"610.779412\" xlink:href=\"#m427981758f\" y=\"204.029069\"/>\r\n     <use style=\"fill:#3d3d3d;stroke:#3d3d3d;stroke-linejoin:miter;\" x=\"610.779412\" xlink:href=\"#m427981758f\" y=\"218.304279\"/>\r\n     <use style=\"fill:#3d3d3d;stroke:#3d3d3d;stroke-linejoin:miter;\" x=\"610.779412\" xlink:href=\"#m427981758f\" y=\"222.846392\"/>\r\n    </g>\r\n   </g>\r\n   <g id=\"line2d_205\">\r\n    <path clip-path=\"url(#p2659f9a5a3)\" d=\"M 676.426471 276.360639 \r\nL 676.426471 276.668445 \r\n\" style=\"fill:none;stroke:#3d3d3d;stroke-linecap:square;stroke-width:1.5;\"/>\r\n   </g>\r\n   <g id=\"line2d_206\">\r\n    <path clip-path=\"url(#p2659f9a5a3)\" d=\"M 676.426471 265.426844 \r\nL 676.426471 249.121601 \r\n\" style=\"fill:none;stroke:#3d3d3d;stroke-linecap:square;stroke-width:1.5;\"/>\r\n   </g>\r\n   <g id=\"line2d_207\">\r\n    <path clip-path=\"url(#p2659f9a5a3)\" d=\"M 663.297059 276.668445 \r\nL 689.555882 276.668445 \r\n\" style=\"fill:none;stroke:#3d3d3d;stroke-linecap:square;stroke-width:1.5;\"/>\r\n   </g>\r\n   <g id=\"line2d_208\">\r\n    <path clip-path=\"url(#p2659f9a5a3)\" d=\"M 663.297059 249.121601 \r\nL 689.555882 249.121601 \r\n\" style=\"fill:none;stroke:#3d3d3d;stroke-linecap:square;stroke-width:1.5;\"/>\r\n   </g>\r\n   <g id=\"line2d_209\">\r\n    <g clip-path=\"url(#p2659f9a5a3)\">\r\n     <use style=\"fill:#3d3d3d;stroke:#3d3d3d;stroke-linejoin:miter;\" x=\"676.426471\" xlink:href=\"#m427981758f\" y=\"243.0202\"/>\r\n     <use style=\"fill:#3d3d3d;stroke:#3d3d3d;stroke-linejoin:miter;\" x=\"676.426471\" xlink:href=\"#m427981758f\" y=\"245.343142\"/>\r\n     <use style=\"fill:#3d3d3d;stroke:#3d3d3d;stroke-linejoin:miter;\" x=\"676.426471\" xlink:href=\"#m427981758f\" y=\"247.666085\"/>\r\n     <use style=\"fill:#3d3d3d;stroke:#3d3d3d;stroke-linejoin:miter;\" x=\"676.426471\" xlink:href=\"#m427981758f\" y=\"247.666085\"/>\r\n     <use style=\"fill:#3d3d3d;stroke:#3d3d3d;stroke-linejoin:miter;\" x=\"676.426471\" xlink:href=\"#m427981758f\" y=\"248.944787\"/>\r\n     <use style=\"fill:#3d3d3d;stroke:#3d3d3d;stroke-linejoin:miter;\" x=\"676.426471\" xlink:href=\"#m427981758f\" y=\"237.10681\"/>\r\n     <use style=\"fill:#3d3d3d;stroke:#3d3d3d;stroke-linejoin:miter;\" x=\"676.426471\" xlink:href=\"#m427981758f\" y=\"235.70695\"/>\r\n     <use style=\"fill:#3d3d3d;stroke:#3d3d3d;stroke-linejoin:miter;\" x=\"676.426471\" xlink:href=\"#m427981758f\" y=\"242.106312\"/>\r\n     <use style=\"fill:#3d3d3d;stroke:#3d3d3d;stroke-linejoin:miter;\" x=\"676.426471\" xlink:href=\"#m427981758f\" y=\"236.70685\"/>\r\n     <use style=\"fill:#3d3d3d;stroke:#3d3d3d;stroke-linejoin:miter;\" x=\"676.426471\" xlink:href=\"#m427981758f\" y=\"232.573955\"/>\r\n     <use style=\"fill:#3d3d3d;stroke:#3d3d3d;stroke-linejoin:miter;\" x=\"676.426471\" xlink:href=\"#m427981758f\" y=\"237.910475\"/>\r\n     <use style=\"fill:#3d3d3d;stroke:#3d3d3d;stroke-linejoin:miter;\" x=\"676.426471\" xlink:href=\"#m427981758f\" y=\"242.836493\"/>\r\n     <use style=\"fill:#3d3d3d;stroke:#3d3d3d;stroke-linejoin:miter;\" x=\"676.426471\" xlink:href=\"#m427981758f\" y=\"240.168233\"/>\r\n     <use style=\"fill:#3d3d3d;stroke:#3d3d3d;stroke-linejoin:miter;\" x=\"676.426471\" xlink:href=\"#m427981758f\" y=\"235.652717\"/>\r\n     <use style=\"fill:#3d3d3d;stroke:#3d3d3d;stroke-linejoin:miter;\" x=\"676.426471\" xlink:href=\"#m427981758f\" y=\"243.862746\"/>\r\n     <use style=\"fill:#3d3d3d;stroke:#3d3d3d;stroke-linejoin:miter;\" x=\"676.426471\" xlink:href=\"#m427981758f\" y=\"237.294722\"/>\r\n     <use style=\"fill:#3d3d3d;stroke:#3d3d3d;stroke-linejoin:miter;\" x=\"676.426471\" xlink:href=\"#m427981758f\" y=\"235.652717\"/>\r\n     <use style=\"fill:#3d3d3d;stroke:#3d3d3d;stroke-linejoin:miter;\" x=\"676.426471\" xlink:href=\"#m427981758f\" y=\"244.683749\"/>\r\n     <use style=\"fill:#3d3d3d;stroke:#3d3d3d;stroke-linejoin:miter;\" x=\"676.426471\" xlink:href=\"#m427981758f\" y=\"235.242215\"/>\r\n     <use style=\"fill:#3d3d3d;stroke:#3d3d3d;stroke-linejoin:miter;\" x=\"676.426471\" xlink:href=\"#m427981758f\" y=\"237.499973\"/>\r\n     <use style=\"fill:#3d3d3d;stroke:#3d3d3d;stroke-linejoin:miter;\" x=\"676.426471\" xlink:href=\"#m427981758f\" y=\"238.731399\"/>\r\n     <use style=\"fill:#3d3d3d;stroke:#3d3d3d;stroke-linejoin:miter;\" x=\"676.426471\" xlink:href=\"#m427981758f\" y=\"234.386405\"/>\r\n     <use style=\"fill:#3d3d3d;stroke:#3d3d3d;stroke-linejoin:miter;\" x=\"676.426471\" xlink:href=\"#m427981758f\" y=\"241.858729\"/>\r\n    </g>\r\n   </g>\r\n   <g id=\"line2d_210\">\r\n    <path clip-path=\"url(#p2659f9a5a3)\" d=\"M 518.873529 274.669631 \r\nL 571.391176 274.669631 \r\n\" style=\"fill:none;stroke:#3d3d3d;stroke-linecap:square;stroke-width:1.5;\"/>\r\n   </g>\r\n   <g id=\"line2d_211\">\r\n    <path clip-path=\"url(#p2659f9a5a3)\" d=\"M 584.520588 262.589874 \r\nL 637.038235 262.589874 \r\n\" style=\"fill:none;stroke:#3d3d3d;stroke-linecap:square;stroke-width:1.5;\"/>\r\n   </g>\r\n   <g id=\"line2d_212\">\r\n    <path clip-path=\"url(#p2659f9a5a3)\" d=\"M 650.167647 273.971383 \r\nL 702.685294 273.971383 \r\n\" style=\"fill:none;stroke:#3d3d3d;stroke-linecap:square;stroke-width:1.5;\"/>\r\n   </g>\r\n   <g id=\"patch_70\">\r\n    <path d=\"M 512.308824 280.336556 \r\nL 512.308824 200.39538 \r\n\" style=\"fill:none;stroke:#000000;stroke-linecap:square;stroke-linejoin:miter;stroke-width:0.8;\"/>\r\n   </g>\r\n   <g id=\"patch_71\">\r\n    <path d=\"M 709.25 280.336556 \r\nL 709.25 200.39538 \r\n\" style=\"fill:none;stroke:#000000;stroke-linecap:square;stroke-linejoin:miter;stroke-width:0.8;\"/>\r\n   </g>\r\n   <g id=\"patch_72\">\r\n    <path d=\"M 512.308824 280.336556 \r\nL 709.25 280.336556 \r\n\" style=\"fill:none;stroke:#000000;stroke-linecap:square;stroke-linejoin:miter;stroke-width:0.8;\"/>\r\n   </g>\r\n   <g id=\"patch_73\">\r\n    <path d=\"M 512.308824 200.39538 \r\nL 709.25 200.39538 \r\n\" style=\"fill:none;stroke:#000000;stroke-linecap:square;stroke-linejoin:miter;stroke-width:0.8;\"/>\r\n   </g>\r\n  </g>\r\n </g>\r\n <defs>\r\n  <clipPath id=\"p4bbf6a1f69\">\r\n   <rect height=\"79.941176\" width=\"196.941176\" x=\"39.65\" y=\"8.536556\"/>\r\n  </clipPath>\r\n  <clipPath id=\"p76cd1ec482\">\r\n   <rect height=\"79.941176\" width=\"196.941176\" x=\"275.979412\" y=\"8.536556\"/>\r\n  </clipPath>\r\n  <clipPath id=\"pa9b0e02a2b\">\r\n   <rect height=\"79.941176\" width=\"196.941176\" x=\"512.308824\" y=\"8.536556\"/>\r\n  </clipPath>\r\n  <clipPath id=\"p8e955a31bc\">\r\n   <rect height=\"79.941176\" width=\"196.941176\" x=\"39.65\" y=\"104.465968\"/>\r\n  </clipPath>\r\n  <clipPath id=\"p09dcedb431\">\r\n   <rect height=\"79.941176\" width=\"196.941176\" x=\"275.979412\" y=\"104.465968\"/>\r\n  </clipPath>\r\n  <clipPath id=\"pa488bfb9e9\">\r\n   <rect height=\"79.941176\" width=\"196.941176\" x=\"512.308824\" y=\"104.465968\"/>\r\n  </clipPath>\r\n  <clipPath id=\"p1c5bb98d66\">\r\n   <rect height=\"79.941176\" width=\"196.941176\" x=\"39.65\" y=\"200.39538\"/>\r\n  </clipPath>\r\n  <clipPath id=\"pf085621ba3\">\r\n   <rect height=\"79.941176\" width=\"196.941176\" x=\"275.979412\" y=\"200.39538\"/>\r\n  </clipPath>\r\n  <clipPath id=\"p2659f9a5a3\">\r\n   <rect height=\"79.941176\" width=\"196.941176\" x=\"512.308824\" y=\"200.39538\"/>\r\n  </clipPath>\r\n </defs>\r\n</svg>\r\n",
      "image/png": "[encoded data removed]"
     },
     "metadata": {
      "needs_background": "light"
     }
    }
   ],
   "source": [
    "a, b, c, d, e, f, g, h, i = group_reset(a), group_reset(b), group_reset(c), group_reset(d), group_reset(e), group_reset(f), group_reset(g), group_reset(h), group_reset(i)\n",
    "\n",
    "boxplot1()"
   ]
  },
  {
   "source": [
    "    기업데이터 일사량과, 발전소 별, 시간 별 보정치를 추가한 reset_match \n",
    "    \n",
    "    기업데이터 일사량과 보정치를 추가한 reset_match MAPE"
   ],
   "cell_type": "markdown",
   "metadata": {}
  },
  {
   "cell_type": "code",
   "execution_count": 151,
   "metadata": {},
   "outputs": [
    {
     "output_type": "stream",
     "name": "stdout",
     "text": [
      "env_slopesolar ,  reset_match  MAPE :  30.379033784826298\n"
     ]
    }
   ],
   "source": [
    "reset_match_all = pd.concat([a, b, c, d, e, f, g, h, i])\n",
    "mean_absolute_percentage_error(\"env_slopesolar\", \"reset_match\", reset_match_all)\n",
    "# reset_match_all"
   ]
  },
  {
   "source": [
    "\n",
    "    reset_match 전 보다 5배가량 MAPE 감소 확인 ( 300 -> 30 )\n",
    "    => reset_match 한 데이터를 일 별로 묶어 가장 이상적인 환경의 데이터 셋 확보"
   ],
   "cell_type": "markdown",
   "metadata": {}
  },
  {
   "cell_type": "code",
   "execution_count": 173,
   "metadata": {},
   "outputs": [
    {
     "output_type": "stream",
     "name": "stdout",
     "text": [
      "env_slopesolar ,  reset_match  MAPE :  7.1951303768820445\n"
     ]
    },
    {
     "output_type": "execute_result",
     "data": {
      "text/plain": [
       "            env_slopesolar  env_levelsolar  match_solar  reset_match  \\\n",
       "2018-10-22     1241.406625     1441.465424  1655.555556  1343.782008   \n",
       "2018-10-23     1878.443064     2288.875569  1952.777778  1748.395500   \n",
       "2018-10-24      504.979266      909.124224   977.777778   587.399248   \n",
       "2018-10-25     2963.771843     3909.373706  2891.666667  2759.806976   \n",
       "2018-10-26      272.495031      267.882402   530.555556   331.631734   \n",
       "\n",
       "                   watt  \n",
       "2018-10-22   863.328033  \n",
       "2018-10-23  1370.786517  \n",
       "2018-10-24   304.525439  \n",
       "2018-10-25  2125.209641  \n",
       "2018-10-26   202.993101  "
      ],
      "text/html": "<div>\n<style scoped>\n    .dataframe tbody tr th:only-of-type {\n        vertical-align: middle;\n    }\n\n    .dataframe tbody tr th {\n        vertical-align: top;\n    }\n\n    .dataframe thead th {\n        text-align: right;\n    }\n</style>\n<table border=\"1\" class=\"dataframe\">\n  <thead>\n    <tr style=\"text-align: right;\">\n      <th></th>\n      <th>env_slopesolar</th>\n      <th>env_levelsolar</th>\n      <th>match_solar</th>\n      <th>reset_match</th>\n      <th>watt</th>\n    </tr>\n  </thead>\n  <tbody>\n    <tr>\n      <th>2018-10-22</th>\n      <td>1241.406625</td>\n      <td>1441.465424</td>\n      <td>1655.555556</td>\n      <td>1343.782008</td>\n      <td>863.328033</td>\n    </tr>\n    <tr>\n      <th>2018-10-23</th>\n      <td>1878.443064</td>\n      <td>2288.875569</td>\n      <td>1952.777778</td>\n      <td>1748.395500</td>\n      <td>1370.786517</td>\n    </tr>\n    <tr>\n      <th>2018-10-24</th>\n      <td>504.979266</td>\n      <td>909.124224</td>\n      <td>977.777778</td>\n      <td>587.399248</td>\n      <td>304.525439</td>\n    </tr>\n    <tr>\n      <th>2018-10-25</th>\n      <td>2963.771843</td>\n      <td>3909.373706</td>\n      <td>2891.666667</td>\n      <td>2759.806976</td>\n      <td>2125.209641</td>\n    </tr>\n    <tr>\n      <th>2018-10-26</th>\n      <td>272.495031</td>\n      <td>267.882402</td>\n      <td>530.555556</td>\n      <td>331.631734</td>\n      <td>202.993101</td>\n    </tr>\n  </tbody>\n</table>\n</div>"
     },
     "metadata": {},
     "execution_count": 173
    }
   ],
   "source": [
    "# reset_match_all_day = reset_match_all.resample('D').sum()\n",
    "date_list = pd.to_datetime(reset_match_all.index)\n",
    "reset_match_to_day = reset_match_all[[\"env_slopesolar\",\"env_levelsolar\",\"match_solar\", \"reset_match\", \"watt\"]]\n",
    "reset_match_to_day.index = date_list\n",
    "\n",
    "reset_match_to_day = reset_match_to_day.resample('D').sum()\n",
    "\n",
    "reset_match_to_day\n",
    "mean_absolute_percentage_error(\"env_slopesolar\", \"reset_match\", reset_match_to_day) \n",
    "reset_match_to_day.head(5) "
   ]
  },
  {
   "source": [
    "        보정치를 준 reset_match 와 env_slopesolar를 일 단위로 묶어서 MAPE를 계산,  7.19 결과를 얻음\n",
    "\n",
    "        즉 보정치를 통하여 경사각에 따른 일사량 차이와 각 발전소 센서의 민감도에 따른 일사량 차이를 함께 완화 시킬 수 있다.\n",
    "        \n",
    "        banpo1  -  env_slopesolar , reset_match  :  7.1951303768820445\n",
    "        newrec1  -  env_slopesolar , reset_match  :  18.005411740639172\n",
    "        lh  -  env_slopesolar , reset_match  :  8.849778164945214\n",
    "        ongok  -  env_slopesolar , reset_match  :  11.82214185728767\n",
    "\n",
    "        banpo1  -  env_slopesolar , match_solar  :  9.295852296152567\n",
    "        newrec1  -  env_slopesolar , match_solar  :  20.575481219383054\n",
    "        lh  -  env_slopesolar , match_solar  :  24.56966448174712\n",
    "        ongok  -  env_slopesolar , match_solar  :  38.63580674696487\n",
    "\n",
    "        => 각 데이터의 MAPE\n",
    "\n",
    "\n",
    "        이후 모델링 훈련 후 내일 기상예보에 관한 예측을 할 때 \n",
    "        기상청의 일사량 데이터(일조(MJ/m2)를 단위변환 후(Match_solar) 보정치를 주어(reset_match) 보정된 값으로 발전량 예측"
   ],
   "cell_type": "markdown",
   "metadata": {}
  },
  {
   "source": [
    "### 5. Data crawling\n",
    "\n",
    "1) 목적 :\n",
    "- 기업 발전량 데이터와 기상청 날씨 데이터를 결합하여 날씨데이터 기반으로 발전량 예측하기 위한 데이터 크롤링\n",
    "- 공공데이터를 통하여 최대한 기업과 인접한 지역의 날씨데이터와 결합\n",
    "\n",
    "\n",
    "2) 데이터 : \n",
    " - 기상청 날씨 데이터 컬럼\n",
    " \n",
    "        \"최저기온(°C)\"\n",
    "        \"최고기온(°C)\"\n",
    "        \"일강수량(mm)\"\n",
    "        \"평균 풍속(m/s)\"\n",
    "        \"평균 상대습도(%)\"\n",
    "        \"가조시간(hr)\" : 태양이 떠있는 시간 -> 계절에 따라 달라지기 때문에 계절성을 반영하기 위해 추가\n",
    "        \"평균 전운량(1/10)\" : 하늘을 덮고 있는 구름의 양의 비율 1~10까지 numeric 형태로 기록 \n",
    "        \"평균 일사량(MJ/m^2) : 기업데이터의 W/m^2 형태로 변환하기 위하여 10^6 / 3600 로 단위 변환 -> match_solar 로 컬럼명 지정\n",
    "      \n",
    "- 출처 : https://data.kma.go.kr/data/grnd/selectAsosRltmList.do?pgmNo=36\n",
    "\n",
    "\n",
    "3) 예측 데이터\n",
    " - 기상청 날씨데이터 사용\n",
    " \n",
    "       :  https://www.weather.com/ko-KR/weather/today\n",
    "       :  https://www.weather.go.kr\n",
    "\n",
    " - 각 지역별 예측 발전량 사용\n",
    " \n",
    "       :  https://bd.kma.go.kr/kma2020/svc/main.do\n"
   ],
   "cell_type": "markdown",
   "metadata": {}
  },
  {
   "source": [
    "### 6. data preprocessing, make data set \n",
    "    - 기업데이터에 인접한 지역의 기상데이터를 가져와 데이터셋 만듬\n",
    "\n",
    "\n"
   ],
   "cell_type": "markdown",
   "metadata": {}
  },
  {
   "cell_type": "code",
   "execution_count": 153,
   "metadata": {},
   "outputs": [
    {
     "output_type": "execute_result",
     "data": {
      "text/plain": [
       "   최저기온  최고기온  일강수량  평균 풍속  평균 상대습도  가조시간  평균 전운량  env_slopesolar  \\\n",
       "0   8.8  20.6   0.0    1.0     50.0  11.0     5.3     1241.406625   \n",
       "1   9.8  16.9   5.0    1.1     75.1  11.0     5.4     1878.443064   \n",
       "2   7.6  18.7   0.0    1.3     66.0  10.9     0.5      504.979266   \n",
       "3   7.0  21.2   0.0    0.9     55.5  10.9     4.0     2963.771843   \n",
       "4   9.9  14.7  11.0    1.6     74.1  10.8     7.5      272.495031   \n",
       "\n",
       "   match_solar  reset_match         watt  \n",
       "0  1655.555556  1343.782008   863.328033  \n",
       "1  1952.777778  1748.395500  1370.786517  \n",
       "2   977.777778   587.399248   304.525439  \n",
       "3  2891.666667  2759.806976  2125.209641  \n",
       "4   530.555556   331.631734   202.993101  "
      ],
      "text/html": "<div>\n<style scoped>\n    .dataframe tbody tr th:only-of-type {\n        vertical-align: middle;\n    }\n\n    .dataframe tbody tr th {\n        vertical-align: top;\n    }\n\n    .dataframe thead th {\n        text-align: right;\n    }\n</style>\n<table border=\"1\" class=\"dataframe\">\n  <thead>\n    <tr style=\"text-align: right;\">\n      <th></th>\n      <th>최저기온</th>\n      <th>최고기온</th>\n      <th>일강수량</th>\n      <th>평균 풍속</th>\n      <th>평균 상대습도</th>\n      <th>가조시간</th>\n      <th>평균 전운량</th>\n      <th>env_slopesolar</th>\n      <th>match_solar</th>\n      <th>reset_match</th>\n      <th>watt</th>\n    </tr>\n  </thead>\n  <tbody>\n    <tr>\n      <th>0</th>\n      <td>8.8</td>\n      <td>20.6</td>\n      <td>0.0</td>\n      <td>1.0</td>\n      <td>50.0</td>\n      <td>11.0</td>\n      <td>5.3</td>\n      <td>1241.406625</td>\n      <td>1655.555556</td>\n      <td>1343.782008</td>\n      <td>863.328033</td>\n    </tr>\n    <tr>\n      <th>1</th>\n      <td>9.8</td>\n      <td>16.9</td>\n      <td>5.0</td>\n      <td>1.1</td>\n      <td>75.1</td>\n      <td>11.0</td>\n      <td>5.4</td>\n      <td>1878.443064</td>\n      <td>1952.777778</td>\n      <td>1748.395500</td>\n      <td>1370.786517</td>\n    </tr>\n    <tr>\n      <th>2</th>\n      <td>7.6</td>\n      <td>18.7</td>\n      <td>0.0</td>\n      <td>1.3</td>\n      <td>66.0</td>\n      <td>10.9</td>\n      <td>0.5</td>\n      <td>504.979266</td>\n      <td>977.777778</td>\n      <td>587.399248</td>\n      <td>304.525439</td>\n    </tr>\n    <tr>\n      <th>3</th>\n      <td>7.0</td>\n      <td>21.2</td>\n      <td>0.0</td>\n      <td>0.9</td>\n      <td>55.5</td>\n      <td>10.9</td>\n      <td>4.0</td>\n      <td>2963.771843</td>\n      <td>2891.666667</td>\n      <td>2759.806976</td>\n      <td>2125.209641</td>\n    </tr>\n    <tr>\n      <th>4</th>\n      <td>9.9</td>\n      <td>14.7</td>\n      <td>11.0</td>\n      <td>1.6</td>\n      <td>74.1</td>\n      <td>10.8</td>\n      <td>7.5</td>\n      <td>272.495031</td>\n      <td>530.555556</td>\n      <td>331.631734</td>\n      <td>202.993101</td>\n    </tr>\n  </tbody>\n</table>\n</div>"
     },
     "metadata": {},
     "execution_count": 153
    }
   ],
   "source": [
    "total_weather = pd.read_csv(\"./마지막데이터/allweather.csv\", encoding=\"ms949\") ## 2018~2020년 데이터\n",
    "banpo1_weather = total_weather[total_weather['지점명']=='서울'] ## 반포 인접지역인 서울 기상데이터 선택\n",
    "banpo1_weather\n",
    "\n",
    "banpo1_power_weather = match_power_weather(reset_match_to_day, banpo1_weather)\n",
    "banpo1_power_weather_df = pd.DataFrame(data = banpo1_power_weather, columns=[\n",
    "    '최저기온', '최고기온', '일강수량', '평균 풍속',\n",
    "    '평균 상대습도', '가조시간', '합계일사량', '평균 전운량','env_slopesolar', 'env_levelsolar', 'match_solar',\n",
    "    'reset_match',\n",
    "    'watt'])\n",
    "banpo1_power_weather_df_need =banpo1_power_weather_df[[\n",
    "    '최저기온', '최고기온', '일강수량', '평균 풍속', '평균 상대습도', '가조시간', '평균 전운량','env_slopesolar', 'match_solar',\n",
    "    'reset_match', 'watt']] ## 필요한 column 선택\n",
    "banpo1_power_weather_df_need.fillna(0, inplace=True) # 강수량 NaN -> 0\n",
    "\n",
    "banpo1_power_weather_df_need.head(5)"
   ]
  },
  {
   "source": [
    "### 7. modeling, training\n",
    "    - 위와 같이 전처리 후 합쳐서 한 개의 csv로 처리했음\n"
   ],
   "cell_type": "markdown",
   "metadata": {}
  },
  {
   "cell_type": "code",
   "execution_count": 186,
   "metadata": {},
   "outputs": [],
   "source": [
    "all_data = pd.read_csv('./마지막데이터/total_enitt_data2.csv', encoding='utf-8')\n",
    "all_data.drop([\"Unnamed: 0\", '합계 일사량(MJ/m2)', \"env_levelsolar\", \"match_solar\"], axis=1, inplace=True)\n",
    "all_data.columns = [\"최저기온\", \"최고기온\", \"일강수량\", \"평균풍속\", \"평균상대습도\", \"가조시간\", \"평균전운량\", \"env_slopesolar\", \"reset_match\", \"watt\"]\n",
    "all_data.fillna(0, inplace=True)\n",
    "\n",
    "data1 = all_data[[\"env_slopesolar\", \"watt\"]]\n",
    "data2 = all_data[[\"reset_match\", \"watt\"]]\n",
    "data3 = all_data[[\"최저기온\", \"최고기온\", \"일강수량\", \"평균풍속\", \"평균상대습도\", \"가조시간\", \"평균전운량\", \"env_slopesolar\", \"watt\"]]\n",
    "data4 = all_data[[\"최저기온\", \"최고기온\", \"일강수량\", \"평균풍속\", \"평균상대습도\", \"가조시간\", \"평균전운량\", \"reset_match\", \"watt\"]]\n",
    "\n",
    "\n"
   ]
  },
  {
   "source": [
    "\n",
    "7. modeling and training\n",
    "- 모델링 코드, 튜닝 \n",
    "\n",
    "8. validation, evaluation\n",
    "- reset_match, env_slopesolar 의 정확도 비교, \n",
    "- "
   ],
   "cell_type": "markdown",
   "metadata": {}
  }
 ]
}