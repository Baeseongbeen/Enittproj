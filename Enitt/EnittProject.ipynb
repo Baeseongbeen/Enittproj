{
 "metadata": {
  "language_info": {
   "codemirror_mode": {
    "name": "ipython",
    "version": 3
   },
   "file_extension": ".py",
   "mimetype": "text/x-python",
   "name": "python",
   "nbconvert_exporter": "python",
   "pygments_lexer": "ipython3",
   "version": "3.7.6-final"
  },
  "orig_nbformat": 2,
  "kernelspec": {
   "name": "python3",
   "display_name": "Python 3"
  }
 },
 "nbformat": 4,
 "nbformat_minor": 2,
 "cells": [
  {
   "source": [
    "# Enitt Proj\n",
    "## 환경센서를 통한 발전량 예측\n",
    "\n",
    "    \n",
    "    1. Project intro\n",
    "    2. Enterprise data set\n",
    "    3. Exploratory data analysis\n",
    "    4. data crawling\n",
    "    5. data preprocessing\n",
    "    6. modeling and training\n",
    "    7. validation, evaluation\n",
    "    "
   ],
   "cell_type": "markdown",
   "metadata": {}
  },
  {
   "source": [
    "### 0) load module"
   ],
   "cell_type": "markdown",
   "metadata": {}
  },
  {
   "cell_type": "code",
   "execution_count": 1,
   "metadata": {},
   "outputs": [],
   "source": [
    "import pandas as pd \n",
    "import numpy as np \n",
    "import matplotlib.pyplot as plt\n",
    "import plotly\n",
    "import plotly.graph_objs as go\n",
    "from plotly.subplots import make_subplots\n",
    "import datetime\n",
    "import seaborn as sns \n",
    "import scipy.stats\n",
    "import plotly.express as px\n"
   ]
  },
  {
   "source": [
    "### 1. Project intro\n",
    "\n",
    "##### Enitt발전소에 맞춘 맞춤형 태양광 발전량을 예측한다.\n",
    "##### 현재 https://bd.kma.go.kr/kma2020/fs/energySelect1.do?pageNum=5&menuCd=F050701000 처럼\n",
    "##### 각 지역에 맞는 일사량에 따른 발전량 예측사이트가 있지만, \n",
    "##### 태양광 발전량은 주변 지역 환경과 설비용량, 각 인버터 스펙에 따른 민감도가 존재한다.\n",
    "     즉 대략적인 발전량 예측은 가능하지만 설비용량과 출력스펙을 고려한 발전량은 예측이 불가능하다.\n",
    "\n",
    "##### 이 프로젝트에서는 Enitt 발전소별 일사량 보정값과 가장 인접해 있는 지역의 환경데이터를 통하여 \n",
    "##### 각 발전소별 모델링을 구축하여 발전소 맞춤형 태양광 발전량 예측 모델을 설계한다."
   ],
   "cell_type": "markdown",
   "metadata": {}
  },
  {
   "source": [
    "### 2. Enterprise data set\n"
   ],
   "cell_type": "markdown",
   "metadata": {}
  },
  {
   "source": [
    "##### 각 지역별 발전량 정보 및 환경센서 정보\n"
   ],
   "cell_type": "markdown",
   "metadata": {}
  },
  {
   "cell_type": "code",
   "execution_count": 2,
   "metadata": {},
   "outputs": [],
   "source": [
    "ent_data_set1 = pd.read_csv(\"./ENITT_SOLAR_DATA/ENITT_SOLAR_DATA/365. 반포써밋2블럭 발전량.csv\", encoding=\"ms949\")\n",
    "ent_data_set2 = pd.read_csv(\"./ENITT_SOLAR_DATA/ENITT_SOLAR_DATA/365. 반포써밋2블럭 환경정보.csv\", encoding=\"ms949\")"
   ]
  },
  {
   "cell_type": "code",
   "execution_count": 3,
   "metadata": {},
   "outputs": [
    {
     "output_type": "execute_result",
     "data": {
      "text/plain": [
       "   pow_index  pow_id    pow_date  pow_time  pow_cap  pow_dcv  pow_dca  \\\n",
       "0          1       2  2018-10-18  14:35:09     15.0      439     10.0   \n",
       "1          2       2  2018-10-18  14:36:21     15.0      435      9.8   \n",
       "2          3       2  2018-10-18  14:37:18     15.0      444      9.6   \n",
       "3          4       2  2018-10-18  14:38:10     15.0      453      9.3   \n",
       "4          5       2  2018-10-18  14:39:03     15.0      454      9.2   \n",
       "\n",
       "   pow_dcp  pow_acvr  pow_acvs  pow_acvt  pow_acar  pow_acas  pow_acat  \\\n",
       "0   4300.0       375       372       375       6.9       7.4       7.2   \n",
       "1   4200.0       374       371       376       6.7       7.3       7.1   \n",
       "2   4200.0       375       372       376       6.6       7.3       7.1   \n",
       "3   4200.0       376       373       377       6.5       7.1       6.8   \n",
       "4   4100.0       376       372       376       6.5       7.2       7.1   \n",
       "\n",
       "   pow_acp  pow_pf  pow_totpower  pow_freq  \n",
       "0   4100.0     0.9          9000      60.0  \n",
       "1   4000.0     0.9          9000      59.9  \n",
       "2   4000.0     0.9          9000      59.9  \n",
       "3   4000.0     0.9          9000      60.0  \n",
       "4   3900.0     0.9          9000      59.9  "
      ],
      "text/html": "<div>\n<style scoped>\n    .dataframe tbody tr th:only-of-type {\n        vertical-align: middle;\n    }\n\n    .dataframe tbody tr th {\n        vertical-align: top;\n    }\n\n    .dataframe thead th {\n        text-align: right;\n    }\n</style>\n<table border=\"1\" class=\"dataframe\">\n  <thead>\n    <tr style=\"text-align: right;\">\n      <th></th>\n      <th>pow_index</th>\n      <th>pow_id</th>\n      <th>pow_date</th>\n      <th>pow_time</th>\n      <th>pow_cap</th>\n      <th>pow_dcv</th>\n      <th>pow_dca</th>\n      <th>pow_dcp</th>\n      <th>pow_acvr</th>\n      <th>pow_acvs</th>\n      <th>pow_acvt</th>\n      <th>pow_acar</th>\n      <th>pow_acas</th>\n      <th>pow_acat</th>\n      <th>pow_acp</th>\n      <th>pow_pf</th>\n      <th>pow_totpower</th>\n      <th>pow_freq</th>\n    </tr>\n  </thead>\n  <tbody>\n    <tr>\n      <th>0</th>\n      <td>1</td>\n      <td>2</td>\n      <td>2018-10-18</td>\n      <td>14:35:09</td>\n      <td>15.0</td>\n      <td>439</td>\n      <td>10.0</td>\n      <td>4300.0</td>\n      <td>375</td>\n      <td>372</td>\n      <td>375</td>\n      <td>6.9</td>\n      <td>7.4</td>\n      <td>7.2</td>\n      <td>4100.0</td>\n      <td>0.9</td>\n      <td>9000</td>\n      <td>60.0</td>\n    </tr>\n    <tr>\n      <th>1</th>\n      <td>2</td>\n      <td>2</td>\n      <td>2018-10-18</td>\n      <td>14:36:21</td>\n      <td>15.0</td>\n      <td>435</td>\n      <td>9.8</td>\n      <td>4200.0</td>\n      <td>374</td>\n      <td>371</td>\n      <td>376</td>\n      <td>6.7</td>\n      <td>7.3</td>\n      <td>7.1</td>\n      <td>4000.0</td>\n      <td>0.9</td>\n      <td>9000</td>\n      <td>59.9</td>\n    </tr>\n    <tr>\n      <th>2</th>\n      <td>3</td>\n      <td>2</td>\n      <td>2018-10-18</td>\n      <td>14:37:18</td>\n      <td>15.0</td>\n      <td>444</td>\n      <td>9.6</td>\n      <td>4200.0</td>\n      <td>375</td>\n      <td>372</td>\n      <td>376</td>\n      <td>6.6</td>\n      <td>7.3</td>\n      <td>7.1</td>\n      <td>4000.0</td>\n      <td>0.9</td>\n      <td>9000</td>\n      <td>59.9</td>\n    </tr>\n    <tr>\n      <th>3</th>\n      <td>4</td>\n      <td>2</td>\n      <td>2018-10-18</td>\n      <td>14:38:10</td>\n      <td>15.0</td>\n      <td>453</td>\n      <td>9.3</td>\n      <td>4200.0</td>\n      <td>376</td>\n      <td>373</td>\n      <td>377</td>\n      <td>6.5</td>\n      <td>7.1</td>\n      <td>6.8</td>\n      <td>4000.0</td>\n      <td>0.9</td>\n      <td>9000</td>\n      <td>60.0</td>\n    </tr>\n    <tr>\n      <th>4</th>\n      <td>5</td>\n      <td>2</td>\n      <td>2018-10-18</td>\n      <td>14:39:03</td>\n      <td>15.0</td>\n      <td>454</td>\n      <td>9.2</td>\n      <td>4100.0</td>\n      <td>376</td>\n      <td>372</td>\n      <td>376</td>\n      <td>6.5</td>\n      <td>7.2</td>\n      <td>7.1</td>\n      <td>3900.0</td>\n      <td>0.9</td>\n      <td>9000</td>\n      <td>59.9</td>\n    </tr>\n  </tbody>\n</table>\n</div>"
     },
     "metadata": {},
     "execution_count": 3
    }
   ],
   "source": [
    "ent_data_set1.head(5)"
   ]
  },
  {
   "cell_type": "code",
   "execution_count": 4,
   "metadata": {},
   "outputs": [
    {
     "output_type": "execute_result",
     "data": {
      "text/plain": [
       "   env_index    env_date  env_time  env_slopesolar  env_levelsolar  \\\n",
       "0          1  2018-10-22  12:44:29             322             316   \n",
       "1          2  2018-10-22  12:45:21             320             314   \n",
       "2          3  2018-10-22  12:46:12             320             312   \n",
       "3          4  2018-10-22  12:47:04             326             319   \n",
       "4          5  2018-10-22  12:47:56             335             329   \n",
       "\n",
       "   env_modtemp  env_airtemp  \n",
       "0         24.8         17.6  \n",
       "1         25.0         17.7  \n",
       "2         25.1         17.9  \n",
       "3         24.9         18.1  \n",
       "4         24.9         18.0  "
      ],
      "text/html": "<div>\n<style scoped>\n    .dataframe tbody tr th:only-of-type {\n        vertical-align: middle;\n    }\n\n    .dataframe tbody tr th {\n        vertical-align: top;\n    }\n\n    .dataframe thead th {\n        text-align: right;\n    }\n</style>\n<table border=\"1\" class=\"dataframe\">\n  <thead>\n    <tr style=\"text-align: right;\">\n      <th></th>\n      <th>env_index</th>\n      <th>env_date</th>\n      <th>env_time</th>\n      <th>env_slopesolar</th>\n      <th>env_levelsolar</th>\n      <th>env_modtemp</th>\n      <th>env_airtemp</th>\n    </tr>\n  </thead>\n  <tbody>\n    <tr>\n      <th>0</th>\n      <td>1</td>\n      <td>2018-10-22</td>\n      <td>12:44:29</td>\n      <td>322</td>\n      <td>316</td>\n      <td>24.8</td>\n      <td>17.6</td>\n    </tr>\n    <tr>\n      <th>1</th>\n      <td>2</td>\n      <td>2018-10-22</td>\n      <td>12:45:21</td>\n      <td>320</td>\n      <td>314</td>\n      <td>25.0</td>\n      <td>17.7</td>\n    </tr>\n    <tr>\n      <th>2</th>\n      <td>3</td>\n      <td>2018-10-22</td>\n      <td>12:46:12</td>\n      <td>320</td>\n      <td>312</td>\n      <td>25.1</td>\n      <td>17.9</td>\n    </tr>\n    <tr>\n      <th>3</th>\n      <td>4</td>\n      <td>2018-10-22</td>\n      <td>12:47:04</td>\n      <td>326</td>\n      <td>319</td>\n      <td>24.9</td>\n      <td>18.1</td>\n    </tr>\n    <tr>\n      <th>4</th>\n      <td>5</td>\n      <td>2018-10-22</td>\n      <td>12:47:56</td>\n      <td>335</td>\n      <td>329</td>\n      <td>24.9</td>\n      <td>18.0</td>\n    </tr>\n  </tbody>\n</table>\n</div>"
     },
     "metadata": {},
     "execution_count": 4
    }
   ],
   "source": [
    "ent_data_set2.head(5)"
   ]
  },
  {
   "source": [
    "### 3. Exploratory data analysis"
   ],
   "cell_type": "markdown",
   "metadata": {}
  },
  {
   "source": [
    "#### 1) Enterprise data\n",
    "      1-1 발전량(energy generation)\n",
    "       : 전류 x 전압 = 에너지 \n",
    "       \n",
    "       * 발전량 정보 데이터의 pow_dcp, pow_totpower 컬럼이 에너지를 나타내는 부분이나, 센서의 민감도나 측정단위 문제로 정확한 측정이 안된다.\n",
    "         pow_dcp의 측정 최소 단위는 100W이고 pow_totpower의 측정 최소단위는 1000W이고 \n",
    "         pow_dcp는 149W까지는 측정이 불가하고 150W부터 반내림한 100W로 측정을 하게 된다 (pow_totpower 이와 동일)\n",
    "\n",
    "         하여 정확한 발전량 측정을 하기 위하여 직류전류(pow_dcv) X 직류전압(pow_dca) 를 발전량 칼럼인 Watt로 생성하였다.\n",
    "         \n"
   ],
   "cell_type": "markdown",
   "metadata": {}
  },
  {
   "cell_type": "code",
   "execution_count": 11,
   "metadata": {},
   "outputs": [
    {
     "output_type": "stream",
     "name": "stdout",
     "text": [
      "전력 [4300. 4200. 4100. 9900. 3800.]\n누적발전량 [   9000 2936000   10000   11000   12000]\n"
     ]
    }
   ],
   "source": [
    "print(\"전력\", ent_data_set1[\"pow_dcp\"].unique()[:5])\n",
    "print(\"누적발전량\", ent_data_set1[\"pow_totpower\"].unique()[:5])"
   ]
  }
 ]
}