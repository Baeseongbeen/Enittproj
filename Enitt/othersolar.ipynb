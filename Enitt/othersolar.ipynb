{
 "metadata": {
  "language_info": {
   "codemirror_mode": {
    "name": "ipython",
    "version": 3
   },
   "file_extension": ".py",
   "mimetype": "text/x-python",
   "name": "python",
   "nbconvert_exporter": "python",
   "pygments_lexer": "ipython3",
   "version": "3.7.6-final"
  },
  "orig_nbformat": 2,
  "kernelspec": {
   "name": "python3",
   "display_name": "Python 3"
  }
 },
 "nbformat": 4,
 "nbformat_minor": 2,
 "cells": [
  {
   "cell_type": "code",
   "execution_count": 1,
   "metadata": {},
   "outputs": [
    {
     "output_type": "execute_result",
     "data": {
      "text/plain": [
       "'c:\\\\Users\\\\seong\\\\Desktop\\\\Enittproj\\\\Enitt'"
      ]
     },
     "metadata": {},
     "execution_count": 1
    }
   ],
   "source": [
    "import pandas as pd \n",
    "import numpy as np \n",
    "import matplotlib.pyplot as plt\n",
    "import plotly\n",
    "import plotly.graph_objs as go # 그래프 객체 생성\n",
    "from plotly.subplots import make_subplots\n",
    "import datetime\n",
    "import seaborn as sns \n",
    "import scipy.stats\n",
    "import plotly.express as px\n",
    "import os \n",
    "from scipy import stats\n",
    "from sklearn import metrics\n",
    "import statsmodels.formula.api as smf\n",
    "import scipy.stats as st\n",
    "import pylab\n",
    "import csv\n",
    "\n",
    "os.getcwd()"
   ]
  },
  {
   "cell_type": "code",
   "execution_count": 11,
   "metadata": {},
   "outputs": [
    {
     "output_type": "execute_result",
     "data": {
      "text/plain": [
       "              일자        발전기명  01시  02시  03시  04시  05시  06시  07시  08시  ...  \\\n",
       "2914  2018-01-01  안산연성정수장태양광  0.0  0.0  0.0  0.0  0.0  0.0  0.0  0.0  ...   \n",
       "\n",
       "           15시       16시       17시     18시  19시  20시  21시  22시  23시  24시  \n",
       "2914  411600.0  274800.0  140400.0  6000.0  0.0  0.0  0.0  0.0  0.0  0.0  \n",
       "\n",
       "[1 rows x 26 columns]"
      ],
      "text/html": "<div>\n<style scoped>\n    .dataframe tbody tr th:only-of-type {\n        vertical-align: middle;\n    }\n\n    .dataframe tbody tr th {\n        vertical-align: top;\n    }\n\n    .dataframe thead th {\n        text-align: right;\n    }\n</style>\n<table border=\"1\" class=\"dataframe\">\n  <thead>\n    <tr style=\"text-align: right;\">\n      <th></th>\n      <th>일자</th>\n      <th>발전기명</th>\n      <th>01시</th>\n      <th>02시</th>\n      <th>03시</th>\n      <th>04시</th>\n      <th>05시</th>\n      <th>06시</th>\n      <th>07시</th>\n      <th>08시</th>\n      <th>...</th>\n      <th>15시</th>\n      <th>16시</th>\n      <th>17시</th>\n      <th>18시</th>\n      <th>19시</th>\n      <th>20시</th>\n      <th>21시</th>\n      <th>22시</th>\n      <th>23시</th>\n      <th>24시</th>\n    </tr>\n  </thead>\n  <tbody>\n    <tr>\n      <th>2914</th>\n      <td>2018-01-01</td>\n      <td>안산연성정수장태양광</td>\n      <td>0.0</td>\n      <td>0.0</td>\n      <td>0.0</td>\n      <td>0.0</td>\n      <td>0.0</td>\n      <td>0.0</td>\n      <td>0.0</td>\n      <td>0.0</td>\n      <td>...</td>\n      <td>411600.0</td>\n      <td>274800.0</td>\n      <td>140400.0</td>\n      <td>6000.0</td>\n      <td>0.0</td>\n      <td>0.0</td>\n      <td>0.0</td>\n      <td>0.0</td>\n      <td>0.0</td>\n      <td>0.0</td>\n    </tr>\n  </tbody>\n</table>\n<p>1 rows × 26 columns</p>\n</div>"
     },
     "metadata": {},
     "execution_count": 11
    }
   ],
   "source": [
    "other_data_dummy1 = pd.read_csv(\"./ENITT_SOLAR_DATA/otherdata/otherdata.csv\", encoding=\"ms949\")\n",
    "other_data_solar = other_data_dummy1[other_data_dummy1[\"발전기명\"] == \"안산연성정수장태양광\"]\n",
    "other_data_dummy1[\"발전기명\"].unique() \n",
    "\n",
    "other_data_solar.loc[other_data_solar[\"일자\"] == \"2018-01-01\"]"
   ]
  },
  {
   "cell_type": "code",
   "execution_count": 15,
   "metadata": {},
   "outputs": [
    {
     "output_type": "stream",
     "name": "stdout",
     "text": [
      "DatetimeIndex(['2018-01-01 00:00:00', '2018-01-01 01:00:00',\n               '2018-01-01 02:00:00', '2018-01-01 03:00:00',\n               '2018-01-01 04:00:00', '2018-01-01 05:00:00',\n               '2018-01-01 06:00:00', '2018-01-01 07:00:00',\n               '2018-01-01 08:00:00', '2018-01-01 09:00:00',\n               ...\n               '2020-10-31 15:00:00', '2020-10-31 16:00:00',\n               '2020-10-31 17:00:00', '2020-10-31 18:00:00',\n               '2020-10-31 19:00:00', '2020-10-31 20:00:00',\n               '2020-10-31 21:00:00', '2020-10-31 22:00:00',\n               '2020-10-31 23:00:00', '2020-11-01 00:00:00'],\n              dtype='datetime64[ns]', length=24841, freq='H')\n"
     ]
    }
   ],
   "source": [
    "\n",
    "def make_data(data1, data2):\n",
    "    new_data_list.append(data1) ## 24시 -> 00시\n",
    "    for i in range(2, len(data2)-1):\n",
    "        new_data_list.append(data2[i])  ## 01시 ~ 23시 -> 01시 ~ 23시\n",
    "\n",
    "def make_date_list(start, end):\n",
    "    date_index = pd.date_range(start=start, end=end, freq='H')\n",
    "    \n",
    "    return date_index\n",
    "\n",
    "\n",
    "# new_data_list = []\n",
    "# for i in range(len(othersolar_ansan)):\n",
    "#     data1 = 0.0 ## 00시 데이터는 모두 0임\n",
    "#     data2 = othersolar_ansan.iloc[i, :]\n",
    "#     make_data(data1, data2)\n",
    "\n",
    "date = make_date_list(\"2018-01-01\", \"2020-11-01\")\n",
    "print(date)"
   ]
  }
 ]
}