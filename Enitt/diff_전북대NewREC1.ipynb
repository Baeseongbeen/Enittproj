{
 "metadata": {
  "language_info": {
   "codemirror_mode": {
    "name": "ipython",
    "version": 3
   },
   "file_extension": ".py",
   "mimetype": "text/x-python",
   "name": "python",
   "nbconvert_exporter": "python",
   "pygments_lexer": "ipython3",
   "version": "3.7.6-final"
  },
  "orig_nbformat": 2,
  "kernelspec": {
   "name": "python3",
   "display_name": "Python 3"
  }
 },
 "nbformat": 4,
 "nbformat_minor": 2,
 "cells": [
  {
   "cell_type": "code",
   "execution_count": 26,
   "metadata": {},
   "outputs": [
    {
     "output_type": "execute_result",
     "data": {
      "text/plain": [
       "'c:\\\\Users\\\\seong\\\\Desktop\\\\enittproj\\\\enitt'"
      ]
     },
     "metadata": {},
     "execution_count": 26
    }
   ],
   "source": [
    "import pandas as pd \n",
    "import numpy as np \n",
    "import matplotlib.pyplot as plt\n",
    "import plotly\n",
    "import plotly.graph_objs as go # 그래프 객체 생성\n",
    "from plotly.subplots import make_subplots\n",
    "import datetime\n",
    "import seaborn as sns \n",
    "import scipy.stats\n",
    "import plotly.express as px\n",
    "import os \n",
    "from scipy import stats\n",
    "from sklearn import metrics\n",
    "import statsmodels.formula.api as smf\n",
    "import scipy.stats as st\n",
    "import pylab\n",
    "import csv\n",
    "\n",
    "os.getcwd()"
   ]
  },
  {
   "cell_type": "code",
   "execution_count": 27,
   "metadata": {},
   "outputs": [
    {
     "output_type": "execute_result",
     "data": {
      "text/plain": [
       "        env_index    env_date  env_time  env_slopesolar  env_levelsolar  \\\n",
       "0               1  2018-11-19  15:13:12             289             443   \n",
       "1               2  2018-11-19  15:14:04             288             441   \n",
       "2               3  2018-11-19  15:14:56             284             436   \n",
       "3               4  2018-11-19  15:15:48             282             432   \n",
       "4               5  2018-11-19  15:16:40             281             431   \n",
       "...           ...         ...       ...             ...             ...   \n",
       "723073     723074  2020-10-22  23:33:48               0               0   \n",
       "723074     723075  2020-10-22  23:34:46               0               0   \n",
       "723075     723076  2020-10-22  23:35:43               0               0   \n",
       "723076     723077  2020-10-22  23:36:41               0               0   \n",
       "723077     723078  2020-10-22  23:37:39               0               0   \n",
       "\n",
       "        env_modtemp  env_airtemp  \n",
       "0              21.2         14.6  \n",
       "1              21.2         14.8  \n",
       "2              21.2         14.8  \n",
       "3              21.2         14.9  \n",
       "4              20.8         14.9  \n",
       "...             ...          ...  \n",
       "723073         10.3         11.3  \n",
       "723074         10.3         11.4  \n",
       "723075         10.3         11.4  \n",
       "723076         10.4         11.4  \n",
       "723077         10.4         11.4  \n",
       "\n",
       "[723078 rows x 7 columns]"
      ],
      "text/html": "<div>\n<style scoped>\n    .dataframe tbody tr th:only-of-type {\n        vertical-align: middle;\n    }\n\n    .dataframe tbody tr th {\n        vertical-align: top;\n    }\n\n    .dataframe thead th {\n        text-align: right;\n    }\n</style>\n<table border=\"1\" class=\"dataframe\">\n  <thead>\n    <tr style=\"text-align: right;\">\n      <th></th>\n      <th>env_index</th>\n      <th>env_date</th>\n      <th>env_time</th>\n      <th>env_slopesolar</th>\n      <th>env_levelsolar</th>\n      <th>env_modtemp</th>\n      <th>env_airtemp</th>\n    </tr>\n  </thead>\n  <tbody>\n    <tr>\n      <th>0</th>\n      <td>1</td>\n      <td>2018-11-19</td>\n      <td>15:13:12</td>\n      <td>289</td>\n      <td>443</td>\n      <td>21.2</td>\n      <td>14.6</td>\n    </tr>\n    <tr>\n      <th>1</th>\n      <td>2</td>\n      <td>2018-11-19</td>\n      <td>15:14:04</td>\n      <td>288</td>\n      <td>441</td>\n      <td>21.2</td>\n      <td>14.8</td>\n    </tr>\n    <tr>\n      <th>2</th>\n      <td>3</td>\n      <td>2018-11-19</td>\n      <td>15:14:56</td>\n      <td>284</td>\n      <td>436</td>\n      <td>21.2</td>\n      <td>14.8</td>\n    </tr>\n    <tr>\n      <th>3</th>\n      <td>4</td>\n      <td>2018-11-19</td>\n      <td>15:15:48</td>\n      <td>282</td>\n      <td>432</td>\n      <td>21.2</td>\n      <td>14.9</td>\n    </tr>\n    <tr>\n      <th>4</th>\n      <td>5</td>\n      <td>2018-11-19</td>\n      <td>15:16:40</td>\n      <td>281</td>\n      <td>431</td>\n      <td>20.8</td>\n      <td>14.9</td>\n    </tr>\n    <tr>\n      <th>...</th>\n      <td>...</td>\n      <td>...</td>\n      <td>...</td>\n      <td>...</td>\n      <td>...</td>\n      <td>...</td>\n      <td>...</td>\n    </tr>\n    <tr>\n      <th>723073</th>\n      <td>723074</td>\n      <td>2020-10-22</td>\n      <td>23:33:48</td>\n      <td>0</td>\n      <td>0</td>\n      <td>10.3</td>\n      <td>11.3</td>\n    </tr>\n    <tr>\n      <th>723074</th>\n      <td>723075</td>\n      <td>2020-10-22</td>\n      <td>23:34:46</td>\n      <td>0</td>\n      <td>0</td>\n      <td>10.3</td>\n      <td>11.4</td>\n    </tr>\n    <tr>\n      <th>723075</th>\n      <td>723076</td>\n      <td>2020-10-22</td>\n      <td>23:35:43</td>\n      <td>0</td>\n      <td>0</td>\n      <td>10.3</td>\n      <td>11.4</td>\n    </tr>\n    <tr>\n      <th>723076</th>\n      <td>723077</td>\n      <td>2020-10-22</td>\n      <td>23:36:41</td>\n      <td>0</td>\n      <td>0</td>\n      <td>10.4</td>\n      <td>11.4</td>\n    </tr>\n    <tr>\n      <th>723077</th>\n      <td>723078</td>\n      <td>2020-10-22</td>\n      <td>23:37:39</td>\n      <td>0</td>\n      <td>0</td>\n      <td>10.4</td>\n      <td>11.4</td>\n    </tr>\n  </tbody>\n</table>\n<p>723078 rows × 7 columns</p>\n</div>"
     },
     "metadata": {},
     "execution_count": 27
    }
   ],
   "source": [
    "## merge 1, 2 데이터\n",
    "data1 = pd.read_csv(\"./ENITT_SOLAR_DATA/ENITT_SOLAR_DATA/A463. 전북대 New REC 발전량.csv\", encoding=\"ms949\")\n",
    "data2 = pd.read_csv(\"./ENITT_SOLAR_DATA/ENITT_SOLAR_DATA/463. 전북대NewREC 발전량.csv\", encoding=\"ms949\")\n",
    "data3 = pd.read_csv(\"./ENITT_SOLAR_DATA/ENITT_SOLAR_DATA/A463. 전북대 New REC 환경센서.csv\", encoding=\"ms949\")\n",
    "data4 = pd.read_csv(\"./ENITT_SOLAR_DATA/ENITT_SOLAR_DATA/463. 전북대NewREC 환경정보.csv\", encoding=\"ms949\")\n",
    "\n",
    "\n",
    "\n",
    "data_12 = pd.concat([data2, data1])\n",
    "data_34 = pd.concat([data4, data3])\n",
    "ent_data_solar = data_12.reset_index().drop('index', axis=1)\n",
    "ent_data_solar\n",
    "\n",
    "ent_data_weather = data_34.reset_index().drop('index', axis=1)\n",
    "ent_data_weather"
   ]
  },
  {
   "cell_type": "code",
   "execution_count": 28,
   "metadata": {},
   "outputs": [
    {
     "output_type": "execute_result",
     "data": {
      "text/plain": [
       "        env_index    env_date  env_time  env_slopesolar  env_levelsolar  \\\n",
       "0               1  2018-11-19  15:13:12             289             443   \n",
       "1               2  2018-11-19  15:14:04             288             441   \n",
       "2               3  2018-11-19  15:14:56             284             436   \n",
       "3               4  2018-11-19  15:15:48             282             432   \n",
       "4               5  2018-11-19  15:16:40             281             431   \n",
       "...           ...         ...       ...             ...             ...   \n",
       "723073     723074  2020-10-22  23:33:48               0               0   \n",
       "723074     723075  2020-10-22  23:34:46               0               0   \n",
       "723075     723076  2020-10-22  23:35:43               0               0   \n",
       "723076     723077  2020-10-22  23:36:41               0               0   \n",
       "723077     723078  2020-10-22  23:37:39               0               0   \n",
       "\n",
       "        env_modtemp  env_airtemp  \n",
       "0              21.2         14.6  \n",
       "1              21.2         14.8  \n",
       "2              21.2         14.8  \n",
       "3              21.2         14.9  \n",
       "4              20.8         14.9  \n",
       "...             ...          ...  \n",
       "723073         10.3         11.3  \n",
       "723074         10.3         11.4  \n",
       "723075         10.3         11.4  \n",
       "723076         10.4         11.4  \n",
       "723077         10.4         11.4  \n",
       "\n",
       "[723078 rows x 7 columns]"
      ],
      "text/html": "<div>\n<style scoped>\n    .dataframe tbody tr th:only-of-type {\n        vertical-align: middle;\n    }\n\n    .dataframe tbody tr th {\n        vertical-align: top;\n    }\n\n    .dataframe thead th {\n        text-align: right;\n    }\n</style>\n<table border=\"1\" class=\"dataframe\">\n  <thead>\n    <tr style=\"text-align: right;\">\n      <th></th>\n      <th>env_index</th>\n      <th>env_date</th>\n      <th>env_time</th>\n      <th>env_slopesolar</th>\n      <th>env_levelsolar</th>\n      <th>env_modtemp</th>\n      <th>env_airtemp</th>\n    </tr>\n  </thead>\n  <tbody>\n    <tr>\n      <th>0</th>\n      <td>1</td>\n      <td>2018-11-19</td>\n      <td>15:13:12</td>\n      <td>289</td>\n      <td>443</td>\n      <td>21.2</td>\n      <td>14.6</td>\n    </tr>\n    <tr>\n      <th>1</th>\n      <td>2</td>\n      <td>2018-11-19</td>\n      <td>15:14:04</td>\n      <td>288</td>\n      <td>441</td>\n      <td>21.2</td>\n      <td>14.8</td>\n    </tr>\n    <tr>\n      <th>2</th>\n      <td>3</td>\n      <td>2018-11-19</td>\n      <td>15:14:56</td>\n      <td>284</td>\n      <td>436</td>\n      <td>21.2</td>\n      <td>14.8</td>\n    </tr>\n    <tr>\n      <th>3</th>\n      <td>4</td>\n      <td>2018-11-19</td>\n      <td>15:15:48</td>\n      <td>282</td>\n      <td>432</td>\n      <td>21.2</td>\n      <td>14.9</td>\n    </tr>\n    <tr>\n      <th>4</th>\n      <td>5</td>\n      <td>2018-11-19</td>\n      <td>15:16:40</td>\n      <td>281</td>\n      <td>431</td>\n      <td>20.8</td>\n      <td>14.9</td>\n    </tr>\n    <tr>\n      <th>...</th>\n      <td>...</td>\n      <td>...</td>\n      <td>...</td>\n      <td>...</td>\n      <td>...</td>\n      <td>...</td>\n      <td>...</td>\n    </tr>\n    <tr>\n      <th>723073</th>\n      <td>723074</td>\n      <td>2020-10-22</td>\n      <td>23:33:48</td>\n      <td>0</td>\n      <td>0</td>\n      <td>10.3</td>\n      <td>11.3</td>\n    </tr>\n    <tr>\n      <th>723074</th>\n      <td>723075</td>\n      <td>2020-10-22</td>\n      <td>23:34:46</td>\n      <td>0</td>\n      <td>0</td>\n      <td>10.3</td>\n      <td>11.4</td>\n    </tr>\n    <tr>\n      <th>723075</th>\n      <td>723076</td>\n      <td>2020-10-22</td>\n      <td>23:35:43</td>\n      <td>0</td>\n      <td>0</td>\n      <td>10.3</td>\n      <td>11.4</td>\n    </tr>\n    <tr>\n      <th>723076</th>\n      <td>723077</td>\n      <td>2020-10-22</td>\n      <td>23:36:41</td>\n      <td>0</td>\n      <td>0</td>\n      <td>10.4</td>\n      <td>11.4</td>\n    </tr>\n    <tr>\n      <th>723077</th>\n      <td>723078</td>\n      <td>2020-10-22</td>\n      <td>23:37:39</td>\n      <td>0</td>\n      <td>0</td>\n      <td>10.4</td>\n      <td>11.4</td>\n    </tr>\n  </tbody>\n</table>\n<p>723078 rows × 7 columns</p>\n</div>"
     },
     "metadata": {},
     "execution_count": 28
    }
   ],
   "source": [
    "## 파일불러오기 ( 추가데이터 포함되어 있는 것은 제외 )\n",
    "# def ent_loadfile(solar_path, weather_path):\n",
    "#     ent_data_solar = pd.read_csv(solar_path)\n",
    "#     ent_data_weather = pd.read_csv(weather_path)\n",
    "\n",
    "#     return ent_data_solar, ent_data_weather\n",
    "\n",
    "\n",
    "# ent_data_solar, ent_data_weather = ent_loadfile(\n",
    "#     \"./ENITT_SOLAR_DATA/ENITT_SOLAR_DATA/A365. 반포써밋2블럭 발전량.csv\", \n",
    "#     \"./ENITT_SOLAR_DATA/ENITT_SOLAR_DATA/A365. 반포써밋2블럭 환경센서.csv\")\n",
    "\n",
    "# ent_data_solar[\"pow_date\"].unique() ## 약 2018-11-26~ 2020-03-02 \n",
    "# ent_data_weather[\"env_date\"].unique() ## 약 2018-11-26 ~ 2020-03-03  \n",
    "\n",
    "# -> low data인 환경정보로 정리 필요 // \n",
    "\n",
    "## 외부데이터 불러오기 \n",
    "def other_loadfile(a, b, c): ## 임의로 수정 필요 \n",
    "    other_data_dummy1 = pd.read_csv(a, encoding=\"ms949\")\n",
    "    other_data_dummy2 = pd.read_csv(b, encoding=\"ms949\")\n",
    "    other_data_dummy3 = pd.read_csv(c, encoding=\"ms949\")\n",
    "\n",
    "    return other_data_dummy1, other_data_dummy2, other_data_dummy3\n",
    "\n",
    "other_data_dummy1, other_data_dummy2, other_data_dummy3 = other_loadfile(\n",
    "    \"./ENITT_SOLAR_DATA/re_allweather/allweather2018.csv\",\n",
    "    \"./ENITT_SOLAR_DATA/re_allweather/allweather2019.csv\",\n",
    "    \"./ENITT_SOLAR_DATA/re_allweather/allweather2020.csv\")\n",
    "\n",
    "\n",
    "other_data_dummyall = other_data_dummy1.merge(other_data_dummy2, how=\"outer\").merge(other_data_dummy3, how=\"outer\")\n",
    "other_data_weather = other_data_dummyall[other_data_dummyall[\"지점명\"] == \"목포\"]\n",
    "other_data_weather[\"지점명\"].unique()\n",
    "\n",
    "other_data_dummy1 = pd.read_csv(\"./ENITT_SOLAR_DATA/otherdata/otherdata.csv\", encoding=\"ms949\")\n",
    "other_data_solar = other_data_dummy1[other_data_dummy1[\"발전기명\"] == \"안산연성정수장태양광\"]\n",
    "other_data_solar[\"발전기명\"].unique()\n",
    "# 2019-06-16 13:00\n",
    "# ent_data_weather.loc[ent_data_weather[\"env_date\"] == \"2019-06-16\"]\n",
    "\n",
    "# print()\n",
    "ent_data_solar1 = ent_data_solar[ent_data_solar[\"pow_id\"] == 1]\n",
    "ent_data_weather\n"
   ]
  },
  {
   "cell_type": "code",
   "execution_count": 29,
   "metadata": {},
   "outputs": [
    {
     "output_type": "execute_result",
     "data": {
      "text/plain": [
       "                    기온  강수량   풍속     풍향    습도   일조   일사   적설   전운량  지중온도\n",
       "일시                                                                      \n",
       "2018-01-01 00:00   2.3  0.0  1.7  340.0  84.0  0.0  0.0  0.0   8.0   5.2\n",
       "2018-01-01 01:00   2.3  0.0  2.4   20.0  89.0  0.0  0.0  0.0   0.0   5.1\n",
       "2018-01-01 02:00   1.9  0.0  1.8   20.0  79.0  0.0  0.0  0.0   0.0   5.0\n",
       "2018-01-01 03:00   1.6  0.0  2.1   20.0  82.0  0.0  0.0  0.0   5.0   4.9\n",
       "2018-01-01 04:00   1.4  0.0  1.9   20.0  78.0  0.0  0.0  0.0   7.0   4.8\n",
       "...                ...  ...  ...    ...   ...  ...  ...  ...   ...   ...\n",
       "2020-10-31 19:00  15.9  0.0  2.7  180.0  60.0  0.0  0.0  0.0  10.0  16.3\n",
       "2020-10-31 20:00  14.8  0.0  2.4  160.0  64.0  0.0  0.0  0.0   4.0  16.1\n",
       "2020-10-31 21:00  14.0  0.0  3.3  140.0  66.0  0.0  0.0  0.0   6.0  15.8\n",
       "2020-10-31 22:00  14.0  0.0  3.0  160.0  63.0  0.0  0.0  0.0   9.0  15.6\n",
       "2020-10-31 23:00  13.6  0.0  3.3  140.0  64.0  0.0  0.0  0.0   9.0  15.5\n",
       "\n",
       "[24838 rows x 10 columns]"
      ],
      "text/html": "<div>\n<style scoped>\n    .dataframe tbody tr th:only-of-type {\n        vertical-align: middle;\n    }\n\n    .dataframe tbody tr th {\n        vertical-align: top;\n    }\n\n    .dataframe thead th {\n        text-align: right;\n    }\n</style>\n<table border=\"1\" class=\"dataframe\">\n  <thead>\n    <tr style=\"text-align: right;\">\n      <th></th>\n      <th>기온</th>\n      <th>강수량</th>\n      <th>풍속</th>\n      <th>풍향</th>\n      <th>습도</th>\n      <th>일조</th>\n      <th>일사</th>\n      <th>적설</th>\n      <th>전운량</th>\n      <th>지중온도</th>\n    </tr>\n    <tr>\n      <th>일시</th>\n      <th></th>\n      <th></th>\n      <th></th>\n      <th></th>\n      <th></th>\n      <th></th>\n      <th></th>\n      <th></th>\n      <th></th>\n      <th></th>\n    </tr>\n  </thead>\n  <tbody>\n    <tr>\n      <th>2018-01-01 00:00</th>\n      <td>2.3</td>\n      <td>0.0</td>\n      <td>1.7</td>\n      <td>340.0</td>\n      <td>84.0</td>\n      <td>0.0</td>\n      <td>0.0</td>\n      <td>0.0</td>\n      <td>8.0</td>\n      <td>5.2</td>\n    </tr>\n    <tr>\n      <th>2018-01-01 01:00</th>\n      <td>2.3</td>\n      <td>0.0</td>\n      <td>2.4</td>\n      <td>20.0</td>\n      <td>89.0</td>\n      <td>0.0</td>\n      <td>0.0</td>\n      <td>0.0</td>\n      <td>0.0</td>\n      <td>5.1</td>\n    </tr>\n    <tr>\n      <th>2018-01-01 02:00</th>\n      <td>1.9</td>\n      <td>0.0</td>\n      <td>1.8</td>\n      <td>20.0</td>\n      <td>79.0</td>\n      <td>0.0</td>\n      <td>0.0</td>\n      <td>0.0</td>\n      <td>0.0</td>\n      <td>5.0</td>\n    </tr>\n    <tr>\n      <th>2018-01-01 03:00</th>\n      <td>1.6</td>\n      <td>0.0</td>\n      <td>2.1</td>\n      <td>20.0</td>\n      <td>82.0</td>\n      <td>0.0</td>\n      <td>0.0</td>\n      <td>0.0</td>\n      <td>5.0</td>\n      <td>4.9</td>\n    </tr>\n    <tr>\n      <th>2018-01-01 04:00</th>\n      <td>1.4</td>\n      <td>0.0</td>\n      <td>1.9</td>\n      <td>20.0</td>\n      <td>78.0</td>\n      <td>0.0</td>\n      <td>0.0</td>\n      <td>0.0</td>\n      <td>7.0</td>\n      <td>4.8</td>\n    </tr>\n    <tr>\n      <th>...</th>\n      <td>...</td>\n      <td>...</td>\n      <td>...</td>\n      <td>...</td>\n      <td>...</td>\n      <td>...</td>\n      <td>...</td>\n      <td>...</td>\n      <td>...</td>\n      <td>...</td>\n    </tr>\n    <tr>\n      <th>2020-10-31 19:00</th>\n      <td>15.9</td>\n      <td>0.0</td>\n      <td>2.7</td>\n      <td>180.0</td>\n      <td>60.0</td>\n      <td>0.0</td>\n      <td>0.0</td>\n      <td>0.0</td>\n      <td>10.0</td>\n      <td>16.3</td>\n    </tr>\n    <tr>\n      <th>2020-10-31 20:00</th>\n      <td>14.8</td>\n      <td>0.0</td>\n      <td>2.4</td>\n      <td>160.0</td>\n      <td>64.0</td>\n      <td>0.0</td>\n      <td>0.0</td>\n      <td>0.0</td>\n      <td>4.0</td>\n      <td>16.1</td>\n    </tr>\n    <tr>\n      <th>2020-10-31 21:00</th>\n      <td>14.0</td>\n      <td>0.0</td>\n      <td>3.3</td>\n      <td>140.0</td>\n      <td>66.0</td>\n      <td>0.0</td>\n      <td>0.0</td>\n      <td>0.0</td>\n      <td>6.0</td>\n      <td>15.8</td>\n    </tr>\n    <tr>\n      <th>2020-10-31 22:00</th>\n      <td>14.0</td>\n      <td>0.0</td>\n      <td>3.0</td>\n      <td>160.0</td>\n      <td>63.0</td>\n      <td>0.0</td>\n      <td>0.0</td>\n      <td>0.0</td>\n      <td>9.0</td>\n      <td>15.6</td>\n    </tr>\n    <tr>\n      <th>2020-10-31 23:00</th>\n      <td>13.6</td>\n      <td>0.0</td>\n      <td>3.3</td>\n      <td>140.0</td>\n      <td>64.0</td>\n      <td>0.0</td>\n      <td>0.0</td>\n      <td>0.0</td>\n      <td>9.0</td>\n      <td>15.5</td>\n    </tr>\n  </tbody>\n</table>\n<p>24838 rows × 10 columns</p>\n</div>"
     },
     "metadata": {},
     "execution_count": 29
    }
   ],
   "source": [
    "## DELETE COLUMN AND EDIT COLUMN\n",
    "\n",
    "## '지점', '지점명', '일시', '기온(°C)', '강수량(mm)', '풍속(m/s)', '풍향(16방위)', '습도(%)','일조(hr)', '일사(MJ/m2)', '적설(cm)', '전운량(10분위)', '10cm 지중온도(°C)'\n",
    "#=>\n",
    "\n",
    "## '기온', '강수량', '풍속', '풍향', '습도', '일조', '일사', '전운량', '지면온도'\n",
    "reset_other_weather = other_data_weather.set_index(\"일시\")\n",
    "reset_other_weather_need = reset_other_weather[['기온(°C)', '강수량(mm)', '풍속(m/s)', '풍향(16방위)', '습도(%)','일조(hr)', '일사(MJ/m2)', '적설(cm)', '전운량(10분위)', '10cm 지중온도(°C)']]\n",
    "reset_other_weather_need.columns = ['기온', '강수량', '풍속', '풍향', '습도', '일조', '일사', '적설', '전운량', '지중온도']\n",
    "reset_other_weather_need.fillna(0, inplace=True)\n",
    "reset_other_weather_need\n",
    "\n"
   ]
  },
  {
   "cell_type": "code",
   "execution_count": 30,
   "metadata": {},
   "outputs": [
    {
     "output_type": "execute_result",
     "data": {
      "text/plain": [
       "                    env_date dummy_time  env_slopesolar  env_levelsolar  \\\n",
       "2018-11-19 15:00  2018-11-19         15      217.800000      342.600000   \n",
       "2018-11-19 16:00  2018-11-19         16       72.434783      114.275362   \n",
       "2018-11-19 17:00  2018-11-19         17        2.000000        2.560606   \n",
       "2018-11-20 09:00  2018-11-20         09      343.594203      521.086957   \n",
       "2018-11-20 10:00  2018-11-20         10      482.628571      700.400000   \n",
       "...                      ...        ...             ...             ...   \n",
       "2020-10-22 13:00  2020-10-22         13      261.292308      270.461538   \n",
       "2020-10-22 14:00  2020-10-22         14      164.333333      175.066667   \n",
       "2020-10-22 15:00  2020-10-22         15      164.481481      167.777778   \n",
       "2020-10-22 16:00  2020-10-22         16      198.107692      166.461538   \n",
       "2020-10-22 17:00  2020-10-22         17       17.938462       16.123077   \n",
       "\n",
       "                  env_modtemp  env_airtemp     pow_dcv    pow_dca         watt  \n",
       "2018-11-19 15:00    18.356000    13.632000  158.137931   6.058621   956.717241  \n",
       "2018-11-19 16:00    11.605797    10.982609  148.144928   1.752174   272.220290  \n",
       "2018-11-19 17:00     6.257576     7.593939  123.321429   0.114286    13.660714  \n",
       "2018-11-20 09:00    14.363768     8.773913  163.088889   8.515556  1385.920000  \n",
       "2018-11-20 10:00    19.031429    10.270000  156.666667  12.120833  1898.741667  \n",
       "...                       ...          ...         ...        ...          ...  \n",
       "2020-10-22 13:00    20.952308    16.832308  150.800000   4.626154   698.161538  \n",
       "2020-10-22 14:00    19.063333    16.203333  149.800000   2.963333   444.900000  \n",
       "2020-10-22 15:00    15.685185    14.251852  152.629630   2.988889   456.574074  \n",
       "2020-10-22 16:00    16.232308    14.155385  153.769231   3.220000   496.530769  \n",
       "2020-10-22 17:00    11.821538    12.835385  127.741935   0.388710    52.322581  \n",
       "\n",
       "[4790 rows x 9 columns]"
      ],
      "text/html": "<div>\n<style scoped>\n    .dataframe tbody tr th:only-of-type {\n        vertical-align: middle;\n    }\n\n    .dataframe tbody tr th {\n        vertical-align: top;\n    }\n\n    .dataframe thead th {\n        text-align: right;\n    }\n</style>\n<table border=\"1\" class=\"dataframe\">\n  <thead>\n    <tr style=\"text-align: right;\">\n      <th></th>\n      <th>env_date</th>\n      <th>dummy_time</th>\n      <th>env_slopesolar</th>\n      <th>env_levelsolar</th>\n      <th>env_modtemp</th>\n      <th>env_airtemp</th>\n      <th>pow_dcv</th>\n      <th>pow_dca</th>\n      <th>watt</th>\n    </tr>\n  </thead>\n  <tbody>\n    <tr>\n      <th>2018-11-19 15:00</th>\n      <td>2018-11-19</td>\n      <td>15</td>\n      <td>217.800000</td>\n      <td>342.600000</td>\n      <td>18.356000</td>\n      <td>13.632000</td>\n      <td>158.137931</td>\n      <td>6.058621</td>\n      <td>956.717241</td>\n    </tr>\n    <tr>\n      <th>2018-11-19 16:00</th>\n      <td>2018-11-19</td>\n      <td>16</td>\n      <td>72.434783</td>\n      <td>114.275362</td>\n      <td>11.605797</td>\n      <td>10.982609</td>\n      <td>148.144928</td>\n      <td>1.752174</td>\n      <td>272.220290</td>\n    </tr>\n    <tr>\n      <th>2018-11-19 17:00</th>\n      <td>2018-11-19</td>\n      <td>17</td>\n      <td>2.000000</td>\n      <td>2.560606</td>\n      <td>6.257576</td>\n      <td>7.593939</td>\n      <td>123.321429</td>\n      <td>0.114286</td>\n      <td>13.660714</td>\n    </tr>\n    <tr>\n      <th>2018-11-20 09:00</th>\n      <td>2018-11-20</td>\n      <td>09</td>\n      <td>343.594203</td>\n      <td>521.086957</td>\n      <td>14.363768</td>\n      <td>8.773913</td>\n      <td>163.088889</td>\n      <td>8.515556</td>\n      <td>1385.920000</td>\n    </tr>\n    <tr>\n      <th>2018-11-20 10:00</th>\n      <td>2018-11-20</td>\n      <td>10</td>\n      <td>482.628571</td>\n      <td>700.400000</td>\n      <td>19.031429</td>\n      <td>10.270000</td>\n      <td>156.666667</td>\n      <td>12.120833</td>\n      <td>1898.741667</td>\n    </tr>\n    <tr>\n      <th>...</th>\n      <td>...</td>\n      <td>...</td>\n      <td>...</td>\n      <td>...</td>\n      <td>...</td>\n      <td>...</td>\n      <td>...</td>\n      <td>...</td>\n      <td>...</td>\n    </tr>\n    <tr>\n      <th>2020-10-22 13:00</th>\n      <td>2020-10-22</td>\n      <td>13</td>\n      <td>261.292308</td>\n      <td>270.461538</td>\n      <td>20.952308</td>\n      <td>16.832308</td>\n      <td>150.800000</td>\n      <td>4.626154</td>\n      <td>698.161538</td>\n    </tr>\n    <tr>\n      <th>2020-10-22 14:00</th>\n      <td>2020-10-22</td>\n      <td>14</td>\n      <td>164.333333</td>\n      <td>175.066667</td>\n      <td>19.063333</td>\n      <td>16.203333</td>\n      <td>149.800000</td>\n      <td>2.963333</td>\n      <td>444.900000</td>\n    </tr>\n    <tr>\n      <th>2020-10-22 15:00</th>\n      <td>2020-10-22</td>\n      <td>15</td>\n      <td>164.481481</td>\n      <td>167.777778</td>\n      <td>15.685185</td>\n      <td>14.251852</td>\n      <td>152.629630</td>\n      <td>2.988889</td>\n      <td>456.574074</td>\n    </tr>\n    <tr>\n      <th>2020-10-22 16:00</th>\n      <td>2020-10-22</td>\n      <td>16</td>\n      <td>198.107692</td>\n      <td>166.461538</td>\n      <td>16.232308</td>\n      <td>14.155385</td>\n      <td>153.769231</td>\n      <td>3.220000</td>\n      <td>496.530769</td>\n    </tr>\n    <tr>\n      <th>2020-10-22 17:00</th>\n      <td>2020-10-22</td>\n      <td>17</td>\n      <td>17.938462</td>\n      <td>16.123077</td>\n      <td>11.821538</td>\n      <td>12.835385</td>\n      <td>127.741935</td>\n      <td>0.388710</td>\n      <td>52.322581</td>\n    </tr>\n  </tbody>\n</table>\n<p>4790 rows × 9 columns</p>\n</div>"
     },
     "metadata": {},
     "execution_count": 30
    }
   ],
   "source": [
    "## 기업 solar weather EDA -> 필요\n",
    "ent_data_weather.columns \n",
    "\n",
    "# ent_data_weather[\"env_levelsolar\"].describe()\n",
    "# ent_data_weather[\"env_slopesolar\"].describe()\n",
    "\n",
    "\n",
    "## 기업 날씨 데이터 1시간 별로 groupby , ( slopesolar, levelsolar => sum) , ( modtemp, airtemp => mean )\n",
    "def groupby_weather():\n",
    "    ## time 구분\n",
    "    dummy_time_list = []\n",
    "    for i in ent_data_weather[\"env_time\"]:\n",
    "        dummy_time_list.append(i[:2])\n",
    "\n",
    "    ent_data_weather[\"dummy_time\"] = dummy_time_list\n",
    "    dummy_groupbyall = ent_data_weather.groupby([\"env_date\", \"dummy_time\"]).mean()\n",
    "    ent_data_weather_groupby = dummy_groupbyall.reset_index() ## 그룹화된 인덱스 풀기 \n",
    "\n",
    "    ### 발전량이 거의 없는 데이터 삭제 ( 9~ 19 까지만 살린다)\n",
    "    drop_data = ent_data_weather_groupby.isin({\"dummy_time\" : [\"00\", \"01\", \"02\", \"03\", \"04\", \"05\", \"06\", \"07\",\"08\", \"19\", \"20\", \"21\", \"22\", \"23\"]})\n",
    "    ent_data_weather_sort = ent_data_weather_groupby[~drop_data].dropna()\n",
    "    # print(ent_data_weather_sort)\n",
    "    ent_data_weather_sort.drop(\"env_index\", axis=1, inplace=True)\n",
    "\n",
    "    return ent_data_weather_sort\n",
    "\n",
    "\n",
    "\n",
    "\n",
    "## 기업 발전량 데이터 groupby\n",
    "def groupby_solar():\n",
    "    ## 필요한 컬럼만 가져오기\n",
    "    ent_data_need = ent_data_solar1[[\"pow_date\", \"pow_time\", \"pow_totpower\"]]\n",
    "\n",
    "    ## time 구분\n",
    "    dummy_time_list = []\n",
    "    for i in ent_data_need[\"pow_time\"]:\n",
    "        dummy_time_list.append(i[:2])\n",
    "    ent_data_need[\"dummy_time\"] = dummy_time_list\n",
    "\n",
    "    dummy_groupby1 = ent_data_need.groupby([\"pow_date\", \"dummy_time\"]).min()\n",
    "    dummy_groupby2 = ent_data_need.groupby([\"pow_date\", \"dummy_time\"]).max()\n",
    "\n",
    "    ## 최대값과 최솟값 차 = 1시간동안 발전한 총용량\n",
    "    ## 최대값과 최솟값이 같을 경우 = 발전량 0 or 그 시간대 총발전량이 1개밖에 없어 비교 불가능한 경우\n",
    "    ent_data_perhour = dummy_groupby2[\"pow_totpower\"] - dummy_groupby1[\"pow_totpower\"]\n",
    "    ent_data_perhour = ent_data_perhour.reset_index()\n",
    "\n",
    "    ### 발전량이 거의 없는 데이터 삭제 ( 8~ 19 까지만 살린다)\n",
    "    drop_data = ent_data_perhour.isin({\"dummy_time\" : [\"00\", \"01\", \"02\", \"03\", \"04\", \"05\", \"06\", \"07\",\"08\", \"19\", \"20\", \"21\", \"22\", \"23\"]})\n",
    "    ent_data_perhour_sort = ent_data_perhour[~drop_data].dropna()\n",
    "\n",
    "    return ent_data_perhour_sort\n",
    "    # print(ent_data_perhour_sort[\"dummy_time\"].unique())\n",
    "\n",
    "def groupby_solar_reset():\n",
    "    ## 필요한 컬럼만 가져오기\n",
    "    ent_data_need = ent_data_solar1[[\"pow_date\", \"pow_time\", \"pow_dcv\", \"pow_dca\"]]\n",
    "\n",
    "    ## time 구분\n",
    "    dummy_time_list = []\n",
    "    for i in ent_data_need[\"pow_time\"]:\n",
    "        dummy_time_list.append(i[:2])\n",
    "    ent_data_need[\"dummy_time\"] = dummy_time_list\n",
    "\n",
    "    ent_data_need[\"watt\"] = ent_data_need[\"pow_dcv\"] * ent_data_need[\"pow_dca\"]\n",
    "\n",
    "    ## RESET 발전량 :: 직류 전압 X 직류 전류 : 발전량 ,, GROUPBY해서 직류X전류 의 평균량으로 구한다\n",
    "    ent_data_perhour = ent_data_need.groupby([\"pow_date\", \"dummy_time\"]).mean()\n",
    "    ent_data_perhour = ent_data_perhour.reset_index()\n",
    "\n",
    "\n",
    "    drop_data = ent_data_perhour.isin({\"dummy_time\" : [\"00\", \"01\", \"02\", \"03\", \"04\", \"05\", \"06\", \"07\",\"08\", \"19\", \"20\", \"21\", \"22\", \"23\"]})\n",
    "    ent_data_perhour_sort = ent_data_perhour[~drop_data].dropna()\n",
    "\n",
    "    return ent_data_perhour_sort\n",
    "\n",
    "\n",
    "\n",
    "### weather, solar join\n",
    "def join_weather_solar(a, b):\n",
    "    sub_index1 = a[\"env_date\"] + \" \" + a[\"dummy_time\"] + \":00\"\n",
    "    a.index = sub_index1\n",
    "\n",
    "    sub_index2 = b[\"pow_date\"] + \" \" + b[\"dummy_time\"] + \":00\"\n",
    "    b.index = sub_index2\n",
    "\n",
    "    joinset = a.join(b[[\"pow_dcv\", \"pow_dca\", \"watt\" ]])\n",
    "    ent_data_solar_weather = joinset.dropna()\n",
    "\n",
    "\n",
    "    return ent_data_solar_weather\n",
    "\n",
    "ent_data_weather_sort = groupby_weather()\n",
    "ent_data_perhour_sort = groupby_solar_reset()\n",
    "ent_data_solar_weather = join_weather_solar(ent_data_weather_sort, ent_data_perhour_sort)\n",
    "ent_data_solar_weather\n",
    "# pow_perhour \n",
    "# sns.boxplot(ent_data_weather_sort[\"env_slopesolar\"])\n",
    "# sns.boxplot(ent_data_weather_sort[\"env_levelsolar\"])\n",
    "# sns.boxplot(data = ent_data_weather_sort[[\"env_slopesolar\", \"env_levelsolar\"]])\n",
    "# ent_data_weather_sort[[\"env_slopesolar\", \"env_levelsolar\"]]\n",
    "\n",
    "# print(len(joinset) - 2504)\n"
   ]
  },
  {
   "cell_type": "code",
   "execution_count": 31,
   "metadata": {},
   "outputs": [],
   "source": [
    "## 기업, 공공 join\n",
    "\n",
    "join_ent_other = ent_data_solar_weather.join(reset_other_weather_need)\n",
    "join_ent_other[\"일사\"].fillna(0, inplace=True)\n",
    "# join_ent_other\n",
    "join_ent_other[\"match_solar\"] = join_ent_other[\"일사\"] * 1000000 / 3600\n",
    "join_ent_other_set = join_ent_other.drop([\"env_date\", \"dummy_time\"], axis=1)\n",
    "\n",
    "## csv로 저장\n",
    "join_ent_other_set.to_csv('NewREC1_join.csv', encoding='utf-8')\n"
   ]
  },
  {
   "cell_type": "code",
   "execution_count": 32,
   "metadata": {},
   "outputs": [
    {
     "output_type": "execute_result",
     "data": {
      "text/plain": [
       "       env_slopesolar  env_levelsolar  env_modtemp  env_airtemp      pow_dcv  \\\n",
       "count     4790.000000     4790.000000  4790.000000  4790.000000  4790.000000   \n",
       "mean       395.619105      371.406466    24.920973    17.771874   147.084755   \n",
       "std        293.973481      275.652747    13.564222     9.719047    12.601041   \n",
       "min          0.000000        0.000000    -7.466667    -6.160294   105.000000   \n",
       "25%        124.658266      124.734982    15.115672     9.305036   139.855415   \n",
       "50%        355.107851      333.637072    24.909028    19.542726   145.630769   \n",
       "75%        643.678125      579.629596    35.268329    25.416544   155.173404   \n",
       "max       1051.529412     1051.100000    56.115789    40.056923   188.784615   \n",
       "\n",
       "           pow_dca         watt           기온          강수량           풍속  \\\n",
       "count  4790.000000  4790.000000  4790.000000  4790.000000  4790.000000   \n",
       "mean      6.022193   873.855212    17.201190     0.184071     4.038205   \n",
       "std       4.890242   693.828557     9.253353     1.285929     2.134064   \n",
       "min       0.000000     0.000000    -5.300000     0.000000     0.000000   \n",
       "25%       1.610349   237.319183     8.700000     0.000000     2.500000   \n",
       "50%       4.874447   724.547979    19.600000     0.000000     3.700000   \n",
       "75%      10.092159  1472.782031    24.700000     0.000000     5.200000   \n",
       "max      17.844444  2453.830000    33.500000    33.200000    14.400000   \n",
       "\n",
       "                풍향           습도           일조           일사           적설  \\\n",
       "count  4790.000000  4790.000000  4790.000000  4790.000000  4790.000000   \n",
       "mean    221.897704    65.292902     0.591190     1.405954     0.021273   \n",
       "std     125.340089    16.107478     0.432972     0.902998     0.269095   \n",
       "min       0.000000    17.000000     0.000000     0.000000     0.000000   \n",
       "25%     140.000000    55.000000     0.000000     0.630000     0.000000   \n",
       "50%     250.000000    65.000000     0.800000     1.310000     0.000000   \n",
       "75%     340.000000    77.000000     1.000000     2.047500     0.000000   \n",
       "max     360.000000   100.000000     1.000000     3.690000     5.200000   \n",
       "\n",
       "               전운량         지중온도  match_solar  \n",
       "count  4790.000000  4790.000000  4790.000000  \n",
       "mean      5.781628    17.071962   390.542797  \n",
       "std       3.530542     8.648147   250.832655  \n",
       "min       0.000000     0.000000     0.000000  \n",
       "25%       3.000000     8.600000   175.000000  \n",
       "50%       7.000000    19.000000   363.888889  \n",
       "75%       9.000000    24.500000   568.750000  \n",
       "max      10.000000    31.500000  1025.000000  "
      ],
      "text/html": "<div>\n<style scoped>\n    .dataframe tbody tr th:only-of-type {\n        vertical-align: middle;\n    }\n\n    .dataframe tbody tr th {\n        vertical-align: top;\n    }\n\n    .dataframe thead th {\n        text-align: right;\n    }\n</style>\n<table border=\"1\" class=\"dataframe\">\n  <thead>\n    <tr style=\"text-align: right;\">\n      <th></th>\n      <th>env_slopesolar</th>\n      <th>env_levelsolar</th>\n      <th>env_modtemp</th>\n      <th>env_airtemp</th>\n      <th>pow_dcv</th>\n      <th>pow_dca</th>\n      <th>watt</th>\n      <th>기온</th>\n      <th>강수량</th>\n      <th>풍속</th>\n      <th>풍향</th>\n      <th>습도</th>\n      <th>일조</th>\n      <th>일사</th>\n      <th>적설</th>\n      <th>전운량</th>\n      <th>지중온도</th>\n      <th>match_solar</th>\n    </tr>\n  </thead>\n  <tbody>\n    <tr>\n      <th>count</th>\n      <td>4790.000000</td>\n      <td>4790.000000</td>\n      <td>4790.000000</td>\n      <td>4790.000000</td>\n      <td>4790.000000</td>\n      <td>4790.000000</td>\n      <td>4790.000000</td>\n      <td>4790.000000</td>\n      <td>4790.000000</td>\n      <td>4790.000000</td>\n      <td>4790.000000</td>\n      <td>4790.000000</td>\n      <td>4790.000000</td>\n      <td>4790.000000</td>\n      <td>4790.000000</td>\n      <td>4790.000000</td>\n      <td>4790.000000</td>\n      <td>4790.000000</td>\n    </tr>\n    <tr>\n      <th>mean</th>\n      <td>395.619105</td>\n      <td>371.406466</td>\n      <td>24.920973</td>\n      <td>17.771874</td>\n      <td>147.084755</td>\n      <td>6.022193</td>\n      <td>873.855212</td>\n      <td>17.201190</td>\n      <td>0.184071</td>\n      <td>4.038205</td>\n      <td>221.897704</td>\n      <td>65.292902</td>\n      <td>0.591190</td>\n      <td>1.405954</td>\n      <td>0.021273</td>\n      <td>5.781628</td>\n      <td>17.071962</td>\n      <td>390.542797</td>\n    </tr>\n    <tr>\n      <th>std</th>\n      <td>293.973481</td>\n      <td>275.652747</td>\n      <td>13.564222</td>\n      <td>9.719047</td>\n      <td>12.601041</td>\n      <td>4.890242</td>\n      <td>693.828557</td>\n      <td>9.253353</td>\n      <td>1.285929</td>\n      <td>2.134064</td>\n      <td>125.340089</td>\n      <td>16.107478</td>\n      <td>0.432972</td>\n      <td>0.902998</td>\n      <td>0.269095</td>\n      <td>3.530542</td>\n      <td>8.648147</td>\n      <td>250.832655</td>\n    </tr>\n    <tr>\n      <th>min</th>\n      <td>0.000000</td>\n      <td>0.000000</td>\n      <td>-7.466667</td>\n      <td>-6.160294</td>\n      <td>105.000000</td>\n      <td>0.000000</td>\n      <td>0.000000</td>\n      <td>-5.300000</td>\n      <td>0.000000</td>\n      <td>0.000000</td>\n      <td>0.000000</td>\n      <td>17.000000</td>\n      <td>0.000000</td>\n      <td>0.000000</td>\n      <td>0.000000</td>\n      <td>0.000000</td>\n      <td>0.000000</td>\n      <td>0.000000</td>\n    </tr>\n    <tr>\n      <th>25%</th>\n      <td>124.658266</td>\n      <td>124.734982</td>\n      <td>15.115672</td>\n      <td>9.305036</td>\n      <td>139.855415</td>\n      <td>1.610349</td>\n      <td>237.319183</td>\n      <td>8.700000</td>\n      <td>0.000000</td>\n      <td>2.500000</td>\n      <td>140.000000</td>\n      <td>55.000000</td>\n      <td>0.000000</td>\n      <td>0.630000</td>\n      <td>0.000000</td>\n      <td>3.000000</td>\n      <td>8.600000</td>\n      <td>175.000000</td>\n    </tr>\n    <tr>\n      <th>50%</th>\n      <td>355.107851</td>\n      <td>333.637072</td>\n      <td>24.909028</td>\n      <td>19.542726</td>\n      <td>145.630769</td>\n      <td>4.874447</td>\n      <td>724.547979</td>\n      <td>19.600000</td>\n      <td>0.000000</td>\n      <td>3.700000</td>\n      <td>250.000000</td>\n      <td>65.000000</td>\n      <td>0.800000</td>\n      <td>1.310000</td>\n      <td>0.000000</td>\n      <td>7.000000</td>\n      <td>19.000000</td>\n      <td>363.888889</td>\n    </tr>\n    <tr>\n      <th>75%</th>\n      <td>643.678125</td>\n      <td>579.629596</td>\n      <td>35.268329</td>\n      <td>25.416544</td>\n      <td>155.173404</td>\n      <td>10.092159</td>\n      <td>1472.782031</td>\n      <td>24.700000</td>\n      <td>0.000000</td>\n      <td>5.200000</td>\n      <td>340.000000</td>\n      <td>77.000000</td>\n      <td>1.000000</td>\n      <td>2.047500</td>\n      <td>0.000000</td>\n      <td>9.000000</td>\n      <td>24.500000</td>\n      <td>568.750000</td>\n    </tr>\n    <tr>\n      <th>max</th>\n      <td>1051.529412</td>\n      <td>1051.100000</td>\n      <td>56.115789</td>\n      <td>40.056923</td>\n      <td>188.784615</td>\n      <td>17.844444</td>\n      <td>2453.830000</td>\n      <td>33.500000</td>\n      <td>33.200000</td>\n      <td>14.400000</td>\n      <td>360.000000</td>\n      <td>100.000000</td>\n      <td>1.000000</td>\n      <td>3.690000</td>\n      <td>5.200000</td>\n      <td>10.000000</td>\n      <td>31.500000</td>\n      <td>1025.000000</td>\n    </tr>\n  </tbody>\n</table>\n</div>"
     },
     "metadata": {},
     "execution_count": 32
    }
   ],
   "source": [
    "join_ent_other_set.describe()"
   ]
  },
  {
   "cell_type": "code",
   "execution_count": 33,
   "metadata": {},
   "outputs": [
    {
     "output_type": "execute_result",
     "data": {
      "text/plain": [
       "                env_slopesolar  env_levelsolar  env_modtemp  env_airtemp  \\\n",
       "env_slopesolar        1.000000        0.975677     0.700562     0.396105   \n",
       "env_levelsolar        0.975677        1.000000     0.765087     0.493520   \n",
       "env_modtemp           0.700562        0.765087     1.000000     0.919835   \n",
       "env_airtemp           0.396105        0.493520     0.919835     1.000000   \n",
       "pow_dcv               0.290923        0.251088    -0.067273    -0.242373   \n",
       "pow_dca               0.785181        0.775255     0.586715     0.377259   \n",
       "watt                  0.779674        0.765037     0.549188     0.335321   \n",
       "기온                    0.157754        0.266047     0.785522     0.947096   \n",
       "강수량                  -0.150930       -0.145698    -0.046382     0.015204   \n",
       "풍속                   -0.110805       -0.146840    -0.286633    -0.289524   \n",
       "풍향                    0.043250        0.049043     0.085769     0.079648   \n",
       "습도                   -0.350295       -0.311331     0.007408     0.174305   \n",
       "일조                    0.480058        0.445742     0.247297     0.086810   \n",
       "일사                    0.756473        0.775660     0.644188     0.445592   \n",
       "적설                   -0.040409       -0.048030    -0.148372    -0.164028   \n",
       "전운량                  -0.396678       -0.346304    -0.116429     0.041381   \n",
       "지중온도                  0.088971        0.193635     0.700175     0.868863   \n",
       "match_solar           0.756473        0.775660     0.644188     0.445592   \n",
       "\n",
       "                 pow_dcv   pow_dca      watt        기온       강수량        풍속  \\\n",
       "env_slopesolar  0.290923  0.785181  0.779674  0.157754 -0.150930 -0.110805   \n",
       "env_levelsolar  0.251088  0.775255  0.765037  0.266047 -0.145698 -0.146840   \n",
       "env_modtemp    -0.067273  0.586715  0.549188  0.785522 -0.046382 -0.286633   \n",
       "env_airtemp    -0.242373  0.377259  0.335321  0.947096  0.015204 -0.289524   \n",
       "pow_dcv         1.000000 -0.070035 -0.023412 -0.363491 -0.079436  0.085831   \n",
       "pow_dca        -0.070035  1.000000  0.996275  0.210891 -0.128719 -0.149130   \n",
       "watt           -0.023412  0.996275  1.000000  0.166345 -0.131645 -0.137370   \n",
       "기온             -0.363491  0.210891  0.166345  1.000000  0.053843 -0.244987   \n",
       "강수량            -0.079436 -0.128719 -0.131645  0.053843  1.000000  0.031003   \n",
       "풍속              0.085831 -0.149130 -0.137370 -0.244987  0.031003  1.000000   \n",
       "풍향             -0.074346  0.011142 -0.001723  0.093511 -0.095673  0.165806   \n",
       "습도             -0.248662 -0.217625 -0.235874  0.234277  0.254669 -0.124756   \n",
       "일조              0.143844  0.388003  0.394909  0.010520 -0.191804  0.072254   \n",
       "일사              0.203931  0.574059  0.565162  0.322610 -0.187364  0.016366   \n",
       "적설             -0.000887 -0.080911 -0.081351 -0.161207  0.004172  0.057730   \n",
       "전운량            -0.164972 -0.291407 -0.305168  0.119603  0.169506 -0.047961   \n",
       "지중온도           -0.386710  0.159886  0.115770  0.928338  0.081480 -0.191017   \n",
       "match_solar     0.203931  0.574059  0.565162  0.322610 -0.187364  0.016366   \n",
       "\n",
       "                      풍향        습도        일조        일사        적설       전운량  \\\n",
       "env_slopesolar  0.043250 -0.350295  0.480058  0.756473 -0.040409 -0.396678   \n",
       "env_levelsolar  0.049043 -0.311331  0.445742  0.775660 -0.048030 -0.346304   \n",
       "env_modtemp     0.085769  0.007408  0.247297  0.644188 -0.148372 -0.116429   \n",
       "env_airtemp     0.079648  0.174305  0.086810  0.445592 -0.164028  0.041381   \n",
       "pow_dcv        -0.074346 -0.248662  0.143844  0.203931 -0.000887 -0.164972   \n",
       "pow_dca         0.011142 -0.217625  0.388003  0.574059 -0.080911 -0.291407   \n",
       "watt           -0.001723 -0.235874  0.394909  0.565162 -0.081351 -0.305168   \n",
       "기온              0.093511  0.234277  0.010520  0.322610 -0.161207  0.119603   \n",
       "강수량            -0.095673  0.254669 -0.191804 -0.187364  0.004172  0.169506   \n",
       "풍속              0.165806 -0.124756  0.072254  0.016366  0.057730 -0.047961   \n",
       "풍향              1.000000 -0.137454  0.153317  0.192885 -0.063187 -0.103847   \n",
       "습도             -0.137454  1.000000 -0.578293 -0.493728  0.062052  0.540925   \n",
       "일조              0.153317 -0.578293  1.000000  0.705830 -0.029504 -0.791523   \n",
       "일사              0.192885 -0.493728  0.705830  1.000000 -0.060190 -0.506185   \n",
       "적설             -0.063187  0.062052 -0.029504 -0.060190  1.000000  0.032255   \n",
       "전운량            -0.103847  0.540925 -0.791523 -0.506185  0.032255  1.000000   \n",
       "지중온도            0.100199  0.293956 -0.037336  0.240646 -0.120088  0.159199   \n",
       "match_solar     0.192885 -0.493728  0.705830  1.000000 -0.060190 -0.506185   \n",
       "\n",
       "                    지중온도  match_solar  \n",
       "env_slopesolar  0.088971     0.756473  \n",
       "env_levelsolar  0.193635     0.775660  \n",
       "env_modtemp     0.700175     0.644188  \n",
       "env_airtemp     0.868863     0.445592  \n",
       "pow_dcv        -0.386710     0.203931  \n",
       "pow_dca         0.159886     0.574059  \n",
       "watt            0.115770     0.565162  \n",
       "기온              0.928338     0.322610  \n",
       "강수량             0.081480    -0.187364  \n",
       "풍속             -0.191017     0.016366  \n",
       "풍향              0.100199     0.192885  \n",
       "습도              0.293956    -0.493728  \n",
       "일조             -0.037336     0.705830  \n",
       "일사              0.240646     1.000000  \n",
       "적설             -0.120088    -0.060190  \n",
       "전운량             0.159199    -0.506185  \n",
       "지중온도            1.000000     0.240646  \n",
       "match_solar     0.240646     1.000000  "
      ],
      "text/html": "<div>\n<style scoped>\n    .dataframe tbody tr th:only-of-type {\n        vertical-align: middle;\n    }\n\n    .dataframe tbody tr th {\n        vertical-align: top;\n    }\n\n    .dataframe thead th {\n        text-align: right;\n    }\n</style>\n<table border=\"1\" class=\"dataframe\">\n  <thead>\n    <tr style=\"text-align: right;\">\n      <th></th>\n      <th>env_slopesolar</th>\n      <th>env_levelsolar</th>\n      <th>env_modtemp</th>\n      <th>env_airtemp</th>\n      <th>pow_dcv</th>\n      <th>pow_dca</th>\n      <th>watt</th>\n      <th>기온</th>\n      <th>강수량</th>\n      <th>풍속</th>\n      <th>풍향</th>\n      <th>습도</th>\n      <th>일조</th>\n      <th>일사</th>\n      <th>적설</th>\n      <th>전운량</th>\n      <th>지중온도</th>\n      <th>match_solar</th>\n    </tr>\n  </thead>\n  <tbody>\n    <tr>\n      <th>env_slopesolar</th>\n      <td>1.000000</td>\n      <td>0.975677</td>\n      <td>0.700562</td>\n      <td>0.396105</td>\n      <td>0.290923</td>\n      <td>0.785181</td>\n      <td>0.779674</td>\n      <td>0.157754</td>\n      <td>-0.150930</td>\n      <td>-0.110805</td>\n      <td>0.043250</td>\n      <td>-0.350295</td>\n      <td>0.480058</td>\n      <td>0.756473</td>\n      <td>-0.040409</td>\n      <td>-0.396678</td>\n      <td>0.088971</td>\n      <td>0.756473</td>\n    </tr>\n    <tr>\n      <th>env_levelsolar</th>\n      <td>0.975677</td>\n      <td>1.000000</td>\n      <td>0.765087</td>\n      <td>0.493520</td>\n      <td>0.251088</td>\n      <td>0.775255</td>\n      <td>0.765037</td>\n      <td>0.266047</td>\n      <td>-0.145698</td>\n      <td>-0.146840</td>\n      <td>0.049043</td>\n      <td>-0.311331</td>\n      <td>0.445742</td>\n      <td>0.775660</td>\n      <td>-0.048030</td>\n      <td>-0.346304</td>\n      <td>0.193635</td>\n      <td>0.775660</td>\n    </tr>\n    <tr>\n      <th>env_modtemp</th>\n      <td>0.700562</td>\n      <td>0.765087</td>\n      <td>1.000000</td>\n      <td>0.919835</td>\n      <td>-0.067273</td>\n      <td>0.586715</td>\n      <td>0.549188</td>\n      <td>0.785522</td>\n      <td>-0.046382</td>\n      <td>-0.286633</td>\n      <td>0.085769</td>\n      <td>0.007408</td>\n      <td>0.247297</td>\n      <td>0.644188</td>\n      <td>-0.148372</td>\n      <td>-0.116429</td>\n      <td>0.700175</td>\n      <td>0.644188</td>\n    </tr>\n    <tr>\n      <th>env_airtemp</th>\n      <td>0.396105</td>\n      <td>0.493520</td>\n      <td>0.919835</td>\n      <td>1.000000</td>\n      <td>-0.242373</td>\n      <td>0.377259</td>\n      <td>0.335321</td>\n      <td>0.947096</td>\n      <td>0.015204</td>\n      <td>-0.289524</td>\n      <td>0.079648</td>\n      <td>0.174305</td>\n      <td>0.086810</td>\n      <td>0.445592</td>\n      <td>-0.164028</td>\n      <td>0.041381</td>\n      <td>0.868863</td>\n      <td>0.445592</td>\n    </tr>\n    <tr>\n      <th>pow_dcv</th>\n      <td>0.290923</td>\n      <td>0.251088</td>\n      <td>-0.067273</td>\n      <td>-0.242373</td>\n      <td>1.000000</td>\n      <td>-0.070035</td>\n      <td>-0.023412</td>\n      <td>-0.363491</td>\n      <td>-0.079436</td>\n      <td>0.085831</td>\n      <td>-0.074346</td>\n      <td>-0.248662</td>\n      <td>0.143844</td>\n      <td>0.203931</td>\n      <td>-0.000887</td>\n      <td>-0.164972</td>\n      <td>-0.386710</td>\n      <td>0.203931</td>\n    </tr>\n    <tr>\n      <th>pow_dca</th>\n      <td>0.785181</td>\n      <td>0.775255</td>\n      <td>0.586715</td>\n      <td>0.377259</td>\n      <td>-0.070035</td>\n      <td>1.000000</td>\n      <td>0.996275</td>\n      <td>0.210891</td>\n      <td>-0.128719</td>\n      <td>-0.149130</td>\n      <td>0.011142</td>\n      <td>-0.217625</td>\n      <td>0.388003</td>\n      <td>0.574059</td>\n      <td>-0.080911</td>\n      <td>-0.291407</td>\n      <td>0.159886</td>\n      <td>0.574059</td>\n    </tr>\n    <tr>\n      <th>watt</th>\n      <td>0.779674</td>\n      <td>0.765037</td>\n      <td>0.549188</td>\n      <td>0.335321</td>\n      <td>-0.023412</td>\n      <td>0.996275</td>\n      <td>1.000000</td>\n      <td>0.166345</td>\n      <td>-0.131645</td>\n      <td>-0.137370</td>\n      <td>-0.001723</td>\n      <td>-0.235874</td>\n      <td>0.394909</td>\n      <td>0.565162</td>\n      <td>-0.081351</td>\n      <td>-0.305168</td>\n      <td>0.115770</td>\n      <td>0.565162</td>\n    </tr>\n    <tr>\n      <th>기온</th>\n      <td>0.157754</td>\n      <td>0.266047</td>\n      <td>0.785522</td>\n      <td>0.947096</td>\n      <td>-0.363491</td>\n      <td>0.210891</td>\n      <td>0.166345</td>\n      <td>1.000000</td>\n      <td>0.053843</td>\n      <td>-0.244987</td>\n      <td>0.093511</td>\n      <td>0.234277</td>\n      <td>0.010520</td>\n      <td>0.322610</td>\n      <td>-0.161207</td>\n      <td>0.119603</td>\n      <td>0.928338</td>\n      <td>0.322610</td>\n    </tr>\n    <tr>\n      <th>강수량</th>\n      <td>-0.150930</td>\n      <td>-0.145698</td>\n      <td>-0.046382</td>\n      <td>0.015204</td>\n      <td>-0.079436</td>\n      <td>-0.128719</td>\n      <td>-0.131645</td>\n      <td>0.053843</td>\n      <td>1.000000</td>\n      <td>0.031003</td>\n      <td>-0.095673</td>\n      <td>0.254669</td>\n      <td>-0.191804</td>\n      <td>-0.187364</td>\n      <td>0.004172</td>\n      <td>0.169506</td>\n      <td>0.081480</td>\n      <td>-0.187364</td>\n    </tr>\n    <tr>\n      <th>풍속</th>\n      <td>-0.110805</td>\n      <td>-0.146840</td>\n      <td>-0.286633</td>\n      <td>-0.289524</td>\n      <td>0.085831</td>\n      <td>-0.149130</td>\n      <td>-0.137370</td>\n      <td>-0.244987</td>\n      <td>0.031003</td>\n      <td>1.000000</td>\n      <td>0.165806</td>\n      <td>-0.124756</td>\n      <td>0.072254</td>\n      <td>0.016366</td>\n      <td>0.057730</td>\n      <td>-0.047961</td>\n      <td>-0.191017</td>\n      <td>0.016366</td>\n    </tr>\n    <tr>\n      <th>풍향</th>\n      <td>0.043250</td>\n      <td>0.049043</td>\n      <td>0.085769</td>\n      <td>0.079648</td>\n      <td>-0.074346</td>\n      <td>0.011142</td>\n      <td>-0.001723</td>\n      <td>0.093511</td>\n      <td>-0.095673</td>\n      <td>0.165806</td>\n      <td>1.000000</td>\n      <td>-0.137454</td>\n      <td>0.153317</td>\n      <td>0.192885</td>\n      <td>-0.063187</td>\n      <td>-0.103847</td>\n      <td>0.100199</td>\n      <td>0.192885</td>\n    </tr>\n    <tr>\n      <th>습도</th>\n      <td>-0.350295</td>\n      <td>-0.311331</td>\n      <td>0.007408</td>\n      <td>0.174305</td>\n      <td>-0.248662</td>\n      <td>-0.217625</td>\n      <td>-0.235874</td>\n      <td>0.234277</td>\n      <td>0.254669</td>\n      <td>-0.124756</td>\n      <td>-0.137454</td>\n      <td>1.000000</td>\n      <td>-0.578293</td>\n      <td>-0.493728</td>\n      <td>0.062052</td>\n      <td>0.540925</td>\n      <td>0.293956</td>\n      <td>-0.493728</td>\n    </tr>\n    <tr>\n      <th>일조</th>\n      <td>0.480058</td>\n      <td>0.445742</td>\n      <td>0.247297</td>\n      <td>0.086810</td>\n      <td>0.143844</td>\n      <td>0.388003</td>\n      <td>0.394909</td>\n      <td>0.010520</td>\n      <td>-0.191804</td>\n      <td>0.072254</td>\n      <td>0.153317</td>\n      <td>-0.578293</td>\n      <td>1.000000</td>\n      <td>0.705830</td>\n      <td>-0.029504</td>\n      <td>-0.791523</td>\n      <td>-0.037336</td>\n      <td>0.705830</td>\n    </tr>\n    <tr>\n      <th>일사</th>\n      <td>0.756473</td>\n      <td>0.775660</td>\n      <td>0.644188</td>\n      <td>0.445592</td>\n      <td>0.203931</td>\n      <td>0.574059</td>\n      <td>0.565162</td>\n      <td>0.322610</td>\n      <td>-0.187364</td>\n      <td>0.016366</td>\n      <td>0.192885</td>\n      <td>-0.493728</td>\n      <td>0.705830</td>\n      <td>1.000000</td>\n      <td>-0.060190</td>\n      <td>-0.506185</td>\n      <td>0.240646</td>\n      <td>1.000000</td>\n    </tr>\n    <tr>\n      <th>적설</th>\n      <td>-0.040409</td>\n      <td>-0.048030</td>\n      <td>-0.148372</td>\n      <td>-0.164028</td>\n      <td>-0.000887</td>\n      <td>-0.080911</td>\n      <td>-0.081351</td>\n      <td>-0.161207</td>\n      <td>0.004172</td>\n      <td>0.057730</td>\n      <td>-0.063187</td>\n      <td>0.062052</td>\n      <td>-0.029504</td>\n      <td>-0.060190</td>\n      <td>1.000000</td>\n      <td>0.032255</td>\n      <td>-0.120088</td>\n      <td>-0.060190</td>\n    </tr>\n    <tr>\n      <th>전운량</th>\n      <td>-0.396678</td>\n      <td>-0.346304</td>\n      <td>-0.116429</td>\n      <td>0.041381</td>\n      <td>-0.164972</td>\n      <td>-0.291407</td>\n      <td>-0.305168</td>\n      <td>0.119603</td>\n      <td>0.169506</td>\n      <td>-0.047961</td>\n      <td>-0.103847</td>\n      <td>0.540925</td>\n      <td>-0.791523</td>\n      <td>-0.506185</td>\n      <td>0.032255</td>\n      <td>1.000000</td>\n      <td>0.159199</td>\n      <td>-0.506185</td>\n    </tr>\n    <tr>\n      <th>지중온도</th>\n      <td>0.088971</td>\n      <td>0.193635</td>\n      <td>0.700175</td>\n      <td>0.868863</td>\n      <td>-0.386710</td>\n      <td>0.159886</td>\n      <td>0.115770</td>\n      <td>0.928338</td>\n      <td>0.081480</td>\n      <td>-0.191017</td>\n      <td>0.100199</td>\n      <td>0.293956</td>\n      <td>-0.037336</td>\n      <td>0.240646</td>\n      <td>-0.120088</td>\n      <td>0.159199</td>\n      <td>1.000000</td>\n      <td>0.240646</td>\n    </tr>\n    <tr>\n      <th>match_solar</th>\n      <td>0.756473</td>\n      <td>0.775660</td>\n      <td>0.644188</td>\n      <td>0.445592</td>\n      <td>0.203931</td>\n      <td>0.574059</td>\n      <td>0.565162</td>\n      <td>0.322610</td>\n      <td>-0.187364</td>\n      <td>0.016366</td>\n      <td>0.192885</td>\n      <td>-0.493728</td>\n      <td>0.705830</td>\n      <td>1.000000</td>\n      <td>-0.060190</td>\n      <td>-0.506185</td>\n      <td>0.240646</td>\n      <td>1.000000</td>\n    </tr>\n  </tbody>\n</table>\n</div>"
     },
     "metadata": {},
     "execution_count": 33
    }
   ],
   "source": [
    "join_ent_other_set.corr()"
   ]
  },
  {
   "cell_type": "code",
   "execution_count": 34,
   "metadata": {},
   "outputs": [
    {
     "output_type": "execute_result",
     "data": {
      "text/plain": [
       "<matplotlib.axes._subplots.AxesSubplot at 0x2599f7024c8>"
      ]
     },
     "metadata": {},
     "execution_count": 34
    },
    {
     "output_type": "display_data",
     "data": {
      "text/plain": "<Figure size 432x288 with 1 Axes>",
      "image/svg+xml": "<?xml version=\"1.0\" encoding=\"utf-8\" standalone=\"no\"?>\r\n<!DOCTYPE svg PUBLIC \"-//W3C//DTD SVG 1.1//EN\"\r\n  \"http://www.w3.org/Graphics/SVG/1.1/DTD/svg11.dtd\">\r\n<!-- Created with matplotlib (https://matplotlib.org/) -->\r\n<svg height=\"248.79625pt\" version=\"1.1\" viewBox=\"0 0 381.65 248.79625\" width=\"381.65pt\" xmlns=\"http://www.w3.org/2000/svg\" xmlns:xlink=\"http://www.w3.org/1999/xlink\">\r\n <defs>\r\n  <style type=\"text/css\">\r\n*{stroke-linecap:butt;stroke-linejoin:round;}\r\n  </style>\r\n </defs>\r\n <g id=\"figure_1\">\r\n  <g id=\"patch_1\">\r\n   <path d=\"M -0 248.79625 \r\nL 381.65 248.79625 \r\nL 381.65 0 \r\nL -0 0 \r\nz\r\n\" style=\"fill:none;\"/>\r\n  </g>\r\n  <g id=\"axes_1\">\r\n   <g id=\"patch_2\">\r\n    <path d=\"M 39.65 224.64 \r\nL 374.45 224.64 \r\nL 374.45 7.2 \r\nL 39.65 7.2 \r\nz\r\n\" style=\"fill:#ffffff;\"/>\r\n   </g>\r\n   <g id=\"patch_3\">\r\n    <path clip-path=\"url(#p72742490a5)\" d=\"M 50.81 191.322364 \r\nL 140.09 191.322364 \r\nL 140.09 93.753937 \r\nL 50.81 93.753937 \r\nL 50.81 191.322364 \r\nz\r\n\" style=\"fill:#3274a1;stroke:#3d3d3d;stroke-linejoin:miter;stroke-width:1.5;\"/>\r\n   </g>\r\n   <g id=\"patch_4\">\r\n    <path clip-path=\"url(#p72742490a5)\" d=\"M 162.41 191.307943 \r\nL 251.69 191.307943 \r\nL 251.69 105.794159 \r\nL 162.41 105.794159 \r\nL 162.41 191.307943 \r\nz\r\n\" style=\"fill:#e1812c;stroke:#3d3d3d;stroke-linejoin:miter;stroke-width:1.5;\"/>\r\n   </g>\r\n   <g id=\"patch_5\">\r\n    <path clip-path=\"url(#p72742490a5)\" d=\"M 274.01 181.858827 \r\nL 363.29 181.858827 \r\nL 363.29 107.83937 \r\nL 274.01 107.83937 \r\nL 274.01 181.858827 \r\nz\r\n\" style=\"fill:#3a923a;stroke:#3d3d3d;stroke-linejoin:miter;stroke-width:1.5;\"/>\r\n   </g>\r\n   <g id=\"matplotlib.axis_1\">\r\n    <g id=\"xtick_1\">\r\n     <g id=\"line2d_1\">\r\n      <defs>\r\n       <path d=\"M 0 0 \r\nL 0 3.5 \r\n\" id=\"mb41267a200\" style=\"stroke:#000000;stroke-width:0.8;\"/>\r\n      </defs>\r\n      <g>\r\n       <use style=\"stroke:#000000;stroke-width:0.8;\" x=\"95.45\" xlink:href=\"#mb41267a200\" y=\"224.64\"/>\r\n      </g>\r\n     </g>\r\n     <g id=\"text_1\">\r\n      <!-- env_slopesolar -->\r\n      <defs>\r\n       <path d=\"M 56.203125 29.59375 \r\nL 56.203125 25.203125 \r\nL 14.890625 25.203125 \r\nQ 15.484375 15.921875 20.484375 11.0625 \r\nQ 25.484375 6.203125 34.421875 6.203125 \r\nQ 39.59375 6.203125 44.453125 7.46875 \r\nQ 49.3125 8.734375 54.109375 11.28125 \r\nL 54.109375 2.78125 \r\nQ 49.265625 0.734375 44.1875 -0.34375 \r\nQ 39.109375 -1.421875 33.890625 -1.421875 \r\nQ 20.796875 -1.421875 13.15625 6.1875 \r\nQ 5.515625 13.8125 5.515625 26.8125 \r\nQ 5.515625 40.234375 12.765625 48.109375 \r\nQ 20.015625 56 32.328125 56 \r\nQ 43.359375 56 49.78125 48.890625 \r\nQ 56.203125 41.796875 56.203125 29.59375 \r\nz\r\nM 47.21875 32.234375 \r\nQ 47.125 39.59375 43.09375 43.984375 \r\nQ 39.0625 48.390625 32.421875 48.390625 \r\nQ 24.90625 48.390625 20.390625 44.140625 \r\nQ 15.875 39.890625 15.1875 32.171875 \r\nz\r\n\" id=\"DejaVuSans-101\"/>\r\n       <path d=\"M 54.890625 33.015625 \r\nL 54.890625 0 \r\nL 45.90625 0 \r\nL 45.90625 32.71875 \r\nQ 45.90625 40.484375 42.875 44.328125 \r\nQ 39.84375 48.1875 33.796875 48.1875 \r\nQ 26.515625 48.1875 22.3125 43.546875 \r\nQ 18.109375 38.921875 18.109375 30.90625 \r\nL 18.109375 0 \r\nL 9.078125 0 \r\nL 9.078125 54.6875 \r\nL 18.109375 54.6875 \r\nL 18.109375 46.1875 \r\nQ 21.34375 51.125 25.703125 53.5625 \r\nQ 30.078125 56 35.796875 56 \r\nQ 45.21875 56 50.046875 50.171875 \r\nQ 54.890625 44.34375 54.890625 33.015625 \r\nz\r\n\" id=\"DejaVuSans-110\"/>\r\n       <path d=\"M 2.984375 54.6875 \r\nL 12.5 54.6875 \r\nL 29.59375 8.796875 \r\nL 46.6875 54.6875 \r\nL 56.203125 54.6875 \r\nL 35.6875 0 \r\nL 23.484375 0 \r\nz\r\n\" id=\"DejaVuSans-118\"/>\r\n       <path d=\"M 50.984375 -16.609375 \r\nL 50.984375 -23.578125 \r\nL -0.984375 -23.578125 \r\nL -0.984375 -16.609375 \r\nz\r\n\" id=\"DejaVuSans-95\"/>\r\n       <path d=\"M 44.28125 53.078125 \r\nL 44.28125 44.578125 \r\nQ 40.484375 46.53125 36.375 47.5 \r\nQ 32.28125 48.484375 27.875 48.484375 \r\nQ 21.1875 48.484375 17.84375 46.4375 \r\nQ 14.5 44.390625 14.5 40.28125 \r\nQ 14.5 37.15625 16.890625 35.375 \r\nQ 19.28125 33.59375 26.515625 31.984375 \r\nL 29.59375 31.296875 \r\nQ 39.15625 29.25 43.1875 25.515625 \r\nQ 47.21875 21.78125 47.21875 15.09375 \r\nQ 47.21875 7.46875 41.1875 3.015625 \r\nQ 35.15625 -1.421875 24.609375 -1.421875 \r\nQ 20.21875 -1.421875 15.453125 -0.5625 \r\nQ 10.6875 0.296875 5.421875 2 \r\nL 5.421875 11.28125 \r\nQ 10.40625 8.6875 15.234375 7.390625 \r\nQ 20.0625 6.109375 24.8125 6.109375 \r\nQ 31.15625 6.109375 34.5625 8.28125 \r\nQ 37.984375 10.453125 37.984375 14.40625 \r\nQ 37.984375 18.0625 35.515625 20.015625 \r\nQ 33.0625 21.96875 24.703125 23.78125 \r\nL 21.578125 24.515625 \r\nQ 13.234375 26.265625 9.515625 29.90625 \r\nQ 5.8125 33.546875 5.8125 39.890625 \r\nQ 5.8125 47.609375 11.28125 51.796875 \r\nQ 16.75 56 26.8125 56 \r\nQ 31.78125 56 36.171875 55.265625 \r\nQ 40.578125 54.546875 44.28125 53.078125 \r\nz\r\n\" id=\"DejaVuSans-115\"/>\r\n       <path d=\"M 9.421875 75.984375 \r\nL 18.40625 75.984375 \r\nL 18.40625 0 \r\nL 9.421875 0 \r\nz\r\n\" id=\"DejaVuSans-108\"/>\r\n       <path d=\"M 30.609375 48.390625 \r\nQ 23.390625 48.390625 19.1875 42.75 \r\nQ 14.984375 37.109375 14.984375 27.296875 \r\nQ 14.984375 17.484375 19.15625 11.84375 \r\nQ 23.34375 6.203125 30.609375 6.203125 \r\nQ 37.796875 6.203125 41.984375 11.859375 \r\nQ 46.1875 17.53125 46.1875 27.296875 \r\nQ 46.1875 37.015625 41.984375 42.703125 \r\nQ 37.796875 48.390625 30.609375 48.390625 \r\nz\r\nM 30.609375 56 \r\nQ 42.328125 56 49.015625 48.375 \r\nQ 55.71875 40.765625 55.71875 27.296875 \r\nQ 55.71875 13.875 49.015625 6.21875 \r\nQ 42.328125 -1.421875 30.609375 -1.421875 \r\nQ 18.84375 -1.421875 12.171875 6.21875 \r\nQ 5.515625 13.875 5.515625 27.296875 \r\nQ 5.515625 40.765625 12.171875 48.375 \r\nQ 18.84375 56 30.609375 56 \r\nz\r\n\" id=\"DejaVuSans-111\"/>\r\n       <path d=\"M 18.109375 8.203125 \r\nL 18.109375 -20.796875 \r\nL 9.078125 -20.796875 \r\nL 9.078125 54.6875 \r\nL 18.109375 54.6875 \r\nL 18.109375 46.390625 \r\nQ 20.953125 51.265625 25.265625 53.625 \r\nQ 29.59375 56 35.59375 56 \r\nQ 45.5625 56 51.78125 48.09375 \r\nQ 58.015625 40.1875 58.015625 27.296875 \r\nQ 58.015625 14.40625 51.78125 6.484375 \r\nQ 45.5625 -1.421875 35.59375 -1.421875 \r\nQ 29.59375 -1.421875 25.265625 0.953125 \r\nQ 20.953125 3.328125 18.109375 8.203125 \r\nz\r\nM 48.6875 27.296875 \r\nQ 48.6875 37.203125 44.609375 42.84375 \r\nQ 40.53125 48.484375 33.40625 48.484375 \r\nQ 26.265625 48.484375 22.1875 42.84375 \r\nQ 18.109375 37.203125 18.109375 27.296875 \r\nQ 18.109375 17.390625 22.1875 11.75 \r\nQ 26.265625 6.109375 33.40625 6.109375 \r\nQ 40.53125 6.109375 44.609375 11.75 \r\nQ 48.6875 17.390625 48.6875 27.296875 \r\nz\r\n\" id=\"DejaVuSans-112\"/>\r\n       <path d=\"M 34.28125 27.484375 \r\nQ 23.390625 27.484375 19.1875 25 \r\nQ 14.984375 22.515625 14.984375 16.5 \r\nQ 14.984375 11.71875 18.140625 8.90625 \r\nQ 21.296875 6.109375 26.703125 6.109375 \r\nQ 34.1875 6.109375 38.703125 11.40625 \r\nQ 43.21875 16.703125 43.21875 25.484375 \r\nL 43.21875 27.484375 \r\nz\r\nM 52.203125 31.203125 \r\nL 52.203125 0 \r\nL 43.21875 0 \r\nL 43.21875 8.296875 \r\nQ 40.140625 3.328125 35.546875 0.953125 \r\nQ 30.953125 -1.421875 24.3125 -1.421875 \r\nQ 15.921875 -1.421875 10.953125 3.296875 \r\nQ 6 8.015625 6 15.921875 \r\nQ 6 25.140625 12.171875 29.828125 \r\nQ 18.359375 34.515625 30.609375 34.515625 \r\nL 43.21875 34.515625 \r\nL 43.21875 35.40625 \r\nQ 43.21875 41.609375 39.140625 45 \r\nQ 35.0625 48.390625 27.6875 48.390625 \r\nQ 23 48.390625 18.546875 47.265625 \r\nQ 14.109375 46.140625 10.015625 43.890625 \r\nL 10.015625 52.203125 \r\nQ 14.9375 54.109375 19.578125 55.046875 \r\nQ 24.21875 56 28.609375 56 \r\nQ 40.484375 56 46.34375 49.84375 \r\nQ 52.203125 43.703125 52.203125 31.203125 \r\nz\r\n\" id=\"DejaVuSans-97\"/>\r\n       <path d=\"M 41.109375 46.296875 \r\nQ 39.59375 47.171875 37.8125 47.578125 \r\nQ 36.03125 48 33.890625 48 \r\nQ 26.265625 48 22.1875 43.046875 \r\nQ 18.109375 38.09375 18.109375 28.8125 \r\nL 18.109375 0 \r\nL 9.078125 0 \r\nL 9.078125 54.6875 \r\nL 18.109375 54.6875 \r\nL 18.109375 46.1875 \r\nQ 20.953125 51.171875 25.484375 53.578125 \r\nQ 30.03125 56 36.53125 56 \r\nQ 37.453125 56 38.578125 55.875 \r\nQ 39.703125 55.765625 41.0625 55.515625 \r\nz\r\n\" id=\"DejaVuSans-114\"/>\r\n      </defs>\r\n      <g transform=\"translate(58.26875 239.238438)scale(0.1 -0.1)\">\r\n       <use xlink:href=\"#DejaVuSans-101\"/>\r\n       <use x=\"61.523438\" xlink:href=\"#DejaVuSans-110\"/>\r\n       <use x=\"124.902344\" xlink:href=\"#DejaVuSans-118\"/>\r\n       <use x=\"184.082031\" xlink:href=\"#DejaVuSans-95\"/>\r\n       <use x=\"234.082031\" xlink:href=\"#DejaVuSans-115\"/>\r\n       <use x=\"286.181641\" xlink:href=\"#DejaVuSans-108\"/>\r\n       <use x=\"313.964844\" xlink:href=\"#DejaVuSans-111\"/>\r\n       <use x=\"375.146484\" xlink:href=\"#DejaVuSans-112\"/>\r\n       <use x=\"438.623047\" xlink:href=\"#DejaVuSans-101\"/>\r\n       <use x=\"500.146484\" xlink:href=\"#DejaVuSans-115\"/>\r\n       <use x=\"552.246094\" xlink:href=\"#DejaVuSans-111\"/>\r\n       <use x=\"613.427734\" xlink:href=\"#DejaVuSans-108\"/>\r\n       <use x=\"641.210938\" xlink:href=\"#DejaVuSans-97\"/>\r\n       <use x=\"702.490234\" xlink:href=\"#DejaVuSans-114\"/>\r\n      </g>\r\n     </g>\r\n    </g>\r\n    <g id=\"xtick_2\">\r\n     <g id=\"line2d_2\">\r\n      <g>\r\n       <use style=\"stroke:#000000;stroke-width:0.8;\" x=\"207.05\" xlink:href=\"#mb41267a200\" y=\"224.64\"/>\r\n      </g>\r\n     </g>\r\n     <g id=\"text_2\">\r\n      <!-- env_levelsolar -->\r\n      <g transform=\"translate(171.282031 239.238438)scale(0.1 -0.1)\">\r\n       <use xlink:href=\"#DejaVuSans-101\"/>\r\n       <use x=\"61.523438\" xlink:href=\"#DejaVuSans-110\"/>\r\n       <use x=\"124.902344\" xlink:href=\"#DejaVuSans-118\"/>\r\n       <use x=\"184.082031\" xlink:href=\"#DejaVuSans-95\"/>\r\n       <use x=\"234.082031\" xlink:href=\"#DejaVuSans-108\"/>\r\n       <use x=\"261.865234\" xlink:href=\"#DejaVuSans-101\"/>\r\n       <use x=\"323.388672\" xlink:href=\"#DejaVuSans-118\"/>\r\n       <use x=\"382.568359\" xlink:href=\"#DejaVuSans-101\"/>\r\n       <use x=\"444.091797\" xlink:href=\"#DejaVuSans-108\"/>\r\n       <use x=\"471.875\" xlink:href=\"#DejaVuSans-115\"/>\r\n       <use x=\"523.974609\" xlink:href=\"#DejaVuSans-111\"/>\r\n       <use x=\"585.15625\" xlink:href=\"#DejaVuSans-108\"/>\r\n       <use x=\"612.939453\" xlink:href=\"#DejaVuSans-97\"/>\r\n       <use x=\"674.21875\" xlink:href=\"#DejaVuSans-114\"/>\r\n      </g>\r\n     </g>\r\n    </g>\r\n    <g id=\"xtick_3\">\r\n     <g id=\"line2d_3\">\r\n      <g>\r\n       <use style=\"stroke:#000000;stroke-width:0.8;\" x=\"318.65\" xlink:href=\"#mb41267a200\" y=\"224.64\"/>\r\n      </g>\r\n     </g>\r\n     <g id=\"text_3\">\r\n      <!-- match_solar -->\r\n      <defs>\r\n       <path d=\"M 52 44.1875 \r\nQ 55.375 50.25 60.0625 53.125 \r\nQ 64.75 56 71.09375 56 \r\nQ 79.640625 56 84.28125 50.015625 \r\nQ 88.921875 44.046875 88.921875 33.015625 \r\nL 88.921875 0 \r\nL 79.890625 0 \r\nL 79.890625 32.71875 \r\nQ 79.890625 40.578125 77.09375 44.375 \r\nQ 74.3125 48.1875 68.609375 48.1875 \r\nQ 61.625 48.1875 57.5625 43.546875 \r\nQ 53.515625 38.921875 53.515625 30.90625 \r\nL 53.515625 0 \r\nL 44.484375 0 \r\nL 44.484375 32.71875 \r\nQ 44.484375 40.625 41.703125 44.40625 \r\nQ 38.921875 48.1875 33.109375 48.1875 \r\nQ 26.21875 48.1875 22.15625 43.53125 \r\nQ 18.109375 38.875 18.109375 30.90625 \r\nL 18.109375 0 \r\nL 9.078125 0 \r\nL 9.078125 54.6875 \r\nL 18.109375 54.6875 \r\nL 18.109375 46.1875 \r\nQ 21.1875 51.21875 25.484375 53.609375 \r\nQ 29.78125 56 35.6875 56 \r\nQ 41.65625 56 45.828125 52.96875 \r\nQ 50 49.953125 52 44.1875 \r\nz\r\n\" id=\"DejaVuSans-109\"/>\r\n       <path d=\"M 18.3125 70.21875 \r\nL 18.3125 54.6875 \r\nL 36.8125 54.6875 \r\nL 36.8125 47.703125 \r\nL 18.3125 47.703125 \r\nL 18.3125 18.015625 \r\nQ 18.3125 11.328125 20.140625 9.421875 \r\nQ 21.96875 7.515625 27.59375 7.515625 \r\nL 36.8125 7.515625 \r\nL 36.8125 0 \r\nL 27.59375 0 \r\nQ 17.1875 0 13.234375 3.875 \r\nQ 9.28125 7.765625 9.28125 18.015625 \r\nL 9.28125 47.703125 \r\nL 2.6875 47.703125 \r\nL 2.6875 54.6875 \r\nL 9.28125 54.6875 \r\nL 9.28125 70.21875 \r\nz\r\n\" id=\"DejaVuSans-116\"/>\r\n       <path d=\"M 48.78125 52.59375 \r\nL 48.78125 44.1875 \r\nQ 44.96875 46.296875 41.140625 47.34375 \r\nQ 37.3125 48.390625 33.40625 48.390625 \r\nQ 24.65625 48.390625 19.8125 42.84375 \r\nQ 14.984375 37.3125 14.984375 27.296875 \r\nQ 14.984375 17.28125 19.8125 11.734375 \r\nQ 24.65625 6.203125 33.40625 6.203125 \r\nQ 37.3125 6.203125 41.140625 7.25 \r\nQ 44.96875 8.296875 48.78125 10.40625 \r\nL 48.78125 2.09375 \r\nQ 45.015625 0.34375 40.984375 -0.53125 \r\nQ 36.96875 -1.421875 32.421875 -1.421875 \r\nQ 20.0625 -1.421875 12.78125 6.34375 \r\nQ 5.515625 14.109375 5.515625 27.296875 \r\nQ 5.515625 40.671875 12.859375 48.328125 \r\nQ 20.21875 56 33.015625 56 \r\nQ 37.15625 56 41.109375 55.140625 \r\nQ 45.0625 54.296875 48.78125 52.59375 \r\nz\r\n\" id=\"DejaVuSans-99\"/>\r\n       <path d=\"M 54.890625 33.015625 \r\nL 54.890625 0 \r\nL 45.90625 0 \r\nL 45.90625 32.71875 \r\nQ 45.90625 40.484375 42.875 44.328125 \r\nQ 39.84375 48.1875 33.796875 48.1875 \r\nQ 26.515625 48.1875 22.3125 43.546875 \r\nQ 18.109375 38.921875 18.109375 30.90625 \r\nL 18.109375 0 \r\nL 9.078125 0 \r\nL 9.078125 75.984375 \r\nL 18.109375 75.984375 \r\nL 18.109375 46.1875 \r\nQ 21.34375 51.125 25.703125 53.5625 \r\nQ 30.078125 56 35.796875 56 \r\nQ 45.21875 56 50.046875 50.171875 \r\nQ 54.890625 44.34375 54.890625 33.015625 \r\nz\r\n\" id=\"DejaVuSans-104\"/>\r\n      </defs>\r\n      <g transform=\"translate(288.164844 239.238438)scale(0.1 -0.1)\">\r\n       <use xlink:href=\"#DejaVuSans-109\"/>\r\n       <use x=\"97.412109\" xlink:href=\"#DejaVuSans-97\"/>\r\n       <use x=\"158.691406\" xlink:href=\"#DejaVuSans-116\"/>\r\n       <use x=\"197.900391\" xlink:href=\"#DejaVuSans-99\"/>\r\n       <use x=\"252.880859\" xlink:href=\"#DejaVuSans-104\"/>\r\n       <use x=\"316.259766\" xlink:href=\"#DejaVuSans-95\"/>\r\n       <use x=\"366.259766\" xlink:href=\"#DejaVuSans-115\"/>\r\n       <use x=\"418.359375\" xlink:href=\"#DejaVuSans-111\"/>\r\n       <use x=\"479.541016\" xlink:href=\"#DejaVuSans-108\"/>\r\n       <use x=\"507.324219\" xlink:href=\"#DejaVuSans-97\"/>\r\n       <use x=\"568.603516\" xlink:href=\"#DejaVuSans-114\"/>\r\n      </g>\r\n     </g>\r\n    </g>\r\n   </g>\r\n   <g id=\"matplotlib.axis_2\">\r\n    <g id=\"ytick_1\">\r\n     <g id=\"line2d_4\">\r\n      <defs>\r\n       <path d=\"M 0 0 \r\nL -3.5 0 \r\n\" id=\"mf7b21114cf\" style=\"stroke:#000000;stroke-width:0.8;\"/>\r\n      </defs>\r\n      <g>\r\n       <use style=\"stroke:#000000;stroke-width:0.8;\" x=\"39.65\" xlink:href=\"#mf7b21114cf\" y=\"214.756364\"/>\r\n      </g>\r\n     </g>\r\n     <g id=\"text_4\">\r\n      <!-- 0 -->\r\n      <defs>\r\n       <path d=\"M 31.78125 66.40625 \r\nQ 24.171875 66.40625 20.328125 58.90625 \r\nQ 16.5 51.421875 16.5 36.375 \r\nQ 16.5 21.390625 20.328125 13.890625 \r\nQ 24.171875 6.390625 31.78125 6.390625 \r\nQ 39.453125 6.390625 43.28125 13.890625 \r\nQ 47.125 21.390625 47.125 36.375 \r\nQ 47.125 51.421875 43.28125 58.90625 \r\nQ 39.453125 66.40625 31.78125 66.40625 \r\nz\r\nM 31.78125 74.21875 \r\nQ 44.046875 74.21875 50.515625 64.515625 \r\nQ 56.984375 54.828125 56.984375 36.375 \r\nQ 56.984375 17.96875 50.515625 8.265625 \r\nQ 44.046875 -1.421875 31.78125 -1.421875 \r\nQ 19.53125 -1.421875 13.0625 8.265625 \r\nQ 6.59375 17.96875 6.59375 36.375 \r\nQ 6.59375 54.828125 13.0625 64.515625 \r\nQ 19.53125 74.21875 31.78125 74.21875 \r\nz\r\n\" id=\"DejaVuSans-48\"/>\r\n      </defs>\r\n      <g transform=\"translate(26.2875 218.555582)scale(0.1 -0.1)\">\r\n       <use xlink:href=\"#DejaVuSans-48\"/>\r\n      </g>\r\n     </g>\r\n    </g>\r\n    <g id=\"ytick_2\">\r\n     <g id=\"line2d_5\">\r\n      <g>\r\n       <use style=\"stroke:#000000;stroke-width:0.8;\" x=\"39.65\" xlink:href=\"#mf7b21114cf\" y=\"177.159179\"/>\r\n      </g>\r\n     </g>\r\n     <g id=\"text_5\">\r\n      <!-- 200 -->\r\n      <defs>\r\n       <path d=\"M 19.1875 8.296875 \r\nL 53.609375 8.296875 \r\nL 53.609375 0 \r\nL 7.328125 0 \r\nL 7.328125 8.296875 \r\nQ 12.9375 14.109375 22.625 23.890625 \r\nQ 32.328125 33.6875 34.8125 36.53125 \r\nQ 39.546875 41.84375 41.421875 45.53125 \r\nQ 43.3125 49.21875 43.3125 52.78125 \r\nQ 43.3125 58.59375 39.234375 62.25 \r\nQ 35.15625 65.921875 28.609375 65.921875 \r\nQ 23.96875 65.921875 18.8125 64.3125 \r\nQ 13.671875 62.703125 7.8125 59.421875 \r\nL 7.8125 69.390625 \r\nQ 13.765625 71.78125 18.9375 73 \r\nQ 24.125 74.21875 28.421875 74.21875 \r\nQ 39.75 74.21875 46.484375 68.546875 \r\nQ 53.21875 62.890625 53.21875 53.421875 \r\nQ 53.21875 48.921875 51.53125 44.890625 \r\nQ 49.859375 40.875 45.40625 35.40625 \r\nQ 44.1875 33.984375 37.640625 27.21875 \r\nQ 31.109375 20.453125 19.1875 8.296875 \r\nz\r\n\" id=\"DejaVuSans-50\"/>\r\n      </defs>\r\n      <g transform=\"translate(13.5625 180.958398)scale(0.1 -0.1)\">\r\n       <use xlink:href=\"#DejaVuSans-50\"/>\r\n       <use x=\"63.623047\" xlink:href=\"#DejaVuSans-48\"/>\r\n       <use x=\"127.246094\" xlink:href=\"#DejaVuSans-48\"/>\r\n      </g>\r\n     </g>\r\n    </g>\r\n    <g id=\"ytick_3\">\r\n     <g id=\"line2d_6\">\r\n      <g>\r\n       <use style=\"stroke:#000000;stroke-width:0.8;\" x=\"39.65\" xlink:href=\"#mf7b21114cf\" y=\"139.561994\"/>\r\n      </g>\r\n     </g>\r\n     <g id=\"text_6\">\r\n      <!-- 400 -->\r\n      <defs>\r\n       <path d=\"M 37.796875 64.3125 \r\nL 12.890625 25.390625 \r\nL 37.796875 25.390625 \r\nz\r\nM 35.203125 72.90625 \r\nL 47.609375 72.90625 \r\nL 47.609375 25.390625 \r\nL 58.015625 25.390625 \r\nL 58.015625 17.1875 \r\nL 47.609375 17.1875 \r\nL 47.609375 0 \r\nL 37.796875 0 \r\nL 37.796875 17.1875 \r\nL 4.890625 17.1875 \r\nL 4.890625 26.703125 \r\nz\r\n\" id=\"DejaVuSans-52\"/>\r\n      </defs>\r\n      <g transform=\"translate(13.5625 143.361213)scale(0.1 -0.1)\">\r\n       <use xlink:href=\"#DejaVuSans-52\"/>\r\n       <use x=\"63.623047\" xlink:href=\"#DejaVuSans-48\"/>\r\n       <use x=\"127.246094\" xlink:href=\"#DejaVuSans-48\"/>\r\n      </g>\r\n     </g>\r\n    </g>\r\n    <g id=\"ytick_4\">\r\n     <g id=\"line2d_7\">\r\n      <g>\r\n       <use style=\"stroke:#000000;stroke-width:0.8;\" x=\"39.65\" xlink:href=\"#mf7b21114cf\" y=\"101.96481\"/>\r\n      </g>\r\n     </g>\r\n     <g id=\"text_7\">\r\n      <!-- 600 -->\r\n      <defs>\r\n       <path d=\"M 33.015625 40.375 \r\nQ 26.375 40.375 22.484375 35.828125 \r\nQ 18.609375 31.296875 18.609375 23.390625 \r\nQ 18.609375 15.53125 22.484375 10.953125 \r\nQ 26.375 6.390625 33.015625 6.390625 \r\nQ 39.65625 6.390625 43.53125 10.953125 \r\nQ 47.40625 15.53125 47.40625 23.390625 \r\nQ 47.40625 31.296875 43.53125 35.828125 \r\nQ 39.65625 40.375 33.015625 40.375 \r\nz\r\nM 52.59375 71.296875 \r\nL 52.59375 62.3125 \r\nQ 48.875 64.0625 45.09375 64.984375 \r\nQ 41.3125 65.921875 37.59375 65.921875 \r\nQ 27.828125 65.921875 22.671875 59.328125 \r\nQ 17.53125 52.734375 16.796875 39.40625 \r\nQ 19.671875 43.65625 24.015625 45.921875 \r\nQ 28.375 48.1875 33.59375 48.1875 \r\nQ 44.578125 48.1875 50.953125 41.515625 \r\nQ 57.328125 34.859375 57.328125 23.390625 \r\nQ 57.328125 12.15625 50.6875 5.359375 \r\nQ 44.046875 -1.421875 33.015625 -1.421875 \r\nQ 20.359375 -1.421875 13.671875 8.265625 \r\nQ 6.984375 17.96875 6.984375 36.375 \r\nQ 6.984375 53.65625 15.1875 63.9375 \r\nQ 23.390625 74.21875 37.203125 74.21875 \r\nQ 40.921875 74.21875 44.703125 73.484375 \r\nQ 48.484375 72.75 52.59375 71.296875 \r\nz\r\n\" id=\"DejaVuSans-54\"/>\r\n      </defs>\r\n      <g transform=\"translate(13.5625 105.764028)scale(0.1 -0.1)\">\r\n       <use xlink:href=\"#DejaVuSans-54\"/>\r\n       <use x=\"63.623047\" xlink:href=\"#DejaVuSans-48\"/>\r\n       <use x=\"127.246094\" xlink:href=\"#DejaVuSans-48\"/>\r\n      </g>\r\n     </g>\r\n    </g>\r\n    <g id=\"ytick_5\">\r\n     <g id=\"line2d_8\">\r\n      <g>\r\n       <use style=\"stroke:#000000;stroke-width:0.8;\" x=\"39.65\" xlink:href=\"#mf7b21114cf\" y=\"64.367625\"/>\r\n      </g>\r\n     </g>\r\n     <g id=\"text_8\">\r\n      <!-- 800 -->\r\n      <defs>\r\n       <path d=\"M 31.78125 34.625 \r\nQ 24.75 34.625 20.71875 30.859375 \r\nQ 16.703125 27.09375 16.703125 20.515625 \r\nQ 16.703125 13.921875 20.71875 10.15625 \r\nQ 24.75 6.390625 31.78125 6.390625 \r\nQ 38.8125 6.390625 42.859375 10.171875 \r\nQ 46.921875 13.96875 46.921875 20.515625 \r\nQ 46.921875 27.09375 42.890625 30.859375 \r\nQ 38.875 34.625 31.78125 34.625 \r\nz\r\nM 21.921875 38.8125 \r\nQ 15.578125 40.375 12.03125 44.71875 \r\nQ 8.5 49.078125 8.5 55.328125 \r\nQ 8.5 64.0625 14.71875 69.140625 \r\nQ 20.953125 74.21875 31.78125 74.21875 \r\nQ 42.671875 74.21875 48.875 69.140625 \r\nQ 55.078125 64.0625 55.078125 55.328125 \r\nQ 55.078125 49.078125 51.53125 44.71875 \r\nQ 48 40.375 41.703125 38.8125 \r\nQ 48.828125 37.15625 52.796875 32.3125 \r\nQ 56.78125 27.484375 56.78125 20.515625 \r\nQ 56.78125 9.90625 50.3125 4.234375 \r\nQ 43.84375 -1.421875 31.78125 -1.421875 \r\nQ 19.734375 -1.421875 13.25 4.234375 \r\nQ 6.78125 9.90625 6.78125 20.515625 \r\nQ 6.78125 27.484375 10.78125 32.3125 \r\nQ 14.796875 37.15625 21.921875 38.8125 \r\nz\r\nM 18.3125 54.390625 \r\nQ 18.3125 48.734375 21.84375 45.5625 \r\nQ 25.390625 42.390625 31.78125 42.390625 \r\nQ 38.140625 42.390625 41.71875 45.5625 \r\nQ 45.3125 48.734375 45.3125 54.390625 \r\nQ 45.3125 60.0625 41.71875 63.234375 \r\nQ 38.140625 66.40625 31.78125 66.40625 \r\nQ 25.390625 66.40625 21.84375 63.234375 \r\nQ 18.3125 60.0625 18.3125 54.390625 \r\nz\r\n\" id=\"DejaVuSans-56\"/>\r\n      </defs>\r\n      <g transform=\"translate(13.5625 68.166844)scale(0.1 -0.1)\">\r\n       <use xlink:href=\"#DejaVuSans-56\"/>\r\n       <use x=\"63.623047\" xlink:href=\"#DejaVuSans-48\"/>\r\n       <use x=\"127.246094\" xlink:href=\"#DejaVuSans-48\"/>\r\n      </g>\r\n     </g>\r\n    </g>\r\n    <g id=\"ytick_6\">\r\n     <g id=\"line2d_9\">\r\n      <g>\r\n       <use style=\"stroke:#000000;stroke-width:0.8;\" x=\"39.65\" xlink:href=\"#mf7b21114cf\" y=\"26.77044\"/>\r\n      </g>\r\n     </g>\r\n     <g id=\"text_9\">\r\n      <!-- 1000 -->\r\n      <defs>\r\n       <path d=\"M 12.40625 8.296875 \r\nL 28.515625 8.296875 \r\nL 28.515625 63.921875 \r\nL 10.984375 60.40625 \r\nL 10.984375 69.390625 \r\nL 28.421875 72.90625 \r\nL 38.28125 72.90625 \r\nL 38.28125 8.296875 \r\nL 54.390625 8.296875 \r\nL 54.390625 0 \r\nL 12.40625 0 \r\nz\r\n\" id=\"DejaVuSans-49\"/>\r\n      </defs>\r\n      <g transform=\"translate(7.2 30.569659)scale(0.1 -0.1)\">\r\n       <use xlink:href=\"#DejaVuSans-49\"/>\r\n       <use x=\"63.623047\" xlink:href=\"#DejaVuSans-48\"/>\r\n       <use x=\"127.246094\" xlink:href=\"#DejaVuSans-48\"/>\r\n       <use x=\"190.869141\" xlink:href=\"#DejaVuSans-48\"/>\r\n      </g>\r\n     </g>\r\n    </g>\r\n   </g>\r\n   <g id=\"line2d_10\">\r\n    <path clip-path=\"url(#p72742490a5)\" d=\"M 95.45 191.322364 \r\nL 95.45 214.756364 \r\n\" style=\"fill:none;stroke:#3d3d3d;stroke-linecap:square;stroke-width:1.5;\"/>\r\n   </g>\r\n   <g id=\"line2d_11\">\r\n    <path clip-path=\"url(#p72742490a5)\" d=\"M 95.45 93.753937 \r\nL 95.45 17.083636 \r\n\" style=\"fill:none;stroke:#3d3d3d;stroke-linecap:square;stroke-width:1.5;\"/>\r\n   </g>\r\n   <g id=\"line2d_12\">\r\n    <path clip-path=\"url(#p72742490a5)\" d=\"M 73.13 214.756364 \r\nL 117.77 214.756364 \r\n\" style=\"fill:none;stroke:#3d3d3d;stroke-linecap:square;stroke-width:1.5;\"/>\r\n   </g>\r\n   <g id=\"line2d_13\">\r\n    <path clip-path=\"url(#p72742490a5)\" d=\"M 73.13 17.083636 \r\nL 117.77 17.083636 \r\n\" style=\"fill:none;stroke:#3d3d3d;stroke-linecap:square;stroke-width:1.5;\"/>\r\n   </g>\r\n   <g id=\"line2d_14\"/>\r\n   <g id=\"line2d_15\">\r\n    <path clip-path=\"url(#p72742490a5)\" d=\"M 207.05 191.307943 \r\nL 207.05 214.756364 \r\n\" style=\"fill:none;stroke:#3d3d3d;stroke-linecap:square;stroke-width:1.5;\"/>\r\n   </g>\r\n   <g id=\"line2d_16\">\r\n    <path clip-path=\"url(#p72742490a5)\" d=\"M 207.05 105.794159 \r\nL 207.05 17.16436 \r\n\" style=\"fill:none;stroke:#3d3d3d;stroke-linecap:square;stroke-width:1.5;\"/>\r\n   </g>\r\n   <g id=\"line2d_17\">\r\n    <path clip-path=\"url(#p72742490a5)\" d=\"M 184.73 214.756364 \r\nL 229.37 214.756364 \r\n\" style=\"fill:none;stroke:#3d3d3d;stroke-linecap:square;stroke-width:1.5;\"/>\r\n   </g>\r\n   <g id=\"line2d_18\">\r\n    <path clip-path=\"url(#p72742490a5)\" d=\"M 184.73 17.16436 \r\nL 229.37 17.16436 \r\n\" style=\"fill:none;stroke:#3d3d3d;stroke-linecap:square;stroke-width:1.5;\"/>\r\n   </g>\r\n   <g id=\"line2d_19\"/>\r\n   <g id=\"line2d_20\">\r\n    <path clip-path=\"url(#p72742490a5)\" d=\"M 318.65 181.858827 \r\nL 318.65 214.756364 \r\n\" style=\"fill:none;stroke:#3d3d3d;stroke-linecap:square;stroke-width:1.5;\"/>\r\n   </g>\r\n   <g id=\"line2d_21\">\r\n    <path clip-path=\"url(#p72742490a5)\" d=\"M 318.65 107.83937 \r\nL 318.65 22.070792 \r\n\" style=\"fill:none;stroke:#3d3d3d;stroke-linecap:square;stroke-width:1.5;\"/>\r\n   </g>\r\n   <g id=\"line2d_22\">\r\n    <path clip-path=\"url(#p72742490a5)\" d=\"M 296.33 214.756364 \r\nL 340.97 214.756364 \r\n\" style=\"fill:none;stroke:#3d3d3d;stroke-linecap:square;stroke-width:1.5;\"/>\r\n   </g>\r\n   <g id=\"line2d_23\">\r\n    <path clip-path=\"url(#p72742490a5)\" d=\"M 296.33 22.070792 \r\nL 340.97 22.070792 \r\n\" style=\"fill:none;stroke:#3d3d3d;stroke-linecap:square;stroke-width:1.5;\"/>\r\n   </g>\r\n   <g id=\"line2d_24\"/>\r\n   <g id=\"line2d_25\">\r\n    <path clip-path=\"url(#p72742490a5)\" d=\"M 50.81 148.001086 \r\nL 140.09 148.001086 \r\n\" style=\"fill:none;stroke:#3d3d3d;stroke-linecap:square;stroke-width:1.5;\"/>\r\n   </g>\r\n   <g id=\"line2d_26\">\r\n    <path clip-path=\"url(#p72742490a5)\" d=\"M 162.41 152.037291 \r\nL 251.69 152.037291 \r\n\" style=\"fill:none;stroke:#3d3d3d;stroke-linecap:square;stroke-width:1.5;\"/>\r\n   </g>\r\n   <g id=\"line2d_27\">\r\n    <path clip-path=\"url(#p72742490a5)\" d=\"M 274.01 146.350375 \r\nL 363.29 146.350375 \r\n\" style=\"fill:none;stroke:#3d3d3d;stroke-linecap:square;stroke-width:1.5;\"/>\r\n   </g>\r\n   <g id=\"patch_6\">\r\n    <path d=\"M 39.65 224.64 \r\nL 39.65 7.2 \r\n\" style=\"fill:none;stroke:#000000;stroke-linecap:square;stroke-linejoin:miter;stroke-width:0.8;\"/>\r\n   </g>\r\n   <g id=\"patch_7\">\r\n    <path d=\"M 374.45 224.64 \r\nL 374.45 7.2 \r\n\" style=\"fill:none;stroke:#000000;stroke-linecap:square;stroke-linejoin:miter;stroke-width:0.8;\"/>\r\n   </g>\r\n   <g id=\"patch_8\">\r\n    <path d=\"M 39.65 224.64 \r\nL 374.45 224.64 \r\n\" style=\"fill:none;stroke:#000000;stroke-linecap:square;stroke-linejoin:miter;stroke-width:0.8;\"/>\r\n   </g>\r\n   <g id=\"patch_9\">\r\n    <path d=\"M 39.65 7.2 \r\nL 374.45 7.2 \r\n\" style=\"fill:none;stroke:#000000;stroke-linecap:square;stroke-linejoin:miter;stroke-width:0.8;\"/>\r\n   </g>\r\n  </g>\r\n </g>\r\n <defs>\r\n  <clipPath id=\"p72742490a5\">\r\n   <rect height=\"217.44\" width=\"334.8\" x=\"39.65\" y=\"7.2\"/>\r\n  </clipPath>\r\n </defs>\r\n</svg>\r\n",
      "image/png": "[encoded data removed]"
     },
     "metadata": {
      "needs_background": "light"
     }
    }
   ],
   "source": [
    "sns.boxplot(data = join_ent_other_set[[\"env_slopesolar\", \"env_levelsolar\", \"match_solar\"]])"
   ]
  },
  {
   "cell_type": "code",
   "execution_count": 35,
   "metadata": {},
   "outputs": [
    {
     "output_type": "stream",
     "name": "stdout",
     "text": [
      "(0.7756602691580325, 0.0) (0.7564728442512436, 0.0)\n------------------\n(0.765037160710402, 0.0) (0.7796736476332795, 0.0) (0.5651617448269126, 0.0)\n"
     ]
    }
   ],
   "source": [
    "import scipy.stats\n",
    "\n",
    "print(scipy.stats.pearsonr(join_ent_other_set[\"env_levelsolar\"], join_ent_other_set[\"match_solar\"]), scipy.stats.pearsonr(join_ent_other_set[\"env_slopesolar\"], join_ent_other_set[\"match_solar\"]))\n",
    "print(\"------------------\")\n",
    "print(scipy.stats.pearsonr(join_ent_other_set[\"env_levelsolar\"], join_ent_other_set[\"watt\"]), scipy.stats.pearsonr(join_ent_other_set[\"env_slopesolar\"], join_ent_other_set[\"watt\"]), scipy.stats.pearsonr(join_ent_other_set[\"match_solar\"], join_ent_other_set[\"watt\"]))"
   ]
  },
  {
   "cell_type": "code",
   "execution_count": null,
   "metadata": {},
   "outputs": [],
   "source": []
  },
  {
   "cell_type": "code",
   "execution_count": null,
   "metadata": {},
   "outputs": [],
   "source": []
  }
 ]
}