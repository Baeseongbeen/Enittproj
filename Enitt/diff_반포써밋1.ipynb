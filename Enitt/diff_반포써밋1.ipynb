{
 "metadata": {
  "language_info": {
   "codemirror_mode": {
    "name": "ipython",
    "version": 3
   },
   "file_extension": ".py",
   "mimetype": "text/x-python",
   "name": "python",
   "nbconvert_exporter": "python",
   "pygments_lexer": "ipython3",
   "version": "3.7.6-final"
  },
  "orig_nbformat": 2,
  "kernelspec": {
   "name": "python3",
   "display_name": "Python 3"
  }
 },
 "nbformat": 4,
 "nbformat_minor": 2,
 "cells": [
  {
   "cell_type": "code",
   "execution_count": 24,
   "metadata": {},
   "outputs": [
    {
     "output_type": "execute_result",
     "data": {
      "text/plain": [
       "'c:\\\\Users\\\\seong\\\\Desktop\\\\enitt\\\\Enitt'"
      ]
     },
     "metadata": {},
     "execution_count": 24
    }
   ],
   "source": [
    "import pandas as pd \n",
    "import numpy as np \n",
    "import matplotlib.pyplot as plt\n",
    "import plotly\n",
    "import plotly.graph_objs as go # 그래프 객체 생성\n",
    "from plotly.subplots import make_subplots\n",
    "import datetime\n",
    "import seaborn as sns \n",
    "import scipy.stats\n",
    "import plotly.express as px\n",
    "import os \n",
    "from scipy import stats\n",
    "from sklearn import metrics\n",
    "import statsmodels.formula.api as smf\n",
    "import scipy.stats as st\n",
    "import pylab\n",
    "import csv\n",
    "\n",
    "os.getcwd()"
   ]
  },
  {
   "cell_type": "code",
   "execution_count": 25,
   "metadata": {},
   "outputs": [
    {
     "output_type": "execute_result",
     "data": {
      "text/plain": [
       "        env_index    env_date  env_time  env_slopesolar  env_levelsolar  \\\n",
       "0               1  2018-10-22  12:44:29             322             316   \n",
       "1               2  2018-10-22  12:45:21             320             314   \n",
       "2               3  2018-10-22  12:46:12             320             312   \n",
       "3               4  2018-10-22  12:47:04             326             319   \n",
       "4               5  2018-10-22  12:47:56             335             329   \n",
       "...           ...         ...       ...             ...             ...   \n",
       "615430     683664  2020-10-22  23:19:00               0               0   \n",
       "615431     683665  2020-10-22  23:23:57               0               0   \n",
       "615432     683666  2020-10-22  23:28:53               0               0   \n",
       "615433     683667  2020-10-22  23:33:49               0               0   \n",
       "615434     683668  2020-10-22  23:38:46               0               0   \n",
       "\n",
       "        env_modtemp  env_airtemp  \n",
       "0              24.8         17.6  \n",
       "1              25.0         17.7  \n",
       "2              25.1         17.9  \n",
       "3              24.9         18.1  \n",
       "4              24.9         18.0  \n",
       "...             ...          ...  \n",
       "615430          6.7          8.1  \n",
       "615431          6.7          8.0  \n",
       "615432          6.7          8.0  \n",
       "615433          6.7          8.0  \n",
       "615434          6.7          8.0  \n",
       "\n",
       "[615435 rows x 7 columns]"
      ],
      "text/html": "<div>\n<style scoped>\n    .dataframe tbody tr th:only-of-type {\n        vertical-align: middle;\n    }\n\n    .dataframe tbody tr th {\n        vertical-align: top;\n    }\n\n    .dataframe thead th {\n        text-align: right;\n    }\n</style>\n<table border=\"1\" class=\"dataframe\">\n  <thead>\n    <tr style=\"text-align: right;\">\n      <th></th>\n      <th>env_index</th>\n      <th>env_date</th>\n      <th>env_time</th>\n      <th>env_slopesolar</th>\n      <th>env_levelsolar</th>\n      <th>env_modtemp</th>\n      <th>env_airtemp</th>\n    </tr>\n  </thead>\n  <tbody>\n    <tr>\n      <th>0</th>\n      <td>1</td>\n      <td>2018-10-22</td>\n      <td>12:44:29</td>\n      <td>322</td>\n      <td>316</td>\n      <td>24.8</td>\n      <td>17.6</td>\n    </tr>\n    <tr>\n      <th>1</th>\n      <td>2</td>\n      <td>2018-10-22</td>\n      <td>12:45:21</td>\n      <td>320</td>\n      <td>314</td>\n      <td>25.0</td>\n      <td>17.7</td>\n    </tr>\n    <tr>\n      <th>2</th>\n      <td>3</td>\n      <td>2018-10-22</td>\n      <td>12:46:12</td>\n      <td>320</td>\n      <td>312</td>\n      <td>25.1</td>\n      <td>17.9</td>\n    </tr>\n    <tr>\n      <th>3</th>\n      <td>4</td>\n      <td>2018-10-22</td>\n      <td>12:47:04</td>\n      <td>326</td>\n      <td>319</td>\n      <td>24.9</td>\n      <td>18.1</td>\n    </tr>\n    <tr>\n      <th>4</th>\n      <td>5</td>\n      <td>2018-10-22</td>\n      <td>12:47:56</td>\n      <td>335</td>\n      <td>329</td>\n      <td>24.9</td>\n      <td>18.0</td>\n    </tr>\n    <tr>\n      <th>...</th>\n      <td>...</td>\n      <td>...</td>\n      <td>...</td>\n      <td>...</td>\n      <td>...</td>\n      <td>...</td>\n      <td>...</td>\n    </tr>\n    <tr>\n      <th>615430</th>\n      <td>683664</td>\n      <td>2020-10-22</td>\n      <td>23:19:00</td>\n      <td>0</td>\n      <td>0</td>\n      <td>6.7</td>\n      <td>8.1</td>\n    </tr>\n    <tr>\n      <th>615431</th>\n      <td>683665</td>\n      <td>2020-10-22</td>\n      <td>23:23:57</td>\n      <td>0</td>\n      <td>0</td>\n      <td>6.7</td>\n      <td>8.0</td>\n    </tr>\n    <tr>\n      <th>615432</th>\n      <td>683666</td>\n      <td>2020-10-22</td>\n      <td>23:28:53</td>\n      <td>0</td>\n      <td>0</td>\n      <td>6.7</td>\n      <td>8.0</td>\n    </tr>\n    <tr>\n      <th>615433</th>\n      <td>683667</td>\n      <td>2020-10-22</td>\n      <td>23:33:49</td>\n      <td>0</td>\n      <td>0</td>\n      <td>6.7</td>\n      <td>8.0</td>\n    </tr>\n    <tr>\n      <th>615434</th>\n      <td>683668</td>\n      <td>2020-10-22</td>\n      <td>23:38:46</td>\n      <td>0</td>\n      <td>0</td>\n      <td>6.7</td>\n      <td>8.0</td>\n    </tr>\n  </tbody>\n</table>\n<p>615435 rows × 7 columns</p>\n</div>"
     },
     "metadata": {},
     "execution_count": 25
    }
   ],
   "source": [
    "## merge 1, 2 데이터\n",
    "data1 = pd.read_csv(\"./ENITT_SOLAR_DATA/ENITT_SOLAR_DATA/A365. 반포써밋2블럭 발전량.csv\", encoding=\"ms949\")\n",
    "data2 = pd.read_csv(\"./ENITT_SOLAR_DATA/ENITT_SOLAR_DATA/365. 반포써밋2블럭 발전량.csv\", encoding=\"ms949\")\n",
    "data3 = pd.read_csv(\"./ENITT_SOLAR_DATA/ENITT_SOLAR_DATA/A365. 반포써밋2블럭 환경센서.csv\", encoding=\"ms949\")\n",
    "data4 = pd.read_csv(\"./ENITT_SOLAR_DATA/ENITT_SOLAR_DATA/365. 반포써밋2블럭 환경정보.csv\", encoding=\"ms949\")\n",
    "\n",
    "\n",
    "\n",
    "data_12 = pd.concat([data2, data1])\n",
    "data_34 = pd.concat([data4, data3])\n",
    "ent_data_solar = data_12.reset_index().drop('index', axis=1)\n",
    "ent_data_solar\n",
    "\n",
    "ent_data_weather = data_34.reset_index().drop('index', axis=1)\n",
    "ent_data_weather"
   ]
  },
  {
   "cell_type": "code",
   "execution_count": 26,
   "metadata": {},
   "outputs": [
    {
     "output_type": "execute_result",
     "data": {
      "text/plain": [
       "        env_index    env_date  env_time  env_slopesolar  env_levelsolar  \\\n",
       "0               1  2018-10-22  12:44:29             322             316   \n",
       "1               2  2018-10-22  12:45:21             320             314   \n",
       "2               3  2018-10-22  12:46:12             320             312   \n",
       "3               4  2018-10-22  12:47:04             326             319   \n",
       "4               5  2018-10-22  12:47:56             335             329   \n",
       "...           ...         ...       ...             ...             ...   \n",
       "615430     683664  2020-10-22  23:19:00               0               0   \n",
       "615431     683665  2020-10-22  23:23:57               0               0   \n",
       "615432     683666  2020-10-22  23:28:53               0               0   \n",
       "615433     683667  2020-10-22  23:33:49               0               0   \n",
       "615434     683668  2020-10-22  23:38:46               0               0   \n",
       "\n",
       "        env_modtemp  env_airtemp  \n",
       "0              24.8         17.6  \n",
       "1              25.0         17.7  \n",
       "2              25.1         17.9  \n",
       "3              24.9         18.1  \n",
       "4              24.9         18.0  \n",
       "...             ...          ...  \n",
       "615430          6.7          8.1  \n",
       "615431          6.7          8.0  \n",
       "615432          6.7          8.0  \n",
       "615433          6.7          8.0  \n",
       "615434          6.7          8.0  \n",
       "\n",
       "[615435 rows x 7 columns]"
      ],
      "text/html": "<div>\n<style scoped>\n    .dataframe tbody tr th:only-of-type {\n        vertical-align: middle;\n    }\n\n    .dataframe tbody tr th {\n        vertical-align: top;\n    }\n\n    .dataframe thead th {\n        text-align: right;\n    }\n</style>\n<table border=\"1\" class=\"dataframe\">\n  <thead>\n    <tr style=\"text-align: right;\">\n      <th></th>\n      <th>env_index</th>\n      <th>env_date</th>\n      <th>env_time</th>\n      <th>env_slopesolar</th>\n      <th>env_levelsolar</th>\n      <th>env_modtemp</th>\n      <th>env_airtemp</th>\n    </tr>\n  </thead>\n  <tbody>\n    <tr>\n      <th>0</th>\n      <td>1</td>\n      <td>2018-10-22</td>\n      <td>12:44:29</td>\n      <td>322</td>\n      <td>316</td>\n      <td>24.8</td>\n      <td>17.6</td>\n    </tr>\n    <tr>\n      <th>1</th>\n      <td>2</td>\n      <td>2018-10-22</td>\n      <td>12:45:21</td>\n      <td>320</td>\n      <td>314</td>\n      <td>25.0</td>\n      <td>17.7</td>\n    </tr>\n    <tr>\n      <th>2</th>\n      <td>3</td>\n      <td>2018-10-22</td>\n      <td>12:46:12</td>\n      <td>320</td>\n      <td>312</td>\n      <td>25.1</td>\n      <td>17.9</td>\n    </tr>\n    <tr>\n      <th>3</th>\n      <td>4</td>\n      <td>2018-10-22</td>\n      <td>12:47:04</td>\n      <td>326</td>\n      <td>319</td>\n      <td>24.9</td>\n      <td>18.1</td>\n    </tr>\n    <tr>\n      <th>4</th>\n      <td>5</td>\n      <td>2018-10-22</td>\n      <td>12:47:56</td>\n      <td>335</td>\n      <td>329</td>\n      <td>24.9</td>\n      <td>18.0</td>\n    </tr>\n    <tr>\n      <th>...</th>\n      <td>...</td>\n      <td>...</td>\n      <td>...</td>\n      <td>...</td>\n      <td>...</td>\n      <td>...</td>\n      <td>...</td>\n    </tr>\n    <tr>\n      <th>615430</th>\n      <td>683664</td>\n      <td>2020-10-22</td>\n      <td>23:19:00</td>\n      <td>0</td>\n      <td>0</td>\n      <td>6.7</td>\n      <td>8.1</td>\n    </tr>\n    <tr>\n      <th>615431</th>\n      <td>683665</td>\n      <td>2020-10-22</td>\n      <td>23:23:57</td>\n      <td>0</td>\n      <td>0</td>\n      <td>6.7</td>\n      <td>8.0</td>\n    </tr>\n    <tr>\n      <th>615432</th>\n      <td>683666</td>\n      <td>2020-10-22</td>\n      <td>23:28:53</td>\n      <td>0</td>\n      <td>0</td>\n      <td>6.7</td>\n      <td>8.0</td>\n    </tr>\n    <tr>\n      <th>615433</th>\n      <td>683667</td>\n      <td>2020-10-22</td>\n      <td>23:33:49</td>\n      <td>0</td>\n      <td>0</td>\n      <td>6.7</td>\n      <td>8.0</td>\n    </tr>\n    <tr>\n      <th>615434</th>\n      <td>683668</td>\n      <td>2020-10-22</td>\n      <td>23:38:46</td>\n      <td>0</td>\n      <td>0</td>\n      <td>6.7</td>\n      <td>8.0</td>\n    </tr>\n  </tbody>\n</table>\n<p>615435 rows × 7 columns</p>\n</div>"
     },
     "metadata": {},
     "execution_count": 26
    }
   ],
   "source": [
    "## 파일불러오기\n",
    "# def ent_loadfile(solar_path, weather_path):\n",
    "#     ent_data_solar = pd.read_csv(solar_path)\n",
    "#     ent_data_weather = pd.read_csv(weather_path)\n",
    "\n",
    "#     return ent_data_solar, ent_data_weather\n",
    "\n",
    "\n",
    "# ent_data_solar, ent_data_weather = ent_loadfile(\n",
    "#     \"./ENITT_SOLAR_DATA/ENITT_SOLAR_DATA/A365. 반포써밋2블럭 발전량.csv\", \n",
    "#     \"./ENITT_SOLAR_DATA/ENITT_SOLAR_DATA/A365. 반포써밋2블럭 환경센서.csv\")\n",
    "\n",
    "# ent_data_solar[\"pow_date\"].unique() ## 약 2018-11-26~ 2020-03-02 \n",
    "# ent_data_weather[\"env_date\"].unique() ## 약 2018-11-26 ~ 2020-03-03  \n",
    "\n",
    "# -> low data인 환경정보로 정리 필요 // \n",
    "\n",
    "## 외부데이터 불러오기 \n",
    "def other_loadfile(a, b, c): ## 임의로 수정 필요 \n",
    "    other_data_dummy1 = pd.read_csv(a, encoding=\"ms949\")\n",
    "    other_data_dummy2 = pd.read_csv(b, encoding=\"ms949\")\n",
    "    other_data_dummy3 = pd.read_csv(c, encoding=\"ms949\")\n",
    "\n",
    "    return other_data_dummy1, other_data_dummy2, other_data_dummy3\n",
    "\n",
    "other_data_dummy1, other_data_dummy2, other_data_dummy3 = other_loadfile(\n",
    "    \"./ENITT_SOLAR_DATA/re_allweather/allweather2018.csv\",\n",
    "    \"./ENITT_SOLAR_DATA/re_allweather/allweather2019.csv\",\n",
    "    \"./ENITT_SOLAR_DATA/re_allweather/allweather2020.csv\")\n",
    "\n",
    "\n",
    "other_data_dummyall = other_data_dummy1.merge(other_data_dummy2, how=\"outer\").merge(other_data_dummy3, how=\"outer\")\n",
    "other_data_weather = other_data_dummyall[other_data_dummyall[\"지점명\"] == \"수원\"]\n",
    "other_data_weather[\"지점명\"].unique()\n",
    "\n",
    "other_data_dummy1 = pd.read_csv(\"./ENITT_SOLAR_DATA/otherdata/otherdata.csv\", encoding=\"ms949\")\n",
    "other_data_solar = other_data_dummy1[other_data_dummy1[\"발전기명\"] == \"안산연성정수장태양광\"]\n",
    "other_data_solar[\"발전기명\"].unique()\n",
    "# 2019-06-16 13:00\n",
    "# ent_data_weather.loc[ent_data_weather[\"env_date\"] == \"2019-06-16\"]\n",
    "\n",
    "# print()\n",
    "ent_data_solar1 = ent_data_solar[ent_data_solar[\"pow_id\"] == 1]\n",
    "ent_data_weather"
   ]
  },
  {
   "cell_type": "code",
   "execution_count": 27,
   "metadata": {},
   "outputs": [
    {
     "output_type": "execute_result",
     "data": {
      "text/plain": [
       "                    기온  강수량   풍속     풍향    습도   일조   일사   적설   전운량  지중온도\n",
       "일시                                                                      \n",
       "2018-01-01 00:00  -1.8  0.0  2.0  290.0  43.0  0.0  0.0  0.0   0.0   0.0\n",
       "2018-01-01 01:00  -2.6  0.0  0.9  270.0  46.0  0.0  0.0  0.0   0.0   0.0\n",
       "2018-01-01 02:00  -3.0  0.0  1.1  320.0  48.0  0.0  0.0  0.0   0.0   0.0\n",
       "2018-01-01 03:00  -4.2  0.0  0.4    0.0  58.0  0.0  0.0  0.0   0.0   0.0\n",
       "2018-01-01 04:00  -5.3  0.0  0.0    0.0  65.0  0.0  0.0  0.0   0.0   0.0\n",
       "...                ...  ...  ...    ...   ...  ...  ...  ...   ...   ...\n",
       "2020-10-31 19:00  14.2  0.0  1.0  270.0  65.0  0.0  0.0  0.0   8.0   0.0\n",
       "2020-10-31 20:00  14.7  0.0  1.3  230.0  63.0  0.0  0.0  0.0  10.0   0.0\n",
       "2020-10-31 21:00  14.7  0.0  1.7  200.0  62.0  0.0  0.0  0.0   6.0   0.0\n",
       "2020-10-31 22:00  13.4  0.0  1.5  140.0  69.0  0.0  0.0  0.0   9.0   0.0\n",
       "2020-10-31 23:00  14.1  0.0  1.1  180.0  65.0  0.0  0.0  0.0   3.0   0.0\n",
       "\n",
       "[24838 rows x 10 columns]"
      ],
      "text/html": "<div>\n<style scoped>\n    .dataframe tbody tr th:only-of-type {\n        vertical-align: middle;\n    }\n\n    .dataframe tbody tr th {\n        vertical-align: top;\n    }\n\n    .dataframe thead th {\n        text-align: right;\n    }\n</style>\n<table border=\"1\" class=\"dataframe\">\n  <thead>\n    <tr style=\"text-align: right;\">\n      <th></th>\n      <th>기온</th>\n      <th>강수량</th>\n      <th>풍속</th>\n      <th>풍향</th>\n      <th>습도</th>\n      <th>일조</th>\n      <th>일사</th>\n      <th>적설</th>\n      <th>전운량</th>\n      <th>지중온도</th>\n    </tr>\n    <tr>\n      <th>일시</th>\n      <th></th>\n      <th></th>\n      <th></th>\n      <th></th>\n      <th></th>\n      <th></th>\n      <th></th>\n      <th></th>\n      <th></th>\n      <th></th>\n    </tr>\n  </thead>\n  <tbody>\n    <tr>\n      <th>2018-01-01 00:00</th>\n      <td>-1.8</td>\n      <td>0.0</td>\n      <td>2.0</td>\n      <td>290.0</td>\n      <td>43.0</td>\n      <td>0.0</td>\n      <td>0.0</td>\n      <td>0.0</td>\n      <td>0.0</td>\n      <td>0.0</td>\n    </tr>\n    <tr>\n      <th>2018-01-01 01:00</th>\n      <td>-2.6</td>\n      <td>0.0</td>\n      <td>0.9</td>\n      <td>270.0</td>\n      <td>46.0</td>\n      <td>0.0</td>\n      <td>0.0</td>\n      <td>0.0</td>\n      <td>0.0</td>\n      <td>0.0</td>\n    </tr>\n    <tr>\n      <th>2018-01-01 02:00</th>\n      <td>-3.0</td>\n      <td>0.0</td>\n      <td>1.1</td>\n      <td>320.0</td>\n      <td>48.0</td>\n      <td>0.0</td>\n      <td>0.0</td>\n      <td>0.0</td>\n      <td>0.0</td>\n      <td>0.0</td>\n    </tr>\n    <tr>\n      <th>2018-01-01 03:00</th>\n      <td>-4.2</td>\n      <td>0.0</td>\n      <td>0.4</td>\n      <td>0.0</td>\n      <td>58.0</td>\n      <td>0.0</td>\n      <td>0.0</td>\n      <td>0.0</td>\n      <td>0.0</td>\n      <td>0.0</td>\n    </tr>\n    <tr>\n      <th>2018-01-01 04:00</th>\n      <td>-5.3</td>\n      <td>0.0</td>\n      <td>0.0</td>\n      <td>0.0</td>\n      <td>65.0</td>\n      <td>0.0</td>\n      <td>0.0</td>\n      <td>0.0</td>\n      <td>0.0</td>\n      <td>0.0</td>\n    </tr>\n    <tr>\n      <th>...</th>\n      <td>...</td>\n      <td>...</td>\n      <td>...</td>\n      <td>...</td>\n      <td>...</td>\n      <td>...</td>\n      <td>...</td>\n      <td>...</td>\n      <td>...</td>\n      <td>...</td>\n    </tr>\n    <tr>\n      <th>2020-10-31 19:00</th>\n      <td>14.2</td>\n      <td>0.0</td>\n      <td>1.0</td>\n      <td>270.0</td>\n      <td>65.0</td>\n      <td>0.0</td>\n      <td>0.0</td>\n      <td>0.0</td>\n      <td>8.0</td>\n      <td>0.0</td>\n    </tr>\n    <tr>\n      <th>2020-10-31 20:00</th>\n      <td>14.7</td>\n      <td>0.0</td>\n      <td>1.3</td>\n      <td>230.0</td>\n      <td>63.0</td>\n      <td>0.0</td>\n      <td>0.0</td>\n      <td>0.0</td>\n      <td>10.0</td>\n      <td>0.0</td>\n    </tr>\n    <tr>\n      <th>2020-10-31 21:00</th>\n      <td>14.7</td>\n      <td>0.0</td>\n      <td>1.7</td>\n      <td>200.0</td>\n      <td>62.0</td>\n      <td>0.0</td>\n      <td>0.0</td>\n      <td>0.0</td>\n      <td>6.0</td>\n      <td>0.0</td>\n    </tr>\n    <tr>\n      <th>2020-10-31 22:00</th>\n      <td>13.4</td>\n      <td>0.0</td>\n      <td>1.5</td>\n      <td>140.0</td>\n      <td>69.0</td>\n      <td>0.0</td>\n      <td>0.0</td>\n      <td>0.0</td>\n      <td>9.0</td>\n      <td>0.0</td>\n    </tr>\n    <tr>\n      <th>2020-10-31 23:00</th>\n      <td>14.1</td>\n      <td>0.0</td>\n      <td>1.1</td>\n      <td>180.0</td>\n      <td>65.0</td>\n      <td>0.0</td>\n      <td>0.0</td>\n      <td>0.0</td>\n      <td>3.0</td>\n      <td>0.0</td>\n    </tr>\n  </tbody>\n</table>\n<p>24838 rows × 10 columns</p>\n</div>"
     },
     "metadata": {},
     "execution_count": 27
    }
   ],
   "source": [
    "## DELETE COLUMN AND EDIT COLUMN\n",
    "\n",
    "## 지점', '지점명', '기온(°C)', '강수량(mm)', '풍속(m/s)', '풍향(16방위)', '습도(%)','일조(hr)', '일사(MJ/m2)', '전운량(10분위)', '운형(운형약어)', '지면온도(°C)'\n",
    "#=>\n",
    "\n",
    "## '기온', '강수량', '풍속', '풍향', '습도', '일조', '일사', '전운량', '지면온도'\n",
    "reset_other_weather = other_data_weather.set_index(\"일시\")\n",
    "reset_other_weather_need = reset_other_weather[['기온(°C)', '강수량(mm)', '풍속(m/s)', '풍향(16방위)', '습도(%)','일조(hr)', '일사(MJ/m2)', '적설(cm)', '전운량(10분위)', '10cm 지중온도(°C)']]\n",
    "reset_other_weather_need.columns = ['기온', '강수량', '풍속', '풍향', '습도', '일조', '일사', '적설', '전운량', '지중온도']\n",
    "reset_other_weather_need.fillna(0, inplace=True)\n",
    "reset_other_weather_need\n",
    "\n"
   ]
  },
  {
   "cell_type": "code",
   "execution_count": 28,
   "metadata": {},
   "outputs": [
    {
     "output_type": "execute_result",
     "data": {
      "text/plain": [
       "                    env_date dummy_time  env_slopesolar  env_levelsolar  \\\n",
       "2018-10-22 12:00  2018-10-22         12      333.375000      321.937500   \n",
       "2018-10-22 13:00  2018-10-22         13      490.514286      563.442857   \n",
       "2018-10-22 14:00  2018-10-22         14      368.214286      426.042857   \n",
       "2018-10-22 15:00  2018-10-22         15      242.214286      294.400000   \n",
       "2018-10-22 16:00  2018-10-22         16      116.159420      132.362319   \n",
       "...                      ...        ...             ...             ...   \n",
       "2020-10-22 14:00  2020-10-22         14      491.916667      695.333333   \n",
       "2020-10-22 15:00  2020-10-22         15      385.500000      638.750000   \n",
       "2020-10-22 16:00  2020-10-22         16      154.000000      280.461538   \n",
       "2020-10-22 17:00  2020-10-22         17       11.166667       15.750000   \n",
       "2020-10-22 18:00  2020-10-22         18        0.000000        0.000000   \n",
       "\n",
       "                  env_modtemp  env_airtemp  pow_totpower  \n",
       "2018-10-22 12:00    25.050000    17.881250        5000.0  \n",
       "2018-10-22 13:00    28.157143    18.405714        7000.0  \n",
       "2018-10-22 14:00    26.777143    19.221429        5000.0  \n",
       "2018-10-22 15:00    21.861429    18.455714        3000.0  \n",
       "2018-10-22 16:00    18.288406    17.346377        2000.0  \n",
       "...                       ...          ...           ...  \n",
       "2020-10-22 14:00    23.758333    17.483333        6000.0  \n",
       "2020-10-22 15:00    21.791667    17.800000        4000.0  \n",
       "2020-10-22 16:00    16.684615    15.915385        2000.0  \n",
       "2020-10-22 17:00    12.875000    13.850000           0.0  \n",
       "2020-10-22 18:00    11.033333    12.583333           0.0  \n",
       "\n",
       "[4601 rows x 7 columns]"
      ],
      "text/html": "<div>\n<style scoped>\n    .dataframe tbody tr th:only-of-type {\n        vertical-align: middle;\n    }\n\n    .dataframe tbody tr th {\n        vertical-align: top;\n    }\n\n    .dataframe thead th {\n        text-align: right;\n    }\n</style>\n<table border=\"1\" class=\"dataframe\">\n  <thead>\n    <tr style=\"text-align: right;\">\n      <th></th>\n      <th>env_date</th>\n      <th>dummy_time</th>\n      <th>env_slopesolar</th>\n      <th>env_levelsolar</th>\n      <th>env_modtemp</th>\n      <th>env_airtemp</th>\n      <th>pow_totpower</th>\n    </tr>\n  </thead>\n  <tbody>\n    <tr>\n      <th>2018-10-22 12:00</th>\n      <td>2018-10-22</td>\n      <td>12</td>\n      <td>333.375000</td>\n      <td>321.937500</td>\n      <td>25.050000</td>\n      <td>17.881250</td>\n      <td>5000.0</td>\n    </tr>\n    <tr>\n      <th>2018-10-22 13:00</th>\n      <td>2018-10-22</td>\n      <td>13</td>\n      <td>490.514286</td>\n      <td>563.442857</td>\n      <td>28.157143</td>\n      <td>18.405714</td>\n      <td>7000.0</td>\n    </tr>\n    <tr>\n      <th>2018-10-22 14:00</th>\n      <td>2018-10-22</td>\n      <td>14</td>\n      <td>368.214286</td>\n      <td>426.042857</td>\n      <td>26.777143</td>\n      <td>19.221429</td>\n      <td>5000.0</td>\n    </tr>\n    <tr>\n      <th>2018-10-22 15:00</th>\n      <td>2018-10-22</td>\n      <td>15</td>\n      <td>242.214286</td>\n      <td>294.400000</td>\n      <td>21.861429</td>\n      <td>18.455714</td>\n      <td>3000.0</td>\n    </tr>\n    <tr>\n      <th>2018-10-22 16:00</th>\n      <td>2018-10-22</td>\n      <td>16</td>\n      <td>116.159420</td>\n      <td>132.362319</td>\n      <td>18.288406</td>\n      <td>17.346377</td>\n      <td>2000.0</td>\n    </tr>\n    <tr>\n      <th>...</th>\n      <td>...</td>\n      <td>...</td>\n      <td>...</td>\n      <td>...</td>\n      <td>...</td>\n      <td>...</td>\n      <td>...</td>\n    </tr>\n    <tr>\n      <th>2020-10-22 14:00</th>\n      <td>2020-10-22</td>\n      <td>14</td>\n      <td>491.916667</td>\n      <td>695.333333</td>\n      <td>23.758333</td>\n      <td>17.483333</td>\n      <td>6000.0</td>\n    </tr>\n    <tr>\n      <th>2020-10-22 15:00</th>\n      <td>2020-10-22</td>\n      <td>15</td>\n      <td>385.500000</td>\n      <td>638.750000</td>\n      <td>21.791667</td>\n      <td>17.800000</td>\n      <td>4000.0</td>\n    </tr>\n    <tr>\n      <th>2020-10-22 16:00</th>\n      <td>2020-10-22</td>\n      <td>16</td>\n      <td>154.000000</td>\n      <td>280.461538</td>\n      <td>16.684615</td>\n      <td>15.915385</td>\n      <td>2000.0</td>\n    </tr>\n    <tr>\n      <th>2020-10-22 17:00</th>\n      <td>2020-10-22</td>\n      <td>17</td>\n      <td>11.166667</td>\n      <td>15.750000</td>\n      <td>12.875000</td>\n      <td>13.850000</td>\n      <td>0.0</td>\n    </tr>\n    <tr>\n      <th>2020-10-22 18:00</th>\n      <td>2020-10-22</td>\n      <td>18</td>\n      <td>0.000000</td>\n      <td>0.000000</td>\n      <td>11.033333</td>\n      <td>12.583333</td>\n      <td>0.0</td>\n    </tr>\n  </tbody>\n</table>\n<p>4601 rows × 7 columns</p>\n</div>"
     },
     "metadata": {},
     "execution_count": 28
    }
   ],
   "source": [
    "## 기업 solar weather EDA -> 필요\n",
    "ent_data_weather.columns \n",
    "\n",
    "ent_data_weather[\"env_levelsolar\"].describe()\n",
    "ent_data_weather[\"env_slopesolar\"].describe()\n",
    "\n",
    "\n",
    "## 기업 날씨 데이터 1시간 별로 groupby , ( slopesolar, levelsolar => sum) , ( modtemp, airtemp => mean )\n",
    "def groupby_weather():\n",
    "    ## time 구분\n",
    "    dummy_time_list = []\n",
    "    for i in ent_data_weather[\"env_time\"]:\n",
    "        dummy_time_list.append(i[:2])\n",
    "\n",
    "    ent_data_weather[\"dummy_time\"] = dummy_time_list\n",
    "    dummy_groupbyall = ent_data_weather.groupby([\"env_date\", \"dummy_time\"]).mean()\n",
    "\n",
    "    # ent_data_dummy1_weather = ent_data_weather[[\"env_date\", \"dummy_time\", \"env_slopesolar\", \"env_levelsolar\"]]\n",
    "    # ent_data_dummy2_weather = ent_data_weather[[\"env_date\", \"dummy_time\", \"env_modtemp\", \"env_airtemp\"]]\n",
    "    # dummy_groupby1 = ent_data_dummy1_weather.groupby([\"env_date\", \"dummy_time\"]).mean()\n",
    "    # dummy_groupby2 = ent_data_dummy2_weather.groupby([\"env_date\", \"dummy_time\"]).mean()\n",
    "    # ent_data_weather_groupby = dummy_groupby1.merge(dummy_groupby2, on=[\"env_date\", \"dummy_time\"], how=\"outer\")\n",
    "\n",
    "    ent_data_weather_groupby = dummy_groupbyall.reset_index() ## 그룹화된 인덱스 풀기 \n",
    "\n",
    "    ### 발전량이 거의 없는 데이터 삭제 ( 8~ 19 까지만 살린다)\n",
    "    drop_data = ent_data_weather_groupby.isin({\"dummy_time\" : [\"00\", \"01\", \"02\", \"03\", \"04\", \"05\", \"06\", \"07\",\"08\", \"19\", \"20\", \"21\", \"22\", \"23\"]})\n",
    "    ent_data_weather_sort = ent_data_weather_groupby[~drop_data].dropna()\n",
    "    # print(ent_data_weather_sort)\n",
    "    ent_data_weather_sort.drop(\"env_index\", axis=1, inplace=True)\n",
    "\n",
    "    return ent_data_weather_sort\n",
    "\n",
    "\n",
    "\n",
    "\n",
    "## 기업 발전량 데이터 groupby\n",
    "def groupby_solar():\n",
    "    ## 필요한 컬럼만 가져오기\n",
    "    ent_data_need = ent_data_solar1[[\"pow_date\", \"pow_time\", \"pow_totpower\"]]\n",
    "\n",
    "    ## time 구분\n",
    "    dummy_time_list = []\n",
    "    for i in ent_data_need[\"pow_time\"]:\n",
    "        dummy_time_list.append(i[:2])\n",
    "    ent_data_need[\"dummy_time\"] = dummy_time_list\n",
    "\n",
    "    dummy_groupby1 = ent_data_need.groupby([\"pow_date\", \"dummy_time\"]).min()\n",
    "    dummy_groupby2 = ent_data_need.groupby([\"pow_date\", \"dummy_time\"]).max()\n",
    "\n",
    "    ## 유일한 값이면 어떻하지? 더 생각을 해봐야함,, 실제로 유일한 값이 있음 고쳐야 한다. \n",
    "    ## 최대값과 최솟값 차 = 1시간동안 발전한 총용량\n",
    "    ent_data_perhour = dummy_groupby2[\"pow_totpower\"] - dummy_groupby1[\"pow_totpower\"]\n",
    "    ent_data_perhour = ent_data_perhour.reset_index()\n",
    "\n",
    "    ### 발전량이 거의 없는 데이터 삭제 ( 8~ 19 까지만 살린다)\n",
    "    drop_data = ent_data_perhour.isin({\"dummy_time\" : [\"00\", \"01\", \"02\", \"03\", \"04\", \"05\", \"06\", \"07\",\"08\", \"19\", \"20\", \"21\", \"22\", \"23\"]})\n",
    "    ent_data_perhour_sort = ent_data_perhour[~drop_data].dropna()\n",
    "\n",
    "    return ent_data_perhour_sort\n",
    "    # print(ent_data_perhour_sort[\"dummy_time\"].unique())\n",
    "\n",
    "\n",
    "\n",
    "\n",
    "### weather, solar join\n",
    "def join_weather_solar(a, b):\n",
    "    sub_index1 = a[\"env_date\"] + \" \" + a[\"dummy_time\"] + \":00\"\n",
    "    a.index = sub_index1\n",
    "\n",
    "    sub_index2 = b[\"pow_date\"] + \" \" + b[\"dummy_time\"] + \":00\"\n",
    "    b.index = sub_index2\n",
    "\n",
    "    joinset = a.join(b[\"pow_totpower\"])\n",
    "    ent_data_solar_weather = joinset.dropna()\n",
    "\n",
    "\n",
    "    return ent_data_solar_weather\n",
    "\n",
    "ent_data_weather_sort = groupby_weather()\n",
    "ent_data_perhour_sort = groupby_solar()\n",
    "ent_data_solar_weather = join_weather_solar(ent_data_weather_sort, ent_data_perhour_sort)\n",
    "ent_data_solar_weather\n",
    "# pow_perhour \n",
    "# sns.boxplot(ent_data_weather_sort[\"env_slopesolar\"])\n",
    "# sns.boxplot(ent_data_weather_sort[\"env_levelsolar\"])\n",
    "# sns.boxplot(data = ent_data_weather_sort[[\"env_slopesolar\", \"env_levelsolar\"]])\n",
    "# ent_data_weather_sort[[\"env_slopesolar\", \"env_levelsolar\"]]\n",
    "\n",
    "# print(len(joinset) - 2504)\n",
    "\n"
   ]
  },
  {
   "cell_type": "code",
   "execution_count": 29,
   "metadata": {},
   "outputs": [
    {
     "output_type": "execute_result",
     "data": {
      "text/plain": [
       "                  env_slopesolar  env_levelsolar  env_modtemp  env_airtemp  \\\n",
       "2018-10-22 12:00      333.375000      321.937500    25.050000    17.881250   \n",
       "2018-10-22 13:00      490.514286      563.442857    28.157143    18.405714   \n",
       "2018-10-22 14:00      368.214286      426.042857    26.777143    19.221429   \n",
       "2018-10-22 15:00      242.214286      294.400000    21.861429    18.455714   \n",
       "2018-10-22 16:00      116.159420      132.362319    18.288406    17.346377   \n",
       "...                          ...             ...          ...          ...   \n",
       "2020-10-22 14:00      491.916667      695.333333    23.758333    17.483333   \n",
       "2020-10-22 15:00      385.500000      638.750000    21.791667    17.800000   \n",
       "2020-10-22 16:00      154.000000      280.461538    16.684615    15.915385   \n",
       "2020-10-22 17:00       11.166667       15.750000    12.875000    13.850000   \n",
       "2020-10-22 18:00        0.000000        0.000000    11.033333    12.583333   \n",
       "\n",
       "                  pow_totpower    기온  강수량   풍속     풍향    습도   일조    일사   적설  \\\n",
       "2018-10-22 12:00        5000.0  17.9  0.0  1.0  160.0  43.0  1.0  1.93  0.0   \n",
       "2018-10-22 13:00        7000.0  19.5  0.0  1.7  140.0  42.0  0.7  1.61  0.0   \n",
       "2018-10-22 14:00        5000.0  19.7  0.0  1.8  200.0  38.0  0.8  1.59  0.0   \n",
       "2018-10-22 15:00        3000.0  19.0  0.0  1.3  180.0  41.0  0.6  1.21  0.0   \n",
       "2018-10-22 16:00        2000.0  18.5  0.0  1.8  200.0  41.0  0.2  0.66  0.0   \n",
       "...                        ...   ...  ...  ...    ...   ...  ...   ...  ...   \n",
       "2020-10-22 14:00        6000.0  18.1  0.0  4.5  270.0  44.0  1.0  2.06  0.0   \n",
       "2020-10-22 15:00        4000.0  17.2  0.0  4.4  270.0  47.0  1.0  1.85  0.0   \n",
       "2020-10-22 16:00        2000.0  16.7  0.0  4.4  270.0  46.0  1.0  1.27  0.0   \n",
       "2020-10-22 17:00           0.0  15.6  0.0  3.3  270.0  45.0  1.0  0.63  0.0   \n",
       "2020-10-22 18:00           0.0  13.9  0.0  4.1  270.0  49.0  0.6  0.10  0.0   \n",
       "\n",
       "                  전운량  지중온도  match_solar  \n",
       "2018-10-22 12:00  8.0   0.0   536.111111  \n",
       "2018-10-22 13:00  8.0   0.0   447.222222  \n",
       "2018-10-22 14:00  8.0   0.0   441.666667  \n",
       "2018-10-22 15:00  8.0   0.0   336.111111  \n",
       "2018-10-22 16:00  9.0   0.0   183.333333  \n",
       "...               ...   ...          ...  \n",
       "2020-10-22 14:00  3.0   0.0   572.222222  \n",
       "2020-10-22 15:00  2.0   0.0   513.888889  \n",
       "2020-10-22 16:00  1.0   0.0   352.777778  \n",
       "2020-10-22 17:00  1.0   0.0   175.000000  \n",
       "2020-10-22 18:00  0.0   0.0    27.777778  \n",
       "\n",
       "[4601 rows x 16 columns]"
      ],
      "text/html": "<div>\n<style scoped>\n    .dataframe tbody tr th:only-of-type {\n        vertical-align: middle;\n    }\n\n    .dataframe tbody tr th {\n        vertical-align: top;\n    }\n\n    .dataframe thead th {\n        text-align: right;\n    }\n</style>\n<table border=\"1\" class=\"dataframe\">\n  <thead>\n    <tr style=\"text-align: right;\">\n      <th></th>\n      <th>env_slopesolar</th>\n      <th>env_levelsolar</th>\n      <th>env_modtemp</th>\n      <th>env_airtemp</th>\n      <th>pow_totpower</th>\n      <th>기온</th>\n      <th>강수량</th>\n      <th>풍속</th>\n      <th>풍향</th>\n      <th>습도</th>\n      <th>일조</th>\n      <th>일사</th>\n      <th>적설</th>\n      <th>전운량</th>\n      <th>지중온도</th>\n      <th>match_solar</th>\n    </tr>\n  </thead>\n  <tbody>\n    <tr>\n      <th>2018-10-22 12:00</th>\n      <td>333.375000</td>\n      <td>321.937500</td>\n      <td>25.050000</td>\n      <td>17.881250</td>\n      <td>5000.0</td>\n      <td>17.9</td>\n      <td>0.0</td>\n      <td>1.0</td>\n      <td>160.0</td>\n      <td>43.0</td>\n      <td>1.0</td>\n      <td>1.93</td>\n      <td>0.0</td>\n      <td>8.0</td>\n      <td>0.0</td>\n      <td>536.111111</td>\n    </tr>\n    <tr>\n      <th>2018-10-22 13:00</th>\n      <td>490.514286</td>\n      <td>563.442857</td>\n      <td>28.157143</td>\n      <td>18.405714</td>\n      <td>7000.0</td>\n      <td>19.5</td>\n      <td>0.0</td>\n      <td>1.7</td>\n      <td>140.0</td>\n      <td>42.0</td>\n      <td>0.7</td>\n      <td>1.61</td>\n      <td>0.0</td>\n      <td>8.0</td>\n      <td>0.0</td>\n      <td>447.222222</td>\n    </tr>\n    <tr>\n      <th>2018-10-22 14:00</th>\n      <td>368.214286</td>\n      <td>426.042857</td>\n      <td>26.777143</td>\n      <td>19.221429</td>\n      <td>5000.0</td>\n      <td>19.7</td>\n      <td>0.0</td>\n      <td>1.8</td>\n      <td>200.0</td>\n      <td>38.0</td>\n      <td>0.8</td>\n      <td>1.59</td>\n      <td>0.0</td>\n      <td>8.0</td>\n      <td>0.0</td>\n      <td>441.666667</td>\n    </tr>\n    <tr>\n      <th>2018-10-22 15:00</th>\n      <td>242.214286</td>\n      <td>294.400000</td>\n      <td>21.861429</td>\n      <td>18.455714</td>\n      <td>3000.0</td>\n      <td>19.0</td>\n      <td>0.0</td>\n      <td>1.3</td>\n      <td>180.0</td>\n      <td>41.0</td>\n      <td>0.6</td>\n      <td>1.21</td>\n      <td>0.0</td>\n      <td>8.0</td>\n      <td>0.0</td>\n      <td>336.111111</td>\n    </tr>\n    <tr>\n      <th>2018-10-22 16:00</th>\n      <td>116.159420</td>\n      <td>132.362319</td>\n      <td>18.288406</td>\n      <td>17.346377</td>\n      <td>2000.0</td>\n      <td>18.5</td>\n      <td>0.0</td>\n      <td>1.8</td>\n      <td>200.0</td>\n      <td>41.0</td>\n      <td>0.2</td>\n      <td>0.66</td>\n      <td>0.0</td>\n      <td>9.0</td>\n      <td>0.0</td>\n      <td>183.333333</td>\n    </tr>\n    <tr>\n      <th>...</th>\n      <td>...</td>\n      <td>...</td>\n      <td>...</td>\n      <td>...</td>\n      <td>...</td>\n      <td>...</td>\n      <td>...</td>\n      <td>...</td>\n      <td>...</td>\n      <td>...</td>\n      <td>...</td>\n      <td>...</td>\n      <td>...</td>\n      <td>...</td>\n      <td>...</td>\n      <td>...</td>\n    </tr>\n    <tr>\n      <th>2020-10-22 14:00</th>\n      <td>491.916667</td>\n      <td>695.333333</td>\n      <td>23.758333</td>\n      <td>17.483333</td>\n      <td>6000.0</td>\n      <td>18.1</td>\n      <td>0.0</td>\n      <td>4.5</td>\n      <td>270.0</td>\n      <td>44.0</td>\n      <td>1.0</td>\n      <td>2.06</td>\n      <td>0.0</td>\n      <td>3.0</td>\n      <td>0.0</td>\n      <td>572.222222</td>\n    </tr>\n    <tr>\n      <th>2020-10-22 15:00</th>\n      <td>385.500000</td>\n      <td>638.750000</td>\n      <td>21.791667</td>\n      <td>17.800000</td>\n      <td>4000.0</td>\n      <td>17.2</td>\n      <td>0.0</td>\n      <td>4.4</td>\n      <td>270.0</td>\n      <td>47.0</td>\n      <td>1.0</td>\n      <td>1.85</td>\n      <td>0.0</td>\n      <td>2.0</td>\n      <td>0.0</td>\n      <td>513.888889</td>\n    </tr>\n    <tr>\n      <th>2020-10-22 16:00</th>\n      <td>154.000000</td>\n      <td>280.461538</td>\n      <td>16.684615</td>\n      <td>15.915385</td>\n      <td>2000.0</td>\n      <td>16.7</td>\n      <td>0.0</td>\n      <td>4.4</td>\n      <td>270.0</td>\n      <td>46.0</td>\n      <td>1.0</td>\n      <td>1.27</td>\n      <td>0.0</td>\n      <td>1.0</td>\n      <td>0.0</td>\n      <td>352.777778</td>\n    </tr>\n    <tr>\n      <th>2020-10-22 17:00</th>\n      <td>11.166667</td>\n      <td>15.750000</td>\n      <td>12.875000</td>\n      <td>13.850000</td>\n      <td>0.0</td>\n      <td>15.6</td>\n      <td>0.0</td>\n      <td>3.3</td>\n      <td>270.0</td>\n      <td>45.0</td>\n      <td>1.0</td>\n      <td>0.63</td>\n      <td>0.0</td>\n      <td>1.0</td>\n      <td>0.0</td>\n      <td>175.000000</td>\n    </tr>\n    <tr>\n      <th>2020-10-22 18:00</th>\n      <td>0.000000</td>\n      <td>0.000000</td>\n      <td>11.033333</td>\n      <td>12.583333</td>\n      <td>0.0</td>\n      <td>13.9</td>\n      <td>0.0</td>\n      <td>4.1</td>\n      <td>270.0</td>\n      <td>49.0</td>\n      <td>0.6</td>\n      <td>0.10</td>\n      <td>0.0</td>\n      <td>0.0</td>\n      <td>0.0</td>\n      <td>27.777778</td>\n    </tr>\n  </tbody>\n</table>\n<p>4601 rows × 16 columns</p>\n</div>"
     },
     "metadata": {},
     "execution_count": 29
    }
   ],
   "source": [
    "## 기업, 공공 join\n",
    "\n",
    "join_ent_other = ent_data_solar_weather.join(reset_other_weather_need)\n",
    "join_ent_other[\"일사\"].fillna(0, inplace=True)\n",
    "# join_ent_other\n",
    "join_ent_other[\"match_solar\"] = join_ent_other[\"일사\"] * 1000000 / 3600\n",
    "join_ent_other_set = join_ent_other.drop([\"env_date\", \"dummy_time\"], axis=1)\n",
    "\n",
    "## csv로 저장\n",
    "join_ent_other_set.to_csv('banpo1_join.csv', encoding='utf-8')\n",
    "\n",
    "join_ent_other_set\n"
   ]
  },
  {
   "cell_type": "code",
   "execution_count": 30,
   "metadata": {},
   "outputs": [
    {
     "output_type": "execute_result",
     "data": {
      "text/plain": [
       "                env_slopesolar  env_levelsolar  env_modtemp  env_airtemp  \\\n",
       "env_slopesolar        1.000000        0.922769     0.607467     0.261036   \n",
       "env_levelsolar        0.922769        1.000000     0.420632     0.074844   \n",
       "env_modtemp           0.607467        0.420632     1.000000     0.913855   \n",
       "env_airtemp           0.261036        0.074844     0.913855     1.000000   \n",
       "pow_totpower          0.970358        0.864514     0.600015     0.261062   \n",
       "기온                    0.213852        0.028737     0.884179     0.988688   \n",
       "강수량                  -0.125288       -0.128995    -0.018123     0.033624   \n",
       "풍속                    0.080234        0.088889     0.042415     0.093144   \n",
       "풍향                    0.079151        0.145568    -0.093636    -0.105923   \n",
       "습도                   -0.331865       -0.470201     0.013897     0.147349   \n",
       "일조                    0.521316        0.606171     0.127131    -0.077764   \n",
       "일사                    0.839998        0.796714     0.595327     0.337791   \n",
       "적설                   -0.039394       -0.024526    -0.138398    -0.142751   \n",
       "전운량                  -0.381401       -0.507432     0.034302     0.201570   \n",
       "지중온도                 -0.003259       -0.003887     0.020750     0.026968   \n",
       "match_solar           0.839998        0.796714     0.595327     0.337791   \n",
       "\n",
       "                pow_totpower        기온       강수량        풍속        풍향  \\\n",
       "env_slopesolar      0.970358  0.213852 -0.125288  0.080234  0.079151   \n",
       "env_levelsolar      0.864514  0.028737 -0.128995  0.088889  0.145568   \n",
       "env_modtemp         0.600015  0.884179 -0.018123  0.042415 -0.093636   \n",
       "env_airtemp         0.261062  0.988688  0.033624  0.093144 -0.105923   \n",
       "pow_totpower        1.000000  0.222272 -0.122520  0.066910  0.046777   \n",
       "기온                  0.222272  1.000000  0.047792  0.117232 -0.103304   \n",
       "강수량                -0.122520  0.047792  1.000000 -0.004909 -0.062644   \n",
       "풍속                  0.066910  0.117232 -0.004909  1.000000  0.257377   \n",
       "풍향                  0.046777 -0.103304 -0.062644  0.257377  1.000000   \n",
       "습도                 -0.265184  0.157757  0.218157 -0.134523 -0.252306   \n",
       "일조                  0.479936 -0.101345 -0.171306  0.134559  0.258433   \n",
       "일사                  0.802479  0.315179 -0.159630  0.218838  0.164911   \n",
       "적설                 -0.080130 -0.143283  0.003460  0.049181  0.019663   \n",
       "전운량                -0.339284  0.227181  0.146886 -0.069890 -0.253876   \n",
       "지중온도               -0.005709  0.026080 -0.002635 -0.004231 -0.021466   \n",
       "match_solar         0.802479  0.315179 -0.159630  0.218838  0.164911   \n",
       "\n",
       "                      습도        일조        일사        적설       전운량      지중온도  \\\n",
       "env_slopesolar -0.331865  0.521316  0.839998 -0.039394 -0.381401 -0.003259   \n",
       "env_levelsolar -0.470201  0.606171  0.796714 -0.024526 -0.507432 -0.003887   \n",
       "env_modtemp     0.013897  0.127131  0.595327 -0.138398  0.034302  0.020750   \n",
       "env_airtemp     0.147349 -0.077764  0.337791 -0.142751  0.201570  0.026968   \n",
       "pow_totpower   -0.265184  0.479936  0.802479 -0.080130 -0.339284 -0.005709   \n",
       "기온              0.157757 -0.101345  0.315179 -0.143283  0.227181  0.026080   \n",
       "강수량             0.218157 -0.171306 -0.159630  0.003460  0.146886 -0.002635   \n",
       "풍속             -0.134523  0.134559  0.218838  0.049181 -0.069890 -0.004231   \n",
       "풍향             -0.252306  0.258433  0.164911  0.019663 -0.253876 -0.021466   \n",
       "습도              1.000000 -0.609290 -0.467519  0.080552  0.531218 -0.008148   \n",
       "일조             -0.609290  1.000000  0.666597 -0.023927 -0.804053 -0.021988   \n",
       "일사             -0.467519  0.666597  1.000000 -0.047031 -0.432816 -0.013361   \n",
       "적설              0.080552 -0.023927 -0.047031  1.000000  0.031118 -0.001736   \n",
       "전운량             0.531218 -0.804053 -0.432816  0.031118  1.000000  0.005005   \n",
       "지중온도           -0.008148 -0.021988 -0.013361 -0.001736  0.005005  1.000000   \n",
       "match_solar    -0.467519  0.666597  1.000000 -0.047031 -0.432816 -0.013361   \n",
       "\n",
       "                match_solar  \n",
       "env_slopesolar     0.839998  \n",
       "env_levelsolar     0.796714  \n",
       "env_modtemp        0.595327  \n",
       "env_airtemp        0.337791  \n",
       "pow_totpower       0.802479  \n",
       "기온                 0.315179  \n",
       "강수량               -0.159630  \n",
       "풍속                 0.218838  \n",
       "풍향                 0.164911  \n",
       "습도                -0.467519  \n",
       "일조                 0.666597  \n",
       "일사                 1.000000  \n",
       "적설                -0.047031  \n",
       "전운량               -0.432816  \n",
       "지중온도              -0.013361  \n",
       "match_solar        1.000000  "
      ],
      "text/html": "<div>\n<style scoped>\n    .dataframe tbody tr th:only-of-type {\n        vertical-align: middle;\n    }\n\n    .dataframe tbody tr th {\n        vertical-align: top;\n    }\n\n    .dataframe thead th {\n        text-align: right;\n    }\n</style>\n<table border=\"1\" class=\"dataframe\">\n  <thead>\n    <tr style=\"text-align: right;\">\n      <th></th>\n      <th>env_slopesolar</th>\n      <th>env_levelsolar</th>\n      <th>env_modtemp</th>\n      <th>env_airtemp</th>\n      <th>pow_totpower</th>\n      <th>기온</th>\n      <th>강수량</th>\n      <th>풍속</th>\n      <th>풍향</th>\n      <th>습도</th>\n      <th>일조</th>\n      <th>일사</th>\n      <th>적설</th>\n      <th>전운량</th>\n      <th>지중온도</th>\n      <th>match_solar</th>\n    </tr>\n  </thead>\n  <tbody>\n    <tr>\n      <th>env_slopesolar</th>\n      <td>1.000000</td>\n      <td>0.922769</td>\n      <td>0.607467</td>\n      <td>0.261036</td>\n      <td>0.970358</td>\n      <td>0.213852</td>\n      <td>-0.125288</td>\n      <td>0.080234</td>\n      <td>0.079151</td>\n      <td>-0.331865</td>\n      <td>0.521316</td>\n      <td>0.839998</td>\n      <td>-0.039394</td>\n      <td>-0.381401</td>\n      <td>-0.003259</td>\n      <td>0.839998</td>\n    </tr>\n    <tr>\n      <th>env_levelsolar</th>\n      <td>0.922769</td>\n      <td>1.000000</td>\n      <td>0.420632</td>\n      <td>0.074844</td>\n      <td>0.864514</td>\n      <td>0.028737</td>\n      <td>-0.128995</td>\n      <td>0.088889</td>\n      <td>0.145568</td>\n      <td>-0.470201</td>\n      <td>0.606171</td>\n      <td>0.796714</td>\n      <td>-0.024526</td>\n      <td>-0.507432</td>\n      <td>-0.003887</td>\n      <td>0.796714</td>\n    </tr>\n    <tr>\n      <th>env_modtemp</th>\n      <td>0.607467</td>\n      <td>0.420632</td>\n      <td>1.000000</td>\n      <td>0.913855</td>\n      <td>0.600015</td>\n      <td>0.884179</td>\n      <td>-0.018123</td>\n      <td>0.042415</td>\n      <td>-0.093636</td>\n      <td>0.013897</td>\n      <td>0.127131</td>\n      <td>0.595327</td>\n      <td>-0.138398</td>\n      <td>0.034302</td>\n      <td>0.020750</td>\n      <td>0.595327</td>\n    </tr>\n    <tr>\n      <th>env_airtemp</th>\n      <td>0.261036</td>\n      <td>0.074844</td>\n      <td>0.913855</td>\n      <td>1.000000</td>\n      <td>0.261062</td>\n      <td>0.988688</td>\n      <td>0.033624</td>\n      <td>0.093144</td>\n      <td>-0.105923</td>\n      <td>0.147349</td>\n      <td>-0.077764</td>\n      <td>0.337791</td>\n      <td>-0.142751</td>\n      <td>0.201570</td>\n      <td>0.026968</td>\n      <td>0.337791</td>\n    </tr>\n    <tr>\n      <th>pow_totpower</th>\n      <td>0.970358</td>\n      <td>0.864514</td>\n      <td>0.600015</td>\n      <td>0.261062</td>\n      <td>1.000000</td>\n      <td>0.222272</td>\n      <td>-0.122520</td>\n      <td>0.066910</td>\n      <td>0.046777</td>\n      <td>-0.265184</td>\n      <td>0.479936</td>\n      <td>0.802479</td>\n      <td>-0.080130</td>\n      <td>-0.339284</td>\n      <td>-0.005709</td>\n      <td>0.802479</td>\n    </tr>\n    <tr>\n      <th>기온</th>\n      <td>0.213852</td>\n      <td>0.028737</td>\n      <td>0.884179</td>\n      <td>0.988688</td>\n      <td>0.222272</td>\n      <td>1.000000</td>\n      <td>0.047792</td>\n      <td>0.117232</td>\n      <td>-0.103304</td>\n      <td>0.157757</td>\n      <td>-0.101345</td>\n      <td>0.315179</td>\n      <td>-0.143283</td>\n      <td>0.227181</td>\n      <td>0.026080</td>\n      <td>0.315179</td>\n    </tr>\n    <tr>\n      <th>강수량</th>\n      <td>-0.125288</td>\n      <td>-0.128995</td>\n      <td>-0.018123</td>\n      <td>0.033624</td>\n      <td>-0.122520</td>\n      <td>0.047792</td>\n      <td>1.000000</td>\n      <td>-0.004909</td>\n      <td>-0.062644</td>\n      <td>0.218157</td>\n      <td>-0.171306</td>\n      <td>-0.159630</td>\n      <td>0.003460</td>\n      <td>0.146886</td>\n      <td>-0.002635</td>\n      <td>-0.159630</td>\n    </tr>\n    <tr>\n      <th>풍속</th>\n      <td>0.080234</td>\n      <td>0.088889</td>\n      <td>0.042415</td>\n      <td>0.093144</td>\n      <td>0.066910</td>\n      <td>0.117232</td>\n      <td>-0.004909</td>\n      <td>1.000000</td>\n      <td>0.257377</td>\n      <td>-0.134523</td>\n      <td>0.134559</td>\n      <td>0.218838</td>\n      <td>0.049181</td>\n      <td>-0.069890</td>\n      <td>-0.004231</td>\n      <td>0.218838</td>\n    </tr>\n    <tr>\n      <th>풍향</th>\n      <td>0.079151</td>\n      <td>0.145568</td>\n      <td>-0.093636</td>\n      <td>-0.105923</td>\n      <td>0.046777</td>\n      <td>-0.103304</td>\n      <td>-0.062644</td>\n      <td>0.257377</td>\n      <td>1.000000</td>\n      <td>-0.252306</td>\n      <td>0.258433</td>\n      <td>0.164911</td>\n      <td>0.019663</td>\n      <td>-0.253876</td>\n      <td>-0.021466</td>\n      <td>0.164911</td>\n    </tr>\n    <tr>\n      <th>습도</th>\n      <td>-0.331865</td>\n      <td>-0.470201</td>\n      <td>0.013897</td>\n      <td>0.147349</td>\n      <td>-0.265184</td>\n      <td>0.157757</td>\n      <td>0.218157</td>\n      <td>-0.134523</td>\n      <td>-0.252306</td>\n      <td>1.000000</td>\n      <td>-0.609290</td>\n      <td>-0.467519</td>\n      <td>0.080552</td>\n      <td>0.531218</td>\n      <td>-0.008148</td>\n      <td>-0.467519</td>\n    </tr>\n    <tr>\n      <th>일조</th>\n      <td>0.521316</td>\n      <td>0.606171</td>\n      <td>0.127131</td>\n      <td>-0.077764</td>\n      <td>0.479936</td>\n      <td>-0.101345</td>\n      <td>-0.171306</td>\n      <td>0.134559</td>\n      <td>0.258433</td>\n      <td>-0.609290</td>\n      <td>1.000000</td>\n      <td>0.666597</td>\n      <td>-0.023927</td>\n      <td>-0.804053</td>\n      <td>-0.021988</td>\n      <td>0.666597</td>\n    </tr>\n    <tr>\n      <th>일사</th>\n      <td>0.839998</td>\n      <td>0.796714</td>\n      <td>0.595327</td>\n      <td>0.337791</td>\n      <td>0.802479</td>\n      <td>0.315179</td>\n      <td>-0.159630</td>\n      <td>0.218838</td>\n      <td>0.164911</td>\n      <td>-0.467519</td>\n      <td>0.666597</td>\n      <td>1.000000</td>\n      <td>-0.047031</td>\n      <td>-0.432816</td>\n      <td>-0.013361</td>\n      <td>1.000000</td>\n    </tr>\n    <tr>\n      <th>적설</th>\n      <td>-0.039394</td>\n      <td>-0.024526</td>\n      <td>-0.138398</td>\n      <td>-0.142751</td>\n      <td>-0.080130</td>\n      <td>-0.143283</td>\n      <td>0.003460</td>\n      <td>0.049181</td>\n      <td>0.019663</td>\n      <td>0.080552</td>\n      <td>-0.023927</td>\n      <td>-0.047031</td>\n      <td>1.000000</td>\n      <td>0.031118</td>\n      <td>-0.001736</td>\n      <td>-0.047031</td>\n    </tr>\n    <tr>\n      <th>전운량</th>\n      <td>-0.381401</td>\n      <td>-0.507432</td>\n      <td>0.034302</td>\n      <td>0.201570</td>\n      <td>-0.339284</td>\n      <td>0.227181</td>\n      <td>0.146886</td>\n      <td>-0.069890</td>\n      <td>-0.253876</td>\n      <td>0.531218</td>\n      <td>-0.804053</td>\n      <td>-0.432816</td>\n      <td>0.031118</td>\n      <td>1.000000</td>\n      <td>0.005005</td>\n      <td>-0.432816</td>\n    </tr>\n    <tr>\n      <th>지중온도</th>\n      <td>-0.003259</td>\n      <td>-0.003887</td>\n      <td>0.020750</td>\n      <td>0.026968</td>\n      <td>-0.005709</td>\n      <td>0.026080</td>\n      <td>-0.002635</td>\n      <td>-0.004231</td>\n      <td>-0.021466</td>\n      <td>-0.008148</td>\n      <td>-0.021988</td>\n      <td>-0.013361</td>\n      <td>-0.001736</td>\n      <td>0.005005</td>\n      <td>1.000000</td>\n      <td>-0.013361</td>\n    </tr>\n    <tr>\n      <th>match_solar</th>\n      <td>0.839998</td>\n      <td>0.796714</td>\n      <td>0.595327</td>\n      <td>0.337791</td>\n      <td>0.802479</td>\n      <td>0.315179</td>\n      <td>-0.159630</td>\n      <td>0.218838</td>\n      <td>0.164911</td>\n      <td>-0.467519</td>\n      <td>0.666597</td>\n      <td>1.000000</td>\n      <td>-0.047031</td>\n      <td>-0.432816</td>\n      <td>-0.013361</td>\n      <td>1.000000</td>\n    </tr>\n  </tbody>\n</table>\n</div>"
     },
     "metadata": {},
     "execution_count": 30
    }
   ],
   "source": [
    "join_ent_other_set.corr()"
   ]
  },
  {
   "cell_type": "code",
   "execution_count": 31,
   "metadata": {},
   "outputs": [
    {
     "output_type": "execute_result",
     "data": {
      "text/plain": [
       "<matplotlib.axes._subplots.AxesSubplot at 0x222ba46c6c8>"
      ]
     },
     "metadata": {},
     "execution_count": 31
    },
    {
     "output_type": "display_data",
     "data": {
      "text/plain": "<Figure size 432x288 with 1 Axes>",
      "image/svg+xml": "<?xml version=\"1.0\" encoding=\"utf-8\" standalone=\"no\"?>\r\n<!DOCTYPE svg PUBLIC \"-//W3C//DTD SVG 1.1//EN\"\r\n  \"http://www.w3.org/Graphics/SVG/1.1/DTD/svg11.dtd\">\r\n<!-- Created with matplotlib (https://matplotlib.org/) -->\r\n<svg height=\"248.79625pt\" version=\"1.1\" viewBox=\"0 0 381.65 248.79625\" width=\"381.65pt\" xmlns=\"http://www.w3.org/2000/svg\" xmlns:xlink=\"http://www.w3.org/1999/xlink\">\r\n <defs>\r\n  <style type=\"text/css\">\r\n*{stroke-linecap:butt;stroke-linejoin:round;}\r\n  </style>\r\n </defs>\r\n <g id=\"figure_1\">\r\n  <g id=\"patch_1\">\r\n   <path d=\"M -0 248.79625 \r\nL 381.65 248.79625 \r\nL 381.65 0 \r\nL -0 0 \r\nz\r\n\" style=\"fill:none;\"/>\r\n  </g>\r\n  <g id=\"axes_1\">\r\n   <g id=\"patch_2\">\r\n    <path d=\"M 39.65 224.64 \r\nL 374.45 224.64 \r\nL 374.45 7.2 \r\nL 39.65 7.2 \r\nz\r\n\" style=\"fill:#ffffff;\"/>\r\n   </g>\r\n   <g id=\"patch_3\">\r\n    <path clip-path=\"url(#p07d7ad3a60)\" d=\"M 50.81 194.628162 \r\nL 140.09 194.628162 \r\nL 140.09 116.274241 \r\nL 50.81 116.274241 \r\nL 50.81 194.628162 \r\nz\r\n\" style=\"fill:#3274a1;stroke:#3d3d3d;stroke-linejoin:miter;stroke-width:1.5;\"/>\r\n   </g>\r\n   <g id=\"patch_4\">\r\n    <path clip-path=\"url(#p07d7ad3a60)\" d=\"M 162.41 195.929347 \r\nL 251.69 195.929347 \r\nL 251.69 98.395882 \r\nL 162.41 98.395882 \r\nL 162.41 195.929347 \r\nz\r\n\" style=\"fill:#e1812c;stroke:#3d3d3d;stroke-linejoin:miter;stroke-width:1.5;\"/>\r\n   </g>\r\n   <g id=\"patch_5\">\r\n    <path clip-path=\"url(#p07d7ad3a60)\" d=\"M 274.01 188.227301 \r\nL 363.29 188.227301 \r\nL 363.29 119.563845 \r\nL 274.01 119.563845 \r\nL 274.01 188.227301 \r\nz\r\n\" style=\"fill:#3a923a;stroke:#3d3d3d;stroke-linejoin:miter;stroke-width:1.5;\"/>\r\n   </g>\r\n   <g id=\"matplotlib.axis_1\">\r\n    <g id=\"xtick_1\">\r\n     <g id=\"line2d_1\">\r\n      <defs>\r\n       <path d=\"M 0 0 \r\nL 0 3.5 \r\n\" id=\"m38394c8110\" style=\"stroke:#000000;stroke-width:0.8;\"/>\r\n      </defs>\r\n      <g>\r\n       <use style=\"stroke:#000000;stroke-width:0.8;\" x=\"95.45\" xlink:href=\"#m38394c8110\" y=\"224.64\"/>\r\n      </g>\r\n     </g>\r\n     <g id=\"text_1\">\r\n      <!-- env_slopesolar -->\r\n      <defs>\r\n       <path d=\"M 56.203125 29.59375 \r\nL 56.203125 25.203125 \r\nL 14.890625 25.203125 \r\nQ 15.484375 15.921875 20.484375 11.0625 \r\nQ 25.484375 6.203125 34.421875 6.203125 \r\nQ 39.59375 6.203125 44.453125 7.46875 \r\nQ 49.3125 8.734375 54.109375 11.28125 \r\nL 54.109375 2.78125 \r\nQ 49.265625 0.734375 44.1875 -0.34375 \r\nQ 39.109375 -1.421875 33.890625 -1.421875 \r\nQ 20.796875 -1.421875 13.15625 6.1875 \r\nQ 5.515625 13.8125 5.515625 26.8125 \r\nQ 5.515625 40.234375 12.765625 48.109375 \r\nQ 20.015625 56 32.328125 56 \r\nQ 43.359375 56 49.78125 48.890625 \r\nQ 56.203125 41.796875 56.203125 29.59375 \r\nz\r\nM 47.21875 32.234375 \r\nQ 47.125 39.59375 43.09375 43.984375 \r\nQ 39.0625 48.390625 32.421875 48.390625 \r\nQ 24.90625 48.390625 20.390625 44.140625 \r\nQ 15.875 39.890625 15.1875 32.171875 \r\nz\r\n\" id=\"DejaVuSans-101\"/>\r\n       <path d=\"M 54.890625 33.015625 \r\nL 54.890625 0 \r\nL 45.90625 0 \r\nL 45.90625 32.71875 \r\nQ 45.90625 40.484375 42.875 44.328125 \r\nQ 39.84375 48.1875 33.796875 48.1875 \r\nQ 26.515625 48.1875 22.3125 43.546875 \r\nQ 18.109375 38.921875 18.109375 30.90625 \r\nL 18.109375 0 \r\nL 9.078125 0 \r\nL 9.078125 54.6875 \r\nL 18.109375 54.6875 \r\nL 18.109375 46.1875 \r\nQ 21.34375 51.125 25.703125 53.5625 \r\nQ 30.078125 56 35.796875 56 \r\nQ 45.21875 56 50.046875 50.171875 \r\nQ 54.890625 44.34375 54.890625 33.015625 \r\nz\r\n\" id=\"DejaVuSans-110\"/>\r\n       <path d=\"M 2.984375 54.6875 \r\nL 12.5 54.6875 \r\nL 29.59375 8.796875 \r\nL 46.6875 54.6875 \r\nL 56.203125 54.6875 \r\nL 35.6875 0 \r\nL 23.484375 0 \r\nz\r\n\" id=\"DejaVuSans-118\"/>\r\n       <path d=\"M 50.984375 -16.609375 \r\nL 50.984375 -23.578125 \r\nL -0.984375 -23.578125 \r\nL -0.984375 -16.609375 \r\nz\r\n\" id=\"DejaVuSans-95\"/>\r\n       <path d=\"M 44.28125 53.078125 \r\nL 44.28125 44.578125 \r\nQ 40.484375 46.53125 36.375 47.5 \r\nQ 32.28125 48.484375 27.875 48.484375 \r\nQ 21.1875 48.484375 17.84375 46.4375 \r\nQ 14.5 44.390625 14.5 40.28125 \r\nQ 14.5 37.15625 16.890625 35.375 \r\nQ 19.28125 33.59375 26.515625 31.984375 \r\nL 29.59375 31.296875 \r\nQ 39.15625 29.25 43.1875 25.515625 \r\nQ 47.21875 21.78125 47.21875 15.09375 \r\nQ 47.21875 7.46875 41.1875 3.015625 \r\nQ 35.15625 -1.421875 24.609375 -1.421875 \r\nQ 20.21875 -1.421875 15.453125 -0.5625 \r\nQ 10.6875 0.296875 5.421875 2 \r\nL 5.421875 11.28125 \r\nQ 10.40625 8.6875 15.234375 7.390625 \r\nQ 20.0625 6.109375 24.8125 6.109375 \r\nQ 31.15625 6.109375 34.5625 8.28125 \r\nQ 37.984375 10.453125 37.984375 14.40625 \r\nQ 37.984375 18.0625 35.515625 20.015625 \r\nQ 33.0625 21.96875 24.703125 23.78125 \r\nL 21.578125 24.515625 \r\nQ 13.234375 26.265625 9.515625 29.90625 \r\nQ 5.8125 33.546875 5.8125 39.890625 \r\nQ 5.8125 47.609375 11.28125 51.796875 \r\nQ 16.75 56 26.8125 56 \r\nQ 31.78125 56 36.171875 55.265625 \r\nQ 40.578125 54.546875 44.28125 53.078125 \r\nz\r\n\" id=\"DejaVuSans-115\"/>\r\n       <path d=\"M 9.421875 75.984375 \r\nL 18.40625 75.984375 \r\nL 18.40625 0 \r\nL 9.421875 0 \r\nz\r\n\" id=\"DejaVuSans-108\"/>\r\n       <path d=\"M 30.609375 48.390625 \r\nQ 23.390625 48.390625 19.1875 42.75 \r\nQ 14.984375 37.109375 14.984375 27.296875 \r\nQ 14.984375 17.484375 19.15625 11.84375 \r\nQ 23.34375 6.203125 30.609375 6.203125 \r\nQ 37.796875 6.203125 41.984375 11.859375 \r\nQ 46.1875 17.53125 46.1875 27.296875 \r\nQ 46.1875 37.015625 41.984375 42.703125 \r\nQ 37.796875 48.390625 30.609375 48.390625 \r\nz\r\nM 30.609375 56 \r\nQ 42.328125 56 49.015625 48.375 \r\nQ 55.71875 40.765625 55.71875 27.296875 \r\nQ 55.71875 13.875 49.015625 6.21875 \r\nQ 42.328125 -1.421875 30.609375 -1.421875 \r\nQ 18.84375 -1.421875 12.171875 6.21875 \r\nQ 5.515625 13.875 5.515625 27.296875 \r\nQ 5.515625 40.765625 12.171875 48.375 \r\nQ 18.84375 56 30.609375 56 \r\nz\r\n\" id=\"DejaVuSans-111\"/>\r\n       <path d=\"M 18.109375 8.203125 \r\nL 18.109375 -20.796875 \r\nL 9.078125 -20.796875 \r\nL 9.078125 54.6875 \r\nL 18.109375 54.6875 \r\nL 18.109375 46.390625 \r\nQ 20.953125 51.265625 25.265625 53.625 \r\nQ 29.59375 56 35.59375 56 \r\nQ 45.5625 56 51.78125 48.09375 \r\nQ 58.015625 40.1875 58.015625 27.296875 \r\nQ 58.015625 14.40625 51.78125 6.484375 \r\nQ 45.5625 -1.421875 35.59375 -1.421875 \r\nQ 29.59375 -1.421875 25.265625 0.953125 \r\nQ 20.953125 3.328125 18.109375 8.203125 \r\nz\r\nM 48.6875 27.296875 \r\nQ 48.6875 37.203125 44.609375 42.84375 \r\nQ 40.53125 48.484375 33.40625 48.484375 \r\nQ 26.265625 48.484375 22.1875 42.84375 \r\nQ 18.109375 37.203125 18.109375 27.296875 \r\nQ 18.109375 17.390625 22.1875 11.75 \r\nQ 26.265625 6.109375 33.40625 6.109375 \r\nQ 40.53125 6.109375 44.609375 11.75 \r\nQ 48.6875 17.390625 48.6875 27.296875 \r\nz\r\n\" id=\"DejaVuSans-112\"/>\r\n       <path d=\"M 34.28125 27.484375 \r\nQ 23.390625 27.484375 19.1875 25 \r\nQ 14.984375 22.515625 14.984375 16.5 \r\nQ 14.984375 11.71875 18.140625 8.90625 \r\nQ 21.296875 6.109375 26.703125 6.109375 \r\nQ 34.1875 6.109375 38.703125 11.40625 \r\nQ 43.21875 16.703125 43.21875 25.484375 \r\nL 43.21875 27.484375 \r\nz\r\nM 52.203125 31.203125 \r\nL 52.203125 0 \r\nL 43.21875 0 \r\nL 43.21875 8.296875 \r\nQ 40.140625 3.328125 35.546875 0.953125 \r\nQ 30.953125 -1.421875 24.3125 -1.421875 \r\nQ 15.921875 -1.421875 10.953125 3.296875 \r\nQ 6 8.015625 6 15.921875 \r\nQ 6 25.140625 12.171875 29.828125 \r\nQ 18.359375 34.515625 30.609375 34.515625 \r\nL 43.21875 34.515625 \r\nL 43.21875 35.40625 \r\nQ 43.21875 41.609375 39.140625 45 \r\nQ 35.0625 48.390625 27.6875 48.390625 \r\nQ 23 48.390625 18.546875 47.265625 \r\nQ 14.109375 46.140625 10.015625 43.890625 \r\nL 10.015625 52.203125 \r\nQ 14.9375 54.109375 19.578125 55.046875 \r\nQ 24.21875 56 28.609375 56 \r\nQ 40.484375 56 46.34375 49.84375 \r\nQ 52.203125 43.703125 52.203125 31.203125 \r\nz\r\n\" id=\"DejaVuSans-97\"/>\r\n       <path d=\"M 41.109375 46.296875 \r\nQ 39.59375 47.171875 37.8125 47.578125 \r\nQ 36.03125 48 33.890625 48 \r\nQ 26.265625 48 22.1875 43.046875 \r\nQ 18.109375 38.09375 18.109375 28.8125 \r\nL 18.109375 0 \r\nL 9.078125 0 \r\nL 9.078125 54.6875 \r\nL 18.109375 54.6875 \r\nL 18.109375 46.1875 \r\nQ 20.953125 51.171875 25.484375 53.578125 \r\nQ 30.03125 56 36.53125 56 \r\nQ 37.453125 56 38.578125 55.875 \r\nQ 39.703125 55.765625 41.0625 55.515625 \r\nz\r\n\" id=\"DejaVuSans-114\"/>\r\n      </defs>\r\n      <g transform=\"translate(58.26875 239.238437)scale(0.1 -0.1)\">\r\n       <use xlink:href=\"#DejaVuSans-101\"/>\r\n       <use x=\"61.523438\" xlink:href=\"#DejaVuSans-110\"/>\r\n       <use x=\"124.902344\" xlink:href=\"#DejaVuSans-118\"/>\r\n       <use x=\"184.082031\" xlink:href=\"#DejaVuSans-95\"/>\r\n       <use x=\"234.082031\" xlink:href=\"#DejaVuSans-115\"/>\r\n       <use x=\"286.181641\" xlink:href=\"#DejaVuSans-108\"/>\r\n       <use x=\"313.964844\" xlink:href=\"#DejaVuSans-111\"/>\r\n       <use x=\"375.146484\" xlink:href=\"#DejaVuSans-112\"/>\r\n       <use x=\"438.623047\" xlink:href=\"#DejaVuSans-101\"/>\r\n       <use x=\"500.146484\" xlink:href=\"#DejaVuSans-115\"/>\r\n       <use x=\"552.246094\" xlink:href=\"#DejaVuSans-111\"/>\r\n       <use x=\"613.427734\" xlink:href=\"#DejaVuSans-108\"/>\r\n       <use x=\"641.210938\" xlink:href=\"#DejaVuSans-97\"/>\r\n       <use x=\"702.490234\" xlink:href=\"#DejaVuSans-114\"/>\r\n      </g>\r\n     </g>\r\n    </g>\r\n    <g id=\"xtick_2\">\r\n     <g id=\"line2d_2\">\r\n      <g>\r\n       <use style=\"stroke:#000000;stroke-width:0.8;\" x=\"207.05\" xlink:href=\"#m38394c8110\" y=\"224.64\"/>\r\n      </g>\r\n     </g>\r\n     <g id=\"text_2\">\r\n      <!-- env_levelsolar -->\r\n      <g transform=\"translate(171.282031 239.238437)scale(0.1 -0.1)\">\r\n       <use xlink:href=\"#DejaVuSans-101\"/>\r\n       <use x=\"61.523438\" xlink:href=\"#DejaVuSans-110\"/>\r\n       <use x=\"124.902344\" xlink:href=\"#DejaVuSans-118\"/>\r\n       <use x=\"184.082031\" xlink:href=\"#DejaVuSans-95\"/>\r\n       <use x=\"234.082031\" xlink:href=\"#DejaVuSans-108\"/>\r\n       <use x=\"261.865234\" xlink:href=\"#DejaVuSans-101\"/>\r\n       <use x=\"323.388672\" xlink:href=\"#DejaVuSans-118\"/>\r\n       <use x=\"382.568359\" xlink:href=\"#DejaVuSans-101\"/>\r\n       <use x=\"444.091797\" xlink:href=\"#DejaVuSans-108\"/>\r\n       <use x=\"471.875\" xlink:href=\"#DejaVuSans-115\"/>\r\n       <use x=\"523.974609\" xlink:href=\"#DejaVuSans-111\"/>\r\n       <use x=\"585.15625\" xlink:href=\"#DejaVuSans-108\"/>\r\n       <use x=\"612.939453\" xlink:href=\"#DejaVuSans-97\"/>\r\n       <use x=\"674.21875\" xlink:href=\"#DejaVuSans-114\"/>\r\n      </g>\r\n     </g>\r\n    </g>\r\n    <g id=\"xtick_3\">\r\n     <g id=\"line2d_3\">\r\n      <g>\r\n       <use style=\"stroke:#000000;stroke-width:0.8;\" x=\"318.65\" xlink:href=\"#m38394c8110\" y=\"224.64\"/>\r\n      </g>\r\n     </g>\r\n     <g id=\"text_3\">\r\n      <!-- match_solar -->\r\n      <defs>\r\n       <path d=\"M 52 44.1875 \r\nQ 55.375 50.25 60.0625 53.125 \r\nQ 64.75 56 71.09375 56 \r\nQ 79.640625 56 84.28125 50.015625 \r\nQ 88.921875 44.046875 88.921875 33.015625 \r\nL 88.921875 0 \r\nL 79.890625 0 \r\nL 79.890625 32.71875 \r\nQ 79.890625 40.578125 77.09375 44.375 \r\nQ 74.3125 48.1875 68.609375 48.1875 \r\nQ 61.625 48.1875 57.5625 43.546875 \r\nQ 53.515625 38.921875 53.515625 30.90625 \r\nL 53.515625 0 \r\nL 44.484375 0 \r\nL 44.484375 32.71875 \r\nQ 44.484375 40.625 41.703125 44.40625 \r\nQ 38.921875 48.1875 33.109375 48.1875 \r\nQ 26.21875 48.1875 22.15625 43.53125 \r\nQ 18.109375 38.875 18.109375 30.90625 \r\nL 18.109375 0 \r\nL 9.078125 0 \r\nL 9.078125 54.6875 \r\nL 18.109375 54.6875 \r\nL 18.109375 46.1875 \r\nQ 21.1875 51.21875 25.484375 53.609375 \r\nQ 29.78125 56 35.6875 56 \r\nQ 41.65625 56 45.828125 52.96875 \r\nQ 50 49.953125 52 44.1875 \r\nz\r\n\" id=\"DejaVuSans-109\"/>\r\n       <path d=\"M 18.3125 70.21875 \r\nL 18.3125 54.6875 \r\nL 36.8125 54.6875 \r\nL 36.8125 47.703125 \r\nL 18.3125 47.703125 \r\nL 18.3125 18.015625 \r\nQ 18.3125 11.328125 20.140625 9.421875 \r\nQ 21.96875 7.515625 27.59375 7.515625 \r\nL 36.8125 7.515625 \r\nL 36.8125 0 \r\nL 27.59375 0 \r\nQ 17.1875 0 13.234375 3.875 \r\nQ 9.28125 7.765625 9.28125 18.015625 \r\nL 9.28125 47.703125 \r\nL 2.6875 47.703125 \r\nL 2.6875 54.6875 \r\nL 9.28125 54.6875 \r\nL 9.28125 70.21875 \r\nz\r\n\" id=\"DejaVuSans-116\"/>\r\n       <path d=\"M 48.78125 52.59375 \r\nL 48.78125 44.1875 \r\nQ 44.96875 46.296875 41.140625 47.34375 \r\nQ 37.3125 48.390625 33.40625 48.390625 \r\nQ 24.65625 48.390625 19.8125 42.84375 \r\nQ 14.984375 37.3125 14.984375 27.296875 \r\nQ 14.984375 17.28125 19.8125 11.734375 \r\nQ 24.65625 6.203125 33.40625 6.203125 \r\nQ 37.3125 6.203125 41.140625 7.25 \r\nQ 44.96875 8.296875 48.78125 10.40625 \r\nL 48.78125 2.09375 \r\nQ 45.015625 0.34375 40.984375 -0.53125 \r\nQ 36.96875 -1.421875 32.421875 -1.421875 \r\nQ 20.0625 -1.421875 12.78125 6.34375 \r\nQ 5.515625 14.109375 5.515625 27.296875 \r\nQ 5.515625 40.671875 12.859375 48.328125 \r\nQ 20.21875 56 33.015625 56 \r\nQ 37.15625 56 41.109375 55.140625 \r\nQ 45.0625 54.296875 48.78125 52.59375 \r\nz\r\n\" id=\"DejaVuSans-99\"/>\r\n       <path d=\"M 54.890625 33.015625 \r\nL 54.890625 0 \r\nL 45.90625 0 \r\nL 45.90625 32.71875 \r\nQ 45.90625 40.484375 42.875 44.328125 \r\nQ 39.84375 48.1875 33.796875 48.1875 \r\nQ 26.515625 48.1875 22.3125 43.546875 \r\nQ 18.109375 38.921875 18.109375 30.90625 \r\nL 18.109375 0 \r\nL 9.078125 0 \r\nL 9.078125 75.984375 \r\nL 18.109375 75.984375 \r\nL 18.109375 46.1875 \r\nQ 21.34375 51.125 25.703125 53.5625 \r\nQ 30.078125 56 35.796875 56 \r\nQ 45.21875 56 50.046875 50.171875 \r\nQ 54.890625 44.34375 54.890625 33.015625 \r\nz\r\n\" id=\"DejaVuSans-104\"/>\r\n      </defs>\r\n      <g transform=\"translate(288.164844 239.238437)scale(0.1 -0.1)\">\r\n       <use xlink:href=\"#DejaVuSans-109\"/>\r\n       <use x=\"97.412109\" xlink:href=\"#DejaVuSans-97\"/>\r\n       <use x=\"158.691406\" xlink:href=\"#DejaVuSans-116\"/>\r\n       <use x=\"197.900391\" xlink:href=\"#DejaVuSans-99\"/>\r\n       <use x=\"252.880859\" xlink:href=\"#DejaVuSans-104\"/>\r\n       <use x=\"316.259766\" xlink:href=\"#DejaVuSans-95\"/>\r\n       <use x=\"366.259766\" xlink:href=\"#DejaVuSans-115\"/>\r\n       <use x=\"418.359375\" xlink:href=\"#DejaVuSans-111\"/>\r\n       <use x=\"479.541016\" xlink:href=\"#DejaVuSans-108\"/>\r\n       <use x=\"507.324219\" xlink:href=\"#DejaVuSans-97\"/>\r\n       <use x=\"568.603516\" xlink:href=\"#DejaVuSans-114\"/>\r\n      </g>\r\n     </g>\r\n    </g>\r\n   </g>\r\n   <g id=\"matplotlib.axis_2\">\r\n    <g id=\"ytick_1\">\r\n     <g id=\"line2d_4\">\r\n      <defs>\r\n       <path d=\"M 0 0 \r\nL -3.5 0 \r\n\" id=\"me1ce5dce7f\" style=\"stroke:#000000;stroke-width:0.8;\"/>\r\n      </defs>\r\n      <g>\r\n       <use style=\"stroke:#000000;stroke-width:0.8;\" x=\"39.65\" xlink:href=\"#me1ce5dce7f\" y=\"214.756364\"/>\r\n      </g>\r\n     </g>\r\n     <g id=\"text_4\">\r\n      <!-- 0 -->\r\n      <defs>\r\n       <path d=\"M 31.78125 66.40625 \r\nQ 24.171875 66.40625 20.328125 58.90625 \r\nQ 16.5 51.421875 16.5 36.375 \r\nQ 16.5 21.390625 20.328125 13.890625 \r\nQ 24.171875 6.390625 31.78125 6.390625 \r\nQ 39.453125 6.390625 43.28125 13.890625 \r\nQ 47.125 21.390625 47.125 36.375 \r\nQ 47.125 51.421875 43.28125 58.90625 \r\nQ 39.453125 66.40625 31.78125 66.40625 \r\nz\r\nM 31.78125 74.21875 \r\nQ 44.046875 74.21875 50.515625 64.515625 \r\nQ 56.984375 54.828125 56.984375 36.375 \r\nQ 56.984375 17.96875 50.515625 8.265625 \r\nQ 44.046875 -1.421875 31.78125 -1.421875 \r\nQ 19.53125 -1.421875 13.0625 8.265625 \r\nQ 6.59375 17.96875 6.59375 36.375 \r\nQ 6.59375 54.828125 13.0625 64.515625 \r\nQ 19.53125 74.21875 31.78125 74.21875 \r\nz\r\n\" id=\"DejaVuSans-48\"/>\r\n      </defs>\r\n      <g transform=\"translate(26.2875 218.555582)scale(0.1 -0.1)\">\r\n       <use xlink:href=\"#DejaVuSans-48\"/>\r\n      </g>\r\n     </g>\r\n    </g>\r\n    <g id=\"ytick_2\">\r\n     <g id=\"line2d_5\">\r\n      <g>\r\n       <use style=\"stroke:#000000;stroke-width:0.8;\" x=\"39.65\" xlink:href=\"#me1ce5dce7f\" y=\"177.303569\"/>\r\n      </g>\r\n     </g>\r\n     <g id=\"text_5\">\r\n      <!-- 200 -->\r\n      <defs>\r\n       <path d=\"M 19.1875 8.296875 \r\nL 53.609375 8.296875 \r\nL 53.609375 0 \r\nL 7.328125 0 \r\nL 7.328125 8.296875 \r\nQ 12.9375 14.109375 22.625 23.890625 \r\nQ 32.328125 33.6875 34.8125 36.53125 \r\nQ 39.546875 41.84375 41.421875 45.53125 \r\nQ 43.3125 49.21875 43.3125 52.78125 \r\nQ 43.3125 58.59375 39.234375 62.25 \r\nQ 35.15625 65.921875 28.609375 65.921875 \r\nQ 23.96875 65.921875 18.8125 64.3125 \r\nQ 13.671875 62.703125 7.8125 59.421875 \r\nL 7.8125 69.390625 \r\nQ 13.765625 71.78125 18.9375 73 \r\nQ 24.125 74.21875 28.421875 74.21875 \r\nQ 39.75 74.21875 46.484375 68.546875 \r\nQ 53.21875 62.890625 53.21875 53.421875 \r\nQ 53.21875 48.921875 51.53125 44.890625 \r\nQ 49.859375 40.875 45.40625 35.40625 \r\nQ 44.1875 33.984375 37.640625 27.21875 \r\nQ 31.109375 20.453125 19.1875 8.296875 \r\nz\r\n\" id=\"DejaVuSans-50\"/>\r\n      </defs>\r\n      <g transform=\"translate(13.5625 181.102788)scale(0.1 -0.1)\">\r\n       <use xlink:href=\"#DejaVuSans-50\"/>\r\n       <use x=\"63.623047\" xlink:href=\"#DejaVuSans-48\"/>\r\n       <use x=\"127.246094\" xlink:href=\"#DejaVuSans-48\"/>\r\n      </g>\r\n     </g>\r\n    </g>\r\n    <g id=\"ytick_3\">\r\n     <g id=\"line2d_6\">\r\n      <g>\r\n       <use style=\"stroke:#000000;stroke-width:0.8;\" x=\"39.65\" xlink:href=\"#me1ce5dce7f\" y=\"139.850775\"/>\r\n      </g>\r\n     </g>\r\n     <g id=\"text_6\">\r\n      <!-- 400 -->\r\n      <defs>\r\n       <path d=\"M 37.796875 64.3125 \r\nL 12.890625 25.390625 \r\nL 37.796875 25.390625 \r\nz\r\nM 35.203125 72.90625 \r\nL 47.609375 72.90625 \r\nL 47.609375 25.390625 \r\nL 58.015625 25.390625 \r\nL 58.015625 17.1875 \r\nL 47.609375 17.1875 \r\nL 47.609375 0 \r\nL 37.796875 0 \r\nL 37.796875 17.1875 \r\nL 4.890625 17.1875 \r\nL 4.890625 26.703125 \r\nz\r\n\" id=\"DejaVuSans-52\"/>\r\n      </defs>\r\n      <g transform=\"translate(13.5625 143.649994)scale(0.1 -0.1)\">\r\n       <use xlink:href=\"#DejaVuSans-52\"/>\r\n       <use x=\"63.623047\" xlink:href=\"#DejaVuSans-48\"/>\r\n       <use x=\"127.246094\" xlink:href=\"#DejaVuSans-48\"/>\r\n      </g>\r\n     </g>\r\n    </g>\r\n    <g id=\"ytick_4\">\r\n     <g id=\"line2d_7\">\r\n      <g>\r\n       <use style=\"stroke:#000000;stroke-width:0.8;\" x=\"39.65\" xlink:href=\"#me1ce5dce7f\" y=\"102.397981\"/>\r\n      </g>\r\n     </g>\r\n     <g id=\"text_7\">\r\n      <!-- 600 -->\r\n      <defs>\r\n       <path d=\"M 33.015625 40.375 \r\nQ 26.375 40.375 22.484375 35.828125 \r\nQ 18.609375 31.296875 18.609375 23.390625 \r\nQ 18.609375 15.53125 22.484375 10.953125 \r\nQ 26.375 6.390625 33.015625 6.390625 \r\nQ 39.65625 6.390625 43.53125 10.953125 \r\nQ 47.40625 15.53125 47.40625 23.390625 \r\nQ 47.40625 31.296875 43.53125 35.828125 \r\nQ 39.65625 40.375 33.015625 40.375 \r\nz\r\nM 52.59375 71.296875 \r\nL 52.59375 62.3125 \r\nQ 48.875 64.0625 45.09375 64.984375 \r\nQ 41.3125 65.921875 37.59375 65.921875 \r\nQ 27.828125 65.921875 22.671875 59.328125 \r\nQ 17.53125 52.734375 16.796875 39.40625 \r\nQ 19.671875 43.65625 24.015625 45.921875 \r\nQ 28.375 48.1875 33.59375 48.1875 \r\nQ 44.578125 48.1875 50.953125 41.515625 \r\nQ 57.328125 34.859375 57.328125 23.390625 \r\nQ 57.328125 12.15625 50.6875 5.359375 \r\nQ 44.046875 -1.421875 33.015625 -1.421875 \r\nQ 20.359375 -1.421875 13.671875 8.265625 \r\nQ 6.984375 17.96875 6.984375 36.375 \r\nQ 6.984375 53.65625 15.1875 63.9375 \r\nQ 23.390625 74.21875 37.203125 74.21875 \r\nQ 40.921875 74.21875 44.703125 73.484375 \r\nQ 48.484375 72.75 52.59375 71.296875 \r\nz\r\n\" id=\"DejaVuSans-54\"/>\r\n      </defs>\r\n      <g transform=\"translate(13.5625 106.197199)scale(0.1 -0.1)\">\r\n       <use xlink:href=\"#DejaVuSans-54\"/>\r\n       <use x=\"63.623047\" xlink:href=\"#DejaVuSans-48\"/>\r\n       <use x=\"127.246094\" xlink:href=\"#DejaVuSans-48\"/>\r\n      </g>\r\n     </g>\r\n    </g>\r\n    <g id=\"ytick_5\">\r\n     <g id=\"line2d_8\">\r\n      <g>\r\n       <use style=\"stroke:#000000;stroke-width:0.8;\" x=\"39.65\" xlink:href=\"#me1ce5dce7f\" y=\"64.945186\"/>\r\n      </g>\r\n     </g>\r\n     <g id=\"text_8\">\r\n      <!-- 800 -->\r\n      <defs>\r\n       <path d=\"M 31.78125 34.625 \r\nQ 24.75 34.625 20.71875 30.859375 \r\nQ 16.703125 27.09375 16.703125 20.515625 \r\nQ 16.703125 13.921875 20.71875 10.15625 \r\nQ 24.75 6.390625 31.78125 6.390625 \r\nQ 38.8125 6.390625 42.859375 10.171875 \r\nQ 46.921875 13.96875 46.921875 20.515625 \r\nQ 46.921875 27.09375 42.890625 30.859375 \r\nQ 38.875 34.625 31.78125 34.625 \r\nz\r\nM 21.921875 38.8125 \r\nQ 15.578125 40.375 12.03125 44.71875 \r\nQ 8.5 49.078125 8.5 55.328125 \r\nQ 8.5 64.0625 14.71875 69.140625 \r\nQ 20.953125 74.21875 31.78125 74.21875 \r\nQ 42.671875 74.21875 48.875 69.140625 \r\nQ 55.078125 64.0625 55.078125 55.328125 \r\nQ 55.078125 49.078125 51.53125 44.71875 \r\nQ 48 40.375 41.703125 38.8125 \r\nQ 48.828125 37.15625 52.796875 32.3125 \r\nQ 56.78125 27.484375 56.78125 20.515625 \r\nQ 56.78125 9.90625 50.3125 4.234375 \r\nQ 43.84375 -1.421875 31.78125 -1.421875 \r\nQ 19.734375 -1.421875 13.25 4.234375 \r\nQ 6.78125 9.90625 6.78125 20.515625 \r\nQ 6.78125 27.484375 10.78125 32.3125 \r\nQ 14.796875 37.15625 21.921875 38.8125 \r\nz\r\nM 18.3125 54.390625 \r\nQ 18.3125 48.734375 21.84375 45.5625 \r\nQ 25.390625 42.390625 31.78125 42.390625 \r\nQ 38.140625 42.390625 41.71875 45.5625 \r\nQ 45.3125 48.734375 45.3125 54.390625 \r\nQ 45.3125 60.0625 41.71875 63.234375 \r\nQ 38.140625 66.40625 31.78125 66.40625 \r\nQ 25.390625 66.40625 21.84375 63.234375 \r\nQ 18.3125 60.0625 18.3125 54.390625 \r\nz\r\n\" id=\"DejaVuSans-56\"/>\r\n      </defs>\r\n      <g transform=\"translate(13.5625 68.744405)scale(0.1 -0.1)\">\r\n       <use xlink:href=\"#DejaVuSans-56\"/>\r\n       <use x=\"63.623047\" xlink:href=\"#DejaVuSans-48\"/>\r\n       <use x=\"127.246094\" xlink:href=\"#DejaVuSans-48\"/>\r\n      </g>\r\n     </g>\r\n    </g>\r\n    <g id=\"ytick_6\">\r\n     <g id=\"line2d_9\">\r\n      <g>\r\n       <use style=\"stroke:#000000;stroke-width:0.8;\" x=\"39.65\" xlink:href=\"#me1ce5dce7f\" y=\"27.492392\"/>\r\n      </g>\r\n     </g>\r\n     <g id=\"text_9\">\r\n      <!-- 1000 -->\r\n      <defs>\r\n       <path d=\"M 12.40625 8.296875 \r\nL 28.515625 8.296875 \r\nL 28.515625 63.921875 \r\nL 10.984375 60.40625 \r\nL 10.984375 69.390625 \r\nL 28.421875 72.90625 \r\nL 38.28125 72.90625 \r\nL 38.28125 8.296875 \r\nL 54.390625 8.296875 \r\nL 54.390625 0 \r\nL 12.40625 0 \r\nz\r\n\" id=\"DejaVuSans-49\"/>\r\n      </defs>\r\n      <g transform=\"translate(7.2 31.291611)scale(0.1 -0.1)\">\r\n       <use xlink:href=\"#DejaVuSans-49\"/>\r\n       <use x=\"63.623047\" xlink:href=\"#DejaVuSans-48\"/>\r\n       <use x=\"127.246094\" xlink:href=\"#DejaVuSans-48\"/>\r\n       <use x=\"190.869141\" xlink:href=\"#DejaVuSans-48\"/>\r\n      </g>\r\n     </g>\r\n    </g>\r\n   </g>\r\n   <g id=\"line2d_10\">\r\n    <path clip-path=\"url(#p07d7ad3a60)\" d=\"M 95.45 194.628162 \r\nL 95.45 214.756364 \r\n\" style=\"fill:none;stroke:#3d3d3d;stroke-linecap:square;stroke-width:1.5;\"/>\r\n   </g>\r\n   <g id=\"line2d_11\">\r\n    <path clip-path=\"url(#p07d7ad3a60)\" d=\"M 95.45 116.274241 \r\nL 95.45 22.077342 \r\n\" style=\"fill:none;stroke:#3d3d3d;stroke-linecap:square;stroke-width:1.5;\"/>\r\n   </g>\r\n   <g id=\"line2d_12\">\r\n    <path clip-path=\"url(#p07d7ad3a60)\" d=\"M 73.13 214.756364 \r\nL 117.77 214.756364 \r\n\" style=\"fill:none;stroke:#3d3d3d;stroke-linecap:square;stroke-width:1.5;\"/>\r\n   </g>\r\n   <g id=\"line2d_13\">\r\n    <path clip-path=\"url(#p07d7ad3a60)\" d=\"M 73.13 22.077342 \r\nL 117.77 22.077342 \r\n\" style=\"fill:none;stroke:#3d3d3d;stroke-linecap:square;stroke-width:1.5;\"/>\r\n   </g>\r\n   <g id=\"line2d_14\"/>\r\n   <g id=\"line2d_15\">\r\n    <path clip-path=\"url(#p07d7ad3a60)\" d=\"M 207.05 195.929347 \r\nL 207.05 214.756364 \r\n\" style=\"fill:none;stroke:#3d3d3d;stroke-linecap:square;stroke-width:1.5;\"/>\r\n   </g>\r\n   <g id=\"line2d_16\">\r\n    <path clip-path=\"url(#p07d7ad3a60)\" d=\"M 207.05 98.395882 \r\nL 207.05 17.083636 \r\n\" style=\"fill:none;stroke:#3d3d3d;stroke-linecap:square;stroke-width:1.5;\"/>\r\n   </g>\r\n   <g id=\"line2d_17\">\r\n    <path clip-path=\"url(#p07d7ad3a60)\" d=\"M 184.73 214.756364 \r\nL 229.37 214.756364 \r\n\" style=\"fill:none;stroke:#3d3d3d;stroke-linecap:square;stroke-width:1.5;\"/>\r\n   </g>\r\n   <g id=\"line2d_18\">\r\n    <path clip-path=\"url(#p07d7ad3a60)\" d=\"M 184.73 17.083636 \r\nL 229.37 17.083636 \r\n\" style=\"fill:none;stroke:#3d3d3d;stroke-linecap:square;stroke-width:1.5;\"/>\r\n   </g>\r\n   <g id=\"line2d_19\"/>\r\n   <g id=\"line2d_20\">\r\n    <path clip-path=\"url(#p07d7ad3a60)\" d=\"M 318.65 188.227301 \r\nL 318.65 214.756364 \r\n\" style=\"fill:none;stroke:#3d3d3d;stroke-linecap:square;stroke-width:1.5;\"/>\r\n   </g>\r\n   <g id=\"line2d_21\">\r\n    <path clip-path=\"url(#p07d7ad3a60)\" d=\"M 318.65 119.563845 \r\nL 318.65 25.931859 \r\n\" style=\"fill:none;stroke:#3d3d3d;stroke-linecap:square;stroke-width:1.5;\"/>\r\n   </g>\r\n   <g id=\"line2d_22\">\r\n    <path clip-path=\"url(#p07d7ad3a60)\" d=\"M 296.33 214.756364 \r\nL 340.97 214.756364 \r\n\" style=\"fill:none;stroke:#3d3d3d;stroke-linecap:square;stroke-width:1.5;\"/>\r\n   </g>\r\n   <g id=\"line2d_23\">\r\n    <path clip-path=\"url(#p07d7ad3a60)\" d=\"M 296.33 25.931859 \r\nL 340.97 25.931859 \r\n\" style=\"fill:none;stroke:#3d3d3d;stroke-linecap:square;stroke-width:1.5;\"/>\r\n   </g>\r\n   <g id=\"line2d_24\"/>\r\n   <g id=\"line2d_25\">\r\n    <path clip-path=\"url(#p07d7ad3a60)\" d=\"M 50.81 158.232498 \r\nL 140.09 158.232498 \r\n\" style=\"fill:none;stroke:#3d3d3d;stroke-linecap:square;stroke-width:1.5;\"/>\r\n   </g>\r\n   <g id=\"line2d_26\">\r\n    <path clip-path=\"url(#p07d7ad3a60)\" d=\"M 162.41 155.206421 \r\nL 251.69 155.206421 \r\n\" style=\"fill:none;stroke:#3d3d3d;stroke-linecap:square;stroke-width:1.5;\"/>\r\n   </g>\r\n   <g id=\"line2d_27\">\r\n    <path clip-path=\"url(#p07d7ad3a60)\" d=\"M 274.01 155.456106 \r\nL 363.29 155.456106 \r\n\" style=\"fill:none;stroke:#3d3d3d;stroke-linecap:square;stroke-width:1.5;\"/>\r\n   </g>\r\n   <g id=\"patch_6\">\r\n    <path d=\"M 39.65 224.64 \r\nL 39.65 7.2 \r\n\" style=\"fill:none;stroke:#000000;stroke-linecap:square;stroke-linejoin:miter;stroke-width:0.8;\"/>\r\n   </g>\r\n   <g id=\"patch_7\">\r\n    <path d=\"M 374.45 224.64 \r\nL 374.45 7.2 \r\n\" style=\"fill:none;stroke:#000000;stroke-linecap:square;stroke-linejoin:miter;stroke-width:0.8;\"/>\r\n   </g>\r\n   <g id=\"patch_8\">\r\n    <path d=\"M 39.65 224.64 \r\nL 374.45 224.64 \r\n\" style=\"fill:none;stroke:#000000;stroke-linecap:square;stroke-linejoin:miter;stroke-width:0.8;\"/>\r\n   </g>\r\n   <g id=\"patch_9\">\r\n    <path d=\"M 39.65 7.2 \r\nL 374.45 7.2 \r\n\" style=\"fill:none;stroke:#000000;stroke-linecap:square;stroke-linejoin:miter;stroke-width:0.8;\"/>\r\n   </g>\r\n  </g>\r\n </g>\r\n <defs>\r\n  <clipPath id=\"p07d7ad3a60\">\r\n   <rect height=\"217.44\" width=\"334.8\" x=\"39.65\" y=\"7.2\"/>\r\n  </clipPath>\r\n </defs>\r\n</svg>\r\n",
      "image/png": "[encoded data removed]"
     },
     "metadata": {
      "needs_background": "light"
     }
    }
   ],
   "source": [
    "sns.boxplot(data = join_ent_other_set[[\"env_slopesolar\", \"env_levelsolar\", \"match_solar\"]])"
   ]
  },
  {
   "cell_type": "code",
   "execution_count": 32,
   "metadata": {},
   "outputs": [
    {
     "output_type": "stream",
     "name": "stdout",
     "text": [
      "(0.7967140847863701, 0.0) (0.8399981273674204, 0.0)\n"
     ]
    }
   ],
   "source": [
    "import scipy.stats\n",
    "\n",
    "print(scipy.stats.pearsonr(join_ent_other_set[\"env_levelsolar\"], join_ent_other_set[\"match_solar\"]), scipy.stats.pearsonr(join_ent_other_set[\"env_slopesolar\"], join_ent_other_set[\"match_solar\"]))"
   ]
  },
  {
   "cell_type": "code",
   "execution_count": 35,
   "metadata": {},
   "outputs": [
    {
     "output_type": "execute_result",
     "data": {
      "text/plain": [
       "       env_slopesolar  env_levelsolar  env_modtemp  env_airtemp  pow_totpower  \\\n",
       "count     4016.000000     4016.000000  4016.000000  4016.000000   4016.000000   \n",
       "mean       380.358560      419.626386    22.395389    15.644559   5603.336653   \n",
       "std        244.136265      279.914258    12.452647    10.544798   3465.651245   \n",
       "min          1.544118        0.338235   -12.568571   -14.415714   1000.000000   \n",
       "25%        166.157143      165.271978    12.290537     6.616786   3000.000000   \n",
       "50%        353.572464      372.785714    23.431884    17.693571   5000.000000   \n",
       "75%        552.051082      656.850621    31.515625    24.623997   8000.000000   \n",
       "max       1028.916667     1055.583333    53.960000    37.808571  16000.000000   \n",
       "\n",
       "                기온          강수량           풍속           풍향           습도  \\\n",
       "count  4016.000000  4016.000000  4016.000000  4016.000000  4016.000000   \n",
       "mean     16.550398     0.109686     2.464691   203.443725    63.912600   \n",
       "std      10.152884     0.820809     1.304793    91.047964    18.743164   \n",
       "min     -11.900000     0.000000     0.000000     0.000000    13.000000   \n",
       "25%       7.900000     0.000000     1.500000   140.000000    51.000000   \n",
       "50%      18.600000     0.000000     2.300000   230.000000    63.000000   \n",
       "75%      25.225000     0.000000     3.200000   270.000000    77.000000   \n",
       "max      35.900000    17.700000    13.100000   360.000000   100.000000   \n",
       "\n",
       "                일조           일사           적설          전운량         지중온도  \\\n",
       "count  4016.000000  4016.000000  4016.000000  4016.000000  4016.000000   \n",
       "mean      0.635508     1.378909     0.006624     5.287849     0.007022   \n",
       "std       0.430591     0.807327     0.114528     3.884357     0.444992   \n",
       "min       0.000000     0.010000     0.000000     0.000000     0.000000   \n",
       "25%       0.100000     0.720000     0.000000     1.000000     0.000000   \n",
       "50%       0.900000     1.320000     0.000000     6.000000     0.000000   \n",
       "75%       1.000000     1.930000     0.000000     9.000000     0.000000   \n",
       "max       1.000000     3.630000     4.200000    10.000000    28.200000   \n",
       "\n",
       "       match_solar  \n",
       "count  4016.000000  \n",
       "mean    383.030378  \n",
       "std     224.257527  \n",
       "min       2.777778  \n",
       "25%     200.000000  \n",
       "50%     366.666667  \n",
       "75%     536.111111  \n",
       "max    1008.333333  "
      ],
      "text/html": "<div>\n<style scoped>\n    .dataframe tbody tr th:only-of-type {\n        vertical-align: middle;\n    }\n\n    .dataframe tbody tr th {\n        vertical-align: top;\n    }\n\n    .dataframe thead th {\n        text-align: right;\n    }\n</style>\n<table border=\"1\" class=\"dataframe\">\n  <thead>\n    <tr style=\"text-align: right;\">\n      <th></th>\n      <th>env_slopesolar</th>\n      <th>env_levelsolar</th>\n      <th>env_modtemp</th>\n      <th>env_airtemp</th>\n      <th>pow_totpower</th>\n      <th>기온</th>\n      <th>강수량</th>\n      <th>풍속</th>\n      <th>풍향</th>\n      <th>습도</th>\n      <th>일조</th>\n      <th>일사</th>\n      <th>적설</th>\n      <th>전운량</th>\n      <th>지중온도</th>\n      <th>match_solar</th>\n    </tr>\n  </thead>\n  <tbody>\n    <tr>\n      <th>count</th>\n      <td>4016.000000</td>\n      <td>4016.000000</td>\n      <td>4016.000000</td>\n      <td>4016.000000</td>\n      <td>4016.000000</td>\n      <td>4016.000000</td>\n      <td>4016.000000</td>\n      <td>4016.000000</td>\n      <td>4016.000000</td>\n      <td>4016.000000</td>\n      <td>4016.000000</td>\n      <td>4016.000000</td>\n      <td>4016.000000</td>\n      <td>4016.000000</td>\n      <td>4016.000000</td>\n      <td>4016.000000</td>\n    </tr>\n    <tr>\n      <th>mean</th>\n      <td>380.358560</td>\n      <td>419.626386</td>\n      <td>22.395389</td>\n      <td>15.644559</td>\n      <td>5603.336653</td>\n      <td>16.550398</td>\n      <td>0.109686</td>\n      <td>2.464691</td>\n      <td>203.443725</td>\n      <td>63.912600</td>\n      <td>0.635508</td>\n      <td>1.378909</td>\n      <td>0.006624</td>\n      <td>5.287849</td>\n      <td>0.007022</td>\n      <td>383.030378</td>\n    </tr>\n    <tr>\n      <th>std</th>\n      <td>244.136265</td>\n      <td>279.914258</td>\n      <td>12.452647</td>\n      <td>10.544798</td>\n      <td>3465.651245</td>\n      <td>10.152884</td>\n      <td>0.820809</td>\n      <td>1.304793</td>\n      <td>91.047964</td>\n      <td>18.743164</td>\n      <td>0.430591</td>\n      <td>0.807327</td>\n      <td>0.114528</td>\n      <td>3.884357</td>\n      <td>0.444992</td>\n      <td>224.257527</td>\n    </tr>\n    <tr>\n      <th>min</th>\n      <td>1.544118</td>\n      <td>0.338235</td>\n      <td>-12.568571</td>\n      <td>-14.415714</td>\n      <td>1000.000000</td>\n      <td>-11.900000</td>\n      <td>0.000000</td>\n      <td>0.000000</td>\n      <td>0.000000</td>\n      <td>13.000000</td>\n      <td>0.000000</td>\n      <td>0.010000</td>\n      <td>0.000000</td>\n      <td>0.000000</td>\n      <td>0.000000</td>\n      <td>2.777778</td>\n    </tr>\n    <tr>\n      <th>25%</th>\n      <td>166.157143</td>\n      <td>165.271978</td>\n      <td>12.290537</td>\n      <td>6.616786</td>\n      <td>3000.000000</td>\n      <td>7.900000</td>\n      <td>0.000000</td>\n      <td>1.500000</td>\n      <td>140.000000</td>\n      <td>51.000000</td>\n      <td>0.100000</td>\n      <td>0.720000</td>\n      <td>0.000000</td>\n      <td>1.000000</td>\n      <td>0.000000</td>\n      <td>200.000000</td>\n    </tr>\n    <tr>\n      <th>50%</th>\n      <td>353.572464</td>\n      <td>372.785714</td>\n      <td>23.431884</td>\n      <td>17.693571</td>\n      <td>5000.000000</td>\n      <td>18.600000</td>\n      <td>0.000000</td>\n      <td>2.300000</td>\n      <td>230.000000</td>\n      <td>63.000000</td>\n      <td>0.900000</td>\n      <td>1.320000</td>\n      <td>0.000000</td>\n      <td>6.000000</td>\n      <td>0.000000</td>\n      <td>366.666667</td>\n    </tr>\n    <tr>\n      <th>75%</th>\n      <td>552.051082</td>\n      <td>656.850621</td>\n      <td>31.515625</td>\n      <td>24.623997</td>\n      <td>8000.000000</td>\n      <td>25.225000</td>\n      <td>0.000000</td>\n      <td>3.200000</td>\n      <td>270.000000</td>\n      <td>77.000000</td>\n      <td>1.000000</td>\n      <td>1.930000</td>\n      <td>0.000000</td>\n      <td>9.000000</td>\n      <td>0.000000</td>\n      <td>536.111111</td>\n    </tr>\n    <tr>\n      <th>max</th>\n      <td>1028.916667</td>\n      <td>1055.583333</td>\n      <td>53.960000</td>\n      <td>37.808571</td>\n      <td>16000.000000</td>\n      <td>35.900000</td>\n      <td>17.700000</td>\n      <td>13.100000</td>\n      <td>360.000000</td>\n      <td>100.000000</td>\n      <td>1.000000</td>\n      <td>3.630000</td>\n      <td>4.200000</td>\n      <td>10.000000</td>\n      <td>28.200000</td>\n      <td>1008.333333</td>\n    </tr>\n  </tbody>\n</table>\n</div>"
     },
     "metadata": {},
     "execution_count": 35
    }
   ],
   "source": [
    "### -일사량이 중요함으로 보아 공공데이터, 기업데이터 일사량이 한개라도 0이 있다면 모두 제거하였음\n",
    "\n",
    "join_ent_other_del0 = join_ent_other_set[join_ent_other_set[\"env_slopesolar\"] != 0 ]\n",
    "join_ent_other_del0 = join_ent_other_del0[join_ent_other_del0[\"env_levelsolar\"] != 0 ]\n",
    "join_ent_other_del0 = join_ent_other_del0[join_ent_other_del0[\"match_solar\"] != 0 ]\n",
    "thinkmore = join_ent_other_del0[join_ent_other_del0[\"pow_totpower\"] != 0 ]\n",
    "\n",
    "# join_ent_other_set[join_ent_other_set[\"pow_totpower\"] == 0]\n",
    "\n",
    "thinkmore.describe()\n",
    "\n"
   ]
  },
  {
   "cell_type": "code",
   "execution_count": 36,
   "metadata": {},
   "outputs": [
    {
     "output_type": "execute_result",
     "data": {
      "text/plain": [
       "                env_slopesolar  env_levelsolar  env_modtemp  env_airtemp  \\\n",
       "env_slopesolar        1.000000        0.902615     0.567833     0.225656   \n",
       "env_levelsolar        0.902615        1.000000     0.339920     0.004646   \n",
       "env_modtemp           0.567833        0.339920     1.000000     0.917128   \n",
       "env_airtemp           0.225656        0.004646     0.917128     1.000000   \n",
       "pow_totpower          0.964405        0.829091     0.554884     0.221019   \n",
       "기온                    0.183729       -0.035934     0.889432     0.988913   \n",
       "강수량                  -0.134296       -0.142095    -0.014564     0.042605   \n",
       "풍속                    0.082294        0.091380     0.047458     0.110875   \n",
       "풍향                    0.109374        0.187036    -0.079598    -0.092413   \n",
       "습도                   -0.365414       -0.529204     0.017146     0.159277   \n",
       "일조                    0.537641        0.636181     0.107056    -0.100759   \n",
       "일사                    0.818260        0.763455     0.571241     0.327974   \n",
       "적설                   -0.011328        0.014316    -0.094127    -0.098203   \n",
       "전운량                  -0.434047       -0.579692     0.035736     0.219840   \n",
       "지중온도                  0.000704       -0.002164     0.015187     0.016687   \n",
       "match_solar           0.818260        0.763455     0.571241     0.327974   \n",
       "\n",
       "                pow_totpower        기온       강수량        풍속        풍향  \\\n",
       "env_slopesolar      0.964405  0.183729 -0.134296  0.082294  0.109374   \n",
       "env_levelsolar      0.829091 -0.035934 -0.142095  0.091380  0.187036   \n",
       "env_modtemp         0.554884  0.889432 -0.014564  0.047458 -0.079598   \n",
       "env_airtemp         0.221019  0.988913  0.042605  0.110875 -0.092413   \n",
       "pow_totpower        1.000000  0.189412 -0.128136  0.071760  0.074549   \n",
       "기온                  0.189412  1.000000  0.050265  0.136210 -0.086367   \n",
       "강수량                -0.128136  0.050265  1.000000  0.004852 -0.059319   \n",
       "풍속                  0.071760  0.136210  0.004852  1.000000  0.263470   \n",
       "풍향                  0.074549 -0.086367 -0.059319  0.263470  1.000000   \n",
       "습도                 -0.285580  0.165276  0.228942 -0.152747 -0.243529   \n",
       "일조                  0.491991 -0.120203 -0.192893  0.122560  0.249882   \n",
       "일사                  0.773321  0.312560 -0.177594  0.232918  0.195319   \n",
       "적설                 -0.042952 -0.097432  0.016751  0.000949  0.025137   \n",
       "전운량                -0.388802  0.242499  0.158565 -0.062837 -0.235233   \n",
       "지중온도                0.001807  0.015779 -0.002109 -0.000783 -0.016199   \n",
       "match_solar         0.773321  0.312560 -0.177594  0.232918  0.195319   \n",
       "\n",
       "                      습도        일조        일사        적설       전운량      지중온도  \\\n",
       "env_slopesolar -0.365414  0.537641  0.818260 -0.011328 -0.434047  0.000704   \n",
       "env_levelsolar -0.529204  0.636181  0.763455  0.014316 -0.579692 -0.002164   \n",
       "env_modtemp     0.017146  0.107056  0.571241 -0.094127  0.035736  0.015187   \n",
       "env_airtemp     0.159277 -0.100759  0.327974 -0.098203  0.219840  0.016687   \n",
       "pow_totpower   -0.285580  0.491991  0.773321 -0.042952 -0.388802  0.001807   \n",
       "기온              0.165276 -0.120203  0.312560 -0.097432  0.242499  0.015779   \n",
       "강수량             0.228942 -0.192893 -0.177594  0.016751  0.158565 -0.002109   \n",
       "풍속             -0.152747  0.122560  0.232918  0.000949 -0.062837 -0.000783   \n",
       "풍향             -0.243529  0.249882  0.195319  0.025137 -0.235233 -0.016199   \n",
       "습도              1.000000 -0.614800 -0.507954  0.032885  0.518845  0.002600   \n",
       "일조             -0.614800  1.000000  0.676475 -0.001689 -0.804654 -0.012298   \n",
       "일사             -0.507954  0.676475  1.000000 -0.035086 -0.470480  0.002367   \n",
       "적설              0.032885 -0.001689 -0.035086  1.000000 -0.001879 -0.000913   \n",
       "전운량             0.518845 -0.804654 -0.470480 -0.001879  1.000000  0.019147   \n",
       "지중온도            0.002600 -0.012298  0.002367 -0.000913  0.019147  1.000000   \n",
       "match_solar    -0.507954  0.676475  1.000000 -0.035086 -0.470480  0.002367   \n",
       "\n",
       "                match_solar  \n",
       "env_slopesolar     0.818260  \n",
       "env_levelsolar     0.763455  \n",
       "env_modtemp        0.571241  \n",
       "env_airtemp        0.327974  \n",
       "pow_totpower       0.773321  \n",
       "기온                 0.312560  \n",
       "강수량               -0.177594  \n",
       "풍속                 0.232918  \n",
       "풍향                 0.195319  \n",
       "습도                -0.507954  \n",
       "일조                 0.676475  \n",
       "일사                 1.000000  \n",
       "적설                -0.035086  \n",
       "전운량               -0.470480  \n",
       "지중온도               0.002367  \n",
       "match_solar        1.000000  "
      ],
      "text/html": "<div>\n<style scoped>\n    .dataframe tbody tr th:only-of-type {\n        vertical-align: middle;\n    }\n\n    .dataframe tbody tr th {\n        vertical-align: top;\n    }\n\n    .dataframe thead th {\n        text-align: right;\n    }\n</style>\n<table border=\"1\" class=\"dataframe\">\n  <thead>\n    <tr style=\"text-align: right;\">\n      <th></th>\n      <th>env_slopesolar</th>\n      <th>env_levelsolar</th>\n      <th>env_modtemp</th>\n      <th>env_airtemp</th>\n      <th>pow_totpower</th>\n      <th>기온</th>\n      <th>강수량</th>\n      <th>풍속</th>\n      <th>풍향</th>\n      <th>습도</th>\n      <th>일조</th>\n      <th>일사</th>\n      <th>적설</th>\n      <th>전운량</th>\n      <th>지중온도</th>\n      <th>match_solar</th>\n    </tr>\n  </thead>\n  <tbody>\n    <tr>\n      <th>env_slopesolar</th>\n      <td>1.000000</td>\n      <td>0.902615</td>\n      <td>0.567833</td>\n      <td>0.225656</td>\n      <td>0.964405</td>\n      <td>0.183729</td>\n      <td>-0.134296</td>\n      <td>0.082294</td>\n      <td>0.109374</td>\n      <td>-0.365414</td>\n      <td>0.537641</td>\n      <td>0.818260</td>\n      <td>-0.011328</td>\n      <td>-0.434047</td>\n      <td>0.000704</td>\n      <td>0.818260</td>\n    </tr>\n    <tr>\n      <th>env_levelsolar</th>\n      <td>0.902615</td>\n      <td>1.000000</td>\n      <td>0.339920</td>\n      <td>0.004646</td>\n      <td>0.829091</td>\n      <td>-0.035934</td>\n      <td>-0.142095</td>\n      <td>0.091380</td>\n      <td>0.187036</td>\n      <td>-0.529204</td>\n      <td>0.636181</td>\n      <td>0.763455</td>\n      <td>0.014316</td>\n      <td>-0.579692</td>\n      <td>-0.002164</td>\n      <td>0.763455</td>\n    </tr>\n    <tr>\n      <th>env_modtemp</th>\n      <td>0.567833</td>\n      <td>0.339920</td>\n      <td>1.000000</td>\n      <td>0.917128</td>\n      <td>0.554884</td>\n      <td>0.889432</td>\n      <td>-0.014564</td>\n      <td>0.047458</td>\n      <td>-0.079598</td>\n      <td>0.017146</td>\n      <td>0.107056</td>\n      <td>0.571241</td>\n      <td>-0.094127</td>\n      <td>0.035736</td>\n      <td>0.015187</td>\n      <td>0.571241</td>\n    </tr>\n    <tr>\n      <th>env_airtemp</th>\n      <td>0.225656</td>\n      <td>0.004646</td>\n      <td>0.917128</td>\n      <td>1.000000</td>\n      <td>0.221019</td>\n      <td>0.988913</td>\n      <td>0.042605</td>\n      <td>0.110875</td>\n      <td>-0.092413</td>\n      <td>0.159277</td>\n      <td>-0.100759</td>\n      <td>0.327974</td>\n      <td>-0.098203</td>\n      <td>0.219840</td>\n      <td>0.016687</td>\n      <td>0.327974</td>\n    </tr>\n    <tr>\n      <th>pow_totpower</th>\n      <td>0.964405</td>\n      <td>0.829091</td>\n      <td>0.554884</td>\n      <td>0.221019</td>\n      <td>1.000000</td>\n      <td>0.189412</td>\n      <td>-0.128136</td>\n      <td>0.071760</td>\n      <td>0.074549</td>\n      <td>-0.285580</td>\n      <td>0.491991</td>\n      <td>0.773321</td>\n      <td>-0.042952</td>\n      <td>-0.388802</td>\n      <td>0.001807</td>\n      <td>0.773321</td>\n    </tr>\n    <tr>\n      <th>기온</th>\n      <td>0.183729</td>\n      <td>-0.035934</td>\n      <td>0.889432</td>\n      <td>0.988913</td>\n      <td>0.189412</td>\n      <td>1.000000</td>\n      <td>0.050265</td>\n      <td>0.136210</td>\n      <td>-0.086367</td>\n      <td>0.165276</td>\n      <td>-0.120203</td>\n      <td>0.312560</td>\n      <td>-0.097432</td>\n      <td>0.242499</td>\n      <td>0.015779</td>\n      <td>0.312560</td>\n    </tr>\n    <tr>\n      <th>강수량</th>\n      <td>-0.134296</td>\n      <td>-0.142095</td>\n      <td>-0.014564</td>\n      <td>0.042605</td>\n      <td>-0.128136</td>\n      <td>0.050265</td>\n      <td>1.000000</td>\n      <td>0.004852</td>\n      <td>-0.059319</td>\n      <td>0.228942</td>\n      <td>-0.192893</td>\n      <td>-0.177594</td>\n      <td>0.016751</td>\n      <td>0.158565</td>\n      <td>-0.002109</td>\n      <td>-0.177594</td>\n    </tr>\n    <tr>\n      <th>풍속</th>\n      <td>0.082294</td>\n      <td>0.091380</td>\n      <td>0.047458</td>\n      <td>0.110875</td>\n      <td>0.071760</td>\n      <td>0.136210</td>\n      <td>0.004852</td>\n      <td>1.000000</td>\n      <td>0.263470</td>\n      <td>-0.152747</td>\n      <td>0.122560</td>\n      <td>0.232918</td>\n      <td>0.000949</td>\n      <td>-0.062837</td>\n      <td>-0.000783</td>\n      <td>0.232918</td>\n    </tr>\n    <tr>\n      <th>풍향</th>\n      <td>0.109374</td>\n      <td>0.187036</td>\n      <td>-0.079598</td>\n      <td>-0.092413</td>\n      <td>0.074549</td>\n      <td>-0.086367</td>\n      <td>-0.059319</td>\n      <td>0.263470</td>\n      <td>1.000000</td>\n      <td>-0.243529</td>\n      <td>0.249882</td>\n      <td>0.195319</td>\n      <td>0.025137</td>\n      <td>-0.235233</td>\n      <td>-0.016199</td>\n      <td>0.195319</td>\n    </tr>\n    <tr>\n      <th>습도</th>\n      <td>-0.365414</td>\n      <td>-0.529204</td>\n      <td>0.017146</td>\n      <td>0.159277</td>\n      <td>-0.285580</td>\n      <td>0.165276</td>\n      <td>0.228942</td>\n      <td>-0.152747</td>\n      <td>-0.243529</td>\n      <td>1.000000</td>\n      <td>-0.614800</td>\n      <td>-0.507954</td>\n      <td>0.032885</td>\n      <td>0.518845</td>\n      <td>0.002600</td>\n      <td>-0.507954</td>\n    </tr>\n    <tr>\n      <th>일조</th>\n      <td>0.537641</td>\n      <td>0.636181</td>\n      <td>0.107056</td>\n      <td>-0.100759</td>\n      <td>0.491991</td>\n      <td>-0.120203</td>\n      <td>-0.192893</td>\n      <td>0.122560</td>\n      <td>0.249882</td>\n      <td>-0.614800</td>\n      <td>1.000000</td>\n      <td>0.676475</td>\n      <td>-0.001689</td>\n      <td>-0.804654</td>\n      <td>-0.012298</td>\n      <td>0.676475</td>\n    </tr>\n    <tr>\n      <th>일사</th>\n      <td>0.818260</td>\n      <td>0.763455</td>\n      <td>0.571241</td>\n      <td>0.327974</td>\n      <td>0.773321</td>\n      <td>0.312560</td>\n      <td>-0.177594</td>\n      <td>0.232918</td>\n      <td>0.195319</td>\n      <td>-0.507954</td>\n      <td>0.676475</td>\n      <td>1.000000</td>\n      <td>-0.035086</td>\n      <td>-0.470480</td>\n      <td>0.002367</td>\n      <td>1.000000</td>\n    </tr>\n    <tr>\n      <th>적설</th>\n      <td>-0.011328</td>\n      <td>0.014316</td>\n      <td>-0.094127</td>\n      <td>-0.098203</td>\n      <td>-0.042952</td>\n      <td>-0.097432</td>\n      <td>0.016751</td>\n      <td>0.000949</td>\n      <td>0.025137</td>\n      <td>0.032885</td>\n      <td>-0.001689</td>\n      <td>-0.035086</td>\n      <td>1.000000</td>\n      <td>-0.001879</td>\n      <td>-0.000913</td>\n      <td>-0.035086</td>\n    </tr>\n    <tr>\n      <th>전운량</th>\n      <td>-0.434047</td>\n      <td>-0.579692</td>\n      <td>0.035736</td>\n      <td>0.219840</td>\n      <td>-0.388802</td>\n      <td>0.242499</td>\n      <td>0.158565</td>\n      <td>-0.062837</td>\n      <td>-0.235233</td>\n      <td>0.518845</td>\n      <td>-0.804654</td>\n      <td>-0.470480</td>\n      <td>-0.001879</td>\n      <td>1.000000</td>\n      <td>0.019147</td>\n      <td>-0.470480</td>\n    </tr>\n    <tr>\n      <th>지중온도</th>\n      <td>0.000704</td>\n      <td>-0.002164</td>\n      <td>0.015187</td>\n      <td>0.016687</td>\n      <td>0.001807</td>\n      <td>0.015779</td>\n      <td>-0.002109</td>\n      <td>-0.000783</td>\n      <td>-0.016199</td>\n      <td>0.002600</td>\n      <td>-0.012298</td>\n      <td>0.002367</td>\n      <td>-0.000913</td>\n      <td>0.019147</td>\n      <td>1.000000</td>\n      <td>0.002367</td>\n    </tr>\n    <tr>\n      <th>match_solar</th>\n      <td>0.818260</td>\n      <td>0.763455</td>\n      <td>0.571241</td>\n      <td>0.327974</td>\n      <td>0.773321</td>\n      <td>0.312560</td>\n      <td>-0.177594</td>\n      <td>0.232918</td>\n      <td>0.195319</td>\n      <td>-0.507954</td>\n      <td>0.676475</td>\n      <td>1.000000</td>\n      <td>-0.035086</td>\n      <td>-0.470480</td>\n      <td>0.002367</td>\n      <td>1.000000</td>\n    </tr>\n  </tbody>\n</table>\n</div>"
     },
     "metadata": {},
     "execution_count": 36
    }
   ],
   "source": [
    "thinkmore.corr()"
   ]
  },
  {
   "cell_type": "code",
   "execution_count": 37,
   "metadata": {},
   "outputs": [
    {
     "output_type": "execute_result",
     "data": {
      "text/plain": [
       "<matplotlib.axes._subplots.AxesSubplot at 0x2228eb57348>"
      ]
     },
     "metadata": {},
     "execution_count": 37
    },
    {
     "output_type": "display_data",
     "data": {
      "text/plain": "<Figure size 432x288 with 1 Axes>",
      "image/svg+xml": "<?xml version=\"1.0\" encoding=\"utf-8\" standalone=\"no\"?>\r\n<!DOCTYPE svg PUBLIC \"-//W3C//DTD SVG 1.1//EN\"\r\n  \"http://www.w3.org/Graphics/SVG/1.1/DTD/svg11.dtd\">\r\n<!-- Created with matplotlib (https://matplotlib.org/) -->\r\n<svg height=\"248.79625pt\" version=\"1.1\" viewBox=\"0 0 381.65 248.79625\" width=\"381.65pt\" xmlns=\"http://www.w3.org/2000/svg\" xmlns:xlink=\"http://www.w3.org/1999/xlink\">\r\n <defs>\r\n  <style type=\"text/css\">\r\n*{stroke-linecap:butt;stroke-linejoin:round;}\r\n  </style>\r\n </defs>\r\n <g id=\"figure_1\">\r\n  <g id=\"patch_1\">\r\n   <path d=\"M -0 248.79625 \r\nL 381.65 248.79625 \r\nL 381.65 0 \r\nL -0 0 \r\nz\r\n\" style=\"fill:none;\"/>\r\n  </g>\r\n  <g id=\"axes_1\">\r\n   <g id=\"patch_2\">\r\n    <path d=\"M 39.65 224.64 \r\nL 374.45 224.64 \r\nL 374.45 7.2 \r\nL 39.65 7.2 \r\nz\r\n\" style=\"fill:#ffffff;\"/>\r\n   </g>\r\n   <g id=\"patch_3\">\r\n    <path clip-path=\"url(#p54599dd7f4)\" d=\"M 50.81 183.694503 \r\nL 140.09 183.694503 \r\nL 140.09 111.407309 \r\nL 50.81 111.407309 \r\nL 50.81 183.694503 \r\nz\r\n\" style=\"fill:#3274a1;stroke:#3d3d3d;stroke-linejoin:miter;stroke-width:1.5;\"/>\r\n   </g>\r\n   <g id=\"patch_4\">\r\n    <path clip-path=\"url(#p54599dd7f4)\" d=\"M 162.41 183.860316 \r\nL 251.69 183.860316 \r\nL 251.69 91.775841 \r\nL 162.41 91.775841 \r\nL 162.41 183.860316 \r\nz\r\n\" style=\"fill:#e1812c;stroke:#3d3d3d;stroke-linejoin:miter;stroke-width:1.5;\"/>\r\n   </g>\r\n   <g id=\"patch_5\">\r\n    <path clip-path=\"url(#p54599dd7f4)\" d=\"M 274.01 177.354924 \r\nL 363.29 177.354924 \r\nL 363.29 114.393248 \r\nL 274.01 114.393248 \r\nL 274.01 177.354924 \r\nz\r\n\" style=\"fill:#3a923a;stroke:#3d3d3d;stroke-linejoin:miter;stroke-width:1.5;\"/>\r\n   </g>\r\n   <g id=\"matplotlib.axis_1\">\r\n    <g id=\"xtick_1\">\r\n     <g id=\"line2d_1\">\r\n      <defs>\r\n       <path d=\"M 0 0 \r\nL 0 3.5 \r\n\" id=\"mc50e1932e5\" style=\"stroke:#000000;stroke-width:0.8;\"/>\r\n      </defs>\r\n      <g>\r\n       <use style=\"stroke:#000000;stroke-width:0.8;\" x=\"95.45\" xlink:href=\"#mc50e1932e5\" y=\"224.64\"/>\r\n      </g>\r\n     </g>\r\n     <g id=\"text_1\">\r\n      <!-- env_slopesolar -->\r\n      <defs>\r\n       <path d=\"M 56.203125 29.59375 \r\nL 56.203125 25.203125 \r\nL 14.890625 25.203125 \r\nQ 15.484375 15.921875 20.484375 11.0625 \r\nQ 25.484375 6.203125 34.421875 6.203125 \r\nQ 39.59375 6.203125 44.453125 7.46875 \r\nQ 49.3125 8.734375 54.109375 11.28125 \r\nL 54.109375 2.78125 \r\nQ 49.265625 0.734375 44.1875 -0.34375 \r\nQ 39.109375 -1.421875 33.890625 -1.421875 \r\nQ 20.796875 -1.421875 13.15625 6.1875 \r\nQ 5.515625 13.8125 5.515625 26.8125 \r\nQ 5.515625 40.234375 12.765625 48.109375 \r\nQ 20.015625 56 32.328125 56 \r\nQ 43.359375 56 49.78125 48.890625 \r\nQ 56.203125 41.796875 56.203125 29.59375 \r\nz\r\nM 47.21875 32.234375 \r\nQ 47.125 39.59375 43.09375 43.984375 \r\nQ 39.0625 48.390625 32.421875 48.390625 \r\nQ 24.90625 48.390625 20.390625 44.140625 \r\nQ 15.875 39.890625 15.1875 32.171875 \r\nz\r\n\" id=\"DejaVuSans-101\"/>\r\n       <path d=\"M 54.890625 33.015625 \r\nL 54.890625 0 \r\nL 45.90625 0 \r\nL 45.90625 32.71875 \r\nQ 45.90625 40.484375 42.875 44.328125 \r\nQ 39.84375 48.1875 33.796875 48.1875 \r\nQ 26.515625 48.1875 22.3125 43.546875 \r\nQ 18.109375 38.921875 18.109375 30.90625 \r\nL 18.109375 0 \r\nL 9.078125 0 \r\nL 9.078125 54.6875 \r\nL 18.109375 54.6875 \r\nL 18.109375 46.1875 \r\nQ 21.34375 51.125 25.703125 53.5625 \r\nQ 30.078125 56 35.796875 56 \r\nQ 45.21875 56 50.046875 50.171875 \r\nQ 54.890625 44.34375 54.890625 33.015625 \r\nz\r\n\" id=\"DejaVuSans-110\"/>\r\n       <path d=\"M 2.984375 54.6875 \r\nL 12.5 54.6875 \r\nL 29.59375 8.796875 \r\nL 46.6875 54.6875 \r\nL 56.203125 54.6875 \r\nL 35.6875 0 \r\nL 23.484375 0 \r\nz\r\n\" id=\"DejaVuSans-118\"/>\r\n       <path d=\"M 50.984375 -16.609375 \r\nL 50.984375 -23.578125 \r\nL -0.984375 -23.578125 \r\nL -0.984375 -16.609375 \r\nz\r\n\" id=\"DejaVuSans-95\"/>\r\n       <path d=\"M 44.28125 53.078125 \r\nL 44.28125 44.578125 \r\nQ 40.484375 46.53125 36.375 47.5 \r\nQ 32.28125 48.484375 27.875 48.484375 \r\nQ 21.1875 48.484375 17.84375 46.4375 \r\nQ 14.5 44.390625 14.5 40.28125 \r\nQ 14.5 37.15625 16.890625 35.375 \r\nQ 19.28125 33.59375 26.515625 31.984375 \r\nL 29.59375 31.296875 \r\nQ 39.15625 29.25 43.1875 25.515625 \r\nQ 47.21875 21.78125 47.21875 15.09375 \r\nQ 47.21875 7.46875 41.1875 3.015625 \r\nQ 35.15625 -1.421875 24.609375 -1.421875 \r\nQ 20.21875 -1.421875 15.453125 -0.5625 \r\nQ 10.6875 0.296875 5.421875 2 \r\nL 5.421875 11.28125 \r\nQ 10.40625 8.6875 15.234375 7.390625 \r\nQ 20.0625 6.109375 24.8125 6.109375 \r\nQ 31.15625 6.109375 34.5625 8.28125 \r\nQ 37.984375 10.453125 37.984375 14.40625 \r\nQ 37.984375 18.0625 35.515625 20.015625 \r\nQ 33.0625 21.96875 24.703125 23.78125 \r\nL 21.578125 24.515625 \r\nQ 13.234375 26.265625 9.515625 29.90625 \r\nQ 5.8125 33.546875 5.8125 39.890625 \r\nQ 5.8125 47.609375 11.28125 51.796875 \r\nQ 16.75 56 26.8125 56 \r\nQ 31.78125 56 36.171875 55.265625 \r\nQ 40.578125 54.546875 44.28125 53.078125 \r\nz\r\n\" id=\"DejaVuSans-115\"/>\r\n       <path d=\"M 9.421875 75.984375 \r\nL 18.40625 75.984375 \r\nL 18.40625 0 \r\nL 9.421875 0 \r\nz\r\n\" id=\"DejaVuSans-108\"/>\r\n       <path d=\"M 30.609375 48.390625 \r\nQ 23.390625 48.390625 19.1875 42.75 \r\nQ 14.984375 37.109375 14.984375 27.296875 \r\nQ 14.984375 17.484375 19.15625 11.84375 \r\nQ 23.34375 6.203125 30.609375 6.203125 \r\nQ 37.796875 6.203125 41.984375 11.859375 \r\nQ 46.1875 17.53125 46.1875 27.296875 \r\nQ 46.1875 37.015625 41.984375 42.703125 \r\nQ 37.796875 48.390625 30.609375 48.390625 \r\nz\r\nM 30.609375 56 \r\nQ 42.328125 56 49.015625 48.375 \r\nQ 55.71875 40.765625 55.71875 27.296875 \r\nQ 55.71875 13.875 49.015625 6.21875 \r\nQ 42.328125 -1.421875 30.609375 -1.421875 \r\nQ 18.84375 -1.421875 12.171875 6.21875 \r\nQ 5.515625 13.875 5.515625 27.296875 \r\nQ 5.515625 40.765625 12.171875 48.375 \r\nQ 18.84375 56 30.609375 56 \r\nz\r\n\" id=\"DejaVuSans-111\"/>\r\n       <path d=\"M 18.109375 8.203125 \r\nL 18.109375 -20.796875 \r\nL 9.078125 -20.796875 \r\nL 9.078125 54.6875 \r\nL 18.109375 54.6875 \r\nL 18.109375 46.390625 \r\nQ 20.953125 51.265625 25.265625 53.625 \r\nQ 29.59375 56 35.59375 56 \r\nQ 45.5625 56 51.78125 48.09375 \r\nQ 58.015625 40.1875 58.015625 27.296875 \r\nQ 58.015625 14.40625 51.78125 6.484375 \r\nQ 45.5625 -1.421875 35.59375 -1.421875 \r\nQ 29.59375 -1.421875 25.265625 0.953125 \r\nQ 20.953125 3.328125 18.109375 8.203125 \r\nz\r\nM 48.6875 27.296875 \r\nQ 48.6875 37.203125 44.609375 42.84375 \r\nQ 40.53125 48.484375 33.40625 48.484375 \r\nQ 26.265625 48.484375 22.1875 42.84375 \r\nQ 18.109375 37.203125 18.109375 27.296875 \r\nQ 18.109375 17.390625 22.1875 11.75 \r\nQ 26.265625 6.109375 33.40625 6.109375 \r\nQ 40.53125 6.109375 44.609375 11.75 \r\nQ 48.6875 17.390625 48.6875 27.296875 \r\nz\r\n\" id=\"DejaVuSans-112\"/>\r\n       <path d=\"M 34.28125 27.484375 \r\nQ 23.390625 27.484375 19.1875 25 \r\nQ 14.984375 22.515625 14.984375 16.5 \r\nQ 14.984375 11.71875 18.140625 8.90625 \r\nQ 21.296875 6.109375 26.703125 6.109375 \r\nQ 34.1875 6.109375 38.703125 11.40625 \r\nQ 43.21875 16.703125 43.21875 25.484375 \r\nL 43.21875 27.484375 \r\nz\r\nM 52.203125 31.203125 \r\nL 52.203125 0 \r\nL 43.21875 0 \r\nL 43.21875 8.296875 \r\nQ 40.140625 3.328125 35.546875 0.953125 \r\nQ 30.953125 -1.421875 24.3125 -1.421875 \r\nQ 15.921875 -1.421875 10.953125 3.296875 \r\nQ 6 8.015625 6 15.921875 \r\nQ 6 25.140625 12.171875 29.828125 \r\nQ 18.359375 34.515625 30.609375 34.515625 \r\nL 43.21875 34.515625 \r\nL 43.21875 35.40625 \r\nQ 43.21875 41.609375 39.140625 45 \r\nQ 35.0625 48.390625 27.6875 48.390625 \r\nQ 23 48.390625 18.546875 47.265625 \r\nQ 14.109375 46.140625 10.015625 43.890625 \r\nL 10.015625 52.203125 \r\nQ 14.9375 54.109375 19.578125 55.046875 \r\nQ 24.21875 56 28.609375 56 \r\nQ 40.484375 56 46.34375 49.84375 \r\nQ 52.203125 43.703125 52.203125 31.203125 \r\nz\r\n\" id=\"DejaVuSans-97\"/>\r\n       <path d=\"M 41.109375 46.296875 \r\nQ 39.59375 47.171875 37.8125 47.578125 \r\nQ 36.03125 48 33.890625 48 \r\nQ 26.265625 48 22.1875 43.046875 \r\nQ 18.109375 38.09375 18.109375 28.8125 \r\nL 18.109375 0 \r\nL 9.078125 0 \r\nL 9.078125 54.6875 \r\nL 18.109375 54.6875 \r\nL 18.109375 46.1875 \r\nQ 20.953125 51.171875 25.484375 53.578125 \r\nQ 30.03125 56 36.53125 56 \r\nQ 37.453125 56 38.578125 55.875 \r\nQ 39.703125 55.765625 41.0625 55.515625 \r\nz\r\n\" id=\"DejaVuSans-114\"/>\r\n      </defs>\r\n      <g transform=\"translate(58.26875 239.238437)scale(0.1 -0.1)\">\r\n       <use xlink:href=\"#DejaVuSans-101\"/>\r\n       <use x=\"61.523438\" xlink:href=\"#DejaVuSans-110\"/>\r\n       <use x=\"124.902344\" xlink:href=\"#DejaVuSans-118\"/>\r\n       <use x=\"184.082031\" xlink:href=\"#DejaVuSans-95\"/>\r\n       <use x=\"234.082031\" xlink:href=\"#DejaVuSans-115\"/>\r\n       <use x=\"286.181641\" xlink:href=\"#DejaVuSans-108\"/>\r\n       <use x=\"313.964844\" xlink:href=\"#DejaVuSans-111\"/>\r\n       <use x=\"375.146484\" xlink:href=\"#DejaVuSans-112\"/>\r\n       <use x=\"438.623047\" xlink:href=\"#DejaVuSans-101\"/>\r\n       <use x=\"500.146484\" xlink:href=\"#DejaVuSans-115\"/>\r\n       <use x=\"552.246094\" xlink:href=\"#DejaVuSans-111\"/>\r\n       <use x=\"613.427734\" xlink:href=\"#DejaVuSans-108\"/>\r\n       <use x=\"641.210938\" xlink:href=\"#DejaVuSans-97\"/>\r\n       <use x=\"702.490234\" xlink:href=\"#DejaVuSans-114\"/>\r\n      </g>\r\n     </g>\r\n    </g>\r\n    <g id=\"xtick_2\">\r\n     <g id=\"line2d_2\">\r\n      <g>\r\n       <use style=\"stroke:#000000;stroke-width:0.8;\" x=\"207.05\" xlink:href=\"#mc50e1932e5\" y=\"224.64\"/>\r\n      </g>\r\n     </g>\r\n     <g id=\"text_2\">\r\n      <!-- env_levelsolar -->\r\n      <g transform=\"translate(171.282031 239.238437)scale(0.1 -0.1)\">\r\n       <use xlink:href=\"#DejaVuSans-101\"/>\r\n       <use x=\"61.523438\" xlink:href=\"#DejaVuSans-110\"/>\r\n       <use x=\"124.902344\" xlink:href=\"#DejaVuSans-118\"/>\r\n       <use x=\"184.082031\" xlink:href=\"#DejaVuSans-95\"/>\r\n       <use x=\"234.082031\" xlink:href=\"#DejaVuSans-108\"/>\r\n       <use x=\"261.865234\" xlink:href=\"#DejaVuSans-101\"/>\r\n       <use x=\"323.388672\" xlink:href=\"#DejaVuSans-118\"/>\r\n       <use x=\"382.568359\" xlink:href=\"#DejaVuSans-101\"/>\r\n       <use x=\"444.091797\" xlink:href=\"#DejaVuSans-108\"/>\r\n       <use x=\"471.875\" xlink:href=\"#DejaVuSans-115\"/>\r\n       <use x=\"523.974609\" xlink:href=\"#DejaVuSans-111\"/>\r\n       <use x=\"585.15625\" xlink:href=\"#DejaVuSans-108\"/>\r\n       <use x=\"612.939453\" xlink:href=\"#DejaVuSans-97\"/>\r\n       <use x=\"674.21875\" xlink:href=\"#DejaVuSans-114\"/>\r\n      </g>\r\n     </g>\r\n    </g>\r\n    <g id=\"xtick_3\">\r\n     <g id=\"line2d_3\">\r\n      <g>\r\n       <use style=\"stroke:#000000;stroke-width:0.8;\" x=\"318.65\" xlink:href=\"#mc50e1932e5\" y=\"224.64\"/>\r\n      </g>\r\n     </g>\r\n     <g id=\"text_3\">\r\n      <!-- match_solar -->\r\n      <defs>\r\n       <path d=\"M 52 44.1875 \r\nQ 55.375 50.25 60.0625 53.125 \r\nQ 64.75 56 71.09375 56 \r\nQ 79.640625 56 84.28125 50.015625 \r\nQ 88.921875 44.046875 88.921875 33.015625 \r\nL 88.921875 0 \r\nL 79.890625 0 \r\nL 79.890625 32.71875 \r\nQ 79.890625 40.578125 77.09375 44.375 \r\nQ 74.3125 48.1875 68.609375 48.1875 \r\nQ 61.625 48.1875 57.5625 43.546875 \r\nQ 53.515625 38.921875 53.515625 30.90625 \r\nL 53.515625 0 \r\nL 44.484375 0 \r\nL 44.484375 32.71875 \r\nQ 44.484375 40.625 41.703125 44.40625 \r\nQ 38.921875 48.1875 33.109375 48.1875 \r\nQ 26.21875 48.1875 22.15625 43.53125 \r\nQ 18.109375 38.875 18.109375 30.90625 \r\nL 18.109375 0 \r\nL 9.078125 0 \r\nL 9.078125 54.6875 \r\nL 18.109375 54.6875 \r\nL 18.109375 46.1875 \r\nQ 21.1875 51.21875 25.484375 53.609375 \r\nQ 29.78125 56 35.6875 56 \r\nQ 41.65625 56 45.828125 52.96875 \r\nQ 50 49.953125 52 44.1875 \r\nz\r\n\" id=\"DejaVuSans-109\"/>\r\n       <path d=\"M 18.3125 70.21875 \r\nL 18.3125 54.6875 \r\nL 36.8125 54.6875 \r\nL 36.8125 47.703125 \r\nL 18.3125 47.703125 \r\nL 18.3125 18.015625 \r\nQ 18.3125 11.328125 20.140625 9.421875 \r\nQ 21.96875 7.515625 27.59375 7.515625 \r\nL 36.8125 7.515625 \r\nL 36.8125 0 \r\nL 27.59375 0 \r\nQ 17.1875 0 13.234375 3.875 \r\nQ 9.28125 7.765625 9.28125 18.015625 \r\nL 9.28125 47.703125 \r\nL 2.6875 47.703125 \r\nL 2.6875 54.6875 \r\nL 9.28125 54.6875 \r\nL 9.28125 70.21875 \r\nz\r\n\" id=\"DejaVuSans-116\"/>\r\n       <path d=\"M 48.78125 52.59375 \r\nL 48.78125 44.1875 \r\nQ 44.96875 46.296875 41.140625 47.34375 \r\nQ 37.3125 48.390625 33.40625 48.390625 \r\nQ 24.65625 48.390625 19.8125 42.84375 \r\nQ 14.984375 37.3125 14.984375 27.296875 \r\nQ 14.984375 17.28125 19.8125 11.734375 \r\nQ 24.65625 6.203125 33.40625 6.203125 \r\nQ 37.3125 6.203125 41.140625 7.25 \r\nQ 44.96875 8.296875 48.78125 10.40625 \r\nL 48.78125 2.09375 \r\nQ 45.015625 0.34375 40.984375 -0.53125 \r\nQ 36.96875 -1.421875 32.421875 -1.421875 \r\nQ 20.0625 -1.421875 12.78125 6.34375 \r\nQ 5.515625 14.109375 5.515625 27.296875 \r\nQ 5.515625 40.671875 12.859375 48.328125 \r\nQ 20.21875 56 33.015625 56 \r\nQ 37.15625 56 41.109375 55.140625 \r\nQ 45.0625 54.296875 48.78125 52.59375 \r\nz\r\n\" id=\"DejaVuSans-99\"/>\r\n       <path d=\"M 54.890625 33.015625 \r\nL 54.890625 0 \r\nL 45.90625 0 \r\nL 45.90625 32.71875 \r\nQ 45.90625 40.484375 42.875 44.328125 \r\nQ 39.84375 48.1875 33.796875 48.1875 \r\nQ 26.515625 48.1875 22.3125 43.546875 \r\nQ 18.109375 38.921875 18.109375 30.90625 \r\nL 18.109375 0 \r\nL 9.078125 0 \r\nL 9.078125 75.984375 \r\nL 18.109375 75.984375 \r\nL 18.109375 46.1875 \r\nQ 21.34375 51.125 25.703125 53.5625 \r\nQ 30.078125 56 35.796875 56 \r\nQ 45.21875 56 50.046875 50.171875 \r\nQ 54.890625 44.34375 54.890625 33.015625 \r\nz\r\n\" id=\"DejaVuSans-104\"/>\r\n      </defs>\r\n      <g transform=\"translate(288.164844 239.238437)scale(0.1 -0.1)\">\r\n       <use xlink:href=\"#DejaVuSans-109\"/>\r\n       <use x=\"97.412109\" xlink:href=\"#DejaVuSans-97\"/>\r\n       <use x=\"158.691406\" xlink:href=\"#DejaVuSans-116\"/>\r\n       <use x=\"197.900391\" xlink:href=\"#DejaVuSans-99\"/>\r\n       <use x=\"252.880859\" xlink:href=\"#DejaVuSans-104\"/>\r\n       <use x=\"316.259766\" xlink:href=\"#DejaVuSans-95\"/>\r\n       <use x=\"366.259766\" xlink:href=\"#DejaVuSans-115\"/>\r\n       <use x=\"418.359375\" xlink:href=\"#DejaVuSans-111\"/>\r\n       <use x=\"479.541016\" xlink:href=\"#DejaVuSans-108\"/>\r\n       <use x=\"507.324219\" xlink:href=\"#DejaVuSans-97\"/>\r\n       <use x=\"568.603516\" xlink:href=\"#DejaVuSans-114\"/>\r\n      </g>\r\n     </g>\r\n    </g>\r\n   </g>\r\n   <g id=\"matplotlib.axis_2\">\r\n    <g id=\"ytick_1\">\r\n     <g id=\"line2d_4\">\r\n      <defs>\r\n       <path d=\"M 0 0 \r\nL -3.5 0 \r\n\" id=\"mc060321fb5\" style=\"stroke:#000000;stroke-width:0.8;\"/>\r\n      </defs>\r\n      <g>\r\n       <use style=\"stroke:#000000;stroke-width:0.8;\" x=\"39.65\" xlink:href=\"#mc060321fb5\" y=\"214.819723\"/>\r\n      </g>\r\n     </g>\r\n     <g id=\"text_4\">\r\n      <!-- 0 -->\r\n      <defs>\r\n       <path d=\"M 31.78125 66.40625 \r\nQ 24.171875 66.40625 20.328125 58.90625 \r\nQ 16.5 51.421875 16.5 36.375 \r\nQ 16.5 21.390625 20.328125 13.890625 \r\nQ 24.171875 6.390625 31.78125 6.390625 \r\nQ 39.453125 6.390625 43.28125 13.890625 \r\nQ 47.125 21.390625 47.125 36.375 \r\nQ 47.125 51.421875 43.28125 58.90625 \r\nQ 39.453125 66.40625 31.78125 66.40625 \r\nz\r\nM 31.78125 74.21875 \r\nQ 44.046875 74.21875 50.515625 64.515625 \r\nQ 56.984375 54.828125 56.984375 36.375 \r\nQ 56.984375 17.96875 50.515625 8.265625 \r\nQ 44.046875 -1.421875 31.78125 -1.421875 \r\nQ 19.53125 -1.421875 13.0625 8.265625 \r\nQ 6.59375 17.96875 6.59375 36.375 \r\nQ 6.59375 54.828125 13.0625 64.515625 \r\nQ 19.53125 74.21875 31.78125 74.21875 \r\nz\r\n\" id=\"DejaVuSans-48\"/>\r\n      </defs>\r\n      <g transform=\"translate(26.2875 218.618942)scale(0.1 -0.1)\">\r\n       <use xlink:href=\"#DejaVuSans-48\"/>\r\n      </g>\r\n     </g>\r\n    </g>\r\n    <g id=\"ytick_2\">\r\n     <g id=\"line2d_5\">\r\n      <g>\r\n       <use style=\"stroke:#000000;stroke-width:0.8;\" x=\"39.65\" xlink:href=\"#mc060321fb5\" y=\"177.354924\"/>\r\n      </g>\r\n     </g>\r\n     <g id=\"text_5\">\r\n      <!-- 200 -->\r\n      <defs>\r\n       <path d=\"M 19.1875 8.296875 \r\nL 53.609375 8.296875 \r\nL 53.609375 0 \r\nL 7.328125 0 \r\nL 7.328125 8.296875 \r\nQ 12.9375 14.109375 22.625 23.890625 \r\nQ 32.328125 33.6875 34.8125 36.53125 \r\nQ 39.546875 41.84375 41.421875 45.53125 \r\nQ 43.3125 49.21875 43.3125 52.78125 \r\nQ 43.3125 58.59375 39.234375 62.25 \r\nQ 35.15625 65.921875 28.609375 65.921875 \r\nQ 23.96875 65.921875 18.8125 64.3125 \r\nQ 13.671875 62.703125 7.8125 59.421875 \r\nL 7.8125 69.390625 \r\nQ 13.765625 71.78125 18.9375 73 \r\nQ 24.125 74.21875 28.421875 74.21875 \r\nQ 39.75 74.21875 46.484375 68.546875 \r\nQ 53.21875 62.890625 53.21875 53.421875 \r\nQ 53.21875 48.921875 51.53125 44.890625 \r\nQ 49.859375 40.875 45.40625 35.40625 \r\nQ 44.1875 33.984375 37.640625 27.21875 \r\nQ 31.109375 20.453125 19.1875 8.296875 \r\nz\r\n\" id=\"DejaVuSans-50\"/>\r\n      </defs>\r\n      <g transform=\"translate(13.5625 181.154143)scale(0.1 -0.1)\">\r\n       <use xlink:href=\"#DejaVuSans-50\"/>\r\n       <use x=\"63.623047\" xlink:href=\"#DejaVuSans-48\"/>\r\n       <use x=\"127.246094\" xlink:href=\"#DejaVuSans-48\"/>\r\n      </g>\r\n     </g>\r\n    </g>\r\n    <g id=\"ytick_3\">\r\n     <g id=\"line2d_6\">\r\n      <g>\r\n       <use style=\"stroke:#000000;stroke-width:0.8;\" x=\"39.65\" xlink:href=\"#mc060321fb5\" y=\"139.890125\"/>\r\n      </g>\r\n     </g>\r\n     <g id=\"text_6\">\r\n      <!-- 400 -->\r\n      <defs>\r\n       <path d=\"M 37.796875 64.3125 \r\nL 12.890625 25.390625 \r\nL 37.796875 25.390625 \r\nz\r\nM 35.203125 72.90625 \r\nL 47.609375 72.90625 \r\nL 47.609375 25.390625 \r\nL 58.015625 25.390625 \r\nL 58.015625 17.1875 \r\nL 47.609375 17.1875 \r\nL 47.609375 0 \r\nL 37.796875 0 \r\nL 37.796875 17.1875 \r\nL 4.890625 17.1875 \r\nL 4.890625 26.703125 \r\nz\r\n\" id=\"DejaVuSans-52\"/>\r\n      </defs>\r\n      <g transform=\"translate(13.5625 143.689344)scale(0.1 -0.1)\">\r\n       <use xlink:href=\"#DejaVuSans-52\"/>\r\n       <use x=\"63.623047\" xlink:href=\"#DejaVuSans-48\"/>\r\n       <use x=\"127.246094\" xlink:href=\"#DejaVuSans-48\"/>\r\n      </g>\r\n     </g>\r\n    </g>\r\n    <g id=\"ytick_4\">\r\n     <g id=\"line2d_7\">\r\n      <g>\r\n       <use style=\"stroke:#000000;stroke-width:0.8;\" x=\"39.65\" xlink:href=\"#mc060321fb5\" y=\"102.425326\"/>\r\n      </g>\r\n     </g>\r\n     <g id=\"text_7\">\r\n      <!-- 600 -->\r\n      <defs>\r\n       <path d=\"M 33.015625 40.375 \r\nQ 26.375 40.375 22.484375 35.828125 \r\nQ 18.609375 31.296875 18.609375 23.390625 \r\nQ 18.609375 15.53125 22.484375 10.953125 \r\nQ 26.375 6.390625 33.015625 6.390625 \r\nQ 39.65625 6.390625 43.53125 10.953125 \r\nQ 47.40625 15.53125 47.40625 23.390625 \r\nQ 47.40625 31.296875 43.53125 35.828125 \r\nQ 39.65625 40.375 33.015625 40.375 \r\nz\r\nM 52.59375 71.296875 \r\nL 52.59375 62.3125 \r\nQ 48.875 64.0625 45.09375 64.984375 \r\nQ 41.3125 65.921875 37.59375 65.921875 \r\nQ 27.828125 65.921875 22.671875 59.328125 \r\nQ 17.53125 52.734375 16.796875 39.40625 \r\nQ 19.671875 43.65625 24.015625 45.921875 \r\nQ 28.375 48.1875 33.59375 48.1875 \r\nQ 44.578125 48.1875 50.953125 41.515625 \r\nQ 57.328125 34.859375 57.328125 23.390625 \r\nQ 57.328125 12.15625 50.6875 5.359375 \r\nQ 44.046875 -1.421875 33.015625 -1.421875 \r\nQ 20.359375 -1.421875 13.671875 8.265625 \r\nQ 6.984375 17.96875 6.984375 36.375 \r\nQ 6.984375 53.65625 15.1875 63.9375 \r\nQ 23.390625 74.21875 37.203125 74.21875 \r\nQ 40.921875 74.21875 44.703125 73.484375 \r\nQ 48.484375 72.75 52.59375 71.296875 \r\nz\r\n\" id=\"DejaVuSans-54\"/>\r\n      </defs>\r\n      <g transform=\"translate(13.5625 106.224545)scale(0.1 -0.1)\">\r\n       <use xlink:href=\"#DejaVuSans-54\"/>\r\n       <use x=\"63.623047\" xlink:href=\"#DejaVuSans-48\"/>\r\n       <use x=\"127.246094\" xlink:href=\"#DejaVuSans-48\"/>\r\n      </g>\r\n     </g>\r\n    </g>\r\n    <g id=\"ytick_5\">\r\n     <g id=\"line2d_8\">\r\n      <g>\r\n       <use style=\"stroke:#000000;stroke-width:0.8;\" x=\"39.65\" xlink:href=\"#mc060321fb5\" y=\"64.960527\"/>\r\n      </g>\r\n     </g>\r\n     <g id=\"text_8\">\r\n      <!-- 800 -->\r\n      <defs>\r\n       <path d=\"M 31.78125 34.625 \r\nQ 24.75 34.625 20.71875 30.859375 \r\nQ 16.703125 27.09375 16.703125 20.515625 \r\nQ 16.703125 13.921875 20.71875 10.15625 \r\nQ 24.75 6.390625 31.78125 6.390625 \r\nQ 38.8125 6.390625 42.859375 10.171875 \r\nQ 46.921875 13.96875 46.921875 20.515625 \r\nQ 46.921875 27.09375 42.890625 30.859375 \r\nQ 38.875 34.625 31.78125 34.625 \r\nz\r\nM 21.921875 38.8125 \r\nQ 15.578125 40.375 12.03125 44.71875 \r\nQ 8.5 49.078125 8.5 55.328125 \r\nQ 8.5 64.0625 14.71875 69.140625 \r\nQ 20.953125 74.21875 31.78125 74.21875 \r\nQ 42.671875 74.21875 48.875 69.140625 \r\nQ 55.078125 64.0625 55.078125 55.328125 \r\nQ 55.078125 49.078125 51.53125 44.71875 \r\nQ 48 40.375 41.703125 38.8125 \r\nQ 48.828125 37.15625 52.796875 32.3125 \r\nQ 56.78125 27.484375 56.78125 20.515625 \r\nQ 56.78125 9.90625 50.3125 4.234375 \r\nQ 43.84375 -1.421875 31.78125 -1.421875 \r\nQ 19.734375 -1.421875 13.25 4.234375 \r\nQ 6.78125 9.90625 6.78125 20.515625 \r\nQ 6.78125 27.484375 10.78125 32.3125 \r\nQ 14.796875 37.15625 21.921875 38.8125 \r\nz\r\nM 18.3125 54.390625 \r\nQ 18.3125 48.734375 21.84375 45.5625 \r\nQ 25.390625 42.390625 31.78125 42.390625 \r\nQ 38.140625 42.390625 41.71875 45.5625 \r\nQ 45.3125 48.734375 45.3125 54.390625 \r\nQ 45.3125 60.0625 41.71875 63.234375 \r\nQ 38.140625 66.40625 31.78125 66.40625 \r\nQ 25.390625 66.40625 21.84375 63.234375 \r\nQ 18.3125 60.0625 18.3125 54.390625 \r\nz\r\n\" id=\"DejaVuSans-56\"/>\r\n      </defs>\r\n      <g transform=\"translate(13.5625 68.759746)scale(0.1 -0.1)\">\r\n       <use xlink:href=\"#DejaVuSans-56\"/>\r\n       <use x=\"63.623047\" xlink:href=\"#DejaVuSans-48\"/>\r\n       <use x=\"127.246094\" xlink:href=\"#DejaVuSans-48\"/>\r\n      </g>\r\n     </g>\r\n    </g>\r\n    <g id=\"ytick_6\">\r\n     <g id=\"line2d_9\">\r\n      <g>\r\n       <use style=\"stroke:#000000;stroke-width:0.8;\" x=\"39.65\" xlink:href=\"#mc060321fb5\" y=\"27.495728\"/>\r\n      </g>\r\n     </g>\r\n     <g id=\"text_9\">\r\n      <!-- 1000 -->\r\n      <defs>\r\n       <path d=\"M 12.40625 8.296875 \r\nL 28.515625 8.296875 \r\nL 28.515625 63.921875 \r\nL 10.984375 60.40625 \r\nL 10.984375 69.390625 \r\nL 28.421875 72.90625 \r\nL 38.28125 72.90625 \r\nL 38.28125 8.296875 \r\nL 54.390625 8.296875 \r\nL 54.390625 0 \r\nL 12.40625 0 \r\nz\r\n\" id=\"DejaVuSans-49\"/>\r\n      </defs>\r\n      <g transform=\"translate(7.2 31.294947)scale(0.1 -0.1)\">\r\n       <use xlink:href=\"#DejaVuSans-49\"/>\r\n       <use x=\"63.623047\" xlink:href=\"#DejaVuSans-48\"/>\r\n       <use x=\"127.246094\" xlink:href=\"#DejaVuSans-48\"/>\r\n       <use x=\"190.869141\" xlink:href=\"#DejaVuSans-48\"/>\r\n      </g>\r\n     </g>\r\n    </g>\r\n   </g>\r\n   <g id=\"line2d_10\">\r\n    <path clip-path=\"url(#p54599dd7f4)\" d=\"M 95.45 183.694503 \r\nL 95.45 214.530473 \r\n\" style=\"fill:none;stroke:#3d3d3d;stroke-linecap:square;stroke-width:1.5;\"/>\r\n   </g>\r\n   <g id=\"line2d_11\">\r\n    <path clip-path=\"url(#p54599dd7f4)\" d=\"M 95.45 111.407309 \r\nL 95.45 22.078943 \r\n\" style=\"fill:none;stroke:#3d3d3d;stroke-linecap:square;stroke-width:1.5;\"/>\r\n   </g>\r\n   <g id=\"line2d_12\">\r\n    <path clip-path=\"url(#p54599dd7f4)\" d=\"M 73.13 214.530473 \r\nL 117.77 214.530473 \r\n\" style=\"fill:none;stroke:#3d3d3d;stroke-linecap:square;stroke-width:1.5;\"/>\r\n   </g>\r\n   <g id=\"line2d_13\">\r\n    <path clip-path=\"url(#p54599dd7f4)\" d=\"M 73.13 22.078943 \r\nL 117.77 22.078943 \r\n\" style=\"fill:none;stroke:#3d3d3d;stroke-linecap:square;stroke-width:1.5;\"/>\r\n   </g>\r\n   <g id=\"line2d_14\"/>\r\n   <g id=\"line2d_15\">\r\n    <path clip-path=\"url(#p54599dd7f4)\" d=\"M 207.05 183.860316 \r\nL 207.05 214.756364 \r\n\" style=\"fill:none;stroke:#3d3d3d;stroke-linecap:square;stroke-width:1.5;\"/>\r\n   </g>\r\n   <g id=\"line2d_16\">\r\n    <path clip-path=\"url(#p54599dd7f4)\" d=\"M 207.05 91.775841 \r\nL 207.05 17.083636 \r\n\" style=\"fill:none;stroke:#3d3d3d;stroke-linecap:square;stroke-width:1.5;\"/>\r\n   </g>\r\n   <g id=\"line2d_17\">\r\n    <path clip-path=\"url(#p54599dd7f4)\" d=\"M 184.73 214.756364 \r\nL 229.37 214.756364 \r\n\" style=\"fill:none;stroke:#3d3d3d;stroke-linecap:square;stroke-width:1.5;\"/>\r\n   </g>\r\n   <g id=\"line2d_18\">\r\n    <path clip-path=\"url(#p54599dd7f4)\" d=\"M 184.73 17.083636 \r\nL 229.37 17.083636 \r\n\" style=\"fill:none;stroke:#3d3d3d;stroke-linecap:square;stroke-width:1.5;\"/>\r\n   </g>\r\n   <g id=\"line2d_19\"/>\r\n   <g id=\"line2d_20\">\r\n    <path clip-path=\"url(#p54599dd7f4)\" d=\"M 318.65 177.354924 \r\nL 318.65 214.299379 \r\n\" style=\"fill:none;stroke:#3d3d3d;stroke-linecap:square;stroke-width:1.5;\"/>\r\n   </g>\r\n   <g id=\"line2d_21\">\r\n    <path clip-path=\"url(#p54599dd7f4)\" d=\"M 318.65 114.393248 \r\nL 318.65 25.934695 \r\n\" style=\"fill:none;stroke:#3d3d3d;stroke-linecap:square;stroke-width:1.5;\"/>\r\n   </g>\r\n   <g id=\"line2d_22\">\r\n    <path clip-path=\"url(#p54599dd7f4)\" d=\"M 296.33 214.299379 \r\nL 340.97 214.299379 \r\n\" style=\"fill:none;stroke:#3d3d3d;stroke-linecap:square;stroke-width:1.5;\"/>\r\n   </g>\r\n   <g id=\"line2d_23\">\r\n    <path clip-path=\"url(#p54599dd7f4)\" d=\"M 296.33 25.934695 \r\nL 340.97 25.934695 \r\n\" style=\"fill:none;stroke:#3d3d3d;stroke-linecap:square;stroke-width:1.5;\"/>\r\n   </g>\r\n   <g id=\"line2d_24\"/>\r\n   <g id=\"line2d_25\">\r\n    <path clip-path=\"url(#p54599dd7f4)\" d=\"M 50.81 148.587117 \r\nL 140.09 148.587117 \r\n\" style=\"fill:none;stroke:#3d3d3d;stroke-linecap:square;stroke-width:1.5;\"/>\r\n   </g>\r\n   <g id=\"line2d_26\">\r\n    <path clip-path=\"url(#p54599dd7f4)\" d=\"M 162.41 144.988014 \r\nL 251.69 144.988014 \r\n\" style=\"fill:none;stroke:#3d3d3d;stroke-linecap:square;stroke-width:1.5;\"/>\r\n   </g>\r\n   <g id=\"line2d_27\">\r\n    <path clip-path=\"url(#p54599dd7f4)\" d=\"M 274.01 146.134258 \r\nL 363.29 146.134258 \r\n\" style=\"fill:none;stroke:#3d3d3d;stroke-linecap:square;stroke-width:1.5;\"/>\r\n   </g>\r\n   <g id=\"patch_6\">\r\n    <path d=\"M 39.65 224.64 \r\nL 39.65 7.2 \r\n\" style=\"fill:none;stroke:#000000;stroke-linecap:square;stroke-linejoin:miter;stroke-width:0.8;\"/>\r\n   </g>\r\n   <g id=\"patch_7\">\r\n    <path d=\"M 374.45 224.64 \r\nL 374.45 7.2 \r\n\" style=\"fill:none;stroke:#000000;stroke-linecap:square;stroke-linejoin:miter;stroke-width:0.8;\"/>\r\n   </g>\r\n   <g id=\"patch_8\">\r\n    <path d=\"M 39.65 224.64 \r\nL 374.45 224.64 \r\n\" style=\"fill:none;stroke:#000000;stroke-linecap:square;stroke-linejoin:miter;stroke-width:0.8;\"/>\r\n   </g>\r\n   <g id=\"patch_9\">\r\n    <path d=\"M 39.65 7.2 \r\nL 374.45 7.2 \r\n\" style=\"fill:none;stroke:#000000;stroke-linecap:square;stroke-linejoin:miter;stroke-width:0.8;\"/>\r\n   </g>\r\n  </g>\r\n </g>\r\n <defs>\r\n  <clipPath id=\"p54599dd7f4\">\r\n   <rect height=\"217.44\" width=\"334.8\" x=\"39.65\" y=\"7.2\"/>\r\n  </clipPath>\r\n </defs>\r\n</svg>\r\n",
      "image/png": "[encoded data removed]"
     },
     "metadata": {
      "needs_background": "light"
     }
    }
   ],
   "source": [
    "sns.boxplot(data = thinkmore[[\"env_slopesolar\", \"env_levelsolar\", \"match_solar\"]])"
   ]
  },
  {
   "cell_type": "code",
   "execution_count": 34,
   "metadata": {},
   "outputs": [],
   "source": [
    "# from sklearn.model_selection import train_test_split\n",
    "# from scipy import stats\n",
    "# from sklearn.linear_model import LinearRegression\n",
    "\n",
    "# x_train, x_test , y_train, y_test = train_test_split(thinkmore[\"match_solar\"], thinkmore[\"pow_totpower\"], test_size=0.25, shuffle=True, random_state=42)\n",
    "\n",
    "# x_train_set = x_train.to_numpy()\n",
    "# x_train_set = x_train_set.reshape(-1, 1)\n",
    "# y_train_set = y_train.to_numpy()\n",
    "# y_train_set = y_train_set.reshape(-1, 1)\n",
    "# x_test_set = x_test.to_numpy()\n",
    "# x_test_set = x_test_set.reshape(-1, 1)\n",
    "# y_test_set = y_test.to_numpy()\n",
    "# y_test_set = y_test_set.reshape(-1, 1)\n",
    "\n",
    "# # print(x_train_set)\n",
    "# my_model = LinearRegression()\n",
    "# my_model.fit(x_train_set,y_train_set)\n",
    "# predY_in = my_model.predict(x_train_set)\n",
    "# predY_out = my_model.predict(x_test_set)\n",
    "\n",
    "# metrics.mean_squared_error(y_train_set, predY_in)\n",
    "# # my_model = smf.ols(formula = \"pow_totpower ~ match_solar\", data=thinkmore)\n",
    "# # my_model = my_model.fit()\n",
    "# # my_model.summary()\n"
   ]
  },
  {
   "cell_type": "code",
   "execution_count": null,
   "metadata": {},
   "outputs": [],
   "source": []
  }
 ]
}