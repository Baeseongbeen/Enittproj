{
 "metadata": {
  "language_info": {
   "codemirror_mode": {
    "name": "ipython",
    "version": 3
   },
   "file_extension": ".py",
   "mimetype": "text/x-python",
   "name": "python",
   "nbconvert_exporter": "python",
   "pygments_lexer": "ipython3",
   "version": "3.7.6-final"
  },
  "orig_nbformat": 2,
  "kernelspec": {
   "name": "python3",
   "display_name": "Python 3"
  }
 },
 "nbformat": 4,
 "nbformat_minor": 2,
 "cells": [
  {
   "cell_type": "code",
   "execution_count": 1,
   "metadata": {},
   "outputs": [
    {
     "output_type": "execute_result",
     "data": {
      "text/plain": [
       "'c:\\\\Users\\\\seong\\\\Desktop\\\\Enittproj\\\\Enitt'"
      ]
     },
     "metadata": {},
     "execution_count": 1
    }
   ],
   "source": [
    "import pandas as pd \n",
    "import numpy as np \n",
    "import matplotlib.pyplot as plt\n",
    "import plotly\n",
    "import plotly.graph_objs as go # 그래프 객체 생성\n",
    "from plotly.subplots import make_subplots\n",
    "import datetime\n",
    "import seaborn as sns \n",
    "import scipy.stats\n",
    "import plotly.express as px\n",
    "import os \n",
    "from scipy import stats\n",
    "from sklearn import metrics\n",
    "import statsmodels.formula.api as smf\n",
    "import scipy.stats as st\n",
    "import pylab\n",
    "import csv\n",
    "\n",
    "os.getcwd()"
   ]
  },
  {
   "cell_type": "code",
   "execution_count": 2,
   "metadata": {},
   "outputs": [
    {
     "output_type": "execute_result",
     "data": {
      "text/plain": [
       "        env_index    env_date  env_time  env_slopesolar  env_levelsolar  \\\n",
       "0               1  2018-10-22  12:44:29             322             316   \n",
       "1               2  2018-10-22  12:45:21             320             314   \n",
       "2               3  2018-10-22  12:46:12             320             312   \n",
       "3               4  2018-10-22  12:47:04             326             319   \n",
       "4               5  2018-10-22  12:47:56             335             329   \n",
       "...           ...         ...       ...             ...             ...   \n",
       "615430     683664  2020-10-22  23:19:00               0               0   \n",
       "615431     683665  2020-10-22  23:23:57               0               0   \n",
       "615432     683666  2020-10-22  23:28:53               0               0   \n",
       "615433     683667  2020-10-22  23:33:49               0               0   \n",
       "615434     683668  2020-10-22  23:38:46               0               0   \n",
       "\n",
       "        env_modtemp  env_airtemp  \n",
       "0              24.8         17.6  \n",
       "1              25.0         17.7  \n",
       "2              25.1         17.9  \n",
       "3              24.9         18.1  \n",
       "4              24.9         18.0  \n",
       "...             ...          ...  \n",
       "615430          6.7          8.1  \n",
       "615431          6.7          8.0  \n",
       "615432          6.7          8.0  \n",
       "615433          6.7          8.0  \n",
       "615434          6.7          8.0  \n",
       "\n",
       "[615435 rows x 7 columns]"
      ],
      "text/html": "<div>\n<style scoped>\n    .dataframe tbody tr th:only-of-type {\n        vertical-align: middle;\n    }\n\n    .dataframe tbody tr th {\n        vertical-align: top;\n    }\n\n    .dataframe thead th {\n        text-align: right;\n    }\n</style>\n<table border=\"1\" class=\"dataframe\">\n  <thead>\n    <tr style=\"text-align: right;\">\n      <th></th>\n      <th>env_index</th>\n      <th>env_date</th>\n      <th>env_time</th>\n      <th>env_slopesolar</th>\n      <th>env_levelsolar</th>\n      <th>env_modtemp</th>\n      <th>env_airtemp</th>\n    </tr>\n  </thead>\n  <tbody>\n    <tr>\n      <th>0</th>\n      <td>1</td>\n      <td>2018-10-22</td>\n      <td>12:44:29</td>\n      <td>322</td>\n      <td>316</td>\n      <td>24.8</td>\n      <td>17.6</td>\n    </tr>\n    <tr>\n      <th>1</th>\n      <td>2</td>\n      <td>2018-10-22</td>\n      <td>12:45:21</td>\n      <td>320</td>\n      <td>314</td>\n      <td>25.0</td>\n      <td>17.7</td>\n    </tr>\n    <tr>\n      <th>2</th>\n      <td>3</td>\n      <td>2018-10-22</td>\n      <td>12:46:12</td>\n      <td>320</td>\n      <td>312</td>\n      <td>25.1</td>\n      <td>17.9</td>\n    </tr>\n    <tr>\n      <th>3</th>\n      <td>4</td>\n      <td>2018-10-22</td>\n      <td>12:47:04</td>\n      <td>326</td>\n      <td>319</td>\n      <td>24.9</td>\n      <td>18.1</td>\n    </tr>\n    <tr>\n      <th>4</th>\n      <td>5</td>\n      <td>2018-10-22</td>\n      <td>12:47:56</td>\n      <td>335</td>\n      <td>329</td>\n      <td>24.9</td>\n      <td>18.0</td>\n    </tr>\n    <tr>\n      <th>...</th>\n      <td>...</td>\n      <td>...</td>\n      <td>...</td>\n      <td>...</td>\n      <td>...</td>\n      <td>...</td>\n      <td>...</td>\n    </tr>\n    <tr>\n      <th>615430</th>\n      <td>683664</td>\n      <td>2020-10-22</td>\n      <td>23:19:00</td>\n      <td>0</td>\n      <td>0</td>\n      <td>6.7</td>\n      <td>8.1</td>\n    </tr>\n    <tr>\n      <th>615431</th>\n      <td>683665</td>\n      <td>2020-10-22</td>\n      <td>23:23:57</td>\n      <td>0</td>\n      <td>0</td>\n      <td>6.7</td>\n      <td>8.0</td>\n    </tr>\n    <tr>\n      <th>615432</th>\n      <td>683666</td>\n      <td>2020-10-22</td>\n      <td>23:28:53</td>\n      <td>0</td>\n      <td>0</td>\n      <td>6.7</td>\n      <td>8.0</td>\n    </tr>\n    <tr>\n      <th>615433</th>\n      <td>683667</td>\n      <td>2020-10-22</td>\n      <td>23:33:49</td>\n      <td>0</td>\n      <td>0</td>\n      <td>6.7</td>\n      <td>8.0</td>\n    </tr>\n    <tr>\n      <th>615434</th>\n      <td>683668</td>\n      <td>2020-10-22</td>\n      <td>23:38:46</td>\n      <td>0</td>\n      <td>0</td>\n      <td>6.7</td>\n      <td>8.0</td>\n    </tr>\n  </tbody>\n</table>\n<p>615435 rows × 7 columns</p>\n</div>"
     },
     "metadata": {},
     "execution_count": 2
    }
   ],
   "source": [
    "## merge 1, 2 데이터\n",
    "data1 = pd.read_csv(\"./ENITT_SOLAR_DATA/ENITT_SOLAR_DATA/A365. 반포써밋2블럭 발전량.csv\", encoding=\"ms949\")\n",
    "data2 = pd.read_csv(\"./ENITT_SOLAR_DATA/ENITT_SOLAR_DATA/365. 반포써밋2블럭 발전량.csv\", encoding=\"ms949\")\n",
    "data3 = pd.read_csv(\"./ENITT_SOLAR_DATA/ENITT_SOLAR_DATA/A365. 반포써밋2블럭 환경센서.csv\", encoding=\"ms949\")\n",
    "data4 = pd.read_csv(\"./ENITT_SOLAR_DATA/ENITT_SOLAR_DATA/365. 반포써밋2블럭 환경정보.csv\", encoding=\"ms949\")\n",
    "\n",
    "\n",
    "\n",
    "data_12 = pd.concat([data2, data1])\n",
    "data_34 = pd.concat([data4, data3])\n",
    "ent_data_solar = data_12.reset_index().drop('index', axis=1)\n",
    "ent_data_solar\n",
    "\n",
    "ent_data_weather = data_34.reset_index().drop('index', axis=1)\n",
    "ent_data_weather"
   ]
  },
  {
   "cell_type": "code",
   "execution_count": 3,
   "metadata": {},
   "outputs": [
    {
     "output_type": "execute_result",
     "data": {
      "text/plain": [
       "        env_index    env_date  env_time  env_slopesolar  env_levelsolar  \\\n",
       "0               1  2018-10-22  12:44:29             322             316   \n",
       "1               2  2018-10-22  12:45:21             320             314   \n",
       "2               3  2018-10-22  12:46:12             320             312   \n",
       "3               4  2018-10-22  12:47:04             326             319   \n",
       "4               5  2018-10-22  12:47:56             335             329   \n",
       "...           ...         ...       ...             ...             ...   \n",
       "615430     683664  2020-10-22  23:19:00               0               0   \n",
       "615431     683665  2020-10-22  23:23:57               0               0   \n",
       "615432     683666  2020-10-22  23:28:53               0               0   \n",
       "615433     683667  2020-10-22  23:33:49               0               0   \n",
       "615434     683668  2020-10-22  23:38:46               0               0   \n",
       "\n",
       "        env_modtemp  env_airtemp  \n",
       "0              24.8         17.6  \n",
       "1              25.0         17.7  \n",
       "2              25.1         17.9  \n",
       "3              24.9         18.1  \n",
       "4              24.9         18.0  \n",
       "...             ...          ...  \n",
       "615430          6.7          8.1  \n",
       "615431          6.7          8.0  \n",
       "615432          6.7          8.0  \n",
       "615433          6.7          8.0  \n",
       "615434          6.7          8.0  \n",
       "\n",
       "[615435 rows x 7 columns]"
      ],
      "text/html": "<div>\n<style scoped>\n    .dataframe tbody tr th:only-of-type {\n        vertical-align: middle;\n    }\n\n    .dataframe tbody tr th {\n        vertical-align: top;\n    }\n\n    .dataframe thead th {\n        text-align: right;\n    }\n</style>\n<table border=\"1\" class=\"dataframe\">\n  <thead>\n    <tr style=\"text-align: right;\">\n      <th></th>\n      <th>env_index</th>\n      <th>env_date</th>\n      <th>env_time</th>\n      <th>env_slopesolar</th>\n      <th>env_levelsolar</th>\n      <th>env_modtemp</th>\n      <th>env_airtemp</th>\n    </tr>\n  </thead>\n  <tbody>\n    <tr>\n      <th>0</th>\n      <td>1</td>\n      <td>2018-10-22</td>\n      <td>12:44:29</td>\n      <td>322</td>\n      <td>316</td>\n      <td>24.8</td>\n      <td>17.6</td>\n    </tr>\n    <tr>\n      <th>1</th>\n      <td>2</td>\n      <td>2018-10-22</td>\n      <td>12:45:21</td>\n      <td>320</td>\n      <td>314</td>\n      <td>25.0</td>\n      <td>17.7</td>\n    </tr>\n    <tr>\n      <th>2</th>\n      <td>3</td>\n      <td>2018-10-22</td>\n      <td>12:46:12</td>\n      <td>320</td>\n      <td>312</td>\n      <td>25.1</td>\n      <td>17.9</td>\n    </tr>\n    <tr>\n      <th>3</th>\n      <td>4</td>\n      <td>2018-10-22</td>\n      <td>12:47:04</td>\n      <td>326</td>\n      <td>319</td>\n      <td>24.9</td>\n      <td>18.1</td>\n    </tr>\n    <tr>\n      <th>4</th>\n      <td>5</td>\n      <td>2018-10-22</td>\n      <td>12:47:56</td>\n      <td>335</td>\n      <td>329</td>\n      <td>24.9</td>\n      <td>18.0</td>\n    </tr>\n    <tr>\n      <th>...</th>\n      <td>...</td>\n      <td>...</td>\n      <td>...</td>\n      <td>...</td>\n      <td>...</td>\n      <td>...</td>\n      <td>...</td>\n    </tr>\n    <tr>\n      <th>615430</th>\n      <td>683664</td>\n      <td>2020-10-22</td>\n      <td>23:19:00</td>\n      <td>0</td>\n      <td>0</td>\n      <td>6.7</td>\n      <td>8.1</td>\n    </tr>\n    <tr>\n      <th>615431</th>\n      <td>683665</td>\n      <td>2020-10-22</td>\n      <td>23:23:57</td>\n      <td>0</td>\n      <td>0</td>\n      <td>6.7</td>\n      <td>8.0</td>\n    </tr>\n    <tr>\n      <th>615432</th>\n      <td>683666</td>\n      <td>2020-10-22</td>\n      <td>23:28:53</td>\n      <td>0</td>\n      <td>0</td>\n      <td>6.7</td>\n      <td>8.0</td>\n    </tr>\n    <tr>\n      <th>615433</th>\n      <td>683667</td>\n      <td>2020-10-22</td>\n      <td>23:33:49</td>\n      <td>0</td>\n      <td>0</td>\n      <td>6.7</td>\n      <td>8.0</td>\n    </tr>\n    <tr>\n      <th>615434</th>\n      <td>683668</td>\n      <td>2020-10-22</td>\n      <td>23:38:46</td>\n      <td>0</td>\n      <td>0</td>\n      <td>6.7</td>\n      <td>8.0</td>\n    </tr>\n  </tbody>\n</table>\n<p>615435 rows × 7 columns</p>\n</div>"
     },
     "metadata": {},
     "execution_count": 3
    }
   ],
   "source": [
    "## 파일불러오기 ( 추가데이터 포함되어 있는 것은 제외 )\n",
    "# def ent_loadfile(solar_path, weather_path):\n",
    "#     ent_data_solar = pd.read_csv(solar_path)\n",
    "#     ent_data_weather = pd.read_csv(weather_path)\n",
    "\n",
    "#     return ent_data_solar, ent_data_weather\n",
    "\n",
    "\n",
    "# ent_data_solar, ent_data_weather = ent_loadfile(\n",
    "#     \"./ENITT_SOLAR_DATA/ENITT_SOLAR_DATA/A365. 반포써밋2블럭 발전량.csv\", \n",
    "#     \"./ENITT_SOLAR_DATA/ENITT_SOLAR_DATA/A365. 반포써밋2블럭 환경센서.csv\")\n",
    "\n",
    "# ent_data_solar[\"pow_date\"].unique() ## 약 2018-11-26~ 2020-03-02 \n",
    "# ent_data_weather[\"env_date\"].unique() ## 약 2018-11-26 ~ 2020-03-03  \n",
    "\n",
    "# -> low data인 환경정보로 정리 필요 // \n",
    "\n",
    "## 외부데이터 불러오기 \n",
    "def other_loadfile(a, b, c): ## 임의로 수정 필요 \n",
    "    other_data_dummy1 = pd.read_csv(a, encoding=\"ms949\")\n",
    "    other_data_dummy2 = pd.read_csv(b, encoding=\"ms949\")\n",
    "    other_data_dummy3 = pd.read_csv(c, encoding=\"ms949\")\n",
    "\n",
    "    return other_data_dummy1, other_data_dummy2, other_data_dummy3\n",
    "\n",
    "other_data_dummy1, other_data_dummy2, other_data_dummy3 = other_loadfile(\n",
    "    \"./ENITT_SOLAR_DATA/re_allweather/allweather2018.csv\",\n",
    "    \"./ENITT_SOLAR_DATA/re_allweather/allweather2019.csv\",\n",
    "    \"./ENITT_SOLAR_DATA/re_allweather/allweather2020.csv\")\n",
    "\n",
    "\n",
    "other_data_dummyall = other_data_dummy1.merge(other_data_dummy2, how=\"outer\").merge(other_data_dummy3, how=\"outer\")\n",
    "other_data_weather = other_data_dummyall[other_data_dummyall[\"지점명\"] == \"수원\"]\n",
    "other_data_weather[\"지점명\"].unique()\n",
    "\n",
    "other_data_dummy1 = pd.read_csv(\"./ENITT_SOLAR_DATA/otherdata/otherdata.csv\", encoding=\"ms949\")\n",
    "other_data_solar = other_data_dummy1[other_data_dummy1[\"발전기명\"] == \"안산연성정수장태양광\"]\n",
    "other_data_solar[\"발전기명\"].unique()\n",
    "# 2019-06-16 13:00\n",
    "# ent_data_weather.loc[ent_data_weather[\"env_date\"] == \"2019-06-16\"]\n",
    "\n",
    "# print()\n",
    "ent_data_solar1 = ent_data_solar[ent_data_solar[\"pow_id\"] == 2]\n",
    "ent_data_weather\n"
   ]
  },
  {
   "cell_type": "code",
   "execution_count": 4,
   "metadata": {},
   "outputs": [
    {
     "output_type": "execute_result",
     "data": {
      "text/plain": [
       "                    기온  강수량   풍속     풍향    습도   일조   일사   적설   전운량  지중온도\n",
       "일시                                                                      \n",
       "2018-01-01 00:00  -1.8  0.0  2.0  290.0  43.0  0.0  0.0  0.0   0.0   0.0\n",
       "2018-01-01 01:00  -2.6  0.0  0.9  270.0  46.0  0.0  0.0  0.0   0.0   0.0\n",
       "2018-01-01 02:00  -3.0  0.0  1.1  320.0  48.0  0.0  0.0  0.0   0.0   0.0\n",
       "2018-01-01 03:00  -4.2  0.0  0.4    0.0  58.0  0.0  0.0  0.0   0.0   0.0\n",
       "2018-01-01 04:00  -5.3  0.0  0.0    0.0  65.0  0.0  0.0  0.0   0.0   0.0\n",
       "...                ...  ...  ...    ...   ...  ...  ...  ...   ...   ...\n",
       "2020-10-31 19:00  14.2  0.0  1.0  270.0  65.0  0.0  0.0  0.0   8.0   0.0\n",
       "2020-10-31 20:00  14.7  0.0  1.3  230.0  63.0  0.0  0.0  0.0  10.0   0.0\n",
       "2020-10-31 21:00  14.7  0.0  1.7  200.0  62.0  0.0  0.0  0.0   6.0   0.0\n",
       "2020-10-31 22:00  13.4  0.0  1.5  140.0  69.0  0.0  0.0  0.0   9.0   0.0\n",
       "2020-10-31 23:00  14.1  0.0  1.1  180.0  65.0  0.0  0.0  0.0   3.0   0.0\n",
       "\n",
       "[24838 rows x 10 columns]"
      ],
      "text/html": "<div>\n<style scoped>\n    .dataframe tbody tr th:only-of-type {\n        vertical-align: middle;\n    }\n\n    .dataframe tbody tr th {\n        vertical-align: top;\n    }\n\n    .dataframe thead th {\n        text-align: right;\n    }\n</style>\n<table border=\"1\" class=\"dataframe\">\n  <thead>\n    <tr style=\"text-align: right;\">\n      <th></th>\n      <th>기온</th>\n      <th>강수량</th>\n      <th>풍속</th>\n      <th>풍향</th>\n      <th>습도</th>\n      <th>일조</th>\n      <th>일사</th>\n      <th>적설</th>\n      <th>전운량</th>\n      <th>지중온도</th>\n    </tr>\n    <tr>\n      <th>일시</th>\n      <th></th>\n      <th></th>\n      <th></th>\n      <th></th>\n      <th></th>\n      <th></th>\n      <th></th>\n      <th></th>\n      <th></th>\n      <th></th>\n    </tr>\n  </thead>\n  <tbody>\n    <tr>\n      <th>2018-01-01 00:00</th>\n      <td>-1.8</td>\n      <td>0.0</td>\n      <td>2.0</td>\n      <td>290.0</td>\n      <td>43.0</td>\n      <td>0.0</td>\n      <td>0.0</td>\n      <td>0.0</td>\n      <td>0.0</td>\n      <td>0.0</td>\n    </tr>\n    <tr>\n      <th>2018-01-01 01:00</th>\n      <td>-2.6</td>\n      <td>0.0</td>\n      <td>0.9</td>\n      <td>270.0</td>\n      <td>46.0</td>\n      <td>0.0</td>\n      <td>0.0</td>\n      <td>0.0</td>\n      <td>0.0</td>\n      <td>0.0</td>\n    </tr>\n    <tr>\n      <th>2018-01-01 02:00</th>\n      <td>-3.0</td>\n      <td>0.0</td>\n      <td>1.1</td>\n      <td>320.0</td>\n      <td>48.0</td>\n      <td>0.0</td>\n      <td>0.0</td>\n      <td>0.0</td>\n      <td>0.0</td>\n      <td>0.0</td>\n    </tr>\n    <tr>\n      <th>2018-01-01 03:00</th>\n      <td>-4.2</td>\n      <td>0.0</td>\n      <td>0.4</td>\n      <td>0.0</td>\n      <td>58.0</td>\n      <td>0.0</td>\n      <td>0.0</td>\n      <td>0.0</td>\n      <td>0.0</td>\n      <td>0.0</td>\n    </tr>\n    <tr>\n      <th>2018-01-01 04:00</th>\n      <td>-5.3</td>\n      <td>0.0</td>\n      <td>0.0</td>\n      <td>0.0</td>\n      <td>65.0</td>\n      <td>0.0</td>\n      <td>0.0</td>\n      <td>0.0</td>\n      <td>0.0</td>\n      <td>0.0</td>\n    </tr>\n    <tr>\n      <th>...</th>\n      <td>...</td>\n      <td>...</td>\n      <td>...</td>\n      <td>...</td>\n      <td>...</td>\n      <td>...</td>\n      <td>...</td>\n      <td>...</td>\n      <td>...</td>\n      <td>...</td>\n    </tr>\n    <tr>\n      <th>2020-10-31 19:00</th>\n      <td>14.2</td>\n      <td>0.0</td>\n      <td>1.0</td>\n      <td>270.0</td>\n      <td>65.0</td>\n      <td>0.0</td>\n      <td>0.0</td>\n      <td>0.0</td>\n      <td>8.0</td>\n      <td>0.0</td>\n    </tr>\n    <tr>\n      <th>2020-10-31 20:00</th>\n      <td>14.7</td>\n      <td>0.0</td>\n      <td>1.3</td>\n      <td>230.0</td>\n      <td>63.0</td>\n      <td>0.0</td>\n      <td>0.0</td>\n      <td>0.0</td>\n      <td>10.0</td>\n      <td>0.0</td>\n    </tr>\n    <tr>\n      <th>2020-10-31 21:00</th>\n      <td>14.7</td>\n      <td>0.0</td>\n      <td>1.7</td>\n      <td>200.0</td>\n      <td>62.0</td>\n      <td>0.0</td>\n      <td>0.0</td>\n      <td>0.0</td>\n      <td>6.0</td>\n      <td>0.0</td>\n    </tr>\n    <tr>\n      <th>2020-10-31 22:00</th>\n      <td>13.4</td>\n      <td>0.0</td>\n      <td>1.5</td>\n      <td>140.0</td>\n      <td>69.0</td>\n      <td>0.0</td>\n      <td>0.0</td>\n      <td>0.0</td>\n      <td>9.0</td>\n      <td>0.0</td>\n    </tr>\n    <tr>\n      <th>2020-10-31 23:00</th>\n      <td>14.1</td>\n      <td>0.0</td>\n      <td>1.1</td>\n      <td>180.0</td>\n      <td>65.0</td>\n      <td>0.0</td>\n      <td>0.0</td>\n      <td>0.0</td>\n      <td>3.0</td>\n      <td>0.0</td>\n    </tr>\n  </tbody>\n</table>\n<p>24838 rows × 10 columns</p>\n</div>"
     },
     "metadata": {},
     "execution_count": 4
    }
   ],
   "source": [
    "## DELETE COLUMN AND EDIT COLUMN\n",
    "\n",
    "## '지점', '지점명', '일시', '기온(°C)', '강수량(mm)', '풍속(m/s)', '풍향(16방위)', '습도(%)','일조(hr)', '일사(MJ/m2)', '적설(cm)', '전운량(10분위)', '10cm 지중온도(°C)'\n",
    "#=>\n",
    "\n",
    "## '기온', '강수량', '풍속', '풍향', '습도', '일조', '일사', '전운량', '지면온도'\n",
    "reset_other_weather = other_data_weather.set_index(\"일시\")\n",
    "reset_other_weather_need = reset_other_weather[['기온(°C)', '강수량(mm)', '풍속(m/s)', '풍향(16방위)', '습도(%)','일조(hr)', '일사(MJ/m2)', '적설(cm)', '전운량(10분위)', '10cm 지중온도(°C)']]\n",
    "reset_other_weather_need.columns = ['기온', '강수량', '풍속', '풍향', '습도', '일조', '일사', '적설', '전운량', '지중온도']\n",
    "reset_other_weather_need.fillna(0, inplace=True)\n",
    "reset_other_weather_need\n",
    "\n"
   ]
  },
  {
   "cell_type": "code",
   "execution_count": 5,
   "metadata": {},
   "outputs": [
    {
     "output_type": "execute_result",
     "data": {
      "text/plain": [
       "                    env_date dummy_time  env_slopesolar  env_levelsolar  \\\n",
       "2018-10-22 12:00  2018-10-22         12      333.375000      321.937500   \n",
       "2018-10-22 13:00  2018-10-22         13      490.514286      563.442857   \n",
       "2018-10-22 14:00  2018-10-22         14      368.214286      426.042857   \n",
       "2018-10-22 15:00  2018-10-22         15      242.214286      294.400000   \n",
       "2018-10-22 16:00  2018-10-22         16      116.159420      132.362319   \n",
       "...                      ...        ...             ...             ...   \n",
       "2020-10-22 13:00  2020-10-22         13      591.000000      775.615385   \n",
       "2020-10-22 14:00  2020-10-22         14      491.916667      695.333333   \n",
       "2020-10-22 15:00  2020-10-22         15      385.500000      638.750000   \n",
       "2020-10-22 16:00  2020-10-22         16      154.000000      280.461538   \n",
       "2020-10-22 17:00  2020-10-22         17       11.166667       15.750000   \n",
       "\n",
       "                  env_modtemp  env_airtemp     pow_dcv   pow_dca         watt  \n",
       "2018-10-22 12:00    25.050000    17.881250  440.000000  5.634615  2478.961538  \n",
       "2018-10-22 13:00    28.157143    18.405714  437.610169  6.477966  2835.030508  \n",
       "2018-10-22 14:00    26.777143    19.221429  442.080645  4.809677  2121.775806  \n",
       "2018-10-22 15:00    21.861429    18.455714  452.500000  2.990323  1346.912903  \n",
       "2018-10-22 16:00    18.288406    17.346377  441.347826  1.184058   532.931884  \n",
       "...                       ...          ...         ...       ...          ...  \n",
       "2020-10-22 13:00    25.476923    16.830769  509.538462  0.000000     0.000000  \n",
       "2020-10-22 14:00    23.758333    17.483333  509.833333  0.000000     0.000000  \n",
       "2020-10-22 15:00    21.791667    17.800000  509.250000  0.000000     0.000000  \n",
       "2020-10-22 16:00    16.684615    15.915385  491.307692  0.000000     0.000000  \n",
       "2020-10-22 17:00    12.875000    13.850000  453.777778  0.000000     0.000000  \n",
       "\n",
       "[2732 rows x 9 columns]"
      ],
      "text/html": "<div>\n<style scoped>\n    .dataframe tbody tr th:only-of-type {\n        vertical-align: middle;\n    }\n\n    .dataframe tbody tr th {\n        vertical-align: top;\n    }\n\n    .dataframe thead th {\n        text-align: right;\n    }\n</style>\n<table border=\"1\" class=\"dataframe\">\n  <thead>\n    <tr style=\"text-align: right;\">\n      <th></th>\n      <th>env_date</th>\n      <th>dummy_time</th>\n      <th>env_slopesolar</th>\n      <th>env_levelsolar</th>\n      <th>env_modtemp</th>\n      <th>env_airtemp</th>\n      <th>pow_dcv</th>\n      <th>pow_dca</th>\n      <th>watt</th>\n    </tr>\n  </thead>\n  <tbody>\n    <tr>\n      <th>2018-10-22 12:00</th>\n      <td>2018-10-22</td>\n      <td>12</td>\n      <td>333.375000</td>\n      <td>321.937500</td>\n      <td>25.050000</td>\n      <td>17.881250</td>\n      <td>440.000000</td>\n      <td>5.634615</td>\n      <td>2478.961538</td>\n    </tr>\n    <tr>\n      <th>2018-10-22 13:00</th>\n      <td>2018-10-22</td>\n      <td>13</td>\n      <td>490.514286</td>\n      <td>563.442857</td>\n      <td>28.157143</td>\n      <td>18.405714</td>\n      <td>437.610169</td>\n      <td>6.477966</td>\n      <td>2835.030508</td>\n    </tr>\n    <tr>\n      <th>2018-10-22 14:00</th>\n      <td>2018-10-22</td>\n      <td>14</td>\n      <td>368.214286</td>\n      <td>426.042857</td>\n      <td>26.777143</td>\n      <td>19.221429</td>\n      <td>442.080645</td>\n      <td>4.809677</td>\n      <td>2121.775806</td>\n    </tr>\n    <tr>\n      <th>2018-10-22 15:00</th>\n      <td>2018-10-22</td>\n      <td>15</td>\n      <td>242.214286</td>\n      <td>294.400000</td>\n      <td>21.861429</td>\n      <td>18.455714</td>\n      <td>452.500000</td>\n      <td>2.990323</td>\n      <td>1346.912903</td>\n    </tr>\n    <tr>\n      <th>2018-10-22 16:00</th>\n      <td>2018-10-22</td>\n      <td>16</td>\n      <td>116.159420</td>\n      <td>132.362319</td>\n      <td>18.288406</td>\n      <td>17.346377</td>\n      <td>441.347826</td>\n      <td>1.184058</td>\n      <td>532.931884</td>\n    </tr>\n    <tr>\n      <th>...</th>\n      <td>...</td>\n      <td>...</td>\n      <td>...</td>\n      <td>...</td>\n      <td>...</td>\n      <td>...</td>\n      <td>...</td>\n      <td>...</td>\n      <td>...</td>\n    </tr>\n    <tr>\n      <th>2020-10-22 13:00</th>\n      <td>2020-10-22</td>\n      <td>13</td>\n      <td>591.000000</td>\n      <td>775.615385</td>\n      <td>25.476923</td>\n      <td>16.830769</td>\n      <td>509.538462</td>\n      <td>0.000000</td>\n      <td>0.000000</td>\n    </tr>\n    <tr>\n      <th>2020-10-22 14:00</th>\n      <td>2020-10-22</td>\n      <td>14</td>\n      <td>491.916667</td>\n      <td>695.333333</td>\n      <td>23.758333</td>\n      <td>17.483333</td>\n      <td>509.833333</td>\n      <td>0.000000</td>\n      <td>0.000000</td>\n    </tr>\n    <tr>\n      <th>2020-10-22 15:00</th>\n      <td>2020-10-22</td>\n      <td>15</td>\n      <td>385.500000</td>\n      <td>638.750000</td>\n      <td>21.791667</td>\n      <td>17.800000</td>\n      <td>509.250000</td>\n      <td>0.000000</td>\n      <td>0.000000</td>\n    </tr>\n    <tr>\n      <th>2020-10-22 16:00</th>\n      <td>2020-10-22</td>\n      <td>16</td>\n      <td>154.000000</td>\n      <td>280.461538</td>\n      <td>16.684615</td>\n      <td>15.915385</td>\n      <td>491.307692</td>\n      <td>0.000000</td>\n      <td>0.000000</td>\n    </tr>\n    <tr>\n      <th>2020-10-22 17:00</th>\n      <td>2020-10-22</td>\n      <td>17</td>\n      <td>11.166667</td>\n      <td>15.750000</td>\n      <td>12.875000</td>\n      <td>13.850000</td>\n      <td>453.777778</td>\n      <td>0.000000</td>\n      <td>0.000000</td>\n    </tr>\n  </tbody>\n</table>\n<p>2732 rows × 9 columns</p>\n</div>"
     },
     "metadata": {},
     "execution_count": 5
    }
   ],
   "source": [
    "## 기업 solar weather EDA -> 필요\n",
    "ent_data_weather.columns \n",
    "\n",
    "ent_data_weather[\"env_levelsolar\"].describe()\n",
    "ent_data_weather[\"env_slopesolar\"].describe()\n",
    "\n",
    "\n",
    "## 기업 날씨 데이터 1시간 별로 groupby , ( slopesolar, levelsolar => sum) , ( modtemp, airtemp => mean )\n",
    "def groupby_weather():\n",
    "    ## time 구분\n",
    "    dummy_time_list = []\n",
    "    for i in ent_data_weather[\"env_time\"]:\n",
    "        dummy_time_list.append(i[:2])\n",
    "\n",
    "    ent_data_weather[\"dummy_time\"] = dummy_time_list\n",
    "    dummy_groupbyall = ent_data_weather.groupby([\"env_date\", \"dummy_time\"]).mean()\n",
    "    ent_data_weather_groupby = dummy_groupbyall.reset_index() ## 그룹화된 인덱스 풀기 \n",
    "\n",
    "    ### 발전량이 거의 없는 데이터 삭제 ( 9~ 19 까지만 살린다)\n",
    "    drop_data = ent_data_weather_groupby.isin({\"dummy_time\" : [\"00\", \"01\", \"02\", \"03\", \"04\", \"05\", \"06\", \"07\",\"08\", \"19\", \"20\", \"21\", \"22\", \"23\"]})\n",
    "    ent_data_weather_sort = ent_data_weather_groupby[~drop_data].dropna()\n",
    "    # print(ent_data_weather_sort)\n",
    "    ent_data_weather_sort.drop(\"env_index\", axis=1, inplace=True)\n",
    "\n",
    "    return ent_data_weather_sort\n",
    "\n",
    "\n",
    "\n",
    "\n",
    "## 기업 발전량 데이터 groupby\n",
    "def groupby_solar():\n",
    "    ## 필요한 컬럼만 가져오기\n",
    "    ent_data_need = ent_data_solar1[[\"pow_date\", \"pow_time\", \"pow_totpower\"]]\n",
    "\n",
    "    ## time 구분\n",
    "    dummy_time_list = []\n",
    "    for i in ent_data_need[\"pow_time\"]:\n",
    "        dummy_time_list.append(i[:2])\n",
    "    ent_data_need[\"dummy_time\"] = dummy_time_list\n",
    "\n",
    "    dummy_groupby1 = ent_data_need.groupby([\"pow_date\", \"dummy_time\"]).min()\n",
    "    dummy_groupby2 = ent_data_need.groupby([\"pow_date\", \"dummy_time\"]).max()\n",
    "\n",
    "    ## 최대값과 최솟값 차 = 1시간동안 발전한 총용량\n",
    "    ## 최대값과 최솟값이 같을 경우 = 발전량 0 or 그 시간대 총발전량이 1개밖에 없어 비교 불가능한 경우\n",
    "    ent_data_perhour = dummy_groupby2[\"pow_totpower\"] - dummy_groupby1[\"pow_totpower\"]\n",
    "    ent_data_perhour = ent_data_perhour.reset_index()\n",
    "\n",
    "    ### 발전량이 거의 없는 데이터 삭제 ( 8~ 19 까지만 살린다)\n",
    "    drop_data = ent_data_perhour.isin({\"dummy_time\" : [\"00\", \"01\", \"02\", \"03\", \"04\", \"05\", \"06\", \"07\",\"08\", \"19\", \"20\", \"21\", \"22\", \"23\"]})\n",
    "    ent_data_perhour_sort = ent_data_perhour[~drop_data].dropna()\n",
    "\n",
    "    return ent_data_perhour_sort\n",
    "    # print(ent_data_perhour_sort[\"dummy_time\"].unique())\n",
    "\n",
    "\n",
    "def groupby_solar_reset():\n",
    "    ## 필요한 컬럼만 가져오기\n",
    "    ent_data_need = ent_data_solar1[[\"pow_date\", \"pow_time\", \"pow_dcv\", \"pow_dca\"]]\n",
    "\n",
    "    ## time 구분\n",
    "    dummy_time_list = []\n",
    "    for i in ent_data_need[\"pow_time\"]:\n",
    "        dummy_time_list.append(i[:2])\n",
    "    ent_data_need[\"dummy_time\"] = dummy_time_list\n",
    "\n",
    "    ent_data_need[\"watt\"] = ent_data_need[\"pow_dcv\"] * ent_data_need[\"pow_dca\"]\n",
    "\n",
    "    ## RESET 발전량 :: 직류 전압 X 직류 전류 : 발전량 ,, GROUPBY해서 직류X전류 의 평균량으로 구한다\n",
    "    ent_data_perhour = ent_data_need.groupby([\"pow_date\", \"dummy_time\"]).mean()\n",
    "    ent_data_perhour = ent_data_perhour.reset_index()\n",
    "\n",
    "\n",
    "    drop_data = ent_data_perhour.isin({\"dummy_time\" : [\"00\", \"01\", \"02\", \"03\", \"04\", \"05\", \"06\", \"07\",\"08\", \"19\", \"20\", \"21\", \"22\", \"23\"]})\n",
    "    ent_data_perhour_sort = ent_data_perhour[~drop_data].dropna()\n",
    "\n",
    "    return ent_data_perhour_sort\n",
    "\n",
    "### weather, solar join\n",
    "def join_weather_solar(a, b):\n",
    "    sub_index1 = a[\"env_date\"] + \" \" + a[\"dummy_time\"] + \":00\"\n",
    "    a.index = sub_index1\n",
    "\n",
    "    sub_index2 = b[\"pow_date\"] + \" \" + b[\"dummy_time\"] + \":00\"\n",
    "    b.index = sub_index2\n",
    "\n",
    "    joinset = a.join(b[[\"pow_dcv\", \"pow_dca\", \"watt\" ]])\n",
    "    ent_data_solar_weather = joinset.dropna()\n",
    "\n",
    "\n",
    "    return ent_data_solar_weather\n",
    "\n",
    "ent_data_weather_sort = groupby_weather()\n",
    "ent_data_perhour_sort = groupby_solar_reset()\n",
    "ent_data_solar_weather = join_weather_solar(ent_data_weather_sort, ent_data_perhour_sort)\n",
    "ent_data_solar_weather\n",
    "# pow_perhour \n",
    "# sns.boxplot(ent_data_weather_sort[\"env_slopesolar\"])\n",
    "# sns.boxplot(ent_data_weather_sort[\"env_levelsolar\"])\n",
    "# sns.boxplot(data = ent_data_weather_sort[[\"env_slopesolar\", \"env_levelsolar\"]])\n",
    "# ent_data_weather_sort[[\"env_slopesolar\", \"env_levelsolar\"]]\n",
    "\n",
    "# print(len(joinset) - 2504)\n"
   ]
  },
  {
   "cell_type": "code",
   "execution_count": 6,
   "metadata": {},
   "outputs": [],
   "source": [
    "## 기업, 공공 join\n",
    "\n",
    "join_ent_other = ent_data_solar_weather.join(reset_other_weather_need)\n",
    "join_ent_other[\"일사\"].fillna(0, inplace=True)\n",
    "# join_ent_other\n",
    "join_ent_other[\"match_solar\"] = join_ent_other[\"일사\"] * 1000000 / 3600\n",
    "join_ent_other_set = join_ent_other.drop([\"env_date\", \"dummy_time\"], axis=1)\n",
    "\n",
    "## csv로 저장\n",
    "join_ent_other_set.to_csv('banpo2_join.csv', encoding='utf-8')\n",
    "\n"
   ]
  },
  {
   "cell_type": "code",
   "execution_count": 7,
   "metadata": {},
   "outputs": [
    {
     "output_type": "stream",
     "name": "stdout",
     "text": [
      "1.2582581065880707\n-0.5072103256928833\n"
     ]
    },
    {
     "output_type": "display_data",
     "data": {
      "text/plain": "<Figure size 432x288 with 1 Axes>",
      "image/svg+xml": "<?xml version=\"1.0\" encoding=\"utf-8\" standalone=\"no\"?>\r\n<!DOCTYPE svg PUBLIC \"-//W3C//DTD SVG 1.1//EN\"\r\n  \"http://www.w3.org/Graphics/SVG/1.1/DTD/svg11.dtd\">\r\n<!-- Created with matplotlib (https://matplotlib.org/) -->\r\n<svg height=\"250.138987pt\" version=\"1.1\" viewBox=\"0 0 381.65 250.138987\" width=\"381.65pt\" xmlns=\"http://www.w3.org/2000/svg\" xmlns:xlink=\"http://www.w3.org/1999/xlink\">\r\n <defs>\r\n  <style type=\"text/css\">\r\n*{stroke-linecap:butt;stroke-linejoin:round;}\r\n  </style>\r\n </defs>\r\n <g id=\"figure_1\">\r\n  <g id=\"patch_1\">\r\n   <path d=\"M -0 250.138987 \r\nL 381.65 250.138987 \r\nL 381.65 0 \r\nL -0 0 \r\nz\r\n\" style=\"fill:none;\"/>\r\n  </g>\r\n  <g id=\"axes_1\">\r\n   <g id=\"patch_2\">\r\n    <path d=\"M 39.65 226.260862 \r\nL 374.45 226.260862 \r\nL 374.45 8.820862 \r\nL 39.65 8.820862 \r\nz\r\n\" style=\"fill:#ffffff;\"/>\r\n   </g>\r\n   <g id=\"patch_3\">\r\n    <path clip-path=\"url(#pb3283ec746)\" d=\"M 73.13 210.127489 \r\nL 340.97 210.127489 \r\nL 340.97 129.386431 \r\nL 73.13 129.386431 \r\nL 73.13 210.127489 \r\nz\r\n\" style=\"fill:#3274a1;stroke:#3f3f3f;stroke-linejoin:miter;stroke-width:1.5;\"/>\r\n   </g>\r\n   <g id=\"matplotlib.axis_1\">\r\n    <g id=\"xtick_1\">\r\n     <g id=\"line2d_1\">\r\n      <defs>\r\n       <path d=\"M 0 0 \r\nL 0 3.5 \r\n\" id=\"m094981780f\" style=\"stroke:#000000;stroke-width:0.8;\"/>\r\n      </defs>\r\n      <g>\r\n       <use style=\"stroke:#000000;stroke-width:0.8;\" x=\"207.05\" xlink:href=\"#m094981780f\" y=\"226.260862\"/>\r\n      </g>\r\n     </g>\r\n     <g id=\"text_1\">\r\n      <!-- 0 -->\r\n      <defs>\r\n       <path d=\"M 31.78125 66.40625 \r\nQ 24.171875 66.40625 20.328125 58.90625 \r\nQ 16.5 51.421875 16.5 36.375 \r\nQ 16.5 21.390625 20.328125 13.890625 \r\nQ 24.171875 6.390625 31.78125 6.390625 \r\nQ 39.453125 6.390625 43.28125 13.890625 \r\nQ 47.125 21.390625 47.125 36.375 \r\nQ 47.125 51.421875 43.28125 58.90625 \r\nQ 39.453125 66.40625 31.78125 66.40625 \r\nz\r\nM 31.78125 74.21875 \r\nQ 44.046875 74.21875 50.515625 64.515625 \r\nQ 56.984375 54.828125 56.984375 36.375 \r\nQ 56.984375 17.96875 50.515625 8.265625 \r\nQ 44.046875 -1.421875 31.78125 -1.421875 \r\nQ 19.53125 -1.421875 13.0625 8.265625 \r\nQ 6.59375 17.96875 6.59375 36.375 \r\nQ 6.59375 54.828125 13.0625 64.515625 \r\nQ 19.53125 74.21875 31.78125 74.21875 \r\nz\r\n\" id=\"DejaVuSans-48\"/>\r\n      </defs>\r\n      <g transform=\"translate(203.86875 240.8593)scale(0.1 -0.1)\">\r\n       <use xlink:href=\"#DejaVuSans-48\"/>\r\n      </g>\r\n     </g>\r\n    </g>\r\n   </g>\r\n   <g id=\"matplotlib.axis_2\">\r\n    <g id=\"ytick_1\">\r\n     <g id=\"line2d_2\">\r\n      <defs>\r\n       <path d=\"M 0 0 \r\nL -3.5 0 \r\n\" id=\"mc8b0d6802e\" style=\"stroke:#000000;stroke-width:0.8;\"/>\r\n      </defs>\r\n      <g>\r\n       <use style=\"stroke:#000000;stroke-width:0.8;\" x=\"39.65\" xlink:href=\"#mc8b0d6802e\" y=\"216.377226\"/>\r\n      </g>\r\n     </g>\r\n     <g id=\"text_2\">\r\n      <!-- 0 -->\r\n      <g transform=\"translate(26.2875 220.176445)scale(0.1 -0.1)\">\r\n       <use xlink:href=\"#DejaVuSans-48\"/>\r\n      </g>\r\n     </g>\r\n    </g>\r\n    <g id=\"ytick_2\">\r\n     <g id=\"line2d_3\">\r\n      <g>\r\n       <use style=\"stroke:#000000;stroke-width:0.8;\" x=\"39.65\" xlink:href=\"#mc8b0d6802e\" y=\"187.037511\"/>\r\n      </g>\r\n     </g>\r\n     <g id=\"text_3\">\r\n      <!-- 1000 -->\r\n      <defs>\r\n       <path d=\"M 12.40625 8.296875 \r\nL 28.515625 8.296875 \r\nL 28.515625 63.921875 \r\nL 10.984375 60.40625 \r\nL 10.984375 69.390625 \r\nL 28.421875 72.90625 \r\nL 38.28125 72.90625 \r\nL 38.28125 8.296875 \r\nL 54.390625 8.296875 \r\nL 54.390625 0 \r\nL 12.40625 0 \r\nz\r\n\" id=\"DejaVuSans-49\"/>\r\n      </defs>\r\n      <g transform=\"translate(7.2 190.836729)scale(0.1 -0.1)\">\r\n       <use xlink:href=\"#DejaVuSans-49\"/>\r\n       <use x=\"63.623047\" xlink:href=\"#DejaVuSans-48\"/>\r\n       <use x=\"127.246094\" xlink:href=\"#DejaVuSans-48\"/>\r\n       <use x=\"190.869141\" xlink:href=\"#DejaVuSans-48\"/>\r\n      </g>\r\n     </g>\r\n    </g>\r\n    <g id=\"ytick_3\">\r\n     <g id=\"line2d_4\">\r\n      <g>\r\n       <use style=\"stroke:#000000;stroke-width:0.8;\" x=\"39.65\" xlink:href=\"#mc8b0d6802e\" y=\"157.697795\"/>\r\n      </g>\r\n     </g>\r\n     <g id=\"text_4\">\r\n      <!-- 2000 -->\r\n      <defs>\r\n       <path d=\"M 19.1875 8.296875 \r\nL 53.609375 8.296875 \r\nL 53.609375 0 \r\nL 7.328125 0 \r\nL 7.328125 8.296875 \r\nQ 12.9375 14.109375 22.625 23.890625 \r\nQ 32.328125 33.6875 34.8125 36.53125 \r\nQ 39.546875 41.84375 41.421875 45.53125 \r\nQ 43.3125 49.21875 43.3125 52.78125 \r\nQ 43.3125 58.59375 39.234375 62.25 \r\nQ 35.15625 65.921875 28.609375 65.921875 \r\nQ 23.96875 65.921875 18.8125 64.3125 \r\nQ 13.671875 62.703125 7.8125 59.421875 \r\nL 7.8125 69.390625 \r\nQ 13.765625 71.78125 18.9375 73 \r\nQ 24.125 74.21875 28.421875 74.21875 \r\nQ 39.75 74.21875 46.484375 68.546875 \r\nQ 53.21875 62.890625 53.21875 53.421875 \r\nQ 53.21875 48.921875 51.53125 44.890625 \r\nQ 49.859375 40.875 45.40625 35.40625 \r\nQ 44.1875 33.984375 37.640625 27.21875 \r\nQ 31.109375 20.453125 19.1875 8.296875 \r\nz\r\n\" id=\"DejaVuSans-50\"/>\r\n      </defs>\r\n      <g transform=\"translate(7.2 161.497014)scale(0.1 -0.1)\">\r\n       <use xlink:href=\"#DejaVuSans-50\"/>\r\n       <use x=\"63.623047\" xlink:href=\"#DejaVuSans-48\"/>\r\n       <use x=\"127.246094\" xlink:href=\"#DejaVuSans-48\"/>\r\n       <use x=\"190.869141\" xlink:href=\"#DejaVuSans-48\"/>\r\n      </g>\r\n     </g>\r\n    </g>\r\n    <g id=\"ytick_4\">\r\n     <g id=\"line2d_5\">\r\n      <g>\r\n       <use style=\"stroke:#000000;stroke-width:0.8;\" x=\"39.65\" xlink:href=\"#mc8b0d6802e\" y=\"128.35808\"/>\r\n      </g>\r\n     </g>\r\n     <g id=\"text_5\">\r\n      <!-- 3000 -->\r\n      <defs>\r\n       <path d=\"M 40.578125 39.3125 \r\nQ 47.65625 37.796875 51.625 33 \r\nQ 55.609375 28.21875 55.609375 21.1875 \r\nQ 55.609375 10.40625 48.1875 4.484375 \r\nQ 40.765625 -1.421875 27.09375 -1.421875 \r\nQ 22.515625 -1.421875 17.65625 -0.515625 \r\nQ 12.796875 0.390625 7.625 2.203125 \r\nL 7.625 11.71875 \r\nQ 11.71875 9.328125 16.59375 8.109375 \r\nQ 21.484375 6.890625 26.8125 6.890625 \r\nQ 36.078125 6.890625 40.9375 10.546875 \r\nQ 45.796875 14.203125 45.796875 21.1875 \r\nQ 45.796875 27.640625 41.28125 31.265625 \r\nQ 36.765625 34.90625 28.71875 34.90625 \r\nL 20.21875 34.90625 \r\nL 20.21875 43.015625 \r\nL 29.109375 43.015625 \r\nQ 36.375 43.015625 40.234375 45.921875 \r\nQ 44.09375 48.828125 44.09375 54.296875 \r\nQ 44.09375 59.90625 40.109375 62.90625 \r\nQ 36.140625 65.921875 28.71875 65.921875 \r\nQ 24.65625 65.921875 20.015625 65.03125 \r\nQ 15.375 64.15625 9.8125 62.3125 \r\nL 9.8125 71.09375 \r\nQ 15.4375 72.65625 20.34375 73.4375 \r\nQ 25.25 74.21875 29.59375 74.21875 \r\nQ 40.828125 74.21875 47.359375 69.109375 \r\nQ 53.90625 64.015625 53.90625 55.328125 \r\nQ 53.90625 49.265625 50.4375 45.09375 \r\nQ 46.96875 40.921875 40.578125 39.3125 \r\nz\r\n\" id=\"DejaVuSans-51\"/>\r\n      </defs>\r\n      <g transform=\"translate(7.2 132.157299)scale(0.1 -0.1)\">\r\n       <use xlink:href=\"#DejaVuSans-51\"/>\r\n       <use x=\"63.623047\" xlink:href=\"#DejaVuSans-48\"/>\r\n       <use x=\"127.246094\" xlink:href=\"#DejaVuSans-48\"/>\r\n       <use x=\"190.869141\" xlink:href=\"#DejaVuSans-48\"/>\r\n      </g>\r\n     </g>\r\n    </g>\r\n    <g id=\"ytick_5\">\r\n     <g id=\"line2d_6\">\r\n      <g>\r\n       <use style=\"stroke:#000000;stroke-width:0.8;\" x=\"39.65\" xlink:href=\"#mc8b0d6802e\" y=\"99.018365\"/>\r\n      </g>\r\n     </g>\r\n     <g id=\"text_6\">\r\n      <!-- 4000 -->\r\n      <defs>\r\n       <path d=\"M 37.796875 64.3125 \r\nL 12.890625 25.390625 \r\nL 37.796875 25.390625 \r\nz\r\nM 35.203125 72.90625 \r\nL 47.609375 72.90625 \r\nL 47.609375 25.390625 \r\nL 58.015625 25.390625 \r\nL 58.015625 17.1875 \r\nL 47.609375 17.1875 \r\nL 47.609375 0 \r\nL 37.796875 0 \r\nL 37.796875 17.1875 \r\nL 4.890625 17.1875 \r\nL 4.890625 26.703125 \r\nz\r\n\" id=\"DejaVuSans-52\"/>\r\n      </defs>\r\n      <g transform=\"translate(7.2 102.817583)scale(0.1 -0.1)\">\r\n       <use xlink:href=\"#DejaVuSans-52\"/>\r\n       <use x=\"63.623047\" xlink:href=\"#DejaVuSans-48\"/>\r\n       <use x=\"127.246094\" xlink:href=\"#DejaVuSans-48\"/>\r\n       <use x=\"190.869141\" xlink:href=\"#DejaVuSans-48\"/>\r\n      </g>\r\n     </g>\r\n    </g>\r\n    <g id=\"ytick_6\">\r\n     <g id=\"line2d_7\">\r\n      <g>\r\n       <use style=\"stroke:#000000;stroke-width:0.8;\" x=\"39.65\" xlink:href=\"#mc8b0d6802e\" y=\"69.678649\"/>\r\n      </g>\r\n     </g>\r\n     <g id=\"text_7\">\r\n      <!-- 5000 -->\r\n      <defs>\r\n       <path d=\"M 10.796875 72.90625 \r\nL 49.515625 72.90625 \r\nL 49.515625 64.59375 \r\nL 19.828125 64.59375 \r\nL 19.828125 46.734375 \r\nQ 21.96875 47.46875 24.109375 47.828125 \r\nQ 26.265625 48.1875 28.421875 48.1875 \r\nQ 40.625 48.1875 47.75 41.5 \r\nQ 54.890625 34.8125 54.890625 23.390625 \r\nQ 54.890625 11.625 47.5625 5.09375 \r\nQ 40.234375 -1.421875 26.90625 -1.421875 \r\nQ 22.3125 -1.421875 17.546875 -0.640625 \r\nQ 12.796875 0.140625 7.71875 1.703125 \r\nL 7.71875 11.625 \r\nQ 12.109375 9.234375 16.796875 8.0625 \r\nQ 21.484375 6.890625 26.703125 6.890625 \r\nQ 35.15625 6.890625 40.078125 11.328125 \r\nQ 45.015625 15.765625 45.015625 23.390625 \r\nQ 45.015625 31 40.078125 35.4375 \r\nQ 35.15625 39.890625 26.703125 39.890625 \r\nQ 22.75 39.890625 18.8125 39.015625 \r\nQ 14.890625 38.140625 10.796875 36.28125 \r\nz\r\n\" id=\"DejaVuSans-53\"/>\r\n      </defs>\r\n      <g transform=\"translate(7.2 73.477868)scale(0.1 -0.1)\">\r\n       <use xlink:href=\"#DejaVuSans-53\"/>\r\n       <use x=\"63.623047\" xlink:href=\"#DejaVuSans-48\"/>\r\n       <use x=\"127.246094\" xlink:href=\"#DejaVuSans-48\"/>\r\n       <use x=\"190.869141\" xlink:href=\"#DejaVuSans-48\"/>\r\n      </g>\r\n     </g>\r\n    </g>\r\n    <g id=\"ytick_7\">\r\n     <g id=\"line2d_8\">\r\n      <g>\r\n       <use style=\"stroke:#000000;stroke-width:0.8;\" x=\"39.65\" xlink:href=\"#mc8b0d6802e\" y=\"40.338934\"/>\r\n      </g>\r\n     </g>\r\n     <g id=\"text_8\">\r\n      <!-- 6000 -->\r\n      <defs>\r\n       <path d=\"M 33.015625 40.375 \r\nQ 26.375 40.375 22.484375 35.828125 \r\nQ 18.609375 31.296875 18.609375 23.390625 \r\nQ 18.609375 15.53125 22.484375 10.953125 \r\nQ 26.375 6.390625 33.015625 6.390625 \r\nQ 39.65625 6.390625 43.53125 10.953125 \r\nQ 47.40625 15.53125 47.40625 23.390625 \r\nQ 47.40625 31.296875 43.53125 35.828125 \r\nQ 39.65625 40.375 33.015625 40.375 \r\nz\r\nM 52.59375 71.296875 \r\nL 52.59375 62.3125 \r\nQ 48.875 64.0625 45.09375 64.984375 \r\nQ 41.3125 65.921875 37.59375 65.921875 \r\nQ 27.828125 65.921875 22.671875 59.328125 \r\nQ 17.53125 52.734375 16.796875 39.40625 \r\nQ 19.671875 43.65625 24.015625 45.921875 \r\nQ 28.375 48.1875 33.59375 48.1875 \r\nQ 44.578125 48.1875 50.953125 41.515625 \r\nQ 57.328125 34.859375 57.328125 23.390625 \r\nQ 57.328125 12.15625 50.6875 5.359375 \r\nQ 44.046875 -1.421875 33.015625 -1.421875 \r\nQ 20.359375 -1.421875 13.671875 8.265625 \r\nQ 6.984375 17.96875 6.984375 36.375 \r\nQ 6.984375 53.65625 15.1875 63.9375 \r\nQ 23.390625 74.21875 37.203125 74.21875 \r\nQ 40.921875 74.21875 44.703125 73.484375 \r\nQ 48.484375 72.75 52.59375 71.296875 \r\nz\r\n\" id=\"DejaVuSans-54\"/>\r\n      </defs>\r\n      <g transform=\"translate(7.2 44.138153)scale(0.1 -0.1)\">\r\n       <use xlink:href=\"#DejaVuSans-54\"/>\r\n       <use x=\"63.623047\" xlink:href=\"#DejaVuSans-48\"/>\r\n       <use x=\"127.246094\" xlink:href=\"#DejaVuSans-48\"/>\r\n       <use x=\"190.869141\" xlink:href=\"#DejaVuSans-48\"/>\r\n      </g>\r\n     </g>\r\n    </g>\r\n    <g id=\"ytick_8\">\r\n     <g id=\"line2d_9\">\r\n      <g>\r\n       <use style=\"stroke:#000000;stroke-width:0.8;\" x=\"39.65\" xlink:href=\"#mc8b0d6802e\" y=\"10.999219\"/>\r\n      </g>\r\n     </g>\r\n     <g id=\"text_9\">\r\n      <!-- 7000 -->\r\n      <defs>\r\n       <path d=\"M 8.203125 72.90625 \r\nL 55.078125 72.90625 \r\nL 55.078125 68.703125 \r\nL 28.609375 0 \r\nL 18.3125 0 \r\nL 43.21875 64.59375 \r\nL 8.203125 64.59375 \r\nz\r\n\" id=\"DejaVuSans-55\"/>\r\n      </defs>\r\n      <g transform=\"translate(7.2 14.798437)scale(0.1 -0.1)\">\r\n       <use xlink:href=\"#DejaVuSans-55\"/>\r\n       <use x=\"63.623047\" xlink:href=\"#DejaVuSans-48\"/>\r\n       <use x=\"127.246094\" xlink:href=\"#DejaVuSans-48\"/>\r\n       <use x=\"190.869141\" xlink:href=\"#DejaVuSans-48\"/>\r\n      </g>\r\n     </g>\r\n    </g>\r\n   </g>\r\n   <g id=\"line2d_10\">\r\n    <path clip-path=\"url(#pb3283ec746)\" d=\"M 207.05 210.127489 \r\nL 207.05 216.377226 \r\n\" style=\"fill:none;stroke:#3f3f3f;stroke-linecap:square;stroke-width:1.5;\"/>\r\n   </g>\r\n   <g id=\"line2d_11\">\r\n    <path clip-path=\"url(#pb3283ec746)\" d=\"M 207.05 129.386431 \r\nL 207.05 18.704499 \r\n\" style=\"fill:none;stroke:#3f3f3f;stroke-linecap:square;stroke-width:1.5;\"/>\r\n   </g>\r\n   <g id=\"line2d_12\">\r\n    <path clip-path=\"url(#pb3283ec746)\" d=\"M 140.09 216.377226 \r\nL 274.01 216.377226 \r\n\" style=\"fill:none;stroke:#3f3f3f;stroke-linecap:square;stroke-width:1.5;\"/>\r\n   </g>\r\n   <g id=\"line2d_13\">\r\n    <path clip-path=\"url(#pb3283ec746)\" d=\"M 140.09 18.704499 \r\nL 274.01 18.704499 \r\n\" style=\"fill:none;stroke:#3f3f3f;stroke-linecap:square;stroke-width:1.5;\"/>\r\n   </g>\r\n   <g id=\"line2d_14\"/>\r\n   <g id=\"line2d_15\">\r\n    <path clip-path=\"url(#pb3283ec746)\" d=\"M 73.13 174.20258 \r\nL 340.97 174.20258 \r\n\" style=\"fill:none;stroke:#3f3f3f;stroke-linecap:square;stroke-width:1.5;\"/>\r\n   </g>\r\n   <g id=\"patch_4\">\r\n    <path d=\"M 39.65 226.260862 \r\nL 39.65 8.820862 \r\n\" style=\"fill:none;stroke:#000000;stroke-linecap:square;stroke-linejoin:miter;stroke-width:0.8;\"/>\r\n   </g>\r\n   <g id=\"patch_5\">\r\n    <path d=\"M 374.45 226.260862 \r\nL 374.45 8.820862 \r\n\" style=\"fill:none;stroke:#000000;stroke-linecap:square;stroke-linejoin:miter;stroke-width:0.8;\"/>\r\n   </g>\r\n   <g id=\"patch_6\">\r\n    <path d=\"M 39.65 226.260862 \r\nL 374.45 226.260862 \r\n\" style=\"fill:none;stroke:#000000;stroke-linecap:square;stroke-linejoin:miter;stroke-width:0.8;\"/>\r\n   </g>\r\n   <g id=\"patch_7\">\r\n    <path d=\"M 39.65 8.820862 \r\nL 374.45 8.820862 \r\n\" style=\"fill:none;stroke:#000000;stroke-linecap:square;stroke-linejoin:miter;stroke-width:0.8;\"/>\r\n   </g>\r\n  </g>\r\n </g>\r\n <defs>\r\n  <clipPath id=\"pb3283ec746\">\r\n   <rect height=\"217.44\" width=\"334.8\" x=\"39.65\" y=\"8.820862\"/>\r\n  </clipPath>\r\n </defs>\r\n</svg>\r\n",
      "image/png": "[encoded data removed]"
     },
     "metadata": {
      "needs_background": "light"
     }
    }
   ],
   "source": [
    "## 이상치 제거\n",
    "\n",
    "# sns.boxplot(data = join_ent_other_set[\"watt\"])\n",
    "\n",
    "\n",
    "import pandas as pd\n",
    "from scipy import stats\n",
    "\n",
    "# deleteoutlier = stats.zscore(join_ent_other_set[\"watt\"])\n",
    "# deleteoutlier\n",
    "deleteoutlier = stats.zscore(join_ent_other_set[\"watt\"])\n",
    "join_ent_other_set[\"z_score\"] = deleteoutlier\n",
    "\n",
    "join_ent_other_del = join_ent_other_set.loc[join_ent_other_set['z_score'].abs()<=3]\n",
    "join_ent_other_del.describe()\n",
    "sns.boxplot(data = join_ent_other_del[\"watt\"])\n",
    "# df.loc[df['z_score'].abs()<=3]\n",
    "print(join_ent_other_del['z_score'].max())\n",
    "print(join_ent_other_del['z_score'].min())\n",
    "## 다시 저장\n",
    "join_ent_other_del.to_csv('banpo1_join.csv', encoding='utf-8')"
   ]
  },
  {
   "cell_type": "code",
   "execution_count": 8,
   "metadata": {},
   "outputs": [
    {
     "output_type": "execute_result",
     "data": {
      "text/plain": [
       "       env_slopesolar  env_levelsolar  env_modtemp  env_airtemp      pow_dcv  \\\n",
       "count     2724.000000     2724.000000  2724.000000  2724.000000  2724.000000   \n",
       "mean       306.206161      381.325735    16.124687    10.656431   453.614906   \n",
       "std        229.324339      298.919041    12.367261    10.363853    34.795909   \n",
       "min          0.000000        0.000000   -12.568571   -14.415714   252.000000   \n",
       "25%         95.807143       99.423739     6.415962     2.317376   427.225776   \n",
       "50%        291.490476      337.027387    14.009275     9.058696   452.732143   \n",
       "75%        487.782609      643.655797    25.002158    19.131429   481.985507   \n",
       "max        987.333333     1028.100000    53.960000    37.808571   533.323077   \n",
       "\n",
       "           pow_dca         watt           기온          강수량           풍속  \\\n",
       "count  2724.000000  2724.000000  2724.000000  2724.000000  2724.000000   \n",
       "mean      3.800579  1746.521195    11.729369     0.120154     2.234875   \n",
       "std       3.466893  1547.959483     9.991389     1.137509     1.236548   \n",
       "min       0.000000     0.000000   -11.900000     0.000000     0.000000   \n",
       "25%       0.494442   213.012857     3.500000     0.000000     1.300000   \n",
       "50%       3.078193  1437.459286    10.600000     0.000000     2.100000   \n",
       "75%       6.210948  2964.950201    19.800000     0.000000     2.925000   \n",
       "max      16.072857  6737.377143    35.900000    28.700000    13.100000   \n",
       "\n",
       "                풍향           습도           일조           일사           적설  \\\n",
       "count  2724.000000  2724.000000  2724.000000  2724.000000  2724.000000   \n",
       "mean    204.019824    61.328928     0.646586     1.097643     0.021035   \n",
       "std      94.848746    19.446710     0.427909     0.711616     0.200023   \n",
       "min       0.000000    13.000000     0.000000     0.000000     0.000000   \n",
       "25%     110.000000    48.000000     0.100000     0.470000     0.000000   \n",
       "50%     230.000000    60.000000     0.900000     1.020000     0.000000   \n",
       "75%     290.000000    75.000000     1.000000     1.630000     0.000000   \n",
       "max     360.000000   100.000000     1.000000     3.290000     4.200000   \n",
       "\n",
       "               전운량         지중온도  match_solar      z_score  \n",
       "count  2724.000000  2724.000000  2724.000000  2724.000000  \n",
       "mean      4.779736     0.021916   304.900881    -0.049550  \n",
       "std       3.944708     0.809914   197.671121     0.405629  \n",
       "min       0.000000     0.000000     0.000000    -0.507210  \n",
       "25%       0.000000     0.000000   130.555556    -0.451392  \n",
       "50%       5.000000     0.000000   283.333333    -0.130537  \n",
       "75%       9.000000     0.000000   452.777778     0.269728  \n",
       "max      10.000000    31.500000   913.888889     1.258258  "
      ],
      "text/html": "<div>\n<style scoped>\n    .dataframe tbody tr th:only-of-type {\n        vertical-align: middle;\n    }\n\n    .dataframe tbody tr th {\n        vertical-align: top;\n    }\n\n    .dataframe thead th {\n        text-align: right;\n    }\n</style>\n<table border=\"1\" class=\"dataframe\">\n  <thead>\n    <tr style=\"text-align: right;\">\n      <th></th>\n      <th>env_slopesolar</th>\n      <th>env_levelsolar</th>\n      <th>env_modtemp</th>\n      <th>env_airtemp</th>\n      <th>pow_dcv</th>\n      <th>pow_dca</th>\n      <th>watt</th>\n      <th>기온</th>\n      <th>강수량</th>\n      <th>풍속</th>\n      <th>풍향</th>\n      <th>습도</th>\n      <th>일조</th>\n      <th>일사</th>\n      <th>적설</th>\n      <th>전운량</th>\n      <th>지중온도</th>\n      <th>match_solar</th>\n      <th>z_score</th>\n    </tr>\n  </thead>\n  <tbody>\n    <tr>\n      <th>count</th>\n      <td>2724.000000</td>\n      <td>2724.000000</td>\n      <td>2724.000000</td>\n      <td>2724.000000</td>\n      <td>2724.000000</td>\n      <td>2724.000000</td>\n      <td>2724.000000</td>\n      <td>2724.000000</td>\n      <td>2724.000000</td>\n      <td>2724.000000</td>\n      <td>2724.000000</td>\n      <td>2724.000000</td>\n      <td>2724.000000</td>\n      <td>2724.000000</td>\n      <td>2724.000000</td>\n      <td>2724.000000</td>\n      <td>2724.000000</td>\n      <td>2724.000000</td>\n      <td>2724.000000</td>\n    </tr>\n    <tr>\n      <th>mean</th>\n      <td>306.206161</td>\n      <td>381.325735</td>\n      <td>16.124687</td>\n      <td>10.656431</td>\n      <td>453.614906</td>\n      <td>3.800579</td>\n      <td>1746.521195</td>\n      <td>11.729369</td>\n      <td>0.120154</td>\n      <td>2.234875</td>\n      <td>204.019824</td>\n      <td>61.328928</td>\n      <td>0.646586</td>\n      <td>1.097643</td>\n      <td>0.021035</td>\n      <td>4.779736</td>\n      <td>0.021916</td>\n      <td>304.900881</td>\n      <td>-0.049550</td>\n    </tr>\n    <tr>\n      <th>std</th>\n      <td>229.324339</td>\n      <td>298.919041</td>\n      <td>12.367261</td>\n      <td>10.363853</td>\n      <td>34.795909</td>\n      <td>3.466893</td>\n      <td>1547.959483</td>\n      <td>9.991389</td>\n      <td>1.137509</td>\n      <td>1.236548</td>\n      <td>94.848746</td>\n      <td>19.446710</td>\n      <td>0.427909</td>\n      <td>0.711616</td>\n      <td>0.200023</td>\n      <td>3.944708</td>\n      <td>0.809914</td>\n      <td>197.671121</td>\n      <td>0.405629</td>\n    </tr>\n    <tr>\n      <th>min</th>\n      <td>0.000000</td>\n      <td>0.000000</td>\n      <td>-12.568571</td>\n      <td>-14.415714</td>\n      <td>252.000000</td>\n      <td>0.000000</td>\n      <td>0.000000</td>\n      <td>-11.900000</td>\n      <td>0.000000</td>\n      <td>0.000000</td>\n      <td>0.000000</td>\n      <td>13.000000</td>\n      <td>0.000000</td>\n      <td>0.000000</td>\n      <td>0.000000</td>\n      <td>0.000000</td>\n      <td>0.000000</td>\n      <td>0.000000</td>\n      <td>-0.507210</td>\n    </tr>\n    <tr>\n      <th>25%</th>\n      <td>95.807143</td>\n      <td>99.423739</td>\n      <td>6.415962</td>\n      <td>2.317376</td>\n      <td>427.225776</td>\n      <td>0.494442</td>\n      <td>213.012857</td>\n      <td>3.500000</td>\n      <td>0.000000</td>\n      <td>1.300000</td>\n      <td>110.000000</td>\n      <td>48.000000</td>\n      <td>0.100000</td>\n      <td>0.470000</td>\n      <td>0.000000</td>\n      <td>0.000000</td>\n      <td>0.000000</td>\n      <td>130.555556</td>\n      <td>-0.451392</td>\n    </tr>\n    <tr>\n      <th>50%</th>\n      <td>291.490476</td>\n      <td>337.027387</td>\n      <td>14.009275</td>\n      <td>9.058696</td>\n      <td>452.732143</td>\n      <td>3.078193</td>\n      <td>1437.459286</td>\n      <td>10.600000</td>\n      <td>0.000000</td>\n      <td>2.100000</td>\n      <td>230.000000</td>\n      <td>60.000000</td>\n      <td>0.900000</td>\n      <td>1.020000</td>\n      <td>0.000000</td>\n      <td>5.000000</td>\n      <td>0.000000</td>\n      <td>283.333333</td>\n      <td>-0.130537</td>\n    </tr>\n    <tr>\n      <th>75%</th>\n      <td>487.782609</td>\n      <td>643.655797</td>\n      <td>25.002158</td>\n      <td>19.131429</td>\n      <td>481.985507</td>\n      <td>6.210948</td>\n      <td>2964.950201</td>\n      <td>19.800000</td>\n      <td>0.000000</td>\n      <td>2.925000</td>\n      <td>290.000000</td>\n      <td>75.000000</td>\n      <td>1.000000</td>\n      <td>1.630000</td>\n      <td>0.000000</td>\n      <td>9.000000</td>\n      <td>0.000000</td>\n      <td>452.777778</td>\n      <td>0.269728</td>\n    </tr>\n    <tr>\n      <th>max</th>\n      <td>987.333333</td>\n      <td>1028.100000</td>\n      <td>53.960000</td>\n      <td>37.808571</td>\n      <td>533.323077</td>\n      <td>16.072857</td>\n      <td>6737.377143</td>\n      <td>35.900000</td>\n      <td>28.700000</td>\n      <td>13.100000</td>\n      <td>360.000000</td>\n      <td>100.000000</td>\n      <td>1.000000</td>\n      <td>3.290000</td>\n      <td>4.200000</td>\n      <td>10.000000</td>\n      <td>31.500000</td>\n      <td>913.888889</td>\n      <td>1.258258</td>\n    </tr>\n  </tbody>\n</table>\n</div>"
     },
     "metadata": {},
     "execution_count": 8
    }
   ],
   "source": [
    "join_ent_other_del.describe()"
   ]
  },
  {
   "cell_type": "code",
   "execution_count": 9,
   "metadata": {},
   "outputs": [
    {
     "output_type": "execute_result",
     "data": {
      "text/plain": [
       "                env_slopesolar  env_levelsolar  env_modtemp  env_airtemp  \\\n",
       "env_slopesolar        1.000000        0.938225     0.587746     0.242286   \n",
       "env_levelsolar        0.938225        1.000000     0.422314     0.082125   \n",
       "env_modtemp           0.587746        0.422314     1.000000     0.916749   \n",
       "env_airtemp           0.242286        0.082125     0.916749     1.000000   \n",
       "pow_dcv               0.344678        0.439152    -0.297187    -0.522830   \n",
       "pow_dca               0.876984        0.769211     0.576073     0.276957   \n",
       "watt                  0.883030        0.795342     0.524056     0.210757   \n",
       "기온                    0.210793        0.053356     0.896809     0.993407   \n",
       "강수량                  -0.100296       -0.104499     0.007853     0.049008   \n",
       "풍속                    0.052072        0.090368     0.020719     0.066360   \n",
       "풍향                    0.061039        0.158402    -0.167780    -0.179275   \n",
       "습도                   -0.285160       -0.426082     0.022430     0.128621   \n",
       "일조                    0.495995        0.586233     0.115958    -0.068921   \n",
       "일사                    0.827935        0.827862     0.576317     0.321629   \n",
       "적설                   -0.035924       -0.027881    -0.139748    -0.140025   \n",
       "전운량                  -0.381747       -0.507159     0.030536     0.186326   \n",
       "지중온도                 -0.001260       -0.005926     0.038314     0.047065   \n",
       "match_solar           0.827935        0.827862     0.576317     0.321629   \n",
       "z_score               0.883030        0.795342     0.524056     0.210757   \n",
       "\n",
       "                 pow_dcv   pow_dca      watt        기온       강수량        풍속  \\\n",
       "env_slopesolar  0.344678  0.876984  0.883030  0.210793 -0.100296  0.052072   \n",
       "env_levelsolar  0.439152  0.769211  0.795342  0.053356 -0.104499  0.090368   \n",
       "env_modtemp    -0.297187  0.576073  0.524056  0.896809  0.007853  0.020719   \n",
       "env_airtemp    -0.522830  0.276957  0.210757  0.993407  0.049008  0.066360   \n",
       "pow_dcv         1.000000  0.163111  0.236995 -0.542102 -0.099654 -0.078431   \n",
       "pow_dca         0.163111  1.000000  0.994672  0.249927 -0.079729  0.029733   \n",
       "watt            0.236995  0.994672  1.000000  0.184243 -0.083925  0.026864   \n",
       "기온             -0.542102  0.249927  0.184243  1.000000  0.059811  0.093605   \n",
       "강수량            -0.099654 -0.079729 -0.083925  0.059811  1.000000 -0.022893   \n",
       "풍속             -0.078431  0.029733  0.026864  0.093605 -0.022893  1.000000   \n",
       "풍향              0.149080 -0.008771  0.010477 -0.161542 -0.030398  0.303839   \n",
       "습도             -0.206938 -0.180297 -0.199989  0.118284  0.190121 -0.178689   \n",
       "일조              0.284185  0.386703  0.410043 -0.078833 -0.153474  0.141749   \n",
       "일사              0.181651  0.696452  0.693473  0.306885 -0.134052  0.206641   \n",
       "적설              0.013920 -0.084595 -0.084629 -0.138870  0.012324  0.086313   \n",
       "전운량            -0.317894 -0.264440 -0.298992  0.199020  0.136530 -0.073908   \n",
       "지중온도           -0.023379  0.002684  0.000698  0.046136 -0.002859 -0.001005   \n",
       "match_solar     0.181651  0.696452  0.693473  0.306885 -0.134052  0.206641   \n",
       "z_score         0.236995  0.994672  1.000000  0.184243 -0.083925  0.026864   \n",
       "\n",
       "                      풍향        습도        일조        일사        적설       전운량  \\\n",
       "env_slopesolar  0.061039 -0.285160  0.495995  0.827935 -0.035924 -0.381747   \n",
       "env_levelsolar  0.158402 -0.426082  0.586233  0.827862 -0.027881 -0.507159   \n",
       "env_modtemp    -0.167780  0.022430  0.115958  0.576317 -0.139748  0.030536   \n",
       "env_airtemp    -0.179275  0.128621 -0.068921  0.321629 -0.140025  0.186326   \n",
       "pow_dcv         0.149080 -0.206938  0.284185  0.181651  0.013920 -0.317894   \n",
       "pow_dca        -0.008771 -0.180297  0.386703  0.696452 -0.084595 -0.264440   \n",
       "watt            0.010477 -0.199989  0.410043  0.693473 -0.084629 -0.298992   \n",
       "기온             -0.161542  0.118284 -0.078833  0.306885 -0.138870  0.199020   \n",
       "강수량            -0.030398  0.190121 -0.153474 -0.134052  0.012324  0.136530   \n",
       "풍속              0.303839 -0.178689  0.141749  0.206641  0.086313 -0.073908   \n",
       "풍향              1.000000 -0.306549  0.294070  0.166101  0.034004 -0.285085   \n",
       "습도             -0.306549  1.000000 -0.550581 -0.453083  0.111468  0.477971   \n",
       "일조              0.294070 -0.550581  1.000000  0.651991 -0.032392 -0.806366   \n",
       "일사              0.166101 -0.453083  0.651991  1.000000 -0.040953 -0.433166   \n",
       "적설              0.034004  0.111468 -0.032392 -0.040953  1.000000  0.051440   \n",
       "전운량            -0.285085  0.477971 -0.806366 -0.433166  0.051440  1.000000   \n",
       "지중온도           -0.026833 -0.006061 -0.031939 -0.014801 -0.002847  0.010477   \n",
       "match_solar     0.166101 -0.453083  0.651991  1.000000 -0.040953 -0.433166   \n",
       "z_score         0.010477 -0.199989  0.410043  0.693473 -0.084629 -0.298992   \n",
       "\n",
       "                    지중온도  match_solar   z_score  \n",
       "env_slopesolar -0.001260     0.827935  0.883030  \n",
       "env_levelsolar -0.005926     0.827862  0.795342  \n",
       "env_modtemp     0.038314     0.576317  0.524056  \n",
       "env_airtemp     0.047065     0.321629  0.210757  \n",
       "pow_dcv        -0.023379     0.181651  0.236995  \n",
       "pow_dca         0.002684     0.696452  0.994672  \n",
       "watt            0.000698     0.693473  1.000000  \n",
       "기온              0.046136     0.306885  0.184243  \n",
       "강수량            -0.002859    -0.134052 -0.083925  \n",
       "풍속             -0.001005     0.206641  0.026864  \n",
       "풍향             -0.026833     0.166101  0.010477  \n",
       "습도             -0.006061    -0.453083 -0.199989  \n",
       "일조             -0.031939     0.651991  0.410043  \n",
       "일사             -0.014801     1.000000  0.693473  \n",
       "적설             -0.002847    -0.040953 -0.084629  \n",
       "전운량             0.010477    -0.433166 -0.298992  \n",
       "지중온도            1.000000    -0.014801  0.000698  \n",
       "match_solar    -0.014801     1.000000  0.693473  \n",
       "z_score         0.000698     0.693473  1.000000  "
      ],
      "text/html": "<div>\n<style scoped>\n    .dataframe tbody tr th:only-of-type {\n        vertical-align: middle;\n    }\n\n    .dataframe tbody tr th {\n        vertical-align: top;\n    }\n\n    .dataframe thead th {\n        text-align: right;\n    }\n</style>\n<table border=\"1\" class=\"dataframe\">\n  <thead>\n    <tr style=\"text-align: right;\">\n      <th></th>\n      <th>env_slopesolar</th>\n      <th>env_levelsolar</th>\n      <th>env_modtemp</th>\n      <th>env_airtemp</th>\n      <th>pow_dcv</th>\n      <th>pow_dca</th>\n      <th>watt</th>\n      <th>기온</th>\n      <th>강수량</th>\n      <th>풍속</th>\n      <th>풍향</th>\n      <th>습도</th>\n      <th>일조</th>\n      <th>일사</th>\n      <th>적설</th>\n      <th>전운량</th>\n      <th>지중온도</th>\n      <th>match_solar</th>\n      <th>z_score</th>\n    </tr>\n  </thead>\n  <tbody>\n    <tr>\n      <th>env_slopesolar</th>\n      <td>1.000000</td>\n      <td>0.938225</td>\n      <td>0.587746</td>\n      <td>0.242286</td>\n      <td>0.344678</td>\n      <td>0.876984</td>\n      <td>0.883030</td>\n      <td>0.210793</td>\n      <td>-0.100296</td>\n      <td>0.052072</td>\n      <td>0.061039</td>\n      <td>-0.285160</td>\n      <td>0.495995</td>\n      <td>0.827935</td>\n      <td>-0.035924</td>\n      <td>-0.381747</td>\n      <td>-0.001260</td>\n      <td>0.827935</td>\n      <td>0.883030</td>\n    </tr>\n    <tr>\n      <th>env_levelsolar</th>\n      <td>0.938225</td>\n      <td>1.000000</td>\n      <td>0.422314</td>\n      <td>0.082125</td>\n      <td>0.439152</td>\n      <td>0.769211</td>\n      <td>0.795342</td>\n      <td>0.053356</td>\n      <td>-0.104499</td>\n      <td>0.090368</td>\n      <td>0.158402</td>\n      <td>-0.426082</td>\n      <td>0.586233</td>\n      <td>0.827862</td>\n      <td>-0.027881</td>\n      <td>-0.507159</td>\n      <td>-0.005926</td>\n      <td>0.827862</td>\n      <td>0.795342</td>\n    </tr>\n    <tr>\n      <th>env_modtemp</th>\n      <td>0.587746</td>\n      <td>0.422314</td>\n      <td>1.000000</td>\n      <td>0.916749</td>\n      <td>-0.297187</td>\n      <td>0.576073</td>\n      <td>0.524056</td>\n      <td>0.896809</td>\n      <td>0.007853</td>\n      <td>0.020719</td>\n      <td>-0.167780</td>\n      <td>0.022430</td>\n      <td>0.115958</td>\n      <td>0.576317</td>\n      <td>-0.139748</td>\n      <td>0.030536</td>\n      <td>0.038314</td>\n      <td>0.576317</td>\n      <td>0.524056</td>\n    </tr>\n    <tr>\n      <th>env_airtemp</th>\n      <td>0.242286</td>\n      <td>0.082125</td>\n      <td>0.916749</td>\n      <td>1.000000</td>\n      <td>-0.522830</td>\n      <td>0.276957</td>\n      <td>0.210757</td>\n      <td>0.993407</td>\n      <td>0.049008</td>\n      <td>0.066360</td>\n      <td>-0.179275</td>\n      <td>0.128621</td>\n      <td>-0.068921</td>\n      <td>0.321629</td>\n      <td>-0.140025</td>\n      <td>0.186326</td>\n      <td>0.047065</td>\n      <td>0.321629</td>\n      <td>0.210757</td>\n    </tr>\n    <tr>\n      <th>pow_dcv</th>\n      <td>0.344678</td>\n      <td>0.439152</td>\n      <td>-0.297187</td>\n      <td>-0.522830</td>\n      <td>1.000000</td>\n      <td>0.163111</td>\n      <td>0.236995</td>\n      <td>-0.542102</td>\n      <td>-0.099654</td>\n      <td>-0.078431</td>\n      <td>0.149080</td>\n      <td>-0.206938</td>\n      <td>0.284185</td>\n      <td>0.181651</td>\n      <td>0.013920</td>\n      <td>-0.317894</td>\n      <td>-0.023379</td>\n      <td>0.181651</td>\n      <td>0.236995</td>\n    </tr>\n    <tr>\n      <th>pow_dca</th>\n      <td>0.876984</td>\n      <td>0.769211</td>\n      <td>0.576073</td>\n      <td>0.276957</td>\n      <td>0.163111</td>\n      <td>1.000000</td>\n      <td>0.994672</td>\n      <td>0.249927</td>\n      <td>-0.079729</td>\n      <td>0.029733</td>\n      <td>-0.008771</td>\n      <td>-0.180297</td>\n      <td>0.386703</td>\n      <td>0.696452</td>\n      <td>-0.084595</td>\n      <td>-0.264440</td>\n      <td>0.002684</td>\n      <td>0.696452</td>\n      <td>0.994672</td>\n    </tr>\n    <tr>\n      <th>watt</th>\n      <td>0.883030</td>\n      <td>0.795342</td>\n      <td>0.524056</td>\n      <td>0.210757</td>\n      <td>0.236995</td>\n      <td>0.994672</td>\n      <td>1.000000</td>\n      <td>0.184243</td>\n      <td>-0.083925</td>\n      <td>0.026864</td>\n      <td>0.010477</td>\n      <td>-0.199989</td>\n      <td>0.410043</td>\n      <td>0.693473</td>\n      <td>-0.084629</td>\n      <td>-0.298992</td>\n      <td>0.000698</td>\n      <td>0.693473</td>\n      <td>1.000000</td>\n    </tr>\n    <tr>\n      <th>기온</th>\n      <td>0.210793</td>\n      <td>0.053356</td>\n      <td>0.896809</td>\n      <td>0.993407</td>\n      <td>-0.542102</td>\n      <td>0.249927</td>\n      <td>0.184243</td>\n      <td>1.000000</td>\n      <td>0.059811</td>\n      <td>0.093605</td>\n      <td>-0.161542</td>\n      <td>0.118284</td>\n      <td>-0.078833</td>\n      <td>0.306885</td>\n      <td>-0.138870</td>\n      <td>0.199020</td>\n      <td>0.046136</td>\n      <td>0.306885</td>\n      <td>0.184243</td>\n    </tr>\n    <tr>\n      <th>강수량</th>\n      <td>-0.100296</td>\n      <td>-0.104499</td>\n      <td>0.007853</td>\n      <td>0.049008</td>\n      <td>-0.099654</td>\n      <td>-0.079729</td>\n      <td>-0.083925</td>\n      <td>0.059811</td>\n      <td>1.000000</td>\n      <td>-0.022893</td>\n      <td>-0.030398</td>\n      <td>0.190121</td>\n      <td>-0.153474</td>\n      <td>-0.134052</td>\n      <td>0.012324</td>\n      <td>0.136530</td>\n      <td>-0.002859</td>\n      <td>-0.134052</td>\n      <td>-0.083925</td>\n    </tr>\n    <tr>\n      <th>풍속</th>\n      <td>0.052072</td>\n      <td>0.090368</td>\n      <td>0.020719</td>\n      <td>0.066360</td>\n      <td>-0.078431</td>\n      <td>0.029733</td>\n      <td>0.026864</td>\n      <td>0.093605</td>\n      <td>-0.022893</td>\n      <td>1.000000</td>\n      <td>0.303839</td>\n      <td>-0.178689</td>\n      <td>0.141749</td>\n      <td>0.206641</td>\n      <td>0.086313</td>\n      <td>-0.073908</td>\n      <td>-0.001005</td>\n      <td>0.206641</td>\n      <td>0.026864</td>\n    </tr>\n    <tr>\n      <th>풍향</th>\n      <td>0.061039</td>\n      <td>0.158402</td>\n      <td>-0.167780</td>\n      <td>-0.179275</td>\n      <td>0.149080</td>\n      <td>-0.008771</td>\n      <td>0.010477</td>\n      <td>-0.161542</td>\n      <td>-0.030398</td>\n      <td>0.303839</td>\n      <td>1.000000</td>\n      <td>-0.306549</td>\n      <td>0.294070</td>\n      <td>0.166101</td>\n      <td>0.034004</td>\n      <td>-0.285085</td>\n      <td>-0.026833</td>\n      <td>0.166101</td>\n      <td>0.010477</td>\n    </tr>\n    <tr>\n      <th>습도</th>\n      <td>-0.285160</td>\n      <td>-0.426082</td>\n      <td>0.022430</td>\n      <td>0.128621</td>\n      <td>-0.206938</td>\n      <td>-0.180297</td>\n      <td>-0.199989</td>\n      <td>0.118284</td>\n      <td>0.190121</td>\n      <td>-0.178689</td>\n      <td>-0.306549</td>\n      <td>1.000000</td>\n      <td>-0.550581</td>\n      <td>-0.453083</td>\n      <td>0.111468</td>\n      <td>0.477971</td>\n      <td>-0.006061</td>\n      <td>-0.453083</td>\n      <td>-0.199989</td>\n    </tr>\n    <tr>\n      <th>일조</th>\n      <td>0.495995</td>\n      <td>0.586233</td>\n      <td>0.115958</td>\n      <td>-0.068921</td>\n      <td>0.284185</td>\n      <td>0.386703</td>\n      <td>0.410043</td>\n      <td>-0.078833</td>\n      <td>-0.153474</td>\n      <td>0.141749</td>\n      <td>0.294070</td>\n      <td>-0.550581</td>\n      <td>1.000000</td>\n      <td>0.651991</td>\n      <td>-0.032392</td>\n      <td>-0.806366</td>\n      <td>-0.031939</td>\n      <td>0.651991</td>\n      <td>0.410043</td>\n    </tr>\n    <tr>\n      <th>일사</th>\n      <td>0.827935</td>\n      <td>0.827862</td>\n      <td>0.576317</td>\n      <td>0.321629</td>\n      <td>0.181651</td>\n      <td>0.696452</td>\n      <td>0.693473</td>\n      <td>0.306885</td>\n      <td>-0.134052</td>\n      <td>0.206641</td>\n      <td>0.166101</td>\n      <td>-0.453083</td>\n      <td>0.651991</td>\n      <td>1.000000</td>\n      <td>-0.040953</td>\n      <td>-0.433166</td>\n      <td>-0.014801</td>\n      <td>1.000000</td>\n      <td>0.693473</td>\n    </tr>\n    <tr>\n      <th>적설</th>\n      <td>-0.035924</td>\n      <td>-0.027881</td>\n      <td>-0.139748</td>\n      <td>-0.140025</td>\n      <td>0.013920</td>\n      <td>-0.084595</td>\n      <td>-0.084629</td>\n      <td>-0.138870</td>\n      <td>0.012324</td>\n      <td>0.086313</td>\n      <td>0.034004</td>\n      <td>0.111468</td>\n      <td>-0.032392</td>\n      <td>-0.040953</td>\n      <td>1.000000</td>\n      <td>0.051440</td>\n      <td>-0.002847</td>\n      <td>-0.040953</td>\n      <td>-0.084629</td>\n    </tr>\n    <tr>\n      <th>전운량</th>\n      <td>-0.381747</td>\n      <td>-0.507159</td>\n      <td>0.030536</td>\n      <td>0.186326</td>\n      <td>-0.317894</td>\n      <td>-0.264440</td>\n      <td>-0.298992</td>\n      <td>0.199020</td>\n      <td>0.136530</td>\n      <td>-0.073908</td>\n      <td>-0.285085</td>\n      <td>0.477971</td>\n      <td>-0.806366</td>\n      <td>-0.433166</td>\n      <td>0.051440</td>\n      <td>1.000000</td>\n      <td>0.010477</td>\n      <td>-0.433166</td>\n      <td>-0.298992</td>\n    </tr>\n    <tr>\n      <th>지중온도</th>\n      <td>-0.001260</td>\n      <td>-0.005926</td>\n      <td>0.038314</td>\n      <td>0.047065</td>\n      <td>-0.023379</td>\n      <td>0.002684</td>\n      <td>0.000698</td>\n      <td>0.046136</td>\n      <td>-0.002859</td>\n      <td>-0.001005</td>\n      <td>-0.026833</td>\n      <td>-0.006061</td>\n      <td>-0.031939</td>\n      <td>-0.014801</td>\n      <td>-0.002847</td>\n      <td>0.010477</td>\n      <td>1.000000</td>\n      <td>-0.014801</td>\n      <td>0.000698</td>\n    </tr>\n    <tr>\n      <th>match_solar</th>\n      <td>0.827935</td>\n      <td>0.827862</td>\n      <td>0.576317</td>\n      <td>0.321629</td>\n      <td>0.181651</td>\n      <td>0.696452</td>\n      <td>0.693473</td>\n      <td>0.306885</td>\n      <td>-0.134052</td>\n      <td>0.206641</td>\n      <td>0.166101</td>\n      <td>-0.453083</td>\n      <td>0.651991</td>\n      <td>1.000000</td>\n      <td>-0.040953</td>\n      <td>-0.433166</td>\n      <td>-0.014801</td>\n      <td>1.000000</td>\n      <td>0.693473</td>\n    </tr>\n    <tr>\n      <th>z_score</th>\n      <td>0.883030</td>\n      <td>0.795342</td>\n      <td>0.524056</td>\n      <td>0.210757</td>\n      <td>0.236995</td>\n      <td>0.994672</td>\n      <td>1.000000</td>\n      <td>0.184243</td>\n      <td>-0.083925</td>\n      <td>0.026864</td>\n      <td>0.010477</td>\n      <td>-0.199989</td>\n      <td>0.410043</td>\n      <td>0.693473</td>\n      <td>-0.084629</td>\n      <td>-0.298992</td>\n      <td>0.000698</td>\n      <td>0.693473</td>\n      <td>1.000000</td>\n    </tr>\n  </tbody>\n</table>\n</div>"
     },
     "metadata": {},
     "execution_count": 9
    }
   ],
   "source": [
    "join_ent_other_del.corr()"
   ]
  },
  {
   "cell_type": "code",
   "execution_count": 10,
   "metadata": {},
   "outputs": [
    {
     "output_type": "execute_result",
     "data": {
      "text/plain": [
       "<matplotlib.axes._subplots.AxesSubplot at 0x217bfbe76c8>"
      ]
     },
     "metadata": {},
     "execution_count": 10
    },
    {
     "output_type": "display_data",
     "data": {
      "text/plain": "<Figure size 432x288 with 1 Axes>",
      "image/svg+xml": "<?xml version=\"1.0\" encoding=\"utf-8\" standalone=\"no\"?>\r\n<!DOCTYPE svg PUBLIC \"-//W3C//DTD SVG 1.1//EN\"\r\n  \"http://www.w3.org/Graphics/SVG/1.1/DTD/svg11.dtd\">\r\n<!-- Created with matplotlib (https://matplotlib.org/) -->\r\n<svg height=\"248.79625pt\" version=\"1.1\" viewBox=\"0 0 381.65 248.79625\" width=\"381.65pt\" xmlns=\"http://www.w3.org/2000/svg\" xmlns:xlink=\"http://www.w3.org/1999/xlink\">\r\n <defs>\r\n  <style type=\"text/css\">\r\n*{stroke-linecap:butt;stroke-linejoin:round;}\r\n  </style>\r\n </defs>\r\n <g id=\"figure_1\">\r\n  <g id=\"patch_1\">\r\n   <path d=\"M -0 248.79625 \r\nL 381.65 248.79625 \r\nL 381.65 0 \r\nL -0 0 \r\nz\r\n\" style=\"fill:none;\"/>\r\n  </g>\r\n  <g id=\"axes_1\">\r\n   <g id=\"patch_2\">\r\n    <path d=\"M 39.65 224.64 \r\nL 374.45 224.64 \r\nL 374.45 7.2 \r\nL 39.65 7.2 \r\nz\r\n\" style=\"fill:#ffffff;\"/>\r\n   </g>\r\n   <g id=\"patch_3\">\r\n    <path clip-path=\"url(#p60df428209)\" d=\"M 50.81 196.33553 \r\nL 140.09 196.33553 \r\nL 140.09 120.97043 \r\nL 50.81 120.97043 \r\nL 50.81 196.33553 \r\nz\r\n\" style=\"fill:#3274a1;stroke:#3d3d3d;stroke-linejoin:miter;stroke-width:1.5;\"/>\r\n   </g>\r\n   <g id=\"patch_4\">\r\n    <path clip-path=\"url(#p60df428209)\" d=\"M 162.41 195.640167 \r\nL 251.69 195.640167 \r\nL 251.69 91.000701 \r\nL 162.41 91.000701 \r\nL 162.41 195.640167 \r\nz\r\n\" style=\"fill:#e1812c;stroke:#3d3d3d;stroke-linejoin:miter;stroke-width:1.5;\"/>\r\n   </g>\r\n   <g id=\"patch_5\">\r\n    <path clip-path=\"url(#p60df428209)\" d=\"M 274.01 189.654455 \r\nL 363.29 189.654455 \r\nL 363.29 127.700807 \r\nL 274.01 127.700807 \r\nL 274.01 189.654455 \r\nz\r\n\" style=\"fill:#3a923a;stroke:#3d3d3d;stroke-linejoin:miter;stroke-width:1.5;\"/>\r\n   </g>\r\n   <g id=\"matplotlib.axis_1\">\r\n    <g id=\"xtick_1\">\r\n     <g id=\"line2d_1\">\r\n      <defs>\r\n       <path d=\"M 0 0 \r\nL 0 3.5 \r\n\" id=\"m5d89a77e44\" style=\"stroke:#000000;stroke-width:0.8;\"/>\r\n      </defs>\r\n      <g>\r\n       <use style=\"stroke:#000000;stroke-width:0.8;\" x=\"95.45\" xlink:href=\"#m5d89a77e44\" y=\"224.64\"/>\r\n      </g>\r\n     </g>\r\n     <g id=\"text_1\">\r\n      <!-- env_slopesolar -->\r\n      <defs>\r\n       <path d=\"M 56.203125 29.59375 \r\nL 56.203125 25.203125 \r\nL 14.890625 25.203125 \r\nQ 15.484375 15.921875 20.484375 11.0625 \r\nQ 25.484375 6.203125 34.421875 6.203125 \r\nQ 39.59375 6.203125 44.453125 7.46875 \r\nQ 49.3125 8.734375 54.109375 11.28125 \r\nL 54.109375 2.78125 \r\nQ 49.265625 0.734375 44.1875 -0.34375 \r\nQ 39.109375 -1.421875 33.890625 -1.421875 \r\nQ 20.796875 -1.421875 13.15625 6.1875 \r\nQ 5.515625 13.8125 5.515625 26.8125 \r\nQ 5.515625 40.234375 12.765625 48.109375 \r\nQ 20.015625 56 32.328125 56 \r\nQ 43.359375 56 49.78125 48.890625 \r\nQ 56.203125 41.796875 56.203125 29.59375 \r\nz\r\nM 47.21875 32.234375 \r\nQ 47.125 39.59375 43.09375 43.984375 \r\nQ 39.0625 48.390625 32.421875 48.390625 \r\nQ 24.90625 48.390625 20.390625 44.140625 \r\nQ 15.875 39.890625 15.1875 32.171875 \r\nz\r\n\" id=\"DejaVuSans-101\"/>\r\n       <path d=\"M 54.890625 33.015625 \r\nL 54.890625 0 \r\nL 45.90625 0 \r\nL 45.90625 32.71875 \r\nQ 45.90625 40.484375 42.875 44.328125 \r\nQ 39.84375 48.1875 33.796875 48.1875 \r\nQ 26.515625 48.1875 22.3125 43.546875 \r\nQ 18.109375 38.921875 18.109375 30.90625 \r\nL 18.109375 0 \r\nL 9.078125 0 \r\nL 9.078125 54.6875 \r\nL 18.109375 54.6875 \r\nL 18.109375 46.1875 \r\nQ 21.34375 51.125 25.703125 53.5625 \r\nQ 30.078125 56 35.796875 56 \r\nQ 45.21875 56 50.046875 50.171875 \r\nQ 54.890625 44.34375 54.890625 33.015625 \r\nz\r\n\" id=\"DejaVuSans-110\"/>\r\n       <path d=\"M 2.984375 54.6875 \r\nL 12.5 54.6875 \r\nL 29.59375 8.796875 \r\nL 46.6875 54.6875 \r\nL 56.203125 54.6875 \r\nL 35.6875 0 \r\nL 23.484375 0 \r\nz\r\n\" id=\"DejaVuSans-118\"/>\r\n       <path d=\"M 50.984375 -16.609375 \r\nL 50.984375 -23.578125 \r\nL -0.984375 -23.578125 \r\nL -0.984375 -16.609375 \r\nz\r\n\" id=\"DejaVuSans-95\"/>\r\n       <path d=\"M 44.28125 53.078125 \r\nL 44.28125 44.578125 \r\nQ 40.484375 46.53125 36.375 47.5 \r\nQ 32.28125 48.484375 27.875 48.484375 \r\nQ 21.1875 48.484375 17.84375 46.4375 \r\nQ 14.5 44.390625 14.5 40.28125 \r\nQ 14.5 37.15625 16.890625 35.375 \r\nQ 19.28125 33.59375 26.515625 31.984375 \r\nL 29.59375 31.296875 \r\nQ 39.15625 29.25 43.1875 25.515625 \r\nQ 47.21875 21.78125 47.21875 15.09375 \r\nQ 47.21875 7.46875 41.1875 3.015625 \r\nQ 35.15625 -1.421875 24.609375 -1.421875 \r\nQ 20.21875 -1.421875 15.453125 -0.5625 \r\nQ 10.6875 0.296875 5.421875 2 \r\nL 5.421875 11.28125 \r\nQ 10.40625 8.6875 15.234375 7.390625 \r\nQ 20.0625 6.109375 24.8125 6.109375 \r\nQ 31.15625 6.109375 34.5625 8.28125 \r\nQ 37.984375 10.453125 37.984375 14.40625 \r\nQ 37.984375 18.0625 35.515625 20.015625 \r\nQ 33.0625 21.96875 24.703125 23.78125 \r\nL 21.578125 24.515625 \r\nQ 13.234375 26.265625 9.515625 29.90625 \r\nQ 5.8125 33.546875 5.8125 39.890625 \r\nQ 5.8125 47.609375 11.28125 51.796875 \r\nQ 16.75 56 26.8125 56 \r\nQ 31.78125 56 36.171875 55.265625 \r\nQ 40.578125 54.546875 44.28125 53.078125 \r\nz\r\n\" id=\"DejaVuSans-115\"/>\r\n       <path d=\"M 9.421875 75.984375 \r\nL 18.40625 75.984375 \r\nL 18.40625 0 \r\nL 9.421875 0 \r\nz\r\n\" id=\"DejaVuSans-108\"/>\r\n       <path d=\"M 30.609375 48.390625 \r\nQ 23.390625 48.390625 19.1875 42.75 \r\nQ 14.984375 37.109375 14.984375 27.296875 \r\nQ 14.984375 17.484375 19.15625 11.84375 \r\nQ 23.34375 6.203125 30.609375 6.203125 \r\nQ 37.796875 6.203125 41.984375 11.859375 \r\nQ 46.1875 17.53125 46.1875 27.296875 \r\nQ 46.1875 37.015625 41.984375 42.703125 \r\nQ 37.796875 48.390625 30.609375 48.390625 \r\nz\r\nM 30.609375 56 \r\nQ 42.328125 56 49.015625 48.375 \r\nQ 55.71875 40.765625 55.71875 27.296875 \r\nQ 55.71875 13.875 49.015625 6.21875 \r\nQ 42.328125 -1.421875 30.609375 -1.421875 \r\nQ 18.84375 -1.421875 12.171875 6.21875 \r\nQ 5.515625 13.875 5.515625 27.296875 \r\nQ 5.515625 40.765625 12.171875 48.375 \r\nQ 18.84375 56 30.609375 56 \r\nz\r\n\" id=\"DejaVuSans-111\"/>\r\n       <path d=\"M 18.109375 8.203125 \r\nL 18.109375 -20.796875 \r\nL 9.078125 -20.796875 \r\nL 9.078125 54.6875 \r\nL 18.109375 54.6875 \r\nL 18.109375 46.390625 \r\nQ 20.953125 51.265625 25.265625 53.625 \r\nQ 29.59375 56 35.59375 56 \r\nQ 45.5625 56 51.78125 48.09375 \r\nQ 58.015625 40.1875 58.015625 27.296875 \r\nQ 58.015625 14.40625 51.78125 6.484375 \r\nQ 45.5625 -1.421875 35.59375 -1.421875 \r\nQ 29.59375 -1.421875 25.265625 0.953125 \r\nQ 20.953125 3.328125 18.109375 8.203125 \r\nz\r\nM 48.6875 27.296875 \r\nQ 48.6875 37.203125 44.609375 42.84375 \r\nQ 40.53125 48.484375 33.40625 48.484375 \r\nQ 26.265625 48.484375 22.1875 42.84375 \r\nQ 18.109375 37.203125 18.109375 27.296875 \r\nQ 18.109375 17.390625 22.1875 11.75 \r\nQ 26.265625 6.109375 33.40625 6.109375 \r\nQ 40.53125 6.109375 44.609375 11.75 \r\nQ 48.6875 17.390625 48.6875 27.296875 \r\nz\r\n\" id=\"DejaVuSans-112\"/>\r\n       <path d=\"M 34.28125 27.484375 \r\nQ 23.390625 27.484375 19.1875 25 \r\nQ 14.984375 22.515625 14.984375 16.5 \r\nQ 14.984375 11.71875 18.140625 8.90625 \r\nQ 21.296875 6.109375 26.703125 6.109375 \r\nQ 34.1875 6.109375 38.703125 11.40625 \r\nQ 43.21875 16.703125 43.21875 25.484375 \r\nL 43.21875 27.484375 \r\nz\r\nM 52.203125 31.203125 \r\nL 52.203125 0 \r\nL 43.21875 0 \r\nL 43.21875 8.296875 \r\nQ 40.140625 3.328125 35.546875 0.953125 \r\nQ 30.953125 -1.421875 24.3125 -1.421875 \r\nQ 15.921875 -1.421875 10.953125 3.296875 \r\nQ 6 8.015625 6 15.921875 \r\nQ 6 25.140625 12.171875 29.828125 \r\nQ 18.359375 34.515625 30.609375 34.515625 \r\nL 43.21875 34.515625 \r\nL 43.21875 35.40625 \r\nQ 43.21875 41.609375 39.140625 45 \r\nQ 35.0625 48.390625 27.6875 48.390625 \r\nQ 23 48.390625 18.546875 47.265625 \r\nQ 14.109375 46.140625 10.015625 43.890625 \r\nL 10.015625 52.203125 \r\nQ 14.9375 54.109375 19.578125 55.046875 \r\nQ 24.21875 56 28.609375 56 \r\nQ 40.484375 56 46.34375 49.84375 \r\nQ 52.203125 43.703125 52.203125 31.203125 \r\nz\r\n\" id=\"DejaVuSans-97\"/>\r\n       <path d=\"M 41.109375 46.296875 \r\nQ 39.59375 47.171875 37.8125 47.578125 \r\nQ 36.03125 48 33.890625 48 \r\nQ 26.265625 48 22.1875 43.046875 \r\nQ 18.109375 38.09375 18.109375 28.8125 \r\nL 18.109375 0 \r\nL 9.078125 0 \r\nL 9.078125 54.6875 \r\nL 18.109375 54.6875 \r\nL 18.109375 46.1875 \r\nQ 20.953125 51.171875 25.484375 53.578125 \r\nQ 30.03125 56 36.53125 56 \r\nQ 37.453125 56 38.578125 55.875 \r\nQ 39.703125 55.765625 41.0625 55.515625 \r\nz\r\n\" id=\"DejaVuSans-114\"/>\r\n      </defs>\r\n      <g transform=\"translate(58.26875 239.238437)scale(0.1 -0.1)\">\r\n       <use xlink:href=\"#DejaVuSans-101\"/>\r\n       <use x=\"61.523438\" xlink:href=\"#DejaVuSans-110\"/>\r\n       <use x=\"124.902344\" xlink:href=\"#DejaVuSans-118\"/>\r\n       <use x=\"184.082031\" xlink:href=\"#DejaVuSans-95\"/>\r\n       <use x=\"234.082031\" xlink:href=\"#DejaVuSans-115\"/>\r\n       <use x=\"286.181641\" xlink:href=\"#DejaVuSans-108\"/>\r\n       <use x=\"313.964844\" xlink:href=\"#DejaVuSans-111\"/>\r\n       <use x=\"375.146484\" xlink:href=\"#DejaVuSans-112\"/>\r\n       <use x=\"438.623047\" xlink:href=\"#DejaVuSans-101\"/>\r\n       <use x=\"500.146484\" xlink:href=\"#DejaVuSans-115\"/>\r\n       <use x=\"552.246094\" xlink:href=\"#DejaVuSans-111\"/>\r\n       <use x=\"613.427734\" xlink:href=\"#DejaVuSans-108\"/>\r\n       <use x=\"641.210938\" xlink:href=\"#DejaVuSans-97\"/>\r\n       <use x=\"702.490234\" xlink:href=\"#DejaVuSans-114\"/>\r\n      </g>\r\n     </g>\r\n    </g>\r\n    <g id=\"xtick_2\">\r\n     <g id=\"line2d_2\">\r\n      <g>\r\n       <use style=\"stroke:#000000;stroke-width:0.8;\" x=\"207.05\" xlink:href=\"#m5d89a77e44\" y=\"224.64\"/>\r\n      </g>\r\n     </g>\r\n     <g id=\"text_2\">\r\n      <!-- env_levelsolar -->\r\n      <g transform=\"translate(171.282031 239.238437)scale(0.1 -0.1)\">\r\n       <use xlink:href=\"#DejaVuSans-101\"/>\r\n       <use x=\"61.523438\" xlink:href=\"#DejaVuSans-110\"/>\r\n       <use x=\"124.902344\" xlink:href=\"#DejaVuSans-118\"/>\r\n       <use x=\"184.082031\" xlink:href=\"#DejaVuSans-95\"/>\r\n       <use x=\"234.082031\" xlink:href=\"#DejaVuSans-108\"/>\r\n       <use x=\"261.865234\" xlink:href=\"#DejaVuSans-101\"/>\r\n       <use x=\"323.388672\" xlink:href=\"#DejaVuSans-118\"/>\r\n       <use x=\"382.568359\" xlink:href=\"#DejaVuSans-101\"/>\r\n       <use x=\"444.091797\" xlink:href=\"#DejaVuSans-108\"/>\r\n       <use x=\"471.875\" xlink:href=\"#DejaVuSans-115\"/>\r\n       <use x=\"523.974609\" xlink:href=\"#DejaVuSans-111\"/>\r\n       <use x=\"585.15625\" xlink:href=\"#DejaVuSans-108\"/>\r\n       <use x=\"612.939453\" xlink:href=\"#DejaVuSans-97\"/>\r\n       <use x=\"674.21875\" xlink:href=\"#DejaVuSans-114\"/>\r\n      </g>\r\n     </g>\r\n    </g>\r\n    <g id=\"xtick_3\">\r\n     <g id=\"line2d_3\">\r\n      <g>\r\n       <use style=\"stroke:#000000;stroke-width:0.8;\" x=\"318.65\" xlink:href=\"#m5d89a77e44\" y=\"224.64\"/>\r\n      </g>\r\n     </g>\r\n     <g id=\"text_3\">\r\n      <!-- match_solar -->\r\n      <defs>\r\n       <path d=\"M 52 44.1875 \r\nQ 55.375 50.25 60.0625 53.125 \r\nQ 64.75 56 71.09375 56 \r\nQ 79.640625 56 84.28125 50.015625 \r\nQ 88.921875 44.046875 88.921875 33.015625 \r\nL 88.921875 0 \r\nL 79.890625 0 \r\nL 79.890625 32.71875 \r\nQ 79.890625 40.578125 77.09375 44.375 \r\nQ 74.3125 48.1875 68.609375 48.1875 \r\nQ 61.625 48.1875 57.5625 43.546875 \r\nQ 53.515625 38.921875 53.515625 30.90625 \r\nL 53.515625 0 \r\nL 44.484375 0 \r\nL 44.484375 32.71875 \r\nQ 44.484375 40.625 41.703125 44.40625 \r\nQ 38.921875 48.1875 33.109375 48.1875 \r\nQ 26.21875 48.1875 22.15625 43.53125 \r\nQ 18.109375 38.875 18.109375 30.90625 \r\nL 18.109375 0 \r\nL 9.078125 0 \r\nL 9.078125 54.6875 \r\nL 18.109375 54.6875 \r\nL 18.109375 46.1875 \r\nQ 21.1875 51.21875 25.484375 53.609375 \r\nQ 29.78125 56 35.6875 56 \r\nQ 41.65625 56 45.828125 52.96875 \r\nQ 50 49.953125 52 44.1875 \r\nz\r\n\" id=\"DejaVuSans-109\"/>\r\n       <path d=\"M 18.3125 70.21875 \r\nL 18.3125 54.6875 \r\nL 36.8125 54.6875 \r\nL 36.8125 47.703125 \r\nL 18.3125 47.703125 \r\nL 18.3125 18.015625 \r\nQ 18.3125 11.328125 20.140625 9.421875 \r\nQ 21.96875 7.515625 27.59375 7.515625 \r\nL 36.8125 7.515625 \r\nL 36.8125 0 \r\nL 27.59375 0 \r\nQ 17.1875 0 13.234375 3.875 \r\nQ 9.28125 7.765625 9.28125 18.015625 \r\nL 9.28125 47.703125 \r\nL 2.6875 47.703125 \r\nL 2.6875 54.6875 \r\nL 9.28125 54.6875 \r\nL 9.28125 70.21875 \r\nz\r\n\" id=\"DejaVuSans-116\"/>\r\n       <path d=\"M 48.78125 52.59375 \r\nL 48.78125 44.1875 \r\nQ 44.96875 46.296875 41.140625 47.34375 \r\nQ 37.3125 48.390625 33.40625 48.390625 \r\nQ 24.65625 48.390625 19.8125 42.84375 \r\nQ 14.984375 37.3125 14.984375 27.296875 \r\nQ 14.984375 17.28125 19.8125 11.734375 \r\nQ 24.65625 6.203125 33.40625 6.203125 \r\nQ 37.3125 6.203125 41.140625 7.25 \r\nQ 44.96875 8.296875 48.78125 10.40625 \r\nL 48.78125 2.09375 \r\nQ 45.015625 0.34375 40.984375 -0.53125 \r\nQ 36.96875 -1.421875 32.421875 -1.421875 \r\nQ 20.0625 -1.421875 12.78125 6.34375 \r\nQ 5.515625 14.109375 5.515625 27.296875 \r\nQ 5.515625 40.671875 12.859375 48.328125 \r\nQ 20.21875 56 33.015625 56 \r\nQ 37.15625 56 41.109375 55.140625 \r\nQ 45.0625 54.296875 48.78125 52.59375 \r\nz\r\n\" id=\"DejaVuSans-99\"/>\r\n       <path d=\"M 54.890625 33.015625 \r\nL 54.890625 0 \r\nL 45.90625 0 \r\nL 45.90625 32.71875 \r\nQ 45.90625 40.484375 42.875 44.328125 \r\nQ 39.84375 48.1875 33.796875 48.1875 \r\nQ 26.515625 48.1875 22.3125 43.546875 \r\nQ 18.109375 38.921875 18.109375 30.90625 \r\nL 18.109375 0 \r\nL 9.078125 0 \r\nL 9.078125 75.984375 \r\nL 18.109375 75.984375 \r\nL 18.109375 46.1875 \r\nQ 21.34375 51.125 25.703125 53.5625 \r\nQ 30.078125 56 35.796875 56 \r\nQ 45.21875 56 50.046875 50.171875 \r\nQ 54.890625 44.34375 54.890625 33.015625 \r\nz\r\n\" id=\"DejaVuSans-104\"/>\r\n      </defs>\r\n      <g transform=\"translate(288.164844 239.238437)scale(0.1 -0.1)\">\r\n       <use xlink:href=\"#DejaVuSans-109\"/>\r\n       <use x=\"97.412109\" xlink:href=\"#DejaVuSans-97\"/>\r\n       <use x=\"158.691406\" xlink:href=\"#DejaVuSans-116\"/>\r\n       <use x=\"197.900391\" xlink:href=\"#DejaVuSans-99\"/>\r\n       <use x=\"252.880859\" xlink:href=\"#DejaVuSans-104\"/>\r\n       <use x=\"316.259766\" xlink:href=\"#DejaVuSans-95\"/>\r\n       <use x=\"366.259766\" xlink:href=\"#DejaVuSans-115\"/>\r\n       <use x=\"418.359375\" xlink:href=\"#DejaVuSans-111\"/>\r\n       <use x=\"479.541016\" xlink:href=\"#DejaVuSans-108\"/>\r\n       <use x=\"507.324219\" xlink:href=\"#DejaVuSans-97\"/>\r\n       <use x=\"568.603516\" xlink:href=\"#DejaVuSans-114\"/>\r\n      </g>\r\n     </g>\r\n    </g>\r\n   </g>\r\n   <g id=\"matplotlib.axis_2\">\r\n    <g id=\"ytick_1\">\r\n     <g id=\"line2d_4\">\r\n      <defs>\r\n       <path d=\"M 0 0 \r\nL -3.5 0 \r\n\" id=\"m767aa36bd7\" style=\"stroke:#000000;stroke-width:0.8;\"/>\r\n      </defs>\r\n      <g>\r\n       <use style=\"stroke:#000000;stroke-width:0.8;\" x=\"39.65\" xlink:href=\"#m767aa36bd7\" y=\"214.756364\"/>\r\n      </g>\r\n     </g>\r\n     <g id=\"text_4\">\r\n      <!-- 0 -->\r\n      <defs>\r\n       <path d=\"M 31.78125 66.40625 \r\nQ 24.171875 66.40625 20.328125 58.90625 \r\nQ 16.5 51.421875 16.5 36.375 \r\nQ 16.5 21.390625 20.328125 13.890625 \r\nQ 24.171875 6.390625 31.78125 6.390625 \r\nQ 39.453125 6.390625 43.28125 13.890625 \r\nQ 47.125 21.390625 47.125 36.375 \r\nQ 47.125 51.421875 43.28125 58.90625 \r\nQ 39.453125 66.40625 31.78125 66.40625 \r\nz\r\nM 31.78125 74.21875 \r\nQ 44.046875 74.21875 50.515625 64.515625 \r\nQ 56.984375 54.828125 56.984375 36.375 \r\nQ 56.984375 17.96875 50.515625 8.265625 \r\nQ 44.046875 -1.421875 31.78125 -1.421875 \r\nQ 19.53125 -1.421875 13.0625 8.265625 \r\nQ 6.59375 17.96875 6.59375 36.375 \r\nQ 6.59375 54.828125 13.0625 64.515625 \r\nQ 19.53125 74.21875 31.78125 74.21875 \r\nz\r\n\" id=\"DejaVuSans-48\"/>\r\n      </defs>\r\n      <g transform=\"translate(26.2875 218.555582)scale(0.1 -0.1)\">\r\n       <use xlink:href=\"#DejaVuSans-48\"/>\r\n      </g>\r\n     </g>\r\n    </g>\r\n    <g id=\"ytick_2\">\r\n     <g id=\"line2d_5\">\r\n      <g>\r\n       <use style=\"stroke:#000000;stroke-width:0.8;\" x=\"39.65\" xlink:href=\"#m767aa36bd7\" y=\"176.302375\"/>\r\n      </g>\r\n     </g>\r\n     <g id=\"text_5\">\r\n      <!-- 200 -->\r\n      <defs>\r\n       <path d=\"M 19.1875 8.296875 \r\nL 53.609375 8.296875 \r\nL 53.609375 0 \r\nL 7.328125 0 \r\nL 7.328125 8.296875 \r\nQ 12.9375 14.109375 22.625 23.890625 \r\nQ 32.328125 33.6875 34.8125 36.53125 \r\nQ 39.546875 41.84375 41.421875 45.53125 \r\nQ 43.3125 49.21875 43.3125 52.78125 \r\nQ 43.3125 58.59375 39.234375 62.25 \r\nQ 35.15625 65.921875 28.609375 65.921875 \r\nQ 23.96875 65.921875 18.8125 64.3125 \r\nQ 13.671875 62.703125 7.8125 59.421875 \r\nL 7.8125 69.390625 \r\nQ 13.765625 71.78125 18.9375 73 \r\nQ 24.125 74.21875 28.421875 74.21875 \r\nQ 39.75 74.21875 46.484375 68.546875 \r\nQ 53.21875 62.890625 53.21875 53.421875 \r\nQ 53.21875 48.921875 51.53125 44.890625 \r\nQ 49.859375 40.875 45.40625 35.40625 \r\nQ 44.1875 33.984375 37.640625 27.21875 \r\nQ 31.109375 20.453125 19.1875 8.296875 \r\nz\r\n\" id=\"DejaVuSans-50\"/>\r\n      </defs>\r\n      <g transform=\"translate(13.5625 180.101594)scale(0.1 -0.1)\">\r\n       <use xlink:href=\"#DejaVuSans-50\"/>\r\n       <use x=\"63.623047\" xlink:href=\"#DejaVuSans-48\"/>\r\n       <use x=\"127.246094\" xlink:href=\"#DejaVuSans-48\"/>\r\n      </g>\r\n     </g>\r\n    </g>\r\n    <g id=\"ytick_3\">\r\n     <g id=\"line2d_6\">\r\n      <g>\r\n       <use style=\"stroke:#000000;stroke-width:0.8;\" x=\"39.65\" xlink:href=\"#m767aa36bd7\" y=\"137.848387\"/>\r\n      </g>\r\n     </g>\r\n     <g id=\"text_6\">\r\n      <!-- 400 -->\r\n      <defs>\r\n       <path d=\"M 37.796875 64.3125 \r\nL 12.890625 25.390625 \r\nL 37.796875 25.390625 \r\nz\r\nM 35.203125 72.90625 \r\nL 47.609375 72.90625 \r\nL 47.609375 25.390625 \r\nL 58.015625 25.390625 \r\nL 58.015625 17.1875 \r\nL 47.609375 17.1875 \r\nL 47.609375 0 \r\nL 37.796875 0 \r\nL 37.796875 17.1875 \r\nL 4.890625 17.1875 \r\nL 4.890625 26.703125 \r\nz\r\n\" id=\"DejaVuSans-52\"/>\r\n      </defs>\r\n      <g transform=\"translate(13.5625 141.647606)scale(0.1 -0.1)\">\r\n       <use xlink:href=\"#DejaVuSans-52\"/>\r\n       <use x=\"63.623047\" xlink:href=\"#DejaVuSans-48\"/>\r\n       <use x=\"127.246094\" xlink:href=\"#DejaVuSans-48\"/>\r\n      </g>\r\n     </g>\r\n    </g>\r\n    <g id=\"ytick_4\">\r\n     <g id=\"line2d_7\">\r\n      <g>\r\n       <use style=\"stroke:#000000;stroke-width:0.8;\" x=\"39.65\" xlink:href=\"#m767aa36bd7\" y=\"99.394398\"/>\r\n      </g>\r\n     </g>\r\n     <g id=\"text_7\">\r\n      <!-- 600 -->\r\n      <defs>\r\n       <path d=\"M 33.015625 40.375 \r\nQ 26.375 40.375 22.484375 35.828125 \r\nQ 18.609375 31.296875 18.609375 23.390625 \r\nQ 18.609375 15.53125 22.484375 10.953125 \r\nQ 26.375 6.390625 33.015625 6.390625 \r\nQ 39.65625 6.390625 43.53125 10.953125 \r\nQ 47.40625 15.53125 47.40625 23.390625 \r\nQ 47.40625 31.296875 43.53125 35.828125 \r\nQ 39.65625 40.375 33.015625 40.375 \r\nz\r\nM 52.59375 71.296875 \r\nL 52.59375 62.3125 \r\nQ 48.875 64.0625 45.09375 64.984375 \r\nQ 41.3125 65.921875 37.59375 65.921875 \r\nQ 27.828125 65.921875 22.671875 59.328125 \r\nQ 17.53125 52.734375 16.796875 39.40625 \r\nQ 19.671875 43.65625 24.015625 45.921875 \r\nQ 28.375 48.1875 33.59375 48.1875 \r\nQ 44.578125 48.1875 50.953125 41.515625 \r\nQ 57.328125 34.859375 57.328125 23.390625 \r\nQ 57.328125 12.15625 50.6875 5.359375 \r\nQ 44.046875 -1.421875 33.015625 -1.421875 \r\nQ 20.359375 -1.421875 13.671875 8.265625 \r\nQ 6.984375 17.96875 6.984375 36.375 \r\nQ 6.984375 53.65625 15.1875 63.9375 \r\nQ 23.390625 74.21875 37.203125 74.21875 \r\nQ 40.921875 74.21875 44.703125 73.484375 \r\nQ 48.484375 72.75 52.59375 71.296875 \r\nz\r\n\" id=\"DejaVuSans-54\"/>\r\n      </defs>\r\n      <g transform=\"translate(13.5625 103.193617)scale(0.1 -0.1)\">\r\n       <use xlink:href=\"#DejaVuSans-54\"/>\r\n       <use x=\"63.623047\" xlink:href=\"#DejaVuSans-48\"/>\r\n       <use x=\"127.246094\" xlink:href=\"#DejaVuSans-48\"/>\r\n      </g>\r\n     </g>\r\n    </g>\r\n    <g id=\"ytick_5\">\r\n     <g id=\"line2d_8\">\r\n      <g>\r\n       <use style=\"stroke:#000000;stroke-width:0.8;\" x=\"39.65\" xlink:href=\"#m767aa36bd7\" y=\"60.94041\"/>\r\n      </g>\r\n     </g>\r\n     <g id=\"text_8\">\r\n      <!-- 800 -->\r\n      <defs>\r\n       <path d=\"M 31.78125 34.625 \r\nQ 24.75 34.625 20.71875 30.859375 \r\nQ 16.703125 27.09375 16.703125 20.515625 \r\nQ 16.703125 13.921875 20.71875 10.15625 \r\nQ 24.75 6.390625 31.78125 6.390625 \r\nQ 38.8125 6.390625 42.859375 10.171875 \r\nQ 46.921875 13.96875 46.921875 20.515625 \r\nQ 46.921875 27.09375 42.890625 30.859375 \r\nQ 38.875 34.625 31.78125 34.625 \r\nz\r\nM 21.921875 38.8125 \r\nQ 15.578125 40.375 12.03125 44.71875 \r\nQ 8.5 49.078125 8.5 55.328125 \r\nQ 8.5 64.0625 14.71875 69.140625 \r\nQ 20.953125 74.21875 31.78125 74.21875 \r\nQ 42.671875 74.21875 48.875 69.140625 \r\nQ 55.078125 64.0625 55.078125 55.328125 \r\nQ 55.078125 49.078125 51.53125 44.71875 \r\nQ 48 40.375 41.703125 38.8125 \r\nQ 48.828125 37.15625 52.796875 32.3125 \r\nQ 56.78125 27.484375 56.78125 20.515625 \r\nQ 56.78125 9.90625 50.3125 4.234375 \r\nQ 43.84375 -1.421875 31.78125 -1.421875 \r\nQ 19.734375 -1.421875 13.25 4.234375 \r\nQ 6.78125 9.90625 6.78125 20.515625 \r\nQ 6.78125 27.484375 10.78125 32.3125 \r\nQ 14.796875 37.15625 21.921875 38.8125 \r\nz\r\nM 18.3125 54.390625 \r\nQ 18.3125 48.734375 21.84375 45.5625 \r\nQ 25.390625 42.390625 31.78125 42.390625 \r\nQ 38.140625 42.390625 41.71875 45.5625 \r\nQ 45.3125 48.734375 45.3125 54.390625 \r\nQ 45.3125 60.0625 41.71875 63.234375 \r\nQ 38.140625 66.40625 31.78125 66.40625 \r\nQ 25.390625 66.40625 21.84375 63.234375 \r\nQ 18.3125 60.0625 18.3125 54.390625 \r\nz\r\n\" id=\"DejaVuSans-56\"/>\r\n      </defs>\r\n      <g transform=\"translate(13.5625 64.739629)scale(0.1 -0.1)\">\r\n       <use xlink:href=\"#DejaVuSans-56\"/>\r\n       <use x=\"63.623047\" xlink:href=\"#DejaVuSans-48\"/>\r\n       <use x=\"127.246094\" xlink:href=\"#DejaVuSans-48\"/>\r\n      </g>\r\n     </g>\r\n    </g>\r\n    <g id=\"ytick_6\">\r\n     <g id=\"line2d_9\">\r\n      <g>\r\n       <use style=\"stroke:#000000;stroke-width:0.8;\" x=\"39.65\" xlink:href=\"#m767aa36bd7\" y=\"22.486422\"/>\r\n      </g>\r\n     </g>\r\n     <g id=\"text_9\">\r\n      <!-- 1000 -->\r\n      <defs>\r\n       <path d=\"M 12.40625 8.296875 \r\nL 28.515625 8.296875 \r\nL 28.515625 63.921875 \r\nL 10.984375 60.40625 \r\nL 10.984375 69.390625 \r\nL 28.421875 72.90625 \r\nL 38.28125 72.90625 \r\nL 38.28125 8.296875 \r\nL 54.390625 8.296875 \r\nL 54.390625 0 \r\nL 12.40625 0 \r\nz\r\n\" id=\"DejaVuSans-49\"/>\r\n      </defs>\r\n      <g transform=\"translate(7.2 26.28564)scale(0.1 -0.1)\">\r\n       <use xlink:href=\"#DejaVuSans-49\"/>\r\n       <use x=\"63.623047\" xlink:href=\"#DejaVuSans-48\"/>\r\n       <use x=\"127.246094\" xlink:href=\"#DejaVuSans-48\"/>\r\n       <use x=\"190.869141\" xlink:href=\"#DejaVuSans-48\"/>\r\n      </g>\r\n     </g>\r\n    </g>\r\n   </g>\r\n   <g id=\"line2d_10\">\r\n    <path clip-path=\"url(#p60df428209)\" d=\"M 95.45 196.33553 \r\nL 95.45 214.756364 \r\n\" style=\"fill:none;stroke:#3d3d3d;stroke-linecap:square;stroke-width:1.5;\"/>\r\n   </g>\r\n   <g id=\"line2d_11\">\r\n    <path clip-path=\"url(#p60df428209)\" d=\"M 95.45 120.97043 \r\nL 95.45 24.921841 \r\n\" style=\"fill:none;stroke:#3d3d3d;stroke-linecap:square;stroke-width:1.5;\"/>\r\n   </g>\r\n   <g id=\"line2d_12\">\r\n    <path clip-path=\"url(#p60df428209)\" d=\"M 73.13 214.756364 \r\nL 117.77 214.756364 \r\n\" style=\"fill:none;stroke:#3d3d3d;stroke-linecap:square;stroke-width:1.5;\"/>\r\n   </g>\r\n   <g id=\"line2d_13\">\r\n    <path clip-path=\"url(#p60df428209)\" d=\"M 73.13 24.921841 \r\nL 117.77 24.921841 \r\n\" style=\"fill:none;stroke:#3d3d3d;stroke-linecap:square;stroke-width:1.5;\"/>\r\n   </g>\r\n   <g id=\"line2d_14\"/>\r\n   <g id=\"line2d_15\">\r\n    <path clip-path=\"url(#p60df428209)\" d=\"M 207.05 195.640167 \r\nL 207.05 214.756364 \r\n\" style=\"fill:none;stroke:#3d3d3d;stroke-linecap:square;stroke-width:1.5;\"/>\r\n   </g>\r\n   <g id=\"line2d_16\">\r\n    <path clip-path=\"url(#p60df428209)\" d=\"M 207.05 91.000701 \r\nL 207.05 17.083636 \r\n\" style=\"fill:none;stroke:#3d3d3d;stroke-linecap:square;stroke-width:1.5;\"/>\r\n   </g>\r\n   <g id=\"line2d_17\">\r\n    <path clip-path=\"url(#p60df428209)\" d=\"M 184.73 214.756364 \r\nL 229.37 214.756364 \r\n\" style=\"fill:none;stroke:#3d3d3d;stroke-linecap:square;stroke-width:1.5;\"/>\r\n   </g>\r\n   <g id=\"line2d_18\">\r\n    <path clip-path=\"url(#p60df428209)\" d=\"M 184.73 17.083636 \r\nL 229.37 17.083636 \r\n\" style=\"fill:none;stroke:#3d3d3d;stroke-linecap:square;stroke-width:1.5;\"/>\r\n   </g>\r\n   <g id=\"line2d_19\"/>\r\n   <g id=\"line2d_20\">\r\n    <path clip-path=\"url(#p60df428209)\" d=\"M 318.65 189.654455 \r\nL 318.65 214.756364 \r\n\" style=\"fill:none;stroke:#3d3d3d;stroke-linecap:square;stroke-width:1.5;\"/>\r\n   </g>\r\n   <g id=\"line2d_21\">\r\n    <path clip-path=\"url(#p60df428209)\" d=\"M 318.65 127.700807 \r\nL 318.65 39.043 \r\n\" style=\"fill:none;stroke:#3d3d3d;stroke-linecap:square;stroke-width:1.5;\"/>\r\n   </g>\r\n   <g id=\"line2d_22\">\r\n    <path clip-path=\"url(#p60df428209)\" d=\"M 296.33 214.756364 \r\nL 340.97 214.756364 \r\n\" style=\"fill:none;stroke:#3d3d3d;stroke-linecap:square;stroke-width:1.5;\"/>\r\n   </g>\r\n   <g id=\"line2d_23\">\r\n    <path clip-path=\"url(#p60df428209)\" d=\"M 296.33 39.043 \r\nL 340.97 39.043 \r\n\" style=\"fill:none;stroke:#3d3d3d;stroke-linecap:square;stroke-width:1.5;\"/>\r\n   </g>\r\n   <g id=\"line2d_24\"/>\r\n   <g id=\"line2d_25\">\r\n    <path clip-path=\"url(#p60df428209)\" d=\"M 50.81 158.711507 \r\nL 140.09 158.711507 \r\n\" style=\"fill:none;stroke:#3d3d3d;stroke-linecap:square;stroke-width:1.5;\"/>\r\n   </g>\r\n   <g id=\"line2d_26\">\r\n    <path clip-path=\"url(#p60df428209)\" d=\"M 162.41 149.956128 \r\nL 251.69 149.956128 \r\n\" style=\"fill:none;stroke:#3d3d3d;stroke-linecap:square;stroke-width:1.5;\"/>\r\n   </g>\r\n   <g id=\"line2d_27\">\r\n    <path clip-path=\"url(#p60df428209)\" d=\"M 274.01 160.27988 \r\nL 363.29 160.27988 \r\n\" style=\"fill:none;stroke:#3d3d3d;stroke-linecap:square;stroke-width:1.5;\"/>\r\n   </g>\r\n   <g id=\"patch_6\">\r\n    <path d=\"M 39.65 224.64 \r\nL 39.65 7.2 \r\n\" style=\"fill:none;stroke:#000000;stroke-linecap:square;stroke-linejoin:miter;stroke-width:0.8;\"/>\r\n   </g>\r\n   <g id=\"patch_7\">\r\n    <path d=\"M 374.45 224.64 \r\nL 374.45 7.2 \r\n\" style=\"fill:none;stroke:#000000;stroke-linecap:square;stroke-linejoin:miter;stroke-width:0.8;\"/>\r\n   </g>\r\n   <g id=\"patch_8\">\r\n    <path d=\"M 39.65 224.64 \r\nL 374.45 224.64 \r\n\" style=\"fill:none;stroke:#000000;stroke-linecap:square;stroke-linejoin:miter;stroke-width:0.8;\"/>\r\n   </g>\r\n   <g id=\"patch_9\">\r\n    <path d=\"M 39.65 7.2 \r\nL 374.45 7.2 \r\n\" style=\"fill:none;stroke:#000000;stroke-linecap:square;stroke-linejoin:miter;stroke-width:0.8;\"/>\r\n   </g>\r\n  </g>\r\n </g>\r\n <defs>\r\n  <clipPath id=\"p60df428209\">\r\n   <rect height=\"217.44\" width=\"334.8\" x=\"39.65\" y=\"7.2\"/>\r\n  </clipPath>\r\n </defs>\r\n</svg>\r\n",
      "image/png": "[encoded data removed]"
     },
     "metadata": {
      "needs_background": "light"
     }
    }
   ],
   "source": [
    "sns.boxplot(data = join_ent_other_del[[\"env_slopesolar\", \"env_levelsolar\", \"match_solar\"]])"
   ]
  },
  {
   "cell_type": "code",
   "execution_count": 11,
   "metadata": {},
   "outputs": [
    {
     "output_type": "stream",
     "name": "stdout",
     "text": [
      "(0.8278617427389874, 0.0) (0.827935128937548, 0.0)\n------------------\n(0.7953424626999264, 0.0) (0.8830297070306465, 0.0) (0.6934731686197059, 0.0)\n"
     ]
    }
   ],
   "source": [
    "import scipy.stats\n",
    "\n",
    "print(\n",
    "    scipy.stats.pearsonr(join_ent_other_del[\"env_levelsolar\"], join_ent_other_del[\"match_solar\"]), \n",
    "    scipy.stats.pearsonr(join_ent_other_del[\"env_slopesolar\"], join_ent_other_del[\"match_solar\"]))\n",
    "print(\"------------------\")\n",
    "print(\n",
    "    scipy.stats.pearsonr(join_ent_other_del[\"env_levelsolar\"], join_ent_other_del[\"watt\"]), \n",
    "    scipy.stats.pearsonr(join_ent_other_del[\"env_slopesolar\"], join_ent_other_del[\"watt\"]), \n",
    "    scipy.stats.pearsonr(join_ent_other_del[\"match_solar\"], join_ent_other_del[\"watt\"]))"
   ]
  },
  {
   "cell_type": "code",
   "execution_count": 12,
   "metadata": {},
   "outputs": [
    {
     "output_type": "stream",
     "name": "stdout",
     "text": [
      "                            OLS Regression Results                            \n==============================================================================\nDep. Variable:                   watt   R-squared:                       0.780\nModel:                            OLS   Adj. R-squared:                  0.780\nMethod:                 Least Squares   F-statistic:                     9636.\nDate:                Mon, 02 Nov 2020   Prob (F-statistic):               0.00\nTime:                        00:30:59   Log-Likelihood:                -21811.\nNo. Observations:                2724   AIC:                         4.363e+04\nDf Residuals:                    2722   BIC:                         4.364e+04\nDf Model:                           1                                         \nCovariance Type:            nonrobust                                         \n==================================================================================\n                     coef    std err          t      P>|t|      [0.025      0.975]\n----------------------------------------------------------------------------------\nconst            -78.6293     23.227     -3.385      0.001    -124.175     -33.084\nenv_slopesolar     5.9605      0.061     98.164      0.000       5.841       6.080\n==============================================================================\nOmnibus:                     2100.846   Durbin-Watson:                   0.320\nProb(Omnibus):                  0.000   Jarque-Bera (JB):            38732.607\nSkew:                          -3.605   Prob(JB):                         0.00\nKurtosis:                      20.008   Cond. No.                         638.\n==============================================================================\n\nWarnings:\n[1] Standard Errors assume that the covariance matrix of the errors is correctly specified.\n                                 OLS Regression Results                                \n=======================================================================================\nDep. Variable:                   watt   R-squared (uncentered):                   0.771\nModel:                            OLS   Adj. R-squared (uncentered):              0.771\nMethod:                 Least Squares   F-statistic:                              9180.\nDate:                Mon, 02 Nov 2020   Prob (F-statistic):                        0.00\nTime:                        00:30:59   Log-Likelihood:                         -22981.\nNo. Observations:                2724   AIC:                                  4.596e+04\nDf Residuals:                    2723   BIC:                                  4.597e+04\nDf Model:                           1                                                  \nCovariance Type:            nonrobust                                                  \n===============================================================================\n                  coef    std err          t      P>|t|      [0.025      0.975]\n-------------------------------------------------------------------------------\nmatch_solar     5.6401      0.059     95.810      0.000       5.525       5.756\n==============================================================================\nOmnibus:                      103.543   Durbin-Watson:                   0.604\nProb(Omnibus):                  0.000   Jarque-Bera (JB):              282.282\nSkew:                          -0.123   Prob(JB):                     5.05e-62\nKurtosis:                       4.558   Cond. No.                         1.00\n==============================================================================\n\nWarnings:\n[1] Standard Errors assume that the covariance matrix of the errors is correctly specified.\n"
     ]
    }
   ],
   "source": [
    "import statsmodels.api as sm\n",
    "\n",
    "Y = join_ent_other_del[\"watt\"]\n",
    "X = join_ent_other_del[\"env_slopesolar\"]\n",
    "X = sm.add_constant(X)\n",
    "model = sm.OLS(Y,X)\n",
    "results = model.fit()\n",
    "# results.summary()\n",
    "\n",
    "X2 = join_ent_other_del[\"match_solar\"]\n",
    "model2 = sm.OLS(Y,X2)\n",
    "results1 = model2.fit()\n",
    "\n",
    "\n",
    "print(results.summary())\n",
    "print(results1.summary())\n"
   ]
  },
  {
   "cell_type": "code",
   "execution_count": null,
   "metadata": {},
   "outputs": [],
   "source": []
  }
 ]
}