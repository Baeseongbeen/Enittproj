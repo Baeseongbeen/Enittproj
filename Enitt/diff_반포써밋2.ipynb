{
 "metadata": {
  "language_info": {
   "codemirror_mode": {
    "name": "ipython",
    "version": 3
   },
   "file_extension": ".py",
   "mimetype": "text/x-python",
   "name": "python",
   "nbconvert_exporter": "python",
   "pygments_lexer": "ipython3",
   "version": "3.7.6-final"
  },
  "orig_nbformat": 2,
  "kernelspec": {
   "name": "python3",
   "display_name": "Python 3"
  }
 },
 "nbformat": 4,
 "nbformat_minor": 2,
 "cells": [
  {
   "cell_type": "code",
   "execution_count": 44,
   "metadata": {},
   "outputs": [
    {
     "output_type": "execute_result",
     "data": {
      "text/plain": [
       "'c:\\\\Users\\\\seong\\\\Desktop\\\\enitt\\\\Enitt'"
      ]
     },
     "metadata": {},
     "execution_count": 44
    }
   ],
   "source": [
    "import pandas as pd \n",
    "import numpy as np \n",
    "import matplotlib.pyplot as plt\n",
    "import plotly\n",
    "import plotly.graph_objs as go # 그래프 객체 생성\n",
    "from plotly.subplots import make_subplots\n",
    "import datetime\n",
    "import seaborn as sns \n",
    "import scipy.stats\n",
    "import plotly.express as px\n",
    "import os \n",
    "from scipy import stats\n",
    "from sklearn import metrics\n",
    "import statsmodels.formula.api as smf\n",
    "import scipy.stats as st\n",
    "import pylab\n",
    "import csv\n",
    "\n",
    "os.getcwd()"
   ]
  },
  {
   "cell_type": "code",
   "execution_count": 45,
   "metadata": {},
   "outputs": [
    {
     "output_type": "execute_result",
     "data": {
      "text/plain": [
       "        env_index    env_date  env_time  env_slopesolar  env_levelsolar  \\\n",
       "0               1  2018-10-22  12:44:29             322             316   \n",
       "1               2  2018-10-22  12:45:21             320             314   \n",
       "2               3  2018-10-22  12:46:12             320             312   \n",
       "3               4  2018-10-22  12:47:04             326             319   \n",
       "4               5  2018-10-22  12:47:56             335             329   \n",
       "...           ...         ...       ...             ...             ...   \n",
       "615430     683664  2020-10-22  23:19:00               0               0   \n",
       "615431     683665  2020-10-22  23:23:57               0               0   \n",
       "615432     683666  2020-10-22  23:28:53               0               0   \n",
       "615433     683667  2020-10-22  23:33:49               0               0   \n",
       "615434     683668  2020-10-22  23:38:46               0               0   \n",
       "\n",
       "        env_modtemp  env_airtemp  \n",
       "0              24.8         17.6  \n",
       "1              25.0         17.7  \n",
       "2              25.1         17.9  \n",
       "3              24.9         18.1  \n",
       "4              24.9         18.0  \n",
       "...             ...          ...  \n",
       "615430          6.7          8.1  \n",
       "615431          6.7          8.0  \n",
       "615432          6.7          8.0  \n",
       "615433          6.7          8.0  \n",
       "615434          6.7          8.0  \n",
       "\n",
       "[615435 rows x 7 columns]"
      ],
      "text/html": "<div>\n<style scoped>\n    .dataframe tbody tr th:only-of-type {\n        vertical-align: middle;\n    }\n\n    .dataframe tbody tr th {\n        vertical-align: top;\n    }\n\n    .dataframe thead th {\n        text-align: right;\n    }\n</style>\n<table border=\"1\" class=\"dataframe\">\n  <thead>\n    <tr style=\"text-align: right;\">\n      <th></th>\n      <th>env_index</th>\n      <th>env_date</th>\n      <th>env_time</th>\n      <th>env_slopesolar</th>\n      <th>env_levelsolar</th>\n      <th>env_modtemp</th>\n      <th>env_airtemp</th>\n    </tr>\n  </thead>\n  <tbody>\n    <tr>\n      <th>0</th>\n      <td>1</td>\n      <td>2018-10-22</td>\n      <td>12:44:29</td>\n      <td>322</td>\n      <td>316</td>\n      <td>24.8</td>\n      <td>17.6</td>\n    </tr>\n    <tr>\n      <th>1</th>\n      <td>2</td>\n      <td>2018-10-22</td>\n      <td>12:45:21</td>\n      <td>320</td>\n      <td>314</td>\n      <td>25.0</td>\n      <td>17.7</td>\n    </tr>\n    <tr>\n      <th>2</th>\n      <td>3</td>\n      <td>2018-10-22</td>\n      <td>12:46:12</td>\n      <td>320</td>\n      <td>312</td>\n      <td>25.1</td>\n      <td>17.9</td>\n    </tr>\n    <tr>\n      <th>3</th>\n      <td>4</td>\n      <td>2018-10-22</td>\n      <td>12:47:04</td>\n      <td>326</td>\n      <td>319</td>\n      <td>24.9</td>\n      <td>18.1</td>\n    </tr>\n    <tr>\n      <th>4</th>\n      <td>5</td>\n      <td>2018-10-22</td>\n      <td>12:47:56</td>\n      <td>335</td>\n      <td>329</td>\n      <td>24.9</td>\n      <td>18.0</td>\n    </tr>\n    <tr>\n      <th>...</th>\n      <td>...</td>\n      <td>...</td>\n      <td>...</td>\n      <td>...</td>\n      <td>...</td>\n      <td>...</td>\n      <td>...</td>\n    </tr>\n    <tr>\n      <th>615430</th>\n      <td>683664</td>\n      <td>2020-10-22</td>\n      <td>23:19:00</td>\n      <td>0</td>\n      <td>0</td>\n      <td>6.7</td>\n      <td>8.1</td>\n    </tr>\n    <tr>\n      <th>615431</th>\n      <td>683665</td>\n      <td>2020-10-22</td>\n      <td>23:23:57</td>\n      <td>0</td>\n      <td>0</td>\n      <td>6.7</td>\n      <td>8.0</td>\n    </tr>\n    <tr>\n      <th>615432</th>\n      <td>683666</td>\n      <td>2020-10-22</td>\n      <td>23:28:53</td>\n      <td>0</td>\n      <td>0</td>\n      <td>6.7</td>\n      <td>8.0</td>\n    </tr>\n    <tr>\n      <th>615433</th>\n      <td>683667</td>\n      <td>2020-10-22</td>\n      <td>23:33:49</td>\n      <td>0</td>\n      <td>0</td>\n      <td>6.7</td>\n      <td>8.0</td>\n    </tr>\n    <tr>\n      <th>615434</th>\n      <td>683668</td>\n      <td>2020-10-22</td>\n      <td>23:38:46</td>\n      <td>0</td>\n      <td>0</td>\n      <td>6.7</td>\n      <td>8.0</td>\n    </tr>\n  </tbody>\n</table>\n<p>615435 rows × 7 columns</p>\n</div>"
     },
     "metadata": {},
     "execution_count": 45
    }
   ],
   "source": [
    "## merge 1, 2 데이터\n",
    "data1 = pd.read_csv(\"./ENITT_SOLAR_DATA/ENITT_SOLAR_DATA/A365. 반포써밋2블럭 발전량.csv\", encoding=\"ms949\")\n",
    "data2 = pd.read_csv(\"./ENITT_SOLAR_DATA/ENITT_SOLAR_DATA/365. 반포써밋2블럭 발전량.csv\", encoding=\"ms949\")\n",
    "data3 = pd.read_csv(\"./ENITT_SOLAR_DATA/ENITT_SOLAR_DATA/A365. 반포써밋2블럭 환경센서.csv\", encoding=\"ms949\")\n",
    "data4 = pd.read_csv(\"./ENITT_SOLAR_DATA/ENITT_SOLAR_DATA/365. 반포써밋2블럭 환경정보.csv\", encoding=\"ms949\")\n",
    "\n",
    "\n",
    "\n",
    "data_12 = pd.concat([data2, data1])\n",
    "data_34 = pd.concat([data4, data3])\n",
    "ent_data_solar = data_12.reset_index().drop('index', axis=1)\n",
    "ent_data_solar\n",
    "\n",
    "ent_data_weather = data_34.reset_index().drop('index', axis=1)\n",
    "ent_data_weather"
   ]
  },
  {
   "cell_type": "code",
   "execution_count": 46,
   "metadata": {},
   "outputs": [
    {
     "output_type": "execute_result",
     "data": {
      "text/plain": [
       "        env_index    env_date  env_time  env_slopesolar  env_levelsolar  \\\n",
       "0               1  2018-10-22  12:44:29             322             316   \n",
       "1               2  2018-10-22  12:45:21             320             314   \n",
       "2               3  2018-10-22  12:46:12             320             312   \n",
       "3               4  2018-10-22  12:47:04             326             319   \n",
       "4               5  2018-10-22  12:47:56             335             329   \n",
       "...           ...         ...       ...             ...             ...   \n",
       "615430     683664  2020-10-22  23:19:00               0               0   \n",
       "615431     683665  2020-10-22  23:23:57               0               0   \n",
       "615432     683666  2020-10-22  23:28:53               0               0   \n",
       "615433     683667  2020-10-22  23:33:49               0               0   \n",
       "615434     683668  2020-10-22  23:38:46               0               0   \n",
       "\n",
       "        env_modtemp  env_airtemp  \n",
       "0              24.8         17.6  \n",
       "1              25.0         17.7  \n",
       "2              25.1         17.9  \n",
       "3              24.9         18.1  \n",
       "4              24.9         18.0  \n",
       "...             ...          ...  \n",
       "615430          6.7          8.1  \n",
       "615431          6.7          8.0  \n",
       "615432          6.7          8.0  \n",
       "615433          6.7          8.0  \n",
       "615434          6.7          8.0  \n",
       "\n",
       "[615435 rows x 7 columns]"
      ],
      "text/html": "<div>\n<style scoped>\n    .dataframe tbody tr th:only-of-type {\n        vertical-align: middle;\n    }\n\n    .dataframe tbody tr th {\n        vertical-align: top;\n    }\n\n    .dataframe thead th {\n        text-align: right;\n    }\n</style>\n<table border=\"1\" class=\"dataframe\">\n  <thead>\n    <tr style=\"text-align: right;\">\n      <th></th>\n      <th>env_index</th>\n      <th>env_date</th>\n      <th>env_time</th>\n      <th>env_slopesolar</th>\n      <th>env_levelsolar</th>\n      <th>env_modtemp</th>\n      <th>env_airtemp</th>\n    </tr>\n  </thead>\n  <tbody>\n    <tr>\n      <th>0</th>\n      <td>1</td>\n      <td>2018-10-22</td>\n      <td>12:44:29</td>\n      <td>322</td>\n      <td>316</td>\n      <td>24.8</td>\n      <td>17.6</td>\n    </tr>\n    <tr>\n      <th>1</th>\n      <td>2</td>\n      <td>2018-10-22</td>\n      <td>12:45:21</td>\n      <td>320</td>\n      <td>314</td>\n      <td>25.0</td>\n      <td>17.7</td>\n    </tr>\n    <tr>\n      <th>2</th>\n      <td>3</td>\n      <td>2018-10-22</td>\n      <td>12:46:12</td>\n      <td>320</td>\n      <td>312</td>\n      <td>25.1</td>\n      <td>17.9</td>\n    </tr>\n    <tr>\n      <th>3</th>\n      <td>4</td>\n      <td>2018-10-22</td>\n      <td>12:47:04</td>\n      <td>326</td>\n      <td>319</td>\n      <td>24.9</td>\n      <td>18.1</td>\n    </tr>\n    <tr>\n      <th>4</th>\n      <td>5</td>\n      <td>2018-10-22</td>\n      <td>12:47:56</td>\n      <td>335</td>\n      <td>329</td>\n      <td>24.9</td>\n      <td>18.0</td>\n    </tr>\n    <tr>\n      <th>...</th>\n      <td>...</td>\n      <td>...</td>\n      <td>...</td>\n      <td>...</td>\n      <td>...</td>\n      <td>...</td>\n      <td>...</td>\n    </tr>\n    <tr>\n      <th>615430</th>\n      <td>683664</td>\n      <td>2020-10-22</td>\n      <td>23:19:00</td>\n      <td>0</td>\n      <td>0</td>\n      <td>6.7</td>\n      <td>8.1</td>\n    </tr>\n    <tr>\n      <th>615431</th>\n      <td>683665</td>\n      <td>2020-10-22</td>\n      <td>23:23:57</td>\n      <td>0</td>\n      <td>0</td>\n      <td>6.7</td>\n      <td>8.0</td>\n    </tr>\n    <tr>\n      <th>615432</th>\n      <td>683666</td>\n      <td>2020-10-22</td>\n      <td>23:28:53</td>\n      <td>0</td>\n      <td>0</td>\n      <td>6.7</td>\n      <td>8.0</td>\n    </tr>\n    <tr>\n      <th>615433</th>\n      <td>683667</td>\n      <td>2020-10-22</td>\n      <td>23:33:49</td>\n      <td>0</td>\n      <td>0</td>\n      <td>6.7</td>\n      <td>8.0</td>\n    </tr>\n    <tr>\n      <th>615434</th>\n      <td>683668</td>\n      <td>2020-10-22</td>\n      <td>23:38:46</td>\n      <td>0</td>\n      <td>0</td>\n      <td>6.7</td>\n      <td>8.0</td>\n    </tr>\n  </tbody>\n</table>\n<p>615435 rows × 7 columns</p>\n</div>"
     },
     "metadata": {},
     "execution_count": 46
    }
   ],
   "source": [
    "## 파일불러오기 ( 추가데이터 포함되어 있는 것은 제외 )\n",
    "# def ent_loadfile(solar_path, weather_path):\n",
    "#     ent_data_solar = pd.read_csv(solar_path)\n",
    "#     ent_data_weather = pd.read_csv(weather_path)\n",
    "\n",
    "#     return ent_data_solar, ent_data_weather\n",
    "\n",
    "\n",
    "# ent_data_solar, ent_data_weather = ent_loadfile(\n",
    "#     \"./ENITT_SOLAR_DATA/ENITT_SOLAR_DATA/A365. 반포써밋2블럭 발전량.csv\", \n",
    "#     \"./ENITT_SOLAR_DATA/ENITT_SOLAR_DATA/A365. 반포써밋2블럭 환경센서.csv\")\n",
    "\n",
    "# ent_data_solar[\"pow_date\"].unique() ## 약 2018-11-26~ 2020-03-02 \n",
    "# ent_data_weather[\"env_date\"].unique() ## 약 2018-11-26 ~ 2020-03-03  \n",
    "\n",
    "# -> low data인 환경정보로 정리 필요 // \n",
    "\n",
    "## 외부데이터 불러오기 \n",
    "def other_loadfile(a, b, c): ## 임의로 수정 필요 \n",
    "    other_data_dummy1 = pd.read_csv(a, encoding=\"ms949\")\n",
    "    other_data_dummy2 = pd.read_csv(b, encoding=\"ms949\")\n",
    "    other_data_dummy3 = pd.read_csv(c, encoding=\"ms949\")\n",
    "\n",
    "    return other_data_dummy1, other_data_dummy2, other_data_dummy3\n",
    "\n",
    "other_data_dummy1, other_data_dummy2, other_data_dummy3 = other_loadfile(\n",
    "    \"./ENITT_SOLAR_DATA/re_allweather/allweather2018.csv\",\n",
    "    \"./ENITT_SOLAR_DATA/re_allweather/allweather2019.csv\",\n",
    "    \"./ENITT_SOLAR_DATA/re_allweather/allweather2020.csv\")\n",
    "\n",
    "\n",
    "other_data_dummyall = other_data_dummy1.merge(other_data_dummy2, how=\"outer\").merge(other_data_dummy3, how=\"outer\")\n",
    "other_data_weather = other_data_dummyall[other_data_dummyall[\"지점명\"] == \"수원\"]\n",
    "other_data_weather[\"지점명\"].unique()\n",
    "\n",
    "other_data_dummy1 = pd.read_csv(\"./ENITT_SOLAR_DATA/otherdata/otherdata.csv\", encoding=\"ms949\")\n",
    "other_data_solar = other_data_dummy1[other_data_dummy1[\"발전기명\"] == \"안산연성정수장태양광\"]\n",
    "other_data_solar[\"발전기명\"].unique()\n",
    "# 2019-06-16 13:00\n",
    "# ent_data_weather.loc[ent_data_weather[\"env_date\"] == \"2019-06-16\"]\n",
    "\n",
    "# print()\n",
    "ent_data_solar1 = ent_data_solar[ent_data_solar[\"pow_id\"] == 2]\n",
    "ent_data_weather\n"
   ]
  },
  {
   "cell_type": "code",
   "execution_count": 47,
   "metadata": {},
   "outputs": [
    {
     "output_type": "execute_result",
     "data": {
      "text/plain": [
       "                    기온  강수량   풍속     풍향    습도   일조   일사   적설   전운량  지중온도\n",
       "일시                                                                      \n",
       "2018-01-01 00:00  -1.8  0.0  2.0  290.0  43.0  0.0  0.0  0.0   0.0   0.0\n",
       "2018-01-01 01:00  -2.6  0.0  0.9  270.0  46.0  0.0  0.0  0.0   0.0   0.0\n",
       "2018-01-01 02:00  -3.0  0.0  1.1  320.0  48.0  0.0  0.0  0.0   0.0   0.0\n",
       "2018-01-01 03:00  -4.2  0.0  0.4    0.0  58.0  0.0  0.0  0.0   0.0   0.0\n",
       "2018-01-01 04:00  -5.3  0.0  0.0    0.0  65.0  0.0  0.0  0.0   0.0   0.0\n",
       "...                ...  ...  ...    ...   ...  ...  ...  ...   ...   ...\n",
       "2020-10-31 19:00  14.2  0.0  1.0  270.0  65.0  0.0  0.0  0.0   8.0   0.0\n",
       "2020-10-31 20:00  14.7  0.0  1.3  230.0  63.0  0.0  0.0  0.0  10.0   0.0\n",
       "2020-10-31 21:00  14.7  0.0  1.7  200.0  62.0  0.0  0.0  0.0   6.0   0.0\n",
       "2020-10-31 22:00  13.4  0.0  1.5  140.0  69.0  0.0  0.0  0.0   9.0   0.0\n",
       "2020-10-31 23:00  14.1  0.0  1.1  180.0  65.0  0.0  0.0  0.0   3.0   0.0\n",
       "\n",
       "[24838 rows x 10 columns]"
      ],
      "text/html": "<div>\n<style scoped>\n    .dataframe tbody tr th:only-of-type {\n        vertical-align: middle;\n    }\n\n    .dataframe tbody tr th {\n        vertical-align: top;\n    }\n\n    .dataframe thead th {\n        text-align: right;\n    }\n</style>\n<table border=\"1\" class=\"dataframe\">\n  <thead>\n    <tr style=\"text-align: right;\">\n      <th></th>\n      <th>기온</th>\n      <th>강수량</th>\n      <th>풍속</th>\n      <th>풍향</th>\n      <th>습도</th>\n      <th>일조</th>\n      <th>일사</th>\n      <th>적설</th>\n      <th>전운량</th>\n      <th>지중온도</th>\n    </tr>\n    <tr>\n      <th>일시</th>\n      <th></th>\n      <th></th>\n      <th></th>\n      <th></th>\n      <th></th>\n      <th></th>\n      <th></th>\n      <th></th>\n      <th></th>\n      <th></th>\n    </tr>\n  </thead>\n  <tbody>\n    <tr>\n      <th>2018-01-01 00:00</th>\n      <td>-1.8</td>\n      <td>0.0</td>\n      <td>2.0</td>\n      <td>290.0</td>\n      <td>43.0</td>\n      <td>0.0</td>\n      <td>0.0</td>\n      <td>0.0</td>\n      <td>0.0</td>\n      <td>0.0</td>\n    </tr>\n    <tr>\n      <th>2018-01-01 01:00</th>\n      <td>-2.6</td>\n      <td>0.0</td>\n      <td>0.9</td>\n      <td>270.0</td>\n      <td>46.0</td>\n      <td>0.0</td>\n      <td>0.0</td>\n      <td>0.0</td>\n      <td>0.0</td>\n      <td>0.0</td>\n    </tr>\n    <tr>\n      <th>2018-01-01 02:00</th>\n      <td>-3.0</td>\n      <td>0.0</td>\n      <td>1.1</td>\n      <td>320.0</td>\n      <td>48.0</td>\n      <td>0.0</td>\n      <td>0.0</td>\n      <td>0.0</td>\n      <td>0.0</td>\n      <td>0.0</td>\n    </tr>\n    <tr>\n      <th>2018-01-01 03:00</th>\n      <td>-4.2</td>\n      <td>0.0</td>\n      <td>0.4</td>\n      <td>0.0</td>\n      <td>58.0</td>\n      <td>0.0</td>\n      <td>0.0</td>\n      <td>0.0</td>\n      <td>0.0</td>\n      <td>0.0</td>\n    </tr>\n    <tr>\n      <th>2018-01-01 04:00</th>\n      <td>-5.3</td>\n      <td>0.0</td>\n      <td>0.0</td>\n      <td>0.0</td>\n      <td>65.0</td>\n      <td>0.0</td>\n      <td>0.0</td>\n      <td>0.0</td>\n      <td>0.0</td>\n      <td>0.0</td>\n    </tr>\n    <tr>\n      <th>...</th>\n      <td>...</td>\n      <td>...</td>\n      <td>...</td>\n      <td>...</td>\n      <td>...</td>\n      <td>...</td>\n      <td>...</td>\n      <td>...</td>\n      <td>...</td>\n      <td>...</td>\n    </tr>\n    <tr>\n      <th>2020-10-31 19:00</th>\n      <td>14.2</td>\n      <td>0.0</td>\n      <td>1.0</td>\n      <td>270.0</td>\n      <td>65.0</td>\n      <td>0.0</td>\n      <td>0.0</td>\n      <td>0.0</td>\n      <td>8.0</td>\n      <td>0.0</td>\n    </tr>\n    <tr>\n      <th>2020-10-31 20:00</th>\n      <td>14.7</td>\n      <td>0.0</td>\n      <td>1.3</td>\n      <td>230.0</td>\n      <td>63.0</td>\n      <td>0.0</td>\n      <td>0.0</td>\n      <td>0.0</td>\n      <td>10.0</td>\n      <td>0.0</td>\n    </tr>\n    <tr>\n      <th>2020-10-31 21:00</th>\n      <td>14.7</td>\n      <td>0.0</td>\n      <td>1.7</td>\n      <td>200.0</td>\n      <td>62.0</td>\n      <td>0.0</td>\n      <td>0.0</td>\n      <td>0.0</td>\n      <td>6.0</td>\n      <td>0.0</td>\n    </tr>\n    <tr>\n      <th>2020-10-31 22:00</th>\n      <td>13.4</td>\n      <td>0.0</td>\n      <td>1.5</td>\n      <td>140.0</td>\n      <td>69.0</td>\n      <td>0.0</td>\n      <td>0.0</td>\n      <td>0.0</td>\n      <td>9.0</td>\n      <td>0.0</td>\n    </tr>\n    <tr>\n      <th>2020-10-31 23:00</th>\n      <td>14.1</td>\n      <td>0.0</td>\n      <td>1.1</td>\n      <td>180.0</td>\n      <td>65.0</td>\n      <td>0.0</td>\n      <td>0.0</td>\n      <td>0.0</td>\n      <td>3.0</td>\n      <td>0.0</td>\n    </tr>\n  </tbody>\n</table>\n<p>24838 rows × 10 columns</p>\n</div>"
     },
     "metadata": {},
     "execution_count": 47
    }
   ],
   "source": [
    "## DELETE COLUMN AND EDIT COLUMN\n",
    "\n",
    "## '지점', '지점명', '일시', '기온(°C)', '강수량(mm)', '풍속(m/s)', '풍향(16방위)', '습도(%)','일조(hr)', '일사(MJ/m2)', '적설(cm)', '전운량(10분위)', '10cm 지중온도(°C)'\n",
    "#=>\n",
    "\n",
    "## '기온', '강수량', '풍속', '풍향', '습도', '일조', '일사', '전운량', '지면온도'\n",
    "reset_other_weather = other_data_weather.set_index(\"일시\")\n",
    "reset_other_weather_need = reset_other_weather[['기온(°C)', '강수량(mm)', '풍속(m/s)', '풍향(16방위)', '습도(%)','일조(hr)', '일사(MJ/m2)', '적설(cm)', '전운량(10분위)', '10cm 지중온도(°C)']]\n",
    "reset_other_weather_need.columns = ['기온', '강수량', '풍속', '풍향', '습도', '일조', '일사', '적설', '전운량', '지중온도']\n",
    "reset_other_weather_need.fillna(0, inplace=True)\n",
    "reset_other_weather_need\n",
    "\n"
   ]
  },
  {
   "cell_type": "code",
   "execution_count": 48,
   "metadata": {},
   "outputs": [
    {
     "output_type": "execute_result",
     "data": {
      "text/plain": [
       "                    env_date dummy_time  env_slopesolar  env_levelsolar  \\\n",
       "2018-10-22 12:00  2018-10-22         12      333.375000      321.937500   \n",
       "2018-10-22 13:00  2018-10-22         13      490.514286      563.442857   \n",
       "2018-10-22 14:00  2018-10-22         14      368.214286      426.042857   \n",
       "2018-10-22 15:00  2018-10-22         15      242.214286      294.400000   \n",
       "2018-10-22 16:00  2018-10-22         16      116.159420      132.362319   \n",
       "...                      ...        ...             ...             ...   \n",
       "2020-10-22 13:00  2020-10-22         13      591.000000      775.615385   \n",
       "2020-10-22 14:00  2020-10-22         14      491.916667      695.333333   \n",
       "2020-10-22 15:00  2020-10-22         15      385.500000      638.750000   \n",
       "2020-10-22 16:00  2020-10-22         16      154.000000      280.461538   \n",
       "2020-10-22 17:00  2020-10-22         17       11.166667       15.750000   \n",
       "\n",
       "                  env_modtemp  env_airtemp  pow_totpower  \n",
       "2018-10-22 12:00    25.050000    17.881250        2000.0  \n",
       "2018-10-22 13:00    28.157143    18.405714        2000.0  \n",
       "2018-10-22 14:00    26.777143    19.221429        2000.0  \n",
       "2018-10-22 15:00    21.861429    18.455714        2000.0  \n",
       "2018-10-22 16:00    18.288406    17.346377           0.0  \n",
       "...                       ...          ...           ...  \n",
       "2020-10-22 13:00    25.476923    16.830769           0.0  \n",
       "2020-10-22 14:00    23.758333    17.483333           0.0  \n",
       "2020-10-22 15:00    21.791667    17.800000           0.0  \n",
       "2020-10-22 16:00    16.684615    15.915385           0.0  \n",
       "2020-10-22 17:00    12.875000    13.850000           0.0  \n",
       "\n",
       "[2732 rows x 7 columns]"
      ],
      "text/html": "<div>\n<style scoped>\n    .dataframe tbody tr th:only-of-type {\n        vertical-align: middle;\n    }\n\n    .dataframe tbody tr th {\n        vertical-align: top;\n    }\n\n    .dataframe thead th {\n        text-align: right;\n    }\n</style>\n<table border=\"1\" class=\"dataframe\">\n  <thead>\n    <tr style=\"text-align: right;\">\n      <th></th>\n      <th>env_date</th>\n      <th>dummy_time</th>\n      <th>env_slopesolar</th>\n      <th>env_levelsolar</th>\n      <th>env_modtemp</th>\n      <th>env_airtemp</th>\n      <th>pow_totpower</th>\n    </tr>\n  </thead>\n  <tbody>\n    <tr>\n      <th>2018-10-22 12:00</th>\n      <td>2018-10-22</td>\n      <td>12</td>\n      <td>333.375000</td>\n      <td>321.937500</td>\n      <td>25.050000</td>\n      <td>17.881250</td>\n      <td>2000.0</td>\n    </tr>\n    <tr>\n      <th>2018-10-22 13:00</th>\n      <td>2018-10-22</td>\n      <td>13</td>\n      <td>490.514286</td>\n      <td>563.442857</td>\n      <td>28.157143</td>\n      <td>18.405714</td>\n      <td>2000.0</td>\n    </tr>\n    <tr>\n      <th>2018-10-22 14:00</th>\n      <td>2018-10-22</td>\n      <td>14</td>\n      <td>368.214286</td>\n      <td>426.042857</td>\n      <td>26.777143</td>\n      <td>19.221429</td>\n      <td>2000.0</td>\n    </tr>\n    <tr>\n      <th>2018-10-22 15:00</th>\n      <td>2018-10-22</td>\n      <td>15</td>\n      <td>242.214286</td>\n      <td>294.400000</td>\n      <td>21.861429</td>\n      <td>18.455714</td>\n      <td>2000.0</td>\n    </tr>\n    <tr>\n      <th>2018-10-22 16:00</th>\n      <td>2018-10-22</td>\n      <td>16</td>\n      <td>116.159420</td>\n      <td>132.362319</td>\n      <td>18.288406</td>\n      <td>17.346377</td>\n      <td>0.0</td>\n    </tr>\n    <tr>\n      <th>...</th>\n      <td>...</td>\n      <td>...</td>\n      <td>...</td>\n      <td>...</td>\n      <td>...</td>\n      <td>...</td>\n      <td>...</td>\n    </tr>\n    <tr>\n      <th>2020-10-22 13:00</th>\n      <td>2020-10-22</td>\n      <td>13</td>\n      <td>591.000000</td>\n      <td>775.615385</td>\n      <td>25.476923</td>\n      <td>16.830769</td>\n      <td>0.0</td>\n    </tr>\n    <tr>\n      <th>2020-10-22 14:00</th>\n      <td>2020-10-22</td>\n      <td>14</td>\n      <td>491.916667</td>\n      <td>695.333333</td>\n      <td>23.758333</td>\n      <td>17.483333</td>\n      <td>0.0</td>\n    </tr>\n    <tr>\n      <th>2020-10-22 15:00</th>\n      <td>2020-10-22</td>\n      <td>15</td>\n      <td>385.500000</td>\n      <td>638.750000</td>\n      <td>21.791667</td>\n      <td>17.800000</td>\n      <td>0.0</td>\n    </tr>\n    <tr>\n      <th>2020-10-22 16:00</th>\n      <td>2020-10-22</td>\n      <td>16</td>\n      <td>154.000000</td>\n      <td>280.461538</td>\n      <td>16.684615</td>\n      <td>15.915385</td>\n      <td>0.0</td>\n    </tr>\n    <tr>\n      <th>2020-10-22 17:00</th>\n      <td>2020-10-22</td>\n      <td>17</td>\n      <td>11.166667</td>\n      <td>15.750000</td>\n      <td>12.875000</td>\n      <td>13.850000</td>\n      <td>0.0</td>\n    </tr>\n  </tbody>\n</table>\n<p>2732 rows × 7 columns</p>\n</div>"
     },
     "metadata": {},
     "execution_count": 48
    }
   ],
   "source": [
    "## 기업 solar weather EDA -> 필요\n",
    "ent_data_weather.columns \n",
    "\n",
    "ent_data_weather[\"env_levelsolar\"].describe()\n",
    "ent_data_weather[\"env_slopesolar\"].describe()\n",
    "\n",
    "\n",
    "## 기업 날씨 데이터 1시간 별로 groupby , ( slopesolar, levelsolar => sum) , ( modtemp, airtemp => mean )\n",
    "def groupby_weather():\n",
    "    ## time 구분\n",
    "    dummy_time_list = []\n",
    "    for i in ent_data_weather[\"env_time\"]:\n",
    "        dummy_time_list.append(i[:2])\n",
    "\n",
    "    ent_data_weather[\"dummy_time\"] = dummy_time_list\n",
    "    dummy_groupbyall = ent_data_weather.groupby([\"env_date\", \"dummy_time\"]).mean()\n",
    "    ent_data_weather_groupby = dummy_groupbyall.reset_index() ## 그룹화된 인덱스 풀기 \n",
    "\n",
    "    ### 발전량이 거의 없는 데이터 삭제 ( 9~ 19 까지만 살린다)\n",
    "    drop_data = ent_data_weather_groupby.isin({\"dummy_time\" : [\"00\", \"01\", \"02\", \"03\", \"04\", \"05\", \"06\", \"07\",\"08\", \"19\", \"20\", \"21\", \"22\", \"23\"]})\n",
    "    ent_data_weather_sort = ent_data_weather_groupby[~drop_data].dropna()\n",
    "    # print(ent_data_weather_sort)\n",
    "    ent_data_weather_sort.drop(\"env_index\", axis=1, inplace=True)\n",
    "\n",
    "    return ent_data_weather_sort\n",
    "\n",
    "\n",
    "\n",
    "\n",
    "## 기업 발전량 데이터 groupby\n",
    "def groupby_solar():\n",
    "    ## 필요한 컬럼만 가져오기\n",
    "    ent_data_need = ent_data_solar1[[\"pow_date\", \"pow_time\", \"pow_totpower\"]]\n",
    "\n",
    "    ## time 구분\n",
    "    dummy_time_list = []\n",
    "    for i in ent_data_need[\"pow_time\"]:\n",
    "        dummy_time_list.append(i[:2])\n",
    "    ent_data_need[\"dummy_time\"] = dummy_time_list\n",
    "\n",
    "    dummy_groupby1 = ent_data_need.groupby([\"pow_date\", \"dummy_time\"]).min()\n",
    "    dummy_groupby2 = ent_data_need.groupby([\"pow_date\", \"dummy_time\"]).max()\n",
    "\n",
    "    ## 최대값과 최솟값 차 = 1시간동안 발전한 총용량\n",
    "    ## 최대값과 최솟값이 같을 경우 = 발전량 0 or 그 시간대 총발전량이 1개밖에 없어 비교 불가능한 경우\n",
    "    ent_data_perhour = dummy_groupby2[\"pow_totpower\"] - dummy_groupby1[\"pow_totpower\"]\n",
    "    ent_data_perhour = ent_data_perhour.reset_index()\n",
    "\n",
    "    ### 발전량이 거의 없는 데이터 삭제 ( 8~ 19 까지만 살린다)\n",
    "    drop_data = ent_data_perhour.isin({\"dummy_time\" : [\"00\", \"01\", \"02\", \"03\", \"04\", \"05\", \"06\", \"07\",\"08\", \"19\", \"20\", \"21\", \"22\", \"23\"]})\n",
    "    ent_data_perhour_sort = ent_data_perhour[~drop_data].dropna()\n",
    "\n",
    "    return ent_data_perhour_sort\n",
    "    # print(ent_data_perhour_sort[\"dummy_time\"].unique())\n",
    "\n",
    "\n",
    "\n",
    "\n",
    "### weather, solar join\n",
    "def join_weather_solar(a, b):\n",
    "    sub_index1 = a[\"env_date\"] + \" \" + a[\"dummy_time\"] + \":00\"\n",
    "    a.index = sub_index1\n",
    "\n",
    "    sub_index2 = b[\"pow_date\"] + \" \" + b[\"dummy_time\"] + \":00\"\n",
    "    b.index = sub_index2\n",
    "\n",
    "    joinset = a.join(b[\"pow_totpower\"])\n",
    "    ent_data_solar_weather = joinset.dropna()\n",
    "\n",
    "\n",
    "    return ent_data_solar_weather\n",
    "\n",
    "ent_data_weather_sort = groupby_weather()\n",
    "ent_data_perhour_sort = groupby_solar()\n",
    "ent_data_solar_weather = join_weather_solar(ent_data_weather_sort, ent_data_perhour_sort)\n",
    "ent_data_solar_weather\n",
    "# pow_perhour \n",
    "# sns.boxplot(ent_data_weather_sort[\"env_slopesolar\"])\n",
    "# sns.boxplot(ent_data_weather_sort[\"env_levelsolar\"])\n",
    "# sns.boxplot(data = ent_data_weather_sort[[\"env_slopesolar\", \"env_levelsolar\"]])\n",
    "# ent_data_weather_sort[[\"env_slopesolar\", \"env_levelsolar\"]]\n",
    "\n",
    "# print(len(joinset) - 2504)\n"
   ]
  },
  {
   "cell_type": "code",
   "execution_count": 67,
   "metadata": {},
   "outputs": [],
   "source": [
    "## 기업, 공공 join\n",
    "\n",
    "join_ent_other = ent_data_solar_weather.join(reset_other_weather_need)\n",
    "join_ent_other[\"일사\"].fillna(0, inplace=True)\n",
    "# join_ent_other\n",
    "join_ent_other[\"match_solar\"] = join_ent_other[\"일사\"] * 1000000 / 3600\n",
    "join_ent_other_set = join_ent_other.drop([\"env_date\", \"dummy_time\"], axis=1)\n",
    "\n",
    "## csv로 저장\n",
    "join_ent_other_set.to_csv('banpo2_join.csv', encoding='utf-8')\n"
   ]
  },
  {
   "cell_type": "code",
   "execution_count": 68,
   "metadata": {},
   "outputs": [
    {
     "output_type": "execute_result",
     "data": {
      "text/plain": [
       "       env_slopesolar  env_levelsolar  env_modtemp  env_airtemp  pow_totpower  \\\n",
       "count     2732.000000     2732.000000  2732.000000  2732.000000   2732.000000   \n",
       "mean       306.928125      381.967506    16.127659    10.659621   1743.777452   \n",
       "std        229.872269      299.118494    12.350629    10.348960   1537.597194   \n",
       "min          0.000000        0.000000   -12.568571   -14.415714      0.000000   \n",
       "25%         95.989752       99.521429     6.431884     2.358706      0.000000   \n",
       "50%        292.538406      338.257143    14.068571     9.120807   2000.000000   \n",
       "75%        489.274137      644.288043    24.982252    19.049141   3000.000000   \n",
       "max        987.333333     1028.100000    53.960000    37.808571   7000.000000   \n",
       "\n",
       "                기온          강수량           풍속           풍향           습도  \\\n",
       "count  2732.000000  2732.000000  2732.000000  2732.000000  2732.000000   \n",
       "mean     11.735505     0.119802     2.248353   204.183748    61.296486   \n",
       "std       9.977571     1.135860     1.260556    94.761123    19.429466   \n",
       "min     -11.900000     0.000000     0.000000     0.000000    13.000000   \n",
       "25%       3.500000     0.000000     1.300000   110.000000    48.000000   \n",
       "50%      10.600000     0.000000     2.100000   230.000000    60.000000   \n",
       "75%      19.700000     0.000000     3.000000   290.000000    75.000000   \n",
       "max      35.900000    28.700000    13.100000   360.000000   100.000000   \n",
       "\n",
       "                일조           일사           적설          전운량         지중온도  \\\n",
       "count  2732.000000  2732.000000  2732.000000  2732.000000  2732.000000   \n",
       "mean      0.647621     1.101658     0.020974     4.768668     0.021852   \n",
       "std       0.427709     0.715799     0.199733     3.944869     0.808728   \n",
       "min       0.000000     0.000000     0.000000     0.000000     0.000000   \n",
       "25%       0.100000     0.470000     0.000000     0.000000     0.000000   \n",
       "50%       0.950000     1.030000     0.000000     5.000000     0.000000   \n",
       "75%       1.000000     1.630000     0.000000     9.000000     0.000000   \n",
       "max       1.000000     3.350000     4.200000    10.000000    31.500000   \n",
       "\n",
       "       match_solar  \n",
       "count  2732.000000  \n",
       "mean    306.016146  \n",
       "std     198.833127  \n",
       "min       0.000000  \n",
       "25%     130.555556  \n",
       "50%     286.111111  \n",
       "75%     452.777778  \n",
       "max     930.555556  "
      ],
      "text/html": "<div>\n<style scoped>\n    .dataframe tbody tr th:only-of-type {\n        vertical-align: middle;\n    }\n\n    .dataframe tbody tr th {\n        vertical-align: top;\n    }\n\n    .dataframe thead th {\n        text-align: right;\n    }\n</style>\n<table border=\"1\" class=\"dataframe\">\n  <thead>\n    <tr style=\"text-align: right;\">\n      <th></th>\n      <th>env_slopesolar</th>\n      <th>env_levelsolar</th>\n      <th>env_modtemp</th>\n      <th>env_airtemp</th>\n      <th>pow_totpower</th>\n      <th>기온</th>\n      <th>강수량</th>\n      <th>풍속</th>\n      <th>풍향</th>\n      <th>습도</th>\n      <th>일조</th>\n      <th>일사</th>\n      <th>적설</th>\n      <th>전운량</th>\n      <th>지중온도</th>\n      <th>match_solar</th>\n    </tr>\n  </thead>\n  <tbody>\n    <tr>\n      <th>count</th>\n      <td>2732.000000</td>\n      <td>2732.000000</td>\n      <td>2732.000000</td>\n      <td>2732.000000</td>\n      <td>2732.000000</td>\n      <td>2732.000000</td>\n      <td>2732.000000</td>\n      <td>2732.000000</td>\n      <td>2732.000000</td>\n      <td>2732.000000</td>\n      <td>2732.000000</td>\n      <td>2732.000000</td>\n      <td>2732.000000</td>\n      <td>2732.000000</td>\n      <td>2732.000000</td>\n      <td>2732.000000</td>\n    </tr>\n    <tr>\n      <th>mean</th>\n      <td>306.928125</td>\n      <td>381.967506</td>\n      <td>16.127659</td>\n      <td>10.659621</td>\n      <td>1743.777452</td>\n      <td>11.735505</td>\n      <td>0.119802</td>\n      <td>2.248353</td>\n      <td>204.183748</td>\n      <td>61.296486</td>\n      <td>0.647621</td>\n      <td>1.101658</td>\n      <td>0.020974</td>\n      <td>4.768668</td>\n      <td>0.021852</td>\n      <td>306.016146</td>\n    </tr>\n    <tr>\n      <th>std</th>\n      <td>229.872269</td>\n      <td>299.118494</td>\n      <td>12.350629</td>\n      <td>10.348960</td>\n      <td>1537.597194</td>\n      <td>9.977571</td>\n      <td>1.135860</td>\n      <td>1.260556</td>\n      <td>94.761123</td>\n      <td>19.429466</td>\n      <td>0.427709</td>\n      <td>0.715799</td>\n      <td>0.199733</td>\n      <td>3.944869</td>\n      <td>0.808728</td>\n      <td>198.833127</td>\n    </tr>\n    <tr>\n      <th>min</th>\n      <td>0.000000</td>\n      <td>0.000000</td>\n      <td>-12.568571</td>\n      <td>-14.415714</td>\n      <td>0.000000</td>\n      <td>-11.900000</td>\n      <td>0.000000</td>\n      <td>0.000000</td>\n      <td>0.000000</td>\n      <td>13.000000</td>\n      <td>0.000000</td>\n      <td>0.000000</td>\n      <td>0.000000</td>\n      <td>0.000000</td>\n      <td>0.000000</td>\n      <td>0.000000</td>\n    </tr>\n    <tr>\n      <th>25%</th>\n      <td>95.989752</td>\n      <td>99.521429</td>\n      <td>6.431884</td>\n      <td>2.358706</td>\n      <td>0.000000</td>\n      <td>3.500000</td>\n      <td>0.000000</td>\n      <td>1.300000</td>\n      <td>110.000000</td>\n      <td>48.000000</td>\n      <td>0.100000</td>\n      <td>0.470000</td>\n      <td>0.000000</td>\n      <td>0.000000</td>\n      <td>0.000000</td>\n      <td>130.555556</td>\n    </tr>\n    <tr>\n      <th>50%</th>\n      <td>292.538406</td>\n      <td>338.257143</td>\n      <td>14.068571</td>\n      <td>9.120807</td>\n      <td>2000.000000</td>\n      <td>10.600000</td>\n      <td>0.000000</td>\n      <td>2.100000</td>\n      <td>230.000000</td>\n      <td>60.000000</td>\n      <td>0.950000</td>\n      <td>1.030000</td>\n      <td>0.000000</td>\n      <td>5.000000</td>\n      <td>0.000000</td>\n      <td>286.111111</td>\n    </tr>\n    <tr>\n      <th>75%</th>\n      <td>489.274137</td>\n      <td>644.288043</td>\n      <td>24.982252</td>\n      <td>19.049141</td>\n      <td>3000.000000</td>\n      <td>19.700000</td>\n      <td>0.000000</td>\n      <td>3.000000</td>\n      <td>290.000000</td>\n      <td>75.000000</td>\n      <td>1.000000</td>\n      <td>1.630000</td>\n      <td>0.000000</td>\n      <td>9.000000</td>\n      <td>0.000000</td>\n      <td>452.777778</td>\n    </tr>\n    <tr>\n      <th>max</th>\n      <td>987.333333</td>\n      <td>1028.100000</td>\n      <td>53.960000</td>\n      <td>37.808571</td>\n      <td>7000.000000</td>\n      <td>35.900000</td>\n      <td>28.700000</td>\n      <td>13.100000</td>\n      <td>360.000000</td>\n      <td>100.000000</td>\n      <td>1.000000</td>\n      <td>3.350000</td>\n      <td>4.200000</td>\n      <td>10.000000</td>\n      <td>31.500000</td>\n      <td>930.555556</td>\n    </tr>\n  </tbody>\n</table>\n</div>"
     },
     "metadata": {},
     "execution_count": 68
    }
   ],
   "source": [
    "join_ent_other_set.describe()"
   ]
  },
  {
   "cell_type": "code",
   "execution_count": 54,
   "metadata": {},
   "outputs": [
    {
     "output_type": "execute_result",
     "data": {
      "text/plain": [
       "                env_slopesolar  env_levelsolar  env_modtemp  env_airtemp  \\\n",
       "env_slopesolar        1.000000        0.938294     0.586638     0.241779   \n",
       "env_levelsolar        0.938294        1.000000     0.422307     0.082284   \n",
       "env_modtemp           0.586638        0.422307     1.000000     0.916668   \n",
       "env_airtemp           0.241779        0.082284     0.916668     1.000000   \n",
       "pow_totpower          0.835361        0.752615     0.512554     0.215747   \n",
       "기온                    0.210707        0.053773     0.896700     0.993384   \n",
       "강수량                  -0.100240       -0.104501     0.007827     0.048974   \n",
       "풍속                    0.063789        0.097289     0.021507     0.066188   \n",
       "풍향                    0.062582        0.159201    -0.167533    -0.179008   \n",
       "습도                   -0.286117       -0.426450     0.022178     0.128381   \n",
       "일조                    0.496183        0.586168     0.116027    -0.068597   \n",
       "일사                    0.828266        0.826845     0.573293     0.319893   \n",
       "적설                   -0.036115       -0.028047    -0.139754    -0.140051   \n",
       "전운량                  -0.382367       -0.507141     0.030325     0.185698   \n",
       "지중온도                 -0.001340       -0.005971     0.038303     0.047055   \n",
       "match_solar           0.828266        0.826845     0.573293     0.319893   \n",
       "\n",
       "                pow_totpower        기온       강수량        풍속        풍향  \\\n",
       "env_slopesolar      0.835361  0.210707 -0.100240  0.063789  0.062582   \n",
       "env_levelsolar      0.752615  0.053773 -0.104501  0.097289  0.159201   \n",
       "env_modtemp         0.512554  0.896700  0.007827  0.021507 -0.167533   \n",
       "env_airtemp         0.215747  0.993384  0.048974  0.066188 -0.179008   \n",
       "pow_totpower        1.000000  0.186886 -0.083452  0.024587 -0.004024   \n",
       "기온                  0.186886  1.000000  0.059740  0.094059 -0.161108   \n",
       "강수량                -0.083452  0.059740  1.000000 -0.023552 -0.030564   \n",
       "풍속                  0.024587  0.094059 -0.023552  1.000000  0.303634   \n",
       "풍향                 -0.004024 -0.161108 -0.030564  0.303634  1.000000   \n",
       "습도                 -0.158130  0.117871  0.190184 -0.181255 -0.307265   \n",
       "일조                  0.378076 -0.078241 -0.153574  0.147519  0.295043   \n",
       "일사                  0.655064  0.305825 -0.133663  0.222916  0.168242   \n",
       "적설                 -0.085272 -0.138921  0.012356  0.083420  0.033803   \n",
       "전운량                -0.270623  0.198022  0.136618 -0.082791 -0.286076   \n",
       "지중온도                0.003533  0.046115 -0.002851 -0.001274 -0.026866   \n",
       "match_solar         0.655064  0.305825 -0.133663  0.222916  0.168242   \n",
       "\n",
       "                      습도        일조        일사        적설       전운량      지중온도  \\\n",
       "env_slopesolar -0.286117  0.496183  0.828266 -0.036115 -0.382367 -0.001340   \n",
       "env_levelsolar -0.426450  0.586168  0.826845 -0.028047 -0.507141 -0.005971   \n",
       "env_modtemp     0.022178  0.116027  0.573293 -0.139754  0.030325  0.038303   \n",
       "env_airtemp     0.128381 -0.068597  0.319893 -0.140051  0.185698  0.047055   \n",
       "pow_totpower   -0.158130  0.378076  0.655064 -0.085272 -0.270623  0.003533   \n",
       "기온              0.117871 -0.078241  0.305825 -0.138921  0.198022  0.046115   \n",
       "강수량             0.190184 -0.153574 -0.133663  0.012356  0.136618 -0.002851   \n",
       "풍속             -0.181255  0.147519  0.222916  0.083420 -0.082791 -0.001274   \n",
       "풍향             -0.307265  0.295043  0.168242  0.033803 -0.286076 -0.026866   \n",
       "습도              1.000000 -0.551089 -0.453449  0.111577  0.478499 -0.006012   \n",
       "일조             -0.551089  1.000000  0.651208 -0.032613 -0.806660 -0.031973   \n",
       "일사             -0.453449  0.651208  1.000000 -0.041242 -0.434406 -0.014845   \n",
       "적설              0.111577 -0.032613 -0.041242  1.000000  0.051657 -0.002838   \n",
       "전운량             0.478499 -0.806660 -0.434406  0.051657  1.000000  0.010537   \n",
       "지중온도           -0.006012 -0.031973 -0.014845 -0.002838  0.010537  1.000000   \n",
       "match_solar    -0.453449  0.651208  1.000000 -0.041242 -0.434406 -0.014845   \n",
       "\n",
       "                match_solar  \n",
       "env_slopesolar     0.828266  \n",
       "env_levelsolar     0.826845  \n",
       "env_modtemp        0.573293  \n",
       "env_airtemp        0.319893  \n",
       "pow_totpower       0.655064  \n",
       "기온                 0.305825  \n",
       "강수량               -0.133663  \n",
       "풍속                 0.222916  \n",
       "풍향                 0.168242  \n",
       "습도                -0.453449  \n",
       "일조                 0.651208  \n",
       "일사                 1.000000  \n",
       "적설                -0.041242  \n",
       "전운량               -0.434406  \n",
       "지중온도              -0.014845  \n",
       "match_solar        1.000000  "
      ],
      "text/html": "<div>\n<style scoped>\n    .dataframe tbody tr th:only-of-type {\n        vertical-align: middle;\n    }\n\n    .dataframe tbody tr th {\n        vertical-align: top;\n    }\n\n    .dataframe thead th {\n        text-align: right;\n    }\n</style>\n<table border=\"1\" class=\"dataframe\">\n  <thead>\n    <tr style=\"text-align: right;\">\n      <th></th>\n      <th>env_slopesolar</th>\n      <th>env_levelsolar</th>\n      <th>env_modtemp</th>\n      <th>env_airtemp</th>\n      <th>pow_totpower</th>\n      <th>기온</th>\n      <th>강수량</th>\n      <th>풍속</th>\n      <th>풍향</th>\n      <th>습도</th>\n      <th>일조</th>\n      <th>일사</th>\n      <th>적설</th>\n      <th>전운량</th>\n      <th>지중온도</th>\n      <th>match_solar</th>\n    </tr>\n  </thead>\n  <tbody>\n    <tr>\n      <th>env_slopesolar</th>\n      <td>1.000000</td>\n      <td>0.938294</td>\n      <td>0.586638</td>\n      <td>0.241779</td>\n      <td>0.835361</td>\n      <td>0.210707</td>\n      <td>-0.100240</td>\n      <td>0.063789</td>\n      <td>0.062582</td>\n      <td>-0.286117</td>\n      <td>0.496183</td>\n      <td>0.828266</td>\n      <td>-0.036115</td>\n      <td>-0.382367</td>\n      <td>-0.001340</td>\n      <td>0.828266</td>\n    </tr>\n    <tr>\n      <th>env_levelsolar</th>\n      <td>0.938294</td>\n      <td>1.000000</td>\n      <td>0.422307</td>\n      <td>0.082284</td>\n      <td>0.752615</td>\n      <td>0.053773</td>\n      <td>-0.104501</td>\n      <td>0.097289</td>\n      <td>0.159201</td>\n      <td>-0.426450</td>\n      <td>0.586168</td>\n      <td>0.826845</td>\n      <td>-0.028047</td>\n      <td>-0.507141</td>\n      <td>-0.005971</td>\n      <td>0.826845</td>\n    </tr>\n    <tr>\n      <th>env_modtemp</th>\n      <td>0.586638</td>\n      <td>0.422307</td>\n      <td>1.000000</td>\n      <td>0.916668</td>\n      <td>0.512554</td>\n      <td>0.896700</td>\n      <td>0.007827</td>\n      <td>0.021507</td>\n      <td>-0.167533</td>\n      <td>0.022178</td>\n      <td>0.116027</td>\n      <td>0.573293</td>\n      <td>-0.139754</td>\n      <td>0.030325</td>\n      <td>0.038303</td>\n      <td>0.573293</td>\n    </tr>\n    <tr>\n      <th>env_airtemp</th>\n      <td>0.241779</td>\n      <td>0.082284</td>\n      <td>0.916668</td>\n      <td>1.000000</td>\n      <td>0.215747</td>\n      <td>0.993384</td>\n      <td>0.048974</td>\n      <td>0.066188</td>\n      <td>-0.179008</td>\n      <td>0.128381</td>\n      <td>-0.068597</td>\n      <td>0.319893</td>\n      <td>-0.140051</td>\n      <td>0.185698</td>\n      <td>0.047055</td>\n      <td>0.319893</td>\n    </tr>\n    <tr>\n      <th>pow_totpower</th>\n      <td>0.835361</td>\n      <td>0.752615</td>\n      <td>0.512554</td>\n      <td>0.215747</td>\n      <td>1.000000</td>\n      <td>0.186886</td>\n      <td>-0.083452</td>\n      <td>0.024587</td>\n      <td>-0.004024</td>\n      <td>-0.158130</td>\n      <td>0.378076</td>\n      <td>0.655064</td>\n      <td>-0.085272</td>\n      <td>-0.270623</td>\n      <td>0.003533</td>\n      <td>0.655064</td>\n    </tr>\n    <tr>\n      <th>기온</th>\n      <td>0.210707</td>\n      <td>0.053773</td>\n      <td>0.896700</td>\n      <td>0.993384</td>\n      <td>0.186886</td>\n      <td>1.000000</td>\n      <td>0.059740</td>\n      <td>0.094059</td>\n      <td>-0.161108</td>\n      <td>0.117871</td>\n      <td>-0.078241</td>\n      <td>0.305825</td>\n      <td>-0.138921</td>\n      <td>0.198022</td>\n      <td>0.046115</td>\n      <td>0.305825</td>\n    </tr>\n    <tr>\n      <th>강수량</th>\n      <td>-0.100240</td>\n      <td>-0.104501</td>\n      <td>0.007827</td>\n      <td>0.048974</td>\n      <td>-0.083452</td>\n      <td>0.059740</td>\n      <td>1.000000</td>\n      <td>-0.023552</td>\n      <td>-0.030564</td>\n      <td>0.190184</td>\n      <td>-0.153574</td>\n      <td>-0.133663</td>\n      <td>0.012356</td>\n      <td>0.136618</td>\n      <td>-0.002851</td>\n      <td>-0.133663</td>\n    </tr>\n    <tr>\n      <th>풍속</th>\n      <td>0.063789</td>\n      <td>0.097289</td>\n      <td>0.021507</td>\n      <td>0.066188</td>\n      <td>0.024587</td>\n      <td>0.094059</td>\n      <td>-0.023552</td>\n      <td>1.000000</td>\n      <td>0.303634</td>\n      <td>-0.181255</td>\n      <td>0.147519</td>\n      <td>0.222916</td>\n      <td>0.083420</td>\n      <td>-0.082791</td>\n      <td>-0.001274</td>\n      <td>0.222916</td>\n    </tr>\n    <tr>\n      <th>풍향</th>\n      <td>0.062582</td>\n      <td>0.159201</td>\n      <td>-0.167533</td>\n      <td>-0.179008</td>\n      <td>-0.004024</td>\n      <td>-0.161108</td>\n      <td>-0.030564</td>\n      <td>0.303634</td>\n      <td>1.000000</td>\n      <td>-0.307265</td>\n      <td>0.295043</td>\n      <td>0.168242</td>\n      <td>0.033803</td>\n      <td>-0.286076</td>\n      <td>-0.026866</td>\n      <td>0.168242</td>\n    </tr>\n    <tr>\n      <th>습도</th>\n      <td>-0.286117</td>\n      <td>-0.426450</td>\n      <td>0.022178</td>\n      <td>0.128381</td>\n      <td>-0.158130</td>\n      <td>0.117871</td>\n      <td>0.190184</td>\n      <td>-0.181255</td>\n      <td>-0.307265</td>\n      <td>1.000000</td>\n      <td>-0.551089</td>\n      <td>-0.453449</td>\n      <td>0.111577</td>\n      <td>0.478499</td>\n      <td>-0.006012</td>\n      <td>-0.453449</td>\n    </tr>\n    <tr>\n      <th>일조</th>\n      <td>0.496183</td>\n      <td>0.586168</td>\n      <td>0.116027</td>\n      <td>-0.068597</td>\n      <td>0.378076</td>\n      <td>-0.078241</td>\n      <td>-0.153574</td>\n      <td>0.147519</td>\n      <td>0.295043</td>\n      <td>-0.551089</td>\n      <td>1.000000</td>\n      <td>0.651208</td>\n      <td>-0.032613</td>\n      <td>-0.806660</td>\n      <td>-0.031973</td>\n      <td>0.651208</td>\n    </tr>\n    <tr>\n      <th>일사</th>\n      <td>0.828266</td>\n      <td>0.826845</td>\n      <td>0.573293</td>\n      <td>0.319893</td>\n      <td>0.655064</td>\n      <td>0.305825</td>\n      <td>-0.133663</td>\n      <td>0.222916</td>\n      <td>0.168242</td>\n      <td>-0.453449</td>\n      <td>0.651208</td>\n      <td>1.000000</td>\n      <td>-0.041242</td>\n      <td>-0.434406</td>\n      <td>-0.014845</td>\n      <td>1.000000</td>\n    </tr>\n    <tr>\n      <th>적설</th>\n      <td>-0.036115</td>\n      <td>-0.028047</td>\n      <td>-0.139754</td>\n      <td>-0.140051</td>\n      <td>-0.085272</td>\n      <td>-0.138921</td>\n      <td>0.012356</td>\n      <td>0.083420</td>\n      <td>0.033803</td>\n      <td>0.111577</td>\n      <td>-0.032613</td>\n      <td>-0.041242</td>\n      <td>1.000000</td>\n      <td>0.051657</td>\n      <td>-0.002838</td>\n      <td>-0.041242</td>\n    </tr>\n    <tr>\n      <th>전운량</th>\n      <td>-0.382367</td>\n      <td>-0.507141</td>\n      <td>0.030325</td>\n      <td>0.185698</td>\n      <td>-0.270623</td>\n      <td>0.198022</td>\n      <td>0.136618</td>\n      <td>-0.082791</td>\n      <td>-0.286076</td>\n      <td>0.478499</td>\n      <td>-0.806660</td>\n      <td>-0.434406</td>\n      <td>0.051657</td>\n      <td>1.000000</td>\n      <td>0.010537</td>\n      <td>-0.434406</td>\n    </tr>\n    <tr>\n      <th>지중온도</th>\n      <td>-0.001340</td>\n      <td>-0.005971</td>\n      <td>0.038303</td>\n      <td>0.047055</td>\n      <td>0.003533</td>\n      <td>0.046115</td>\n      <td>-0.002851</td>\n      <td>-0.001274</td>\n      <td>-0.026866</td>\n      <td>-0.006012</td>\n      <td>-0.031973</td>\n      <td>-0.014845</td>\n      <td>-0.002838</td>\n      <td>0.010537</td>\n      <td>1.000000</td>\n      <td>-0.014845</td>\n    </tr>\n    <tr>\n      <th>match_solar</th>\n      <td>0.828266</td>\n      <td>0.826845</td>\n      <td>0.573293</td>\n      <td>0.319893</td>\n      <td>0.655064</td>\n      <td>0.305825</td>\n      <td>-0.133663</td>\n      <td>0.222916</td>\n      <td>0.168242</td>\n      <td>-0.453449</td>\n      <td>0.651208</td>\n      <td>1.000000</td>\n      <td>-0.041242</td>\n      <td>-0.434406</td>\n      <td>-0.014845</td>\n      <td>1.000000</td>\n    </tr>\n  </tbody>\n</table>\n</div>"
     },
     "metadata": {},
     "execution_count": 54
    }
   ],
   "source": [
    "join_ent_other_set.corr()"
   ]
  },
  {
   "cell_type": "code",
   "execution_count": 69,
   "metadata": {},
   "outputs": [
    {
     "output_type": "execute_result",
     "data": {
      "text/plain": [
       "<matplotlib.axes._subplots.AxesSubplot at 0x1503532a488>"
      ]
     },
     "metadata": {},
     "execution_count": 69
    },
    {
     "output_type": "display_data",
     "data": {
      "text/plain": "<Figure size 432x288 with 1 Axes>",
      "image/svg+xml": "<?xml version=\"1.0\" encoding=\"utf-8\" standalone=\"no\"?>\r\n<!DOCTYPE svg PUBLIC \"-//W3C//DTD SVG 1.1//EN\"\r\n  \"http://www.w3.org/Graphics/SVG/1.1/DTD/svg11.dtd\">\r\n<!-- Created with matplotlib (https://matplotlib.org/) -->\r\n<svg height=\"248.79625pt\" version=\"1.1\" viewBox=\"0 0 381.65 248.79625\" width=\"381.65pt\" xmlns=\"http://www.w3.org/2000/svg\" xmlns:xlink=\"http://www.w3.org/1999/xlink\">\r\n <defs>\r\n  <style type=\"text/css\">\r\n*{stroke-linecap:butt;stroke-linejoin:round;}\r\n  </style>\r\n </defs>\r\n <g id=\"figure_1\">\r\n  <g id=\"patch_1\">\r\n   <path d=\"M -0 248.79625 \r\nL 381.65 248.79625 \r\nL 381.65 0 \r\nL -0 0 \r\nz\r\n\" style=\"fill:none;\"/>\r\n  </g>\r\n  <g id=\"axes_1\">\r\n   <g id=\"patch_2\">\r\n    <path d=\"M 39.65 224.64 \r\nL 374.45 224.64 \r\nL 374.45 7.2 \r\nL 39.65 7.2 \r\nz\r\n\" style=\"fill:#ffffff;\"/>\r\n   </g>\r\n   <g id=\"patch_3\">\r\n    <path clip-path=\"url(#pe8c54ef246)\" d=\"M 50.81 196.30042 \r\nL 140.09 196.30042 \r\nL 140.09 120.683654 \r\nL 50.81 120.683654 \r\nL 50.81 196.30042 \r\nz\r\n\" style=\"fill:#3274a1;stroke:#3d3d3d;stroke-linejoin:miter;stroke-width:1.5;\"/>\r\n   </g>\r\n   <g id=\"patch_4\">\r\n    <path clip-path=\"url(#pe8c54ef246)\" d=\"M 162.41 195.621384 \r\nL 251.69 195.621384 \r\nL 251.69 90.879139 \r\nL 162.41 90.879139 \r\nL 162.41 195.621384 \r\nz\r\n\" style=\"fill:#e1812c;stroke:#3d3d3d;stroke-linejoin:miter;stroke-width:1.5;\"/>\r\n   </g>\r\n   <g id=\"patch_5\">\r\n    <path clip-path=\"url(#pe8c54ef246)\" d=\"M 274.01 189.654455 \r\nL 363.29 189.654455 \r\nL 363.29 127.700807 \r\nL 274.01 127.700807 \r\nL 274.01 189.654455 \r\nz\r\n\" style=\"fill:#3a923a;stroke:#3d3d3d;stroke-linejoin:miter;stroke-width:1.5;\"/>\r\n   </g>\r\n   <g id=\"matplotlib.axis_1\">\r\n    <g id=\"xtick_1\">\r\n     <g id=\"line2d_1\">\r\n      <defs>\r\n       <path d=\"M 0 0 \r\nL 0 3.5 \r\n\" id=\"m479fb41a8f\" style=\"stroke:#000000;stroke-width:0.8;\"/>\r\n      </defs>\r\n      <g>\r\n       <use style=\"stroke:#000000;stroke-width:0.8;\" x=\"95.45\" xlink:href=\"#m479fb41a8f\" y=\"224.64\"/>\r\n      </g>\r\n     </g>\r\n     <g id=\"text_1\">\r\n      <!-- env_slopesolar -->\r\n      <defs>\r\n       <path d=\"M 56.203125 29.59375 \r\nL 56.203125 25.203125 \r\nL 14.890625 25.203125 \r\nQ 15.484375 15.921875 20.484375 11.0625 \r\nQ 25.484375 6.203125 34.421875 6.203125 \r\nQ 39.59375 6.203125 44.453125 7.46875 \r\nQ 49.3125 8.734375 54.109375 11.28125 \r\nL 54.109375 2.78125 \r\nQ 49.265625 0.734375 44.1875 -0.34375 \r\nQ 39.109375 -1.421875 33.890625 -1.421875 \r\nQ 20.796875 -1.421875 13.15625 6.1875 \r\nQ 5.515625 13.8125 5.515625 26.8125 \r\nQ 5.515625 40.234375 12.765625 48.109375 \r\nQ 20.015625 56 32.328125 56 \r\nQ 43.359375 56 49.78125 48.890625 \r\nQ 56.203125 41.796875 56.203125 29.59375 \r\nz\r\nM 47.21875 32.234375 \r\nQ 47.125 39.59375 43.09375 43.984375 \r\nQ 39.0625 48.390625 32.421875 48.390625 \r\nQ 24.90625 48.390625 20.390625 44.140625 \r\nQ 15.875 39.890625 15.1875 32.171875 \r\nz\r\n\" id=\"DejaVuSans-101\"/>\r\n       <path d=\"M 54.890625 33.015625 \r\nL 54.890625 0 \r\nL 45.90625 0 \r\nL 45.90625 32.71875 \r\nQ 45.90625 40.484375 42.875 44.328125 \r\nQ 39.84375 48.1875 33.796875 48.1875 \r\nQ 26.515625 48.1875 22.3125 43.546875 \r\nQ 18.109375 38.921875 18.109375 30.90625 \r\nL 18.109375 0 \r\nL 9.078125 0 \r\nL 9.078125 54.6875 \r\nL 18.109375 54.6875 \r\nL 18.109375 46.1875 \r\nQ 21.34375 51.125 25.703125 53.5625 \r\nQ 30.078125 56 35.796875 56 \r\nQ 45.21875 56 50.046875 50.171875 \r\nQ 54.890625 44.34375 54.890625 33.015625 \r\nz\r\n\" id=\"DejaVuSans-110\"/>\r\n       <path d=\"M 2.984375 54.6875 \r\nL 12.5 54.6875 \r\nL 29.59375 8.796875 \r\nL 46.6875 54.6875 \r\nL 56.203125 54.6875 \r\nL 35.6875 0 \r\nL 23.484375 0 \r\nz\r\n\" id=\"DejaVuSans-118\"/>\r\n       <path d=\"M 50.984375 -16.609375 \r\nL 50.984375 -23.578125 \r\nL -0.984375 -23.578125 \r\nL -0.984375 -16.609375 \r\nz\r\n\" id=\"DejaVuSans-95\"/>\r\n       <path d=\"M 44.28125 53.078125 \r\nL 44.28125 44.578125 \r\nQ 40.484375 46.53125 36.375 47.5 \r\nQ 32.28125 48.484375 27.875 48.484375 \r\nQ 21.1875 48.484375 17.84375 46.4375 \r\nQ 14.5 44.390625 14.5 40.28125 \r\nQ 14.5 37.15625 16.890625 35.375 \r\nQ 19.28125 33.59375 26.515625 31.984375 \r\nL 29.59375 31.296875 \r\nQ 39.15625 29.25 43.1875 25.515625 \r\nQ 47.21875 21.78125 47.21875 15.09375 \r\nQ 47.21875 7.46875 41.1875 3.015625 \r\nQ 35.15625 -1.421875 24.609375 -1.421875 \r\nQ 20.21875 -1.421875 15.453125 -0.5625 \r\nQ 10.6875 0.296875 5.421875 2 \r\nL 5.421875 11.28125 \r\nQ 10.40625 8.6875 15.234375 7.390625 \r\nQ 20.0625 6.109375 24.8125 6.109375 \r\nQ 31.15625 6.109375 34.5625 8.28125 \r\nQ 37.984375 10.453125 37.984375 14.40625 \r\nQ 37.984375 18.0625 35.515625 20.015625 \r\nQ 33.0625 21.96875 24.703125 23.78125 \r\nL 21.578125 24.515625 \r\nQ 13.234375 26.265625 9.515625 29.90625 \r\nQ 5.8125 33.546875 5.8125 39.890625 \r\nQ 5.8125 47.609375 11.28125 51.796875 \r\nQ 16.75 56 26.8125 56 \r\nQ 31.78125 56 36.171875 55.265625 \r\nQ 40.578125 54.546875 44.28125 53.078125 \r\nz\r\n\" id=\"DejaVuSans-115\"/>\r\n       <path d=\"M 9.421875 75.984375 \r\nL 18.40625 75.984375 \r\nL 18.40625 0 \r\nL 9.421875 0 \r\nz\r\n\" id=\"DejaVuSans-108\"/>\r\n       <path d=\"M 30.609375 48.390625 \r\nQ 23.390625 48.390625 19.1875 42.75 \r\nQ 14.984375 37.109375 14.984375 27.296875 \r\nQ 14.984375 17.484375 19.15625 11.84375 \r\nQ 23.34375 6.203125 30.609375 6.203125 \r\nQ 37.796875 6.203125 41.984375 11.859375 \r\nQ 46.1875 17.53125 46.1875 27.296875 \r\nQ 46.1875 37.015625 41.984375 42.703125 \r\nQ 37.796875 48.390625 30.609375 48.390625 \r\nz\r\nM 30.609375 56 \r\nQ 42.328125 56 49.015625 48.375 \r\nQ 55.71875 40.765625 55.71875 27.296875 \r\nQ 55.71875 13.875 49.015625 6.21875 \r\nQ 42.328125 -1.421875 30.609375 -1.421875 \r\nQ 18.84375 -1.421875 12.171875 6.21875 \r\nQ 5.515625 13.875 5.515625 27.296875 \r\nQ 5.515625 40.765625 12.171875 48.375 \r\nQ 18.84375 56 30.609375 56 \r\nz\r\n\" id=\"DejaVuSans-111\"/>\r\n       <path d=\"M 18.109375 8.203125 \r\nL 18.109375 -20.796875 \r\nL 9.078125 -20.796875 \r\nL 9.078125 54.6875 \r\nL 18.109375 54.6875 \r\nL 18.109375 46.390625 \r\nQ 20.953125 51.265625 25.265625 53.625 \r\nQ 29.59375 56 35.59375 56 \r\nQ 45.5625 56 51.78125 48.09375 \r\nQ 58.015625 40.1875 58.015625 27.296875 \r\nQ 58.015625 14.40625 51.78125 6.484375 \r\nQ 45.5625 -1.421875 35.59375 -1.421875 \r\nQ 29.59375 -1.421875 25.265625 0.953125 \r\nQ 20.953125 3.328125 18.109375 8.203125 \r\nz\r\nM 48.6875 27.296875 \r\nQ 48.6875 37.203125 44.609375 42.84375 \r\nQ 40.53125 48.484375 33.40625 48.484375 \r\nQ 26.265625 48.484375 22.1875 42.84375 \r\nQ 18.109375 37.203125 18.109375 27.296875 \r\nQ 18.109375 17.390625 22.1875 11.75 \r\nQ 26.265625 6.109375 33.40625 6.109375 \r\nQ 40.53125 6.109375 44.609375 11.75 \r\nQ 48.6875 17.390625 48.6875 27.296875 \r\nz\r\n\" id=\"DejaVuSans-112\"/>\r\n       <path d=\"M 34.28125 27.484375 \r\nQ 23.390625 27.484375 19.1875 25 \r\nQ 14.984375 22.515625 14.984375 16.5 \r\nQ 14.984375 11.71875 18.140625 8.90625 \r\nQ 21.296875 6.109375 26.703125 6.109375 \r\nQ 34.1875 6.109375 38.703125 11.40625 \r\nQ 43.21875 16.703125 43.21875 25.484375 \r\nL 43.21875 27.484375 \r\nz\r\nM 52.203125 31.203125 \r\nL 52.203125 0 \r\nL 43.21875 0 \r\nL 43.21875 8.296875 \r\nQ 40.140625 3.328125 35.546875 0.953125 \r\nQ 30.953125 -1.421875 24.3125 -1.421875 \r\nQ 15.921875 -1.421875 10.953125 3.296875 \r\nQ 6 8.015625 6 15.921875 \r\nQ 6 25.140625 12.171875 29.828125 \r\nQ 18.359375 34.515625 30.609375 34.515625 \r\nL 43.21875 34.515625 \r\nL 43.21875 35.40625 \r\nQ 43.21875 41.609375 39.140625 45 \r\nQ 35.0625 48.390625 27.6875 48.390625 \r\nQ 23 48.390625 18.546875 47.265625 \r\nQ 14.109375 46.140625 10.015625 43.890625 \r\nL 10.015625 52.203125 \r\nQ 14.9375 54.109375 19.578125 55.046875 \r\nQ 24.21875 56 28.609375 56 \r\nQ 40.484375 56 46.34375 49.84375 \r\nQ 52.203125 43.703125 52.203125 31.203125 \r\nz\r\n\" id=\"DejaVuSans-97\"/>\r\n       <path d=\"M 41.109375 46.296875 \r\nQ 39.59375 47.171875 37.8125 47.578125 \r\nQ 36.03125 48 33.890625 48 \r\nQ 26.265625 48 22.1875 43.046875 \r\nQ 18.109375 38.09375 18.109375 28.8125 \r\nL 18.109375 0 \r\nL 9.078125 0 \r\nL 9.078125 54.6875 \r\nL 18.109375 54.6875 \r\nL 18.109375 46.1875 \r\nQ 20.953125 51.171875 25.484375 53.578125 \r\nQ 30.03125 56 36.53125 56 \r\nQ 37.453125 56 38.578125 55.875 \r\nQ 39.703125 55.765625 41.0625 55.515625 \r\nz\r\n\" id=\"DejaVuSans-114\"/>\r\n      </defs>\r\n      <g transform=\"translate(58.26875 239.238437)scale(0.1 -0.1)\">\r\n       <use xlink:href=\"#DejaVuSans-101\"/>\r\n       <use x=\"61.523438\" xlink:href=\"#DejaVuSans-110\"/>\r\n       <use x=\"124.902344\" xlink:href=\"#DejaVuSans-118\"/>\r\n       <use x=\"184.082031\" xlink:href=\"#DejaVuSans-95\"/>\r\n       <use x=\"234.082031\" xlink:href=\"#DejaVuSans-115\"/>\r\n       <use x=\"286.181641\" xlink:href=\"#DejaVuSans-108\"/>\r\n       <use x=\"313.964844\" xlink:href=\"#DejaVuSans-111\"/>\r\n       <use x=\"375.146484\" xlink:href=\"#DejaVuSans-112\"/>\r\n       <use x=\"438.623047\" xlink:href=\"#DejaVuSans-101\"/>\r\n       <use x=\"500.146484\" xlink:href=\"#DejaVuSans-115\"/>\r\n       <use x=\"552.246094\" xlink:href=\"#DejaVuSans-111\"/>\r\n       <use x=\"613.427734\" xlink:href=\"#DejaVuSans-108\"/>\r\n       <use x=\"641.210938\" xlink:href=\"#DejaVuSans-97\"/>\r\n       <use x=\"702.490234\" xlink:href=\"#DejaVuSans-114\"/>\r\n      </g>\r\n     </g>\r\n    </g>\r\n    <g id=\"xtick_2\">\r\n     <g id=\"line2d_2\">\r\n      <g>\r\n       <use style=\"stroke:#000000;stroke-width:0.8;\" x=\"207.05\" xlink:href=\"#m479fb41a8f\" y=\"224.64\"/>\r\n      </g>\r\n     </g>\r\n     <g id=\"text_2\">\r\n      <!-- env_levelsolar -->\r\n      <g transform=\"translate(171.282031 239.238437)scale(0.1 -0.1)\">\r\n       <use xlink:href=\"#DejaVuSans-101\"/>\r\n       <use x=\"61.523438\" xlink:href=\"#DejaVuSans-110\"/>\r\n       <use x=\"124.902344\" xlink:href=\"#DejaVuSans-118\"/>\r\n       <use x=\"184.082031\" xlink:href=\"#DejaVuSans-95\"/>\r\n       <use x=\"234.082031\" xlink:href=\"#DejaVuSans-108\"/>\r\n       <use x=\"261.865234\" xlink:href=\"#DejaVuSans-101\"/>\r\n       <use x=\"323.388672\" xlink:href=\"#DejaVuSans-118\"/>\r\n       <use x=\"382.568359\" xlink:href=\"#DejaVuSans-101\"/>\r\n       <use x=\"444.091797\" xlink:href=\"#DejaVuSans-108\"/>\r\n       <use x=\"471.875\" xlink:href=\"#DejaVuSans-115\"/>\r\n       <use x=\"523.974609\" xlink:href=\"#DejaVuSans-111\"/>\r\n       <use x=\"585.15625\" xlink:href=\"#DejaVuSans-108\"/>\r\n       <use x=\"612.939453\" xlink:href=\"#DejaVuSans-97\"/>\r\n       <use x=\"674.21875\" xlink:href=\"#DejaVuSans-114\"/>\r\n      </g>\r\n     </g>\r\n    </g>\r\n    <g id=\"xtick_3\">\r\n     <g id=\"line2d_3\">\r\n      <g>\r\n       <use style=\"stroke:#000000;stroke-width:0.8;\" x=\"318.65\" xlink:href=\"#m479fb41a8f\" y=\"224.64\"/>\r\n      </g>\r\n     </g>\r\n     <g id=\"text_3\">\r\n      <!-- match_solar -->\r\n      <defs>\r\n       <path d=\"M 52 44.1875 \r\nQ 55.375 50.25 60.0625 53.125 \r\nQ 64.75 56 71.09375 56 \r\nQ 79.640625 56 84.28125 50.015625 \r\nQ 88.921875 44.046875 88.921875 33.015625 \r\nL 88.921875 0 \r\nL 79.890625 0 \r\nL 79.890625 32.71875 \r\nQ 79.890625 40.578125 77.09375 44.375 \r\nQ 74.3125 48.1875 68.609375 48.1875 \r\nQ 61.625 48.1875 57.5625 43.546875 \r\nQ 53.515625 38.921875 53.515625 30.90625 \r\nL 53.515625 0 \r\nL 44.484375 0 \r\nL 44.484375 32.71875 \r\nQ 44.484375 40.625 41.703125 44.40625 \r\nQ 38.921875 48.1875 33.109375 48.1875 \r\nQ 26.21875 48.1875 22.15625 43.53125 \r\nQ 18.109375 38.875 18.109375 30.90625 \r\nL 18.109375 0 \r\nL 9.078125 0 \r\nL 9.078125 54.6875 \r\nL 18.109375 54.6875 \r\nL 18.109375 46.1875 \r\nQ 21.1875 51.21875 25.484375 53.609375 \r\nQ 29.78125 56 35.6875 56 \r\nQ 41.65625 56 45.828125 52.96875 \r\nQ 50 49.953125 52 44.1875 \r\nz\r\n\" id=\"DejaVuSans-109\"/>\r\n       <path d=\"M 18.3125 70.21875 \r\nL 18.3125 54.6875 \r\nL 36.8125 54.6875 \r\nL 36.8125 47.703125 \r\nL 18.3125 47.703125 \r\nL 18.3125 18.015625 \r\nQ 18.3125 11.328125 20.140625 9.421875 \r\nQ 21.96875 7.515625 27.59375 7.515625 \r\nL 36.8125 7.515625 \r\nL 36.8125 0 \r\nL 27.59375 0 \r\nQ 17.1875 0 13.234375 3.875 \r\nQ 9.28125 7.765625 9.28125 18.015625 \r\nL 9.28125 47.703125 \r\nL 2.6875 47.703125 \r\nL 2.6875 54.6875 \r\nL 9.28125 54.6875 \r\nL 9.28125 70.21875 \r\nz\r\n\" id=\"DejaVuSans-116\"/>\r\n       <path d=\"M 48.78125 52.59375 \r\nL 48.78125 44.1875 \r\nQ 44.96875 46.296875 41.140625 47.34375 \r\nQ 37.3125 48.390625 33.40625 48.390625 \r\nQ 24.65625 48.390625 19.8125 42.84375 \r\nQ 14.984375 37.3125 14.984375 27.296875 \r\nQ 14.984375 17.28125 19.8125 11.734375 \r\nQ 24.65625 6.203125 33.40625 6.203125 \r\nQ 37.3125 6.203125 41.140625 7.25 \r\nQ 44.96875 8.296875 48.78125 10.40625 \r\nL 48.78125 2.09375 \r\nQ 45.015625 0.34375 40.984375 -0.53125 \r\nQ 36.96875 -1.421875 32.421875 -1.421875 \r\nQ 20.0625 -1.421875 12.78125 6.34375 \r\nQ 5.515625 14.109375 5.515625 27.296875 \r\nQ 5.515625 40.671875 12.859375 48.328125 \r\nQ 20.21875 56 33.015625 56 \r\nQ 37.15625 56 41.109375 55.140625 \r\nQ 45.0625 54.296875 48.78125 52.59375 \r\nz\r\n\" id=\"DejaVuSans-99\"/>\r\n       <path d=\"M 54.890625 33.015625 \r\nL 54.890625 0 \r\nL 45.90625 0 \r\nL 45.90625 32.71875 \r\nQ 45.90625 40.484375 42.875 44.328125 \r\nQ 39.84375 48.1875 33.796875 48.1875 \r\nQ 26.515625 48.1875 22.3125 43.546875 \r\nQ 18.109375 38.921875 18.109375 30.90625 \r\nL 18.109375 0 \r\nL 9.078125 0 \r\nL 9.078125 75.984375 \r\nL 18.109375 75.984375 \r\nL 18.109375 46.1875 \r\nQ 21.34375 51.125 25.703125 53.5625 \r\nQ 30.078125 56 35.796875 56 \r\nQ 45.21875 56 50.046875 50.171875 \r\nQ 54.890625 44.34375 54.890625 33.015625 \r\nz\r\n\" id=\"DejaVuSans-104\"/>\r\n      </defs>\r\n      <g transform=\"translate(288.164844 239.238437)scale(0.1 -0.1)\">\r\n       <use xlink:href=\"#DejaVuSans-109\"/>\r\n       <use x=\"97.412109\" xlink:href=\"#DejaVuSans-97\"/>\r\n       <use x=\"158.691406\" xlink:href=\"#DejaVuSans-116\"/>\r\n       <use x=\"197.900391\" xlink:href=\"#DejaVuSans-99\"/>\r\n       <use x=\"252.880859\" xlink:href=\"#DejaVuSans-104\"/>\r\n       <use x=\"316.259766\" xlink:href=\"#DejaVuSans-95\"/>\r\n       <use x=\"366.259766\" xlink:href=\"#DejaVuSans-115\"/>\r\n       <use x=\"418.359375\" xlink:href=\"#DejaVuSans-111\"/>\r\n       <use x=\"479.541016\" xlink:href=\"#DejaVuSans-108\"/>\r\n       <use x=\"507.324219\" xlink:href=\"#DejaVuSans-97\"/>\r\n       <use x=\"568.603516\" xlink:href=\"#DejaVuSans-114\"/>\r\n      </g>\r\n     </g>\r\n    </g>\r\n   </g>\r\n   <g id=\"matplotlib.axis_2\">\r\n    <g id=\"ytick_1\">\r\n     <g id=\"line2d_4\">\r\n      <defs>\r\n       <path d=\"M 0 0 \r\nL -3.5 0 \r\n\" id=\"md59593ff4e\" style=\"stroke:#000000;stroke-width:0.8;\"/>\r\n      </defs>\r\n      <g>\r\n       <use style=\"stroke:#000000;stroke-width:0.8;\" x=\"39.65\" xlink:href=\"#md59593ff4e\" y=\"214.756364\"/>\r\n      </g>\r\n     </g>\r\n     <g id=\"text_4\">\r\n      <!-- 0 -->\r\n      <defs>\r\n       <path d=\"M 31.78125 66.40625 \r\nQ 24.171875 66.40625 20.328125 58.90625 \r\nQ 16.5 51.421875 16.5 36.375 \r\nQ 16.5 21.390625 20.328125 13.890625 \r\nQ 24.171875 6.390625 31.78125 6.390625 \r\nQ 39.453125 6.390625 43.28125 13.890625 \r\nQ 47.125 21.390625 47.125 36.375 \r\nQ 47.125 51.421875 43.28125 58.90625 \r\nQ 39.453125 66.40625 31.78125 66.40625 \r\nz\r\nM 31.78125 74.21875 \r\nQ 44.046875 74.21875 50.515625 64.515625 \r\nQ 56.984375 54.828125 56.984375 36.375 \r\nQ 56.984375 17.96875 50.515625 8.265625 \r\nQ 44.046875 -1.421875 31.78125 -1.421875 \r\nQ 19.53125 -1.421875 13.0625 8.265625 \r\nQ 6.59375 17.96875 6.59375 36.375 \r\nQ 6.59375 54.828125 13.0625 64.515625 \r\nQ 19.53125 74.21875 31.78125 74.21875 \r\nz\r\n\" id=\"DejaVuSans-48\"/>\r\n      </defs>\r\n      <g transform=\"translate(26.2875 218.555582)scale(0.1 -0.1)\">\r\n       <use xlink:href=\"#DejaVuSans-48\"/>\r\n      </g>\r\n     </g>\r\n    </g>\r\n    <g id=\"ytick_2\">\r\n     <g id=\"line2d_5\">\r\n      <g>\r\n       <use style=\"stroke:#000000;stroke-width:0.8;\" x=\"39.65\" xlink:href=\"#md59593ff4e\" y=\"176.302375\"/>\r\n      </g>\r\n     </g>\r\n     <g id=\"text_5\">\r\n      <!-- 200 -->\r\n      <defs>\r\n       <path d=\"M 19.1875 8.296875 \r\nL 53.609375 8.296875 \r\nL 53.609375 0 \r\nL 7.328125 0 \r\nL 7.328125 8.296875 \r\nQ 12.9375 14.109375 22.625 23.890625 \r\nQ 32.328125 33.6875 34.8125 36.53125 \r\nQ 39.546875 41.84375 41.421875 45.53125 \r\nQ 43.3125 49.21875 43.3125 52.78125 \r\nQ 43.3125 58.59375 39.234375 62.25 \r\nQ 35.15625 65.921875 28.609375 65.921875 \r\nQ 23.96875 65.921875 18.8125 64.3125 \r\nQ 13.671875 62.703125 7.8125 59.421875 \r\nL 7.8125 69.390625 \r\nQ 13.765625 71.78125 18.9375 73 \r\nQ 24.125 74.21875 28.421875 74.21875 \r\nQ 39.75 74.21875 46.484375 68.546875 \r\nQ 53.21875 62.890625 53.21875 53.421875 \r\nQ 53.21875 48.921875 51.53125 44.890625 \r\nQ 49.859375 40.875 45.40625 35.40625 \r\nQ 44.1875 33.984375 37.640625 27.21875 \r\nQ 31.109375 20.453125 19.1875 8.296875 \r\nz\r\n\" id=\"DejaVuSans-50\"/>\r\n      </defs>\r\n      <g transform=\"translate(13.5625 180.101594)scale(0.1 -0.1)\">\r\n       <use xlink:href=\"#DejaVuSans-50\"/>\r\n       <use x=\"63.623047\" xlink:href=\"#DejaVuSans-48\"/>\r\n       <use x=\"127.246094\" xlink:href=\"#DejaVuSans-48\"/>\r\n      </g>\r\n     </g>\r\n    </g>\r\n    <g id=\"ytick_3\">\r\n     <g id=\"line2d_6\">\r\n      <g>\r\n       <use style=\"stroke:#000000;stroke-width:0.8;\" x=\"39.65\" xlink:href=\"#md59593ff4e\" y=\"137.848387\"/>\r\n      </g>\r\n     </g>\r\n     <g id=\"text_6\">\r\n      <!-- 400 -->\r\n      <defs>\r\n       <path d=\"M 37.796875 64.3125 \r\nL 12.890625 25.390625 \r\nL 37.796875 25.390625 \r\nz\r\nM 35.203125 72.90625 \r\nL 47.609375 72.90625 \r\nL 47.609375 25.390625 \r\nL 58.015625 25.390625 \r\nL 58.015625 17.1875 \r\nL 47.609375 17.1875 \r\nL 47.609375 0 \r\nL 37.796875 0 \r\nL 37.796875 17.1875 \r\nL 4.890625 17.1875 \r\nL 4.890625 26.703125 \r\nz\r\n\" id=\"DejaVuSans-52\"/>\r\n      </defs>\r\n      <g transform=\"translate(13.5625 141.647606)scale(0.1 -0.1)\">\r\n       <use xlink:href=\"#DejaVuSans-52\"/>\r\n       <use x=\"63.623047\" xlink:href=\"#DejaVuSans-48\"/>\r\n       <use x=\"127.246094\" xlink:href=\"#DejaVuSans-48\"/>\r\n      </g>\r\n     </g>\r\n    </g>\r\n    <g id=\"ytick_4\">\r\n     <g id=\"line2d_7\">\r\n      <g>\r\n       <use style=\"stroke:#000000;stroke-width:0.8;\" x=\"39.65\" xlink:href=\"#md59593ff4e\" y=\"99.394398\"/>\r\n      </g>\r\n     </g>\r\n     <g id=\"text_7\">\r\n      <!-- 600 -->\r\n      <defs>\r\n       <path d=\"M 33.015625 40.375 \r\nQ 26.375 40.375 22.484375 35.828125 \r\nQ 18.609375 31.296875 18.609375 23.390625 \r\nQ 18.609375 15.53125 22.484375 10.953125 \r\nQ 26.375 6.390625 33.015625 6.390625 \r\nQ 39.65625 6.390625 43.53125 10.953125 \r\nQ 47.40625 15.53125 47.40625 23.390625 \r\nQ 47.40625 31.296875 43.53125 35.828125 \r\nQ 39.65625 40.375 33.015625 40.375 \r\nz\r\nM 52.59375 71.296875 \r\nL 52.59375 62.3125 \r\nQ 48.875 64.0625 45.09375 64.984375 \r\nQ 41.3125 65.921875 37.59375 65.921875 \r\nQ 27.828125 65.921875 22.671875 59.328125 \r\nQ 17.53125 52.734375 16.796875 39.40625 \r\nQ 19.671875 43.65625 24.015625 45.921875 \r\nQ 28.375 48.1875 33.59375 48.1875 \r\nQ 44.578125 48.1875 50.953125 41.515625 \r\nQ 57.328125 34.859375 57.328125 23.390625 \r\nQ 57.328125 12.15625 50.6875 5.359375 \r\nQ 44.046875 -1.421875 33.015625 -1.421875 \r\nQ 20.359375 -1.421875 13.671875 8.265625 \r\nQ 6.984375 17.96875 6.984375 36.375 \r\nQ 6.984375 53.65625 15.1875 63.9375 \r\nQ 23.390625 74.21875 37.203125 74.21875 \r\nQ 40.921875 74.21875 44.703125 73.484375 \r\nQ 48.484375 72.75 52.59375 71.296875 \r\nz\r\n\" id=\"DejaVuSans-54\"/>\r\n      </defs>\r\n      <g transform=\"translate(13.5625 103.193617)scale(0.1 -0.1)\">\r\n       <use xlink:href=\"#DejaVuSans-54\"/>\r\n       <use x=\"63.623047\" xlink:href=\"#DejaVuSans-48\"/>\r\n       <use x=\"127.246094\" xlink:href=\"#DejaVuSans-48\"/>\r\n      </g>\r\n     </g>\r\n    </g>\r\n    <g id=\"ytick_5\">\r\n     <g id=\"line2d_8\">\r\n      <g>\r\n       <use style=\"stroke:#000000;stroke-width:0.8;\" x=\"39.65\" xlink:href=\"#md59593ff4e\" y=\"60.94041\"/>\r\n      </g>\r\n     </g>\r\n     <g id=\"text_8\">\r\n      <!-- 800 -->\r\n      <defs>\r\n       <path d=\"M 31.78125 34.625 \r\nQ 24.75 34.625 20.71875 30.859375 \r\nQ 16.703125 27.09375 16.703125 20.515625 \r\nQ 16.703125 13.921875 20.71875 10.15625 \r\nQ 24.75 6.390625 31.78125 6.390625 \r\nQ 38.8125 6.390625 42.859375 10.171875 \r\nQ 46.921875 13.96875 46.921875 20.515625 \r\nQ 46.921875 27.09375 42.890625 30.859375 \r\nQ 38.875 34.625 31.78125 34.625 \r\nz\r\nM 21.921875 38.8125 \r\nQ 15.578125 40.375 12.03125 44.71875 \r\nQ 8.5 49.078125 8.5 55.328125 \r\nQ 8.5 64.0625 14.71875 69.140625 \r\nQ 20.953125 74.21875 31.78125 74.21875 \r\nQ 42.671875 74.21875 48.875 69.140625 \r\nQ 55.078125 64.0625 55.078125 55.328125 \r\nQ 55.078125 49.078125 51.53125 44.71875 \r\nQ 48 40.375 41.703125 38.8125 \r\nQ 48.828125 37.15625 52.796875 32.3125 \r\nQ 56.78125 27.484375 56.78125 20.515625 \r\nQ 56.78125 9.90625 50.3125 4.234375 \r\nQ 43.84375 -1.421875 31.78125 -1.421875 \r\nQ 19.734375 -1.421875 13.25 4.234375 \r\nQ 6.78125 9.90625 6.78125 20.515625 \r\nQ 6.78125 27.484375 10.78125 32.3125 \r\nQ 14.796875 37.15625 21.921875 38.8125 \r\nz\r\nM 18.3125 54.390625 \r\nQ 18.3125 48.734375 21.84375 45.5625 \r\nQ 25.390625 42.390625 31.78125 42.390625 \r\nQ 38.140625 42.390625 41.71875 45.5625 \r\nQ 45.3125 48.734375 45.3125 54.390625 \r\nQ 45.3125 60.0625 41.71875 63.234375 \r\nQ 38.140625 66.40625 31.78125 66.40625 \r\nQ 25.390625 66.40625 21.84375 63.234375 \r\nQ 18.3125 60.0625 18.3125 54.390625 \r\nz\r\n\" id=\"DejaVuSans-56\"/>\r\n      </defs>\r\n      <g transform=\"translate(13.5625 64.739629)scale(0.1 -0.1)\">\r\n       <use xlink:href=\"#DejaVuSans-56\"/>\r\n       <use x=\"63.623047\" xlink:href=\"#DejaVuSans-48\"/>\r\n       <use x=\"127.246094\" xlink:href=\"#DejaVuSans-48\"/>\r\n      </g>\r\n     </g>\r\n    </g>\r\n    <g id=\"ytick_6\">\r\n     <g id=\"line2d_9\">\r\n      <g>\r\n       <use style=\"stroke:#000000;stroke-width:0.8;\" x=\"39.65\" xlink:href=\"#md59593ff4e\" y=\"22.486422\"/>\r\n      </g>\r\n     </g>\r\n     <g id=\"text_9\">\r\n      <!-- 1000 -->\r\n      <defs>\r\n       <path d=\"M 12.40625 8.296875 \r\nL 28.515625 8.296875 \r\nL 28.515625 63.921875 \r\nL 10.984375 60.40625 \r\nL 10.984375 69.390625 \r\nL 28.421875 72.90625 \r\nL 38.28125 72.90625 \r\nL 38.28125 8.296875 \r\nL 54.390625 8.296875 \r\nL 54.390625 0 \r\nL 12.40625 0 \r\nz\r\n\" id=\"DejaVuSans-49\"/>\r\n      </defs>\r\n      <g transform=\"translate(7.2 26.28564)scale(0.1 -0.1)\">\r\n       <use xlink:href=\"#DejaVuSans-49\"/>\r\n       <use x=\"63.623047\" xlink:href=\"#DejaVuSans-48\"/>\r\n       <use x=\"127.246094\" xlink:href=\"#DejaVuSans-48\"/>\r\n       <use x=\"190.869141\" xlink:href=\"#DejaVuSans-48\"/>\r\n      </g>\r\n     </g>\r\n    </g>\r\n   </g>\r\n   <g id=\"line2d_10\">\r\n    <path clip-path=\"url(#pe8c54ef246)\" d=\"M 95.45 196.30042 \r\nL 95.45 214.756364 \r\n\" style=\"fill:none;stroke:#3d3d3d;stroke-linecap:square;stroke-width:1.5;\"/>\r\n   </g>\r\n   <g id=\"line2d_11\">\r\n    <path clip-path=\"url(#pe8c54ef246)\" d=\"M 95.45 120.683654 \r\nL 95.45 24.921841 \r\n\" style=\"fill:none;stroke:#3d3d3d;stroke-linecap:square;stroke-width:1.5;\"/>\r\n   </g>\r\n   <g id=\"line2d_12\">\r\n    <path clip-path=\"url(#pe8c54ef246)\" d=\"M 73.13 214.756364 \r\nL 117.77 214.756364 \r\n\" style=\"fill:none;stroke:#3d3d3d;stroke-linecap:square;stroke-width:1.5;\"/>\r\n   </g>\r\n   <g id=\"line2d_13\">\r\n    <path clip-path=\"url(#pe8c54ef246)\" d=\"M 73.13 24.921841 \r\nL 117.77 24.921841 \r\n\" style=\"fill:none;stroke:#3d3d3d;stroke-linecap:square;stroke-width:1.5;\"/>\r\n   </g>\r\n   <g id=\"line2d_14\"/>\r\n   <g id=\"line2d_15\">\r\n    <path clip-path=\"url(#pe8c54ef246)\" d=\"M 207.05 195.621384 \r\nL 207.05 214.756364 \r\n\" style=\"fill:none;stroke:#3d3d3d;stroke-linecap:square;stroke-width:1.5;\"/>\r\n   </g>\r\n   <g id=\"line2d_16\">\r\n    <path clip-path=\"url(#pe8c54ef246)\" d=\"M 207.05 90.879139 \r\nL 207.05 17.083636 \r\n\" style=\"fill:none;stroke:#3d3d3d;stroke-linecap:square;stroke-width:1.5;\"/>\r\n   </g>\r\n   <g id=\"line2d_17\">\r\n    <path clip-path=\"url(#pe8c54ef246)\" d=\"M 184.73 214.756364 \r\nL 229.37 214.756364 \r\n\" style=\"fill:none;stroke:#3d3d3d;stroke-linecap:square;stroke-width:1.5;\"/>\r\n   </g>\r\n   <g id=\"line2d_18\">\r\n    <path clip-path=\"url(#pe8c54ef246)\" d=\"M 184.73 17.083636 \r\nL 229.37 17.083636 \r\n\" style=\"fill:none;stroke:#3d3d3d;stroke-linecap:square;stroke-width:1.5;\"/>\r\n   </g>\r\n   <g id=\"line2d_19\"/>\r\n   <g id=\"line2d_20\">\r\n    <path clip-path=\"url(#pe8c54ef246)\" d=\"M 318.65 189.654455 \r\nL 318.65 214.756364 \r\n\" style=\"fill:none;stroke:#3d3d3d;stroke-linecap:square;stroke-width:1.5;\"/>\r\n   </g>\r\n   <g id=\"line2d_21\">\r\n    <path clip-path=\"url(#pe8c54ef246)\" d=\"M 318.65 127.700807 \r\nL 318.65 35.838501 \r\n\" style=\"fill:none;stroke:#3d3d3d;stroke-linecap:square;stroke-width:1.5;\"/>\r\n   </g>\r\n   <g id=\"line2d_22\">\r\n    <path clip-path=\"url(#pe8c54ef246)\" d=\"M 296.33 214.756364 \r\nL 340.97 214.756364 \r\n\" style=\"fill:none;stroke:#3d3d3d;stroke-linecap:square;stroke-width:1.5;\"/>\r\n   </g>\r\n   <g id=\"line2d_23\">\r\n    <path clip-path=\"url(#pe8c54ef246)\" d=\"M 296.33 35.838501 \r\nL 340.97 35.838501 \r\n\" style=\"fill:none;stroke:#3d3d3d;stroke-linecap:square;stroke-width:1.5;\"/>\r\n   </g>\r\n   <g id=\"line2d_24\"/>\r\n   <g id=\"line2d_25\">\r\n    <path clip-path=\"url(#pe8c54ef246)\" d=\"M 50.81 158.510021 \r\nL 140.09 158.510021 \r\n\" style=\"fill:none;stroke:#3d3d3d;stroke-linecap:square;stroke-width:1.5;\"/>\r\n   </g>\r\n   <g id=\"line2d_26\">\r\n    <path clip-path=\"url(#pe8c54ef246)\" d=\"M 162.41 149.719682 \r\nL 251.69 149.719682 \r\n\" style=\"fill:none;stroke:#3d3d3d;stroke-linecap:square;stroke-width:1.5;\"/>\r\n   </g>\r\n   <g id=\"line2d_27\">\r\n    <path clip-path=\"url(#pe8c54ef246)\" d=\"M 274.01 159.745797 \r\nL 363.29 159.745797 \r\n\" style=\"fill:none;stroke:#3d3d3d;stroke-linecap:square;stroke-width:1.5;\"/>\r\n   </g>\r\n   <g id=\"patch_6\">\r\n    <path d=\"M 39.65 224.64 \r\nL 39.65 7.2 \r\n\" style=\"fill:none;stroke:#000000;stroke-linecap:square;stroke-linejoin:miter;stroke-width:0.8;\"/>\r\n   </g>\r\n   <g id=\"patch_7\">\r\n    <path d=\"M 374.45 224.64 \r\nL 374.45 7.2 \r\n\" style=\"fill:none;stroke:#000000;stroke-linecap:square;stroke-linejoin:miter;stroke-width:0.8;\"/>\r\n   </g>\r\n   <g id=\"patch_8\">\r\n    <path d=\"M 39.65 224.64 \r\nL 374.45 224.64 \r\n\" style=\"fill:none;stroke:#000000;stroke-linecap:square;stroke-linejoin:miter;stroke-width:0.8;\"/>\r\n   </g>\r\n   <g id=\"patch_9\">\r\n    <path d=\"M 39.65 7.2 \r\nL 374.45 7.2 \r\n\" style=\"fill:none;stroke:#000000;stroke-linecap:square;stroke-linejoin:miter;stroke-width:0.8;\"/>\r\n   </g>\r\n  </g>\r\n </g>\r\n <defs>\r\n  <clipPath id=\"pe8c54ef246\">\r\n   <rect height=\"217.44\" width=\"334.8\" x=\"39.65\" y=\"7.2\"/>\r\n  </clipPath>\r\n </defs>\r\n</svg>\r\n",
      "image/png": "[encoded data removed]"
     },
     "metadata": {
      "needs_background": "light"
     }
    }
   ],
   "source": [
    "sns.boxplot(data = join_ent_other_set[[\"env_slopesolar\", \"env_levelsolar\", \"match_solar\"]])"
   ]
  },
  {
   "cell_type": "code",
   "execution_count": 60,
   "metadata": {},
   "outputs": [
    {
     "output_type": "stream",
     "name": "stdout",
     "text": [
      "(0.8268450787328583, 0.0) (0.8282658389837838, 0.0)\n"
     ]
    }
   ],
   "source": [
    "import scipy.stats\n",
    "\n",
    "print(scipy.stats.pearsonr(join_ent_other_set[\"env_levelsolar\"], join_ent_other_set[\"match_solar\"]), scipy.stats.pearsonr(join_ent_other_set[\"env_slopesolar\"], join_ent_other_set[\"match_solar\"]))"
   ]
  },
  {
   "cell_type": "code",
   "execution_count": 70,
   "metadata": {},
   "outputs": [
    {
     "output_type": "execute_result",
     "data": {
      "text/plain": [
       "       env_slopesolar  env_levelsolar  env_modtemp  env_airtemp  pow_totpower  \\\n",
       "count     1938.000000     1938.000000  1938.000000  1938.000000   1938.000000   \n",
       "mean       382.242406      478.503249    17.967248    10.822905   2437.048504   \n",
       "std        198.619884      269.275198    12.358373    10.777005   1261.154652   \n",
       "min          5.731343        8.086957    -8.888406   -13.121739   1000.000000   \n",
       "25%        214.981884      240.575525     8.044674     2.078996   1000.000000   \n",
       "50%        374.807143      465.064286    16.195714     8.807857   2000.000000   \n",
       "75%        525.221429      711.396429    27.411786    19.995606   3000.000000   \n",
       "max        987.333333     1028.100000    53.960000    37.808571   7000.000000   \n",
       "\n",
       "                기온          강수량           풍속           풍향           습도  \\\n",
       "count  1938.000000  1938.000000  1938.000000  1938.000000  1938.000000   \n",
       "mean     11.708411     0.054696     2.214809   200.356037    60.264190   \n",
       "std      10.362841     0.562878     1.228462    94.716528    18.723331   \n",
       "min     -11.100000     0.000000     0.000000     0.000000    13.000000   \n",
       "25%       3.100000     0.000000     1.300000   110.000000    48.000000   \n",
       "50%      10.250000     0.000000     2.000000   215.000000    59.000000   \n",
       "75%      20.675000     0.000000     2.900000   290.000000    73.000000   \n",
       "max      35.900000    15.000000    13.100000   360.000000   100.000000   \n",
       "\n",
       "                일조           일사           적설          전운량         지중온도  \\\n",
       "count  1938.000000  1938.000000  1938.000000  1938.000000  1938.000000   \n",
       "mean      0.710010     1.288230     0.008359     4.481940     0.014551   \n",
       "std       0.402756     0.679408     0.115912     3.843201     0.640578   \n",
       "min       0.000000     0.010000     0.000000     0.000000     0.000000   \n",
       "25%       0.400000     0.740000     0.000000     0.000000     0.000000   \n",
       "50%       1.000000     1.330000     0.000000     4.000000     0.000000   \n",
       "75%       1.000000     1.750000     0.000000     8.000000     0.000000   \n",
       "max       1.000000     3.290000     3.700000    10.000000    28.200000   \n",
       "\n",
       "       match_solar  \n",
       "count  1938.000000  \n",
       "mean    357.841704  \n",
       "std     188.724431  \n",
       "min       2.777778  \n",
       "25%     205.555556  \n",
       "50%     369.444444  \n",
       "75%     486.111111  \n",
       "max     913.888889  "
      ],
      "text/html": "<div>\n<style scoped>\n    .dataframe tbody tr th:only-of-type {\n        vertical-align: middle;\n    }\n\n    .dataframe tbody tr th {\n        vertical-align: top;\n    }\n\n    .dataframe thead th {\n        text-align: right;\n    }\n</style>\n<table border=\"1\" class=\"dataframe\">\n  <thead>\n    <tr style=\"text-align: right;\">\n      <th></th>\n      <th>env_slopesolar</th>\n      <th>env_levelsolar</th>\n      <th>env_modtemp</th>\n      <th>env_airtemp</th>\n      <th>pow_totpower</th>\n      <th>기온</th>\n      <th>강수량</th>\n      <th>풍속</th>\n      <th>풍향</th>\n      <th>습도</th>\n      <th>일조</th>\n      <th>일사</th>\n      <th>적설</th>\n      <th>전운량</th>\n      <th>지중온도</th>\n      <th>match_solar</th>\n    </tr>\n  </thead>\n  <tbody>\n    <tr>\n      <th>count</th>\n      <td>1938.000000</td>\n      <td>1938.000000</td>\n      <td>1938.000000</td>\n      <td>1938.000000</td>\n      <td>1938.000000</td>\n      <td>1938.000000</td>\n      <td>1938.000000</td>\n      <td>1938.000000</td>\n      <td>1938.000000</td>\n      <td>1938.000000</td>\n      <td>1938.000000</td>\n      <td>1938.000000</td>\n      <td>1938.000000</td>\n      <td>1938.000000</td>\n      <td>1938.000000</td>\n      <td>1938.000000</td>\n    </tr>\n    <tr>\n      <th>mean</th>\n      <td>382.242406</td>\n      <td>478.503249</td>\n      <td>17.967248</td>\n      <td>10.822905</td>\n      <td>2437.048504</td>\n      <td>11.708411</td>\n      <td>0.054696</td>\n      <td>2.214809</td>\n      <td>200.356037</td>\n      <td>60.264190</td>\n      <td>0.710010</td>\n      <td>1.288230</td>\n      <td>0.008359</td>\n      <td>4.481940</td>\n      <td>0.014551</td>\n      <td>357.841704</td>\n    </tr>\n    <tr>\n      <th>std</th>\n      <td>198.619884</td>\n      <td>269.275198</td>\n      <td>12.358373</td>\n      <td>10.777005</td>\n      <td>1261.154652</td>\n      <td>10.362841</td>\n      <td>0.562878</td>\n      <td>1.228462</td>\n      <td>94.716528</td>\n      <td>18.723331</td>\n      <td>0.402756</td>\n      <td>0.679408</td>\n      <td>0.115912</td>\n      <td>3.843201</td>\n      <td>0.640578</td>\n      <td>188.724431</td>\n    </tr>\n    <tr>\n      <th>min</th>\n      <td>5.731343</td>\n      <td>8.086957</td>\n      <td>-8.888406</td>\n      <td>-13.121739</td>\n      <td>1000.000000</td>\n      <td>-11.100000</td>\n      <td>0.000000</td>\n      <td>0.000000</td>\n      <td>0.000000</td>\n      <td>13.000000</td>\n      <td>0.000000</td>\n      <td>0.010000</td>\n      <td>0.000000</td>\n      <td>0.000000</td>\n      <td>0.000000</td>\n      <td>2.777778</td>\n    </tr>\n    <tr>\n      <th>25%</th>\n      <td>214.981884</td>\n      <td>240.575525</td>\n      <td>8.044674</td>\n      <td>2.078996</td>\n      <td>1000.000000</td>\n      <td>3.100000</td>\n      <td>0.000000</td>\n      <td>1.300000</td>\n      <td>110.000000</td>\n      <td>48.000000</td>\n      <td>0.400000</td>\n      <td>0.740000</td>\n      <td>0.000000</td>\n      <td>0.000000</td>\n      <td>0.000000</td>\n      <td>205.555556</td>\n    </tr>\n    <tr>\n      <th>50%</th>\n      <td>374.807143</td>\n      <td>465.064286</td>\n      <td>16.195714</td>\n      <td>8.807857</td>\n      <td>2000.000000</td>\n      <td>10.250000</td>\n      <td>0.000000</td>\n      <td>2.000000</td>\n      <td>215.000000</td>\n      <td>59.000000</td>\n      <td>1.000000</td>\n      <td>1.330000</td>\n      <td>0.000000</td>\n      <td>4.000000</td>\n      <td>0.000000</td>\n      <td>369.444444</td>\n    </tr>\n    <tr>\n      <th>75%</th>\n      <td>525.221429</td>\n      <td>711.396429</td>\n      <td>27.411786</td>\n      <td>19.995606</td>\n      <td>3000.000000</td>\n      <td>20.675000</td>\n      <td>0.000000</td>\n      <td>2.900000</td>\n      <td>290.000000</td>\n      <td>73.000000</td>\n      <td>1.000000</td>\n      <td>1.750000</td>\n      <td>0.000000</td>\n      <td>8.000000</td>\n      <td>0.000000</td>\n      <td>486.111111</td>\n    </tr>\n    <tr>\n      <th>max</th>\n      <td>987.333333</td>\n      <td>1028.100000</td>\n      <td>53.960000</td>\n      <td>37.808571</td>\n      <td>7000.000000</td>\n      <td>35.900000</td>\n      <td>15.000000</td>\n      <td>13.100000</td>\n      <td>360.000000</td>\n      <td>100.000000</td>\n      <td>1.000000</td>\n      <td>3.290000</td>\n      <td>3.700000</td>\n      <td>10.000000</td>\n      <td>28.200000</td>\n      <td>913.888889</td>\n    </tr>\n  </tbody>\n</table>\n</div>"
     },
     "metadata": {},
     "execution_count": 70
    }
   ],
   "source": [
    "### -일사량이 중요함으로 보아 공공데이터, 기업데이터 일사량이 한개라도 0이 있다면 모두 제거하였음\n",
    "\n",
    "join_ent_other_del0 = join_ent_other_set[join_ent_other_set[\"env_slopesolar\"] != 0 ]\n",
    "join_ent_other_del0 = join_ent_other_del0[join_ent_other_del0[\"env_levelsolar\"] != 0 ]\n",
    "join_ent_other_del0 = join_ent_other_del0[join_ent_other_del0[\"match_solar\"] != 0 ]\n",
    "thinkmore = join_ent_other_del0[join_ent_other_del0[\"pow_totpower\"] != 0 ]\n",
    "\n",
    "# join_ent_other_set[join_ent_other_set[\"pow_totpower\"] == 0]\n",
    "thinkmore.describe()"
   ]
  },
  {
   "cell_type": "code",
   "execution_count": 71,
   "metadata": {},
   "outputs": [
    {
     "output_type": "execute_result",
     "data": {
      "text/plain": [
       "                env_slopesolar  env_levelsolar  env_modtemp  env_airtemp  \\\n",
       "env_slopesolar        1.000000        0.904824     0.544317     0.251359   \n",
       "env_levelsolar        0.904824        1.000000     0.309680     0.027525   \n",
       "env_modtemp           0.544317        0.309680     1.000000     0.936994   \n",
       "env_airtemp           0.251359        0.027525     0.936994     1.000000   \n",
       "pow_totpower          0.902129        0.728721     0.564528     0.304477   \n",
       "기온                    0.240038        0.019637     0.924515     0.993789   \n",
       "강수량                  -0.084674       -0.097795     0.027126     0.059487   \n",
       "풍속                    0.121947        0.160871     0.065183     0.109346   \n",
       "풍향                    0.159952        0.283505    -0.165758    -0.194226   \n",
       "습도                   -0.351613       -0.531091     0.029188     0.144171   \n",
       "일조                    0.538269        0.642642     0.082105    -0.097228   \n",
       "일사                    0.798648        0.780761     0.567698     0.366972   \n",
       "적설                   -0.003213        0.016773    -0.083245    -0.088354   \n",
       "전운량                  -0.453523       -0.608609     0.078677     0.245694   \n",
       "지중온도                  0.001030       -0.008208     0.030178     0.033679   \n",
       "match_solar           0.798648        0.780761     0.567698     0.366972   \n",
       "\n",
       "                pow_totpower        기온       강수량        풍속        풍향  \\\n",
       "env_slopesolar      0.902129  0.240038 -0.084674  0.121947  0.159952   \n",
       "env_levelsolar      0.728721  0.019637 -0.097795  0.160871  0.283505   \n",
       "env_modtemp         0.564528  0.924515  0.027126  0.065183 -0.165758   \n",
       "env_airtemp         0.304477  0.993789  0.059487  0.109346 -0.194226   \n",
       "pow_totpower        1.000000  0.293948 -0.062782  0.105852  0.070786   \n",
       "기온                  0.293948  1.000000  0.062720  0.139862 -0.172479   \n",
       "강수량                -0.062782  0.062720  1.000000 -0.019837 -0.078317   \n",
       "풍속                  0.105852  0.139862 -0.019837  1.000000  0.317528   \n",
       "풍향                  0.070786 -0.172479 -0.078317  0.317528  1.000000   \n",
       "습도                 -0.176083  0.121493  0.181337 -0.220900 -0.303701   \n",
       "일조                  0.415115 -0.095652 -0.158273  0.124892  0.294512   \n",
       "일사                  0.682630  0.370072 -0.130393  0.270400  0.228759   \n",
       "적설                 -0.043016 -0.083341 -0.007011  0.006091  0.062411   \n",
       "전운량                -0.335116  0.249905  0.132431 -0.050359 -0.272647   \n",
       "지중온도                0.010145  0.032879 -0.002208  0.003426 -0.021681   \n",
       "match_solar         0.682630  0.370072 -0.130393  0.270400  0.228759   \n",
       "\n",
       "                      습도        일조        일사        적설       전운량      지중온도  \\\n",
       "env_slopesolar -0.351613  0.538269  0.798648 -0.003213 -0.453523  0.001030   \n",
       "env_levelsolar -0.531091  0.642642  0.780761  0.016773 -0.608609 -0.008208   \n",
       "env_modtemp     0.029188  0.082105  0.567698 -0.083245  0.078677  0.030178   \n",
       "env_airtemp     0.144171 -0.097228  0.366972 -0.088354  0.245694  0.033679   \n",
       "pow_totpower   -0.176083  0.415115  0.682630 -0.043016 -0.335116  0.010145   \n",
       "기온              0.121493 -0.095652  0.370072 -0.083341  0.249905  0.032879   \n",
       "강수량             0.181337 -0.158273 -0.130393 -0.007011  0.132431 -0.002208   \n",
       "풍속             -0.220900  0.124892  0.270400  0.006091 -0.050359  0.003426   \n",
       "풍향             -0.303701  0.294512  0.228759  0.062411 -0.272647 -0.021681   \n",
       "습도              1.000000 -0.524922 -0.498793  0.035520  0.431823  0.008176   \n",
       "일조             -0.524922  1.000000  0.651134  0.000418 -0.778576 -0.023137   \n",
       "일사             -0.498793  0.651134  1.000000 -0.029568 -0.432395  0.007084   \n",
       "적설              0.035520  0.000418 -0.029568  1.000000 -0.009743 -0.001639   \n",
       "전운량             0.431823 -0.778576 -0.432395 -0.009743  1.000000  0.032632   \n",
       "지중온도            0.008176 -0.023137  0.007084 -0.001639  0.032632  1.000000   \n",
       "match_solar    -0.498793  0.651134  1.000000 -0.029568 -0.432395  0.007084   \n",
       "\n",
       "                match_solar  \n",
       "env_slopesolar     0.798648  \n",
       "env_levelsolar     0.780761  \n",
       "env_modtemp        0.567698  \n",
       "env_airtemp        0.366972  \n",
       "pow_totpower       0.682630  \n",
       "기온                 0.370072  \n",
       "강수량               -0.130393  \n",
       "풍속                 0.270400  \n",
       "풍향                 0.228759  \n",
       "습도                -0.498793  \n",
       "일조                 0.651134  \n",
       "일사                 1.000000  \n",
       "적설                -0.029568  \n",
       "전운량               -0.432395  \n",
       "지중온도               0.007084  \n",
       "match_solar        1.000000  "
      ],
      "text/html": "<div>\n<style scoped>\n    .dataframe tbody tr th:only-of-type {\n        vertical-align: middle;\n    }\n\n    .dataframe tbody tr th {\n        vertical-align: top;\n    }\n\n    .dataframe thead th {\n        text-align: right;\n    }\n</style>\n<table border=\"1\" class=\"dataframe\">\n  <thead>\n    <tr style=\"text-align: right;\">\n      <th></th>\n      <th>env_slopesolar</th>\n      <th>env_levelsolar</th>\n      <th>env_modtemp</th>\n      <th>env_airtemp</th>\n      <th>pow_totpower</th>\n      <th>기온</th>\n      <th>강수량</th>\n      <th>풍속</th>\n      <th>풍향</th>\n      <th>습도</th>\n      <th>일조</th>\n      <th>일사</th>\n      <th>적설</th>\n      <th>전운량</th>\n      <th>지중온도</th>\n      <th>match_solar</th>\n    </tr>\n  </thead>\n  <tbody>\n    <tr>\n      <th>env_slopesolar</th>\n      <td>1.000000</td>\n      <td>0.904824</td>\n      <td>0.544317</td>\n      <td>0.251359</td>\n      <td>0.902129</td>\n      <td>0.240038</td>\n      <td>-0.084674</td>\n      <td>0.121947</td>\n      <td>0.159952</td>\n      <td>-0.351613</td>\n      <td>0.538269</td>\n      <td>0.798648</td>\n      <td>-0.003213</td>\n      <td>-0.453523</td>\n      <td>0.001030</td>\n      <td>0.798648</td>\n    </tr>\n    <tr>\n      <th>env_levelsolar</th>\n      <td>0.904824</td>\n      <td>1.000000</td>\n      <td>0.309680</td>\n      <td>0.027525</td>\n      <td>0.728721</td>\n      <td>0.019637</td>\n      <td>-0.097795</td>\n      <td>0.160871</td>\n      <td>0.283505</td>\n      <td>-0.531091</td>\n      <td>0.642642</td>\n      <td>0.780761</td>\n      <td>0.016773</td>\n      <td>-0.608609</td>\n      <td>-0.008208</td>\n      <td>0.780761</td>\n    </tr>\n    <tr>\n      <th>env_modtemp</th>\n      <td>0.544317</td>\n      <td>0.309680</td>\n      <td>1.000000</td>\n      <td>0.936994</td>\n      <td>0.564528</td>\n      <td>0.924515</td>\n      <td>0.027126</td>\n      <td>0.065183</td>\n      <td>-0.165758</td>\n      <td>0.029188</td>\n      <td>0.082105</td>\n      <td>0.567698</td>\n      <td>-0.083245</td>\n      <td>0.078677</td>\n      <td>0.030178</td>\n      <td>0.567698</td>\n    </tr>\n    <tr>\n      <th>env_airtemp</th>\n      <td>0.251359</td>\n      <td>0.027525</td>\n      <td>0.936994</td>\n      <td>1.000000</td>\n      <td>0.304477</td>\n      <td>0.993789</td>\n      <td>0.059487</td>\n      <td>0.109346</td>\n      <td>-0.194226</td>\n      <td>0.144171</td>\n      <td>-0.097228</td>\n      <td>0.366972</td>\n      <td>-0.088354</td>\n      <td>0.245694</td>\n      <td>0.033679</td>\n      <td>0.366972</td>\n    </tr>\n    <tr>\n      <th>pow_totpower</th>\n      <td>0.902129</td>\n      <td>0.728721</td>\n      <td>0.564528</td>\n      <td>0.304477</td>\n      <td>1.000000</td>\n      <td>0.293948</td>\n      <td>-0.062782</td>\n      <td>0.105852</td>\n      <td>0.070786</td>\n      <td>-0.176083</td>\n      <td>0.415115</td>\n      <td>0.682630</td>\n      <td>-0.043016</td>\n      <td>-0.335116</td>\n      <td>0.010145</td>\n      <td>0.682630</td>\n    </tr>\n    <tr>\n      <th>기온</th>\n      <td>0.240038</td>\n      <td>0.019637</td>\n      <td>0.924515</td>\n      <td>0.993789</td>\n      <td>0.293948</td>\n      <td>1.000000</td>\n      <td>0.062720</td>\n      <td>0.139862</td>\n      <td>-0.172479</td>\n      <td>0.121493</td>\n      <td>-0.095652</td>\n      <td>0.370072</td>\n      <td>-0.083341</td>\n      <td>0.249905</td>\n      <td>0.032879</td>\n      <td>0.370072</td>\n    </tr>\n    <tr>\n      <th>강수량</th>\n      <td>-0.084674</td>\n      <td>-0.097795</td>\n      <td>0.027126</td>\n      <td>0.059487</td>\n      <td>-0.062782</td>\n      <td>0.062720</td>\n      <td>1.000000</td>\n      <td>-0.019837</td>\n      <td>-0.078317</td>\n      <td>0.181337</td>\n      <td>-0.158273</td>\n      <td>-0.130393</td>\n      <td>-0.007011</td>\n      <td>0.132431</td>\n      <td>-0.002208</td>\n      <td>-0.130393</td>\n    </tr>\n    <tr>\n      <th>풍속</th>\n      <td>0.121947</td>\n      <td>0.160871</td>\n      <td>0.065183</td>\n      <td>0.109346</td>\n      <td>0.105852</td>\n      <td>0.139862</td>\n      <td>-0.019837</td>\n      <td>1.000000</td>\n      <td>0.317528</td>\n      <td>-0.220900</td>\n      <td>0.124892</td>\n      <td>0.270400</td>\n      <td>0.006091</td>\n      <td>-0.050359</td>\n      <td>0.003426</td>\n      <td>0.270400</td>\n    </tr>\n    <tr>\n      <th>풍향</th>\n      <td>0.159952</td>\n      <td>0.283505</td>\n      <td>-0.165758</td>\n      <td>-0.194226</td>\n      <td>0.070786</td>\n      <td>-0.172479</td>\n      <td>-0.078317</td>\n      <td>0.317528</td>\n      <td>1.000000</td>\n      <td>-0.303701</td>\n      <td>0.294512</td>\n      <td>0.228759</td>\n      <td>0.062411</td>\n      <td>-0.272647</td>\n      <td>-0.021681</td>\n      <td>0.228759</td>\n    </tr>\n    <tr>\n      <th>습도</th>\n      <td>-0.351613</td>\n      <td>-0.531091</td>\n      <td>0.029188</td>\n      <td>0.144171</td>\n      <td>-0.176083</td>\n      <td>0.121493</td>\n      <td>0.181337</td>\n      <td>-0.220900</td>\n      <td>-0.303701</td>\n      <td>1.000000</td>\n      <td>-0.524922</td>\n      <td>-0.498793</td>\n      <td>0.035520</td>\n      <td>0.431823</td>\n      <td>0.008176</td>\n      <td>-0.498793</td>\n    </tr>\n    <tr>\n      <th>일조</th>\n      <td>0.538269</td>\n      <td>0.642642</td>\n      <td>0.082105</td>\n      <td>-0.097228</td>\n      <td>0.415115</td>\n      <td>-0.095652</td>\n      <td>-0.158273</td>\n      <td>0.124892</td>\n      <td>0.294512</td>\n      <td>-0.524922</td>\n      <td>1.000000</td>\n      <td>0.651134</td>\n      <td>0.000418</td>\n      <td>-0.778576</td>\n      <td>-0.023137</td>\n      <td>0.651134</td>\n    </tr>\n    <tr>\n      <th>일사</th>\n      <td>0.798648</td>\n      <td>0.780761</td>\n      <td>0.567698</td>\n      <td>0.366972</td>\n      <td>0.682630</td>\n      <td>0.370072</td>\n      <td>-0.130393</td>\n      <td>0.270400</td>\n      <td>0.228759</td>\n      <td>-0.498793</td>\n      <td>0.651134</td>\n      <td>1.000000</td>\n      <td>-0.029568</td>\n      <td>-0.432395</td>\n      <td>0.007084</td>\n      <td>1.000000</td>\n    </tr>\n    <tr>\n      <th>적설</th>\n      <td>-0.003213</td>\n      <td>0.016773</td>\n      <td>-0.083245</td>\n      <td>-0.088354</td>\n      <td>-0.043016</td>\n      <td>-0.083341</td>\n      <td>-0.007011</td>\n      <td>0.006091</td>\n      <td>0.062411</td>\n      <td>0.035520</td>\n      <td>0.000418</td>\n      <td>-0.029568</td>\n      <td>1.000000</td>\n      <td>-0.009743</td>\n      <td>-0.001639</td>\n      <td>-0.029568</td>\n    </tr>\n    <tr>\n      <th>전운량</th>\n      <td>-0.453523</td>\n      <td>-0.608609</td>\n      <td>0.078677</td>\n      <td>0.245694</td>\n      <td>-0.335116</td>\n      <td>0.249905</td>\n      <td>0.132431</td>\n      <td>-0.050359</td>\n      <td>-0.272647</td>\n      <td>0.431823</td>\n      <td>-0.778576</td>\n      <td>-0.432395</td>\n      <td>-0.009743</td>\n      <td>1.000000</td>\n      <td>0.032632</td>\n      <td>-0.432395</td>\n    </tr>\n    <tr>\n      <th>지중온도</th>\n      <td>0.001030</td>\n      <td>-0.008208</td>\n      <td>0.030178</td>\n      <td>0.033679</td>\n      <td>0.010145</td>\n      <td>0.032879</td>\n      <td>-0.002208</td>\n      <td>0.003426</td>\n      <td>-0.021681</td>\n      <td>0.008176</td>\n      <td>-0.023137</td>\n      <td>0.007084</td>\n      <td>-0.001639</td>\n      <td>0.032632</td>\n      <td>1.000000</td>\n      <td>0.007084</td>\n    </tr>\n    <tr>\n      <th>match_solar</th>\n      <td>0.798648</td>\n      <td>0.780761</td>\n      <td>0.567698</td>\n      <td>0.366972</td>\n      <td>0.682630</td>\n      <td>0.370072</td>\n      <td>-0.130393</td>\n      <td>0.270400</td>\n      <td>0.228759</td>\n      <td>-0.498793</td>\n      <td>0.651134</td>\n      <td>1.000000</td>\n      <td>-0.029568</td>\n      <td>-0.432395</td>\n      <td>0.007084</td>\n      <td>1.000000</td>\n    </tr>\n  </tbody>\n</table>\n</div>"
     },
     "metadata": {},
     "execution_count": 71
    }
   ],
   "source": [
    "thinkmore.corr()"
   ]
  },
  {
   "cell_type": "code",
   "execution_count": 72,
   "metadata": {},
   "outputs": [
    {
     "output_type": "execute_result",
     "data": {
      "text/plain": [
       "<matplotlib.axes._subplots.AxesSubplot at 0x1500331c148>"
      ]
     },
     "metadata": {},
     "execution_count": 72
    },
    {
     "output_type": "display_data",
     "data": {
      "text/plain": "<Figure size 432x288 with 1 Axes>",
      "image/svg+xml": "<?xml version=\"1.0\" encoding=\"utf-8\" standalone=\"no\"?>\r\n<!DOCTYPE svg PUBLIC \"-//W3C//DTD SVG 1.1//EN\"\r\n  \"http://www.w3.org/Graphics/SVG/1.1/DTD/svg11.dtd\">\r\n<!-- Created with matplotlib (https://matplotlib.org/) -->\r\n<svg height=\"248.79625pt\" version=\"1.1\" viewBox=\"0 0 381.65 248.79625\" width=\"381.65pt\" xmlns=\"http://www.w3.org/2000/svg\" xmlns:xlink=\"http://www.w3.org/1999/xlink\">\r\n <defs>\r\n  <style type=\"text/css\">\r\n*{stroke-linecap:butt;stroke-linejoin:round;}\r\n  </style>\r\n </defs>\r\n <g id=\"figure_1\">\r\n  <g id=\"patch_1\">\r\n   <path d=\"M -0 248.79625 \r\nL 381.65 248.79625 \r\nL 381.65 0 \r\nL -0 0 \r\nz\r\n\" style=\"fill:none;\"/>\r\n  </g>\r\n  <g id=\"axes_1\">\r\n   <g id=\"patch_2\">\r\n    <path d=\"M 39.65 224.64 \r\nL 374.45 224.64 \r\nL 374.45 7.2 \r\nL 39.65 7.2 \r\nz\r\n\" style=\"fill:#ffffff;\"/>\r\n   </g>\r\n   <g id=\"patch_3\">\r\n    <path clip-path=\"url(#pa273fbf22f)\" d=\"M 50.81 173.845357 \r\nL 140.09 173.845357 \r\nL 140.09 114.034016 \r\nL 50.81 114.034016 \r\nL 50.81 173.845357 \r\nz\r\n\" style=\"fill:#3274a1;stroke:#3d3d3d;stroke-linejoin:miter;stroke-width:1.5;\"/>\r\n   </g>\r\n   <g id=\"patch_4\">\r\n    <path clip-path=\"url(#pa273fbf22f)\" d=\"M 162.41 168.911137 \r\nL 251.69 168.911137 \r\nL 251.69 78.141182 \r\nL 162.41 78.141182 \r\nL 162.41 168.911137 \r\nz\r\n\" style=\"fill:#e1812c;stroke:#3d3d3d;stroke-linejoin:miter;stroke-width:1.5;\"/>\r\n   </g>\r\n   <g id=\"patch_5\">\r\n    <path clip-path=\"url(#pa273fbf22f)\" d=\"M 274.01 175.662667 \r\nL 363.29 175.662667 \r\nL 363.29 121.574127 \r\nL 274.01 121.574127 \r\nL 274.01 175.662667 \r\nz\r\n\" style=\"fill:#3a923a;stroke:#3d3d3d;stroke-linejoin:miter;stroke-width:1.5;\"/>\r\n   </g>\r\n   <g id=\"matplotlib.axis_1\">\r\n    <g id=\"xtick_1\">\r\n     <g id=\"line2d_1\">\r\n      <defs>\r\n       <path d=\"M 0 0 \r\nL 0 3.5 \r\n\" id=\"m112a4f3324\" style=\"stroke:#000000;stroke-width:0.8;\"/>\r\n      </defs>\r\n      <g>\r\n       <use style=\"stroke:#000000;stroke-width:0.8;\" x=\"95.45\" xlink:href=\"#m112a4f3324\" y=\"224.64\"/>\r\n      </g>\r\n     </g>\r\n     <g id=\"text_1\">\r\n      <!-- env_slopesolar -->\r\n      <defs>\r\n       <path d=\"M 56.203125 29.59375 \r\nL 56.203125 25.203125 \r\nL 14.890625 25.203125 \r\nQ 15.484375 15.921875 20.484375 11.0625 \r\nQ 25.484375 6.203125 34.421875 6.203125 \r\nQ 39.59375 6.203125 44.453125 7.46875 \r\nQ 49.3125 8.734375 54.109375 11.28125 \r\nL 54.109375 2.78125 \r\nQ 49.265625 0.734375 44.1875 -0.34375 \r\nQ 39.109375 -1.421875 33.890625 -1.421875 \r\nQ 20.796875 -1.421875 13.15625 6.1875 \r\nQ 5.515625 13.8125 5.515625 26.8125 \r\nQ 5.515625 40.234375 12.765625 48.109375 \r\nQ 20.015625 56 32.328125 56 \r\nQ 43.359375 56 49.78125 48.890625 \r\nQ 56.203125 41.796875 56.203125 29.59375 \r\nz\r\nM 47.21875 32.234375 \r\nQ 47.125 39.59375 43.09375 43.984375 \r\nQ 39.0625 48.390625 32.421875 48.390625 \r\nQ 24.90625 48.390625 20.390625 44.140625 \r\nQ 15.875 39.890625 15.1875 32.171875 \r\nz\r\n\" id=\"DejaVuSans-101\"/>\r\n       <path d=\"M 54.890625 33.015625 \r\nL 54.890625 0 \r\nL 45.90625 0 \r\nL 45.90625 32.71875 \r\nQ 45.90625 40.484375 42.875 44.328125 \r\nQ 39.84375 48.1875 33.796875 48.1875 \r\nQ 26.515625 48.1875 22.3125 43.546875 \r\nQ 18.109375 38.921875 18.109375 30.90625 \r\nL 18.109375 0 \r\nL 9.078125 0 \r\nL 9.078125 54.6875 \r\nL 18.109375 54.6875 \r\nL 18.109375 46.1875 \r\nQ 21.34375 51.125 25.703125 53.5625 \r\nQ 30.078125 56 35.796875 56 \r\nQ 45.21875 56 50.046875 50.171875 \r\nQ 54.890625 44.34375 54.890625 33.015625 \r\nz\r\n\" id=\"DejaVuSans-110\"/>\r\n       <path d=\"M 2.984375 54.6875 \r\nL 12.5 54.6875 \r\nL 29.59375 8.796875 \r\nL 46.6875 54.6875 \r\nL 56.203125 54.6875 \r\nL 35.6875 0 \r\nL 23.484375 0 \r\nz\r\n\" id=\"DejaVuSans-118\"/>\r\n       <path d=\"M 50.984375 -16.609375 \r\nL 50.984375 -23.578125 \r\nL -0.984375 -23.578125 \r\nL -0.984375 -16.609375 \r\nz\r\n\" id=\"DejaVuSans-95\"/>\r\n       <path d=\"M 44.28125 53.078125 \r\nL 44.28125 44.578125 \r\nQ 40.484375 46.53125 36.375 47.5 \r\nQ 32.28125 48.484375 27.875 48.484375 \r\nQ 21.1875 48.484375 17.84375 46.4375 \r\nQ 14.5 44.390625 14.5 40.28125 \r\nQ 14.5 37.15625 16.890625 35.375 \r\nQ 19.28125 33.59375 26.515625 31.984375 \r\nL 29.59375 31.296875 \r\nQ 39.15625 29.25 43.1875 25.515625 \r\nQ 47.21875 21.78125 47.21875 15.09375 \r\nQ 47.21875 7.46875 41.1875 3.015625 \r\nQ 35.15625 -1.421875 24.609375 -1.421875 \r\nQ 20.21875 -1.421875 15.453125 -0.5625 \r\nQ 10.6875 0.296875 5.421875 2 \r\nL 5.421875 11.28125 \r\nQ 10.40625 8.6875 15.234375 7.390625 \r\nQ 20.0625 6.109375 24.8125 6.109375 \r\nQ 31.15625 6.109375 34.5625 8.28125 \r\nQ 37.984375 10.453125 37.984375 14.40625 \r\nQ 37.984375 18.0625 35.515625 20.015625 \r\nQ 33.0625 21.96875 24.703125 23.78125 \r\nL 21.578125 24.515625 \r\nQ 13.234375 26.265625 9.515625 29.90625 \r\nQ 5.8125 33.546875 5.8125 39.890625 \r\nQ 5.8125 47.609375 11.28125 51.796875 \r\nQ 16.75 56 26.8125 56 \r\nQ 31.78125 56 36.171875 55.265625 \r\nQ 40.578125 54.546875 44.28125 53.078125 \r\nz\r\n\" id=\"DejaVuSans-115\"/>\r\n       <path d=\"M 9.421875 75.984375 \r\nL 18.40625 75.984375 \r\nL 18.40625 0 \r\nL 9.421875 0 \r\nz\r\n\" id=\"DejaVuSans-108\"/>\r\n       <path d=\"M 30.609375 48.390625 \r\nQ 23.390625 48.390625 19.1875 42.75 \r\nQ 14.984375 37.109375 14.984375 27.296875 \r\nQ 14.984375 17.484375 19.15625 11.84375 \r\nQ 23.34375 6.203125 30.609375 6.203125 \r\nQ 37.796875 6.203125 41.984375 11.859375 \r\nQ 46.1875 17.53125 46.1875 27.296875 \r\nQ 46.1875 37.015625 41.984375 42.703125 \r\nQ 37.796875 48.390625 30.609375 48.390625 \r\nz\r\nM 30.609375 56 \r\nQ 42.328125 56 49.015625 48.375 \r\nQ 55.71875 40.765625 55.71875 27.296875 \r\nQ 55.71875 13.875 49.015625 6.21875 \r\nQ 42.328125 -1.421875 30.609375 -1.421875 \r\nQ 18.84375 -1.421875 12.171875 6.21875 \r\nQ 5.515625 13.875 5.515625 27.296875 \r\nQ 5.515625 40.765625 12.171875 48.375 \r\nQ 18.84375 56 30.609375 56 \r\nz\r\n\" id=\"DejaVuSans-111\"/>\r\n       <path d=\"M 18.109375 8.203125 \r\nL 18.109375 -20.796875 \r\nL 9.078125 -20.796875 \r\nL 9.078125 54.6875 \r\nL 18.109375 54.6875 \r\nL 18.109375 46.390625 \r\nQ 20.953125 51.265625 25.265625 53.625 \r\nQ 29.59375 56 35.59375 56 \r\nQ 45.5625 56 51.78125 48.09375 \r\nQ 58.015625 40.1875 58.015625 27.296875 \r\nQ 58.015625 14.40625 51.78125 6.484375 \r\nQ 45.5625 -1.421875 35.59375 -1.421875 \r\nQ 29.59375 -1.421875 25.265625 0.953125 \r\nQ 20.953125 3.328125 18.109375 8.203125 \r\nz\r\nM 48.6875 27.296875 \r\nQ 48.6875 37.203125 44.609375 42.84375 \r\nQ 40.53125 48.484375 33.40625 48.484375 \r\nQ 26.265625 48.484375 22.1875 42.84375 \r\nQ 18.109375 37.203125 18.109375 27.296875 \r\nQ 18.109375 17.390625 22.1875 11.75 \r\nQ 26.265625 6.109375 33.40625 6.109375 \r\nQ 40.53125 6.109375 44.609375 11.75 \r\nQ 48.6875 17.390625 48.6875 27.296875 \r\nz\r\n\" id=\"DejaVuSans-112\"/>\r\n       <path d=\"M 34.28125 27.484375 \r\nQ 23.390625 27.484375 19.1875 25 \r\nQ 14.984375 22.515625 14.984375 16.5 \r\nQ 14.984375 11.71875 18.140625 8.90625 \r\nQ 21.296875 6.109375 26.703125 6.109375 \r\nQ 34.1875 6.109375 38.703125 11.40625 \r\nQ 43.21875 16.703125 43.21875 25.484375 \r\nL 43.21875 27.484375 \r\nz\r\nM 52.203125 31.203125 \r\nL 52.203125 0 \r\nL 43.21875 0 \r\nL 43.21875 8.296875 \r\nQ 40.140625 3.328125 35.546875 0.953125 \r\nQ 30.953125 -1.421875 24.3125 -1.421875 \r\nQ 15.921875 -1.421875 10.953125 3.296875 \r\nQ 6 8.015625 6 15.921875 \r\nQ 6 25.140625 12.171875 29.828125 \r\nQ 18.359375 34.515625 30.609375 34.515625 \r\nL 43.21875 34.515625 \r\nL 43.21875 35.40625 \r\nQ 43.21875 41.609375 39.140625 45 \r\nQ 35.0625 48.390625 27.6875 48.390625 \r\nQ 23 48.390625 18.546875 47.265625 \r\nQ 14.109375 46.140625 10.015625 43.890625 \r\nL 10.015625 52.203125 \r\nQ 14.9375 54.109375 19.578125 55.046875 \r\nQ 24.21875 56 28.609375 56 \r\nQ 40.484375 56 46.34375 49.84375 \r\nQ 52.203125 43.703125 52.203125 31.203125 \r\nz\r\n\" id=\"DejaVuSans-97\"/>\r\n       <path d=\"M 41.109375 46.296875 \r\nQ 39.59375 47.171875 37.8125 47.578125 \r\nQ 36.03125 48 33.890625 48 \r\nQ 26.265625 48 22.1875 43.046875 \r\nQ 18.109375 38.09375 18.109375 28.8125 \r\nL 18.109375 0 \r\nL 9.078125 0 \r\nL 9.078125 54.6875 \r\nL 18.109375 54.6875 \r\nL 18.109375 46.1875 \r\nQ 20.953125 51.171875 25.484375 53.578125 \r\nQ 30.03125 56 36.53125 56 \r\nQ 37.453125 56 38.578125 55.875 \r\nQ 39.703125 55.765625 41.0625 55.515625 \r\nz\r\n\" id=\"DejaVuSans-114\"/>\r\n      </defs>\r\n      <g transform=\"translate(58.26875 239.238438)scale(0.1 -0.1)\">\r\n       <use xlink:href=\"#DejaVuSans-101\"/>\r\n       <use x=\"61.523438\" xlink:href=\"#DejaVuSans-110\"/>\r\n       <use x=\"124.902344\" xlink:href=\"#DejaVuSans-118\"/>\r\n       <use x=\"184.082031\" xlink:href=\"#DejaVuSans-95\"/>\r\n       <use x=\"234.082031\" xlink:href=\"#DejaVuSans-115\"/>\r\n       <use x=\"286.181641\" xlink:href=\"#DejaVuSans-108\"/>\r\n       <use x=\"313.964844\" xlink:href=\"#DejaVuSans-111\"/>\r\n       <use x=\"375.146484\" xlink:href=\"#DejaVuSans-112\"/>\r\n       <use x=\"438.623047\" xlink:href=\"#DejaVuSans-101\"/>\r\n       <use x=\"500.146484\" xlink:href=\"#DejaVuSans-115\"/>\r\n       <use x=\"552.246094\" xlink:href=\"#DejaVuSans-111\"/>\r\n       <use x=\"613.427734\" xlink:href=\"#DejaVuSans-108\"/>\r\n       <use x=\"641.210938\" xlink:href=\"#DejaVuSans-97\"/>\r\n       <use x=\"702.490234\" xlink:href=\"#DejaVuSans-114\"/>\r\n      </g>\r\n     </g>\r\n    </g>\r\n    <g id=\"xtick_2\">\r\n     <g id=\"line2d_2\">\r\n      <g>\r\n       <use style=\"stroke:#000000;stroke-width:0.8;\" x=\"207.05\" xlink:href=\"#m112a4f3324\" y=\"224.64\"/>\r\n      </g>\r\n     </g>\r\n     <g id=\"text_2\">\r\n      <!-- env_levelsolar -->\r\n      <g transform=\"translate(171.282031 239.238438)scale(0.1 -0.1)\">\r\n       <use xlink:href=\"#DejaVuSans-101\"/>\r\n       <use x=\"61.523438\" xlink:href=\"#DejaVuSans-110\"/>\r\n       <use x=\"124.902344\" xlink:href=\"#DejaVuSans-118\"/>\r\n       <use x=\"184.082031\" xlink:href=\"#DejaVuSans-95\"/>\r\n       <use x=\"234.082031\" xlink:href=\"#DejaVuSans-108\"/>\r\n       <use x=\"261.865234\" xlink:href=\"#DejaVuSans-101\"/>\r\n       <use x=\"323.388672\" xlink:href=\"#DejaVuSans-118\"/>\r\n       <use x=\"382.568359\" xlink:href=\"#DejaVuSans-101\"/>\r\n       <use x=\"444.091797\" xlink:href=\"#DejaVuSans-108\"/>\r\n       <use x=\"471.875\" xlink:href=\"#DejaVuSans-115\"/>\r\n       <use x=\"523.974609\" xlink:href=\"#DejaVuSans-111\"/>\r\n       <use x=\"585.15625\" xlink:href=\"#DejaVuSans-108\"/>\r\n       <use x=\"612.939453\" xlink:href=\"#DejaVuSans-97\"/>\r\n       <use x=\"674.21875\" xlink:href=\"#DejaVuSans-114\"/>\r\n      </g>\r\n     </g>\r\n    </g>\r\n    <g id=\"xtick_3\">\r\n     <g id=\"line2d_3\">\r\n      <g>\r\n       <use style=\"stroke:#000000;stroke-width:0.8;\" x=\"318.65\" xlink:href=\"#m112a4f3324\" y=\"224.64\"/>\r\n      </g>\r\n     </g>\r\n     <g id=\"text_3\">\r\n      <!-- match_solar -->\r\n      <defs>\r\n       <path d=\"M 52 44.1875 \r\nQ 55.375 50.25 60.0625 53.125 \r\nQ 64.75 56 71.09375 56 \r\nQ 79.640625 56 84.28125 50.015625 \r\nQ 88.921875 44.046875 88.921875 33.015625 \r\nL 88.921875 0 \r\nL 79.890625 0 \r\nL 79.890625 32.71875 \r\nQ 79.890625 40.578125 77.09375 44.375 \r\nQ 74.3125 48.1875 68.609375 48.1875 \r\nQ 61.625 48.1875 57.5625 43.546875 \r\nQ 53.515625 38.921875 53.515625 30.90625 \r\nL 53.515625 0 \r\nL 44.484375 0 \r\nL 44.484375 32.71875 \r\nQ 44.484375 40.625 41.703125 44.40625 \r\nQ 38.921875 48.1875 33.109375 48.1875 \r\nQ 26.21875 48.1875 22.15625 43.53125 \r\nQ 18.109375 38.875 18.109375 30.90625 \r\nL 18.109375 0 \r\nL 9.078125 0 \r\nL 9.078125 54.6875 \r\nL 18.109375 54.6875 \r\nL 18.109375 46.1875 \r\nQ 21.1875 51.21875 25.484375 53.609375 \r\nQ 29.78125 56 35.6875 56 \r\nQ 41.65625 56 45.828125 52.96875 \r\nQ 50 49.953125 52 44.1875 \r\nz\r\n\" id=\"DejaVuSans-109\"/>\r\n       <path d=\"M 18.3125 70.21875 \r\nL 18.3125 54.6875 \r\nL 36.8125 54.6875 \r\nL 36.8125 47.703125 \r\nL 18.3125 47.703125 \r\nL 18.3125 18.015625 \r\nQ 18.3125 11.328125 20.140625 9.421875 \r\nQ 21.96875 7.515625 27.59375 7.515625 \r\nL 36.8125 7.515625 \r\nL 36.8125 0 \r\nL 27.59375 0 \r\nQ 17.1875 0 13.234375 3.875 \r\nQ 9.28125 7.765625 9.28125 18.015625 \r\nL 9.28125 47.703125 \r\nL 2.6875 47.703125 \r\nL 2.6875 54.6875 \r\nL 9.28125 54.6875 \r\nL 9.28125 70.21875 \r\nz\r\n\" id=\"DejaVuSans-116\"/>\r\n       <path d=\"M 48.78125 52.59375 \r\nL 48.78125 44.1875 \r\nQ 44.96875 46.296875 41.140625 47.34375 \r\nQ 37.3125 48.390625 33.40625 48.390625 \r\nQ 24.65625 48.390625 19.8125 42.84375 \r\nQ 14.984375 37.3125 14.984375 27.296875 \r\nQ 14.984375 17.28125 19.8125 11.734375 \r\nQ 24.65625 6.203125 33.40625 6.203125 \r\nQ 37.3125 6.203125 41.140625 7.25 \r\nQ 44.96875 8.296875 48.78125 10.40625 \r\nL 48.78125 2.09375 \r\nQ 45.015625 0.34375 40.984375 -0.53125 \r\nQ 36.96875 -1.421875 32.421875 -1.421875 \r\nQ 20.0625 -1.421875 12.78125 6.34375 \r\nQ 5.515625 14.109375 5.515625 27.296875 \r\nQ 5.515625 40.671875 12.859375 48.328125 \r\nQ 20.21875 56 33.015625 56 \r\nQ 37.15625 56 41.109375 55.140625 \r\nQ 45.0625 54.296875 48.78125 52.59375 \r\nz\r\n\" id=\"DejaVuSans-99\"/>\r\n       <path d=\"M 54.890625 33.015625 \r\nL 54.890625 0 \r\nL 45.90625 0 \r\nL 45.90625 32.71875 \r\nQ 45.90625 40.484375 42.875 44.328125 \r\nQ 39.84375 48.1875 33.796875 48.1875 \r\nQ 26.515625 48.1875 22.3125 43.546875 \r\nQ 18.109375 38.921875 18.109375 30.90625 \r\nL 18.109375 0 \r\nL 9.078125 0 \r\nL 9.078125 75.984375 \r\nL 18.109375 75.984375 \r\nL 18.109375 46.1875 \r\nQ 21.34375 51.125 25.703125 53.5625 \r\nQ 30.078125 56 35.796875 56 \r\nQ 45.21875 56 50.046875 50.171875 \r\nQ 54.890625 44.34375 54.890625 33.015625 \r\nz\r\n\" id=\"DejaVuSans-104\"/>\r\n      </defs>\r\n      <g transform=\"translate(288.164844 239.238438)scale(0.1 -0.1)\">\r\n       <use xlink:href=\"#DejaVuSans-109\"/>\r\n       <use x=\"97.412109\" xlink:href=\"#DejaVuSans-97\"/>\r\n       <use x=\"158.691406\" xlink:href=\"#DejaVuSans-116\"/>\r\n       <use x=\"197.900391\" xlink:href=\"#DejaVuSans-99\"/>\r\n       <use x=\"252.880859\" xlink:href=\"#DejaVuSans-104\"/>\r\n       <use x=\"316.259766\" xlink:href=\"#DejaVuSans-95\"/>\r\n       <use x=\"366.259766\" xlink:href=\"#DejaVuSans-115\"/>\r\n       <use x=\"418.359375\" xlink:href=\"#DejaVuSans-111\"/>\r\n       <use x=\"479.541016\" xlink:href=\"#DejaVuSans-108\"/>\r\n       <use x=\"507.324219\" xlink:href=\"#DejaVuSans-97\"/>\r\n       <use x=\"568.603516\" xlink:href=\"#DejaVuSans-114\"/>\r\n      </g>\r\n     </g>\r\n    </g>\r\n   </g>\r\n   <g id=\"matplotlib.axis_2\">\r\n    <g id=\"ytick_1\">\r\n     <g id=\"line2d_4\">\r\n      <defs>\r\n       <path d=\"M 0 0 \r\nL -3.5 0 \r\n\" id=\"m240eefa0b6\" style=\"stroke:#000000;stroke-width:0.8;\"/>\r\n      </defs>\r\n      <g>\r\n       <use style=\"stroke:#000000;stroke-width:0.8;\" x=\"39.65\" xlink:href=\"#m240eefa0b6\" y=\"215.291894\"/>\r\n      </g>\r\n     </g>\r\n     <g id=\"text_4\">\r\n      <!-- 0 -->\r\n      <defs>\r\n       <path d=\"M 31.78125 66.40625 \r\nQ 24.171875 66.40625 20.328125 58.90625 \r\nQ 16.5 51.421875 16.5 36.375 \r\nQ 16.5 21.390625 20.328125 13.890625 \r\nQ 24.171875 6.390625 31.78125 6.390625 \r\nQ 39.453125 6.390625 43.28125 13.890625 \r\nQ 47.125 21.390625 47.125 36.375 \r\nQ 47.125 51.421875 43.28125 58.90625 \r\nQ 39.453125 66.40625 31.78125 66.40625 \r\nz\r\nM 31.78125 74.21875 \r\nQ 44.046875 74.21875 50.515625 64.515625 \r\nQ 56.984375 54.828125 56.984375 36.375 \r\nQ 56.984375 17.96875 50.515625 8.265625 \r\nQ 44.046875 -1.421875 31.78125 -1.421875 \r\nQ 19.53125 -1.421875 13.0625 8.265625 \r\nQ 6.59375 17.96875 6.59375 36.375 \r\nQ 6.59375 54.828125 13.0625 64.515625 \r\nQ 19.53125 74.21875 31.78125 74.21875 \r\nz\r\n\" id=\"DejaVuSans-48\"/>\r\n      </defs>\r\n      <g transform=\"translate(26.2875 219.091112)scale(0.1 -0.1)\">\r\n       <use xlink:href=\"#DejaVuSans-48\"/>\r\n      </g>\r\n     </g>\r\n    </g>\r\n    <g id=\"ytick_2\">\r\n     <g id=\"line2d_5\">\r\n      <g>\r\n       <use style=\"stroke:#000000;stroke-width:0.8;\" x=\"39.65\" xlink:href=\"#m240eefa0b6\" y=\"176.733727\"/>\r\n      </g>\r\n     </g>\r\n     <g id=\"text_5\">\r\n      <!-- 200 -->\r\n      <defs>\r\n       <path d=\"M 19.1875 8.296875 \r\nL 53.609375 8.296875 \r\nL 53.609375 0 \r\nL 7.328125 0 \r\nL 7.328125 8.296875 \r\nQ 12.9375 14.109375 22.625 23.890625 \r\nQ 32.328125 33.6875 34.8125 36.53125 \r\nQ 39.546875 41.84375 41.421875 45.53125 \r\nQ 43.3125 49.21875 43.3125 52.78125 \r\nQ 43.3125 58.59375 39.234375 62.25 \r\nQ 35.15625 65.921875 28.609375 65.921875 \r\nQ 23.96875 65.921875 18.8125 64.3125 \r\nQ 13.671875 62.703125 7.8125 59.421875 \r\nL 7.8125 69.390625 \r\nQ 13.765625 71.78125 18.9375 73 \r\nQ 24.125 74.21875 28.421875 74.21875 \r\nQ 39.75 74.21875 46.484375 68.546875 \r\nQ 53.21875 62.890625 53.21875 53.421875 \r\nQ 53.21875 48.921875 51.53125 44.890625 \r\nQ 49.859375 40.875 45.40625 35.40625 \r\nQ 44.1875 33.984375 37.640625 27.21875 \r\nQ 31.109375 20.453125 19.1875 8.296875 \r\nz\r\n\" id=\"DejaVuSans-50\"/>\r\n      </defs>\r\n      <g transform=\"translate(13.5625 180.532946)scale(0.1 -0.1)\">\r\n       <use xlink:href=\"#DejaVuSans-50\"/>\r\n       <use x=\"63.623047\" xlink:href=\"#DejaVuSans-48\"/>\r\n       <use x=\"127.246094\" xlink:href=\"#DejaVuSans-48\"/>\r\n      </g>\r\n     </g>\r\n    </g>\r\n    <g id=\"ytick_3\">\r\n     <g id=\"line2d_6\">\r\n      <g>\r\n       <use style=\"stroke:#000000;stroke-width:0.8;\" x=\"39.65\" xlink:href=\"#m240eefa0b6\" y=\"138.17556\"/>\r\n      </g>\r\n     </g>\r\n     <g id=\"text_6\">\r\n      <!-- 400 -->\r\n      <defs>\r\n       <path d=\"M 37.796875 64.3125 \r\nL 12.890625 25.390625 \r\nL 37.796875 25.390625 \r\nz\r\nM 35.203125 72.90625 \r\nL 47.609375 72.90625 \r\nL 47.609375 25.390625 \r\nL 58.015625 25.390625 \r\nL 58.015625 17.1875 \r\nL 47.609375 17.1875 \r\nL 47.609375 0 \r\nL 37.796875 0 \r\nL 37.796875 17.1875 \r\nL 4.890625 17.1875 \r\nL 4.890625 26.703125 \r\nz\r\n\" id=\"DejaVuSans-52\"/>\r\n      </defs>\r\n      <g transform=\"translate(13.5625 141.974779)scale(0.1 -0.1)\">\r\n       <use xlink:href=\"#DejaVuSans-52\"/>\r\n       <use x=\"63.623047\" xlink:href=\"#DejaVuSans-48\"/>\r\n       <use x=\"127.246094\" xlink:href=\"#DejaVuSans-48\"/>\r\n      </g>\r\n     </g>\r\n    </g>\r\n    <g id=\"ytick_4\">\r\n     <g id=\"line2d_7\">\r\n      <g>\r\n       <use style=\"stroke:#000000;stroke-width:0.8;\" x=\"39.65\" xlink:href=\"#m240eefa0b6\" y=\"99.617393\"/>\r\n      </g>\r\n     </g>\r\n     <g id=\"text_7\">\r\n      <!-- 600 -->\r\n      <defs>\r\n       <path d=\"M 33.015625 40.375 \r\nQ 26.375 40.375 22.484375 35.828125 \r\nQ 18.609375 31.296875 18.609375 23.390625 \r\nQ 18.609375 15.53125 22.484375 10.953125 \r\nQ 26.375 6.390625 33.015625 6.390625 \r\nQ 39.65625 6.390625 43.53125 10.953125 \r\nQ 47.40625 15.53125 47.40625 23.390625 \r\nQ 47.40625 31.296875 43.53125 35.828125 \r\nQ 39.65625 40.375 33.015625 40.375 \r\nz\r\nM 52.59375 71.296875 \r\nL 52.59375 62.3125 \r\nQ 48.875 64.0625 45.09375 64.984375 \r\nQ 41.3125 65.921875 37.59375 65.921875 \r\nQ 27.828125 65.921875 22.671875 59.328125 \r\nQ 17.53125 52.734375 16.796875 39.40625 \r\nQ 19.671875 43.65625 24.015625 45.921875 \r\nQ 28.375 48.1875 33.59375 48.1875 \r\nQ 44.578125 48.1875 50.953125 41.515625 \r\nQ 57.328125 34.859375 57.328125 23.390625 \r\nQ 57.328125 12.15625 50.6875 5.359375 \r\nQ 44.046875 -1.421875 33.015625 -1.421875 \r\nQ 20.359375 -1.421875 13.671875 8.265625 \r\nQ 6.984375 17.96875 6.984375 36.375 \r\nQ 6.984375 53.65625 15.1875 63.9375 \r\nQ 23.390625 74.21875 37.203125 74.21875 \r\nQ 40.921875 74.21875 44.703125 73.484375 \r\nQ 48.484375 72.75 52.59375 71.296875 \r\nz\r\n\" id=\"DejaVuSans-54\"/>\r\n      </defs>\r\n      <g transform=\"translate(13.5625 103.416612)scale(0.1 -0.1)\">\r\n       <use xlink:href=\"#DejaVuSans-54\"/>\r\n       <use x=\"63.623047\" xlink:href=\"#DejaVuSans-48\"/>\r\n       <use x=\"127.246094\" xlink:href=\"#DejaVuSans-48\"/>\r\n      </g>\r\n     </g>\r\n    </g>\r\n    <g id=\"ytick_5\">\r\n     <g id=\"line2d_8\">\r\n      <g>\r\n       <use style=\"stroke:#000000;stroke-width:0.8;\" x=\"39.65\" xlink:href=\"#m240eefa0b6\" y=\"61.059226\"/>\r\n      </g>\r\n     </g>\r\n     <g id=\"text_8\">\r\n      <!-- 800 -->\r\n      <defs>\r\n       <path d=\"M 31.78125 34.625 \r\nQ 24.75 34.625 20.71875 30.859375 \r\nQ 16.703125 27.09375 16.703125 20.515625 \r\nQ 16.703125 13.921875 20.71875 10.15625 \r\nQ 24.75 6.390625 31.78125 6.390625 \r\nQ 38.8125 6.390625 42.859375 10.171875 \r\nQ 46.921875 13.96875 46.921875 20.515625 \r\nQ 46.921875 27.09375 42.890625 30.859375 \r\nQ 38.875 34.625 31.78125 34.625 \r\nz\r\nM 21.921875 38.8125 \r\nQ 15.578125 40.375 12.03125 44.71875 \r\nQ 8.5 49.078125 8.5 55.328125 \r\nQ 8.5 64.0625 14.71875 69.140625 \r\nQ 20.953125 74.21875 31.78125 74.21875 \r\nQ 42.671875 74.21875 48.875 69.140625 \r\nQ 55.078125 64.0625 55.078125 55.328125 \r\nQ 55.078125 49.078125 51.53125 44.71875 \r\nQ 48 40.375 41.703125 38.8125 \r\nQ 48.828125 37.15625 52.796875 32.3125 \r\nQ 56.78125 27.484375 56.78125 20.515625 \r\nQ 56.78125 9.90625 50.3125 4.234375 \r\nQ 43.84375 -1.421875 31.78125 -1.421875 \r\nQ 19.734375 -1.421875 13.25 4.234375 \r\nQ 6.78125 9.90625 6.78125 20.515625 \r\nQ 6.78125 27.484375 10.78125 32.3125 \r\nQ 14.796875 37.15625 21.921875 38.8125 \r\nz\r\nM 18.3125 54.390625 \r\nQ 18.3125 48.734375 21.84375 45.5625 \r\nQ 25.390625 42.390625 31.78125 42.390625 \r\nQ 38.140625 42.390625 41.71875 45.5625 \r\nQ 45.3125 48.734375 45.3125 54.390625 \r\nQ 45.3125 60.0625 41.71875 63.234375 \r\nQ 38.140625 66.40625 31.78125 66.40625 \r\nQ 25.390625 66.40625 21.84375 63.234375 \r\nQ 18.3125 60.0625 18.3125 54.390625 \r\nz\r\n\" id=\"DejaVuSans-56\"/>\r\n      </defs>\r\n      <g transform=\"translate(13.5625 64.858445)scale(0.1 -0.1)\">\r\n       <use xlink:href=\"#DejaVuSans-56\"/>\r\n       <use x=\"63.623047\" xlink:href=\"#DejaVuSans-48\"/>\r\n       <use x=\"127.246094\" xlink:href=\"#DejaVuSans-48\"/>\r\n      </g>\r\n     </g>\r\n    </g>\r\n    <g id=\"ytick_6\">\r\n     <g id=\"line2d_9\">\r\n      <g>\r\n       <use style=\"stroke:#000000;stroke-width:0.8;\" x=\"39.65\" xlink:href=\"#m240eefa0b6\" y=\"22.501059\"/>\r\n      </g>\r\n     </g>\r\n     <g id=\"text_9\">\r\n      <!-- 1000 -->\r\n      <defs>\r\n       <path d=\"M 12.40625 8.296875 \r\nL 28.515625 8.296875 \r\nL 28.515625 63.921875 \r\nL 10.984375 60.40625 \r\nL 10.984375 69.390625 \r\nL 28.421875 72.90625 \r\nL 38.28125 72.90625 \r\nL 38.28125 8.296875 \r\nL 54.390625 8.296875 \r\nL 54.390625 0 \r\nL 12.40625 0 \r\nz\r\n\" id=\"DejaVuSans-49\"/>\r\n      </defs>\r\n      <g transform=\"translate(7.2 26.300278)scale(0.1 -0.1)\">\r\n       <use xlink:href=\"#DejaVuSans-49\"/>\r\n       <use x=\"63.623047\" xlink:href=\"#DejaVuSans-48\"/>\r\n       <use x=\"127.246094\" xlink:href=\"#DejaVuSans-48\"/>\r\n       <use x=\"190.869141\" xlink:href=\"#DejaVuSans-48\"/>\r\n      </g>\r\n     </g>\r\n    </g>\r\n   </g>\r\n   <g id=\"line2d_10\">\r\n    <path clip-path=\"url(#pa273fbf22f)\" d=\"M 95.45 173.845357 \r\nL 95.45 214.186943 \r\n\" style=\"fill:none;stroke:#3d3d3d;stroke-linecap:square;stroke-width:1.5;\"/>\r\n   </g>\r\n   <g id=\"line2d_11\">\r\n    <path clip-path=\"url(#pa273fbf22f)\" d=\"M 95.45 114.034016 \r\nL 95.45 24.943076 \r\n\" style=\"fill:none;stroke:#3d3d3d;stroke-linecap:square;stroke-width:1.5;\"/>\r\n   </g>\r\n   <g id=\"line2d_12\">\r\n    <path clip-path=\"url(#pa273fbf22f)\" d=\"M 73.13 214.186943 \r\nL 117.77 214.186943 \r\n\" style=\"fill:none;stroke:#3d3d3d;stroke-linecap:square;stroke-width:1.5;\"/>\r\n   </g>\r\n   <g id=\"line2d_13\">\r\n    <path clip-path=\"url(#pa273fbf22f)\" d=\"M 73.13 24.943076 \r\nL 117.77 24.943076 \r\n\" style=\"fill:none;stroke:#3d3d3d;stroke-linecap:square;stroke-width:1.5;\"/>\r\n   </g>\r\n   <g id=\"line2d_14\"/>\r\n   <g id=\"line2d_15\">\r\n    <path clip-path=\"url(#pa273fbf22f)\" d=\"M 207.05 168.911137 \r\nL 207.05 213.732803 \r\n\" style=\"fill:none;stroke:#3d3d3d;stroke-linecap:square;stroke-width:1.5;\"/>\r\n   </g>\r\n   <g id=\"line2d_16\">\r\n    <path clip-path=\"url(#pa273fbf22f)\" d=\"M 207.05 78.141182 \r\nL 207.05 17.083636 \r\n\" style=\"fill:none;stroke:#3d3d3d;stroke-linecap:square;stroke-width:1.5;\"/>\r\n   </g>\r\n   <g id=\"line2d_17\">\r\n    <path clip-path=\"url(#pa273fbf22f)\" d=\"M 184.73 213.732803 \r\nL 229.37 213.732803 \r\n\" style=\"fill:none;stroke:#3d3d3d;stroke-linecap:square;stroke-width:1.5;\"/>\r\n   </g>\r\n   <g id=\"line2d_18\">\r\n    <path clip-path=\"url(#pa273fbf22f)\" d=\"M 184.73 17.083636 \r\nL 229.37 17.083636 \r\n\" style=\"fill:none;stroke:#3d3d3d;stroke-linecap:square;stroke-width:1.5;\"/>\r\n   </g>\r\n   <g id=\"line2d_19\"/>\r\n   <g id=\"line2d_20\">\r\n    <path clip-path=\"url(#pa273fbf22f)\" d=\"M 318.65 175.662667 \r\nL 318.65 214.756364 \r\n\" style=\"fill:none;stroke:#3d3d3d;stroke-linecap:square;stroke-width:1.5;\"/>\r\n   </g>\r\n   <g id=\"line2d_21\">\r\n    <path clip-path=\"url(#pa273fbf22f)\" d=\"M 318.65 121.574127 \r\nL 318.65 42.315672 \r\n\" style=\"fill:none;stroke:#3d3d3d;stroke-linecap:square;stroke-width:1.5;\"/>\r\n   </g>\r\n   <g id=\"line2d_22\">\r\n    <path clip-path=\"url(#pa273fbf22f)\" d=\"M 296.33 214.756364 \r\nL 340.97 214.756364 \r\n\" style=\"fill:none;stroke:#3d3d3d;stroke-linecap:square;stroke-width:1.5;\"/>\r\n   </g>\r\n   <g id=\"line2d_23\">\r\n    <path clip-path=\"url(#pa273fbf22f)\" d=\"M 296.33 42.315672 \r\nL 340.97 42.315672 \r\n\" style=\"fill:none;stroke:#3d3d3d;stroke-linecap:square;stroke-width:1.5;\"/>\r\n   </g>\r\n   <g id=\"line2d_24\">\r\n    <defs>\r\n     <path d=\"M 0 3.535534 \r\nL 2.12132 0 \r\nL 0 -3.535534 \r\nL -2.12132 0 \r\nz\r\n\" id=\"m696cc6b707\" style=\"stroke:#3d3d3d;stroke-linejoin:miter;\"/>\r\n    </defs>\r\n    <g clip-path=\"url(#pa273fbf22f)\">\r\n     <use style=\"fill:#3d3d3d;stroke:#3d3d3d;stroke-linejoin:miter;\" x=\"318.65\" xlink:href=\"#m696cc6b707\" y=\"39.102492\"/>\r\n    </g>\r\n   </g>\r\n   <g id=\"line2d_25\">\r\n    <path clip-path=\"url(#pa273fbf22f)\" d=\"M 50.81 143.032512 \r\nL 140.09 143.032512 \r\n\" style=\"fill:none;stroke:#3d3d3d;stroke-linecap:square;stroke-width:1.5;\"/>\r\n   </g>\r\n   <g id=\"line2d_26\">\r\n    <path clip-path=\"url(#pa273fbf22f)\" d=\"M 162.41 125.631762 \r\nL 251.69 125.631762 \r\n\" style=\"fill:none;stroke:#3d3d3d;stroke-linecap:square;stroke-width:1.5;\"/>\r\n   </g>\r\n   <g id=\"line2d_27\">\r\n    <path clip-path=\"url(#pa273fbf22f)\" d=\"M 274.01 144.066391 \r\nL 363.29 144.066391 \r\n\" style=\"fill:none;stroke:#3d3d3d;stroke-linecap:square;stroke-width:1.5;\"/>\r\n   </g>\r\n   <g id=\"patch_6\">\r\n    <path d=\"M 39.65 224.64 \r\nL 39.65 7.2 \r\n\" style=\"fill:none;stroke:#000000;stroke-linecap:square;stroke-linejoin:miter;stroke-width:0.8;\"/>\r\n   </g>\r\n   <g id=\"patch_7\">\r\n    <path d=\"M 374.45 224.64 \r\nL 374.45 7.2 \r\n\" style=\"fill:none;stroke:#000000;stroke-linecap:square;stroke-linejoin:miter;stroke-width:0.8;\"/>\r\n   </g>\r\n   <g id=\"patch_8\">\r\n    <path d=\"M 39.65 224.64 \r\nL 374.45 224.64 \r\n\" style=\"fill:none;stroke:#000000;stroke-linecap:square;stroke-linejoin:miter;stroke-width:0.8;\"/>\r\n   </g>\r\n   <g id=\"patch_9\">\r\n    <path d=\"M 39.65 7.2 \r\nL 374.45 7.2 \r\n\" style=\"fill:none;stroke:#000000;stroke-linecap:square;stroke-linejoin:miter;stroke-width:0.8;\"/>\r\n   </g>\r\n  </g>\r\n </g>\r\n <defs>\r\n  <clipPath id=\"pa273fbf22f\">\r\n   <rect height=\"217.44\" width=\"334.8\" x=\"39.65\" y=\"7.2\"/>\r\n  </clipPath>\r\n </defs>\r\n</svg>\r\n",
      "image/png": "[encoded data removed]"
     },
     "metadata": {
      "needs_background": "light"
     }
    }
   ],
   "source": [
    "sns.boxplot(data = thinkmore[[\"env_slopesolar\", \"env_levelsolar\", \"match_solar\"]])"
   ]
  }
 ]
}